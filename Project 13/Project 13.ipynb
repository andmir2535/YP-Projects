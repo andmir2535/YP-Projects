{
 "cells": [
  {
   "cell_type": "markdown",
   "metadata": {
    "toc": true
   },
   "source": [
    "<h1>Содержание<span class=\"tocSkip\"></span></h1>\n",
    "<div class=\"toc\"><ul class=\"toc-item\"><li><span><a href=\"#Подготовка\" data-toc-modified-id=\"Подготовка-1\"><span class=\"toc-item-num\">1&nbsp;&nbsp;</span>Подготовка</a></span></li><li><span><a href=\"#Обучение\" data-toc-modified-id=\"Обучение-2\"><span class=\"toc-item-num\">2&nbsp;&nbsp;</span>Обучение</a></span></li><li><span><a href=\"#Выводы\" data-toc-modified-id=\"Выводы-3\"><span class=\"toc-item-num\">3&nbsp;&nbsp;</span>Выводы</a></span></li><li><span><a href=\"#Чек-лист-проверки\" data-toc-modified-id=\"Чек-лист-проверки-4\"><span class=\"toc-item-num\">4&nbsp;&nbsp;</span>Чек-лист проверки</a></span></li></ul></div>"
   ]
  },
  {
   "cell_type": "markdown",
   "metadata": {},
   "source": [
    "# Проект для «Викишоп»"
   ]
  },
  {
   "cell_type": "markdown",
   "metadata": {},
   "source": [
    "В данном проекте поможем магазину \"Викишоп\". Ему нужен инструмент, который будет искать токсичные комментарии и отправлять их на модерацию. \n",
    "\n",
    "Обучим модель классифицировать комментарии на позитивные и негативные. В вашем распоряжении набор данных с разметкой о токсичности правок.\n",
    "\n",
    "Построим модель со значением метрики качества *F1* не меньше 0.75. \n",
    "\n",
    "**Алгоритм действий по выполнению проекта**\n",
    "\n",
    "1. Загрузим и подготовьте и изучим данные.\n",
    "2. Обучим разные модели, найдем лучшую и проверим на ней тестовую выборку. \n",
    "3. Сделаем выводы.\n",
    "\n",
    "В этот раз проект выполним без системы BERT.\n",
    "\n",
    "**Описание данных**\n",
    "\n",
    "Данные находятся в файле `toxic_comments.csv`. Столбец *text* в нём содержит текст комментария, а *toxic* — целевой признак."
   ]
  },
  {
   "cell_type": "markdown",
   "metadata": {},
   "source": [
    "## Подготовка"
   ]
  },
  {
   "cell_type": "code",
   "execution_count": 1,
   "metadata": {},
   "outputs": [
    {
     "name": "stdout",
     "output_type": "stream",
     "text": [
      "Requirement already satisfied: imbalanced-learn in /opt/conda/lib/python3.9/site-packages (0.10.1)\n",
      "Requirement already satisfied: threadpoolctl>=2.0.0 in /opt/conda/lib/python3.9/site-packages (from imbalanced-learn) (3.1.0)\n",
      "Requirement already satisfied: numpy>=1.17.3 in /opt/conda/lib/python3.9/site-packages (from imbalanced-learn) (1.21.1)\n",
      "Requirement already satisfied: scipy>=1.3.2 in /opt/conda/lib/python3.9/site-packages (from imbalanced-learn) (1.9.1)\n",
      "Requirement already satisfied: scikit-learn>=1.0.2 in /opt/conda/lib/python3.9/site-packages (from imbalanced-learn) (1.2.2)\n",
      "Requirement already satisfied: joblib>=1.1.1 in /opt/conda/lib/python3.9/site-packages (from imbalanced-learn) (1.2.0)\n",
      "Note: you may need to restart the kernel to use updated packages.\n"
     ]
    }
   ],
   "source": [
    "pip install imbalanced-learn"
   ]
  },
  {
   "cell_type": "code",
   "execution_count": 2,
   "metadata": {},
   "outputs": [],
   "source": [
    "import numpy as np \n",
    "import pandas as pd\n",
    "import spacy\n",
    "import re\n",
    "import tqdm\n",
    "import nltk\n",
    "import matplotlib.pyplot as plt\n",
    "import time\n",
    "import warnings\n",
    "\n",
    "\n",
    "from sklearn.model_selection import train_test_split, GridSearchCV, KFold, StratifiedKFold, cross_val_score\n",
    "from joblib import dump, load\n",
    "from tqdm.notebook import tqdm\n",
    "from sklearn.utils import shuffle\n",
    "from sklearn.feature_extraction.text import TfidfVectorizer\n",
    "from sklearn.linear_model import LogisticRegression, SGDClassifier\n",
    "from nltk.corpus import stopwords\n",
    "from nltk.tokenize import word_tokenize\n",
    "from nltk.stem import WordNetLemmatizer\n",
    "from sklearn.feature_extraction.text import CountVectorizer\n",
    "#from sklearn.pipeline import Pipeline, make_pipeline\n",
    "from sklearn.svm import LinearSVC\n",
    "from sklearn.tree import DecisionTreeClassifier\n",
    "from sklearn.linear_model import LogisticRegression\n",
    "from sklearn.metrics import accuracy_score, f1_score, precision_score, recall_score\n",
    "from sklearn.ensemble import GradientBoostingClassifier\n",
    "\n",
    "from imblearn.pipeline import Pipeline, make_pipeline\n",
    "from imblearn.over_sampling import SMOTE"
   ]
  },
  {
   "cell_type": "code",
   "execution_count": 3,
   "metadata": {
    "scrolled": false
   },
   "outputs": [
    {
     "data": {
      "text/html": [
       "<div>\n",
       "<style scoped>\n",
       "    .dataframe tbody tr th:only-of-type {\n",
       "        vertical-align: middle;\n",
       "    }\n",
       "\n",
       "    .dataframe tbody tr th {\n",
       "        vertical-align: top;\n",
       "    }\n",
       "\n",
       "    .dataframe thead th {\n",
       "        text-align: right;\n",
       "    }\n",
       "</style>\n",
       "<table border=\"1\" class=\"dataframe\">\n",
       "  <thead>\n",
       "    <tr style=\"text-align: right;\">\n",
       "      <th></th>\n",
       "      <th>Unnamed: 0</th>\n",
       "      <th>text</th>\n",
       "      <th>toxic</th>\n",
       "    </tr>\n",
       "  </thead>\n",
       "  <tbody>\n",
       "    <tr>\n",
       "      <th>0</th>\n",
       "      <td>0</td>\n",
       "      <td>Explanation\\nWhy the edits made under my usern...</td>\n",
       "      <td>0</td>\n",
       "    </tr>\n",
       "    <tr>\n",
       "      <th>1</th>\n",
       "      <td>1</td>\n",
       "      <td>D'aww! He matches this background colour I'm s...</td>\n",
       "      <td>0</td>\n",
       "    </tr>\n",
       "    <tr>\n",
       "      <th>2</th>\n",
       "      <td>2</td>\n",
       "      <td>Hey man, I'm really not trying to edit war. It...</td>\n",
       "      <td>0</td>\n",
       "    </tr>\n",
       "    <tr>\n",
       "      <th>3</th>\n",
       "      <td>3</td>\n",
       "      <td>\"\\nMore\\nI can't make any real suggestions on ...</td>\n",
       "      <td>0</td>\n",
       "    </tr>\n",
       "    <tr>\n",
       "      <th>4</th>\n",
       "      <td>4</td>\n",
       "      <td>You, sir, are my hero. Any chance you remember...</td>\n",
       "      <td>0</td>\n",
       "    </tr>\n",
       "  </tbody>\n",
       "</table>\n",
       "</div>"
      ],
      "text/plain": [
       "   Unnamed: 0                                               text  toxic\n",
       "0           0  Explanation\\nWhy the edits made under my usern...      0\n",
       "1           1  D'aww! He matches this background colour I'm s...      0\n",
       "2           2  Hey man, I'm really not trying to edit war. It...      0\n",
       "3           3  \"\\nMore\\nI can't make any real suggestions on ...      0\n",
       "4           4  You, sir, are my hero. Any chance you remember...      0"
      ]
     },
     "metadata": {},
     "output_type": "display_data"
    }
   ],
   "source": [
    "data = pd.read_csv('/datasets/toxic_comments.csv')\n",
    "display(data.head())"
   ]
  },
  {
   "cell_type": "markdown",
   "metadata": {},
   "source": [
    "Данные успешно загрузились, у нас 4 столбца: 2 с индексом, 1 столбец с текстом, и 1 столбец с показателем токсичный комментарий или нет.  \n",
    "Напишем функцию, чтобы узнать о базе данных больше."
   ]
  },
  {
   "cell_type": "code",
   "execution_count": 4,
   "metadata": {
    "scrolled": true
   },
   "outputs": [
    {
     "name": "stdout",
     "output_type": "stream",
     "text": [
      "Дубликатов не найдено\n",
      "\n",
      "Информация о типах данных и пропущенных значениях:\n",
      "<class 'pandas.core.frame.DataFrame'>\n",
      "RangeIndex: 159292 entries, 0 to 159291\n",
      "Data columns (total 3 columns):\n",
      " #   Column      Non-Null Count   Dtype \n",
      "---  ------      --------------   ----- \n",
      " 0   Unnamed: 0  159292 non-null  int64 \n",
      " 1   text        159292 non-null  object\n",
      " 2   toxic       159292 non-null  int64 \n",
      "dtypes: int64(2), object(1)\n",
      "memory usage: 3.6+ MB\n",
      "None\n",
      "\n",
      "Статистические характеристики:\n",
      "          Unnamed: 0          toxic\n",
      "count  159292.000000  159292.000000\n",
      "mean    79725.697242       0.101612\n",
      "std     46028.837471       0.302139\n",
      "min         0.000000       0.000000\n",
      "25%     39872.750000       0.000000\n",
      "50%     79721.500000       0.000000\n",
      "75%    119573.250000       0.000000\n",
      "max    159450.000000       1.000000\n",
      "\n",
      "Количество уникальных значений в столбце 'Toxic'\n",
      "0    143106\n",
      "1     16186\n",
      "Name: toxic, dtype: int64\n"
     ]
    }
   ],
   "source": [
    "def data_analysis(data):\n",
    "    # проверка на наличие дубликатов\n",
    "    if data.duplicated().sum() > 0:\n",
    "        print(\"Количество дубликатов:\", data.duplicated().sum())\n",
    "    else:\n",
    "        print(\"Дубликатов не найдено\")\n",
    "    \n",
    "    # информация о типах данных и пропущенных значениях\n",
    "    print(\"\\nИнформация о типах данных и пропущенных значениях:\")\n",
    "    print(data.info())\n",
    "    \n",
    "    # статистические характеристики\n",
    "    print(\"\\nСтатистические характеристики:\")\n",
    "    print(data.describe())\n",
    "    \n",
    "    #Подсчёт уникальных значений в столбце\n",
    "    print(\"\\nКоличество уникальных значений в столбце 'Toxic'\")\n",
    "    print(data['toxic'].value_counts())\n",
    "    \n",
    "data_analysis(data)"
   ]
  },
  {
   "cell_type": "markdown",
   "metadata": {},
   "source": [
    "В нашем распоряжении 159292 комментариев, без дубликатов, комментарии записаны в формате object, а показатель токсичности в int64. Заметно, что токсичных комментариев, гораздо меньше, чем нетоксичных.\n",
    "\n",
    "Посмотрим на эти значения на диаграмме."
   ]
  },
  {
   "cell_type": "code",
   "execution_count": 5,
   "metadata": {
    "scrolled": true
   },
   "outputs": [
    {
     "data": {
      "image/png": "[encoded data removed]",
      "text/plain": [
       "<Figure size 432x288 with 1 Axes>"
      ]
     },
     "metadata": {},
     "output_type": "display_data"
    }
   ],
   "source": [
    "# построение круговой диаграммы\n",
    "data['toxic'].value_counts().plot.pie(autopct='%1.1f%%')\n",
    "plt.title('Распределение классов toxic')\n",
    "plt.legend(['0 - не токсичный', '1 - токсичный'])\n",
    "plt.show()"
   ]
  },
  {
   "cell_type": "markdown",
   "metadata": {},
   "source": [
    "Токсичных комментариев лишь 10.2% от общего количества в датасете. Учтём этот момент во время обучения моделей.\n",
    "А пока подчистим текст от ненужных символов."
   ]
  },
  {
   "cell_type": "code",
   "execution_count": 6,
   "metadata": {},
   "outputs": [],
   "source": [
    "def clean_text(text):\n",
    "   \n",
    "    # удаление всех символов, кроме букв и пробелов\n",
    "    text = re.sub(r'[^a-zA-Z\\s]', '', text)\n",
    "    \n",
    "    # удаление лишних пробелов\n",
    "    text = re.sub(r'\\s+', ' ', text)\n",
    "    \n",
    "    # приведение к нижнему регистру\n",
    "    text = text.lower()\n",
    "    \n",
    "    return text"
   ]
  },
  {
   "cell_type": "code",
   "execution_count": 7,
   "metadata": {},
   "outputs": [],
   "source": [
    "data['text'] = data['text'].apply(clean_text)"
   ]
  },
  {
   "cell_type": "code",
   "execution_count": 8,
   "metadata": {
    "scrolled": true
   },
   "outputs": [
    {
     "data": {
      "text/html": [
       "<div>\n",
       "<style scoped>\n",
       "    .dataframe tbody tr th:only-of-type {\n",
       "        vertical-align: middle;\n",
       "    }\n",
       "\n",
       "    .dataframe tbody tr th {\n",
       "        vertical-align: top;\n",
       "    }\n",
       "\n",
       "    .dataframe thead th {\n",
       "        text-align: right;\n",
       "    }\n",
       "</style>\n",
       "<table border=\"1\" class=\"dataframe\">\n",
       "  <thead>\n",
       "    <tr style=\"text-align: right;\">\n",
       "      <th></th>\n",
       "      <th>Unnamed: 0</th>\n",
       "      <th>text</th>\n",
       "      <th>toxic</th>\n",
       "    </tr>\n",
       "  </thead>\n",
       "  <tbody>\n",
       "    <tr>\n",
       "      <th>0</th>\n",
       "      <td>0</td>\n",
       "      <td>explanation why the edits made under my userna...</td>\n",
       "      <td>0</td>\n",
       "    </tr>\n",
       "    <tr>\n",
       "      <th>1</th>\n",
       "      <td>1</td>\n",
       "      <td>daww he matches this background colour im seem...</td>\n",
       "      <td>0</td>\n",
       "    </tr>\n",
       "    <tr>\n",
       "      <th>2</th>\n",
       "      <td>2</td>\n",
       "      <td>hey man im really not trying to edit war its j...</td>\n",
       "      <td>0</td>\n",
       "    </tr>\n",
       "    <tr>\n",
       "      <th>3</th>\n",
       "      <td>3</td>\n",
       "      <td>more i cant make any real suggestions on impr...</td>\n",
       "      <td>0</td>\n",
       "    </tr>\n",
       "    <tr>\n",
       "      <th>4</th>\n",
       "      <td>4</td>\n",
       "      <td>you sir are my hero any chance you remember wh...</td>\n",
       "      <td>0</td>\n",
       "    </tr>\n",
       "    <tr>\n",
       "      <th>5</th>\n",
       "      <td>5</td>\n",
       "      <td>congratulations from me as well use the tools...</td>\n",
       "      <td>0</td>\n",
       "    </tr>\n",
       "    <tr>\n",
       "      <th>6</th>\n",
       "      <td>6</td>\n",
       "      <td>cocksucker before you piss around on my work</td>\n",
       "      <td>1</td>\n",
       "    </tr>\n",
       "    <tr>\n",
       "      <th>7</th>\n",
       "      <td>7</td>\n",
       "      <td>your vandalism to the matt shirvington article...</td>\n",
       "      <td>0</td>\n",
       "    </tr>\n",
       "    <tr>\n",
       "      <th>8</th>\n",
       "      <td>8</td>\n",
       "      <td>sorry if the word nonsense was offensive to yo...</td>\n",
       "      <td>0</td>\n",
       "    </tr>\n",
       "    <tr>\n",
       "      <th>9</th>\n",
       "      <td>9</td>\n",
       "      <td>alignment on this subject and which are contra...</td>\n",
       "      <td>0</td>\n",
       "    </tr>\n",
       "  </tbody>\n",
       "</table>\n",
       "</div>"
      ],
      "text/plain": [
       "   Unnamed: 0                                               text  toxic\n",
       "0           0  explanation why the edits made under my userna...      0\n",
       "1           1  daww he matches this background colour im seem...      0\n",
       "2           2  hey man im really not trying to edit war its j...      0\n",
       "3           3   more i cant make any real suggestions on impr...      0\n",
       "4           4  you sir are my hero any chance you remember wh...      0\n",
       "5           5   congratulations from me as well use the tools...      0\n",
       "6           6       cocksucker before you piss around on my work      1\n",
       "7           7  your vandalism to the matt shirvington article...      0\n",
       "8           8  sorry if the word nonsense was offensive to yo...      0\n",
       "9           9  alignment on this subject and which are contra...      0"
      ]
     },
     "execution_count": 8,
     "metadata": {},
     "output_type": "execute_result"
    }
   ],
   "source": [
    "data.head(10)"
   ]
  },
  {
   "cell_type": "markdown",
   "metadata": {},
   "source": [
    "Подчистили текст, удалили слэши и символы новой строки, привели комментарии к нижнему регистру, и, увидели один токсичный комментарий. :D"
   ]
  },
  {
   "cell_type": "markdown",
   "metadata": {},
   "source": [
    "Приступим к лемматизации текста. Так как это процесс требующий время, лемматизированый текст будет сохранен и загружен в следующих ячейках."
   ]
  },
  {
   "cell_type": "code",
   "execution_count": 9,
   "metadata": {},
   "outputs": [],
   "source": [
    "nlp = spacy.load(\"en_core_web_sm\")\n",
    "\n",
    "def lemmatize(text):\n",
    "    doc = nlp(text)\n",
    "    lemmatized_text = \" \".join([token.lemma_ for token in doc])\n",
    "    return lemmatized_text"
   ]
  },
  {
   "cell_type": "raw",
   "metadata": {
    "scrolled": true
   },
   "source": [
    "tqdm.pandas()\n",
    "data['text'] = data['text'].progress_apply(lemmatize)"
   ]
  },
  {
   "cell_type": "code",
   "execution_count": 10,
   "metadata": {},
   "outputs": [
    {
     "data": {
      "text/plain": [
       "['toxic_lemmatized.csv']"
      ]
     },
     "execution_count": 10,
     "metadata": {},
     "output_type": "execute_result"
    }
   ],
   "source": [
    "dump(data, 'toxic_lemmatized.csv')"
   ]
  },
  {
   "cell_type": "code",
   "execution_count": 11,
   "metadata": {},
   "outputs": [],
   "source": [
    "data = load('toxic_lemmatized.csv')"
   ]
  },
  {
   "cell_type": "code",
   "execution_count": 12,
   "metadata": {
    "scrolled": true
   },
   "outputs": [
    {
     "data": {
      "text/html": [
       "<div>\n",
       "<style scoped>\n",
       "    .dataframe tbody tr th:only-of-type {\n",
       "        vertical-align: middle;\n",
       "    }\n",
       "\n",
       "    .dataframe tbody tr th {\n",
       "        vertical-align: top;\n",
       "    }\n",
       "\n",
       "    .dataframe thead th {\n",
       "        text-align: right;\n",
       "    }\n",
       "</style>\n",
       "<table border=\"1\" class=\"dataframe\">\n",
       "  <thead>\n",
       "    <tr style=\"text-align: right;\">\n",
       "      <th></th>\n",
       "      <th>Unnamed: 0</th>\n",
       "      <th>text</th>\n",
       "      <th>toxic</th>\n",
       "    </tr>\n",
       "  </thead>\n",
       "  <tbody>\n",
       "    <tr>\n",
       "      <th>0</th>\n",
       "      <td>0</td>\n",
       "      <td>explanation why the edits made under my userna...</td>\n",
       "      <td>0</td>\n",
       "    </tr>\n",
       "    <tr>\n",
       "      <th>1</th>\n",
       "      <td>1</td>\n",
       "      <td>daww he matches this background colour im seem...</td>\n",
       "      <td>0</td>\n",
       "    </tr>\n",
       "    <tr>\n",
       "      <th>2</th>\n",
       "      <td>2</td>\n",
       "      <td>hey man im really not trying to edit war its j...</td>\n",
       "      <td>0</td>\n",
       "    </tr>\n",
       "    <tr>\n",
       "      <th>3</th>\n",
       "      <td>3</td>\n",
       "      <td>more i cant make any real suggestions on impr...</td>\n",
       "      <td>0</td>\n",
       "    </tr>\n",
       "    <tr>\n",
       "      <th>4</th>\n",
       "      <td>4</td>\n",
       "      <td>you sir are my hero any chance you remember wh...</td>\n",
       "      <td>0</td>\n",
       "    </tr>\n",
       "    <tr>\n",
       "      <th>5</th>\n",
       "      <td>5</td>\n",
       "      <td>congratulations from me as well use the tools...</td>\n",
       "      <td>0</td>\n",
       "    </tr>\n",
       "    <tr>\n",
       "      <th>6</th>\n",
       "      <td>6</td>\n",
       "      <td>cocksucker before you piss around on my work</td>\n",
       "      <td>1</td>\n",
       "    </tr>\n",
       "    <tr>\n",
       "      <th>7</th>\n",
       "      <td>7</td>\n",
       "      <td>your vandalism to the matt shirvington article...</td>\n",
       "      <td>0</td>\n",
       "    </tr>\n",
       "    <tr>\n",
       "      <th>8</th>\n",
       "      <td>8</td>\n",
       "      <td>sorry if the word nonsense was offensive to yo...</td>\n",
       "      <td>0</td>\n",
       "    </tr>\n",
       "    <tr>\n",
       "      <th>9</th>\n",
       "      <td>9</td>\n",
       "      <td>alignment on this subject and which are contra...</td>\n",
       "      <td>0</td>\n",
       "    </tr>\n",
       "  </tbody>\n",
       "</table>\n",
       "</div>"
      ],
      "text/plain": [
       "   Unnamed: 0                                               text  toxic\n",
       "0           0  explanation why the edits made under my userna...      0\n",
       "1           1  daww he matches this background colour im seem...      0\n",
       "2           2  hey man im really not trying to edit war its j...      0\n",
       "3           3   more i cant make any real suggestions on impr...      0\n",
       "4           4  you sir are my hero any chance you remember wh...      0\n",
       "5           5   congratulations from me as well use the tools...      0\n",
       "6           6       cocksucker before you piss around on my work      1\n",
       "7           7  your vandalism to the matt shirvington article...      0\n",
       "8           8  sorry if the word nonsense was offensive to yo...      0\n",
       "9           9  alignment on this subject and which are contra...      0"
      ]
     },
     "execution_count": 12,
     "metadata": {},
     "output_type": "execute_result"
    }
   ],
   "source": [
    "data.head(10)"
   ]
  },
  {
   "cell_type": "code",
   "execution_count": 13,
   "metadata": {},
   "outputs": [
    {
     "name": "stdout",
     "output_type": "stream",
     "text": [
      "<class 'pandas.core.frame.DataFrame'>\n",
      "RangeIndex: 159292 entries, 0 to 159291\n",
      "Data columns (total 3 columns):\n",
      " #   Column      Non-Null Count   Dtype \n",
      "---  ------      --------------   ----- \n",
      " 0   Unnamed: 0  159292 non-null  int64 \n",
      " 1   text        159292 non-null  object\n",
      " 2   toxic       159292 non-null  int64 \n",
      "dtypes: int64(2), object(1)\n",
      "memory usage: 3.6+ MB\n"
     ]
    }
   ],
   "source": [
    "data.info()"
   ]
  },
  {
   "cell_type": "markdown",
   "metadata": {},
   "source": [
    "Текст прошел лемматизацию и успешно загрузился."
   ]
  },
  {
   "cell_type": "markdown",
   "metadata": {},
   "source": [
    "## Обучение"
   ]
  },
  {
   "cell_type": "markdown",
   "metadata": {},
   "source": [
    "Разделим данные на обучающую и тестовую выборки в соотношении 80:20."
   ]
  },
  {
   "cell_type": "code",
   "execution_count": 14,
   "metadata": {},
   "outputs": [],
   "source": [
    "corpus = data['text'].values\n",
    "\n",
    "features = corpus\n",
    "target = data['toxic'].values\n",
    "\n",
    "train_features, test_features, train_target, test_target = train_test_split(features, target, test_size=0.2, random_state=12345)"
   ]
  },
  {
   "cell_type": "code",
   "execution_count": 15,
   "metadata": {
    "scrolled": true
   },
   "outputs": [
    {
     "data": {
      "image/png": "[encoded data removed]",
      "text/plain": [
       "<Figure size 576x288 with 1 Axes>"
      ]
     },
     "metadata": {
      "needs_background": "light"
     },
     "output_type": "display_data"
    }
   ],
   "source": [
    "train_target_series = pd.Series(train_target)\n",
    "train_target_series.value_counts().plot(\n",
    "    kind='bar',\n",
    "    stacked=True,\n",
    "    grid=True,\n",
    "    color='orange',\n",
    "    width=0.9,\n",
    "    figsize=(8,4)\n",
    ")\n",
    "plt.xlabel('Класс комментария')\n",
    "plt.ylabel('Количество')\n",
    "plt.title('Распределения классов комментариев на обучающей выборке')\n",
    "plt.show()\n"
   ]
  },
  {
   "cell_type": "markdown",
   "metadata": {},
   "source": [
    "Токсичных комментариев очень мало для обучения модели, необходимо обучить модель качественно, поэтому увеличим их количество, воспользуемся апсемплингом."
   ]
  },
  {
   "cell_type": "code",
   "execution_count": 16,
   "metadata": {},
   "outputs": [],
   "source": [
    "def upsample(features, target, repeat):\n",
    "    features_zeros = pd.Series(features[target == 0])\n",
    "    features_ones = pd.Series(features[target == 1])\n",
    "    target_zeros = pd.Series(target[target == 0])\n",
    "    target_ones = pd.Series(target[target == 1])\n",
    "    \n",
    "    features_upsampled = pd.concat([features_zeros] + [features_ones] * repeat)\n",
    "    target_upsampled = pd.concat([target_zeros] + [target_ones] * repeat)\n",
    "    \n",
    "    return shuffle(features_upsampled, target_upsampled, random_state=2023)\n"
   ]
  },
  {
   "cell_type": "markdown",
   "metadata": {},
   "source": [
    "Увеличим количество токсичных комментариев в несколько раз."
   ]
  },
  {
   "cell_type": "code",
   "execution_count": 17,
   "metadata": {},
   "outputs": [],
   "source": [
    "train_features_upsampled, train_target_upsampled = upsample(train_features, train_target, 8)"
   ]
  },
  {
   "cell_type": "code",
   "execution_count": 18,
   "metadata": {
    "scrolled": false
   },
   "outputs": [
    {
     "data": {
      "text/plain": [
       "<AxesSubplot:>"
      ]
     },
     "execution_count": 18,
     "metadata": {},
     "output_type": "execute_result"
    },
    {
     "data": {
      "image/png": "[encoded data removed]",
      "text/plain": [
       "<Figure size 504x360 with 1 Axes>"
      ]
     },
     "metadata": {
      "needs_background": "light"
     },
     "output_type": "display_data"
    }
   ],
   "source": [
    "train_target_upsampled.value_counts().plot(\n",
    "    kind='bar',\n",
    "    stacked=True,\n",
    "    grid=True,\n",
    "    color='green',\n",
    "    width=0.9,\n",
    "    figsize=(7,5)\n",
    "    )"
   ]
  },
  {
   "cell_type": "markdown",
   "metadata": {},
   "source": [
    "После увеличения негативных комментариев примерно в восемь раз, графики выглядят почти одинаково.\n",
    "\n",
    "Обучим несколько моделей на тренинговой выборке, проанализируем их, выберем лучшую и проверим на тестовой выборке.\n",
    "Модели для анализа в данном проекте:\n",
    "* LogisticRegression\n",
    "* LinearSVC\n",
    "* SGDClassifier\n",
    "* DecisionTreeClassifier"
   ]
  },
  {
   "cell_type": "code",
   "execution_count": 19,
   "metadata": {},
   "outputs": [],
   "source": [
    "# Запись оценок моделей\n",
    "test_score = {}"
   ]
  },
  {
   "cell_type": "markdown",
   "metadata": {},
   "source": [
    "В данной ячейки подбёрём лучшие параметры с помощью GridSearch."
   ]
  },
  {
   "cell_type": "raw",
   "metadata": {
    "scrolled": true
   },
   "source": [
    "# Создание пайплайна\n",
    "imba_pipeline = make_pipeline(\n",
    "    TfidfVectorizer(stop_words='english', ngram_range=(1,2), max_features=20000),\n",
    "    SMOTE(random_state=42),\n",
    "    LogisticRegression(random_state=13)\n",
    ")\n",
    "\n",
    "kf = StratifiedKFold(n_splits=5, shuffle=True, random_state=42)\n",
    "\n",
    "# Параметры\n",
    "param_grid = {\n",
    "    'tfidfvectorizer__max_features': [20000],\n",
    "    'logisticregression__C': [0.1, 1, 10],\n",
    "    'logisticregression__penalty': ['l1', 'l2']\n",
    "}\n",
    "\n",
    "# GridSearchCV\n",
    "grid_search = GridSearchCV(\n",
    "    imba_pipeline, # пайплайн\n",
    "    param_grid=param_grid, # словарь параметров для настройки\n",
    "    scoring='f1', # метрика для оценки качества\n",
    "    cv=kf, # определение стратегии кросс-валидации\n",
    "    n_jobs=-1 # количество параллельных процессов (-1 для использования всех доступных процессоров)\n",
    ")\n",
    "\n",
    "\n",
    "grid_search.fit(train_features, train_target)\n",
    "\n",
    "\n",
    "print('Лучшие параметры:', grid_search.best_params_)\n",
    "print('Лучшее значение метрики:', grid_search.best_score_)\n"
   ]
  },
  {
   "cell_type": "code",
   "execution_count": 20,
   "metadata": {},
   "outputs": [
    {
     "name": "stdout",
     "output_type": "stream",
     "text": [
      "Значение метрики F1 на кросс-валидации: 0.7259766186336016\n",
      "Время обучения: 382.3910768032074 сек.\n"
     ]
    }
   ],
   "source": [
    "lr_imba_pipeline = make_pipeline(\n",
    "    TfidfVectorizer(stop_words='english', ngram_range=(1,2), max_features=20000),\n",
    "#    SMOTE(random_state=42),\n",
    "    LogisticRegression(random_state=13, C=10, penalty='l2', class_weight='balanced', max_iter=500)\n",
    ")\n",
    "\n",
    "# Определение параметров StratifiedKFold\n",
    "kf = StratifiedKFold(n_splits=5, shuffle=True, random_state=42)\n",
    "\n",
    "# Вычисление значения метрики F1 на кросс-валидации\n",
    "start_time = time.time()\n",
    "lr_cv_scores = cross_val_score(lr_imba_pipeline, train_features, train_target, cv=kf, scoring='f1')\n",
    "end_time = time.time()\n",
    "\n",
    "time_lr = end_time - start_time\n",
    "\n",
    "print('Значение метрики F1 на кросс-валидации:', lr_cv_scores.mean())\n",
    "print(\"Время обучения:\", time_lr, 'сек.')"
   ]
  },
  {
   "cell_type": "code",
   "execution_count": 21,
   "metadata": {},
   "outputs": [],
   "source": [
    "test_score['LogisticRegression'] = [lr_cv_scores.mean(), time_lr]"
   ]
  },
  {
   "cell_type": "code",
   "execution_count": 22,
   "metadata": {},
   "outputs": [
    {
     "name": "stdout",
     "output_type": "stream",
     "text": [
      "Train F1-score: 0.7210930828351836\n",
      "Время обучения: 174.26750254631042 сек.\n"
     ]
    }
   ],
   "source": [
    "svm_pipeline = make_pipeline(\n",
    "    TfidfVectorizer(stop_words='english', ngram_range=(1,2), max_features=20000),\n",
    "    LinearSVC(random_state=42, dual=False, max_iter=5000, class_weight='balanced')\n",
    ")\n",
    "\n",
    "kf = StratifiedKFold(n_splits=5, shuffle=True, random_state=42)\n",
    "\n",
    "start_time = time.time()\n",
    "svm_cv_scores = cross_val_score(svm_pipeline, train_features, train_target, cv=kf, scoring='f1')\n",
    "end_time = time.time()\n",
    "\n",
    "time_svm = end_time - start_time\n",
    "\n",
    "print(\"Train F1-score:\", svm_cv_scores.max())\n",
    "print(\"Время обучения:\", time_svm, \"сек.\")"
   ]
  },
  {
   "cell_type": "code",
   "execution_count": 23,
   "metadata": {},
   "outputs": [],
   "source": [
    "test_score['LinearSVC'] = [svm_cv_scores, time_svm]"
   ]
  },
  {
   "cell_type": "code",
   "execution_count": 24,
   "metadata": {},
   "outputs": [
    {
     "name": "stdout",
     "output_type": "stream",
     "text": [
      "Train F1-score: 0.7606685633001423\n",
      "Время обучения: 60.35671305656433 сек.\n"
     ]
    }
   ],
   "source": [
    "sgd_imba_pipeline = make_pipeline(\n",
    "    TfidfVectorizer(stop_words='english', ngram_range=(1, 2), max_df=0.5, min_df=2, sublinear_tf=True),\n",
    "    SGDClassifier(loss='log_loss', penalty='l2', alpha=1e-5, random_state=42, max_iter=5000, tol=1e-3, class_weight='balanced')\n",
    ")\n",
    "\n",
    "kf = StratifiedKFold(n_splits=5, shuffle=True, random_state=42)\n",
    "\n",
    "start_time = time.time()\n",
    "sgd_cv_scores = cross_val_score(sgd_imba_pipeline, train_features, train_target, cv=kf, scoring='f1')\n",
    "end_time = time.time()\n",
    "\n",
    "time_sgd = end_time - start_time\n",
    "\n",
    "print(\"Train F1-score:\", sgd_cv_scores.max())\n",
    "print(\"Время обучения:\", time_sgd, \"сек.\")"
   ]
  },
  {
   "cell_type": "code",
   "execution_count": 25,
   "metadata": {},
   "outputs": [],
   "source": [
    "test_score['SGDClassifier'] = [sgd_cv_scores, time_sgd]"
   ]
  },
  {
   "cell_type": "code",
   "execution_count": 26,
   "metadata": {},
   "outputs": [
    {
     "name": "stdout",
     "output_type": "stream",
     "text": [
      "Значение метрики F1 на кросс-валидации: 0.600825042465421\n",
      "Время обучения: 353.96607756614685 сек.\n"
     ]
    }
   ],
   "source": [
    "tree_imba_pipeline = make_pipeline(\n",
    "    TfidfVectorizer(stop_words='english', ngram_range=(1,2), max_features=20000),\n",
    "    SMOTE(random_state=42),\n",
    "    DecisionTreeClassifier(random_state=13, max_depth=15, class_weight='balanced', min_samples_leaf=10)\n",
    ")\n",
    "\n",
    "kf = StratifiedKFold(n_splits=5, shuffle=True, random_state=42)\n",
    "\n",
    "start_time = time.time()\n",
    "tree_cv_scores = cross_val_score(tree_imba_pipeline, train_features, train_target, cv=kf, scoring='f1')\n",
    "end_time = time.time()\n",
    "time_tree = end_time - start_time\n",
    "\n",
    "print('Значение метрики F1 на кросс-валидации:', tree_cv_scores.max())\n",
    "print(\"Время обучения:\", time_tree, \"сек.\")"
   ]
  },
  {
   "cell_type": "code",
   "execution_count": 27,
   "metadata": {},
   "outputs": [],
   "source": [
    "test_score['DecisionTreeClassifier'] = [tree_cv_scores, time_tree]"
   ]
  },
  {
   "cell_type": "code",
   "execution_count": 28,
   "metadata": {},
   "outputs": [
    {
     "data": {
      "text/html": [
       "<div>\n",
       "<style scoped>\n",
       "    .dataframe tbody tr th:only-of-type {\n",
       "        vertical-align: middle;\n",
       "    }\n",
       "\n",
       "    .dataframe tbody tr th {\n",
       "        vertical-align: top;\n",
       "    }\n",
       "\n",
       "    .dataframe thead th {\n",
       "        text-align: right;\n",
       "    }\n",
       "</style>\n",
       "<table border=\"1\" class=\"dataframe\">\n",
       "  <thead>\n",
       "    <tr style=\"text-align: right;\">\n",
       "      <th></th>\n",
       "      <th>F1 Score</th>\n",
       "      <th>Время обучения</th>\n",
       "    </tr>\n",
       "  </thead>\n",
       "  <tbody>\n",
       "    <tr>\n",
       "      <th>LogisticRegression</th>\n",
       "      <td>0.725977</td>\n",
       "      <td>382.391077</td>\n",
       "    </tr>\n",
       "    <tr>\n",
       "      <th>LinearSVC</th>\n",
       "      <td>[0.710637578217487, 0.714236940935473, 0.71387...</td>\n",
       "      <td>174.267503</td>\n",
       "    </tr>\n",
       "    <tr>\n",
       "      <th>SGDClassifier</th>\n",
       "      <td>[0.7481789802289283, 0.7533865925668635, 0.753...</td>\n",
       "      <td>60.356713</td>\n",
       "    </tr>\n",
       "    <tr>\n",
       "      <th>DecisionTreeClassifier</th>\n",
       "      <td>[0.5816532258064516, 0.5903018307768432, 0.598...</td>\n",
       "      <td>353.966078</td>\n",
       "    </tr>\n",
       "  </tbody>\n",
       "</table>\n",
       "</div>"
      ],
      "text/plain": [
       "                                                                 F1 Score  \\\n",
       "LogisticRegression                                               0.725977   \n",
       "LinearSVC               [0.710637578217487, 0.714236940935473, 0.71387...   \n",
       "SGDClassifier           [0.7481789802289283, 0.7533865925668635, 0.753...   \n",
       "DecisionTreeClassifier  [0.5816532258064516, 0.5903018307768432, 0.598...   \n",
       "\n",
       "                        Время обучения  \n",
       "LogisticRegression          382.391077  \n",
       "LinearSVC                   174.267503  \n",
       "SGDClassifier                60.356713  \n",
       "DecisionTreeClassifier      353.966078  "
      ]
     },
     "metadata": {},
     "output_type": "display_data"
    }
   ],
   "source": [
    "data_score = pd.DataFrame.from_dict(data=test_score, columns=['F1 Score','Время обучения'], orient='index')\n",
    "display(data_score)"
   ]
  },
  {
   "cell_type": "markdown",
   "metadata": {},
   "source": [
    "В данной главе мы изучили 4 модели на тренинговой выборке. Из них лишь 2 показывают высокие результаты **LinearSVC** и **SGDClassifier**. Модели **DecisionTreeClassifier** и **LogisticRegression** обучается крайне медленно, а также показывают низкие результаты. Самый лучший результат в соотношении \"F1-Время\", показывает модель **SGDClassifier**, именно к ней подберем разные гиперпараметры, и посмотрим на результат на тестовой выборке."
   ]
  },
  {
   "cell_type": "code",
   "execution_count": 29,
   "metadata": {
    "scrolled": false
   },
   "outputs": [
    {
     "name": "stdout",
     "output_type": "stream",
     "text": [
      "F1-score: 0.7906131718395156\n",
      "Время обучения: 18.805829286575317 сек.\n"
     ]
    }
   ],
   "source": [
    "best_model = make_pipeline(\n",
    "    TfidfVectorizer(stop_words='english', ngram_range=(1, 2)),\n",
    "    SGDClassifier(penalty='l2', alpha=1e-5, random_state=42, max_iter=1000, tol=1e-3, class_weight='balanced')\n",
    ")\n",
    "\n",
    "\n",
    "start_time = time.time()\n",
    "\n",
    "best_model.fit(train_features, train_target)\n",
    "\n",
    "end_time = time.time()\n",
    "\n",
    "# Предсказываем значения на тестовых данных\n",
    "test_predictions = best_model.predict(test_features)\n",
    "\n",
    "# Оцениваем качество модели\n",
    "\n",
    "f1 = f1_score(test_target, test_predictions)\n",
    "time_best = end_time - start_time\n",
    "print(\"F1-score:\", f1)\n",
    "print(\"Время обучения:\", time_best, \"сек.\")"
   ]
  },
  {
   "cell_type": "markdown",
   "metadata": {},
   "source": [
    "На тестовых данных модель выполняет задачу и показывает требуемую метрику - **F1 = 0.7906**."
   ]
  },
  {
   "cell_type": "markdown",
   "metadata": {},
   "source": [
    "## Выводы"
   ]
  },
  {
   "cell_type": "markdown",
   "metadata": {},
   "source": [
    "* Мы провели анализ данных и лемматизировали текст для построения модели, которая будет выявлять токсичные комментарии пользователей в магазине \"Викишоп\".\n",
    "* Для обучения моделей мы использовали библиотеки imblearn.pipeline и StratifiedKFold, которые помогли сохранить баланс классов, а также специальные алгоритмы, которые учитывают дисбаланс классов, например, параметр class_weight='balanced'.\n",
    "* Мы проверили несколько моделей и выбрали SGDClassifier, которая показала лучший результат метрики F1 на кросс-валидационных данных и на тестовой выборке.\n",
    "* Модель показала F1 = 0.7906 на тестовой выборке, что означает, что она корректно определяет примерно 79% токсичных комментариев.\n",
    "* Рекомендуется использовать данную модель для выявления токсичных комментариев в магазине \"Викишоп\"."
   ]
  }
 ],
 "metadata": {
  "ExecuteTimeLog": [
   {
    "duration": 447,
    "start_time": "2023-03-08T07:25:30.198Z"
   },
   {
    "duration": 2243,
    "start_time": "2023-03-08T07:26:32.505Z"
   },
   {
    "duration": 306,
    "start_time": "2023-03-08T07:26:46.522Z"
   },
   {
    "duration": 554,
    "start_time": "2023-03-08T07:27:00.266Z"
   },
   {
    "duration": 144,
    "start_time": "2023-03-08T07:27:13.975Z"
   },
   {
    "duration": 4,
    "start_time": "2023-03-08T07:27:27.466Z"
   },
   {
    "duration": 9,
    "start_time": "2023-03-08T07:27:41.431Z"
   },
   {
    "duration": 4833,
    "start_time": "2023-03-08T07:28:26.931Z"
   },
   {
    "duration": 10,
    "start_time": "2023-03-08T07:28:31.766Z"
   },
   {
    "duration": 3896,
    "start_time": "2023-03-08T07:28:50.795Z"
   },
   {
    "duration": 245110,
    "start_time": "2023-03-08T07:29:03.513Z"
   },
   {
    "duration": 15,
    "start_time": "2023-03-08T07:33:13.144Z"
   },
   {
    "duration": 3305,
    "start_time": "2023-03-08T07:34:38.161Z"
   },
   {
    "duration": 823,
    "start_time": "2023-03-08T07:34:41.468Z"
   },
   {
    "duration": 267,
    "start_time": "2023-03-08T07:34:42.293Z"
   },
   {
    "duration": 306,
    "start_time": "2023-03-08T07:34:42.563Z"
   },
   {
    "duration": 4,
    "start_time": "2023-03-08T07:34:42.871Z"
   },
   {
    "duration": 5018,
    "start_time": "2023-03-08T07:34:42.877Z"
   },
   {
    "duration": 9,
    "start_time": "2023-03-08T07:34:47.897Z"
   },
   {
    "duration": 662,
    "start_time": "2023-03-08T07:34:47.907Z"
   },
   {
    "duration": 317,
    "start_time": "2023-03-08T07:34:48.571Z"
   },
   {
    "duration": 3353,
    "start_time": "2023-03-08T07:35:52.435Z"
   },
   {
    "duration": 871,
    "start_time": "2023-03-08T07:35:55.790Z"
   },
   {
    "duration": 309,
    "start_time": "2023-03-08T07:35:56.663Z"
   },
   {
    "duration": 331,
    "start_time": "2023-03-08T07:35:56.975Z"
   },
   {
    "duration": 4,
    "start_time": "2023-03-08T07:35:57.308Z"
   },
   {
    "duration": 5056,
    "start_time": "2023-03-08T07:35:57.314Z"
   },
   {
    "duration": 10,
    "start_time": "2023-03-08T07:36:02.371Z"
   },
   {
    "duration": 491,
    "start_time": "2023-03-08T07:36:02.383Z"
   },
   {
    "duration": 2683146,
    "start_time": "2023-03-08T07:36:02.875Z"
   },
   {
    "duration": 8,
    "start_time": "2023-03-08T08:21:31.379Z"
   },
   {
    "duration": 0,
    "start_time": "2023-03-08T08:23:25.781Z"
   },
   {
    "duration": 8,
    "start_time": "2023-03-08T08:23:28.990Z"
   },
   {
    "duration": 8,
    "start_time": "2023-03-08T08:23:59.102Z"
   },
   {
    "duration": 10,
    "start_time": "2023-03-08T08:24:07.373Z"
   },
   {
    "duration": 11389,
    "start_time": "2023-03-08T13:10:54.078Z"
   },
   {
    "duration": 2759,
    "start_time": "2023-03-08T13:11:05.469Z"
   },
   {
    "duration": 286,
    "start_time": "2023-03-08T13:11:08.229Z"
   },
   {
    "duration": 584,
    "start_time": "2023-03-08T13:11:08.518Z"
   },
   {
    "duration": 4,
    "start_time": "2023-03-08T13:11:09.105Z"
   },
   {
    "duration": 5586,
    "start_time": "2023-03-08T13:11:09.111Z"
   },
   {
    "duration": 9,
    "start_time": "2023-03-08T13:11:14.700Z"
   },
   {
    "duration": 711,
    "start_time": "2023-03-08T13:11:14.710Z"
   },
   {
    "duration": 4617,
    "start_time": "2023-03-08T13:24:30.794Z"
   },
   {
    "duration": 868,
    "start_time": "2023-03-08T13:24:35.414Z"
   },
   {
    "duration": 328,
    "start_time": "2023-03-08T13:24:36.285Z"
   },
   {
    "duration": 383,
    "start_time": "2023-03-08T13:24:36.615Z"
   },
   {
    "duration": 7,
    "start_time": "2023-03-08T13:24:37.002Z"
   },
   {
    "duration": 5548,
    "start_time": "2023-03-08T13:24:37.011Z"
   },
   {
    "duration": 20,
    "start_time": "2023-03-08T13:24:42.562Z"
   },
   {
    "duration": 935,
    "start_time": "2023-03-08T13:24:42.585Z"
   },
   {
    "duration": 2711536,
    "start_time": "2023-03-08T13:24:43.523Z"
   },
   {
    "duration": 20,
    "start_time": "2023-03-08T14:09:55.062Z"
   },
   {
    "duration": 362,
    "start_time": "2023-03-08T14:19:41.231Z"
   },
   {
    "duration": 21,
    "start_time": "2023-03-08T14:20:11.332Z"
   },
   {
    "duration": 3171,
    "start_time": "2023-03-08T14:20:18.280Z"
   },
   {
    "duration": 1378,
    "start_time": "2023-03-08T14:21:01.774Z"
   },
   {
    "duration": 9,
    "start_time": "2023-03-08T14:21:04.602Z"
   },
   {
    "duration": 3971,
    "start_time": "2023-03-08T16:12:30.320Z"
   },
   {
    "duration": 912,
    "start_time": "2023-03-08T16:12:34.294Z"
   },
   {
    "duration": 291,
    "start_time": "2023-03-08T16:12:35.207Z"
   },
   {
    "duration": 387,
    "start_time": "2023-03-08T16:12:35.500Z"
   },
   {
    "duration": 4,
    "start_time": "2023-03-08T16:12:35.889Z"
   },
   {
    "duration": 6078,
    "start_time": "2023-03-08T16:12:35.895Z"
   },
   {
    "duration": 12,
    "start_time": "2023-03-08T16:12:41.978Z"
   },
   {
    "duration": 718,
    "start_time": "2023-03-08T16:12:41.992Z"
   },
   {
    "duration": 9328,
    "start_time": "2023-03-08T16:12:42.713Z"
   },
   {
    "duration": 0,
    "start_time": "2023-03-08T16:12:52.044Z"
   },
   {
    "duration": 0,
    "start_time": "2023-03-08T16:12:52.045Z"
   },
   {
    "duration": 0,
    "start_time": "2023-03-08T16:12:52.047Z"
   },
   {
    "duration": 4196,
    "start_time": "2023-03-08T16:13:04.760Z"
   },
   {
    "duration": 1034,
    "start_time": "2023-03-08T16:13:08.958Z"
   },
   {
    "duration": 329,
    "start_time": "2023-03-08T16:13:09.994Z"
   },
   {
    "duration": 406,
    "start_time": "2023-03-08T16:13:10.326Z"
   },
   {
    "duration": 4,
    "start_time": "2023-03-08T16:13:10.735Z"
   },
   {
    "duration": 6648,
    "start_time": "2023-03-08T16:13:10.740Z"
   },
   {
    "duration": 20,
    "start_time": "2023-03-08T16:13:17.393Z"
   },
   {
    "duration": 706,
    "start_time": "2023-03-08T16:13:17.418Z"
   },
   {
    "duration": 3142,
    "start_time": "2023-03-08T16:13:18.126Z"
   },
   {
    "duration": 3281,
    "start_time": "2023-03-08T16:13:21.270Z"
   },
   {
    "duration": 10,
    "start_time": "2023-03-08T16:13:24.554Z"
   },
   {
    "duration": 367,
    "start_time": "2023-03-08T17:16:05.879Z"
   },
   {
    "duration": 4499,
    "start_time": "2023-03-08T17:16:59.063Z"
   },
   {
    "duration": 995,
    "start_time": "2023-03-08T17:17:03.564Z"
   },
   {
    "duration": 349,
    "start_time": "2023-03-08T17:17:04.561Z"
   },
   {
    "duration": 605,
    "start_time": "2023-03-08T17:17:04.913Z"
   },
   {
    "duration": 6,
    "start_time": "2023-03-08T17:17:05.520Z"
   },
   {
    "duration": 6139,
    "start_time": "2023-03-08T17:17:05.528Z"
   },
   {
    "duration": 19,
    "start_time": "2023-03-08T17:17:11.669Z"
   },
   {
    "duration": 614,
    "start_time": "2023-03-08T17:17:11.691Z"
   },
   {
    "duration": 3119,
    "start_time": "2023-03-08T17:17:12.311Z"
   },
   {
    "duration": 2973,
    "start_time": "2023-03-08T17:17:15.433Z"
   },
   {
    "duration": 12,
    "start_time": "2023-03-08T17:17:18.408Z"
   },
   {
    "duration": 97051,
    "start_time": "2023-03-08T17:17:18.422Z"
   },
   {
    "duration": 9,
    "start_time": "2023-03-08T17:20:36.548Z"
   },
   {
    "duration": 10,
    "start_time": "2023-03-08T17:20:42.468Z"
   },
   {
    "duration": 3,
    "start_time": "2023-03-08T17:23:29.048Z"
   },
   {
    "duration": 366,
    "start_time": "2023-03-08T17:24:47.161Z"
   },
   {
    "duration": 6,
    "start_time": "2023-03-08T17:25:23.395Z"
   },
   {
    "duration": 4291,
    "start_time": "2023-03-08T17:25:30.923Z"
   },
   {
    "duration": 929,
    "start_time": "2023-03-08T17:25:35.215Z"
   },
   {
    "duration": 322,
    "start_time": "2023-03-08T17:25:36.146Z"
   },
   {
    "duration": 584,
    "start_time": "2023-03-08T17:25:36.471Z"
   },
   {
    "duration": 6,
    "start_time": "2023-03-08T17:25:37.057Z"
   },
   {
    "duration": 5827,
    "start_time": "2023-03-08T17:25:37.065Z"
   },
   {
    "duration": 9,
    "start_time": "2023-03-08T17:25:42.901Z"
   },
   {
    "duration": 624,
    "start_time": "2023-03-08T17:25:42.912Z"
   },
   {
    "duration": 3181,
    "start_time": "2023-03-08T17:25:43.539Z"
   },
   {
    "duration": 2938,
    "start_time": "2023-03-08T17:25:46.723Z"
   },
   {
    "duration": 10,
    "start_time": "2023-03-08T17:25:49.664Z"
   },
   {
    "duration": 42,
    "start_time": "2023-03-08T17:25:49.676Z"
   },
   {
    "duration": 24,
    "start_time": "2023-03-08T17:25:49.720Z"
   },
   {
    "duration": 4340,
    "start_time": "2023-03-08T17:50:48.704Z"
   },
   {
    "duration": 974,
    "start_time": "2023-03-08T17:50:53.046Z"
   },
   {
    "duration": 324,
    "start_time": "2023-03-08T17:50:54.022Z"
   },
   {
    "duration": 588,
    "start_time": "2023-03-08T17:50:54.348Z"
   },
   {
    "duration": 7,
    "start_time": "2023-03-08T17:50:54.939Z"
   },
   {
    "duration": 5624,
    "start_time": "2023-03-08T17:50:54.947Z"
   },
   {
    "duration": 26,
    "start_time": "2023-03-08T17:51:00.573Z"
   },
   {
    "duration": 636,
    "start_time": "2023-03-08T17:51:00.601Z"
   },
   {
    "duration": 3092,
    "start_time": "2023-03-08T17:51:01.239Z"
   },
   {
    "duration": 3069,
    "start_time": "2023-03-08T17:51:04.332Z"
   },
   {
    "duration": 10,
    "start_time": "2023-03-08T17:51:07.407Z"
   },
   {
    "duration": 35,
    "start_time": "2023-03-08T17:51:07.419Z"
   },
   {
    "duration": 6907,
    "start_time": "2023-03-08T17:51:07.456Z"
   },
   {
    "duration": 463,
    "start_time": "2023-03-08T17:52:20.449Z"
   },
   {
    "duration": 24,
    "start_time": "2023-03-08T17:52:27.501Z"
   },
   {
    "duration": 8247,
    "start_time": "2023-03-08T17:52:28.304Z"
   },
   {
    "duration": 4,
    "start_time": "2023-03-08T18:00:17.597Z"
   },
   {
    "duration": 4,
    "start_time": "2023-03-08T18:00:23.529Z"
   },
   {
    "duration": 55,
    "start_time": "2023-03-08T18:01:24.912Z"
   },
   {
    "duration": 4080,
    "start_time": "2023-03-08T18:01:36.991Z"
   },
   {
    "duration": 887,
    "start_time": "2023-03-08T18:01:41.073Z"
   },
   {
    "duration": 303,
    "start_time": "2023-03-08T18:01:41.962Z"
   },
   {
    "duration": 596,
    "start_time": "2023-03-08T18:01:42.266Z"
   },
   {
    "duration": 23,
    "start_time": "2023-03-08T18:01:42.865Z"
   },
   {
    "duration": 5199,
    "start_time": "2023-03-08T18:01:42.891Z"
   },
   {
    "duration": 9,
    "start_time": "2023-03-08T18:01:48.092Z"
   },
   {
    "duration": 523,
    "start_time": "2023-03-08T18:01:48.103Z"
   },
   {
    "duration": 2702,
    "start_time": "2023-03-08T18:01:48.627Z"
   },
   {
    "duration": 3019,
    "start_time": "2023-03-08T18:01:51.332Z"
   },
   {
    "duration": 10,
    "start_time": "2023-03-08T18:01:54.353Z"
   },
   {
    "duration": 33,
    "start_time": "2023-03-08T18:01:54.364Z"
   },
   {
    "duration": 7515,
    "start_time": "2023-03-08T18:01:54.399Z"
   },
   {
    "duration": 3,
    "start_time": "2023-03-08T18:02:01.917Z"
   },
   {
    "duration": 394,
    "start_time": "2023-03-08T18:02:01.922Z"
   },
   {
    "duration": 0,
    "start_time": "2023-03-08T18:02:02.318Z"
   },
   {
    "duration": 4111,
    "start_time": "2023-03-08T18:02:14.748Z"
   },
   {
    "duration": 938,
    "start_time": "2023-03-08T18:02:18.862Z"
   },
   {
    "duration": 315,
    "start_time": "2023-03-08T18:02:19.802Z"
   },
   {
    "duration": 556,
    "start_time": "2023-03-08T18:02:20.118Z"
   },
   {
    "duration": 10,
    "start_time": "2023-03-08T18:02:20.678Z"
   },
   {
    "duration": 5469,
    "start_time": "2023-03-08T18:02:20.692Z"
   },
   {
    "duration": 26,
    "start_time": "2023-03-08T18:02:26.163Z"
   },
   {
    "duration": 581,
    "start_time": "2023-03-08T18:02:26.191Z"
   },
   {
    "duration": 2886,
    "start_time": "2023-03-08T18:02:26.774Z"
   },
   {
    "duration": 2904,
    "start_time": "2023-03-08T18:02:29.662Z"
   },
   {
    "duration": 9,
    "start_time": "2023-03-08T18:02:32.569Z"
   },
   {
    "duration": 65,
    "start_time": "2023-03-08T18:02:32.583Z"
   },
   {
    "duration": 7824,
    "start_time": "2023-03-08T18:02:32.651Z"
   },
   {
    "duration": 10,
    "start_time": "2023-03-08T18:02:40.478Z"
   },
   {
    "duration": 457,
    "start_time": "2023-03-08T18:02:40.491Z"
   },
   {
    "duration": 4,
    "start_time": "2023-03-08T18:04:29.454Z"
   },
   {
    "duration": 4,
    "start_time": "2023-03-08T18:04:32.792Z"
   },
   {
    "duration": 72,
    "start_time": "2023-03-08T18:04:33.349Z"
   },
   {
    "duration": 4006,
    "start_time": "2023-03-08T18:04:41.898Z"
   },
   {
    "duration": 855,
    "start_time": "2023-03-08T18:04:45.906Z"
   },
   {
    "duration": 284,
    "start_time": "2023-03-08T18:04:46.763Z"
   },
   {
    "duration": 481,
    "start_time": "2023-03-08T18:04:47.049Z"
   },
   {
    "duration": 7,
    "start_time": "2023-03-08T18:04:47.532Z"
   },
   {
    "duration": 4697,
    "start_time": "2023-03-08T18:04:47.540Z"
   },
   {
    "duration": 9,
    "start_time": "2023-03-08T18:04:52.239Z"
   },
   {
    "duration": 474,
    "start_time": "2023-03-08T18:04:52.249Z"
   },
   {
    "duration": 2428,
    "start_time": "2023-03-08T18:04:52.725Z"
   },
   {
    "duration": 3014,
    "start_time": "2023-03-08T18:04:55.155Z"
   },
   {
    "duration": 8,
    "start_time": "2023-03-08T18:04:58.171Z"
   },
   {
    "duration": 26,
    "start_time": "2023-03-08T18:04:58.180Z"
   },
   {
    "duration": 7232,
    "start_time": "2023-03-08T18:04:58.207Z"
   },
   {
    "duration": 4,
    "start_time": "2023-03-08T18:05:05.441Z"
   },
   {
    "duration": 417,
    "start_time": "2023-03-08T18:05:05.447Z"
   },
   {
    "duration": 4,
    "start_time": "2023-03-08T18:06:02.293Z"
   },
   {
    "duration": 137,
    "start_time": "2023-03-08T18:06:03.316Z"
   },
   {
    "duration": 4133,
    "start_time": "2023-03-08T18:06:12.092Z"
   },
   {
    "duration": 878,
    "start_time": "2023-03-08T18:06:16.227Z"
   },
   {
    "duration": 313,
    "start_time": "2023-03-08T18:06:17.107Z"
   },
   {
    "duration": 534,
    "start_time": "2023-03-08T18:06:17.421Z"
   },
   {
    "duration": 7,
    "start_time": "2023-03-08T18:06:17.957Z"
   },
   {
    "duration": 5130,
    "start_time": "2023-03-08T18:06:17.965Z"
   },
   {
    "duration": 9,
    "start_time": "2023-03-08T18:06:23.098Z"
   },
   {
    "duration": 536,
    "start_time": "2023-03-08T18:06:23.109Z"
   },
   {
    "duration": 2615,
    "start_time": "2023-03-08T18:06:23.647Z"
   },
   {
    "duration": 3024,
    "start_time": "2023-03-08T18:06:26.264Z"
   },
   {
    "duration": 8,
    "start_time": "2023-03-08T18:06:29.290Z"
   },
   {
    "duration": 37,
    "start_time": "2023-03-08T18:06:29.300Z"
   },
   {
    "duration": 7308,
    "start_time": "2023-03-08T18:06:29.339Z"
   },
   {
    "duration": 4,
    "start_time": "2023-03-08T18:06:36.650Z"
   },
   {
    "duration": 464,
    "start_time": "2023-03-08T18:06:36.656Z"
   },
   {
    "duration": 21,
    "start_time": "2023-03-08T18:08:17.684Z"
   },
   {
    "duration": 20,
    "start_time": "2023-03-08T18:08:28.693Z"
   },
   {
    "duration": 24,
    "start_time": "2023-03-08T18:12:39.604Z"
   },
   {
    "duration": 7129,
    "start_time": "2023-03-08T18:12:40.719Z"
   },
   {
    "duration": 4270,
    "start_time": "2023-03-08T18:23:32.461Z"
   },
   {
    "duration": 931,
    "start_time": "2023-03-08T18:23:36.733Z"
   },
   {
    "duration": 326,
    "start_time": "2023-03-08T18:23:37.666Z"
   },
   {
    "duration": 547,
    "start_time": "2023-03-08T18:23:37.994Z"
   },
   {
    "duration": 7,
    "start_time": "2023-03-08T18:23:38.542Z"
   },
   {
    "duration": 5590,
    "start_time": "2023-03-08T18:23:38.551Z"
   },
   {
    "duration": 9,
    "start_time": "2023-03-08T18:23:44.144Z"
   },
   {
    "duration": 612,
    "start_time": "2023-03-08T18:23:44.154Z"
   },
   {
    "duration": 3033,
    "start_time": "2023-03-08T18:23:44.768Z"
   },
   {
    "duration": 3189,
    "start_time": "2023-03-08T18:23:47.805Z"
   },
   {
    "duration": 8,
    "start_time": "2023-03-08T18:23:50.996Z"
   },
   {
    "duration": 22,
    "start_time": "2023-03-08T18:23:51.007Z"
   },
   {
    "duration": 387,
    "start_time": "2023-03-08T18:23:51.031Z"
   },
   {
    "duration": 0,
    "start_time": "2023-03-08T18:23:51.420Z"
   },
   {
    "duration": 0,
    "start_time": "2023-03-08T18:23:51.421Z"
   },
   {
    "duration": 47,
    "start_time": "2023-03-08T18:29:05.844Z"
   },
   {
    "duration": 4803,
    "start_time": "2023-03-08T18:29:15.097Z"
   },
   {
    "duration": 1041,
    "start_time": "2023-03-08T18:29:19.910Z"
   },
   {
    "duration": 353,
    "start_time": "2023-03-08T18:29:20.954Z"
   },
   {
    "duration": 590,
    "start_time": "2023-03-08T18:29:21.309Z"
   },
   {
    "duration": 8,
    "start_time": "2023-03-08T18:29:21.908Z"
   },
   {
    "duration": 6085,
    "start_time": "2023-03-08T18:29:21.918Z"
   },
   {
    "duration": 11,
    "start_time": "2023-03-08T18:29:28.006Z"
   },
   {
    "duration": 624,
    "start_time": "2023-03-08T18:29:28.019Z"
   },
   {
    "duration": 3162,
    "start_time": "2023-03-08T18:29:28.644Z"
   },
   {
    "duration": 3218,
    "start_time": "2023-03-08T18:29:31.808Z"
   },
   {
    "duration": 9,
    "start_time": "2023-03-08T18:29:35.028Z"
   },
   {
    "duration": 29,
    "start_time": "2023-03-08T18:29:35.040Z"
   },
   {
    "duration": 446,
    "start_time": "2023-03-08T18:29:35.078Z"
   },
   {
    "duration": 0,
    "start_time": "2023-03-08T18:29:35.527Z"
   },
   {
    "duration": 0,
    "start_time": "2023-03-08T18:29:35.528Z"
   },
   {
    "duration": 234,
    "start_time": "2023-03-08T18:30:41.003Z"
   },
   {
    "duration": 154,
    "start_time": "2023-03-08T18:30:56.175Z"
   },
   {
    "duration": 162,
    "start_time": "2023-03-08T18:31:22.101Z"
   },
   {
    "duration": 183,
    "start_time": "2023-03-08T18:33:50.919Z"
   },
   {
    "duration": 8604,
    "start_time": "2023-03-08T18:34:08.596Z"
   },
   {
    "duration": 5,
    "start_time": "2023-03-08T18:34:53.031Z"
   },
   {
    "duration": 77,
    "start_time": "2023-03-08T18:35:31.725Z"
   },
   {
    "duration": 4371,
    "start_time": "2023-03-08T18:36:01.339Z"
   },
   {
    "duration": 954,
    "start_time": "2023-03-08T18:36:05.712Z"
   },
   {
    "duration": 355,
    "start_time": "2023-03-08T18:36:06.668Z"
   },
   {
    "duration": 596,
    "start_time": "2023-03-08T18:36:07.025Z"
   },
   {
    "duration": 9,
    "start_time": "2023-03-08T18:36:07.623Z"
   },
   {
    "duration": 5599,
    "start_time": "2023-03-08T18:36:07.635Z"
   },
   {
    "duration": 10,
    "start_time": "2023-03-08T18:36:13.236Z"
   },
   {
    "duration": 616,
    "start_time": "2023-03-08T18:36:13.248Z"
   },
   {
    "duration": 3158,
    "start_time": "2023-03-08T18:36:13.866Z"
   },
   {
    "duration": 3023,
    "start_time": "2023-03-08T18:36:17.029Z"
   },
   {
    "duration": 8,
    "start_time": "2023-03-08T18:36:20.054Z"
   },
   {
    "duration": 26,
    "start_time": "2023-03-08T18:36:20.076Z"
   },
   {
    "duration": 162,
    "start_time": "2023-03-08T18:36:20.104Z"
   },
   {
    "duration": 9,
    "start_time": "2023-03-08T18:36:20.269Z"
   },
   {
    "duration": 450,
    "start_time": "2023-03-08T18:36:20.280Z"
   },
   {
    "duration": 4432,
    "start_time": "2023-03-08T18:37:52.589Z"
   },
   {
    "duration": 912,
    "start_time": "2023-03-08T18:37:57.023Z"
   },
   {
    "duration": 327,
    "start_time": "2023-03-08T18:37:57.937Z"
   },
   {
    "duration": 580,
    "start_time": "2023-03-08T18:37:58.267Z"
   },
   {
    "duration": 11,
    "start_time": "2023-03-08T18:37:58.850Z"
   },
   {
    "duration": 5333,
    "start_time": "2023-03-08T18:37:58.876Z"
   },
   {
    "duration": 14,
    "start_time": "2023-03-08T18:38:04.212Z"
   },
   {
    "duration": 645,
    "start_time": "2023-03-08T18:38:04.228Z"
   },
   {
    "duration": 3145,
    "start_time": "2023-03-08T18:38:04.876Z"
   },
   {
    "duration": 2856,
    "start_time": "2023-03-08T18:38:08.026Z"
   },
   {
    "duration": 11,
    "start_time": "2023-03-08T18:38:10.884Z"
   },
   {
    "duration": 37,
    "start_time": "2023-03-08T18:38:10.901Z"
   },
   {
    "duration": 225,
    "start_time": "2023-03-08T18:38:10.941Z"
   },
   {
    "duration": 17,
    "start_time": "2023-03-08T18:38:11.167Z"
   },
   {
    "duration": 8,
    "start_time": "2023-03-08T18:38:11.186Z"
   },
   {
    "duration": 469,
    "start_time": "2023-03-08T18:38:11.196Z"
   },
   {
    "duration": 6,
    "start_time": "2023-03-08T18:45:01.788Z"
   },
   {
    "duration": 82,
    "start_time": "2023-03-08T18:45:04.295Z"
   },
   {
    "duration": 22,
    "start_time": "2023-03-08T18:45:31.884Z"
   },
   {
    "duration": 30,
    "start_time": "2023-03-08T18:45:40.720Z"
   },
   {
    "duration": 24,
    "start_time": "2023-03-08T18:45:58.800Z"
   },
   {
    "duration": 4382,
    "start_time": "2023-03-08T18:46:13.695Z"
   },
   {
    "duration": 960,
    "start_time": "2023-03-08T18:46:18.080Z"
   },
   {
    "duration": 321,
    "start_time": "2023-03-08T18:46:19.043Z"
   },
   {
    "duration": 585,
    "start_time": "2023-03-08T18:46:19.368Z"
   },
   {
    "duration": 7,
    "start_time": "2023-03-08T18:46:19.957Z"
   },
   {
    "duration": 5374,
    "start_time": "2023-03-08T18:46:19.966Z"
   },
   {
    "duration": 10,
    "start_time": "2023-03-08T18:46:25.342Z"
   },
   {
    "duration": 623,
    "start_time": "2023-03-08T18:46:25.354Z"
   },
   {
    "duration": 3145,
    "start_time": "2023-03-08T18:46:25.979Z"
   },
   {
    "duration": 2945,
    "start_time": "2023-03-08T18:46:29.127Z"
   },
   {
    "duration": 9,
    "start_time": "2023-03-08T18:46:32.075Z"
   },
   {
    "duration": 72,
    "start_time": "2023-03-08T18:46:32.086Z"
   },
   {
    "duration": 198,
    "start_time": "2023-03-08T18:46:32.160Z"
   },
   {
    "duration": 5,
    "start_time": "2023-03-08T18:46:32.361Z"
   },
   {
    "duration": 194,
    "start_time": "2023-03-08T18:46:32.368Z"
   },
   {
    "duration": 457,
    "start_time": "2023-03-08T18:46:32.565Z"
   },
   {
    "duration": 160,
    "start_time": "2023-03-08T18:47:09.907Z"
   },
   {
    "duration": 124,
    "start_time": "2023-03-08T18:47:22.111Z"
   },
   {
    "duration": 134,
    "start_time": "2023-03-08T18:47:22.884Z"
   },
   {
    "duration": 108,
    "start_time": "2023-03-08T18:47:34.938Z"
   },
   {
    "duration": 236,
    "start_time": "2023-03-08T18:47:41.083Z"
   },
   {
    "duration": 109,
    "start_time": "2023-03-08T18:48:09.823Z"
   },
   {
    "duration": 169,
    "start_time": "2023-03-08T18:48:10.787Z"
   },
   {
    "duration": 145,
    "start_time": "2023-03-08T18:48:20.443Z"
   },
   {
    "duration": 197,
    "start_time": "2023-03-08T18:48:21.312Z"
   },
   {
    "duration": 144,
    "start_time": "2023-03-08T18:48:34.114Z"
   },
   {
    "duration": 220,
    "start_time": "2023-03-08T18:48:37.651Z"
   },
   {
    "duration": 53,
    "start_time": "2023-03-08T18:48:54.439Z"
   },
   {
    "duration": 219,
    "start_time": "2023-03-08T18:48:55.452Z"
   },
   {
    "duration": 85,
    "start_time": "2023-03-08T18:49:01.842Z"
   },
   {
    "duration": 193,
    "start_time": "2023-03-08T18:49:02.656Z"
   },
   {
    "duration": 25605,
    "start_time": "2023-03-08T18:52:54.783Z"
   },
   {
    "duration": 4250,
    "start_time": "2023-03-08T19:24:53.277Z"
   },
   {
    "duration": 1068,
    "start_time": "2023-03-08T19:24:57.529Z"
   },
   {
    "duration": 438,
    "start_time": "2023-03-08T19:24:58.600Z"
   },
   {
    "duration": 737,
    "start_time": "2023-03-08T19:24:59.040Z"
   },
   {
    "duration": 12,
    "start_time": "2023-03-08T19:24:59.781Z"
   },
   {
    "duration": 6348,
    "start_time": "2023-03-08T19:24:59.796Z"
   },
   {
    "duration": 9,
    "start_time": "2023-03-08T19:25:06.146Z"
   },
   {
    "duration": 717,
    "start_time": "2023-03-08T19:25:06.157Z"
   },
   {
    "duration": 3323,
    "start_time": "2023-03-08T19:25:06.877Z"
   },
   {
    "duration": 3342,
    "start_time": "2023-03-08T19:25:10.203Z"
   },
   {
    "duration": 9,
    "start_time": "2023-03-08T19:25:13.547Z"
   },
   {
    "duration": 35,
    "start_time": "2023-03-08T19:25:13.558Z"
   },
   {
    "duration": 6969,
    "start_time": "2023-03-08T19:25:13.595Z"
   },
   {
    "duration": 200,
    "start_time": "2023-03-08T19:25:20.568Z"
   },
   {
    "duration": 7,
    "start_time": "2023-03-08T19:25:20.776Z"
   },
   {
    "duration": 480,
    "start_time": "2023-03-08T19:25:20.785Z"
   },
   {
    "duration": 0,
    "start_time": "2023-03-08T19:25:21.268Z"
   },
   {
    "duration": 0,
    "start_time": "2023-03-08T19:25:21.269Z"
   },
   {
    "duration": 4491,
    "start_time": "2023-03-08T19:27:18.296Z"
   },
   {
    "duration": 939,
    "start_time": "2023-03-08T19:27:22.790Z"
   },
   {
    "duration": 318,
    "start_time": "2023-03-08T19:27:23.731Z"
   },
   {
    "duration": 668,
    "start_time": "2023-03-08T19:27:24.051Z"
   },
   {
    "duration": 8,
    "start_time": "2023-03-08T19:27:24.721Z"
   },
   {
    "duration": 5116,
    "start_time": "2023-03-08T19:27:24.731Z"
   },
   {
    "duration": 9,
    "start_time": "2023-03-08T19:27:29.849Z"
   },
   {
    "duration": 550,
    "start_time": "2023-03-08T19:27:29.860Z"
   },
   {
    "duration": 3198,
    "start_time": "2023-03-08T19:27:30.412Z"
   },
   {
    "duration": 3047,
    "start_time": "2023-03-08T19:27:33.612Z"
   },
   {
    "duration": 8,
    "start_time": "2023-03-08T19:27:36.661Z"
   },
   {
    "duration": 24,
    "start_time": "2023-03-08T19:27:36.678Z"
   },
   {
    "duration": 248,
    "start_time": "2023-03-08T19:27:36.704Z"
   },
   {
    "duration": 4,
    "start_time": "2023-03-08T19:27:36.955Z"
   },
   {
    "duration": 108,
    "start_time": "2023-03-08T19:27:36.961Z"
   },
   {
    "duration": 161,
    "start_time": "2023-03-08T19:27:37.071Z"
   },
   {
    "duration": 400,
    "start_time": "2023-03-08T19:27:37.235Z"
   },
   {
    "duration": 4183,
    "start_time": "2023-03-08T19:27:52.378Z"
   },
   {
    "duration": 917,
    "start_time": "2023-03-08T19:27:56.564Z"
   },
   {
    "duration": 390,
    "start_time": "2023-03-08T19:27:57.483Z"
   },
   {
    "duration": 577,
    "start_time": "2023-03-08T19:27:57.878Z"
   },
   {
    "duration": 7,
    "start_time": "2023-03-08T19:27:58.458Z"
   },
   {
    "duration": 5382,
    "start_time": "2023-03-08T19:27:58.478Z"
   },
   {
    "duration": 19,
    "start_time": "2023-03-08T19:28:03.862Z"
   },
   {
    "duration": 810,
    "start_time": "2023-03-08T19:28:03.884Z"
   },
   {
    "duration": 3410,
    "start_time": "2023-03-08T19:28:04.699Z"
   },
   {
    "duration": 3184,
    "start_time": "2023-03-08T19:28:08.112Z"
   },
   {
    "duration": 10,
    "start_time": "2023-03-08T19:28:11.299Z"
   },
   {
    "duration": 34,
    "start_time": "2023-03-08T19:28:11.312Z"
   },
   {
    "duration": 10041,
    "start_time": "2023-03-08T19:28:11.348Z"
   },
   {
    "duration": 227,
    "start_time": "2023-03-08T19:28:21.392Z"
   },
   {
    "duration": 7,
    "start_time": "2023-03-08T19:28:21.622Z"
   },
   {
    "duration": 616,
    "start_time": "2023-03-08T19:28:21.632Z"
   },
   {
    "duration": 0,
    "start_time": "2023-03-08T19:28:22.251Z"
   },
   {
    "duration": 0,
    "start_time": "2023-03-08T19:28:22.253Z"
   },
   {
    "duration": 4498,
    "start_time": "2023-03-08T19:29:20.384Z"
   },
   {
    "duration": 971,
    "start_time": "2023-03-08T19:29:24.885Z"
   },
   {
    "duration": 369,
    "start_time": "2023-03-08T19:29:25.859Z"
   },
   {
    "duration": 547,
    "start_time": "2023-03-08T19:29:26.231Z"
   },
   {
    "duration": 7,
    "start_time": "2023-03-08T19:29:26.781Z"
   },
   {
    "duration": 5205,
    "start_time": "2023-03-08T19:29:26.790Z"
   },
   {
    "duration": 11,
    "start_time": "2023-03-08T19:29:31.997Z"
   },
   {
    "duration": 666,
    "start_time": "2023-03-08T19:29:32.010Z"
   },
   {
    "duration": 3270,
    "start_time": "2023-03-08T19:29:32.679Z"
   },
   {
    "duration": 3124,
    "start_time": "2023-03-08T19:29:35.951Z"
   },
   {
    "duration": 8,
    "start_time": "2023-03-08T19:29:39.077Z"
   },
   {
    "duration": 31,
    "start_time": "2023-03-08T19:29:39.087Z"
   },
   {
    "duration": 6618,
    "start_time": "2023-03-08T19:29:39.120Z"
   },
   {
    "duration": 174,
    "start_time": "2023-03-08T19:29:45.742Z"
   },
   {
    "duration": 9,
    "start_time": "2023-03-08T19:29:45.918Z"
   },
   {
    "duration": 482,
    "start_time": "2023-03-08T19:29:45.929Z"
   },
   {
    "duration": 0,
    "start_time": "2023-03-08T19:29:46.412Z"
   },
   {
    "duration": 0,
    "start_time": "2023-03-08T19:29:46.414Z"
   },
   {
    "duration": 4337,
    "start_time": "2023-03-08T19:30:32.048Z"
   },
   {
    "duration": 914,
    "start_time": "2023-03-08T19:30:36.387Z"
   },
   {
    "duration": 339,
    "start_time": "2023-03-08T19:30:37.303Z"
   },
   {
    "duration": 541,
    "start_time": "2023-03-08T19:30:37.648Z"
   },
   {
    "duration": 7,
    "start_time": "2023-03-08T19:30:38.192Z"
   },
   {
    "duration": 5195,
    "start_time": "2023-03-08T19:30:38.200Z"
   },
   {
    "duration": 13,
    "start_time": "2023-03-08T19:30:43.397Z"
   },
   {
    "duration": 626,
    "start_time": "2023-03-08T19:30:43.412Z"
   },
   {
    "duration": 3552,
    "start_time": "2023-03-08T19:30:44.040Z"
   },
   {
    "duration": 3058,
    "start_time": "2023-03-08T19:30:47.594Z"
   },
   {
    "duration": 8,
    "start_time": "2023-03-08T19:30:50.654Z"
   },
   {
    "duration": 64,
    "start_time": "2023-03-08T19:30:50.664Z"
   },
   {
    "duration": 174,
    "start_time": "2023-03-08T19:30:50.731Z"
   },
   {
    "duration": 5,
    "start_time": "2023-03-08T19:30:50.908Z"
   },
   {
    "duration": 119,
    "start_time": "2023-03-08T19:30:50.915Z"
   },
   {
    "duration": 150,
    "start_time": "2023-03-08T19:30:51.036Z"
   },
   {
    "duration": 379,
    "start_time": "2023-03-08T19:30:51.188Z"
   },
   {
    "duration": 82,
    "start_time": "2023-03-08T19:31:08.549Z"
   },
   {
    "duration": 23,
    "start_time": "2023-03-08T19:34:59.918Z"
   },
   {
    "duration": 20,
    "start_time": "2023-03-08T19:36:09.176Z"
   },
   {
    "duration": 20,
    "start_time": "2023-03-08T19:36:30.519Z"
   },
   {
    "duration": 22,
    "start_time": "2023-03-08T19:36:35.152Z"
   },
   {
    "duration": 4385,
    "start_time": "2023-03-08T19:37:12.308Z"
   },
   {
    "duration": 968,
    "start_time": "2023-03-08T19:37:16.696Z"
   },
   {
    "duration": 314,
    "start_time": "2023-03-08T19:37:17.666Z"
   },
   {
    "duration": 534,
    "start_time": "2023-03-08T19:37:17.982Z"
   },
   {
    "duration": 7,
    "start_time": "2023-03-08T19:37:18.519Z"
   },
   {
    "duration": 5215,
    "start_time": "2023-03-08T19:37:18.528Z"
   },
   {
    "duration": 9,
    "start_time": "2023-03-08T19:37:23.746Z"
   },
   {
    "duration": 535,
    "start_time": "2023-03-08T19:37:23.757Z"
   },
   {
    "duration": 3053,
    "start_time": "2023-03-08T19:37:24.294Z"
   },
   {
    "duration": 3069,
    "start_time": "2023-03-08T19:37:27.350Z"
   },
   {
    "duration": 11,
    "start_time": "2023-03-08T19:37:30.421Z"
   },
   {
    "duration": 113,
    "start_time": "2023-03-08T19:37:30.434Z"
   },
   {
    "duration": 184,
    "start_time": "2023-03-08T19:37:30.550Z"
   },
   {
    "duration": 5,
    "start_time": "2023-03-08T19:37:30.737Z"
   },
   {
    "duration": 169,
    "start_time": "2023-03-08T19:37:30.744Z"
   },
   {
    "duration": 144,
    "start_time": "2023-03-08T19:37:30.915Z"
   },
   {
    "duration": 361,
    "start_time": "2023-03-08T19:37:31.061Z"
   },
   {
    "duration": 0,
    "start_time": "2023-03-08T19:37:31.424Z"
   },
   {
    "duration": 0,
    "start_time": "2023-03-08T19:37:31.425Z"
   },
   {
    "duration": 23,
    "start_time": "2023-03-08T19:38:45.702Z"
   },
   {
    "duration": 6575,
    "start_time": "2023-03-08T19:39:12.846Z"
   },
   {
    "duration": 27023,
    "start_time": "2023-03-08T19:42:17.543Z"
   },
   {
    "duration": 20,
    "start_time": "2023-03-08T19:45:40.086Z"
   },
   {
    "duration": 27008,
    "start_time": "2023-03-08T19:48:01.286Z"
   },
   {
    "duration": 90757,
    "start_time": "2023-03-08T19:49:35.350Z"
   },
   {
    "duration": 74,
    "start_time": "2023-03-08T19:51:16.178Z"
   },
   {
    "duration": 136,
    "start_time": "2023-03-08T19:51:58.441Z"
   },
   {
    "duration": 4060,
    "start_time": "2023-03-08T19:57:20.800Z"
   },
   {
    "duration": 895,
    "start_time": "2023-03-08T19:57:24.862Z"
   },
   {
    "duration": 298,
    "start_time": "2023-03-08T19:57:25.758Z"
   },
   {
    "duration": 533,
    "start_time": "2023-03-08T19:57:26.059Z"
   },
   {
    "duration": 7,
    "start_time": "2023-03-08T19:57:26.594Z"
   },
   {
    "duration": 5125,
    "start_time": "2023-03-08T19:57:26.602Z"
   },
   {
    "duration": 10,
    "start_time": "2023-03-08T19:57:31.729Z"
   },
   {
    "duration": 614,
    "start_time": "2023-03-08T19:57:31.740Z"
   },
   {
    "duration": 2950,
    "start_time": "2023-03-08T19:57:32.355Z"
   },
   {
    "duration": 2942,
    "start_time": "2023-03-08T19:57:35.308Z"
   },
   {
    "duration": 8,
    "start_time": "2023-03-08T19:57:38.252Z"
   },
   {
    "duration": 52,
    "start_time": "2023-03-08T19:57:38.262Z"
   },
   {
    "duration": 174,
    "start_time": "2023-03-08T19:57:38.316Z"
   },
   {
    "duration": 4,
    "start_time": "2023-03-08T19:57:38.492Z"
   },
   {
    "duration": 114,
    "start_time": "2023-03-08T19:57:38.499Z"
   },
   {
    "duration": 142,
    "start_time": "2023-03-08T19:57:38.615Z"
   },
   {
    "duration": 28084,
    "start_time": "2023-03-08T19:57:38.759Z"
   },
   {
    "duration": 4243,
    "start_time": "2023-03-09T05:01:47.399Z"
   },
   {
    "duration": 2464,
    "start_time": "2023-03-09T05:01:51.644Z"
   },
   {
    "duration": 302,
    "start_time": "2023-03-09T05:01:54.109Z"
   },
   {
    "duration": 794,
    "start_time": "2023-03-09T05:01:54.413Z"
   },
   {
    "duration": 7,
    "start_time": "2023-03-09T05:01:55.209Z"
   },
   {
    "duration": 5111,
    "start_time": "2023-03-09T05:01:55.217Z"
   },
   {
    "duration": 10,
    "start_time": "2023-03-09T05:02:00.330Z"
   },
   {
    "duration": 667,
    "start_time": "2023-03-09T05:02:00.341Z"
   },
   {
    "duration": 2965,
    "start_time": "2023-03-09T05:02:01.010Z"
   },
   {
    "duration": 2899,
    "start_time": "2023-03-09T05:02:03.978Z"
   },
   {
    "duration": 7,
    "start_time": "2023-03-09T05:02:06.879Z"
   },
   {
    "duration": 25,
    "start_time": "2023-03-09T05:02:06.888Z"
   },
   {
    "duration": 198,
    "start_time": "2023-03-09T05:02:06.915Z"
   },
   {
    "duration": 5,
    "start_time": "2023-03-09T05:02:07.115Z"
   },
   {
    "duration": 101,
    "start_time": "2023-03-09T05:02:07.121Z"
   },
   {
    "duration": 155,
    "start_time": "2023-03-09T05:02:07.224Z"
   },
   {
    "duration": 26903,
    "start_time": "2023-03-09T05:02:07.381Z"
   },
   {
    "duration": 4485,
    "start_time": "2023-03-09T05:12:37.323Z"
   },
   {
    "duration": 1087,
    "start_time": "2023-03-09T05:12:41.813Z"
   },
   {
    "duration": 330,
    "start_time": "2023-03-09T05:12:42.902Z"
   },
   {
    "duration": 656,
    "start_time": "2023-03-09T05:12:43.234Z"
   },
   {
    "duration": 10,
    "start_time": "2023-03-09T05:12:43.894Z"
   },
   {
    "duration": 5665,
    "start_time": "2023-03-09T05:12:43.907Z"
   },
   {
    "duration": 9,
    "start_time": "2023-03-09T05:12:49.575Z"
   },
   {
    "duration": 406,
    "start_time": "2023-03-09T05:12:49.586Z"
   },
   {
    "duration": 0,
    "start_time": "2023-03-09T05:12:49.994Z"
   },
   {
    "duration": 0,
    "start_time": "2023-03-09T05:12:49.996Z"
   },
   {
    "duration": 0,
    "start_time": "2023-03-09T05:12:49.997Z"
   },
   {
    "duration": 0,
    "start_time": "2023-03-09T05:12:49.999Z"
   },
   {
    "duration": 0,
    "start_time": "2023-03-09T05:12:50.000Z"
   },
   {
    "duration": 0,
    "start_time": "2023-03-09T05:12:50.002Z"
   },
   {
    "duration": 0,
    "start_time": "2023-03-09T05:12:50.004Z"
   },
   {
    "duration": 0,
    "start_time": "2023-03-09T05:12:50.005Z"
   },
   {
    "duration": 0,
    "start_time": "2023-03-09T05:12:50.006Z"
   },
   {
    "duration": 0,
    "start_time": "2023-03-09T05:12:50.007Z"
   },
   {
    "duration": 0,
    "start_time": "2023-03-09T05:12:50.008Z"
   },
   {
    "duration": 0,
    "start_time": "2023-03-09T05:12:50.009Z"
   },
   {
    "duration": 0,
    "start_time": "2023-03-09T05:12:50.011Z"
   },
   {
    "duration": 36,
    "start_time": "2023-03-09T05:12:59.481Z"
   },
   {
    "duration": 4632,
    "start_time": "2023-03-09T05:14:00.330Z"
   },
   {
    "duration": 954,
    "start_time": "2023-03-09T05:14:04.965Z"
   },
   {
    "duration": 363,
    "start_time": "2023-03-09T05:14:05.921Z"
   },
   {
    "duration": 548,
    "start_time": "2023-03-09T05:14:06.286Z"
   },
   {
    "duration": 7,
    "start_time": "2023-03-09T05:14:06.837Z"
   },
   {
    "duration": 5375,
    "start_time": "2023-03-09T05:14:06.846Z"
   },
   {
    "duration": 10,
    "start_time": "2023-03-09T05:14:12.223Z"
   },
   {
    "duration": 51,
    "start_time": "2023-03-09T05:14:12.235Z"
   },
   {
    "duration": 2404,
    "start_time": "2023-03-09T05:14:12.288Z"
   },
   {
    "duration": 38,
    "start_time": "2023-03-09T05:14:14.696Z"
   },
   {
    "duration": 611,
    "start_time": "2023-03-09T05:14:14.736Z"
   },
   {
    "duration": 41485,
    "start_time": "2023-03-09T05:14:15.349Z"
   },
   {
    "duration": 0,
    "start_time": "2023-03-09T05:14:56.838Z"
   },
   {
    "duration": 0,
    "start_time": "2023-03-09T05:14:56.840Z"
   },
   {
    "duration": 0,
    "start_time": "2023-03-09T05:14:56.842Z"
   },
   {
    "duration": 0,
    "start_time": "2023-03-09T05:14:56.844Z"
   },
   {
    "duration": 0,
    "start_time": "2023-03-09T05:14:56.846Z"
   },
   {
    "duration": 0,
    "start_time": "2023-03-09T05:14:56.847Z"
   },
   {
    "duration": 0,
    "start_time": "2023-03-09T05:14:56.849Z"
   },
   {
    "duration": 0,
    "start_time": "2023-03-09T05:14:56.852Z"
   },
   {
    "duration": 0,
    "start_time": "2023-03-09T05:14:56.853Z"
   },
   {
    "duration": 0,
    "start_time": "2023-03-09T05:14:56.854Z"
   },
   {
    "duration": 0,
    "start_time": "2023-03-09T05:14:56.856Z"
   },
   {
    "duration": 6,
    "start_time": "2023-03-09T05:15:05.960Z"
   },
   {
    "duration": 1041,
    "start_time": "2023-03-09T05:15:08.957Z"
   },
   {
    "duration": 390,
    "start_time": "2023-03-09T05:15:10.369Z"
   },
   {
    "duration": 313,
    "start_time": "2023-03-09T05:15:14.348Z"
   },
   {
    "duration": 6,
    "start_time": "2023-03-09T05:15:18.757Z"
   },
   {
    "duration": 5755,
    "start_time": "2023-03-09T05:15:20.077Z"
   },
   {
    "duration": 9,
    "start_time": "2023-03-09T05:15:28.037Z"
   },
   {
    "duration": 43,
    "start_time": "2023-03-09T05:15:30.973Z"
   },
   {
    "duration": 2300,
    "start_time": "2023-03-09T05:15:34.109Z"
   },
   {
    "duration": 37,
    "start_time": "2023-03-09T05:15:48.297Z"
   },
   {
    "duration": 4226,
    "start_time": "2023-03-09T05:19:24.062Z"
   },
   {
    "duration": 983,
    "start_time": "2023-03-09T05:19:28.291Z"
   },
   {
    "duration": 310,
    "start_time": "2023-03-09T05:19:29.276Z"
   },
   {
    "duration": 529,
    "start_time": "2023-03-09T05:19:29.588Z"
   },
   {
    "duration": 8,
    "start_time": "2023-03-09T05:19:30.120Z"
   },
   {
    "duration": 5169,
    "start_time": "2023-03-09T05:19:30.131Z"
   },
   {
    "duration": 10,
    "start_time": "2023-03-09T05:19:35.302Z"
   },
   {
    "duration": 41,
    "start_time": "2023-03-09T05:19:35.315Z"
   },
   {
    "duration": 2339,
    "start_time": "2023-03-09T05:19:35.358Z"
   },
   {
    "duration": 33,
    "start_time": "2023-03-09T05:19:37.700Z"
   },
   {
    "duration": 536,
    "start_time": "2023-03-09T05:19:37.734Z"
   },
   {
    "duration": 4932,
    "start_time": "2023-03-09T05:21:39.838Z"
   },
   {
    "duration": 1286,
    "start_time": "2023-03-09T05:21:44.773Z"
   },
   {
    "duration": 379,
    "start_time": "2023-03-09T05:21:46.061Z"
   },
   {
    "duration": 675,
    "start_time": "2023-03-09T05:21:46.445Z"
   },
   {
    "duration": 10,
    "start_time": "2023-03-09T05:21:47.123Z"
   },
   {
    "duration": 6095,
    "start_time": "2023-03-09T05:21:47.136Z"
   },
   {
    "duration": 11,
    "start_time": "2023-03-09T05:21:53.233Z"
   },
   {
    "duration": 58,
    "start_time": "2023-03-09T05:21:53.246Z"
   },
   {
    "duration": 2220,
    "start_time": "2023-03-09T05:21:53.306Z"
   },
   {
    "duration": 52,
    "start_time": "2023-03-09T05:21:55.530Z"
   },
   {
    "duration": 596,
    "start_time": "2023-03-09T05:21:55.584Z"
   },
   {
    "duration": 4694,
    "start_time": "2023-03-09T05:22:18.906Z"
   },
   {
    "duration": 984,
    "start_time": "2023-03-09T05:22:23.602Z"
   },
   {
    "duration": 362,
    "start_time": "2023-03-09T05:22:24.589Z"
   },
   {
    "duration": 576,
    "start_time": "2023-03-09T05:22:24.953Z"
   },
   {
    "duration": 7,
    "start_time": "2023-03-09T05:22:25.532Z"
   },
   {
    "duration": 5368,
    "start_time": "2023-03-09T05:22:25.541Z"
   },
   {
    "duration": 10,
    "start_time": "2023-03-09T05:22:30.912Z"
   },
   {
    "duration": 68,
    "start_time": "2023-03-09T05:22:30.927Z"
   },
   {
    "duration": 2503,
    "start_time": "2023-03-09T05:22:30.997Z"
   },
   {
    "duration": 46,
    "start_time": "2023-03-09T05:22:33.504Z"
   },
   {
    "duration": 579,
    "start_time": "2023-03-09T05:22:33.553Z"
   },
   {
    "duration": 2186346,
    "start_time": "2023-03-09T05:22:34.134Z"
   },
   {
    "duration": 2435,
    "start_time": "2023-03-09T05:59:00.482Z"
   },
   {
    "duration": 2118,
    "start_time": "2023-03-09T05:59:02.919Z"
   },
   {
    "duration": 12,
    "start_time": "2023-03-09T05:59:05.040Z"
   },
   {
    "duration": 50,
    "start_time": "2023-03-09T05:59:05.055Z"
   },
   {
    "duration": 29,
    "start_time": "2023-03-09T05:59:05.108Z"
   },
   {
    "duration": 183,
    "start_time": "2023-03-09T05:59:05.140Z"
   },
   {
    "duration": 7,
    "start_time": "2023-03-09T05:59:05.325Z"
   },
   {
    "duration": 132,
    "start_time": "2023-03-09T05:59:05.334Z"
   },
   {
    "duration": 164,
    "start_time": "2023-03-09T05:59:05.469Z"
   },
   {
    "duration": 23416,
    "start_time": "2023-03-09T05:59:05.634Z"
   },
   {
    "duration": 0,
    "start_time": "2023-03-09T06:32:30.317Z"
   },
   {
    "duration": 5227,
    "start_time": "2023-03-09T06:32:35.940Z"
   },
   {
    "duration": 1182,
    "start_time": "2023-03-09T06:32:41.172Z"
   },
   {
    "duration": 410,
    "start_time": "2023-03-09T06:32:42.355Z"
   },
   {
    "duration": 737,
    "start_time": "2023-03-09T06:32:42.782Z"
   },
   {
    "duration": 9,
    "start_time": "2023-03-09T06:32:43.521Z"
   },
   {
    "duration": 7507,
    "start_time": "2023-03-09T06:32:43.532Z"
   },
   {
    "duration": 12,
    "start_time": "2023-03-09T06:32:51.043Z"
   },
   {
    "duration": 74,
    "start_time": "2023-03-09T06:32:51.056Z"
   },
   {
    "duration": 3224,
    "start_time": "2023-03-09T06:32:51.134Z"
   },
   {
    "duration": 54,
    "start_time": "2023-03-09T06:32:54.362Z"
   },
   {
    "duration": 743,
    "start_time": "2023-03-09T06:32:54.419Z"
   },
   {
    "duration": 4887,
    "start_time": "2023-03-09T06:33:01.914Z"
   },
   {
    "duration": 1062,
    "start_time": "2023-03-09T06:33:06.805Z"
   },
   {
    "duration": 357,
    "start_time": "2023-03-09T06:33:07.869Z"
   },
   {
    "duration": 646,
    "start_time": "2023-03-09T06:33:08.230Z"
   },
   {
    "duration": 21,
    "start_time": "2023-03-09T06:33:08.879Z"
   },
   {
    "duration": 6436,
    "start_time": "2023-03-09T06:33:08.906Z"
   },
   {
    "duration": 10,
    "start_time": "2023-03-09T06:33:15.344Z"
   },
   {
    "duration": 88,
    "start_time": "2023-03-09T06:33:15.356Z"
   },
   {
    "duration": 3117,
    "start_time": "2023-03-09T06:33:15.446Z"
   },
   {
    "duration": 47,
    "start_time": "2023-03-09T06:33:18.567Z"
   },
   {
    "duration": 653,
    "start_time": "2023-03-09T06:33:18.622Z"
   },
   {
    "duration": 2572,
    "start_time": "2023-03-09T06:33:19.277Z"
   },
   {
    "duration": 2207,
    "start_time": "2023-03-09T06:33:21.851Z"
   },
   {
    "duration": 10,
    "start_time": "2023-03-09T06:33:24.060Z"
   },
   {
    "duration": 83,
    "start_time": "2023-03-09T06:33:24.078Z"
   },
   {
    "duration": 29,
    "start_time": "2023-03-09T06:33:24.163Z"
   },
   {
    "duration": 233,
    "start_time": "2023-03-09T06:33:24.194Z"
   },
   {
    "duration": 5,
    "start_time": "2023-03-09T06:33:24.429Z"
   },
   {
    "duration": 111,
    "start_time": "2023-03-09T06:33:24.436Z"
   },
   {
    "duration": 196,
    "start_time": "2023-03-09T06:33:24.549Z"
   },
   {
    "duration": 1633,
    "start_time": "2023-03-09T06:33:24.748Z"
   },
   {
    "duration": 5,
    "start_time": "2023-03-09T06:33:59.257Z"
   },
   {
    "duration": 614,
    "start_time": "2023-03-09T06:34:15.587Z"
   },
   {
    "duration": 50,
    "start_time": "2023-03-09T06:45:40.621Z"
   },
   {
    "duration": 41,
    "start_time": "2023-03-09T06:46:15.797Z"
   },
   {
    "duration": 71,
    "start_time": "2023-03-09T06:47:08.372Z"
   },
   {
    "duration": 35,
    "start_time": "2023-03-09T06:52:18.589Z"
   },
   {
    "duration": 53237,
    "start_time": "2023-03-09T06:52:19.460Z"
   },
   {
    "duration": 34681,
    "start_time": "2023-03-09T06:59:48.530Z"
   },
   {
    "duration": 503,
    "start_time": "2023-03-09T07:02:31.992Z"
   },
   {
    "duration": 5,
    "start_time": "2023-03-09T07:03:42.553Z"
   },
   {
    "duration": 132,
    "start_time": "2023-03-09T07:03:43.274Z"
   },
   {
    "duration": 191,
    "start_time": "2023-03-09T07:03:44.330Z"
   },
   {
    "duration": 38428,
    "start_time": "2023-03-09T07:03:47.514Z"
   },
   {
    "duration": 525,
    "start_time": "2023-03-09T07:04:32.708Z"
   },
   {
    "duration": 120,
    "start_time": "2023-03-09T07:04:52.534Z"
   },
   {
    "duration": 182,
    "start_time": "2023-03-09T07:04:53.724Z"
   },
   {
    "duration": 35360,
    "start_time": "2023-03-09T07:04:57.618Z"
   },
   {
    "duration": 512,
    "start_time": "2023-03-09T07:05:32.981Z"
   },
   {
    "duration": 130,
    "start_time": "2023-03-09T07:05:47.866Z"
   },
   {
    "duration": 179,
    "start_time": "2023-03-09T07:05:48.664Z"
   },
   {
    "duration": 33054,
    "start_time": "2023-03-09T07:05:52.199Z"
   },
   {
    "duration": 380,
    "start_time": "2023-03-09T07:06:25.256Z"
   },
   {
    "duration": 134,
    "start_time": "2023-03-09T07:06:38.761Z"
   },
   {
    "duration": 166,
    "start_time": "2023-03-09T07:06:39.605Z"
   },
   {
    "duration": 33015,
    "start_time": "2023-03-09T07:06:42.220Z"
   },
   {
    "duration": 162128,
    "start_time": "2023-03-09T07:07:15.237Z"
   },
   {
    "duration": 36,
    "start_time": "2023-03-09T07:14:24.938Z"
   },
   {
    "duration": 5095,
    "start_time": "2023-03-09T07:16:08.160Z"
   },
   {
    "duration": 1123,
    "start_time": "2023-03-09T07:16:13.257Z"
   },
   {
    "duration": 367,
    "start_time": "2023-03-09T07:16:14.384Z"
   },
   {
    "duration": 679,
    "start_time": "2023-03-09T07:16:14.754Z"
   },
   {
    "duration": 7,
    "start_time": "2023-03-09T07:16:15.434Z"
   },
   {
    "duration": 6834,
    "start_time": "2023-03-09T07:16:15.444Z"
   },
   {
    "duration": 26,
    "start_time": "2023-03-09T07:16:22.284Z"
   },
   {
    "duration": 45,
    "start_time": "2023-03-09T07:16:22.318Z"
   },
   {
    "duration": 2959,
    "start_time": "2023-03-09T07:16:22.365Z"
   },
   {
    "duration": 33,
    "start_time": "2023-03-09T07:16:25.328Z"
   },
   {
    "duration": 698,
    "start_time": "2023-03-09T07:16:25.364Z"
   },
   {
    "duration": 2786,
    "start_time": "2023-03-09T07:16:26.063Z"
   },
   {
    "duration": 2401,
    "start_time": "2023-03-09T07:16:28.851Z"
   },
   {
    "duration": 9,
    "start_time": "2023-03-09T07:16:31.254Z"
   },
   {
    "duration": 100,
    "start_time": "2023-03-09T07:16:31.265Z"
   },
   {
    "duration": 85,
    "start_time": "2023-03-09T07:16:31.367Z"
   },
   {
    "duration": 252,
    "start_time": "2023-03-09T07:16:31.454Z"
   },
   {
    "duration": 8,
    "start_time": "2023-03-09T07:16:31.714Z"
   },
   {
    "duration": 126,
    "start_time": "2023-03-09T07:16:31.725Z"
   },
   {
    "duration": 183,
    "start_time": "2023-03-09T07:16:31.853Z"
   },
   {
    "duration": 29612,
    "start_time": "2023-03-09T07:16:32.039Z"
   },
   {
    "duration": 471,
    "start_time": "2023-03-09T07:17:01.654Z"
   },
   {
    "duration": 4477,
    "start_time": "2023-03-09T07:38:00.331Z"
   },
   {
    "duration": 1006,
    "start_time": "2023-03-09T07:38:04.810Z"
   },
   {
    "duration": 344,
    "start_time": "2023-03-09T07:38:05.818Z"
   },
   {
    "duration": 632,
    "start_time": "2023-03-09T07:38:06.164Z"
   },
   {
    "duration": 7,
    "start_time": "2023-03-09T07:38:06.798Z"
   },
   {
    "duration": 5985,
    "start_time": "2023-03-09T07:38:06.807Z"
   },
   {
    "duration": 9,
    "start_time": "2023-03-09T07:38:12.794Z"
   },
   {
    "duration": 37,
    "start_time": "2023-03-09T07:38:12.805Z"
   },
   {
    "duration": 2478,
    "start_time": "2023-03-09T07:38:12.844Z"
   },
   {
    "duration": 36,
    "start_time": "2023-03-09T07:38:15.327Z"
   },
   {
    "duration": 632,
    "start_time": "2023-03-09T07:38:15.364Z"
   },
   {
    "duration": 2635,
    "start_time": "2023-03-09T07:38:15.999Z"
   },
   {
    "duration": 2200,
    "start_time": "2023-03-09T07:38:18.636Z"
   },
   {
    "duration": 13,
    "start_time": "2023-03-09T07:38:20.838Z"
   },
   {
    "duration": 49,
    "start_time": "2023-03-09T07:38:20.853Z"
   },
   {
    "duration": 27,
    "start_time": "2023-03-09T07:38:20.904Z"
   },
   {
    "duration": 175,
    "start_time": "2023-03-09T07:38:20.933Z"
   },
   {
    "duration": 5,
    "start_time": "2023-03-09T07:38:21.110Z"
   },
   {
    "duration": 89,
    "start_time": "2023-03-09T07:38:21.116Z"
   },
   {
    "duration": 148,
    "start_time": "2023-03-09T07:38:21.207Z"
   },
   {
    "duration": 25231,
    "start_time": "2023-03-09T07:38:21.357Z"
   },
   {
    "duration": 573,
    "start_time": "2023-03-09T07:38:46.591Z"
   },
   {
    "duration": 4310,
    "start_time": "2023-03-09T07:45:53.038Z"
   },
   {
    "duration": 983,
    "start_time": "2023-03-09T07:45:57.350Z"
   },
   {
    "duration": 325,
    "start_time": "2023-03-09T07:45:58.335Z"
   },
   {
    "duration": 594,
    "start_time": "2023-03-09T07:45:58.661Z"
   },
   {
    "duration": 7,
    "start_time": "2023-03-09T07:45:59.257Z"
   },
   {
    "duration": 5600,
    "start_time": "2023-03-09T07:45:59.266Z"
   },
   {
    "duration": 22,
    "start_time": "2023-03-09T07:46:04.868Z"
   },
   {
    "duration": 47,
    "start_time": "2023-03-09T07:46:04.892Z"
   },
   {
    "duration": 2574,
    "start_time": "2023-03-09T07:46:04.941Z"
   },
   {
    "duration": 33,
    "start_time": "2023-03-09T07:46:07.518Z"
   },
   {
    "duration": 565,
    "start_time": "2023-03-09T07:46:07.552Z"
   },
   {
    "duration": 2249,
    "start_time": "2023-03-09T07:46:08.119Z"
   },
   {
    "duration": 2132,
    "start_time": "2023-03-09T07:46:10.370Z"
   },
   {
    "duration": 9,
    "start_time": "2023-03-09T07:46:12.505Z"
   },
   {
    "duration": 40,
    "start_time": "2023-03-09T07:46:12.516Z"
   },
   {
    "duration": 38,
    "start_time": "2023-03-09T07:46:12.558Z"
   },
   {
    "duration": 168,
    "start_time": "2023-03-09T07:46:12.599Z"
   },
   {
    "duration": 12,
    "start_time": "2023-03-09T07:46:12.774Z"
   },
   {
    "duration": 69,
    "start_time": "2023-03-09T07:46:12.789Z"
   },
   {
    "duration": 158,
    "start_time": "2023-03-09T07:46:12.860Z"
   },
   {
    "duration": 4339,
    "start_time": "2023-03-09T07:48:15.412Z"
   },
   {
    "duration": 1001,
    "start_time": "2023-03-09T07:48:19.753Z"
   },
   {
    "duration": 327,
    "start_time": "2023-03-09T07:48:20.756Z"
   },
   {
    "duration": 543,
    "start_time": "2023-03-09T07:48:21.093Z"
   },
   {
    "duration": 7,
    "start_time": "2023-03-09T07:48:21.638Z"
   },
   {
    "duration": 5459,
    "start_time": "2023-03-09T07:48:21.646Z"
   },
   {
    "duration": 9,
    "start_time": "2023-03-09T07:48:27.107Z"
   },
   {
    "duration": 42,
    "start_time": "2023-03-09T07:48:27.118Z"
   },
   {
    "duration": 2594,
    "start_time": "2023-03-09T07:48:27.162Z"
   },
   {
    "duration": 42,
    "start_time": "2023-03-09T07:48:29.759Z"
   },
   {
    "duration": 609,
    "start_time": "2023-03-09T07:48:29.804Z"
   },
   {
    "duration": 2431,
    "start_time": "2023-03-09T07:48:30.417Z"
   },
   {
    "duration": 2162,
    "start_time": "2023-03-09T07:48:32.851Z"
   },
   {
    "duration": 9,
    "start_time": "2023-03-09T07:48:35.016Z"
   },
   {
    "duration": 36,
    "start_time": "2023-03-09T07:48:35.028Z"
   },
   {
    "duration": 31,
    "start_time": "2023-03-09T07:48:35.073Z"
   },
   {
    "duration": 184,
    "start_time": "2023-03-09T07:48:35.106Z"
   },
   {
    "duration": 6,
    "start_time": "2023-03-09T07:48:35.292Z"
   },
   {
    "duration": 109,
    "start_time": "2023-03-09T07:48:35.300Z"
   },
   {
    "duration": 148,
    "start_time": "2023-03-09T07:48:35.411Z"
   },
   {
    "duration": 800917,
    "start_time": "2023-03-09T07:48:35.561Z"
   },
   {
    "duration": 518815,
    "start_time": "2023-03-09T08:01:56.481Z"
   },
   {
    "duration": 162175,
    "start_time": "2023-03-09T08:17:18.080Z"
   },
   {
    "duration": 160215,
    "start_time": "2023-03-09T08:22:43.181Z"
   },
   {
    "duration": 163663,
    "start_time": "2023-03-09T08:31:42.949Z"
   },
   {
    "duration": 184339,
    "start_time": "2023-03-09T08:56:30.282Z"
   },
   {
    "duration": 4540,
    "start_time": "2023-03-09T17:32:58.842Z"
   },
   {
    "duration": 3531,
    "start_time": "2023-03-09T17:33:03.384Z"
   },
   {
    "duration": 293,
    "start_time": "2023-03-09T17:33:06.918Z"
   },
   {
    "duration": 732,
    "start_time": "2023-03-09T17:33:07.213Z"
   },
   {
    "duration": 7,
    "start_time": "2023-03-09T17:33:07.948Z"
   },
   {
    "duration": 4728,
    "start_time": "2023-03-09T17:33:07.957Z"
   },
   {
    "duration": 9,
    "start_time": "2023-03-09T17:33:12.687Z"
   },
   {
    "duration": 41,
    "start_time": "2023-03-09T17:33:12.697Z"
   },
   {
    "duration": 2243,
    "start_time": "2023-03-09T17:33:12.739Z"
   },
   {
    "duration": 41,
    "start_time": "2023-03-09T17:33:14.985Z"
   },
   {
    "duration": 505,
    "start_time": "2023-03-09T17:33:15.029Z"
   },
   {
    "duration": 1926,
    "start_time": "2023-03-09T17:33:15.536Z"
   },
   {
    "duration": 1945,
    "start_time": "2023-03-09T17:33:17.464Z"
   },
   {
    "duration": 16,
    "start_time": "2023-03-09T17:33:19.412Z"
   },
   {
    "duration": 38,
    "start_time": "2023-03-09T17:33:19.430Z"
   },
   {
    "duration": 21,
    "start_time": "2023-03-09T17:33:19.470Z"
   },
   {
    "duration": 194,
    "start_time": "2023-03-09T17:33:19.493Z"
   },
   {
    "duration": 4,
    "start_time": "2023-03-09T17:33:19.690Z"
   },
   {
    "duration": 112,
    "start_time": "2023-03-09T17:33:19.696Z"
   },
   {
    "duration": 152,
    "start_time": "2023-03-09T17:33:19.811Z"
   },
   {
    "duration": 175954,
    "start_time": "2023-03-09T17:33:19.965Z"
   },
   {
    "duration": 6483056,
    "start_time": "2023-03-09T17:36:55.553Z"
   },
   {
    "duration": 95564,
    "start_time": "2023-03-09T19:25:34.984Z"
   },
   {
    "duration": 12160,
    "start_time": "2023-03-09T19:27:40.564Z"
   },
   {
    "duration": 11903,
    "start_time": "2023-03-09T19:30:49.017Z"
   },
   {
    "duration": 11968,
    "start_time": "2023-03-09T19:31:09.646Z"
   },
   {
    "duration": 7327,
    "start_time": "2023-03-09T19:33:49.961Z"
   },
   {
    "duration": 10292,
    "start_time": "2023-03-09T19:35:36.985Z"
   },
   {
    "duration": 10659,
    "start_time": "2023-03-09T19:36:21.016Z"
   },
   {
    "duration": 31875,
    "start_time": "2023-03-09T19:39:04.562Z"
   },
   {
    "duration": 44458,
    "start_time": "2023-03-09T19:40:37.516Z"
   },
   {
    "duration": 11727,
    "start_time": "2023-03-09T19:41:52.765Z"
   },
   {
    "duration": 43872,
    "start_time": "2023-03-09T19:45:38.732Z"
   },
   {
    "duration": 72,
    "start_time": "2023-03-09T19:50:23.398Z"
   },
   {
    "duration": 29,
    "start_time": "2023-03-09T19:50:42.958Z"
   },
   {
    "duration": 3822,
    "start_time": "2023-03-09T19:56:23.615Z"
   },
   {
    "duration": 785,
    "start_time": "2023-03-09T19:56:27.438Z"
   },
   {
    "duration": 281,
    "start_time": "2023-03-09T19:56:28.225Z"
   },
   {
    "duration": 522,
    "start_time": "2023-03-09T19:56:28.508Z"
   },
   {
    "duration": 10,
    "start_time": "2023-03-09T19:56:29.034Z"
   },
   {
    "duration": 4541,
    "start_time": "2023-03-09T19:56:29.046Z"
   },
   {
    "duration": 9,
    "start_time": "2023-03-09T19:56:33.590Z"
   },
   {
    "duration": 41,
    "start_time": "2023-03-09T19:56:33.601Z"
   },
   {
    "duration": 2069,
    "start_time": "2023-03-09T19:56:33.644Z"
   },
   {
    "duration": 30,
    "start_time": "2023-03-09T19:56:35.716Z"
   },
   {
    "duration": 492,
    "start_time": "2023-03-09T19:56:35.748Z"
   },
   {
    "duration": 1871,
    "start_time": "2023-03-09T19:56:36.242Z"
   },
   {
    "duration": 1952,
    "start_time": "2023-03-09T19:56:38.115Z"
   },
   {
    "duration": 8,
    "start_time": "2023-03-09T19:56:40.071Z"
   },
   {
    "duration": 32,
    "start_time": "2023-03-09T19:56:40.080Z"
   },
   {
    "duration": 25,
    "start_time": "2023-03-09T19:56:40.113Z"
   },
   {
    "duration": 194,
    "start_time": "2023-03-09T19:56:40.140Z"
   },
   {
    "duration": 6,
    "start_time": "2023-03-09T19:56:40.336Z"
   },
   {
    "duration": 119,
    "start_time": "2023-03-09T19:56:40.344Z"
   },
   {
    "duration": 145,
    "start_time": "2023-03-09T19:56:40.467Z"
   },
   {
    "duration": 134189,
    "start_time": "2023-03-09T19:56:40.620Z"
   },
   {
    "duration": 3941,
    "start_time": "2023-03-09T20:05:10.408Z"
   },
   {
    "duration": 768,
    "start_time": "2023-03-09T20:05:14.351Z"
   },
   {
    "duration": 275,
    "start_time": "2023-03-09T20:05:15.121Z"
   },
   {
    "duration": 509,
    "start_time": "2023-03-09T20:05:15.398Z"
   },
   {
    "duration": 6,
    "start_time": "2023-03-09T20:05:15.909Z"
   },
   {
    "duration": 4537,
    "start_time": "2023-03-09T20:05:15.917Z"
   },
   {
    "duration": 10,
    "start_time": "2023-03-09T20:05:20.457Z"
   },
   {
    "duration": 37,
    "start_time": "2023-03-09T20:05:20.469Z"
   },
   {
    "duration": 2211,
    "start_time": "2023-03-09T20:05:20.509Z"
   },
   {
    "duration": 30,
    "start_time": "2023-03-09T20:05:22.723Z"
   },
   {
    "duration": 517,
    "start_time": "2023-03-09T20:05:22.755Z"
   },
   {
    "duration": 2104,
    "start_time": "2023-03-09T20:05:23.273Z"
   },
   {
    "duration": 1971,
    "start_time": "2023-03-09T20:05:25.379Z"
   },
   {
    "duration": 10,
    "start_time": "2023-03-09T20:05:27.354Z"
   },
   {
    "duration": 34,
    "start_time": "2023-03-09T20:05:27.366Z"
   },
   {
    "duration": 31,
    "start_time": "2023-03-09T20:05:27.402Z"
   },
   {
    "duration": 153,
    "start_time": "2023-03-09T20:05:27.435Z"
   },
   {
    "duration": 4,
    "start_time": "2023-03-09T20:05:27.589Z"
   },
   {
    "duration": 85,
    "start_time": "2023-03-09T20:05:27.595Z"
   },
   {
    "duration": 149,
    "start_time": "2023-03-09T20:05:27.682Z"
   },
   {
    "duration": 133661,
    "start_time": "2023-03-09T20:05:27.832Z"
   },
   {
    "duration": 106,
    "start_time": "2023-03-09T20:07:41.495Z"
   },
   {
    "duration": 0,
    "start_time": "2023-03-09T20:07:41.602Z"
   },
   {
    "duration": 71,
    "start_time": "2023-03-09T20:08:46.418Z"
   },
   {
    "duration": 230465,
    "start_time": "2023-03-09T20:10:15.801Z"
   },
   {
    "duration": 45071,
    "start_time": "2023-03-09T20:14:12.031Z"
   },
   {
    "duration": 3821,
    "start_time": "2023-03-09T20:20:11.022Z"
   },
   {
    "duration": 776,
    "start_time": "2023-03-09T20:20:14.845Z"
   },
   {
    "duration": 305,
    "start_time": "2023-03-09T20:20:15.623Z"
   },
   {
    "duration": 509,
    "start_time": "2023-03-09T20:20:15.931Z"
   },
   {
    "duration": 7,
    "start_time": "2023-03-09T20:20:16.442Z"
   },
   {
    "duration": 4825,
    "start_time": "2023-03-09T20:20:16.451Z"
   },
   {
    "duration": 10,
    "start_time": "2023-03-09T20:20:21.277Z"
   },
   {
    "duration": 41,
    "start_time": "2023-03-09T20:20:21.289Z"
   },
   {
    "duration": 2284,
    "start_time": "2023-03-09T20:20:21.332Z"
   },
   {
    "duration": 32,
    "start_time": "2023-03-09T20:20:23.620Z"
   },
   {
    "duration": 491,
    "start_time": "2023-03-09T20:20:23.654Z"
   },
   {
    "duration": 1840,
    "start_time": "2023-03-09T20:20:24.147Z"
   },
   {
    "duration": 1958,
    "start_time": "2023-03-09T20:20:25.989Z"
   },
   {
    "duration": 7,
    "start_time": "2023-03-09T20:20:27.950Z"
   },
   {
    "duration": 34,
    "start_time": "2023-03-09T20:20:27.959Z"
   },
   {
    "duration": 33,
    "start_time": "2023-03-09T20:20:27.995Z"
   },
   {
    "duration": 168,
    "start_time": "2023-03-09T20:20:28.030Z"
   },
   {
    "duration": 4,
    "start_time": "2023-03-09T20:20:28.200Z"
   },
   {
    "duration": 97,
    "start_time": "2023-03-09T20:20:28.206Z"
   },
   {
    "duration": 139,
    "start_time": "2023-03-09T20:20:28.305Z"
   },
   {
    "duration": 136184,
    "start_time": "2023-03-09T20:20:28.445Z"
   },
   {
    "duration": 5680,
    "start_time": "2023-03-10T06:33:10.066Z"
   },
   {
    "duration": 2346,
    "start_time": "2023-03-10T06:33:15.748Z"
   },
   {
    "duration": 300,
    "start_time": "2023-03-10T06:33:18.096Z"
   },
   {
    "duration": 771,
    "start_time": "2023-03-10T06:33:18.399Z"
   },
   {
    "duration": 7,
    "start_time": "2023-03-10T06:33:19.172Z"
   },
   {
    "duration": 4520,
    "start_time": "2023-03-10T06:33:19.180Z"
   },
   {
    "duration": 9,
    "start_time": "2023-03-10T06:33:23.702Z"
   },
   {
    "duration": 47,
    "start_time": "2023-03-10T06:33:23.713Z"
   },
   {
    "duration": 2347,
    "start_time": "2023-03-10T06:33:23.762Z"
   },
   {
    "duration": 44,
    "start_time": "2023-03-10T06:33:26.114Z"
   },
   {
    "duration": 660,
    "start_time": "2023-03-10T06:33:26.160Z"
   },
   {
    "duration": 2235,
    "start_time": "2023-03-10T06:33:26.822Z"
   },
   {
    "duration": 2566,
    "start_time": "2023-03-10T06:33:29.058Z"
   },
   {
    "duration": 8,
    "start_time": "2023-03-10T06:33:31.627Z"
   },
   {
    "duration": 109,
    "start_time": "2023-03-10T06:33:31.637Z"
   },
   {
    "duration": 56,
    "start_time": "2023-03-10T06:33:31.748Z"
   },
   {
    "duration": 165,
    "start_time": "2023-03-10T06:33:31.806Z"
   },
   {
    "duration": 5,
    "start_time": "2023-03-10T06:33:31.973Z"
   },
   {
    "duration": 194,
    "start_time": "2023-03-10T06:33:31.980Z"
   },
   {
    "duration": 243,
    "start_time": "2023-03-10T06:33:32.176Z"
   },
   {
    "duration": 145166,
    "start_time": "2023-03-10T06:33:32.421Z"
   },
   {
    "duration": 278879,
    "start_time": "2023-03-10T06:35:57.590Z"
   },
   {
    "duration": 56731,
    "start_time": "2023-03-10T06:40:36.471Z"
   },
   {
    "duration": 2346521,
    "start_time": "2023-03-10T06:41:33.204Z"
   },
   {
    "duration": 204630,
    "start_time": "2023-03-10T07:21:44.359Z"
   },
   {
    "duration": 4638,
    "start_time": "2023-03-10T07:31:18.375Z"
   },
   {
    "duration": 853,
    "start_time": "2023-03-10T07:31:23.014Z"
   },
   {
    "duration": 333,
    "start_time": "2023-03-10T07:31:23.869Z"
   },
   {
    "duration": 214,
    "start_time": "2023-03-10T07:31:24.205Z"
   },
   {
    "duration": 4,
    "start_time": "2023-03-10T07:31:24.421Z"
   },
   {
    "duration": 4939,
    "start_time": "2023-03-10T07:31:24.427Z"
   },
   {
    "duration": 10,
    "start_time": "2023-03-10T07:31:29.369Z"
   },
   {
    "duration": 58,
    "start_time": "2023-03-10T07:31:29.381Z"
   },
   {
    "duration": 598,
    "start_time": "2023-03-10T07:31:29.447Z"
   },
   {
    "duration": 3128,
    "start_time": "2023-03-10T07:31:30.048Z"
   },
   {
    "duration": 3328,
    "start_time": "2023-03-10T07:31:33.177Z"
   },
   {
    "duration": 8,
    "start_time": "2023-03-10T07:31:36.507Z"
   },
   {
    "duration": 173,
    "start_time": "2023-03-10T07:31:36.517Z"
   },
   {
    "duration": 55,
    "start_time": "2023-03-10T07:31:36.693Z"
   },
   {
    "duration": 221,
    "start_time": "2023-03-10T07:31:36.751Z"
   },
   {
    "duration": 5,
    "start_time": "2023-03-10T07:31:36.974Z"
   },
   {
    "duration": 138,
    "start_time": "2023-03-10T07:31:36.982Z"
   },
   {
    "duration": 217,
    "start_time": "2023-03-10T07:31:37.123Z"
   },
   {
    "duration": 13,
    "start_time": "2023-03-10T07:31:37.342Z"
   },
   {
    "duration": 202111,
    "start_time": "2023-03-10T07:31:37.358Z"
   },
   {
    "duration": 0,
    "start_time": "2023-03-10T07:34:59.471Z"
   },
   {
    "duration": 0,
    "start_time": "2023-03-10T07:34:59.472Z"
   },
   {
    "duration": 0,
    "start_time": "2023-03-10T07:34:59.473Z"
   },
   {
    "duration": 61097,
    "start_time": "2023-03-10T07:35:07.715Z"
   },
   {
    "duration": 269811,
    "start_time": "2023-03-10T07:36:30.155Z"
   },
   {
    "duration": 62950,
    "start_time": "2023-03-10T07:41:50.030Z"
   },
   {
    "duration": 4937,
    "start_time": "2023-03-10T08:12:23.950Z"
   },
   {
    "duration": 922,
    "start_time": "2023-03-10T08:12:28.889Z"
   },
   {
    "duration": 357,
    "start_time": "2023-03-10T08:12:29.813Z"
   },
   {
    "duration": 210,
    "start_time": "2023-03-10T08:12:30.172Z"
   },
   {
    "duration": 4,
    "start_time": "2023-03-10T08:12:30.386Z"
   },
   {
    "duration": 5176,
    "start_time": "2023-03-10T08:12:30.392Z"
   },
   {
    "duration": 8,
    "start_time": "2023-03-10T08:12:35.570Z"
   },
   {
    "duration": 69,
    "start_time": "2023-03-10T08:12:35.580Z"
   },
   {
    "duration": 730,
    "start_time": "2023-03-10T08:12:35.650Z"
   },
   {
    "duration": 5325,
    "start_time": "2023-03-10T08:12:36.383Z"
   },
   {
    "duration": 5951,
    "start_time": "2023-03-10T08:12:41.711Z"
   },
   {
    "duration": 9,
    "start_time": "2023-03-10T08:12:47.664Z"
   },
   {
    "duration": 58,
    "start_time": "2023-03-10T08:12:47.675Z"
   },
   {
    "duration": 41,
    "start_time": "2023-03-10T08:12:47.737Z"
   },
   {
    "duration": 173,
    "start_time": "2023-03-10T08:12:47.780Z"
   },
   {
    "duration": 4,
    "start_time": "2023-03-10T08:12:47.956Z"
   },
   {
    "duration": 131,
    "start_time": "2023-03-10T08:12:47.962Z"
   },
   {
    "duration": 151,
    "start_time": "2023-03-10T08:12:48.095Z"
   },
   {
    "duration": 2,
    "start_time": "2023-03-10T08:12:48.248Z"
   },
   {
    "duration": 65643,
    "start_time": "2023-03-10T08:12:48.252Z"
   },
   {
    "duration": 71023,
    "start_time": "2023-03-10T08:13:53.897Z"
   },
   {
    "duration": 47621,
    "start_time": "2023-03-10T08:15:04.922Z"
   },
   {
    "duration": 4769,
    "start_time": "2023-03-10T08:18:03.400Z"
   },
   {
    "duration": 854,
    "start_time": "2023-03-10T08:18:08.172Z"
   },
   {
    "duration": 322,
    "start_time": "2023-03-10T08:18:09.028Z"
   },
   {
    "duration": 179,
    "start_time": "2023-03-10T08:18:09.352Z"
   },
   {
    "duration": 3,
    "start_time": "2023-03-10T08:18:09.534Z"
   },
   {
    "duration": 4688,
    "start_time": "2023-03-10T08:18:09.539Z"
   },
   {
    "duration": 9,
    "start_time": "2023-03-10T08:18:14.230Z"
   },
   {
    "duration": 52,
    "start_time": "2023-03-10T08:18:14.241Z"
   },
   {
    "duration": 571,
    "start_time": "2023-03-10T08:18:14.295Z"
   },
   {
    "duration": 2526,
    "start_time": "2023-03-10T08:18:14.868Z"
   },
   {
    "duration": 2923,
    "start_time": "2023-03-10T08:18:17.396Z"
   },
   {
    "duration": 10,
    "start_time": "2023-03-10T08:18:20.321Z"
   },
   {
    "duration": 43,
    "start_time": "2023-03-10T08:18:20.332Z"
   },
   {
    "duration": 23,
    "start_time": "2023-03-10T08:18:20.378Z"
   },
   {
    "duration": 185,
    "start_time": "2023-03-10T08:18:20.403Z"
   },
   {
    "duration": 5,
    "start_time": "2023-03-10T08:18:20.591Z"
   },
   {
    "duration": 135,
    "start_time": "2023-03-10T08:18:20.597Z"
   },
   {
    "duration": 164,
    "start_time": "2023-03-10T08:18:20.735Z"
   },
   {
    "duration": 4,
    "start_time": "2023-03-10T08:18:20.901Z"
   },
   {
    "duration": 65364,
    "start_time": "2023-03-10T08:18:20.907Z"
   },
   {
    "duration": 4790,
    "start_time": "2023-03-10T08:20:23.032Z"
   },
   {
    "duration": 865,
    "start_time": "2023-03-10T08:20:27.825Z"
   },
   {
    "duration": 323,
    "start_time": "2023-03-10T08:20:28.691Z"
   },
   {
    "duration": 196,
    "start_time": "2023-03-10T08:20:29.015Z"
   },
   {
    "duration": 4,
    "start_time": "2023-03-10T08:20:29.213Z"
   },
   {
    "duration": 4484,
    "start_time": "2023-03-10T08:20:29.218Z"
   },
   {
    "duration": 8,
    "start_time": "2023-03-10T08:20:33.704Z"
   },
   {
    "duration": 52,
    "start_time": "2023-03-10T08:20:33.714Z"
   },
   {
    "duration": 564,
    "start_time": "2023-03-10T08:20:33.767Z"
   },
   {
    "duration": 2743,
    "start_time": "2023-03-10T08:20:34.335Z"
   },
   {
    "duration": 3020,
    "start_time": "2023-03-10T08:20:37.080Z"
   },
   {
    "duration": 8,
    "start_time": "2023-03-10T08:20:40.103Z"
   },
   {
    "duration": 48,
    "start_time": "2023-03-10T08:20:40.113Z"
   },
   {
    "duration": 24,
    "start_time": "2023-03-10T08:20:40.163Z"
   },
   {
    "duration": 196,
    "start_time": "2023-03-10T08:20:40.189Z"
   },
   {
    "duration": 4,
    "start_time": "2023-03-10T08:20:40.388Z"
   },
   {
    "duration": 131,
    "start_time": "2023-03-10T08:20:40.395Z"
   },
   {
    "duration": 152,
    "start_time": "2023-03-10T08:20:40.529Z"
   },
   {
    "duration": 3,
    "start_time": "2023-03-10T08:20:40.683Z"
   },
   {
    "duration": 64205,
    "start_time": "2023-03-10T08:20:40.688Z"
   },
   {
    "duration": 64973,
    "start_time": "2023-03-10T08:21:44.895Z"
   },
   {
    "duration": 46765,
    "start_time": "2023-03-10T08:22:49.870Z"
   },
   {
    "duration": 295313,
    "start_time": "2023-03-10T08:23:36.637Z"
   },
   {
    "duration": 5503,
    "start_time": "2023-03-10T15:08:40.389Z"
   },
   {
    "duration": 3173,
    "start_time": "2023-03-10T15:08:45.897Z"
   },
   {
    "duration": 373,
    "start_time": "2023-03-10T15:08:49.071Z"
   },
   {
    "duration": 269,
    "start_time": "2023-03-10T15:08:49.446Z"
   },
   {
    "duration": 3,
    "start_time": "2023-03-10T15:08:49.718Z"
   },
   {
    "duration": 6122,
    "start_time": "2023-03-10T15:08:49.723Z"
   },
   {
    "duration": 9,
    "start_time": "2023-03-10T15:08:55.847Z"
   },
   {
    "duration": 51,
    "start_time": "2023-03-10T15:08:55.857Z"
   },
   {
    "duration": 654,
    "start_time": "2023-03-10T15:08:55.910Z"
   },
   {
    "duration": 3072,
    "start_time": "2023-03-10T15:08:56.566Z"
   },
   {
    "duration": 3314,
    "start_time": "2023-03-10T15:08:59.640Z"
   },
   {
    "duration": 9,
    "start_time": "2023-03-10T15:09:02.956Z"
   },
   {
    "duration": 86,
    "start_time": "2023-03-10T15:09:02.967Z"
   },
   {
    "duration": 40,
    "start_time": "2023-03-10T15:09:03.059Z"
   },
   {
    "duration": 234,
    "start_time": "2023-03-10T15:09:03.106Z"
   },
   {
    "duration": 5,
    "start_time": "2023-03-10T15:09:03.342Z"
   },
   {
    "duration": 154,
    "start_time": "2023-03-10T15:09:03.349Z"
   },
   {
    "duration": 152,
    "start_time": "2023-03-10T15:09:03.505Z"
   },
   {
    "duration": 3,
    "start_time": "2023-03-10T15:09:03.659Z"
   },
   {
    "duration": 69295,
    "start_time": "2023-03-10T15:09:03.664Z"
   },
   {
    "duration": 67251,
    "start_time": "2023-03-10T15:10:12.961Z"
   },
   {
    "duration": 50649,
    "start_time": "2023-03-10T15:11:20.213Z"
   },
   {
    "duration": 5334,
    "start_time": "2023-03-10T15:16:41.703Z"
   },
   {
    "duration": 1174,
    "start_time": "2023-03-10T15:16:47.040Z"
   },
   {
    "duration": 373,
    "start_time": "2023-03-10T15:16:48.217Z"
   },
   {
    "duration": 229,
    "start_time": "2023-03-10T15:16:48.593Z"
   },
   {
    "duration": 4,
    "start_time": "2023-03-10T15:16:48.825Z"
   },
   {
    "duration": 6529,
    "start_time": "2023-03-10T15:16:48.831Z"
   },
   {
    "duration": 14,
    "start_time": "2023-03-10T15:16:55.362Z"
   },
   {
    "duration": 77,
    "start_time": "2023-03-10T15:16:55.379Z"
   },
   {
    "duration": 679,
    "start_time": "2023-03-10T15:16:55.459Z"
   },
   {
    "duration": 3329,
    "start_time": "2023-03-10T15:16:56.140Z"
   },
   {
    "duration": 3280,
    "start_time": "2023-03-10T15:16:59.471Z"
   },
   {
    "duration": 11,
    "start_time": "2023-03-10T15:17:02.753Z"
   },
   {
    "duration": 86,
    "start_time": "2023-03-10T15:17:02.766Z"
   },
   {
    "duration": 60,
    "start_time": "2023-03-10T15:17:02.857Z"
   },
   {
    "duration": 205,
    "start_time": "2023-03-10T15:17:02.920Z"
   },
   {
    "duration": 6,
    "start_time": "2023-03-10T15:17:03.128Z"
   },
   {
    "duration": 119,
    "start_time": "2023-03-10T15:17:03.136Z"
   },
   {
    "duration": 180,
    "start_time": "2023-03-10T15:17:03.257Z"
   },
   {
    "duration": 4,
    "start_time": "2023-03-10T15:17:03.439Z"
   },
   {
    "duration": 72404,
    "start_time": "2023-03-10T15:17:03.445Z"
   },
   {
    "duration": 4,
    "start_time": "2023-03-10T15:18:15.851Z"
   },
   {
    "duration": 72219,
    "start_time": "2023-03-10T15:18:15.856Z"
   },
   {
    "duration": 52601,
    "start_time": "2023-03-10T15:19:28.086Z"
   },
   {
    "duration": 5128,
    "start_time": "2023-03-10T15:23:21.205Z"
   },
   {
    "duration": 1085,
    "start_time": "2023-03-10T15:23:26.336Z"
   },
   {
    "duration": 358,
    "start_time": "2023-03-10T15:23:27.423Z"
   },
   {
    "duration": 209,
    "start_time": "2023-03-10T15:23:27.783Z"
   },
   {
    "duration": 4,
    "start_time": "2023-03-10T15:23:27.995Z"
   },
   {
    "duration": 6552,
    "start_time": "2023-03-10T15:23:28.002Z"
   },
   {
    "duration": 21,
    "start_time": "2023-03-10T15:23:34.557Z"
   },
   {
    "duration": 72,
    "start_time": "2023-03-10T15:23:34.582Z"
   },
   {
    "duration": 662,
    "start_time": "2023-03-10T15:23:34.656Z"
   },
   {
    "duration": 3137,
    "start_time": "2023-03-10T15:23:35.320Z"
   },
   {
    "duration": 3370,
    "start_time": "2023-03-10T15:23:38.459Z"
   },
   {
    "duration": 9,
    "start_time": "2023-03-10T15:23:41.831Z"
   },
   {
    "duration": 45,
    "start_time": "2023-03-10T15:23:41.842Z"
   },
   {
    "duration": 29,
    "start_time": "2023-03-10T15:23:41.895Z"
   },
   {
    "duration": 196,
    "start_time": "2023-03-10T15:23:41.926Z"
   },
   {
    "duration": 5,
    "start_time": "2023-03-10T15:23:42.124Z"
   },
   {
    "duration": 155,
    "start_time": "2023-03-10T15:23:42.131Z"
   },
   {
    "duration": 195,
    "start_time": "2023-03-10T15:23:42.288Z"
   },
   {
    "duration": 3,
    "start_time": "2023-03-10T15:23:42.485Z"
   },
   {
    "duration": 72022,
    "start_time": "2023-03-10T15:23:42.490Z"
   },
   {
    "duration": 4,
    "start_time": "2023-03-10T15:24:54.514Z"
   },
   {
    "duration": 847,
    "start_time": "2023-03-10T15:24:54.520Z"
   },
   {
    "duration": 0,
    "start_time": "2023-03-10T15:24:55.370Z"
   },
   {
    "duration": 0,
    "start_time": "2023-03-10T15:24:55.371Z"
   },
   {
    "duration": 8,
    "start_time": "2023-03-10T15:27:22.872Z"
   },
   {
    "duration": 279,
    "start_time": "2023-03-10T15:27:27.664Z"
   },
   {
    "duration": 9,
    "start_time": "2023-03-10T15:27:47.756Z"
   },
   {
    "duration": 4,
    "start_time": "2023-03-10T15:30:04.158Z"
   },
   {
    "duration": 16,
    "start_time": "2023-03-10T15:30:05.398Z"
   },
   {
    "duration": 3,
    "start_time": "2023-03-10T15:30:58.352Z"
   },
   {
    "duration": 9,
    "start_time": "2023-03-10T15:30:59.223Z"
   },
   {
    "duration": 4,
    "start_time": "2023-03-10T15:31:19.801Z"
   },
   {
    "duration": 11,
    "start_time": "2023-03-10T15:31:20.644Z"
   },
   {
    "duration": 36,
    "start_time": "2023-03-10T15:33:03.602Z"
   },
   {
    "duration": 14,
    "start_time": "2023-03-10T15:33:12.599Z"
   },
   {
    "duration": 17,
    "start_time": "2023-03-10T15:33:21.966Z"
   },
   {
    "duration": 3,
    "start_time": "2023-03-10T15:36:28.463Z"
   },
   {
    "duration": 38,
    "start_time": "2023-03-10T15:36:29.257Z"
   },
   {
    "duration": 3,
    "start_time": "2023-03-10T15:37:13.269Z"
   },
   {
    "duration": 28,
    "start_time": "2023-03-10T15:37:15.898Z"
   },
   {
    "duration": 3,
    "start_time": "2023-03-10T15:38:05.662Z"
   },
   {
    "duration": 69553,
    "start_time": "2023-03-10T15:38:06.669Z"
   },
   {
    "duration": 3,
    "start_time": "2023-03-10T15:39:22.317Z"
   },
   {
    "duration": 9,
    "start_time": "2023-03-10T15:39:23.561Z"
   },
   {
    "duration": 3,
    "start_time": "2023-03-10T16:16:10.623Z"
   },
   {
    "duration": 65,
    "start_time": "2023-03-10T16:16:11.896Z"
   },
   {
    "duration": 3,
    "start_time": "2023-03-10T16:16:22.930Z"
   },
   {
    "duration": 68158,
    "start_time": "2023-03-10T16:16:23.658Z"
   },
   {
    "duration": 5253,
    "start_time": "2023-03-10T16:32:47.736Z"
   },
   {
    "duration": 3363,
    "start_time": "2023-03-10T16:32:52.997Z"
   },
   {
    "duration": 0,
    "start_time": "2023-03-10T16:32:56.363Z"
   },
   {
    "duration": 0,
    "start_time": "2023-03-10T16:32:56.364Z"
   },
   {
    "duration": 0,
    "start_time": "2023-03-10T16:32:56.365Z"
   },
   {
    "duration": 0,
    "start_time": "2023-03-10T16:32:56.367Z"
   },
   {
    "duration": 0,
    "start_time": "2023-03-10T16:32:56.369Z"
   },
   {
    "duration": 0,
    "start_time": "2023-03-10T16:32:56.371Z"
   },
   {
    "duration": 0,
    "start_time": "2023-03-10T16:32:56.375Z"
   },
   {
    "duration": 0,
    "start_time": "2023-03-10T16:32:56.376Z"
   },
   {
    "duration": 0,
    "start_time": "2023-03-10T16:32:56.379Z"
   },
   {
    "duration": 0,
    "start_time": "2023-03-10T16:32:56.380Z"
   },
   {
    "duration": 0,
    "start_time": "2023-03-10T16:32:56.381Z"
   },
   {
    "duration": 0,
    "start_time": "2023-03-10T16:32:56.383Z"
   },
   {
    "duration": 0,
    "start_time": "2023-03-10T16:32:56.383Z"
   },
   {
    "duration": 0,
    "start_time": "2023-03-10T16:32:56.384Z"
   },
   {
    "duration": 0,
    "start_time": "2023-03-10T16:32:56.386Z"
   },
   {
    "duration": 0,
    "start_time": "2023-03-10T16:32:56.387Z"
   },
   {
    "duration": 0,
    "start_time": "2023-03-10T16:32:56.390Z"
   },
   {
    "duration": 0,
    "start_time": "2023-03-10T16:32:56.391Z"
   },
   {
    "duration": 0,
    "start_time": "2023-03-10T16:32:56.396Z"
   },
   {
    "duration": 0,
    "start_time": "2023-03-10T16:32:56.397Z"
   },
   {
    "duration": 0,
    "start_time": "2023-03-10T16:32:56.398Z"
   },
   {
    "duration": 0,
    "start_time": "2023-03-10T16:32:56.399Z"
   },
   {
    "duration": 0,
    "start_time": "2023-03-10T16:32:56.400Z"
   },
   {
    "duration": 0,
    "start_time": "2023-03-10T16:32:56.401Z"
   },
   {
    "duration": 0,
    "start_time": "2023-03-10T16:32:56.402Z"
   },
   {
    "duration": 4979,
    "start_time": "2023-03-10T16:33:09.112Z"
   },
   {
    "duration": 1060,
    "start_time": "2023-03-10T16:33:14.094Z"
   },
   {
    "duration": 344,
    "start_time": "2023-03-10T16:33:15.156Z"
   },
   {
    "duration": 207,
    "start_time": "2023-03-10T16:33:15.502Z"
   },
   {
    "duration": 5,
    "start_time": "2023-03-10T16:33:15.712Z"
   },
   {
    "duration": 6260,
    "start_time": "2023-03-10T16:33:15.719Z"
   },
   {
    "duration": 8,
    "start_time": "2023-03-10T16:33:21.981Z"
   },
   {
    "duration": 88,
    "start_time": "2023-03-10T16:33:21.991Z"
   },
   {
    "duration": 705,
    "start_time": "2023-03-10T16:33:22.085Z"
   },
   {
    "duration": 3183,
    "start_time": "2023-03-10T16:33:22.807Z"
   },
   {
    "duration": 3117,
    "start_time": "2023-03-10T16:33:26.006Z"
   },
   {
    "duration": 9,
    "start_time": "2023-03-10T16:33:29.126Z"
   },
   {
    "duration": 57,
    "start_time": "2023-03-10T16:33:29.137Z"
   },
   {
    "duration": 36,
    "start_time": "2023-03-10T16:33:29.201Z"
   },
   {
    "duration": 184,
    "start_time": "2023-03-10T16:33:29.239Z"
   },
   {
    "duration": 4,
    "start_time": "2023-03-10T16:33:29.425Z"
   },
   {
    "duration": 112,
    "start_time": "2023-03-10T16:33:29.431Z"
   },
   {
    "duration": 162,
    "start_time": "2023-03-10T16:33:29.544Z"
   },
   {
    "duration": 4,
    "start_time": "2023-03-10T16:33:29.707Z"
   },
   {
    "duration": 69873,
    "start_time": "2023-03-10T16:33:29.716Z"
   },
   {
    "duration": 413,
    "start_time": "2023-03-10T16:34:39.593Z"
   },
   {
    "duration": 1,
    "start_time": "2023-03-10T16:34:40.007Z"
   },
   {
    "duration": 0,
    "start_time": "2023-03-10T16:34:40.010Z"
   },
   {
    "duration": 0,
    "start_time": "2023-03-10T16:34:40.011Z"
   },
   {
    "duration": 0,
    "start_time": "2023-03-10T16:34:40.012Z"
   },
   {
    "duration": 0,
    "start_time": "2023-03-10T16:34:40.014Z"
   },
   {
    "duration": 0,
    "start_time": "2023-03-10T16:34:40.015Z"
   },
   {
    "duration": 0,
    "start_time": "2023-03-10T16:34:40.017Z"
   },
   {
    "duration": 3,
    "start_time": "2023-03-10T16:35:44.354Z"
   },
   {
    "duration": 68223,
    "start_time": "2023-03-10T16:35:47.898Z"
   },
   {
    "duration": 4,
    "start_time": "2023-03-10T16:37:00.970Z"
   },
   {
    "duration": 50155,
    "start_time": "2023-03-10T16:37:02.353Z"
   },
   {
    "duration": 3,
    "start_time": "2023-03-10T16:37:56.816Z"
   },
   {
    "duration": 312502,
    "start_time": "2023-03-10T16:38:03.100Z"
   },
   {
    "duration": 4,
    "start_time": "2023-03-10T16:43:53.924Z"
   },
   {
    "duration": 18,
    "start_time": "2023-03-10T16:43:54.700Z"
   },
   {
    "duration": 11,
    "start_time": "2023-03-10T16:44:23.897Z"
   },
   {
    "duration": 8,
    "start_time": "2023-03-10T16:44:24.519Z"
   },
   {
    "duration": 10,
    "start_time": "2023-03-10T16:44:38.710Z"
   },
   {
    "duration": 43226,
    "start_time": "2023-03-10T17:00:36.196Z"
   },
   {
    "duration": 48598,
    "start_time": "2023-03-10T17:02:58.312Z"
   },
   {
    "duration": 50524,
    "start_time": "2023-03-10T17:04:43.091Z"
   },
   {
    "duration": 120838,
    "start_time": "2023-03-10T17:07:57.264Z"
   },
   {
    "duration": 612,
    "start_time": "2023-03-10T17:10:04.047Z"
   },
   {
    "duration": 505,
    "start_time": "2023-03-10T17:11:56.315Z"
   },
   {
    "duration": 124,
    "start_time": "2023-03-10T17:12:37.202Z"
   },
   {
    "duration": 24,
    "start_time": "2023-03-10T17:13:42.717Z"
   },
   {
    "duration": 494,
    "start_time": "2023-03-10T17:14:02.649Z"
   },
   {
    "duration": 72505,
    "start_time": "2023-03-10T17:14:53.937Z"
   },
   {
    "duration": 473490,
    "start_time": "2023-03-10T17:16:15.835Z"
   },
   {
    "duration": 0,
    "start_time": "2023-03-10T17:24:09.329Z"
   },
   {
    "duration": 0,
    "start_time": "2023-03-10T17:24:09.330Z"
   },
   {
    "duration": 16125,
    "start_time": "2023-03-10T17:24:12.418Z"
   },
   {
    "duration": 5,
    "start_time": "2023-03-10T17:25:02.145Z"
   },
   {
    "duration": 41722,
    "start_time": "2023-03-10T17:25:24.717Z"
   },
   {
    "duration": 30,
    "start_time": "2023-03-10T17:27:36.818Z"
   },
   {
    "duration": 30850,
    "start_time": "2023-03-10T17:27:55.827Z"
   },
   {
    "duration": 36,
    "start_time": "2023-03-10T17:28:59.501Z"
   },
   {
    "duration": 47,
    "start_time": "2023-03-10T17:29:13.972Z"
   },
   {
    "duration": 36,
    "start_time": "2023-03-10T17:29:27.600Z"
   },
   {
    "duration": 39,
    "start_time": "2023-03-10T17:32:12.251Z"
   },
   {
    "duration": 46719,
    "start_time": "2023-03-10T17:32:55.452Z"
   },
   {
    "duration": 41941,
    "start_time": "2023-03-10T17:34:01.014Z"
   },
   {
    "duration": 46,
    "start_time": "2023-03-10T17:35:45.370Z"
   },
   {
    "duration": 83,
    "start_time": "2023-03-10T17:35:57.068Z"
   },
   {
    "duration": 48624,
    "start_time": "2023-03-10T17:36:14.697Z"
   },
   {
    "duration": 49151,
    "start_time": "2023-03-10T17:37:17.217Z"
   },
   {
    "duration": 50660,
    "start_time": "2023-03-10T17:38:22.100Z"
   },
   {
    "duration": 48276,
    "start_time": "2023-03-10T17:39:43.459Z"
   },
   {
    "duration": 54342,
    "start_time": "2023-03-10T17:40:45.971Z"
   },
   {
    "duration": 97402,
    "start_time": "2023-03-10T17:41:49.855Z"
   },
   {
    "duration": 51133,
    "start_time": "2023-03-10T17:44:06.906Z"
   },
   {
    "duration": 192,
    "start_time": "2023-03-10T18:05:23.617Z"
   },
   {
    "duration": 206,
    "start_time": "2023-03-10T18:05:32.967Z"
   },
   {
    "duration": 163,
    "start_time": "2023-03-10T18:05:38.745Z"
   },
   {
    "duration": 151,
    "start_time": "2023-03-10T18:07:58.737Z"
   },
   {
    "duration": 146,
    "start_time": "2023-03-10T18:08:05.169Z"
   },
   {
    "duration": 142,
    "start_time": "2023-03-10T18:08:09.576Z"
   },
   {
    "duration": 50353,
    "start_time": "2023-03-10T18:16:47.171Z"
   },
   {
    "duration": 10,
    "start_time": "2023-03-10T18:23:38.222Z"
   },
   {
    "duration": 5000,
    "start_time": "2023-03-10T18:29:34.097Z"
   },
   {
    "duration": 1084,
    "start_time": "2023-03-10T18:29:39.099Z"
   },
   {
    "duration": 390,
    "start_time": "2023-03-10T18:29:40.185Z"
   },
   {
    "duration": 254,
    "start_time": "2023-03-10T18:29:40.578Z"
   },
   {
    "duration": 4,
    "start_time": "2023-03-10T18:29:40.835Z"
   },
   {
    "duration": 6076,
    "start_time": "2023-03-10T18:29:40.841Z"
   },
   {
    "duration": 9,
    "start_time": "2023-03-10T18:29:46.919Z"
   },
   {
    "duration": 674,
    "start_time": "2023-03-10T18:29:46.930Z"
   },
   {
    "duration": 3203,
    "start_time": "2023-03-10T18:29:47.611Z"
   },
   {
    "duration": 3069,
    "start_time": "2023-03-10T18:29:50.818Z"
   },
   {
    "duration": 14,
    "start_time": "2023-03-10T18:29:53.890Z"
   },
   {
    "duration": 91,
    "start_time": "2023-03-10T18:29:53.906Z"
   },
   {
    "duration": 31,
    "start_time": "2023-03-10T18:29:54.006Z"
   },
   {
    "duration": 182,
    "start_time": "2023-03-10T18:29:54.039Z"
   },
   {
    "duration": 5,
    "start_time": "2023-03-10T18:29:54.224Z"
   },
   {
    "duration": 154,
    "start_time": "2023-03-10T18:29:54.232Z"
   },
   {
    "duration": 161,
    "start_time": "2023-03-10T18:29:54.396Z"
   },
   {
    "duration": 3,
    "start_time": "2023-03-10T18:29:54.559Z"
   },
   {
    "duration": 71275,
    "start_time": "2023-03-10T18:29:54.571Z"
   },
   {
    "duration": 3,
    "start_time": "2023-03-10T18:31:05.848Z"
   },
   {
    "duration": 68209,
    "start_time": "2023-03-10T18:31:05.853Z"
   },
   {
    "duration": 2,
    "start_time": "2023-03-10T18:32:14.064Z"
   },
   {
    "duration": 49551,
    "start_time": "2023-03-10T18:32:14.072Z"
   },
   {
    "duration": 3,
    "start_time": "2023-03-10T18:33:03.625Z"
   },
   {
    "duration": 9,
    "start_time": "2023-03-10T18:33:03.630Z"
   },
   {
    "duration": 13,
    "start_time": "2023-03-10T18:33:03.641Z"
   },
   {
    "duration": 46571,
    "start_time": "2023-03-10T18:33:03.656Z"
   },
   {
    "duration": 4618,
    "start_time": "2023-03-11T14:57:03.382Z"
   },
   {
    "duration": 7519,
    "start_time": "2023-03-11T14:57:31.907Z"
   },
   {
    "duration": 36,
    "start_time": "2023-03-11T14:57:50.771Z"
   },
   {
    "duration": 2058,
    "start_time": "2023-03-11T14:58:08.516Z"
   },
   {
    "duration": 3982,
    "start_time": "2023-03-11T14:58:10.577Z"
   },
   {
    "duration": 3946,
    "start_time": "2023-03-11T14:58:14.561Z"
   },
   {
    "duration": 277,
    "start_time": "2023-03-11T14:58:18.508Z"
   },
   {
    "duration": 148,
    "start_time": "2023-03-11T14:58:18.787Z"
   },
   {
    "duration": 3,
    "start_time": "2023-03-11T14:58:18.937Z"
   },
   {
    "duration": 4654,
    "start_time": "2023-03-11T14:58:18.941Z"
   },
   {
    "duration": 6,
    "start_time": "2023-03-11T14:58:23.597Z"
   },
   {
    "duration": 522,
    "start_time": "2023-03-11T14:58:23.605Z"
   },
   {
    "duration": 2692,
    "start_time": "2023-03-11T14:58:24.129Z"
   },
   {
    "duration": 2744,
    "start_time": "2023-03-11T14:58:26.823Z"
   },
   {
    "duration": 10,
    "start_time": "2023-03-11T14:58:29.568Z"
   },
   {
    "duration": 26,
    "start_time": "2023-03-11T14:58:29.579Z"
   },
   {
    "duration": 12,
    "start_time": "2023-03-11T14:58:29.607Z"
   },
   {
    "duration": 132,
    "start_time": "2023-03-11T14:58:29.621Z"
   },
   {
    "duration": 4,
    "start_time": "2023-03-11T14:58:29.755Z"
   },
   {
    "duration": 71,
    "start_time": "2023-03-11T14:58:29.760Z"
   },
   {
    "duration": 107,
    "start_time": "2023-03-11T14:58:29.833Z"
   },
   {
    "duration": 2,
    "start_time": "2023-03-11T14:58:29.941Z"
   },
   {
    "duration": 52359,
    "start_time": "2023-03-11T14:58:29.955Z"
   },
   {
    "duration": 2,
    "start_time": "2023-03-11T14:59:22.316Z"
   },
   {
    "duration": 43387,
    "start_time": "2023-03-11T14:59:22.320Z"
   },
   {
    "duration": 2,
    "start_time": "2023-03-11T15:00:05.709Z"
   },
   {
    "duration": 34597,
    "start_time": "2023-03-11T15:00:05.713Z"
   },
   {
    "duration": 3,
    "start_time": "2023-03-11T15:00:40.312Z"
   },
   {
    "duration": 4,
    "start_time": "2023-03-11T15:00:40.316Z"
   },
   {
    "duration": 8,
    "start_time": "2023-03-11T15:00:40.321Z"
   },
   {
    "duration": 32547,
    "start_time": "2023-03-11T15:00:40.330Z"
   },
   {
    "duration": 5,
    "start_time": "2023-03-11T15:03:01.322Z"
   },
   {
    "duration": 358,
    "start_time": "2023-03-11T15:09:58.418Z"
   },
   {
    "duration": 5,
    "start_time": "2023-03-11T15:10:25.013Z"
   },
   {
    "duration": 16,
    "start_time": "2023-03-11T15:10:34.326Z"
   },
   {
    "duration": 16,
    "start_time": "2023-03-11T15:10:53.292Z"
   },
   {
    "duration": 17,
    "start_time": "2023-03-11T15:12:15.262Z"
   },
   {
    "duration": 17,
    "start_time": "2023-03-11T15:12:53.749Z"
   },
   {
    "duration": 17,
    "start_time": "2023-03-11T15:13:51.318Z"
   },
   {
    "duration": 135,
    "start_time": "2023-03-11T15:14:40.740Z"
   },
   {
    "duration": 82,
    "start_time": "2023-03-11T15:15:50.592Z"
   },
   {
    "duration": 19,
    "start_time": "2023-03-11T15:17:56.813Z"
   },
   {
    "duration": 69,
    "start_time": "2023-03-11T15:18:35.526Z"
   },
   {
    "duration": 166,
    "start_time": "2023-03-11T15:19:34.147Z"
   },
   {
    "duration": 18,
    "start_time": "2023-03-11T15:28:14.042Z"
   },
   {
    "duration": 18,
    "start_time": "2023-03-11T15:30:48.004Z"
   },
   {
    "duration": 2063,
    "start_time": "2023-03-11T15:40:03.362Z"
   },
   {
    "duration": 3995,
    "start_time": "2023-03-11T15:40:05.428Z"
   },
   {
    "duration": 787,
    "start_time": "2023-03-11T15:40:09.425Z"
   },
   {
    "duration": 279,
    "start_time": "2023-03-11T15:40:10.214Z"
   },
   {
    "duration": 176,
    "start_time": "2023-03-11T15:40:10.495Z"
   },
   {
    "duration": 3,
    "start_time": "2023-03-11T15:40:10.673Z"
   },
   {
    "duration": 4289,
    "start_time": "2023-03-11T15:40:10.677Z"
   },
   {
    "duration": 7,
    "start_time": "2023-03-11T15:40:14.968Z"
   },
   {
    "duration": 484,
    "start_time": "2023-03-11T15:40:14.977Z"
   },
   {
    "duration": 2438,
    "start_time": "2023-03-11T15:40:15.464Z"
   },
   {
    "duration": 2717,
    "start_time": "2023-03-11T15:40:17.904Z"
   },
   {
    "duration": 7,
    "start_time": "2023-03-11T15:40:20.623Z"
   },
   {
    "duration": 38,
    "start_time": "2023-03-11T15:40:20.631Z"
   },
   {
    "duration": 17,
    "start_time": "2023-03-11T15:40:20.671Z"
   },
   {
    "duration": 136,
    "start_time": "2023-03-11T15:40:20.690Z"
   },
   {
    "duration": 3,
    "start_time": "2023-03-11T15:40:20.828Z"
   },
   {
    "duration": 60,
    "start_time": "2023-03-11T15:40:20.832Z"
   },
   {
    "duration": 108,
    "start_time": "2023-03-11T15:40:20.893Z"
   },
   {
    "duration": 2,
    "start_time": "2023-03-11T15:40:21.002Z"
   },
   {
    "duration": 413,
    "start_time": "2023-03-11T15:40:21.005Z"
   },
   {
    "duration": 0,
    "start_time": "2023-03-11T15:40:21.419Z"
   },
   {
    "duration": 0,
    "start_time": "2023-03-11T15:40:21.420Z"
   },
   {
    "duration": 0,
    "start_time": "2023-03-11T15:40:21.421Z"
   },
   {
    "duration": 0,
    "start_time": "2023-03-11T15:40:21.422Z"
   },
   {
    "duration": 0,
    "start_time": "2023-03-11T15:40:21.423Z"
   },
   {
    "duration": 0,
    "start_time": "2023-03-11T15:40:21.424Z"
   },
   {
    "duration": 0,
    "start_time": "2023-03-11T15:40:21.425Z"
   },
   {
    "duration": 0,
    "start_time": "2023-03-11T15:40:21.426Z"
   },
   {
    "duration": 0,
    "start_time": "2023-03-11T15:40:21.426Z"
   },
   {
    "duration": 0,
    "start_time": "2023-03-11T15:40:21.427Z"
   },
   {
    "duration": 0,
    "start_time": "2023-03-11T15:40:21.428Z"
   },
   {
    "duration": 68,
    "start_time": "2023-03-11T15:40:34.624Z"
   },
   {
    "duration": 70,
    "start_time": "2023-03-11T15:40:58.948Z"
   },
   {
    "duration": 68,
    "start_time": "2023-03-11T15:43:14.242Z"
   },
   {
    "duration": 1967,
    "start_time": "2023-03-11T15:44:21.610Z"
   },
   {
    "duration": 3938,
    "start_time": "2023-03-11T15:44:23.579Z"
   },
   {
    "duration": 785,
    "start_time": "2023-03-11T15:44:27.518Z"
   },
   {
    "duration": 277,
    "start_time": "2023-03-11T15:44:28.305Z"
   },
   {
    "duration": 142,
    "start_time": "2023-03-11T15:44:28.583Z"
   },
   {
    "duration": 3,
    "start_time": "2023-03-11T15:44:28.727Z"
   },
   {
    "duration": 4272,
    "start_time": "2023-03-11T15:44:28.731Z"
   },
   {
    "duration": 7,
    "start_time": "2023-03-11T15:44:33.005Z"
   },
   {
    "duration": 483,
    "start_time": "2023-03-11T15:44:33.013Z"
   },
   {
    "duration": 2397,
    "start_time": "2023-03-11T15:44:33.498Z"
   },
   {
    "duration": 2701,
    "start_time": "2023-03-11T15:44:35.897Z"
   },
   {
    "duration": 8,
    "start_time": "2023-03-11T15:44:38.600Z"
   },
   {
    "duration": 23,
    "start_time": "2023-03-11T15:44:38.610Z"
   },
   {
    "duration": 26,
    "start_time": "2023-03-11T15:44:38.635Z"
   },
   {
    "duration": 115,
    "start_time": "2023-03-11T15:44:38.663Z"
   },
   {
    "duration": 4,
    "start_time": "2023-03-11T15:44:38.779Z"
   },
   {
    "duration": 53,
    "start_time": "2023-03-11T15:44:38.785Z"
   },
   {
    "duration": 102,
    "start_time": "2023-03-11T15:44:38.855Z"
   },
   {
    "duration": 2,
    "start_time": "2023-03-11T15:44:38.959Z"
   },
   {
    "duration": 49737,
    "start_time": "2023-03-11T15:44:38.962Z"
   },
   {
    "duration": 375,
    "start_time": "2023-03-11T15:45:28.701Z"
   },
   {
    "duration": 0,
    "start_time": "2023-03-11T15:45:29.078Z"
   },
   {
    "duration": 0,
    "start_time": "2023-03-11T15:45:29.079Z"
   },
   {
    "duration": 0,
    "start_time": "2023-03-11T15:45:29.080Z"
   },
   {
    "duration": 0,
    "start_time": "2023-03-11T15:45:29.081Z"
   },
   {
    "duration": 0,
    "start_time": "2023-03-11T15:45:29.082Z"
   },
   {
    "duration": 0,
    "start_time": "2023-03-11T15:45:29.083Z"
   },
   {
    "duration": 0,
    "start_time": "2023-03-11T15:45:29.084Z"
   },
   {
    "duration": 0,
    "start_time": "2023-03-11T15:45:29.085Z"
   },
   {
    "duration": 0,
    "start_time": "2023-03-11T15:45:29.086Z"
   },
   {
    "duration": 69,
    "start_time": "2023-03-11T15:46:50.462Z"
   },
   {
    "duration": 5,
    "start_time": "2023-03-11T15:48:18.891Z"
   },
   {
    "duration": 2058,
    "start_time": "2023-03-11T16:20:34.455Z"
   },
   {
    "duration": 3903,
    "start_time": "2023-03-11T16:20:36.515Z"
   },
   {
    "duration": 797,
    "start_time": "2023-03-11T16:20:40.420Z"
   },
   {
    "duration": 275,
    "start_time": "2023-03-11T16:20:41.219Z"
   },
   {
    "duration": 150,
    "start_time": "2023-03-11T16:20:41.496Z"
   },
   {
    "duration": 4,
    "start_time": "2023-03-11T16:20:41.647Z"
   },
   {
    "duration": 4261,
    "start_time": "2023-03-11T16:20:41.660Z"
   },
   {
    "duration": 7,
    "start_time": "2023-03-11T16:20:45.923Z"
   },
   {
    "duration": 492,
    "start_time": "2023-03-11T16:20:45.931Z"
   },
   {
    "duration": 2522,
    "start_time": "2023-03-11T16:20:46.427Z"
   },
   {
    "duration": 2852,
    "start_time": "2023-03-11T16:20:48.950Z"
   },
   {
    "duration": 9,
    "start_time": "2023-03-11T16:20:51.804Z"
   },
   {
    "duration": 29,
    "start_time": "2023-03-11T16:20:51.814Z"
   },
   {
    "duration": 14,
    "start_time": "2023-03-11T16:20:51.854Z"
   },
   {
    "duration": 133,
    "start_time": "2023-03-11T16:20:51.870Z"
   },
   {
    "duration": 5,
    "start_time": "2023-03-11T16:20:52.005Z"
   },
   {
    "duration": 73,
    "start_time": "2023-03-11T16:20:52.012Z"
   },
   {
    "duration": 116,
    "start_time": "2023-03-11T16:20:52.087Z"
   },
   {
    "duration": 2,
    "start_time": "2023-03-11T16:20:52.205Z"
   },
   {
    "duration": 49703,
    "start_time": "2023-03-11T16:20:52.209Z"
   },
   {
    "duration": 2,
    "start_time": "2023-03-11T16:21:41.914Z"
   },
   {
    "duration": 40884,
    "start_time": "2023-03-11T16:21:41.917Z"
   },
   {
    "duration": 2,
    "start_time": "2023-03-11T16:22:22.803Z"
   },
   {
    "duration": 33196,
    "start_time": "2023-03-11T16:22:22.807Z"
   },
   {
    "duration": 3,
    "start_time": "2023-03-11T16:22:56.005Z"
   },
   {
    "duration": 363,
    "start_time": "2023-03-11T16:22:56.009Z"
   },
   {
    "duration": 0,
    "start_time": "2023-03-11T16:22:56.373Z"
   },
   {
    "duration": 0,
    "start_time": "2023-03-11T16:22:56.374Z"
   },
   {
    "duration": 0,
    "start_time": "2023-03-11T16:22:56.375Z"
   },
   {
    "duration": 0,
    "start_time": "2023-03-11T16:22:56.376Z"
   },
   {
    "duration": 19,
    "start_time": "2023-03-11T17:30:53.223Z"
   },
   {
    "duration": 20,
    "start_time": "2023-03-11T17:31:39.649Z"
   },
   {
    "duration": 2020,
    "start_time": "2023-03-11T17:53:38.469Z"
   },
   {
    "duration": 3893,
    "start_time": "2023-03-11T17:53:40.491Z"
   },
   {
    "duration": 812,
    "start_time": "2023-03-11T17:53:44.386Z"
   },
   {
    "duration": 299,
    "start_time": "2023-03-11T17:53:45.200Z"
   },
   {
    "duration": 165,
    "start_time": "2023-03-11T17:53:45.501Z"
   },
   {
    "duration": 3,
    "start_time": "2023-03-11T17:53:45.668Z"
   },
   {
    "duration": 4486,
    "start_time": "2023-03-11T17:53:45.673Z"
   },
   {
    "duration": 9,
    "start_time": "2023-03-11T17:53:50.160Z"
   },
   {
    "duration": 489,
    "start_time": "2023-03-11T17:53:50.170Z"
   },
   {
    "duration": 2555,
    "start_time": "2023-03-11T17:53:50.661Z"
   },
   {
    "duration": 2860,
    "start_time": "2023-03-11T17:53:53.218Z"
   },
   {
    "duration": 9,
    "start_time": "2023-03-11T17:53:56.080Z"
   },
   {
    "duration": 27,
    "start_time": "2023-03-11T17:53:56.091Z"
   },
   {
    "duration": 12,
    "start_time": "2023-03-11T17:53:56.120Z"
   },
   {
    "duration": 142,
    "start_time": "2023-03-11T17:53:56.134Z"
   },
   {
    "duration": 4,
    "start_time": "2023-03-11T17:53:56.278Z"
   },
   {
    "duration": 76,
    "start_time": "2023-03-11T17:53:56.283Z"
   },
   {
    "duration": 139,
    "start_time": "2023-03-11T17:53:56.361Z"
   },
   {
    "duration": 2,
    "start_time": "2023-03-11T17:53:56.502Z"
   },
   {
    "duration": 390759,
    "start_time": "2023-03-11T17:53:56.506Z"
   },
   {
    "duration": 368,
    "start_time": "2023-03-11T18:00:27.267Z"
   },
   {
    "duration": 0,
    "start_time": "2023-03-11T18:00:27.636Z"
   },
   {
    "duration": 0,
    "start_time": "2023-03-11T18:00:27.637Z"
   },
   {
    "duration": 0,
    "start_time": "2023-03-11T18:00:27.638Z"
   },
   {
    "duration": 0,
    "start_time": "2023-03-11T18:00:27.639Z"
   },
   {
    "duration": 0,
    "start_time": "2023-03-11T18:00:27.640Z"
   },
   {
    "duration": 0,
    "start_time": "2023-03-11T18:00:27.642Z"
   },
   {
    "duration": 0,
    "start_time": "2023-03-11T18:00:27.643Z"
   },
   {
    "duration": 396487,
    "start_time": "2023-03-11T18:06:18.139Z"
   },
   {
    "duration": 276241,
    "start_time": "2023-03-11T18:20:29.715Z"
   },
   {
    "duration": 6916,
    "start_time": "2023-03-12T03:55:17.571Z"
   },
   {
    "duration": 4748,
    "start_time": "2023-03-12T03:55:24.490Z"
   },
   {
    "duration": 1286,
    "start_time": "2023-03-12T03:55:29.240Z"
   },
   {
    "duration": 335,
    "start_time": "2023-03-12T03:55:30.529Z"
   },
   {
    "duration": 184,
    "start_time": "2023-03-12T03:55:30.867Z"
   },
   {
    "duration": 3,
    "start_time": "2023-03-12T03:55:31.053Z"
   },
   {
    "duration": 4793,
    "start_time": "2023-03-12T03:55:31.058Z"
   },
   {
    "duration": 8,
    "start_time": "2023-03-12T03:55:35.853Z"
   },
   {
    "duration": 545,
    "start_time": "2023-03-12T03:55:35.872Z"
   },
   {
    "duration": 2576,
    "start_time": "2023-03-12T03:55:36.420Z"
   },
   {
    "duration": 2863,
    "start_time": "2023-03-12T03:55:38.998Z"
   },
   {
    "duration": 8,
    "start_time": "2023-03-12T03:55:41.863Z"
   },
   {
    "duration": 73,
    "start_time": "2023-03-12T03:55:41.873Z"
   },
   {
    "duration": 20,
    "start_time": "2023-03-12T03:55:41.948Z"
   },
   {
    "duration": 145,
    "start_time": "2023-03-12T03:55:41.970Z"
   },
   {
    "duration": 5,
    "start_time": "2023-03-12T03:55:42.117Z"
   },
   {
    "duration": 99,
    "start_time": "2023-03-12T03:55:42.123Z"
   },
   {
    "duration": 125,
    "start_time": "2023-03-12T03:55:42.224Z"
   },
   {
    "duration": 3,
    "start_time": "2023-03-12T03:55:42.351Z"
   },
   {
    "duration": 557529,
    "start_time": "2023-03-12T03:55:42.356Z"
   },
   {
    "duration": 422,
    "start_time": "2023-03-12T04:04:59.889Z"
   },
   {
    "duration": 0,
    "start_time": "2023-03-12T04:05:00.313Z"
   },
   {
    "duration": 0,
    "start_time": "2023-03-12T04:05:00.314Z"
   },
   {
    "duration": 0,
    "start_time": "2023-03-12T04:05:00.316Z"
   },
   {
    "duration": 0,
    "start_time": "2023-03-12T04:05:00.317Z"
   },
   {
    "duration": 0,
    "start_time": "2023-03-12T04:05:00.318Z"
   },
   {
    "duration": 0,
    "start_time": "2023-03-12T04:05:00.320Z"
   },
   {
    "duration": 0,
    "start_time": "2023-03-12T04:05:00.321Z"
   },
   {
    "duration": 0,
    "start_time": "2023-03-12T04:05:00.323Z"
   },
   {
    "duration": 21,
    "start_time": "2023-03-12T04:06:58.994Z"
   },
   {
    "duration": 553715,
    "start_time": "2023-03-12T04:11:24.907Z"
   },
   {
    "duration": 3,
    "start_time": "2023-03-12T04:21:48.767Z"
   },
   {
    "duration": 0,
    "start_time": "2023-03-12T04:28:14.293Z"
   },
   {
    "duration": 2565,
    "start_time": "2023-03-12T04:30:02.322Z"
   },
   {
    "duration": 4817,
    "start_time": "2023-03-12T04:30:04.889Z"
   },
   {
    "duration": 1042,
    "start_time": "2023-03-12T04:30:09.708Z"
   },
   {
    "duration": 338,
    "start_time": "2023-03-12T04:30:10.752Z"
   },
   {
    "duration": 195,
    "start_time": "2023-03-12T04:30:11.100Z"
   },
   {
    "duration": 5,
    "start_time": "2023-03-12T04:30:11.297Z"
   },
   {
    "duration": 5267,
    "start_time": "2023-03-12T04:30:11.304Z"
   },
   {
    "duration": 10,
    "start_time": "2023-03-12T04:30:16.574Z"
   },
   {
    "duration": 616,
    "start_time": "2023-03-12T04:30:16.586Z"
   },
   {
    "duration": 3049,
    "start_time": "2023-03-12T04:30:17.205Z"
   },
   {
    "duration": 2800,
    "start_time": "2023-03-12T04:30:20.256Z"
   },
   {
    "duration": 11,
    "start_time": "2023-03-12T04:30:23.058Z"
   },
   {
    "duration": 60,
    "start_time": "2023-03-12T04:30:23.071Z"
   },
   {
    "duration": 23,
    "start_time": "2023-03-12T04:30:23.133Z"
   },
   {
    "duration": 157,
    "start_time": "2023-03-12T04:30:23.158Z"
   },
   {
    "duration": 5,
    "start_time": "2023-03-12T04:30:23.316Z"
   },
   {
    "duration": 118,
    "start_time": "2023-03-12T04:30:23.322Z"
   },
   {
    "duration": 138,
    "start_time": "2023-03-12T04:30:23.442Z"
   },
   {
    "duration": 4,
    "start_time": "2023-03-12T04:30:23.582Z"
   },
   {
    "duration": 78,
    "start_time": "2023-03-12T04:30:23.588Z"
   },
   {
    "duration": 0,
    "start_time": "2023-03-12T04:30:23.668Z"
   },
   {
    "duration": 0,
    "start_time": "2023-03-12T04:30:23.669Z"
   },
   {
    "duration": 0,
    "start_time": "2023-03-12T04:30:23.670Z"
   },
   {
    "duration": 0,
    "start_time": "2023-03-12T04:30:23.672Z"
   },
   {
    "duration": 0,
    "start_time": "2023-03-12T04:30:23.673Z"
   },
   {
    "duration": 0,
    "start_time": "2023-03-12T04:30:23.675Z"
   },
   {
    "duration": 0,
    "start_time": "2023-03-12T04:30:23.676Z"
   },
   {
    "duration": 0,
    "start_time": "2023-03-12T04:30:23.679Z"
   },
   {
    "duration": 0,
    "start_time": "2023-03-12T04:30:23.680Z"
   },
   {
    "duration": 2464,
    "start_time": "2023-03-12T04:30:36.691Z"
   },
   {
    "duration": 4837,
    "start_time": "2023-03-12T04:30:39.158Z"
   },
   {
    "duration": 1024,
    "start_time": "2023-03-12T04:30:43.999Z"
   },
   {
    "duration": 334,
    "start_time": "2023-03-12T04:30:45.025Z"
   },
   {
    "duration": 202,
    "start_time": "2023-03-12T04:30:45.361Z"
   },
   {
    "duration": 9,
    "start_time": "2023-03-12T04:30:45.565Z"
   },
   {
    "duration": 5367,
    "start_time": "2023-03-12T04:30:45.576Z"
   },
   {
    "duration": 8,
    "start_time": "2023-03-12T04:30:50.945Z"
   },
   {
    "duration": 592,
    "start_time": "2023-03-12T04:30:50.955Z"
   },
   {
    "duration": 2895,
    "start_time": "2023-03-12T04:30:51.551Z"
   },
   {
    "duration": 2887,
    "start_time": "2023-03-12T04:30:54.448Z"
   },
   {
    "duration": 8,
    "start_time": "2023-03-12T04:30:57.337Z"
   },
   {
    "duration": 53,
    "start_time": "2023-03-12T04:30:57.347Z"
   },
   {
    "duration": 23,
    "start_time": "2023-03-12T04:30:57.402Z"
   },
   {
    "duration": 174,
    "start_time": "2023-03-12T04:30:57.427Z"
   },
   {
    "duration": 4,
    "start_time": "2023-03-12T04:30:57.604Z"
   },
   {
    "duration": 114,
    "start_time": "2023-03-12T04:30:57.610Z"
   },
   {
    "duration": 136,
    "start_time": "2023-03-12T04:30:57.726Z"
   },
   {
    "duration": 8,
    "start_time": "2023-03-12T04:30:57.864Z"
   },
   {
    "duration": 76,
    "start_time": "2023-03-12T04:30:57.875Z"
   },
   {
    "duration": 0,
    "start_time": "2023-03-12T04:30:57.953Z"
   },
   {
    "duration": 0,
    "start_time": "2023-03-12T04:30:57.955Z"
   },
   {
    "duration": 0,
    "start_time": "2023-03-12T04:30:57.956Z"
   },
   {
    "duration": 0,
    "start_time": "2023-03-12T04:30:57.958Z"
   },
   {
    "duration": 0,
    "start_time": "2023-03-12T04:30:57.959Z"
   },
   {
    "duration": 0,
    "start_time": "2023-03-12T04:30:57.961Z"
   },
   {
    "duration": 0,
    "start_time": "2023-03-12T04:30:57.962Z"
   },
   {
    "duration": 0,
    "start_time": "2023-03-12T04:30:57.963Z"
   },
   {
    "duration": 0,
    "start_time": "2023-03-12T04:30:57.965Z"
   },
   {
    "duration": 2716,
    "start_time": "2023-03-12T04:31:08.038Z"
   },
   {
    "duration": 4843,
    "start_time": "2023-03-12T04:31:10.756Z"
   },
   {
    "duration": 1007,
    "start_time": "2023-03-12T04:31:15.602Z"
   },
   {
    "duration": 339,
    "start_time": "2023-03-12T04:31:16.611Z"
   },
   {
    "duration": 209,
    "start_time": "2023-03-12T04:31:16.953Z"
   },
   {
    "duration": 9,
    "start_time": "2023-03-12T04:31:17.164Z"
   },
   {
    "duration": 5500,
    "start_time": "2023-03-12T04:31:17.176Z"
   },
   {
    "duration": 10,
    "start_time": "2023-03-12T04:31:22.679Z"
   },
   {
    "duration": 607,
    "start_time": "2023-03-12T04:31:22.691Z"
   },
   {
    "duration": 3002,
    "start_time": "2023-03-12T04:31:23.301Z"
   },
   {
    "duration": 2996,
    "start_time": "2023-03-12T04:31:26.306Z"
   },
   {
    "duration": 9,
    "start_time": "2023-03-12T04:31:29.304Z"
   },
   {
    "duration": 40,
    "start_time": "2023-03-12T04:31:29.314Z"
   },
   {
    "duration": 31,
    "start_time": "2023-03-12T04:31:29.357Z"
   },
   {
    "duration": 152,
    "start_time": "2023-03-12T04:31:29.391Z"
   },
   {
    "duration": 5,
    "start_time": "2023-03-12T04:31:29.545Z"
   },
   {
    "duration": 116,
    "start_time": "2023-03-12T04:31:29.551Z"
   },
   {
    "duration": 134,
    "start_time": "2023-03-12T04:31:29.669Z"
   },
   {
    "duration": 3,
    "start_time": "2023-03-12T04:31:29.805Z"
   },
   {
    "duration": 189987,
    "start_time": "2023-03-12T04:31:29.809Z"
   },
   {
    "duration": 0,
    "start_time": "2023-03-12T04:34:39.798Z"
   },
   {
    "duration": 0,
    "start_time": "2023-03-12T04:34:39.799Z"
   },
   {
    "duration": 0,
    "start_time": "2023-03-12T04:34:39.800Z"
   },
   {
    "duration": 0,
    "start_time": "2023-03-12T04:34:39.801Z"
   },
   {
    "duration": 0,
    "start_time": "2023-03-12T04:34:39.802Z"
   },
   {
    "duration": 0,
    "start_time": "2023-03-12T04:34:39.803Z"
   },
   {
    "duration": 0,
    "start_time": "2023-03-12T04:34:39.805Z"
   },
   {
    "duration": 0,
    "start_time": "2023-03-12T04:34:39.806Z"
   },
   {
    "duration": 0,
    "start_time": "2023-03-12T04:34:39.807Z"
   },
   {
    "duration": 7600,
    "start_time": "2023-03-12T04:35:48.932Z"
   },
   {
    "duration": 0,
    "start_time": "2023-03-12T04:37:21.782Z"
   },
   {
    "duration": 2310,
    "start_time": "2023-03-12T04:45:27.437Z"
   },
   {
    "duration": 4528,
    "start_time": "2023-03-12T04:45:29.750Z"
   },
   {
    "duration": 927,
    "start_time": "2023-03-12T04:45:34.280Z"
   },
   {
    "duration": 312,
    "start_time": "2023-03-12T04:45:35.210Z"
   },
   {
    "duration": 184,
    "start_time": "2023-03-12T04:45:35.524Z"
   },
   {
    "duration": 3,
    "start_time": "2023-03-12T04:45:35.710Z"
   },
   {
    "duration": 4751,
    "start_time": "2023-03-12T04:45:35.715Z"
   },
   {
    "duration": 12,
    "start_time": "2023-03-12T04:45:40.469Z"
   },
   {
    "duration": 572,
    "start_time": "2023-03-12T04:45:40.483Z"
   },
   {
    "duration": 2564,
    "start_time": "2023-03-12T04:45:41.057Z"
   },
   {
    "duration": 2851,
    "start_time": "2023-03-12T04:45:43.623Z"
   },
   {
    "duration": 8,
    "start_time": "2023-03-12T04:45:46.476Z"
   },
   {
    "duration": 35,
    "start_time": "2023-03-12T04:45:46.486Z"
   },
   {
    "duration": 26,
    "start_time": "2023-03-12T04:45:46.523Z"
   },
   {
    "duration": 199,
    "start_time": "2023-03-12T04:45:46.552Z"
   },
   {
    "duration": 5,
    "start_time": "2023-03-12T04:45:46.753Z"
   },
   {
    "duration": 114,
    "start_time": "2023-03-12T04:45:46.759Z"
   },
   {
    "duration": 130,
    "start_time": "2023-03-12T04:45:46.875Z"
   },
   {
    "duration": 3,
    "start_time": "2023-03-12T04:45:47.007Z"
   },
   {
    "duration": 173890,
    "start_time": "2023-03-12T04:45:47.012Z"
   },
   {
    "duration": 4,
    "start_time": "2023-03-12T04:48:40.904Z"
   },
   {
    "duration": 57417,
    "start_time": "2023-03-12T04:48:40.910Z"
   },
   {
    "duration": 3,
    "start_time": "2023-03-12T04:49:38.329Z"
   },
   {
    "duration": 41720,
    "start_time": "2023-03-12T04:49:38.334Z"
   },
   {
    "duration": 3,
    "start_time": "2023-03-12T04:50:20.056Z"
   },
   {
    "duration": 375223,
    "start_time": "2023-03-12T04:50:20.060Z"
   },
   {
    "duration": 2,
    "start_time": "2023-03-12T04:56:35.285Z"
   },
   {
    "duration": 21,
    "start_time": "2023-03-12T04:56:35.291Z"
   },
   {
    "duration": 38434,
    "start_time": "2023-03-12T04:56:35.314Z"
   },
   {
    "duration": 98424,
    "start_time": "2023-03-12T04:57:13.749Z"
   },
   {
    "duration": 361561,
    "start_time": "2023-03-12T05:01:32.456Z"
   },
   {
    "duration": 165342,
    "start_time": "2023-03-12T05:08:51.686Z"
   },
   {
    "duration": 50,
    "start_time": "2023-03-12T16:55:53.688Z"
   },
   {
    "duration": 6368,
    "start_time": "2023-03-12T16:56:05.791Z"
   },
   {
    "duration": 6688,
    "start_time": "2023-03-12T16:56:12.161Z"
   },
   {
    "duration": 1056,
    "start_time": "2023-03-12T16:56:18.851Z"
   },
   {
    "duration": 264,
    "start_time": "2023-03-12T16:56:19.910Z"
   },
   {
    "duration": 143,
    "start_time": "2023-03-12T16:56:20.175Z"
   },
   {
    "duration": 3,
    "start_time": "2023-03-12T16:56:20.319Z"
   },
   {
    "duration": 4154,
    "start_time": "2023-03-12T16:56:20.324Z"
   },
   {
    "duration": 6,
    "start_time": "2023-03-12T16:56:24.480Z"
   },
   {
    "duration": 604,
    "start_time": "2023-03-12T16:56:24.488Z"
   },
   {
    "duration": 2398,
    "start_time": "2023-03-12T16:56:25.096Z"
   },
   {
    "duration": 2970,
    "start_time": "2023-03-12T16:56:27.496Z"
   },
   {
    "duration": 7,
    "start_time": "2023-03-12T16:56:30.468Z"
   },
   {
    "duration": 59,
    "start_time": "2023-03-12T16:56:30.477Z"
   },
   {
    "duration": 47,
    "start_time": "2023-03-12T16:56:30.538Z"
   },
   {
    "duration": 130,
    "start_time": "2023-03-12T16:56:30.587Z"
   },
   {
    "duration": 3,
    "start_time": "2023-03-12T16:56:30.719Z"
   },
   {
    "duration": 90,
    "start_time": "2023-03-12T16:56:30.724Z"
   },
   {
    "duration": 106,
    "start_time": "2023-03-12T16:56:30.816Z"
   },
   {
    "duration": 3,
    "start_time": "2023-03-12T16:56:30.924Z"
   },
   {
    "duration": 283251,
    "start_time": "2023-03-12T16:56:30.929Z"
   },
   {
    "duration": 2,
    "start_time": "2023-03-12T17:01:14.182Z"
   },
   {
    "duration": 174148,
    "start_time": "2023-03-12T17:01:14.186Z"
   },
   {
    "duration": 2,
    "start_time": "2023-03-12T17:04:08.336Z"
   },
   {
    "duration": 60288,
    "start_time": "2023-03-12T17:04:08.339Z"
   },
   {
    "duration": 2,
    "start_time": "2023-03-12T17:05:08.629Z"
   },
   {
    "duration": 357330,
    "start_time": "2023-03-12T17:05:08.632Z"
   },
   {
    "duration": 5,
    "start_time": "2023-03-12T17:11:05.964Z"
   },
   {
    "duration": 47,
    "start_time": "2023-03-12T17:11:05.979Z"
   },
   {
    "duration": 427,
    "start_time": "2023-03-12T17:11:06.028Z"
   },
   {
    "duration": 0,
    "start_time": "2023-03-12T17:11:06.456Z"
   },
   {
    "duration": 2065,
    "start_time": "2023-03-12T17:18:44.789Z"
   },
   {
    "duration": 3908,
    "start_time": "2023-03-12T17:18:46.856Z"
   },
   {
    "duration": 861,
    "start_time": "2023-03-12T17:18:50.767Z"
   },
   {
    "duration": 279,
    "start_time": "2023-03-12T17:18:51.630Z"
   },
   {
    "duration": 149,
    "start_time": "2023-03-12T17:18:51.911Z"
   },
   {
    "duration": 3,
    "start_time": "2023-03-12T17:18:52.062Z"
   },
   {
    "duration": 4331,
    "start_time": "2023-03-12T17:18:52.066Z"
   },
   {
    "duration": 7,
    "start_time": "2023-03-12T17:18:56.399Z"
   },
   {
    "duration": 514,
    "start_time": "2023-03-12T17:18:56.408Z"
   },
   {
    "duration": 2865,
    "start_time": "2023-03-12T17:18:56.924Z"
   },
   {
    "duration": 2867,
    "start_time": "2023-03-12T17:18:59.790Z"
   },
   {
    "duration": 7,
    "start_time": "2023-03-12T17:19:02.659Z"
   },
   {
    "duration": 40,
    "start_time": "2023-03-12T17:19:02.668Z"
   },
   {
    "duration": 15,
    "start_time": "2023-03-12T17:19:02.711Z"
   },
   {
    "duration": 125,
    "start_time": "2023-03-12T17:19:02.727Z"
   },
   {
    "duration": 3,
    "start_time": "2023-03-12T17:19:02.854Z"
   },
   {
    "duration": 66,
    "start_time": "2023-03-12T17:19:02.859Z"
   },
   {
    "duration": 103,
    "start_time": "2023-03-12T17:19:02.926Z"
   },
   {
    "duration": 3,
    "start_time": "2023-03-12T17:19:03.031Z"
   },
   {
    "duration": 277074,
    "start_time": "2023-03-12T17:19:03.036Z"
   },
   {
    "duration": 2,
    "start_time": "2023-03-12T17:23:40.111Z"
   },
   {
    "duration": 174202,
    "start_time": "2023-03-12T17:23:40.114Z"
   },
   {
    "duration": 3,
    "start_time": "2023-03-12T17:26:34.317Z"
   },
   {
    "duration": 63157,
    "start_time": "2023-03-12T17:26:34.322Z"
   },
   {
    "duration": 3,
    "start_time": "2023-03-12T17:27:37.481Z"
   },
   {
    "duration": 363717,
    "start_time": "2023-03-12T17:27:37.486Z"
   },
   {
    "duration": 3,
    "start_time": "2023-03-12T17:33:41.204Z"
   },
   {
    "duration": 13,
    "start_time": "2023-03-12T17:33:41.208Z"
   },
   {
    "duration": 367,
    "start_time": "2023-03-12T17:33:41.222Z"
   },
   {
    "duration": 19,
    "start_time": "2023-03-12T17:35:20.588Z"
   },
   {
    "duration": 24,
    "start_time": "2023-03-12T17:36:07.085Z"
   },
   {
    "duration": 25678,
    "start_time": "2023-03-12T17:37:02.101Z"
   },
   {
    "duration": 21867,
    "start_time": "2023-03-12T17:37:49.997Z"
   },
   {
    "duration": 14799,
    "start_time": "2023-03-12T17:39:36.493Z"
   },
   {
    "duration": 15286,
    "start_time": "2023-03-12T17:42:17.180Z"
   },
   {
    "duration": 61606,
    "start_time": "2023-03-12T17:43:31.827Z"
   },
   {
    "duration": 2,
    "start_time": "2023-03-12T17:45:06.970Z"
   },
   {
    "duration": 3,
    "start_time": "2023-03-12T17:45:10.932Z"
   },
   {
    "duration": 9,
    "start_time": "2023-03-12T17:45:11.629Z"
   },
   {
    "duration": 41,
    "start_time": "2023-03-12T17:48:29.188Z"
   },
   {
    "duration": 14626,
    "start_time": "2023-03-12T17:48:40.193Z"
   },
   {
    "duration": 20742,
    "start_time": "2023-03-12T17:49:24.930Z"
   },
   {
    "duration": 21973,
    "start_time": "2023-03-12T17:50:09.597Z"
   },
   {
    "duration": 20815,
    "start_time": "2023-03-12T17:51:21.737Z"
   },
   {
    "duration": 765783,
    "start_time": "2023-03-12T17:53:56.268Z"
   },
   {
    "duration": 10928,
    "start_time": "2023-03-12T18:08:13.506Z"
   },
   {
    "duration": 1128146,
    "start_time": "2023-03-12T18:08:33.697Z"
   },
   {
    "duration": 0,
    "start_time": "2023-03-12T18:27:21.844Z"
   },
   {
    "duration": 19924,
    "start_time": "2023-03-12T18:27:27.406Z"
   },
   {
    "duration": 19824,
    "start_time": "2023-03-12T18:28:03.089Z"
   },
   {
    "duration": 20265,
    "start_time": "2023-03-12T18:29:31.410Z"
   },
   {
    "duration": 22246,
    "start_time": "2023-03-12T18:29:59.193Z"
   },
   {
    "duration": 21711,
    "start_time": "2023-03-12T18:30:38.677Z"
   },
   {
    "duration": 39957,
    "start_time": "2023-03-12T18:31:10.097Z"
   },
   {
    "duration": 41176,
    "start_time": "2023-03-12T18:32:06.352Z"
   },
   {
    "duration": 23397,
    "start_time": "2023-03-12T18:33:16.293Z"
   },
   {
    "duration": 1997,
    "start_time": "2023-03-12T18:45:03.511Z"
   },
   {
    "duration": 3972,
    "start_time": "2023-03-12T18:45:05.511Z"
   },
   {
    "duration": 797,
    "start_time": "2023-03-12T18:45:09.484Z"
   },
   {
    "duration": 284,
    "start_time": "2023-03-12T18:45:10.283Z"
   },
   {
    "duration": 143,
    "start_time": "2023-03-12T18:45:10.570Z"
   },
   {
    "duration": 3,
    "start_time": "2023-03-12T18:45:10.715Z"
   },
   {
    "duration": 4173,
    "start_time": "2023-03-12T18:45:10.720Z"
   },
   {
    "duration": 7,
    "start_time": "2023-03-12T18:45:14.894Z"
   },
   {
    "duration": 466,
    "start_time": "2023-03-12T18:45:14.902Z"
   },
   {
    "duration": 2425,
    "start_time": "2023-03-12T18:45:15.370Z"
   },
   {
    "duration": 3009,
    "start_time": "2023-03-12T18:45:17.797Z"
   },
   {
    "duration": 7,
    "start_time": "2023-03-12T18:45:20.808Z"
   },
   {
    "duration": 29,
    "start_time": "2023-03-12T18:45:20.817Z"
   },
   {
    "duration": 12,
    "start_time": "2023-03-12T18:45:20.849Z"
   },
   {
    "duration": 139,
    "start_time": "2023-03-12T18:45:20.863Z"
   },
   {
    "duration": 3,
    "start_time": "2023-03-12T18:45:21.004Z"
   },
   {
    "duration": 75,
    "start_time": "2023-03-12T18:45:21.009Z"
   },
   {
    "duration": 113,
    "start_time": "2023-03-12T18:45:21.085Z"
   },
   {
    "duration": 2,
    "start_time": "2023-03-12T18:45:21.200Z"
   },
   {
    "duration": 382400,
    "start_time": "2023-03-12T18:45:21.204Z"
   },
   {
    "duration": 2,
    "start_time": "2023-03-12T18:51:43.606Z"
   },
   {
    "duration": 174279,
    "start_time": "2023-03-12T18:51:43.609Z"
   },
   {
    "duration": 2,
    "start_time": "2023-03-12T18:54:37.890Z"
   },
   {
    "duration": 60366,
    "start_time": "2023-03-12T18:54:37.893Z"
   },
   {
    "duration": 2,
    "start_time": "2023-03-12T18:55:38.261Z"
   },
   {
    "duration": 353975,
    "start_time": "2023-03-12T18:55:38.265Z"
   },
   {
    "duration": 3,
    "start_time": "2023-03-12T19:01:32.241Z"
   },
   {
    "duration": 14,
    "start_time": "2023-03-12T19:01:32.245Z"
   },
   {
    "duration": 21236,
    "start_time": "2023-03-12T19:01:32.260Z"
   }
  ],
  "kernelspec": {
   "display_name": "Python 3 (ipykernel)",
   "language": "python",
   "name": "python3"
  },
  "language_info": {
   "codemirror_mode": {
    "name": "ipython",
    "version": 3
   },
   "file_extension": ".py",
   "mimetype": "text/x-python",
   "name": "python",
   "nbconvert_exporter": "python",
   "pygments_lexer": "ipython3",
   "version": "3.9.5"
  },
  "toc": {
   "base_numbering": 1,
   "nav_menu": {},
   "number_sections": true,
   "sideBar": true,
   "skip_h1_title": true,
   "title_cell": "Содержание",
   "title_sidebar": "Contents",
   "toc_cell": true,
   "toc_position": {
    "height": "calc(100% - 180px)",
    "left": "10px",
    "top": "150px",
    "width": "302.391px"
   },
   "toc_section_display": true,
   "toc_window_display": false
  }
 },
 "nbformat": 4,
 "nbformat_minor": 2
}
