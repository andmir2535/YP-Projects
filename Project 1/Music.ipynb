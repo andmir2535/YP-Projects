{
 "cells": [
  {
   "cell_type": "markdown",
   "metadata": {
    "deletable": false,
    "editable": false,
    "id": "E0vqbgi9ay0H"
   },
   "source": [
    "# Яндекс Музыка"
   ]
  },
  {
   "cell_type": "markdown",
   "metadata": {
    "deletable": false,
    "editable": false,
    "id": "VUC88oWjTJw2"
   },
   "source": [
    "Сравнение Москвы и Петербурга окружено мифами. Например:\n",
    " * Москва — мегаполис, подчинённый жёсткому ритму рабочей недели;\n",
    " * Петербург — культурная столица, со своими вкусами.\n",
    "\n",
    "На данных Яндекс Музыки вы сравните поведение пользователей двух столиц.\n",
    "\n",
    "**Цель исследования** — проверьте три гипотезы:\n",
    "1. Активность пользователей зависит от дня недели. Причём в Москве и Петербурге это проявляется по-разному.\n",
    "2. В понедельник утром в Москве преобладают одни жанры, а в Петербурге — другие. Так же и вечером пятницы преобладают разные жанры — в зависимости от города. \n",
    "3. Москва и Петербург предпочитают разные жанры музыки. В Москве чаще слушают поп-музыку, в Петербурге — русский рэп.\n",
    "\n",
    "**Ход исследования**\n",
    "\n",
    "Данные о поведении пользователей вы получите из файла `yandex_music_project.csv`. О качестве данных ничего не известно. Поэтому перед проверкой гипотез понадобится обзор данных. \n",
    "\n",
    "Вы проверите данные на ошибки и оцените их влияние на исследование. Затем, на этапе предобработки вы поищете возможность исправить самые критичные ошибки данных.\n",
    " \n",
    "Таким образом, исследование пройдёт в три этапа:\n",
    " 1. Обзор данных.\n",
    " 2. Предобработка данных.\n",
    " 3. Проверка гипотез.\n",
    "\n"
   ]
  },
  {
   "cell_type": "markdown",
   "metadata": {
    "deletable": false,
    "editable": false,
    "id": "Ml1hmfXC_Zcs"
   },
   "source": [
    "## Обзор данных\n",
    "\n",
    "Составьте первое представление о данных Яндекс Музыки.\n",
    "\n",
    "\n"
   ]
  },
  {
   "cell_type": "markdown",
   "metadata": {
    "deletable": false,
    "editable": false,
    "id": "57eAOGIz_Zcs",
    "tags": [
     "start_task"
    ]
   },
   "source": [
    "**Задание 1**\n",
    "\n",
    "Основной инструмент аналитика — `pandas`. Импортируйте эту библиотеку."
   ]
  },
  {
   "cell_type": "code",
   "execution_count": 1,
   "metadata": {
    "deletable": false,
    "id": "AXN7PHPN_Zcs"
   },
   "outputs": [],
   "source": [
    "# импорт библиотеки pandas\n",
    "import pandas as pd"
   ]
  },
  {
   "cell_type": "markdown",
   "metadata": {
    "deletable": false,
    "editable": false,
    "id": "SG23P8tt_Zcs",
    "tags": [
     "start_task"
    ]
   },
   "source": [
    "**Задание 2**\n",
    "\n",
    "Прочитайте файл `yandex_music_project.csv` из папки `/datasets` и сохраните его в переменной `df`:"
   ]
  },
  {
   "cell_type": "code",
   "execution_count": 2,
   "metadata": {
    "deletable": false,
    "id": "fFVu7vqh_Zct"
   },
   "outputs": [],
   "source": [
    "# чтение файла с данными и сохранение в df\n",
    "df = pd.read_csv('/datasets/yandex_music_project.csv')"
   ]
  },
  {
   "cell_type": "markdown",
   "metadata": {
    "deletable": false,
    "editable": false,
    "id": "rDoOMd3uTqnZ",
    "tags": [
     "start_task"
    ]
   },
   "source": [
    "**Задание 3**\n",
    "\n",
    "\n",
    "Выведите на экран первые десять строк таблицы:"
   ]
  },
  {
   "cell_type": "code",
   "execution_count": 3,
   "metadata": {
    "deletable": false,
    "id": "oWTVX3gW_Zct"
   },
   "outputs": [
    {
     "data": {
      "text/html": [
       "<div>\n",
       "<style scoped>\n",
       "    .dataframe tbody tr th:only-of-type {\n",
       "        vertical-align: middle;\n",
       "    }\n",
       "\n",
       "    .dataframe tbody tr th {\n",
       "        vertical-align: top;\n",
       "    }\n",
       "\n",
       "    .dataframe thead th {\n",
       "        text-align: right;\n",
       "    }\n",
       "</style>\n",
       "<table border=\"1\" class=\"dataframe\">\n",
       "  <thead>\n",
       "    <tr style=\"text-align: right;\">\n",
       "      <th></th>\n",
       "      <th>userID</th>\n",
       "      <th>Track</th>\n",
       "      <th>artist</th>\n",
       "      <th>genre</th>\n",
       "      <th>City</th>\n",
       "      <th>time</th>\n",
       "      <th>Day</th>\n",
       "    </tr>\n",
       "  </thead>\n",
       "  <tbody>\n",
       "    <tr>\n",
       "      <th>0</th>\n",
       "      <td>FFB692EC</td>\n",
       "      <td>Kamigata To Boots</td>\n",
       "      <td>The Mass Missile</td>\n",
       "      <td>rock</td>\n",
       "      <td>Saint-Petersburg</td>\n",
       "      <td>20:28:33</td>\n",
       "      <td>Wednesday</td>\n",
       "    </tr>\n",
       "    <tr>\n",
       "      <th>1</th>\n",
       "      <td>55204538</td>\n",
       "      <td>Delayed Because of Accident</td>\n",
       "      <td>Andreas Rönnberg</td>\n",
       "      <td>rock</td>\n",
       "      <td>Moscow</td>\n",
       "      <td>14:07:09</td>\n",
       "      <td>Friday</td>\n",
       "    </tr>\n",
       "    <tr>\n",
       "      <th>2</th>\n",
       "      <td>20EC38</td>\n",
       "      <td>Funiculì funiculà</td>\n",
       "      <td>Mario Lanza</td>\n",
       "      <td>pop</td>\n",
       "      <td>Saint-Petersburg</td>\n",
       "      <td>20:58:07</td>\n",
       "      <td>Wednesday</td>\n",
       "    </tr>\n",
       "    <tr>\n",
       "      <th>3</th>\n",
       "      <td>A3DD03C9</td>\n",
       "      <td>Dragons in the Sunset</td>\n",
       "      <td>Fire + Ice</td>\n",
       "      <td>folk</td>\n",
       "      <td>Saint-Petersburg</td>\n",
       "      <td>08:37:09</td>\n",
       "      <td>Monday</td>\n",
       "    </tr>\n",
       "    <tr>\n",
       "      <th>4</th>\n",
       "      <td>E2DC1FAE</td>\n",
       "      <td>Soul People</td>\n",
       "      <td>Space Echo</td>\n",
       "      <td>dance</td>\n",
       "      <td>Moscow</td>\n",
       "      <td>08:34:34</td>\n",
       "      <td>Monday</td>\n",
       "    </tr>\n",
       "    <tr>\n",
       "      <th>5</th>\n",
       "      <td>842029A1</td>\n",
       "      <td>Преданная</td>\n",
       "      <td>IMPERVTOR</td>\n",
       "      <td>rusrap</td>\n",
       "      <td>Saint-Petersburg</td>\n",
       "      <td>13:09:41</td>\n",
       "      <td>Friday</td>\n",
       "    </tr>\n",
       "    <tr>\n",
       "      <th>6</th>\n",
       "      <td>4CB90AA5</td>\n",
       "      <td>True</td>\n",
       "      <td>Roman Messer</td>\n",
       "      <td>dance</td>\n",
       "      <td>Moscow</td>\n",
       "      <td>13:00:07</td>\n",
       "      <td>Wednesday</td>\n",
       "    </tr>\n",
       "    <tr>\n",
       "      <th>7</th>\n",
       "      <td>F03E1C1F</td>\n",
       "      <td>Feeling This Way</td>\n",
       "      <td>Polina Griffith</td>\n",
       "      <td>dance</td>\n",
       "      <td>Moscow</td>\n",
       "      <td>20:47:49</td>\n",
       "      <td>Wednesday</td>\n",
       "    </tr>\n",
       "    <tr>\n",
       "      <th>8</th>\n",
       "      <td>8FA1D3BE</td>\n",
       "      <td>И вновь продолжается бой</td>\n",
       "      <td>NaN</td>\n",
       "      <td>ruspop</td>\n",
       "      <td>Moscow</td>\n",
       "      <td>09:17:40</td>\n",
       "      <td>Friday</td>\n",
       "    </tr>\n",
       "    <tr>\n",
       "      <th>9</th>\n",
       "      <td>E772D5C0</td>\n",
       "      <td>Pessimist</td>\n",
       "      <td>NaN</td>\n",
       "      <td>dance</td>\n",
       "      <td>Saint-Petersburg</td>\n",
       "      <td>21:20:49</td>\n",
       "      <td>Wednesday</td>\n",
       "    </tr>\n",
       "  </tbody>\n",
       "</table>\n",
       "</div>"
      ],
      "text/plain": [
       "     userID                        Track            artist   genre  \\\n",
       "0  FFB692EC            Kamigata To Boots  The Mass Missile    rock   \n",
       "1  55204538  Delayed Because of Accident  Andreas Rönnberg    rock   \n",
       "2    20EC38            Funiculì funiculà       Mario Lanza     pop   \n",
       "3  A3DD03C9        Dragons in the Sunset        Fire + Ice    folk   \n",
       "4  E2DC1FAE                  Soul People        Space Echo   dance   \n",
       "5  842029A1                    Преданная         IMPERVTOR  rusrap   \n",
       "6  4CB90AA5                         True      Roman Messer   dance   \n",
       "7  F03E1C1F             Feeling This Way   Polina Griffith   dance   \n",
       "8  8FA1D3BE     И вновь продолжается бой               NaN  ruspop   \n",
       "9  E772D5C0                    Pessimist               NaN   dance   \n",
       "\n",
       "             City        time        Day  \n",
       "0  Saint-Petersburg  20:28:33  Wednesday  \n",
       "1            Moscow  14:07:09     Friday  \n",
       "2  Saint-Petersburg  20:58:07  Wednesday  \n",
       "3  Saint-Petersburg  08:37:09     Monday  \n",
       "4            Moscow  08:34:34     Monday  \n",
       "5  Saint-Petersburg  13:09:41     Friday  \n",
       "6            Moscow  13:00:07  Wednesday  \n",
       "7            Moscow  20:47:49  Wednesday  \n",
       "8            Moscow  09:17:40     Friday  \n",
       "9  Saint-Petersburg  21:20:49  Wednesday  "
      ]
     },
     "execution_count": 3,
     "metadata": {},
     "output_type": "execute_result"
    }
   ],
   "source": [
    "# получение первых 10 строк таблицы df\n",
    "df.head(10)"
   ]
  },
  {
   "cell_type": "markdown",
   "metadata": {
    "deletable": false,
    "editable": false,
    "id": "EO73Kwic_Zct",
    "tags": [
     "start_task"
    ]
   },
   "source": [
    "**Задание 4**\n",
    "\n",
    "\n",
    "Одной командой получить общую информацию о таблице c помощью метода `info()`:"
   ]
  },
  {
   "cell_type": "code",
   "execution_count": 4,
   "metadata": {
    "deletable": false,
    "id": "DSf2kIb-_Zct"
   },
   "outputs": [
    {
     "name": "stdout",
     "output_type": "stream",
     "text": [
      "<class 'pandas.core.frame.DataFrame'>\n",
      "RangeIndex: 65079 entries, 0 to 65078\n",
      "Data columns (total 7 columns):\n",
      " #   Column    Non-Null Count  Dtype \n",
      "---  ------    --------------  ----- \n",
      " 0     userID  65079 non-null  object\n",
      " 1   Track     63848 non-null  object\n",
      " 2   artist    57876 non-null  object\n",
      " 3   genre     63881 non-null  object\n",
      " 4     City    65079 non-null  object\n",
      " 5   time      65079 non-null  object\n",
      " 6   Day       65079 non-null  object\n",
      "dtypes: object(7)\n",
      "memory usage: 3.5+ MB\n"
     ]
    }
   ],
   "source": [
    "# получение общей информации о данных в таблице df\n",
    "df.info()"
   ]
  },
  {
   "cell_type": "markdown",
   "metadata": {
    "deletable": false,
    "editable": false,
    "id": "TaQ2Iwbr_Zct"
   },
   "source": [
    "Итак, в таблице семь столбцов. Тип данных во всех столбцах — `object`.\n",
    "\n",
    "Согласно документации к данным:\n",
    "* `userID` — идентификатор пользователя;\n",
    "* `Track` — название трека;  \n",
    "* `artist` — имя исполнителя;\n",
    "* `genre` — название жанра;\n",
    "* `City` — город пользователя;\n",
    "* `time` — время начала прослушивания;\n",
    "* `Day` — день недели.\n",
    "\n",
    "Количество значений в столбцах различается. Значит, в данных есть пропущенные значения."
   ]
  },
  {
   "cell_type": "markdown",
   "metadata": {
    "deletable": false,
    "editable": false,
    "id": "rAfziTBDmf2h",
    "tags": [
     "start_task"
    ]
   },
   "source": [
    "**Задание 5**\n",
    "\n",
    "**Вопрос со свободной формой ответа**\n",
    "\n",
    "В названиях колонок видны нарушения стиля:\n",
    "* Строчные буквы сочетаются с прописными.\n",
    "* Встречаются пробелы.\n",
    "\n",
    "Какое третье нарушение?"
   ]
  },
  {
   "cell_type": "code",
   "execution_count": 5,
   "metadata": {
    "id": "jD8EXEIvmf2h"
   },
   "outputs": [],
   "source": [
    " # Не используется змеиный_регистр (нижнее подчеркивание). Напишите ваш ответ здесь комментарием. Не удаляйте символ #. Не меняйте тип этой ячейки на Markdown."
   ]
  },
  {
   "cell_type": "markdown",
   "metadata": {
    "deletable": false,
    "editable": false,
    "id": "MCB6-dXG_Zct"
   },
   "source": [
    "**Выводы**\n",
    "\n",
    "В каждой строке таблицы — данные о прослушанном треке. Часть колонок описывает саму композицию: название, исполнителя и жанр. Остальные данные рассказывают о пользователе: из какого он города, когда он слушал музыку. \n",
    "\n",
    "Предварительно можно утверждать, что данных достаточно для проверки гипотез. Но встречаются пропуски в данных, а в названиях колонок — расхождения с хорошим стилем.\n",
    "\n",
    "Чтобы двигаться дальше, нужно устранить проблемы в данных."
   ]
  },
  {
   "cell_type": "markdown",
   "metadata": {
    "deletable": false,
    "editable": false,
    "id": "SjYF6Ub9_Zct"
   },
   "source": [
    "## Предобработка данных\n",
    "Исправьте стиль в заголовках столбцов, исключите пропуски. Затем проверьте данные на дубликаты."
   ]
  },
  {
   "cell_type": "markdown",
   "metadata": {
    "deletable": false,
    "editable": false,
    "id": "dIaKXr29_Zct",
    "tags": [
     "start_task"
    ]
   },
   "source": [
    "### Стиль заголовков\n",
    "\n",
    "**Задание 6**\n",
    "\n",
    "Выведите на экран названия столбцов:"
   ]
  },
  {
   "cell_type": "code",
   "execution_count": 6,
   "metadata": {
    "deletable": false,
    "id": "oKOTdF_Q_Zct"
   },
   "outputs": [
    {
     "name": "stdout",
     "output_type": "stream",
     "text": [
      "Index(['  userID', 'Track', 'artist', 'genre', '  City  ', 'time', 'Day'], dtype='object')\n"
     ]
    }
   ],
   "source": [
    "# перечень названий столбцов таблицы df\n",
    "print(df.columns)"
   ]
  },
  {
   "cell_type": "markdown",
   "metadata": {
    "deletable": false,
    "editable": false,
    "id": "zj5534cv_Zct",
    "tags": [
     "start_task"
    ]
   },
   "source": [
    "**Задание 7**\n",
    "\n",
    "\n",
    "Приведите названия в соответствие с хорошим стилем:\n",
    "* несколько слов в названии запишите в «змеином_регистре»,\n",
    "* все символы сделайте строчными,\n",
    "* устраните пробелы.\n",
    "\n",
    "Для этого переименуйте колонки так:\n",
    "* `'  userID'` → `'user_id'`;\n",
    "* `'Track'` → `'track'`;\n",
    "* `'  City  '` → `'city'`;\n",
    "* `'Day'` → `'day'`."
   ]
  },
  {
   "cell_type": "code",
   "execution_count": 7,
   "metadata": {
    "deletable": false,
    "id": "ISlFqs5y_Zct"
   },
   "outputs": [],
   "source": [
    "# переименование столбцов\n",
    "df = df.rename(columns={'  userID': 'user_id',\n",
    "                  'Track': 'track',\n",
    "                  '  City  ': 'city',\n",
    "                  'Day': 'day'}\n",
    "         )"
   ]
  },
  {
   "cell_type": "markdown",
   "metadata": {
    "deletable": false,
    "editable": false,
    "id": "1dqbh00J_Zct",
    "tags": [
     "start_task"
    ]
   },
   "source": [
    "**Задание 8**\n",
    "\n",
    "\n",
    "Проверьте результат. Для этого ещё раз выведите на экран названия столбцов:"
   ]
  },
  {
   "cell_type": "code",
   "execution_count": 8,
   "metadata": {
    "deletable": false,
    "id": "d4NOAmTW_Zct"
   },
   "outputs": [
    {
     "name": "stdout",
     "output_type": "stream",
     "text": [
      "Index(['user_id', 'track', 'artist', 'genre', 'city', 'time', 'day'], dtype='object')\n"
     ]
    }
   ],
   "source": [
    "# проверка результатов - перечень названий столбцов\n",
    "print(df.columns)"
   ]
  },
  {
   "cell_type": "markdown",
   "metadata": {
    "deletable": false,
    "editable": false,
    "id": "5ISfbcfY_Zct",
    "tags": [
     "start_task"
    ]
   },
   "source": [
    "### Пропуски значений\n",
    "\n",
    "**Задание 9**\n",
    "\n",
    "Сначала посчитайте, сколько в таблице пропущенных значений. Для этого достаточно двух методов `pandas`:"
   ]
  },
  {
   "cell_type": "code",
   "execution_count": 9,
   "metadata": {
    "deletable": false,
    "id": "RskX29qr_Zct"
   },
   "outputs": [
    {
     "data": {
      "text/plain": [
       "user_id       0\n",
       "track      1231\n",
       "artist     7203\n",
       "genre      1198\n",
       "city          0\n",
       "time          0\n",
       "day           0\n",
       "dtype: int64"
      ]
     },
     "execution_count": 9,
     "metadata": {},
     "output_type": "execute_result"
    }
   ],
   "source": [
    "# подсчёт пропусков\n",
    "df.isna().sum()"
   ]
  },
  {
   "cell_type": "markdown",
   "metadata": {
    "deletable": false,
    "editable": false,
    "id": "qubhgnlO_Zct"
   },
   "source": [
    "Не все пропущенные значения влияют на исследование. Так в `track` и `artist` пропуски не важны для вашей работы. Достаточно заменить их явными обозначениями.\n",
    "\n",
    "Но пропуски в `genre` могут помешать сравнению музыкальных вкусов в Москве и Санкт-Петербурге. На практике было бы правильно установить причину пропусков и восстановить данные. Такой возможности нет в учебном проекте. Придётся:\n",
    "* заполнить и эти пропуски явными обозначениями;\n",
    "* оценить, насколько они повредят расчётам. "
   ]
  },
  {
   "cell_type": "markdown",
   "metadata": {
    "deletable": false,
    "editable": false,
    "id": "fSv2laPA_Zct",
    "tags": [
     "start_task"
    ]
   },
   "source": [
    "**Задание 10**\n",
    "\n",
    "Замените пропущенные значения в столбцах `track`, `artist` и `genre` на строку `'unknown'`. Для этого создайте список `columns_to_replace`, переберите его элементы циклом `for` и для каждого столбца выполните замену пропущенных значений:"
   ]
  },
  {
   "cell_type": "code",
   "execution_count": 10,
   "metadata": {
    "deletable": false,
    "id": "KplB5qWs_Zct",
    "scrolled": false
   },
   "outputs": [
    {
     "name": "stdout",
     "output_type": "stream",
     "text": [
      "track\n",
      "artist\n",
      "genre\n"
     ]
    }
   ],
   "source": [
    "# перебор названий столбцов в цикле и замена пропущенных значений на 'unknown'\n",
    "columns_to_replace = ['track', 'artist', 'genre']\n",
    "\n",
    "for column in columns_to_replace:\n",
    "    df[column] = df[column].fillna('unknown')\n",
    "    print(column)\n"
   ]
  },
  {
   "cell_type": "markdown",
   "metadata": {},
   "source": [
    "columns_to_replace = ['track', 'artist', 'genre']\n",
    "df[columns_to_replace].fillna('unknown')"
   ]
  },
  {
   "cell_type": "markdown",
   "metadata": {},
   "source": [
    "#columns_to_replace = ['track', 'artist', 'genre']\n",
    "#df[columns_to_replace].fillna('unknown')"
   ]
  },
  {
   "cell_type": "markdown",
   "metadata": {},
   "source": []
  },
  {
   "cell_type": "markdown",
   "metadata": {
    "deletable": false,
    "editable": false,
    "id": "Ilsm-MZo_Zct",
    "tags": [
     "start_task"
    ]
   },
   "source": [
    "**Задание 11**\n",
    "\n",
    "Убедитесь, что в таблице не осталось пропусков. Для этого ещё раз посчитайте пропущенные значения."
   ]
  },
  {
   "cell_type": "code",
   "execution_count": 11,
   "metadata": {
    "deletable": false,
    "id": "Tq4nYRX4_Zct"
   },
   "outputs": [
    {
     "data": {
      "text/plain": [
       "user_id    0\n",
       "track      0\n",
       "artist     0\n",
       "genre      0\n",
       "city       0\n",
       "time       0\n",
       "day        0\n",
       "dtype: int64"
      ]
     },
     "execution_count": 11,
     "metadata": {},
     "output_type": "execute_result"
    }
   ],
   "source": [
    "# подсчёт пропусков\n",
    "df.isna().sum()"
   ]
  },
  {
   "cell_type": "markdown",
   "metadata": {
    "deletable": false,
    "editable": false,
    "id": "BWKRtBJ3_Zct",
    "tags": [
     "start_task"
    ]
   },
   "source": [
    "### Дубликаты\n",
    "\n",
    "**Задание 12**\n",
    "\n",
    "Посчитайте явные дубликаты в таблице одной командой:"
   ]
  },
  {
   "cell_type": "code",
   "execution_count": 12,
   "metadata": {
    "deletable": false,
    "id": "36eES_S0_Zct"
   },
   "outputs": [
    {
     "data": {
      "text/plain": [
       "3826"
      ]
     },
     "execution_count": 12,
     "metadata": {},
     "output_type": "execute_result"
    }
   ],
   "source": [
    "# подсчёт явных дубликатов\n",
    "df.duplicated().sum()"
   ]
  },
  {
   "cell_type": "markdown",
   "metadata": {
    "deletable": false,
    "editable": false,
    "id": "Ot25h6XR_Zct",
    "tags": [
     "start_task"
    ]
   },
   "source": [
    "**Задание 13**\n",
    "\n",
    "Вызовите специальный метод `pandas`, чтобы удалить явные дубликаты:"
   ]
  },
  {
   "cell_type": "code",
   "execution_count": 13,
   "metadata": {
    "deletable": false,
    "id": "exFHq6tt_Zct"
   },
   "outputs": [],
   "source": [
    "# удаление явных дубликатов\n",
    "df=df.drop_duplicates().reset_index(drop=True)"
   ]
  },
  {
   "cell_type": "markdown",
   "metadata": {
    "deletable": false,
    "editable": false,
    "id": "Im2YwBEG_Zct",
    "tags": [
     "start_task"
    ]
   },
   "source": [
    "**Задание 14**\n",
    "\n",
    "Ещё раз посчитайте явные дубликаты в таблице — убедитесь, что полностью от них избавились:"
   ]
  },
  {
   "cell_type": "code",
   "execution_count": 14,
   "metadata": {
    "deletable": false,
    "id": "-8PuNWQ0_Zct"
   },
   "outputs": [
    {
     "data": {
      "text/plain": [
       "0"
      ]
     },
     "execution_count": 14,
     "metadata": {},
     "output_type": "execute_result"
    }
   ],
   "source": [
    "# проверка на отсутствие дубликатов\n",
    "df.duplicated().sum()"
   ]
  },
  {
   "cell_type": "markdown",
   "metadata": {
    "deletable": false,
    "editable": false,
    "id": "QlFBsxAr_Zct"
   },
   "source": [
    "Теперь избавьтесь от неявных дубликатов в колонке `genre`. Например, название одного и того же жанра может быть записано немного по-разному. Такие ошибки тоже повлияют на результат исследования."
   ]
  },
  {
   "cell_type": "markdown",
   "metadata": {
    "deletable": false,
    "editable": false,
    "id": "eSjWwsOh_Zct",
    "tags": [
     "start_task"
    ]
   },
   "source": [
    "**Задание 15**\n",
    "\n",
    "Выведите на экран список уникальных названий жанров, отсортированный в алфавитном порядке. Для этого:\n",
    "1. извлеките нужный столбец датафрейма; \n",
    "2. примените к нему метод сортировки;\n",
    "3. для отсортированного столбца вызовите метод, который вернёт уникальные значения из столбца."
   ]
  },
  {
   "cell_type": "code",
   "execution_count": 15,
   "metadata": {
    "deletable": false,
    "id": "JIUcqzZN_Zct"
   },
   "outputs": [
    {
     "data": {
      "text/plain": [
       "array(['acid', 'acoustic', 'action', 'adult', 'africa', 'afrikaans',\n",
       "       'alternative', 'alternativepunk', 'ambient', 'americana',\n",
       "       'animated', 'anime', 'arabesk', 'arabic', 'arena',\n",
       "       'argentinetango', 'art', 'audiobook', 'author', 'avantgarde',\n",
       "       'axé', 'baile', 'balkan', 'beats', 'bigroom', 'black', 'bluegrass',\n",
       "       'blues', 'bollywood', 'bossa', 'brazilian', 'breakbeat', 'breaks',\n",
       "       'broadway', 'cantautori', 'cantopop', 'canzone', 'caribbean',\n",
       "       'caucasian', 'celtic', 'chamber', 'chanson', 'children', 'chill',\n",
       "       'chinese', 'choral', 'christian', 'christmas', 'classical',\n",
       "       'classicmetal', 'club', 'colombian', 'comedy', 'conjazz',\n",
       "       'contemporary', 'country', 'cuban', 'dance', 'dancehall',\n",
       "       'dancepop', 'dark', 'death', 'deep', 'deutschrock', 'deutschspr',\n",
       "       'dirty', 'disco', 'dnb', 'documentary', 'downbeat', 'downtempo',\n",
       "       'drum', 'dub', 'dubstep', 'eastern', 'easy', 'electronic',\n",
       "       'electropop', 'emo', 'entehno', 'epicmetal', 'estrada', 'ethnic',\n",
       "       'eurofolk', 'european', 'experimental', 'extrememetal', 'fado',\n",
       "       'fairytail', 'film', 'fitness', 'flamenco', 'folk', 'folklore',\n",
       "       'folkmetal', 'folkrock', 'folktronica', 'forró', 'frankreich',\n",
       "       'französisch', 'french', 'funk', 'future', 'gangsta', 'garage',\n",
       "       'german', 'ghazal', 'gitarre', 'glitch', 'gospel', 'gothic',\n",
       "       'grime', 'grunge', 'gypsy', 'handsup', \"hard'n'heavy\", 'hardcore',\n",
       "       'hardstyle', 'hardtechno', 'hip', 'hip-hop', 'hiphop',\n",
       "       'historisch', 'holiday', 'hop', 'horror', 'house', 'hymn', 'idm',\n",
       "       'independent', 'indian', 'indie', 'indipop', 'industrial',\n",
       "       'inspirational', 'instrumental', 'international', 'irish', 'jam',\n",
       "       'japanese', 'jazz', 'jewish', 'jpop', 'jungle', 'k-pop',\n",
       "       'karadeniz', 'karaoke', 'kayokyoku', 'korean', 'laiko', 'latin',\n",
       "       'latino', 'leftfield', 'local', 'lounge', 'loungeelectronic',\n",
       "       'lovers', 'malaysian', 'mandopop', 'marschmusik', 'meditative',\n",
       "       'mediterranean', 'melodic', 'metal', 'metalcore', 'mexican',\n",
       "       'middle', 'minimal', 'miscellaneous', 'modern', 'mood', 'mpb',\n",
       "       'muslim', 'native', 'neoklassik', 'neue', 'new', 'newage',\n",
       "       'newwave', 'nu', 'nujazz', 'numetal', 'oceania', 'old', 'opera',\n",
       "       'orchestral', 'other', 'piano', 'podcasts', 'pop', 'popdance',\n",
       "       'popelectronic', 'popeurodance', 'poprussian', 'post',\n",
       "       'posthardcore', 'postrock', 'power', 'progmetal', 'progressive',\n",
       "       'psychedelic', 'punjabi', 'punk', 'quebecois', 'ragga', 'ram',\n",
       "       'rancheras', 'rap', 'rave', 'reggae', 'reggaeton', 'regional',\n",
       "       'relax', 'religious', 'retro', 'rhythm', 'rnb', 'rnr', 'rock',\n",
       "       'rockabilly', 'rockalternative', 'rockindie', 'rockother',\n",
       "       'romance', 'roots', 'ruspop', 'rusrap', 'rusrock', 'russian',\n",
       "       'salsa', 'samba', 'scenic', 'schlager', 'self', 'sertanejo',\n",
       "       'shanson', 'shoegazing', 'showtunes', 'singer', 'ska', 'skarock',\n",
       "       'slow', 'smooth', 'soft', 'soul', 'soulful', 'sound', 'soundtrack',\n",
       "       'southern', 'specialty', 'speech', 'spiritual', 'sport',\n",
       "       'stonerrock', 'surf', 'swing', 'synthpop', 'synthrock',\n",
       "       'sängerportrait', 'tango', 'tanzorchester', 'taraftar', 'tatar',\n",
       "       'tech', 'techno', 'teen', 'thrash', 'top', 'traditional',\n",
       "       'tradjazz', 'trance', 'tribal', 'trip', 'triphop', 'tropical',\n",
       "       'türk', 'türkçe', 'ukrrock', 'unknown', 'urban', 'uzbek',\n",
       "       'variété', 'vi', 'videogame', 'vocal', 'western', 'world',\n",
       "       'worldbeat', 'ïîï', 'электроника'], dtype=object)"
      ]
     },
     "execution_count": 15,
     "metadata": {},
     "output_type": "execute_result"
    }
   ],
   "source": [
    "\n",
    "df['genre'].sort_values().unique()\n",
    "\n",
    "# Просмотр уникальных названий жанров\n",
    "# Задание можно выполнить в одну линию\n"
   ]
  },
  {
   "cell_type": "markdown",
   "metadata": {
    "deletable": false,
    "editable": false,
    "id": "qej-Qmuo_Zct",
    "tags": [
     "start_task"
    ]
   },
   "source": [
    "**Задание 16**\n",
    "\n",
    "Просмотрите список и найдите неявные дубликаты названия `hiphop`. Это могут быть названия с ошибками или альтернативные названия того же жанра.\n",
    "\n",
    "Вы увидите следующие неявные дубликаты:\n",
    "* *hip*,\n",
    "* *hop*,\n",
    "* *hip-hop*.\n",
    "\n",
    "Чтобы очистить от них таблицу используйте метод `replace()` с двумя аргументами: списком строк-дубликатов (включащий *hip*, *hop* и *hip-hop*) и строкой с правильным значением. Вам нужно исправить колонку `genre` в таблице `df`: заменить каждое значение из списка дубликатов на верное. Вместо `hip`, `hop` и `hip-hop` в таблице должно быть значение `hiphop`:"
   ]
  },
  {
   "cell_type": "code",
   "execution_count": 16,
   "metadata": {
    "deletable": false,
    "id": "ErNDkmns_Zct"
   },
   "outputs": [],
   "source": [
    "# Устранение неявных дубликатов\n",
    "duplicates = ['hip', 'hop', 'hip-hop']\n",
    "correct_name = 'hiphop'\n",
    "df['genre'] = df['genre'].replace(duplicates, correct_name)"
   ]
  },
  {
   "cell_type": "markdown",
   "metadata": {
    "deletable": false,
    "editable": false,
    "id": "zQKF16_RG15m",
    "tags": [
     "start_task"
    ]
   },
   "source": [
    "**Задание 17**\n",
    "\n",
    "Проверьте, что заменили неправильные названия:\n",
    "\n",
    "*   hip,\n",
    "*   hop,\n",
    "*   hip-hop.\n",
    "\n",
    "Выведите отсортированный список уникальных значений столбца `genre`:"
   ]
  },
  {
   "cell_type": "code",
   "execution_count": 17,
   "metadata": {
    "deletable": false,
    "id": "wvixALnFG15m"
   },
   "outputs": [
    {
     "data": {
      "text/plain": [
       "array(['acid', 'acoustic', 'action', 'adult', 'africa', 'afrikaans',\n",
       "       'alternative', 'alternativepunk', 'ambient', 'americana',\n",
       "       'animated', 'anime', 'arabesk', 'arabic', 'arena',\n",
       "       'argentinetango', 'art', 'audiobook', 'author', 'avantgarde',\n",
       "       'axé', 'baile', 'balkan', 'beats', 'bigroom', 'black', 'bluegrass',\n",
       "       'blues', 'bollywood', 'bossa', 'brazilian', 'breakbeat', 'breaks',\n",
       "       'broadway', 'cantautori', 'cantopop', 'canzone', 'caribbean',\n",
       "       'caucasian', 'celtic', 'chamber', 'chanson', 'children', 'chill',\n",
       "       'chinese', 'choral', 'christian', 'christmas', 'classical',\n",
       "       'classicmetal', 'club', 'colombian', 'comedy', 'conjazz',\n",
       "       'contemporary', 'country', 'cuban', 'dance', 'dancehall',\n",
       "       'dancepop', 'dark', 'death', 'deep', 'deutschrock', 'deutschspr',\n",
       "       'dirty', 'disco', 'dnb', 'documentary', 'downbeat', 'downtempo',\n",
       "       'drum', 'dub', 'dubstep', 'eastern', 'easy', 'electronic',\n",
       "       'electropop', 'emo', 'entehno', 'epicmetal', 'estrada', 'ethnic',\n",
       "       'eurofolk', 'european', 'experimental', 'extrememetal', 'fado',\n",
       "       'fairytail', 'film', 'fitness', 'flamenco', 'folk', 'folklore',\n",
       "       'folkmetal', 'folkrock', 'folktronica', 'forró', 'frankreich',\n",
       "       'französisch', 'french', 'funk', 'future', 'gangsta', 'garage',\n",
       "       'german', 'ghazal', 'gitarre', 'glitch', 'gospel', 'gothic',\n",
       "       'grime', 'grunge', 'gypsy', 'handsup', \"hard'n'heavy\", 'hardcore',\n",
       "       'hardstyle', 'hardtechno', 'hiphop', 'historisch', 'holiday',\n",
       "       'horror', 'house', 'hymn', 'idm', 'independent', 'indian', 'indie',\n",
       "       'indipop', 'industrial', 'inspirational', 'instrumental',\n",
       "       'international', 'irish', 'jam', 'japanese', 'jazz', 'jewish',\n",
       "       'jpop', 'jungle', 'k-pop', 'karadeniz', 'karaoke', 'kayokyoku',\n",
       "       'korean', 'laiko', 'latin', 'latino', 'leftfield', 'local',\n",
       "       'lounge', 'loungeelectronic', 'lovers', 'malaysian', 'mandopop',\n",
       "       'marschmusik', 'meditative', 'mediterranean', 'melodic', 'metal',\n",
       "       'metalcore', 'mexican', 'middle', 'minimal', 'miscellaneous',\n",
       "       'modern', 'mood', 'mpb', 'muslim', 'native', 'neoklassik', 'neue',\n",
       "       'new', 'newage', 'newwave', 'nu', 'nujazz', 'numetal', 'oceania',\n",
       "       'old', 'opera', 'orchestral', 'other', 'piano', 'podcasts', 'pop',\n",
       "       'popdance', 'popelectronic', 'popeurodance', 'poprussian', 'post',\n",
       "       'posthardcore', 'postrock', 'power', 'progmetal', 'progressive',\n",
       "       'psychedelic', 'punjabi', 'punk', 'quebecois', 'ragga', 'ram',\n",
       "       'rancheras', 'rap', 'rave', 'reggae', 'reggaeton', 'regional',\n",
       "       'relax', 'religious', 'retro', 'rhythm', 'rnb', 'rnr', 'rock',\n",
       "       'rockabilly', 'rockalternative', 'rockindie', 'rockother',\n",
       "       'romance', 'roots', 'ruspop', 'rusrap', 'rusrock', 'russian',\n",
       "       'salsa', 'samba', 'scenic', 'schlager', 'self', 'sertanejo',\n",
       "       'shanson', 'shoegazing', 'showtunes', 'singer', 'ska', 'skarock',\n",
       "       'slow', 'smooth', 'soft', 'soul', 'soulful', 'sound', 'soundtrack',\n",
       "       'southern', 'specialty', 'speech', 'spiritual', 'sport',\n",
       "       'stonerrock', 'surf', 'swing', 'synthpop', 'synthrock',\n",
       "       'sängerportrait', 'tango', 'tanzorchester', 'taraftar', 'tatar',\n",
       "       'tech', 'techno', 'teen', 'thrash', 'top', 'traditional',\n",
       "       'tradjazz', 'trance', 'tribal', 'trip', 'triphop', 'tropical',\n",
       "       'türk', 'türkçe', 'ukrrock', 'unknown', 'urban', 'uzbek',\n",
       "       'variété', 'vi', 'videogame', 'vocal', 'western', 'world',\n",
       "       'worldbeat', 'ïîï', 'электроника'], dtype=object)"
      ]
     },
     "execution_count": 17,
     "metadata": {},
     "output_type": "execute_result"
    }
   ],
   "source": [
    "# Проверка на неявные дубликаты\n",
    "df['genre'].sort_values().unique()"
   ]
  },
  {
   "cell_type": "markdown",
   "metadata": {
    "deletable": false,
    "editable": false,
    "id": "jz6a9-7HQUDd"
   },
   "source": [
    "**Выводы**\n",
    "\n",
    "Предобработка обнаружила три проблемы в данных:\n",
    "\n",
    "- нарушения в стиле заголовков,\n",
    "- пропущенные значения,\n",
    "- дубликаты — явные и неявные.\n",
    "\n",
    "Вы исправили заголовки, чтобы упростить работу с таблицей. Без дубликатов исследование станет более точным.\n",
    "\n",
    "Пропущенные значения вы заменили на `'unknown'`. Ещё предстоит увидеть, не повредят ли исследованию пропуски в колонке `genre`.\n",
    "\n",
    "Теперь можно перейти к проверке гипотез. "
   ]
  },
  {
   "cell_type": "markdown",
   "metadata": {
    "deletable": false,
    "editable": false,
    "id": "WttZHXH0SqKk"
   },
   "source": [
    "## Проверка гипотез"
   ]
  },
  {
   "cell_type": "markdown",
   "metadata": {
    "deletable": false,
    "editable": false,
    "id": "Im936VVi_Zcu"
   },
   "source": [
    "### Сравнение поведения пользователей двух столиц"
   ]
  },
  {
   "cell_type": "markdown",
   "metadata": {
    "deletable": false,
    "editable": false,
    "id": "nwt_MuaL_Zcu"
   },
   "source": [
    "Первая гипотеза утверждает, что пользователи по-разному слушают музыку в Москве и Санкт-Петербурге. Проверьте это предположение по данным о трёх днях недели — понедельнике, среде и пятнице. Для этого:\n",
    "\n",
    "* Разделите пользователей Москвы и Санкт-Петербурга.\n",
    "* Сравните, сколько треков послушала каждая группа пользователей в понедельник, среду и пятницу.\n"
   ]
  },
  {
   "cell_type": "markdown",
   "metadata": {
    "deletable": false,
    "editable": false,
    "id": "8Dw_YMmT_Zcu",
    "tags": [
     "start_task"
    ]
   },
   "source": [
    "**Задание 18**\n",
    "\n",
    "Для тренировки сначала выполните каждый из расчётов по отдельности. \n",
    "\n",
    "Оцените активность пользователей в каждом городе. Сгруппируйте данные по городу и посчитайте прослушивания в каждой группе.\n",
    "\n"
   ]
  },
  {
   "cell_type": "code",
   "execution_count": 18,
   "metadata": {
    "deletable": false,
    "id": "0_Qs96oh_Zcu"
   },
   "outputs": [
    {
     "data": {
      "text/plain": [
       "city\n",
       "Moscow              42741\n",
       "Saint-Petersburg    18512\n",
       "Name: user_id, dtype: int64"
      ]
     },
     "execution_count": 18,
     "metadata": {},
     "output_type": "execute_result"
    }
   ],
   "source": [
    "# Подсчёт прослушиваний в каждом городе\n",
    "df.groupby('city')['user_id'].count()\n"
   ]
  },
  {
   "cell_type": "markdown",
   "metadata": {
    "deletable": false,
    "editable": false,
    "id": "dzli3w8o_Zcu",
    "tags": [
     "start_task"
    ]
   },
   "source": [
    "В Москве прослушиваний больше, чем в Петербурге. Из этого не следует, что московские пользователи чаще слушают музыку. Просто самих пользователей в Москве больше.\n",
    "\n",
    "**Задание 19**\n",
    "\n",
    "Теперь сгруппируйте данные по дню недели и посчитайте прослушивания в понедельник, среду и пятницу. Учтите, что в данных есть информация о прослушиваниях только за эти дни.\n"
   ]
  },
  {
   "cell_type": "code",
   "execution_count": 19,
   "metadata": {
    "deletable": false,
    "id": "uZMKjiJz_Zcu"
   },
   "outputs": [
    {
     "data": {
      "text/plain": [
       "day\n",
       "Friday       21840\n",
       "Monday       21354\n",
       "Wednesday    18059\n",
       "Name: user_id, dtype: int64"
      ]
     },
     "execution_count": 19,
     "metadata": {},
     "output_type": "execute_result"
    }
   ],
   "source": [
    "# Подсчёт прослушиваний в каждый из трёх дней\n",
    "#print (df['day'])\n",
    "df.groupby('day')['user_id'].count()"
   ]
  },
  {
   "cell_type": "markdown",
   "metadata": {
    "deletable": false,
    "editable": false,
    "id": "cC2tNrlL_Zcu"
   },
   "source": [
    "В среднем пользователи из двух городов менее активны по средам. Но картина может измениться, если рассмотреть каждый город в отдельности."
   ]
  },
  {
   "cell_type": "markdown",
   "metadata": {
    "deletable": false,
    "editable": false,
    "id": "POzs8bGa_Zcu",
    "tags": [
     "start_task"
    ]
   },
   "source": [
    "**Задание 20**\n",
    "\n",
    "\n",
    "Вы видели, как работает группировка по городу и по дням недели. Теперь напишите функцию, которая объединит два эти расчёта.\n",
    "\n",
    "Создайте функцию `number_tracks()`, которая посчитает прослушивания для заданного дня и города. Ей понадобятся два параметра:\n",
    "* день недели,\n",
    "* название города.\n",
    "\n",
    "В функции сохраните в переменную строки исходной таблицы, у которых значение:\n",
    "  * в колонке `day` равно параметру `day`,\n",
    "  * в колонке `city` равно параметру `city`.\n",
    "\n",
    "Для этого примените последовательную фильтрацию с логической индексацией (или сложные логические выражения в одну строку, если вы уже знакомы с ними).\n",
    "\n",
    "Затем посчитайте значения в столбце `user_id` получившейся таблицы. Результат сохраните в новую переменную. Верните эту переменную из функции."
   ]
  },
  {
   "cell_type": "code",
   "execution_count": null,
   "metadata": {
    "deletable": false,
    "id": "Nz3GdQB1_Zcu"
   },
   "outputs": [],
   "source": [
    "def number_tracks(day, city):  # <создание функции number_tracks()> Объявляется функция с двумя параметрами: day, city.\n",
    "    t_list = df[df['day']==day] \n",
    "    track_list = t_list[t_list['city']== city] \n",
    "    track_list_count = track_list['user_id'].count()\n",
    "    return track_list_count\n",
    "    \n",
    "    # В переменной track_list сохраняются те строки таблицы df, для которых \n",
    "# значение в столбце 'day' равно параметру day и одновременно значение\n",
    "# в столбце 'city' равно параметру city (используйте последовательную фильтрацию\n",
    "# с помощью логической индексации или сложные логические выражения в одну строку, если вы уже знакомы с ними).\n",
    "# В переменной track_list_count сохраняется число значений столбца 'user_id',\n",
    "# рассчитанное методом count() для таблицы track_list.\n",
    "# Функция возвращает число - значение track_list_count.\n",
    "\n",
    "# Функция для подсчёта прослушиваний для конкретного города и дня.\n",
    "# С помощью последовательной фильтрации с логической индексацией она \n",
    "# сначала получит из исходной таблицы строки с нужным днём,\n",
    "# затем из результата отфильтрует строки с нужным городом,\n",
    "# методом count() посчитает количество значений в колонке user_id. \n",
    "# Это количество функция вернёт в качестве результата"
   ]
  },
  {
   "cell_type": "raw",
   "metadata": {},
   "source": [
    "# <создание функции number_tracks()>\n",
    "# объявляется функция с тремя параметрами: df, day, city\n",
    "def number_tracks(df, day, city):\n",
    "# в переменной track_list сохраняются те строки таблицы df, для которых \n",
    "# значение в столбце 'weekday' равно параметру day\n",
    "# и одновременно значение в столбце 'city' равно параметру city\n",
    "    track_list=df[(df['weekday']==day) & (df['city']==city)]\n",
    "# в переменной track_list_count сохраняется число значений столбца 'genre_name',\n",
    "# рассчитанное методом count() для таблицы track_list\n",
    "    track_list_count = track_list['genre_name'].count()\n",
    "# функция возвращает значение track_list_count\n",
    "    return track_list_count"
   ]
  },
  {
   "cell_type": "raw",
   "metadata": {},
   "source": [
    "#Рабочее_решение\n",
    "def number_tracks(day, city):  # <создание функции number_tracks()> Объявляется функция с двумя параметрами: day, city.\n",
    "    t_list = df[df['day']==day] \n",
    "    track_list = t_list[t_list['city']== city] \n",
    "    track_list_count = track_list['user_id'].count()\n",
    "    return track_list_count"
   ]
  },
  {
   "cell_type": "markdown",
   "metadata": {
    "deletable": false,
    "editable": false,
    "id": "ytf7xFrFJQ2r",
    "tags": [
     "start_task"
    ]
   },
   "source": [
    "**Задание 21**\n",
    "\n",
    "Вызовите `number_tracks()` шесть раз, меняя значение параметров — так, чтобы получить данные для каждого города в каждый из трёх дней."
   ]
  },
  {
   "cell_type": "code",
   "execution_count": 21,
   "metadata": {
    "deletable": false,
    "id": "rJcRATNQ_Zcu"
   },
   "outputs": [
    {
     "ename": "TypeError",
     "evalue": "number_tracks() missing 1 required positional argument: 'city'",
     "output_type": "error",
     "traceback": [
      "\u001b[0;31m---------------------------------------------------------------------------\u001b[0m",
      "\u001b[0;31mTypeError\u001b[0m                                 Traceback (most recent call last)",
      "\u001b[0;32m/tmp/ipykernel_609/2820110136.py\u001b[0m in \u001b[0;36m<module>\u001b[0;34m\u001b[0m\n\u001b[1;32m      1\u001b[0m \u001b[0;31m# количество прослушиваний в Москве по понедельникам\u001b[0m\u001b[0;34m\u001b[0m\u001b[0;34m\u001b[0m\u001b[0;34m\u001b[0m\u001b[0m\n\u001b[0;32m----> 2\u001b[0;31m \u001b[0mnumber_tracks\u001b[0m\u001b[0;34m(\u001b[0m\u001b[0;34m'Monday'\u001b[0m\u001b[0;34m,\u001b[0m \u001b[0;34m'Moscow'\u001b[0m\u001b[0;34m)\u001b[0m\u001b[0;34m\u001b[0m\u001b[0;34m\u001b[0m\u001b[0m\n\u001b[0m",
      "\u001b[0;31mTypeError\u001b[0m: number_tracks() missing 1 required positional argument: 'city'"
     ]
    }
   ],
   "source": [
    "# количество прослушиваний в Москве по понедельникам\n",
    "number_tracks('Monday', 'Moscow')"
   ]
  },
  {
   "cell_type": "code",
   "execution_count": null,
   "metadata": {
    "deletable": false,
    "id": "hq_ncZ5T_Zcu"
   },
   "outputs": [],
   "source": [
    "# количество прослушиваний в Санкт-Петербурге по понедельникам\n",
    "number_tracks('Monday', 'Saint-Petersburg')"
   ]
  },
  {
   "cell_type": "code",
   "execution_count": null,
   "metadata": {
    "deletable": false,
    "id": "_NTy2VPU_Zcu"
   },
   "outputs": [],
   "source": [
    "# количество прослушиваний в Москве по средам\n",
    "number_tracks('Wednesday', 'Moscow')"
   ]
  },
  {
   "cell_type": "code",
   "execution_count": null,
   "metadata": {
    "deletable": false,
    "id": "j2y3TAwo_Zcu"
   },
   "outputs": [],
   "source": [
    "# количество прослушиваний в Санкт-Петербурге по средам\n",
    "number_tracks('Wednesday', 'Saint-Petersburg')"
   ]
  },
  {
   "cell_type": "code",
   "execution_count": null,
   "metadata": {
    "deletable": false,
    "id": "vYDw5u_K_Zcu"
   },
   "outputs": [],
   "source": [
    "# количество прослушиваний в Москве по пятницам\n",
    "number_tracks('Friday', 'Moscow')"
   ]
  },
  {
   "cell_type": "code",
   "execution_count": null,
   "metadata": {
    "deletable": false,
    "id": "8_yzFtW3_Zcu"
   },
   "outputs": [],
   "source": [
    "# количество прослушиваний в Санкт-Петербурге по пятницам\n",
    "number_tracks('Friday', 'Saint-Petersburg')"
   ]
  },
  {
   "cell_type": "markdown",
   "metadata": {
    "deletable": false,
    "editable": false,
    "id": "7QXffbO-_Zcu",
    "tags": [
     "start_task"
    ]
   },
   "source": [
    "**Задание 22**\n",
    "\n",
    "Создайте c помощью конструктора `pd.DataFrame` таблицу, где\n",
    "* названия колонок — `['city', 'monday', 'wednesday', 'friday']`;\n",
    "* данные — результаты, которые вы получили с помощью `number_tracks`."
   ]
  },
  {
   "cell_type": "code",
   "execution_count": null,
   "metadata": {
    "deletable": false,
    "id": "APAcLpOr_Zcu"
   },
   "outputs": [],
   "source": [
    "# Таблица с результатами\n",
    "data = [['Moscow', 15740, 11056, 15945],\n",
    "       ['Saint-Petersburg', 5614, 7003, 5895]]\n",
    "columns = ['city', 'monday', 'wednesday', 'friday']\n",
    "\n",
    "info = pd.DataFrame(data=data, columns=columns)"
   ]
  },
  {
   "cell_type": "markdown",
   "metadata": {
    "deletable": false,
    "editable": false,
    "id": "-EgPIHYu_Zcu"
   },
   "source": [
    "**Выводы**\n",
    "\n",
    "Данные показывают разницу поведения пользователей:\n",
    "\n",
    "- В Москве пик прослушиваний приходится на понедельник и пятницу, а в среду заметен спад.\n",
    "- В Петербурге, наоборот, больше слушают музыку по средам. Активность в понедельник и пятницу здесь почти в равной мере уступает среде.\n",
    "\n",
    "Значит, данные говорят в пользу первой гипотезы."
   ]
  },
  {
   "cell_type": "markdown",
   "metadata": {
    "deletable": false,
    "editable": false,
    "id": "atZAxtq4_Zcu"
   },
   "source": [
    "### Музыка в начале и в конце недели"
   ]
  },
  {
   "cell_type": "markdown",
   "metadata": {
    "deletable": false,
    "editable": false,
    "id": "eXrQqXFH_Zcu"
   },
   "source": [
    "Согласно второй гипотезе, утром в понедельник в Москве преобладают одни жанры, а в Петербурге — другие. Так же и вечером пятницы преобладают разные жанры — в зависимости от города."
   ]
  },
  {
   "cell_type": "markdown",
   "metadata": {
    "deletable": false,
    "editable": false,
    "id": "S8UcW6Hw_Zcu",
    "tags": [
     "start_task"
    ]
   },
   "source": [
    "**Задание 23**\n",
    "\n",
    "Сохраните таблицы с данными в две переменные:\n",
    "* по Москве — в `moscow_general`;\n",
    "* по Санкт-Петербургу — в `spb_general`."
   ]
  },
  {
   "cell_type": "code",
   "execution_count": null,
   "metadata": {
    "deletable": false,
    "id": "qeaFfM_P_Zcu"
   },
   "outputs": [],
   "source": [
    "# получение таблицы moscow_general из тех строк таблицы df, \n",
    "# для которых значение в столбце 'city' равно 'Moscow'\n",
    "moscow_general = df[df['city'] == 'Moscow']\n"
   ]
  },
  {
   "cell_type": "code",
   "execution_count": null,
   "metadata": {
    "deletable": false,
    "id": "ORaVRKto_Zcu"
   },
   "outputs": [],
   "source": [
    "# получение таблицы spb_general из тех строк таблицы df,\n",
    "# для которых значение в столбце 'city' равно 'Saint-Petersburg'\n",
    "spb_general = df[df['city'] == 'Saint-Petersburg']"
   ]
  },
  {
   "cell_type": "markdown",
   "metadata": {
    "deletable": false,
    "editable": false,
    "id": "MEJV-CX2_Zcu",
    "tags": [
     "start_task"
    ]
   },
   "source": [
    "**Задание 24**\n",
    "\n",
    "Создайте функцию `genre_weekday()` с четырьмя параметрами:\n",
    "* таблица (датафрейм) с данными,\n",
    "* день недели,\n",
    "* начальная временная метка в формате 'hh:mm', \n",
    "* последняя временная метка в формате 'hh:mm'.\n",
    "\n",
    "Функция должна вернуть информацию о топ-10 жанров тех треков, которые прослушивали в указанный день, в промежутке между двумя отметками времени."
   ]
  },
  {
   "cell_type": "code",
   "execution_count": null,
   "metadata": {
    "deletable": false,
    "id": "laJT9BYl_Zcu"
   },
   "outputs": [],
   "source": [
    "# Объявление функции genre_weekday() с параметрами table, day, time1, time2,\n",
    "# которая возвращает информацию о самых популярных жанрах в указанный день в\n",
    "# заданное время:\n",
    "# 1) в переменную genre_df сохраняются те строки переданного датафрейма table, для\n",
    "#    которых одновременно:\n",
    "#    - значение в столбце day равно значению аргумента day\n",
    "#    - значение в столбце time больше значения аргумента time1\n",
    "#    - значение в столбце time меньше значения аргумента time2\n",
    "#    Используйте последовательную фильтрацию с помощью логической индексации.\n",
    "# 2) сгруппировать датафрейм genre_df по столбцу genre, взять один из его\n",
    "#    столбцов и посчитать методом count() количество записей для каждого из\n",
    "#    присутствующих жанров, получившийся Series записать в переменную\n",
    "#    genre_df_count\n",
    "# 3) отсортировать genre_df_count по убыванию встречаемости и сохранить\n",
    "#    в переменную genre_df_sorted\n",
    "# 4) вернуть Series из 10 первых значений genre_df_sorted, это будут топ-10\n",
    "#    популярных жанров (в указанный день, в заданное время)\n",
    "\n",
    "def genre_weekday(df, day, time1, time2):\n",
    "    # последовательная фильтрация\n",
    "    # оставляем в genre_df только те строки df, у которых день равен day\n",
    "    genre_df = df[df['day'] == day]  # ваш код здесь\n",
    "    # оставляем в genre_df только те строки genre_df, у которых время меньше time2\n",
    "    genre_df = genre_df[genre_df['time'] < time2] # ваш код здесь\n",
    "    # оставляем в genre_df только те строки genre_df, у которых время больше time1\n",
    "    genre_df = genre_df[genre_df['time'] > time1] # ваш код здесь\n",
    "    # сгруппируем отфильтрованный датафрейм по столбцу с названиями жанров, возьмём столбец genre и посчитаем кол-во строк для каждого жанра методом count()\n",
    "    genre_df_grouped = genre_df.groupby('genre')['genre'].count() # ваш код здесь\n",
    "    # отсортируем результат по убыванию (чтобы в начале Series оказались самые популярные жанры)\n",
    "    genre_df_sorted = genre_df_grouped.sort_values(ascending=False) # ваш код здесь\n",
    "    # вернём Series с 10 самыми популярными жанрами в указанный отрезок времени заданного дня\n",
    "    return genre_df_sorted[:10]"
   ]
  },
  {
   "cell_type": "markdown",
   "metadata": {
    "deletable": false,
    "editable": false,
    "id": "la2s2_PF_Zcu",
    "tags": [
     "start_task"
    ]
   },
   "source": [
    "**Задание 25**\n",
    "\n",
    "\n",
    "Cравните результаты функции `genre_weekday()` для Москвы и Санкт-Петербурга в понедельник утром (с 7:00 до 11:00) и в пятницу вечером (с 17:00 до 23:00):"
   ]
  },
  {
   "cell_type": "code",
   "execution_count": null,
   "metadata": {
    "deletable": false,
    "id": "yz7itPUQ_Zcu"
   },
   "outputs": [],
   "source": [
    "# вызов функции для утра понедельника в Москве (вместо df — таблица moscow_general)\n",
    "# объекты, хранящие время, являются строками и сравниваются как строки\n",
    "# пример вызова: genre_weekday(moscow_general, 'Monday', '07:00', '11:00')\n",
    "genre_weekday(moscow_general, 'Monday', '07:00', '11:00')"
   ]
  },
  {
   "cell_type": "code",
   "execution_count": null,
   "metadata": {
    "deletable": false,
    "id": "kwUcHPdy_Zcu"
   },
   "outputs": [],
   "source": [
    "# вызов функции для утра понедельника в Петербурге (вместо df — таблица spb_general)\n",
    "genre_weekday(spb_general, 'Monday', '07:00', '11:00')"
   ]
  },
  {
   "cell_type": "code",
   "execution_count": null,
   "metadata": {
    "deletable": false,
    "id": "EzXVRE1o_Zcu"
   },
   "outputs": [],
   "source": [
    "# вызов функции для вечера пятницы в Москве\n",
    "genre_weekday(moscow_general, 'Friday', '17:00', '23:00')"
   ]
  },
  {
   "cell_type": "code",
   "execution_count": null,
   "metadata": {
    "deletable": false,
    "id": "JZaEKu5v_Zcu"
   },
   "outputs": [],
   "source": [
    "# вызов функции для вечера пятницы в Петербурге\n",
    "genre_weekday(spb_general, 'Friday', '17:00', '23:00')"
   ]
  },
  {
   "cell_type": "markdown",
   "metadata": {
    "deletable": false,
    "editable": false,
    "id": "wrCe4MNX_Zcu"
   },
   "source": [
    "**Выводы**\n",
    "\n",
    "Если сравнить топ-10 жанров в понедельник утром, можно сделать такие выводы:\n",
    "\n",
    "1. В Москве и Петербурге слушают похожую музыку. Единственное отличие — в московский рейтинг вошёл жанр “world”, а в петербургский — джаз и классика.\n",
    "\n",
    "2. В Москве пропущенных значений оказалось так много, что значение `'unknown'` заняло десятое место среди самых популярных жанров. Значит, пропущенные значения занимают существенную долю в данных и угрожают достоверности исследования.\n",
    "\n",
    "Вечер пятницы не меняет эту картину. Некоторые жанры поднимаются немного выше, другие спускаются, но в целом топ-10 остаётся тем же самым.\n",
    "\n",
    "Таким образом, вторая гипотеза подтвердилась лишь частично:\n",
    "* Пользователи слушают похожую музыку в начале недели и в конце.\n",
    "* Разница между Москвой и Петербургом не слишком выражена. В Москве чаще слушают русскую популярную музыку, в Петербурге — джаз.\n",
    "\n",
    "Однако пропуски в данных ставят под сомнение этот результат. В Москве их так много, что рейтинг топ-10 мог бы выглядеть иначе, если бы не утерянные  данные о жанрах."
   ]
  },
  {
   "cell_type": "markdown",
   "metadata": {
    "deletable": false,
    "editable": false,
    "id": "JolODAqr_Zcu"
   },
   "source": [
    "### Жанровые предпочтения в Москве и Петербурге\n",
    "\n",
    "Гипотеза: Петербург — столица рэпа, музыку этого жанра там слушают чаще, чем в Москве.  А Москва — город контрастов, в котором, тем не менее, преобладает поп-музыка."
   ]
  },
  {
   "cell_type": "markdown",
   "metadata": {
    "deletable": false,
    "editable": false,
    "id": "DlegSvaT_Zcu",
    "tags": [
     "start_task"
    ]
   },
   "source": [
    "**Задание 26**\n",
    "\n",
    "Сгруппируйте таблицу `moscow_general` по жанру и посчитайте прослушивания треков каждого жанра методом `count()`. Затем отсортируйте результат в порядке убывания и сохраните его в таблице `moscow_genres`."
   ]
  },
  {
   "cell_type": "code",
   "execution_count": null,
   "metadata": {
    "deletable": false,
    "id": "r19lIPke_Zcu"
   },
   "outputs": [],
   "source": [
    "# одной строкой: группировка таблицы moscow_general по столбцу 'genre', \n",
    "# подсчёт числа значений 'genre' в этой группировке методом count(), \n",
    "# сортировка получившегося Series в порядке убывания и сохранение в moscow_genres\n",
    "moscow_genres = moscow_general.groupby('genre')['genre'].count().sort_values(ascending=False)"
   ]
  },
  {
   "cell_type": "markdown",
   "metadata": {
    "deletable": false,
    "editable": false,
    "id": "6kMuomxTiIr8",
    "tags": [
     "start_task"
    ]
   },
   "source": [
    "**Задание 27**\n",
    "\n",
    "Выведите на экран первые десять строк `moscow_genres`:"
   ]
  },
  {
   "cell_type": "code",
   "execution_count": null,
   "metadata": {
    "deletable": false,
    "id": "WhCSooF8_Zcv"
   },
   "outputs": [],
   "source": [
    "# просмотр первых 10 строк moscow_genres\n",
    "moscow_genres.head(10)"
   ]
  },
  {
   "cell_type": "markdown",
   "metadata": {
    "deletable": false,
    "editable": false,
    "id": "cnPG2vnN_Zcv",
    "tags": [
     "start_task"
    ]
   },
   "source": [
    "**Задание 28**\n",
    "\n",
    "\n",
    "Теперь повторите то же и для Петербурга.\n",
    "\n",
    "Сгруппируйте таблицу `spb_general` по жанру. Посчитайте прослушивания треков каждого жанра. Результат отсортируйте в порядке убывания и сохраните в таблице `spb_genres`:\n"
   ]
  },
  {
   "cell_type": "code",
   "execution_count": null,
   "metadata": {
    "deletable": false,
    "id": "gluLIpE7_Zcv"
   },
   "outputs": [],
   "source": [
    "# одной строкой: группировка таблицы spb_general по столбцу 'genre', \n",
    "# подсчёт числа значений 'genre' в этой группировке методом count(), \n",
    "# сортировка получившегося Series в порядке убывания и сохранение в spb_genres\n",
    "spb_genres = spb_general.groupby('genre')['genre'].count().sort_values(ascending=False)"
   ]
  },
  {
   "cell_type": "markdown",
   "metadata": {
    "deletable": false,
    "editable": false,
    "id": "5Doha_ODgyQ8",
    "tags": [
     "start_task"
    ]
   },
   "source": [
    "**Задание 29**\n",
    "\n",
    "Выведите на экран первые десять строк `spb_genres`:"
   ]
  },
  {
   "cell_type": "code",
   "execution_count": null,
   "metadata": {
    "deletable": false,
    "id": "uaGJHjVU_Zcv"
   },
   "outputs": [],
   "source": [
    "# просмотр первых 10 строк spb_genres\n",
    "spb_genres.head(10)"
   ]
  },
  {
   "cell_type": "markdown",
   "metadata": {
    "deletable": false,
    "editable": false,
    "id": "RY51YJYu_Zcv"
   },
   "source": [
    "**Выводы**"
   ]
  },
  {
   "cell_type": "markdown",
   "metadata": {
    "deletable": false,
    "editable": false,
    "id": "nVhnJEm__Zcv"
   },
   "source": [
    "Гипотеза частично подтвердилась:\n",
    "* Поп-музыка — самый популярный жанр в Москве, как и предполагала гипотеза. Более того, в топ-10 жанров встречается близкий жанр — русская популярная музыка.\n",
    "* Вопреки ожиданиям, рэп одинаково популярен в Москве и Петербурге. \n"
   ]
  },
  {
   "cell_type": "markdown",
   "metadata": {
    "deletable": false,
    "editable": false,
    "id": "ykKQ0N65_Zcv"
   },
   "source": [
    "## Итоги исследования"
   ]
  },
  {
   "cell_type": "markdown",
   "metadata": {
    "deletable": false,
    "editable": false,
    "id": "tjUwbHb3_Zcv"
   },
   "source": [
    "Вы проверили три гипотезы и установили:\n",
    "\n",
    "1. День недели по-разному влияет на активность пользователей в Москве и Петербурге. \n",
    "\n",
    "Первая гипотеза полностью подтвердилась.\n",
    "\n",
    "2. Музыкальные предпочтения не сильно меняются в течение недели — будь то Москва или Петербург. Небольшие различия заметны в начале недели, по понедельникам:\n",
    "* в Москве слушают музыку жанра “world”,\n",
    "* в Петербурге — джаз и классику.\n",
    "\n",
    "Таким образом, вторая гипотеза подтвердилась лишь отчасти. Этот результат мог оказаться иным, если бы не пропуски в данных.\n",
    "\n",
    "3. Во вкусах пользователей Москвы и Петербурга больше общего чем различий. Вопреки ожиданиям, предпочтения жанров в Петербурге напоминают московские.\n",
    "\n",
    "Третья гипотеза не подтвердилась. Если различия в предпочтениях и существуют, на основной массе пользователей они незаметны.\n",
    "\n",
    "**На практике исследования содержат проверки статистических гипотез.**\n",
    "Из данных одного сервиса не всегда можно сделать вывод о всех жителях города.\n",
    "Проверки статистических гипотез покажут, насколько они достоверны, исходя из имеющихся данных. \n",
    "С методами проверок гипотез вы ещё познакомитесь в следующих темах."
   ]
  }
 ],
 "metadata": {
  "ExecuteTimeLog": [
   {
    "duration": 49,
    "start_time": "2022-09-26T17:52:41.045Z"
   },
   {
    "duration": 6,
    "start_time": "2022-09-26T17:59:40.245Z"
   },
   {
    "duration": 8,
    "start_time": "2022-09-26T18:00:09.144Z"
   },
   {
    "duration": 7,
    "start_time": "2022-09-26T18:00:15.077Z"
   },
   {
    "duration": 6,
    "start_time": "2022-09-26T18:11:05.937Z"
   },
   {
    "duration": 6,
    "start_time": "2022-09-26T18:12:05.749Z"
   },
   {
    "duration": 8,
    "start_time": "2022-09-26T18:12:27.389Z"
   },
   {
    "duration": 7,
    "start_time": "2022-09-26T18:12:40.356Z"
   },
   {
    "duration": 7,
    "start_time": "2022-09-26T18:13:12.222Z"
   },
   {
    "duration": 7,
    "start_time": "2022-09-26T18:13:20.861Z"
   },
   {
    "duration": 6,
    "start_time": "2022-09-26T18:13:25.573Z"
   },
   {
    "duration": 6,
    "start_time": "2022-09-26T18:13:28.853Z"
   },
   {
    "duration": 7,
    "start_time": "2022-09-26T18:13:31.566Z"
   },
   {
    "duration": 6,
    "start_time": "2022-09-26T18:13:36.128Z"
   },
   {
    "duration": 6,
    "start_time": "2022-09-26T18:14:10.505Z"
   },
   {
    "duration": 7,
    "start_time": "2022-09-26T18:14:24.205Z"
   },
   {
    "duration": 7,
    "start_time": "2022-09-26T18:18:32.389Z"
   },
   {
    "duration": 412,
    "start_time": "2022-09-26T18:18:38.356Z"
   },
   {
    "duration": 254,
    "start_time": "2022-09-26T18:18:42.487Z"
   },
   {
    "duration": 36,
    "start_time": "2022-09-26T18:19:00.036Z"
   },
   {
    "duration": 4,
    "start_time": "2022-09-26T18:19:06.789Z"
   },
   {
    "duration": 15,
    "start_time": "2022-09-26T18:19:13.852Z"
   },
   {
    "duration": 4,
    "start_time": "2022-09-26T18:19:17.173Z"
   },
   {
    "duration": 40,
    "start_time": "2022-09-26T18:19:20.110Z"
   },
   {
    "duration": 20,
    "start_time": "2022-09-26T18:19:26.997Z"
   },
   {
    "duration": 27,
    "start_time": "2022-09-26T18:19:34.765Z"
   },
   {
    "duration": 67,
    "start_time": "2022-09-26T18:19:38.045Z"
   },
   {
    "duration": 83,
    "start_time": "2022-09-26T18:19:41.141Z"
   },
   {
    "duration": 62,
    "start_time": "2022-09-26T18:19:45.437Z"
   },
   {
    "duration": 424,
    "start_time": "2022-09-26T18:20:11.734Z"
   },
   {
    "duration": 167,
    "start_time": "2022-09-26T18:20:12.160Z"
   },
   {
    "duration": 20,
    "start_time": "2022-09-26T18:20:12.329Z"
   },
   {
    "duration": 31,
    "start_time": "2022-09-26T18:20:12.354Z"
   },
   {
    "duration": 5,
    "start_time": "2022-09-26T18:20:12.388Z"
   },
   {
    "duration": 7,
    "start_time": "2022-09-26T18:20:12.395Z"
   },
   {
    "duration": 19,
    "start_time": "2022-09-26T18:20:12.403Z"
   },
   {
    "duration": 10,
    "start_time": "2022-09-26T18:20:12.424Z"
   },
   {
    "duration": 40,
    "start_time": "2022-09-26T18:20:12.435Z"
   },
   {
    "duration": 20,
    "start_time": "2022-09-26T18:20:12.477Z"
   },
   {
    "duration": 9,
    "start_time": "2022-09-26T18:20:12.499Z"
   },
   {
    "duration": 40,
    "start_time": "2022-09-26T18:20:12.509Z"
   },
   {
    "duration": 79,
    "start_time": "2022-09-26T18:20:12.551Z"
   },
   {
    "duration": 96,
    "start_time": "2022-09-26T18:20:12.635Z"
   },
   {
    "duration": 3,
    "start_time": "2022-09-26T18:20:12.733Z"
   },
   {
    "duration": 93,
    "start_time": "2022-09-26T18:20:12.738Z"
   },
   {
    "duration": 3,
    "start_time": "2022-09-26T18:20:12.832Z"
   },
   {
    "duration": 6,
    "start_time": "2022-09-26T18:20:12.837Z"
   },
   {
    "duration": 2,
    "start_time": "2022-09-26T18:20:12.853Z"
   },
   {
    "duration": 6,
    "start_time": "2022-09-26T18:20:12.857Z"
   },
   {
    "duration": 6,
    "start_time": "2022-09-26T18:20:12.864Z"
   },
   {
    "duration": 7,
    "start_time": "2022-09-26T18:20:12.872Z"
   },
   {
    "duration": 8,
    "start_time": "2022-09-26T18:20:12.881Z"
   },
   {
    "duration": 6,
    "start_time": "2022-09-26T18:20:12.890Z"
   },
   {
    "duration": 6,
    "start_time": "2022-09-26T18:20:12.897Z"
   },
   {
    "duration": 6,
    "start_time": "2022-09-26T18:20:12.904Z"
   },
   {
    "duration": 12,
    "start_time": "2022-09-26T18:20:12.911Z"
   },
   {
    "duration": 4,
    "start_time": "2022-09-26T18:20:12.925Z"
   },
   {
    "duration": 5,
    "start_time": "2022-09-26T18:20:12.931Z"
   },
   {
    "duration": 6,
    "start_time": "2022-09-26T18:20:12.937Z"
   },
   {
    "duration": 12,
    "start_time": "2022-09-26T18:20:12.945Z"
   },
   {
    "duration": 65,
    "start_time": "2022-09-26T18:20:12.959Z"
   },
   {
    "duration": 0,
    "start_time": "2022-09-26T18:20:13.026Z"
   },
   {
    "duration": 0,
    "start_time": "2022-09-26T18:20:13.027Z"
   },
   {
    "duration": 0,
    "start_time": "2022-09-26T18:20:13.028Z"
   },
   {
    "duration": 0,
    "start_time": "2022-09-26T18:20:13.030Z"
   },
   {
    "duration": 0,
    "start_time": "2022-09-26T18:20:13.030Z"
   },
   {
    "duration": 0,
    "start_time": "2022-09-26T18:20:13.032Z"
   },
   {
    "duration": 0,
    "start_time": "2022-09-26T18:20:13.033Z"
   },
   {
    "duration": 0,
    "start_time": "2022-09-26T18:20:13.034Z"
   },
   {
    "duration": 27,
    "start_time": "2022-09-26T18:22:23.102Z"
   },
   {
    "duration": 24,
    "start_time": "2022-09-26T18:22:28.089Z"
   },
   {
    "duration": 69,
    "start_time": "2022-09-26T18:22:32.802Z"
   },
   {
    "duration": 76,
    "start_time": "2022-09-26T18:22:37.761Z"
   },
   {
    "duration": 80,
    "start_time": "2022-09-26T18:22:54.374Z"
   },
   {
    "duration": 441,
    "start_time": "2022-09-26T18:24:20.937Z"
   },
   {
    "duration": 224,
    "start_time": "2022-09-26T18:24:21.380Z"
   },
   {
    "duration": 27,
    "start_time": "2022-09-26T18:24:21.607Z"
   },
   {
    "duration": 51,
    "start_time": "2022-09-26T18:24:21.636Z"
   },
   {
    "duration": 4,
    "start_time": "2022-09-26T18:24:21.690Z"
   },
   {
    "duration": 14,
    "start_time": "2022-09-26T18:24:21.695Z"
   },
   {
    "duration": 18,
    "start_time": "2022-09-26T18:24:21.711Z"
   },
   {
    "duration": 32,
    "start_time": "2022-09-26T18:24:21.731Z"
   },
   {
    "duration": 39,
    "start_time": "2022-09-26T18:24:21.766Z"
   },
   {
    "duration": 27,
    "start_time": "2022-09-26T18:24:21.807Z"
   },
   {
    "duration": 29,
    "start_time": "2022-09-26T18:24:21.836Z"
   },
   {
    "duration": 97,
    "start_time": "2022-09-26T18:24:21.866Z"
   },
   {
    "duration": 90,
    "start_time": "2022-09-26T18:24:21.965Z"
   },
   {
    "duration": 67,
    "start_time": "2022-09-26T18:24:22.058Z"
   },
   {
    "duration": 3,
    "start_time": "2022-09-26T18:24:22.127Z"
   },
   {
    "duration": 23,
    "start_time": "2022-09-26T18:24:22.131Z"
   },
   {
    "duration": 2,
    "start_time": "2022-09-26T18:24:22.156Z"
   },
   {
    "duration": 9,
    "start_time": "2022-09-26T18:24:22.160Z"
   },
   {
    "duration": 7,
    "start_time": "2022-09-26T18:24:22.171Z"
   },
   {
    "duration": 8,
    "start_time": "2022-09-26T18:24:22.179Z"
   },
   {
    "duration": 19,
    "start_time": "2022-09-26T18:24:22.189Z"
   },
   {
    "duration": 6,
    "start_time": "2022-09-26T18:24:22.211Z"
   },
   {
    "duration": 5,
    "start_time": "2022-09-26T18:24:22.219Z"
   },
   {
    "duration": 7,
    "start_time": "2022-09-26T18:24:22.226Z"
   },
   {
    "duration": 9,
    "start_time": "2022-09-26T18:24:22.235Z"
   },
   {
    "duration": 8,
    "start_time": "2022-09-26T18:24:22.245Z"
   },
   {
    "duration": 6,
    "start_time": "2022-09-26T18:24:22.254Z"
   },
   {
    "duration": 6,
    "start_time": "2022-09-26T18:24:22.261Z"
   },
   {
    "duration": 7,
    "start_time": "2022-09-26T18:24:22.268Z"
   },
   {
    "duration": 82,
    "start_time": "2022-09-26T18:24:22.277Z"
   },
   {
    "duration": 0,
    "start_time": "2022-09-26T18:24:22.361Z"
   },
   {
    "duration": 0,
    "start_time": "2022-09-26T18:24:22.362Z"
   },
   {
    "duration": 0,
    "start_time": "2022-09-26T18:24:22.364Z"
   },
   {
    "duration": 0,
    "start_time": "2022-09-26T18:24:22.366Z"
   },
   {
    "duration": 0,
    "start_time": "2022-09-26T18:24:22.367Z"
   },
   {
    "duration": 0,
    "start_time": "2022-09-26T18:24:22.368Z"
   },
   {
    "duration": 0,
    "start_time": "2022-09-26T18:24:22.370Z"
   },
   {
    "duration": 0,
    "start_time": "2022-09-26T18:24:22.371Z"
   },
   {
    "duration": 73,
    "start_time": "2022-09-26T18:24:57.387Z"
   },
   {
    "duration": 72,
    "start_time": "2022-09-26T18:31:45.044Z"
   },
   {
    "duration": 73,
    "start_time": "2022-09-26T18:34:31.821Z"
   },
   {
    "duration": 86,
    "start_time": "2022-09-26T18:37:11.201Z"
   },
   {
    "duration": 109,
    "start_time": "2022-09-26T18:37:17.837Z"
   },
   {
    "duration": 71,
    "start_time": "2022-09-26T18:38:24.453Z"
   },
   {
    "duration": 81,
    "start_time": "2022-09-26T18:39:10.532Z"
   },
   {
    "duration": 81,
    "start_time": "2022-09-26T18:39:57.766Z"
   },
   {
    "duration": 84,
    "start_time": "2022-09-26T18:40:05.013Z"
   },
   {
    "duration": 76,
    "start_time": "2022-09-26T18:40:09.701Z"
   },
   {
    "duration": 68,
    "start_time": "2022-09-26T18:40:17.813Z"
   },
   {
    "duration": 58,
    "start_time": "2022-09-26T18:45:47.892Z"
   },
   {
    "duration": 80,
    "start_time": "2022-09-26T18:45:58.108Z"
   },
   {
    "duration": 85,
    "start_time": "2022-09-26T18:46:10.588Z"
   },
   {
    "duration": 70,
    "start_time": "2022-09-26T18:46:19.476Z"
   },
   {
    "duration": 43,
    "start_time": "2022-09-27T14:27:19.975Z"
   },
   {
    "duration": 6,
    "start_time": "2022-09-27T14:29:47.366Z"
   },
   {
    "duration": 8,
    "start_time": "2022-09-27T14:32:43.936Z"
   },
   {
    "duration": 6,
    "start_time": "2022-09-27T14:37:19.007Z"
   },
   {
    "duration": 6,
    "start_time": "2022-09-27T14:44:27.810Z"
   },
   {
    "duration": 5,
    "start_time": "2022-09-27T14:47:51.761Z"
   },
   {
    "duration": 6,
    "start_time": "2022-09-27T14:48:51.873Z"
   },
   {
    "duration": 6,
    "start_time": "2022-09-27T15:03:43.137Z"
   },
   {
    "duration": 5,
    "start_time": "2022-09-27T15:05:15.434Z"
   },
   {
    "duration": 6,
    "start_time": "2022-09-27T15:05:45.689Z"
   },
   {
    "duration": 6,
    "start_time": "2022-09-27T15:07:19.131Z"
   },
   {
    "duration": 5,
    "start_time": "2022-09-27T15:07:23.820Z"
   },
   {
    "duration": 5,
    "start_time": "2022-09-27T15:08:10.652Z"
   },
   {
    "duration": 6,
    "start_time": "2022-09-27T15:12:22.956Z"
   },
   {
    "duration": 6,
    "start_time": "2022-09-27T15:13:29.468Z"
   },
   {
    "duration": 5,
    "start_time": "2022-09-27T15:17:46.117Z"
   },
   {
    "duration": 7,
    "start_time": "2022-09-27T15:20:04.104Z"
   },
   {
    "duration": 6,
    "start_time": "2022-09-27T15:29:53.263Z"
   },
   {
    "duration": 6,
    "start_time": "2022-09-27T15:32:04.114Z"
   },
   {
    "duration": 43,
    "start_time": "2022-09-27T15:38:33.108Z"
   },
   {
    "duration": 6,
    "start_time": "2022-09-27T15:39:09.678Z"
   },
   {
    "duration": 6,
    "start_time": "2022-09-27T15:41:50.077Z"
   },
   {
    "duration": 6,
    "start_time": "2022-09-27T15:42:19.035Z"
   },
   {
    "duration": 354,
    "start_time": "2022-09-27T15:42:29.030Z"
   },
   {
    "duration": 211,
    "start_time": "2022-09-27T15:42:29.386Z"
   },
   {
    "duration": 16,
    "start_time": "2022-09-27T15:42:29.598Z"
   },
   {
    "duration": 32,
    "start_time": "2022-09-27T15:42:29.615Z"
   },
   {
    "duration": 2,
    "start_time": "2022-09-27T15:42:29.649Z"
   },
   {
    "duration": 5,
    "start_time": "2022-09-27T15:42:29.653Z"
   },
   {
    "duration": 11,
    "start_time": "2022-09-27T15:42:29.659Z"
   },
   {
    "duration": 5,
    "start_time": "2022-09-27T15:42:29.672Z"
   },
   {
    "duration": 36,
    "start_time": "2022-09-27T15:42:29.678Z"
   },
   {
    "duration": 17,
    "start_time": "2022-09-27T15:42:29.716Z"
   },
   {
    "duration": 19,
    "start_time": "2022-09-27T15:42:29.735Z"
   },
   {
    "duration": 79,
    "start_time": "2022-09-27T15:42:29.755Z"
   },
   {
    "duration": 81,
    "start_time": "2022-09-27T15:42:29.836Z"
   },
   {
    "duration": 52,
    "start_time": "2022-09-27T15:42:29.921Z"
   },
   {
    "duration": 44,
    "start_time": "2022-09-27T15:42:29.975Z"
   },
   {
    "duration": 10,
    "start_time": "2022-09-27T15:42:30.021Z"
   },
   {
    "duration": 42,
    "start_time": "2022-09-27T15:42:30.033Z"
   },
   {
    "duration": 3,
    "start_time": "2022-09-27T15:42:30.077Z"
   },
   {
    "duration": 30,
    "start_time": "2022-09-27T15:42:30.081Z"
   },
   {
    "duration": 15,
    "start_time": "2022-09-27T15:42:30.113Z"
   },
   {
    "duration": 39,
    "start_time": "2022-09-27T15:42:30.129Z"
   },
   {
    "duration": 44,
    "start_time": "2022-09-27T15:42:30.169Z"
   },
   {
    "duration": 33,
    "start_time": "2022-09-27T15:42:30.215Z"
   },
   {
    "duration": 29,
    "start_time": "2022-09-27T15:42:30.250Z"
   },
   {
    "duration": 38,
    "start_time": "2022-09-27T15:42:30.280Z"
   },
   {
    "duration": 27,
    "start_time": "2022-09-27T15:42:30.321Z"
   },
   {
    "duration": 30,
    "start_time": "2022-09-27T15:42:30.350Z"
   },
   {
    "duration": 40,
    "start_time": "2022-09-27T15:42:30.382Z"
   },
   {
    "duration": 18,
    "start_time": "2022-09-27T15:42:30.424Z"
   },
   {
    "duration": 61,
    "start_time": "2022-09-27T15:42:30.444Z"
   },
   {
    "duration": 0,
    "start_time": "2022-09-27T15:42:30.507Z"
   },
   {
    "duration": 0,
    "start_time": "2022-09-27T15:42:30.508Z"
   },
   {
    "duration": 0,
    "start_time": "2022-09-27T15:42:30.509Z"
   },
   {
    "duration": 0,
    "start_time": "2022-09-27T15:42:30.510Z"
   },
   {
    "duration": 0,
    "start_time": "2022-09-27T15:42:30.511Z"
   },
   {
    "duration": 0,
    "start_time": "2022-09-27T15:42:30.512Z"
   },
   {
    "duration": 0,
    "start_time": "2022-09-27T15:42:30.513Z"
   },
   {
    "duration": 0,
    "start_time": "2022-09-27T15:42:30.514Z"
   },
   {
    "duration": 66,
    "start_time": "2022-09-27T15:48:06.925Z"
   },
   {
    "duration": 29,
    "start_time": "2022-09-27T15:48:56.149Z"
   },
   {
    "duration": 12,
    "start_time": "2022-09-27T15:52:39.889Z"
   },
   {
    "duration": 5,
    "start_time": "2022-09-27T15:54:57.380Z"
   },
   {
    "duration": 8,
    "start_time": "2022-09-27T15:56:38.605Z"
   },
   {
    "duration": 29,
    "start_time": "2022-09-27T15:57:50.580Z"
   },
   {
    "duration": 11,
    "start_time": "2022-09-27T15:58:07.648Z"
   },
   {
    "duration": 3,
    "start_time": "2022-09-27T16:29:23.129Z"
   },
   {
    "duration": 3,
    "start_time": "2022-09-27T16:32:11.737Z"
   },
   {
    "duration": 4,
    "start_time": "2022-09-27T16:36:09.176Z"
   },
   {
    "duration": 4,
    "start_time": "2022-09-27T16:46:54.719Z"
   },
   {
    "duration": 2,
    "start_time": "2022-09-27T16:47:09.755Z"
   },
   {
    "duration": 3,
    "start_time": "2022-09-27T16:47:12.403Z"
   },
   {
    "duration": 3,
    "start_time": "2022-09-27T16:47:14.743Z"
   },
   {
    "duration": 15,
    "start_time": "2022-09-27T16:50:00.907Z"
   },
   {
    "duration": 355,
    "start_time": "2022-09-27T16:53:22.424Z"
   },
   {
    "duration": 145,
    "start_time": "2022-09-27T16:53:22.781Z"
   },
   {
    "duration": 16,
    "start_time": "2022-09-27T16:53:22.928Z"
   },
   {
    "duration": 25,
    "start_time": "2022-09-27T16:53:22.946Z"
   },
   {
    "duration": 3,
    "start_time": "2022-09-27T16:53:22.972Z"
   },
   {
    "duration": 7,
    "start_time": "2022-09-27T16:53:22.976Z"
   },
   {
    "duration": 24,
    "start_time": "2022-09-27T16:53:22.984Z"
   },
   {
    "duration": 9,
    "start_time": "2022-09-27T16:53:23.010Z"
   },
   {
    "duration": 32,
    "start_time": "2022-09-27T16:53:23.021Z"
   },
   {
    "duration": 24,
    "start_time": "2022-09-27T16:53:23.055Z"
   },
   {
    "duration": 23,
    "start_time": "2022-09-27T16:53:23.081Z"
   },
   {
    "duration": 63,
    "start_time": "2022-09-27T16:53:23.106Z"
   },
   {
    "duration": 85,
    "start_time": "2022-09-27T16:53:23.171Z"
   },
   {
    "duration": 56,
    "start_time": "2022-09-27T16:53:23.258Z"
   },
   {
    "duration": 31,
    "start_time": "2022-09-27T16:53:23.316Z"
   },
   {
    "duration": 9,
    "start_time": "2022-09-27T16:53:23.348Z"
   },
   {
    "duration": 47,
    "start_time": "2022-09-27T16:53:23.358Z"
   },
   {
    "duration": 10,
    "start_time": "2022-09-27T16:53:23.407Z"
   },
   {
    "duration": 9,
    "start_time": "2022-09-27T16:53:23.419Z"
   },
   {
    "duration": 3,
    "start_time": "2022-09-27T16:53:23.430Z"
   },
   {
    "duration": 36,
    "start_time": "2022-09-27T16:53:23.435Z"
   },
   {
    "duration": 2,
    "start_time": "2022-09-27T16:53:23.472Z"
   },
   {
    "duration": 6,
    "start_time": "2022-09-27T16:53:23.476Z"
   },
   {
    "duration": 5,
    "start_time": "2022-09-27T16:53:23.484Z"
   },
   {
    "duration": 11,
    "start_time": "2022-09-27T16:53:23.491Z"
   },
   {
    "duration": 10,
    "start_time": "2022-09-27T16:53:23.504Z"
   },
   {
    "duration": 18,
    "start_time": "2022-09-27T16:53:23.516Z"
   },
   {
    "duration": 5,
    "start_time": "2022-09-27T16:53:23.537Z"
   },
   {
    "duration": 7,
    "start_time": "2022-09-27T16:53:23.543Z"
   },
   {
    "duration": 57,
    "start_time": "2022-09-27T16:53:23.551Z"
   },
   {
    "duration": 0,
    "start_time": "2022-09-27T16:53:23.610Z"
   },
   {
    "duration": 1,
    "start_time": "2022-09-27T16:53:23.611Z"
   },
   {
    "duration": 0,
    "start_time": "2022-09-27T16:53:23.612Z"
   },
   {
    "duration": 0,
    "start_time": "2022-09-27T16:53:23.614Z"
   },
   {
    "duration": 0,
    "start_time": "2022-09-27T16:53:23.614Z"
   },
   {
    "duration": 0,
    "start_time": "2022-09-27T16:53:23.615Z"
   },
   {
    "duration": 0,
    "start_time": "2022-09-27T16:53:23.616Z"
   },
   {
    "duration": 0,
    "start_time": "2022-09-27T16:53:23.617Z"
   },
   {
    "duration": 16,
    "start_time": "2022-09-27T16:54:38.523Z"
   },
   {
    "duration": 13,
    "start_time": "2022-09-27T16:54:45.540Z"
   },
   {
    "duration": 16,
    "start_time": "2022-09-27T16:54:53.108Z"
   },
   {
    "duration": 14,
    "start_time": "2022-09-27T16:54:55.667Z"
   },
   {
    "duration": 16,
    "start_time": "2022-09-27T16:54:56.555Z"
   },
   {
    "duration": 14,
    "start_time": "2022-09-27T16:54:57.443Z"
   },
   {
    "duration": 65,
    "start_time": "2022-09-27T17:00:31.172Z"
   },
   {
    "duration": 130,
    "start_time": "2022-09-27T17:01:26.416Z"
   },
   {
    "duration": 52,
    "start_time": "2022-09-27T17:02:27.016Z"
   },
   {
    "duration": 8,
    "start_time": "2022-09-27T17:04:52.135Z"
   },
   {
    "duration": 4,
    "start_time": "2022-09-27T17:24:23.988Z"
   },
   {
    "duration": 4,
    "start_time": "2022-09-27T17:24:27.492Z"
   },
   {
    "duration": 4,
    "start_time": "2022-09-27T17:28:01.037Z"
   },
   {
    "duration": 4,
    "start_time": "2022-09-27T17:28:11.562Z"
   },
   {
    "duration": 43,
    "start_time": "2022-09-27T17:28:50.485Z"
   },
   {
    "duration": 397,
    "start_time": "2022-09-27T17:29:03.479Z"
   },
   {
    "duration": 142,
    "start_time": "2022-09-27T17:29:03.877Z"
   },
   {
    "duration": 15,
    "start_time": "2022-09-27T17:29:04.021Z"
   },
   {
    "duration": 27,
    "start_time": "2022-09-27T17:29:04.038Z"
   },
   {
    "duration": 3,
    "start_time": "2022-09-27T17:29:04.066Z"
   },
   {
    "duration": 6,
    "start_time": "2022-09-27T17:29:04.070Z"
   },
   {
    "duration": 26,
    "start_time": "2022-09-27T17:29:04.077Z"
   },
   {
    "duration": 8,
    "start_time": "2022-09-27T17:29:04.104Z"
   },
   {
    "duration": 25,
    "start_time": "2022-09-27T17:29:04.114Z"
   },
   {
    "duration": 25,
    "start_time": "2022-09-27T17:29:04.140Z"
   },
   {
    "duration": 43,
    "start_time": "2022-09-27T17:29:04.166Z"
   },
   {
    "duration": 64,
    "start_time": "2022-09-27T17:29:04.211Z"
   },
   {
    "duration": 81,
    "start_time": "2022-09-27T17:29:04.276Z"
   },
   {
    "duration": 73,
    "start_time": "2022-09-27T17:29:04.361Z"
   },
   {
    "duration": 41,
    "start_time": "2022-09-27T17:29:04.436Z"
   },
   {
    "duration": 31,
    "start_time": "2022-09-27T17:29:04.479Z"
   },
   {
    "duration": 58,
    "start_time": "2022-09-27T17:29:04.512Z"
   },
   {
    "duration": 13,
    "start_time": "2022-09-27T17:29:04.572Z"
   },
   {
    "duration": 18,
    "start_time": "2022-09-27T17:29:04.587Z"
   },
   {
    "duration": 6,
    "start_time": "2022-09-27T17:29:04.607Z"
   },
   {
    "duration": 30,
    "start_time": "2022-09-27T17:29:04.614Z"
   },
   {
    "duration": 15,
    "start_time": "2022-09-27T17:29:04.646Z"
   },
   {
    "duration": 15,
    "start_time": "2022-09-27T17:29:04.662Z"
   },
   {
    "duration": 31,
    "start_time": "2022-09-27T17:29:04.679Z"
   },
   {
    "duration": 15,
    "start_time": "2022-09-27T17:29:04.712Z"
   },
   {
    "duration": 14,
    "start_time": "2022-09-27T17:29:04.729Z"
   },
   {
    "duration": 4,
    "start_time": "2022-09-27T17:29:04.744Z"
   },
   {
    "duration": 5,
    "start_time": "2022-09-27T17:29:04.750Z"
   },
   {
    "duration": 4,
    "start_time": "2022-09-27T17:29:04.757Z"
   },
   {
    "duration": 60,
    "start_time": "2022-09-27T17:29:04.763Z"
   },
   {
    "duration": 0,
    "start_time": "2022-09-27T17:29:04.825Z"
   },
   {
    "duration": 0,
    "start_time": "2022-09-27T17:29:04.827Z"
   },
   {
    "duration": 0,
    "start_time": "2022-09-27T17:29:04.828Z"
   },
   {
    "duration": 0,
    "start_time": "2022-09-27T17:29:04.830Z"
   },
   {
    "duration": 0,
    "start_time": "2022-09-27T17:29:04.831Z"
   },
   {
    "duration": 0,
    "start_time": "2022-09-27T17:29:04.832Z"
   },
   {
    "duration": 0,
    "start_time": "2022-09-27T17:29:04.834Z"
   },
   {
    "duration": 0,
    "start_time": "2022-09-27T17:29:04.835Z"
   },
   {
    "duration": 4,
    "start_time": "2022-09-27T17:29:10.624Z"
   },
   {
    "duration": 3,
    "start_time": "2022-09-27T17:29:13.152Z"
   },
   {
    "duration": 9,
    "start_time": "2022-09-27T17:32:51.424Z"
   },
   {
    "duration": 9,
    "start_time": "2022-09-27T17:32:53.335Z"
   },
   {
    "duration": 4,
    "start_time": "2022-09-27T17:58:43.644Z"
   },
   {
    "duration": 27,
    "start_time": "2022-09-27T18:07:14.718Z"
   },
   {
    "duration": 82,
    "start_time": "2022-09-27T18:07:17.050Z"
   },
   {
    "duration": 46,
    "start_time": "2022-09-27T18:07:41.278Z"
   },
   {
    "duration": 51,
    "start_time": "2022-09-27T18:07:43.018Z"
   },
   {
    "duration": 343,
    "start_time": "2022-09-27T18:08:31.036Z"
   },
   {
    "duration": 150,
    "start_time": "2022-09-27T18:08:31.381Z"
   },
   {
    "duration": 16,
    "start_time": "2022-09-27T18:08:31.532Z"
   },
   {
    "duration": 60,
    "start_time": "2022-09-27T18:08:31.549Z"
   },
   {
    "duration": 5,
    "start_time": "2022-09-27T18:08:31.611Z"
   },
   {
    "duration": 6,
    "start_time": "2022-09-27T18:08:31.618Z"
   },
   {
    "duration": 13,
    "start_time": "2022-09-27T18:08:31.625Z"
   },
   {
    "duration": 5,
    "start_time": "2022-09-27T18:08:31.639Z"
   },
   {
    "duration": 22,
    "start_time": "2022-09-27T18:08:31.645Z"
   },
   {
    "duration": 32,
    "start_time": "2022-09-27T18:08:31.669Z"
   },
   {
    "duration": 21,
    "start_time": "2022-09-27T18:08:31.702Z"
   },
   {
    "duration": 59,
    "start_time": "2022-09-27T18:08:31.724Z"
   },
   {
    "duration": 82,
    "start_time": "2022-09-27T18:08:31.784Z"
   },
   {
    "duration": 61,
    "start_time": "2022-09-27T18:08:31.869Z"
   },
   {
    "duration": 34,
    "start_time": "2022-09-27T18:08:31.932Z"
   },
   {
    "duration": 9,
    "start_time": "2022-09-27T18:08:31.968Z"
   },
   {
    "duration": 58,
    "start_time": "2022-09-27T18:08:31.978Z"
   },
   {
    "duration": 10,
    "start_time": "2022-09-27T18:08:32.038Z"
   },
   {
    "duration": 11,
    "start_time": "2022-09-27T18:08:32.050Z"
   },
   {
    "duration": 3,
    "start_time": "2022-09-27T18:08:32.062Z"
   },
   {
    "duration": 39,
    "start_time": "2022-09-27T18:08:32.067Z"
   },
   {
    "duration": 12,
    "start_time": "2022-09-27T18:08:32.107Z"
   },
   {
    "duration": 12,
    "start_time": "2022-09-27T18:08:32.121Z"
   },
   {
    "duration": 12,
    "start_time": "2022-09-27T18:08:32.134Z"
   },
   {
    "duration": 16,
    "start_time": "2022-09-27T18:08:32.148Z"
   },
   {
    "duration": 44,
    "start_time": "2022-09-27T18:08:32.165Z"
   },
   {
    "duration": 5,
    "start_time": "2022-09-27T18:08:32.210Z"
   },
   {
    "duration": 14,
    "start_time": "2022-09-27T18:08:32.216Z"
   },
   {
    "duration": 8,
    "start_time": "2022-09-27T18:08:32.231Z"
   },
   {
    "duration": 4,
    "start_time": "2022-09-27T18:08:32.241Z"
   },
   {
    "duration": 22,
    "start_time": "2022-09-27T18:08:32.246Z"
   },
   {
    "duration": 47,
    "start_time": "2022-09-27T18:08:32.270Z"
   },
   {
    "duration": 0,
    "start_time": "2022-09-27T18:08:32.318Z"
   },
   {
    "duration": 0,
    "start_time": "2022-09-27T18:08:32.319Z"
   },
   {
    "duration": 0,
    "start_time": "2022-09-27T18:08:32.320Z"
   },
   {
    "duration": 0,
    "start_time": "2022-09-27T18:08:32.321Z"
   },
   {
    "duration": 0,
    "start_time": "2022-09-27T18:08:32.322Z"
   },
   {
    "duration": 0,
    "start_time": "2022-09-27T18:08:32.323Z"
   },
   {
    "duration": 15,
    "start_time": "2022-09-27T18:08:38.964Z"
   },
   {
    "duration": 41,
    "start_time": "2022-09-27T18:08:41.615Z"
   },
   {
    "duration": 48,
    "start_time": "2022-09-27T18:08:44.288Z"
   },
   {
    "duration": 71,
    "start_time": "2022-09-27T18:08:45.327Z"
   },
   {
    "duration": 57,
    "start_time": "2022-09-27T18:10:38.236Z"
   },
   {
    "duration": 49,
    "start_time": "2022-09-27T18:10:48.648Z"
   },
   {
    "duration": 78,
    "start_time": "2022-09-27T18:10:49.560Z"
   },
   {
    "duration": 881,
    "start_time": "2022-09-27T18:12:20.359Z"
   },
   {
    "duration": 15,
    "start_time": "2022-09-27T18:12:48.812Z"
   },
   {
    "duration": 62,
    "start_time": "2022-09-27T18:13:14.436Z"
   },
   {
    "duration": 359,
    "start_time": "2022-09-27T18:13:28.123Z"
   },
   {
    "duration": 153,
    "start_time": "2022-09-27T18:13:28.484Z"
   },
   {
    "duration": 16,
    "start_time": "2022-09-27T18:13:28.638Z"
   },
   {
    "duration": 27,
    "start_time": "2022-09-27T18:13:28.655Z"
   },
   {
    "duration": 7,
    "start_time": "2022-09-27T18:13:28.684Z"
   },
   {
    "duration": 8,
    "start_time": "2022-09-27T18:13:28.692Z"
   },
   {
    "duration": 21,
    "start_time": "2022-09-27T18:13:28.702Z"
   },
   {
    "duration": 7,
    "start_time": "2022-09-27T18:13:28.725Z"
   },
   {
    "duration": 25,
    "start_time": "2022-09-27T18:13:28.733Z"
   },
   {
    "duration": 25,
    "start_time": "2022-09-27T18:13:28.759Z"
   },
   {
    "duration": 26,
    "start_time": "2022-09-27T18:13:28.786Z"
   },
   {
    "duration": 65,
    "start_time": "2022-09-27T18:13:28.814Z"
   },
   {
    "duration": 78,
    "start_time": "2022-09-27T18:13:28.880Z"
   },
   {
    "duration": 55,
    "start_time": "2022-09-27T18:13:28.961Z"
   },
   {
    "duration": 32,
    "start_time": "2022-09-27T18:13:29.017Z"
   },
   {
    "duration": 9,
    "start_time": "2022-09-27T18:13:29.050Z"
   },
   {
    "duration": 51,
    "start_time": "2022-09-27T18:13:29.060Z"
   },
   {
    "duration": 10,
    "start_time": "2022-09-27T18:13:29.112Z"
   },
   {
    "duration": 15,
    "start_time": "2022-09-27T18:13:29.123Z"
   },
   {
    "duration": 3,
    "start_time": "2022-09-27T18:13:29.139Z"
   },
   {
    "duration": 19,
    "start_time": "2022-09-27T18:13:29.143Z"
   },
   {
    "duration": 11,
    "start_time": "2022-09-27T18:13:29.164Z"
   },
   {
    "duration": 32,
    "start_time": "2022-09-27T18:13:29.177Z"
   },
   {
    "duration": 10,
    "start_time": "2022-09-27T18:13:29.210Z"
   },
   {
    "duration": 13,
    "start_time": "2022-09-27T18:13:29.221Z"
   },
   {
    "duration": 11,
    "start_time": "2022-09-27T18:13:29.236Z"
   },
   {
    "duration": 3,
    "start_time": "2022-09-27T18:13:29.248Z"
   },
   {
    "duration": 12,
    "start_time": "2022-09-27T18:13:29.253Z"
   },
   {
    "duration": 38,
    "start_time": "2022-09-27T18:13:29.266Z"
   },
   {
    "duration": 9,
    "start_time": "2022-09-27T18:13:29.305Z"
   },
   {
    "duration": 24,
    "start_time": "2022-09-27T18:13:29.315Z"
   },
   {
    "duration": 42,
    "start_time": "2022-09-27T18:13:29.340Z"
   },
   {
    "duration": 0,
    "start_time": "2022-09-27T18:13:29.384Z"
   },
   {
    "duration": 0,
    "start_time": "2022-09-27T18:13:29.385Z"
   },
   {
    "duration": 0,
    "start_time": "2022-09-27T18:13:29.386Z"
   },
   {
    "duration": 0,
    "start_time": "2022-09-27T18:13:29.387Z"
   },
   {
    "duration": 0,
    "start_time": "2022-09-27T18:13:29.388Z"
   },
   {
    "duration": 0,
    "start_time": "2022-09-27T18:13:29.389Z"
   },
   {
    "duration": 14,
    "start_time": "2022-09-27T18:13:37.143Z"
   },
   {
    "duration": 44,
    "start_time": "2022-09-27T18:13:43.003Z"
   },
   {
    "duration": 47,
    "start_time": "2022-09-27T18:13:49.879Z"
   },
   {
    "duration": 52,
    "start_time": "2022-09-27T18:13:53.015Z"
   },
   {
    "duration": 11,
    "start_time": "2022-09-27T18:15:00.316Z"
   },
   {
    "duration": 17,
    "start_time": "2022-09-27T18:15:01.639Z"
   },
   {
    "duration": 12,
    "start_time": "2022-09-27T18:15:03.071Z"
   },
   {
    "duration": 788,
    "start_time": "2022-09-27T18:24:57.580Z"
   },
   {
    "duration": 730,
    "start_time": "2022-09-27T18:25:28.488Z"
   },
   {
    "duration": 9,
    "start_time": "2022-09-27T18:29:56.320Z"
   },
   {
    "duration": 11,
    "start_time": "2022-09-27T18:31:32.288Z"
   },
   {
    "duration": 6,
    "start_time": "2022-09-27T18:31:47.928Z"
   },
   {
    "duration": 69,
    "start_time": "2022-09-27T18:32:10.976Z"
   },
   {
    "duration": 59,
    "start_time": "2022-09-27T18:32:19.192Z"
   },
   {
    "duration": 9,
    "start_time": "2022-09-27T18:32:30.536Z"
   },
   {
    "duration": 9,
    "start_time": "2022-09-27T18:32:46.592Z"
   },
   {
    "duration": 12,
    "start_time": "2022-09-27T18:32:52.872Z"
   },
   {
    "duration": 7,
    "start_time": "2022-09-27T18:33:38.216Z"
   },
   {
    "duration": 8,
    "start_time": "2022-09-27T18:34:42.952Z"
   },
   {
    "duration": 7,
    "start_time": "2022-09-27T18:36:03.928Z"
   },
   {
    "duration": 10,
    "start_time": "2022-09-27T18:36:16.904Z"
   },
   {
    "duration": 8,
    "start_time": "2022-09-27T18:37:59.892Z"
   },
   {
    "duration": 8,
    "start_time": "2022-09-27T18:38:03.888Z"
   },
   {
    "duration": 7,
    "start_time": "2022-09-27T18:39:20.668Z"
   },
   {
    "duration": 7,
    "start_time": "2022-09-27T18:39:54.628Z"
   },
   {
    "duration": 4,
    "start_time": "2022-09-27T18:40:11.940Z"
   },
   {
    "duration": 8,
    "start_time": "2022-09-27T18:41:31.731Z"
   },
   {
    "duration": 7,
    "start_time": "2022-09-27T18:42:39.696Z"
   },
   {
    "duration": 6,
    "start_time": "2022-09-27T18:43:08.108Z"
   },
   {
    "duration": 8,
    "start_time": "2022-09-27T18:43:59.739Z"
   },
   {
    "duration": 5,
    "start_time": "2022-09-27T18:44:12.648Z"
   },
   {
    "duration": 12,
    "start_time": "2022-09-28T07:06:38.145Z"
   },
   {
    "duration": 3,
    "start_time": "2022-09-28T07:06:42.997Z"
   },
   {
    "duration": 410,
    "start_time": "2022-09-28T07:06:50.854Z"
   },
   {
    "duration": 442,
    "start_time": "2022-09-28T07:06:51.265Z"
   },
   {
    "duration": 17,
    "start_time": "2022-09-28T07:06:51.709Z"
   },
   {
    "duration": 28,
    "start_time": "2022-09-28T07:06:51.728Z"
   },
   {
    "duration": 5,
    "start_time": "2022-09-28T07:06:51.758Z"
   },
   {
    "duration": 10,
    "start_time": "2022-09-28T07:06:51.765Z"
   },
   {
    "duration": 15,
    "start_time": "2022-09-28T07:06:51.777Z"
   },
   {
    "duration": 11,
    "start_time": "2022-09-28T07:06:51.794Z"
   },
   {
    "duration": 36,
    "start_time": "2022-09-28T07:06:51.807Z"
   },
   {
    "duration": 23,
    "start_time": "2022-09-28T07:06:51.845Z"
   },
   {
    "duration": 26,
    "start_time": "2022-09-28T07:06:51.869Z"
   },
   {
    "duration": 74,
    "start_time": "2022-09-28T07:06:51.897Z"
   },
   {
    "duration": 82,
    "start_time": "2022-09-28T07:06:51.973Z"
   },
   {
    "duration": 70,
    "start_time": "2022-09-28T07:06:52.056Z"
   },
   {
    "duration": 36,
    "start_time": "2022-09-28T07:06:52.127Z"
   },
   {
    "duration": 11,
    "start_time": "2022-09-28T07:06:52.164Z"
   },
   {
    "duration": 53,
    "start_time": "2022-09-28T07:06:52.178Z"
   },
   {
    "duration": 39,
    "start_time": "2022-09-28T07:06:52.232Z"
   },
   {
    "duration": 11,
    "start_time": "2022-09-28T07:06:52.273Z"
   },
   {
    "duration": 3,
    "start_time": "2022-09-28T07:06:52.286Z"
   },
   {
    "duration": 71,
    "start_time": "2022-09-28T07:06:52.290Z"
   },
   {
    "duration": 0,
    "start_time": "2022-09-28T07:06:52.363Z"
   },
   {
    "duration": 0,
    "start_time": "2022-09-28T07:06:52.365Z"
   },
   {
    "duration": 0,
    "start_time": "2022-09-28T07:06:52.366Z"
   },
   {
    "duration": 0,
    "start_time": "2022-09-28T07:06:52.367Z"
   },
   {
    "duration": 0,
    "start_time": "2022-09-28T07:06:52.369Z"
   },
   {
    "duration": 0,
    "start_time": "2022-09-28T07:06:52.370Z"
   },
   {
    "duration": 0,
    "start_time": "2022-09-28T07:06:52.372Z"
   },
   {
    "duration": 0,
    "start_time": "2022-09-28T07:06:52.374Z"
   },
   {
    "duration": 0,
    "start_time": "2022-09-28T07:06:52.375Z"
   },
   {
    "duration": 0,
    "start_time": "2022-09-28T07:06:52.376Z"
   },
   {
    "duration": 0,
    "start_time": "2022-09-28T07:06:52.378Z"
   },
   {
    "duration": 0,
    "start_time": "2022-09-28T07:06:52.379Z"
   },
   {
    "duration": 0,
    "start_time": "2022-09-28T07:06:52.381Z"
   },
   {
    "duration": 0,
    "start_time": "2022-09-28T07:06:52.382Z"
   },
   {
    "duration": 0,
    "start_time": "2022-09-28T07:06:52.384Z"
   },
   {
    "duration": 0,
    "start_time": "2022-09-28T07:06:52.422Z"
   },
   {
    "duration": 0,
    "start_time": "2022-09-28T07:06:52.424Z"
   },
   {
    "duration": 3,
    "start_time": "2022-09-28T07:07:02.553Z"
   }
  ],
  "colab": {
   "collapsed_sections": [
    "E0vqbgi9ay0H",
    "VUC88oWjTJw2"
   ],
   "name": "automatization_template_upd4.ipynb",
   "provenance": []
  },
  "kernelspec": {
   "display_name": "Python 3 (ipykernel)",
   "language": "python",
   "name": "python3"
  },
  "language_info": {
   "codemirror_mode": {
    "name": "ipython",
    "version": 3
   },
   "file_extension": ".py",
   "mimetype": "text/x-python",
   "name": "python",
   "nbconvert_exporter": "python",
   "pygments_lexer": "ipython3",
   "version": "3.9.5"
  },
  "toc": {
   "base_numbering": 1,
   "nav_menu": {
    "height": "215px",
    "width": "403px"
   },
   "number_sections": true,
   "sideBar": true,
   "skip_h1_title": true,
   "title_cell": "Table of Contents",
   "title_sidebar": "Contents",
   "toc_cell": false,
   "toc_position": {
    "height": "calc(100% - 180px)",
    "left": "10px",
    "top": "150px",
    "width": "285.825px"
   },
   "toc_section_display": true,
   "toc_window_display": false
  }
 },
 "nbformat": 4,
 "nbformat_minor": 1
}
