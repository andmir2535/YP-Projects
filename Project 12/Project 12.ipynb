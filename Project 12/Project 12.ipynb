{
 "cells": [
  {
   "cell_type": "markdown",
   "metadata": {
    "toc": true
   },
   "source": [
    "<h1>Содержание<span class=\"tocSkip\"></span></h1>\n",
    "<div class=\"toc\"><ul class=\"toc-item\"><li><span><a href=\"#Подготовка\" data-toc-modified-id=\"Подготовка-1\"><span class=\"toc-item-num\">1&nbsp;&nbsp;</span>Подготовка</a></span></li><li><span><a href=\"#Анализ\" data-toc-modified-id=\"Анализ-2\"><span class=\"toc-item-num\">2&nbsp;&nbsp;</span>Анализ</a></span></li><li><span><a href=\"#Обучение\" data-toc-modified-id=\"Обучение-3\"><span class=\"toc-item-num\">3&nbsp;&nbsp;</span>Обучение</a></span></li><li><span><a href=\"#Проверка-данных-на-тестовой-выборке\" data-toc-modified-id=\"Проверка-данных-на-тестовой-выборке-4\"><span class=\"toc-item-num\">4&nbsp;&nbsp;</span>Проверка данных на тестовой выборке</a></span></li><li><span><a href=\"#Вывод\" data-toc-modified-id=\"Вывод-5\"><span class=\"toc-item-num\">5&nbsp;&nbsp;</span>Вывод</a></span></li><li><span><a href=\"#Чек-лист-проверки\" data-toc-modified-id=\"Чек-лист-проверки-6\"><span class=\"toc-item-num\">6&nbsp;&nbsp;</span>Чек-лист проверки</a></span></li></ul></div>"
   ]
  },
  {
   "cell_type": "markdown",
   "metadata": {},
   "source": [
    "#  Прогнозирование заказов такси"
   ]
  },
  {
   "cell_type": "markdown",
   "metadata": {},
   "source": [
    "В данном проекте поможем\n",
    "компании «Чётенькое такси» построить модель, которая спрогнозирует количество заказов такси на следующий час. \n",
    "\n",
    "Необходимо чтобы значение метрики *RMSE* на тестовой выборке было не больше 48.\n",
    "\n",
    "План работы:\n",
    "\n",
    "1. Загрузить данные и выполнить их ресемплирование по одному часу.\n",
    "2. Проанализировать данные.\n",
    "3. Обучить разные модели с различными гиперпараметрами. Сделать тестовую выборку размером 10% от исходных данных.\n",
    "4. Проверить данные на тестовой выборке и сделать выводы."
   ]
  },
  {
   "cell_type": "markdown",
   "metadata": {},
   "source": [
    "## Подготовка"
   ]
  },
  {
   "cell_type": "markdown",
   "metadata": {},
   "source": [
    "Данные лежат в файле `taxi.csv`. Количество заказов находится в столбце `num_orders` (от англ. *number of orders*, «число заказов»)."
   ]
  },
  {
   "cell_type": "code",
   "execution_count": 1,
   "metadata": {},
   "outputs": [],
   "source": [
    "import pandas as pd\n",
    "import numpy as np\n",
    "import matplotlib.pyplot as plt\n",
    "import lightgbm as lgb\n",
    "\n",
    "from sklearn.model_selection import train_test_split, KFold, GridSearchCV, TimeSeriesSplit, cross_val_score\n",
    "from statsmodels.tsa.seasonal import seasonal_decompose\n",
    "from sklearn.metrics import mean_squared_error, make_scorer\n",
    "from sklearn.preprocessing import StandardScaler\n",
    "from sklearn.linear_model import LinearRegression\n",
    "from sklearn.tree import DecisionTreeRegressor\n",
    "from xgboost import XGBRegressor\n",
    "from catboost import CatBoostRegressor"
   ]
  },
  {
   "cell_type": "code",
   "execution_count": 2,
   "metadata": {
    "scrolled": true
   },
   "outputs": [
    {
     "data": {
      "text/html": [
       "<div>\n",
       "<style scoped>\n",
       "    .dataframe tbody tr th:only-of-type {\n",
       "        vertical-align: middle;\n",
       "    }\n",
       "\n",
       "    .dataframe tbody tr th {\n",
       "        vertical-align: top;\n",
       "    }\n",
       "\n",
       "    .dataframe thead th {\n",
       "        text-align: right;\n",
       "    }\n",
       "</style>\n",
       "<table border=\"1\" class=\"dataframe\">\n",
       "  <thead>\n",
       "    <tr style=\"text-align: right;\">\n",
       "      <th></th>\n",
       "      <th>num_orders</th>\n",
       "    </tr>\n",
       "    <tr>\n",
       "      <th>datetime</th>\n",
       "      <th></th>\n",
       "    </tr>\n",
       "  </thead>\n",
       "  <tbody>\n",
       "    <tr>\n",
       "      <th>2018-03-01 00:00:00</th>\n",
       "      <td>9</td>\n",
       "    </tr>\n",
       "    <tr>\n",
       "      <th>2018-03-01 00:10:00</th>\n",
       "      <td>14</td>\n",
       "    </tr>\n",
       "    <tr>\n",
       "      <th>2018-03-01 00:20:00</th>\n",
       "      <td>28</td>\n",
       "    </tr>\n",
       "    <tr>\n",
       "      <th>2018-03-01 00:30:00</th>\n",
       "      <td>20</td>\n",
       "    </tr>\n",
       "    <tr>\n",
       "      <th>2018-03-01 00:40:00</th>\n",
       "      <td>32</td>\n",
       "    </tr>\n",
       "  </tbody>\n",
       "</table>\n",
       "</div>"
      ],
      "text/plain": [
       "                     num_orders\n",
       "datetime                       \n",
       "2018-03-01 00:00:00           9\n",
       "2018-03-01 00:10:00          14\n",
       "2018-03-01 00:20:00          28\n",
       "2018-03-01 00:30:00          20\n",
       "2018-03-01 00:40:00          32"
      ]
     },
     "metadata": {},
     "output_type": "display_data"
    }
   ],
   "source": [
    "data = pd.read_csv('/datasets/taxi.csv', index_col=[0], parse_dates=[0])\n",
    "display(data.head())"
   ]
  },
  {
   "cell_type": "markdown",
   "metadata": {},
   "source": [
    "По умолчанию, данные отсортированы на каждые 10 минут. Разгруппируем данные по часам."
   ]
  },
  {
   "cell_type": "code",
   "execution_count": 3,
   "metadata": {
    "scrolled": true
   },
   "outputs": [
    {
     "data": {
      "text/html": [
       "<div>\n",
       "<style scoped>\n",
       "    .dataframe tbody tr th:only-of-type {\n",
       "        vertical-align: middle;\n",
       "    }\n",
       "\n",
       "    .dataframe tbody tr th {\n",
       "        vertical-align: top;\n",
       "    }\n",
       "\n",
       "    .dataframe thead th {\n",
       "        text-align: right;\n",
       "    }\n",
       "</style>\n",
       "<table border=\"1\" class=\"dataframe\">\n",
       "  <thead>\n",
       "    <tr style=\"text-align: right;\">\n",
       "      <th></th>\n",
       "      <th>num_orders</th>\n",
       "    </tr>\n",
       "    <tr>\n",
       "      <th>datetime</th>\n",
       "      <th></th>\n",
       "    </tr>\n",
       "  </thead>\n",
       "  <tbody>\n",
       "    <tr>\n",
       "      <th>2018-03-01 00:00:00</th>\n",
       "      <td>124</td>\n",
       "    </tr>\n",
       "    <tr>\n",
       "      <th>2018-03-01 01:00:00</th>\n",
       "      <td>85</td>\n",
       "    </tr>\n",
       "    <tr>\n",
       "      <th>2018-03-01 02:00:00</th>\n",
       "      <td>71</td>\n",
       "    </tr>\n",
       "    <tr>\n",
       "      <th>2018-03-01 03:00:00</th>\n",
       "      <td>66</td>\n",
       "    </tr>\n",
       "    <tr>\n",
       "      <th>2018-03-01 04:00:00</th>\n",
       "      <td>43</td>\n",
       "    </tr>\n",
       "  </tbody>\n",
       "</table>\n",
       "</div>"
      ],
      "text/plain": [
       "                     num_orders\n",
       "datetime                       \n",
       "2018-03-01 00:00:00         124\n",
       "2018-03-01 01:00:00          85\n",
       "2018-03-01 02:00:00          71\n",
       "2018-03-01 03:00:00          66\n",
       "2018-03-01 04:00:00          43"
      ]
     },
     "metadata": {},
     "output_type": "display_data"
    }
   ],
   "source": [
    "#Проводим ресемплирование данных по одному часу.\n",
    "data = data.resample('1H').sum()\n",
    "display(data.head())"
   ]
  },
  {
   "cell_type": "markdown",
   "metadata": {},
   "source": [
    "Данные загружены, ресемплированы и подготовлены. Переходим к анализу."
   ]
  },
  {
   "cell_type": "code",
   "execution_count": 4,
   "metadata": {},
   "outputs": [
    {
     "data": {
      "text/plain": [
       "True"
      ]
     },
     "metadata": {},
     "output_type": "display_data"
    }
   ],
   "source": [
    "display(data.index.is_monotonic)"
   ]
  },
  {
   "cell_type": "markdown",
   "metadata": {},
   "source": [
    "Проверили и убедились, что датасет монотонен"
   ]
  },
  {
   "cell_type": "markdown",
   "metadata": {},
   "source": [
    "## Анализ"
   ]
  },
  {
   "cell_type": "code",
   "execution_count": 5,
   "metadata": {},
   "outputs": [
    {
     "name": "stdout",
     "output_type": "stream",
     "text": [
      "Количество дубликатов: 4165\n",
      "\n",
      "Информация о типах данных и пропущенных значениях:\n",
      "<class 'pandas.core.frame.DataFrame'>\n",
      "DatetimeIndex: 4416 entries, 2018-03-01 00:00:00 to 2018-08-31 23:00:00\n",
      "Freq: H\n",
      "Data columns (total 1 columns):\n",
      " #   Column      Non-Null Count  Dtype\n",
      "---  ------      --------------  -----\n",
      " 0   num_orders  4416 non-null   int64\n",
      "dtypes: int64(1)\n",
      "memory usage: 69.0 KB\n",
      "None\n",
      "\n",
      "Статистические характеристики:\n",
      "        num_orders\n",
      "count  4416.000000\n",
      "mean     84.422781\n",
      "std      45.023853\n",
      "min       0.000000\n",
      "25%      54.000000\n",
      "50%      78.000000\n",
      "75%     107.000000\n",
      "max     462.000000\n"
     ]
    }
   ],
   "source": [
    "def data_analysis(data):\n",
    "    # проверка на наличие дубликатов\n",
    "    if data.duplicated().sum() > 0:\n",
    "        print(\"Количество дубликатов:\", data.duplicated().sum())\n",
    "    else:\n",
    "        print(\"Дубликатов не найдено\")\n",
    "    \n",
    "    # информация о типах данных и пропущенных значениях\n",
    "    print(\"\\nИнформация о типах данных и пропущенных значениях:\")\n",
    "    print(data.info())\n",
    "    \n",
    "    # статистические характеристики\n",
    "    print(\"\\nСтатистические характеристики:\")\n",
    "    print(data.describe())\n",
    "data_analysis(data)"
   ]
  },
  {
   "cell_type": "markdown",
   "metadata": {},
   "source": [
    "В нашем распоряжении 4416 строк данных. Несмотря на то, что в в данных 4165 дубликатов, они не являются ложными или неправильными значениями, это статистическое значение количества заказов такси. Тип данных  *int64*."
   ]
  },
  {
   "cell_type": "code",
   "execution_count": 6,
   "metadata": {},
   "outputs": [
    {
     "data": {
      "image/png": "[encoded data removed]",
      "text/plain": [
       "<Figure size 432x288 with 1 Axes>"
      ]
     },
     "metadata": {
      "needs_background": "light"
     },
     "output_type": "display_data"
    }
   ],
   "source": [
    "data.plot()\n",
    "plt.show()"
   ]
  },
  {
   "cell_type": "markdown",
   "metadata": {},
   "source": [
    "По данному графику можем заметить, что в нашем распоряжении 6 месяцев данных (март-август 2018). Заметно, что каждые несколько дней есть значительное увеличение количества заказов. Рассмотрим график поближе."
   ]
  },
  {
   "cell_type": "code",
   "execution_count": 7,
   "metadata": {
    "scrolled": true
   },
   "outputs": [
    {
     "data": {
      "text/plain": [
       "<AxesSubplot:xlabel='datetime'>"
      ]
     },
     "execution_count": 7,
     "metadata": {},
     "output_type": "execute_result"
    },
    {
     "data": {
      "image/png": "[encoded data removed]",
      "text/plain": [
       "<Figure size 1080x360 with 1 Axes>"
      ]
     },
     "metadata": {
      "needs_background": "light"
     },
     "output_type": "display_data"
    }
   ],
   "source": [
    "data['num_orders'].resample('D').sum().plot(figsize=(15, 5), grid=True)"
   ]
  },
  {
   "cell_type": "markdown",
   "metadata": {},
   "source": [
    "Хорошо заметен восходящий тренд кол-ва заказов, старт с 1500 заказов в марте, достигает пика в конце августа - 4000 вызовов. Посмотрим на скользящее среднее"
   ]
  },
  {
   "cell_type": "code",
   "execution_count": 8,
   "metadata": {},
   "outputs": [
    {
     "data": {
      "image/png": "[encoded data removed]",
      "text/plain": [
       "<Figure size 1080x360 with 1 Axes>"
      ]
     },
     "metadata": {
      "needs_background": "light"
     },
     "output_type": "display_data"
    }
   ],
   "source": [
    "rolling_mean = data['num_orders'].rolling(window=10).mean()\n",
    "\n",
    "plt.figure(figsize=(15,5))\n",
    "plt.plot(data.index, data['num_orders'], label='Количество заказов')\n",
    "plt.plot(rolling_mean.index, rolling_mean, label='Скользящее среднее')\n",
    "plt.legend()\n",
    "plt.title('График распределения заказов такси с марта по сентябрь 2018 г.')\n",
    "plt.show()"
   ]
  },
  {
   "cell_type": "markdown",
   "metadata": {},
   "source": [
    "График общей тенденции также показывает, что количество заказов такси растёт от марта к августу."
   ]
  },
  {
   "cell_type": "code",
   "execution_count": 9,
   "metadata": {
    "scrolled": true
   },
   "outputs": [
    {
     "data": {
      "image/png": "[encoded data removed]",
      "text/plain": [
       "<Figure size 1080x720 with 3 Axes>"
      ]
     },
     "metadata": {
      "needs_background": "light"
     },
     "output_type": "display_data"
    }
   ],
   "source": [
    "decomposed = seasonal_decompose(data)\n",
    "\n",
    "plt.figure(figsize=(15, 10))\n",
    "plt.subplot(311)\n",
    "# Чтобы график корректно отобразился, указываем его\n",
    "# оси ax, равными plt.gca() (англ. get current axis,\n",
    "# получить текущие оси)\n",
    "decomposed.trend.plot(ax=plt.gca())\n",
    "plt.title('Trend')\n",
    "plt.subplot(312)\n",
    "decomposed.seasonal.plot(ax=plt.gca())\n",
    "# < напишите код здесь >\n",
    "plt.title('Seasonality')\n",
    "plt.subplot(313)\n",
    "decomposed.resid.plot(ax=plt.gca())\n",
    "# < напишите код здесь >\n",
    "plt.title('Residuals')\n",
    "plt.tight_layout()"
   ]
  },
  {
   "cell_type": "markdown",
   "metadata": {},
   "source": [
    "Тренд показывает, что количество заказов увеличивается в летние месяцы. График нестационарный т.к. у него меняется среднее значение. График сезонности, в настоящий момент, необъясним. Рассмотрим первую и последнюю недели."
   ]
  },
  {
   "cell_type": "code",
   "execution_count": 10,
   "metadata": {},
   "outputs": [
    {
     "data": {
      "image/png": "[encoded data removed]",
      "text/plain": [
       "<Figure size 1440x360 with 1 Axes>"
      ]
     },
     "metadata": {
      "needs_background": "light"
     },
     "output_type": "display_data"
    }
   ],
   "source": [
    "plt.figure(figsize=(20, 5))\n",
    "decomposed.seasonal['2018-03-05':'2018-03-11'].plot(ax=plt.gca())\n",
    "plt.xlabel('Время', fontsize=12)\n",
    "plt.ylabel('Количество', fontsize=12)\n",
    "plt.legend()\n",
    "plt.title('Seasonality')\n",
    "plt.show()"
   ]
  },
  {
   "cell_type": "code",
   "execution_count": 11,
   "metadata": {},
   "outputs": [
    {
     "data": {
      "image/png": "[encoded data removed]",
      "text/plain": [
       "<Figure size 1440x360 with 1 Axes>"
      ]
     },
     "metadata": {
      "needs_background": "light"
     },
     "output_type": "display_data"
    }
   ],
   "source": [
    "plt.figure(figsize=(20, 5))\n",
    "decomposed.seasonal['2018-08-20':'2018-08-26'].plot(ax=plt.gca())\n",
    "plt.xlabel('Время', fontsize=12)\n",
    "plt.ylabel('Количество', fontsize=12)\n",
    "plt.legend()\n",
    "plt.title('Seasonality')\n",
    "plt.show()"
   ]
  },
  {
   "cell_type": "markdown",
   "metadata": {},
   "source": [
    "Данные полностью повторяют друг друга. Даже на выходных можно заметить, что количесво заказов с утра похоже на любой будний день, в тоже время вечером, количество заказов значительно возврастает и падает ночью."
   ]
  },
  {
   "cell_type": "code",
   "execution_count": 12,
   "metadata": {},
   "outputs": [],
   "source": [
    "def add_features(data, lag_start=1, lag_end=24, rolling_mean_size=3):\n",
    "    data = data.copy()\n",
    "    # Создаем признаки даты и времени\n",
    "    data['date'] = data.index.date\n",
    "    #data['year'] = data.index.year\n",
    "    #data['month'] = data.index.month\n",
    "    #data['day'] = data.index.day\n",
    "    data['day_of_week'] = data.index.dayofweek\n",
    "    data['hour'] = data.index.hour\n",
    "    \n",
    "    # Добавляем отстающие значения\n",
    "    for i in range(lag_start, lag_end + 1):\n",
    "        data['lag_{}'.format(i)] = data['num_orders'].shift(i)\n",
    "    \n",
    "    # Добавляем скользящее среднее\n",
    "    data['rolling_mean'] = data['num_orders'].shift().rolling(window=rolling_mean_size).mean()\n",
    "       \n",
    "    return data"
   ]
  },
  {
   "cell_type": "code",
   "execution_count": 13,
   "metadata": {},
   "outputs": [],
   "source": [
    "data = add_features(data, 1, 24)"
   ]
  },
  {
   "cell_type": "code",
   "execution_count": 14,
   "metadata": {
    "scrolled": true
   },
   "outputs": [
    {
     "name": "stdout",
     "output_type": "stream",
     "text": [
      "<class 'pandas.core.frame.DataFrame'>\n",
      "DatetimeIndex: 4416 entries, 2018-03-01 00:00:00 to 2018-08-31 23:00:00\n",
      "Freq: H\n",
      "Data columns (total 29 columns):\n",
      " #   Column        Non-Null Count  Dtype  \n",
      "---  ------        --------------  -----  \n",
      " 0   num_orders    4416 non-null   int64  \n",
      " 1   date          4416 non-null   object \n",
      " 2   day_of_week   4416 non-null   int64  \n",
      " 3   hour          4416 non-null   int64  \n",
      " 4   lag_1         4415 non-null   float64\n",
      " 5   lag_2         4414 non-null   float64\n",
      " 6   lag_3         4413 non-null   float64\n",
      " 7   lag_4         4412 non-null   float64\n",
      " 8   lag_5         4411 non-null   float64\n",
      " 9   lag_6         4410 non-null   float64\n",
      " 10  lag_7         4409 non-null   float64\n",
      " 11  lag_8         4408 non-null   float64\n",
      " 12  lag_9         4407 non-null   float64\n",
      " 13  lag_10        4406 non-null   float64\n",
      " 14  lag_11        4405 non-null   float64\n",
      " 15  lag_12        4404 non-null   float64\n",
      " 16  lag_13        4403 non-null   float64\n",
      " 17  lag_14        4402 non-null   float64\n",
      " 18  lag_15        4401 non-null   float64\n",
      " 19  lag_16        4400 non-null   float64\n",
      " 20  lag_17        4399 non-null   float64\n",
      " 21  lag_18        4398 non-null   float64\n",
      " 22  lag_19        4397 non-null   float64\n",
      " 23  lag_20        4396 non-null   float64\n",
      " 24  lag_21        4395 non-null   float64\n",
      " 25  lag_22        4394 non-null   float64\n",
      " 26  lag_23        4393 non-null   float64\n",
      " 27  lag_24        4392 non-null   float64\n",
      " 28  rolling_mean  4413 non-null   float64\n",
      "dtypes: float64(25), int64(3), object(1)\n",
      "memory usage: 1.0+ MB\n",
      "None\n",
      "\n",
      "************************************************\n",
      "\n",
      "<bound method NDFrame.head of                      num_orders        date  day_of_week  hour  lag_1  lag_2  \\\n",
      "datetime                                                                       \n",
      "2018-03-01 00:00:00         124  2018-03-01            3     0    NaN    NaN   \n",
      "2018-03-01 01:00:00          85  2018-03-01            3     1  124.0    NaN   \n",
      "2018-03-01 02:00:00          71  2018-03-01            3     2   85.0  124.0   \n",
      "2018-03-01 03:00:00          66  2018-03-01            3     3   71.0   85.0   \n",
      "2018-03-01 04:00:00          43  2018-03-01            3     4   66.0   71.0   \n",
      "...                         ...         ...          ...   ...    ...    ...   \n",
      "2018-08-31 19:00:00         136  2018-08-31            4    19  207.0  217.0   \n",
      "2018-08-31 20:00:00         154  2018-08-31            4    20  136.0  207.0   \n",
      "2018-08-31 21:00:00         159  2018-08-31            4    21  154.0  136.0   \n",
      "2018-08-31 22:00:00         223  2018-08-31            4    22  159.0  154.0   \n",
      "2018-08-31 23:00:00         205  2018-08-31            4    23  223.0  159.0   \n",
      "\n",
      "                     lag_3  lag_4  lag_5  lag_6  ...  lag_16  lag_17  lag_18  \\\n",
      "datetime                                         ...                           \n",
      "2018-03-01 00:00:00    NaN    NaN    NaN    NaN  ...     NaN     NaN     NaN   \n",
      "2018-03-01 01:00:00    NaN    NaN    NaN    NaN  ...     NaN     NaN     NaN   \n",
      "2018-03-01 02:00:00    NaN    NaN    NaN    NaN  ...     NaN     NaN     NaN   \n",
      "2018-03-01 03:00:00  124.0    NaN    NaN    NaN  ...     NaN     NaN     NaN   \n",
      "2018-03-01 04:00:00   85.0  124.0    NaN    NaN  ...     NaN     NaN     NaN   \n",
      "...                    ...    ...    ...    ...  ...     ...     ...     ...   \n",
      "2018-08-31 19:00:00  197.0  116.0  133.0  166.0  ...    99.0   230.0   194.0   \n",
      "2018-08-31 20:00:00  217.0  197.0  116.0  133.0  ...   268.0    99.0   230.0   \n",
      "2018-08-31 21:00:00  207.0  217.0  197.0  116.0  ...    78.0   268.0    99.0   \n",
      "2018-08-31 22:00:00  136.0  207.0  217.0  197.0  ...    35.0    78.0   268.0   \n",
      "2018-08-31 23:00:00  154.0  136.0  207.0  217.0  ...    46.0    35.0    78.0   \n",
      "\n",
      "                     lag_19  lag_20  lag_21  lag_22  lag_23  lag_24  \\\n",
      "datetime                                                              \n",
      "2018-03-01 00:00:00     NaN     NaN     NaN     NaN     NaN     NaN   \n",
      "2018-03-01 01:00:00     NaN     NaN     NaN     NaN     NaN     NaN   \n",
      "2018-03-01 02:00:00     NaN     NaN     NaN     NaN     NaN     NaN   \n",
      "2018-03-01 03:00:00     NaN     NaN     NaN     NaN     NaN     NaN   \n",
      "2018-03-01 04:00:00     NaN     NaN     NaN     NaN     NaN     NaN   \n",
      "...                     ...     ...     ...     ...     ...     ...   \n",
      "2018-08-31 19:00:00   276.0   246.0   158.0   198.0   142.0    72.0   \n",
      "2018-08-31 20:00:00   194.0   276.0   246.0   158.0   198.0   142.0   \n",
      "2018-08-31 21:00:00   230.0   194.0   276.0   246.0   158.0   198.0   \n",
      "2018-08-31 22:00:00    99.0   230.0   194.0   276.0   246.0   158.0   \n",
      "2018-08-31 23:00:00   268.0    99.0   230.0   194.0   276.0   246.0   \n",
      "\n",
      "                     rolling_mean  \n",
      "datetime                           \n",
      "2018-03-01 00:00:00           NaN  \n",
      "2018-03-01 01:00:00           NaN  \n",
      "2018-03-01 02:00:00           NaN  \n",
      "2018-03-01 03:00:00     93.333333  \n",
      "2018-03-01 04:00:00     74.000000  \n",
      "...                           ...  \n",
      "2018-08-31 19:00:00    207.000000  \n",
      "2018-08-31 20:00:00    186.666667  \n",
      "2018-08-31 21:00:00    165.666667  \n",
      "2018-08-31 22:00:00    149.666667  \n",
      "2018-08-31 23:00:00    178.666667  \n",
      "\n",
      "[4416 rows x 29 columns]>\n"
     ]
    }
   ],
   "source": [
    "print(data.info())\n",
    "print('')\n",
    "print('************************************************')\n",
    "print('')\n",
    "print(data.head)"
   ]
  },
  {
   "cell_type": "markdown",
   "metadata": {},
   "source": [
    "Колонка \"date\" в исходных данных содержит только информацию о дате и времени, но не содержит дополнительной информации, такой как дни недели, месяцы и годы. Мы уже создали эти дополнительные колонки, кроме того тип колонки \"date\" object, поэтому данная колонка нам, в продолжении проекта, не нужна."
   ]
  },
  {
   "cell_type": "code",
   "execution_count": 15,
   "metadata": {},
   "outputs": [
    {
     "name": "stdout",
     "output_type": "stream",
     "text": [
      "<class 'pandas.core.frame.DataFrame'>\n",
      "DatetimeIndex: 4416 entries, 2018-03-01 00:00:00 to 2018-08-31 23:00:00\n",
      "Freq: H\n",
      "Data columns (total 28 columns):\n",
      " #   Column        Non-Null Count  Dtype  \n",
      "---  ------        --------------  -----  \n",
      " 0   num_orders    4416 non-null   int64  \n",
      " 1   day_of_week   4416 non-null   int64  \n",
      " 2   hour          4416 non-null   int64  \n",
      " 3   lag_1         4415 non-null   float64\n",
      " 4   lag_2         4414 non-null   float64\n",
      " 5   lag_3         4413 non-null   float64\n",
      " 6   lag_4         4412 non-null   float64\n",
      " 7   lag_5         4411 non-null   float64\n",
      " 8   lag_6         4410 non-null   float64\n",
      " 9   lag_7         4409 non-null   float64\n",
      " 10  lag_8         4408 non-null   float64\n",
      " 11  lag_9         4407 non-null   float64\n",
      " 12  lag_10        4406 non-null   float64\n",
      " 13  lag_11        4405 non-null   float64\n",
      " 14  lag_12        4404 non-null   float64\n",
      " 15  lag_13        4403 non-null   float64\n",
      " 16  lag_14        4402 non-null   float64\n",
      " 17  lag_15        4401 non-null   float64\n",
      " 18  lag_16        4400 non-null   float64\n",
      " 19  lag_17        4399 non-null   float64\n",
      " 20  lag_18        4398 non-null   float64\n",
      " 21  lag_19        4397 non-null   float64\n",
      " 22  lag_20        4396 non-null   float64\n",
      " 23  lag_21        4395 non-null   float64\n",
      " 24  lag_22        4394 non-null   float64\n",
      " 25  lag_23        4393 non-null   float64\n",
      " 26  lag_24        4392 non-null   float64\n",
      " 27  rolling_mean  4413 non-null   float64\n",
      "dtypes: float64(25), int64(3)\n",
      "memory usage: 1000.5 KB\n",
      "None\n"
     ]
    }
   ],
   "source": [
    "data = data.drop(['date'], axis=1)\n",
    "\n",
    "print(data.info())"
   ]
  },
  {
   "cell_type": "markdown",
   "metadata": {},
   "source": [
    "Проанализировали датасет, добавили новые признаки (дни, дни недели, месяцы и год, а также лаги). Удалили лишние данные (date). Модель готова к обучению."
   ]
  },
  {
   "cell_type": "markdown",
   "metadata": {},
   "source": [
    "## Обучение"
   ]
  },
  {
   "cell_type": "markdown",
   "metadata": {},
   "source": [
    "Разделяем данные на три части, и удаляем пропуски в тренировочной выборке."
   ]
  },
  {
   "cell_type": "code",
   "execution_count": 16,
   "metadata": {},
   "outputs": [
    {
     "name": "stdout",
     "output_type": "stream",
     "text": [
      "<class 'pandas.core.frame.DataFrame'>\n",
      "DatetimeIndex: 3950 entries, 2018-03-02 00:00:00 to 2018-08-13 13:00:00\n",
      "Freq: H\n",
      "Data columns (total 28 columns):\n",
      " #   Column        Non-Null Count  Dtype  \n",
      "---  ------        --------------  -----  \n",
      " 0   num_orders    3950 non-null   int64  \n",
      " 1   day_of_week   3950 non-null   int64  \n",
      " 2   hour          3950 non-null   int64  \n",
      " 3   lag_1         3950 non-null   float64\n",
      " 4   lag_2         3950 non-null   float64\n",
      " 5   lag_3         3950 non-null   float64\n",
      " 6   lag_4         3950 non-null   float64\n",
      " 7   lag_5         3950 non-null   float64\n",
      " 8   lag_6         3950 non-null   float64\n",
      " 9   lag_7         3950 non-null   float64\n",
      " 10  lag_8         3950 non-null   float64\n",
      " 11  lag_9         3950 non-null   float64\n",
      " 12  lag_10        3950 non-null   float64\n",
      " 13  lag_11        3950 non-null   float64\n",
      " 14  lag_12        3950 non-null   float64\n",
      " 15  lag_13        3950 non-null   float64\n",
      " 16  lag_14        3950 non-null   float64\n",
      " 17  lag_15        3950 non-null   float64\n",
      " 18  lag_16        3950 non-null   float64\n",
      " 19  lag_17        3950 non-null   float64\n",
      " 20  lag_18        3950 non-null   float64\n",
      " 21  lag_19        3950 non-null   float64\n",
      " 22  lag_20        3950 non-null   float64\n",
      " 23  lag_21        3950 non-null   float64\n",
      " 24  lag_22        3950 non-null   float64\n",
      " 25  lag_23        3950 non-null   float64\n",
      " 26  lag_24        3950 non-null   float64\n",
      " 27  rolling_mean  3950 non-null   float64\n",
      "dtypes: float64(25), int64(3)\n",
      "memory usage: 894.9 KB\n"
     ]
    }
   ],
   "source": [
    "train, test = train_test_split(data.copy(), shuffle=False, test_size=0.1)\n",
    "#train, valid = train_test_split(train, shuffle=False, test_size=0.5)\n",
    "train = train.dropna()\n",
    "train.info()"
   ]
  },
  {
   "cell_type": "markdown",
   "metadata": {},
   "source": [
    "Подготовим признаки"
   ]
  },
  {
   "cell_type": "code",
   "execution_count": 17,
   "metadata": {},
   "outputs": [],
   "source": [
    "features_train  = train.drop('num_orders', axis=1)\n",
    "target_train = train[['num_orders']]\n",
    "features_test = test.drop('num_orders', axis=1)\n",
    "target_test = test[['num_orders']]"
   ]
  },
  {
   "cell_type": "markdown",
   "metadata": {},
   "source": [
    "Убедимся, что в выборках нет данных из будущего."
   ]
  },
  {
   "cell_type": "code",
   "execution_count": 18,
   "metadata": {
    "scrolled": true
   },
   "outputs": [
    {
     "data": {
      "text/plain": [
       "'Временной отрезок обучающей выборки: 2018-03-02 00:00:00 - 2018-08-13 13:00:00'"
      ]
     },
     "metadata": {},
     "output_type": "display_data"
    },
    {
     "data": {
      "text/plain": [
       "'Временной отрезок тестовой выборки: 2018-08-13 14:00:00 - 2018-08-31 23:00:00'"
      ]
     },
     "metadata": {},
     "output_type": "display_data"
    }
   ],
   "source": [
    "display(f'Временной отрезок обучающей выборки: {train.index.min()} - {train.index.max()}')\n",
    "display(f'Временной отрезок тестовой выборки: {test.index.min()} - {test.index.max()}')"
   ]
  },
  {
   "cell_type": "code",
   "execution_count": 19,
   "metadata": {},
   "outputs": [
    {
     "name": "stdout",
     "output_type": "stream",
     "text": [
      "Размер обучающей выборки: 3950\n",
      "Размер тестовой выборки: 442\n"
     ]
    }
   ],
   "source": [
    "print(\"Размер обучающей выборки:\", len(train))\n",
    "print(\"Размер тестовой выборки:\", len(test))\n",
    "#print(\"Размер валидационной выборки:\", len(valid))"
   ]
  },
  {
   "cell_type": "markdown",
   "metadata": {},
   "source": [
    "Проверка разбития данных. Условие задачи, оставить тестовую выборку размером 10% от исходных данных выполнена. Подготовим данные к масштабированию."
   ]
  },
  {
   "cell_type": "markdown",
   "metadata": {},
   "source": [
    "```python\n",
    "features_train = train.drop(['num_orders'], axis=1)\n",
    "features_valid = valid.drop(['num_orders'], axis=1)\n",
    "features_test = test.drop(['num_orders'], axis=1)\n",
    "\n",
    "target_train = train['num_orders']\n",
    "target_valid = valid['num_orders']\n",
    "target_test = test['num_orders']\n",
    "```"
   ]
  },
  {
   "cell_type": "markdown",
   "metadata": {},
   "source": [
    "```python\n",
    "scaler = StandardScaler()\n",
    "scaler.fit(features_train)\n",
    "\n",
    "features_train_scaled = scaler.transform(features_train)\n",
    "features_valid_scaled = scaler.transform(features_valid)\n",
    "features_test_scaled = scaler.transform(features_test)\n",
    "```"
   ]
  },
  {
   "cell_type": "markdown",
   "metadata": {},
   "source": [
    "Обученим модели: **LinearRegression, LGBMRegressor, XGBRegressor, CatBoostRegressor**"
   ]
  },
  {
   "cell_type": "raw",
   "metadata": {},
   "source": [
    "train_valid_features = np.concatenate([features_train_scaled, features_valid_scaled])\n",
    "train_valid_target  = np.concatenate([target_train, target_valid])"
   ]
  },
  {
   "cell_type": "markdown",
   "metadata": {},
   "source": [
    "Для корректного оценивания качества модели на временных данных необходимо использовать кросс-валидацию с помощью TimeSeriesSplit. Воспользуемся значением фолдов равному восьми."
   ]
  },
  {
   "cell_type": "code",
   "execution_count": 22,
   "metadata": {},
   "outputs": [],
   "source": [
    "tscv = TimeSeriesSplit(n_splits=8)"
   ]
  },
  {
   "cell_type": "markdown",
   "metadata": {},
   "source": [
    "Подготовим словарь для записи результатов RMSE."
   ]
  },
  {
   "cell_type": "code",
   "execution_count": 23,
   "metadata": {},
   "outputs": [],
   "source": [
    "# Запись оценок моделей\n",
    "test_score = {}"
   ]
  },
  {
   "cell_type": "markdown",
   "metadata": {},
   "source": [
    "Обучим линейную регрессию и посмотрим результат на валидационной выборке."
   ]
  },
  {
   "cell_type": "code",
   "execution_count": 24,
   "metadata": {},
   "outputs": [
    {
     "name": "stdout",
     "output_type": "stream",
     "text": [
      "Значение метрики RMSE на обучающей выборке для LinearRegression -27.07316416520977\n"
     ]
    }
   ],
   "source": [
    "# обучение линейной регрессией\n",
    "model = LinearRegression()\n",
    "\n",
    "print(f'''Значение метрики RMSE на обучающей выборке для LinearRegression''', cross_val_score(model, features_train, target_train, \n",
    "                         cv = tscv, \n",
    "                         n_jobs = -1, \n",
    "                         scoring = 'neg_root_mean_squared_error').mean())"
   ]
  },
  {
   "cell_type": "code",
   "execution_count": 25,
   "metadata": {},
   "outputs": [],
   "source": [
    "# Запись оценок моделей\n",
    "test_score['LinearRegression'] = [27.07]"
   ]
  },
  {
   "cell_type": "markdown",
   "metadata": {},
   "source": [
    "```python\n",
    "# обучение линейной регрессией\n",
    "model = LinearRegression()\n",
    "\n",
    "print(f'''Значение метрики RMSE на обучающей выборке для LinearRegression''', cross_val_score(model, features_train, target_train, \n",
    "                         cv = tscv, \n",
    "                         n_jobs = -1, \n",
    "                         scoring = 'neg_root_mean_squared_error').mean())\n",
    "```"
   ]
  },
  {
   "cell_type": "markdown",
   "metadata": {},
   "source": [
    "Для обучения модели LGBMRegressor() найдём лучшие параметры с помощью GridSearchCV.  \n",
    "**Update:** Параметры уже найдены и записаны в словарь."
   ]
  },
  {
   "cell_type": "markdown",
   "metadata": {},
   "source": [
    "```python\n",
    "\n",
    "lgb_model = lgb.LGBMRegressor()\n",
    "\n",
    "\n",
    "param_grid = {\n",
    "    'num_leaves': [15, 31, 63],\n",
    "    'max_depth': [3, 4, 5, -1],\n",
    "    'learning_rate': [0.01, 0.1, 1],\n",
    "   'n_estimators': [50, 100, 200]\n",
    "}\n",
    "\n",
    "\n",
    "grid_search = GridSearchCV(lgb_model, param_grid, cv=tscv, verbose=1)\n",
    "\n",
    "\n",
    "grid_search.fit(features_train, target_train)\n",
    "\n",
    "\n",
    "best_params = grid_search.best_params_\n",
    "print('Лучшие параметры:', best_params)\n",
    "\n",
    "```"
   ]
  },
  {
   "cell_type": "code",
   "execution_count": 26,
   "metadata": {},
   "outputs": [],
   "source": [
    "lgbm_best_params = {'learning_rate': 0.1, 'max_depth': 5, 'n_estimators': 100, 'num_leaves': 15}"
   ]
  },
  {
   "cell_type": "code",
   "execution_count": 27,
   "metadata": {
    "scrolled": true
   },
   "outputs": [
    {
     "name": "stdout",
     "output_type": "stream",
     "text": [
      "CPU times: user 5 µs, sys: 2 µs, total: 7 µs\n",
      "Wall time: 12.4 µs\n",
      "LGBMRegressor RMSE: 17.05207897641072\n"
     ]
    }
   ],
   "source": [
    "%time\n",
    "\n",
    "lgb_model = lgb.LGBMRegressor(**lgbm_best_params)\n",
    "\n",
    "# Обучаем модель на train\n",
    "lgb_model.fit(features_train, target_train)\n",
    "\n",
    "predictions = lgb_model.predict(features_train)\n",
    "\n",
    "# Считаем RMSE\n",
    "rmse_lgb = mean_squared_error(target_train, predictions)**0.5\n",
    "print('LGBMRegressor RMSE:', rmse_lgb)"
   ]
  },
  {
   "cell_type": "code",
   "execution_count": 28,
   "metadata": {},
   "outputs": [],
   "source": [
    "# Запись оценок моделей\n",
    "test_score['LGBMRegressor'] = [rmse_lgb]"
   ]
  },
  {
   "cell_type": "markdown",
   "metadata": {},
   "source": [
    "В следующей ячейки отберём лучшие параметры для модели XGBRegressor().  \n",
    "\n",
    "**Update:** данные найдены и записаны в словарь."
   ]
  },
  {
   "cell_type": "markdown",
   "metadata": {},
   "source": [
    "```python\n",
    "xgb_model = XGBRegressor()\n",
    "\n",
    "\n",
    "params = {'n_estimators': [50, 100, 150],\n",
    "          'learning_rate': [0.1, 0.2, 0.3],\n",
    "          'max_depth': [3, 4, 5],\n",
    "          'min_child_weight': [1, 3, 5]}\n",
    "\n",
    "\n",
    "grid_xgb = GridSearchCV(estimator=xgb_model, param_grid=params, cv=tscv)\n",
    "\n",
    "grid_xgb.fit(features_train, target_train)\n",
    "\n",
    "\n",
    "best_params = grid_xgb.best_params_\n",
    "print(\"Лучшие гиперпараметры: \", best_params)\n",
    "```"
   ]
  },
  {
   "cell_type": "code",
   "execution_count": 29,
   "metadata": {},
   "outputs": [],
   "source": [
    "xgb_best_params = {'learning_rate': 0.1, 'max_depth': 5, 'min_child_weight': 3, 'n_estimators': 100}"
   ]
  },
  {
   "cell_type": "code",
   "execution_count": 30,
   "metadata": {},
   "outputs": [
    {
     "name": "stdout",
     "output_type": "stream",
     "text": [
      "CPU times: user 2 µs, sys: 1e+03 ns, total: 3 µs\n",
      "Wall time: 6.2 µs\n",
      "XGBRegressor RMSE: 14.444568867777445\n"
     ]
    }
   ],
   "source": [
    "%time\n",
    "# Обучаем модель\n",
    "model_xgb = XGBRegressor(**xgb_best_params, random_state=2023)\n",
    "model_xgb.fit(features_train, target_train)\n",
    "\n",
    "# Вычисляем RMSE\n",
    "pred_xgb = model_xgb.predict(features_train)\n",
    "rmse_xgb = mean_squared_error(target_train, pred_xgb) ** 0.5\n",
    "\n",
    "print(\"XGBRegressor RMSE:\", rmse_xgb)"
   ]
  },
  {
   "cell_type": "code",
   "execution_count": 31,
   "metadata": {},
   "outputs": [],
   "source": [
    "test_score['XGBRegressor'] = [rmse_xgb]"
   ]
  },
  {
   "cell_type": "markdown",
   "metadata": {},
   "source": [
    "Обучим ещё одну модель CatBoostRegressor(). Найдем лучшие параметры с GridSearch и запишем в словарь."
   ]
  },
  {
   "cell_type": "markdown",
   "metadata": {},
   "source": [
    "```python\n",
    "param_grid = {\n",
    "    'learning_rate': [0.01, 0.1, 0.5],\n",
    "    'depth': [3, 5, 7],\n",
    "    'iterations': [50, 100, 200]\n",
    "}\n",
    "\n",
    "\n",
    "cat_model = CatBoostRegressor()\n",
    "\n",
    "\n",
    "grid_search = GridSearchCV(cat_model, param_grid, cv=tscv, verbose=1)\n",
    "\n",
    "grid_search.fit(train_valid_features, train_valid_target, verbose=False)\n",
    "\n",
    "\n",
    "best_params = grid_search.best_params_\n",
    "print('Лучшие параметры:', best_params)\n",
    "```"
   ]
  },
  {
   "cell_type": "code",
   "execution_count": 32,
   "metadata": {},
   "outputs": [],
   "source": [
    "cat_best_params = {'depth': 7, 'iterations': 50, 'learning_rate': 0.01}"
   ]
  },
  {
   "cell_type": "code",
   "execution_count": 33,
   "metadata": {},
   "outputs": [
    {
     "name": "stdout",
     "output_type": "stream",
     "text": [
      "CPU times: user 3 µs, sys: 0 ns, total: 3 µs\n",
      "Wall time: 6.91 µs\n",
      "RMSE 31.538266194555725\n"
     ]
    }
   ],
   "source": [
    "%time\n",
    "\n",
    "cat_model = CatBoostRegressor(**cat_best_params, random_state=2023)\n",
    "\n",
    "cat_model.fit(features_train, target_train, verbose=False)\n",
    "\n",
    "pred_cat = cat_model.predict(features_train)\n",
    "\n",
    "# Вычисляем RMSE\n",
    "cat_rmse = mean_squared_error(target_train, pred_cat)**0.5\n",
    "print(\"RMSE\", cat_rmse)"
   ]
  },
  {
   "cell_type": "code",
   "execution_count": 34,
   "metadata": {},
   "outputs": [],
   "source": [
    "test_score['CatBoostRegressor'] = [cat_rmse]"
   ]
  },
  {
   "cell_type": "markdown",
   "metadata": {},
   "source": [
    "Обучили 4 модели, посмотрим на результаты "
   ]
  },
  {
   "cell_type": "code",
   "execution_count": 35,
   "metadata": {
    "scrolled": true
   },
   "outputs": [
    {
     "data": {
      "text/html": [
       "<div>\n",
       "<style scoped>\n",
       "    .dataframe tbody tr th:only-of-type {\n",
       "        vertical-align: middle;\n",
       "    }\n",
       "\n",
       "    .dataframe tbody tr th {\n",
       "        vertical-align: top;\n",
       "    }\n",
       "\n",
       "    .dataframe thead th {\n",
       "        text-align: right;\n",
       "    }\n",
       "</style>\n",
       "<table border=\"1\" class=\"dataframe\">\n",
       "  <thead>\n",
       "    <tr style=\"text-align: right;\">\n",
       "      <th></th>\n",
       "      <th>RMSE</th>\n",
       "    </tr>\n",
       "  </thead>\n",
       "  <tbody>\n",
       "    <tr>\n",
       "      <th>LinearRegression</th>\n",
       "      <td>27.070000</td>\n",
       "    </tr>\n",
       "    <tr>\n",
       "      <th>LGBMRegressor</th>\n",
       "      <td>17.052079</td>\n",
       "    </tr>\n",
       "    <tr>\n",
       "      <th>XGBRegressor</th>\n",
       "      <td>14.444569</td>\n",
       "    </tr>\n",
       "    <tr>\n",
       "      <th>CatBoostRegressor</th>\n",
       "      <td>31.538266</td>\n",
       "    </tr>\n",
       "  </tbody>\n",
       "</table>\n",
       "</div>"
      ],
      "text/plain": [
       "                        RMSE\n",
       "LinearRegression   27.070000\n",
       "LGBMRegressor      17.052079\n",
       "XGBRegressor       14.444569\n",
       "CatBoostRegressor  31.538266"
      ]
     },
     "metadata": {},
     "output_type": "display_data"
    }
   ],
   "source": [
    "df = pd.DataFrame.from_dict(test_score, orient='index', columns=['RMSE'])\n",
    "display(df)"
   ]
  },
  {
   "cell_type": "markdown",
   "metadata": {},
   "source": [
    "Все модели показали отличный результат на тренинговой выборке, но самый худший результат RMSE показала *CatBoostRegressor*. Таким образом будем продолжать тестировать *XGBRegressor* с результатом RMSE 14.44."
   ]
  },
  {
   "cell_type": "markdown",
   "metadata": {},
   "source": [
    "## Проверка данных на тестовой выборке"
   ]
  },
  {
   "cell_type": "code",
   "execution_count": 36,
   "metadata": {
    "scrolled": true
   },
   "outputs": [
    {
     "name": "stdout",
     "output_type": "stream",
     "text": [
      "CPU times: user 4 µs, sys: 0 ns, total: 4 µs\n",
      "Wall time: 7.63 µs\n",
      "RMSE на тестовой выборке для XGBRegressor: 41.3747189438364\n"
     ]
    }
   ],
   "source": [
    "%time\n",
    "\n",
    "# создаем и обучаем модель\n",
    "best_model = XGBRegressor(**xgb_best_params, random_state=2023)\n",
    "best_model.fit(features_train, target_train)\n",
    "\n",
    "# делаем предсказание на тестовой выборке\n",
    "pred_test = best_model.predict(features_test)\n",
    "\n",
    "# считаем RMSE на тестовой выборке\n",
    "best_rmse = mean_squared_error(target_test, pred_test)**0.5\n",
    "print(\"RMSE на тестовой выборке для XGBRegressor:\", best_rmse)"
   ]
  },
  {
   "cell_type": "markdown",
   "metadata": {},
   "source": [
    "Посмотрим на пресказания модели в графическом виде. Возьмём данные за 2 дня (20-22 августа 2018 г.).  \n",
    "Также для этого нам потребуется певести переменную *pred_test* в pandas Series."
   ]
  },
  {
   "cell_type": "code",
   "execution_count": 37,
   "metadata": {},
   "outputs": [],
   "source": [
    "pred_test = pd.Series(pred_test, index=target_test.index)"
   ]
  },
  {
   "cell_type": "code",
   "execution_count": 38,
   "metadata": {
    "scrolled": true
   },
   "outputs": [
    {
     "data": {
      "image/png": "[encoded data removed]",
      "text/plain": [
       "<Figure size 1080x360 with 1 Axes>"
      ]
     },
     "metadata": {
      "needs_background": "light"
     },
     "output_type": "display_data"
    }
   ],
   "source": [
    "fig, ax = plt.subplots(figsize=(15, 5))\n",
    "\n",
    "start_date = '2018-08-20'\n",
    "end_date = '2018-08-21'\n",
    "\n",
    "ax.plot(target_test.loc[start_date:end_date].index, target_test.loc[start_date:end_date], label='фактические значения')\n",
    "ax.plot(target_test.loc[start_date:end_date].index, pred_test.loc[start_date:end_date], label='предсказанные значения')\n",
    "\n",
    "ax.set_title('Фактические и предсказанные значения заказов такси')\n",
    "ax.set_xlabel('Дата')\n",
    "ax.set_ylabel('Количество заказов')\n",
    "ax.legend()\n",
    "\n",
    "plt.show()"
   ]
  },
  {
   "cell_type": "markdown",
   "metadata": {},
   "source": [
    "В целом можно сказать, что модель угадывает, что количество заказов будет возврастать, хотя не может предугать точное количество вызовов. Но, в настоящий момент, модель **XGBRegressor**, самоё лучшее предложение для таксокомпании \"Чётенькое Такси\"."
   ]
  },
  {
   "cell_type": "markdown",
   "metadata": {},
   "source": [
    "## Вывод"
   ]
  },
  {
   "cell_type": "markdown",
   "metadata": {},
   "source": [
    "В данном проекте мы попытались помочь сервису \"Четенькое такси\", проанализировали данные за полгода, разделили заказы по одному часу. Провели анализ графиков, изучили тренд, сезонность, скользящее среднее. Обучили несколько моделей, выделили лучшую, проанализировали фактические и предсказанные значения заказов такси на модели XGBRegressor.\n",
    "\n",
    "Рекомендуется использовать модель **XGBRegressor** для прогнозирования спроса на такси и использования её в сервисе \"Чётенькое такси\"."
   ]
  },
  {
   "cell_type": "markdown",
   "metadata": {},
   "source": [
    "## Чек-лист проверки"
   ]
  },
  {
   "cell_type": "markdown",
   "metadata": {},
   "source": [
    "- [x]  Jupyter Notebook открыт\n",
    "- [x]  Весь код выполняется без ошибок\n",
    "- [x]  Ячейки с кодом расположены в порядке исполнения\n",
    "- [x]  Данные загружены и подготовлены\n",
    "- [x]  Данные проанализированы\n",
    "- [x]  Модель обучена, гиперпараметры подобраны\n",
    "- [x]  Качество моделей проверено, выводы сделаны\n",
    "- [x]  Значение *RMSE* на тестовой выборке не больше 48"
   ]
  }
 ],
 "metadata": {
  "ExecuteTimeLog": [
   {
    "duration": 3,
    "start_time": "2023-02-28T15:55:35.544Z"
   },
   {
    "duration": 56,
    "start_time": "2023-02-28T15:55:56.259Z"
   },
   {
    "duration": 12,
    "start_time": "2023-02-28T15:56:05.961Z"
   },
   {
    "duration": 11,
    "start_time": "2023-02-28T15:58:17.917Z"
   },
   {
    "duration": 70,
    "start_time": "2023-02-28T16:28:47.851Z"
   },
   {
    "duration": 250,
    "start_time": "2023-02-28T16:29:35.767Z"
   },
   {
    "duration": 839,
    "start_time": "2023-02-28T16:33:44.939Z"
   },
   {
    "duration": 4,
    "start_time": "2023-02-28T16:38:26.378Z"
   },
   {
    "duration": 594,
    "start_time": "2023-02-28T16:38:39.200Z"
   },
   {
    "duration": 53,
    "start_time": "2023-02-28T16:38:39.796Z"
   },
   {
    "duration": 13,
    "start_time": "2023-02-28T16:38:39.851Z"
   },
   {
    "duration": 3,
    "start_time": "2023-02-28T16:38:39.865Z"
   },
   {
    "duration": 213,
    "start_time": "2023-02-28T16:38:39.870Z"
   },
   {
    "duration": 875,
    "start_time": "2023-02-28T16:38:40.085Z"
   },
   {
    "duration": 17,
    "start_time": "2023-02-28T16:39:02.091Z"
   },
   {
    "duration": 18,
    "start_time": "2023-02-28T16:40:21.035Z"
   },
   {
    "duration": 1045,
    "start_time": "2023-02-28T16:45:03.786Z"
   },
   {
    "duration": 204,
    "start_time": "2023-02-28T16:51:48.033Z"
   },
   {
    "duration": 153,
    "start_time": "2023-02-28T16:51:59.893Z"
   },
   {
    "duration": 216,
    "start_time": "2023-02-28T16:52:06.512Z"
   },
   {
    "duration": 190,
    "start_time": "2023-02-28T16:52:12.819Z"
   },
   {
    "duration": 278,
    "start_time": "2023-02-28T16:52:17.508Z"
   },
   {
    "duration": 228,
    "start_time": "2023-02-28T16:54:59.007Z"
   },
   {
    "duration": 238,
    "start_time": "2023-02-28T16:55:28.973Z"
   },
   {
    "duration": 202,
    "start_time": "2023-02-28T16:55:37.731Z"
   },
   {
    "duration": 354,
    "start_time": "2023-02-28T16:55:47.276Z"
   },
   {
    "duration": 11,
    "start_time": "2023-02-28T16:57:10.603Z"
   },
   {
    "duration": 11,
    "start_time": "2023-02-28T16:57:20.956Z"
   },
   {
    "duration": 15,
    "start_time": "2023-02-28T16:57:32.354Z"
   },
   {
    "duration": 270,
    "start_time": "2023-02-28T16:57:47.908Z"
   },
   {
    "duration": 1087,
    "start_time": "2023-02-28T16:59:25.683Z"
   },
   {
    "duration": 200,
    "start_time": "2023-02-28T16:59:42.420Z"
   },
   {
    "duration": 207,
    "start_time": "2023-02-28T17:00:18.731Z"
   },
   {
    "duration": 221,
    "start_time": "2023-02-28T17:00:57.585Z"
   },
   {
    "duration": 239,
    "start_time": "2023-02-28T17:01:14.882Z"
   },
   {
    "duration": 266,
    "start_time": "2023-02-28T17:01:54.685Z"
   },
   {
    "duration": 7,
    "start_time": "2023-02-28T17:06:11.710Z"
   },
   {
    "duration": 1123,
    "start_time": "2023-02-28T17:06:19.663Z"
   },
   {
    "duration": 55,
    "start_time": "2023-02-28T17:06:20.787Z"
   },
   {
    "duration": 13,
    "start_time": "2023-02-28T17:06:20.843Z"
   },
   {
    "duration": 20,
    "start_time": "2023-02-28T17:06:20.858Z"
   },
   {
    "duration": 221,
    "start_time": "2023-02-28T17:06:20.880Z"
   },
   {
    "duration": 218,
    "start_time": "2023-02-28T17:06:21.103Z"
   },
   {
    "duration": 291,
    "start_time": "2023-02-28T17:06:21.323Z"
   },
   {
    "duration": 8,
    "start_time": "2023-02-28T17:06:21.615Z"
   },
   {
    "duration": 709,
    "start_time": "2023-02-28T17:07:35.307Z"
   },
   {
    "duration": 843,
    "start_time": "2023-02-28T17:08:07.195Z"
   },
   {
    "duration": 102,
    "start_time": "2023-02-28T17:18:00.566Z"
   },
   {
    "duration": 1028,
    "start_time": "2023-02-28T17:18:18.646Z"
   },
   {
    "duration": 137,
    "start_time": "2023-02-28T17:20:19.943Z"
   },
   {
    "duration": 155,
    "start_time": "2023-02-28T17:20:56.669Z"
   },
   {
    "duration": 161,
    "start_time": "2023-02-28T17:21:28.757Z"
   },
   {
    "duration": 285,
    "start_time": "2023-02-28T17:21:49.070Z"
   },
   {
    "duration": 226,
    "start_time": "2023-02-28T17:22:00.414Z"
   },
   {
    "duration": 197,
    "start_time": "2023-02-28T17:22:54.078Z"
   },
   {
    "duration": 214,
    "start_time": "2023-02-28T17:23:26.753Z"
   },
   {
    "duration": 180,
    "start_time": "2023-02-28T17:24:13.846Z"
   },
   {
    "duration": 182,
    "start_time": "2023-02-28T17:24:27.922Z"
   },
   {
    "duration": 146,
    "start_time": "2023-02-28T17:24:39.381Z"
   },
   {
    "duration": 1138,
    "start_time": "2023-02-28T17:25:14.742Z"
   },
   {
    "duration": 68,
    "start_time": "2023-02-28T17:25:15.882Z"
   },
   {
    "duration": 12,
    "start_time": "2023-02-28T17:25:15.952Z"
   },
   {
    "duration": 19,
    "start_time": "2023-02-28T17:25:15.965Z"
   },
   {
    "duration": 237,
    "start_time": "2023-02-28T17:25:15.986Z"
   },
   {
    "duration": 250,
    "start_time": "2023-02-28T17:25:16.225Z"
   },
   {
    "duration": 343,
    "start_time": "2023-02-28T17:25:16.477Z"
   },
   {
    "duration": 827,
    "start_time": "2023-02-28T17:25:16.822Z"
   },
   {
    "duration": 298,
    "start_time": "2023-02-28T17:25:17.650Z"
   },
   {
    "duration": 217,
    "start_time": "2023-02-28T17:25:17.950Z"
   },
   {
    "duration": 238,
    "start_time": "2023-02-28T17:32:29.665Z"
   },
   {
    "duration": 886,
    "start_time": "2023-02-28T17:38:18.903Z"
   },
   {
    "duration": 13,
    "start_time": "2023-02-28T17:41:36.579Z"
   },
   {
    "duration": 220,
    "start_time": "2023-02-28T17:41:54.836Z"
   },
   {
    "duration": 4,
    "start_time": "2023-02-28T18:01:14.001Z"
   },
   {
    "duration": 5,
    "start_time": "2023-02-28T18:01:49.967Z"
   },
   {
    "duration": 9,
    "start_time": "2023-02-28T18:03:14.142Z"
   },
   {
    "duration": 25,
    "start_time": "2023-02-28T18:03:26.562Z"
   },
   {
    "duration": 13,
    "start_time": "2023-02-28T18:04:25.288Z"
   },
   {
    "duration": 42,
    "start_time": "2023-02-28T18:04:26.609Z"
   },
   {
    "duration": 18,
    "start_time": "2023-02-28T18:07:38.124Z"
   },
   {
    "duration": 10,
    "start_time": "2023-02-28T18:07:39.032Z"
   },
   {
    "duration": 3,
    "start_time": "2023-02-28T18:07:40.088Z"
   },
   {
    "duration": 3,
    "start_time": "2023-02-28T18:07:50.195Z"
   },
   {
    "duration": 3,
    "start_time": "2023-02-28T18:07:59.147Z"
   },
   {
    "duration": 1090,
    "start_time": "2023-02-28T18:08:05.203Z"
   },
   {
    "duration": 75,
    "start_time": "2023-02-28T18:08:06.296Z"
   },
   {
    "duration": 15,
    "start_time": "2023-02-28T18:08:06.374Z"
   },
   {
    "duration": 37,
    "start_time": "2023-02-28T18:08:06.391Z"
   },
   {
    "duration": 272,
    "start_time": "2023-02-28T18:08:06.430Z"
   },
   {
    "duration": 245,
    "start_time": "2023-02-28T18:08:06.704Z"
   },
   {
    "duration": 336,
    "start_time": "2023-02-28T18:08:06.951Z"
   },
   {
    "duration": 829,
    "start_time": "2023-02-28T18:08:07.289Z"
   },
   {
    "duration": 276,
    "start_time": "2023-02-28T18:08:08.120Z"
   },
   {
    "duration": 224,
    "start_time": "2023-02-28T18:08:08.398Z"
   },
   {
    "duration": 246,
    "start_time": "2023-02-28T18:08:08.625Z"
   },
   {
    "duration": 221,
    "start_time": "2023-02-28T18:08:08.873Z"
   },
   {
    "duration": 17,
    "start_time": "2023-02-28T18:08:09.096Z"
   },
   {
    "duration": 9,
    "start_time": "2023-02-28T18:08:09.116Z"
   },
   {
    "duration": 4,
    "start_time": "2023-02-28T18:08:09.127Z"
   },
   {
    "duration": 101,
    "start_time": "2023-02-28T18:09:04.354Z"
   },
   {
    "duration": 3,
    "start_time": "2023-02-28T18:09:05.395Z"
   },
   {
    "duration": 13,
    "start_time": "2023-02-28T18:09:16.969Z"
   },
   {
    "duration": 2,
    "start_time": "2023-02-28T18:09:17.777Z"
   },
   {
    "duration": 4,
    "start_time": "2023-02-28T18:09:18.461Z"
   },
   {
    "duration": 4,
    "start_time": "2023-02-28T18:10:45.129Z"
   },
   {
    "duration": 4,
    "start_time": "2023-02-28T18:10:52.448Z"
   },
   {
    "duration": 8,
    "start_time": "2023-02-28T18:10:57.294Z"
   },
   {
    "duration": 4,
    "start_time": "2023-02-28T18:11:04.925Z"
   },
   {
    "duration": 1071,
    "start_time": "2023-02-28T18:11:17.420Z"
   },
   {
    "duration": 62,
    "start_time": "2023-02-28T18:11:18.493Z"
   },
   {
    "duration": 12,
    "start_time": "2023-02-28T18:11:18.557Z"
   },
   {
    "duration": 23,
    "start_time": "2023-02-28T18:11:18.570Z"
   },
   {
    "duration": 212,
    "start_time": "2023-02-28T18:11:18.595Z"
   },
   {
    "duration": 217,
    "start_time": "2023-02-28T18:11:18.809Z"
   },
   {
    "duration": 293,
    "start_time": "2023-02-28T18:11:19.028Z"
   },
   {
    "duration": 757,
    "start_time": "2023-02-28T18:11:19.323Z"
   },
   {
    "duration": 261,
    "start_time": "2023-02-28T18:11:20.081Z"
   },
   {
    "duration": 202,
    "start_time": "2023-02-28T18:11:20.344Z"
   },
   {
    "duration": 244,
    "start_time": "2023-02-28T18:11:20.547Z"
   },
   {
    "duration": 196,
    "start_time": "2023-02-28T18:11:20.793Z"
   },
   {
    "duration": 3,
    "start_time": "2023-02-28T18:11:20.991Z"
   },
   {
    "duration": 109,
    "start_time": "2023-02-28T18:11:20.996Z"
   },
   {
    "duration": 0,
    "start_time": "2023-02-28T18:11:21.106Z"
   },
   {
    "duration": 5,
    "start_time": "2023-02-28T18:15:58.016Z"
   },
   {
    "duration": 9,
    "start_time": "2023-02-28T18:16:04.496Z"
   },
   {
    "duration": 202,
    "start_time": "2023-02-28T18:16:12.175Z"
   },
   {
    "duration": 6,
    "start_time": "2023-02-28T18:16:13.101Z"
   },
   {
    "duration": 10,
    "start_time": "2023-02-28T18:16:43.776Z"
   },
   {
    "duration": 11,
    "start_time": "2023-02-28T18:16:50.423Z"
   },
   {
    "duration": 46,
    "start_time": "2023-02-28T18:17:13.203Z"
   },
   {
    "duration": 5,
    "start_time": "2023-02-28T18:18:00.711Z"
   },
   {
    "duration": 31,
    "start_time": "2023-02-28T18:18:02.461Z"
   },
   {
    "duration": 37,
    "start_time": "2023-02-28T18:18:08.487Z"
   },
   {
    "duration": 13,
    "start_time": "2023-02-28T18:18:52.095Z"
   },
   {
    "duration": 26,
    "start_time": "2023-02-28T18:20:38.030Z"
   },
   {
    "duration": 23,
    "start_time": "2023-02-28T18:20:45.167Z"
   },
   {
    "duration": 90,
    "start_time": "2023-02-28T18:21:10.126Z"
   },
   {
    "duration": 14,
    "start_time": "2023-02-28T18:21:20.483Z"
   },
   {
    "duration": 35,
    "start_time": "2023-02-28T18:22:32.871Z"
   },
   {
    "duration": 5,
    "start_time": "2023-02-28T18:24:07.873Z"
   },
   {
    "duration": 14,
    "start_time": "2023-02-28T18:24:08.677Z"
   },
   {
    "duration": 49,
    "start_time": "2023-02-28T18:24:09.353Z"
   },
   {
    "duration": 6,
    "start_time": "2023-02-28T18:24:23.600Z"
   },
   {
    "duration": 15,
    "start_time": "2023-02-28T18:24:24.534Z"
   },
   {
    "duration": 33,
    "start_time": "2023-02-28T18:24:25.522Z"
   },
   {
    "duration": 35,
    "start_time": "2023-02-28T18:24:47.804Z"
   },
   {
    "duration": 8,
    "start_time": "2023-02-28T18:31:17.081Z"
   },
   {
    "duration": 1323,
    "start_time": "2023-02-28T18:32:00.858Z"
   },
   {
    "duration": 83,
    "start_time": "2023-02-28T18:32:02.183Z"
   },
   {
    "duration": 14,
    "start_time": "2023-02-28T18:32:02.267Z"
   },
   {
    "duration": 20,
    "start_time": "2023-02-28T18:32:02.283Z"
   },
   {
    "duration": 243,
    "start_time": "2023-02-28T18:32:02.305Z"
   },
   {
    "duration": 237,
    "start_time": "2023-02-28T18:32:02.550Z"
   },
   {
    "duration": 315,
    "start_time": "2023-02-28T18:32:02.792Z"
   },
   {
    "duration": 860,
    "start_time": "2023-02-28T18:32:03.109Z"
   },
   {
    "duration": 197,
    "start_time": "2023-02-28T18:32:03.971Z"
   },
   {
    "duration": 200,
    "start_time": "2023-02-28T18:32:04.170Z"
   },
   {
    "duration": 266,
    "start_time": "2023-02-28T18:32:04.372Z"
   },
   {
    "duration": 208,
    "start_time": "2023-02-28T18:32:04.640Z"
   },
   {
    "duration": 5,
    "start_time": "2023-02-28T18:32:04.850Z"
   },
   {
    "duration": 46,
    "start_time": "2023-02-28T18:32:04.856Z"
   },
   {
    "duration": 53,
    "start_time": "2023-02-28T18:32:04.904Z"
   },
   {
    "duration": 10,
    "start_time": "2023-02-28T18:32:04.959Z"
   },
   {
    "duration": 7,
    "start_time": "2023-02-28T18:32:33.693Z"
   },
   {
    "duration": 6,
    "start_time": "2023-02-28T18:33:08.878Z"
   },
   {
    "duration": 5,
    "start_time": "2023-02-28T18:35:07.262Z"
   },
   {
    "duration": 43,
    "start_time": "2023-02-28T18:35:15.854Z"
   },
   {
    "duration": 4,
    "start_time": "2023-02-28T18:35:19.863Z"
   },
   {
    "duration": 5,
    "start_time": "2023-02-28T18:35:24.703Z"
   },
   {
    "duration": 4,
    "start_time": "2023-02-28T18:35:30.270Z"
   },
   {
    "duration": 4,
    "start_time": "2023-02-28T18:36:17.901Z"
   },
   {
    "duration": 7,
    "start_time": "2023-02-28T18:36:25.718Z"
   },
   {
    "duration": 12,
    "start_time": "2023-02-28T18:36:30.206Z"
   },
   {
    "duration": 1485,
    "start_time": "2023-03-01T05:13:42.319Z"
   },
   {
    "duration": 151,
    "start_time": "2023-03-01T05:13:43.806Z"
   },
   {
    "duration": 14,
    "start_time": "2023-03-01T05:13:43.958Z"
   },
   {
    "duration": 34,
    "start_time": "2023-03-01T05:13:43.974Z"
   },
   {
    "duration": 208,
    "start_time": "2023-03-01T05:13:44.009Z"
   },
   {
    "duration": 227,
    "start_time": "2023-03-01T05:13:44.219Z"
   },
   {
    "duration": 290,
    "start_time": "2023-03-01T05:13:44.448Z"
   },
   {
    "duration": 956,
    "start_time": "2023-03-01T05:13:44.739Z"
   },
   {
    "duration": 190,
    "start_time": "2023-03-01T05:13:45.697Z"
   },
   {
    "duration": 195,
    "start_time": "2023-03-01T05:13:45.890Z"
   },
   {
    "duration": 273,
    "start_time": "2023-03-01T05:13:46.087Z"
   },
   {
    "duration": 199,
    "start_time": "2023-03-01T05:13:46.362Z"
   },
   {
    "duration": 5,
    "start_time": "2023-03-01T05:13:46.562Z"
   },
   {
    "duration": 32,
    "start_time": "2023-03-01T05:13:46.568Z"
   },
   {
    "duration": 43,
    "start_time": "2023-03-01T05:13:46.602Z"
   },
   {
    "duration": 10,
    "start_time": "2023-03-01T05:13:46.647Z"
   },
   {
    "duration": 4,
    "start_time": "2023-03-01T05:13:46.658Z"
   },
   {
    "duration": 14,
    "start_time": "2023-03-01T05:13:46.663Z"
   },
   {
    "duration": 45,
    "start_time": "2023-03-01T05:13:46.679Z"
   },
   {
    "duration": 9,
    "start_time": "2023-03-01T05:14:29.977Z"
   },
   {
    "duration": 4,
    "start_time": "2023-03-01T05:14:31.869Z"
   },
   {
    "duration": 122,
    "start_time": "2023-03-01T05:56:07.598Z"
   },
   {
    "duration": 1345,
    "start_time": "2023-03-01T05:56:13.963Z"
   },
   {
    "duration": 53,
    "start_time": "2023-03-01T05:56:15.310Z"
   },
   {
    "duration": 12,
    "start_time": "2023-03-01T05:56:15.365Z"
   },
   {
    "duration": 20,
    "start_time": "2023-03-01T05:56:15.379Z"
   },
   {
    "duration": 286,
    "start_time": "2023-03-01T05:56:15.400Z"
   },
   {
    "duration": 261,
    "start_time": "2023-03-01T05:56:15.688Z"
   },
   {
    "duration": 338,
    "start_time": "2023-03-01T05:56:15.951Z"
   },
   {
    "duration": 880,
    "start_time": "2023-03-01T05:56:16.291Z"
   },
   {
    "duration": 208,
    "start_time": "2023-03-01T05:56:17.173Z"
   },
   {
    "duration": 216,
    "start_time": "2023-03-01T05:56:17.383Z"
   },
   {
    "duration": 282,
    "start_time": "2023-03-01T05:56:17.600Z"
   },
   {
    "duration": 225,
    "start_time": "2023-03-01T05:56:17.883Z"
   },
   {
    "duration": 16,
    "start_time": "2023-03-01T05:56:18.111Z"
   },
   {
    "duration": 51,
    "start_time": "2023-03-01T05:56:18.129Z"
   },
   {
    "duration": 38,
    "start_time": "2023-03-01T05:56:18.183Z"
   },
   {
    "duration": 10,
    "start_time": "2023-03-01T05:56:18.224Z"
   },
   {
    "duration": 10,
    "start_time": "2023-03-01T05:56:18.236Z"
   },
   {
    "duration": 16,
    "start_time": "2023-03-01T05:56:18.247Z"
   },
   {
    "duration": 7,
    "start_time": "2023-03-01T05:56:18.264Z"
   },
   {
    "duration": 139,
    "start_time": "2023-03-01T05:56:18.272Z"
   },
   {
    "duration": 1,
    "start_time": "2023-03-01T05:56:18.412Z"
   },
   {
    "duration": 1354,
    "start_time": "2023-03-01T05:56:54.278Z"
   },
   {
    "duration": 56,
    "start_time": "2023-03-01T05:56:55.635Z"
   },
   {
    "duration": 16,
    "start_time": "2023-03-01T05:56:55.693Z"
   },
   {
    "duration": 45,
    "start_time": "2023-03-01T05:56:55.711Z"
   },
   {
    "duration": 238,
    "start_time": "2023-03-01T05:56:55.758Z"
   },
   {
    "duration": 262,
    "start_time": "2023-03-01T05:56:55.997Z"
   },
   {
    "duration": 332,
    "start_time": "2023-03-01T05:56:56.261Z"
   },
   {
    "duration": 930,
    "start_time": "2023-03-01T05:56:56.594Z"
   },
   {
    "duration": 228,
    "start_time": "2023-03-01T05:56:57.527Z"
   },
   {
    "duration": 228,
    "start_time": "2023-03-01T05:56:57.756Z"
   },
   {
    "duration": 279,
    "start_time": "2023-03-01T05:56:57.986Z"
   },
   {
    "duration": 223,
    "start_time": "2023-03-01T05:56:58.267Z"
   },
   {
    "duration": 6,
    "start_time": "2023-03-01T05:56:58.492Z"
   },
   {
    "duration": 52,
    "start_time": "2023-03-01T05:56:58.501Z"
   },
   {
    "duration": 32,
    "start_time": "2023-03-01T05:56:58.555Z"
   },
   {
    "duration": 10,
    "start_time": "2023-03-01T05:56:58.588Z"
   },
   {
    "duration": 11,
    "start_time": "2023-03-01T05:56:58.624Z"
   },
   {
    "duration": 42,
    "start_time": "2023-03-01T05:56:58.637Z"
   },
   {
    "duration": 33,
    "start_time": "2023-03-01T05:56:58.680Z"
   },
   {
    "duration": 42,
    "start_time": "2023-03-01T05:56:58.715Z"
   },
   {
    "duration": 147,
    "start_time": "2023-03-01T05:56:58.759Z"
   },
   {
    "duration": 23,
    "start_time": "2023-03-01T06:00:08.742Z"
   },
   {
    "duration": 10,
    "start_time": "2023-03-01T06:01:13.052Z"
   },
   {
    "duration": 11,
    "start_time": "2023-03-01T06:01:31.779Z"
   },
   {
    "duration": 1393,
    "start_time": "2023-03-01T06:01:45.720Z"
   },
   {
    "duration": 52,
    "start_time": "2023-03-01T06:01:47.115Z"
   },
   {
    "duration": 13,
    "start_time": "2023-03-01T06:01:47.168Z"
   },
   {
    "duration": 25,
    "start_time": "2023-03-01T06:01:47.184Z"
   },
   {
    "duration": 228,
    "start_time": "2023-03-01T06:01:47.211Z"
   },
   {
    "duration": 232,
    "start_time": "2023-03-01T06:01:47.440Z"
   },
   {
    "duration": 308,
    "start_time": "2023-03-01T06:01:47.674Z"
   },
   {
    "duration": 929,
    "start_time": "2023-03-01T06:01:47.984Z"
   },
   {
    "duration": 272,
    "start_time": "2023-03-01T06:01:48.914Z"
   },
   {
    "duration": 227,
    "start_time": "2023-03-01T06:01:49.189Z"
   },
   {
    "duration": 290,
    "start_time": "2023-03-01T06:01:49.417Z"
   },
   {
    "duration": 207,
    "start_time": "2023-03-01T06:01:49.708Z"
   },
   {
    "duration": 8,
    "start_time": "2023-03-01T06:01:49.917Z"
   },
   {
    "duration": 46,
    "start_time": "2023-03-01T06:01:49.927Z"
   },
   {
    "duration": 57,
    "start_time": "2023-03-01T06:01:49.975Z"
   },
   {
    "duration": 8,
    "start_time": "2023-03-01T06:01:50.034Z"
   },
   {
    "duration": 5,
    "start_time": "2023-03-01T06:01:50.044Z"
   },
   {
    "duration": 18,
    "start_time": "2023-03-01T06:01:50.051Z"
   },
   {
    "duration": 7,
    "start_time": "2023-03-01T06:01:50.071Z"
   },
   {
    "duration": 42,
    "start_time": "2023-03-01T06:01:50.080Z"
   },
   {
    "duration": 141,
    "start_time": "2023-03-01T06:01:50.125Z"
   },
   {
    "duration": 1118,
    "start_time": "2023-03-01T06:02:39.589Z"
   },
   {
    "duration": 1146,
    "start_time": "2023-03-01T06:02:55.760Z"
   },
   {
    "duration": 11,
    "start_time": "2023-03-01T06:03:04.264Z"
   },
   {
    "duration": 30,
    "start_time": "2023-03-01T06:03:34.663Z"
   },
   {
    "duration": 10,
    "start_time": "2023-03-01T06:05:28.597Z"
   },
   {
    "duration": 10,
    "start_time": "2023-03-01T06:06:26.423Z"
   },
   {
    "duration": 10,
    "start_time": "2023-03-01T06:07:04.529Z"
   },
   {
    "duration": 1327,
    "start_time": "2023-03-01T06:08:45.078Z"
   },
   {
    "duration": 49,
    "start_time": "2023-03-01T06:08:46.407Z"
   },
   {
    "duration": 12,
    "start_time": "2023-03-01T06:08:46.458Z"
   },
   {
    "duration": 20,
    "start_time": "2023-03-01T06:08:46.472Z"
   },
   {
    "duration": 238,
    "start_time": "2023-03-01T06:08:46.494Z"
   },
   {
    "duration": 233,
    "start_time": "2023-03-01T06:08:46.733Z"
   },
   {
    "duration": 290,
    "start_time": "2023-03-01T06:08:46.968Z"
   },
   {
    "duration": 853,
    "start_time": "2023-03-01T06:08:47.260Z"
   },
   {
    "duration": 214,
    "start_time": "2023-03-01T06:08:48.115Z"
   },
   {
    "duration": 195,
    "start_time": "2023-03-01T06:08:48.331Z"
   },
   {
    "duration": 256,
    "start_time": "2023-03-01T06:08:48.528Z"
   },
   {
    "duration": 209,
    "start_time": "2023-03-01T06:08:48.786Z"
   },
   {
    "duration": 7,
    "start_time": "2023-03-01T06:08:48.997Z"
   },
   {
    "duration": 26,
    "start_time": "2023-03-01T06:08:49.021Z"
   },
   {
    "duration": 42,
    "start_time": "2023-03-01T06:08:49.050Z"
   },
   {
    "duration": 3,
    "start_time": "2023-03-01T06:08:49.093Z"
   },
   {
    "duration": 35,
    "start_time": "2023-03-01T06:08:49.098Z"
   },
   {
    "duration": 6,
    "start_time": "2023-03-01T06:08:49.135Z"
   },
   {
    "duration": 12,
    "start_time": "2023-03-01T06:08:49.143Z"
   },
   {
    "duration": 6,
    "start_time": "2023-03-01T06:08:49.156Z"
   },
   {
    "duration": 6,
    "start_time": "2023-03-01T06:08:49.164Z"
   },
   {
    "duration": 161,
    "start_time": "2023-03-01T06:08:49.171Z"
   },
   {
    "duration": 4,
    "start_time": "2023-03-01T06:13:56.506Z"
   },
   {
    "duration": 14,
    "start_time": "2023-03-01T06:13:57.854Z"
   },
   {
    "duration": 43,
    "start_time": "2023-03-01T06:14:38.205Z"
   },
   {
    "duration": 37,
    "start_time": "2023-03-01T06:16:04.801Z"
   },
   {
    "duration": 49,
    "start_time": "2023-03-01T06:27:45.599Z"
   },
   {
    "duration": 8,
    "start_time": "2023-03-01T06:30:16.949Z"
   },
   {
    "duration": 4,
    "start_time": "2023-03-01T06:30:17.822Z"
   },
   {
    "duration": 9,
    "start_time": "2023-03-01T06:30:18.694Z"
   },
   {
    "duration": 6,
    "start_time": "2023-03-01T06:30:21.647Z"
   },
   {
    "duration": 4,
    "start_time": "2023-03-01T06:30:23.940Z"
   },
   {
    "duration": 48,
    "start_time": "2023-03-01T06:30:25.545Z"
   },
   {
    "duration": 33,
    "start_time": "2023-03-01T06:40:25.456Z"
   },
   {
    "duration": 38,
    "start_time": "2023-03-01T06:40:42.024Z"
   },
   {
    "duration": 34,
    "start_time": "2023-03-01T06:40:56.000Z"
   },
   {
    "duration": 4,
    "start_time": "2023-03-01T06:41:10.252Z"
   },
   {
    "duration": 4,
    "start_time": "2023-03-01T06:41:26.048Z"
   },
   {
    "duration": 4,
    "start_time": "2023-03-01T06:41:35.680Z"
   },
   {
    "duration": 5,
    "start_time": "2023-03-01T06:42:00.512Z"
   },
   {
    "duration": 1387,
    "start_time": "2023-03-01T06:58:55.338Z"
   },
   {
    "duration": 50,
    "start_time": "2023-03-01T06:58:56.726Z"
   },
   {
    "duration": 13,
    "start_time": "2023-03-01T06:58:56.778Z"
   },
   {
    "duration": 28,
    "start_time": "2023-03-01T06:58:56.794Z"
   },
   {
    "duration": 230,
    "start_time": "2023-03-01T06:58:56.823Z"
   },
   {
    "duration": 237,
    "start_time": "2023-03-01T06:58:57.054Z"
   },
   {
    "duration": 289,
    "start_time": "2023-03-01T06:58:57.293Z"
   },
   {
    "duration": 822,
    "start_time": "2023-03-01T06:58:57.584Z"
   },
   {
    "duration": 196,
    "start_time": "2023-03-01T06:58:58.408Z"
   },
   {
    "duration": 207,
    "start_time": "2023-03-01T06:58:58.606Z"
   },
   {
    "duration": 273,
    "start_time": "2023-03-01T06:58:58.815Z"
   },
   {
    "duration": 189,
    "start_time": "2023-03-01T06:58:59.090Z"
   },
   {
    "duration": 4,
    "start_time": "2023-03-01T06:58:59.281Z"
   },
   {
    "duration": 36,
    "start_time": "2023-03-01T06:58:59.287Z"
   },
   {
    "duration": 33,
    "start_time": "2023-03-01T06:58:59.325Z"
   },
   {
    "duration": 10,
    "start_time": "2023-03-01T06:58:59.360Z"
   },
   {
    "duration": 4,
    "start_time": "2023-03-01T06:58:59.371Z"
   },
   {
    "duration": 47,
    "start_time": "2023-03-01T06:58:59.377Z"
   },
   {
    "duration": 8,
    "start_time": "2023-03-01T06:58:59.426Z"
   },
   {
    "duration": 6,
    "start_time": "2023-03-01T06:58:59.436Z"
   },
   {
    "duration": 37,
    "start_time": "2023-03-01T06:58:59.444Z"
   },
   {
    "duration": 39,
    "start_time": "2023-03-01T06:58:59.483Z"
   },
   {
    "duration": 131,
    "start_time": "2023-03-01T07:25:34.837Z"
   },
   {
    "duration": 1419,
    "start_time": "2023-03-01T07:25:51.488Z"
   },
   {
    "duration": 53,
    "start_time": "2023-03-01T07:25:52.909Z"
   },
   {
    "duration": 12,
    "start_time": "2023-03-01T07:25:52.964Z"
   },
   {
    "duration": 24,
    "start_time": "2023-03-01T07:25:52.978Z"
   },
   {
    "duration": 242,
    "start_time": "2023-03-01T07:25:53.004Z"
   },
   {
    "duration": 234,
    "start_time": "2023-03-01T07:25:53.248Z"
   },
   {
    "duration": 313,
    "start_time": "2023-03-01T07:25:53.484Z"
   },
   {
    "duration": 954,
    "start_time": "2023-03-01T07:25:53.799Z"
   },
   {
    "duration": 221,
    "start_time": "2023-03-01T07:25:54.755Z"
   },
   {
    "duration": 212,
    "start_time": "2023-03-01T07:25:54.980Z"
   },
   {
    "duration": 273,
    "start_time": "2023-03-01T07:25:55.194Z"
   },
   {
    "duration": 281,
    "start_time": "2023-03-01T07:25:55.469Z"
   },
   {
    "duration": 5,
    "start_time": "2023-03-01T07:25:55.751Z"
   },
   {
    "duration": 36,
    "start_time": "2023-03-01T07:25:55.758Z"
   },
   {
    "duration": 44,
    "start_time": "2023-03-01T07:25:55.796Z"
   },
   {
    "duration": 10,
    "start_time": "2023-03-01T07:25:55.842Z"
   },
   {
    "duration": 4,
    "start_time": "2023-03-01T07:25:55.854Z"
   },
   {
    "duration": 37,
    "start_time": "2023-03-01T07:25:55.859Z"
   },
   {
    "duration": 11,
    "start_time": "2023-03-01T07:25:55.898Z"
   },
   {
    "duration": 3,
    "start_time": "2023-03-01T07:25:55.923Z"
   },
   {
    "duration": 44,
    "start_time": "2023-03-01T07:25:55.928Z"
   },
   {
    "duration": 5,
    "start_time": "2023-03-01T07:25:55.974Z"
   },
   {
    "duration": 144,
    "start_time": "2023-03-01T07:25:55.980Z"
   },
   {
    "duration": 23,
    "start_time": "2023-03-01T07:26:38.865Z"
   },
   {
    "duration": 95,
    "start_time": "2023-03-01T07:28:02.747Z"
   },
   {
    "duration": 1406,
    "start_time": "2023-03-01T07:28:32.895Z"
   },
   {
    "duration": 53,
    "start_time": "2023-03-01T07:28:34.303Z"
   },
   {
    "duration": 14,
    "start_time": "2023-03-01T07:28:34.358Z"
   },
   {
    "duration": 45,
    "start_time": "2023-03-01T07:28:34.374Z"
   },
   {
    "duration": 243,
    "start_time": "2023-03-01T07:28:34.420Z"
   },
   {
    "duration": 236,
    "start_time": "2023-03-01T07:28:34.665Z"
   },
   {
    "duration": 372,
    "start_time": "2023-03-01T07:28:34.902Z"
   },
   {
    "duration": 900,
    "start_time": "2023-03-01T07:28:35.276Z"
   },
   {
    "duration": 214,
    "start_time": "2023-03-01T07:28:36.178Z"
   },
   {
    "duration": 201,
    "start_time": "2023-03-01T07:28:36.394Z"
   },
   {
    "duration": 269,
    "start_time": "2023-03-01T07:28:36.596Z"
   },
   {
    "duration": 217,
    "start_time": "2023-03-01T07:28:36.868Z"
   },
   {
    "duration": 6,
    "start_time": "2023-03-01T07:28:37.087Z"
   },
   {
    "duration": 42,
    "start_time": "2023-03-01T07:28:37.095Z"
   },
   {
    "duration": 34,
    "start_time": "2023-03-01T07:28:37.139Z"
   },
   {
    "duration": 10,
    "start_time": "2023-03-01T07:28:37.175Z"
   },
   {
    "duration": 36,
    "start_time": "2023-03-01T07:28:37.187Z"
   },
   {
    "duration": 14,
    "start_time": "2023-03-01T07:28:37.225Z"
   },
   {
    "duration": 7,
    "start_time": "2023-03-01T07:28:37.241Z"
   },
   {
    "duration": 9,
    "start_time": "2023-03-01T07:28:37.250Z"
   },
   {
    "duration": 73,
    "start_time": "2023-03-01T07:28:37.260Z"
   },
   {
    "duration": 4,
    "start_time": "2023-03-01T07:28:37.334Z"
   },
   {
    "duration": 8870,
    "start_time": "2023-03-01T07:28:37.340Z"
   },
   {
    "duration": 1490,
    "start_time": "2023-03-01T07:31:11.954Z"
   },
   {
    "duration": 56,
    "start_time": "2023-03-01T07:31:13.446Z"
   },
   {
    "duration": 15,
    "start_time": "2023-03-01T07:31:13.504Z"
   },
   {
    "duration": 20,
    "start_time": "2023-03-01T07:31:13.521Z"
   },
   {
    "duration": 280,
    "start_time": "2023-03-01T07:31:13.544Z"
   },
   {
    "duration": 274,
    "start_time": "2023-03-01T07:31:13.827Z"
   },
   {
    "duration": 415,
    "start_time": "2023-03-01T07:31:14.103Z"
   },
   {
    "duration": 881,
    "start_time": "2023-03-01T07:31:14.522Z"
   },
   {
    "duration": 271,
    "start_time": "2023-03-01T07:31:15.405Z"
   },
   {
    "duration": 219,
    "start_time": "2023-03-01T07:31:15.678Z"
   },
   {
    "duration": 297,
    "start_time": "2023-03-01T07:31:15.899Z"
   },
   {
    "duration": 233,
    "start_time": "2023-03-01T07:31:16.198Z"
   },
   {
    "duration": 5,
    "start_time": "2023-03-01T07:31:16.433Z"
   },
   {
    "duration": 41,
    "start_time": "2023-03-01T07:31:16.440Z"
   },
   {
    "duration": 56,
    "start_time": "2023-03-01T07:31:16.483Z"
   },
   {
    "duration": 11,
    "start_time": "2023-03-01T07:31:16.542Z"
   },
   {
    "duration": 11,
    "start_time": "2023-03-01T07:31:16.555Z"
   },
   {
    "duration": 26,
    "start_time": "2023-03-01T07:31:16.568Z"
   },
   {
    "duration": 20,
    "start_time": "2023-03-01T07:31:16.621Z"
   },
   {
    "duration": 20,
    "start_time": "2023-03-01T07:31:16.643Z"
   },
   {
    "duration": 52,
    "start_time": "2023-03-01T07:31:16.665Z"
   },
   {
    "duration": 7,
    "start_time": "2023-03-01T07:31:16.719Z"
   },
   {
    "duration": 9653,
    "start_time": "2023-03-01T07:31:16.728Z"
   },
   {
    "duration": 8,
    "start_time": "2023-03-01T07:41:12.024Z"
   },
   {
    "duration": 1398,
    "start_time": "2023-03-01T07:41:19.384Z"
   },
   {
    "duration": 54,
    "start_time": "2023-03-01T07:41:20.784Z"
   },
   {
    "duration": 12,
    "start_time": "2023-03-01T07:41:20.840Z"
   },
   {
    "duration": 19,
    "start_time": "2023-03-01T07:41:20.854Z"
   },
   {
    "duration": 272,
    "start_time": "2023-03-01T07:41:20.875Z"
   },
   {
    "duration": 252,
    "start_time": "2023-03-01T07:41:21.149Z"
   },
   {
    "duration": 397,
    "start_time": "2023-03-01T07:41:21.403Z"
   },
   {
    "duration": 854,
    "start_time": "2023-03-01T07:41:21.801Z"
   },
   {
    "duration": 227,
    "start_time": "2023-03-01T07:41:22.657Z"
   },
   {
    "duration": 222,
    "start_time": "2023-03-01T07:41:22.886Z"
   },
   {
    "duration": 271,
    "start_time": "2023-03-01T07:41:23.109Z"
   },
   {
    "duration": 228,
    "start_time": "2023-03-01T07:41:23.381Z"
   },
   {
    "duration": 11,
    "start_time": "2023-03-01T07:41:23.611Z"
   },
   {
    "duration": 94,
    "start_time": "2023-03-01T07:41:23.624Z"
   },
   {
    "duration": 0,
    "start_time": "2023-03-01T07:41:23.720Z"
   },
   {
    "duration": 0,
    "start_time": "2023-03-01T07:41:23.721Z"
   },
   {
    "duration": 0,
    "start_time": "2023-03-01T07:41:23.722Z"
   },
   {
    "duration": 0,
    "start_time": "2023-03-01T07:41:23.723Z"
   },
   {
    "duration": 0,
    "start_time": "2023-03-01T07:41:23.724Z"
   },
   {
    "duration": 0,
    "start_time": "2023-03-01T07:41:23.725Z"
   },
   {
    "duration": 13,
    "start_time": "2023-03-01T07:42:52.858Z"
   },
   {
    "duration": 116,
    "start_time": "2023-03-01T07:43:09.567Z"
   },
   {
    "duration": 24,
    "start_time": "2023-03-01T07:43:41.571Z"
   },
   {
    "duration": 1582,
    "start_time": "2023-03-01T07:45:28.626Z"
   },
   {
    "duration": 57,
    "start_time": "2023-03-01T07:45:30.210Z"
   },
   {
    "duration": 14,
    "start_time": "2023-03-01T07:45:30.270Z"
   },
   {
    "duration": 480,
    "start_time": "2023-03-01T07:45:30.287Z"
   },
   {
    "duration": 373,
    "start_time": "2023-03-01T07:45:30.771Z"
   },
   {
    "duration": 287,
    "start_time": "2023-03-01T07:45:31.146Z"
   },
   {
    "duration": 461,
    "start_time": "2023-03-01T07:45:31.435Z"
   },
   {
    "duration": 860,
    "start_time": "2023-03-01T07:45:31.897Z"
   },
   {
    "duration": 219,
    "start_time": "2023-03-01T07:45:32.758Z"
   },
   {
    "duration": 234,
    "start_time": "2023-03-01T07:45:32.979Z"
   },
   {
    "duration": 284,
    "start_time": "2023-03-01T07:45:33.215Z"
   },
   {
    "duration": 254,
    "start_time": "2023-03-01T07:45:33.501Z"
   },
   {
    "duration": 5,
    "start_time": "2023-03-01T07:45:33.757Z"
   },
   {
    "duration": 31,
    "start_time": "2023-03-01T07:45:33.765Z"
   },
   {
    "duration": 35,
    "start_time": "2023-03-01T07:45:33.798Z"
   },
   {
    "duration": 156,
    "start_time": "2023-03-01T07:45:33.835Z"
   },
   {
    "duration": 0,
    "start_time": "2023-03-01T07:45:33.993Z"
   },
   {
    "duration": 0,
    "start_time": "2023-03-01T07:45:33.995Z"
   },
   {
    "duration": 0,
    "start_time": "2023-03-01T07:45:33.996Z"
   },
   {
    "duration": 0,
    "start_time": "2023-03-01T07:45:33.997Z"
   },
   {
    "duration": 8,
    "start_time": "2023-03-01T07:45:57.152Z"
   },
   {
    "duration": 8,
    "start_time": "2023-03-01T07:46:03.632Z"
   },
   {
    "duration": 21,
    "start_time": "2023-03-01T07:46:06.159Z"
   },
   {
    "duration": 11,
    "start_time": "2023-03-01T07:51:54.488Z"
   },
   {
    "duration": 23,
    "start_time": "2023-03-01T07:51:55.356Z"
   },
   {
    "duration": 10,
    "start_time": "2023-03-01T07:53:25.469Z"
   },
   {
    "duration": 25,
    "start_time": "2023-03-01T07:53:28.086Z"
   },
   {
    "duration": 5,
    "start_time": "2023-03-01T07:53:37.652Z"
   },
   {
    "duration": 13,
    "start_time": "2023-03-01T07:53:38.420Z"
   },
   {
    "duration": 29,
    "start_time": "2023-03-01T07:53:40.825Z"
   },
   {
    "duration": 16,
    "start_time": "2023-03-01T07:54:00.110Z"
   },
   {
    "duration": 10,
    "start_time": "2023-03-01T07:54:57.777Z"
   },
   {
    "duration": 29,
    "start_time": "2023-03-01T07:55:04.665Z"
   },
   {
    "duration": 8,
    "start_time": "2023-03-01T07:55:46.226Z"
   },
   {
    "duration": 30,
    "start_time": "2023-03-01T07:55:48.075Z"
   },
   {
    "duration": 9,
    "start_time": "2023-03-01T07:55:56.857Z"
   },
   {
    "duration": 28,
    "start_time": "2023-03-01T07:55:56.868Z"
   },
   {
    "duration": 22,
    "start_time": "2023-03-01T07:56:06.504Z"
   },
   {
    "duration": 36,
    "start_time": "2023-03-01T07:56:07.729Z"
   },
   {
    "duration": 12,
    "start_time": "2023-03-01T07:57:27.273Z"
   },
   {
    "duration": 19,
    "start_time": "2023-03-01T08:02:05.845Z"
   },
   {
    "duration": 7,
    "start_time": "2023-03-01T08:03:53.936Z"
   },
   {
    "duration": 3,
    "start_time": "2023-03-01T08:04:27.584Z"
   },
   {
    "duration": 3,
    "start_time": "2023-03-01T08:05:08.363Z"
   },
   {
    "duration": 0,
    "start_time": "2023-03-01T08:05:40.688Z"
   },
   {
    "duration": 0,
    "start_time": "2023-03-01T08:05:40.689Z"
   },
   {
    "duration": 0,
    "start_time": "2023-03-01T08:05:40.690Z"
   },
   {
    "duration": 0,
    "start_time": "2023-03-01T08:05:40.691Z"
   },
   {
    "duration": 0,
    "start_time": "2023-03-01T08:05:40.692Z"
   },
   {
    "duration": 0,
    "start_time": "2023-03-01T08:05:40.694Z"
   },
   {
    "duration": 0,
    "start_time": "2023-03-01T08:05:40.695Z"
   },
   {
    "duration": 0,
    "start_time": "2023-03-01T08:05:40.696Z"
   },
   {
    "duration": 0,
    "start_time": "2023-03-01T08:05:40.697Z"
   },
   {
    "duration": 0,
    "start_time": "2023-03-01T08:05:40.698Z"
   },
   {
    "duration": 0,
    "start_time": "2023-03-01T08:05:40.722Z"
   },
   {
    "duration": 0,
    "start_time": "2023-03-01T08:05:40.723Z"
   },
   {
    "duration": 0,
    "start_time": "2023-03-01T08:05:40.724Z"
   },
   {
    "duration": 0,
    "start_time": "2023-03-01T08:05:40.725Z"
   },
   {
    "duration": 0,
    "start_time": "2023-03-01T08:05:40.726Z"
   },
   {
    "duration": 0,
    "start_time": "2023-03-01T08:05:40.727Z"
   },
   {
    "duration": 0,
    "start_time": "2023-03-01T08:05:40.729Z"
   },
   {
    "duration": 0,
    "start_time": "2023-03-01T08:05:40.729Z"
   },
   {
    "duration": 0,
    "start_time": "2023-03-01T08:05:40.730Z"
   },
   {
    "duration": 0,
    "start_time": "2023-03-01T08:05:40.731Z"
   },
   {
    "duration": 0,
    "start_time": "2023-03-01T08:05:40.732Z"
   },
   {
    "duration": 1409,
    "start_time": "2023-03-01T08:06:07.484Z"
   },
   {
    "duration": 55,
    "start_time": "2023-03-01T08:06:08.895Z"
   },
   {
    "duration": 14,
    "start_time": "2023-03-01T08:06:08.951Z"
   },
   {
    "duration": 21,
    "start_time": "2023-03-01T08:06:08.966Z"
   },
   {
    "duration": 279,
    "start_time": "2023-03-01T08:06:08.989Z"
   },
   {
    "duration": 259,
    "start_time": "2023-03-01T08:06:09.270Z"
   },
   {
    "duration": 387,
    "start_time": "2023-03-01T08:06:09.531Z"
   },
   {
    "duration": 849,
    "start_time": "2023-03-01T08:06:09.922Z"
   },
   {
    "duration": 220,
    "start_time": "2023-03-01T08:06:10.773Z"
   },
   {
    "duration": 229,
    "start_time": "2023-03-01T08:06:10.997Z"
   },
   {
    "duration": 282,
    "start_time": "2023-03-01T08:06:11.227Z"
   },
   {
    "duration": 224,
    "start_time": "2023-03-01T08:06:11.511Z"
   },
   {
    "duration": 5,
    "start_time": "2023-03-01T08:06:11.737Z"
   },
   {
    "duration": 42,
    "start_time": "2023-03-01T08:06:11.744Z"
   },
   {
    "duration": 46,
    "start_time": "2023-03-01T08:06:11.788Z"
   },
   {
    "duration": 23,
    "start_time": "2023-03-01T08:06:11.836Z"
   },
   {
    "duration": 8,
    "start_time": "2023-03-01T08:06:11.861Z"
   },
   {
    "duration": 7,
    "start_time": "2023-03-01T08:06:11.870Z"
   },
   {
    "duration": 156,
    "start_time": "2023-03-01T08:06:11.879Z"
   },
   {
    "duration": 0,
    "start_time": "2023-03-01T08:06:12.037Z"
   },
   {
    "duration": 0,
    "start_time": "2023-03-01T08:06:12.038Z"
   },
   {
    "duration": 5,
    "start_time": "2023-03-01T08:11:06.365Z"
   },
   {
    "duration": 14,
    "start_time": "2023-03-01T08:11:15.295Z"
   },
   {
    "duration": 7,
    "start_time": "2023-03-01T08:11:26.449Z"
   },
   {
    "duration": 4,
    "start_time": "2023-03-01T08:15:07.238Z"
   },
   {
    "duration": 4,
    "start_time": "2023-03-01T08:15:47.048Z"
   },
   {
    "duration": 5,
    "start_time": "2023-03-01T08:15:56.436Z"
   },
   {
    "duration": 9933,
    "start_time": "2023-03-01T08:19:34.743Z"
   },
   {
    "duration": 4,
    "start_time": "2023-03-01T08:20:40.322Z"
   },
   {
    "duration": 129,
    "start_time": "2023-03-01T08:20:48.694Z"
   },
   {
    "duration": 1432,
    "start_time": "2023-03-01T08:21:20.847Z"
   },
   {
    "duration": 54,
    "start_time": "2023-03-01T08:21:22.282Z"
   },
   {
    "duration": 15,
    "start_time": "2023-03-01T08:21:22.338Z"
   },
   {
    "duration": 21,
    "start_time": "2023-03-01T08:21:22.356Z"
   },
   {
    "duration": 279,
    "start_time": "2023-03-01T08:21:22.379Z"
   },
   {
    "duration": 244,
    "start_time": "2023-03-01T08:21:22.660Z"
   },
   {
    "duration": 376,
    "start_time": "2023-03-01T08:21:22.906Z"
   },
   {
    "duration": 908,
    "start_time": "2023-03-01T08:21:23.284Z"
   },
   {
    "duration": 223,
    "start_time": "2023-03-01T08:21:24.194Z"
   },
   {
    "duration": 222,
    "start_time": "2023-03-01T08:21:24.423Z"
   },
   {
    "duration": 278,
    "start_time": "2023-03-01T08:21:24.647Z"
   },
   {
    "duration": 226,
    "start_time": "2023-03-01T08:21:24.927Z"
   },
   {
    "duration": 5,
    "start_time": "2023-03-01T08:21:25.155Z"
   },
   {
    "duration": 112,
    "start_time": "2023-03-01T08:21:25.162Z"
   },
   {
    "duration": 53,
    "start_time": "2023-03-01T08:21:25.276Z"
   },
   {
    "duration": 40,
    "start_time": "2023-03-01T08:21:25.331Z"
   },
   {
    "duration": 7,
    "start_time": "2023-03-01T08:21:25.373Z"
   },
   {
    "duration": 15,
    "start_time": "2023-03-01T08:21:25.383Z"
   },
   {
    "duration": 28,
    "start_time": "2023-03-01T08:21:25.400Z"
   },
   {
    "duration": 21,
    "start_time": "2023-03-01T08:21:25.431Z"
   },
   {
    "duration": 20,
    "start_time": "2023-03-01T08:21:25.453Z"
   },
   {
    "duration": 28,
    "start_time": "2023-03-01T08:21:25.475Z"
   },
   {
    "duration": 7,
    "start_time": "2023-03-01T08:21:25.505Z"
   },
   {
    "duration": 330,
    "start_time": "2023-03-01T08:21:25.514Z"
   },
   {
    "duration": 78,
    "start_time": "2023-03-01T08:37:32.041Z"
   },
   {
    "duration": 19,
    "start_time": "2023-03-01T08:40:02.901Z"
   },
   {
    "duration": 2220,
    "start_time": "2023-03-01T08:40:05.406Z"
   },
   {
    "duration": 1452,
    "start_time": "2023-03-01T08:40:26.055Z"
   },
   {
    "duration": 55,
    "start_time": "2023-03-01T08:40:27.509Z"
   },
   {
    "duration": 15,
    "start_time": "2023-03-01T08:40:27.566Z"
   },
   {
    "duration": 33,
    "start_time": "2023-03-01T08:40:27.583Z"
   },
   {
    "duration": 278,
    "start_time": "2023-03-01T08:40:27.620Z"
   },
   {
    "duration": 249,
    "start_time": "2023-03-01T08:40:27.900Z"
   },
   {
    "duration": 393,
    "start_time": "2023-03-01T08:40:28.151Z"
   },
   {
    "duration": 847,
    "start_time": "2023-03-01T08:40:28.546Z"
   },
   {
    "duration": 234,
    "start_time": "2023-03-01T08:40:29.395Z"
   },
   {
    "duration": 243,
    "start_time": "2023-03-01T08:40:29.631Z"
   },
   {
    "duration": 296,
    "start_time": "2023-03-01T08:40:29.877Z"
   },
   {
    "duration": 232,
    "start_time": "2023-03-01T08:40:30.174Z"
   },
   {
    "duration": 858,
    "start_time": "2023-03-01T08:40:30.408Z"
   },
   {
    "duration": 197,
    "start_time": "2023-03-01T08:40:31.269Z"
   },
   {
    "duration": 243,
    "start_time": "2023-03-01T08:40:31.468Z"
   },
   {
    "duration": 77,
    "start_time": "2023-03-01T08:40:31.712Z"
   },
   {
    "duration": 19,
    "start_time": "2023-03-01T08:40:31.791Z"
   },
   {
    "duration": 64,
    "start_time": "2023-03-01T08:40:31.811Z"
   },
   {
    "duration": 65,
    "start_time": "2023-03-01T08:40:31.877Z"
   },
   {
    "duration": 79,
    "start_time": "2023-03-01T08:40:31.944Z"
   },
   {
    "duration": 70,
    "start_time": "2023-03-01T08:40:32.025Z"
   },
   {
    "duration": 69,
    "start_time": "2023-03-01T08:40:32.098Z"
   },
   {
    "duration": 115,
    "start_time": "2023-03-01T08:40:32.169Z"
   },
   {
    "duration": 2148,
    "start_time": "2023-03-01T08:40:32.286Z"
   },
   {
    "duration": 1857,
    "start_time": "2023-03-01T08:41:11.777Z"
   },
   {
    "duration": 34,
    "start_time": "2023-03-01T08:46:12.897Z"
   },
   {
    "duration": 21,
    "start_time": "2023-03-01T08:49:41.661Z"
   },
   {
    "duration": 16,
    "start_time": "2023-03-01T08:49:52.373Z"
   },
   {
    "duration": 1472,
    "start_time": "2023-03-01T08:50:11.513Z"
   },
   {
    "duration": 55,
    "start_time": "2023-03-01T08:50:12.987Z"
   },
   {
    "duration": 15,
    "start_time": "2023-03-01T08:50:13.044Z"
   },
   {
    "duration": 42,
    "start_time": "2023-03-01T08:50:13.061Z"
   },
   {
    "duration": 249,
    "start_time": "2023-03-01T08:50:13.105Z"
   },
   {
    "duration": 246,
    "start_time": "2023-03-01T08:50:13.356Z"
   },
   {
    "duration": 438,
    "start_time": "2023-03-01T08:50:13.603Z"
   },
   {
    "duration": 871,
    "start_time": "2023-03-01T08:50:14.043Z"
   },
   {
    "duration": 237,
    "start_time": "2023-03-01T08:50:14.916Z"
   },
   {
    "duration": 219,
    "start_time": "2023-03-01T08:50:15.156Z"
   },
   {
    "duration": 333,
    "start_time": "2023-03-01T08:50:15.376Z"
   },
   {
    "duration": 225,
    "start_time": "2023-03-01T08:50:15.711Z"
   },
   {
    "duration": 5,
    "start_time": "2023-03-01T08:50:15.938Z"
   },
   {
    "duration": 38,
    "start_time": "2023-03-01T08:50:15.944Z"
   },
   {
    "duration": 58,
    "start_time": "2023-03-01T08:50:15.983Z"
   },
   {
    "duration": 19,
    "start_time": "2023-03-01T08:50:16.043Z"
   },
   {
    "duration": 33,
    "start_time": "2023-03-01T08:50:16.063Z"
   },
   {
    "duration": 13,
    "start_time": "2023-03-01T08:50:16.098Z"
   },
   {
    "duration": 21,
    "start_time": "2023-03-01T08:50:16.126Z"
   },
   {
    "duration": 50,
    "start_time": "2023-03-01T08:50:16.150Z"
   },
   {
    "duration": 7,
    "start_time": "2023-03-01T08:50:16.203Z"
   },
   {
    "duration": 10,
    "start_time": "2023-03-01T08:50:16.212Z"
   },
   {
    "duration": 11,
    "start_time": "2023-03-01T08:50:16.224Z"
   },
   {
    "duration": 1239,
    "start_time": "2023-03-01T08:50:16.237Z"
   },
   {
    "duration": 0,
    "start_time": "2023-03-01T08:50:17.478Z"
   },
   {
    "duration": 19,
    "start_time": "2023-03-01T08:50:46.769Z"
   },
   {
    "duration": 1520,
    "start_time": "2023-03-01T08:50:53.134Z"
   },
   {
    "duration": 61,
    "start_time": "2023-03-01T08:50:54.656Z"
   },
   {
    "duration": 21,
    "start_time": "2023-03-01T08:50:54.719Z"
   },
   {
    "duration": 20,
    "start_time": "2023-03-01T08:50:54.743Z"
   },
   {
    "duration": 263,
    "start_time": "2023-03-01T08:50:54.765Z"
   },
   {
    "duration": 260,
    "start_time": "2023-03-01T08:50:55.030Z"
   },
   {
    "duration": 562,
    "start_time": "2023-03-01T08:50:55.292Z"
   },
   {
    "duration": 897,
    "start_time": "2023-03-01T08:50:55.856Z"
   },
   {
    "duration": 222,
    "start_time": "2023-03-01T08:50:56.754Z"
   },
   {
    "duration": 214,
    "start_time": "2023-03-01T08:50:56.978Z"
   },
   {
    "duration": 314,
    "start_time": "2023-03-01T08:50:57.194Z"
   },
   {
    "duration": 232,
    "start_time": "2023-03-01T08:50:57.510Z"
   },
   {
    "duration": 5,
    "start_time": "2023-03-01T08:50:57.744Z"
   },
   {
    "duration": 34,
    "start_time": "2023-03-01T08:50:57.750Z"
   },
   {
    "duration": 51,
    "start_time": "2023-03-01T08:50:57.786Z"
   },
   {
    "duration": 15,
    "start_time": "2023-03-01T08:50:57.840Z"
   },
   {
    "duration": 18,
    "start_time": "2023-03-01T08:50:57.857Z"
   },
   {
    "duration": 6,
    "start_time": "2023-03-01T08:50:57.877Z"
   },
   {
    "duration": 45,
    "start_time": "2023-03-01T08:50:57.885Z"
   },
   {
    "duration": 41,
    "start_time": "2023-03-01T08:50:57.932Z"
   },
   {
    "duration": 10,
    "start_time": "2023-03-01T08:50:57.975Z"
   },
   {
    "duration": 12,
    "start_time": "2023-03-01T08:50:57.986Z"
   },
   {
    "duration": 7,
    "start_time": "2023-03-01T08:50:58.000Z"
   },
   {
    "duration": 1304,
    "start_time": "2023-03-01T08:50:58.009Z"
   },
   {
    "duration": 0,
    "start_time": "2023-03-01T08:50:59.316Z"
   },
   {
    "duration": 2467,
    "start_time": "2023-03-01T08:51:30.861Z"
   },
   {
    "duration": 1524,
    "start_time": "2023-03-01T08:52:02.993Z"
   },
   {
    "duration": 55,
    "start_time": "2023-03-01T08:52:04.519Z"
   },
   {
    "duration": 15,
    "start_time": "2023-03-01T08:52:04.576Z"
   },
   {
    "duration": 32,
    "start_time": "2023-03-01T08:52:04.593Z"
   },
   {
    "duration": 260,
    "start_time": "2023-03-01T08:52:04.627Z"
   },
   {
    "duration": 273,
    "start_time": "2023-03-01T08:52:04.889Z"
   },
   {
    "duration": 417,
    "start_time": "2023-03-01T08:52:05.165Z"
   },
   {
    "duration": 916,
    "start_time": "2023-03-01T08:52:05.583Z"
   },
   {
    "duration": 230,
    "start_time": "2023-03-01T08:52:06.500Z"
   },
   {
    "duration": 231,
    "start_time": "2023-03-01T08:52:06.733Z"
   },
   {
    "duration": 281,
    "start_time": "2023-03-01T08:52:06.966Z"
   },
   {
    "duration": 232,
    "start_time": "2023-03-01T08:52:07.249Z"
   },
   {
    "duration": 5,
    "start_time": "2023-03-01T08:52:07.483Z"
   },
   {
    "duration": 68,
    "start_time": "2023-03-01T08:52:07.490Z"
   },
   {
    "duration": 33,
    "start_time": "2023-03-01T08:52:07.560Z"
   },
   {
    "duration": 17,
    "start_time": "2023-03-01T08:52:07.595Z"
   },
   {
    "duration": 19,
    "start_time": "2023-03-01T08:52:07.623Z"
   },
   {
    "duration": 6,
    "start_time": "2023-03-01T08:52:07.644Z"
   },
   {
    "duration": 17,
    "start_time": "2023-03-01T08:52:07.652Z"
   },
   {
    "duration": 16,
    "start_time": "2023-03-01T08:52:07.672Z"
   },
   {
    "duration": 19,
    "start_time": "2023-03-01T08:52:07.690Z"
   },
   {
    "duration": 23,
    "start_time": "2023-03-01T08:52:07.710Z"
   },
   {
    "duration": 8,
    "start_time": "2023-03-01T08:52:07.735Z"
   },
   {
    "duration": 2483,
    "start_time": "2023-03-01T08:52:07.745Z"
   },
   {
    "duration": 1655,
    "start_time": "2023-03-01T15:03:19.421Z"
   },
   {
    "duration": 148,
    "start_time": "2023-03-01T15:03:21.079Z"
   },
   {
    "duration": 14,
    "start_time": "2023-03-01T15:03:21.229Z"
   },
   {
    "duration": 24,
    "start_time": "2023-03-01T15:03:21.246Z"
   },
   {
    "duration": 285,
    "start_time": "2023-03-01T15:03:21.273Z"
   },
   {
    "duration": 249,
    "start_time": "2023-03-01T15:03:21.560Z"
   },
   {
    "duration": 403,
    "start_time": "2023-03-01T15:03:21.811Z"
   },
   {
    "duration": 909,
    "start_time": "2023-03-01T15:03:22.215Z"
   },
   {
    "duration": 226,
    "start_time": "2023-03-01T15:03:23.125Z"
   },
   {
    "duration": 226,
    "start_time": "2023-03-01T15:03:23.353Z"
   },
   {
    "duration": 289,
    "start_time": "2023-03-01T15:03:23.580Z"
   },
   {
    "duration": 243,
    "start_time": "2023-03-01T15:03:23.871Z"
   },
   {
    "duration": 7,
    "start_time": "2023-03-01T15:03:24.116Z"
   },
   {
    "duration": 25,
    "start_time": "2023-03-01T15:03:24.145Z"
   },
   {
    "duration": 32,
    "start_time": "2023-03-01T15:03:24.171Z"
   },
   {
    "duration": 40,
    "start_time": "2023-03-01T15:03:24.205Z"
   },
   {
    "duration": 24,
    "start_time": "2023-03-01T15:03:24.249Z"
   },
   {
    "duration": 9,
    "start_time": "2023-03-01T15:03:24.275Z"
   },
   {
    "duration": 5,
    "start_time": "2023-03-01T15:03:24.286Z"
   },
   {
    "duration": 17,
    "start_time": "2023-03-01T15:03:24.293Z"
   },
   {
    "duration": 33,
    "start_time": "2023-03-01T15:03:24.312Z"
   },
   {
    "duration": 6,
    "start_time": "2023-03-01T15:03:24.347Z"
   },
   {
    "duration": 148,
    "start_time": "2023-03-01T15:03:24.355Z"
   },
   {
    "duration": 0,
    "start_time": "2023-03-01T15:03:24.506Z"
   },
   {
    "duration": 11,
    "start_time": "2023-03-01T15:08:24.086Z"
   },
   {
    "duration": 2149,
    "start_time": "2023-03-01T15:09:19.598Z"
   },
   {
    "duration": 1401,
    "start_time": "2023-03-01T15:15:18.799Z"
   },
   {
    "duration": 56,
    "start_time": "2023-03-01T15:15:20.202Z"
   },
   {
    "duration": 12,
    "start_time": "2023-03-01T15:15:20.260Z"
   },
   {
    "duration": 20,
    "start_time": "2023-03-01T15:15:20.274Z"
   },
   {
    "duration": 268,
    "start_time": "2023-03-01T15:15:20.296Z"
   },
   {
    "duration": 279,
    "start_time": "2023-03-01T15:15:20.566Z"
   },
   {
    "duration": 461,
    "start_time": "2023-03-01T15:15:20.847Z"
   },
   {
    "duration": 866,
    "start_time": "2023-03-01T15:15:21.310Z"
   },
   {
    "duration": 226,
    "start_time": "2023-03-01T15:15:22.178Z"
   },
   {
    "duration": 214,
    "start_time": "2023-03-01T15:15:22.406Z"
   },
   {
    "duration": 269,
    "start_time": "2023-03-01T15:15:22.621Z"
   },
   {
    "duration": 227,
    "start_time": "2023-03-01T15:15:22.892Z"
   },
   {
    "duration": 6,
    "start_time": "2023-03-01T15:15:23.122Z"
   },
   {
    "duration": 41,
    "start_time": "2023-03-01T15:15:23.130Z"
   },
   {
    "duration": 32,
    "start_time": "2023-03-01T15:15:23.173Z"
   },
   {
    "duration": 45,
    "start_time": "2023-03-01T15:15:23.206Z"
   },
   {
    "duration": 18,
    "start_time": "2023-03-01T15:15:23.254Z"
   },
   {
    "duration": 7,
    "start_time": "2023-03-01T15:15:23.274Z"
   },
   {
    "duration": 8,
    "start_time": "2023-03-01T15:15:23.283Z"
   },
   {
    "duration": 7,
    "start_time": "2023-03-01T15:15:23.292Z"
   },
   {
    "duration": 44,
    "start_time": "2023-03-01T15:15:23.301Z"
   },
   {
    "duration": 6,
    "start_time": "2023-03-01T15:15:23.347Z"
   },
   {
    "duration": 15,
    "start_time": "2023-03-01T15:15:23.355Z"
   },
   {
    "duration": 2386,
    "start_time": "2023-03-01T15:15:23.371Z"
   },
   {
    "duration": 0,
    "start_time": "2023-03-01T15:15:25.759Z"
   },
   {
    "duration": 20,
    "start_time": "2023-03-01T15:18:38.026Z"
   },
   {
    "duration": 12,
    "start_time": "2023-03-01T15:18:45.074Z"
   },
   {
    "duration": 1418,
    "start_time": "2023-03-01T15:18:53.859Z"
   },
   {
    "duration": 59,
    "start_time": "2023-03-01T15:18:55.279Z"
   },
   {
    "duration": 15,
    "start_time": "2023-03-01T15:18:55.340Z"
   },
   {
    "duration": 19,
    "start_time": "2023-03-01T15:18:55.358Z"
   },
   {
    "duration": 261,
    "start_time": "2023-03-01T15:18:55.380Z"
   },
   {
    "duration": 247,
    "start_time": "2023-03-01T15:18:55.645Z"
   },
   {
    "duration": 385,
    "start_time": "2023-03-01T15:18:55.893Z"
   },
   {
    "duration": 828,
    "start_time": "2023-03-01T15:18:56.280Z"
   },
   {
    "duration": 212,
    "start_time": "2023-03-01T15:18:57.110Z"
   },
   {
    "duration": 218,
    "start_time": "2023-03-01T15:18:57.325Z"
   },
   {
    "duration": 269,
    "start_time": "2023-03-01T15:18:57.545Z"
   },
   {
    "duration": 217,
    "start_time": "2023-03-01T15:18:57.815Z"
   },
   {
    "duration": 11,
    "start_time": "2023-03-01T15:18:58.034Z"
   },
   {
    "duration": 29,
    "start_time": "2023-03-01T15:18:58.046Z"
   },
   {
    "duration": 29,
    "start_time": "2023-03-01T15:18:58.077Z"
   },
   {
    "duration": 37,
    "start_time": "2023-03-01T15:18:58.107Z"
   },
   {
    "duration": 77,
    "start_time": "2023-03-01T15:18:58.146Z"
   },
   {
    "duration": 76,
    "start_time": "2023-03-01T15:18:58.224Z"
   },
   {
    "duration": 10,
    "start_time": "2023-03-01T15:18:58.301Z"
   },
   {
    "duration": 11,
    "start_time": "2023-03-01T15:18:58.312Z"
   },
   {
    "duration": 6,
    "start_time": "2023-03-01T15:18:58.325Z"
   },
   {
    "duration": 11,
    "start_time": "2023-03-01T15:18:58.332Z"
   },
   {
    "duration": 129,
    "start_time": "2023-03-01T15:18:58.345Z"
   },
   {
    "duration": 0,
    "start_time": "2023-03-01T15:18:58.475Z"
   },
   {
    "duration": 0,
    "start_time": "2023-03-01T15:18:58.476Z"
   },
   {
    "duration": 6,
    "start_time": "2023-03-01T15:20:36.456Z"
   },
   {
    "duration": 20,
    "start_time": "2023-03-01T15:20:37.600Z"
   },
   {
    "duration": 12,
    "start_time": "2023-03-01T15:21:23.252Z"
   },
   {
    "duration": 2049,
    "start_time": "2023-03-01T15:22:28.701Z"
   },
   {
    "duration": 2052,
    "start_time": "2023-03-01T15:22:49.298Z"
   },
   {
    "duration": 2411,
    "start_time": "2023-03-01T15:23:15.735Z"
   },
   {
    "duration": 2198,
    "start_time": "2023-03-01T15:23:21.953Z"
   },
   {
    "duration": 1022,
    "start_time": "2023-03-01T15:24:16.027Z"
   },
   {
    "duration": 127,
    "start_time": "2023-03-01T15:29:20.529Z"
   },
   {
    "duration": 1204,
    "start_time": "2023-03-01T15:37:16.043Z"
   },
   {
    "duration": 1683,
    "start_time": "2023-03-01T15:37:24.163Z"
   },
   {
    "duration": 1995,
    "start_time": "2023-03-01T15:43:03.171Z"
   },
   {
    "duration": 2343,
    "start_time": "2023-03-01T15:47:07.203Z"
   },
   {
    "duration": 2119,
    "start_time": "2023-03-01T15:47:19.531Z"
   },
   {
    "duration": 2,
    "start_time": "2023-03-01T15:51:51.851Z"
   },
   {
    "duration": 3,
    "start_time": "2023-03-01T15:53:00.219Z"
   },
   {
    "duration": 3,
    "start_time": "2023-03-01T15:53:38.784Z"
   },
   {
    "duration": 26,
    "start_time": "2023-03-01T15:59:58.725Z"
   },
   {
    "duration": 1456,
    "start_time": "2023-03-01T16:00:08.978Z"
   },
   {
    "duration": 63,
    "start_time": "2023-03-01T16:00:10.437Z"
   },
   {
    "duration": 14,
    "start_time": "2023-03-01T16:00:10.502Z"
   },
   {
    "duration": 28,
    "start_time": "2023-03-01T16:00:10.519Z"
   },
   {
    "duration": 256,
    "start_time": "2023-03-01T16:00:10.550Z"
   },
   {
    "duration": 240,
    "start_time": "2023-03-01T16:00:10.808Z"
   },
   {
    "duration": 378,
    "start_time": "2023-03-01T16:00:11.050Z"
   },
   {
    "duration": 822,
    "start_time": "2023-03-01T16:00:11.430Z"
   },
   {
    "duration": 226,
    "start_time": "2023-03-01T16:00:12.254Z"
   },
   {
    "duration": 215,
    "start_time": "2023-03-01T16:00:12.484Z"
   },
   {
    "duration": 271,
    "start_time": "2023-03-01T16:00:12.701Z"
   },
   {
    "duration": 228,
    "start_time": "2023-03-01T16:00:12.974Z"
   },
   {
    "duration": 5,
    "start_time": "2023-03-01T16:00:13.204Z"
   },
   {
    "duration": 44,
    "start_time": "2023-03-01T16:00:13.210Z"
   },
   {
    "duration": 29,
    "start_time": "2023-03-01T16:00:13.256Z"
   },
   {
    "duration": 13,
    "start_time": "2023-03-01T16:00:13.287Z"
   },
   {
    "duration": 22,
    "start_time": "2023-03-01T16:00:13.302Z"
   },
   {
    "duration": 7,
    "start_time": "2023-03-01T16:00:13.344Z"
   },
   {
    "duration": 11,
    "start_time": "2023-03-01T16:00:13.353Z"
   },
   {
    "duration": 14,
    "start_time": "2023-03-01T16:00:13.366Z"
   },
   {
    "duration": 14,
    "start_time": "2023-03-01T16:00:13.382Z"
   },
   {
    "duration": 12,
    "start_time": "2023-03-01T16:00:13.398Z"
   },
   {
    "duration": 6,
    "start_time": "2023-03-01T16:00:13.412Z"
   },
   {
    "duration": 143,
    "start_time": "2023-03-01T16:00:13.419Z"
   },
   {
    "duration": 0,
    "start_time": "2023-03-01T16:00:13.563Z"
   },
   {
    "duration": 0,
    "start_time": "2023-03-01T16:00:13.564Z"
   },
   {
    "duration": 0,
    "start_time": "2023-03-01T16:00:13.565Z"
   },
   {
    "duration": 5,
    "start_time": "2023-03-01T16:00:20.472Z"
   },
   {
    "duration": 1450,
    "start_time": "2023-03-01T16:10:26.630Z"
   },
   {
    "duration": 54,
    "start_time": "2023-03-01T16:10:28.082Z"
   },
   {
    "duration": 13,
    "start_time": "2023-03-01T16:10:28.137Z"
   },
   {
    "duration": 21,
    "start_time": "2023-03-01T16:10:28.152Z"
   },
   {
    "duration": 267,
    "start_time": "2023-03-01T16:10:28.174Z"
   },
   {
    "duration": 241,
    "start_time": "2023-03-01T16:10:28.444Z"
   },
   {
    "duration": 400,
    "start_time": "2023-03-01T16:10:28.687Z"
   },
   {
    "duration": 820,
    "start_time": "2023-03-01T16:10:29.089Z"
   },
   {
    "duration": 223,
    "start_time": "2023-03-01T16:10:29.910Z"
   },
   {
    "duration": 209,
    "start_time": "2023-03-01T16:10:30.144Z"
   },
   {
    "duration": 305,
    "start_time": "2023-03-01T16:10:30.355Z"
   },
   {
    "duration": 246,
    "start_time": "2023-03-01T16:10:30.662Z"
   },
   {
    "duration": 5,
    "start_time": "2023-03-01T16:10:30.910Z"
   },
   {
    "duration": 70,
    "start_time": "2023-03-01T16:10:30.917Z"
   },
   {
    "duration": 29,
    "start_time": "2023-03-01T16:10:30.989Z"
   },
   {
    "duration": 14,
    "start_time": "2023-03-01T16:10:31.020Z"
   },
   {
    "duration": 27,
    "start_time": "2023-03-01T16:10:31.036Z"
   },
   {
    "duration": 32,
    "start_time": "2023-03-01T16:10:31.065Z"
   },
   {
    "duration": 29,
    "start_time": "2023-03-01T16:10:31.099Z"
   },
   {
    "duration": 37,
    "start_time": "2023-03-01T16:10:31.129Z"
   },
   {
    "duration": 44,
    "start_time": "2023-03-01T16:10:31.168Z"
   },
   {
    "duration": 49,
    "start_time": "2023-03-01T16:10:31.214Z"
   },
   {
    "duration": 49,
    "start_time": "2023-03-01T16:10:31.264Z"
   },
   {
    "duration": 172,
    "start_time": "2023-03-01T16:10:31.315Z"
   },
   {
    "duration": 0,
    "start_time": "2023-03-01T16:10:31.490Z"
   },
   {
    "duration": 0,
    "start_time": "2023-03-01T16:10:31.491Z"
   },
   {
    "duration": 0,
    "start_time": "2023-03-01T16:10:31.493Z"
   },
   {
    "duration": 0,
    "start_time": "2023-03-01T16:10:31.494Z"
   },
   {
    "duration": 1463,
    "start_time": "2023-03-01T16:11:58.441Z"
   },
   {
    "duration": 55,
    "start_time": "2023-03-01T16:11:59.906Z"
   },
   {
    "duration": 13,
    "start_time": "2023-03-01T16:11:59.963Z"
   },
   {
    "duration": 19,
    "start_time": "2023-03-01T16:11:59.978Z"
   },
   {
    "duration": 272,
    "start_time": "2023-03-01T16:11:59.999Z"
   },
   {
    "duration": 279,
    "start_time": "2023-03-01T16:12:00.273Z"
   },
   {
    "duration": 478,
    "start_time": "2023-03-01T16:12:00.555Z"
   },
   {
    "duration": 915,
    "start_time": "2023-03-01T16:12:01.035Z"
   },
   {
    "duration": 252,
    "start_time": "2023-03-01T16:12:01.952Z"
   },
   {
    "duration": 294,
    "start_time": "2023-03-01T16:12:02.207Z"
   },
   {
    "duration": 282,
    "start_time": "2023-03-01T16:12:02.503Z"
   },
   {
    "duration": 241,
    "start_time": "2023-03-01T16:12:02.788Z"
   },
   {
    "duration": 16,
    "start_time": "2023-03-01T16:12:03.031Z"
   },
   {
    "duration": 68,
    "start_time": "2023-03-01T16:12:03.048Z"
   },
   {
    "duration": 36,
    "start_time": "2023-03-01T16:12:03.118Z"
   },
   {
    "duration": 33,
    "start_time": "2023-03-01T16:12:03.156Z"
   },
   {
    "duration": 22,
    "start_time": "2023-03-01T16:12:03.191Z"
   },
   {
    "duration": 13,
    "start_time": "2023-03-01T16:12:03.215Z"
   },
   {
    "duration": 20,
    "start_time": "2023-03-01T16:12:03.230Z"
   },
   {
    "duration": 15,
    "start_time": "2023-03-01T16:12:03.252Z"
   },
   {
    "duration": 29,
    "start_time": "2023-03-01T16:12:03.269Z"
   },
   {
    "duration": 25,
    "start_time": "2023-03-01T16:12:03.301Z"
   },
   {
    "duration": 35,
    "start_time": "2023-03-01T16:12:03.330Z"
   },
   {
    "duration": 178,
    "start_time": "2023-03-01T16:12:03.367Z"
   },
   {
    "duration": 0,
    "start_time": "2023-03-01T16:12:03.547Z"
   },
   {
    "duration": 0,
    "start_time": "2023-03-01T16:12:03.548Z"
   },
   {
    "duration": 0,
    "start_time": "2023-03-01T16:12:03.549Z"
   },
   {
    "duration": 0,
    "start_time": "2023-03-01T16:12:03.551Z"
   },
   {
    "duration": 1349,
    "start_time": "2023-03-01T16:14:17.760Z"
   },
   {
    "duration": 56,
    "start_time": "2023-03-01T16:14:19.111Z"
   },
   {
    "duration": 18,
    "start_time": "2023-03-01T16:14:19.168Z"
   },
   {
    "duration": 20,
    "start_time": "2023-03-01T16:14:19.188Z"
   },
   {
    "duration": 244,
    "start_time": "2023-03-01T16:14:19.211Z"
   },
   {
    "duration": 246,
    "start_time": "2023-03-01T16:14:19.457Z"
   },
   {
    "duration": 397,
    "start_time": "2023-03-01T16:14:19.705Z"
   },
   {
    "duration": 918,
    "start_time": "2023-03-01T16:14:20.104Z"
   },
   {
    "duration": 209,
    "start_time": "2023-03-01T16:14:21.024Z"
   },
   {
    "duration": 210,
    "start_time": "2023-03-01T16:14:21.236Z"
   },
   {
    "duration": 272,
    "start_time": "2023-03-01T16:14:21.447Z"
   },
   {
    "duration": 210,
    "start_time": "2023-03-01T16:14:21.721Z"
   },
   {
    "duration": 4,
    "start_time": "2023-03-01T16:14:21.933Z"
   },
   {
    "duration": 26,
    "start_time": "2023-03-01T16:14:21.945Z"
   },
   {
    "duration": 33,
    "start_time": "2023-03-01T16:14:21.973Z"
   },
   {
    "duration": 44,
    "start_time": "2023-03-01T16:14:22.008Z"
   },
   {
    "duration": 17,
    "start_time": "2023-03-01T16:14:22.054Z"
   },
   {
    "duration": 6,
    "start_time": "2023-03-01T16:14:22.072Z"
   },
   {
    "duration": 5,
    "start_time": "2023-03-01T16:14:22.080Z"
   },
   {
    "duration": 5,
    "start_time": "2023-03-01T16:14:22.087Z"
   },
   {
    "duration": 5,
    "start_time": "2023-03-01T16:14:22.094Z"
   },
   {
    "duration": 44,
    "start_time": "2023-03-01T16:14:22.101Z"
   },
   {
    "duration": 4,
    "start_time": "2023-03-01T16:14:22.147Z"
   },
   {
    "duration": 150,
    "start_time": "2023-03-01T16:14:22.153Z"
   },
   {
    "duration": 0,
    "start_time": "2023-03-01T16:14:22.305Z"
   },
   {
    "duration": 0,
    "start_time": "2023-03-01T16:14:22.306Z"
   },
   {
    "duration": 0,
    "start_time": "2023-03-01T16:14:22.308Z"
   },
   {
    "duration": 0,
    "start_time": "2023-03-01T16:14:22.309Z"
   },
   {
    "duration": 8905,
    "start_time": "2023-03-01T16:15:12.044Z"
   },
   {
    "duration": 595,
    "start_time": "2023-03-01T16:15:20.953Z"
   },
   {
    "duration": 201,
    "start_time": "2023-03-01T16:15:21.551Z"
   },
   {
    "duration": 593,
    "start_time": "2023-03-01T16:15:21.755Z"
   },
   {
    "duration": 4200,
    "start_time": "2023-03-01T16:15:22.353Z"
   },
   {
    "duration": 2403,
    "start_time": "2023-03-01T16:15:26.556Z"
   },
   {
    "duration": 6510,
    "start_time": "2023-03-01T16:15:29.047Z"
   },
   {
    "duration": 13701,
    "start_time": "2023-03-01T16:15:35.647Z"
   },
   {
    "duration": 599,
    "start_time": "2023-03-01T16:15:49.351Z"
   },
   {
    "duration": 606,
    "start_time": "2023-03-01T16:15:49.952Z"
   },
   {
    "duration": 1090,
    "start_time": "2023-03-01T16:15:50.560Z"
   },
   {
    "duration": 436,
    "start_time": "2023-03-01T16:15:51.653Z"
   },
   {
    "duration": 8,
    "start_time": "2023-03-01T16:15:52.146Z"
   },
   {
    "duration": 112,
    "start_time": "2023-03-01T16:15:52.160Z"
   },
   {
    "duration": 88,
    "start_time": "2023-03-01T16:15:52.275Z"
   },
   {
    "duration": 15,
    "start_time": "2023-03-01T16:15:52.364Z"
   },
   {
    "duration": 78,
    "start_time": "2023-03-01T16:15:52.381Z"
   },
   {
    "duration": 7,
    "start_time": "2023-03-01T16:15:52.461Z"
   },
   {
    "duration": 22,
    "start_time": "2023-03-01T16:15:52.470Z"
   },
   {
    "duration": 35,
    "start_time": "2023-03-01T16:15:52.546Z"
   },
   {
    "duration": 16,
    "start_time": "2023-03-01T16:15:52.582Z"
   },
   {
    "duration": 8,
    "start_time": "2023-03-01T16:15:52.645Z"
   },
   {
    "duration": 16,
    "start_time": "2023-03-01T16:15:52.655Z"
   },
   {
    "duration": 373,
    "start_time": "2023-03-01T16:15:52.673Z"
   },
   {
    "duration": 0,
    "start_time": "2023-03-01T16:15:53.048Z"
   },
   {
    "duration": 0,
    "start_time": "2023-03-01T16:15:53.050Z"
   },
   {
    "duration": 0,
    "start_time": "2023-03-01T16:15:53.051Z"
   },
   {
    "duration": 0,
    "start_time": "2023-03-01T16:15:53.052Z"
   },
   {
    "duration": 2199,
    "start_time": "2023-03-01T16:19:02.647Z"
   },
   {
    "duration": 1402,
    "start_time": "2023-03-01T16:19:10.625Z"
   },
   {
    "duration": 53,
    "start_time": "2023-03-01T16:19:12.029Z"
   },
   {
    "duration": 12,
    "start_time": "2023-03-01T16:19:12.084Z"
   },
   {
    "duration": 19,
    "start_time": "2023-03-01T16:19:12.097Z"
   },
   {
    "duration": 235,
    "start_time": "2023-03-01T16:19:12.117Z"
   },
   {
    "duration": 226,
    "start_time": "2023-03-01T16:19:12.354Z"
   },
   {
    "duration": 386,
    "start_time": "2023-03-01T16:19:12.582Z"
   },
   {
    "duration": 808,
    "start_time": "2023-03-01T16:19:12.970Z"
   },
   {
    "duration": 212,
    "start_time": "2023-03-01T16:19:13.780Z"
   },
   {
    "duration": 207,
    "start_time": "2023-03-01T16:19:13.995Z"
   },
   {
    "duration": 258,
    "start_time": "2023-03-01T16:19:14.203Z"
   },
   {
    "duration": 211,
    "start_time": "2023-03-01T16:19:14.462Z"
   },
   {
    "duration": 4,
    "start_time": "2023-03-01T16:19:14.675Z"
   },
   {
    "duration": 31,
    "start_time": "2023-03-01T16:19:14.681Z"
   },
   {
    "duration": 46,
    "start_time": "2023-03-01T16:19:14.713Z"
   },
   {
    "duration": 14,
    "start_time": "2023-03-01T16:19:14.760Z"
   },
   {
    "duration": 15,
    "start_time": "2023-03-01T16:19:14.776Z"
   },
   {
    "duration": 5,
    "start_time": "2023-03-01T16:19:14.793Z"
   },
   {
    "duration": 6,
    "start_time": "2023-03-01T16:19:14.800Z"
   },
   {
    "duration": 38,
    "start_time": "2023-03-01T16:19:14.808Z"
   },
   {
    "duration": 4,
    "start_time": "2023-03-01T16:19:14.848Z"
   },
   {
    "duration": 10,
    "start_time": "2023-03-01T16:19:14.853Z"
   },
   {
    "duration": 5,
    "start_time": "2023-03-01T16:19:14.864Z"
   },
   {
    "duration": 2375,
    "start_time": "2023-03-01T16:19:14.871Z"
   },
   {
    "duration": 1996,
    "start_time": "2023-03-01T16:19:17.249Z"
   },
   {
    "duration": 5,
    "start_time": "2023-03-01T16:19:19.247Z"
   },
   {
    "duration": 97,
    "start_time": "2023-03-01T16:19:19.254Z"
   },
   {
    "duration": 1380,
    "start_time": "2023-03-01T16:20:37.731Z"
   },
   {
    "duration": 55,
    "start_time": "2023-03-01T16:20:39.113Z"
   },
   {
    "duration": 12,
    "start_time": "2023-03-01T16:20:39.170Z"
   },
   {
    "duration": 26,
    "start_time": "2023-03-01T16:20:39.184Z"
   },
   {
    "duration": 246,
    "start_time": "2023-03-01T16:20:39.211Z"
   },
   {
    "duration": 235,
    "start_time": "2023-03-01T16:20:39.459Z"
   },
   {
    "duration": 388,
    "start_time": "2023-03-01T16:20:39.696Z"
   },
   {
    "duration": 855,
    "start_time": "2023-03-01T16:20:40.086Z"
   },
   {
    "duration": 212,
    "start_time": "2023-03-01T16:20:40.944Z"
   },
   {
    "duration": 208,
    "start_time": "2023-03-01T16:20:41.159Z"
   },
   {
    "duration": 277,
    "start_time": "2023-03-01T16:20:41.368Z"
   },
   {
    "duration": 214,
    "start_time": "2023-03-01T16:20:41.647Z"
   },
   {
    "duration": 5,
    "start_time": "2023-03-01T16:20:41.862Z"
   },
   {
    "duration": 31,
    "start_time": "2023-03-01T16:20:41.869Z"
   },
   {
    "duration": 47,
    "start_time": "2023-03-01T16:20:41.901Z"
   },
   {
    "duration": 14,
    "start_time": "2023-03-01T16:20:41.950Z"
   },
   {
    "duration": 15,
    "start_time": "2023-03-01T16:20:41.966Z"
   },
   {
    "duration": 6,
    "start_time": "2023-03-01T16:20:41.983Z"
   },
   {
    "duration": 8,
    "start_time": "2023-03-01T16:20:41.990Z"
   },
   {
    "duration": 7,
    "start_time": "2023-03-01T16:20:42.000Z"
   },
   {
    "duration": 37,
    "start_time": "2023-03-01T16:20:42.009Z"
   },
   {
    "duration": 6,
    "start_time": "2023-03-01T16:20:42.048Z"
   },
   {
    "duration": 7,
    "start_time": "2023-03-01T16:20:42.055Z"
   },
   {
    "duration": 1582,
    "start_time": "2023-03-01T16:20:42.064Z"
   },
   {
    "duration": 4,
    "start_time": "2023-03-01T16:20:43.648Z"
   },
   {
    "duration": 2097,
    "start_time": "2023-03-01T16:20:43.653Z"
   },
   {
    "duration": 4,
    "start_time": "2023-03-01T16:20:45.753Z"
   },
   {
    "duration": 1475,
    "start_time": "2023-03-01T16:24:30.805Z"
   },
   {
    "duration": 57,
    "start_time": "2023-03-01T16:24:32.282Z"
   },
   {
    "duration": 13,
    "start_time": "2023-03-01T16:24:32.340Z"
   },
   {
    "duration": 26,
    "start_time": "2023-03-01T16:24:32.355Z"
   },
   {
    "duration": 263,
    "start_time": "2023-03-01T16:24:32.384Z"
   },
   {
    "duration": 256,
    "start_time": "2023-03-01T16:24:32.649Z"
   },
   {
    "duration": 413,
    "start_time": "2023-03-01T16:24:32.907Z"
   },
   {
    "duration": 819,
    "start_time": "2023-03-01T16:24:33.322Z"
   },
   {
    "duration": 206,
    "start_time": "2023-03-01T16:24:34.142Z"
   },
   {
    "duration": 212,
    "start_time": "2023-03-01T16:24:34.351Z"
   },
   {
    "duration": 255,
    "start_time": "2023-03-01T16:24:34.565Z"
   },
   {
    "duration": 208,
    "start_time": "2023-03-01T16:24:34.821Z"
   },
   {
    "duration": 14,
    "start_time": "2023-03-01T16:24:35.031Z"
   },
   {
    "duration": 46,
    "start_time": "2023-03-01T16:24:35.047Z"
   },
   {
    "duration": 30,
    "start_time": "2023-03-01T16:24:35.095Z"
   },
   {
    "duration": 19,
    "start_time": "2023-03-01T16:24:35.126Z"
   },
   {
    "duration": 15,
    "start_time": "2023-03-01T16:24:35.147Z"
   },
   {
    "duration": 6,
    "start_time": "2023-03-01T16:24:35.164Z"
   },
   {
    "duration": 8,
    "start_time": "2023-03-01T16:24:35.172Z"
   },
   {
    "duration": 10,
    "start_time": "2023-03-01T16:24:35.182Z"
   },
   {
    "duration": 11,
    "start_time": "2023-03-01T16:24:35.193Z"
   },
   {
    "duration": 8,
    "start_time": "2023-03-01T16:24:35.206Z"
   },
   {
    "duration": 29,
    "start_time": "2023-03-01T16:24:35.216Z"
   },
   {
    "duration": 2303,
    "start_time": "2023-03-01T16:24:35.247Z"
   },
   {
    "duration": 4,
    "start_time": "2023-03-01T16:24:37.644Z"
   },
   {
    "duration": 1301,
    "start_time": "2023-03-01T16:24:37.650Z"
   },
   {
    "duration": 94,
    "start_time": "2023-03-01T16:24:38.953Z"
   },
   {
    "duration": 1502,
    "start_time": "2023-03-01T16:52:20.523Z"
   },
   {
    "duration": 130,
    "start_time": "2023-03-01T16:52:22.027Z"
   },
   {
    "duration": 0,
    "start_time": "2023-03-01T16:52:22.160Z"
   },
   {
    "duration": 0,
    "start_time": "2023-03-01T16:52:22.161Z"
   },
   {
    "duration": 0,
    "start_time": "2023-03-01T16:52:22.162Z"
   },
   {
    "duration": 0,
    "start_time": "2023-03-01T16:52:22.163Z"
   },
   {
    "duration": 0,
    "start_time": "2023-03-01T16:52:22.164Z"
   },
   {
    "duration": 0,
    "start_time": "2023-03-01T16:52:22.165Z"
   },
   {
    "duration": 0,
    "start_time": "2023-03-01T16:52:22.166Z"
   },
   {
    "duration": 0,
    "start_time": "2023-03-01T16:52:22.167Z"
   },
   {
    "duration": 0,
    "start_time": "2023-03-01T16:52:22.169Z"
   },
   {
    "duration": 1,
    "start_time": "2023-03-01T16:52:22.169Z"
   },
   {
    "duration": 0,
    "start_time": "2023-03-01T16:52:22.170Z"
   },
   {
    "duration": 0,
    "start_time": "2023-03-01T16:52:22.171Z"
   },
   {
    "duration": 0,
    "start_time": "2023-03-01T16:52:22.172Z"
   },
   {
    "duration": 0,
    "start_time": "2023-03-01T16:52:22.174Z"
   },
   {
    "duration": 0,
    "start_time": "2023-03-01T16:52:22.175Z"
   },
   {
    "duration": 0,
    "start_time": "2023-03-01T16:52:22.176Z"
   },
   {
    "duration": 0,
    "start_time": "2023-03-01T16:52:22.177Z"
   },
   {
    "duration": 0,
    "start_time": "2023-03-01T16:52:22.178Z"
   },
   {
    "duration": 0,
    "start_time": "2023-03-01T16:52:22.180Z"
   },
   {
    "duration": 0,
    "start_time": "2023-03-01T16:52:22.180Z"
   },
   {
    "duration": 0,
    "start_time": "2023-03-01T16:52:22.182Z"
   },
   {
    "duration": 0,
    "start_time": "2023-03-01T16:52:22.182Z"
   },
   {
    "duration": 0,
    "start_time": "2023-03-01T16:52:22.184Z"
   },
   {
    "duration": 0,
    "start_time": "2023-03-01T16:52:22.184Z"
   },
   {
    "duration": 0,
    "start_time": "2023-03-01T16:52:22.185Z"
   },
   {
    "duration": 0,
    "start_time": "2023-03-01T16:52:22.186Z"
   },
   {
    "duration": 1346,
    "start_time": "2023-03-01T16:54:16.273Z"
   },
   {
    "duration": 127,
    "start_time": "2023-03-01T16:54:17.621Z"
   },
   {
    "duration": 0,
    "start_time": "2023-03-01T16:54:17.751Z"
   },
   {
    "duration": 0,
    "start_time": "2023-03-01T16:54:17.752Z"
   },
   {
    "duration": 0,
    "start_time": "2023-03-01T16:54:17.753Z"
   },
   {
    "duration": 0,
    "start_time": "2023-03-01T16:54:17.754Z"
   },
   {
    "duration": 0,
    "start_time": "2023-03-01T16:54:17.756Z"
   },
   {
    "duration": 0,
    "start_time": "2023-03-01T16:54:17.757Z"
   },
   {
    "duration": 0,
    "start_time": "2023-03-01T16:54:17.758Z"
   },
   {
    "duration": 0,
    "start_time": "2023-03-01T16:54:17.759Z"
   },
   {
    "duration": 0,
    "start_time": "2023-03-01T16:54:17.760Z"
   },
   {
    "duration": 0,
    "start_time": "2023-03-01T16:54:17.761Z"
   },
   {
    "duration": 0,
    "start_time": "2023-03-01T16:54:17.762Z"
   },
   {
    "duration": 0,
    "start_time": "2023-03-01T16:54:17.763Z"
   },
   {
    "duration": 0,
    "start_time": "2023-03-01T16:54:17.764Z"
   },
   {
    "duration": 0,
    "start_time": "2023-03-01T16:54:17.765Z"
   },
   {
    "duration": 0,
    "start_time": "2023-03-01T16:54:17.766Z"
   },
   {
    "duration": 0,
    "start_time": "2023-03-01T16:54:17.767Z"
   },
   {
    "duration": 0,
    "start_time": "2023-03-01T16:54:17.768Z"
   },
   {
    "duration": 0,
    "start_time": "2023-03-01T16:54:17.769Z"
   },
   {
    "duration": 0,
    "start_time": "2023-03-01T16:54:17.770Z"
   },
   {
    "duration": 0,
    "start_time": "2023-03-01T16:54:17.771Z"
   },
   {
    "duration": 0,
    "start_time": "2023-03-01T16:54:17.773Z"
   },
   {
    "duration": 0,
    "start_time": "2023-03-01T16:54:17.773Z"
   },
   {
    "duration": 0,
    "start_time": "2023-03-01T16:54:17.774Z"
   },
   {
    "duration": 0,
    "start_time": "2023-03-01T16:54:17.776Z"
   },
   {
    "duration": 0,
    "start_time": "2023-03-01T16:54:17.777Z"
   },
   {
    "duration": 0,
    "start_time": "2023-03-01T16:54:17.778Z"
   },
   {
    "duration": 1473,
    "start_time": "2023-03-01T16:56:36.986Z"
   },
   {
    "duration": 141,
    "start_time": "2023-03-01T16:56:38.461Z"
   },
   {
    "duration": 0,
    "start_time": "2023-03-01T16:56:38.606Z"
   },
   {
    "duration": 0,
    "start_time": "2023-03-01T16:56:38.607Z"
   },
   {
    "duration": 0,
    "start_time": "2023-03-01T16:56:38.608Z"
   },
   {
    "duration": 0,
    "start_time": "2023-03-01T16:56:38.609Z"
   },
   {
    "duration": 0,
    "start_time": "2023-03-01T16:56:38.610Z"
   },
   {
    "duration": 0,
    "start_time": "2023-03-01T16:56:38.612Z"
   },
   {
    "duration": 0,
    "start_time": "2023-03-01T16:56:38.613Z"
   },
   {
    "duration": 0,
    "start_time": "2023-03-01T16:56:38.615Z"
   },
   {
    "duration": 0,
    "start_time": "2023-03-01T16:56:38.616Z"
   },
   {
    "duration": 0,
    "start_time": "2023-03-01T16:56:38.617Z"
   },
   {
    "duration": 0,
    "start_time": "2023-03-01T16:56:38.618Z"
   },
   {
    "duration": 0,
    "start_time": "2023-03-01T16:56:38.619Z"
   },
   {
    "duration": 0,
    "start_time": "2023-03-01T16:56:38.645Z"
   },
   {
    "duration": 0,
    "start_time": "2023-03-01T16:56:38.646Z"
   },
   {
    "duration": 0,
    "start_time": "2023-03-01T16:56:38.647Z"
   },
   {
    "duration": 0,
    "start_time": "2023-03-01T16:56:38.648Z"
   },
   {
    "duration": 0,
    "start_time": "2023-03-01T16:56:38.649Z"
   },
   {
    "duration": 0,
    "start_time": "2023-03-01T16:56:38.651Z"
   },
   {
    "duration": 0,
    "start_time": "2023-03-01T16:56:38.652Z"
   },
   {
    "duration": 0,
    "start_time": "2023-03-01T16:56:38.653Z"
   },
   {
    "duration": 0,
    "start_time": "2023-03-01T16:56:38.655Z"
   },
   {
    "duration": 0,
    "start_time": "2023-03-01T16:56:38.656Z"
   },
   {
    "duration": 0,
    "start_time": "2023-03-01T16:56:38.657Z"
   },
   {
    "duration": 0,
    "start_time": "2023-03-01T16:56:38.658Z"
   },
   {
    "duration": 0,
    "start_time": "2023-03-01T16:56:38.660Z"
   },
   {
    "duration": 0,
    "start_time": "2023-03-01T16:56:38.661Z"
   },
   {
    "duration": 1496,
    "start_time": "2023-03-01T17:21:29.891Z"
   },
   {
    "duration": 79,
    "start_time": "2023-03-01T17:21:31.390Z"
   },
   {
    "duration": 15,
    "start_time": "2023-03-01T17:21:31.471Z"
   },
   {
    "duration": 51,
    "start_time": "2023-03-01T17:21:31.488Z"
   },
   {
    "duration": 284,
    "start_time": "2023-03-01T17:21:31.541Z"
   },
   {
    "duration": 245,
    "start_time": "2023-03-01T17:21:31.827Z"
   },
   {
    "duration": 405,
    "start_time": "2023-03-01T17:21:32.073Z"
   },
   {
    "duration": 941,
    "start_time": "2023-03-01T17:21:32.480Z"
   },
   {
    "duration": 239,
    "start_time": "2023-03-01T17:21:33.422Z"
   },
   {
    "duration": 223,
    "start_time": "2023-03-01T17:21:33.664Z"
   },
   {
    "duration": 270,
    "start_time": "2023-03-01T17:21:33.890Z"
   },
   {
    "duration": 223,
    "start_time": "2023-03-01T17:21:34.162Z"
   },
   {
    "duration": 5,
    "start_time": "2023-03-01T17:21:34.387Z"
   },
   {
    "duration": 40,
    "start_time": "2023-03-01T17:21:34.393Z"
   },
   {
    "duration": 40,
    "start_time": "2023-03-01T17:21:34.435Z"
   },
   {
    "duration": 16,
    "start_time": "2023-03-01T17:21:34.477Z"
   },
   {
    "duration": 16,
    "start_time": "2023-03-01T17:21:34.494Z"
   },
   {
    "duration": 6,
    "start_time": "2023-03-01T17:21:34.545Z"
   },
   {
    "duration": 7,
    "start_time": "2023-03-01T17:21:34.554Z"
   },
   {
    "duration": 8,
    "start_time": "2023-03-01T17:21:34.563Z"
   },
   {
    "duration": 8,
    "start_time": "2023-03-01T17:21:34.572Z"
   },
   {
    "duration": 9,
    "start_time": "2023-03-01T17:21:34.582Z"
   },
   {
    "duration": 8,
    "start_time": "2023-03-01T17:21:34.593Z"
   },
   {
    "duration": 1649,
    "start_time": "2023-03-01T17:21:34.603Z"
   },
   {
    "duration": 4,
    "start_time": "2023-03-01T17:21:36.344Z"
   },
   {
    "duration": 2097,
    "start_time": "2023-03-01T17:21:36.350Z"
   },
   {
    "duration": 4,
    "start_time": "2023-03-01T17:21:38.450Z"
   },
   {
    "duration": 35887,
    "start_time": "2023-03-01T17:21:38.459Z"
   },
   {
    "duration": 1469,
    "start_time": "2023-03-01T17:24:09.993Z"
   },
   {
    "duration": 57,
    "start_time": "2023-03-01T17:24:11.464Z"
   },
   {
    "duration": 14,
    "start_time": "2023-03-01T17:24:11.523Z"
   },
   {
    "duration": 31,
    "start_time": "2023-03-01T17:24:11.539Z"
   },
   {
    "duration": 277,
    "start_time": "2023-03-01T17:24:11.573Z"
   },
   {
    "duration": 264,
    "start_time": "2023-03-01T17:24:11.853Z"
   },
   {
    "duration": 567,
    "start_time": "2023-03-01T17:24:12.119Z"
   },
   {
    "duration": 1041,
    "start_time": "2023-03-01T17:24:12.687Z"
   },
   {
    "duration": 250,
    "start_time": "2023-03-01T17:24:13.731Z"
   },
   {
    "duration": 248,
    "start_time": "2023-03-01T17:24:13.983Z"
   },
   {
    "duration": 368,
    "start_time": "2023-03-01T17:24:14.232Z"
   },
   {
    "duration": 310,
    "start_time": "2023-03-01T17:24:14.601Z"
   },
   {
    "duration": 6,
    "start_time": "2023-03-01T17:24:14.913Z"
   },
   {
    "duration": 49,
    "start_time": "2023-03-01T17:24:14.923Z"
   },
   {
    "duration": 42,
    "start_time": "2023-03-01T17:24:14.975Z"
   },
   {
    "duration": 30,
    "start_time": "2023-03-01T17:24:15.020Z"
   },
   {
    "duration": 23,
    "start_time": "2023-03-01T17:24:15.053Z"
   },
   {
    "duration": 13,
    "start_time": "2023-03-01T17:24:15.078Z"
   },
   {
    "duration": 16,
    "start_time": "2023-03-01T17:24:15.094Z"
   },
   {
    "duration": 16,
    "start_time": "2023-03-01T17:24:15.113Z"
   },
   {
    "duration": 7,
    "start_time": "2023-03-01T17:24:15.146Z"
   },
   {
    "duration": 38,
    "start_time": "2023-03-01T17:24:15.155Z"
   },
   {
    "duration": 12,
    "start_time": "2023-03-01T17:24:15.196Z"
   },
   {
    "duration": 1636,
    "start_time": "2023-03-01T17:24:15.210Z"
   },
   {
    "duration": 12,
    "start_time": "2023-03-01T17:24:16.848Z"
   },
   {
    "duration": 2124,
    "start_time": "2023-03-01T17:24:16.947Z"
   },
   {
    "duration": 8,
    "start_time": "2023-03-01T17:24:19.151Z"
   },
   {
    "duration": 1511,
    "start_time": "2023-03-01T17:38:58.269Z"
   },
   {
    "duration": 70,
    "start_time": "2023-03-01T17:38:59.782Z"
   },
   {
    "duration": 18,
    "start_time": "2023-03-01T17:38:59.854Z"
   },
   {
    "duration": 19,
    "start_time": "2023-03-01T17:38:59.875Z"
   },
   {
    "duration": 297,
    "start_time": "2023-03-01T17:38:59.897Z"
   },
   {
    "duration": 303,
    "start_time": "2023-03-01T17:39:00.197Z"
   },
   {
    "duration": 512,
    "start_time": "2023-03-01T17:39:00.502Z"
   },
   {
    "duration": 964,
    "start_time": "2023-03-01T17:39:01.016Z"
   },
   {
    "duration": 238,
    "start_time": "2023-03-01T17:39:01.981Z"
   },
   {
    "duration": 274,
    "start_time": "2023-03-01T17:39:02.220Z"
   },
   {
    "duration": 340,
    "start_time": "2023-03-01T17:39:02.495Z"
   },
   {
    "duration": 282,
    "start_time": "2023-03-01T17:39:02.837Z"
   },
   {
    "duration": 6,
    "start_time": "2023-03-01T17:39:03.121Z"
   },
   {
    "duration": 48,
    "start_time": "2023-03-01T17:39:03.146Z"
   },
   {
    "duration": 36,
    "start_time": "2023-03-01T17:39:03.197Z"
   },
   {
    "duration": 20,
    "start_time": "2023-03-01T17:39:03.244Z"
   },
   {
    "duration": 40,
    "start_time": "2023-03-01T17:39:03.266Z"
   },
   {
    "duration": 6,
    "start_time": "2023-03-01T17:39:03.308Z"
   },
   {
    "duration": 9,
    "start_time": "2023-03-01T17:39:03.315Z"
   },
   {
    "duration": 6,
    "start_time": "2023-03-01T17:39:03.326Z"
   },
   {
    "duration": 6,
    "start_time": "2023-03-01T17:39:03.347Z"
   },
   {
    "duration": 31,
    "start_time": "2023-03-01T17:39:03.356Z"
   },
   {
    "duration": 9,
    "start_time": "2023-03-01T17:39:03.388Z"
   },
   {
    "duration": 1257,
    "start_time": "2023-03-01T17:39:03.399Z"
   },
   {
    "duration": 6,
    "start_time": "2023-03-01T17:39:04.659Z"
   },
   {
    "duration": 1601,
    "start_time": "2023-03-01T17:39:04.669Z"
   },
   {
    "duration": 21,
    "start_time": "2023-03-01T17:39:06.355Z"
   },
   {
    "duration": 1655,
    "start_time": "2023-03-01T17:42:35.180Z"
   },
   {
    "duration": 97,
    "start_time": "2023-03-01T17:42:36.837Z"
   },
   {
    "duration": 20,
    "start_time": "2023-03-01T17:42:36.936Z"
   },
   {
    "duration": 57,
    "start_time": "2023-03-01T17:42:36.960Z"
   },
   {
    "duration": 269,
    "start_time": "2023-03-01T17:42:37.020Z"
   },
   {
    "duration": 272,
    "start_time": "2023-03-01T17:42:37.291Z"
   },
   {
    "duration": 519,
    "start_time": "2023-03-01T17:42:37.565Z"
   },
   {
    "duration": 942,
    "start_time": "2023-03-01T17:42:38.088Z"
   },
   {
    "duration": 284,
    "start_time": "2023-03-01T17:42:39.032Z"
   },
   {
    "duration": 254,
    "start_time": "2023-03-01T17:42:39.319Z"
   },
   {
    "duration": 317,
    "start_time": "2023-03-01T17:42:39.576Z"
   },
   {
    "duration": 252,
    "start_time": "2023-03-01T17:42:39.895Z"
   },
   {
    "duration": 9,
    "start_time": "2023-03-01T17:42:40.150Z"
   },
   {
    "duration": 58,
    "start_time": "2023-03-01T17:42:40.161Z"
   },
   {
    "duration": 43,
    "start_time": "2023-03-01T17:42:40.221Z"
   },
   {
    "duration": 20,
    "start_time": "2023-03-01T17:42:40.266Z"
   },
   {
    "duration": 25,
    "start_time": "2023-03-01T17:42:40.289Z"
   },
   {
    "duration": 10,
    "start_time": "2023-03-01T17:42:40.344Z"
   },
   {
    "duration": 45,
    "start_time": "2023-03-01T17:42:40.356Z"
   },
   {
    "duration": 10,
    "start_time": "2023-03-01T17:42:40.403Z"
   },
   {
    "duration": 72,
    "start_time": "2023-03-01T17:42:40.415Z"
   },
   {
    "duration": 12,
    "start_time": "2023-03-01T17:42:40.489Z"
   },
   {
    "duration": 26,
    "start_time": "2023-03-01T17:42:40.503Z"
   },
   {
    "duration": 2339,
    "start_time": "2023-03-01T17:42:40.531Z"
   },
   {
    "duration": 9,
    "start_time": "2023-03-01T17:42:42.873Z"
   },
   {
    "duration": 1965,
    "start_time": "2023-03-01T17:42:42.884Z"
   },
   {
    "duration": 14,
    "start_time": "2023-03-01T17:42:44.851Z"
   },
   {
    "duration": 17,
    "start_time": "2023-03-01T17:42:44.871Z"
   },
   {
    "duration": 10,
    "start_time": "2023-03-01T17:42:44.891Z"
   },
   {
    "duration": 323065,
    "start_time": "2023-03-01T17:42:44.902Z"
   },
   {
    "duration": 312640,
    "start_time": "2023-03-01T17:48:31.912Z"
   },
   {
    "duration": 3,
    "start_time": "2023-03-01T17:53:44.554Z"
   },
   {
    "duration": 129067,
    "start_time": "2023-03-01T17:56:55.079Z"
   },
   {
    "duration": 1708,
    "start_time": "2023-03-03T15:22:00.727Z"
   },
   {
    "duration": 153,
    "start_time": "2023-03-03T15:22:02.437Z"
   },
   {
    "duration": 13,
    "start_time": "2023-03-03T15:22:02.592Z"
   },
   {
    "duration": 29,
    "start_time": "2023-03-03T15:22:02.607Z"
   },
   {
    "duration": 277,
    "start_time": "2023-03-03T15:22:02.638Z"
   },
   {
    "duration": 232,
    "start_time": "2023-03-03T15:22:02.917Z"
   },
   {
    "duration": 419,
    "start_time": "2023-03-03T15:22:03.150Z"
   },
   {
    "duration": 953,
    "start_time": "2023-03-03T15:22:03.570Z"
   },
   {
    "duration": 224,
    "start_time": "2023-03-03T15:22:04.526Z"
   },
   {
    "duration": 228,
    "start_time": "2023-03-03T15:22:04.753Z"
   },
   {
    "duration": 271,
    "start_time": "2023-03-03T15:22:04.984Z"
   },
   {
    "duration": 250,
    "start_time": "2023-03-03T15:22:05.257Z"
   },
   {
    "duration": 16,
    "start_time": "2023-03-03T15:22:05.510Z"
   },
   {
    "duration": 37,
    "start_time": "2023-03-03T15:22:05.528Z"
   },
   {
    "duration": 41,
    "start_time": "2023-03-03T15:22:05.567Z"
   },
   {
    "duration": 24,
    "start_time": "2023-03-03T15:22:05.623Z"
   },
   {
    "duration": 144,
    "start_time": "2023-03-03T15:41:49.179Z"
   },
   {
    "duration": 1472,
    "start_time": "2023-03-03T15:41:57.875Z"
   },
   {
    "duration": 56,
    "start_time": "2023-03-03T15:41:59.349Z"
   },
   {
    "duration": 13,
    "start_time": "2023-03-03T15:41:59.407Z"
   },
   {
    "duration": 19,
    "start_time": "2023-03-03T15:41:59.422Z"
   },
   {
    "duration": 252,
    "start_time": "2023-03-03T15:41:59.444Z"
   },
   {
    "duration": 241,
    "start_time": "2023-03-03T15:41:59.698Z"
   },
   {
    "duration": 408,
    "start_time": "2023-03-03T15:41:59.941Z"
   },
   {
    "duration": 886,
    "start_time": "2023-03-03T15:42:00.350Z"
   },
   {
    "duration": 212,
    "start_time": "2023-03-03T15:42:01.238Z"
   },
   {
    "duration": 224,
    "start_time": "2023-03-03T15:42:01.452Z"
   },
   {
    "duration": 275,
    "start_time": "2023-03-03T15:42:01.677Z"
   },
   {
    "duration": 211,
    "start_time": "2023-03-03T15:42:01.954Z"
   },
   {
    "duration": 6,
    "start_time": "2023-03-03T15:42:02.167Z"
   },
   {
    "duration": 55,
    "start_time": "2023-03-03T15:42:02.176Z"
   },
   {
    "duration": 34,
    "start_time": "2023-03-03T15:42:02.233Z"
   },
   {
    "duration": 17,
    "start_time": "2023-03-03T15:42:02.270Z"
   },
   {
    "duration": 17,
    "start_time": "2023-03-03T15:45:14.823Z"
   },
   {
    "duration": 7,
    "start_time": "2023-03-03T15:46:30.333Z"
   },
   {
    "duration": 7,
    "start_time": "2023-03-03T15:46:54.368Z"
   },
   {
    "duration": 1583,
    "start_time": "2023-03-03T15:54:06.971Z"
   },
   {
    "duration": 57,
    "start_time": "2023-03-03T15:54:08.557Z"
   },
   {
    "duration": 14,
    "start_time": "2023-03-03T15:54:08.616Z"
   },
   {
    "duration": 22,
    "start_time": "2023-03-03T15:54:08.632Z"
   },
   {
    "duration": 298,
    "start_time": "2023-03-03T15:54:08.657Z"
   },
   {
    "duration": 294,
    "start_time": "2023-03-03T15:54:08.957Z"
   },
   {
    "duration": 420,
    "start_time": "2023-03-03T15:54:09.253Z"
   },
   {
    "duration": 899,
    "start_time": "2023-03-03T15:54:09.675Z"
   },
   {
    "duration": 236,
    "start_time": "2023-03-03T15:54:10.576Z"
   },
   {
    "duration": 238,
    "start_time": "2023-03-03T15:54:10.814Z"
   },
   {
    "duration": 291,
    "start_time": "2023-03-03T15:54:11.054Z"
   },
   {
    "duration": 248,
    "start_time": "2023-03-03T15:54:11.347Z"
   },
   {
    "duration": 5,
    "start_time": "2023-03-03T15:54:11.597Z"
   },
   {
    "duration": 29,
    "start_time": "2023-03-03T15:54:11.625Z"
   },
   {
    "duration": 33,
    "start_time": "2023-03-03T15:54:11.656Z"
   },
   {
    "duration": 36,
    "start_time": "2023-03-03T15:54:11.692Z"
   },
   {
    "duration": 10,
    "start_time": "2023-03-03T15:54:11.730Z"
   },
   {
    "duration": 7,
    "start_time": "2023-03-03T15:54:11.742Z"
   },
   {
    "duration": 8,
    "start_time": "2023-03-03T15:54:11.750Z"
   },
   {
    "duration": 19,
    "start_time": "2023-03-03T15:54:32.483Z"
   },
   {
    "duration": 6,
    "start_time": "2023-03-03T15:56:12.556Z"
   },
   {
    "duration": 21,
    "start_time": "2023-03-03T15:58:23.811Z"
   },
   {
    "duration": 6,
    "start_time": "2023-03-03T15:58:25.809Z"
   },
   {
    "duration": 7,
    "start_time": "2023-03-03T15:58:26.928Z"
   },
   {
    "duration": 5,
    "start_time": "2023-03-03T15:58:27.801Z"
   },
   {
    "duration": 1565,
    "start_time": "2023-03-03T15:58:38.287Z"
   },
   {
    "duration": 59,
    "start_time": "2023-03-03T15:58:39.855Z"
   },
   {
    "duration": 15,
    "start_time": "2023-03-03T15:58:39.916Z"
   },
   {
    "duration": 21,
    "start_time": "2023-03-03T15:58:39.933Z"
   },
   {
    "duration": 281,
    "start_time": "2023-03-03T15:58:39.956Z"
   },
   {
    "duration": 309,
    "start_time": "2023-03-03T15:58:40.238Z"
   },
   {
    "duration": 454,
    "start_time": "2023-03-03T15:58:40.549Z"
   },
   {
    "duration": 888,
    "start_time": "2023-03-03T15:58:41.005Z"
   },
   {
    "duration": 243,
    "start_time": "2023-03-03T15:58:41.896Z"
   },
   {
    "duration": 240,
    "start_time": "2023-03-03T15:58:42.141Z"
   },
   {
    "duration": 284,
    "start_time": "2023-03-03T15:58:42.384Z"
   },
   {
    "duration": 230,
    "start_time": "2023-03-03T15:58:42.670Z"
   },
   {
    "duration": 7,
    "start_time": "2023-03-03T15:58:42.902Z"
   },
   {
    "duration": 26,
    "start_time": "2023-03-03T15:58:42.923Z"
   },
   {
    "duration": 33,
    "start_time": "2023-03-03T15:58:42.951Z"
   },
   {
    "duration": 46,
    "start_time": "2023-03-03T15:58:42.986Z"
   },
   {
    "duration": 22,
    "start_time": "2023-03-03T15:58:43.034Z"
   },
   {
    "duration": 8,
    "start_time": "2023-03-03T15:58:43.058Z"
   },
   {
    "duration": 8,
    "start_time": "2023-03-03T15:58:43.069Z"
   },
   {
    "duration": 5,
    "start_time": "2023-03-03T15:58:43.123Z"
   },
   {
    "duration": 1478,
    "start_time": "2023-03-03T16:02:04.735Z"
   },
   {
    "duration": 58,
    "start_time": "2023-03-03T16:02:06.215Z"
   },
   {
    "duration": 17,
    "start_time": "2023-03-03T16:02:06.276Z"
   },
   {
    "duration": 40,
    "start_time": "2023-03-03T16:02:06.295Z"
   },
   {
    "duration": 253,
    "start_time": "2023-03-03T16:02:06.339Z"
   },
   {
    "duration": 261,
    "start_time": "2023-03-03T16:02:06.594Z"
   },
   {
    "duration": 404,
    "start_time": "2023-03-03T16:02:06.857Z"
   },
   {
    "duration": 907,
    "start_time": "2023-03-03T16:02:07.263Z"
   },
   {
    "duration": 225,
    "start_time": "2023-03-03T16:02:08.171Z"
   },
   {
    "duration": 218,
    "start_time": "2023-03-03T16:02:08.398Z"
   },
   {
    "duration": 273,
    "start_time": "2023-03-03T16:02:08.618Z"
   },
   {
    "duration": 263,
    "start_time": "2023-03-03T16:02:08.892Z"
   },
   {
    "duration": 6,
    "start_time": "2023-03-03T16:02:09.157Z"
   },
   {
    "duration": 57,
    "start_time": "2023-03-03T16:02:09.167Z"
   },
   {
    "duration": 45,
    "start_time": "2023-03-03T16:02:09.226Z"
   },
   {
    "duration": 17,
    "start_time": "2023-03-03T16:02:09.274Z"
   },
   {
    "duration": 44,
    "start_time": "2023-03-03T16:02:09.293Z"
   },
   {
    "duration": 7,
    "start_time": "2023-03-03T16:02:09.339Z"
   },
   {
    "duration": 8,
    "start_time": "2023-03-03T16:02:09.349Z"
   },
   {
    "duration": 6,
    "start_time": "2023-03-03T16:02:09.358Z"
   },
   {
    "duration": 7,
    "start_time": "2023-03-03T16:27:15.597Z"
   },
   {
    "duration": 116,
    "start_time": "2023-03-03T16:29:52.980Z"
   },
   {
    "duration": 1483,
    "start_time": "2023-03-03T16:30:07.642Z"
   },
   {
    "duration": 57,
    "start_time": "2023-03-03T16:30:09.127Z"
   },
   {
    "duration": 13,
    "start_time": "2023-03-03T16:30:09.185Z"
   },
   {
    "duration": 24,
    "start_time": "2023-03-03T16:30:09.200Z"
   },
   {
    "duration": 237,
    "start_time": "2023-03-03T16:30:09.226Z"
   },
   {
    "duration": 283,
    "start_time": "2023-03-03T16:30:09.465Z"
   },
   {
    "duration": 400,
    "start_time": "2023-03-03T16:30:09.750Z"
   },
   {
    "duration": 865,
    "start_time": "2023-03-03T16:30:10.153Z"
   },
   {
    "duration": 221,
    "start_time": "2023-03-03T16:30:11.024Z"
   },
   {
    "duration": 210,
    "start_time": "2023-03-03T16:30:11.247Z"
   },
   {
    "duration": 287,
    "start_time": "2023-03-03T16:30:11.460Z"
   },
   {
    "duration": 222,
    "start_time": "2023-03-03T16:30:11.749Z"
   },
   {
    "duration": 5,
    "start_time": "2023-03-03T16:30:11.972Z"
   },
   {
    "duration": 49,
    "start_time": "2023-03-03T16:30:11.979Z"
   },
   {
    "duration": 32,
    "start_time": "2023-03-03T16:30:12.030Z"
   },
   {
    "duration": 16,
    "start_time": "2023-03-03T16:30:12.064Z"
   },
   {
    "duration": 47,
    "start_time": "2023-03-03T16:30:12.081Z"
   },
   {
    "duration": 3,
    "start_time": "2023-03-03T16:30:12.131Z"
   },
   {
    "duration": 14,
    "start_time": "2023-03-03T16:30:12.139Z"
   },
   {
    "duration": 6,
    "start_time": "2023-03-03T16:30:12.155Z"
   },
   {
    "duration": 10,
    "start_time": "2023-03-03T16:30:12.163Z"
   },
   {
    "duration": 56,
    "start_time": "2023-03-03T16:30:12.174Z"
   },
   {
    "duration": 4,
    "start_time": "2023-03-03T16:30:12.231Z"
   },
   {
    "duration": 3,
    "start_time": "2023-03-03T16:30:47.247Z"
   },
   {
    "duration": 6,
    "start_time": "2023-03-03T16:30:54.284Z"
   },
   {
    "duration": 2,
    "start_time": "2023-03-03T16:33:13.406Z"
   },
   {
    "duration": 99,
    "start_time": "2023-03-03T16:34:46.529Z"
   },
   {
    "duration": 119,
    "start_time": "2023-03-03T16:35:06.080Z"
   },
   {
    "duration": 3,
    "start_time": "2023-03-03T16:35:12.213Z"
   },
   {
    "duration": 403,
    "start_time": "2023-03-03T16:35:12.917Z"
   },
   {
    "duration": 3,
    "start_time": "2023-03-03T16:35:13.629Z"
   },
   {
    "duration": 2,
    "start_time": "2023-03-03T16:35:19.617Z"
   },
   {
    "duration": 137,
    "start_time": "2023-03-03T16:35:21.097Z"
   },
   {
    "duration": 3,
    "start_time": "2023-03-03T16:35:22.392Z"
   },
   {
    "duration": 3,
    "start_time": "2023-03-03T16:38:25.822Z"
   },
   {
    "duration": 634,
    "start_time": "2023-03-03T16:38:26.694Z"
   },
   {
    "duration": 498,
    "start_time": "2023-03-03T16:38:40.526Z"
   },
   {
    "duration": 3,
    "start_time": "2023-03-03T16:39:15.307Z"
   },
   {
    "duration": 3,
    "start_time": "2023-03-03T16:43:22.517Z"
   },
   {
    "duration": 12,
    "start_time": "2023-03-03T16:43:23.230Z"
   },
   {
    "duration": 1519,
    "start_time": "2023-03-03T16:44:06.885Z"
   },
   {
    "duration": 57,
    "start_time": "2023-03-03T16:44:08.406Z"
   },
   {
    "duration": 14,
    "start_time": "2023-03-03T16:44:08.465Z"
   },
   {
    "duration": 21,
    "start_time": "2023-03-03T16:44:08.481Z"
   },
   {
    "duration": 264,
    "start_time": "2023-03-03T16:44:08.504Z"
   },
   {
    "duration": 267,
    "start_time": "2023-03-03T16:44:08.770Z"
   },
   {
    "duration": 391,
    "start_time": "2023-03-03T16:44:09.039Z"
   },
   {
    "duration": 826,
    "start_time": "2023-03-03T16:44:09.431Z"
   },
   {
    "duration": 237,
    "start_time": "2023-03-03T16:44:10.258Z"
   },
   {
    "duration": 216,
    "start_time": "2023-03-03T16:44:10.497Z"
   },
   {
    "duration": 279,
    "start_time": "2023-03-03T16:44:10.715Z"
   },
   {
    "duration": 218,
    "start_time": "2023-03-03T16:44:10.996Z"
   },
   {
    "duration": 4,
    "start_time": "2023-03-03T16:44:11.224Z"
   },
   {
    "duration": 32,
    "start_time": "2023-03-03T16:44:11.231Z"
   },
   {
    "duration": 31,
    "start_time": "2023-03-03T16:44:11.265Z"
   },
   {
    "duration": 31,
    "start_time": "2023-03-03T16:44:11.298Z"
   },
   {
    "duration": 17,
    "start_time": "2023-03-03T16:44:11.331Z"
   },
   {
    "duration": 2,
    "start_time": "2023-03-03T16:44:11.350Z"
   },
   {
    "duration": 8,
    "start_time": "2023-03-03T16:44:11.353Z"
   },
   {
    "duration": 4,
    "start_time": "2023-03-03T16:44:11.363Z"
   },
   {
    "duration": 7,
    "start_time": "2023-03-03T16:44:11.368Z"
   },
   {
    "duration": 81,
    "start_time": "2023-03-03T16:44:11.376Z"
   },
   {
    "duration": 13,
    "start_time": "2023-03-03T16:44:11.459Z"
   },
   {
    "duration": 11,
    "start_time": "2023-03-03T16:44:11.475Z"
   },
   {
    "duration": 9,
    "start_time": "2023-03-03T16:44:11.487Z"
   },
   {
    "duration": 21,
    "start_time": "2023-03-03T16:44:11.497Z"
   },
   {
    "duration": 206,
    "start_time": "2023-03-03T16:44:11.520Z"
   },
   {
    "duration": 2,
    "start_time": "2023-03-03T16:44:11.728Z"
   },
   {
    "duration": 4,
    "start_time": "2023-03-03T16:44:11.732Z"
   },
   {
    "duration": 4,
    "start_time": "2023-03-03T16:44:11.738Z"
   },
   {
    "duration": 587,
    "start_time": "2023-03-03T16:44:11.743Z"
   },
   {
    "duration": 3,
    "start_time": "2023-03-03T16:44:12.332Z"
   },
   {
    "duration": 21,
    "start_time": "2023-03-03T16:44:12.336Z"
   },
   {
    "duration": 66,
    "start_time": "2023-03-03T16:44:12.358Z"
   },
   {
    "duration": 6100,
    "start_time": "2023-03-03T16:44:12.426Z"
   },
   {
    "duration": 3,
    "start_time": "2023-03-03T16:44:52.047Z"
   },
   {
    "duration": 3,
    "start_time": "2023-03-03T16:46:03.493Z"
   },
   {
    "duration": 3,
    "start_time": "2023-03-03T16:46:27.383Z"
   },
   {
    "duration": 119,
    "start_time": "2023-03-03T16:46:28.295Z"
   },
   {
    "duration": 13,
    "start_time": "2023-03-03T16:47:18.887Z"
   },
   {
    "duration": 1634,
    "start_time": "2023-03-03T16:47:24.528Z"
   },
   {
    "duration": 56,
    "start_time": "2023-03-03T16:47:26.164Z"
   },
   {
    "duration": 12,
    "start_time": "2023-03-03T16:47:26.222Z"
   },
   {
    "duration": 20,
    "start_time": "2023-03-03T16:47:26.236Z"
   },
   {
    "duration": 257,
    "start_time": "2023-03-03T16:47:26.259Z"
   },
   {
    "duration": 317,
    "start_time": "2023-03-03T16:47:26.518Z"
   },
   {
    "duration": 319,
    "start_time": "2023-03-03T16:47:26.837Z"
   },
   {
    "duration": 840,
    "start_time": "2023-03-03T16:47:27.158Z"
   },
   {
    "duration": 227,
    "start_time": "2023-03-03T16:47:28.000Z"
   },
   {
    "duration": 219,
    "start_time": "2023-03-03T16:47:28.230Z"
   },
   {
    "duration": 266,
    "start_time": "2023-03-03T16:47:28.450Z"
   },
   {
    "duration": 235,
    "start_time": "2023-03-03T16:47:28.718Z"
   },
   {
    "duration": 6,
    "start_time": "2023-03-03T16:47:28.956Z"
   },
   {
    "duration": 29,
    "start_time": "2023-03-03T16:47:28.964Z"
   },
   {
    "duration": 165,
    "start_time": "2023-03-03T16:47:28.995Z"
   },
   {
    "duration": 16,
    "start_time": "2023-03-03T16:47:29.161Z"
   },
   {
    "duration": 18,
    "start_time": "2023-03-03T16:47:29.178Z"
   },
   {
    "duration": 26,
    "start_time": "2023-03-03T16:47:29.198Z"
   },
   {
    "duration": 17,
    "start_time": "2023-03-03T16:47:29.226Z"
   },
   {
    "duration": 5,
    "start_time": "2023-03-03T16:47:29.244Z"
   },
   {
    "duration": 17,
    "start_time": "2023-03-03T16:47:29.250Z"
   },
   {
    "duration": 16,
    "start_time": "2023-03-03T16:47:29.268Z"
   },
   {
    "duration": 6,
    "start_time": "2023-03-03T16:47:29.286Z"
   },
   {
    "duration": 24,
    "start_time": "2023-03-03T16:47:29.294Z"
   },
   {
    "duration": 2,
    "start_time": "2023-03-03T16:47:29.324Z"
   },
   {
    "duration": 4,
    "start_time": "2023-03-03T16:47:29.328Z"
   },
   {
    "duration": 191,
    "start_time": "2023-03-03T16:47:29.334Z"
   },
   {
    "duration": 3,
    "start_time": "2023-03-03T16:47:29.529Z"
   },
   {
    "duration": 4,
    "start_time": "2023-03-03T16:47:29.534Z"
   },
   {
    "duration": 4,
    "start_time": "2023-03-03T16:47:29.539Z"
   },
   {
    "duration": 486,
    "start_time": "2023-03-03T16:47:29.545Z"
   },
   {
    "duration": 2,
    "start_time": "2023-03-03T16:47:30.033Z"
   },
   {
    "duration": 16,
    "start_time": "2023-03-03T16:47:30.037Z"
   },
   {
    "duration": 7,
    "start_time": "2023-03-03T16:47:30.125Z"
   },
   {
    "duration": 6502,
    "start_time": "2023-03-03T16:47:30.134Z"
   },
   {
    "duration": 3,
    "start_time": "2023-03-03T16:47:36.638Z"
   },
   {
    "duration": 6,
    "start_time": "2023-03-03T16:47:36.643Z"
   },
   {
    "duration": 6,
    "start_time": "2023-03-03T16:47:36.651Z"
   },
   {
    "duration": 3488,
    "start_time": "2023-03-03T16:47:36.658Z"
   },
   {
    "duration": 3,
    "start_time": "2023-03-03T16:48:41.122Z"
   },
   {
    "duration": 8,
    "start_time": "2023-03-03T16:49:15.585Z"
   },
   {
    "duration": 198,
    "start_time": "2023-03-03T16:51:08.325Z"
   },
   {
    "duration": 3,
    "start_time": "2023-03-03T16:51:28.739Z"
   },
   {
    "duration": 352,
    "start_time": "2023-03-03T16:51:51.080Z"
   },
   {
    "duration": 4,
    "start_time": "2023-03-03T16:52:01.913Z"
   },
   {
    "duration": 6597,
    "start_time": "2023-03-03T16:52:16.641Z"
   },
   {
    "duration": 3,
    "start_time": "2023-03-03T16:52:35.232Z"
   },
   {
    "duration": 2745,
    "start_time": "2023-03-03T16:52:47.583Z"
   },
   {
    "duration": 2,
    "start_time": "2023-03-03T16:52:59.784Z"
   },
   {
    "duration": 9,
    "start_time": "2023-03-03T16:53:37.938Z"
   },
   {
    "duration": 10,
    "start_time": "2023-03-03T16:56:02.248Z"
   },
   {
    "duration": 2,
    "start_time": "2023-03-03T16:56:05.833Z"
   },
   {
    "duration": 10,
    "start_time": "2023-03-03T16:56:06.598Z"
   },
   {
    "duration": 9,
    "start_time": "2023-03-03T16:56:23.196Z"
   },
   {
    "duration": 1579,
    "start_time": "2023-03-03T16:57:07.980Z"
   },
   {
    "duration": 57,
    "start_time": "2023-03-03T16:57:09.561Z"
   },
   {
    "duration": 15,
    "start_time": "2023-03-03T16:57:09.620Z"
   },
   {
    "duration": 24,
    "start_time": "2023-03-03T16:57:09.637Z"
   },
   {
    "duration": 261,
    "start_time": "2023-03-03T16:57:09.664Z"
   },
   {
    "duration": 315,
    "start_time": "2023-03-03T16:57:09.927Z"
   },
   {
    "duration": 346,
    "start_time": "2023-03-03T16:57:10.244Z"
   },
   {
    "duration": 893,
    "start_time": "2023-03-03T16:57:10.592Z"
   },
   {
    "duration": 220,
    "start_time": "2023-03-03T16:57:11.486Z"
   },
   {
    "duration": 219,
    "start_time": "2023-03-03T16:57:11.707Z"
   },
   {
    "duration": 275,
    "start_time": "2023-03-03T16:57:11.928Z"
   },
   {
    "duration": 221,
    "start_time": "2023-03-03T16:57:12.205Z"
   },
   {
    "duration": 5,
    "start_time": "2023-03-03T16:57:12.428Z"
   },
   {
    "duration": 138,
    "start_time": "2023-03-03T16:57:12.436Z"
   },
   {
    "duration": 31,
    "start_time": "2023-03-03T16:57:12.576Z"
   },
   {
    "duration": 28,
    "start_time": "2023-03-03T16:57:12.609Z"
   },
   {
    "duration": 16,
    "start_time": "2023-03-03T16:57:12.639Z"
   },
   {
    "duration": 3,
    "start_time": "2023-03-03T16:57:12.657Z"
   },
   {
    "duration": 9,
    "start_time": "2023-03-03T16:57:12.661Z"
   },
   {
    "duration": 5,
    "start_time": "2023-03-03T16:57:12.672Z"
   },
   {
    "duration": 46,
    "start_time": "2023-03-03T16:57:12.679Z"
   },
   {
    "duration": 16,
    "start_time": "2023-03-03T16:57:12.727Z"
   },
   {
    "duration": 6,
    "start_time": "2023-03-03T16:57:12.745Z"
   },
   {
    "duration": 9,
    "start_time": "2023-03-03T16:57:12.752Z"
   },
   {
    "duration": 3,
    "start_time": "2023-03-03T16:57:12.762Z"
   },
   {
    "duration": 3,
    "start_time": "2023-03-03T16:57:12.767Z"
   },
   {
    "duration": 252,
    "start_time": "2023-03-03T16:57:12.772Z"
   },
   {
    "duration": 3,
    "start_time": "2023-03-03T16:57:13.025Z"
   },
   {
    "duration": 10,
    "start_time": "2023-03-03T16:57:13.029Z"
   },
   {
    "duration": 17,
    "start_time": "2023-03-03T16:57:13.040Z"
   },
   {
    "duration": 474,
    "start_time": "2023-03-03T16:57:13.059Z"
   },
   {
    "duration": 3,
    "start_time": "2023-03-03T16:57:13.535Z"
   },
   {
    "duration": 85,
    "start_time": "2023-03-03T16:57:13.540Z"
   },
   {
    "duration": 7,
    "start_time": "2023-03-03T16:57:13.627Z"
   },
   {
    "duration": 7090,
    "start_time": "2023-03-03T16:57:13.635Z"
   },
   {
    "duration": 2,
    "start_time": "2023-03-03T16:57:20.727Z"
   },
   {
    "duration": 8,
    "start_time": "2023-03-03T16:57:20.731Z"
   },
   {
    "duration": 4,
    "start_time": "2023-03-03T16:57:20.741Z"
   },
   {
    "duration": 2831,
    "start_time": "2023-03-03T16:57:20.747Z"
   },
   {
    "duration": 3,
    "start_time": "2023-03-03T16:57:23.580Z"
   },
   {
    "duration": 13,
    "start_time": "2023-03-03T16:57:23.588Z"
   },
   {
    "duration": 224,
    "start_time": "2023-03-03T16:57:23.603Z"
   },
   {
    "duration": 3,
    "start_time": "2023-03-03T16:57:23.829Z"
   },
   {
    "duration": 691,
    "start_time": "2023-03-03T16:57:23.834Z"
   },
   {
    "duration": 3,
    "start_time": "2023-03-03T16:57:24.527Z"
   },
   {
    "duration": 6394,
    "start_time": "2023-03-03T16:57:24.531Z"
   },
   {
    "duration": 3,
    "start_time": "2023-03-03T16:57:30.926Z"
   },
   {
    "duration": 2738,
    "start_time": "2023-03-03T16:57:30.931Z"
   },
   {
    "duration": 3,
    "start_time": "2023-03-03T16:57:33.670Z"
   },
   {
    "duration": 12,
    "start_time": "2023-03-03T16:57:33.675Z"
   },
   {
    "duration": 123,
    "start_time": "2023-03-03T17:31:38.698Z"
   },
   {
    "duration": 1543,
    "start_time": "2023-03-03T17:34:51.883Z"
   },
   {
    "duration": 56,
    "start_time": "2023-03-03T17:34:53.428Z"
   },
   {
    "duration": 12,
    "start_time": "2023-03-03T17:34:53.486Z"
   },
   {
    "duration": 19,
    "start_time": "2023-03-03T17:34:53.501Z"
   },
   {
    "duration": 232,
    "start_time": "2023-03-03T17:34:53.524Z"
   },
   {
    "duration": 308,
    "start_time": "2023-03-03T17:34:53.758Z"
   },
   {
    "duration": 326,
    "start_time": "2023-03-03T17:34:54.067Z"
   },
   {
    "duration": 815,
    "start_time": "2023-03-03T17:34:54.395Z"
   },
   {
    "duration": 201,
    "start_time": "2023-03-03T17:34:55.213Z"
   },
   {
    "duration": 206,
    "start_time": "2023-03-03T17:34:55.423Z"
   },
   {
    "duration": 5,
    "start_time": "2023-03-03T17:34:55.631Z"
   },
   {
    "duration": 28,
    "start_time": "2023-03-03T17:34:55.638Z"
   },
   {
    "duration": 31,
    "start_time": "2023-03-03T17:34:55.667Z"
   },
   {
    "duration": 14,
    "start_time": "2023-03-03T17:34:55.724Z"
   },
   {
    "duration": 16,
    "start_time": "2023-03-03T17:34:55.740Z"
   },
   {
    "duration": 2,
    "start_time": "2023-03-03T17:34:55.758Z"
   },
   {
    "duration": 8,
    "start_time": "2023-03-03T17:34:55.761Z"
   },
   {
    "duration": 5,
    "start_time": "2023-03-03T17:34:55.770Z"
   },
   {
    "duration": 7,
    "start_time": "2023-03-03T17:34:55.776Z"
   },
   {
    "duration": 48,
    "start_time": "2023-03-03T17:34:55.784Z"
   },
   {
    "duration": 3,
    "start_time": "2023-03-03T17:34:55.834Z"
   },
   {
    "duration": 6,
    "start_time": "2023-03-03T17:34:55.838Z"
   },
   {
    "duration": 4,
    "start_time": "2023-03-03T17:34:55.845Z"
   },
   {
    "duration": 6,
    "start_time": "2023-03-03T17:34:55.850Z"
   },
   {
    "duration": 360,
    "start_time": "2023-03-03T17:34:55.858Z"
   },
   {
    "duration": 0,
    "start_time": "2023-03-03T17:34:56.224Z"
   },
   {
    "duration": 0,
    "start_time": "2023-03-03T17:34:56.225Z"
   },
   {
    "duration": 0,
    "start_time": "2023-03-03T17:34:56.226Z"
   },
   {
    "duration": 0,
    "start_time": "2023-03-03T17:34:56.227Z"
   },
   {
    "duration": 0,
    "start_time": "2023-03-03T17:34:56.228Z"
   },
   {
    "duration": 0,
    "start_time": "2023-03-03T17:34:56.229Z"
   },
   {
    "duration": 0,
    "start_time": "2023-03-03T17:34:56.230Z"
   },
   {
    "duration": 0,
    "start_time": "2023-03-03T17:34:56.231Z"
   },
   {
    "duration": 0,
    "start_time": "2023-03-03T17:34:56.232Z"
   },
   {
    "duration": 0,
    "start_time": "2023-03-03T17:34:56.233Z"
   },
   {
    "duration": 0,
    "start_time": "2023-03-03T17:34:56.234Z"
   },
   {
    "duration": 0,
    "start_time": "2023-03-03T17:34:56.235Z"
   },
   {
    "duration": 0,
    "start_time": "2023-03-03T17:34:56.236Z"
   },
   {
    "duration": 0,
    "start_time": "2023-03-03T17:34:56.237Z"
   },
   {
    "duration": 0,
    "start_time": "2023-03-03T17:34:56.238Z"
   },
   {
    "duration": 0,
    "start_time": "2023-03-03T17:34:56.239Z"
   },
   {
    "duration": 0,
    "start_time": "2023-03-03T17:34:56.240Z"
   },
   {
    "duration": 0,
    "start_time": "2023-03-03T17:34:56.241Z"
   },
   {
    "duration": 0,
    "start_time": "2023-03-03T17:34:56.242Z"
   },
   {
    "duration": 0,
    "start_time": "2023-03-03T17:34:56.243Z"
   },
   {
    "duration": 0,
    "start_time": "2023-03-03T17:34:56.244Z"
   },
   {
    "duration": 0,
    "start_time": "2023-03-03T17:34:56.245Z"
   },
   {
    "duration": 0,
    "start_time": "2023-03-03T17:34:56.246Z"
   },
   {
    "duration": 1620,
    "start_time": "2023-03-03T17:36:13.038Z"
   },
   {
    "duration": 56,
    "start_time": "2023-03-03T17:36:14.660Z"
   },
   {
    "duration": 14,
    "start_time": "2023-03-03T17:36:14.718Z"
   },
   {
    "duration": 21,
    "start_time": "2023-03-03T17:36:14.734Z"
   },
   {
    "duration": 250,
    "start_time": "2023-03-03T17:36:14.758Z"
   },
   {
    "duration": 315,
    "start_time": "2023-03-03T17:36:15.010Z"
   },
   {
    "duration": 326,
    "start_time": "2023-03-03T17:36:15.326Z"
   },
   {
    "duration": 819,
    "start_time": "2023-03-03T17:36:15.654Z"
   },
   {
    "duration": 211,
    "start_time": "2023-03-03T17:36:16.475Z"
   },
   {
    "duration": 214,
    "start_time": "2023-03-03T17:36:16.688Z"
   },
   {
    "duration": 4,
    "start_time": "2023-03-03T17:36:16.904Z"
   },
   {
    "duration": 37,
    "start_time": "2023-03-03T17:36:16.910Z"
   },
   {
    "duration": 30,
    "start_time": "2023-03-03T17:36:16.949Z"
   },
   {
    "duration": 14,
    "start_time": "2023-03-03T17:36:16.982Z"
   },
   {
    "duration": 41,
    "start_time": "2023-03-03T17:36:16.998Z"
   },
   {
    "duration": 2,
    "start_time": "2023-03-03T17:36:17.041Z"
   },
   {
    "duration": 7,
    "start_time": "2023-03-03T17:36:17.045Z"
   },
   {
    "duration": 4,
    "start_time": "2023-03-03T17:36:17.053Z"
   },
   {
    "duration": 6,
    "start_time": "2023-03-03T17:36:17.059Z"
   },
   {
    "duration": 20,
    "start_time": "2023-03-03T17:36:17.067Z"
   },
   {
    "duration": 35,
    "start_time": "2023-03-03T17:36:17.089Z"
   },
   {
    "duration": 5,
    "start_time": "2023-03-03T17:36:17.126Z"
   },
   {
    "duration": 2,
    "start_time": "2023-03-03T17:36:17.133Z"
   },
   {
    "duration": 5,
    "start_time": "2023-03-03T17:36:17.137Z"
   },
   {
    "duration": 181,
    "start_time": "2023-03-03T17:36:17.144Z"
   },
   {
    "duration": 3,
    "start_time": "2023-03-03T17:36:17.326Z"
   },
   {
    "duration": 7,
    "start_time": "2023-03-03T17:36:17.331Z"
   },
   {
    "duration": 5,
    "start_time": "2023-03-03T17:36:17.340Z"
   },
   {
    "duration": 487,
    "start_time": "2023-03-03T17:36:17.346Z"
   },
   {
    "duration": 3,
    "start_time": "2023-03-03T17:36:17.835Z"
   },
   {
    "duration": 9,
    "start_time": "2023-03-03T17:36:17.839Z"
   },
   {
    "duration": 5,
    "start_time": "2023-03-03T17:36:17.925Z"
   },
   {
    "duration": 6010,
    "start_time": "2023-03-03T17:36:17.932Z"
   },
   {
    "duration": 3,
    "start_time": "2023-03-03T17:36:23.943Z"
   },
   {
    "duration": 31,
    "start_time": "2023-03-03T17:36:23.948Z"
   },
   {
    "duration": 17,
    "start_time": "2023-03-03T17:36:23.981Z"
   },
   {
    "duration": 2784,
    "start_time": "2023-03-03T17:36:24.000Z"
   },
   {
    "duration": 3,
    "start_time": "2023-03-03T17:36:26.785Z"
   },
   {
    "duration": 19,
    "start_time": "2023-03-03T17:36:26.789Z"
   },
   {
    "duration": 43,
    "start_time": "2023-03-03T17:36:26.810Z"
   },
   {
    "duration": 94,
    "start_time": "2023-03-03T17:36:26.931Z"
   },
   {
    "duration": 412,
    "start_time": "2023-03-03T17:36:27.027Z"
   },
   {
    "duration": 84,
    "start_time": "2023-03-03T17:36:27.440Z"
   },
   {
    "duration": 5998,
    "start_time": "2023-03-03T17:36:27.526Z"
   },
   {
    "duration": 4,
    "start_time": "2023-03-03T17:36:33.526Z"
   },
   {
    "duration": 2730,
    "start_time": "2023-03-03T17:36:33.532Z"
   },
   {
    "duration": 3,
    "start_time": "2023-03-03T17:36:36.263Z"
   },
   {
    "duration": 18,
    "start_time": "2023-03-03T17:36:36.267Z"
   },
   {
    "duration": 1587,
    "start_time": "2023-03-03T17:44:04.134Z"
   },
   {
    "duration": 58,
    "start_time": "2023-03-03T17:44:05.723Z"
   },
   {
    "duration": 14,
    "start_time": "2023-03-03T17:44:05.782Z"
   },
   {
    "duration": 20,
    "start_time": "2023-03-03T17:44:05.799Z"
   },
   {
    "duration": 233,
    "start_time": "2023-03-03T17:44:05.821Z"
   },
   {
    "duration": 324,
    "start_time": "2023-03-03T17:44:06.056Z"
   },
   {
    "duration": 323,
    "start_time": "2023-03-03T17:44:06.382Z"
   },
   {
    "duration": 818,
    "start_time": "2023-03-03T17:44:06.706Z"
   },
   {
    "duration": 209,
    "start_time": "2023-03-03T17:44:07.526Z"
   },
   {
    "duration": 218,
    "start_time": "2023-03-03T17:44:07.738Z"
   },
   {
    "duration": 5,
    "start_time": "2023-03-03T17:44:07.957Z"
   },
   {
    "duration": 31,
    "start_time": "2023-03-03T17:44:07.964Z"
   },
   {
    "duration": 50,
    "start_time": "2023-03-03T17:44:07.997Z"
   },
   {
    "duration": 14,
    "start_time": "2023-03-03T17:44:08.049Z"
   },
   {
    "duration": 16,
    "start_time": "2023-03-03T17:44:08.065Z"
   },
   {
    "duration": 2,
    "start_time": "2023-03-03T17:44:08.083Z"
   },
   {
    "duration": 17,
    "start_time": "2023-03-03T17:44:08.087Z"
   },
   {
    "duration": 5,
    "start_time": "2023-03-03T17:44:08.124Z"
   },
   {
    "duration": 9,
    "start_time": "2023-03-03T17:44:08.130Z"
   },
   {
    "duration": 23,
    "start_time": "2023-03-03T17:44:08.140Z"
   },
   {
    "duration": 3,
    "start_time": "2023-03-03T17:44:08.165Z"
   },
   {
    "duration": 8,
    "start_time": "2023-03-03T17:44:08.169Z"
   },
   {
    "duration": 2,
    "start_time": "2023-03-03T17:44:08.179Z"
   },
   {
    "duration": 4,
    "start_time": "2023-03-03T17:44:08.183Z"
   },
   {
    "duration": 231,
    "start_time": "2023-03-03T17:44:08.193Z"
   },
   {
    "duration": 3,
    "start_time": "2023-03-03T17:44:08.426Z"
   },
   {
    "duration": 14,
    "start_time": "2023-03-03T17:44:08.431Z"
   },
   {
    "duration": 3,
    "start_time": "2023-03-03T17:44:08.448Z"
   },
   {
    "duration": 382,
    "start_time": "2023-03-03T17:44:08.453Z"
   },
   {
    "duration": 89,
    "start_time": "2023-03-03T17:44:08.836Z"
   },
   {
    "duration": 5,
    "start_time": "2023-03-03T17:44:08.927Z"
   },
   {
    "duration": 3,
    "start_time": "2023-03-03T17:44:08.936Z"
   },
   {
    "duration": 5883,
    "start_time": "2023-03-03T17:44:08.942Z"
   },
   {
    "duration": 3,
    "start_time": "2023-03-03T17:44:14.827Z"
   },
   {
    "duration": 5,
    "start_time": "2023-03-03T17:44:14.831Z"
   },
   {
    "duration": 14,
    "start_time": "2023-03-03T17:44:14.838Z"
   },
   {
    "duration": 2902,
    "start_time": "2023-03-03T17:44:14.854Z"
   },
   {
    "duration": 3,
    "start_time": "2023-03-03T17:44:17.757Z"
   },
   {
    "duration": 11,
    "start_time": "2023-03-03T17:44:17.761Z"
   },
   {
    "duration": 151,
    "start_time": "2023-03-03T17:44:17.773Z"
   },
   {
    "duration": 4,
    "start_time": "2023-03-03T17:44:17.927Z"
   },
   {
    "duration": 492,
    "start_time": "2023-03-03T17:44:17.933Z"
   },
   {
    "duration": 3,
    "start_time": "2023-03-03T17:44:18.426Z"
   },
   {
    "duration": 6122,
    "start_time": "2023-03-03T17:44:18.431Z"
   },
   {
    "duration": 2,
    "start_time": "2023-03-03T17:44:24.555Z"
   },
   {
    "duration": 2699,
    "start_time": "2023-03-03T17:44:24.559Z"
   },
   {
    "duration": 3,
    "start_time": "2023-03-03T17:44:27.260Z"
   },
   {
    "duration": 11,
    "start_time": "2023-03-03T17:44:27.265Z"
   },
   {
    "duration": 2852,
    "start_time": "2023-03-04T04:50:08.290Z"
   },
   {
    "duration": 136,
    "start_time": "2023-03-04T04:50:11.144Z"
   },
   {
    "duration": 15,
    "start_time": "2023-03-04T04:50:22.391Z"
   },
   {
    "duration": 20,
    "start_time": "2023-03-04T04:52:23.337Z"
   },
   {
    "duration": 250,
    "start_time": "2023-03-04T04:52:27.577Z"
   },
   {
    "duration": 307,
    "start_time": "2023-03-04T04:52:29.343Z"
   },
   {
    "duration": 336,
    "start_time": "2023-03-04T04:52:30.261Z"
   },
   {
    "duration": 807,
    "start_time": "2023-03-04T04:52:31.166Z"
   },
   {
    "duration": 201,
    "start_time": "2023-03-04T04:52:32.469Z"
   },
   {
    "duration": 214,
    "start_time": "2023-03-04T04:52:32.946Z"
   },
   {
    "duration": 4,
    "start_time": "2023-03-04T04:52:33.900Z"
   },
   {
    "duration": 25,
    "start_time": "2023-03-04T04:52:34.830Z"
   },
   {
    "duration": 33,
    "start_time": "2023-03-04T04:52:35.728Z"
   },
   {
    "duration": 21,
    "start_time": "2023-03-04T04:52:36.374Z"
   },
   {
    "duration": 24,
    "start_time": "2023-03-04T04:56:50.364Z"
   },
   {
    "duration": 17,
    "start_time": "2023-03-04T04:57:19.078Z"
   },
   {
    "duration": 7,
    "start_time": "2023-03-04T04:57:48.159Z"
   },
   {
    "duration": 5,
    "start_time": "2023-03-04T04:57:49.038Z"
   },
   {
    "duration": 7,
    "start_time": "2023-03-04T04:58:59.726Z"
   },
   {
    "duration": 13,
    "start_time": "2023-03-04T04:59:00.391Z"
   },
   {
    "duration": 122,
    "start_time": "2023-03-04T05:00:37.468Z"
   },
   {
    "duration": 4,
    "start_time": "2023-03-04T05:00:40.148Z"
   },
   {
    "duration": 6,
    "start_time": "2023-03-04T05:00:41.145Z"
   },
   {
    "duration": 2,
    "start_time": "2023-03-04T05:00:42.266Z"
   },
   {
    "duration": 2341,
    "start_time": "2023-03-04T07:39:41.113Z"
   },
   {
    "duration": 176,
    "start_time": "2023-03-04T07:39:43.459Z"
   },
   {
    "duration": 32,
    "start_time": "2023-03-04T07:39:43.641Z"
   },
   {
    "duration": 101,
    "start_time": "2023-03-04T07:39:43.675Z"
   },
   {
    "duration": 0,
    "start_time": "2023-03-04T07:39:43.779Z"
   },
   {
    "duration": 0,
    "start_time": "2023-03-04T07:39:43.783Z"
   },
   {
    "duration": 0,
    "start_time": "2023-03-04T07:39:43.785Z"
   },
   {
    "duration": 0,
    "start_time": "2023-03-04T07:39:43.787Z"
   },
   {
    "duration": 0,
    "start_time": "2023-03-04T07:39:43.789Z"
   },
   {
    "duration": 0,
    "start_time": "2023-03-04T07:39:43.792Z"
   },
   {
    "duration": 0,
    "start_time": "2023-03-04T07:39:43.793Z"
   },
   {
    "duration": 0,
    "start_time": "2023-03-04T07:39:43.795Z"
   },
   {
    "duration": 0,
    "start_time": "2023-03-04T07:39:43.796Z"
   },
   {
    "duration": 0,
    "start_time": "2023-03-04T07:39:43.798Z"
   },
   {
    "duration": 0,
    "start_time": "2023-03-04T07:39:43.799Z"
   },
   {
    "duration": 0,
    "start_time": "2023-03-04T07:39:43.801Z"
   },
   {
    "duration": 0,
    "start_time": "2023-03-04T07:39:43.803Z"
   },
   {
    "duration": 0,
    "start_time": "2023-03-04T07:39:43.804Z"
   },
   {
    "duration": 0,
    "start_time": "2023-03-04T07:39:43.806Z"
   },
   {
    "duration": 0,
    "start_time": "2023-03-04T07:39:43.808Z"
   },
   {
    "duration": 0,
    "start_time": "2023-03-04T07:39:43.809Z"
   },
   {
    "duration": 0,
    "start_time": "2023-03-04T07:39:43.812Z"
   },
   {
    "duration": 0,
    "start_time": "2023-03-04T07:39:43.814Z"
   },
   {
    "duration": 0,
    "start_time": "2023-03-04T07:39:43.816Z"
   },
   {
    "duration": 0,
    "start_time": "2023-03-04T07:39:43.817Z"
   },
   {
    "duration": 0,
    "start_time": "2023-03-04T07:39:43.818Z"
   },
   {
    "duration": 0,
    "start_time": "2023-03-04T07:39:43.820Z"
   },
   {
    "duration": 0,
    "start_time": "2023-03-04T07:39:43.821Z"
   },
   {
    "duration": 0,
    "start_time": "2023-03-04T07:39:43.821Z"
   },
   {
    "duration": 0,
    "start_time": "2023-03-04T07:39:43.822Z"
   },
   {
    "duration": 0,
    "start_time": "2023-03-04T07:39:43.823Z"
   },
   {
    "duration": 0,
    "start_time": "2023-03-04T07:39:43.824Z"
   },
   {
    "duration": 0,
    "start_time": "2023-03-04T07:39:43.825Z"
   },
   {
    "duration": 0,
    "start_time": "2023-03-04T07:39:43.826Z"
   },
   {
    "duration": 0,
    "start_time": "2023-03-04T07:39:43.827Z"
   },
   {
    "duration": 0,
    "start_time": "2023-03-04T07:39:43.828Z"
   },
   {
    "duration": 0,
    "start_time": "2023-03-04T07:39:43.829Z"
   },
   {
    "duration": 0,
    "start_time": "2023-03-04T07:39:43.830Z"
   },
   {
    "duration": 0,
    "start_time": "2023-03-04T07:39:43.835Z"
   },
   {
    "duration": 0,
    "start_time": "2023-03-04T07:39:43.838Z"
   },
   {
    "duration": 0,
    "start_time": "2023-03-04T07:39:43.839Z"
   },
   {
    "duration": 0,
    "start_time": "2023-03-04T07:39:43.840Z"
   },
   {
    "duration": 0,
    "start_time": "2023-03-04T07:39:43.841Z"
   },
   {
    "duration": 0,
    "start_time": "2023-03-04T07:39:43.842Z"
   },
   {
    "duration": 0,
    "start_time": "2023-03-04T07:39:43.849Z"
   },
   {
    "duration": 0,
    "start_time": "2023-03-04T07:39:43.850Z"
   },
   {
    "duration": 0,
    "start_time": "2023-03-04T07:39:43.852Z"
   },
   {
    "duration": 0,
    "start_time": "2023-03-04T07:39:43.853Z"
   },
   {
    "duration": 0,
    "start_time": "2023-03-04T07:39:43.855Z"
   },
   {
    "duration": 4,
    "start_time": "2023-03-04T07:40:45.250Z"
   },
   {
    "duration": 5,
    "start_time": "2023-03-04T07:40:50.960Z"
   },
   {
    "duration": 47,
    "start_time": "2023-03-04T07:47:31.974Z"
   },
   {
    "duration": 33,
    "start_time": "2023-03-04T08:11:36.673Z"
   },
   {
    "duration": 8,
    "start_time": "2023-03-04T08:18:25.284Z"
   },
   {
    "duration": 155,
    "start_time": "2023-03-04T08:18:28.909Z"
   },
   {
    "duration": 5,
    "start_time": "2023-03-04T08:18:35.981Z"
   },
   {
    "duration": 55,
    "start_time": "2023-03-04T08:52:54.579Z"
   },
   {
    "duration": 33,
    "start_time": "2023-03-04T08:53:09.844Z"
   },
   {
    "duration": 1873,
    "start_time": "2023-03-04T08:55:46.861Z"
   },
   {
    "duration": 89,
    "start_time": "2023-03-04T08:55:48.737Z"
   },
   {
    "duration": 27,
    "start_time": "2023-03-04T08:55:48.828Z"
   },
   {
    "duration": 22,
    "start_time": "2023-03-04T08:55:48.862Z"
   },
   {
    "duration": 77,
    "start_time": "2023-03-04T08:55:48.887Z"
   },
   {
    "duration": 0,
    "start_time": "2023-03-04T08:55:48.968Z"
   },
   {
    "duration": 0,
    "start_time": "2023-03-04T08:55:48.969Z"
   },
   {
    "duration": 0,
    "start_time": "2023-03-04T08:55:48.974Z"
   },
   {
    "duration": 0,
    "start_time": "2023-03-04T08:55:48.975Z"
   },
   {
    "duration": 0,
    "start_time": "2023-03-04T08:55:48.977Z"
   },
   {
    "duration": 0,
    "start_time": "2023-03-04T08:55:48.978Z"
   },
   {
    "duration": 0,
    "start_time": "2023-03-04T08:55:48.979Z"
   },
   {
    "duration": 0,
    "start_time": "2023-03-04T08:55:48.981Z"
   },
   {
    "duration": 0,
    "start_time": "2023-03-04T08:55:48.982Z"
   },
   {
    "duration": 0,
    "start_time": "2023-03-04T08:55:48.983Z"
   },
   {
    "duration": 0,
    "start_time": "2023-03-04T08:55:48.985Z"
   },
   {
    "duration": 0,
    "start_time": "2023-03-04T08:55:48.986Z"
   },
   {
    "duration": 0,
    "start_time": "2023-03-04T08:55:48.987Z"
   },
   {
    "duration": 0,
    "start_time": "2023-03-04T08:55:48.988Z"
   },
   {
    "duration": 0,
    "start_time": "2023-03-04T08:55:48.989Z"
   },
   {
    "duration": 0,
    "start_time": "2023-03-04T08:55:48.991Z"
   },
   {
    "duration": 0,
    "start_time": "2023-03-04T08:55:48.992Z"
   },
   {
    "duration": 0,
    "start_time": "2023-03-04T08:55:48.994Z"
   },
   {
    "duration": 0,
    "start_time": "2023-03-04T08:55:48.995Z"
   },
   {
    "duration": 0,
    "start_time": "2023-03-04T08:55:48.997Z"
   },
   {
    "duration": 0,
    "start_time": "2023-03-04T08:55:48.998Z"
   },
   {
    "duration": 0,
    "start_time": "2023-03-04T08:55:48.999Z"
   },
   {
    "duration": 0,
    "start_time": "2023-03-04T08:55:49.000Z"
   },
   {
    "duration": 0,
    "start_time": "2023-03-04T08:55:49.002Z"
   },
   {
    "duration": 0,
    "start_time": "2023-03-04T08:55:49.004Z"
   },
   {
    "duration": 0,
    "start_time": "2023-03-04T08:55:49.005Z"
   },
   {
    "duration": 0,
    "start_time": "2023-03-04T08:55:49.006Z"
   },
   {
    "duration": 0,
    "start_time": "2023-03-04T08:55:49.008Z"
   },
   {
    "duration": 0,
    "start_time": "2023-03-04T08:55:49.027Z"
   },
   {
    "duration": 0,
    "start_time": "2023-03-04T08:55:49.028Z"
   },
   {
    "duration": 0,
    "start_time": "2023-03-04T08:55:49.043Z"
   },
   {
    "duration": 0,
    "start_time": "2023-03-04T08:55:49.044Z"
   },
   {
    "duration": 0,
    "start_time": "2023-03-04T08:55:49.044Z"
   },
   {
    "duration": 0,
    "start_time": "2023-03-04T08:55:49.045Z"
   },
   {
    "duration": 0,
    "start_time": "2023-03-04T08:55:49.046Z"
   },
   {
    "duration": 0,
    "start_time": "2023-03-04T08:55:49.049Z"
   },
   {
    "duration": 1,
    "start_time": "2023-03-04T08:55:49.049Z"
   },
   {
    "duration": 0,
    "start_time": "2023-03-04T08:55:49.050Z"
   },
   {
    "duration": 0,
    "start_time": "2023-03-04T08:55:49.051Z"
   },
   {
    "duration": 0,
    "start_time": "2023-03-04T08:55:49.052Z"
   },
   {
    "duration": 0,
    "start_time": "2023-03-04T08:55:49.053Z"
   },
   {
    "duration": 0,
    "start_time": "2023-03-04T08:55:49.054Z"
   },
   {
    "duration": 0,
    "start_time": "2023-03-04T08:55:49.054Z"
   },
   {
    "duration": 0,
    "start_time": "2023-03-04T08:55:49.055Z"
   },
   {
    "duration": 0,
    "start_time": "2023-03-04T08:55:49.056Z"
   },
   {
    "duration": 1856,
    "start_time": "2023-03-04T08:56:35.735Z"
   },
   {
    "duration": 91,
    "start_time": "2023-03-04T08:56:37.593Z"
   },
   {
    "duration": 14,
    "start_time": "2023-03-04T08:56:37.685Z"
   },
   {
    "duration": 13,
    "start_time": "2023-03-04T08:56:37.701Z"
   },
   {
    "duration": 77,
    "start_time": "2023-03-04T08:56:37.716Z"
   },
   {
    "duration": 317,
    "start_time": "2023-03-04T08:56:37.795Z"
   },
   {
    "duration": 400,
    "start_time": "2023-03-04T08:56:38.114Z"
   },
   {
    "duration": 460,
    "start_time": "2023-03-04T08:56:38.520Z"
   },
   {
    "duration": 1005,
    "start_time": "2023-03-04T08:56:38.982Z"
   },
   {
    "duration": 308,
    "start_time": "2023-03-04T08:56:39.990Z"
   },
   {
    "duration": 257,
    "start_time": "2023-03-04T08:56:40.300Z"
   },
   {
    "duration": 6,
    "start_time": "2023-03-04T08:56:40.561Z"
   },
   {
    "duration": 36,
    "start_time": "2023-03-04T08:56:40.573Z"
   },
   {
    "duration": 51,
    "start_time": "2023-03-04T08:56:40.614Z"
   },
   {
    "duration": 28,
    "start_time": "2023-03-04T08:56:40.667Z"
   },
   {
    "duration": 19,
    "start_time": "2023-03-04T08:56:40.697Z"
   },
   {
    "duration": 8,
    "start_time": "2023-03-04T08:56:40.717Z"
   },
   {
    "duration": 57,
    "start_time": "2023-03-04T08:56:40.726Z"
   },
   {
    "duration": 15,
    "start_time": "2023-03-04T08:56:40.785Z"
   },
   {
    "duration": 6,
    "start_time": "2023-03-04T08:56:40.802Z"
   },
   {
    "duration": 8,
    "start_time": "2023-03-04T08:56:40.810Z"
   },
   {
    "duration": 198,
    "start_time": "2023-03-04T08:56:40.820Z"
   },
   {
    "duration": 0,
    "start_time": "2023-03-04T08:56:41.024Z"
   },
   {
    "duration": 0,
    "start_time": "2023-03-04T08:56:41.025Z"
   },
   {
    "duration": 0,
    "start_time": "2023-03-04T08:56:41.030Z"
   },
   {
    "duration": 0,
    "start_time": "2023-03-04T08:56:41.032Z"
   },
   {
    "duration": 0,
    "start_time": "2023-03-04T08:56:41.033Z"
   },
   {
    "duration": 0,
    "start_time": "2023-03-04T08:56:41.035Z"
   },
   {
    "duration": 0,
    "start_time": "2023-03-04T08:56:41.036Z"
   },
   {
    "duration": 0,
    "start_time": "2023-03-04T08:56:41.036Z"
   },
   {
    "duration": 0,
    "start_time": "2023-03-04T08:56:41.037Z"
   },
   {
    "duration": 0,
    "start_time": "2023-03-04T08:56:41.038Z"
   },
   {
    "duration": 0,
    "start_time": "2023-03-04T08:56:41.038Z"
   },
   {
    "duration": 0,
    "start_time": "2023-03-04T08:56:41.039Z"
   },
   {
    "duration": 0,
    "start_time": "2023-03-04T08:56:41.040Z"
   },
   {
    "duration": 0,
    "start_time": "2023-03-04T08:56:41.040Z"
   },
   {
    "duration": 0,
    "start_time": "2023-03-04T08:56:41.042Z"
   },
   {
    "duration": 0,
    "start_time": "2023-03-04T08:56:41.043Z"
   },
   {
    "duration": 0,
    "start_time": "2023-03-04T08:56:41.044Z"
   },
   {
    "duration": 0,
    "start_time": "2023-03-04T08:56:41.045Z"
   },
   {
    "duration": 0,
    "start_time": "2023-03-04T08:56:41.046Z"
   },
   {
    "duration": 0,
    "start_time": "2023-03-04T08:56:41.047Z"
   },
   {
    "duration": 0,
    "start_time": "2023-03-04T08:56:41.048Z"
   },
   {
    "duration": 0,
    "start_time": "2023-03-04T08:56:41.051Z"
   },
   {
    "duration": 0,
    "start_time": "2023-03-04T08:56:41.053Z"
   },
   {
    "duration": 0,
    "start_time": "2023-03-04T08:56:41.055Z"
   },
   {
    "duration": 0,
    "start_time": "2023-03-04T08:56:41.056Z"
   },
   {
    "duration": 0,
    "start_time": "2023-03-04T08:56:41.057Z"
   },
   {
    "duration": 0,
    "start_time": "2023-03-04T08:56:41.058Z"
   },
   {
    "duration": 9,
    "start_time": "2023-03-04T09:11:22.784Z"
   },
   {
    "duration": 38,
    "start_time": "2023-03-04T09:17:12.013Z"
   },
   {
    "duration": 2025,
    "start_time": "2023-03-04T09:17:53.954Z"
   },
   {
    "duration": 90,
    "start_time": "2023-03-04T09:17:55.985Z"
   },
   {
    "duration": 19,
    "start_time": "2023-03-04T09:17:56.076Z"
   },
   {
    "duration": 13,
    "start_time": "2023-03-04T09:17:56.096Z"
   },
   {
    "duration": 78,
    "start_time": "2023-03-04T09:17:56.111Z"
   },
   {
    "duration": 320,
    "start_time": "2023-03-04T09:17:56.191Z"
   },
   {
    "duration": 388,
    "start_time": "2023-03-04T09:17:56.513Z"
   },
   {
    "duration": 476,
    "start_time": "2023-03-04T09:17:56.904Z"
   },
   {
    "duration": 1075,
    "start_time": "2023-03-04T09:17:57.382Z"
   },
   {
    "duration": 374,
    "start_time": "2023-03-04T09:17:58.471Z"
   },
   {
    "duration": 258,
    "start_time": "2023-03-04T09:17:58.854Z"
   },
   {
    "duration": 7,
    "start_time": "2023-03-04T09:17:59.114Z"
   },
   {
    "duration": 83,
    "start_time": "2023-03-04T09:17:59.123Z"
   },
   {
    "duration": 41,
    "start_time": "2023-03-04T09:17:59.211Z"
   },
   {
    "duration": 46,
    "start_time": "2023-03-04T09:17:59.253Z"
   },
   {
    "duration": 28,
    "start_time": "2023-03-04T09:17:59.302Z"
   },
   {
    "duration": 9,
    "start_time": "2023-03-04T09:17:59.334Z"
   },
   {
    "duration": 47,
    "start_time": "2023-03-04T09:17:59.345Z"
   },
   {
    "duration": 9,
    "start_time": "2023-03-04T09:17:59.394Z"
   },
   {
    "duration": 11,
    "start_time": "2023-03-04T09:17:59.405Z"
   },
   {
    "duration": 71,
    "start_time": "2023-03-04T09:17:59.418Z"
   },
   {
    "duration": 177,
    "start_time": "2023-03-04T09:17:59.491Z"
   },
   {
    "duration": 0,
    "start_time": "2023-03-04T09:17:59.671Z"
   },
   {
    "duration": 1,
    "start_time": "2023-03-04T09:17:59.672Z"
   },
   {
    "duration": 0,
    "start_time": "2023-03-04T09:17:59.674Z"
   },
   {
    "duration": 0,
    "start_time": "2023-03-04T09:17:59.675Z"
   },
   {
    "duration": 0,
    "start_time": "2023-03-04T09:17:59.677Z"
   },
   {
    "duration": 0,
    "start_time": "2023-03-04T09:17:59.678Z"
   },
   {
    "duration": 0,
    "start_time": "2023-03-04T09:17:59.680Z"
   },
   {
    "duration": 0,
    "start_time": "2023-03-04T09:17:59.682Z"
   },
   {
    "duration": 0,
    "start_time": "2023-03-04T09:17:59.683Z"
   },
   {
    "duration": 0,
    "start_time": "2023-03-04T09:17:59.685Z"
   },
   {
    "duration": 0,
    "start_time": "2023-03-04T09:17:59.686Z"
   },
   {
    "duration": 0,
    "start_time": "2023-03-04T09:17:59.688Z"
   },
   {
    "duration": 0,
    "start_time": "2023-03-04T09:17:59.689Z"
   },
   {
    "duration": 0,
    "start_time": "2023-03-04T09:17:59.691Z"
   },
   {
    "duration": 0,
    "start_time": "2023-03-04T09:17:59.692Z"
   },
   {
    "duration": 0,
    "start_time": "2023-03-04T09:17:59.693Z"
   },
   {
    "duration": 0,
    "start_time": "2023-03-04T09:17:59.693Z"
   },
   {
    "duration": 0,
    "start_time": "2023-03-04T09:17:59.695Z"
   },
   {
    "duration": 0,
    "start_time": "2023-03-04T09:17:59.696Z"
   },
   {
    "duration": 0,
    "start_time": "2023-03-04T09:17:59.697Z"
   },
   {
    "duration": 0,
    "start_time": "2023-03-04T09:17:59.698Z"
   },
   {
    "duration": 0,
    "start_time": "2023-03-04T09:17:59.699Z"
   },
   {
    "duration": 0,
    "start_time": "2023-03-04T09:17:59.700Z"
   },
   {
    "duration": 0,
    "start_time": "2023-03-04T09:17:59.701Z"
   },
   {
    "duration": 0,
    "start_time": "2023-03-04T09:17:59.702Z"
   },
   {
    "duration": 0,
    "start_time": "2023-03-04T09:17:59.726Z"
   },
   {
    "duration": 0,
    "start_time": "2023-03-04T09:17:59.727Z"
   },
   {
    "duration": 0,
    "start_time": "2023-03-04T09:17:59.727Z"
   },
   {
    "duration": 13,
    "start_time": "2023-03-04T09:18:17.956Z"
   },
   {
    "duration": 2,
    "start_time": "2023-03-04T09:19:19.106Z"
   },
   {
    "duration": 2,
    "start_time": "2023-03-04T09:19:22.108Z"
   },
   {
    "duration": 17,
    "start_time": "2023-03-04T09:19:23.667Z"
   },
   {
    "duration": 147,
    "start_time": "2023-03-04T09:20:28.352Z"
   },
   {
    "duration": 115,
    "start_time": "2023-03-04T09:20:40.488Z"
   },
   {
    "duration": 9,
    "start_time": "2023-03-04T09:21:06.674Z"
   },
   {
    "duration": 2620,
    "start_time": "2023-03-04T09:21:16.278Z"
   },
   {
    "duration": 2172,
    "start_time": "2023-03-04T09:23:32.419Z"
   },
   {
    "duration": 2100,
    "start_time": "2023-03-04T09:25:12.061Z"
   },
   {
    "duration": 2271,
    "start_time": "2023-03-04T09:38:07.559Z"
   },
   {
    "duration": 6,
    "start_time": "2023-03-04T09:38:24.752Z"
   },
   {
    "duration": 6,
    "start_time": "2023-03-04T09:38:32.387Z"
   },
   {
    "duration": 15,
    "start_time": "2023-03-04T09:39:19.881Z"
   },
   {
    "duration": 39,
    "start_time": "2023-03-04T09:39:46.917Z"
   },
   {
    "duration": 7,
    "start_time": "2023-03-04T09:40:10.560Z"
   },
   {
    "duration": 27,
    "start_time": "2023-03-04T09:40:58.640Z"
   },
   {
    "duration": 27,
    "start_time": "2023-03-04T09:41:06.075Z"
   },
   {
    "duration": 1553917,
    "start_time": "2023-03-04T09:49:18.987Z"
   },
   {
    "duration": 8,
    "start_time": "2023-03-04T10:15:36.555Z"
   },
   {
    "duration": 22,
    "start_time": "2023-03-04T10:19:54.099Z"
   },
   {
    "duration": 5,
    "start_time": "2023-03-04T10:20:01.119Z"
   },
   {
    "duration": 2455,
    "start_time": "2023-03-04T10:21:48.656Z"
   },
   {
    "duration": 149,
    "start_time": "2023-03-04T10:21:51.115Z"
   },
   {
    "duration": 35,
    "start_time": "2023-03-04T10:21:51.272Z"
   },
   {
    "duration": 91,
    "start_time": "2023-03-04T10:21:51.310Z"
   },
   {
    "duration": 83,
    "start_time": "2023-03-04T10:21:51.403Z"
   },
   {
    "duration": 455,
    "start_time": "2023-03-04T10:21:51.488Z"
   },
   {
    "duration": 489,
    "start_time": "2023-03-04T10:21:51.950Z"
   },
   {
    "duration": 566,
    "start_time": "2023-03-04T10:21:52.445Z"
   },
   {
    "duration": 1312,
    "start_time": "2023-03-04T10:21:53.012Z"
   },
   {
    "duration": 300,
    "start_time": "2023-03-04T10:21:54.328Z"
   },
   {
    "duration": 305,
    "start_time": "2023-03-04T10:21:54.636Z"
   },
   {
    "duration": 8,
    "start_time": "2023-03-04T10:21:54.943Z"
   },
   {
    "duration": 230,
    "start_time": "2023-03-04T10:21:54.953Z"
   },
   {
    "duration": 207,
    "start_time": "2023-03-04T10:21:55.184Z"
   },
   {
    "duration": 53,
    "start_time": "2023-03-04T10:21:55.397Z"
   },
   {
    "duration": 190,
    "start_time": "2023-03-04T10:21:55.457Z"
   },
   {
    "duration": 28,
    "start_time": "2023-03-04T10:21:55.659Z"
   },
   {
    "duration": 47,
    "start_time": "2023-03-04T10:21:55.694Z"
   },
   {
    "duration": 137,
    "start_time": "2023-03-04T10:21:55.750Z"
   },
   {
    "duration": 15,
    "start_time": "2023-03-04T10:21:55.899Z"
   },
   {
    "duration": 96,
    "start_time": "2023-03-04T10:21:55.917Z"
   },
   {
    "duration": 68,
    "start_time": "2023-03-04T10:21:56.016Z"
   },
   {
    "duration": 77,
    "start_time": "2023-03-04T10:21:56.086Z"
   },
   {
    "duration": 2466,
    "start_time": "2023-03-04T10:21:56.165Z"
   },
   {
    "duration": 14,
    "start_time": "2023-03-04T10:21:58.674Z"
   },
   {
    "duration": 104,
    "start_time": "2023-03-04T10:21:58.700Z"
   },
   {
    "duration": 98,
    "start_time": "2023-03-04T10:21:58.806Z"
   },
   {
    "duration": 0,
    "start_time": "2023-03-04T10:24:51.636Z"
   },
   {
    "duration": 0,
    "start_time": "2023-03-04T10:24:51.637Z"
   },
   {
    "duration": 0,
    "start_time": "2023-03-04T10:24:51.638Z"
   },
   {
    "duration": 0,
    "start_time": "2023-03-04T10:24:51.639Z"
   },
   {
    "duration": 0,
    "start_time": "2023-03-04T10:24:51.641Z"
   },
   {
    "duration": 0,
    "start_time": "2023-03-04T10:24:51.642Z"
   },
   {
    "duration": 0,
    "start_time": "2023-03-04T10:24:51.643Z"
   },
   {
    "duration": 0,
    "start_time": "2023-03-04T10:24:51.645Z"
   },
   {
    "duration": 0,
    "start_time": "2023-03-04T10:24:51.646Z"
   },
   {
    "duration": 0,
    "start_time": "2023-03-04T10:24:51.647Z"
   },
   {
    "duration": 0,
    "start_time": "2023-03-04T10:24:51.648Z"
   },
   {
    "duration": 1,
    "start_time": "2023-03-04T10:24:51.649Z"
   },
   {
    "duration": 0,
    "start_time": "2023-03-04T10:24:51.651Z"
   },
   {
    "duration": 0,
    "start_time": "2023-03-04T10:24:51.652Z"
   },
   {
    "duration": 0,
    "start_time": "2023-03-04T10:24:51.653Z"
   },
   {
    "duration": 0,
    "start_time": "2023-03-04T10:24:51.654Z"
   },
   {
    "duration": 0,
    "start_time": "2023-03-04T10:24:51.656Z"
   },
   {
    "duration": 0,
    "start_time": "2023-03-04T10:24:51.657Z"
   },
   {
    "duration": 0,
    "start_time": "2023-03-04T10:24:51.661Z"
   },
   {
    "duration": 0,
    "start_time": "2023-03-04T10:24:51.662Z"
   },
   {
    "duration": 148433,
    "start_time": "2023-03-04T10:28:13.292Z"
   },
   {
    "duration": 5,
    "start_time": "2023-03-04T10:31:31.957Z"
   },
   {
    "duration": 6,
    "start_time": "2023-03-04T10:39:50.559Z"
   },
   {
    "duration": 0,
    "start_time": "2023-03-04T10:41:47.973Z"
   },
   {
    "duration": 112055,
    "start_time": "2023-03-04T10:41:58.629Z"
   },
   {
    "duration": 9,
    "start_time": "2023-03-04T10:54:07.992Z"
   },
   {
    "duration": 2527,
    "start_time": "2023-03-04T10:54:08.991Z"
   },
   {
    "duration": 1701,
    "start_time": "2023-03-04T10:54:37.521Z"
   },
   {
    "duration": 4,
    "start_time": "2023-03-04T10:54:58.109Z"
   },
   {
    "duration": 18,
    "start_time": "2023-03-04T10:55:19.146Z"
   },
   {
    "duration": 4,
    "start_time": "2023-03-04T10:55:31.590Z"
   },
   {
    "duration": 12,
    "start_time": "2023-03-04T10:55:35.481Z"
   },
   {
    "duration": 4,
    "start_time": "2023-03-04T11:00:59.066Z"
   },
   {
    "duration": 1884,
    "start_time": "2023-03-04T11:00:59.517Z"
   },
   {
    "duration": 12,
    "start_time": "2023-03-04T11:01:38.486Z"
   },
   {
    "duration": 24,
    "start_time": "2023-03-04T11:02:25.381Z"
   },
   {
    "duration": 113,
    "start_time": "2023-03-04T11:11:23.588Z"
   },
   {
    "duration": 47,
    "start_time": "2023-03-04T11:18:23.076Z"
   },
   {
    "duration": 24,
    "start_time": "2023-03-04T11:18:55.975Z"
   },
   {
    "duration": 190,
    "start_time": "2023-03-04T11:19:50.637Z"
   },
   {
    "duration": 132,
    "start_time": "2023-03-04T11:20:39.706Z"
   },
   {
    "duration": 133,
    "start_time": "2023-03-04T11:21:08.800Z"
   },
   {
    "duration": 3,
    "start_time": "2023-03-04T11:21:10.091Z"
   },
   {
    "duration": 3,
    "start_time": "2023-03-04T11:21:18.082Z"
   },
   {
    "duration": 84,
    "start_time": "2023-03-04T11:22:48.068Z"
   },
   {
    "duration": 105,
    "start_time": "2023-03-04T11:22:54.157Z"
   },
   {
    "duration": 6,
    "start_time": "2023-03-04T11:22:55.145Z"
   },
   {
    "duration": 54,
    "start_time": "2023-03-04T11:27:25.282Z"
   },
   {
    "duration": 1067,
    "start_time": "2023-03-04T11:33:06.432Z"
   },
   {
    "duration": 30238,
    "start_time": "2023-03-04T11:35:18.238Z"
   },
   {
    "duration": 23599,
    "start_time": "2023-03-04T11:41:17.329Z"
   },
   {
    "duration": 147739,
    "start_time": "2023-03-04T11:42:06.235Z"
   },
   {
    "duration": 102789,
    "start_time": "2023-03-04T11:46:54.550Z"
   },
   {
    "duration": 1223,
    "start_time": "2023-03-04T11:49:09.611Z"
   },
   {
    "duration": 1887,
    "start_time": "2023-03-04T11:49:19.642Z"
   },
   {
    "duration": 76,
    "start_time": "2023-03-04T11:49:21.531Z"
   },
   {
    "duration": 18,
    "start_time": "2023-03-04T11:49:21.610Z"
   },
   {
    "duration": 42,
    "start_time": "2023-03-04T11:49:21.630Z"
   },
   {
    "duration": 23,
    "start_time": "2023-03-04T11:49:21.674Z"
   },
   {
    "duration": 329,
    "start_time": "2023-03-04T11:49:21.699Z"
   },
   {
    "duration": 375,
    "start_time": "2023-03-04T11:49:22.030Z"
   },
   {
    "duration": 430,
    "start_time": "2023-03-04T11:49:22.407Z"
   },
   {
    "duration": 990,
    "start_time": "2023-03-04T11:49:22.839Z"
   },
   {
    "duration": 264,
    "start_time": "2023-03-04T11:49:23.832Z"
   },
   {
    "duration": 258,
    "start_time": "2023-03-04T11:49:24.098Z"
   },
   {
    "duration": 7,
    "start_time": "2023-03-04T11:49:24.358Z"
   },
   {
    "duration": 32,
    "start_time": "2023-03-04T11:49:24.367Z"
   },
   {
    "duration": 59,
    "start_time": "2023-03-04T11:49:24.403Z"
   },
   {
    "duration": 15,
    "start_time": "2023-03-04T11:49:24.464Z"
   },
   {
    "duration": 22,
    "start_time": "2023-03-04T11:49:24.481Z"
   },
   {
    "duration": 11,
    "start_time": "2023-03-04T11:49:24.521Z"
   },
   {
    "duration": 41,
    "start_time": "2023-03-04T11:49:24.533Z"
   },
   {
    "duration": 12,
    "start_time": "2023-03-04T11:49:24.577Z"
   },
   {
    "duration": 78,
    "start_time": "2023-03-04T11:49:24.592Z"
   },
   {
    "duration": 33,
    "start_time": "2023-03-04T11:49:24.673Z"
   },
   {
    "duration": 52,
    "start_time": "2023-03-04T11:49:24.709Z"
   },
   {
    "duration": 19,
    "start_time": "2023-03-04T11:49:24.763Z"
   },
   {
    "duration": 1247,
    "start_time": "2023-03-04T11:49:24.785Z"
   },
   {
    "duration": 10,
    "start_time": "2023-03-04T11:49:26.040Z"
   },
   {
    "duration": 36,
    "start_time": "2023-03-04T11:49:26.120Z"
   },
   {
    "duration": 8,
    "start_time": "2023-03-04T11:49:26.158Z"
   },
   {
    "duration": 36769,
    "start_time": "2023-03-04T11:49:26.168Z"
   },
   {
    "duration": 3,
    "start_time": "2023-03-04T11:50:02.939Z"
   },
   {
    "duration": 31,
    "start_time": "2023-03-04T11:50:02.943Z"
   },
   {
    "duration": 8,
    "start_time": "2023-03-04T11:50:02.976Z"
   },
   {
    "duration": 48879,
    "start_time": "2023-03-04T11:50:02.986Z"
   },
   {
    "duration": 2,
    "start_time": "2023-03-04T11:50:51.867Z"
   },
   {
    "duration": 13,
    "start_time": "2023-03-04T11:50:51.871Z"
   },
   {
    "duration": 38,
    "start_time": "2023-03-04T11:50:51.886Z"
   },
   {
    "duration": 1101,
    "start_time": "2023-03-04T11:50:51.926Z"
   },
   {
    "duration": 5,
    "start_time": "2023-03-04T11:50:53.028Z"
   },
   {
    "duration": 13,
    "start_time": "2023-03-04T11:50:53.035Z"
   },
   {
    "duration": 141,
    "start_time": "2023-03-04T11:50:53.050Z"
   },
   {
    "duration": 0,
    "start_time": "2023-03-04T11:50:53.193Z"
   },
   {
    "duration": 0,
    "start_time": "2023-03-04T11:50:53.195Z"
   },
   {
    "duration": 46255,
    "start_time": "2023-03-04T11:56:23.908Z"
   },
   {
    "duration": 3,
    "start_time": "2023-03-04T11:57:46.286Z"
   },
   {
    "duration": 16,
    "start_time": "2023-03-04T11:59:52.805Z"
   },
   {
    "duration": 204,
    "start_time": "2023-03-04T12:00:31.672Z"
   },
   {
    "duration": 23,
    "start_time": "2023-03-04T12:03:25.823Z"
   },
   {
    "duration": 44,
    "start_time": "2023-03-04T12:03:54.482Z"
   },
   {
    "duration": 13,
    "start_time": "2023-03-04T12:06:21.644Z"
   },
   {
    "duration": 15,
    "start_time": "2023-03-04T12:08:05.982Z"
   },
   {
    "duration": 393,
    "start_time": "2023-03-04T12:08:41.746Z"
   },
   {
    "duration": 301,
    "start_time": "2023-03-04T12:11:43.575Z"
   },
   {
    "duration": 309,
    "start_time": "2023-03-04T12:12:23.475Z"
   },
   {
    "duration": 321,
    "start_time": "2023-03-04T12:12:30.062Z"
   },
   {
    "duration": 31,
    "start_time": "2023-03-04T12:17:42.619Z"
   },
   {
    "duration": 385,
    "start_time": "2023-03-04T12:19:27.991Z"
   },
   {
    "duration": 162,
    "start_time": "2023-03-04T12:20:51.739Z"
   },
   {
    "duration": 1304,
    "start_time": "2023-03-04T12:21:50.463Z"
   },
   {
    "duration": 16,
    "start_time": "2023-03-04T12:22:09.346Z"
   },
   {
    "duration": 256,
    "start_time": "2023-03-04T12:23:34.035Z"
   },
   {
    "duration": 211,
    "start_time": "2023-03-04T12:24:59.829Z"
   },
   {
    "duration": 10,
    "start_time": "2023-03-04T12:27:05.493Z"
   },
   {
    "duration": 16,
    "start_time": "2023-03-04T12:29:11.070Z"
   },
   {
    "duration": 185,
    "start_time": "2023-03-04T12:31:27.076Z"
   },
   {
    "duration": 362,
    "start_time": "2023-03-04T12:31:49.401Z"
   },
   {
    "duration": 367,
    "start_time": "2023-03-04T12:33:48.473Z"
   },
   {
    "duration": 251,
    "start_time": "2023-03-04T12:34:36.242Z"
   },
   {
    "duration": 19,
    "start_time": "2023-03-04T12:35:53.416Z"
   },
   {
    "duration": 15,
    "start_time": "2023-03-04T12:36:04.066Z"
   },
   {
    "duration": 4,
    "start_time": "2023-03-04T12:36:11.104Z"
   },
   {
    "duration": 240,
    "start_time": "2023-03-04T12:36:13.371Z"
   },
   {
    "duration": 4,
    "start_time": "2023-03-04T12:36:21.479Z"
   },
   {
    "duration": 314,
    "start_time": "2023-03-04T12:36:22.959Z"
   },
   {
    "duration": 12,
    "start_time": "2023-03-04T12:36:50.016Z"
   },
   {
    "duration": 254,
    "start_time": "2023-03-04T12:36:51.237Z"
   },
   {
    "duration": 11,
    "start_time": "2023-03-04T12:52:42.169Z"
   },
   {
    "duration": 3071,
    "start_time": "2023-03-04T12:53:00.909Z"
   },
   {
    "duration": 72,
    "start_time": "2023-03-04T12:53:03.983Z"
   },
   {
    "duration": 14,
    "start_time": "2023-03-04T12:53:04.056Z"
   },
   {
    "duration": 5,
    "start_time": "2023-03-04T12:53:04.071Z"
   },
   {
    "duration": 27,
    "start_time": "2023-03-04T12:53:04.078Z"
   },
   {
    "duration": 367,
    "start_time": "2023-03-04T12:53:04.121Z"
   },
   {
    "duration": 499,
    "start_time": "2023-03-04T12:53:04.491Z"
   },
   {
    "duration": 448,
    "start_time": "2023-03-04T12:53:04.993Z"
   },
   {
    "duration": 1021,
    "start_time": "2023-03-04T12:53:05.444Z"
   },
   {
    "duration": 251,
    "start_time": "2023-03-04T12:53:06.467Z"
   },
   {
    "duration": 247,
    "start_time": "2023-03-04T12:53:06.720Z"
   },
   {
    "duration": 6,
    "start_time": "2023-03-04T12:53:06.968Z"
   },
   {
    "duration": 39,
    "start_time": "2023-03-04T12:53:06.976Z"
   },
   {
    "duration": 42,
    "start_time": "2023-03-04T12:53:07.019Z"
   },
   {
    "duration": 31,
    "start_time": "2023-03-04T12:53:07.063Z"
   },
   {
    "duration": 27,
    "start_time": "2023-03-04T12:53:07.096Z"
   },
   {
    "duration": 10,
    "start_time": "2023-03-04T12:53:07.125Z"
   },
   {
    "duration": 18,
    "start_time": "2023-03-04T12:53:07.137Z"
   },
   {
    "duration": 6,
    "start_time": "2023-03-04T12:53:07.157Z"
   },
   {
    "duration": 4,
    "start_time": "2023-03-04T12:53:07.165Z"
   },
   {
    "duration": 8,
    "start_time": "2023-03-04T12:53:07.172Z"
   },
   {
    "duration": 6,
    "start_time": "2023-03-04T12:53:07.183Z"
   },
   {
    "duration": 5,
    "start_time": "2023-03-04T12:53:07.220Z"
   },
   {
    "duration": 1615,
    "start_time": "2023-03-04T12:53:07.228Z"
   },
   {
    "duration": 7,
    "start_time": "2023-03-04T12:53:08.921Z"
   },
   {
    "duration": 9,
    "start_time": "2023-03-04T12:53:08.937Z"
   },
   {
    "duration": 25,
    "start_time": "2023-03-04T12:53:08.948Z"
   },
   {
    "duration": 151977,
    "start_time": "2023-03-04T12:53:08.975Z"
   },
   {
    "duration": 3,
    "start_time": "2023-03-04T12:55:40.954Z"
   },
   {
    "duration": 65,
    "start_time": "2023-03-04T12:55:40.958Z"
   },
   {
    "duration": 25,
    "start_time": "2023-03-04T12:55:41.025Z"
   },
   {
    "duration": 100212,
    "start_time": "2023-03-04T12:55:41.052Z"
   },
   {
    "duration": 4,
    "start_time": "2023-03-04T12:57:21.322Z"
   },
   {
    "duration": 23,
    "start_time": "2023-03-04T12:57:21.329Z"
   },
   {
    "duration": 6,
    "start_time": "2023-03-04T12:57:21.354Z"
   },
   {
    "duration": 1139,
    "start_time": "2023-03-04T12:57:21.362Z"
   },
   {
    "duration": 3,
    "start_time": "2023-03-04T12:57:22.504Z"
   },
   {
    "duration": 20,
    "start_time": "2023-03-04T12:57:22.509Z"
   },
   {
    "duration": 97701,
    "start_time": "2023-03-04T12:57:22.531Z"
   },
   {
    "duration": 11,
    "start_time": "2023-03-04T12:59:00.234Z"
   },
   {
    "duration": 177,
    "start_time": "2023-03-04T12:59:00.249Z"
   },
   {
    "duration": 0,
    "start_time": "2023-03-04T12:59:00.428Z"
   },
   {
    "duration": 0,
    "start_time": "2023-03-04T12:59:00.429Z"
   },
   {
    "duration": 0,
    "start_time": "2023-03-04T12:59:00.431Z"
   },
   {
    "duration": 391,
    "start_time": "2023-03-04T13:00:25.028Z"
   },
   {
    "duration": 335,
    "start_time": "2023-03-04T13:01:36.786Z"
   },
   {
    "duration": 214,
    "start_time": "2023-03-04T13:01:56.050Z"
   },
   {
    "duration": 285,
    "start_time": "2023-03-04T13:02:08.867Z"
   },
   {
    "duration": 281,
    "start_time": "2023-03-04T13:05:31.701Z"
   },
   {
    "duration": 13,
    "start_time": "2023-03-04T13:05:51.588Z"
   },
   {
    "duration": 13,
    "start_time": "2023-03-04T13:06:20.965Z"
   },
   {
    "duration": 249,
    "start_time": "2023-03-04T13:06:29.397Z"
   },
   {
    "duration": 334,
    "start_time": "2023-03-04T13:06:58.581Z"
   },
   {
    "duration": 273,
    "start_time": "2023-03-04T13:09:58.236Z"
   },
   {
    "duration": 4,
    "start_time": "2023-03-04T13:11:06.044Z"
   },
   {
    "duration": 278,
    "start_time": "2023-03-04T13:11:08.611Z"
   },
   {
    "duration": 1919,
    "start_time": "2023-03-04T13:17:33.036Z"
   },
   {
    "duration": 86,
    "start_time": "2023-03-04T13:17:34.958Z"
   },
   {
    "duration": 21,
    "start_time": "2023-03-04T13:17:35.046Z"
   },
   {
    "duration": 27,
    "start_time": "2023-03-04T13:17:35.070Z"
   },
   {
    "duration": 72,
    "start_time": "2023-03-04T13:17:35.103Z"
   },
   {
    "duration": 310,
    "start_time": "2023-03-04T13:17:35.178Z"
   },
   {
    "duration": 374,
    "start_time": "2023-03-04T13:17:35.491Z"
   },
   {
    "duration": 366,
    "start_time": "2023-03-04T13:17:35.866Z"
   },
   {
    "duration": 970,
    "start_time": "2023-03-04T13:17:36.234Z"
   },
   {
    "duration": 235,
    "start_time": "2023-03-04T13:17:37.206Z"
   },
   {
    "duration": 282,
    "start_time": "2023-03-04T13:17:37.444Z"
   },
   {
    "duration": 8,
    "start_time": "2023-03-04T13:17:37.729Z"
   },
   {
    "duration": 41,
    "start_time": "2023-03-04T13:17:37.740Z"
   },
   {
    "duration": 63,
    "start_time": "2023-03-04T13:17:37.784Z"
   },
   {
    "duration": 20,
    "start_time": "2023-03-04T13:17:37.849Z"
   },
   {
    "duration": 19,
    "start_time": "2023-03-04T13:17:37.872Z"
   },
   {
    "duration": 34,
    "start_time": "2023-03-04T13:17:37.893Z"
   },
   {
    "duration": 10,
    "start_time": "2023-03-04T13:17:37.930Z"
   },
   {
    "duration": 5,
    "start_time": "2023-03-04T13:17:37.942Z"
   },
   {
    "duration": 5,
    "start_time": "2023-03-04T13:17:37.949Z"
   },
   {
    "duration": 8,
    "start_time": "2023-03-04T13:17:37.956Z"
   },
   {
    "duration": 5,
    "start_time": "2023-03-04T13:17:37.967Z"
   },
   {
    "duration": 6,
    "start_time": "2023-03-04T13:17:37.974Z"
   },
   {
    "duration": 2143,
    "start_time": "2023-03-04T13:17:37.981Z"
   },
   {
    "duration": 4,
    "start_time": "2023-03-04T13:17:40.126Z"
   },
   {
    "duration": 13,
    "start_time": "2023-03-04T13:17:40.133Z"
   },
   {
    "duration": 10,
    "start_time": "2023-03-04T13:17:40.149Z"
   },
   {
    "duration": 91671,
    "start_time": "2023-03-04T13:17:40.161Z"
   },
   {
    "duration": 3,
    "start_time": "2023-03-04T13:19:11.834Z"
   },
   {
    "duration": 9,
    "start_time": "2023-03-04T13:19:11.838Z"
   },
   {
    "duration": 5,
    "start_time": "2023-03-04T13:19:11.849Z"
   },
   {
    "duration": 91703,
    "start_time": "2023-03-04T13:19:11.922Z"
   },
   {
    "duration": 3,
    "start_time": "2023-03-04T13:20:43.627Z"
   },
   {
    "duration": 32,
    "start_time": "2023-03-04T13:20:43.631Z"
   },
   {
    "duration": 14,
    "start_time": "2023-03-04T13:20:43.665Z"
   },
   {
    "duration": 1180,
    "start_time": "2023-03-04T13:20:43.681Z"
   },
   {
    "duration": 2,
    "start_time": "2023-03-04T13:20:44.863Z"
   },
   {
    "duration": 29,
    "start_time": "2023-03-04T13:20:44.867Z"
   },
   {
    "duration": 95328,
    "start_time": "2023-03-04T13:20:44.898Z"
   },
   {
    "duration": 3,
    "start_time": "2023-03-04T13:22:20.229Z"
   },
   {
    "duration": 309,
    "start_time": "2023-03-04T13:22:20.236Z"
   },
   {
    "duration": 219,
    "start_time": "2023-03-04T13:22:50.492Z"
   },
   {
    "duration": 376,
    "start_time": "2023-03-04T13:32:40.137Z"
   },
   {
    "duration": 217,
    "start_time": "2023-03-04T13:43:05.196Z"
   },
   {
    "duration": 219,
    "start_time": "2023-03-04T13:43:21.556Z"
   },
   {
    "duration": 214,
    "start_time": "2023-03-04T13:43:32.371Z"
   },
   {
    "duration": 220,
    "start_time": "2023-03-04T13:43:41.860Z"
   },
   {
    "duration": 228,
    "start_time": "2023-03-04T13:43:52.660Z"
   },
   {
    "duration": 67,
    "start_time": "2023-09-02T15:38:51.698Z"
   },
   {
    "duration": 55,
    "start_time": "2023-09-02T15:39:05.926Z"
   },
   {
    "duration": 164,
    "start_time": "2023-09-02T15:39:24.550Z"
   },
   {
    "duration": 1916,
    "start_time": "2023-09-02T15:42:06.435Z"
   },
   {
    "duration": 137,
    "start_time": "2023-09-02T15:42:08.353Z"
   },
   {
    "duration": 13,
    "start_time": "2023-09-02T15:42:08.492Z"
   },
   {
    "duration": 19,
    "start_time": "2023-09-02T15:42:08.507Z"
   },
   {
    "duration": 28,
    "start_time": "2023-09-02T15:42:08.528Z"
   },
   {
    "duration": 274,
    "start_time": "2023-09-02T15:42:08.558Z"
   },
   {
    "duration": 357,
    "start_time": "2023-09-02T15:42:08.834Z"
   },
   {
    "duration": 426,
    "start_time": "2023-09-02T15:42:09.192Z"
   },
   {
    "duration": 1044,
    "start_time": "2023-09-02T15:42:09.620Z"
   },
   {
    "duration": 242,
    "start_time": "2023-09-02T15:42:10.666Z"
   },
   {
    "duration": 261,
    "start_time": "2023-09-02T15:42:10.910Z"
   },
   {
    "duration": 5,
    "start_time": "2023-09-02T15:42:11.173Z"
   },
   {
    "duration": 36,
    "start_time": "2023-09-02T15:42:11.181Z"
   },
   {
    "duration": 38,
    "start_time": "2023-09-02T15:42:11.227Z"
   },
   {
    "duration": 16,
    "start_time": "2023-09-02T15:42:11.267Z"
   },
   {
    "duration": 54,
    "start_time": "2023-09-02T15:42:11.285Z"
   },
   {
    "duration": 14,
    "start_time": "2023-09-02T15:42:11.341Z"
   },
   {
    "duration": 12,
    "start_time": "2023-09-02T15:42:11.357Z"
   },
   {
    "duration": 7,
    "start_time": "2023-09-02T15:42:11.371Z"
   },
   {
    "duration": 8,
    "start_time": "2023-09-02T15:42:11.380Z"
   },
   {
    "duration": 11,
    "start_time": "2023-09-02T15:42:11.390Z"
   },
   {
    "duration": 14,
    "start_time": "2023-09-02T15:42:11.403Z"
   },
   {
    "duration": 4,
    "start_time": "2023-09-02T15:42:11.424Z"
   },
   {
    "duration": 1796,
    "start_time": "2023-09-02T15:42:11.430Z"
   },
   {
    "duration": 3,
    "start_time": "2023-09-02T15:42:13.229Z"
   },
   {
    "duration": 4,
    "start_time": "2023-09-02T15:42:13.234Z"
   },
   {
    "duration": 10294,
    "start_time": "2023-09-02T15:42:13.240Z"
   },
   {
    "duration": 76,
    "start_time": "2023-09-02T15:42:23.536Z"
   },
   {
    "duration": 4,
    "start_time": "2023-09-02T15:42:23.616Z"
   },
   {
    "duration": 37897,
    "start_time": "2023-09-02T15:42:23.622Z"
   },
   {
    "duration": 3,
    "start_time": "2023-09-02T15:43:01.524Z"
   },
   {
    "duration": 260,
    "start_time": "2023-09-02T15:43:01.529Z"
   },
   {
    "duration": 1433,
    "start_time": "2023-09-02T15:43:01.791Z"
   },
   {
    "duration": 3,
    "start_time": "2023-09-02T15:43:03.226Z"
   },
   {
    "duration": 63,
    "start_time": "2023-09-02T15:43:03.231Z"
   },
   {
    "duration": 57540,
    "start_time": "2023-09-02T15:43:03.295Z"
   },
   {
    "duration": 3,
    "start_time": "2023-09-02T15:44:00.838Z"
   },
   {
    "duration": 322,
    "start_time": "2023-09-02T15:44:00.843Z"
   }
  ],
  "kernelspec": {
   "display_name": "Python 3 (ipykernel)",
   "language": "python",
   "name": "python3"
  },
  "language_info": {
   "codemirror_mode": {
    "name": "ipython",
    "version": 3
   },
   "file_extension": ".py",
   "mimetype": "text/x-python",
   "name": "python",
   "nbconvert_exporter": "python",
   "pygments_lexer": "ipython3",
   "version": "3.9.5"
  },
  "toc": {
   "base_numbering": 1,
   "nav_menu": {},
   "number_sections": true,
   "sideBar": true,
   "skip_h1_title": true,
   "title_cell": "Содержание",
   "title_sidebar": "Contents",
   "toc_cell": true,
   "toc_position": {
    "height": "calc(100% - 180px)",
    "left": "10px",
    "top": "150px",
    "width": "165px"
   },
   "toc_section_display": true,
   "toc_window_display": true
  }
 },
 "nbformat": 4,
 "nbformat_minor": 2
}
