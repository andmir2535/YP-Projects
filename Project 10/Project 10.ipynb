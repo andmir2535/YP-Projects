{
 "cells": [
  {
   "cell_type": "markdown",
   "metadata": {
    "toc": true
   },
   "source": [
    "<h1>Содержание<span class=\"tocSkip\"></span></h1>\n",
    "<div class=\"toc\"><ul class=\"toc-item\"><li><span><a href=\"#Загрузка-данных\" data-toc-modified-id=\"Загрузка-данных-1\"><span class=\"toc-item-num\">1&nbsp;&nbsp;</span>Загрузка данных</a></span></li><li><span><a href=\"#Умножение-матриц\" data-toc-modified-id=\"Умножение-матриц-2\"><span class=\"toc-item-num\">2&nbsp;&nbsp;</span>Умножение матриц</a></span></li><li><span><a href=\"#Алгоритм-преобразования\" data-toc-modified-id=\"Алгоритм-преобразования-3\"><span class=\"toc-item-num\">3&nbsp;&nbsp;</span>Алгоритм преобразования</a></span></li><li><span><a href=\"#Проверка-алгоритма\" data-toc-modified-id=\"Проверка-алгоритма-4\"><span class=\"toc-item-num\">4&nbsp;&nbsp;</span>Проверка алгоритма</a></span></li></ul></div>"
   ]
  },
  {
   "cell_type": "markdown",
   "metadata": {},
   "source": [
    "# Защита персональных данных клиентов"
   ]
  },
  {
   "cell_type": "markdown",
   "metadata": {},
   "source": [
    "В данной работе нам нужно защитить данные клиентов страховой компании «Хоть потоп». Будет разработан такой метод преобразования данных, чтобы по ним было сложно восстановить персональную информацию. Обоснуем корректность работы метода.\n",
    "\n",
    "Задача - защитить данные, чтобы при преобразовании качество моделей машинного обучения не ухудшилось, при этом подбирать наилучшую модель не требуется."
   ]
  },
  {
   "cell_type": "markdown",
   "metadata": {},
   "source": [
    "## Загрузка данных"
   ]
  },
  {
   "cell_type": "code",
   "execution_count": 1,
   "metadata": {},
   "outputs": [],
   "source": [
    "#В данной ячейке указаны все необходимые для работы библиотеки.\n",
    "import pandas as pd\n",
    "import numpy as np\n",
    "from sklearn.linear_model import LinearRegression\n",
    "from sklearn.metrics import r2_score"
   ]
  },
  {
   "cell_type": "code",
   "execution_count": 2,
   "metadata": {},
   "outputs": [],
   "source": [
    "data = pd.read_csv('/datasets/insurance.csv')"
   ]
  },
  {
   "cell_type": "code",
   "execution_count": 3,
   "metadata": {},
   "outputs": [],
   "source": [
    "# напишем функцию для изучения датафреймов\n",
    "def research(data):\n",
    "\n",
    "    display(data.head())\n",
    "    print(data.info()) \n",
    "    display(data.describe())\n",
    "    print('Количество дубликатов', data.duplicated().sum())  "
   ]
  },
  {
   "cell_type": "code",
   "execution_count": 4,
   "metadata": {},
   "outputs": [
    {
     "data": {
      "text/html": [
       "<div>\n",
       "<style scoped>\n",
       "    .dataframe tbody tr th:only-of-type {\n",
       "        vertical-align: middle;\n",
       "    }\n",
       "\n",
       "    .dataframe tbody tr th {\n",
       "        vertical-align: top;\n",
       "    }\n",
       "\n",
       "    .dataframe thead th {\n",
       "        text-align: right;\n",
       "    }\n",
       "</style>\n",
       "<table border=\"1\" class=\"dataframe\">\n",
       "  <thead>\n",
       "    <tr style=\"text-align: right;\">\n",
       "      <th></th>\n",
       "      <th>Пол</th>\n",
       "      <th>Возраст</th>\n",
       "      <th>Зарплата</th>\n",
       "      <th>Члены семьи</th>\n",
       "      <th>Страховые выплаты</th>\n",
       "    </tr>\n",
       "  </thead>\n",
       "  <tbody>\n",
       "    <tr>\n",
       "      <th>0</th>\n",
       "      <td>1</td>\n",
       "      <td>41.0</td>\n",
       "      <td>49600.0</td>\n",
       "      <td>1</td>\n",
       "      <td>0</td>\n",
       "    </tr>\n",
       "    <tr>\n",
       "      <th>1</th>\n",
       "      <td>0</td>\n",
       "      <td>46.0</td>\n",
       "      <td>38000.0</td>\n",
       "      <td>1</td>\n",
       "      <td>1</td>\n",
       "    </tr>\n",
       "    <tr>\n",
       "      <th>2</th>\n",
       "      <td>0</td>\n",
       "      <td>29.0</td>\n",
       "      <td>21000.0</td>\n",
       "      <td>0</td>\n",
       "      <td>0</td>\n",
       "    </tr>\n",
       "    <tr>\n",
       "      <th>3</th>\n",
       "      <td>0</td>\n",
       "      <td>21.0</td>\n",
       "      <td>41700.0</td>\n",
       "      <td>2</td>\n",
       "      <td>0</td>\n",
       "    </tr>\n",
       "    <tr>\n",
       "      <th>4</th>\n",
       "      <td>1</td>\n",
       "      <td>28.0</td>\n",
       "      <td>26100.0</td>\n",
       "      <td>0</td>\n",
       "      <td>0</td>\n",
       "    </tr>\n",
       "  </tbody>\n",
       "</table>\n",
       "</div>"
      ],
      "text/plain": [
       "   Пол  Возраст  Зарплата  Члены семьи  Страховые выплаты\n",
       "0    1     41.0   49600.0            1                  0\n",
       "1    0     46.0   38000.0            1                  1\n",
       "2    0     29.0   21000.0            0                  0\n",
       "3    0     21.0   41700.0            2                  0\n",
       "4    1     28.0   26100.0            0                  0"
      ]
     },
     "metadata": {},
     "output_type": "display_data"
    },
    {
     "name": "stdout",
     "output_type": "stream",
     "text": [
      "<class 'pandas.core.frame.DataFrame'>\n",
      "RangeIndex: 5000 entries, 0 to 4999\n",
      "Data columns (total 5 columns):\n",
      " #   Column             Non-Null Count  Dtype  \n",
      "---  ------             --------------  -----  \n",
      " 0   Пол                5000 non-null   int64  \n",
      " 1   Возраст            5000 non-null   float64\n",
      " 2   Зарплата           5000 non-null   float64\n",
      " 3   Члены семьи        5000 non-null   int64  \n",
      " 4   Страховые выплаты  5000 non-null   int64  \n",
      "dtypes: float64(2), int64(3)\n",
      "memory usage: 195.4 KB\n",
      "None\n"
     ]
    },
    {
     "data": {
      "text/html": [
       "<div>\n",
       "<style scoped>\n",
       "    .dataframe tbody tr th:only-of-type {\n",
       "        vertical-align: middle;\n",
       "    }\n",
       "\n",
       "    .dataframe tbody tr th {\n",
       "        vertical-align: top;\n",
       "    }\n",
       "\n",
       "    .dataframe thead th {\n",
       "        text-align: right;\n",
       "    }\n",
       "</style>\n",
       "<table border=\"1\" class=\"dataframe\">\n",
       "  <thead>\n",
       "    <tr style=\"text-align: right;\">\n",
       "      <th></th>\n",
       "      <th>Пол</th>\n",
       "      <th>Возраст</th>\n",
       "      <th>Зарплата</th>\n",
       "      <th>Члены семьи</th>\n",
       "      <th>Страховые выплаты</th>\n",
       "    </tr>\n",
       "  </thead>\n",
       "  <tbody>\n",
       "    <tr>\n",
       "      <th>count</th>\n",
       "      <td>5000.000000</td>\n",
       "      <td>5000.000000</td>\n",
       "      <td>5000.000000</td>\n",
       "      <td>5000.000000</td>\n",
       "      <td>5000.000000</td>\n",
       "    </tr>\n",
       "    <tr>\n",
       "      <th>mean</th>\n",
       "      <td>0.499000</td>\n",
       "      <td>30.952800</td>\n",
       "      <td>39916.360000</td>\n",
       "      <td>1.194200</td>\n",
       "      <td>0.148000</td>\n",
       "    </tr>\n",
       "    <tr>\n",
       "      <th>std</th>\n",
       "      <td>0.500049</td>\n",
       "      <td>8.440807</td>\n",
       "      <td>9900.083569</td>\n",
       "      <td>1.091387</td>\n",
       "      <td>0.463183</td>\n",
       "    </tr>\n",
       "    <tr>\n",
       "      <th>min</th>\n",
       "      <td>0.000000</td>\n",
       "      <td>18.000000</td>\n",
       "      <td>5300.000000</td>\n",
       "      <td>0.000000</td>\n",
       "      <td>0.000000</td>\n",
       "    </tr>\n",
       "    <tr>\n",
       "      <th>25%</th>\n",
       "      <td>0.000000</td>\n",
       "      <td>24.000000</td>\n",
       "      <td>33300.000000</td>\n",
       "      <td>0.000000</td>\n",
       "      <td>0.000000</td>\n",
       "    </tr>\n",
       "    <tr>\n",
       "      <th>50%</th>\n",
       "      <td>0.000000</td>\n",
       "      <td>30.000000</td>\n",
       "      <td>40200.000000</td>\n",
       "      <td>1.000000</td>\n",
       "      <td>0.000000</td>\n",
       "    </tr>\n",
       "    <tr>\n",
       "      <th>75%</th>\n",
       "      <td>1.000000</td>\n",
       "      <td>37.000000</td>\n",
       "      <td>46600.000000</td>\n",
       "      <td>2.000000</td>\n",
       "      <td>0.000000</td>\n",
       "    </tr>\n",
       "    <tr>\n",
       "      <th>max</th>\n",
       "      <td>1.000000</td>\n",
       "      <td>65.000000</td>\n",
       "      <td>79000.000000</td>\n",
       "      <td>6.000000</td>\n",
       "      <td>5.000000</td>\n",
       "    </tr>\n",
       "  </tbody>\n",
       "</table>\n",
       "</div>"
      ],
      "text/plain": [
       "               Пол      Возраст      Зарплата  Члены семьи  Страховые выплаты\n",
       "count  5000.000000  5000.000000   5000.000000  5000.000000        5000.000000\n",
       "mean      0.499000    30.952800  39916.360000     1.194200           0.148000\n",
       "std       0.500049     8.440807   9900.083569     1.091387           0.463183\n",
       "min       0.000000    18.000000   5300.000000     0.000000           0.000000\n",
       "25%       0.000000    24.000000  33300.000000     0.000000           0.000000\n",
       "50%       0.000000    30.000000  40200.000000     1.000000           0.000000\n",
       "75%       1.000000    37.000000  46600.000000     2.000000           0.000000\n",
       "max       1.000000    65.000000  79000.000000     6.000000           5.000000"
      ]
     },
     "metadata": {},
     "output_type": "display_data"
    },
    {
     "name": "stdout",
     "output_type": "stream",
     "text": [
      "Количество дубликатов 153\n"
     ]
    }
   ],
   "source": [
    "research(data)"
   ]
  },
  {
   "cell_type": "markdown",
   "metadata": {},
   "source": [
    "Проведём первичный анализ рассматриваемых данных.\n",
    "В нашем распоряжении:\n",
    "5000 строк данных. В данных указан индекс, пол, возраст, зарплата, количество членов семьи, наличие/отсутствие страховых выплат. Для названия столбцов использована кириллица, столбцы не соответствуют змеиному регистру. Колонки *возраст* и *зарплата* записаны в типе данных float (число с точкой).  \n",
    "\n",
    "*Признаки:* **Пол, Возраст, Зарплата, Члены семьи**  \n",
    "\n",
    "*Целевой признак:* **Страховые выплаты**"
   ]
  },
  {
   "cell_type": "markdown",
   "metadata": {},
   "source": [
    "## Умножение матриц"
   ]
  },
  {
   "cell_type": "markdown",
   "metadata": {},
   "source": [
    "В этом задании вы можете записывать формулы в *Jupyter Notebook.*\n",
    "\n",
    "Чтобы записать формулу внутри текста, окружите её символами доллара \\\\$; если снаружи —  двойными символами \\\\$\\\\$. Эти формулы записываются на языке вёрстки *LaTeX.* \n",
    "\n",
    "Для примера мы записали формулы линейной регрессии. Можете их скопировать и отредактировать, чтобы решить задачу.\n",
    "\n",
    "Работать в *LaTeX* необязательно."
   ]
  },
  {
   "cell_type": "markdown",
   "metadata": {},
   "source": [
    "Обозначения:\n",
    "\n",
    "- $X$ — матрица признаков (нулевой столбец состоит из единиц)\n",
    "\n",
    "- $y$ — вектор целевого признака\n",
    "\n",
    "- $P$ — матрица, на которую умножаются признаки\n",
    "\n",
    "- $w$ — вектор весов линейной регрессии (нулевой элемент равен сдвигу)"
   ]
  },
  {
   "cell_type": "markdown",
   "metadata": {},
   "source": [
    "Предсказания:\n",
    "\n",
    "$$\n",
    "a = Xw\n",
    "$$\n",
    "\n",
    "Задача обучения:\n",
    "\n",
    "$$\n",
    "w = \\arg\\min_w MSE(Xw, y)\n",
    "$$\n",
    "\n",
    "Формула обучения:\n",
    "\n",
    "$$\n",
    "w = (X^T X)^{-1} X^T y\n",
    "$$\n",
    "\n",
    "**Признаки умножают на обратимую матрицу. Изменится ли качество линейной регрессии?**"
   ]
  },
  {
   "cell_type": "markdown",
   "metadata": {},
   "source": [
    "**Ответ:** R2 score не изменится.\n",
    "\n",
    "**Обоснование:** Рассмотрим свойства матриц.  \n",
    "\n",
    "\n",
    "\n",
    "* Правила раскрытия скобок.\n",
    "\n",
    "$$\n",
    "(AB)^{-1} = B^{-1}A^{-1}\n",
    "$$\n",
    "\n",
    "$$\n",
    "(AB)^{T} = B^{T}A^{T}\n",
    "$$\n",
    "\n",
    "* Порядок умножения нескольких таблиц\n",
    "\n",
    "$$\n",
    "A(BC) = (AB)C\n",
    "$$\n",
    "\n",
    "* Произведение матрицы на единичную матрицу **E** равно самой матрице\n",
    "\n",
    "$$\n",
    "EA = AE = A\n",
    "$$\n",
    "\n",
    "* Формула для модели на преобразованных признаках, где P - случайная обратимая матрица\n",
    "\n",
    "$$\n",
    "a' = X'w' = (XP)w'\n",
    "$$\n",
    "\n",
    "* Умножение квадратной матрицы на обратную\n",
    "\n",
    "$$ \n",
    "AA^{-1} = E\n",
    "$$\n",
    "\n",
    "* Признаки умножаются на обратимую матрицу **P**. \n",
    "\n",
    "$$\n",
    "w_1 = ((XP)^TXP)^{-1}(XP)^T y\n",
    "$$\n",
    "\n",
    "* Транспонированное произведение матриц равно произведению транспонированных матриц, взятых в обратном порядке\n",
    "\n",
    "$$\n",
    "w_1 = (P^TX^TXP)^{-1}P^TX^{T} y\n",
    "$$\n",
    "\n",
    "* Если умножать матрицу на обратную матрицу будет равенство с единичной матрицей\n",
    "\n",
    "$$\n",
    "w_1 = P^{-1}(X^TX)^{-1}X^{T}y\n",
    "$$\n",
    "\n",
    "* При умножении любой матрицы на еденичную матрицу произведение равно этой самой матрице\n",
    "$$\n",
    "w_1 = P^{-1}(X^TX)^{-1}X^{T}y\n",
    "$$\n",
    "\n",
    "$$\n",
    "a_1 = XPw_1\n",
    "$$\n",
    "$$\n",
    "a_1 = XPP^{-1}(X^TX)^{-1}X^{T}y\n",
    "$$\n",
    "$$\n",
    "a_1 = X(X^TX)^{-1}X^{T}y\n",
    "$$\n",
    "\n",
    "Таким образом доказываем, что  \n",
    "\n",
    "$$\n",
    "a_1 = Xw = a\n",
    "$$"
   ]
  },
  {
   "cell_type": "markdown",
   "metadata": {},
   "source": [
    "## Алгоритм преобразования"
   ]
  },
  {
   "cell_type": "markdown",
   "metadata": {},
   "source": [
    "**Алгоритм**\n",
    "\n",
    "* Генерация обратимой матрицы, размеры которой соответсвуют количеству столбцов (4х4)\n",
    "* Перемножение матрицы изначальных признаков на сгенерированную.\n",
    "* Посчитать качество модели на матрице исходных данных\n",
    "* Посчитать качество модели на умноженной матрице"
   ]
  },
  {
   "cell_type": "markdown",
   "metadata": {},
   "source": [
    "**Обоснование**\n",
    "\n",
    "Метрики R2 как на изменнённой так и на изначальной матриц должны быть равны. Это будет являться докозательством верности защиты персональных данных клиентов."
   ]
  },
  {
   "cell_type": "markdown",
   "metadata": {},
   "source": [
    "## Проверка алгоритма"
   ]
  },
  {
   "cell_type": "code",
   "execution_count": 5,
   "metadata": {},
   "outputs": [],
   "source": [
    "features = data.drop('Страховые выплаты', axis=1)\n",
    "target = data['Страховые выплаты']"
   ]
  },
  {
   "cell_type": "code",
   "execution_count": 6,
   "metadata": {},
   "outputs": [
    {
     "data": {
      "text/plain": [
       "array([[-0.1404194 ,  0.36661958,  1.30966152,  2.20512606],\n",
       "       [ 0.02961557,  0.01626047, -0.3823094 ,  0.93703432],\n",
       "       [ 1.75201713,  1.45897715, -0.23053028, -0.63189237],\n",
       "       [-0.98895085, -2.28709361,  0.03664371,  1.27072812]])"
      ]
     },
     "metadata": {},
     "output_type": "display_data"
    }
   ],
   "source": [
    "matrix_gen = np.random.normal(size=(4, 4))\n",
    "display(matrix_gen)"
   ]
  },
  {
   "cell_type": "markdown",
   "metadata": {},
   "source": [
    "Построим обратную матрицу из сгенерированной матрицы."
   ]
  },
  {
   "cell_type": "code",
   "execution_count": 7,
   "metadata": {},
   "outputs": [
    {
     "data": {
      "text/plain": [
       "array([[ 0.05382753, -0.30944362,  0.91252913,  0.58854682],\n",
       "       [ 0.08307976,  0.44612232, -0.37251459, -0.65838033],\n",
       "       [ 0.44539329, -1.16088712,  0.14214648,  0.15382046],\n",
       "       [ 0.17857723,  0.59559412,  0.0356189 ,  0.05558221]])"
      ]
     },
     "metadata": {},
     "output_type": "display_data"
    }
   ],
   "source": [
    "matrix_reverse = np.linalg.inv(matrix_gen)\n",
    "display(matrix_reverse)"
   ]
  },
  {
   "cell_type": "markdown",
   "metadata": {},
   "source": [
    "Построим матрицу из изначальных признаков и перемножим на обратную матрицу"
   ]
  },
  {
   "cell_type": "code",
   "execution_count": 8,
   "metadata": {},
   "outputs": [
    {
     "data": {
      "text/html": [
       "<div>\n",
       "<style scoped>\n",
       "    .dataframe tbody tr th:only-of-type {\n",
       "        vertical-align: middle;\n",
       "    }\n",
       "\n",
       "    .dataframe tbody tr th {\n",
       "        vertical-align: top;\n",
       "    }\n",
       "\n",
       "    .dataframe thead th {\n",
       "        text-align: right;\n",
       "    }\n",
       "</style>\n",
       "<table border=\"1\" class=\"dataframe\">\n",
       "  <thead>\n",
       "    <tr style=\"text-align: right;\">\n",
       "      <th></th>\n",
       "      <th>Пол</th>\n",
       "      <th>Возраст</th>\n",
       "      <th>Зарплата</th>\n",
       "      <th>Члены семьи</th>\n",
       "    </tr>\n",
       "  </thead>\n",
       "  <tbody>\n",
       "    <tr>\n",
       "      <th>0</th>\n",
       "      <td>22095.146018</td>\n",
       "      <td>-57561.423812</td>\n",
       "      <td>7036.140538</td>\n",
       "      <td>7603.145488</td>\n",
       "    </tr>\n",
       "    <tr>\n",
       "      <th>1</th>\n",
       "      <td>16928.945388</td>\n",
       "      <td>-44092.593206</td>\n",
       "      <td>5384.466249</td>\n",
       "      <td>5814.947671</td>\n",
       "    </tr>\n",
       "    <tr>\n",
       "      <th>2</th>\n",
       "      <td>9355.668470</td>\n",
       "      <td>-24365.691899</td>\n",
       "      <td>2974.273191</td>\n",
       "      <td>3211.136688</td>\n",
       "    </tr>\n",
       "    <tr>\n",
       "      <th>3</th>\n",
       "      <td>18575.002156</td>\n",
       "      <td>-48398.433001</td>\n",
       "      <td>5919.756715</td>\n",
       "      <td>6400.598474</td>\n",
       "    </tr>\n",
       "    <tr>\n",
       "      <th>4</th>\n",
       "      <td>11627.145014</td>\n",
       "      <td>-30286.971759</td>\n",
       "      <td>3700.505291</td>\n",
       "      <td>3996.867975</td>\n",
       "    </tr>\n",
       "    <tr>\n",
       "      <th>...</th>\n",
       "      <td>...</td>\n",
       "      <td>...</td>\n",
       "      <td>...</td>\n",
       "      <td>...</td>\n",
       "    </tr>\n",
       "    <tr>\n",
       "      <th>4995</th>\n",
       "      <td>15903.223955</td>\n",
       "      <td>-41429.987446</td>\n",
       "      <td>5064.270223</td>\n",
       "      <td>5473.067035</td>\n",
       "    </tr>\n",
       "    <tr>\n",
       "      <th>4996</th>\n",
       "      <td>23341.611853</td>\n",
       "      <td>-60814.721151</td>\n",
       "      <td>7435.845760</td>\n",
       "      <td>8037.862899</td>\n",
       "    </tr>\n",
       "    <tr>\n",
       "      <th>4997</th>\n",
       "      <td>15100.851390</td>\n",
       "      <td>-39343.959615</td>\n",
       "      <td>4811.386673</td>\n",
       "      <td>5201.457245</td>\n",
       "    </tr>\n",
       "    <tr>\n",
       "      <th>4998</th>\n",
       "      <td>14566.778002</td>\n",
       "      <td>-37949.716680</td>\n",
       "      <td>4641.014014</td>\n",
       "      <td>5016.200058</td>\n",
       "    </tr>\n",
       "    <tr>\n",
       "      <th>4999</th>\n",
       "      <td>18085.526342</td>\n",
       "      <td>-47119.239354</td>\n",
       "      <td>5761.664893</td>\n",
       "      <td>6227.320267</td>\n",
       "    </tr>\n",
       "  </tbody>\n",
       "</table>\n",
       "<p>5000 rows × 4 columns</p>\n",
       "</div>"
      ],
      "text/plain": [
       "               Пол       Возраст     Зарплата  Члены семьи\n",
       "0     22095.146018 -57561.423812  7036.140538  7603.145488\n",
       "1     16928.945388 -44092.593206  5384.466249  5814.947671\n",
       "2      9355.668470 -24365.691899  2974.273191  3211.136688\n",
       "3     18575.002156 -48398.433001  5919.756715  6400.598474\n",
       "4     11627.145014 -30286.971759  3700.505291  3996.867975\n",
       "...            ...           ...          ...          ...\n",
       "4995  15903.223955 -41429.987446  5064.270223  5473.067035\n",
       "4996  23341.611853 -60814.721151  7435.845760  8037.862899\n",
       "4997  15100.851390 -39343.959615  4811.386673  5201.457245\n",
       "4998  14566.778002 -37949.716680  4641.014014  5016.200058\n",
       "4999  18085.526342 -47119.239354  5761.664893  6227.320267\n",
       "\n",
       "[5000 rows x 4 columns]"
      ]
     },
     "metadata": {},
     "output_type": "display_data"
    }
   ],
   "source": [
    "matrix = features.values\n",
    "matrix_coded = matrix@matrix_reverse\n",
    "features_coded = pd.DataFrame(matrix_coded, columns = features.columns)\n",
    "display(features_coded)"
   ]
  },
  {
   "cell_type": "markdown",
   "metadata": {},
   "source": [
    "Следующий этап - проверка линейной регрессии."
   ]
  },
  {
   "cell_type": "code",
   "execution_count": 9,
   "metadata": {},
   "outputs": [
    {
     "data": {
      "text/plain": [
       "'R2 Незашифрованной модели равен'"
      ]
     },
     "metadata": {},
     "output_type": "display_data"
    },
    {
     "data": {
      "text/plain": [
       "0.4249455028666801"
      ]
     },
     "metadata": {},
     "output_type": "display_data"
    }
   ],
   "source": [
    "model = LinearRegression()\n",
    "model.fit(features, target)\n",
    "predictions = model.predict(features)\n",
    "display('R2 Незашифрованной модели равен',  r2_score(target, predictions))"
   ]
  },
  {
   "cell_type": "code",
   "execution_count": 10,
   "metadata": {},
   "outputs": [
    {
     "data": {
      "text/plain": [
       "'R2 Зашифрованной модели равен'"
      ]
     },
     "metadata": {},
     "output_type": "display_data"
    },
    {
     "data": {
      "text/plain": [
       "0.4249455028666792"
      ]
     },
     "metadata": {},
     "output_type": "display_data"
    }
   ],
   "source": [
    "model = LinearRegression()\n",
    "model.fit(features_coded, target)\n",
    "predictions = model.predict(features_coded)\n",
    "display('R2 Зашифрованной модели равен',  r2_score(target, predictions))"
   ]
  },
  {
   "cell_type": "markdown",
   "metadata": {},
   "source": [
    "**Вывод**  \n",
    "\n",
    "R2 Показатель после кодировки данных, в целом, не изменился. "
   ]
  }
 ],
 "metadata": {
  "ExecuteTimeLog": [
   {
    "duration": 1056,
    "start_time": "2023-02-07T17:17:49.912Z"
   },
   {
    "duration": 90,
    "start_time": "2023-02-07T17:17:50.970Z"
   },
   {
    "duration": 3,
    "start_time": "2023-02-07T17:17:51.062Z"
   },
   {
    "duration": 54,
    "start_time": "2023-02-07T17:17:51.067Z"
   },
   {
    "duration": 55,
    "start_time": "2023-02-09T16:36:27.095Z"
   },
   {
    "duration": 1116,
    "start_time": "2023-02-09T16:36:36.421Z"
   },
   {
    "duration": 125,
    "start_time": "2023-02-09T16:36:37.539Z"
   },
   {
    "duration": 4,
    "start_time": "2023-02-09T16:36:37.666Z"
   },
   {
    "duration": 70,
    "start_time": "2023-02-09T16:36:37.671Z"
   },
   {
    "duration": 3,
    "start_time": "2023-02-09T16:36:37.743Z"
   },
   {
    "duration": 7,
    "start_time": "2023-02-09T16:46:12.975Z"
   },
   {
    "duration": 16,
    "start_time": "2023-02-09T16:49:39.375Z"
   },
   {
    "duration": 104,
    "start_time": "2023-02-09T16:55:37.799Z"
   },
   {
    "duration": 7,
    "start_time": "2023-02-09T16:55:44.867Z"
   },
   {
    "duration": 4,
    "start_time": "2023-02-09T16:55:53.897Z"
   },
   {
    "duration": 19,
    "start_time": "2023-02-09T16:56:08.467Z"
   },
   {
    "duration": 8,
    "start_time": "2023-02-09T16:59:28.105Z"
   },
   {
    "duration": 13,
    "start_time": "2023-02-09T16:59:50.971Z"
   },
   {
    "duration": 1113,
    "start_time": "2023-02-09T17:00:23.167Z"
   },
   {
    "duration": 37,
    "start_time": "2023-02-09T17:00:24.282Z"
   },
   {
    "duration": 3,
    "start_time": "2023-02-09T17:00:24.321Z"
   },
   {
    "duration": 72,
    "start_time": "2023-02-09T17:00:24.326Z"
   },
   {
    "duration": 3,
    "start_time": "2023-02-09T17:00:24.401Z"
   },
   {
    "duration": 7,
    "start_time": "2023-02-09T17:00:24.406Z"
   },
   {
    "duration": 10,
    "start_time": "2023-02-09T17:00:24.415Z"
   },
   {
    "duration": 61,
    "start_time": "2023-02-09T17:00:24.427Z"
   },
   {
    "duration": 110,
    "start_time": "2023-02-09T17:00:24.496Z"
   },
   {
    "duration": 82,
    "start_time": "2023-02-09T17:01:38.693Z"
   },
   {
    "duration": 1392,
    "start_time": "2023-02-10T17:25:57.619Z"
   },
   {
    "duration": 199,
    "start_time": "2023-02-10T17:25:59.013Z"
   },
   {
    "duration": 4,
    "start_time": "2023-02-10T17:25:59.214Z"
   },
   {
    "duration": 103,
    "start_time": "2023-02-10T17:25:59.225Z"
   },
   {
    "duration": 9,
    "start_time": "2023-02-10T17:25:59.330Z"
   },
   {
    "duration": 41,
    "start_time": "2023-02-10T17:25:59.341Z"
   },
   {
    "duration": 8,
    "start_time": "2023-02-10T17:25:59.384Z"
   },
   {
    "duration": 54,
    "start_time": "2023-02-10T17:25:59.395Z"
   },
   {
    "duration": 180,
    "start_time": "2023-02-10T17:25:59.452Z"
   },
   {
    "duration": 91,
    "start_time": "2023-02-10T17:25:59.634Z"
   },
   {
    "duration": 1525,
    "start_time": "2023-02-10T17:26:21.814Z"
   },
   {
    "duration": 44,
    "start_time": "2023-02-10T17:26:23.343Z"
   },
   {
    "duration": 4,
    "start_time": "2023-02-10T17:26:23.390Z"
   },
   {
    "duration": 78,
    "start_time": "2023-02-10T17:26:23.396Z"
   },
   {
    "duration": 4,
    "start_time": "2023-02-10T17:26:23.475Z"
   },
   {
    "duration": 12,
    "start_time": "2023-02-10T17:26:23.484Z"
   },
   {
    "duration": 31,
    "start_time": "2023-02-10T17:26:23.498Z"
   },
   {
    "duration": 138,
    "start_time": "2023-02-10T17:26:23.531Z"
   },
   {
    "duration": 64,
    "start_time": "2023-02-10T17:26:23.673Z"
   },
   {
    "duration": 102,
    "start_time": "2023-02-10T17:26:23.754Z"
   },
   {
    "duration": 132,
    "start_time": "2023-02-12T16:20:55.833Z"
   }
  ],
  "kernelspec": {
   "display_name": "Python 3 (ipykernel)",
   "language": "python",
   "name": "python3"
  },
  "language_info": {
   "codemirror_mode": {
    "name": "ipython",
    "version": 3
   },
   "file_extension": ".py",
   "mimetype": "text/x-python",
   "name": "python",
   "nbconvert_exporter": "python",
   "pygments_lexer": "ipython3",
   "version": "3.9.5"
  },
  "toc": {
   "base_numbering": 1,
   "nav_menu": {},
   "number_sections": true,
   "sideBar": true,
   "skip_h1_title": true,
   "title_cell": "Содержание",
   "title_sidebar": "Contents",
   "toc_cell": true,
   "toc_position": {
    "height": "calc(100% - 180px)",
    "left": "10px",
    "top": "150px",
    "width": "165px"
   },
   "toc_section_display": true,
   "toc_window_display": true
  }
 },
 "nbformat": 4,
 "nbformat_minor": 2
}
