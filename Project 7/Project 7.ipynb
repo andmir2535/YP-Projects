{
 "cells": [
  {
   "cell_type": "markdown",
   "metadata": {
    "toc": true
   },
   "source": [
    "<h1>Содержание<span class=\"tocSkip\"></span></h1>\n",
    "<div class=\"toc\"><ul class=\"toc-item\"><li><span><a href=\"#Подготовка-данных\" data-toc-modified-id=\"Подготовка-данных-1\"><span class=\"toc-item-num\">1&nbsp;&nbsp;</span>Подготовка данных</a></span></li><li><span><a href=\"#Исследование-задачи\" data-toc-modified-id=\"Исследование-задачи-2\"><span class=\"toc-item-num\">2&nbsp;&nbsp;</span>Исследование задачи</a></span></li><li><span><a href=\"#Борьба-с-дисбалансом\" data-toc-modified-id=\"Борьба-с-дисбалансом-3\"><span class=\"toc-item-num\">3&nbsp;&nbsp;</span>Борьба с дисбалансом</a></span></li><li><span><a href=\"#Тестирование-модели\" data-toc-modified-id=\"Тестирование-модели-4\"><span class=\"toc-item-num\">4&nbsp;&nbsp;</span>Тестирование модели</a></span></li></ul></div>"
   ]
  },
  {
   "cell_type": "markdown",
   "metadata": {},
   "source": [
    "# Отток клиентов"
   ]
  },
  {
   "cell_type": "markdown",
   "metadata": {},
   "source": [
    "Из «Бета-Банка» стали уходить клиенты. Каждый месяц. Немного, но заметно. Банковские маркетологи посчитали: сохранять текущих клиентов дешевле, чем привлекать новых.\n",
    "\n",
    "Нужно спрогнозировать, уйдёт клиент из банка в ближайшее время или нет. Вам предоставлены исторические данные о поведении клиентов и расторжении договоров с банком. \n",
    "\n",
    "Постройте модель с предельно большим значением *F1*-меры. Чтобы сдать проект успешно, нужно довести метрику до 0.59. Проверьте *F1*-меру на тестовой выборке самостоятельно.\n",
    "\n",
    "Дополнительно измеряйте *AUC-ROC*, сравнивайте её значение с *F1*-мерой.\n",
    "\n",
    "Источник данных: [https://www.kaggle.com/barelydedicated/bank-customer-churn-modeling](https://www.kaggle.com/barelydedicated/bank-customer-churn-modeling)"
   ]
  },
  {
   "cell_type": "markdown",
   "metadata": {},
   "source": [
    "Здравствуйте!  \n",
    "В данном проекте, будем следовать действиям и рекомендациям указаным выше.  \n",
    "Вот **План работы над проектом**.\n",
    "\n",
    "* Изучим данные.  \n",
    "* Разобъём данные на тренировочную, валидационную и тестовую выборки.  \n",
    "* Исследуем задачу.  \n",
    "* Проверим модели на данных без изменений.\n",
    "* Скоректируем балланс класса.\n",
    "* Получим улучшенную модель. Поработаем с гиперпараметрами.\n",
    "* Проведём финальный тест.\n",
    "* Напишем вывод(ы)."
   ]
  },
  {
   "cell_type": "markdown",
   "metadata": {},
   "source": [
    "## Подготовка данных"
   ]
  },
  {
   "cell_type": "code",
   "execution_count": 1,
   "metadata": {},
   "outputs": [],
   "source": [
    "import pandas as pd #Импортируем библиотеку pandas для просмотра датесета.\n",
    "import matplotlib.pyplot as plt #Импортируем библиотеку для просмотра графиков\n",
    "import seaborn as sns #Импортируем библиотеку seaborn для построения графиков\n",
    "from sklearn.model_selection import train_test_split # импортируем функции деления датасета\n",
    "from sklearn.tree import DecisionTreeClassifier #Импортируем функцию решающее дерево\n",
    "from sklearn.ensemble import RandomForestClassifier #Импортируем модель случайный лес\n",
    "from sklearn.linear_model import LogisticRegression #Импортируем модель логистическая регрессия\n",
    "from sklearn.metrics import f1_score, precision_score, recall_score, accuracy_score, roc_auc_score, roc_curve #Импортируем библиотеки для просмотра метрик\n",
    "from sklearn.utils import shuffle # Функция для перемешивания данных\n",
    "from sklearn.preprocessing import StandardScaler #Функция для масштабирования численных признаков "
   ]
  },
  {
   "cell_type": "code",
   "execution_count": 2,
   "metadata": {
    "scrolled": true
   },
   "outputs": [
    {
     "data": {
      "text/html": [
       "<div>\n",
       "<style scoped>\n",
       "    .dataframe tbody tr th:only-of-type {\n",
       "        vertical-align: middle;\n",
       "    }\n",
       "\n",
       "    .dataframe tbody tr th {\n",
       "        vertical-align: top;\n",
       "    }\n",
       "\n",
       "    .dataframe thead th {\n",
       "        text-align: right;\n",
       "    }\n",
       "</style>\n",
       "<table border=\"1\" class=\"dataframe\">\n",
       "  <thead>\n",
       "    <tr style=\"text-align: right;\">\n",
       "      <th></th>\n",
       "      <th>RowNumber</th>\n",
       "      <th>CustomerId</th>\n",
       "      <th>Surname</th>\n",
       "      <th>CreditScore</th>\n",
       "      <th>Geography</th>\n",
       "      <th>Gender</th>\n",
       "      <th>Age</th>\n",
       "      <th>Tenure</th>\n",
       "      <th>Balance</th>\n",
       "      <th>NumOfProducts</th>\n",
       "      <th>HasCrCard</th>\n",
       "      <th>IsActiveMember</th>\n",
       "      <th>EstimatedSalary</th>\n",
       "      <th>Exited</th>\n",
       "    </tr>\n",
       "  </thead>\n",
       "  <tbody>\n",
       "    <tr>\n",
       "      <th>0</th>\n",
       "      <td>1</td>\n",
       "      <td>15634602</td>\n",
       "      <td>Hargrave</td>\n",
       "      <td>619</td>\n",
       "      <td>France</td>\n",
       "      <td>Female</td>\n",
       "      <td>42</td>\n",
       "      <td>2.0</td>\n",
       "      <td>0.00</td>\n",
       "      <td>1</td>\n",
       "      <td>1</td>\n",
       "      <td>1</td>\n",
       "      <td>101348.88</td>\n",
       "      <td>1</td>\n",
       "    </tr>\n",
       "    <tr>\n",
       "      <th>1</th>\n",
       "      <td>2</td>\n",
       "      <td>15647311</td>\n",
       "      <td>Hill</td>\n",
       "      <td>608</td>\n",
       "      <td>Spain</td>\n",
       "      <td>Female</td>\n",
       "      <td>41</td>\n",
       "      <td>1.0</td>\n",
       "      <td>83807.86</td>\n",
       "      <td>1</td>\n",
       "      <td>0</td>\n",
       "      <td>1</td>\n",
       "      <td>112542.58</td>\n",
       "      <td>0</td>\n",
       "    </tr>\n",
       "    <tr>\n",
       "      <th>2</th>\n",
       "      <td>3</td>\n",
       "      <td>15619304</td>\n",
       "      <td>Onio</td>\n",
       "      <td>502</td>\n",
       "      <td>France</td>\n",
       "      <td>Female</td>\n",
       "      <td>42</td>\n",
       "      <td>8.0</td>\n",
       "      <td>159660.80</td>\n",
       "      <td>3</td>\n",
       "      <td>1</td>\n",
       "      <td>0</td>\n",
       "      <td>113931.57</td>\n",
       "      <td>1</td>\n",
       "    </tr>\n",
       "    <tr>\n",
       "      <th>3</th>\n",
       "      <td>4</td>\n",
       "      <td>15701354</td>\n",
       "      <td>Boni</td>\n",
       "      <td>699</td>\n",
       "      <td>France</td>\n",
       "      <td>Female</td>\n",
       "      <td>39</td>\n",
       "      <td>1.0</td>\n",
       "      <td>0.00</td>\n",
       "      <td>2</td>\n",
       "      <td>0</td>\n",
       "      <td>0</td>\n",
       "      <td>93826.63</td>\n",
       "      <td>0</td>\n",
       "    </tr>\n",
       "    <tr>\n",
       "      <th>4</th>\n",
       "      <td>5</td>\n",
       "      <td>15737888</td>\n",
       "      <td>Mitchell</td>\n",
       "      <td>850</td>\n",
       "      <td>Spain</td>\n",
       "      <td>Female</td>\n",
       "      <td>43</td>\n",
       "      <td>2.0</td>\n",
       "      <td>125510.82</td>\n",
       "      <td>1</td>\n",
       "      <td>1</td>\n",
       "      <td>1</td>\n",
       "      <td>79084.10</td>\n",
       "      <td>0</td>\n",
       "    </tr>\n",
       "  </tbody>\n",
       "</table>\n",
       "</div>"
      ],
      "text/plain": [
       "   RowNumber  CustomerId   Surname  CreditScore Geography  Gender  Age  \\\n",
       "0          1    15634602  Hargrave          619    France  Female   42   \n",
       "1          2    15647311      Hill          608     Spain  Female   41   \n",
       "2          3    15619304      Onio          502    France  Female   42   \n",
       "3          4    15701354      Boni          699    France  Female   39   \n",
       "4          5    15737888  Mitchell          850     Spain  Female   43   \n",
       "\n",
       "   Tenure    Balance  NumOfProducts  HasCrCard  IsActiveMember  \\\n",
       "0     2.0       0.00              1          1               1   \n",
       "1     1.0   83807.86              1          0               1   \n",
       "2     8.0  159660.80              3          1               0   \n",
       "3     1.0       0.00              2          0               0   \n",
       "4     2.0  125510.82              1          1               1   \n",
       "\n",
       "   EstimatedSalary  Exited  \n",
       "0        101348.88       1  \n",
       "1        112542.58       0  \n",
       "2        113931.57       1  \n",
       "3         93826.63       0  \n",
       "4         79084.10       0  "
      ]
     },
     "metadata": {},
     "output_type": "display_data"
    }
   ],
   "source": [
    "df = pd.read_csv('/datasets/Churn.csv')\n",
    "display(df.head()) #просмотрим краткое содержание файла"
   ]
  },
  {
   "cell_type": "code",
   "execution_count": 3,
   "metadata": {},
   "outputs": [
    {
     "data": {
      "text/html": [
       "<div>\n",
       "<style scoped>\n",
       "    .dataframe tbody tr th:only-of-type {\n",
       "        vertical-align: middle;\n",
       "    }\n",
       "\n",
       "    .dataframe tbody tr th {\n",
       "        vertical-align: top;\n",
       "    }\n",
       "\n",
       "    .dataframe thead th {\n",
       "        text-align: right;\n",
       "    }\n",
       "</style>\n",
       "<table border=\"1\" class=\"dataframe\">\n",
       "  <thead>\n",
       "    <tr style=\"text-align: right;\">\n",
       "      <th></th>\n",
       "      <th>RowNumber</th>\n",
       "      <th>CustomerId</th>\n",
       "      <th>Surname</th>\n",
       "      <th>CreditScore</th>\n",
       "      <th>Geography</th>\n",
       "      <th>Gender</th>\n",
       "      <th>Age</th>\n",
       "      <th>Tenure</th>\n",
       "      <th>Balance</th>\n",
       "      <th>NumOfProducts</th>\n",
       "      <th>HasCrCard</th>\n",
       "      <th>IsActiveMember</th>\n",
       "      <th>EstimatedSalary</th>\n",
       "      <th>Exited</th>\n",
       "    </tr>\n",
       "  </thead>\n",
       "  <tbody>\n",
       "    <tr>\n",
       "      <th>9990</th>\n",
       "      <td>9991</td>\n",
       "      <td>15798964</td>\n",
       "      <td>Nkemakonam</td>\n",
       "      <td>714</td>\n",
       "      <td>Germany</td>\n",
       "      <td>Male</td>\n",
       "      <td>33</td>\n",
       "      <td>3.0</td>\n",
       "      <td>35016.60</td>\n",
       "      <td>1</td>\n",
       "      <td>1</td>\n",
       "      <td>0</td>\n",
       "      <td>53667.08</td>\n",
       "      <td>0</td>\n",
       "    </tr>\n",
       "    <tr>\n",
       "      <th>9991</th>\n",
       "      <td>9992</td>\n",
       "      <td>15769959</td>\n",
       "      <td>Ajuluchukwu</td>\n",
       "      <td>597</td>\n",
       "      <td>France</td>\n",
       "      <td>Female</td>\n",
       "      <td>53</td>\n",
       "      <td>4.0</td>\n",
       "      <td>88381.21</td>\n",
       "      <td>1</td>\n",
       "      <td>1</td>\n",
       "      <td>0</td>\n",
       "      <td>69384.71</td>\n",
       "      <td>1</td>\n",
       "    </tr>\n",
       "    <tr>\n",
       "      <th>9992</th>\n",
       "      <td>9993</td>\n",
       "      <td>15657105</td>\n",
       "      <td>Chukwualuka</td>\n",
       "      <td>726</td>\n",
       "      <td>Spain</td>\n",
       "      <td>Male</td>\n",
       "      <td>36</td>\n",
       "      <td>2.0</td>\n",
       "      <td>0.00</td>\n",
       "      <td>1</td>\n",
       "      <td>1</td>\n",
       "      <td>0</td>\n",
       "      <td>195192.40</td>\n",
       "      <td>0</td>\n",
       "    </tr>\n",
       "    <tr>\n",
       "      <th>9993</th>\n",
       "      <td>9994</td>\n",
       "      <td>15569266</td>\n",
       "      <td>Rahman</td>\n",
       "      <td>644</td>\n",
       "      <td>France</td>\n",
       "      <td>Male</td>\n",
       "      <td>28</td>\n",
       "      <td>7.0</td>\n",
       "      <td>155060.41</td>\n",
       "      <td>1</td>\n",
       "      <td>1</td>\n",
       "      <td>0</td>\n",
       "      <td>29179.52</td>\n",
       "      <td>0</td>\n",
       "    </tr>\n",
       "    <tr>\n",
       "      <th>9994</th>\n",
       "      <td>9995</td>\n",
       "      <td>15719294</td>\n",
       "      <td>Wood</td>\n",
       "      <td>800</td>\n",
       "      <td>France</td>\n",
       "      <td>Female</td>\n",
       "      <td>29</td>\n",
       "      <td>2.0</td>\n",
       "      <td>0.00</td>\n",
       "      <td>2</td>\n",
       "      <td>0</td>\n",
       "      <td>0</td>\n",
       "      <td>167773.55</td>\n",
       "      <td>0</td>\n",
       "    </tr>\n",
       "    <tr>\n",
       "      <th>9995</th>\n",
       "      <td>9996</td>\n",
       "      <td>15606229</td>\n",
       "      <td>Obijiaku</td>\n",
       "      <td>771</td>\n",
       "      <td>France</td>\n",
       "      <td>Male</td>\n",
       "      <td>39</td>\n",
       "      <td>5.0</td>\n",
       "      <td>0.00</td>\n",
       "      <td>2</td>\n",
       "      <td>1</td>\n",
       "      <td>0</td>\n",
       "      <td>96270.64</td>\n",
       "      <td>0</td>\n",
       "    </tr>\n",
       "    <tr>\n",
       "      <th>9996</th>\n",
       "      <td>9997</td>\n",
       "      <td>15569892</td>\n",
       "      <td>Johnstone</td>\n",
       "      <td>516</td>\n",
       "      <td>France</td>\n",
       "      <td>Male</td>\n",
       "      <td>35</td>\n",
       "      <td>10.0</td>\n",
       "      <td>57369.61</td>\n",
       "      <td>1</td>\n",
       "      <td>1</td>\n",
       "      <td>1</td>\n",
       "      <td>101699.77</td>\n",
       "      <td>0</td>\n",
       "    </tr>\n",
       "    <tr>\n",
       "      <th>9997</th>\n",
       "      <td>9998</td>\n",
       "      <td>15584532</td>\n",
       "      <td>Liu</td>\n",
       "      <td>709</td>\n",
       "      <td>France</td>\n",
       "      <td>Female</td>\n",
       "      <td>36</td>\n",
       "      <td>7.0</td>\n",
       "      <td>0.00</td>\n",
       "      <td>1</td>\n",
       "      <td>0</td>\n",
       "      <td>1</td>\n",
       "      <td>42085.58</td>\n",
       "      <td>1</td>\n",
       "    </tr>\n",
       "    <tr>\n",
       "      <th>9998</th>\n",
       "      <td>9999</td>\n",
       "      <td>15682355</td>\n",
       "      <td>Sabbatini</td>\n",
       "      <td>772</td>\n",
       "      <td>Germany</td>\n",
       "      <td>Male</td>\n",
       "      <td>42</td>\n",
       "      <td>3.0</td>\n",
       "      <td>75075.31</td>\n",
       "      <td>2</td>\n",
       "      <td>1</td>\n",
       "      <td>0</td>\n",
       "      <td>92888.52</td>\n",
       "      <td>1</td>\n",
       "    </tr>\n",
       "    <tr>\n",
       "      <th>9999</th>\n",
       "      <td>10000</td>\n",
       "      <td>15628319</td>\n",
       "      <td>Walker</td>\n",
       "      <td>792</td>\n",
       "      <td>France</td>\n",
       "      <td>Female</td>\n",
       "      <td>28</td>\n",
       "      <td>NaN</td>\n",
       "      <td>130142.79</td>\n",
       "      <td>1</td>\n",
       "      <td>1</td>\n",
       "      <td>0</td>\n",
       "      <td>38190.78</td>\n",
       "      <td>0</td>\n",
       "    </tr>\n",
       "  </tbody>\n",
       "</table>\n",
       "</div>"
      ],
      "text/plain": [
       "      RowNumber  CustomerId      Surname  CreditScore Geography  Gender  Age  \\\n",
       "9990       9991    15798964   Nkemakonam          714   Germany    Male   33   \n",
       "9991       9992    15769959  Ajuluchukwu          597    France  Female   53   \n",
       "9992       9993    15657105  Chukwualuka          726     Spain    Male   36   \n",
       "9993       9994    15569266       Rahman          644    France    Male   28   \n",
       "9994       9995    15719294         Wood          800    France  Female   29   \n",
       "9995       9996    15606229     Obijiaku          771    France    Male   39   \n",
       "9996       9997    15569892    Johnstone          516    France    Male   35   \n",
       "9997       9998    15584532          Liu          709    France  Female   36   \n",
       "9998       9999    15682355    Sabbatini          772   Germany    Male   42   \n",
       "9999      10000    15628319       Walker          792    France  Female   28   \n",
       "\n",
       "      Tenure    Balance  NumOfProducts  HasCrCard  IsActiveMember  \\\n",
       "9990     3.0   35016.60              1          1               0   \n",
       "9991     4.0   88381.21              1          1               0   \n",
       "9992     2.0       0.00              1          1               0   \n",
       "9993     7.0  155060.41              1          1               0   \n",
       "9994     2.0       0.00              2          0               0   \n",
       "9995     5.0       0.00              2          1               0   \n",
       "9996    10.0   57369.61              1          1               1   \n",
       "9997     7.0       0.00              1          0               1   \n",
       "9998     3.0   75075.31              2          1               0   \n",
       "9999     NaN  130142.79              1          1               0   \n",
       "\n",
       "      EstimatedSalary  Exited  \n",
       "9990         53667.08       0  \n",
       "9991         69384.71       1  \n",
       "9992        195192.40       0  \n",
       "9993         29179.52       0  \n",
       "9994        167773.55       0  \n",
       "9995         96270.64       0  \n",
       "9996        101699.77       0  \n",
       "9997         42085.58       1  \n",
       "9998         92888.52       1  \n",
       "9999         38190.78       0  "
      ]
     },
     "metadata": {},
     "output_type": "display_data"
    }
   ],
   "source": [
    "display(df.tail(10)) #просмотрим краткое содержание последних строк файла"
   ]
  },
  {
   "cell_type": "code",
   "execution_count": 4,
   "metadata": {
    "scrolled": true
   },
   "outputs": [
    {
     "name": "stdout",
     "output_type": "stream",
     "text": [
      "<class 'pandas.core.frame.DataFrame'>\n",
      "RangeIndex: 10000 entries, 0 to 9999\n",
      "Data columns (total 14 columns):\n",
      " #   Column           Non-Null Count  Dtype  \n",
      "---  ------           --------------  -----  \n",
      " 0   RowNumber        10000 non-null  int64  \n",
      " 1   CustomerId       10000 non-null  int64  \n",
      " 2   Surname          10000 non-null  object \n",
      " 3   CreditScore      10000 non-null  int64  \n",
      " 4   Geography        10000 non-null  object \n",
      " 5   Gender           10000 non-null  object \n",
      " 6   Age              10000 non-null  int64  \n",
      " 7   Tenure           9091 non-null   float64\n",
      " 8   Balance          10000 non-null  float64\n",
      " 9   NumOfProducts    10000 non-null  int64  \n",
      " 10  HasCrCard        10000 non-null  int64  \n",
      " 11  IsActiveMember   10000 non-null  int64  \n",
      " 12  EstimatedSalary  10000 non-null  float64\n",
      " 13  Exited           10000 non-null  int64  \n",
      "dtypes: float64(3), int64(8), object(3)\n",
      "memory usage: 1.1+ MB\n"
     ]
    }
   ],
   "source": [
    "df.info() #Продолжим изучение, сделаем вывод ниже"
   ]
  },
  {
   "cell_type": "code",
   "execution_count": 5,
   "metadata": {
    "scrolled": false
   },
   "outputs": [
    {
     "data": {
      "text/html": [
       "<div>\n",
       "<style scoped>\n",
       "    .dataframe tbody tr th:only-of-type {\n",
       "        vertical-align: middle;\n",
       "    }\n",
       "\n",
       "    .dataframe tbody tr th {\n",
       "        vertical-align: top;\n",
       "    }\n",
       "\n",
       "    .dataframe thead th {\n",
       "        text-align: right;\n",
       "    }\n",
       "</style>\n",
       "<table border=\"1\" class=\"dataframe\">\n",
       "  <thead>\n",
       "    <tr style=\"text-align: right;\">\n",
       "      <th></th>\n",
       "      <th>RowNumber</th>\n",
       "      <th>CustomerId</th>\n",
       "      <th>CreditScore</th>\n",
       "      <th>Age</th>\n",
       "      <th>Tenure</th>\n",
       "      <th>Balance</th>\n",
       "      <th>NumOfProducts</th>\n",
       "      <th>HasCrCard</th>\n",
       "      <th>IsActiveMember</th>\n",
       "      <th>EstimatedSalary</th>\n",
       "      <th>Exited</th>\n",
       "    </tr>\n",
       "  </thead>\n",
       "  <tbody>\n",
       "    <tr>\n",
       "      <th>count</th>\n",
       "      <td>10000.00000</td>\n",
       "      <td>1.000000e+04</td>\n",
       "      <td>10000.000000</td>\n",
       "      <td>10000.000000</td>\n",
       "      <td>9091.000000</td>\n",
       "      <td>10000.000000</td>\n",
       "      <td>10000.000000</td>\n",
       "      <td>10000.00000</td>\n",
       "      <td>10000.000000</td>\n",
       "      <td>10000.000000</td>\n",
       "      <td>10000.000000</td>\n",
       "    </tr>\n",
       "    <tr>\n",
       "      <th>mean</th>\n",
       "      <td>5000.50000</td>\n",
       "      <td>1.569094e+07</td>\n",
       "      <td>650.528800</td>\n",
       "      <td>38.921800</td>\n",
       "      <td>4.997690</td>\n",
       "      <td>76485.889288</td>\n",
       "      <td>1.530200</td>\n",
       "      <td>0.70550</td>\n",
       "      <td>0.515100</td>\n",
       "      <td>100090.239881</td>\n",
       "      <td>0.203700</td>\n",
       "    </tr>\n",
       "    <tr>\n",
       "      <th>std</th>\n",
       "      <td>2886.89568</td>\n",
       "      <td>7.193619e+04</td>\n",
       "      <td>96.653299</td>\n",
       "      <td>10.487806</td>\n",
       "      <td>2.894723</td>\n",
       "      <td>62397.405202</td>\n",
       "      <td>0.581654</td>\n",
       "      <td>0.45584</td>\n",
       "      <td>0.499797</td>\n",
       "      <td>57510.492818</td>\n",
       "      <td>0.402769</td>\n",
       "    </tr>\n",
       "    <tr>\n",
       "      <th>min</th>\n",
       "      <td>1.00000</td>\n",
       "      <td>1.556570e+07</td>\n",
       "      <td>350.000000</td>\n",
       "      <td>18.000000</td>\n",
       "      <td>0.000000</td>\n",
       "      <td>0.000000</td>\n",
       "      <td>1.000000</td>\n",
       "      <td>0.00000</td>\n",
       "      <td>0.000000</td>\n",
       "      <td>11.580000</td>\n",
       "      <td>0.000000</td>\n",
       "    </tr>\n",
       "    <tr>\n",
       "      <th>25%</th>\n",
       "      <td>2500.75000</td>\n",
       "      <td>1.562853e+07</td>\n",
       "      <td>584.000000</td>\n",
       "      <td>32.000000</td>\n",
       "      <td>2.000000</td>\n",
       "      <td>0.000000</td>\n",
       "      <td>1.000000</td>\n",
       "      <td>0.00000</td>\n",
       "      <td>0.000000</td>\n",
       "      <td>51002.110000</td>\n",
       "      <td>0.000000</td>\n",
       "    </tr>\n",
       "    <tr>\n",
       "      <th>50%</th>\n",
       "      <td>5000.50000</td>\n",
       "      <td>1.569074e+07</td>\n",
       "      <td>652.000000</td>\n",
       "      <td>37.000000</td>\n",
       "      <td>5.000000</td>\n",
       "      <td>97198.540000</td>\n",
       "      <td>1.000000</td>\n",
       "      <td>1.00000</td>\n",
       "      <td>1.000000</td>\n",
       "      <td>100193.915000</td>\n",
       "      <td>0.000000</td>\n",
       "    </tr>\n",
       "    <tr>\n",
       "      <th>75%</th>\n",
       "      <td>7500.25000</td>\n",
       "      <td>1.575323e+07</td>\n",
       "      <td>718.000000</td>\n",
       "      <td>44.000000</td>\n",
       "      <td>7.000000</td>\n",
       "      <td>127644.240000</td>\n",
       "      <td>2.000000</td>\n",
       "      <td>1.00000</td>\n",
       "      <td>1.000000</td>\n",
       "      <td>149388.247500</td>\n",
       "      <td>0.000000</td>\n",
       "    </tr>\n",
       "    <tr>\n",
       "      <th>max</th>\n",
       "      <td>10000.00000</td>\n",
       "      <td>1.581569e+07</td>\n",
       "      <td>850.000000</td>\n",
       "      <td>92.000000</td>\n",
       "      <td>10.000000</td>\n",
       "      <td>250898.090000</td>\n",
       "      <td>4.000000</td>\n",
       "      <td>1.00000</td>\n",
       "      <td>1.000000</td>\n",
       "      <td>199992.480000</td>\n",
       "      <td>1.000000</td>\n",
       "    </tr>\n",
       "  </tbody>\n",
       "</table>\n",
       "</div>"
      ],
      "text/plain": [
       "         RowNumber    CustomerId   CreditScore           Age       Tenure  \\\n",
       "count  10000.00000  1.000000e+04  10000.000000  10000.000000  9091.000000   \n",
       "mean    5000.50000  1.569094e+07    650.528800     38.921800     4.997690   \n",
       "std     2886.89568  7.193619e+04     96.653299     10.487806     2.894723   \n",
       "min        1.00000  1.556570e+07    350.000000     18.000000     0.000000   \n",
       "25%     2500.75000  1.562853e+07    584.000000     32.000000     2.000000   \n",
       "50%     5000.50000  1.569074e+07    652.000000     37.000000     5.000000   \n",
       "75%     7500.25000  1.575323e+07    718.000000     44.000000     7.000000   \n",
       "max    10000.00000  1.581569e+07    850.000000     92.000000    10.000000   \n",
       "\n",
       "             Balance  NumOfProducts    HasCrCard  IsActiveMember  \\\n",
       "count   10000.000000   10000.000000  10000.00000    10000.000000   \n",
       "mean    76485.889288       1.530200      0.70550        0.515100   \n",
       "std     62397.405202       0.581654      0.45584        0.499797   \n",
       "min         0.000000       1.000000      0.00000        0.000000   \n",
       "25%         0.000000       1.000000      0.00000        0.000000   \n",
       "50%     97198.540000       1.000000      1.00000        1.000000   \n",
       "75%    127644.240000       2.000000      1.00000        1.000000   \n",
       "max    250898.090000       4.000000      1.00000        1.000000   \n",
       "\n",
       "       EstimatedSalary        Exited  \n",
       "count     10000.000000  10000.000000  \n",
       "mean     100090.239881      0.203700  \n",
       "std       57510.492818      0.402769  \n",
       "min          11.580000      0.000000  \n",
       "25%       51002.110000      0.000000  \n",
       "50%      100193.915000      0.000000  \n",
       "75%      149388.247500      0.000000  \n",
       "max      199992.480000      1.000000  "
      ]
     },
     "execution_count": 5,
     "metadata": {},
     "output_type": "execute_result"
    }
   ],
   "source": [
    "df.describe() "
   ]
  },
  {
   "cell_type": "markdown",
   "metadata": {},
   "source": [
    "**Вывод**  \n",
    "\n",
    "В нашем распоряжении 10 тыс. строк информации, 14 столбцов. Пропуска есть только в столбце *tenure* (сколько лет человек является клиентом банка). Эти данные нам неизвестны, их заполним нулями. Переведём и разъясним все признаки в таблице."
   ]
  },
  {
   "cell_type": "markdown",
   "metadata": {},
   "source": [
    "**Признаки**\n",
    "* *RowNumber* — индекс строки в данных\n",
    "* *CustomerId* — уникальный идентификатор клиента\n",
    "* *Surname* — фамилия\n",
    "* *CreditScore* — кредитный рейтинг\n",
    "* *Geography* — страна проживания\n",
    "* *Gender* — пол\n",
    "* *Age* — возраст\n",
    "* *Tenure* — сколько лет человек является клиентом банка\n",
    "* *Balance* — баланс на счёте\n",
    "* *NumOfProducts* — количество продуктов банка, используемых клиентом\n",
    "* *HasCrCard* — наличие кредитной карты\n",
    "* *IsActiveMember* — активность клиента\n",
    "* *EstimatedSalary* — предполагаемая зарплата  \n",
    "\n",
    "**Целевой признак**\n",
    "* *Exited* — факт ухода клиента"
   ]
  },
  {
   "cell_type": "markdown",
   "metadata": {},
   "source": [
    "Можно предположить, что существует взаимосвязь между предпологаемой зарплатой и фактом ухода из банка (например, уход богатого или бедного клиента) или взаимосвязь кредитного рейтинга и ухода из данного банка (кредитный рейтинг низкий, банк не даёт кредит, клиент уходит), но инструмент корелляции работает только с количественными признаками, в нашем случае это не имеет смысла, т.к. *Exited* (факт ухода клиента), величина номинальная (1-0, да-нет).  \n",
    "\n",
    "В тоже время, можно предположить, что есть взаимосвязь ухода из банка, в связи с возрастом клиента. Построим график."
   ]
  },
  {
   "cell_type": "code",
   "execution_count": 6,
   "metadata": {},
   "outputs": [
    {
     "data": {
      "image/png": "[encoded data removed]",
      "text/plain": [
       "<Figure size 1080x360 with 1 Axes>"
      ]
     },
     "metadata": {
      "needs_background": "light"
     },
     "output_type": "display_data"
    }
   ],
   "source": [
    "df.groupby('Age')['Exited'].mean().plot(figsize=(15,5),kind='bar', color='orange', title='Таблица возраста и оттока')\n",
    "plt.show()"
   ]
  },
  {
   "cell_type": "markdown",
   "metadata": {},
   "source": [
    "Глядя на таблицу, замечаем, что чем взрослее клиент, тем выше его вероятность ухода, это может быть связано с переездом, или же сменой жизненных интересов. Нельзя исключать влияние естесственных физиологических причин на уход из банка. "
   ]
  },
  {
   "cell_type": "markdown",
   "metadata": {},
   "source": [
    "Некоторые столбцы не имееют влияния на дальнейшее исследование: *RowNumber, CustomerId, Surname*. Невозможно, опираясь на эти данные, предсказать уйдёт ли клиент из банка. Удалим эти колонки."
   ]
  },
  {
   "cell_type": "code",
   "execution_count": 7,
   "metadata": {
    "scrolled": true
   },
   "outputs": [],
   "source": [
    "df['Tenure'] = df['Tenure'].fillna(0) #Заполним пропуски"
   ]
  },
  {
   "cell_type": "code",
   "execution_count": 8,
   "metadata": {
    "scrolled": false
   },
   "outputs": [
    {
     "name": "stdout",
     "output_type": "stream",
     "text": [
      "<class 'pandas.core.frame.DataFrame'>\n",
      "RangeIndex: 10000 entries, 0 to 9999\n",
      "Data columns (total 11 columns):\n",
      " #   Column           Non-Null Count  Dtype  \n",
      "---  ------           --------------  -----  \n",
      " 0   CreditScore      10000 non-null  int64  \n",
      " 1   Geography        10000 non-null  object \n",
      " 2   Gender           10000 non-null  object \n",
      " 3   Age              10000 non-null  int64  \n",
      " 4   Tenure           10000 non-null  float64\n",
      " 5   Balance          10000 non-null  float64\n",
      " 6   NumOfProducts    10000 non-null  int64  \n",
      " 7   HasCrCard        10000 non-null  int64  \n",
      " 8   IsActiveMember   10000 non-null  int64  \n",
      " 9   EstimatedSalary  10000 non-null  float64\n",
      " 10  Exited           10000 non-null  int64  \n",
      "dtypes: float64(3), int64(6), object(2)\n",
      "memory usage: 859.5+ KB\n"
     ]
    }
   ],
   "source": [
    "df = df.drop(['RowNumber','CustomerId','Surname'], axis=1) #Удалим лишние столбцы\n",
    "df.info() # И убедимся, что данные стали в порядке."
   ]
  },
  {
   "cell_type": "markdown",
   "metadata": {},
   "source": [
    "Пропуски заполнены, а количество столбцов сократилось с 14 до 11."
   ]
  },
  {
   "cell_type": "code",
   "execution_count": 9,
   "metadata": {},
   "outputs": [
    {
     "name": "stdout",
     "output_type": "stream",
     "text": [
      "<class 'pandas.core.frame.DataFrame'>\n",
      "RangeIndex: 10000 entries, 0 to 9999\n",
      "Data columns (total 12 columns):\n",
      " #   Column             Non-Null Count  Dtype  \n",
      "---  ------             --------------  -----  \n",
      " 0   CreditScore        10000 non-null  int64  \n",
      " 1   Age                10000 non-null  int64  \n",
      " 2   Tenure             10000 non-null  float64\n",
      " 3   Balance            10000 non-null  float64\n",
      " 4   NumOfProducts      10000 non-null  int64  \n",
      " 5   HasCrCard          10000 non-null  int64  \n",
      " 6   IsActiveMember     10000 non-null  int64  \n",
      " 7   EstimatedSalary    10000 non-null  float64\n",
      " 8   Exited             10000 non-null  int64  \n",
      " 9   Geography_Germany  10000 non-null  uint8  \n",
      " 10  Geography_Spain    10000 non-null  uint8  \n",
      " 11  Gender_Male        10000 non-null  uint8  \n",
      "dtypes: float64(3), int64(6), uint8(3)\n",
      "memory usage: 732.5 KB\n"
     ]
    }
   ],
   "source": [
    "df = pd.get_dummies(df, drop_first=True) #Установим защиту от дамми-ловушек и фиктивных признаков.\n",
    "df.info()"
   ]
  },
  {
   "cell_type": "markdown",
   "metadata": {},
   "source": [
    "Изучили, подчистили данные и поставили защиту от дамми-ловушек, приступим к исследованию."
   ]
  },
  {
   "cell_type": "markdown",
   "metadata": {},
   "source": [
    "## Исследование задачи"
   ]
  },
  {
   "cell_type": "markdown",
   "metadata": {},
   "source": [
    "В данном проекте будем использовать 3 основные исследовательские модели:\n",
    "\n",
    "* Решающее дерево  \n",
    "* Случайный лес\n",
    "* Логистическая регрессия\n",
    "\n",
    "Разобьём данные про принципу **3**(*Обучающая*)/**1**(*Валидационная*)/**1**(*Тестовая*) (6000+2000+2000=10000 строк)."
   ]
  },
  {
   "cell_type": "code",
   "execution_count": 10,
   "metadata": {},
   "outputs": [],
   "source": [
    "features = df.drop('Exited', axis=1) #Разделим данные на целевой признак и остальные признаки.\n",
    "target = df['Exited']"
   ]
  },
  {
   "cell_type": "code",
   "execution_count": 11,
   "metadata": {},
   "outputs": [],
   "source": [
    "features_train, features_valid, target_train, target_valid = train_test_split(features, target, test_size=0.4, \n",
    "                                                                              random_state=12345)\n",
    "features_valid, features_test, target_valid, target_test = train_test_split(features_valid, target_valid, test_size=0.5, \n",
    "                                                                              random_state=123456 )"
   ]
  },
  {
   "cell_type": "code",
   "execution_count": 12,
   "metadata": {},
   "outputs": [
    {
     "data": {
      "text/plain": [
       "2000"
      ]
     },
     "metadata": {},
     "output_type": "display_data"
    },
    {
     "data": {
      "text/plain": [
       "(2000,)"
      ]
     },
     "metadata": {},
     "output_type": "display_data"
    }
   ],
   "source": [
    "display(len(features_valid)) \n",
    "display(target_valid.shape) #Смотрим на размеры валидационной выборки"
   ]
  },
  {
   "cell_type": "code",
   "execution_count": 13,
   "metadata": {},
   "outputs": [
    {
     "data": {
      "text/plain": [
       "(2000, 11)"
      ]
     },
     "metadata": {},
     "output_type": "display_data"
    },
    {
     "data": {
      "text/plain": [
       "(2000,)"
      ]
     },
     "metadata": {},
     "output_type": "display_data"
    }
   ],
   "source": [
    "display(features_test.shape)\n",
    "display(target_test.shape) #Смотрим на размеры тестовой выборки"
   ]
  },
  {
   "cell_type": "code",
   "execution_count": 14,
   "metadata": {
    "scrolled": true
   },
   "outputs": [
    {
     "data": {
      "text/plain": [
       "(6000, 11)"
      ]
     },
     "metadata": {},
     "output_type": "display_data"
    },
    {
     "data": {
      "text/plain": [
       "(6000,)"
      ]
     },
     "metadata": {},
     "output_type": "display_data"
    }
   ],
   "source": [
    "display(features_train.shape)\n",
    "display(target_train.shape) #Смотрим на размеры обучающей выборки"
   ]
  },
  {
   "cell_type": "markdown",
   "metadata": {},
   "source": [
    "Данные разделены верно. 3:1:1 (2000+2000+6000).  \n",
    "\n",
    "Испытаем модель **Решающее Дерево**."
   ]
  },
  {
   "cell_type": "code",
   "execution_count": 15,
   "metadata": {},
   "outputs": [
    {
     "name": "stdout",
     "output_type": "stream",
     "text": [
      "max_depth: 1 F1-score 0.0\n",
      "max_depth: 3 F1-score 0.40336134453781514\n",
      "max_depth: 5 F1-score 0.5443959243085881\n",
      "max_depth: 7 F1-score 0.5346820809248555\n",
      "max_depth: 9 F1-score 0.5732984293193717\n",
      "max_depth: 11 F1-score 0.5118601747815231\n",
      "max_depth: 13 F1-score 0.5084745762711864\n",
      "max_depth: 15 F1-score 0.49596309111880044\n",
      "max_depth: 17 F1-score 0.484090909090909\n",
      "max_depth: 19 F1-score 0.4927211646136618\n",
      "max_depth: 21 F1-score 0.5011086474501109\n",
      "max_depth: 23 F1-score 0.4916201117318436\n",
      "max_depth: 25 F1-score 0.4916201117318436\n",
      "max_depth: 27 F1-score 0.4916201117318436\n",
      "max_depth: 29 F1-score 0.4916201117318436\n",
      "AUC-ROC 0.6724042709867452\n",
      "CPU times: user 348 ms, sys: 7.77 ms, total: 356 ms\n",
      "Wall time: 365 ms\n"
     ]
    }
   ],
   "source": [
    "%%time\n",
    "\n",
    "for depth in range(1,30,2): # Просмотрим глубину дерева до 30 уровня с шагом в 2 уровня.\n",
    "    model_tree = DecisionTreeClassifier(random_state=12345, max_depth=depth) # присваиваем модели имя\n",
    "    model_tree.fit(features_train, target_train) # обучаем\n",
    "    prediction_tree = model_tree.predict(features_valid) # получаем предсказания модели\n",
    "\n",
    "    \n",
    "    print('max_depth:',depth,end='')\n",
    "    print(' F1-score', f1_score(target_valid, prediction_tree))\n",
    "probabilities_valid = model_tree.predict_proba(features_valid)[:, 1]\n",
    "print(\"AUC-ROC\", roc_auc_score(target_valid, probabilities_valid))"
   ]
  },
  {
   "cell_type": "markdown",
   "metadata": {},
   "source": [
    "Наилучший F1 результат достигнут на 9 уровне. Также добились отличного времени - меньше полусекунды. \n",
    "\n",
    "Попробуем испытать модель **Случайный Лес**."
   ]
  },
  {
   "cell_type": "code",
   "execution_count": 16,
   "metadata": {},
   "outputs": [
    {
     "name": "stdout",
     "output_type": "stream",
     "text": [
      "F1 0.5702479338842976\n",
      "AUC-ROC 0.8428741140463918\n",
      "Лучшая глубина 29\n",
      "n_estimators = 57\n",
      "CPU times: user 740 ms, sys: 24.2 ms, total: 764 ms\n",
      "Wall time: 775 ms\n"
     ]
    }
   ],
   "source": [
    "%%time\n",
    "\n",
    "#Поправил код, убрал цикл из цикла, добавил правильный параметр для ROC-AUC Score.\n",
    "\n",
    "best_f1=0\n",
    "for est in range(57, 59):\n",
    "    model = RandomForestClassifier(random_state=12345, max_depth=29, n_estimators=57)\n",
    "    model.fit(features_train, target_train)\n",
    "    predictions_forest = model.predict(features_valid)\n",
    "    probabilities_valid = model.predict_proba(features_valid)[:, 1]\n",
    "    f1_model = f1_score(target_valid, predictions_forest)\n",
    "        \n",
    "    if f1_model > best_f1:\n",
    "        best_model = model\n",
    "        best_f1 = f1_model\n",
    "        best_roc = roc_auc_score(target_valid, probabilities_valid)\n",
    "        best_depth = depth\n",
    "        best_est = est\n",
    "  \n",
    "\n",
    "print('F1', best_f1)\n",
    "print('AUC-ROC', best_roc)\n",
    "print('Лучшая глубина', best_depth)\n",
    "print('n_estimators =', best_est)"
   ]
  },
  {
   "cell_type": "code",
   "execution_count": 17,
   "metadata": {},
   "outputs": [
    {
     "name": "stdout",
     "output_type": "stream",
     "text": [
      "F1 0.5702479338842976\n",
      "AUC-ROC 0.8428741140463918\n",
      "CPU times: user 385 ms, sys: 16.6 ms, total: 402 ms\n",
      "Wall time: 406 ms\n"
     ]
    }
   ],
   "source": [
    "%%time\n",
    "\n",
    "#И вот, на всякий случай, добавил этот код, с подобранными лучшими параметрами.\n",
    "\n",
    "model_forest = RandomForestClassifier(n_estimators=57, max_depth=29, random_state=12345)\n",
    "model_forest.fit(features_train, target_train)\n",
    "prediction = model_forest.predict(features_valid)\n",
    "\n",
    "\n",
    "print('F1', f1_score(target_valid, prediction))\n",
    "probabilities_valid = model_forest.predict_proba(features_valid)[:, 1]\n",
    "print(\"AUC-ROC\", roc_auc_score(target_valid, probabilities_valid))"
   ]
  },
  {
   "cell_type": "markdown",
   "metadata": {},
   "source": [
    "Лучший результат F1 (*0.5702*) достигнут на N estimator 57, на уровне глубины 29. Результат ROC_AUC у данной модели *0.8428*.\n",
    "\n",
    "\n",
    "Опробуем модель **Логическая Регрессия. Logistic Regression**"
   ]
  },
  {
   "cell_type": "code",
   "execution_count": 18,
   "metadata": {
    "scrolled": true
   },
   "outputs": [
    {
     "data": {
      "text/html": [
       "<div>\n",
       "<style scoped>\n",
       "    .dataframe tbody tr th:only-of-type {\n",
       "        vertical-align: middle;\n",
       "    }\n",
       "\n",
       "    .dataframe tbody tr th {\n",
       "        vertical-align: top;\n",
       "    }\n",
       "\n",
       "    .dataframe thead th {\n",
       "        text-align: right;\n",
       "    }\n",
       "</style>\n",
       "<table border=\"1\" class=\"dataframe\">\n",
       "  <thead>\n",
       "    <tr style=\"text-align: right;\">\n",
       "      <th></th>\n",
       "      <th>CreditScore</th>\n",
       "      <th>Age</th>\n",
       "      <th>Tenure</th>\n",
       "      <th>Balance</th>\n",
       "      <th>NumOfProducts</th>\n",
       "      <th>HasCrCard</th>\n",
       "      <th>IsActiveMember</th>\n",
       "      <th>EstimatedSalary</th>\n",
       "      <th>Geography_Germany</th>\n",
       "      <th>Geography_Spain</th>\n",
       "      <th>Gender_Male</th>\n",
       "    </tr>\n",
       "  </thead>\n",
       "  <tbody>\n",
       "    <tr>\n",
       "      <th>7479</th>\n",
       "      <td>567</td>\n",
       "      <td>35</td>\n",
       "      <td>8.0</td>\n",
       "      <td>153137.74</td>\n",
       "      <td>1</td>\n",
       "      <td>1</td>\n",
       "      <td>0</td>\n",
       "      <td>88659.07</td>\n",
       "      <td>0</td>\n",
       "      <td>1</td>\n",
       "      <td>1</td>\n",
       "    </tr>\n",
       "    <tr>\n",
       "      <th>3411</th>\n",
       "      <td>711</td>\n",
       "      <td>37</td>\n",
       "      <td>8.0</td>\n",
       "      <td>113899.92</td>\n",
       "      <td>1</td>\n",
       "      <td>0</td>\n",
       "      <td>0</td>\n",
       "      <td>80215.20</td>\n",
       "      <td>0</td>\n",
       "      <td>0</td>\n",
       "      <td>0</td>\n",
       "    </tr>\n",
       "    <tr>\n",
       "      <th>6027</th>\n",
       "      <td>850</td>\n",
       "      <td>44</td>\n",
       "      <td>3.0</td>\n",
       "      <td>140393.65</td>\n",
       "      <td>2</td>\n",
       "      <td>0</td>\n",
       "      <td>1</td>\n",
       "      <td>186285.52</td>\n",
       "      <td>1</td>\n",
       "      <td>0</td>\n",
       "      <td>1</td>\n",
       "    </tr>\n",
       "  </tbody>\n",
       "</table>\n",
       "</div>"
      ],
      "text/plain": [
       "      CreditScore  Age  Tenure    Balance  NumOfProducts  HasCrCard  \\\n",
       "7479          567   35     8.0  153137.74              1          1   \n",
       "3411          711   37     8.0  113899.92              1          0   \n",
       "6027          850   44     3.0  140393.65              2          0   \n",
       "\n",
       "      IsActiveMember  EstimatedSalary  Geography_Germany  Geography_Spain  \\\n",
       "7479               0         88659.07                  0                1   \n",
       "3411               0         80215.20                  0                0   \n",
       "6027               1        186285.52                  1                0   \n",
       "\n",
       "      Gender_Male  \n",
       "7479            1  \n",
       "3411            0  \n",
       "6027            1  "
      ]
     },
     "metadata": {},
     "output_type": "display_data"
    }
   ],
   "source": [
    "scaler = StandardScaler()\n",
    "\n",
    "scaler.fit(features_train)\n",
    "features_train_reg = scaler.transform(features_train)\n",
    "features_valid_reg = scaler.transform(features_valid)\n",
    "pd.options.mode.chained_assignment = None\n",
    "\n",
    "\n",
    "display(features_train[:3])"
   ]
  },
  {
   "cell_type": "code",
   "execution_count": 19,
   "metadata": {},
   "outputs": [
    {
     "data": {
      "text/plain": [
       "'F1'"
      ]
     },
     "metadata": {},
     "output_type": "display_data"
    },
    {
     "data": {
      "text/plain": [
       "0.3142857142857142"
      ]
     },
     "metadata": {},
     "output_type": "display_data"
    },
    {
     "data": {
      "text/plain": [
       "'AUC-ROC'"
      ]
     },
     "metadata": {},
     "output_type": "display_data"
    },
    {
     "data": {
      "text/plain": [
       "0.5837513807069219"
      ]
     },
     "metadata": {},
     "output_type": "display_data"
    },
    {
     "name": "stdout",
     "output_type": "stream",
     "text": [
      "CPU times: user 41.4 ms, sys: 79.1 ms, total: 120 ms\n",
      "Wall time: 58.5 ms\n"
     ]
    }
   ],
   "source": [
    "%%time\n",
    "\n",
    "model_regression =  LogisticRegression(random_state=12345, solver='liblinear')\n",
    "model_regression.fit(features_train_reg, target_train)\n",
    "predicted_regression = model_regression.predict(features_valid_reg)\n",
    "display('F1', f1_score(target_valid, predicted_regression))\n",
    "display(\"AUC-ROC\", roc_auc_score(target_valid, predicted_regression))"
   ]
  },
  {
   "cell_type": "markdown",
   "metadata": {},
   "source": [
    "Все использованные модели, к сожалению, показали крайне низкие результаты:  \n",
    "    **Решающее дерево**: Глубина дерева 9, F1-score 0.57329, AUC-ROC 0.6724    \n",
    "    **Случайный лес**: 57 дерево, Глубина 16 F1-score 0.5497, AUC-ROC 0.8450  \n",
    "    **Логическая Регрессия**: F1-score 0.3142, AUC-ROC 0.5837\n",
    "\n",
    "F1-score крайне низок у всех 3-х исследуемых моделей, тем не менее наилучший показатель кривой ошибок у **Случайного леса**. \n",
    "    \n",
    "Скорее всего проблема кроется в балансе классов. В следующей главе посмотрим пропорции оставшихся и ушедших клиентов."
   ]
  },
  {
   "cell_type": "markdown",
   "metadata": {},
   "source": [
    "## Борьба с дисбалансом"
   ]
  },
  {
   "cell_type": "code",
   "execution_count": 20,
   "metadata": {},
   "outputs": [
    {
     "data": {
      "text/plain": [
       "0    7963\n",
       "1    2037\n",
       "Name: Exited, dtype: int64"
      ]
     },
     "execution_count": 20,
     "metadata": {},
     "output_type": "execute_result"
    }
   ],
   "source": [
    "target.value_counts() #Данные о количестве клиентов скрываются в целевом признаке."
   ]
  },
  {
   "cell_type": "code",
   "execution_count": 21,
   "metadata": {},
   "outputs": [
    {
     "data": {
      "text/plain": [
       "0    7963\n",
       "1    2037\n",
       "Name: Exited, dtype: int64"
      ]
     },
     "execution_count": 21,
     "metadata": {},
     "output_type": "execute_result"
    },
    {
     "data": {
      "image/png": "[encoded data removed]",
      "text/plain": [
       "<Figure size 504x288 with 1 Axes>"
      ]
     },
     "metadata": {
      "needs_background": "light"
     },
     "output_type": "display_data"
    }
   ],
   "source": [
    "target.value_counts().plot(kind='bar', grid=True,figsize=(7,4),title='Соотношение ушедших и оставшихся клиентов')\n",
    "target.value_counts() #Для убедительности и проверки, построим график"
   ]
  },
  {
   "cell_type": "markdown",
   "metadata": {},
   "source": [
    "Дисбаланс классов достаточно велик - **1:4**. На одного ушедшего клиента, четыре остаются с банком."
   ]
  },
  {
   "cell_type": "markdown",
   "metadata": {},
   "source": [
    "Придадим объектам редкого класса больший вес. Для этого используем все предыдущие модели обучения, но поправим гиперпараметр **class_weight='balanced'**. Также будем осматривать все остальные необходимые метрики точности."
   ]
  },
  {
   "cell_type": "markdown",
   "metadata": {},
   "source": [
    "Модель **Решающее Дерево**."
   ]
  },
  {
   "cell_type": "code",
   "execution_count": 22,
   "metadata": {
    "scrolled": true
   },
   "outputs": [
    {
     "name": "stdout",
     "output_type": "stream",
     "text": [
      "Max depth 5 F1-score 0.6104023552502453\n",
      "Accuracy 0.7805\n",
      "Precision 0.5108433734939759\n",
      "Recall 0.4732142857142857\n",
      "F1 0.49130938586326767\n",
      "AUC-ROC 0.6712076583210603\n",
      "CPU times: user 425 ms, sys: 3.68 ms, total: 428 ms\n",
      "Wall time: 437 ms\n"
     ]
    }
   ],
   "source": [
    "%%time\n",
    "\n",
    "f1_best = 0\n",
    "depth_best = 0\n",
    "for depth in range(1,30,2): # Просмотрим глубину дерева до 30 уровня с шагом в 2 уровня.\n",
    "    model_tree = DecisionTreeClassifier(random_state=12345, max_depth=depth, class_weight='balanced') # присваиваем модели имя\n",
    "    model_tree.fit(features_train,target_train) # обучаем\n",
    "    prediction_tree = model_tree.predict(features_valid) # получаем предсказания модели\n",
    "    f1 = f1_score(target_valid, prediction_tree)\n",
    "    if f1>f1_best:\n",
    "            f1_best=f1\n",
    "            depth_best=depth\n",
    "print('Max depth', depth_best,'F1-score', f1_best)\n",
    "\n",
    "#Рассмотрим все остальные необходимые метрики.\n",
    "\n",
    "print('Accuracy', accuracy_score(target_valid, prediction_tree))\n",
    "print('Precision', precision_score(target_valid, prediction_tree))\n",
    "print('Recall', recall_score(target_valid, prediction_tree))\n",
    "print('F1', f1_score(target_valid, prediction_tree))\n",
    "probabilities_valid = model_tree.predict_proba(features_valid)[:, 1]\n",
    "print(\"AUC-ROC\", roc_auc_score(target_valid, probabilities_valid))"
   ]
  },
  {
   "cell_type": "markdown",
   "metadata": {},
   "source": [
    "Модель **Случайный Лес**."
   ]
  },
  {
   "cell_type": "code",
   "execution_count": 23,
   "metadata": {
    "scrolled": false
   },
   "outputs": [
    {
     "name": "stdout",
     "output_type": "stream",
     "text": [
      "N estimators 88 F1 0.613744075829384\n",
      "Accuracy 0.837\n",
      "N estimators 89 F1 0.6162927981109799\n",
      "Accuracy 0.8375\n",
      "N estimators 90 F1 0.6146572104018913\n",
      "Accuracy 0.837\n",
      "N estimators 91 F1 0.6179245283018868\n",
      "Accuracy 0.838\n",
      "N estimators 92 F1 0.6155660377358491\n",
      "Accuracy 0.837\n",
      "N estimators 93 F1 0.613931523022432\n",
      "Accuracy 0.8365\n",
      "N estimators 94 F1 0.6113744075829384\n",
      "Accuracy 0.836\n",
      "Precision 0.6515151515151515\n",
      "Recall 0.5758928571428571\n",
      "F1 0.49130938586326767\n",
      "AUC-ROC 0.8561964976067747\n",
      "CPU times: user 3.52 s, sys: 31.3 ms, total: 3.56 s\n",
      "Wall time: 3.57 s\n"
     ]
    }
   ],
   "source": [
    "%%time\n",
    "\n",
    "for est in range(88, 95):\n",
    "    model_forest =  RandomForestClassifier(random_state=12345, n_estimators=est, max_depth=11, class_weight='balanced')\n",
    "    model_forest.fit(features_train, target_train)\n",
    "    prediction_forest = model_forest.predict(features_valid)\n",
    "    print('N estimators', est,'F1', f1_score(target_valid, prediction_forest))\n",
    "    \n",
    "    print('Accuracy', accuracy_score(target_valid, prediction_forest))\n",
    "print('Precision', precision_score(target_valid, prediction_forest))\n",
    "print('Recall', recall_score(target_valid, prediction_forest))\n",
    "print('F1', f1_score(target_valid, prediction_tree))\n",
    "probabilities_valid = model_forest.predict_proba(features_valid)[:, 1]\n",
    "print(\"AUC-ROC\", roc_auc_score(target_valid, probabilities_valid))"
   ]
  },
  {
   "cell_type": "markdown",
   "metadata": {},
   "source": [
    "Добились лучшего результата на дереве 91 на уровне глубины 11,  \n",
    "доп. показатели:  \n",
    "**F1** 0.6179,  \n",
    "**Общая F1-мера** 0.4913,  \n",
    "**Precision** 0.6515,  \n",
    "**Accuracy** 0.836,  \n",
    "**Recall** 0.5758,  \n",
    "**AUC-ROC** 0.8561"
   ]
  },
  {
   "cell_type": "markdown",
   "metadata": {},
   "source": [
    "Модель **Логическая Регрессия** (с масштабированием численных признаков). "
   ]
  },
  {
   "cell_type": "code",
   "execution_count": 24,
   "metadata": {},
   "outputs": [
    {
     "name": "stdout",
     "output_type": "stream",
     "text": [
      "F1 0.5024311183144247\n",
      "Accuracy 0.693\n",
      "Precision 0.3944020356234097\n",
      "Recall 0.6919642857142857\n",
      "F1 0.5024311183144247\n",
      "AUC-ROC 0.7550654685198822\n",
      "CPU times: user 37.6 ms, sys: 40.8 ms, total: 78.4 ms\n",
      "Wall time: 26.5 ms\n"
     ]
    }
   ],
   "source": [
    "%%time\n",
    "\n",
    "model_regression =  LogisticRegression(random_state=12345, class_weight='balanced', solver='liblinear')\n",
    "model_regression.fit(features_train_reg, target_train)\n",
    "predicted_regression = model_regression.predict(features_valid_reg)\n",
    "print('F1', f1_score(target_valid, predicted_regression))\n",
    "print('Accuracy', accuracy_score(target_valid, predicted_regression))\n",
    "print('Precision', precision_score(target_valid, predicted_regression))\n",
    "print('Recall', recall_score(target_valid, predicted_regression))\n",
    "print('F1', f1_score(target_valid, predicted_regression))\n",
    "probabilities_valid = model_regression.predict_proba(features_valid_reg)[:, 1]\n",
    "print(\"AUC-ROC\", roc_auc_score(target_valid, probabilities_valid))"
   ]
  },
  {
   "cell_type": "code",
   "execution_count": 25,
   "metadata": {},
   "outputs": [
    {
     "name": "stdout",
     "output_type": "stream",
     "text": [
      "AUC-ROC DecisionTreeClassifier 0.6712076583210603\n",
      "AUC-ROC RandomForestClassifier 0.8561964976067747\n",
      "AUC-ROC LogisticRegression 0.7550654685198822\n"
     ]
    },
    {
     "data": {
      "image/png": "[encoded data removed]",
      "text/plain": [
       "<Figure size 648x432 with 1 Axes>"
      ]
     },
     "metadata": {
      "needs_background": "light"
     },
     "output_type": "display_data"
    }
   ],
   "source": [
    "plt.figure(figsize=[9,6])\n",
    "\n",
    "plt.plot([0, 1], [0, 1], linestyle='--', label='Случайная модель')\n",
    "\n",
    "\n",
    "model_tree = DecisionTreeClassifier(random_state=12345, max_depth=depth, class_weight='balanced')\n",
    "model_tree.fit(features_train,target_train)\n",
    "probabilities_valid = model_tree.predict_proba(features_valid)\n",
    "probabilities_one_valid = probabilities_valid[:, 1]\n",
    "fpr, tpr, thresholds = roc_curve(target_valid, probabilities_one_valid)\n",
    "auc_roc = roc_auc_score(target_valid, probabilities_one_valid)\n",
    "print('AUC-ROC DecisionTreeClassifier',auc_roc)\n",
    "plt.plot(fpr, tpr, label='Решающее дерево')\n",
    "\n",
    "model_forest =  RandomForestClassifier(random_state=12345, n_estimators=est, max_depth=11, class_weight='balanced')\n",
    "model_forest.fit(features_train, target_train)\n",
    "probabilities_valid = model_forest.predict_proba(features_valid)\n",
    "probabilities_one_valid = probabilities_valid[:, 1]\n",
    "fpr, tpr, thresholds = roc_curve(target_valid, probabilities_one_valid)\n",
    "auc_roc = roc_auc_score(target_valid, probabilities_one_valid)\n",
    "print('AUC-ROC RandomForestClassifier',auc_roc)\n",
    "plt.plot(fpr, tpr, label='Случайный лес')\n",
    "\n",
    "model_regression = LogisticRegression(random_state=12345, solver='liblinear', class_weight='balanced')\n",
    "model_regression.fit(features_train_reg, target_train)\n",
    "probabilities_valid = model_regression.predict_proba(features_valid_reg)\n",
    "probabilities_one_valid = probabilities_valid[:, 1]\n",
    "fpr, tpr, thresholds = roc_curve(target_valid, probabilities_one_valid)\n",
    "auc_roc = roc_auc_score(target_valid, probabilities_one_valid)\n",
    "print('AUC-ROC LogisticRegression',auc_roc)\n",
    "plt.plot(fpr, tpr, label='Логистическая регрессия')\n",
    "\n",
    "plt.xlim([0,1])\n",
    "plt.ylim([0,1])\n",
    "\n",
    "plt.xlabel(\"False Positive Rate\")\n",
    "plt.ylabel(\"True Positive Rate\")\n",
    "\n",
    "plt.legend(loc='lower right', fontsize='x-large')\n",
    "\n",
    "plt.title(\"ROC-кривая (Баланс)\")\n",
    "plt.show()"
   ]
  },
  {
   "cell_type": "markdown",
   "metadata": {},
   "source": [
    "После обучения моделей на сбалансированом классе, отмечаем, что лучшие показатели у модели **Случайный лес**. Многие метрики разнятся от модели к модели, F1-мера примерно одинакова у моделей **Решающее дерево** и **Логистическая регрессия** ~0.45, Лучший результат F1 у **Случайного леса**. Сравнивая с предыдущей главой, где мы не обращали внимания на баланс, можно заметить, что все показатели улучшились.  \n",
    "\n",
    "Попробуем уменьшить выборку функцией **downsampling**."
   ]
  },
  {
   "cell_type": "code",
   "execution_count": 26,
   "metadata": {
    "scrolled": false
   },
   "outputs": [
    {
     "data": {
      "text/plain": [
       "(2397, 11)"
      ]
     },
     "metadata": {},
     "output_type": "display_data"
    },
    {
     "data": {
      "text/plain": [
       "(2397,)"
      ]
     },
     "metadata": {},
     "output_type": "display_data"
    }
   ],
   "source": [
    "def downsample(features, target, fraction):\n",
    "    features_zeros = features[target == 0]\n",
    "    features_ones = features[target == 1]\n",
    "    target_zeros = target[target == 0]\n",
    "    target_ones = target[target == 1]\n",
    "    \n",
    "# Соединяем и смешиваем данные\n",
    "\n",
    "    features_downsampled = pd.concat(\n",
    "        [features_zeros.sample(frac=fraction, random_state=12345)] + [features_ones])\n",
    "    target_downsampled = pd.concat(\n",
    "        [target_zeros.sample(frac=fraction, random_state=12345)] + [target_ones])\n",
    "    features_downsampled, target_downsampled = shuffle(\n",
    "        features_downsampled, target_downsampled, random_state=12345)\n",
    "    return features_downsampled, target_downsampled\n",
    "\n",
    "features_downsampled, target_downsampled = downsample(features_train, target_train, 0.25)\n",
    "display(features_downsampled.shape)\n",
    "display(target_downsampled.shape)"
   ]
  },
  {
   "cell_type": "code",
   "execution_count": 27,
   "metadata": {
    "scrolled": true
   },
   "outputs": [
    {
     "name": "stdout",
     "output_type": "stream",
     "text": [
      "Max depth 5 F1-score 0.6146435452793834\n",
      "Accuracy 0.8\n",
      "Precision 0.5406779661016949\n",
      "Recall 0.7120535714285714\n",
      "F1 0.6146435452793834\n",
      "AUC-ROC 0.7687200846833577\n"
     ]
    }
   ],
   "source": [
    "# Проверим на модели решающего дерева:\n",
    "f1_best = 0\n",
    "depth_best = 0\n",
    "for depth in range(2, 18):\n",
    "    model_tree = DecisionTreeClassifier(random_state=12345, max_depth=depth)\n",
    "    model_tree.fit(features_downsampled,target_downsampled)\n",
    "    prediction = model_tree.predict(features_valid)\n",
    "    f1 = f1_score(target_valid, prediction)\n",
    "    if f1>f1_best:\n",
    "            f1_best=f1\n",
    "            depth_best=depth\n",
    "print('Max depth', depth_best,'F1-score', f1_best)\n",
    "\n",
    "# Расчет метрик\n",
    "model_tree = DecisionTreeClassifier(random_state=12345, max_depth=depth_best)\n",
    "model_tree.fit(features_downsampled, target_downsampled)\n",
    "prediction = model_tree.predict(features_valid)\n",
    "print('Accuracy', accuracy_score(target_valid, prediction))\n",
    "print('Precision', precision_score(target_valid, prediction))\n",
    "print('Recall', recall_score(target_valid, prediction))\n",
    "print('F1', f1_score(target_valid, prediction))\n",
    "print(\"AUC-ROC\", roc_auc_score(target_valid, prediction))"
   ]
  },
  {
   "cell_type": "code",
   "execution_count": 28,
   "metadata": {},
   "outputs": [
    {
     "name": "stdout",
     "output_type": "stream",
     "text": [
      "n_estimators = 30 Max depth 5 F1-score 0.6026666666666667\n",
      "Accuracy 0.7685\n",
      "Precision 0.4888558692421991\n",
      "Recall 0.734375\n",
      "F1 0.5869759143621767\n",
      "AUC-ROC 0.7563627577319588\n"
     ]
    }
   ],
   "source": [
    "# Теперь случайный лес\n",
    "f1_best = 0\n",
    "depth_best = 0\n",
    "\n",
    "for est in range (30, 31):\n",
    "    for depth in range(2, 18):\n",
    "        model_forest = RandomForestClassifier(n_estimators=est, max_depth=depth, random_state=12345)\n",
    "        model_forest.fit(features_downsampled, target_downsampled)\n",
    "        prediction = model_forest.predict(features_valid)\n",
    "        f1 = f1_score(target_valid, prediction)\n",
    "        if f1>f1_best:\n",
    "            f1_best=f1\n",
    "            est_best=est\n",
    "            depth_best=depth\n",
    "\n",
    "print('n_estimators =', est_best, 'Max depth', depth_best, 'F1-score', f1_best)\n",
    "\n",
    "# Расчет метрик\n",
    "model_forest = RandomForestClassifier(n_estimators=est, max_depth=depth, random_state=12345)\n",
    "model_forest.fit(features_downsampled, target_downsampled)\n",
    "prediction = model_forest.predict(features_valid)\n",
    "print('Accuracy', accuracy_score(target_valid, prediction))\n",
    "print('Precision', precision_score(target_valid, prediction))\n",
    "print('Recall', recall_score(target_valid, prediction))\n",
    "print('F1', f1_score(target_valid, prediction))\n",
    "print(\"AUC-ROC\", roc_auc_score(target_valid, prediction))"
   ]
  },
  {
   "cell_type": "code",
   "execution_count": 29,
   "metadata": {},
   "outputs": [
    {
     "name": "stdout",
     "output_type": "stream",
     "text": [
      "Accuracy 0.6335\n",
      "Precision 0.33714285714285713\n",
      "Recall 0.6584821428571429\n",
      "F1 0.44595616024187457\n",
      "AUC-ROC 0.6423854013254786\n"
     ]
    }
   ],
   "source": [
    "model_regression = LogisticRegression(random_state=12345, solver='liblinear')\n",
    "model_regression.fit(features_downsampled, target_downsampled)\n",
    "predicted_valid = model_regression.predict(features_valid)\n",
    "\n",
    "print('Accuracy', accuracy_score(target_valid, predicted_valid))\n",
    "print('Precision', precision_score(target_valid, predicted_valid))\n",
    "print('Recall', recall_score(target_valid, predicted_valid))\n",
    "print('F1', f1_score(target_valid, predicted_valid))\n",
    "print(\"AUC-ROC\", roc_auc_score(target_valid, predicted_valid))"
   ]
  },
  {
   "cell_type": "code",
   "execution_count": 30,
   "metadata": {},
   "outputs": [
    {
     "name": "stdout",
     "output_type": "stream",
     "text": [
      "AUC-ROC DecisionTreeClassifier 0.696179756535346\n",
      "AUC-ROC RandomForestClassifier 0.8398264911634757\n",
      "AUC-ROC LogisticRegression 0.7043748274116347\n"
     ]
    },
    {
     "data": {
      "image/png": "[encoded data removed]",
      "text/plain": [
       "<Figure size 648x432 with 1 Axes>"
      ]
     },
     "metadata": {
      "needs_background": "light"
     },
     "output_type": "display_data"
    }
   ],
   "source": [
    "plt.figure(figsize=[9,6])\n",
    "\n",
    "plt.plot([0, 1], [0, 1], linestyle='--', label='Случайная модель')\n",
    "\n",
    "\n",
    "model_tree = DecisionTreeClassifier(random_state=12345, max_depth=depth)\n",
    "model_tree.fit(features_downsampled, target_downsampled)\n",
    "probabilities_valid = model_tree.predict_proba(features_valid)\n",
    "probabilities_one_valid = probabilities_valid[:, 1]\n",
    "fpr, tpr, thresholds = roc_curve(target_valid, probabilities_one_valid)\n",
    "auc_roc = roc_auc_score(target_valid, probabilities_one_valid)\n",
    "print('AUC-ROC DecisionTreeClassifier',auc_roc)\n",
    "plt.plot(fpr, tpr, label='Решающее дерево')\n",
    "\n",
    "model_forest =  RandomForestClassifier(random_state=12345, n_estimators=est, max_depth=11)\n",
    "model_forest.fit(features_downsampled, target_downsampled)\n",
    "probabilities_valid = model_forest.predict_proba(features_valid)\n",
    "probabilities_one_valid = probabilities_valid[:, 1]\n",
    "fpr, tpr, thresholds = roc_curve(target_valid, probabilities_one_valid)\n",
    "auc_roc = roc_auc_score(target_valid, probabilities_one_valid)\n",
    "print('AUC-ROC RandomForestClassifier',auc_roc)\n",
    "plt.plot(fpr, tpr, label='Случайный лес')\n",
    "\n",
    "model_regression = LogisticRegression(random_state=12345, solver='liblinear')\n",
    "model_regression.fit(features_downsampled, target_downsampled)\n",
    "probabilities_valid = model_regression.predict_proba(features_valid)\n",
    "probabilities_one_valid = probabilities_valid[:, 1]\n",
    "fpr, tpr, thresholds = roc_curve(target_valid, probabilities_one_valid)\n",
    "auc_roc = roc_auc_score(target_valid, probabilities_one_valid)\n",
    "print('AUC-ROC LogisticRegression',auc_roc)\n",
    "plt.plot(fpr, tpr, label='Логистическая регрессия')\n",
    "\n",
    "plt.xlim([0,1])\n",
    "plt.ylim([0,1])\n",
    "\n",
    "plt.xlabel(\"False Positive Rate\")\n",
    "plt.ylabel(\"True Positive Rate\")\n",
    "\n",
    "plt.legend(loc='lower right', fontsize='x-large')\n",
    "\n",
    "plt.title(\"ROC-кривая (Уменьшенная выборка)\")\n",
    "plt.show()"
   ]
  },
  {
   "cell_type": "markdown",
   "metadata": {},
   "source": [
    "После уменьшения выборки, значение auc-roc понизились у всех моделей, кроме **Решающего дерева**. Тем не менее в лидерах всё равно **Случайный лес**. Значение F1 **Решающего дерева** *0.614*, у остальных моделей всё ещё низко.  \n",
    "\n",
    "Будем пробовать увеличивать выборку методом upsampling."
   ]
  },
  {
   "cell_type": "code",
   "execution_count": 31,
   "metadata": {},
   "outputs": [],
   "source": [
    "def upsample(features, target, repeat):\n",
    "    features_zeros = features[target == 0]\n",
    "    features_ones = features[target == 1]\n",
    "    target_zeros = target[target == 0]\n",
    "    target_ones = target[target == 1]\n",
    "\n",
    "    features_upsampled = pd.concat([features_zeros] + [features_ones] * repeat)\n",
    "    target_upsampled = pd.concat([target_zeros] + [target_ones] * repeat)\n",
    "    \n",
    "    features_upsampled, target_upsampled = shuffle(\n",
    "        features_upsampled, target_upsampled, random_state=12345)\n",
    "    \n",
    "    return features_upsampled, target_upsampled\n",
    "\n",
    "features_upsampled, target_upsampled = upsample(features_train, target_train, 10)"
   ]
  },
  {
   "cell_type": "code",
   "execution_count": 32,
   "metadata": {
    "scrolled": true
   },
   "outputs": [
    {
     "name": "stdout",
     "output_type": "stream",
     "text": [
      "Max depth 7 F1-score 0.5464231354642314\n",
      "Accuracy 0.702\n",
      "Precision 0.41454965357967666\n",
      "Recall 0.8013392857142857\n",
      "F1 0.5464231354642314\n",
      "AUC-ROC 0.7373320139911634\n"
     ]
    }
   ],
   "source": [
    "#Сначала Решающее дерево\n",
    "\n",
    "f1_best = 0\n",
    "depth_best = 0\n",
    "for depth in range(2, 10):\n",
    "    model_tree = DecisionTreeClassifier(random_state=12345, max_depth=depth)\n",
    "    model_tree.fit(features_upsampled, target_upsampled)\n",
    "    prediction = model_tree.predict(features_valid)\n",
    "    f1 = f1_score(target_valid, prediction)\n",
    "    if f1>f1_best:\n",
    "            f1_best=f1\n",
    "            depth_best=depth\n",
    "print('Max depth', depth_best,'F1-score', f1_best)\n",
    "\n",
    "# Расчет метрик\n",
    "model_tree = DecisionTreeClassifier(random_state=12345, max_depth=depth_best)\n",
    "model_tree.fit(features_upsampled, target_upsampled)\n",
    "prediction = model_tree.predict(features_valid)\n",
    "print('Accuracy', accuracy_score(target_valid, prediction))\n",
    "print('Precision', precision_score(target_valid, prediction))\n",
    "print('Recall', recall_score(target_valid, prediction))\n",
    "print('F1', f1_score(target_valid, prediction))\n",
    "print(\"AUC-ROC\", roc_auc_score(target_valid, prediction))\n",
    "probabilities_valid = model_tree.predict_proba(features_valid)[:, 1]\n",
    "fpr_tree, tpr_tree, thresholds = roc_curve(target_valid, probabilities_valid)"
   ]
  },
  {
   "cell_type": "code",
   "execution_count": 33,
   "metadata": {
    "scrolled": true
   },
   "outputs": [
    {
     "name": "stdout",
     "output_type": "stream",
     "text": [
      "n_estimators = 57 Max depth 16 F1-score 0.6105263157894738\n",
      "Accuracy 0.8335\n",
      "Precision 0.6412776412776413\n",
      "Recall 0.5825892857142857\n",
      "F1 0.6105263157894738\n",
      "AUC-ROC 0.744258560382916\n",
      "CPU times: user 3.22 s, sys: 31.7 ms, total: 3.25 s\n",
      "Wall time: 3.38 s\n"
     ]
    }
   ],
   "source": [
    "%%time\n",
    "\n",
    "# Модель Случайный лес (лучшие данные уже введены)\n",
    "\n",
    "f1_best = 0\n",
    "depth_best = 0\n",
    "\n",
    "for est in range (56, 58):\n",
    "    for depth in range(15, 17):\n",
    "        model_forest = RandomForestClassifier(n_estimators=est, max_depth=depth, random_state=12345)\n",
    "        model_forest.fit(features_upsampled, target_upsampled)\n",
    "        prediction = model_forest.predict(features_valid)\n",
    "        f1 = f1_score(target_valid, prediction)\n",
    "        if f1>f1_best:\n",
    "            f1_best=f1\n",
    "            est_best=est\n",
    "            depth_best=depth\n",
    "\n",
    "print('n_estimators =', est_best, 'Max depth', depth_best, 'F1-score', f1_best)\n",
    "\n",
    "# Расчет метрик\n",
    "model_forest = RandomForestClassifier(n_estimators=est, max_depth=depth, random_state=12345)\n",
    "model_forest.fit(features_upsampled, target_upsampled)\n",
    "prediction = model_forest.predict(features_valid)\n",
    "print('Accuracy', accuracy_score(target_valid, prediction))\n",
    "print('Precision', precision_score(target_valid, prediction))\n",
    "print('Recall', recall_score(target_valid, prediction))\n",
    "print('F1', f1_score(target_valid, prediction))\n",
    "print(\"AUC-ROC\", roc_auc_score(target_valid, prediction))\n",
    "probabilities_valid = model_forest.predict_proba(features_valid)[:, 1]\n",
    "fpr_forest, tpr_forest, thresholds = roc_curve(target_valid, probabilities_valid)"
   ]
  },
  {
   "cell_type": "code",
   "execution_count": 34,
   "metadata": {
    "scrolled": false
   },
   "outputs": [
    {
     "name": "stdout",
     "output_type": "stream",
     "text": [
      "Accuracy 0.3425\n",
      "Precision 0.2507188039102933\n",
      "Recall 0.9732142857142857\n",
      "F1 0.39871970736168266\n",
      "AUC-ROC 0.5668262150220913\n"
     ]
    }
   ],
   "source": [
    "# Модель Логистическая регрессия\n",
    "model_regression = LogisticRegression(random_state=12345, solver='liblinear')\n",
    "model_regression.fit(features_upsampled, target_upsampled)\n",
    "predicted_valid = model_regression.predict(features_valid)\n",
    "\n",
    "print('Accuracy', accuracy_score(target_valid, predicted_valid))\n",
    "print('Precision', precision_score(target_valid, predicted_valid))\n",
    "print('Recall', recall_score(target_valid, predicted_valid))\n",
    "print('F1', f1_score(target_valid, predicted_valid))\n",
    "print(\"AUC-ROC\", roc_auc_score(target_valid, predicted_valid))\n",
    "probabilities_valid = model_regression.predict_proba(features_valid)[:, 1]\n",
    "fpr_regression, tpr_regression, thresholds = roc_curve(target_valid, probabilities_valid)"
   ]
  },
  {
   "cell_type": "markdown",
   "metadata": {},
   "source": [
    "Глядя на цифры можно заметить, что лучший результат у модели **Случайный Лес**.  \n",
    "Построим кривую ошибок."
   ]
  },
  {
   "cell_type": "code",
   "execution_count": 35,
   "metadata": {},
   "outputs": [
    {
     "name": "stdout",
     "output_type": "stream",
     "text": [
      "AUC-ROC DecisionTreeClassifier 0.692897701122975\n",
      "AUC-ROC RandomForestClassifier 0.8455161542709867\n",
      "AUC-ROC LogisticRegression 0.7173462812960235\n"
     ]
    },
    {
     "data": {
      "image/png": "[encoded data removed]",
      "text/plain": [
       "<Figure size 648x432 with 1 Axes>"
      ]
     },
     "metadata": {
      "needs_background": "light"
     },
     "output_type": "display_data"
    }
   ],
   "source": [
    "plt.figure(figsize=[9,6])\n",
    "\n",
    "plt.plot([0, 1], [0, 1], linestyle='--', label='Случайная модель')\n",
    "\n",
    "\n",
    "model_tree = DecisionTreeClassifier(random_state=12345, max_depth=depth)\n",
    "model_tree.fit(features_upsampled, target_upsampled)\n",
    "probabilities_valid = model_tree.predict_proba(features_valid)\n",
    "probabilities_one_valid = probabilities_valid[:, 1]\n",
    "fpr, tpr, thresholds = roc_curve(target_valid, probabilities_one_valid)\n",
    "auc_roc = roc_auc_score(target_valid, probabilities_one_valid)\n",
    "print('AUC-ROC DecisionTreeClassifier',auc_roc)\n",
    "plt.plot(fpr, tpr, label='Решающее дерево')\n",
    "\n",
    "model_forest =  RandomForestClassifier(random_state=12345, n_estimators=est, max_depth=11)\n",
    "model_forest.fit(features_upsampled, target_upsampled)\n",
    "probabilities_valid = model_forest.predict_proba(features_valid)\n",
    "probabilities_one_valid = probabilities_valid[:, 1]\n",
    "fpr, tpr, thresholds = roc_curve(target_valid, probabilities_one_valid)\n",
    "auc_roc = roc_auc_score(target_valid, probabilities_one_valid)\n",
    "print('AUC-ROC RandomForestClassifier',auc_roc)\n",
    "plt.plot(fpr, tpr, label='Случайный лес')\n",
    "\n",
    "model_regression = LogisticRegression(random_state=12345, solver='liblinear')\n",
    "model_regression.fit(features_upsampled, target_upsampled)\n",
    "probabilities_valid = model_regression.predict_proba(features_valid)\n",
    "probabilities_one_valid = probabilities_valid[:, 1]\n",
    "fpr, tpr, thresholds = roc_curve(target_valid, probabilities_one_valid)\n",
    "auc_roc = roc_auc_score(target_valid, probabilities_one_valid)\n",
    "print('AUC-ROC LogisticRegression',auc_roc)\n",
    "plt.plot(fpr, tpr, label='Логистическая регрессия')\n",
    "\n",
    "plt.xlim([0,1])\n",
    "plt.ylim([0,1])\n",
    "\n",
    "plt.xlabel(\"False Positive Rate\")\n",
    "plt.ylabel(\"True Positive Rate\")\n",
    "\n",
    "plt.legend(loc='lower right', fontsize='x-large')\n",
    "\n",
    "plt.title(\"ROC-кривая (Увеличенная выборка)\")\n",
    "plt.show()"
   ]
  },
  {
   "cell_type": "markdown",
   "metadata": {},
   "source": [
    "Лучшей моделью после увеличения выборки, стала **Случайный лес**. Также, у данной модели самая высокая F1 мера (*0.6105*). Будем тестировать именно её."
   ]
  },
  {
   "cell_type": "markdown",
   "metadata": {},
   "source": [
    "## Тестирование модели"
   ]
  },
  {
   "cell_type": "markdown",
   "metadata": {},
   "source": [
    "Обучим финальную модель"
   ]
  },
  {
   "cell_type": "code",
   "execution_count": 36,
   "metadata": {},
   "outputs": [
    {
     "name": "stdout",
     "output_type": "stream",
     "text": [
      "n_estimators = 57 Max depth 16 F1-score 0.6105263157894738\n",
      "CPU times: user 2.46 s, sys: 8.27 ms, total: 2.47 s\n",
      "Wall time: 2.47 s\n"
     ]
    }
   ],
   "source": [
    "%%time\n",
    "\n",
    "# Модель Случайный лес (лучшие данные уже введены)\n",
    "\n",
    "f1_best = 0\n",
    "depth_best = 0\n",
    "\n",
    "for est in range (56, 58):\n",
    "    for depth in range(15, 17):\n",
    "        model_best = RandomForestClassifier(n_estimators=est, max_depth=depth, random_state=12345)\n",
    "        model_best.fit(features_upsampled, target_upsampled)\n",
    "        prediction = model_best.predict(features_valid)\n",
    "        f1 = f1_score(target_valid, prediction)\n",
    "        if f1>f1_best:\n",
    "            f1_best=f1\n",
    "            est_best=est\n",
    "            depth_best=depth\n",
    "\n",
    "print('n_estimators =', est_best, 'Max depth', depth_best, 'F1-score', f1_best)"
   ]
  },
  {
   "cell_type": "code",
   "execution_count": 37,
   "metadata": {},
   "outputs": [
    {
     "name": "stdout",
     "output_type": "stream",
     "text": [
      "Accuracy 0.8455\n",
      "Precision 0.6141304347826086\n",
      "Recall 0.5750636132315522\n",
      "F1 0.5939553219448095\n",
      "AUC-ROC 0.8407294106097528\n"
     ]
    }
   ],
   "source": [
    "prediction = model_best.predict(features_test)\n",
    "print('Accuracy', accuracy_score(target_test, prediction))\n",
    "print('Precision', precision_score(target_test, prediction))\n",
    "print('Recall', recall_score(target_test, prediction))\n",
    "print('F1', f1_score(target_test, prediction))\n",
    "probabilities_valid = model_best.predict_proba(features_test)[:, 1]\n",
    "print(\"AUC-ROC\", roc_auc_score(target_test, probabilities_valid))\n",
    "fpr, tpr, thresholds = roc_curve(target_test, probabilities_valid)"
   ]
  },
  {
   "cell_type": "code",
   "execution_count": 38,
   "metadata": {
    "scrolled": true
   },
   "outputs": [
    {
     "data": {
      "text/plain": [
       "<matplotlib.legend.Legend at 0x7f43dfe49760>"
      ]
     },
     "execution_count": 38,
     "metadata": {},
     "output_type": "execute_result"
    },
    {
     "data": {
      "image/png": "[encoded data removed]",
      "text/plain": [
       "<Figure size 648x360 with 1 Axes>"
      ]
     },
     "metadata": {
      "needs_background": "light"
     },
     "output_type": "display_data"
    }
   ],
   "source": [
    "plt.figure(figsize=[9,5])\n",
    "\n",
    "plt.plot([0, 1], [0, 1], linestyle='--', label='Случайная модель')\n",
    "plt.plot(fpr, tpr, label='Лучшая модель')\n",
    "model_best =  RandomForestClassifier(random_state=12345, n_estimators=est, max_depth=11)\n",
    "model_best.fit(features_upsampled, target_upsampled)\n",
    "probabilities_valid = model_best.predict_proba(features_valid)\n",
    "probabilities_one_valid = probabilities_valid[:, 1]\n",
    "fpr, tpr, thresholds = roc_curve(target_valid, probabilities_one_valid)\n",
    "auc_roc = roc_auc_score(target_valid, probabilities_one_valid)\n",
    "plt.xlabel(\"False Positive Rate\")\n",
    "plt.ylabel(\"True Positive Rate\")\n",
    "plt.legend(loc='lower right', fontsize='x-large')\n",
    "\n"
   ]
  },
  {
   "cell_type": "markdown",
   "metadata": {},
   "source": [
    "В финальной модели нам удалось добиться и достичь поставленой цели, показатель F1-меры обученой модели *0.5939*, модель обладает высокой точностью, и с большой вероятностью подскажет о возможности ухода клиента из банка *0.6141*, модель показывает высокий уровень на метрике AUC-ROC *0.8407*. Также график доказывает, что модель не отвечает случайно. А также удалось достигнуть уровень полноты *0.5750*, модель хорошо ищет положительные объекты."
   ]
  }
 ],
 "metadata": {
  "ExecuteTimeLog": [
   {
    "duration": 450,
    "start_time": "2022-12-22T10:25:13.549Z"
   },
   {
    "duration": 107,
    "start_time": "2022-12-22T10:26:15.361Z"
   },
   {
    "duration": 12,
    "start_time": "2022-12-22T10:27:35.361Z"
   },
   {
    "duration": 40,
    "start_time": "2022-12-22T10:28:16.203Z"
   },
   {
    "duration": 10170,
    "start_time": "2022-12-22T10:30:30.549Z"
   },
   {
    "duration": 19,
    "start_time": "2022-12-22T10:31:16.729Z"
   },
   {
    "duration": 116,
    "start_time": "2022-12-22T10:32:35.517Z"
   },
   {
    "duration": 3,
    "start_time": "2022-12-22T10:44:04.077Z"
   },
   {
    "duration": 14,
    "start_time": "2022-12-22T10:44:06.715Z"
   },
   {
    "duration": 46,
    "start_time": "2022-12-22T10:44:12.649Z"
   },
   {
    "duration": 420,
    "start_time": "2022-12-22T10:59:36.369Z"
   },
   {
    "duration": 68,
    "start_time": "2022-12-22T10:59:36.791Z"
   },
   {
    "duration": 15,
    "start_time": "2022-12-22T10:59:36.861Z"
   },
   {
    "duration": 47,
    "start_time": "2022-12-22T10:59:36.878Z"
   },
   {
    "duration": 9,
    "start_time": "2022-12-22T11:46:22.808Z"
   },
   {
    "duration": 22,
    "start_time": "2022-12-22T11:46:28.364Z"
   },
   {
    "duration": 11,
    "start_time": "2022-12-22T11:46:34.780Z"
   },
   {
    "duration": 9,
    "start_time": "2022-12-22T11:46:55.752Z"
   },
   {
    "duration": 8,
    "start_time": "2022-12-22T11:47:19.977Z"
   },
   {
    "duration": 78,
    "start_time": "2022-12-22T11:48:33.752Z"
   },
   {
    "duration": 16,
    "start_time": "2022-12-22T11:48:56.456Z"
   },
   {
    "duration": 13,
    "start_time": "2022-12-22T11:49:32.921Z"
   },
   {
    "duration": 15,
    "start_time": "2022-12-22T11:50:43.076Z"
   },
   {
    "duration": 4,
    "start_time": "2022-12-22T11:53:43.188Z"
   },
   {
    "duration": 16,
    "start_time": "2022-12-22T11:54:07.772Z"
   },
   {
    "duration": 449,
    "start_time": "2022-12-22T11:54:32.155Z"
   },
   {
    "duration": 78,
    "start_time": "2022-12-22T11:54:32.607Z"
   },
   {
    "duration": 14,
    "start_time": "2022-12-22T11:54:32.687Z"
   },
   {
    "duration": 62,
    "start_time": "2022-12-22T11:54:32.703Z"
   },
   {
    "duration": 7,
    "start_time": "2022-12-22T11:54:32.769Z"
   },
   {
    "duration": 25,
    "start_time": "2022-12-22T11:54:32.779Z"
   },
   {
    "duration": 39,
    "start_time": "2022-12-22T11:55:59.455Z"
   },
   {
    "duration": 18,
    "start_time": "2022-12-22T11:59:40.735Z"
   },
   {
    "duration": 54,
    "start_time": "2022-12-22T15:47:34.338Z"
   },
   {
    "duration": 409,
    "start_time": "2022-12-22T15:47:45.602Z"
   },
   {
    "duration": 361,
    "start_time": "2022-12-22T15:47:46.013Z"
   },
   {
    "duration": 14,
    "start_time": "2022-12-22T15:47:46.376Z"
   },
   {
    "duration": 59,
    "start_time": "2022-12-22T15:47:46.392Z"
   },
   {
    "duration": 3,
    "start_time": "2022-12-22T15:47:46.453Z"
   },
   {
    "duration": 67,
    "start_time": "2022-12-22T15:47:46.458Z"
   },
   {
    "duration": 29,
    "start_time": "2022-12-22T15:47:46.527Z"
   },
   {
    "duration": 25,
    "start_time": "2022-12-22T15:47:46.558Z"
   },
   {
    "duration": 11402,
    "start_time": "2022-12-22T15:51:58.982Z"
   },
   {
    "duration": 91,
    "start_time": "2022-12-22T15:53:54.741Z"
   },
   {
    "duration": 254,
    "start_time": "2022-12-22T15:55:34.949Z"
   },
   {
    "duration": 5,
    "start_time": "2022-12-22T15:55:36.141Z"
   },
   {
    "duration": 9,
    "start_time": "2022-12-22T15:55:37.141Z"
   },
   {
    "duration": 8,
    "start_time": "2022-12-22T15:56:34.550Z"
   },
   {
    "duration": 5,
    "start_time": "2022-12-22T15:56:51.621Z"
   },
   {
    "duration": 5,
    "start_time": "2022-12-22T15:57:10.012Z"
   },
   {
    "duration": 4,
    "start_time": "2022-12-22T15:57:23.533Z"
   },
   {
    "duration": 74,
    "start_time": "2022-12-22T15:58:31.765Z"
   },
   {
    "duration": 20,
    "start_time": "2022-12-22T16:06:54.641Z"
   },
   {
    "duration": 411,
    "start_time": "2022-12-22T16:07:29.274Z"
   },
   {
    "duration": 65,
    "start_time": "2022-12-22T16:07:29.687Z"
   },
   {
    "duration": 15,
    "start_time": "2022-12-22T16:07:29.753Z"
   },
   {
    "duration": 51,
    "start_time": "2022-12-22T16:07:29.770Z"
   },
   {
    "duration": 3,
    "start_time": "2022-12-22T16:07:29.824Z"
   },
   {
    "duration": 16,
    "start_time": "2022-12-22T16:07:29.829Z"
   },
   {
    "duration": 19,
    "start_time": "2022-12-22T16:07:29.847Z"
   },
   {
    "duration": 703,
    "start_time": "2022-12-22T16:07:29.879Z"
   },
   {
    "duration": 6,
    "start_time": "2022-12-22T16:07:30.583Z"
   },
   {
    "duration": 33,
    "start_time": "2022-12-22T16:07:30.591Z"
   },
   {
    "duration": 44,
    "start_time": "2022-12-22T16:07:30.625Z"
   },
   {
    "duration": 38,
    "start_time": "2022-12-22T16:07:30.671Z"
   },
   {
    "duration": 52,
    "start_time": "2022-12-22T16:07:30.711Z"
   },
   {
    "duration": 403,
    "start_time": "2022-12-22T16:07:30.764Z"
   },
   {
    "duration": 347,
    "start_time": "2022-12-22T16:11:43.041Z"
   },
   {
    "duration": 372,
    "start_time": "2022-12-22T16:12:11.251Z"
   },
   {
    "duration": 356,
    "start_time": "2022-12-22T16:12:22.545Z"
   },
   {
    "duration": 3,
    "start_time": "2022-12-22T16:15:23.465Z"
   },
   {
    "duration": 355,
    "start_time": "2022-12-22T16:15:29.738Z"
   },
   {
    "duration": 61,
    "start_time": "2022-12-22T16:15:30.095Z"
   },
   {
    "duration": 13,
    "start_time": "2022-12-22T16:15:30.158Z"
   },
   {
    "duration": 57,
    "start_time": "2022-12-22T16:15:30.173Z"
   },
   {
    "duration": 5,
    "start_time": "2022-12-22T16:15:30.232Z"
   },
   {
    "duration": 20,
    "start_time": "2022-12-22T16:15:30.239Z"
   },
   {
    "duration": 38,
    "start_time": "2022-12-22T16:15:30.261Z"
   },
   {
    "duration": 668,
    "start_time": "2022-12-22T16:15:30.301Z"
   },
   {
    "duration": 6,
    "start_time": "2022-12-22T16:15:30.970Z"
   },
   {
    "duration": 30,
    "start_time": "2022-12-22T16:15:30.977Z"
   },
   {
    "duration": 23,
    "start_time": "2022-12-22T16:15:31.008Z"
   },
   {
    "duration": 33,
    "start_time": "2022-12-22T16:15:31.033Z"
   },
   {
    "duration": 30,
    "start_time": "2022-12-22T16:15:31.068Z"
   },
   {
    "duration": 394,
    "start_time": "2022-12-22T16:15:31.101Z"
   },
   {
    "duration": 180,
    "start_time": "2022-12-22T16:18:05.610Z"
   },
   {
    "duration": 398,
    "start_time": "2022-12-22T16:18:37.785Z"
   },
   {
    "duration": 66,
    "start_time": "2022-12-22T16:18:38.185Z"
   },
   {
    "duration": 12,
    "start_time": "2022-12-22T16:18:38.253Z"
   },
   {
    "duration": 42,
    "start_time": "2022-12-22T16:18:38.267Z"
   },
   {
    "duration": 3,
    "start_time": "2022-12-22T16:18:38.312Z"
   },
   {
    "duration": 15,
    "start_time": "2022-12-22T16:18:38.316Z"
   },
   {
    "duration": 18,
    "start_time": "2022-12-22T16:18:38.333Z"
   },
   {
    "duration": 719,
    "start_time": "2022-12-22T16:18:38.352Z"
   },
   {
    "duration": 5,
    "start_time": "2022-12-22T16:18:39.073Z"
   },
   {
    "duration": 13,
    "start_time": "2022-12-22T16:18:39.080Z"
   },
   {
    "duration": 7,
    "start_time": "2022-12-22T16:18:39.094Z"
   },
   {
    "duration": 8,
    "start_time": "2022-12-22T16:18:39.102Z"
   },
   {
    "duration": 7,
    "start_time": "2022-12-22T16:18:39.111Z"
   },
   {
    "duration": 171,
    "start_time": "2022-12-22T16:18:39.120Z"
   },
   {
    "duration": 87,
    "start_time": "2022-12-22T16:20:21.056Z"
   },
   {
    "duration": 378,
    "start_time": "2022-12-22T16:21:21.007Z"
   },
   {
    "duration": 431,
    "start_time": "2022-12-22T16:21:47.971Z"
   },
   {
    "duration": 380,
    "start_time": "2022-12-22T16:22:48.875Z"
   },
   {
    "duration": 393,
    "start_time": "2022-12-22T16:22:56.674Z"
   },
   {
    "duration": 364,
    "start_time": "2022-12-22T16:23:04.482Z"
   },
   {
    "duration": 451,
    "start_time": "2022-12-22T16:23:15.459Z"
   },
   {
    "duration": 388,
    "start_time": "2022-12-22T16:23:26.515Z"
   },
   {
    "duration": 12,
    "start_time": "2022-12-22T16:26:28.937Z"
   },
   {
    "duration": 429,
    "start_time": "2022-12-22T16:26:33.561Z"
   },
   {
    "duration": 73,
    "start_time": "2022-12-22T16:26:33.993Z"
   },
   {
    "duration": 16,
    "start_time": "2022-12-22T16:26:34.068Z"
   },
   {
    "duration": 55,
    "start_time": "2022-12-22T16:26:34.086Z"
   },
   {
    "duration": 4,
    "start_time": "2022-12-22T16:26:34.144Z"
   },
   {
    "duration": 36,
    "start_time": "2022-12-22T16:26:34.149Z"
   },
   {
    "duration": 26,
    "start_time": "2022-12-22T16:26:34.187Z"
   },
   {
    "duration": 674,
    "start_time": "2022-12-22T16:26:34.215Z"
   },
   {
    "duration": 5,
    "start_time": "2022-12-22T16:26:34.890Z"
   },
   {
    "duration": 17,
    "start_time": "2022-12-22T16:26:34.896Z"
   },
   {
    "duration": 16,
    "start_time": "2022-12-22T16:26:34.915Z"
   },
   {
    "duration": 13,
    "start_time": "2022-12-22T16:26:34.933Z"
   },
   {
    "duration": 7,
    "start_time": "2022-12-22T16:26:34.948Z"
   },
   {
    "duration": 387,
    "start_time": "2022-12-22T16:26:34.958Z"
   },
   {
    "duration": 376,
    "start_time": "2022-12-22T16:27:23.442Z"
   },
   {
    "duration": 158,
    "start_time": "2022-12-22T16:32:22.302Z"
   },
   {
    "duration": 28462,
    "start_time": "2022-12-22T16:32:39.280Z"
   },
   {
    "duration": 5629,
    "start_time": "2022-12-22T16:34:13.366Z"
   },
   {
    "duration": 10947,
    "start_time": "2022-12-22T16:36:35.773Z"
   },
   {
    "duration": 2516,
    "start_time": "2022-12-22T16:37:53.614Z"
   },
   {
    "duration": 22036,
    "start_time": "2022-12-22T16:38:05.014Z"
   },
   {
    "duration": 10789,
    "start_time": "2022-12-22T16:38:33.462Z"
   },
   {
    "duration": 5614,
    "start_time": "2022-12-22T16:40:26.806Z"
   },
   {
    "duration": 3,
    "start_time": "2022-12-22T16:42:58.917Z"
   },
   {
    "duration": 132,
    "start_time": "2022-12-22T16:45:14.916Z"
   },
   {
    "duration": 30,
    "start_time": "2022-12-22T16:45:27.659Z"
   },
   {
    "duration": 75,
    "start_time": "2022-12-22T16:50:57.576Z"
   },
   {
    "duration": 5,
    "start_time": "2022-12-22T16:57:34.911Z"
   },
   {
    "duration": 308,
    "start_time": "2022-12-22T16:58:17.328Z"
   },
   {
    "duration": 140,
    "start_time": "2022-12-22T16:58:44.895Z"
   },
   {
    "duration": 188,
    "start_time": "2022-12-22T17:00:31.353Z"
   },
   {
    "duration": 117,
    "start_time": "2022-12-22T17:00:37.776Z"
   },
   {
    "duration": 76,
    "start_time": "2022-12-22T17:20:10.207Z"
   },
   {
    "duration": 362,
    "start_time": "2022-12-22T17:25:01.503Z"
   },
   {
    "duration": 39,
    "start_time": "2022-12-22T17:28:40.174Z"
   },
   {
    "duration": 121,
    "start_time": "2022-12-22T17:29:22.813Z"
   },
   {
    "duration": 360,
    "start_time": "2022-12-22T17:30:26.415Z"
   },
   {
    "duration": 61,
    "start_time": "2022-12-22T17:30:26.779Z"
   },
   {
    "duration": 13,
    "start_time": "2022-12-22T17:30:26.842Z"
   },
   {
    "duration": 40,
    "start_time": "2022-12-22T17:30:26.857Z"
   },
   {
    "duration": 3,
    "start_time": "2022-12-22T17:30:26.899Z"
   },
   {
    "duration": 18,
    "start_time": "2022-12-22T17:30:26.904Z"
   },
   {
    "duration": 23,
    "start_time": "2022-12-22T17:30:26.924Z"
   },
   {
    "duration": 713,
    "start_time": "2022-12-22T17:30:26.949Z"
   },
   {
    "duration": 5,
    "start_time": "2022-12-22T17:30:27.664Z"
   },
   {
    "duration": 13,
    "start_time": "2022-12-22T17:30:27.670Z"
   },
   {
    "duration": 5,
    "start_time": "2022-12-22T17:30:27.684Z"
   },
   {
    "duration": 7,
    "start_time": "2022-12-22T17:30:27.691Z"
   },
   {
    "duration": 10,
    "start_time": "2022-12-22T17:30:27.700Z"
   },
   {
    "duration": 386,
    "start_time": "2022-12-22T17:30:27.712Z"
   },
   {
    "duration": 10648,
    "start_time": "2022-12-22T17:30:28.099Z"
   },
   {
    "duration": 5622,
    "start_time": "2022-12-22T17:30:38.749Z"
   },
   {
    "duration": 109,
    "start_time": "2022-12-22T17:30:44.373Z"
   },
   {
    "duration": 95,
    "start_time": "2022-12-22T17:30:44.484Z"
   },
   {
    "duration": 430,
    "start_time": "2022-12-22T17:30:44.580Z"
   },
   {
    "duration": 185,
    "start_time": "2022-12-22T17:30:45.012Z"
   },
   {
    "duration": 410,
    "start_time": "2022-12-22T17:31:46.779Z"
   },
   {
    "duration": 40,
    "start_time": "2022-12-22T17:31:55.130Z"
   },
   {
    "duration": 56,
    "start_time": "2022-12-22T17:32:04.210Z"
   },
   {
    "duration": 38,
    "start_time": "2022-12-22T17:32:23.874Z"
   },
   {
    "duration": 355,
    "start_time": "2022-12-22T17:32:30.058Z"
   },
   {
    "duration": 375,
    "start_time": "2022-12-22T17:34:50.986Z"
   },
   {
    "duration": 366,
    "start_time": "2022-12-22T17:35:57.092Z"
   },
   {
    "duration": 413,
    "start_time": "2022-12-23T08:00:10.838Z"
   },
   {
    "duration": 193,
    "start_time": "2022-12-23T08:00:11.256Z"
   },
   {
    "duration": 19,
    "start_time": "2022-12-23T08:00:11.451Z"
   },
   {
    "duration": 51,
    "start_time": "2022-12-23T08:00:11.472Z"
   },
   {
    "duration": 6,
    "start_time": "2022-12-23T08:00:11.525Z"
   },
   {
    "duration": 46,
    "start_time": "2022-12-23T08:00:11.533Z"
   },
   {
    "duration": 36,
    "start_time": "2022-12-23T08:00:11.581Z"
   },
   {
    "duration": 710,
    "start_time": "2022-12-23T08:00:11.619Z"
   },
   {
    "duration": 6,
    "start_time": "2022-12-23T08:00:12.331Z"
   },
   {
    "duration": 29,
    "start_time": "2022-12-23T08:00:12.339Z"
   },
   {
    "duration": 40,
    "start_time": "2022-12-23T08:00:12.370Z"
   },
   {
    "duration": 33,
    "start_time": "2022-12-23T08:00:12.411Z"
   },
   {
    "duration": 33,
    "start_time": "2022-12-23T08:00:12.446Z"
   },
   {
    "duration": 403,
    "start_time": "2022-12-23T08:00:12.481Z"
   },
   {
    "duration": 11387,
    "start_time": "2022-12-23T08:00:12.886Z"
   },
   {
    "duration": 8707,
    "start_time": "2022-12-23T08:00:24.277Z"
   },
   {
    "duration": 95,
    "start_time": "2022-12-23T08:00:32.987Z"
   },
   {
    "duration": 108,
    "start_time": "2022-12-23T08:00:33.085Z"
   },
   {
    "duration": 572,
    "start_time": "2022-12-23T08:00:33.195Z"
   },
   {
    "duration": 401,
    "start_time": "2022-12-23T08:00:33.769Z"
   },
   {
    "duration": 61,
    "start_time": "2022-12-23T08:00:34.171Z"
   },
   {
    "duration": 11371,
    "start_time": "2022-12-23T08:01:16.328Z"
   },
   {
    "duration": 102967,
    "start_time": "2022-12-23T08:01:35.229Z"
   },
   {
    "duration": 11213,
    "start_time": "2022-12-23T08:07:34.528Z"
   },
   {
    "duration": 401,
    "start_time": "2022-12-23T08:08:32.256Z"
   },
   {
    "duration": 60,
    "start_time": "2022-12-23T08:08:32.659Z"
   },
   {
    "duration": 12,
    "start_time": "2022-12-23T08:08:32.720Z"
   },
   {
    "duration": 44,
    "start_time": "2022-12-23T08:08:32.734Z"
   },
   {
    "duration": 4,
    "start_time": "2022-12-23T08:08:32.779Z"
   },
   {
    "duration": 16,
    "start_time": "2022-12-23T08:08:32.784Z"
   },
   {
    "duration": 34,
    "start_time": "2022-12-23T08:08:32.802Z"
   },
   {
    "duration": 708,
    "start_time": "2022-12-23T08:08:32.838Z"
   },
   {
    "duration": 6,
    "start_time": "2022-12-23T08:08:33.547Z"
   },
   {
    "duration": 10,
    "start_time": "2022-12-23T08:08:33.555Z"
   },
   {
    "duration": 13,
    "start_time": "2022-12-23T08:08:33.567Z"
   },
   {
    "duration": 15,
    "start_time": "2022-12-23T08:08:33.582Z"
   },
   {
    "duration": 12,
    "start_time": "2022-12-23T08:08:33.599Z"
   },
   {
    "duration": 418,
    "start_time": "2022-12-23T08:08:33.612Z"
   },
   {
    "duration": 10910,
    "start_time": "2022-12-23T08:08:34.032Z"
   },
   {
    "duration": 6322,
    "start_time": "2022-12-23T08:08:44.945Z"
   },
   {
    "duration": 31,
    "start_time": "2022-12-23T08:08:51.269Z"
   },
   {
    "duration": 79,
    "start_time": "2022-12-23T08:08:51.303Z"
   },
   {
    "duration": 480,
    "start_time": "2022-12-23T08:08:51.384Z"
   },
   {
    "duration": 394,
    "start_time": "2022-12-23T08:08:51.866Z"
   },
   {
    "duration": 11171,
    "start_time": "2022-12-23T08:08:52.262Z"
   },
   {
    "duration": 11307,
    "start_time": "2022-12-23T08:13:37.665Z"
   },
   {
    "duration": 9819,
    "start_time": "2022-12-23T08:14:17.586Z"
   },
   {
    "duration": 388,
    "start_time": "2022-12-23T08:14:34.378Z"
   },
   {
    "duration": 359,
    "start_time": "2022-12-23T08:14:50.394Z"
   },
   {
    "duration": 427,
    "start_time": "2022-12-23T08:15:00.818Z"
   },
   {
    "duration": 394,
    "start_time": "2022-12-23T08:15:07.009Z"
   },
   {
    "duration": 462,
    "start_time": "2022-12-23T08:15:13.865Z"
   },
   {
    "duration": 373,
    "start_time": "2022-12-23T08:18:46.111Z"
   },
   {
    "duration": 644,
    "start_time": "2022-12-23T08:19:01.839Z"
   },
   {
    "duration": 941,
    "start_time": "2022-12-23T08:19:24.478Z"
   },
   {
    "duration": 380,
    "start_time": "2022-12-23T08:20:19.906Z"
   },
   {
    "duration": 938,
    "start_time": "2022-12-23T08:23:08.110Z"
   },
   {
    "duration": 3,
    "start_time": "2022-12-23T08:24:29.366Z"
   },
   {
    "duration": 903,
    "start_time": "2022-12-23T08:24:34.634Z"
   },
   {
    "duration": 835,
    "start_time": "2022-12-23T08:24:42.982Z"
   },
   {
    "duration": 126,
    "start_time": "2022-12-23T08:28:39.426Z"
   },
   {
    "duration": 946,
    "start_time": "2022-12-23T08:28:47.794Z"
   },
   {
    "duration": 645,
    "start_time": "2022-12-23T08:30:52.275Z"
   },
   {
    "duration": 63,
    "start_time": "2022-12-23T08:30:52.922Z"
   },
   {
    "duration": 12,
    "start_time": "2022-12-23T08:30:52.987Z"
   },
   {
    "duration": 41,
    "start_time": "2022-12-23T08:30:53.001Z"
   },
   {
    "duration": 135900,
    "start_time": "2022-12-23T08:30:53.043Z"
   },
   {
    "duration": 4,
    "start_time": "2022-12-23T08:33:09.820Z"
   },
   {
    "duration": 17,
    "start_time": "2022-12-23T08:33:09.825Z"
   },
   {
    "duration": 16,
    "start_time": "2022-12-23T08:33:09.844Z"
   },
   {
    "duration": 643,
    "start_time": "2022-12-23T08:33:09.879Z"
   },
   {
    "duration": 5,
    "start_time": "2022-12-23T08:33:10.523Z"
   },
   {
    "duration": 12,
    "start_time": "2022-12-23T08:33:10.529Z"
   },
   {
    "duration": 5,
    "start_time": "2022-12-23T08:33:10.543Z"
   },
   {
    "duration": 24,
    "start_time": "2022-12-23T08:33:10.550Z"
   },
   {
    "duration": 9,
    "start_time": "2022-12-23T08:33:10.575Z"
   },
   {
    "duration": 373,
    "start_time": "2022-12-23T08:33:10.585Z"
   },
   {
    "duration": 10950,
    "start_time": "2022-12-23T08:33:10.959Z"
   },
   {
    "duration": 5707,
    "start_time": "2022-12-23T08:33:21.910Z"
   },
   {
    "duration": 61,
    "start_time": "2022-12-23T08:33:27.619Z"
   },
   {
    "duration": 97,
    "start_time": "2022-12-23T08:33:27.682Z"
   },
   {
    "duration": 133,
    "start_time": "2022-12-23T08:33:27.781Z"
   },
   {
    "duration": 369,
    "start_time": "2022-12-23T08:33:27.915Z"
   },
   {
    "duration": 9426,
    "start_time": "2022-12-23T08:33:28.285Z"
   },
   {
    "duration": 567,
    "start_time": "2022-12-23T08:33:37.712Z"
   },
   {
    "duration": 189,
    "start_time": "2022-12-23T08:33:38.281Z"
   },
   {
    "duration": 0,
    "start_time": "2022-12-23T08:33:38.478Z"
   },
   {
    "duration": 9,
    "start_time": "2022-12-23T08:34:04.302Z"
   },
   {
    "duration": 873,
    "start_time": "2022-12-23T08:34:35.177Z"
   },
   {
    "duration": 772,
    "start_time": "2022-12-23T15:23:17.378Z"
   },
   {
    "duration": 101,
    "start_time": "2022-12-23T15:23:18.152Z"
   },
   {
    "duration": 13,
    "start_time": "2022-12-23T15:23:18.255Z"
   },
   {
    "duration": 51,
    "start_time": "2022-12-23T15:23:18.269Z"
   },
   {
    "duration": 976,
    "start_time": "2022-12-23T15:23:18.322Z"
   },
   {
    "duration": 4,
    "start_time": "2022-12-23T15:23:19.300Z"
   },
   {
    "duration": 23,
    "start_time": "2022-12-23T15:23:19.305Z"
   },
   {
    "duration": 22,
    "start_time": "2022-12-23T15:23:19.330Z"
   },
   {
    "duration": 735,
    "start_time": "2022-12-23T15:23:19.354Z"
   },
   {
    "duration": 6,
    "start_time": "2022-12-23T15:23:20.091Z"
   },
   {
    "duration": 23,
    "start_time": "2022-12-23T15:23:20.099Z"
   },
   {
    "duration": 36,
    "start_time": "2022-12-23T15:23:20.124Z"
   },
   {
    "duration": 23,
    "start_time": "2022-12-23T15:23:20.162Z"
   },
   {
    "duration": 27,
    "start_time": "2022-12-23T15:23:20.188Z"
   },
   {
    "duration": 411,
    "start_time": "2022-12-23T15:23:20.216Z"
   },
   {
    "duration": 11188,
    "start_time": "2022-12-23T15:23:20.629Z"
   },
   {
    "duration": 6020,
    "start_time": "2022-12-23T15:23:31.818Z"
   },
   {
    "duration": 76,
    "start_time": "2022-12-23T15:23:37.840Z"
   },
   {
    "duration": 97,
    "start_time": "2022-12-23T15:23:37.918Z"
   },
   {
    "duration": 136,
    "start_time": "2022-12-23T15:23:38.017Z"
   },
   {
    "duration": 382,
    "start_time": "2022-12-23T15:23:38.154Z"
   },
   {
    "duration": 9865,
    "start_time": "2022-12-23T15:23:38.537Z"
   },
   {
    "duration": 814,
    "start_time": "2022-12-23T15:23:48.404Z"
   },
   {
    "duration": 174,
    "start_time": "2022-12-23T16:02:12.946Z"
   },
   {
    "duration": 642,
    "start_time": "2022-12-23T16:03:55.342Z"
   },
   {
    "duration": 693,
    "start_time": "2022-12-23T16:05:17.884Z"
   },
   {
    "duration": 631,
    "start_time": "2022-12-23T16:05:30.952Z"
   },
   {
    "duration": 609,
    "start_time": "2022-12-23T16:06:41.582Z"
   },
   {
    "duration": 631,
    "start_time": "2022-12-23T16:08:11.272Z"
   },
   {
    "duration": 648,
    "start_time": "2022-12-23T16:08:40.799Z"
   },
   {
    "duration": 134,
    "start_time": "2022-12-23T16:09:12.990Z"
   },
   {
    "duration": 1023,
    "start_time": "2022-12-23T16:10:22.343Z"
   },
   {
    "duration": 1009,
    "start_time": "2022-12-23T16:11:44.371Z"
   },
   {
    "duration": 1055,
    "start_time": "2022-12-23T16:11:52.503Z"
   },
   {
    "duration": 939,
    "start_time": "2022-12-23T16:12:14.820Z"
   },
   {
    "duration": 1047,
    "start_time": "2022-12-23T16:12:32.231Z"
   },
   {
    "duration": 1016,
    "start_time": "2022-12-23T16:12:41.575Z"
   },
   {
    "duration": 1037,
    "start_time": "2022-12-23T16:19:03.682Z"
   },
   {
    "duration": 998,
    "start_time": "2022-12-23T16:19:30.757Z"
   },
   {
    "duration": 34,
    "start_time": "2022-12-23T17:09:29.515Z"
   },
   {
    "duration": 623,
    "start_time": "2022-12-23T17:10:20.683Z"
   },
   {
    "duration": 56,
    "start_time": "2022-12-23T17:10:21.308Z"
   },
   {
    "duration": 11,
    "start_time": "2022-12-23T17:10:21.366Z"
   },
   {
    "duration": 38,
    "start_time": "2022-12-23T17:10:21.379Z"
   },
   {
    "duration": 918,
    "start_time": "2022-12-23T17:10:21.419Z"
   },
   {
    "duration": 3,
    "start_time": "2022-12-23T17:10:22.339Z"
   },
   {
    "duration": 18,
    "start_time": "2022-12-23T17:10:22.344Z"
   },
   {
    "duration": 16,
    "start_time": "2022-12-23T17:10:22.364Z"
   },
   {
    "duration": 732,
    "start_time": "2022-12-23T17:10:22.381Z"
   },
   {
    "duration": 5,
    "start_time": "2022-12-23T17:10:23.115Z"
   },
   {
    "duration": 8,
    "start_time": "2022-12-23T17:10:23.122Z"
   },
   {
    "duration": 5,
    "start_time": "2022-12-23T17:10:23.131Z"
   },
   {
    "duration": 5,
    "start_time": "2022-12-23T17:10:23.138Z"
   },
   {
    "duration": 5,
    "start_time": "2022-12-23T17:10:23.146Z"
   },
   {
    "duration": 431,
    "start_time": "2022-12-23T17:10:23.153Z"
   },
   {
    "duration": 11173,
    "start_time": "2022-12-23T17:10:23.586Z"
   },
   {
    "duration": 5938,
    "start_time": "2022-12-23T17:10:34.761Z"
   },
   {
    "duration": 42,
    "start_time": "2022-12-23T17:10:40.701Z"
   },
   {
    "duration": 76,
    "start_time": "2022-12-23T17:10:40.745Z"
   },
   {
    "duration": 239,
    "start_time": "2022-12-23T17:10:40.823Z"
   },
   {
    "duration": 388,
    "start_time": "2022-12-23T17:10:41.063Z"
   },
   {
    "duration": 9869,
    "start_time": "2022-12-23T17:10:41.453Z"
   },
   {
    "duration": 193,
    "start_time": "2022-12-23T17:10:51.324Z"
   },
   {
    "duration": 1056,
    "start_time": "2022-12-23T17:10:51.519Z"
   },
   {
    "duration": 15,
    "start_time": "2022-12-23T17:10:52.577Z"
   },
   {
    "duration": 14,
    "start_time": "2022-12-23T17:13:11.555Z"
   },
   {
    "duration": 15,
    "start_time": "2022-12-23T17:13:25.862Z"
   },
   {
    "duration": 22,
    "start_time": "2022-12-23T17:13:57.851Z"
   },
   {
    "duration": 22,
    "start_time": "2022-12-23T17:14:30.615Z"
   },
   {
    "duration": 120,
    "start_time": "2022-12-23T17:16:23.991Z"
   },
   {
    "duration": 17,
    "start_time": "2022-12-23T17:18:22.871Z"
   },
   {
    "duration": 22,
    "start_time": "2022-12-23T17:18:56.023Z"
   },
   {
    "duration": 18,
    "start_time": "2022-12-23T17:18:59.859Z"
   },
   {
    "duration": 190,
    "start_time": "2022-12-23T17:19:15.896Z"
   },
   {
    "duration": 182,
    "start_time": "2022-12-23T17:19:46.903Z"
   },
   {
    "duration": 193,
    "start_time": "2022-12-23T17:20:13.044Z"
   },
   {
    "duration": 230,
    "start_time": "2022-12-23T17:20:34.345Z"
   },
   {
    "duration": 191,
    "start_time": "2022-12-23T17:22:11.553Z"
   },
   {
    "duration": 233,
    "start_time": "2022-12-23T17:22:27.496Z"
   },
   {
    "duration": 194,
    "start_time": "2022-12-23T17:22:36.903Z"
   },
   {
    "duration": 216,
    "start_time": "2022-12-23T17:22:41.711Z"
   },
   {
    "duration": 247,
    "start_time": "2022-12-23T17:22:46.157Z"
   },
   {
    "duration": 194,
    "start_time": "2022-12-23T17:22:50.864Z"
   },
   {
    "duration": 239,
    "start_time": "2022-12-23T17:22:57.100Z"
   },
   {
    "duration": 216,
    "start_time": "2022-12-23T17:23:02.307Z"
   },
   {
    "duration": 199,
    "start_time": "2022-12-23T17:24:38.156Z"
   },
   {
    "duration": 15,
    "start_time": "2022-12-23T17:25:49.104Z"
   },
   {
    "duration": 4839,
    "start_time": "2022-12-23T17:25:56.259Z"
   },
   {
    "duration": 1478,
    "start_time": "2022-12-23T17:28:40.947Z"
   },
   {
    "duration": 1605,
    "start_time": "2022-12-23T17:29:37.416Z"
   },
   {
    "duration": 65,
    "start_time": "2022-12-23T17:30:26.760Z"
   },
   {
    "duration": 1611,
    "start_time": "2022-12-23T17:31:11.328Z"
   },
   {
    "duration": 1640,
    "start_time": "2022-12-23T17:31:25.400Z"
   },
   {
    "duration": 1675,
    "start_time": "2022-12-23T17:31:33.864Z"
   },
   {
    "duration": 1588,
    "start_time": "2022-12-23T17:31:42.704Z"
   },
   {
    "duration": 1696,
    "start_time": "2022-12-23T17:31:54.849Z"
   },
   {
    "duration": 210,
    "start_time": "2022-12-23T17:33:23.772Z"
   },
   {
    "duration": 217,
    "start_time": "2022-12-23T17:33:34.071Z"
   },
   {
    "duration": 1595,
    "start_time": "2022-12-23T17:35:34.472Z"
   },
   {
    "duration": 48,
    "start_time": "2022-12-23T17:35:51.072Z"
   },
   {
    "duration": 106,
    "start_time": "2022-12-23T17:37:08.120Z"
   },
   {
    "duration": 62,
    "start_time": "2022-12-23T17:37:26.060Z"
   },
   {
    "duration": 106,
    "start_time": "2022-12-23T17:40:55.111Z"
   },
   {
    "duration": 60,
    "start_time": "2022-12-23T17:41:02.259Z"
   },
   {
    "duration": 927,
    "start_time": "2022-12-24T14:24:54.209Z"
   },
   {
    "duration": 375,
    "start_time": "2022-12-24T14:24:55.138Z"
   },
   {
    "duration": 14,
    "start_time": "2022-12-24T14:24:55.515Z"
   },
   {
    "duration": 50,
    "start_time": "2022-12-24T14:24:55.531Z"
   },
   {
    "duration": 1070,
    "start_time": "2022-12-24T14:24:55.583Z"
   },
   {
    "duration": 5,
    "start_time": "2022-12-24T14:24:56.655Z"
   },
   {
    "duration": 24,
    "start_time": "2022-12-24T14:24:56.662Z"
   },
   {
    "duration": 20,
    "start_time": "2022-12-24T14:24:56.687Z"
   },
   {
    "duration": 848,
    "start_time": "2022-12-24T14:24:56.709Z"
   },
   {
    "duration": 9,
    "start_time": "2022-12-24T14:24:57.561Z"
   },
   {
    "duration": 9,
    "start_time": "2022-12-24T14:24:57.571Z"
   },
   {
    "duration": 7,
    "start_time": "2022-12-24T14:24:57.582Z"
   },
   {
    "duration": 6,
    "start_time": "2022-12-24T14:24:57.590Z"
   },
   {
    "duration": 7,
    "start_time": "2022-12-24T14:24:57.597Z"
   },
   {
    "duration": 499,
    "start_time": "2022-12-24T14:24:57.606Z"
   },
   {
    "duration": 13117,
    "start_time": "2022-12-24T14:24:58.107Z"
   },
   {
    "duration": 6759,
    "start_time": "2022-12-24T14:25:11.225Z"
   },
   {
    "duration": 35,
    "start_time": "2022-12-24T14:25:17.985Z"
   },
   {
    "duration": 14,
    "start_time": "2022-12-24T14:25:18.052Z"
   },
   {
    "duration": 161,
    "start_time": "2022-12-24T14:25:18.152Z"
   },
   {
    "duration": 434,
    "start_time": "2022-12-24T14:25:18.315Z"
   },
   {
    "duration": 11442,
    "start_time": "2022-12-24T14:25:18.751Z"
   },
   {
    "duration": 172,
    "start_time": "2022-12-24T14:25:30.195Z"
   },
   {
    "duration": 1155,
    "start_time": "2022-12-24T14:25:30.453Z"
   },
   {
    "duration": 17,
    "start_time": "2022-12-24T14:25:31.609Z"
   },
   {
    "duration": 269,
    "start_time": "2022-12-24T14:25:31.628Z"
   },
   {
    "duration": 1810,
    "start_time": "2022-12-24T14:25:31.899Z"
   },
   {
    "duration": 144,
    "start_time": "2022-12-24T14:25:33.712Z"
   },
   {
    "duration": 552,
    "start_time": "2022-12-24T14:25:33.862Z"
   },
   {
    "duration": 17,
    "start_time": "2022-12-24T14:39:05.532Z"
   },
   {
    "duration": 15,
    "start_time": "2022-12-24T14:46:33.633Z"
   },
   {
    "duration": 702,
    "start_time": "2022-12-24T14:57:52.389Z"
   },
   {
    "duration": 1288,
    "start_time": "2022-12-24T14:58:53.797Z"
   },
   {
    "duration": 344,
    "start_time": "2022-12-24T14:59:14.069Z"
   },
   {
    "duration": 5898,
    "start_time": "2022-12-24T15:07:01.363Z"
   },
   {
    "duration": 689,
    "start_time": "2022-12-24T15:22:26.484Z"
   },
   {
    "duration": 60,
    "start_time": "2022-12-24T15:22:27.175Z"
   },
   {
    "duration": 15,
    "start_time": "2022-12-24T15:22:27.237Z"
   },
   {
    "duration": 68,
    "start_time": "2022-12-24T15:22:27.255Z"
   },
   {
    "duration": 973,
    "start_time": "2022-12-24T15:22:27.325Z"
   },
   {
    "duration": 5,
    "start_time": "2022-12-24T15:22:28.300Z"
   },
   {
    "duration": 50,
    "start_time": "2022-12-24T15:22:28.306Z"
   },
   {
    "duration": 39,
    "start_time": "2022-12-24T15:22:28.358Z"
   },
   {
    "duration": 822,
    "start_time": "2022-12-24T15:22:28.399Z"
   },
   {
    "duration": 8,
    "start_time": "2022-12-24T15:22:29.225Z"
   },
   {
    "duration": 62,
    "start_time": "2022-12-24T15:22:29.234Z"
   },
   {
    "duration": 14,
    "start_time": "2022-12-24T15:22:29.298Z"
   },
   {
    "duration": 36,
    "start_time": "2022-12-24T15:22:29.313Z"
   },
   {
    "duration": 24,
    "start_time": "2022-12-24T15:22:29.351Z"
   },
   {
    "duration": 465,
    "start_time": "2022-12-24T15:22:29.376Z"
   },
   {
    "duration": 12755,
    "start_time": "2022-12-24T15:22:29.843Z"
   },
   {
    "duration": 6571,
    "start_time": "2022-12-24T15:22:42.600Z"
   },
   {
    "duration": 84,
    "start_time": "2022-12-24T15:22:49.172Z"
   },
   {
    "duration": 93,
    "start_time": "2022-12-24T15:22:49.259Z"
   },
   {
    "duration": 157,
    "start_time": "2022-12-24T15:22:49.354Z"
   },
   {
    "duration": 501,
    "start_time": "2022-12-24T15:22:49.513Z"
   },
   {
    "duration": 11201,
    "start_time": "2022-12-24T15:22:50.016Z"
   },
   {
    "duration": 136,
    "start_time": "2022-12-24T15:23:01.218Z"
   },
   {
    "duration": 1152,
    "start_time": "2022-12-24T15:23:01.358Z"
   },
   {
    "duration": 18,
    "start_time": "2022-12-24T15:23:02.513Z"
   },
   {
    "duration": 244,
    "start_time": "2022-12-24T15:23:02.552Z"
   },
   {
    "duration": 1753,
    "start_time": "2022-12-24T15:23:02.798Z"
   },
   {
    "duration": 105,
    "start_time": "2022-12-24T15:23:04.554Z"
   },
   {
    "duration": 545,
    "start_time": "2022-12-24T15:23:04.750Z"
   },
   {
    "duration": 16,
    "start_time": "2022-12-24T15:23:05.298Z"
   },
   {
    "duration": 310,
    "start_time": "2022-12-24T15:23:05.316Z"
   },
   {
    "duration": 237696,
    "start_time": "2022-12-24T15:23:05.628Z"
   },
   {
    "duration": 3964,
    "start_time": "2022-12-24T15:27:51.069Z"
   },
   {
    "duration": 3834,
    "start_time": "2022-12-24T15:28:11.361Z"
   },
   {
    "duration": 13,
    "start_time": "2022-12-24T15:28:58.712Z"
   },
   {
    "duration": 3873,
    "start_time": "2022-12-24T15:29:25.480Z"
   },
   {
    "duration": 5667,
    "start_time": "2022-12-24T15:29:48.260Z"
   },
   {
    "duration": 4029,
    "start_time": "2022-12-24T15:30:03.392Z"
   },
   {
    "duration": 150,
    "start_time": "2022-12-24T15:31:37.804Z"
   },
   {
    "duration": 477,
    "start_time": "2022-12-24T15:37:21.372Z"
   },
   {
    "duration": 338,
    "start_time": "2022-12-24T15:40:06.322Z"
   },
   {
    "duration": 20,
    "start_time": "2022-12-24T15:40:18.284Z"
   },
   {
    "duration": 184,
    "start_time": "2022-12-24T15:46:14.874Z"
   },
   {
    "duration": 168,
    "start_time": "2022-12-24T15:50:03.482Z"
   },
   {
    "duration": 149,
    "start_time": "2022-12-24T15:52:14.087Z"
   },
   {
    "duration": 4012,
    "start_time": "2022-12-24T15:54:00.195Z"
   },
   {
    "duration": 729,
    "start_time": "2022-12-24T15:54:18.296Z"
   },
   {
    "duration": 70,
    "start_time": "2022-12-24T15:54:19.028Z"
   },
   {
    "duration": 21,
    "start_time": "2022-12-24T15:54:19.099Z"
   },
   {
    "duration": 74,
    "start_time": "2022-12-24T15:54:19.123Z"
   },
   {
    "duration": 1130,
    "start_time": "2022-12-24T15:54:19.200Z"
   },
   {
    "duration": 4,
    "start_time": "2022-12-24T15:54:20.332Z"
   },
   {
    "duration": 29,
    "start_time": "2022-12-24T15:54:20.337Z"
   },
   {
    "duration": 35,
    "start_time": "2022-12-24T15:54:20.368Z"
   },
   {
    "duration": 842,
    "start_time": "2022-12-24T15:54:20.405Z"
   },
   {
    "duration": 6,
    "start_time": "2022-12-24T15:54:21.250Z"
   },
   {
    "duration": 32,
    "start_time": "2022-12-24T15:54:21.258Z"
   },
   {
    "duration": 35,
    "start_time": "2022-12-24T15:54:21.292Z"
   },
   {
    "duration": 29,
    "start_time": "2022-12-24T15:54:21.329Z"
   },
   {
    "duration": 19,
    "start_time": "2022-12-24T15:54:21.361Z"
   },
   {
    "duration": 445,
    "start_time": "2022-12-24T15:54:21.381Z"
   },
   {
    "duration": 12396,
    "start_time": "2022-12-24T15:54:21.828Z"
   },
   {
    "duration": 6548,
    "start_time": "2022-12-24T15:54:34.226Z"
   },
   {
    "duration": 34,
    "start_time": "2022-12-24T15:54:40.777Z"
   },
   {
    "duration": 8,
    "start_time": "2022-12-24T15:54:40.854Z"
   },
   {
    "duration": 147,
    "start_time": "2022-12-24T15:54:40.951Z"
   },
   {
    "duration": 423,
    "start_time": "2022-12-24T15:54:41.101Z"
   },
   {
    "duration": 10993,
    "start_time": "2022-12-24T15:54:41.525Z"
   },
   {
    "duration": 138,
    "start_time": "2022-12-24T15:54:52.520Z"
   },
   {
    "duration": 1251,
    "start_time": "2022-12-24T15:54:52.660Z"
   },
   {
    "duration": 18,
    "start_time": "2022-12-24T15:54:53.913Z"
   },
   {
    "duration": 243,
    "start_time": "2022-12-24T15:54:53.933Z"
   },
   {
    "duration": 1728,
    "start_time": "2022-12-24T15:54:54.177Z"
   },
   {
    "duration": 45,
    "start_time": "2022-12-24T15:54:55.907Z"
   },
   {
    "duration": 653,
    "start_time": "2022-12-24T15:54:55.958Z"
   },
   {
    "duration": 16,
    "start_time": "2022-12-24T15:54:56.613Z"
   },
   {
    "duration": 304,
    "start_time": "2022-12-24T15:54:56.631Z"
   },
   {
    "duration": 3888,
    "start_time": "2022-12-24T15:54:56.937Z"
   },
   {
    "duration": 238,
    "start_time": "2022-12-24T15:55:00.827Z"
   },
   {
    "duration": 296,
    "start_time": "2022-12-24T15:55:01.150Z"
   },
   {
    "duration": 311,
    "start_time": "2022-12-24T15:56:23.908Z"
   },
   {
    "duration": 207,
    "start_time": "2022-12-24T15:58:04.489Z"
   },
   {
    "duration": 120,
    "start_time": "2022-12-24T16:02:39.752Z"
   },
   {
    "duration": 196,
    "start_time": "2022-12-24T16:03:03.836Z"
   },
   {
    "duration": 186,
    "start_time": "2022-12-24T16:03:13.572Z"
   },
   {
    "duration": 200,
    "start_time": "2022-12-24T16:03:27.876Z"
   },
   {
    "duration": 180,
    "start_time": "2022-12-24T16:03:37.437Z"
   },
   {
    "duration": 185,
    "start_time": "2022-12-24T16:03:47.624Z"
   },
   {
    "duration": 1114,
    "start_time": "2022-12-24T16:17:14.499Z"
   },
   {
    "duration": 1316,
    "start_time": "2022-12-24T16:18:35.088Z"
   },
   {
    "duration": 651,
    "start_time": "2022-12-24T16:19:13.049Z"
   },
   {
    "duration": 787,
    "start_time": "2022-12-24T16:19:38.056Z"
   },
   {
    "duration": 276,
    "start_time": "2022-12-24T16:22:49.956Z"
   },
   {
    "duration": 681,
    "start_time": "2022-12-24T16:26:27.651Z"
   },
   {
    "duration": 1233,
    "start_time": "2022-12-24T16:29:52.969Z"
   },
   {
    "duration": 723,
    "start_time": "2022-12-24T16:39:52.382Z"
   },
   {
    "duration": 84,
    "start_time": "2022-12-24T16:39:53.108Z"
   },
   {
    "duration": 19,
    "start_time": "2022-12-24T16:39:53.194Z"
   },
   {
    "duration": 62,
    "start_time": "2022-12-24T16:39:53.216Z"
   },
   {
    "duration": 1127,
    "start_time": "2022-12-24T16:39:53.281Z"
   },
   {
    "duration": 4,
    "start_time": "2022-12-24T16:39:54.410Z"
   },
   {
    "duration": 34,
    "start_time": "2022-12-24T16:39:54.416Z"
   },
   {
    "duration": 70,
    "start_time": "2022-12-24T16:39:54.454Z"
   },
   {
    "duration": 905,
    "start_time": "2022-12-24T16:39:54.525Z"
   },
   {
    "duration": 7,
    "start_time": "2022-12-24T16:39:55.432Z"
   },
   {
    "duration": 56,
    "start_time": "2022-12-24T16:39:55.440Z"
   },
   {
    "duration": 19,
    "start_time": "2022-12-24T16:39:55.498Z"
   },
   {
    "duration": 80,
    "start_time": "2022-12-24T16:39:55.518Z"
   },
   {
    "duration": 39,
    "start_time": "2022-12-24T16:39:55.601Z"
   },
   {
    "duration": 547,
    "start_time": "2022-12-24T16:39:55.641Z"
   },
   {
    "duration": 14069,
    "start_time": "2022-12-24T16:39:56.192Z"
   },
   {
    "duration": 7352,
    "start_time": "2022-12-24T16:40:10.263Z"
   },
   {
    "duration": 77,
    "start_time": "2022-12-24T16:40:17.616Z"
   },
   {
    "duration": 57,
    "start_time": "2022-12-24T16:40:17.697Z"
   },
   {
    "duration": 265,
    "start_time": "2022-12-24T16:40:17.756Z"
   },
   {
    "duration": 504,
    "start_time": "2022-12-24T16:40:18.023Z"
   },
   {
    "duration": 12508,
    "start_time": "2022-12-24T16:40:18.529Z"
   },
   {
    "duration": 222,
    "start_time": "2022-12-24T16:40:31.039Z"
   },
   {
    "duration": 1316,
    "start_time": "2022-12-24T16:40:31.265Z"
   },
   {
    "duration": 17,
    "start_time": "2022-12-24T16:40:32.584Z"
   },
   {
    "duration": 264,
    "start_time": "2022-12-24T16:40:32.603Z"
   },
   {
    "duration": 2024,
    "start_time": "2022-12-24T16:40:32.878Z"
   },
   {
    "duration": 150,
    "start_time": "2022-12-24T16:40:34.904Z"
   },
   {
    "duration": 586,
    "start_time": "2022-12-24T16:40:35.062Z"
   },
   {
    "duration": 30,
    "start_time": "2022-12-24T16:40:35.650Z"
   },
   {
    "duration": 351,
    "start_time": "2022-12-24T16:40:35.687Z"
   },
   {
    "duration": 4669,
    "start_time": "2022-12-24T16:40:36.040Z"
   },
   {
    "duration": 164,
    "start_time": "2022-12-24T16:40:40.711Z"
   },
   {
    "duration": 1517,
    "start_time": "2022-12-24T16:40:40.877Z"
   },
   {
    "duration": 742,
    "start_time": "2022-12-24T17:17:35.504Z"
   },
   {
    "duration": 84,
    "start_time": "2022-12-24T17:17:36.248Z"
   },
   {
    "duration": 18,
    "start_time": "2022-12-24T17:17:36.334Z"
   },
   {
    "duration": 83,
    "start_time": "2022-12-24T17:17:36.355Z"
   },
   {
    "duration": 1086,
    "start_time": "2022-12-24T17:17:36.441Z"
   },
   {
    "duration": 4,
    "start_time": "2022-12-24T17:17:37.529Z"
   },
   {
    "duration": 66,
    "start_time": "2022-12-24T17:17:37.556Z"
   },
   {
    "duration": 62,
    "start_time": "2022-12-24T17:17:37.624Z"
   },
   {
    "duration": 910,
    "start_time": "2022-12-24T17:17:37.690Z"
   },
   {
    "duration": 8,
    "start_time": "2022-12-24T17:17:38.602Z"
   },
   {
    "duration": 17,
    "start_time": "2022-12-24T17:17:38.611Z"
   },
   {
    "duration": 17,
    "start_time": "2022-12-24T17:17:38.630Z"
   },
   {
    "duration": 56,
    "start_time": "2022-12-24T17:17:38.651Z"
   },
   {
    "duration": 14,
    "start_time": "2022-12-24T17:17:38.710Z"
   },
   {
    "duration": 487,
    "start_time": "2022-12-24T17:17:38.726Z"
   },
   {
    "duration": 14565,
    "start_time": "2022-12-24T17:17:39.215Z"
   },
   {
    "duration": 7478,
    "start_time": "2022-12-24T17:17:53.782Z"
   },
   {
    "duration": 41,
    "start_time": "2022-12-24T17:18:01.264Z"
   },
   {
    "duration": 16,
    "start_time": "2022-12-24T17:18:01.361Z"
   },
   {
    "duration": 251,
    "start_time": "2022-12-24T17:18:01.380Z"
   },
   {
    "duration": 471,
    "start_time": "2022-12-24T17:18:01.633Z"
   },
   {
    "duration": 12527,
    "start_time": "2022-12-24T17:18:02.106Z"
   },
   {
    "duration": 222,
    "start_time": "2022-12-24T17:18:14.634Z"
   },
   {
    "duration": 1158,
    "start_time": "2022-12-24T17:18:14.858Z"
   },
   {
    "duration": 15,
    "start_time": "2022-12-24T17:18:16.019Z"
   },
   {
    "duration": 256,
    "start_time": "2022-12-24T17:18:16.054Z"
   },
   {
    "duration": 1961,
    "start_time": "2022-12-24T17:18:16.312Z"
   },
   {
    "duration": 102,
    "start_time": "2022-12-24T17:18:18.275Z"
   },
   {
    "duration": 644,
    "start_time": "2022-12-24T17:18:18.380Z"
   },
   {
    "duration": 25,
    "start_time": "2022-12-24T17:18:19.026Z"
   },
   {
    "duration": 387,
    "start_time": "2022-12-24T17:18:19.053Z"
   },
   {
    "duration": 4391,
    "start_time": "2022-12-24T17:18:19.442Z"
   },
   {
    "duration": 217,
    "start_time": "2022-12-24T17:18:23.835Z"
   },
   {
    "duration": 1352,
    "start_time": "2022-12-24T17:18:24.067Z"
   },
   {
    "duration": 175832,
    "start_time": "2022-12-24T17:18:25.420Z"
   },
   {
    "duration": 593369,
    "start_time": "2022-12-24T17:26:09.700Z"
   },
   {
    "duration": 3863,
    "start_time": "2022-12-24T17:36:10.908Z"
   },
   {
    "duration": 892,
    "start_time": "2022-12-24T17:36:26.915Z"
   },
   {
    "duration": 115,
    "start_time": "2022-12-24T17:36:27.809Z"
   },
   {
    "duration": 20,
    "start_time": "2022-12-24T17:36:27.927Z"
   },
   {
    "duration": 162,
    "start_time": "2022-12-24T17:36:27.949Z"
   },
   {
    "duration": 1545,
    "start_time": "2022-12-24T17:36:28.114Z"
   },
   {
    "duration": 18,
    "start_time": "2022-12-24T17:36:29.661Z"
   },
   {
    "duration": 137,
    "start_time": "2022-12-24T17:36:29.689Z"
   },
   {
    "duration": 174,
    "start_time": "2022-12-24T17:36:29.829Z"
   },
   {
    "duration": 1293,
    "start_time": "2022-12-24T17:36:30.010Z"
   },
   {
    "duration": 9,
    "start_time": "2022-12-24T17:36:31.307Z"
   },
   {
    "duration": 60,
    "start_time": "2022-12-24T17:36:31.323Z"
   },
   {
    "duration": 47,
    "start_time": "2022-12-24T17:36:31.385Z"
   },
   {
    "duration": 95,
    "start_time": "2022-12-24T17:36:31.433Z"
   },
   {
    "duration": 185,
    "start_time": "2022-12-24T17:36:31.530Z"
   },
   {
    "duration": 642,
    "start_time": "2022-12-24T17:36:31.717Z"
   },
   {
    "duration": 16924,
    "start_time": "2022-12-24T17:36:32.361Z"
   },
   {
    "duration": 8453,
    "start_time": "2022-12-24T17:36:49.287Z"
   },
   {
    "duration": 117,
    "start_time": "2022-12-24T17:36:57.742Z"
   },
   {
    "duration": 96,
    "start_time": "2022-12-24T17:36:57.863Z"
   },
   {
    "duration": 210,
    "start_time": "2022-12-24T17:36:57.960Z"
   },
   {
    "duration": 513,
    "start_time": "2022-12-24T17:36:58.176Z"
   },
   {
    "duration": 14567,
    "start_time": "2022-12-24T17:36:58.691Z"
   },
   {
    "duration": 257,
    "start_time": "2022-12-24T17:37:13.265Z"
   },
   {
    "duration": 1632,
    "start_time": "2022-12-24T17:37:13.535Z"
   },
   {
    "duration": 31,
    "start_time": "2022-12-24T17:37:15.174Z"
   },
   {
    "duration": 353,
    "start_time": "2022-12-24T17:37:15.213Z"
   },
   {
    "duration": 2252,
    "start_time": "2022-12-24T17:37:15.568Z"
   },
   {
    "duration": 63,
    "start_time": "2022-12-24T17:37:17.824Z"
   },
   {
    "duration": 688,
    "start_time": "2022-12-24T17:37:17.889Z"
   },
   {
    "duration": 34,
    "start_time": "2022-12-24T17:37:18.580Z"
   },
   {
    "duration": 439,
    "start_time": "2022-12-24T17:37:18.625Z"
   },
   {
    "duration": 5056,
    "start_time": "2022-12-24T17:37:19.067Z"
   },
   {
    "duration": 370,
    "start_time": "2022-12-24T17:37:24.125Z"
   },
   {
    "duration": 1557,
    "start_time": "2022-12-24T17:37:24.570Z"
   },
   {
    "duration": 5082,
    "start_time": "2022-12-24T17:37:26.134Z"
   },
   {
    "duration": 933,
    "start_time": "2022-12-24T17:52:41.091Z"
   },
   {
    "duration": 82,
    "start_time": "2022-12-24T17:52:42.026Z"
   },
   {
    "duration": 16,
    "start_time": "2022-12-24T17:52:42.110Z"
   },
   {
    "duration": 97,
    "start_time": "2022-12-24T17:52:42.128Z"
   },
   {
    "duration": 1200,
    "start_time": "2022-12-24T17:52:42.228Z"
   },
   {
    "duration": 6,
    "start_time": "2022-12-24T17:52:43.430Z"
   },
   {
    "duration": 40,
    "start_time": "2022-12-24T17:52:43.438Z"
   },
   {
    "duration": 55,
    "start_time": "2022-12-24T17:52:43.480Z"
   },
   {
    "duration": 1026,
    "start_time": "2022-12-24T17:52:43.537Z"
   },
   {
    "duration": 9,
    "start_time": "2022-12-24T17:52:44.566Z"
   },
   {
    "duration": 35,
    "start_time": "2022-12-24T17:52:44.577Z"
   },
   {
    "duration": 6,
    "start_time": "2022-12-24T17:52:44.614Z"
   },
   {
    "duration": 6,
    "start_time": "2022-12-24T17:52:44.621Z"
   },
   {
    "duration": 9,
    "start_time": "2022-12-24T17:52:44.630Z"
   },
   {
    "duration": 518,
    "start_time": "2022-12-24T17:52:44.652Z"
   },
   {
    "duration": 15341,
    "start_time": "2022-12-24T17:52:45.175Z"
   },
   {
    "duration": 7947,
    "start_time": "2022-12-24T17:53:00.518Z"
   },
   {
    "duration": 89,
    "start_time": "2022-12-24T17:53:08.470Z"
   },
   {
    "duration": 16,
    "start_time": "2022-12-24T17:53:08.562Z"
   },
   {
    "duration": 288,
    "start_time": "2022-12-24T17:53:08.580Z"
   },
   {
    "duration": 540,
    "start_time": "2022-12-24T17:53:08.871Z"
   },
   {
    "duration": 14019,
    "start_time": "2022-12-24T17:53:09.413Z"
   },
   {
    "duration": 233,
    "start_time": "2022-12-24T17:53:23.434Z"
   },
   {
    "duration": 1331,
    "start_time": "2022-12-24T17:53:23.685Z"
   },
   {
    "duration": 19,
    "start_time": "2022-12-24T17:53:25.018Z"
   },
   {
    "duration": 370,
    "start_time": "2022-12-24T17:53:25.039Z"
   },
   {
    "duration": 2221,
    "start_time": "2022-12-24T17:53:25.411Z"
   },
   {
    "duration": 125,
    "start_time": "2022-12-24T17:53:27.634Z"
   },
   {
    "duration": 725,
    "start_time": "2022-12-24T17:53:27.767Z"
   },
   {
    "duration": 20,
    "start_time": "2022-12-24T17:53:28.494Z"
   },
   {
    "duration": 412,
    "start_time": "2022-12-24T17:53:28.517Z"
   },
   {
    "duration": 4994,
    "start_time": "2022-12-24T17:53:28.931Z"
   },
   {
    "duration": 140,
    "start_time": "2022-12-24T17:53:33.926Z"
   },
   {
    "duration": 1523,
    "start_time": "2022-12-24T17:53:34.068Z"
   },
   {
    "duration": 3702,
    "start_time": "2022-12-24T17:53:35.596Z"
   },
   {
    "duration": 255661,
    "start_time": "2022-12-24T17:53:39.304Z"
   },
   {
    "duration": 3790,
    "start_time": "2022-12-24T18:00:50.138Z"
   },
   {
    "duration": 257,
    "start_time": "2022-12-24T18:05:43.241Z"
   },
   {
    "duration": 1872,
    "start_time": "2022-12-24T18:06:20.409Z"
   },
   {
    "duration": 3705,
    "start_time": "2022-12-24T18:06:46.072Z"
   },
   {
    "duration": 3489,
    "start_time": "2022-12-24T18:07:01.777Z"
   },
   {
    "duration": 46,
    "start_time": "2022-12-25T16:08:42.370Z"
   },
   {
    "duration": 799,
    "start_time": "2022-12-25T16:08:48.728Z"
   },
   {
    "duration": 104,
    "start_time": "2022-12-25T16:08:49.531Z"
   },
   {
    "duration": 17,
    "start_time": "2022-12-25T16:08:49.637Z"
   },
   {
    "duration": 42,
    "start_time": "2022-12-25T16:08:49.656Z"
   },
   {
    "duration": 914,
    "start_time": "2022-12-25T16:08:49.700Z"
   },
   {
    "duration": 5,
    "start_time": "2022-12-25T16:08:50.616Z"
   },
   {
    "duration": 21,
    "start_time": "2022-12-25T16:08:50.622Z"
   },
   {
    "duration": 16,
    "start_time": "2022-12-25T16:08:50.645Z"
   },
   {
    "duration": 727,
    "start_time": "2022-12-25T16:08:50.664Z"
   },
   {
    "duration": 5,
    "start_time": "2022-12-25T16:08:51.395Z"
   },
   {
    "duration": 921,
    "start_time": "2022-12-25T16:08:51.402Z"
   },
   {
    "duration": 9,
    "start_time": "2022-12-25T16:08:52.324Z"
   },
   {
    "duration": 13,
    "start_time": "2022-12-25T16:08:52.335Z"
   },
   {
    "duration": 12,
    "start_time": "2022-12-25T16:08:52.349Z"
   },
   {
    "duration": 395,
    "start_time": "2022-12-25T16:08:52.364Z"
   },
   {
    "duration": 10950,
    "start_time": "2022-12-25T16:08:52.760Z"
   },
   {
    "duration": 5783,
    "start_time": "2022-12-25T16:09:03.712Z"
   },
   {
    "duration": 44,
    "start_time": "2022-12-25T16:09:09.497Z"
   },
   {
    "duration": 59,
    "start_time": "2022-12-25T16:09:09.543Z"
   },
   {
    "duration": 223,
    "start_time": "2022-12-25T16:09:09.604Z"
   },
   {
    "duration": 379,
    "start_time": "2022-12-25T16:09:09.829Z"
   },
   {
    "duration": 10141,
    "start_time": "2022-12-25T16:09:10.210Z"
   },
   {
    "duration": 58,
    "start_time": "2022-12-25T16:09:20.352Z"
   },
   {
    "duration": 1146,
    "start_time": "2022-12-25T16:09:20.412Z"
   },
   {
    "duration": 14,
    "start_time": "2022-12-25T16:09:21.559Z"
   },
   {
    "duration": 216,
    "start_time": "2022-12-25T16:09:21.574Z"
   },
   {
    "duration": 1558,
    "start_time": "2022-12-25T16:09:21.791Z"
   },
   {
    "duration": 54,
    "start_time": "2022-12-25T16:09:23.352Z"
   },
   {
    "duration": 828,
    "start_time": "2022-12-25T16:09:23.408Z"
   },
   {
    "duration": 14,
    "start_time": "2022-12-25T16:09:24.237Z"
   },
   {
    "duration": 304,
    "start_time": "2022-12-25T16:09:24.252Z"
   },
   {
    "duration": 3497,
    "start_time": "2022-12-25T16:09:24.557Z"
   },
   {
    "duration": 157,
    "start_time": "2022-12-25T16:09:28.055Z"
   },
   {
    "duration": 1233,
    "start_time": "2022-12-25T16:09:28.214Z"
   },
   {
    "duration": 2728,
    "start_time": "2022-12-25T16:09:29.449Z"
   },
   {
    "duration": 120,
    "start_time": "2022-12-25T16:09:32.178Z"
   },
   {
    "duration": 2787,
    "start_time": "2022-12-25T16:10:20.561Z"
   },
   {
    "duration": 13,
    "start_time": "2022-12-25T16:10:33.017Z"
   },
   {
    "duration": 9,
    "start_time": "2022-12-25T16:10:53.256Z"
   },
   {
    "duration": 36,
    "start_time": "2022-12-25T16:11:54.148Z"
   },
   {
    "duration": 72,
    "start_time": "2022-12-25T16:12:16.739Z"
   },
   {
    "duration": 667,
    "start_time": "2022-12-25T16:13:33.639Z"
   },
   {
    "duration": 677,
    "start_time": "2022-12-25T16:14:00.874Z"
   },
   {
    "duration": 12,
    "start_time": "2022-12-25T16:15:32.017Z"
   },
   {
    "duration": 610,
    "start_time": "2022-12-25T16:16:30.406Z"
   },
   {
    "duration": 58,
    "start_time": "2022-12-25T16:16:31.018Z"
   },
   {
    "duration": 12,
    "start_time": "2022-12-25T16:16:31.078Z"
   },
   {
    "duration": 38,
    "start_time": "2022-12-25T16:16:31.092Z"
   },
   {
    "duration": 919,
    "start_time": "2022-12-25T16:16:31.131Z"
   },
   {
    "duration": 4,
    "start_time": "2022-12-25T16:16:32.051Z"
   },
   {
    "duration": 23,
    "start_time": "2022-12-25T16:16:32.056Z"
   },
   {
    "duration": 21,
    "start_time": "2022-12-25T16:16:32.080Z"
   },
   {
    "duration": 760,
    "start_time": "2022-12-25T16:16:32.103Z"
   },
   {
    "duration": 5,
    "start_time": "2022-12-25T16:16:32.866Z"
   },
   {
    "duration": 9,
    "start_time": "2022-12-25T16:16:32.873Z"
   },
   {
    "duration": 17,
    "start_time": "2022-12-25T16:16:32.883Z"
   },
   {
    "duration": 5,
    "start_time": "2022-12-25T16:16:32.901Z"
   },
   {
    "duration": 15,
    "start_time": "2022-12-25T16:16:32.908Z"
   },
   {
    "duration": 406,
    "start_time": "2022-12-25T16:16:32.925Z"
   },
   {
    "duration": 11003,
    "start_time": "2022-12-25T16:16:33.333Z"
   },
   {
    "duration": 5945,
    "start_time": "2022-12-25T16:16:44.338Z"
   },
   {
    "duration": 114,
    "start_time": "2022-12-25T16:16:50.284Z"
   },
   {
    "duration": 15,
    "start_time": "2022-12-25T16:16:50.401Z"
   },
   {
    "duration": 221,
    "start_time": "2022-12-25T16:16:50.418Z"
   },
   {
    "duration": 370,
    "start_time": "2022-12-25T16:16:50.640Z"
   },
   {
    "duration": 9773,
    "start_time": "2022-12-25T16:16:51.012Z"
   },
   {
    "duration": 116,
    "start_time": "2022-12-25T16:17:00.787Z"
   },
   {
    "duration": 1079,
    "start_time": "2022-12-25T16:17:00.905Z"
   },
   {
    "duration": 21,
    "start_time": "2022-12-25T16:17:01.985Z"
   },
   {
    "duration": 193,
    "start_time": "2022-12-25T16:17:02.007Z"
   },
   {
    "duration": 1528,
    "start_time": "2022-12-25T16:17:02.202Z"
   },
   {
    "duration": 168,
    "start_time": "2022-12-25T16:17:03.733Z"
   },
   {
    "duration": 513,
    "start_time": "2022-12-25T16:17:03.902Z"
   },
   {
    "duration": 13,
    "start_time": "2022-12-25T16:17:04.417Z"
   },
   {
    "duration": 268,
    "start_time": "2022-12-25T16:17:04.431Z"
   },
   {
    "duration": 3292,
    "start_time": "2022-12-25T16:17:04.701Z"
   },
   {
    "duration": 106,
    "start_time": "2022-12-25T16:17:07.997Z"
   },
   {
    "duration": 1222,
    "start_time": "2022-12-25T16:17:08.104Z"
   },
   {
    "duration": 2550,
    "start_time": "2022-12-25T16:17:09.328Z"
   },
   {
    "duration": 72,
    "start_time": "2022-12-25T16:17:11.880Z"
   },
   {
    "duration": 711,
    "start_time": "2022-12-25T16:17:11.953Z"
   },
   {
    "duration": 107,
    "start_time": "2022-12-25T16:17:12.666Z"
   },
   {
    "duration": 13,
    "start_time": "2022-12-25T16:19:03.978Z"
   },
   {
    "duration": 691,
    "start_time": "2022-12-25T16:19:58.014Z"
   },
   {
    "duration": 693,
    "start_time": "2022-12-25T16:20:38.286Z"
   },
   {
    "duration": 11,
    "start_time": "2022-12-25T16:20:47.062Z"
   },
   {
    "duration": 13,
    "start_time": "2022-12-25T16:21:01.908Z"
   },
   {
    "duration": 11,
    "start_time": "2022-12-25T16:21:11.162Z"
   },
   {
    "duration": 31,
    "start_time": "2022-12-25T16:22:55.690Z"
   },
   {
    "duration": 8,
    "start_time": "2022-12-25T16:23:17.594Z"
   },
   {
    "duration": 9,
    "start_time": "2022-12-25T16:24:01.546Z"
   },
   {
    "duration": 66,
    "start_time": "2022-12-25T16:25:08.730Z"
   },
   {
    "duration": 13,
    "start_time": "2022-12-25T16:25:15.970Z"
   },
   {
    "duration": 3,
    "start_time": "2022-12-25T16:26:26.965Z"
   },
   {
    "duration": 249,
    "start_time": "2022-12-25T16:26:33.386Z"
   },
   {
    "duration": 267,
    "start_time": "2022-12-25T16:26:47.362Z"
   },
   {
    "duration": 194,
    "start_time": "2022-12-25T16:26:54.050Z"
   },
   {
    "duration": 308,
    "start_time": "2022-12-25T16:27:05.227Z"
   },
   {
    "duration": 734,
    "start_time": "2022-12-25T16:40:00.605Z"
   },
   {
    "duration": 726,
    "start_time": "2022-12-25T16:40:21.941Z"
   },
   {
    "duration": 753,
    "start_time": "2022-12-25T16:40:35.393Z"
   },
   {
    "duration": 4,
    "start_time": "2022-12-25T17:02:51.948Z"
   },
   {
    "duration": 1417,
    "start_time": "2022-12-25T17:03:42.908Z"
   },
   {
    "duration": 64,
    "start_time": "2022-12-25T17:03:49.180Z"
   },
   {
    "duration": 39,
    "start_time": "2022-12-25T17:04:10.748Z"
   },
   {
    "duration": 2558,
    "start_time": "2022-12-25T17:04:32.636Z"
   },
   {
    "duration": 69,
    "start_time": "2022-12-25T17:04:39.012Z"
   },
   {
    "duration": 708,
    "start_time": "2022-12-25T17:07:20.651Z"
   },
   {
    "duration": 1069,
    "start_time": "2022-12-25T17:10:50.034Z"
   },
   {
    "duration": 57,
    "start_time": "2022-12-25T17:10:51.105Z"
   },
   {
    "duration": 12,
    "start_time": "2022-12-25T17:10:51.164Z"
   },
   {
    "duration": 39,
    "start_time": "2022-12-25T17:10:51.178Z"
   },
   {
    "duration": 862,
    "start_time": "2022-12-25T17:10:51.219Z"
   },
   {
    "duration": 4,
    "start_time": "2022-12-25T17:10:52.083Z"
   },
   {
    "duration": 15,
    "start_time": "2022-12-25T17:10:52.097Z"
   },
   {
    "duration": 17,
    "start_time": "2022-12-25T17:10:52.114Z"
   },
   {
    "duration": 252,
    "start_time": "2022-12-25T17:10:52.132Z"
   },
   {
    "duration": 4,
    "start_time": "2022-12-25T17:10:52.387Z"
   },
   {
    "duration": 8,
    "start_time": "2022-12-25T17:10:52.393Z"
   },
   {
    "duration": 5,
    "start_time": "2022-12-25T17:10:52.403Z"
   },
   {
    "duration": 10,
    "start_time": "2022-12-25T17:10:52.410Z"
   },
   {
    "duration": 9,
    "start_time": "2022-12-25T17:10:52.421Z"
   },
   {
    "duration": 378,
    "start_time": "2022-12-25T17:10:52.431Z"
   },
   {
    "duration": 10161,
    "start_time": "2022-12-25T17:10:52.810Z"
   },
   {
    "duration": 5384,
    "start_time": "2022-12-25T17:11:02.972Z"
   },
   {
    "duration": 49,
    "start_time": "2022-12-25T17:11:08.358Z"
   },
   {
    "duration": 7,
    "start_time": "2022-12-25T17:11:08.498Z"
   },
   {
    "duration": 183,
    "start_time": "2022-12-25T17:11:08.597Z"
   },
   {
    "duration": 363,
    "start_time": "2022-12-25T17:11:08.781Z"
   },
   {
    "duration": 9205,
    "start_time": "2022-12-25T17:11:09.146Z"
   },
   {
    "duration": 54,
    "start_time": "2022-12-25T17:11:18.352Z"
   },
   {
    "duration": 1030,
    "start_time": "2022-12-25T17:11:18.499Z"
   },
   {
    "duration": 14,
    "start_time": "2022-12-25T17:11:19.530Z"
   },
   {
    "duration": 196,
    "start_time": "2022-12-25T17:11:19.546Z"
   },
   {
    "duration": 1463,
    "start_time": "2022-12-25T17:11:19.744Z"
   },
   {
    "duration": 188,
    "start_time": "2022-12-25T17:11:21.210Z"
   },
   {
    "duration": 434,
    "start_time": "2022-12-25T17:11:21.399Z"
   },
   {
    "duration": 12,
    "start_time": "2022-12-25T17:11:21.834Z"
   },
   {
    "duration": 266,
    "start_time": "2022-12-25T17:11:21.848Z"
   },
   {
    "duration": 3244,
    "start_time": "2022-12-25T17:11:22.116Z"
   },
   {
    "duration": 145,
    "start_time": "2022-12-25T17:11:25.361Z"
   },
   {
    "duration": 1133,
    "start_time": "2022-12-25T17:11:25.600Z"
   },
   {
    "duration": 2527,
    "start_time": "2022-12-25T17:11:26.734Z"
   },
   {
    "duration": 76,
    "start_time": "2022-12-25T17:11:29.263Z"
   },
   {
    "duration": 742,
    "start_time": "2022-12-25T17:11:29.341Z"
   },
   {
    "duration": 1116,
    "start_time": "2022-12-26T13:02:37.810Z"
   },
   {
    "duration": 59,
    "start_time": "2022-12-26T13:02:38.928Z"
   },
   {
    "duration": 14,
    "start_time": "2022-12-26T13:02:38.989Z"
   },
   {
    "duration": 43,
    "start_time": "2022-12-26T13:02:39.004Z"
   },
   {
    "duration": 926,
    "start_time": "2022-12-26T13:02:39.050Z"
   },
   {
    "duration": 5,
    "start_time": "2022-12-26T13:02:39.978Z"
   },
   {
    "duration": 17,
    "start_time": "2022-12-26T13:02:39.984Z"
   },
   {
    "duration": 18,
    "start_time": "2022-12-26T13:02:40.015Z"
   },
   {
    "duration": 462,
    "start_time": "2022-12-26T13:02:40.034Z"
   },
   {
    "duration": 7,
    "start_time": "2022-12-26T13:02:40.497Z"
   },
   {
    "duration": 12,
    "start_time": "2022-12-26T13:02:40.506Z"
   },
   {
    "duration": 11,
    "start_time": "2022-12-26T13:02:40.519Z"
   },
   {
    "duration": 14,
    "start_time": "2022-12-26T13:02:40.532Z"
   },
   {
    "duration": 8,
    "start_time": "2022-12-26T13:02:40.548Z"
   },
   {
    "duration": 386,
    "start_time": "2022-12-26T13:02:40.557Z"
   },
   {
    "duration": 12098,
    "start_time": "2022-12-26T13:02:40.944Z"
   },
   {
    "duration": 5967,
    "start_time": "2022-12-26T13:02:53.044Z"
   },
   {
    "duration": 36,
    "start_time": "2022-12-26T13:02:59.015Z"
   },
   {
    "duration": 98,
    "start_time": "2022-12-26T13:02:59.118Z"
   },
   {
    "duration": 201,
    "start_time": "2022-12-26T13:02:59.218Z"
   },
   {
    "duration": 408,
    "start_time": "2022-12-26T13:02:59.421Z"
   },
   {
    "duration": 10015,
    "start_time": "2022-12-26T13:02:59.831Z"
   },
   {
    "duration": 169,
    "start_time": "2022-12-26T13:03:09.848Z"
   },
   {
    "duration": 1147,
    "start_time": "2022-12-26T13:03:10.019Z"
   },
   {
    "duration": 15,
    "start_time": "2022-12-26T13:03:11.167Z"
   },
   {
    "duration": 210,
    "start_time": "2022-12-26T13:03:11.183Z"
   },
   {
    "duration": 1624,
    "start_time": "2022-12-26T13:03:11.394Z"
   },
   {
    "duration": 102,
    "start_time": "2022-12-26T13:03:13.020Z"
   },
   {
    "duration": 550,
    "start_time": "2022-12-26T13:03:13.124Z"
   },
   {
    "duration": 15,
    "start_time": "2022-12-26T13:03:13.676Z"
   },
   {
    "duration": 305,
    "start_time": "2022-12-26T13:03:13.692Z"
   },
   {
    "duration": 3707,
    "start_time": "2022-12-26T13:03:13.999Z"
   },
   {
    "duration": 117,
    "start_time": "2022-12-26T13:03:17.708Z"
   },
   {
    "duration": 1346,
    "start_time": "2022-12-26T13:03:17.827Z"
   },
   {
    "duration": 2798,
    "start_time": "2022-12-26T13:03:19.175Z"
   },
   {
    "duration": 81,
    "start_time": "2022-12-26T13:03:21.975Z"
   },
   {
    "duration": 847,
    "start_time": "2022-12-26T13:03:22.058Z"
   },
   {
    "duration": 399,
    "start_time": "2022-12-26T13:13:57.151Z"
   },
   {
    "duration": 133,
    "start_time": "2022-12-26T13:14:28.994Z"
   },
   {
    "duration": 387,
    "start_time": "2022-12-26T13:14:42.270Z"
   },
   {
    "duration": 374,
    "start_time": "2022-12-26T13:15:13.674Z"
   },
   {
    "duration": 378,
    "start_time": "2022-12-26T13:15:20.609Z"
   },
   {
    "duration": 540,
    "start_time": "2022-12-26T13:15:24.369Z"
   },
   {
    "duration": 386,
    "start_time": "2022-12-26T13:15:28.114Z"
   },
   {
    "duration": 384,
    "start_time": "2022-12-26T13:16:37.980Z"
   },
   {
    "duration": 372,
    "start_time": "2022-12-26T13:16:45.428Z"
   },
   {
    "duration": 6,
    "start_time": "2022-12-26T13:22:32.915Z"
   },
   {
    "duration": 5,
    "start_time": "2022-12-26T13:55:34.592Z"
   },
   {
    "duration": 59,
    "start_time": "2022-12-26T13:56:42.592Z"
   },
   {
    "duration": 60,
    "start_time": "2022-12-26T17:39:36.547Z"
   },
   {
    "duration": 47,
    "start_time": "2022-12-26T17:39:47.895Z"
   },
   {
    "duration": 1337,
    "start_time": "2022-12-26T17:39:54.261Z"
   },
   {
    "duration": 96,
    "start_time": "2022-12-26T17:39:55.600Z"
   },
   {
    "duration": 49,
    "start_time": "2022-12-26T17:39:55.698Z"
   },
   {
    "duration": 0,
    "start_time": "2022-12-26T17:39:55.749Z"
   },
   {
    "duration": 0,
    "start_time": "2022-12-26T17:39:55.750Z"
   },
   {
    "duration": 0,
    "start_time": "2022-12-26T17:39:55.752Z"
   },
   {
    "duration": 0,
    "start_time": "2022-12-26T17:39:55.752Z"
   },
   {
    "duration": 0,
    "start_time": "2022-12-26T17:39:55.754Z"
   },
   {
    "duration": 0,
    "start_time": "2022-12-26T17:39:55.755Z"
   },
   {
    "duration": 0,
    "start_time": "2022-12-26T17:39:55.756Z"
   },
   {
    "duration": 0,
    "start_time": "2022-12-26T17:39:55.757Z"
   },
   {
    "duration": 0,
    "start_time": "2022-12-26T17:39:55.758Z"
   },
   {
    "duration": 0,
    "start_time": "2022-12-26T17:39:55.759Z"
   },
   {
    "duration": 0,
    "start_time": "2022-12-26T17:39:55.759Z"
   },
   {
    "duration": 0,
    "start_time": "2022-12-26T17:39:55.761Z"
   },
   {
    "duration": 0,
    "start_time": "2022-12-26T17:39:55.762Z"
   },
   {
    "duration": 0,
    "start_time": "2022-12-26T17:39:55.763Z"
   },
   {
    "duration": 0,
    "start_time": "2022-12-26T17:39:55.764Z"
   },
   {
    "duration": 0,
    "start_time": "2022-12-26T17:39:55.765Z"
   },
   {
    "duration": 0,
    "start_time": "2022-12-26T17:39:55.766Z"
   },
   {
    "duration": 0,
    "start_time": "2022-12-26T17:39:55.767Z"
   },
   {
    "duration": 0,
    "start_time": "2022-12-26T17:39:55.768Z"
   },
   {
    "duration": 0,
    "start_time": "2022-12-26T17:39:55.769Z"
   },
   {
    "duration": 0,
    "start_time": "2022-12-26T17:39:55.770Z"
   },
   {
    "duration": 0,
    "start_time": "2022-12-26T17:39:55.771Z"
   },
   {
    "duration": 0,
    "start_time": "2022-12-26T17:39:55.773Z"
   },
   {
    "duration": 0,
    "start_time": "2022-12-26T17:39:55.774Z"
   },
   {
    "duration": 0,
    "start_time": "2022-12-26T17:39:55.775Z"
   },
   {
    "duration": 0,
    "start_time": "2022-12-26T17:39:55.776Z"
   },
   {
    "duration": 0,
    "start_time": "2022-12-26T17:39:55.777Z"
   },
   {
    "duration": 0,
    "start_time": "2022-12-26T17:39:55.779Z"
   },
   {
    "duration": 1,
    "start_time": "2022-12-26T17:39:55.779Z"
   },
   {
    "duration": 0,
    "start_time": "2022-12-26T17:39:55.781Z"
   },
   {
    "duration": 0,
    "start_time": "2022-12-26T17:39:55.782Z"
   },
   {
    "duration": 0,
    "start_time": "2022-12-26T17:39:55.797Z"
   },
   {
    "duration": 0,
    "start_time": "2022-12-26T17:39:55.797Z"
   },
   {
    "duration": 0,
    "start_time": "2022-12-26T17:39:55.799Z"
   },
   {
    "duration": 0,
    "start_time": "2022-12-26T17:39:55.800Z"
   },
   {
    "duration": 16,
    "start_time": "2022-12-26T17:40:46.220Z"
   },
   {
    "duration": 51,
    "start_time": "2022-12-26T17:40:53.925Z"
   },
   {
    "duration": 45,
    "start_time": "2022-12-26T17:42:04.968Z"
   },
   {
    "duration": 1149,
    "start_time": "2022-12-26T17:42:38.281Z"
   },
   {
    "duration": 55,
    "start_time": "2022-12-26T17:42:39.432Z"
   },
   {
    "duration": 14,
    "start_time": "2022-12-26T17:42:39.489Z"
   },
   {
    "duration": 14,
    "start_time": "2022-12-26T17:42:39.505Z"
   },
   {
    "duration": 40,
    "start_time": "2022-12-26T17:42:39.522Z"
   },
   {
    "duration": 944,
    "start_time": "2022-12-26T17:42:39.564Z"
   },
   {
    "duration": 4,
    "start_time": "2022-12-26T17:42:40.510Z"
   },
   {
    "duration": 21,
    "start_time": "2022-12-26T17:42:40.515Z"
   },
   {
    "duration": 17,
    "start_time": "2022-12-26T17:42:40.538Z"
   },
   {
    "duration": 274,
    "start_time": "2022-12-26T17:42:40.557Z"
   },
   {
    "duration": 6,
    "start_time": "2022-12-26T17:42:40.832Z"
   },
   {
    "duration": 10,
    "start_time": "2022-12-26T17:42:40.839Z"
   },
   {
    "duration": 5,
    "start_time": "2022-12-26T17:42:40.851Z"
   },
   {
    "duration": 7,
    "start_time": "2022-12-26T17:42:40.859Z"
   },
   {
    "duration": 33,
    "start_time": "2022-12-26T17:42:40.867Z"
   },
   {
    "duration": 406,
    "start_time": "2022-12-26T17:42:40.901Z"
   },
   {
    "duration": 11456,
    "start_time": "2022-12-26T17:42:41.309Z"
   },
   {
    "duration": 6036,
    "start_time": "2022-12-26T17:42:52.766Z"
   },
   {
    "duration": 93,
    "start_time": "2022-12-26T17:42:58.803Z"
   },
   {
    "duration": 7,
    "start_time": "2022-12-26T17:42:58.899Z"
   },
   {
    "duration": 207,
    "start_time": "2022-12-26T17:42:58.997Z"
   },
   {
    "duration": 396,
    "start_time": "2022-12-26T17:42:59.206Z"
   },
   {
    "duration": 10362,
    "start_time": "2022-12-26T17:42:59.604Z"
   },
   {
    "duration": 133,
    "start_time": "2022-12-26T17:43:09.968Z"
   },
   {
    "duration": 1157,
    "start_time": "2022-12-26T17:43:10.103Z"
   },
   {
    "duration": 15,
    "start_time": "2022-12-26T17:43:11.262Z"
   },
   {
    "duration": 220,
    "start_time": "2022-12-26T17:43:11.279Z"
   },
   {
    "duration": 1663,
    "start_time": "2022-12-26T17:43:11.500Z"
   },
   {
    "duration": 40,
    "start_time": "2022-12-26T17:43:13.164Z"
   },
   {
    "duration": 546,
    "start_time": "2022-12-26T17:43:13.297Z"
   },
   {
    "duration": 15,
    "start_time": "2022-12-26T17:43:13.845Z"
   },
   {
    "duration": 294,
    "start_time": "2022-12-26T17:43:13.861Z"
   },
   {
    "duration": 3620,
    "start_time": "2022-12-26T17:43:14.157Z"
   },
   {
    "duration": 221,
    "start_time": "2022-12-26T17:43:17.779Z"
   },
   {
    "duration": 1261,
    "start_time": "2022-12-26T17:43:18.003Z"
   },
   {
    "duration": 2799,
    "start_time": "2022-12-26T17:43:19.266Z"
   },
   {
    "duration": 82,
    "start_time": "2022-12-26T17:43:22.067Z"
   },
   {
    "duration": 803,
    "start_time": "2022-12-26T17:43:22.151Z"
   },
   {
    "duration": 7,
    "start_time": "2022-12-26T17:47:21.383Z"
   },
   {
    "duration": 4,
    "start_time": "2022-12-26T17:47:31.244Z"
   },
   {
    "duration": 4,
    "start_time": "2022-12-26T17:49:07.180Z"
   },
   {
    "duration": 131,
    "start_time": "2022-12-26T17:49:07.812Z"
   },
   {
    "duration": 1229,
    "start_time": "2022-12-26T17:49:24.911Z"
   },
   {
    "duration": 62,
    "start_time": "2022-12-26T17:49:26.143Z"
   },
   {
    "duration": 15,
    "start_time": "2022-12-26T17:49:26.207Z"
   },
   {
    "duration": 19,
    "start_time": "2022-12-26T17:49:26.224Z"
   },
   {
    "duration": 53,
    "start_time": "2022-12-26T17:49:26.245Z"
   },
   {
    "duration": 4,
    "start_time": "2022-12-26T17:49:26.299Z"
   },
   {
    "duration": 945,
    "start_time": "2022-12-26T17:49:26.305Z"
   },
   {
    "duration": 4,
    "start_time": "2022-12-26T17:49:27.251Z"
   },
   {
    "duration": 13,
    "start_time": "2022-12-26T17:49:27.257Z"
   },
   {
    "duration": 34,
    "start_time": "2022-12-26T17:49:27.273Z"
   },
   {
    "duration": 248,
    "start_time": "2022-12-26T17:49:27.309Z"
   },
   {
    "duration": 7,
    "start_time": "2022-12-26T17:49:27.558Z"
   },
   {
    "duration": 9,
    "start_time": "2022-12-26T17:49:27.567Z"
   },
   {
    "duration": 20,
    "start_time": "2022-12-26T17:49:27.578Z"
   },
   {
    "duration": 5,
    "start_time": "2022-12-26T17:49:27.600Z"
   },
   {
    "duration": 7,
    "start_time": "2022-12-26T17:49:27.608Z"
   },
   {
    "duration": 437,
    "start_time": "2022-12-26T17:49:27.616Z"
   },
   {
    "duration": 11815,
    "start_time": "2022-12-26T17:49:28.055Z"
   },
   {
    "duration": 6233,
    "start_time": "2022-12-26T17:49:39.872Z"
   },
   {
    "duration": 43,
    "start_time": "2022-12-26T17:49:46.107Z"
   },
   {
    "duration": 9,
    "start_time": "2022-12-26T17:49:46.198Z"
   },
   {
    "duration": 318,
    "start_time": "2022-12-26T17:49:46.208Z"
   },
   {
    "duration": 407,
    "start_time": "2022-12-26T17:49:46.528Z"
   },
   {
    "duration": 10329,
    "start_time": "2022-12-26T17:49:46.936Z"
   },
   {
    "duration": 50,
    "start_time": "2022-12-26T17:49:57.267Z"
   },
   {
    "duration": 1056,
    "start_time": "2022-12-26T17:49:57.398Z"
   },
   {
    "duration": 15,
    "start_time": "2022-12-26T17:49:58.456Z"
   },
   {
    "duration": 224,
    "start_time": "2022-12-26T17:49:58.475Z"
   },
   {
    "duration": 1718,
    "start_time": "2022-12-26T17:49:58.701Z"
   },
   {
    "duration": 80,
    "start_time": "2022-12-26T17:50:00.421Z"
   },
   {
    "duration": 567,
    "start_time": "2022-12-26T17:50:00.503Z"
   },
   {
    "duration": 24,
    "start_time": "2022-12-26T17:50:01.072Z"
   },
   {
    "duration": 303,
    "start_time": "2022-12-26T17:50:01.098Z"
   },
   {
    "duration": 3806,
    "start_time": "2022-12-26T17:50:01.403Z"
   },
   {
    "duration": 189,
    "start_time": "2022-12-26T17:50:05.211Z"
   },
   {
    "duration": 1439,
    "start_time": "2022-12-26T17:50:05.401Z"
   },
   {
    "duration": 2894,
    "start_time": "2022-12-26T17:50:06.842Z"
   },
   {
    "duration": 79,
    "start_time": "2022-12-26T17:50:09.738Z"
   },
   {
    "duration": 842,
    "start_time": "2022-12-26T17:50:09.818Z"
   },
   {
    "duration": 4,
    "start_time": "2022-12-26T17:51:43.845Z"
   },
   {
    "duration": 50,
    "start_time": "2022-12-26T17:54:19.851Z"
   },
   {
    "duration": 3,
    "start_time": "2022-12-26T18:04:50.460Z"
   },
   {
    "duration": 14,
    "start_time": "2022-12-26T18:04:53.053Z"
   },
   {
    "duration": 38,
    "start_time": "2022-12-26T18:05:24.016Z"
   },
   {
    "duration": 196,
    "start_time": "2022-12-26T18:10:30.638Z"
   },
   {
    "duration": 1466,
    "start_time": "2022-12-26T18:10:45.907Z"
   },
   {
    "duration": 55,
    "start_time": "2022-12-26T18:10:47.375Z"
   },
   {
    "duration": 23,
    "start_time": "2022-12-26T18:10:47.432Z"
   },
   {
    "duration": 21,
    "start_time": "2022-12-26T18:10:47.457Z"
   },
   {
    "duration": 49,
    "start_time": "2022-12-26T18:10:47.480Z"
   },
   {
    "duration": 974,
    "start_time": "2022-12-26T18:10:47.530Z"
   },
   {
    "duration": 5,
    "start_time": "2022-12-26T18:10:48.506Z"
   },
   {
    "duration": 23,
    "start_time": "2022-12-26T18:10:48.513Z"
   },
   {
    "duration": 3,
    "start_time": "2022-12-26T18:10:48.538Z"
   },
   {
    "duration": 148,
    "start_time": "2022-12-26T18:10:48.542Z"
   },
   {
    "duration": 0,
    "start_time": "2022-12-26T18:10:48.696Z"
   },
   {
    "duration": 0,
    "start_time": "2022-12-26T18:10:48.698Z"
   },
   {
    "duration": 0,
    "start_time": "2022-12-26T18:10:48.699Z"
   },
   {
    "duration": 0,
    "start_time": "2022-12-26T18:10:48.700Z"
   },
   {
    "duration": 0,
    "start_time": "2022-12-26T18:10:48.702Z"
   },
   {
    "duration": 0,
    "start_time": "2022-12-26T18:10:48.703Z"
   },
   {
    "duration": 0,
    "start_time": "2022-12-26T18:10:48.705Z"
   },
   {
    "duration": 0,
    "start_time": "2022-12-26T18:10:48.706Z"
   },
   {
    "duration": 0,
    "start_time": "2022-12-26T18:10:48.708Z"
   },
   {
    "duration": 0,
    "start_time": "2022-12-26T18:10:48.709Z"
   },
   {
    "duration": 0,
    "start_time": "2022-12-26T18:10:48.711Z"
   },
   {
    "duration": 0,
    "start_time": "2022-12-26T18:10:48.712Z"
   },
   {
    "duration": 0,
    "start_time": "2022-12-26T18:10:48.713Z"
   },
   {
    "duration": 0,
    "start_time": "2022-12-26T18:10:48.714Z"
   },
   {
    "duration": 0,
    "start_time": "2022-12-26T18:10:48.715Z"
   },
   {
    "duration": 0,
    "start_time": "2022-12-26T18:10:48.716Z"
   },
   {
    "duration": 0,
    "start_time": "2022-12-26T18:10:48.717Z"
   },
   {
    "duration": 0,
    "start_time": "2022-12-26T18:10:48.718Z"
   },
   {
    "duration": 0,
    "start_time": "2022-12-26T18:10:48.719Z"
   },
   {
    "duration": 0,
    "start_time": "2022-12-26T18:10:48.721Z"
   },
   {
    "duration": 0,
    "start_time": "2022-12-26T18:10:48.722Z"
   },
   {
    "duration": 0,
    "start_time": "2022-12-26T18:10:48.728Z"
   },
   {
    "duration": 0,
    "start_time": "2022-12-26T18:10:48.730Z"
   },
   {
    "duration": 0,
    "start_time": "2022-12-26T18:10:48.731Z"
   },
   {
    "duration": 0,
    "start_time": "2022-12-26T18:10:48.732Z"
   },
   {
    "duration": 0,
    "start_time": "2022-12-26T18:10:48.733Z"
   },
   {
    "duration": 0,
    "start_time": "2022-12-26T18:10:48.735Z"
   },
   {
    "duration": 0,
    "start_time": "2022-12-26T18:10:48.736Z"
   },
   {
    "duration": 0,
    "start_time": "2022-12-26T18:10:48.737Z"
   },
   {
    "duration": 9,
    "start_time": "2022-12-26T18:12:26.634Z"
   },
   {
    "duration": 4,
    "start_time": "2022-12-26T18:12:46.169Z"
   },
   {
    "duration": 9,
    "start_time": "2022-12-26T18:12:58.873Z"
   },
   {
    "duration": 10,
    "start_time": "2022-12-26T18:13:11.853Z"
   },
   {
    "duration": 10,
    "start_time": "2022-12-26T18:13:30.473Z"
   },
   {
    "duration": 10,
    "start_time": "2022-12-26T18:18:56.837Z"
   },
   {
    "duration": 258,
    "start_time": "2022-12-26T18:25:02.248Z"
   },
   {
    "duration": 67,
    "start_time": "2022-12-26T18:29:22.100Z"
   },
   {
    "duration": 1383,
    "start_time": "2022-12-26T18:29:32.359Z"
   },
   {
    "duration": 55,
    "start_time": "2022-12-26T18:29:33.744Z"
   },
   {
    "duration": 14,
    "start_time": "2022-12-26T18:29:33.801Z"
   },
   {
    "duration": 16,
    "start_time": "2022-12-26T18:29:33.816Z"
   },
   {
    "duration": 40,
    "start_time": "2022-12-26T18:29:33.834Z"
   },
   {
    "duration": 958,
    "start_time": "2022-12-26T18:29:33.876Z"
   },
   {
    "duration": 4,
    "start_time": "2022-12-26T18:29:34.835Z"
   },
   {
    "duration": 16,
    "start_time": "2022-12-26T18:29:34.841Z"
   },
   {
    "duration": 4,
    "start_time": "2022-12-26T18:29:34.859Z"
   },
   {
    "duration": 32,
    "start_time": "2022-12-26T18:29:34.865Z"
   },
   {
    "duration": 6,
    "start_time": "2022-12-26T18:29:34.898Z"
   },
   {
    "duration": 13,
    "start_time": "2022-12-26T18:29:34.906Z"
   },
   {
    "duration": 9,
    "start_time": "2022-12-26T18:29:34.921Z"
   },
   {
    "duration": 171,
    "start_time": "2022-12-26T18:29:34.934Z"
   },
   {
    "duration": 67,
    "start_time": "2022-12-26T18:29:35.106Z"
   },
   {
    "duration": 71,
    "start_time": "2022-12-26T18:29:35.174Z"
   },
   {
    "duration": 71,
    "start_time": "2022-12-26T18:29:35.246Z"
   },
   {
    "duration": 6,
    "start_time": "2022-12-26T18:29:35.319Z"
   },
   {
    "duration": 127,
    "start_time": "2022-12-26T18:29:35.326Z"
   },
   {
    "duration": 63,
    "start_time": "2022-12-26T18:29:35.455Z"
   },
   {
    "duration": 143,
    "start_time": "2022-12-26T18:29:35.520Z"
   },
   {
    "duration": 68,
    "start_time": "2022-12-26T18:29:35.665Z"
   },
   {
    "duration": 142,
    "start_time": "2022-12-26T18:29:35.734Z"
   },
   {
    "duration": 0,
    "start_time": "2022-12-26T18:29:35.878Z"
   },
   {
    "duration": 0,
    "start_time": "2022-12-26T18:29:35.879Z"
   },
   {
    "duration": 0,
    "start_time": "2022-12-26T18:29:35.880Z"
   },
   {
    "duration": 0,
    "start_time": "2022-12-26T18:29:35.881Z"
   },
   {
    "duration": 0,
    "start_time": "2022-12-26T18:29:35.897Z"
   },
   {
    "duration": 0,
    "start_time": "2022-12-26T18:29:35.898Z"
   },
   {
    "duration": 0,
    "start_time": "2022-12-26T18:29:35.899Z"
   },
   {
    "duration": 0,
    "start_time": "2022-12-26T18:29:35.901Z"
   },
   {
    "duration": 0,
    "start_time": "2022-12-26T18:29:35.902Z"
   },
   {
    "duration": 0,
    "start_time": "2022-12-26T18:29:35.903Z"
   },
   {
    "duration": 0,
    "start_time": "2022-12-26T18:29:35.905Z"
   },
   {
    "duration": 0,
    "start_time": "2022-12-26T18:29:35.906Z"
   },
   {
    "duration": 0,
    "start_time": "2022-12-26T18:29:35.911Z"
   },
   {
    "duration": 79,
    "start_time": "2022-12-26T18:30:55.960Z"
   },
   {
    "duration": 27,
    "start_time": "2022-12-26T18:31:02.824Z"
   },
   {
    "duration": 73,
    "start_time": "2022-12-26T18:32:10.005Z"
   },
   {
    "duration": 64,
    "start_time": "2022-12-26T18:32:20.738Z"
   },
   {
    "duration": 20,
    "start_time": "2022-12-26T18:33:00.282Z"
   },
   {
    "duration": 1400,
    "start_time": "2022-12-26T18:33:08.663Z"
   },
   {
    "duration": 55,
    "start_time": "2022-12-26T18:33:10.065Z"
   },
   {
    "duration": 14,
    "start_time": "2022-12-26T18:33:10.122Z"
   },
   {
    "duration": 14,
    "start_time": "2022-12-26T18:33:10.138Z"
   },
   {
    "duration": 57,
    "start_time": "2022-12-26T18:33:10.154Z"
   },
   {
    "duration": 938,
    "start_time": "2022-12-26T18:33:10.213Z"
   },
   {
    "duration": 3,
    "start_time": "2022-12-26T18:33:11.153Z"
   },
   {
    "duration": 14,
    "start_time": "2022-12-26T18:33:11.158Z"
   },
   {
    "duration": 32,
    "start_time": "2022-12-26T18:33:11.174Z"
   },
   {
    "duration": 5,
    "start_time": "2022-12-26T18:33:11.208Z"
   },
   {
    "duration": 8,
    "start_time": "2022-12-26T18:33:11.214Z"
   },
   {
    "duration": 5,
    "start_time": "2022-12-26T18:33:11.223Z"
   },
   {
    "duration": 6,
    "start_time": "2022-12-26T18:33:11.229Z"
   },
   {
    "duration": 5,
    "start_time": "2022-12-26T18:33:11.237Z"
   },
   {
    "duration": 426,
    "start_time": "2022-12-26T18:33:11.243Z"
   },
   {
    "duration": 11761,
    "start_time": "2022-12-26T18:33:11.670Z"
   },
   {
    "duration": 6158,
    "start_time": "2022-12-26T18:33:23.433Z"
   },
   {
    "duration": 106,
    "start_time": "2022-12-26T18:33:29.592Z"
   },
   {
    "duration": 96,
    "start_time": "2022-12-26T18:33:29.700Z"
   },
   {
    "duration": 145,
    "start_time": "2022-12-26T18:33:29.798Z"
   },
   {
    "duration": 412,
    "start_time": "2022-12-26T18:33:29.945Z"
   },
   {
    "duration": 10256,
    "start_time": "2022-12-26T18:33:30.359Z"
   },
   {
    "duration": 92,
    "start_time": "2022-12-26T18:33:40.616Z"
   },
   {
    "duration": 1241,
    "start_time": "2022-12-26T18:33:40.709Z"
   },
   {
    "duration": 17,
    "start_time": "2022-12-26T18:33:41.952Z"
   },
   {
    "duration": 211,
    "start_time": "2022-12-26T18:33:41.970Z"
   },
   {
    "duration": 1622,
    "start_time": "2022-12-26T18:33:42.182Z"
   },
   {
    "duration": 191,
    "start_time": "2022-12-26T18:33:43.806Z"
   },
   {
    "duration": 571,
    "start_time": "2022-12-26T18:33:44.000Z"
   },
   {
    "duration": 23,
    "start_time": "2022-12-26T18:33:44.573Z"
   },
   {
    "duration": 301,
    "start_time": "2022-12-26T18:33:44.598Z"
   },
   {
    "duration": 3830,
    "start_time": "2022-12-26T18:33:44.901Z"
   },
   {
    "duration": 168,
    "start_time": "2022-12-26T18:33:48.733Z"
   },
   {
    "duration": 1334,
    "start_time": "2022-12-26T18:33:48.903Z"
   },
   {
    "duration": 2810,
    "start_time": "2022-12-26T18:33:50.240Z"
   },
   {
    "duration": 86,
    "start_time": "2022-12-26T18:33:53.052Z"
   },
   {
    "duration": 819,
    "start_time": "2022-12-26T18:33:53.140Z"
   },
   {
    "duration": 435,
    "start_time": "2022-12-26T18:33:53.962Z"
   },
   {
    "duration": 414,
    "start_time": "2022-12-26T18:34:25.535Z"
   },
   {
    "duration": 11354,
    "start_time": "2022-12-26T18:35:08.918Z"
   },
   {
    "duration": 19342,
    "start_time": "2022-12-26T18:42:05.662Z"
   },
   {
    "duration": 19730,
    "start_time": "2022-12-26T18:43:03.658Z"
   },
   {
    "duration": 1573,
    "start_time": "2022-12-26T18:46:06.312Z"
   },
   {
    "duration": 186,
    "start_time": "2022-12-26T18:46:59.352Z"
   },
   {
    "duration": 1811,
    "start_time": "2022-12-26T18:47:06.508Z"
   },
   {
    "duration": 1663,
    "start_time": "2022-12-26T18:47:57.768Z"
   },
   {
    "duration": 114,
    "start_time": "2022-12-27T05:58:06.647Z"
   },
   {
    "duration": 1560,
    "start_time": "2022-12-27T05:58:17.211Z"
   },
   {
    "duration": 98,
    "start_time": "2022-12-27T05:58:18.773Z"
   },
   {
    "duration": 14,
    "start_time": "2022-12-27T05:58:18.873Z"
   },
   {
    "duration": 15,
    "start_time": "2022-12-27T05:58:18.889Z"
   },
   {
    "duration": 45,
    "start_time": "2022-12-27T05:58:18.906Z"
   },
   {
    "duration": 984,
    "start_time": "2022-12-27T05:58:18.953Z"
   },
   {
    "duration": 3,
    "start_time": "2022-12-27T05:58:19.939Z"
   },
   {
    "duration": 18,
    "start_time": "2022-12-27T05:58:19.944Z"
   },
   {
    "duration": 16,
    "start_time": "2022-12-27T05:58:19.964Z"
   },
   {
    "duration": 4,
    "start_time": "2022-12-27T05:58:19.982Z"
   },
   {
    "duration": 24,
    "start_time": "2022-12-27T05:58:19.988Z"
   },
   {
    "duration": 6,
    "start_time": "2022-12-27T05:58:20.015Z"
   },
   {
    "duration": 24,
    "start_time": "2022-12-27T05:58:20.023Z"
   },
   {
    "duration": 14,
    "start_time": "2022-12-27T05:58:20.049Z"
   },
   {
    "duration": 417,
    "start_time": "2022-12-27T05:58:20.065Z"
   },
   {
    "duration": 545,
    "start_time": "2022-12-27T05:58:20.483Z"
   },
   {
    "duration": 61,
    "start_time": "2022-12-27T05:58:21.030Z"
   },
   {
    "duration": 5,
    "start_time": "2022-12-27T05:58:21.093Z"
   },
   {
    "duration": 129,
    "start_time": "2022-12-27T05:58:21.100Z"
   },
   {
    "duration": 458,
    "start_time": "2022-12-27T05:58:21.231Z"
   },
   {
    "duration": 11176,
    "start_time": "2022-12-27T05:58:21.690Z"
   },
   {
    "duration": 154,
    "start_time": "2022-12-27T05:58:32.867Z"
   },
   {
    "duration": 1141,
    "start_time": "2022-12-27T05:58:33.024Z"
   },
   {
    "duration": 16,
    "start_time": "2022-12-27T05:58:34.167Z"
   },
   {
    "duration": 221,
    "start_time": "2022-12-27T05:58:34.184Z"
   },
   {
    "duration": 1684,
    "start_time": "2022-12-27T05:58:34.407Z"
   },
   {
    "duration": 143,
    "start_time": "2022-12-27T05:58:36.094Z"
   },
   {
    "duration": 573,
    "start_time": "2022-12-27T05:58:36.314Z"
   },
   {
    "duration": 23,
    "start_time": "2022-12-27T05:58:36.889Z"
   },
   {
    "duration": 272,
    "start_time": "2022-12-27T05:58:36.915Z"
   },
   {
    "duration": 3407,
    "start_time": "2022-12-27T05:58:37.189Z"
   },
   {
    "duration": 225,
    "start_time": "2022-12-27T05:58:40.598Z"
   },
   {
    "duration": 1227,
    "start_time": "2022-12-27T05:58:40.825Z"
   },
   {
    "duration": 2689,
    "start_time": "2022-12-27T05:58:42.053Z"
   },
   {
    "duration": 108,
    "start_time": "2022-12-27T05:58:44.743Z"
   },
   {
    "duration": 816,
    "start_time": "2022-12-27T05:58:44.852Z"
   },
   {
    "duration": 110,
    "start_time": "2022-12-27T05:58:49.507Z"
   },
   {
    "duration": 4,
    "start_time": "2022-12-27T06:03:23.753Z"
   },
   {
    "duration": 1609,
    "start_time": "2022-12-27T06:05:49.315Z"
   },
   {
    "duration": 1392,
    "start_time": "2022-12-27T06:06:29.064Z"
   },
   {
    "duration": 58,
    "start_time": "2022-12-27T06:06:30.458Z"
   },
   {
    "duration": 16,
    "start_time": "2022-12-27T06:06:30.517Z"
   },
   {
    "duration": 31,
    "start_time": "2022-12-27T06:06:30.536Z"
   },
   {
    "duration": 59,
    "start_time": "2022-12-27T06:06:30.569Z"
   },
   {
    "duration": 892,
    "start_time": "2022-12-27T06:06:30.630Z"
   },
   {
    "duration": 4,
    "start_time": "2022-12-27T06:06:31.523Z"
   },
   {
    "duration": 32,
    "start_time": "2022-12-27T06:06:31.529Z"
   },
   {
    "duration": 20,
    "start_time": "2022-12-27T06:06:31.563Z"
   },
   {
    "duration": 9,
    "start_time": "2022-12-27T06:06:31.586Z"
   },
   {
    "duration": 20,
    "start_time": "2022-12-27T06:06:31.596Z"
   },
   {
    "duration": 14,
    "start_time": "2022-12-27T06:06:31.617Z"
   },
   {
    "duration": 12,
    "start_time": "2022-12-27T06:06:31.633Z"
   },
   {
    "duration": 11,
    "start_time": "2022-12-27T06:06:31.646Z"
   },
   {
    "duration": 437,
    "start_time": "2022-12-27T06:06:31.659Z"
   },
   {
    "duration": 559,
    "start_time": "2022-12-27T06:06:32.098Z"
   },
   {
    "duration": 30,
    "start_time": "2022-12-27T06:06:32.659Z"
   },
   {
    "duration": 36,
    "start_time": "2022-12-27T06:06:32.690Z"
   },
   {
    "duration": 213,
    "start_time": "2022-12-27T06:06:32.728Z"
   },
   {
    "duration": 463,
    "start_time": "2022-12-27T06:06:32.943Z"
   },
   {
    "duration": 9482,
    "start_time": "2022-12-27T06:06:33.408Z"
   },
   {
    "duration": 120,
    "start_time": "2022-12-27T06:06:42.892Z"
   },
   {
    "duration": 1043,
    "start_time": "2022-12-27T06:06:43.016Z"
   },
   {
    "duration": 16,
    "start_time": "2022-12-27T06:06:44.061Z"
   },
   {
    "duration": 246,
    "start_time": "2022-12-27T06:06:44.112Z"
   },
   {
    "duration": 1603,
    "start_time": "2022-12-27T06:06:44.360Z"
   },
   {
    "duration": 157,
    "start_time": "2022-12-27T06:06:45.965Z"
   },
   {
    "duration": 543,
    "start_time": "2022-12-27T06:06:46.126Z"
   },
   {
    "duration": 16,
    "start_time": "2022-12-27T06:06:46.671Z"
   },
   {
    "duration": 272,
    "start_time": "2022-12-27T06:06:46.688Z"
   },
   {
    "duration": 3338,
    "start_time": "2022-12-27T06:06:46.962Z"
   },
   {
    "duration": 218,
    "start_time": "2022-12-27T06:06:50.301Z"
   },
   {
    "duration": 1218,
    "start_time": "2022-12-27T06:06:50.523Z"
   },
   {
    "duration": 2644,
    "start_time": "2022-12-27T06:06:51.743Z"
   },
   {
    "duration": 85,
    "start_time": "2022-12-27T06:06:54.389Z"
   },
   {
    "duration": 766,
    "start_time": "2022-12-27T06:06:54.476Z"
   },
   {
    "duration": 486,
    "start_time": "2022-12-27T06:08:10.958Z"
   },
   {
    "duration": 460,
    "start_time": "2022-12-27T06:11:37.606Z"
   },
   {
    "duration": 489,
    "start_time": "2022-12-27T06:12:04.668Z"
   },
   {
    "duration": 478,
    "start_time": "2022-12-27T06:12:50.484Z"
   },
   {
    "duration": 64,
    "start_time": "2022-12-27T06:13:13.940Z"
   },
   {
    "duration": 1569,
    "start_time": "2022-12-27T06:13:20.677Z"
   },
   {
    "duration": 1587,
    "start_time": "2022-12-27T06:14:32.550Z"
   },
   {
    "duration": 25,
    "start_time": "2022-12-27T06:28:35.908Z"
   },
   {
    "duration": 2,
    "start_time": "2022-12-27T06:30:05.561Z"
   },
   {
    "duration": 24,
    "start_time": "2022-12-27T06:30:06.321Z"
   },
   {
    "duration": 1458,
    "start_time": "2022-12-27T06:30:18.500Z"
   },
   {
    "duration": 57,
    "start_time": "2022-12-27T06:30:19.960Z"
   },
   {
    "duration": 16,
    "start_time": "2022-12-27T06:30:20.019Z"
   },
   {
    "duration": 20,
    "start_time": "2022-12-27T06:30:20.038Z"
   },
   {
    "duration": 69,
    "start_time": "2022-12-27T06:30:20.061Z"
   },
   {
    "duration": 983,
    "start_time": "2022-12-27T06:30:20.131Z"
   },
   {
    "duration": 5,
    "start_time": "2022-12-27T06:30:21.116Z"
   },
   {
    "duration": 27,
    "start_time": "2022-12-27T06:30:21.123Z"
   },
   {
    "duration": 34,
    "start_time": "2022-12-27T06:30:21.152Z"
   },
   {
    "duration": 6,
    "start_time": "2022-12-27T06:30:21.189Z"
   },
   {
    "duration": 12,
    "start_time": "2022-12-27T06:30:21.197Z"
   },
   {
    "duration": 6,
    "start_time": "2022-12-27T06:30:21.213Z"
   },
   {
    "duration": 6,
    "start_time": "2022-12-27T06:30:21.221Z"
   },
   {
    "duration": 14,
    "start_time": "2022-12-27T06:30:21.229Z"
   },
   {
    "duration": 445,
    "start_time": "2022-12-27T06:30:21.245Z"
   },
   {
    "duration": 588,
    "start_time": "2022-12-27T06:30:21.692Z"
   },
   {
    "duration": 3,
    "start_time": "2022-12-27T06:30:22.282Z"
   },
   {
    "duration": 23,
    "start_time": "2022-12-27T06:30:22.286Z"
   },
   {
    "duration": 1,
    "start_time": "2022-12-27T06:30:22.311Z"
   },
   {
    "duration": 0,
    "start_time": "2022-12-27T06:30:22.313Z"
   },
   {
    "duration": 0,
    "start_time": "2022-12-27T06:30:22.314Z"
   },
   {
    "duration": 0,
    "start_time": "2022-12-27T06:30:22.315Z"
   },
   {
    "duration": 0,
    "start_time": "2022-12-27T06:30:22.316Z"
   },
   {
    "duration": 0,
    "start_time": "2022-12-27T06:30:22.317Z"
   },
   {
    "duration": 0,
    "start_time": "2022-12-27T06:30:22.318Z"
   },
   {
    "duration": 0,
    "start_time": "2022-12-27T06:30:22.319Z"
   },
   {
    "duration": 0,
    "start_time": "2022-12-27T06:30:22.320Z"
   },
   {
    "duration": 0,
    "start_time": "2022-12-27T06:30:22.321Z"
   },
   {
    "duration": 0,
    "start_time": "2022-12-27T06:30:22.323Z"
   },
   {
    "duration": 0,
    "start_time": "2022-12-27T06:30:22.324Z"
   },
   {
    "duration": 0,
    "start_time": "2022-12-27T06:30:22.325Z"
   },
   {
    "duration": 0,
    "start_time": "2022-12-27T06:30:22.326Z"
   },
   {
    "duration": 0,
    "start_time": "2022-12-27T06:30:22.327Z"
   },
   {
    "duration": 0,
    "start_time": "2022-12-27T06:30:22.328Z"
   },
   {
    "duration": 0,
    "start_time": "2022-12-27T06:30:22.330Z"
   },
   {
    "duration": 0,
    "start_time": "2022-12-27T06:30:22.331Z"
   },
   {
    "duration": 0,
    "start_time": "2022-12-27T06:30:22.332Z"
   },
   {
    "duration": 0,
    "start_time": "2022-12-27T06:30:22.333Z"
   },
   {
    "duration": 25,
    "start_time": "2022-12-27T06:31:23.247Z"
   },
   {
    "duration": 13,
    "start_time": "2022-12-27T06:39:13.738Z"
   },
   {
    "duration": 1483,
    "start_time": "2022-12-27T06:39:23.502Z"
   },
   {
    "duration": 57,
    "start_time": "2022-12-27T06:39:24.987Z"
   },
   {
    "duration": 17,
    "start_time": "2022-12-27T06:39:25.046Z"
   },
   {
    "duration": 18,
    "start_time": "2022-12-27T06:39:25.066Z"
   },
   {
    "duration": 54,
    "start_time": "2022-12-27T06:39:25.086Z"
   },
   {
    "duration": 913,
    "start_time": "2022-12-27T06:39:25.142Z"
   },
   {
    "duration": 4,
    "start_time": "2022-12-27T06:39:26.058Z"
   },
   {
    "duration": 16,
    "start_time": "2022-12-27T06:39:26.064Z"
   },
   {
    "duration": 33,
    "start_time": "2022-12-27T06:39:26.082Z"
   },
   {
    "duration": 5,
    "start_time": "2022-12-27T06:39:26.117Z"
   },
   {
    "duration": 10,
    "start_time": "2022-12-27T06:39:26.123Z"
   },
   {
    "duration": 5,
    "start_time": "2022-12-27T06:39:26.134Z"
   },
   {
    "duration": 6,
    "start_time": "2022-12-27T06:39:26.141Z"
   },
   {
    "duration": 8,
    "start_time": "2022-12-27T06:39:26.149Z"
   },
   {
    "duration": 513,
    "start_time": "2022-12-27T06:39:26.159Z"
   },
   {
    "duration": 558,
    "start_time": "2022-12-27T06:39:26.673Z"
   },
   {
    "duration": 12,
    "start_time": "2022-12-27T06:39:27.233Z"
   },
   {
    "duration": 0,
    "start_time": "2022-12-27T06:39:27.247Z"
   },
   {
    "duration": 0,
    "start_time": "2022-12-27T06:39:27.248Z"
   },
   {
    "duration": 0,
    "start_time": "2022-12-27T06:39:27.249Z"
   },
   {
    "duration": 0,
    "start_time": "2022-12-27T06:39:27.250Z"
   },
   {
    "duration": 0,
    "start_time": "2022-12-27T06:39:27.251Z"
   },
   {
    "duration": 0,
    "start_time": "2022-12-27T06:39:27.252Z"
   },
   {
    "duration": 0,
    "start_time": "2022-12-27T06:39:27.253Z"
   },
   {
    "duration": 0,
    "start_time": "2022-12-27T06:39:27.255Z"
   },
   {
    "duration": 0,
    "start_time": "2022-12-27T06:39:27.256Z"
   },
   {
    "duration": 0,
    "start_time": "2022-12-27T06:39:27.257Z"
   },
   {
    "duration": 0,
    "start_time": "2022-12-27T06:39:27.259Z"
   },
   {
    "duration": 0,
    "start_time": "2022-12-27T06:39:27.259Z"
   },
   {
    "duration": 0,
    "start_time": "2022-12-27T06:39:27.260Z"
   },
   {
    "duration": 0,
    "start_time": "2022-12-27T06:39:27.262Z"
   },
   {
    "duration": 0,
    "start_time": "2022-12-27T06:39:27.263Z"
   },
   {
    "duration": 0,
    "start_time": "2022-12-27T06:39:27.264Z"
   },
   {
    "duration": 0,
    "start_time": "2022-12-27T06:39:27.265Z"
   },
   {
    "duration": 0,
    "start_time": "2022-12-27T06:39:27.266Z"
   },
   {
    "duration": 0,
    "start_time": "2022-12-27T06:39:27.267Z"
   },
   {
    "duration": 0,
    "start_time": "2022-12-27T06:39:27.267Z"
   },
   {
    "duration": 22,
    "start_time": "2022-12-27T06:39:56.280Z"
   },
   {
    "duration": 16,
    "start_time": "2022-12-27T06:40:05.846Z"
   },
   {
    "duration": 7,
    "start_time": "2022-12-27T06:40:26.781Z"
   },
   {
    "duration": 17,
    "start_time": "2022-12-27T06:57:08.909Z"
   },
   {
    "duration": 17,
    "start_time": "2022-12-27T06:57:55.895Z"
   },
   {
    "duration": 12,
    "start_time": "2022-12-27T06:58:18.612Z"
   },
   {
    "duration": 8,
    "start_time": "2022-12-27T06:58:38.188Z"
   },
   {
    "duration": 12,
    "start_time": "2022-12-27T06:58:45.676Z"
   },
   {
    "duration": 15,
    "start_time": "2022-12-27T06:59:16.378Z"
   },
   {
    "duration": 14,
    "start_time": "2022-12-27T06:59:24.493Z"
   },
   {
    "duration": 8,
    "start_time": "2022-12-27T06:59:40.708Z"
   },
   {
    "duration": 11,
    "start_time": "2022-12-27T07:00:20.092Z"
   },
   {
    "duration": 14,
    "start_time": "2022-12-27T07:00:27.086Z"
   },
   {
    "duration": 17,
    "start_time": "2022-12-27T07:01:07.916Z"
   },
   {
    "duration": 10,
    "start_time": "2022-12-27T07:01:28.614Z"
   },
   {
    "duration": 11,
    "start_time": "2022-12-27T07:01:34.928Z"
   },
   {
    "duration": 11,
    "start_time": "2022-12-27T07:01:49.613Z"
   },
   {
    "duration": 11,
    "start_time": "2022-12-27T07:02:02.899Z"
   },
   {
    "duration": 81,
    "start_time": "2022-12-27T07:06:14.535Z"
   },
   {
    "duration": 8,
    "start_time": "2022-12-27T07:06:49.014Z"
   },
   {
    "duration": 20,
    "start_time": "2022-12-27T07:06:52.000Z"
   },
   {
    "duration": 7,
    "start_time": "2022-12-27T07:07:52.314Z"
   },
   {
    "duration": 57,
    "start_time": "2022-12-27T07:07:55.260Z"
   },
   {
    "duration": 14,
    "start_time": "2022-12-27T07:09:34.810Z"
   },
   {
    "duration": 14,
    "start_time": "2022-12-27T07:10:41.562Z"
   },
   {
    "duration": 11,
    "start_time": "2022-12-27T07:10:46.335Z"
   },
   {
    "duration": 8,
    "start_time": "2022-12-27T07:10:54.614Z"
   },
   {
    "duration": 22,
    "start_time": "2022-12-27T07:12:49.984Z"
   },
   {
    "duration": 22,
    "start_time": "2022-12-27T07:13:03.023Z"
   },
   {
    "duration": 1433,
    "start_time": "2022-12-27T07:17:27.973Z"
   },
   {
    "duration": 55,
    "start_time": "2022-12-27T07:17:29.408Z"
   },
   {
    "duration": 16,
    "start_time": "2022-12-27T07:17:29.465Z"
   },
   {
    "duration": 15,
    "start_time": "2022-12-27T07:17:29.483Z"
   },
   {
    "duration": 42,
    "start_time": "2022-12-27T07:17:29.499Z"
   },
   {
    "duration": 936,
    "start_time": "2022-12-27T07:17:29.542Z"
   },
   {
    "duration": 4,
    "start_time": "2022-12-27T07:17:30.479Z"
   },
   {
    "duration": 24,
    "start_time": "2022-12-27T07:17:30.484Z"
   },
   {
    "duration": 29,
    "start_time": "2022-12-27T07:17:30.510Z"
   },
   {
    "duration": 5,
    "start_time": "2022-12-27T07:17:30.541Z"
   },
   {
    "duration": 25,
    "start_time": "2022-12-27T07:17:30.548Z"
   },
   {
    "duration": 13,
    "start_time": "2022-12-27T07:17:30.575Z"
   },
   {
    "duration": 12,
    "start_time": "2022-12-27T07:17:30.590Z"
   },
   {
    "duration": 12,
    "start_time": "2022-12-27T07:17:30.603Z"
   },
   {
    "duration": 399,
    "start_time": "2022-12-27T07:17:30.617Z"
   },
   {
    "duration": 555,
    "start_time": "2022-12-27T07:17:31.017Z"
   },
   {
    "duration": 12,
    "start_time": "2022-12-27T07:17:31.574Z"
   },
   {
    "duration": 31,
    "start_time": "2022-12-27T07:17:31.588Z"
   },
   {
    "duration": 200,
    "start_time": "2022-12-27T07:17:31.621Z"
   },
   {
    "duration": 147,
    "start_time": "2022-12-27T07:17:31.823Z"
   },
   {
    "duration": 345,
    "start_time": "2022-12-27T07:17:31.973Z"
   },
   {
    "duration": 9716,
    "start_time": "2022-12-27T07:17:32.320Z"
   },
   {
    "duration": 184,
    "start_time": "2022-12-27T07:17:42.038Z"
   },
   {
    "duration": 1144,
    "start_time": "2022-12-27T07:17:42.223Z"
   },
   {
    "duration": 18,
    "start_time": "2022-12-27T07:17:43.369Z"
   },
   {
    "duration": 0,
    "start_time": "2022-12-27T07:17:43.389Z"
   },
   {
    "duration": 0,
    "start_time": "2022-12-27T07:17:43.390Z"
   },
   {
    "duration": 0,
    "start_time": "2022-12-27T07:17:43.391Z"
   },
   {
    "duration": 0,
    "start_time": "2022-12-27T07:17:43.393Z"
   },
   {
    "duration": 0,
    "start_time": "2022-12-27T07:17:43.394Z"
   },
   {
    "duration": 0,
    "start_time": "2022-12-27T07:17:43.412Z"
   },
   {
    "duration": 0,
    "start_time": "2022-12-27T07:17:43.414Z"
   },
   {
    "duration": 0,
    "start_time": "2022-12-27T07:17:43.415Z"
   },
   {
    "duration": 1,
    "start_time": "2022-12-27T07:17:43.416Z"
   },
   {
    "duration": 0,
    "start_time": "2022-12-27T07:17:43.418Z"
   },
   {
    "duration": 0,
    "start_time": "2022-12-27T07:17:43.419Z"
   },
   {
    "duration": 1,
    "start_time": "2022-12-27T07:17:43.420Z"
   },
   {
    "duration": 12,
    "start_time": "2022-12-27T07:19:46.898Z"
   },
   {
    "duration": 1600,
    "start_time": "2022-12-27T07:25:33.364Z"
   },
   {
    "duration": 11,
    "start_time": "2022-12-27T07:29:51.187Z"
   },
   {
    "duration": 16,
    "start_time": "2022-12-27T07:29:58.527Z"
   },
   {
    "duration": 11,
    "start_time": "2022-12-27T07:30:04.382Z"
   },
   {
    "duration": 1401,
    "start_time": "2022-12-27T07:30:37.983Z"
   },
   {
    "duration": 52,
    "start_time": "2022-12-27T07:30:39.386Z"
   },
   {
    "duration": 14,
    "start_time": "2022-12-27T07:30:39.440Z"
   },
   {
    "duration": 15,
    "start_time": "2022-12-27T07:30:39.456Z"
   },
   {
    "duration": 52,
    "start_time": "2022-12-27T07:30:39.473Z"
   },
   {
    "duration": 923,
    "start_time": "2022-12-27T07:30:39.527Z"
   },
   {
    "duration": 4,
    "start_time": "2022-12-27T07:30:40.451Z"
   },
   {
    "duration": 24,
    "start_time": "2022-12-27T07:30:40.456Z"
   },
   {
    "duration": 34,
    "start_time": "2022-12-27T07:30:40.481Z"
   },
   {
    "duration": 5,
    "start_time": "2022-12-27T07:30:40.517Z"
   },
   {
    "duration": 18,
    "start_time": "2022-12-27T07:30:40.524Z"
   },
   {
    "duration": 17,
    "start_time": "2022-12-27T07:30:40.543Z"
   },
   {
    "duration": 6,
    "start_time": "2022-12-27T07:30:40.561Z"
   },
   {
    "duration": 20,
    "start_time": "2022-12-27T07:30:40.569Z"
   },
   {
    "duration": 396,
    "start_time": "2022-12-27T07:30:40.590Z"
   },
   {
    "duration": 1653,
    "start_time": "2022-12-27T07:30:40.988Z"
   },
   {
    "duration": 79,
    "start_time": "2022-12-27T07:30:42.643Z"
   },
   {
    "duration": 91,
    "start_time": "2022-12-27T07:30:42.725Z"
   },
   {
    "duration": 140,
    "start_time": "2022-12-27T07:30:42.818Z"
   },
   {
    "duration": 471,
    "start_time": "2022-12-27T07:30:42.960Z"
   },
   {
    "duration": 10008,
    "start_time": "2022-12-27T07:30:43.433Z"
   },
   {
    "duration": 269,
    "start_time": "2022-12-27T07:30:53.442Z"
   },
   {
    "duration": 1037,
    "start_time": "2022-12-27T07:30:53.715Z"
   },
   {
    "duration": 19,
    "start_time": "2022-12-27T07:30:54.754Z"
   },
   {
    "duration": 248,
    "start_time": "2022-12-27T07:30:54.775Z"
   },
   {
    "duration": 1685,
    "start_time": "2022-12-27T07:30:55.025Z"
   },
   {
    "duration": 25,
    "start_time": "2022-12-27T07:30:56.712Z"
   },
   {
    "duration": 558,
    "start_time": "2022-12-27T07:30:56.816Z"
   },
   {
    "duration": 15,
    "start_time": "2022-12-27T07:30:57.376Z"
   },
   {
    "duration": 287,
    "start_time": "2022-12-27T07:30:57.393Z"
   },
   {
    "duration": 3531,
    "start_time": "2022-12-27T07:30:57.681Z"
   },
   {
    "duration": 106,
    "start_time": "2022-12-27T07:31:01.213Z"
   },
   {
    "duration": 1244,
    "start_time": "2022-12-27T07:31:01.321Z"
   },
   {
    "duration": 2891,
    "start_time": "2022-12-27T07:31:02.566Z"
   },
   {
    "duration": 87,
    "start_time": "2022-12-27T07:31:05.458Z"
   },
   {
    "duration": 879,
    "start_time": "2022-12-27T07:31:05.547Z"
   },
   {
    "duration": 23,
    "start_time": "2022-12-27T07:33:19.610Z"
   },
   {
    "duration": 109,
    "start_time": "2022-12-27T07:34:58.904Z"
   },
   {
    "duration": 1453,
    "start_time": "2022-12-27T07:35:18.170Z"
   },
   {
    "duration": 56,
    "start_time": "2022-12-27T07:35:19.625Z"
   },
   {
    "duration": 14,
    "start_time": "2022-12-27T07:35:19.683Z"
   },
   {
    "duration": 20,
    "start_time": "2022-12-27T07:35:19.699Z"
   },
   {
    "duration": 52,
    "start_time": "2022-12-27T07:35:19.721Z"
   },
   {
    "duration": 924,
    "start_time": "2022-12-27T07:35:19.775Z"
   },
   {
    "duration": 4,
    "start_time": "2022-12-27T07:35:20.701Z"
   },
   {
    "duration": 21,
    "start_time": "2022-12-27T07:35:20.718Z"
   },
   {
    "duration": 30,
    "start_time": "2022-12-27T07:35:20.741Z"
   },
   {
    "duration": 10,
    "start_time": "2022-12-27T07:35:20.773Z"
   },
   {
    "duration": 19,
    "start_time": "2022-12-27T07:35:20.785Z"
   },
   {
    "duration": 9,
    "start_time": "2022-12-27T07:35:20.806Z"
   },
   {
    "duration": 19,
    "start_time": "2022-12-27T07:35:20.817Z"
   },
   {
    "duration": 23,
    "start_time": "2022-12-27T07:35:20.838Z"
   },
   {
    "duration": 422,
    "start_time": "2022-12-27T07:35:20.863Z"
   },
   {
    "duration": 1605,
    "start_time": "2022-12-27T07:35:21.287Z"
   },
   {
    "duration": 27,
    "start_time": "2022-12-27T07:35:22.894Z"
   },
   {
    "duration": 90,
    "start_time": "2022-12-27T07:35:22.922Z"
   },
   {
    "duration": 97,
    "start_time": "2022-12-27T07:35:23.014Z"
   },
   {
    "duration": 135,
    "start_time": "2022-12-27T07:35:23.113Z"
   },
   {
    "duration": 472,
    "start_time": "2022-12-27T07:35:23.250Z"
   },
   {
    "duration": 9699,
    "start_time": "2022-12-27T07:35:23.724Z"
   },
   {
    "duration": 97,
    "start_time": "2022-12-27T07:35:33.425Z"
   },
   {
    "duration": 1044,
    "start_time": "2022-12-27T07:35:33.613Z"
   },
   {
    "duration": 13,
    "start_time": "2022-12-27T07:35:34.659Z"
   },
   {
    "duration": 213,
    "start_time": "2022-12-27T07:35:34.674Z"
   },
   {
    "duration": 1721,
    "start_time": "2022-12-27T07:35:34.888Z"
   },
   {
    "duration": 101,
    "start_time": "2022-12-27T07:35:36.613Z"
   },
   {
    "duration": 544,
    "start_time": "2022-12-27T07:35:36.717Z"
   },
   {
    "duration": 14,
    "start_time": "2022-12-27T07:35:37.263Z"
   },
   {
    "duration": 286,
    "start_time": "2022-12-27T07:35:37.279Z"
   },
   {
    "duration": 3562,
    "start_time": "2022-12-27T07:35:37.566Z"
   },
   {
    "duration": 183,
    "start_time": "2022-12-27T07:35:41.130Z"
   },
   {
    "duration": 1238,
    "start_time": "2022-12-27T07:35:41.316Z"
   },
   {
    "duration": 2695,
    "start_time": "2022-12-27T07:35:42.556Z"
   },
   {
    "duration": 79,
    "start_time": "2022-12-27T07:35:45.253Z"
   },
   {
    "duration": 738,
    "start_time": "2022-12-27T07:35:45.333Z"
   },
   {
    "duration": 4008,
    "start_time": "2022-12-27T07:53:16.720Z"
   },
   {
    "duration": 45,
    "start_time": "2022-12-27T08:12:34.081Z"
   },
   {
    "duration": 1152,
    "start_time": "2022-12-27T08:18:26.204Z"
   },
   {
    "duration": 17,
    "start_time": "2022-12-27T08:23:03.162Z"
   },
   {
    "duration": 1497,
    "start_time": "2022-12-27T08:27:54.499Z"
   },
   {
    "duration": 71,
    "start_time": "2022-12-27T08:27:55.998Z"
   },
   {
    "duration": 15,
    "start_time": "2022-12-27T08:27:56.071Z"
   },
   {
    "duration": 17,
    "start_time": "2022-12-27T08:27:56.088Z"
   },
   {
    "duration": 43,
    "start_time": "2022-12-27T08:27:56.107Z"
   },
   {
    "duration": 1020,
    "start_time": "2022-12-27T08:27:56.151Z"
   },
   {
    "duration": 4,
    "start_time": "2022-12-27T08:27:57.172Z"
   },
   {
    "duration": 17,
    "start_time": "2022-12-27T08:27:57.178Z"
   },
   {
    "duration": 35,
    "start_time": "2022-12-27T08:27:57.196Z"
   },
   {
    "duration": 7,
    "start_time": "2022-12-27T08:27:57.234Z"
   },
   {
    "duration": 8,
    "start_time": "2022-12-27T08:27:57.243Z"
   },
   {
    "duration": 6,
    "start_time": "2022-12-27T08:27:57.252Z"
   },
   {
    "duration": 5,
    "start_time": "2022-12-27T08:27:57.259Z"
   },
   {
    "duration": 5,
    "start_time": "2022-12-27T08:27:57.266Z"
   },
   {
    "duration": 430,
    "start_time": "2022-12-27T08:27:57.272Z"
   },
   {
    "duration": 1694,
    "start_time": "2022-12-27T08:27:57.712Z"
   },
   {
    "duration": 26,
    "start_time": "2022-12-27T08:27:59.408Z"
   },
   {
    "duration": 95,
    "start_time": "2022-12-27T08:27:59.436Z"
   },
   {
    "duration": 89,
    "start_time": "2022-12-27T08:27:59.533Z"
   },
   {
    "duration": 145,
    "start_time": "2022-12-27T08:27:59.624Z"
   },
   {
    "duration": 525,
    "start_time": "2022-12-27T08:27:59.774Z"
   },
   {
    "duration": 4027,
    "start_time": "2022-12-27T08:28:00.301Z"
   },
   {
    "duration": 91,
    "start_time": "2022-12-27T08:28:04.330Z"
   },
   {
    "duration": 1112,
    "start_time": "2022-12-27T08:28:04.422Z"
   },
   {
    "duration": 16,
    "start_time": "2022-12-27T08:28:05.536Z"
   },
   {
    "duration": 233,
    "start_time": "2022-12-27T08:28:05.554Z"
   },
   {
    "duration": 1770,
    "start_time": "2022-12-27T08:28:05.789Z"
   },
   {
    "duration": 78,
    "start_time": "2022-12-27T08:28:07.563Z"
   },
   {
    "duration": 551,
    "start_time": "2022-12-27T08:28:07.711Z"
   },
   {
    "duration": 14,
    "start_time": "2022-12-27T08:28:08.264Z"
   },
   {
    "duration": 288,
    "start_time": "2022-12-27T08:28:08.279Z"
   },
   {
    "duration": 3660,
    "start_time": "2022-12-27T08:28:08.569Z"
   },
   {
    "duration": 189,
    "start_time": "2022-12-27T08:28:12.232Z"
   },
   {
    "duration": 1134,
    "start_time": "2022-12-27T08:28:12.426Z"
   },
   {
    "duration": 2778,
    "start_time": "2022-12-27T08:28:13.562Z"
   },
   {
    "duration": 93,
    "start_time": "2022-12-27T08:28:16.343Z"
   },
   {
    "duration": 906,
    "start_time": "2022-12-27T08:28:16.438Z"
   },
   {
    "duration": 123,
    "start_time": "2022-12-27T13:20:54.821Z"
   },
   {
    "duration": 73,
    "start_time": "2022-12-27T13:40:42.015Z"
   },
   {
    "duration": 77,
    "start_time": "2022-12-27T13:42:18.192Z"
   },
   {
    "duration": 74,
    "start_time": "2022-12-27T13:42:25.865Z"
   },
   {
    "duration": 120,
    "start_time": "2022-12-27T15:21:28.356Z"
   },
   {
    "duration": 1549,
    "start_time": "2022-12-27T15:28:57.208Z"
   },
   {
    "duration": 4,
    "start_time": "2022-12-27T15:28:59.436Z"
   },
   {
    "duration": 185,
    "start_time": "2022-12-27T15:28:59.442Z"
   },
   {
    "duration": 14,
    "start_time": "2022-12-27T15:28:59.628Z"
   },
   {
    "duration": 25,
    "start_time": "2022-12-27T15:28:59.644Z"
   },
   {
    "duration": 40,
    "start_time": "2022-12-27T15:28:59.670Z"
   },
   {
    "duration": 912,
    "start_time": "2022-12-27T15:28:59.711Z"
   },
   {
    "duration": 3,
    "start_time": "2022-12-27T15:29:00.626Z"
   },
   {
    "duration": 39,
    "start_time": "2022-12-27T15:29:00.631Z"
   },
   {
    "duration": 41,
    "start_time": "2022-12-27T15:29:00.671Z"
   },
   {
    "duration": 24,
    "start_time": "2022-12-27T15:29:00.715Z"
   },
   {
    "duration": 81,
    "start_time": "2022-12-27T15:29:00.741Z"
   },
   {
    "duration": 80,
    "start_time": "2022-12-27T15:29:00.824Z"
   },
   {
    "duration": 177,
    "start_time": "2022-12-27T15:29:00.906Z"
   },
   {
    "duration": 96,
    "start_time": "2022-12-27T15:29:01.085Z"
   },
   {
    "duration": 426,
    "start_time": "2022-12-27T15:29:01.183Z"
   },
   {
    "duration": 117,
    "start_time": "2022-12-27T15:29:01.611Z"
   },
   {
    "duration": 0,
    "start_time": "2022-12-27T15:29:01.730Z"
   },
   {
    "duration": 0,
    "start_time": "2022-12-27T15:29:01.731Z"
   },
   {
    "duration": 0,
    "start_time": "2022-12-27T15:29:01.732Z"
   },
   {
    "duration": 0,
    "start_time": "2022-12-27T15:29:01.733Z"
   },
   {
    "duration": 0,
    "start_time": "2022-12-27T15:29:01.734Z"
   },
   {
    "duration": 0,
    "start_time": "2022-12-27T15:29:01.736Z"
   },
   {
    "duration": 0,
    "start_time": "2022-12-27T15:29:01.736Z"
   },
   {
    "duration": 0,
    "start_time": "2022-12-27T15:29:01.737Z"
   },
   {
    "duration": 0,
    "start_time": "2022-12-27T15:29:01.738Z"
   },
   {
    "duration": 0,
    "start_time": "2022-12-27T15:29:01.739Z"
   },
   {
    "duration": 0,
    "start_time": "2022-12-27T15:29:01.740Z"
   },
   {
    "duration": 0,
    "start_time": "2022-12-27T15:29:01.741Z"
   },
   {
    "duration": 0,
    "start_time": "2022-12-27T15:29:01.743Z"
   },
   {
    "duration": 0,
    "start_time": "2022-12-27T15:29:01.745Z"
   },
   {
    "duration": 0,
    "start_time": "2022-12-27T15:29:01.747Z"
   },
   {
    "duration": 0,
    "start_time": "2022-12-27T15:29:01.748Z"
   },
   {
    "duration": 0,
    "start_time": "2022-12-27T15:29:01.749Z"
   },
   {
    "duration": 0,
    "start_time": "2022-12-27T15:29:01.751Z"
   },
   {
    "duration": 0,
    "start_time": "2022-12-27T15:29:01.752Z"
   },
   {
    "duration": 0,
    "start_time": "2022-12-27T15:29:01.754Z"
   },
   {
    "duration": 0,
    "start_time": "2022-12-27T15:29:01.755Z"
   },
   {
    "duration": 10,
    "start_time": "2022-12-27T15:32:41.205Z"
   },
   {
    "duration": 10,
    "start_time": "2022-12-27T15:33:32.690Z"
   },
   {
    "duration": 391,
    "start_time": "2022-12-27T15:34:14.232Z"
   },
   {
    "duration": 456,
    "start_time": "2022-12-27T15:34:51.417Z"
   },
   {
    "duration": 405,
    "start_time": "2022-12-27T15:35:34.209Z"
   },
   {
    "duration": 1502,
    "start_time": "2022-12-27T15:36:11.331Z"
   },
   {
    "duration": 382,
    "start_time": "2022-12-27T15:36:42.506Z"
   },
   {
    "duration": 415,
    "start_time": "2022-12-27T15:38:56.548Z"
   },
   {
    "duration": 401,
    "start_time": "2022-12-27T15:39:24.170Z"
   },
   {
    "duration": 1502,
    "start_time": "2022-12-27T15:40:03.819Z"
   },
   {
    "duration": 841,
    "start_time": "2022-12-27T15:41:14.751Z"
   },
   {
    "duration": 812,
    "start_time": "2022-12-27T15:42:02.365Z"
   },
   {
    "duration": 430,
    "start_time": "2022-12-27T15:42:09.776Z"
   },
   {
    "duration": 436,
    "start_time": "2022-12-27T15:43:01.655Z"
   },
   {
    "duration": 7,
    "start_time": "2022-12-27T15:56:29.868Z"
   },
   {
    "duration": 756,
    "start_time": "2022-12-27T15:56:53.294Z"
   },
   {
    "duration": 5,
    "start_time": "2022-12-27T15:58:35.786Z"
   },
   {
    "duration": 829,
    "start_time": "2022-12-27T15:59:17.079Z"
   },
   {
    "duration": 427,
    "start_time": "2022-12-27T15:59:22.111Z"
   },
   {
    "duration": 1390,
    "start_time": "2022-12-27T16:00:03.433Z"
   },
   {
    "duration": 55,
    "start_time": "2022-12-27T16:00:04.825Z"
   },
   {
    "duration": 14,
    "start_time": "2022-12-27T16:00:04.882Z"
   },
   {
    "duration": 47,
    "start_time": "2022-12-27T16:00:04.898Z"
   },
   {
    "duration": 78,
    "start_time": "2022-12-27T16:00:04.947Z"
   },
   {
    "duration": 1040,
    "start_time": "2022-12-27T16:00:05.027Z"
   },
   {
    "duration": 4,
    "start_time": "2022-12-27T16:00:06.070Z"
   },
   {
    "duration": 59,
    "start_time": "2022-12-27T16:00:06.076Z"
   },
   {
    "duration": 56,
    "start_time": "2022-12-27T16:00:06.137Z"
   },
   {
    "duration": 31,
    "start_time": "2022-12-27T16:00:06.196Z"
   },
   {
    "duration": 20,
    "start_time": "2022-12-27T16:00:06.229Z"
   },
   {
    "duration": 27,
    "start_time": "2022-12-27T16:00:06.250Z"
   },
   {
    "duration": 31,
    "start_time": "2022-12-27T16:00:06.278Z"
   },
   {
    "duration": 46,
    "start_time": "2022-12-27T16:00:06.311Z"
   },
   {
    "duration": 405,
    "start_time": "2022-12-27T16:00:06.359Z"
   },
   {
    "duration": 792,
    "start_time": "2022-12-27T16:00:06.766Z"
   },
   {
    "duration": 403,
    "start_time": "2022-12-27T16:00:07.560Z"
   },
   {
    "duration": 17,
    "start_time": "2022-12-27T16:00:07.965Z"
   },
   {
    "duration": 141,
    "start_time": "2022-12-27T16:00:07.984Z"
   },
   {
    "duration": 104,
    "start_time": "2022-12-27T16:00:08.127Z"
   },
   {
    "duration": 151,
    "start_time": "2022-12-27T16:00:08.232Z"
   },
   {
    "duration": 447,
    "start_time": "2022-12-27T16:00:08.384Z"
   },
   {
    "duration": 3711,
    "start_time": "2022-12-27T16:00:08.833Z"
   },
   {
    "duration": 89,
    "start_time": "2022-12-27T16:00:12.546Z"
   },
   {
    "duration": 1045,
    "start_time": "2022-12-27T16:00:12.637Z"
   },
   {
    "duration": 13,
    "start_time": "2022-12-27T16:00:13.684Z"
   },
   {
    "duration": 203,
    "start_time": "2022-12-27T16:00:13.698Z"
   },
   {
    "duration": 1505,
    "start_time": "2022-12-27T16:00:13.905Z"
   },
   {
    "duration": 35,
    "start_time": "2022-12-27T16:00:15.412Z"
   },
   {
    "duration": 534,
    "start_time": "2022-12-27T16:00:15.527Z"
   },
   {
    "duration": 14,
    "start_time": "2022-12-27T16:00:16.062Z"
   },
   {
    "duration": 333,
    "start_time": "2022-12-27T16:00:16.078Z"
   },
   {
    "duration": 3256,
    "start_time": "2022-12-27T16:00:16.412Z"
   },
   {
    "duration": 163,
    "start_time": "2022-12-27T16:00:19.669Z"
   },
   {
    "duration": 1226,
    "start_time": "2022-12-27T16:00:19.834Z"
   },
   {
    "duration": 2585,
    "start_time": "2022-12-27T16:00:21.062Z"
   },
   {
    "duration": 64,
    "start_time": "2022-12-27T16:00:23.649Z"
   },
   {
    "duration": 902,
    "start_time": "2022-12-27T16:00:23.715Z"
   },
   {
    "duration": 1282,
    "start_time": "2022-12-27T16:00:46.772Z"
   },
   {
    "duration": 53,
    "start_time": "2022-12-27T16:00:48.056Z"
   },
   {
    "duration": 17,
    "start_time": "2022-12-27T16:00:48.110Z"
   },
   {
    "duration": 25,
    "start_time": "2022-12-27T16:00:48.129Z"
   },
   {
    "duration": 49,
    "start_time": "2022-12-27T16:00:48.156Z"
   },
   {
    "duration": 872,
    "start_time": "2022-12-27T16:00:48.207Z"
   },
   {
    "duration": 5,
    "start_time": "2022-12-27T16:00:49.081Z"
   },
   {
    "duration": 30,
    "start_time": "2022-12-27T16:00:49.088Z"
   },
   {
    "duration": 24,
    "start_time": "2022-12-27T16:00:49.120Z"
   },
   {
    "duration": 6,
    "start_time": "2022-12-27T16:00:49.146Z"
   },
   {
    "duration": 19,
    "start_time": "2022-12-27T16:00:49.154Z"
   },
   {
    "duration": 10,
    "start_time": "2022-12-27T16:00:49.175Z"
   },
   {
    "duration": 18,
    "start_time": "2022-12-27T16:00:49.187Z"
   },
   {
    "duration": 9,
    "start_time": "2022-12-27T16:00:49.206Z"
   },
   {
    "duration": 383,
    "start_time": "2022-12-27T16:00:49.226Z"
   },
   {
    "duration": 779,
    "start_time": "2022-12-27T16:00:49.611Z"
   },
   {
    "duration": 402,
    "start_time": "2022-12-27T16:00:50.392Z"
   },
   {
    "duration": 20,
    "start_time": "2022-12-27T16:00:50.796Z"
   },
   {
    "duration": 215,
    "start_time": "2022-12-27T16:00:50.818Z"
   },
   {
    "duration": 6,
    "start_time": "2022-12-27T16:00:51.035Z"
   },
   {
    "duration": 161,
    "start_time": "2022-12-27T16:00:51.043Z"
   },
   {
    "duration": 458,
    "start_time": "2022-12-27T16:00:51.206Z"
   },
   {
    "duration": 3536,
    "start_time": "2022-12-27T16:00:51.665Z"
   },
   {
    "duration": 228,
    "start_time": "2022-12-27T16:00:55.202Z"
   },
   {
    "duration": 1031,
    "start_time": "2022-12-27T16:00:55.431Z"
   },
   {
    "duration": 13,
    "start_time": "2022-12-27T16:00:56.464Z"
   },
   {
    "duration": 197,
    "start_time": "2022-12-27T16:00:56.478Z"
   },
   {
    "duration": 1488,
    "start_time": "2022-12-27T16:00:56.678Z"
   },
   {
    "duration": 72,
    "start_time": "2022-12-27T16:00:58.167Z"
   },
   {
    "duration": 628,
    "start_time": "2022-12-27T16:00:58.240Z"
   },
   {
    "duration": 15,
    "start_time": "2022-12-27T16:00:58.869Z"
   },
   {
    "duration": 269,
    "start_time": "2022-12-27T16:00:58.885Z"
   },
   {
    "duration": 3371,
    "start_time": "2022-12-27T16:00:59.156Z"
   },
   {
    "duration": 205,
    "start_time": "2022-12-27T16:01:02.529Z"
   },
   {
    "duration": 1227,
    "start_time": "2022-12-27T16:01:02.736Z"
   },
   {
    "duration": 2677,
    "start_time": "2022-12-27T16:01:03.965Z"
   },
   {
    "duration": 67,
    "start_time": "2022-12-27T16:01:06.643Z"
   },
   {
    "duration": 735,
    "start_time": "2022-12-27T16:01:06.711Z"
   },
   {
    "duration": 570,
    "start_time": "2022-12-27T16:03:44.973Z"
   },
   {
    "duration": 1488,
    "start_time": "2022-12-27T16:04:22.918Z"
   },
   {
    "duration": 52,
    "start_time": "2022-12-27T16:04:24.408Z"
   },
   {
    "duration": 13,
    "start_time": "2022-12-27T16:04:24.461Z"
   },
   {
    "duration": 26,
    "start_time": "2022-12-27T16:04:24.475Z"
   },
   {
    "duration": 59,
    "start_time": "2022-12-27T16:04:24.503Z"
   },
   {
    "duration": 961,
    "start_time": "2022-12-27T16:04:24.564Z"
   },
   {
    "duration": 5,
    "start_time": "2022-12-27T16:04:25.529Z"
   },
   {
    "duration": 64,
    "start_time": "2022-12-27T16:04:25.536Z"
   },
   {
    "duration": 44,
    "start_time": "2022-12-27T16:04:25.602Z"
   },
   {
    "duration": 23,
    "start_time": "2022-12-27T16:04:25.648Z"
   },
   {
    "duration": 29,
    "start_time": "2022-12-27T16:04:25.673Z"
   },
   {
    "duration": 18,
    "start_time": "2022-12-27T16:04:25.704Z"
   },
   {
    "duration": 25,
    "start_time": "2022-12-27T16:04:25.724Z"
   },
   {
    "duration": 29,
    "start_time": "2022-12-27T16:04:25.752Z"
   },
   {
    "duration": 423,
    "start_time": "2022-12-27T16:04:25.783Z"
   },
   {
    "duration": 803,
    "start_time": "2022-12-27T16:04:26.207Z"
   },
   {
    "duration": 449,
    "start_time": "2022-12-27T16:04:27.012Z"
   },
   {
    "duration": 25,
    "start_time": "2022-12-27T16:04:27.462Z"
   },
   {
    "duration": 48,
    "start_time": "2022-12-27T16:04:27.489Z"
   },
   {
    "duration": 191,
    "start_time": "2022-12-27T16:04:27.539Z"
   },
   {
    "duration": 164,
    "start_time": "2022-12-27T16:04:27.732Z"
   },
   {
    "duration": 441,
    "start_time": "2022-12-27T16:04:27.898Z"
   },
   {
    "duration": 3646,
    "start_time": "2022-12-27T16:04:28.341Z"
   },
   {
    "duration": 44,
    "start_time": "2022-12-27T16:04:31.989Z"
   },
   {
    "duration": 1026,
    "start_time": "2022-12-27T16:04:32.125Z"
   },
   {
    "duration": 14,
    "start_time": "2022-12-27T16:04:33.152Z"
   },
   {
    "duration": 224,
    "start_time": "2022-12-27T16:04:33.168Z"
   },
   {
    "duration": 1538,
    "start_time": "2022-12-27T16:04:33.393Z"
   },
   {
    "duration": 93,
    "start_time": "2022-12-27T16:04:34.933Z"
   },
   {
    "duration": 571,
    "start_time": "2022-12-27T16:04:35.028Z"
   },
   {
    "duration": 31,
    "start_time": "2022-12-27T16:04:35.601Z"
   },
   {
    "duration": 364,
    "start_time": "2022-12-27T16:04:35.634Z"
   },
   {
    "duration": 3362,
    "start_time": "2022-12-27T16:04:36.001Z"
   },
   {
    "duration": 91,
    "start_time": "2022-12-27T16:04:39.365Z"
   },
   {
    "duration": 1134,
    "start_time": "2022-12-27T16:04:39.528Z"
   },
   {
    "duration": 2670,
    "start_time": "2022-12-27T16:04:40.665Z"
   },
   {
    "duration": 67,
    "start_time": "2022-12-27T16:04:43.336Z"
   },
   {
    "duration": 776,
    "start_time": "2022-12-27T16:04:43.405Z"
   },
   {
    "duration": 1360,
    "start_time": "2022-12-27T16:06:16.142Z"
   },
   {
    "duration": 50,
    "start_time": "2022-12-27T16:06:17.504Z"
   },
   {
    "duration": 14,
    "start_time": "2022-12-27T16:06:17.556Z"
   },
   {
    "duration": 19,
    "start_time": "2022-12-27T16:06:17.571Z"
   },
   {
    "duration": 46,
    "start_time": "2022-12-27T16:06:17.592Z"
   },
   {
    "duration": 875,
    "start_time": "2022-12-27T16:06:17.640Z"
   },
   {
    "duration": 10,
    "start_time": "2022-12-27T16:06:18.517Z"
   },
   {
    "duration": 25,
    "start_time": "2022-12-27T16:06:18.529Z"
   },
   {
    "duration": 21,
    "start_time": "2022-12-27T16:06:18.556Z"
   },
   {
    "duration": 5,
    "start_time": "2022-12-27T16:06:18.580Z"
   },
   {
    "duration": 12,
    "start_time": "2022-12-27T16:06:18.587Z"
   },
   {
    "duration": 6,
    "start_time": "2022-12-27T16:06:18.600Z"
   },
   {
    "duration": 13,
    "start_time": "2022-12-27T16:06:18.607Z"
   },
   {
    "duration": 13,
    "start_time": "2022-12-27T16:06:18.621Z"
   },
   {
    "duration": 430,
    "start_time": "2022-12-27T16:06:18.635Z"
   },
   {
    "duration": 742,
    "start_time": "2022-12-27T16:06:19.067Z"
   },
   {
    "duration": 419,
    "start_time": "2022-12-27T16:06:19.810Z"
   },
   {
    "duration": 16,
    "start_time": "2022-12-27T16:06:20.231Z"
   },
   {
    "duration": 91,
    "start_time": "2022-12-27T16:06:20.249Z"
   },
   {
    "duration": 10,
    "start_time": "2022-12-27T16:06:20.427Z"
   },
   {
    "duration": 132,
    "start_time": "2022-12-27T16:06:20.439Z"
   },
   {
    "duration": 455,
    "start_time": "2022-12-27T16:06:20.572Z"
   },
   {
    "duration": 3644,
    "start_time": "2022-12-27T16:06:21.029Z"
   },
   {
    "duration": 154,
    "start_time": "2022-12-27T16:06:24.674Z"
   },
   {
    "duration": 1046,
    "start_time": "2022-12-27T16:06:24.829Z"
   },
   {
    "duration": 16,
    "start_time": "2022-12-27T16:06:25.876Z"
   },
   {
    "duration": 216,
    "start_time": "2022-12-27T16:06:25.894Z"
   },
   {
    "duration": 1494,
    "start_time": "2022-12-27T16:06:26.113Z"
   },
   {
    "duration": 29,
    "start_time": "2022-12-27T16:06:27.609Z"
   },
   {
    "duration": 629,
    "start_time": "2022-12-27T16:06:27.639Z"
   },
   {
    "duration": 13,
    "start_time": "2022-12-27T16:06:28.269Z"
   },
   {
    "duration": 279,
    "start_time": "2022-12-27T16:06:28.284Z"
   },
   {
    "duration": 3313,
    "start_time": "2022-12-27T16:06:28.566Z"
   },
   {
    "duration": 149,
    "start_time": "2022-12-27T16:06:31.881Z"
   },
   {
    "duration": 1220,
    "start_time": "2022-12-27T16:06:32.031Z"
   },
   {
    "duration": 2674,
    "start_time": "2022-12-27T16:06:33.253Z"
   },
   {
    "duration": 73,
    "start_time": "2022-12-27T16:06:35.929Z"
   },
   {
    "duration": 749,
    "start_time": "2022-12-27T16:06:36.004Z"
   },
   {
    "duration": 567,
    "start_time": "2022-12-27T16:07:20.486Z"
   },
   {
    "duration": 743,
    "start_time": "2022-12-27T16:08:47.271Z"
   },
   {
    "duration": 1385,
    "start_time": "2022-12-27T16:09:14.378Z"
   },
   {
    "duration": 52,
    "start_time": "2022-12-27T16:09:15.765Z"
   },
   {
    "duration": 16,
    "start_time": "2022-12-27T16:09:15.818Z"
   },
   {
    "duration": 34,
    "start_time": "2022-12-27T16:09:15.835Z"
   },
   {
    "duration": 43,
    "start_time": "2022-12-27T16:09:15.871Z"
   },
   {
    "duration": 853,
    "start_time": "2022-12-27T16:09:15.916Z"
   },
   {
    "duration": 4,
    "start_time": "2022-12-27T16:09:16.771Z"
   },
   {
    "duration": 17,
    "start_time": "2022-12-27T16:09:16.776Z"
   },
   {
    "duration": 15,
    "start_time": "2022-12-27T16:09:16.794Z"
   },
   {
    "duration": 4,
    "start_time": "2022-12-27T16:09:16.826Z"
   },
   {
    "duration": 13,
    "start_time": "2022-12-27T16:09:16.832Z"
   },
   {
    "duration": 5,
    "start_time": "2022-12-27T16:09:16.846Z"
   },
   {
    "duration": 8,
    "start_time": "2022-12-27T16:09:16.853Z"
   },
   {
    "duration": 4,
    "start_time": "2022-12-27T16:09:16.864Z"
   },
   {
    "duration": 409,
    "start_time": "2022-12-27T16:09:16.869Z"
   },
   {
    "duration": 162,
    "start_time": "2022-12-27T16:09:17.279Z"
   },
   {
    "duration": 380,
    "start_time": "2022-12-27T16:09:17.443Z"
   },
   {
    "duration": 17,
    "start_time": "2022-12-27T16:09:17.826Z"
   },
   {
    "duration": 181,
    "start_time": "2022-12-27T16:09:17.844Z"
   },
   {
    "duration": 6,
    "start_time": "2022-12-27T16:09:18.028Z"
   },
   {
    "duration": 130,
    "start_time": "2022-12-27T16:09:18.035Z"
   },
   {
    "duration": 429,
    "start_time": "2022-12-27T16:09:18.167Z"
   },
   {
    "duration": 3610,
    "start_time": "2022-12-27T16:09:18.598Z"
   },
   {
    "duration": 28,
    "start_time": "2022-12-27T16:09:22.210Z"
   },
   {
    "duration": 1104,
    "start_time": "2022-12-27T16:09:22.239Z"
   },
   {
    "duration": 14,
    "start_time": "2022-12-27T16:09:23.345Z"
   },
   {
    "duration": 202,
    "start_time": "2022-12-27T16:09:23.360Z"
   },
   {
    "duration": 1531,
    "start_time": "2022-12-27T16:09:23.563Z"
   },
   {
    "duration": 131,
    "start_time": "2022-12-27T16:09:25.096Z"
   },
   {
    "duration": 612,
    "start_time": "2022-12-27T16:09:25.228Z"
   },
   {
    "duration": 15,
    "start_time": "2022-12-27T16:09:25.842Z"
   },
   {
    "duration": 283,
    "start_time": "2022-12-27T16:09:25.859Z"
   },
   {
    "duration": 3222,
    "start_time": "2022-12-27T16:09:26.143Z"
   },
   {
    "duration": 171,
    "start_time": "2022-12-27T16:09:29.367Z"
   },
   {
    "duration": 1124,
    "start_time": "2022-12-27T16:09:29.628Z"
   },
   {
    "duration": 2586,
    "start_time": "2022-12-27T16:09:30.753Z"
   },
   {
    "duration": 65,
    "start_time": "2022-12-27T16:09:33.341Z"
   },
   {
    "duration": 714,
    "start_time": "2022-12-27T16:09:33.408Z"
   },
   {
    "duration": 367,
    "start_time": "2022-12-27T16:10:16.155Z"
   },
   {
    "duration": 88,
    "start_time": "2022-12-27T16:10:43.824Z"
   },
   {
    "duration": 774,
    "start_time": "2022-12-27T16:11:37.942Z"
   },
   {
    "duration": 1365,
    "start_time": "2022-12-27T16:11:49.431Z"
   },
   {
    "duration": 52,
    "start_time": "2022-12-27T16:11:50.798Z"
   },
   {
    "duration": 14,
    "start_time": "2022-12-27T16:11:50.851Z"
   },
   {
    "duration": 26,
    "start_time": "2022-12-27T16:11:50.866Z"
   },
   {
    "duration": 41,
    "start_time": "2022-12-27T16:11:50.894Z"
   },
   {
    "duration": 845,
    "start_time": "2022-12-27T16:11:50.937Z"
   },
   {
    "duration": 4,
    "start_time": "2022-12-27T16:11:51.784Z"
   },
   {
    "duration": 21,
    "start_time": "2022-12-27T16:11:51.789Z"
   },
   {
    "duration": 28,
    "start_time": "2022-12-27T16:11:51.812Z"
   },
   {
    "duration": 5,
    "start_time": "2022-12-27T16:11:51.841Z"
   },
   {
    "duration": 21,
    "start_time": "2022-12-27T16:11:51.847Z"
   },
   {
    "duration": 16,
    "start_time": "2022-12-27T16:11:51.869Z"
   },
   {
    "duration": 10,
    "start_time": "2022-12-27T16:11:51.886Z"
   },
   {
    "duration": 8,
    "start_time": "2022-12-27T16:11:51.898Z"
   },
   {
    "duration": 375,
    "start_time": "2022-12-27T16:11:51.907Z"
   },
   {
    "duration": 792,
    "start_time": "2022-12-27T16:11:52.284Z"
   },
   {
    "duration": 414,
    "start_time": "2022-12-27T16:11:53.077Z"
   },
   {
    "duration": 16,
    "start_time": "2022-12-27T16:11:53.493Z"
   },
   {
    "duration": 219,
    "start_time": "2022-12-27T16:11:53.510Z"
   },
   {
    "duration": 6,
    "start_time": "2022-12-27T16:11:53.731Z"
   },
   {
    "duration": 205,
    "start_time": "2022-12-27T16:11:53.739Z"
   },
   {
    "duration": 442,
    "start_time": "2022-12-27T16:11:53.945Z"
   },
   {
    "duration": 3594,
    "start_time": "2022-12-27T16:11:54.389Z"
   },
   {
    "duration": 50,
    "start_time": "2022-12-27T16:11:57.985Z"
   },
   {
    "duration": 1099,
    "start_time": "2022-12-27T16:11:58.037Z"
   },
   {
    "duration": 14,
    "start_time": "2022-12-27T16:11:59.137Z"
   },
   {
    "duration": 197,
    "start_time": "2022-12-27T16:11:59.153Z"
   },
   {
    "duration": 1529,
    "start_time": "2022-12-27T16:11:59.351Z"
   },
   {
    "duration": 48,
    "start_time": "2022-12-27T16:12:00.881Z"
   },
   {
    "duration": 536,
    "start_time": "2022-12-27T16:12:00.930Z"
   },
   {
    "duration": 14,
    "start_time": "2022-12-27T16:12:01.468Z"
   },
   {
    "duration": 346,
    "start_time": "2022-12-27T16:12:01.483Z"
   },
   {
    "duration": 3399,
    "start_time": "2022-12-27T16:12:01.831Z"
   },
   {
    "duration": 100,
    "start_time": "2022-12-27T16:12:05.232Z"
   },
   {
    "duration": 1226,
    "start_time": "2022-12-27T16:12:05.334Z"
   },
   {
    "duration": 2572,
    "start_time": "2022-12-27T16:12:06.561Z"
   },
   {
    "duration": 68,
    "start_time": "2022-12-27T16:12:09.134Z"
   },
   {
    "duration": 764,
    "start_time": "2022-12-27T16:12:09.204Z"
   },
   {
    "duration": 1280,
    "start_time": "2022-12-27T16:13:39.260Z"
   },
   {
    "duration": 50,
    "start_time": "2022-12-27T16:13:40.542Z"
   },
   {
    "duration": 12,
    "start_time": "2022-12-27T16:13:40.594Z"
   },
   {
    "duration": 25,
    "start_time": "2022-12-27T16:13:40.608Z"
   },
   {
    "duration": 39,
    "start_time": "2022-12-27T16:13:40.636Z"
   },
   {
    "duration": 871,
    "start_time": "2022-12-27T16:13:40.676Z"
   },
   {
    "duration": 4,
    "start_time": "2022-12-27T16:13:41.549Z"
   },
   {
    "duration": 25,
    "start_time": "2022-12-27T16:13:41.554Z"
   },
   {
    "duration": 57,
    "start_time": "2022-12-27T16:13:41.581Z"
   },
   {
    "duration": 5,
    "start_time": "2022-12-27T16:13:41.640Z"
   },
   {
    "duration": 17,
    "start_time": "2022-12-27T16:13:41.647Z"
   },
   {
    "duration": 6,
    "start_time": "2022-12-27T16:13:41.665Z"
   },
   {
    "duration": 7,
    "start_time": "2022-12-27T16:13:41.673Z"
   },
   {
    "duration": 11,
    "start_time": "2022-12-27T16:13:41.683Z"
   },
   {
    "duration": 371,
    "start_time": "2022-12-27T16:13:41.695Z"
   },
   {
    "duration": 779,
    "start_time": "2022-12-27T16:13:42.068Z"
   },
   {
    "duration": 411,
    "start_time": "2022-12-27T16:13:42.850Z"
   },
   {
    "duration": 18,
    "start_time": "2022-12-27T16:13:43.262Z"
   },
   {
    "duration": 146,
    "start_time": "2022-12-27T16:13:43.281Z"
   },
   {
    "duration": 5,
    "start_time": "2022-12-27T16:13:43.429Z"
   },
   {
    "duration": 151,
    "start_time": "2022-12-27T16:13:43.436Z"
   },
   {
    "duration": 442,
    "start_time": "2022-12-27T16:13:43.588Z"
   },
   {
    "duration": 3577,
    "start_time": "2022-12-27T16:13:44.031Z"
   },
   {
    "duration": 31,
    "start_time": "2022-12-27T16:13:47.609Z"
   },
   {
    "duration": 942,
    "start_time": "2022-12-27T16:13:47.727Z"
   },
   {
    "duration": 14,
    "start_time": "2022-12-27T16:13:48.671Z"
   },
   {
    "duration": 191,
    "start_time": "2022-12-27T16:13:48.686Z"
   },
   {
    "duration": 1472,
    "start_time": "2022-12-27T16:13:48.879Z"
   },
   {
    "duration": 75,
    "start_time": "2022-12-27T16:13:50.352Z"
   },
   {
    "duration": 527,
    "start_time": "2022-12-27T16:13:50.430Z"
   },
   {
    "duration": 12,
    "start_time": "2022-12-27T16:13:50.959Z"
   },
   {
    "duration": 253,
    "start_time": "2022-12-27T16:13:50.973Z"
   },
   {
    "duration": 3382,
    "start_time": "2022-12-27T16:13:51.227Z"
   },
   {
    "duration": 217,
    "start_time": "2022-12-27T16:13:54.610Z"
   },
   {
    "duration": 1175,
    "start_time": "2022-12-27T16:13:54.829Z"
   },
   {
    "duration": 2480,
    "start_time": "2022-12-27T16:13:56.005Z"
   },
   {
    "duration": 76,
    "start_time": "2022-12-27T16:13:58.486Z"
   },
   {
    "duration": 726,
    "start_time": "2022-12-27T16:13:58.564Z"
   }
  ],
  "kernelspec": {
   "display_name": "Python 3 (ipykernel)",
   "language": "python",
   "name": "python3"
  },
  "language_info": {
   "codemirror_mode": {
    "name": "ipython",
    "version": 3
   },
   "file_extension": ".py",
   "mimetype": "text/x-python",
   "name": "python",
   "nbconvert_exporter": "python",
   "pygments_lexer": "ipython3",
   "version": "3.9.5"
  },
  "toc": {
   "base_numbering": 1,
   "nav_menu": {},
   "number_sections": true,
   "sideBar": true,
   "skip_h1_title": true,
   "title_cell": "Содержание",
   "title_sidebar": "Contents",
   "toc_cell": true,
   "toc_position": {
    "height": "calc(100% - 180px)",
    "left": "10px",
    "top": "150px",
    "width": "165px"
   },
   "toc_section_display": true,
   "toc_window_display": true
  }
 },
 "nbformat": 4,
 "nbformat_minor": 2
}
