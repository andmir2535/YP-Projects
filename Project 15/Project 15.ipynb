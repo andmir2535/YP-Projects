{
 "cells": [
  {
   "cell_type": "markdown",
   "metadata": {},
   "source": [
    "# Оператор связи «Ниединогоразрыва.ком»"
   ]
  },
  {
   "cell_type": "markdown",
   "metadata": {},
   "source": [
    "### Содержание\n",
    "**1. [Введение](#section_id_1)**  \n",
    "**2. [План работы](#section_id_2)**  \n",
    "**3. [Ознакомление с данными](#section_id_3)**  \n",
    "**4. [Подготовка данных](#section_id_4)**  \n",
    "**5. [Исследование данных](#section_id_5)**  \n",
    "**6. [Обучение модели](#section_id_6)**\n",
    "   1. [Модель CatBoostClassifier](#section_id_6_1)  \n",
    "   2. [Модель LogisticRegression](#section_id_6_2)  \n",
    "   3. [Модель RandomForestClassifier](#section_id_6_3)  \n",
    "   **7. [Итоговая модель](#section_id_7)**  \n",
    "   **8. [Отчёт по решению](#section_id_8)**"
   ]
  },
  {
   "cell_type": "markdown",
   "metadata": {},
   "source": [
    "<a id='section_id_1'></a>\n",
    "## Введение"
   ]
  },
  {
   "cell_type": "markdown",
   "metadata": {},
   "source": [
    "В данном проекте мы будем работать с данными оператора связи \"Ниединогоразрыва.ком\". Задача проекта - построить модель, которая будет прогнозировать отток клиентов. Если оператор сможет определить, что клиент собирается уйти, он сможет предложить ему специальные условия и промокоды, которые смогут удержать клиента и остановить его отток.\n",
    "\n",
    "Для решения данной задачи мы будем использовать данные о договорах, персональных данных клиентов и информации об их тарифах и услугах, предоставленные оператором связи \"Ниединогоразрыва.ком\". Мы проведем анализ данных и построим модель машинного обучения, которая сможет прогнозировать отток клиентов с высокой точностью."
   ]
  },
  {
   "cell_type": "markdown",
   "metadata": {},
   "source": [
    "**Условия задачи:**  \n",
    "\n",
    "На протяжении всего проекта должна быть использована константа **RANDOM_STATE = 80523**."
   ]
  },
  {
   "cell_type": "markdown",
   "metadata": {},
   "source": [
    "<a id='section_id_2'></a>\n",
    "## План работы\n",
    "\n",
    "\n",
    "1. Загрузить и ознакомиться с данными.\n",
    "2. Изучить данные: посмотреть на первые 5 строк и размер таблиц, проверить наличие пропусков и дубликатов, оценить типы данных.\n",
    "3. Обработать данные: привести названия колонок к нижнему регистру, обработать пропуски и ошибки, преобразовать типы данных, удалить дубликаты.  \n",
    "4. Провести предварительный анализ данных: построить гистограммы, боксплоты, корреляцию, найти взаимосвязи в таблице.\n",
    "5. Удалить или добавить признаки, которые могут улучшить качество модели.\n",
    "6. Разбить данные на тренировочную, валидационную и тестовую выборки.\n",
    "7. Выровнять и сбалансировать классы, если будет необходимо.\n",
    "8. Обучить несколько моделей, предварительно подобрав для них лучшие параметры, нужно обязательно использовать метрики ROC-AUC и добиваться значения >0.85, accuracy.\n",
    "9. Выбрать лучшую модель и проверить её работоспособность на тестовых данных.\n",
    "10. Проверить модель на адекватность, например, используя DummyClassifier.\n",
    "11. Оформить проект, написать выводы, отчёты и предложения по улучшению бизнес-процессов.  \n",
    "12. Доработать проект.\n",
    "13. Написать отчёт о проделанной работе.\n",
    "\n"
   ]
  },
  {
   "cell_type": "markdown",
   "metadata": {},
   "source": [
    "<a id='section_id_3'></a>\n",
    "## Ознакомление с данными"
   ]
  },
  {
   "cell_type": "code",
   "execution_count": 1,
   "metadata": {},
   "outputs": [
    {
     "name": "stdout",
     "output_type": "stream",
     "text": [
      "Requirement already satisfied: phik in /opt/conda/lib/python3.9/site-packages (0.12.3)\n",
      "Requirement already satisfied: numpy>=1.18.0 in /opt/conda/lib/python3.9/site-packages (from phik) (1.21.1)\n",
      "Requirement already satisfied: joblib>=0.14.1 in /opt/conda/lib/python3.9/site-packages (from phik) (1.1.0)\n",
      "Requirement already satisfied: scipy>=1.5.2 in /opt/conda/lib/python3.9/site-packages (from phik) (1.9.1)\n",
      "Requirement already satisfied: pandas>=0.25.1 in /opt/conda/lib/python3.9/site-packages (from phik) (1.2.4)\n",
      "Requirement already satisfied: matplotlib>=2.2.3 in /opt/conda/lib/python3.9/site-packages (from phik) (3.3.4)\n",
      "Requirement already satisfied: kiwisolver>=1.0.1 in /opt/conda/lib/python3.9/site-packages (from matplotlib>=2.2.3->phik) (1.4.4)\n",
      "Requirement already satisfied: python-dateutil>=2.1 in /opt/conda/lib/python3.9/site-packages (from matplotlib>=2.2.3->phik) (2.8.1)\n",
      "Requirement already satisfied: cycler>=0.10 in /opt/conda/lib/python3.9/site-packages (from matplotlib>=2.2.3->phik) (0.11.0)\n",
      "Requirement already satisfied: pyparsing!=2.0.4,!=2.1.2,!=2.1.6,>=2.0.3 in /opt/conda/lib/python3.9/site-packages (from matplotlib>=2.2.3->phik) (2.4.7)\n",
      "Requirement already satisfied: pillow>=6.2.0 in /opt/conda/lib/python3.9/site-packages (from matplotlib>=2.2.3->phik) (8.4.0)\n",
      "Requirement already satisfied: pytz>=2017.3 in /opt/conda/lib/python3.9/site-packages (from pandas>=0.25.1->phik) (2021.1)\n",
      "Requirement already satisfied: six>=1.5 in /opt/conda/lib/python3.9/site-packages (from python-dateutil>=2.1->matplotlib>=2.2.3->phik) (1.16.0)\n"
     ]
    }
   ],
   "source": [
    "!pip install phik"
   ]
  },
  {
   "cell_type": "code",
   "execution_count": 2,
   "metadata": {},
   "outputs": [],
   "source": [
    "import pandas as pd\n",
    "import numpy as np\n",
    "import seaborn as sns\n",
    "import matplotlib.pyplot as plt\n",
    "import phik\n",
    "\n",
    "from sklearn import metrics\n",
    "from sklearn.metrics import accuracy_score, confusion_matrix, roc_auc_score, roc_curve\n",
    "from sklearn.preprocessing import LabelEncoder, OneHotEncoder, OrdinalEncoder, StandardScaler\n",
    "from sklearn.model_selection import train_test_split, GridSearchCV, cross_val_score\n",
    "from sklearn.compose import ColumnTransformer\n",
    "from sklearn.linear_model import LogisticRegression\n",
    "from sklearn.pipeline import Pipeline\n",
    "from sklearn.ensemble import GradientBoostingClassifier, RandomForestClassifier\n",
    "from catboost import CatBoostClassifier\n",
    "from sklearn.dummy import DummyClassifier"
   ]
  },
  {
   "cell_type": "code",
   "execution_count": 3,
   "metadata": {},
   "outputs": [],
   "source": [
    "contract = pd.read_csv('/datasets/contract_new.csv')\n",
    "personal = pd.read_csv('/datasets/personal_new.csv')\n",
    "internet = pd.read_csv('/datasets/internet_new.csv')\n",
    "phone = pd.read_csv('/datasets/phone_new.csv')"
   ]
  },
  {
   "cell_type": "markdown",
   "metadata": {},
   "source": [
    "Напишем функцию для первичного просмотра данных"
   ]
  },
  {
   "cell_type": "code",
   "execution_count": 4,
   "metadata": {},
   "outputs": [],
   "source": [
    "def preview(df):\n",
    "    print(\"Первые 5 строк таблицы:\")\n",
    "    display(df.head())\n",
    "    print(\"\\nРазмер таблицы:\")\n",
    "    display(df.shape)\n",
    "    print(\"\\nСтатистические характеристики:\")\n",
    "    display(df.describe())\n",
    "    print(\"\\nИнформация о данных в таблице:\")\n",
    "    display(df.info())\n",
    "    print(\"\\nКоличество дубликатов:\")\n",
    "    display(df.duplicated().sum())\n",
    "    print(\"\\nКоличество уникальных значений для каждого столбца:\")\n",
    "    for column in df.columns:\n",
    "        print(f\"{column}: {df[column].nunique()}\")"
   ]
  },
  {
   "cell_type": "code",
   "execution_count": 5,
   "metadata": {},
   "outputs": [
    {
     "name": "stdout",
     "output_type": "stream",
     "text": [
      "Первые 5 строк таблицы:\n"
     ]
    },
    {
     "data": {
      "text/html": [
       "<div>\n",
       "<style scoped>\n",
       "    .dataframe tbody tr th:only-of-type {\n",
       "        vertical-align: middle;\n",
       "    }\n",
       "\n",
       "    .dataframe tbody tr th {\n",
       "        vertical-align: top;\n",
       "    }\n",
       "\n",
       "    .dataframe thead th {\n",
       "        text-align: right;\n",
       "    }\n",
       "</style>\n",
       "<table border=\"1\" class=\"dataframe\">\n",
       "  <thead>\n",
       "    <tr style=\"text-align: right;\">\n",
       "      <th></th>\n",
       "      <th>customerID</th>\n",
       "      <th>BeginDate</th>\n",
       "      <th>EndDate</th>\n",
       "      <th>Type</th>\n",
       "      <th>PaperlessBilling</th>\n",
       "      <th>PaymentMethod</th>\n",
       "      <th>MonthlyCharges</th>\n",
       "      <th>TotalCharges</th>\n",
       "    </tr>\n",
       "  </thead>\n",
       "  <tbody>\n",
       "    <tr>\n",
       "      <th>0</th>\n",
       "      <td>7590-VHVEG</td>\n",
       "      <td>2020-01-01</td>\n",
       "      <td>No</td>\n",
       "      <td>Month-to-month</td>\n",
       "      <td>Yes</td>\n",
       "      <td>Electronic check</td>\n",
       "      <td>29.85</td>\n",
       "      <td>31.04</td>\n",
       "    </tr>\n",
       "    <tr>\n",
       "      <th>1</th>\n",
       "      <td>5575-GNVDE</td>\n",
       "      <td>2017-04-01</td>\n",
       "      <td>No</td>\n",
       "      <td>One year</td>\n",
       "      <td>No</td>\n",
       "      <td>Mailed check</td>\n",
       "      <td>56.95</td>\n",
       "      <td>2071.84</td>\n",
       "    </tr>\n",
       "    <tr>\n",
       "      <th>2</th>\n",
       "      <td>3668-QPYBK</td>\n",
       "      <td>2019-10-01</td>\n",
       "      <td>No</td>\n",
       "      <td>Month-to-month</td>\n",
       "      <td>Yes</td>\n",
       "      <td>Mailed check</td>\n",
       "      <td>53.85</td>\n",
       "      <td>226.17</td>\n",
       "    </tr>\n",
       "    <tr>\n",
       "      <th>3</th>\n",
       "      <td>7795-CFOCW</td>\n",
       "      <td>2016-05-01</td>\n",
       "      <td>No</td>\n",
       "      <td>One year</td>\n",
       "      <td>No</td>\n",
       "      <td>Bank transfer (automatic)</td>\n",
       "      <td>42.30</td>\n",
       "      <td>1960.6</td>\n",
       "    </tr>\n",
       "    <tr>\n",
       "      <th>4</th>\n",
       "      <td>9237-HQITU</td>\n",
       "      <td>2019-09-01</td>\n",
       "      <td>No</td>\n",
       "      <td>Month-to-month</td>\n",
       "      <td>Yes</td>\n",
       "      <td>Electronic check</td>\n",
       "      <td>70.70</td>\n",
       "      <td>353.5</td>\n",
       "    </tr>\n",
       "  </tbody>\n",
       "</table>\n",
       "</div>"
      ],
      "text/plain": [
       "   customerID   BeginDate EndDate            Type PaperlessBilling  \\\n",
       "0  7590-VHVEG  2020-01-01      No  Month-to-month              Yes   \n",
       "1  5575-GNVDE  2017-04-01      No        One year               No   \n",
       "2  3668-QPYBK  2019-10-01      No  Month-to-month              Yes   \n",
       "3  7795-CFOCW  2016-05-01      No        One year               No   \n",
       "4  9237-HQITU  2019-09-01      No  Month-to-month              Yes   \n",
       "\n",
       "               PaymentMethod  MonthlyCharges TotalCharges  \n",
       "0           Electronic check           29.85        31.04  \n",
       "1               Mailed check           56.95      2071.84  \n",
       "2               Mailed check           53.85       226.17  \n",
       "3  Bank transfer (automatic)           42.30       1960.6  \n",
       "4           Electronic check           70.70        353.5  "
      ]
     },
     "metadata": {},
     "output_type": "display_data"
    },
    {
     "name": "stdout",
     "output_type": "stream",
     "text": [
      "\n",
      "Размер таблицы:\n"
     ]
    },
    {
     "data": {
      "text/plain": [
       "(7043, 8)"
      ]
     },
     "metadata": {},
     "output_type": "display_data"
    },
    {
     "name": "stdout",
     "output_type": "stream",
     "text": [
      "\n",
      "Статистические характеристики:\n"
     ]
    },
    {
     "data": {
      "text/html": [
       "<div>\n",
       "<style scoped>\n",
       "    .dataframe tbody tr th:only-of-type {\n",
       "        vertical-align: middle;\n",
       "    }\n",
       "\n",
       "    .dataframe tbody tr th {\n",
       "        vertical-align: top;\n",
       "    }\n",
       "\n",
       "    .dataframe thead th {\n",
       "        text-align: right;\n",
       "    }\n",
       "</style>\n",
       "<table border=\"1\" class=\"dataframe\">\n",
       "  <thead>\n",
       "    <tr style=\"text-align: right;\">\n",
       "      <th></th>\n",
       "      <th>MonthlyCharges</th>\n",
       "    </tr>\n",
       "  </thead>\n",
       "  <tbody>\n",
       "    <tr>\n",
       "      <th>count</th>\n",
       "      <td>7043.000000</td>\n",
       "    </tr>\n",
       "    <tr>\n",
       "      <th>mean</th>\n",
       "      <td>64.761692</td>\n",
       "    </tr>\n",
       "    <tr>\n",
       "      <th>std</th>\n",
       "      <td>30.090047</td>\n",
       "    </tr>\n",
       "    <tr>\n",
       "      <th>min</th>\n",
       "      <td>18.250000</td>\n",
       "    </tr>\n",
       "    <tr>\n",
       "      <th>25%</th>\n",
       "      <td>35.500000</td>\n",
       "    </tr>\n",
       "    <tr>\n",
       "      <th>50%</th>\n",
       "      <td>70.350000</td>\n",
       "    </tr>\n",
       "    <tr>\n",
       "      <th>75%</th>\n",
       "      <td>89.850000</td>\n",
       "    </tr>\n",
       "    <tr>\n",
       "      <th>max</th>\n",
       "      <td>118.750000</td>\n",
       "    </tr>\n",
       "  </tbody>\n",
       "</table>\n",
       "</div>"
      ],
      "text/plain": [
       "       MonthlyCharges\n",
       "count     7043.000000\n",
       "mean        64.761692\n",
       "std         30.090047\n",
       "min         18.250000\n",
       "25%         35.500000\n",
       "50%         70.350000\n",
       "75%         89.850000\n",
       "max        118.750000"
      ]
     },
     "metadata": {},
     "output_type": "display_data"
    },
    {
     "name": "stdout",
     "output_type": "stream",
     "text": [
      "\n",
      "Информация о данных в таблице:\n",
      "<class 'pandas.core.frame.DataFrame'>\n",
      "RangeIndex: 7043 entries, 0 to 7042\n",
      "Data columns (total 8 columns):\n",
      " #   Column            Non-Null Count  Dtype  \n",
      "---  ------            --------------  -----  \n",
      " 0   customerID        7043 non-null   object \n",
      " 1   BeginDate         7043 non-null   object \n",
      " 2   EndDate           7043 non-null   object \n",
      " 3   Type              7043 non-null   object \n",
      " 4   PaperlessBilling  7043 non-null   object \n",
      " 5   PaymentMethod     7043 non-null   object \n",
      " 6   MonthlyCharges    7043 non-null   float64\n",
      " 7   TotalCharges      7043 non-null   object \n",
      "dtypes: float64(1), object(7)\n",
      "memory usage: 440.3+ KB\n"
     ]
    },
    {
     "data": {
      "text/plain": [
       "None"
      ]
     },
     "metadata": {},
     "output_type": "display_data"
    },
    {
     "name": "stdout",
     "output_type": "stream",
     "text": [
      "\n",
      "Количество дубликатов:\n"
     ]
    },
    {
     "data": {
      "text/plain": [
       "0"
      ]
     },
     "metadata": {},
     "output_type": "display_data"
    },
    {
     "name": "stdout",
     "output_type": "stream",
     "text": [
      "\n",
      "Количество уникальных значений для каждого столбца:\n",
      "customerID: 7043\n",
      "BeginDate: 77\n",
      "EndDate: 67\n",
      "Type: 3\n",
      "PaperlessBilling: 2\n",
      "PaymentMethod: 4\n",
      "MonthlyCharges: 1585\n",
      "TotalCharges: 6658\n"
     ]
    }
   ],
   "source": [
    "preview(contract)"
   ]
  },
  {
   "cell_type": "markdown",
   "metadata": {},
   "source": [
    "В датасете \"contract\" 7043 строки данных клиентов, следует обратить внимание на колонки \"BeginDate\" и EndDate, которые записаны в тип данных object. Возможно, эти данные должны быть переведены в тип данных datetime. Также неверно записаны данные в колонке TotalCharges, указан тип данных object, хотя сами данные записаны в формате число с точкой. Стоит отметить, что данные не приведены к нижнему регистру. Дубликаты и пропущенные данные отсутствуют."
   ]
  },
  {
   "cell_type": "code",
   "execution_count": 6,
   "metadata": {},
   "outputs": [
    {
     "name": "stdout",
     "output_type": "stream",
     "text": [
      "Первые 5 строк таблицы:\n"
     ]
    },
    {
     "data": {
      "text/html": [
       "<div>\n",
       "<style scoped>\n",
       "    .dataframe tbody tr th:only-of-type {\n",
       "        vertical-align: middle;\n",
       "    }\n",
       "\n",
       "    .dataframe tbody tr th {\n",
       "        vertical-align: top;\n",
       "    }\n",
       "\n",
       "    .dataframe thead th {\n",
       "        text-align: right;\n",
       "    }\n",
       "</style>\n",
       "<table border=\"1\" class=\"dataframe\">\n",
       "  <thead>\n",
       "    <tr style=\"text-align: right;\">\n",
       "      <th></th>\n",
       "      <th>customerID</th>\n",
       "      <th>gender</th>\n",
       "      <th>SeniorCitizen</th>\n",
       "      <th>Partner</th>\n",
       "      <th>Dependents</th>\n",
       "    </tr>\n",
       "  </thead>\n",
       "  <tbody>\n",
       "    <tr>\n",
       "      <th>0</th>\n",
       "      <td>7590-VHVEG</td>\n",
       "      <td>Female</td>\n",
       "      <td>0</td>\n",
       "      <td>Yes</td>\n",
       "      <td>No</td>\n",
       "    </tr>\n",
       "    <tr>\n",
       "      <th>1</th>\n",
       "      <td>5575-GNVDE</td>\n",
       "      <td>Male</td>\n",
       "      <td>0</td>\n",
       "      <td>No</td>\n",
       "      <td>No</td>\n",
       "    </tr>\n",
       "    <tr>\n",
       "      <th>2</th>\n",
       "      <td>3668-QPYBK</td>\n",
       "      <td>Male</td>\n",
       "      <td>0</td>\n",
       "      <td>No</td>\n",
       "      <td>No</td>\n",
       "    </tr>\n",
       "    <tr>\n",
       "      <th>3</th>\n",
       "      <td>7795-CFOCW</td>\n",
       "      <td>Male</td>\n",
       "      <td>0</td>\n",
       "      <td>No</td>\n",
       "      <td>No</td>\n",
       "    </tr>\n",
       "    <tr>\n",
       "      <th>4</th>\n",
       "      <td>9237-HQITU</td>\n",
       "      <td>Female</td>\n",
       "      <td>0</td>\n",
       "      <td>No</td>\n",
       "      <td>No</td>\n",
       "    </tr>\n",
       "  </tbody>\n",
       "</table>\n",
       "</div>"
      ],
      "text/plain": [
       "   customerID  gender  SeniorCitizen Partner Dependents\n",
       "0  7590-VHVEG  Female              0     Yes         No\n",
       "1  5575-GNVDE    Male              0      No         No\n",
       "2  3668-QPYBK    Male              0      No         No\n",
       "3  7795-CFOCW    Male              0      No         No\n",
       "4  9237-HQITU  Female              0      No         No"
      ]
     },
     "metadata": {},
     "output_type": "display_data"
    },
    {
     "name": "stdout",
     "output_type": "stream",
     "text": [
      "\n",
      "Размер таблицы:\n"
     ]
    },
    {
     "data": {
      "text/plain": [
       "(7043, 5)"
      ]
     },
     "metadata": {},
     "output_type": "display_data"
    },
    {
     "name": "stdout",
     "output_type": "stream",
     "text": [
      "\n",
      "Статистические характеристики:\n"
     ]
    },
    {
     "data": {
      "text/html": [
       "<div>\n",
       "<style scoped>\n",
       "    .dataframe tbody tr th:only-of-type {\n",
       "        vertical-align: middle;\n",
       "    }\n",
       "\n",
       "    .dataframe tbody tr th {\n",
       "        vertical-align: top;\n",
       "    }\n",
       "\n",
       "    .dataframe thead th {\n",
       "        text-align: right;\n",
       "    }\n",
       "</style>\n",
       "<table border=\"1\" class=\"dataframe\">\n",
       "  <thead>\n",
       "    <tr style=\"text-align: right;\">\n",
       "      <th></th>\n",
       "      <th>SeniorCitizen</th>\n",
       "    </tr>\n",
       "  </thead>\n",
       "  <tbody>\n",
       "    <tr>\n",
       "      <th>count</th>\n",
       "      <td>7043.000000</td>\n",
       "    </tr>\n",
       "    <tr>\n",
       "      <th>mean</th>\n",
       "      <td>0.162147</td>\n",
       "    </tr>\n",
       "    <tr>\n",
       "      <th>std</th>\n",
       "      <td>0.368612</td>\n",
       "    </tr>\n",
       "    <tr>\n",
       "      <th>min</th>\n",
       "      <td>0.000000</td>\n",
       "    </tr>\n",
       "    <tr>\n",
       "      <th>25%</th>\n",
       "      <td>0.000000</td>\n",
       "    </tr>\n",
       "    <tr>\n",
       "      <th>50%</th>\n",
       "      <td>0.000000</td>\n",
       "    </tr>\n",
       "    <tr>\n",
       "      <th>75%</th>\n",
       "      <td>0.000000</td>\n",
       "    </tr>\n",
       "    <tr>\n",
       "      <th>max</th>\n",
       "      <td>1.000000</td>\n",
       "    </tr>\n",
       "  </tbody>\n",
       "</table>\n",
       "</div>"
      ],
      "text/plain": [
       "       SeniorCitizen\n",
       "count    7043.000000\n",
       "mean        0.162147\n",
       "std         0.368612\n",
       "min         0.000000\n",
       "25%         0.000000\n",
       "50%         0.000000\n",
       "75%         0.000000\n",
       "max         1.000000"
      ]
     },
     "metadata": {},
     "output_type": "display_data"
    },
    {
     "name": "stdout",
     "output_type": "stream",
     "text": [
      "\n",
      "Информация о данных в таблице:\n",
      "<class 'pandas.core.frame.DataFrame'>\n",
      "RangeIndex: 7043 entries, 0 to 7042\n",
      "Data columns (total 5 columns):\n",
      " #   Column         Non-Null Count  Dtype \n",
      "---  ------         --------------  ----- \n",
      " 0   customerID     7043 non-null   object\n",
      " 1   gender         7043 non-null   object\n",
      " 2   SeniorCitizen  7043 non-null   int64 \n",
      " 3   Partner        7043 non-null   object\n",
      " 4   Dependents     7043 non-null   object\n",
      "dtypes: int64(1), object(4)\n",
      "memory usage: 275.2+ KB\n"
     ]
    },
    {
     "data": {
      "text/plain": [
       "None"
      ]
     },
     "metadata": {},
     "output_type": "display_data"
    },
    {
     "name": "stdout",
     "output_type": "stream",
     "text": [
      "\n",
      "Количество дубликатов:\n"
     ]
    },
    {
     "data": {
      "text/plain": [
       "0"
      ]
     },
     "metadata": {},
     "output_type": "display_data"
    },
    {
     "name": "stdout",
     "output_type": "stream",
     "text": [
      "\n",
      "Количество уникальных значений для каждого столбца:\n",
      "customerID: 7043\n",
      "gender: 2\n",
      "SeniorCitizen: 2\n",
      "Partner: 2\n",
      "Dependents: 2\n"
     ]
    }
   ],
   "source": [
    "preview(personal)"
   ]
  },
  {
   "cell_type": "markdown",
   "metadata": {},
   "source": [
    "Датасет *personal* содержит информацию о клиентах телекоммуникационной компании, включая их пол, возраст, наличие партнера и иждивенцев, а также информацию о пенсионном статусе. Размер таблицы составляет 7043 строк и 5 столбцов, что полностью совпадает с датасетом *contacts*. Тип данных у всех колонок соответствует содержимому, то есть указан верно. Данные также не приведены к нижнему регистру. Пропусков и дубликатов нет. "
   ]
  },
  {
   "cell_type": "code",
   "execution_count": 7,
   "metadata": {
    "scrolled": true
   },
   "outputs": [
    {
     "name": "stdout",
     "output_type": "stream",
     "text": [
      "Первые 5 строк таблицы:\n"
     ]
    },
    {
     "data": {
      "text/html": [
       "<div>\n",
       "<style scoped>\n",
       "    .dataframe tbody tr th:only-of-type {\n",
       "        vertical-align: middle;\n",
       "    }\n",
       "\n",
       "    .dataframe tbody tr th {\n",
       "        vertical-align: top;\n",
       "    }\n",
       "\n",
       "    .dataframe thead th {\n",
       "        text-align: right;\n",
       "    }\n",
       "</style>\n",
       "<table border=\"1\" class=\"dataframe\">\n",
       "  <thead>\n",
       "    <tr style=\"text-align: right;\">\n",
       "      <th></th>\n",
       "      <th>customerID</th>\n",
       "      <th>InternetService</th>\n",
       "      <th>OnlineSecurity</th>\n",
       "      <th>OnlineBackup</th>\n",
       "      <th>DeviceProtection</th>\n",
       "      <th>TechSupport</th>\n",
       "      <th>StreamingTV</th>\n",
       "      <th>StreamingMovies</th>\n",
       "    </tr>\n",
       "  </thead>\n",
       "  <tbody>\n",
       "    <tr>\n",
       "      <th>0</th>\n",
       "      <td>7590-VHVEG</td>\n",
       "      <td>DSL</td>\n",
       "      <td>No</td>\n",
       "      <td>Yes</td>\n",
       "      <td>No</td>\n",
       "      <td>No</td>\n",
       "      <td>No</td>\n",
       "      <td>No</td>\n",
       "    </tr>\n",
       "    <tr>\n",
       "      <th>1</th>\n",
       "      <td>5575-GNVDE</td>\n",
       "      <td>DSL</td>\n",
       "      <td>Yes</td>\n",
       "      <td>No</td>\n",
       "      <td>Yes</td>\n",
       "      <td>No</td>\n",
       "      <td>No</td>\n",
       "      <td>No</td>\n",
       "    </tr>\n",
       "    <tr>\n",
       "      <th>2</th>\n",
       "      <td>3668-QPYBK</td>\n",
       "      <td>DSL</td>\n",
       "      <td>Yes</td>\n",
       "      <td>Yes</td>\n",
       "      <td>No</td>\n",
       "      <td>No</td>\n",
       "      <td>No</td>\n",
       "      <td>No</td>\n",
       "    </tr>\n",
       "    <tr>\n",
       "      <th>3</th>\n",
       "      <td>7795-CFOCW</td>\n",
       "      <td>DSL</td>\n",
       "      <td>Yes</td>\n",
       "      <td>No</td>\n",
       "      <td>Yes</td>\n",
       "      <td>Yes</td>\n",
       "      <td>No</td>\n",
       "      <td>No</td>\n",
       "    </tr>\n",
       "    <tr>\n",
       "      <th>4</th>\n",
       "      <td>9237-HQITU</td>\n",
       "      <td>Fiber optic</td>\n",
       "      <td>No</td>\n",
       "      <td>No</td>\n",
       "      <td>No</td>\n",
       "      <td>No</td>\n",
       "      <td>No</td>\n",
       "      <td>No</td>\n",
       "    </tr>\n",
       "  </tbody>\n",
       "</table>\n",
       "</div>"
      ],
      "text/plain": [
       "   customerID InternetService OnlineSecurity OnlineBackup DeviceProtection  \\\n",
       "0  7590-VHVEG             DSL             No          Yes               No   \n",
       "1  5575-GNVDE             DSL            Yes           No              Yes   \n",
       "2  3668-QPYBK             DSL            Yes          Yes               No   \n",
       "3  7795-CFOCW             DSL            Yes           No              Yes   \n",
       "4  9237-HQITU     Fiber optic             No           No               No   \n",
       "\n",
       "  TechSupport StreamingTV StreamingMovies  \n",
       "0          No          No              No  \n",
       "1          No          No              No  \n",
       "2          No          No              No  \n",
       "3         Yes          No              No  \n",
       "4          No          No              No  "
      ]
     },
     "metadata": {},
     "output_type": "display_data"
    },
    {
     "name": "stdout",
     "output_type": "stream",
     "text": [
      "\n",
      "Размер таблицы:\n"
     ]
    },
    {
     "data": {
      "text/plain": [
       "(5517, 8)"
      ]
     },
     "metadata": {},
     "output_type": "display_data"
    },
    {
     "name": "stdout",
     "output_type": "stream",
     "text": [
      "\n",
      "Статистические характеристики:\n"
     ]
    },
    {
     "data": {
      "text/html": [
       "<div>\n",
       "<style scoped>\n",
       "    .dataframe tbody tr th:only-of-type {\n",
       "        vertical-align: middle;\n",
       "    }\n",
       "\n",
       "    .dataframe tbody tr th {\n",
       "        vertical-align: top;\n",
       "    }\n",
       "\n",
       "    .dataframe thead th {\n",
       "        text-align: right;\n",
       "    }\n",
       "</style>\n",
       "<table border=\"1\" class=\"dataframe\">\n",
       "  <thead>\n",
       "    <tr style=\"text-align: right;\">\n",
       "      <th></th>\n",
       "      <th>customerID</th>\n",
       "      <th>InternetService</th>\n",
       "      <th>OnlineSecurity</th>\n",
       "      <th>OnlineBackup</th>\n",
       "      <th>DeviceProtection</th>\n",
       "      <th>TechSupport</th>\n",
       "      <th>StreamingTV</th>\n",
       "      <th>StreamingMovies</th>\n",
       "    </tr>\n",
       "  </thead>\n",
       "  <tbody>\n",
       "    <tr>\n",
       "      <th>count</th>\n",
       "      <td>5517</td>\n",
       "      <td>5517</td>\n",
       "      <td>5517</td>\n",
       "      <td>5517</td>\n",
       "      <td>5517</td>\n",
       "      <td>5517</td>\n",
       "      <td>5517</td>\n",
       "      <td>5517</td>\n",
       "    </tr>\n",
       "    <tr>\n",
       "      <th>unique</th>\n",
       "      <td>5517</td>\n",
       "      <td>2</td>\n",
       "      <td>2</td>\n",
       "      <td>2</td>\n",
       "      <td>2</td>\n",
       "      <td>2</td>\n",
       "      <td>2</td>\n",
       "      <td>2</td>\n",
       "    </tr>\n",
       "    <tr>\n",
       "      <th>top</th>\n",
       "      <td>1402-PTHGN</td>\n",
       "      <td>Fiber optic</td>\n",
       "      <td>No</td>\n",
       "      <td>No</td>\n",
       "      <td>No</td>\n",
       "      <td>No</td>\n",
       "      <td>No</td>\n",
       "      <td>No</td>\n",
       "    </tr>\n",
       "    <tr>\n",
       "      <th>freq</th>\n",
       "      <td>1</td>\n",
       "      <td>3096</td>\n",
       "      <td>3498</td>\n",
       "      <td>3088</td>\n",
       "      <td>3095</td>\n",
       "      <td>3473</td>\n",
       "      <td>2810</td>\n",
       "      <td>2785</td>\n",
       "    </tr>\n",
       "  </tbody>\n",
       "</table>\n",
       "</div>"
      ],
      "text/plain": [
       "        customerID InternetService OnlineSecurity OnlineBackup  \\\n",
       "count         5517            5517           5517         5517   \n",
       "unique        5517               2              2            2   \n",
       "top     1402-PTHGN     Fiber optic             No           No   \n",
       "freq             1            3096           3498         3088   \n",
       "\n",
       "       DeviceProtection TechSupport StreamingTV StreamingMovies  \n",
       "count              5517        5517        5517            5517  \n",
       "unique                2           2           2               2  \n",
       "top                  No          No          No              No  \n",
       "freq               3095        3473        2810            2785  "
      ]
     },
     "metadata": {},
     "output_type": "display_data"
    },
    {
     "name": "stdout",
     "output_type": "stream",
     "text": [
      "\n",
      "Информация о данных в таблице:\n",
      "<class 'pandas.core.frame.DataFrame'>\n",
      "RangeIndex: 5517 entries, 0 to 5516\n",
      "Data columns (total 8 columns):\n",
      " #   Column            Non-Null Count  Dtype \n",
      "---  ------            --------------  ----- \n",
      " 0   customerID        5517 non-null   object\n",
      " 1   InternetService   5517 non-null   object\n",
      " 2   OnlineSecurity    5517 non-null   object\n",
      " 3   OnlineBackup      5517 non-null   object\n",
      " 4   DeviceProtection  5517 non-null   object\n",
      " 5   TechSupport       5517 non-null   object\n",
      " 6   StreamingTV       5517 non-null   object\n",
      " 7   StreamingMovies   5517 non-null   object\n",
      "dtypes: object(8)\n",
      "memory usage: 344.9+ KB\n"
     ]
    },
    {
     "data": {
      "text/plain": [
       "None"
      ]
     },
     "metadata": {},
     "output_type": "display_data"
    },
    {
     "name": "stdout",
     "output_type": "stream",
     "text": [
      "\n",
      "Количество дубликатов:\n"
     ]
    },
    {
     "data": {
      "text/plain": [
       "0"
      ]
     },
     "metadata": {},
     "output_type": "display_data"
    },
    {
     "name": "stdout",
     "output_type": "stream",
     "text": [
      "\n",
      "Количество уникальных значений для каждого столбца:\n",
      "customerID: 5517\n",
      "InternetService: 2\n",
      "OnlineSecurity: 2\n",
      "OnlineBackup: 2\n",
      "DeviceProtection: 2\n",
      "TechSupport: 2\n",
      "StreamingTV: 2\n",
      "StreamingMovies: 2\n"
     ]
    }
   ],
   "source": [
    "preview(internet)"
   ]
  },
  {
   "cell_type": "markdown",
   "metadata": {},
   "source": [
    "Датасет *internet* содержит информацию об интернет-услугах, которыми пользуются клиенты. Каждая строка соответствует отдельному клиенту, и содержит информацию о том, какой тип интернет-сервиса используется (DSL или оптоволокно), а также информацию о том, подключены ли опции безопасности и резервного копирования данных, защищено ли устройство, предоставляется ли техническая поддержка. Также в таблице указано, смотрит ли клиент потоковое телевидение и/или кино. Размер таблицы составляет 5517 строк и 8 столбцов, что не совпадает с предыдущими датасетами, следовательно, не все клиенты пользуются данной услугой. В таблице нет дубликатов и пропусков, а данные не приведены к нижнему регистру."
   ]
  },
  {
   "cell_type": "code",
   "execution_count": 8,
   "metadata": {},
   "outputs": [
    {
     "name": "stdout",
     "output_type": "stream",
     "text": [
      "Первые 5 строк таблицы:\n"
     ]
    },
    {
     "data": {
      "text/html": [
       "<div>\n",
       "<style scoped>\n",
       "    .dataframe tbody tr th:only-of-type {\n",
       "        vertical-align: middle;\n",
       "    }\n",
       "\n",
       "    .dataframe tbody tr th {\n",
       "        vertical-align: top;\n",
       "    }\n",
       "\n",
       "    .dataframe thead th {\n",
       "        text-align: right;\n",
       "    }\n",
       "</style>\n",
       "<table border=\"1\" class=\"dataframe\">\n",
       "  <thead>\n",
       "    <tr style=\"text-align: right;\">\n",
       "      <th></th>\n",
       "      <th>customerID</th>\n",
       "      <th>MultipleLines</th>\n",
       "    </tr>\n",
       "  </thead>\n",
       "  <tbody>\n",
       "    <tr>\n",
       "      <th>0</th>\n",
       "      <td>5575-GNVDE</td>\n",
       "      <td>No</td>\n",
       "    </tr>\n",
       "    <tr>\n",
       "      <th>1</th>\n",
       "      <td>3668-QPYBK</td>\n",
       "      <td>No</td>\n",
       "    </tr>\n",
       "    <tr>\n",
       "      <th>2</th>\n",
       "      <td>9237-HQITU</td>\n",
       "      <td>No</td>\n",
       "    </tr>\n",
       "    <tr>\n",
       "      <th>3</th>\n",
       "      <td>9305-CDSKC</td>\n",
       "      <td>Yes</td>\n",
       "    </tr>\n",
       "    <tr>\n",
       "      <th>4</th>\n",
       "      <td>1452-KIOVK</td>\n",
       "      <td>Yes</td>\n",
       "    </tr>\n",
       "  </tbody>\n",
       "</table>\n",
       "</div>"
      ],
      "text/plain": [
       "   customerID MultipleLines\n",
       "0  5575-GNVDE            No\n",
       "1  3668-QPYBK            No\n",
       "2  9237-HQITU            No\n",
       "3  9305-CDSKC           Yes\n",
       "4  1452-KIOVK           Yes"
      ]
     },
     "metadata": {},
     "output_type": "display_data"
    },
    {
     "name": "stdout",
     "output_type": "stream",
     "text": [
      "\n",
      "Размер таблицы:\n"
     ]
    },
    {
     "data": {
      "text/plain": [
       "(6361, 2)"
      ]
     },
     "metadata": {},
     "output_type": "display_data"
    },
    {
     "name": "stdout",
     "output_type": "stream",
     "text": [
      "\n",
      "Статистические характеристики:\n"
     ]
    },
    {
     "data": {
      "text/html": [
       "<div>\n",
       "<style scoped>\n",
       "    .dataframe tbody tr th:only-of-type {\n",
       "        vertical-align: middle;\n",
       "    }\n",
       "\n",
       "    .dataframe tbody tr th {\n",
       "        vertical-align: top;\n",
       "    }\n",
       "\n",
       "    .dataframe thead th {\n",
       "        text-align: right;\n",
       "    }\n",
       "</style>\n",
       "<table border=\"1\" class=\"dataframe\">\n",
       "  <thead>\n",
       "    <tr style=\"text-align: right;\">\n",
       "      <th></th>\n",
       "      <th>customerID</th>\n",
       "      <th>MultipleLines</th>\n",
       "    </tr>\n",
       "  </thead>\n",
       "  <tbody>\n",
       "    <tr>\n",
       "      <th>count</th>\n",
       "      <td>6361</td>\n",
       "      <td>6361</td>\n",
       "    </tr>\n",
       "    <tr>\n",
       "      <th>unique</th>\n",
       "      <td>6361</td>\n",
       "      <td>2</td>\n",
       "    </tr>\n",
       "    <tr>\n",
       "      <th>top</th>\n",
       "      <td>5384-ZTTWP</td>\n",
       "      <td>No</td>\n",
       "    </tr>\n",
       "    <tr>\n",
       "      <th>freq</th>\n",
       "      <td>1</td>\n",
       "      <td>3390</td>\n",
       "    </tr>\n",
       "  </tbody>\n",
       "</table>\n",
       "</div>"
      ],
      "text/plain": [
       "        customerID MultipleLines\n",
       "count         6361          6361\n",
       "unique        6361             2\n",
       "top     5384-ZTTWP            No\n",
       "freq             1          3390"
      ]
     },
     "metadata": {},
     "output_type": "display_data"
    },
    {
     "name": "stdout",
     "output_type": "stream",
     "text": [
      "\n",
      "Информация о данных в таблице:\n",
      "<class 'pandas.core.frame.DataFrame'>\n",
      "RangeIndex: 6361 entries, 0 to 6360\n",
      "Data columns (total 2 columns):\n",
      " #   Column         Non-Null Count  Dtype \n",
      "---  ------         --------------  ----- \n",
      " 0   customerID     6361 non-null   object\n",
      " 1   MultipleLines  6361 non-null   object\n",
      "dtypes: object(2)\n",
      "memory usage: 99.5+ KB\n"
     ]
    },
    {
     "data": {
      "text/plain": [
       "None"
      ]
     },
     "metadata": {},
     "output_type": "display_data"
    },
    {
     "name": "stdout",
     "output_type": "stream",
     "text": [
      "\n",
      "Количество дубликатов:\n"
     ]
    },
    {
     "data": {
      "text/plain": [
       "0"
      ]
     },
     "metadata": {},
     "output_type": "display_data"
    },
    {
     "name": "stdout",
     "output_type": "stream",
     "text": [
      "\n",
      "Количество уникальных значений для каждого столбца:\n",
      "customerID: 6361\n",
      "MultipleLines: 2\n"
     ]
    }
   ],
   "source": [
    "preview(phone)"
   ]
  },
  {
   "cell_type": "markdown",
   "metadata": {},
   "source": [
    "Датасет *phone* содержит информацию о том, есть ли у клиентов тип услуги - \"телефония\". В нем есть информация о 6361 клиенте, не содержит пропусков и дубликатов. Тип данных для всех столбцов - object. Данные не приведены к нижнему регистру."
   ]
  },
  {
   "cell_type": "markdown",
   "metadata": {},
   "source": [
    "<a id='section_id_4'></a>\n",
    "## Подготовка данных"
   ]
  },
  {
   "cell_type": "markdown",
   "metadata": {},
   "source": [
    "В нашем распоряжении имеются четыре датасета от компании \"Ниединогоразрыва.ком\". Все они не содержат дубликатов и пропусков. Однако количество клиентов, пользующихся услугами телефонии и услугами интернета, не совпадает с количеством клиентов в датасетах о договорах и персональных данных. Все четыре датасета имеют общее поле \"customerID\", по которому мы сможем объединить их и выявить клиентов, которые пользуются или не пользуются дополнительными услугами. Кроме этого имея объединённые таблицы, мы провёдем анализ данных."
   ]
  },
  {
   "cell_type": "code",
   "execution_count": 9,
   "metadata": {},
   "outputs": [],
   "source": [
    "data = contract.merge(personal, on='customerID', how='left')\n",
    "data = data.merge(internet, on='customerID', how='left')\n",
    "data = data.merge(phone, on='customerID', how='left')"
   ]
  },
  {
   "cell_type": "code",
   "execution_count": 10,
   "metadata": {},
   "outputs": [
    {
     "name": "stdout",
     "output_type": "stream",
     "text": [
      "Первые 5 строк таблицы:\n"
     ]
    },
    {
     "data": {
      "text/html": [
       "<div>\n",
       "<style scoped>\n",
       "    .dataframe tbody tr th:only-of-type {\n",
       "        vertical-align: middle;\n",
       "    }\n",
       "\n",
       "    .dataframe tbody tr th {\n",
       "        vertical-align: top;\n",
       "    }\n",
       "\n",
       "    .dataframe thead th {\n",
       "        text-align: right;\n",
       "    }\n",
       "</style>\n",
       "<table border=\"1\" class=\"dataframe\">\n",
       "  <thead>\n",
       "    <tr style=\"text-align: right;\">\n",
       "      <th></th>\n",
       "      <th>customerID</th>\n",
       "      <th>BeginDate</th>\n",
       "      <th>EndDate</th>\n",
       "      <th>Type</th>\n",
       "      <th>PaperlessBilling</th>\n",
       "      <th>PaymentMethod</th>\n",
       "      <th>MonthlyCharges</th>\n",
       "      <th>TotalCharges</th>\n",
       "      <th>gender</th>\n",
       "      <th>SeniorCitizen</th>\n",
       "      <th>Partner</th>\n",
       "      <th>Dependents</th>\n",
       "      <th>InternetService</th>\n",
       "      <th>OnlineSecurity</th>\n",
       "      <th>OnlineBackup</th>\n",
       "      <th>DeviceProtection</th>\n",
       "      <th>TechSupport</th>\n",
       "      <th>StreamingTV</th>\n",
       "      <th>StreamingMovies</th>\n",
       "      <th>MultipleLines</th>\n",
       "    </tr>\n",
       "  </thead>\n",
       "  <tbody>\n",
       "    <tr>\n",
       "      <th>0</th>\n",
       "      <td>7590-VHVEG</td>\n",
       "      <td>2020-01-01</td>\n",
       "      <td>No</td>\n",
       "      <td>Month-to-month</td>\n",
       "      <td>Yes</td>\n",
       "      <td>Electronic check</td>\n",
       "      <td>29.85</td>\n",
       "      <td>31.04</td>\n",
       "      <td>Female</td>\n",
       "      <td>0</td>\n",
       "      <td>Yes</td>\n",
       "      <td>No</td>\n",
       "      <td>DSL</td>\n",
       "      <td>No</td>\n",
       "      <td>Yes</td>\n",
       "      <td>No</td>\n",
       "      <td>No</td>\n",
       "      <td>No</td>\n",
       "      <td>No</td>\n",
       "      <td>NaN</td>\n",
       "    </tr>\n",
       "    <tr>\n",
       "      <th>1</th>\n",
       "      <td>5575-GNVDE</td>\n",
       "      <td>2017-04-01</td>\n",
       "      <td>No</td>\n",
       "      <td>One year</td>\n",
       "      <td>No</td>\n",
       "      <td>Mailed check</td>\n",
       "      <td>56.95</td>\n",
       "      <td>2071.84</td>\n",
       "      <td>Male</td>\n",
       "      <td>0</td>\n",
       "      <td>No</td>\n",
       "      <td>No</td>\n",
       "      <td>DSL</td>\n",
       "      <td>Yes</td>\n",
       "      <td>No</td>\n",
       "      <td>Yes</td>\n",
       "      <td>No</td>\n",
       "      <td>No</td>\n",
       "      <td>No</td>\n",
       "      <td>No</td>\n",
       "    </tr>\n",
       "    <tr>\n",
       "      <th>2</th>\n",
       "      <td>3668-QPYBK</td>\n",
       "      <td>2019-10-01</td>\n",
       "      <td>No</td>\n",
       "      <td>Month-to-month</td>\n",
       "      <td>Yes</td>\n",
       "      <td>Mailed check</td>\n",
       "      <td>53.85</td>\n",
       "      <td>226.17</td>\n",
       "      <td>Male</td>\n",
       "      <td>0</td>\n",
       "      <td>No</td>\n",
       "      <td>No</td>\n",
       "      <td>DSL</td>\n",
       "      <td>Yes</td>\n",
       "      <td>Yes</td>\n",
       "      <td>No</td>\n",
       "      <td>No</td>\n",
       "      <td>No</td>\n",
       "      <td>No</td>\n",
       "      <td>No</td>\n",
       "    </tr>\n",
       "    <tr>\n",
       "      <th>3</th>\n",
       "      <td>7795-CFOCW</td>\n",
       "      <td>2016-05-01</td>\n",
       "      <td>No</td>\n",
       "      <td>One year</td>\n",
       "      <td>No</td>\n",
       "      <td>Bank transfer (automatic)</td>\n",
       "      <td>42.30</td>\n",
       "      <td>1960.6</td>\n",
       "      <td>Male</td>\n",
       "      <td>0</td>\n",
       "      <td>No</td>\n",
       "      <td>No</td>\n",
       "      <td>DSL</td>\n",
       "      <td>Yes</td>\n",
       "      <td>No</td>\n",
       "      <td>Yes</td>\n",
       "      <td>Yes</td>\n",
       "      <td>No</td>\n",
       "      <td>No</td>\n",
       "      <td>NaN</td>\n",
       "    </tr>\n",
       "    <tr>\n",
       "      <th>4</th>\n",
       "      <td>9237-HQITU</td>\n",
       "      <td>2019-09-01</td>\n",
       "      <td>No</td>\n",
       "      <td>Month-to-month</td>\n",
       "      <td>Yes</td>\n",
       "      <td>Electronic check</td>\n",
       "      <td>70.70</td>\n",
       "      <td>353.5</td>\n",
       "      <td>Female</td>\n",
       "      <td>0</td>\n",
       "      <td>No</td>\n",
       "      <td>No</td>\n",
       "      <td>Fiber optic</td>\n",
       "      <td>No</td>\n",
       "      <td>No</td>\n",
       "      <td>No</td>\n",
       "      <td>No</td>\n",
       "      <td>No</td>\n",
       "      <td>No</td>\n",
       "      <td>No</td>\n",
       "    </tr>\n",
       "  </tbody>\n",
       "</table>\n",
       "</div>"
      ],
      "text/plain": [
       "   customerID   BeginDate EndDate            Type PaperlessBilling  \\\n",
       "0  7590-VHVEG  2020-01-01      No  Month-to-month              Yes   \n",
       "1  5575-GNVDE  2017-04-01      No        One year               No   \n",
       "2  3668-QPYBK  2019-10-01      No  Month-to-month              Yes   \n",
       "3  7795-CFOCW  2016-05-01      No        One year               No   \n",
       "4  9237-HQITU  2019-09-01      No  Month-to-month              Yes   \n",
       "\n",
       "               PaymentMethod  MonthlyCharges TotalCharges  gender  \\\n",
       "0           Electronic check           29.85        31.04  Female   \n",
       "1               Mailed check           56.95      2071.84    Male   \n",
       "2               Mailed check           53.85       226.17    Male   \n",
       "3  Bank transfer (automatic)           42.30       1960.6    Male   \n",
       "4           Electronic check           70.70        353.5  Female   \n",
       "\n",
       "   SeniorCitizen Partner Dependents InternetService OnlineSecurity  \\\n",
       "0              0     Yes         No             DSL             No   \n",
       "1              0      No         No             DSL            Yes   \n",
       "2              0      No         No             DSL            Yes   \n",
       "3              0      No         No             DSL            Yes   \n",
       "4              0      No         No     Fiber optic             No   \n",
       "\n",
       "  OnlineBackup DeviceProtection TechSupport StreamingTV StreamingMovies  \\\n",
       "0          Yes               No          No          No              No   \n",
       "1           No              Yes          No          No              No   \n",
       "2          Yes               No          No          No              No   \n",
       "3           No              Yes         Yes          No              No   \n",
       "4           No               No          No          No              No   \n",
       "\n",
       "  MultipleLines  \n",
       "0           NaN  \n",
       "1            No  \n",
       "2            No  \n",
       "3           NaN  \n",
       "4            No  "
      ]
     },
     "metadata": {},
     "output_type": "display_data"
    },
    {
     "name": "stdout",
     "output_type": "stream",
     "text": [
      "\n",
      "Размер таблицы:\n"
     ]
    },
    {
     "data": {
      "text/plain": [
       "(7043, 20)"
      ]
     },
     "metadata": {},
     "output_type": "display_data"
    },
    {
     "name": "stdout",
     "output_type": "stream",
     "text": [
      "\n",
      "Статистические характеристики:\n"
     ]
    },
    {
     "data": {
      "text/html": [
       "<div>\n",
       "<style scoped>\n",
       "    .dataframe tbody tr th:only-of-type {\n",
       "        vertical-align: middle;\n",
       "    }\n",
       "\n",
       "    .dataframe tbody tr th {\n",
       "        vertical-align: top;\n",
       "    }\n",
       "\n",
       "    .dataframe thead th {\n",
       "        text-align: right;\n",
       "    }\n",
       "</style>\n",
       "<table border=\"1\" class=\"dataframe\">\n",
       "  <thead>\n",
       "    <tr style=\"text-align: right;\">\n",
       "      <th></th>\n",
       "      <th>MonthlyCharges</th>\n",
       "      <th>SeniorCitizen</th>\n",
       "    </tr>\n",
       "  </thead>\n",
       "  <tbody>\n",
       "    <tr>\n",
       "      <th>count</th>\n",
       "      <td>7043.000000</td>\n",
       "      <td>7043.000000</td>\n",
       "    </tr>\n",
       "    <tr>\n",
       "      <th>mean</th>\n",
       "      <td>64.761692</td>\n",
       "      <td>0.162147</td>\n",
       "    </tr>\n",
       "    <tr>\n",
       "      <th>std</th>\n",
       "      <td>30.090047</td>\n",
       "      <td>0.368612</td>\n",
       "    </tr>\n",
       "    <tr>\n",
       "      <th>min</th>\n",
       "      <td>18.250000</td>\n",
       "      <td>0.000000</td>\n",
       "    </tr>\n",
       "    <tr>\n",
       "      <th>25%</th>\n",
       "      <td>35.500000</td>\n",
       "      <td>0.000000</td>\n",
       "    </tr>\n",
       "    <tr>\n",
       "      <th>50%</th>\n",
       "      <td>70.350000</td>\n",
       "      <td>0.000000</td>\n",
       "    </tr>\n",
       "    <tr>\n",
       "      <th>75%</th>\n",
       "      <td>89.850000</td>\n",
       "      <td>0.000000</td>\n",
       "    </tr>\n",
       "    <tr>\n",
       "      <th>max</th>\n",
       "      <td>118.750000</td>\n",
       "      <td>1.000000</td>\n",
       "    </tr>\n",
       "  </tbody>\n",
       "</table>\n",
       "</div>"
      ],
      "text/plain": [
       "       MonthlyCharges  SeniorCitizen\n",
       "count     7043.000000    7043.000000\n",
       "mean        64.761692       0.162147\n",
       "std         30.090047       0.368612\n",
       "min         18.250000       0.000000\n",
       "25%         35.500000       0.000000\n",
       "50%         70.350000       0.000000\n",
       "75%         89.850000       0.000000\n",
       "max        118.750000       1.000000"
      ]
     },
     "metadata": {},
     "output_type": "display_data"
    },
    {
     "name": "stdout",
     "output_type": "stream",
     "text": [
      "\n",
      "Информация о данных в таблице:\n",
      "<class 'pandas.core.frame.DataFrame'>\n",
      "Int64Index: 7043 entries, 0 to 7042\n",
      "Data columns (total 20 columns):\n",
      " #   Column            Non-Null Count  Dtype  \n",
      "---  ------            --------------  -----  \n",
      " 0   customerID        7043 non-null   object \n",
      " 1   BeginDate         7043 non-null   object \n",
      " 2   EndDate           7043 non-null   object \n",
      " 3   Type              7043 non-null   object \n",
      " 4   PaperlessBilling  7043 non-null   object \n",
      " 5   PaymentMethod     7043 non-null   object \n",
      " 6   MonthlyCharges    7043 non-null   float64\n",
      " 7   TotalCharges      7043 non-null   object \n",
      " 8   gender            7043 non-null   object \n",
      " 9   SeniorCitizen     7043 non-null   int64  \n",
      " 10  Partner           7043 non-null   object \n",
      " 11  Dependents        7043 non-null   object \n",
      " 12  InternetService   5517 non-null   object \n",
      " 13  OnlineSecurity    5517 non-null   object \n",
      " 14  OnlineBackup      5517 non-null   object \n",
      " 15  DeviceProtection  5517 non-null   object \n",
      " 16  TechSupport       5517 non-null   object \n",
      " 17  StreamingTV       5517 non-null   object \n",
      " 18  StreamingMovies   5517 non-null   object \n",
      " 19  MultipleLines     6361 non-null   object \n",
      "dtypes: float64(1), int64(1), object(18)\n",
      "memory usage: 1.1+ MB\n"
     ]
    },
    {
     "data": {
      "text/plain": [
       "None"
      ]
     },
     "metadata": {},
     "output_type": "display_data"
    },
    {
     "name": "stdout",
     "output_type": "stream",
     "text": [
      "\n",
      "Количество дубликатов:\n"
     ]
    },
    {
     "data": {
      "text/plain": [
       "0"
      ]
     },
     "metadata": {},
     "output_type": "display_data"
    },
    {
     "name": "stdout",
     "output_type": "stream",
     "text": [
      "\n",
      "Количество уникальных значений для каждого столбца:\n",
      "customerID: 7043\n",
      "BeginDate: 77\n",
      "EndDate: 67\n",
      "Type: 3\n",
      "PaperlessBilling: 2\n",
      "PaymentMethod: 4\n",
      "MonthlyCharges: 1585\n",
      "TotalCharges: 6658\n",
      "gender: 2\n",
      "SeniorCitizen: 2\n",
      "Partner: 2\n",
      "Dependents: 2\n",
      "InternetService: 2\n",
      "OnlineSecurity: 2\n",
      "OnlineBackup: 2\n",
      "DeviceProtection: 2\n",
      "TechSupport: 2\n",
      "StreamingTV: 2\n",
      "StreamingMovies: 2\n",
      "MultipleLines: 2\n"
     ]
    }
   ],
   "source": [
    "preview(data)"
   ]
  },
  {
   "cell_type": "markdown",
   "metadata": {},
   "source": [
    "В получившейся таблице содержится информация о 7043 клиентах. Дубликатов в таблице не обнаружено.  \n",
    "Также можно заметить, что в столбцах InternetService, OnlineSecurity, OnlineBackup, DeviceProtection, TechSupport, StreamingTV, StreamingMovies и MultipleLines есть пропущенные значения. Это говорит о том, что не все клиенты пользуются этими услугами, и данные о них не заполнены. Уникальные значения в большинстве колонок не вызывает вопросов. Также помним, что поле *BeginDate* и *EndDate*, в формате object. Рассмотрим эти колонки внимательнее."
   ]
  },
  {
   "cell_type": "code",
   "execution_count": 11,
   "metadata": {},
   "outputs": [
    {
     "data": {
      "text/plain": [
       "'Уникальные значения'"
      ]
     },
     "metadata": {},
     "output_type": "display_data"
    },
    {
     "data": {
      "text/plain": [
       "array(['2020-01-01', '2017-04-01', '2019-10-01', '2016-05-01',\n",
       "       '2019-09-01', '2019-03-01', '2018-04-01', '2019-04-01',\n",
       "       '2017-07-01', '2014-12-01', '2019-01-01', '2018-10-01',\n",
       "       '2015-04-01', '2015-09-01', '2018-01-01', '2014-05-01',\n",
       "       '2015-10-01', '2014-03-01', '2018-05-01', '2019-11-01',\n",
       "       '2019-02-01', '2016-01-01', '2017-08-01', '2015-12-01',\n",
       "       '2014-02-01', '2018-06-01', '2019-12-01', '2017-11-01',\n",
       "       '2019-06-01', '2016-04-01', '2017-02-01', '2018-12-01',\n",
       "       '2014-04-01', '2018-09-01', '2014-11-01', '2016-07-01',\n",
       "       '2015-02-01', '2018-07-01', '2014-08-01', '2016-03-01',\n",
       "       '2018-08-01', '2014-10-01', '2015-06-01', '2016-08-01',\n",
       "       '2019-05-01', '2017-03-01', '2016-02-01', '2017-09-01',\n",
       "       '2014-09-01', '2017-12-01', '2016-12-01', '2017-06-01',\n",
       "       '2015-05-01', '2016-10-01', '2016-09-01', '2019-08-01',\n",
       "       '2019-07-01', '2017-05-01', '2017-10-01', '2014-07-01',\n",
       "       '2018-03-01', '2015-01-01', '2018-11-01', '2015-03-01',\n",
       "       '2018-02-01', '2016-06-01', '2015-08-01', '2015-11-01',\n",
       "       '2014-06-01', '2017-01-01', '2015-07-01', '2020-02-01',\n",
       "       '2016-11-01', '2013-11-01', '2014-01-01', '2013-10-01',\n",
       "       '2013-12-01'], dtype=object)"
      ]
     },
     "metadata": {},
     "output_type": "display_data"
    },
    {
     "data": {
      "text/plain": [
       "'Количество уникальных значений'"
      ]
     },
     "metadata": {},
     "output_type": "display_data"
    },
    {
     "data": {
      "text/plain": [
       "77"
      ]
     },
     "metadata": {},
     "output_type": "display_data"
    }
   ],
   "source": [
    "display(f'Уникальные значения', data['BeginDate'].unique())\n",
    "display(f'Количество уникальных значений', data['BeginDate'].nunique())"
   ]
  },
  {
   "cell_type": "code",
   "execution_count": 12,
   "metadata": {},
   "outputs": [
    {
     "data": {
      "text/plain": [
       "'Уникальные значения'"
      ]
     },
     "metadata": {},
     "output_type": "display_data"
    },
    {
     "data": {
      "text/plain": [
       "array(['No', '2017-05-01', '2016-03-01', '2018-09-01', '2018-11-01',\n",
       "       '2018-12-01', '2019-08-01', '2018-07-01', '2017-09-01',\n",
       "       '2015-09-01', '2016-07-01', '2016-06-01', '2018-03-01',\n",
       "       '2019-02-01', '2018-06-01', '2019-06-01', '2020-01-01',\n",
       "       '2019-11-01', '2016-09-01', '2015-06-01', '2016-12-01',\n",
       "       '2019-05-01', '2019-04-01', '2017-06-01', '2017-08-01',\n",
       "       '2018-04-01', '2018-08-01', '2018-02-01', '2019-07-01',\n",
       "       '2015-12-01', '2014-06-01', '2018-10-01', '2019-01-01',\n",
       "       '2017-07-01', '2017-12-01', '2018-05-01', '2015-11-01',\n",
       "       '2019-10-01', '2019-03-01', '2016-02-01', '2016-10-01',\n",
       "       '2018-01-01', '2017-11-01', '2015-10-01', '2019-12-01',\n",
       "       '2015-07-01', '2017-04-01', '2015-02-01', '2017-03-01',\n",
       "       '2016-05-01', '2016-11-01', '2015-08-01', '2019-09-01',\n",
       "       '2017-10-01', '2017-02-01', '2016-08-01', '2016-04-01',\n",
       "       '2015-05-01', '2014-09-01', '2014-10-01', '2017-01-01',\n",
       "       '2015-03-01', '2015-01-01', '2016-01-01', '2015-04-01',\n",
       "       '2014-12-01', '2014-11-01'], dtype=object)"
      ]
     },
     "metadata": {},
     "output_type": "display_data"
    },
    {
     "data": {
      "text/plain": [
       "'Количество уникальных значений'"
      ]
     },
     "metadata": {},
     "output_type": "display_data"
    },
    {
     "data": {
      "text/plain": [
       "67"
      ]
     },
     "metadata": {},
     "output_type": "display_data"
    }
   ],
   "source": [
    "display(f'Уникальные значения', data['EndDate'].unique())\n",
    "display(f'Количество уникальных значений', data['EndDate'].nunique())"
   ]
  },
  {
   "cell_type": "markdown",
   "metadata": {},
   "source": [
    "Аномальных дат в столбцах не обнаружено.\n",
    "В поле \"EndDate\", есть уникальное значение 'No'. Посмотрим сколько клиентов с неопределённой датой окончания контракта."
   ]
  },
  {
   "cell_type": "code",
   "execution_count": 13,
   "metadata": {},
   "outputs": [
    {
     "data": {
      "text/plain": [
       "'Количество клиентов с неопределённой датой окончания контракта'"
      ]
     },
     "metadata": {},
     "output_type": "display_data"
    },
    {
     "data": {
      "text/plain": [
       "5942"
      ]
     },
     "metadata": {},
     "output_type": "display_data"
    }
   ],
   "source": [
    "display('Количество клиентов с неопределённой датой окончания контракта', data['EndDate'].value_counts()['No'])"
   ]
  },
  {
   "cell_type": "markdown",
   "metadata": {},
   "source": [
    "5942 - довольно много клиентов. Так как даты один из целевых признаков в данном проекте, нам нужно привести 'No' к числовым значениям. Известно, что конечная дата данного датасета - 1 февраля 2020 года. Приведём значения 'No' к этой дате. "
   ]
  },
  {
   "cell_type": "code",
   "execution_count": 14,
   "metadata": {},
   "outputs": [],
   "source": [
    "data['EndDate'] = data['EndDate'].replace('No', '2020-02-01')"
   ]
  },
  {
   "cell_type": "markdown",
   "metadata": {},
   "source": [
    "Переведём даты в правильный формат *datetime* и перейдём к следующему столбцу."
   ]
  },
  {
   "cell_type": "code",
   "execution_count": 15,
   "metadata": {},
   "outputs": [],
   "source": [
    "data['EndDate'] = pd.to_datetime(data['EndDate'], format='%Y-%m-%d')\n",
    "data['BeginDate'] = pd.to_datetime(data['BeginDate'], format='%Y-%m-%d')"
   ]
  },
  {
   "cell_type": "markdown",
   "metadata": {},
   "source": [
    "Внимательнее рассмотрим значения столбца *TotalCharges*."
   ]
  },
  {
   "cell_type": "code",
   "execution_count": 16,
   "metadata": {},
   "outputs": [
    {
     "data": {
      "text/plain": [
       "'Уникальные значения TotalCharges:'"
      ]
     },
     "metadata": {},
     "output_type": "display_data"
    },
    {
     "data": {
      "text/plain": [
       "           11\n",
       "20.45       6\n",
       "101.0       5\n",
       "255.0       4\n",
       "1007.5      4\n",
       "           ..\n",
       "4264.75     1\n",
       "286.42      1\n",
       "5818.18     1\n",
       "621.39      1\n",
       "7546.07     1\n",
       "Name: TotalCharges, Length: 6658, dtype: int64"
      ]
     },
     "metadata": {},
     "output_type": "display_data"
    },
    {
     "data": {
      "text/plain": [
       "'Количество уникальных значений TotalCharges:'"
      ]
     },
     "metadata": {},
     "output_type": "display_data"
    },
    {
     "data": {
      "text/plain": [
       "6658"
      ]
     },
     "metadata": {},
     "output_type": "display_data"
    }
   ],
   "source": [
    "unique_total_charges = data['TotalCharges'].value_counts()\n",
    "display(\"Уникальные значения TotalCharges:\", unique_total_charges)\n",
    "display(\"Количество уникальных значений TotalCharges:\", data['TotalCharges'].nunique())"
   ]
  },
  {
   "cell_type": "markdown",
   "metadata": {},
   "source": [
    "В колонке \"TotalCharges\" имеются 11 пустых значений. Посмотрим на клиентов и попробуем выяснить ошибку."
   ]
  },
  {
   "cell_type": "code",
   "execution_count": 17,
   "metadata": {},
   "outputs": [
    {
     "data": {
      "text/html": [
       "<div>\n",
       "<style scoped>\n",
       "    .dataframe tbody tr th:only-of-type {\n",
       "        vertical-align: middle;\n",
       "    }\n",
       "\n",
       "    .dataframe tbody tr th {\n",
       "        vertical-align: top;\n",
       "    }\n",
       "\n",
       "    .dataframe thead th {\n",
       "        text-align: right;\n",
       "    }\n",
       "</style>\n",
       "<table border=\"1\" class=\"dataframe\">\n",
       "  <thead>\n",
       "    <tr style=\"text-align: right;\">\n",
       "      <th></th>\n",
       "      <th>customerID</th>\n",
       "      <th>BeginDate</th>\n",
       "      <th>EndDate</th>\n",
       "      <th>Type</th>\n",
       "      <th>PaperlessBilling</th>\n",
       "      <th>PaymentMethod</th>\n",
       "      <th>MonthlyCharges</th>\n",
       "      <th>TotalCharges</th>\n",
       "      <th>gender</th>\n",
       "      <th>SeniorCitizen</th>\n",
       "      <th>Partner</th>\n",
       "      <th>Dependents</th>\n",
       "      <th>InternetService</th>\n",
       "      <th>OnlineSecurity</th>\n",
       "      <th>OnlineBackup</th>\n",
       "      <th>DeviceProtection</th>\n",
       "      <th>TechSupport</th>\n",
       "      <th>StreamingTV</th>\n",
       "      <th>StreamingMovies</th>\n",
       "      <th>MultipleLines</th>\n",
       "    </tr>\n",
       "  </thead>\n",
       "  <tbody>\n",
       "    <tr>\n",
       "      <th>488</th>\n",
       "      <td>4472-LVYGI</td>\n",
       "      <td>2020-02-01</td>\n",
       "      <td>2020-02-01</td>\n",
       "      <td>Two year</td>\n",
       "      <td>Yes</td>\n",
       "      <td>Bank transfer (automatic)</td>\n",
       "      <td>52.55</td>\n",
       "      <td></td>\n",
       "      <td>Female</td>\n",
       "      <td>0</td>\n",
       "      <td>Yes</td>\n",
       "      <td>Yes</td>\n",
       "      <td>DSL</td>\n",
       "      <td>Yes</td>\n",
       "      <td>No</td>\n",
       "      <td>Yes</td>\n",
       "      <td>Yes</td>\n",
       "      <td>Yes</td>\n",
       "      <td>No</td>\n",
       "      <td>NaN</td>\n",
       "    </tr>\n",
       "    <tr>\n",
       "      <th>753</th>\n",
       "      <td>3115-CZMZD</td>\n",
       "      <td>2020-02-01</td>\n",
       "      <td>2020-02-01</td>\n",
       "      <td>Two year</td>\n",
       "      <td>No</td>\n",
       "      <td>Mailed check</td>\n",
       "      <td>20.25</td>\n",
       "      <td></td>\n",
       "      <td>Male</td>\n",
       "      <td>0</td>\n",
       "      <td>No</td>\n",
       "      <td>Yes</td>\n",
       "      <td>NaN</td>\n",
       "      <td>NaN</td>\n",
       "      <td>NaN</td>\n",
       "      <td>NaN</td>\n",
       "      <td>NaN</td>\n",
       "      <td>NaN</td>\n",
       "      <td>NaN</td>\n",
       "      <td>No</td>\n",
       "    </tr>\n",
       "    <tr>\n",
       "      <th>936</th>\n",
       "      <td>5709-LVOEQ</td>\n",
       "      <td>2020-02-01</td>\n",
       "      <td>2020-02-01</td>\n",
       "      <td>Two year</td>\n",
       "      <td>No</td>\n",
       "      <td>Mailed check</td>\n",
       "      <td>80.85</td>\n",
       "      <td></td>\n",
       "      <td>Female</td>\n",
       "      <td>0</td>\n",
       "      <td>Yes</td>\n",
       "      <td>Yes</td>\n",
       "      <td>DSL</td>\n",
       "      <td>Yes</td>\n",
       "      <td>Yes</td>\n",
       "      <td>Yes</td>\n",
       "      <td>No</td>\n",
       "      <td>Yes</td>\n",
       "      <td>Yes</td>\n",
       "      <td>No</td>\n",
       "    </tr>\n",
       "    <tr>\n",
       "      <th>1082</th>\n",
       "      <td>4367-NUYAO</td>\n",
       "      <td>2020-02-01</td>\n",
       "      <td>2020-02-01</td>\n",
       "      <td>Two year</td>\n",
       "      <td>No</td>\n",
       "      <td>Mailed check</td>\n",
       "      <td>25.75</td>\n",
       "      <td></td>\n",
       "      <td>Male</td>\n",
       "      <td>0</td>\n",
       "      <td>Yes</td>\n",
       "      <td>Yes</td>\n",
       "      <td>NaN</td>\n",
       "      <td>NaN</td>\n",
       "      <td>NaN</td>\n",
       "      <td>NaN</td>\n",
       "      <td>NaN</td>\n",
       "      <td>NaN</td>\n",
       "      <td>NaN</td>\n",
       "      <td>Yes</td>\n",
       "    </tr>\n",
       "    <tr>\n",
       "      <th>1340</th>\n",
       "      <td>1371-DWPAZ</td>\n",
       "      <td>2020-02-01</td>\n",
       "      <td>2020-02-01</td>\n",
       "      <td>Two year</td>\n",
       "      <td>No</td>\n",
       "      <td>Credit card (automatic)</td>\n",
       "      <td>56.05</td>\n",
       "      <td></td>\n",
       "      <td>Female</td>\n",
       "      <td>0</td>\n",
       "      <td>Yes</td>\n",
       "      <td>Yes</td>\n",
       "      <td>DSL</td>\n",
       "      <td>Yes</td>\n",
       "      <td>Yes</td>\n",
       "      <td>Yes</td>\n",
       "      <td>Yes</td>\n",
       "      <td>Yes</td>\n",
       "      <td>No</td>\n",
       "      <td>NaN</td>\n",
       "    </tr>\n",
       "    <tr>\n",
       "      <th>3331</th>\n",
       "      <td>7644-OMVMY</td>\n",
       "      <td>2020-02-01</td>\n",
       "      <td>2020-02-01</td>\n",
       "      <td>Two year</td>\n",
       "      <td>No</td>\n",
       "      <td>Mailed check</td>\n",
       "      <td>19.85</td>\n",
       "      <td></td>\n",
       "      <td>Male</td>\n",
       "      <td>0</td>\n",
       "      <td>Yes</td>\n",
       "      <td>Yes</td>\n",
       "      <td>NaN</td>\n",
       "      <td>NaN</td>\n",
       "      <td>NaN</td>\n",
       "      <td>NaN</td>\n",
       "      <td>NaN</td>\n",
       "      <td>NaN</td>\n",
       "      <td>NaN</td>\n",
       "      <td>No</td>\n",
       "    </tr>\n",
       "    <tr>\n",
       "      <th>3826</th>\n",
       "      <td>3213-VVOLG</td>\n",
       "      <td>2020-02-01</td>\n",
       "      <td>2020-02-01</td>\n",
       "      <td>Two year</td>\n",
       "      <td>No</td>\n",
       "      <td>Mailed check</td>\n",
       "      <td>25.35</td>\n",
       "      <td></td>\n",
       "      <td>Male</td>\n",
       "      <td>0</td>\n",
       "      <td>Yes</td>\n",
       "      <td>Yes</td>\n",
       "      <td>NaN</td>\n",
       "      <td>NaN</td>\n",
       "      <td>NaN</td>\n",
       "      <td>NaN</td>\n",
       "      <td>NaN</td>\n",
       "      <td>NaN</td>\n",
       "      <td>NaN</td>\n",
       "      <td>Yes</td>\n",
       "    </tr>\n",
       "    <tr>\n",
       "      <th>4380</th>\n",
       "      <td>2520-SGTTA</td>\n",
       "      <td>2020-02-01</td>\n",
       "      <td>2020-02-01</td>\n",
       "      <td>Two year</td>\n",
       "      <td>No</td>\n",
       "      <td>Mailed check</td>\n",
       "      <td>20.00</td>\n",
       "      <td></td>\n",
       "      <td>Female</td>\n",
       "      <td>0</td>\n",
       "      <td>Yes</td>\n",
       "      <td>Yes</td>\n",
       "      <td>NaN</td>\n",
       "      <td>NaN</td>\n",
       "      <td>NaN</td>\n",
       "      <td>NaN</td>\n",
       "      <td>NaN</td>\n",
       "      <td>NaN</td>\n",
       "      <td>NaN</td>\n",
       "      <td>No</td>\n",
       "    </tr>\n",
       "    <tr>\n",
       "      <th>5218</th>\n",
       "      <td>2923-ARZLG</td>\n",
       "      <td>2020-02-01</td>\n",
       "      <td>2020-02-01</td>\n",
       "      <td>One year</td>\n",
       "      <td>Yes</td>\n",
       "      <td>Mailed check</td>\n",
       "      <td>19.70</td>\n",
       "      <td></td>\n",
       "      <td>Male</td>\n",
       "      <td>0</td>\n",
       "      <td>Yes</td>\n",
       "      <td>Yes</td>\n",
       "      <td>NaN</td>\n",
       "      <td>NaN</td>\n",
       "      <td>NaN</td>\n",
       "      <td>NaN</td>\n",
       "      <td>NaN</td>\n",
       "      <td>NaN</td>\n",
       "      <td>NaN</td>\n",
       "      <td>No</td>\n",
       "    </tr>\n",
       "    <tr>\n",
       "      <th>6670</th>\n",
       "      <td>4075-WKNIU</td>\n",
       "      <td>2020-02-01</td>\n",
       "      <td>2020-02-01</td>\n",
       "      <td>Two year</td>\n",
       "      <td>No</td>\n",
       "      <td>Mailed check</td>\n",
       "      <td>73.35</td>\n",
       "      <td></td>\n",
       "      <td>Female</td>\n",
       "      <td>0</td>\n",
       "      <td>Yes</td>\n",
       "      <td>Yes</td>\n",
       "      <td>DSL</td>\n",
       "      <td>No</td>\n",
       "      <td>Yes</td>\n",
       "      <td>Yes</td>\n",
       "      <td>Yes</td>\n",
       "      <td>Yes</td>\n",
       "      <td>No</td>\n",
       "      <td>Yes</td>\n",
       "    </tr>\n",
       "    <tr>\n",
       "      <th>6754</th>\n",
       "      <td>2775-SEFEE</td>\n",
       "      <td>2020-02-01</td>\n",
       "      <td>2020-02-01</td>\n",
       "      <td>Two year</td>\n",
       "      <td>Yes</td>\n",
       "      <td>Bank transfer (automatic)</td>\n",
       "      <td>61.90</td>\n",
       "      <td></td>\n",
       "      <td>Male</td>\n",
       "      <td>0</td>\n",
       "      <td>No</td>\n",
       "      <td>Yes</td>\n",
       "      <td>DSL</td>\n",
       "      <td>Yes</td>\n",
       "      <td>Yes</td>\n",
       "      <td>No</td>\n",
       "      <td>Yes</td>\n",
       "      <td>No</td>\n",
       "      <td>No</td>\n",
       "      <td>Yes</td>\n",
       "    </tr>\n",
       "  </tbody>\n",
       "</table>\n",
       "</div>"
      ],
      "text/plain": [
       "      customerID  BeginDate    EndDate      Type PaperlessBilling  \\\n",
       "488   4472-LVYGI 2020-02-01 2020-02-01  Two year              Yes   \n",
       "753   3115-CZMZD 2020-02-01 2020-02-01  Two year               No   \n",
       "936   5709-LVOEQ 2020-02-01 2020-02-01  Two year               No   \n",
       "1082  4367-NUYAO 2020-02-01 2020-02-01  Two year               No   \n",
       "1340  1371-DWPAZ 2020-02-01 2020-02-01  Two year               No   \n",
       "3331  7644-OMVMY 2020-02-01 2020-02-01  Two year               No   \n",
       "3826  3213-VVOLG 2020-02-01 2020-02-01  Two year               No   \n",
       "4380  2520-SGTTA 2020-02-01 2020-02-01  Two year               No   \n",
       "5218  2923-ARZLG 2020-02-01 2020-02-01  One year              Yes   \n",
       "6670  4075-WKNIU 2020-02-01 2020-02-01  Two year               No   \n",
       "6754  2775-SEFEE 2020-02-01 2020-02-01  Two year              Yes   \n",
       "\n",
       "                  PaymentMethod  MonthlyCharges TotalCharges  gender  \\\n",
       "488   Bank transfer (automatic)           52.55               Female   \n",
       "753                Mailed check           20.25                 Male   \n",
       "936                Mailed check           80.85               Female   \n",
       "1082               Mailed check           25.75                 Male   \n",
       "1340    Credit card (automatic)           56.05               Female   \n",
       "3331               Mailed check           19.85                 Male   \n",
       "3826               Mailed check           25.35                 Male   \n",
       "4380               Mailed check           20.00               Female   \n",
       "5218               Mailed check           19.70                 Male   \n",
       "6670               Mailed check           73.35               Female   \n",
       "6754  Bank transfer (automatic)           61.90                 Male   \n",
       "\n",
       "      SeniorCitizen Partner Dependents InternetService OnlineSecurity  \\\n",
       "488               0     Yes        Yes             DSL            Yes   \n",
       "753               0      No        Yes             NaN            NaN   \n",
       "936               0     Yes        Yes             DSL            Yes   \n",
       "1082              0     Yes        Yes             NaN            NaN   \n",
       "1340              0     Yes        Yes             DSL            Yes   \n",
       "3331              0     Yes        Yes             NaN            NaN   \n",
       "3826              0     Yes        Yes             NaN            NaN   \n",
       "4380              0     Yes        Yes             NaN            NaN   \n",
       "5218              0     Yes        Yes             NaN            NaN   \n",
       "6670              0     Yes        Yes             DSL             No   \n",
       "6754              0      No        Yes             DSL            Yes   \n",
       "\n",
       "     OnlineBackup DeviceProtection TechSupport StreamingTV StreamingMovies  \\\n",
       "488            No              Yes         Yes         Yes              No   \n",
       "753           NaN              NaN         NaN         NaN             NaN   \n",
       "936           Yes              Yes          No         Yes             Yes   \n",
       "1082          NaN              NaN         NaN         NaN             NaN   \n",
       "1340          Yes              Yes         Yes         Yes              No   \n",
       "3331          NaN              NaN         NaN         NaN             NaN   \n",
       "3826          NaN              NaN         NaN         NaN             NaN   \n",
       "4380          NaN              NaN         NaN         NaN             NaN   \n",
       "5218          NaN              NaN         NaN         NaN             NaN   \n",
       "6670          Yes              Yes         Yes         Yes              No   \n",
       "6754          Yes               No         Yes          No              No   \n",
       "\n",
       "     MultipleLines  \n",
       "488            NaN  \n",
       "753             No  \n",
       "936             No  \n",
       "1082           Yes  \n",
       "1340           NaN  \n",
       "3331            No  \n",
       "3826           Yes  \n",
       "4380            No  \n",
       "5218            No  \n",
       "6670           Yes  \n",
       "6754           Yes  "
      ]
     },
     "metadata": {},
     "output_type": "display_data"
    }
   ],
   "source": [
    "empty_lines = data['TotalCharges'] == ' '\n",
    "rows_with_spaces = data[empty_lines]\n",
    "\n",
    "display(rows_with_spaces)"
   ]
  },
  {
   "cell_type": "markdown",
   "metadata": {},
   "source": [
    "Одинадцать клиентов присоединились к компании \"Ниединогоразрыва.ком\" в день выгрузки датасета! Возможно, компания предоставляет новым клиентам 1 месяц бесплатно или похожие услуги, поэтому строки *TotalCharges* не заполнены оператором связи. Эти строки не должны оказывать влияния на обучение модели. В будущем, когда мы будем рассчитывать количество дней пользования данным оператором, мы не будем рассматривать клиентов, присоединившихся 1 февраля 2020 года, поэтому строки с пробелами решено удалить. Оставшиеся значения приведём к формату \"число с точкой\"."
   ]
  },
  {
   "cell_type": "code",
   "execution_count": 18,
   "metadata": {},
   "outputs": [],
   "source": [
    "data = data[data['TotalCharges'] != ' ']\n",
    "data['TotalCharges'] = data['TotalCharges'].astype('float')"
   ]
  },
  {
   "cell_type": "markdown",
   "metadata": {},
   "source": [
    "Следующим шагом нужно разобраться с пропусками в колонках *InternetService, OnlineSecurity, OnlineBackup, DeviceProtection, TechSupport, StreamingTV, StreamingMovies, MultipleLines*. Если колонка *InternetService* показывает тип соединения: DSL или Fiber, то остальные поля содержат признаки \"Да\" или \"Нет\". Отметим, что поле *MultipleLines*, означает наличие параллельных линий у клиента, в данной колонке значения \"NaN\" заменим на \"No service\". В остальных случаях пропуска и отсутствия данных, можно предположить, что клиент не пользуется данными услугами. Соответственно, заменим все пропуски на \"No\"."
   ]
  },
  {
   "cell_type": "code",
   "execution_count": 19,
   "metadata": {},
   "outputs": [],
   "source": [
    "col = ['MultipleLines']\n",
    "data[col] = data[col].fillna('No service')"
   ]
  },
  {
   "cell_type": "code",
   "execution_count": 20,
   "metadata": {},
   "outputs": [],
   "source": [
    "cols = ['InternetService', 'OnlineSecurity', 'OnlineBackup', \n",
    "        'DeviceProtection', 'TechSupport', 'StreamingTV', 'StreamingMovies']\n",
    "data[cols] = data[cols].fillna('No')"
   ]
  },
  {
   "cell_type": "markdown",
   "metadata": {},
   "source": [
    "Зная даты начала и окончания контрактов, добавим столбец, показывающий длительность контракта в днях в датафрейм."
   ]
  },
  {
   "cell_type": "code",
   "execution_count": 21,
   "metadata": {},
   "outputs": [],
   "source": [
    "data['duration'] = (data['EndDate'] - data['BeginDate']).dt.days"
   ]
  },
  {
   "cell_type": "markdown",
   "metadata": {},
   "source": [
    "Добавим один из важнейших столбцов проекта - показатель, ушёл клиент или нет. Дату 1 февраля 2020 года рассматривать не станем. Все показатели *EndDate*, записаные до указаной даты, будут давать показание \"1\" (ушли), если указана дата 2020-02-01, будет показатель \"0\" (остались)."
   ]
  },
  {
   "cell_type": "code",
   "execution_count": 22,
   "metadata": {},
   "outputs": [],
   "source": [
    "def get_churn(row):\n",
    "    if row['EndDate'] < pd.Timestamp('2020-02-01'):\n",
    "        return '1'\n",
    "    else:\n",
    "        return '0'\n",
    "\n",
    "data['churn'] = data.apply(get_churn, axis=1)"
   ]
  },
  {
   "cell_type": "markdown",
   "metadata": {},
   "source": [
    "Добавим столбец, в котором рассчитывается количество месяцев пользования услугами. Позже, используя этот столбец, попробуем выявить взяимосвязь с уходом клиента и временем пользования услугами."
   ]
  },
  {
   "cell_type": "code",
   "execution_count": 23,
   "metadata": {},
   "outputs": [],
   "source": [
    "data['months'] = data.apply(lambda row: round(row['TotalCharges'] / row['MonthlyCharges']), axis=1)"
   ]
  },
  {
   "cell_type": "markdown",
   "metadata": {},
   "source": [
    "Проверим датасет после предобработки."
   ]
  },
  {
   "cell_type": "code",
   "execution_count": 24,
   "metadata": {
    "scrolled": false
   },
   "outputs": [
    {
     "name": "stdout",
     "output_type": "stream",
     "text": [
      "Первые 5 строк таблицы:\n"
     ]
    },
    {
     "data": {
      "text/html": [
       "<div>\n",
       "<style scoped>\n",
       "    .dataframe tbody tr th:only-of-type {\n",
       "        vertical-align: middle;\n",
       "    }\n",
       "\n",
       "    .dataframe tbody tr th {\n",
       "        vertical-align: top;\n",
       "    }\n",
       "\n",
       "    .dataframe thead th {\n",
       "        text-align: right;\n",
       "    }\n",
       "</style>\n",
       "<table border=\"1\" class=\"dataframe\">\n",
       "  <thead>\n",
       "    <tr style=\"text-align: right;\">\n",
       "      <th></th>\n",
       "      <th>customerID</th>\n",
       "      <th>BeginDate</th>\n",
       "      <th>EndDate</th>\n",
       "      <th>Type</th>\n",
       "      <th>PaperlessBilling</th>\n",
       "      <th>PaymentMethod</th>\n",
       "      <th>MonthlyCharges</th>\n",
       "      <th>TotalCharges</th>\n",
       "      <th>gender</th>\n",
       "      <th>SeniorCitizen</th>\n",
       "      <th>...</th>\n",
       "      <th>OnlineSecurity</th>\n",
       "      <th>OnlineBackup</th>\n",
       "      <th>DeviceProtection</th>\n",
       "      <th>TechSupport</th>\n",
       "      <th>StreamingTV</th>\n",
       "      <th>StreamingMovies</th>\n",
       "      <th>MultipleLines</th>\n",
       "      <th>duration</th>\n",
       "      <th>churn</th>\n",
       "      <th>months</th>\n",
       "    </tr>\n",
       "  </thead>\n",
       "  <tbody>\n",
       "    <tr>\n",
       "      <th>0</th>\n",
       "      <td>7590-VHVEG</td>\n",
       "      <td>2020-01-01</td>\n",
       "      <td>2020-02-01</td>\n",
       "      <td>Month-to-month</td>\n",
       "      <td>Yes</td>\n",
       "      <td>Electronic check</td>\n",
       "      <td>29.85</td>\n",
       "      <td>31.04</td>\n",
       "      <td>Female</td>\n",
       "      <td>0</td>\n",
       "      <td>...</td>\n",
       "      <td>No</td>\n",
       "      <td>Yes</td>\n",
       "      <td>No</td>\n",
       "      <td>No</td>\n",
       "      <td>No</td>\n",
       "      <td>No</td>\n",
       "      <td>No service</td>\n",
       "      <td>31</td>\n",
       "      <td>0</td>\n",
       "      <td>1</td>\n",
       "    </tr>\n",
       "    <tr>\n",
       "      <th>1</th>\n",
       "      <td>5575-GNVDE</td>\n",
       "      <td>2017-04-01</td>\n",
       "      <td>2020-02-01</td>\n",
       "      <td>One year</td>\n",
       "      <td>No</td>\n",
       "      <td>Mailed check</td>\n",
       "      <td>56.95</td>\n",
       "      <td>2071.84</td>\n",
       "      <td>Male</td>\n",
       "      <td>0</td>\n",
       "      <td>...</td>\n",
       "      <td>Yes</td>\n",
       "      <td>No</td>\n",
       "      <td>Yes</td>\n",
       "      <td>No</td>\n",
       "      <td>No</td>\n",
       "      <td>No</td>\n",
       "      <td>No</td>\n",
       "      <td>1036</td>\n",
       "      <td>0</td>\n",
       "      <td>36</td>\n",
       "    </tr>\n",
       "    <tr>\n",
       "      <th>2</th>\n",
       "      <td>3668-QPYBK</td>\n",
       "      <td>2019-10-01</td>\n",
       "      <td>2020-02-01</td>\n",
       "      <td>Month-to-month</td>\n",
       "      <td>Yes</td>\n",
       "      <td>Mailed check</td>\n",
       "      <td>53.85</td>\n",
       "      <td>226.17</td>\n",
       "      <td>Male</td>\n",
       "      <td>0</td>\n",
       "      <td>...</td>\n",
       "      <td>Yes</td>\n",
       "      <td>Yes</td>\n",
       "      <td>No</td>\n",
       "      <td>No</td>\n",
       "      <td>No</td>\n",
       "      <td>No</td>\n",
       "      <td>No</td>\n",
       "      <td>123</td>\n",
       "      <td>0</td>\n",
       "      <td>4</td>\n",
       "    </tr>\n",
       "    <tr>\n",
       "      <th>3</th>\n",
       "      <td>7795-CFOCW</td>\n",
       "      <td>2016-05-01</td>\n",
       "      <td>2020-02-01</td>\n",
       "      <td>One year</td>\n",
       "      <td>No</td>\n",
       "      <td>Bank transfer (automatic)</td>\n",
       "      <td>42.30</td>\n",
       "      <td>1960.60</td>\n",
       "      <td>Male</td>\n",
       "      <td>0</td>\n",
       "      <td>...</td>\n",
       "      <td>Yes</td>\n",
       "      <td>No</td>\n",
       "      <td>Yes</td>\n",
       "      <td>Yes</td>\n",
       "      <td>No</td>\n",
       "      <td>No</td>\n",
       "      <td>No service</td>\n",
       "      <td>1371</td>\n",
       "      <td>0</td>\n",
       "      <td>46</td>\n",
       "    </tr>\n",
       "    <tr>\n",
       "      <th>4</th>\n",
       "      <td>9237-HQITU</td>\n",
       "      <td>2019-09-01</td>\n",
       "      <td>2020-02-01</td>\n",
       "      <td>Month-to-month</td>\n",
       "      <td>Yes</td>\n",
       "      <td>Electronic check</td>\n",
       "      <td>70.70</td>\n",
       "      <td>353.50</td>\n",
       "      <td>Female</td>\n",
       "      <td>0</td>\n",
       "      <td>...</td>\n",
       "      <td>No</td>\n",
       "      <td>No</td>\n",
       "      <td>No</td>\n",
       "      <td>No</td>\n",
       "      <td>No</td>\n",
       "      <td>No</td>\n",
       "      <td>No</td>\n",
       "      <td>153</td>\n",
       "      <td>0</td>\n",
       "      <td>5</td>\n",
       "    </tr>\n",
       "  </tbody>\n",
       "</table>\n",
       "<p>5 rows × 23 columns</p>\n",
       "</div>"
      ],
      "text/plain": [
       "   customerID  BeginDate    EndDate            Type PaperlessBilling  \\\n",
       "0  7590-VHVEG 2020-01-01 2020-02-01  Month-to-month              Yes   \n",
       "1  5575-GNVDE 2017-04-01 2020-02-01        One year               No   \n",
       "2  3668-QPYBK 2019-10-01 2020-02-01  Month-to-month              Yes   \n",
       "3  7795-CFOCW 2016-05-01 2020-02-01        One year               No   \n",
       "4  9237-HQITU 2019-09-01 2020-02-01  Month-to-month              Yes   \n",
       "\n",
       "               PaymentMethod  MonthlyCharges  TotalCharges  gender  \\\n",
       "0           Electronic check           29.85         31.04  Female   \n",
       "1               Mailed check           56.95       2071.84    Male   \n",
       "2               Mailed check           53.85        226.17    Male   \n",
       "3  Bank transfer (automatic)           42.30       1960.60    Male   \n",
       "4           Electronic check           70.70        353.50  Female   \n",
       "\n",
       "   SeniorCitizen  ... OnlineSecurity OnlineBackup DeviceProtection  \\\n",
       "0              0  ...             No          Yes               No   \n",
       "1              0  ...            Yes           No              Yes   \n",
       "2              0  ...            Yes          Yes               No   \n",
       "3              0  ...            Yes           No              Yes   \n",
       "4              0  ...             No           No               No   \n",
       "\n",
       "  TechSupport StreamingTV StreamingMovies MultipleLines duration churn months  \n",
       "0          No          No              No    No service       31     0      1  \n",
       "1          No          No              No            No     1036     0     36  \n",
       "2          No          No              No            No      123     0      4  \n",
       "3         Yes          No              No    No service     1371     0     46  \n",
       "4          No          No              No            No      153     0      5  \n",
       "\n",
       "[5 rows x 23 columns]"
      ]
     },
     "metadata": {},
     "output_type": "display_data"
    },
    {
     "name": "stdout",
     "output_type": "stream",
     "text": [
      "\n",
      "Размер таблицы:\n"
     ]
    },
    {
     "data": {
      "text/plain": [
       "(7032, 23)"
      ]
     },
     "metadata": {},
     "output_type": "display_data"
    },
    {
     "name": "stdout",
     "output_type": "stream",
     "text": [
      "\n",
      "Статистические характеристики:\n"
     ]
    },
    {
     "data": {
      "text/html": [
       "<div>\n",
       "<style scoped>\n",
       "    .dataframe tbody tr th:only-of-type {\n",
       "        vertical-align: middle;\n",
       "    }\n",
       "\n",
       "    .dataframe tbody tr th {\n",
       "        vertical-align: top;\n",
       "    }\n",
       "\n",
       "    .dataframe thead th {\n",
       "        text-align: right;\n",
       "    }\n",
       "</style>\n",
       "<table border=\"1\" class=\"dataframe\">\n",
       "  <thead>\n",
       "    <tr style=\"text-align: right;\">\n",
       "      <th></th>\n",
       "      <th>MonthlyCharges</th>\n",
       "      <th>TotalCharges</th>\n",
       "      <th>SeniorCitizen</th>\n",
       "      <th>duration</th>\n",
       "      <th>months</th>\n",
       "    </tr>\n",
       "  </thead>\n",
       "  <tbody>\n",
       "    <tr>\n",
       "      <th>count</th>\n",
       "      <td>7032.000000</td>\n",
       "      <td>7032.000000</td>\n",
       "      <td>7032.000000</td>\n",
       "      <td>7032.000000</td>\n",
       "      <td>7032.000000</td>\n",
       "    </tr>\n",
       "    <tr>\n",
       "      <th>mean</th>\n",
       "      <td>64.798208</td>\n",
       "      <td>2118.621822</td>\n",
       "      <td>0.162400</td>\n",
       "      <td>899.961320</td>\n",
       "      <td>30.340870</td>\n",
       "    </tr>\n",
       "    <tr>\n",
       "      <th>std</th>\n",
       "      <td>30.085974</td>\n",
       "      <td>2112.736199</td>\n",
       "      <td>0.368844</td>\n",
       "      <td>682.738777</td>\n",
       "      <td>23.090104</td>\n",
       "    </tr>\n",
       "    <tr>\n",
       "      <th>min</th>\n",
       "      <td>18.250000</td>\n",
       "      <td>19.050000</td>\n",
       "      <td>0.000000</td>\n",
       "      <td>28.000000</td>\n",
       "      <td>1.000000</td>\n",
       "    </tr>\n",
       "    <tr>\n",
       "      <th>25%</th>\n",
       "      <td>35.587500</td>\n",
       "      <td>439.745000</td>\n",
       "      <td>0.000000</td>\n",
       "      <td>276.000000</td>\n",
       "      <td>9.000000</td>\n",
       "    </tr>\n",
       "    <tr>\n",
       "      <th>50%</th>\n",
       "      <td>70.350000</td>\n",
       "      <td>1345.275000</td>\n",
       "      <td>0.000000</td>\n",
       "      <td>761.000000</td>\n",
       "      <td>26.000000</td>\n",
       "    </tr>\n",
       "    <tr>\n",
       "      <th>75%</th>\n",
       "      <td>89.862500</td>\n",
       "      <td>3239.317500</td>\n",
       "      <td>0.000000</td>\n",
       "      <td>1461.000000</td>\n",
       "      <td>49.000000</td>\n",
       "    </tr>\n",
       "    <tr>\n",
       "      <th>max</th>\n",
       "      <td>118.750000</td>\n",
       "      <td>9221.380000</td>\n",
       "      <td>1.000000</td>\n",
       "      <td>2314.000000</td>\n",
       "      <td>79.000000</td>\n",
       "    </tr>\n",
       "  </tbody>\n",
       "</table>\n",
       "</div>"
      ],
      "text/plain": [
       "       MonthlyCharges  TotalCharges  SeniorCitizen     duration       months\n",
       "count     7032.000000   7032.000000    7032.000000  7032.000000  7032.000000\n",
       "mean        64.798208   2118.621822       0.162400   899.961320    30.340870\n",
       "std         30.085974   2112.736199       0.368844   682.738777    23.090104\n",
       "min         18.250000     19.050000       0.000000    28.000000     1.000000\n",
       "25%         35.587500    439.745000       0.000000   276.000000     9.000000\n",
       "50%         70.350000   1345.275000       0.000000   761.000000    26.000000\n",
       "75%         89.862500   3239.317500       0.000000  1461.000000    49.000000\n",
       "max        118.750000   9221.380000       1.000000  2314.000000    79.000000"
      ]
     },
     "metadata": {},
     "output_type": "display_data"
    },
    {
     "name": "stdout",
     "output_type": "stream",
     "text": [
      "\n",
      "Информация о данных в таблице:\n",
      "<class 'pandas.core.frame.DataFrame'>\n",
      "Int64Index: 7032 entries, 0 to 7042\n",
      "Data columns (total 23 columns):\n",
      " #   Column            Non-Null Count  Dtype         \n",
      "---  ------            --------------  -----         \n",
      " 0   customerID        7032 non-null   object        \n",
      " 1   BeginDate         7032 non-null   datetime64[ns]\n",
      " 2   EndDate           7032 non-null   datetime64[ns]\n",
      " 3   Type              7032 non-null   object        \n",
      " 4   PaperlessBilling  7032 non-null   object        \n",
      " 5   PaymentMethod     7032 non-null   object        \n",
      " 6   MonthlyCharges    7032 non-null   float64       \n",
      " 7   TotalCharges      7032 non-null   float64       \n",
      " 8   gender            7032 non-null   object        \n",
      " 9   SeniorCitizen     7032 non-null   int64         \n",
      " 10  Partner           7032 non-null   object        \n",
      " 11  Dependents        7032 non-null   object        \n",
      " 12  InternetService   7032 non-null   object        \n",
      " 13  OnlineSecurity    7032 non-null   object        \n",
      " 14  OnlineBackup      7032 non-null   object        \n",
      " 15  DeviceProtection  7032 non-null   object        \n",
      " 16  TechSupport       7032 non-null   object        \n",
      " 17  StreamingTV       7032 non-null   object        \n",
      " 18  StreamingMovies   7032 non-null   object        \n",
      " 19  MultipleLines     7032 non-null   object        \n",
      " 20  duration          7032 non-null   int64         \n",
      " 21  churn             7032 non-null   object        \n",
      " 22  months            7032 non-null   int64         \n",
      "dtypes: datetime64[ns](2), float64(2), int64(3), object(16)\n",
      "memory usage: 1.3+ MB\n"
     ]
    },
    {
     "data": {
      "text/plain": [
       "None"
      ]
     },
     "metadata": {},
     "output_type": "display_data"
    },
    {
     "name": "stdout",
     "output_type": "stream",
     "text": [
      "\n",
      "Количество дубликатов:\n"
     ]
    },
    {
     "data": {
      "text/plain": [
       "0"
      ]
     },
     "metadata": {},
     "output_type": "display_data"
    },
    {
     "name": "stdout",
     "output_type": "stream",
     "text": [
      "\n",
      "Количество уникальных значений для каждого столбца:\n",
      "customerID: 7032\n",
      "BeginDate: 76\n",
      "EndDate: 67\n",
      "Type: 3\n",
      "PaperlessBilling: 2\n",
      "PaymentMethod: 4\n",
      "MonthlyCharges: 1584\n",
      "TotalCharges: 6657\n",
      "gender: 2\n",
      "SeniorCitizen: 2\n",
      "Partner: 2\n",
      "Dependents: 2\n",
      "InternetService: 3\n",
      "OnlineSecurity: 2\n",
      "OnlineBackup: 2\n",
      "DeviceProtection: 2\n",
      "TechSupport: 2\n",
      "StreamingTV: 2\n",
      "StreamingMovies: 2\n",
      "MultipleLines: 3\n",
      "duration: 250\n",
      "churn: 2\n",
      "months: 79\n"
     ]
    }
   ],
   "source": [
    "preview(data)"
   ]
  },
  {
   "cell_type": "markdown",
   "metadata": {},
   "source": [
    "Все новые данные на месте, пропусков и потерь данных нет."
   ]
  },
  {
   "cell_type": "markdown",
   "metadata": {},
   "source": [
    "<h1>Вывод</h1>\n",
    "\n",
    "На этом предобработку данных можно считать завершённой. В данной главе, мы проделали следующую работу:\n",
    "1. Объединили все четыре датасета в один.\n",
    "2. Заменили конечную дату окончания контракта, у клиентов без определённой даты на 1 февраля 2020 г. (день выгрузки датасета).\n",
    "3. Перевели даты в правильный формат datetime.\n",
    "4. Выяснили, что 11 клиентов, которые присоединились к компании 1 февраля 2020 года, не имели записи об оплате, эти данные было решено удалить.\n",
    "5. Поле \"TotalCharges\" перевели в формат float.\n",
    "6. Заменили пропуски на \"No\" во всех полях кроме *MultipleLines*. Так как клиенты не пользуются данными услугами компании \"Ниединогоразрыва.ком\".\n",
    "7. Добавили столбец, показывающий длительность контракта в днях в датафрейм.\n",
    "8. Добавили признак *churn*, показывающий ушёл клиент или нет.\n",
    "9. Добавлен столбец *months*, показывающий количество месяцев пользования услугами.\n",
    "\n",
    "Переходим к исследованию данных."
   ]
  },
  {
   "cell_type": "markdown",
   "metadata": {},
   "source": [
    "<a id='section_id_5'></a>\n",
    "## Исследование данных"
   ]
  },
  {
   "cell_type": "markdown",
   "metadata": {},
   "source": [
    "Данные полностью готовы к исследовательскому анализу. Начнём с просмотра распределения клиентов - сколько осталось, а сколько ушло."
   ]
  },
  {
   "cell_type": "code",
   "execution_count": 25,
   "metadata": {
    "scrolled": true
   },
   "outputs": [
    {
     "data": {
      "image/png": "[encoded data removed]",
      "text/plain": [
       "<Figure size 432x288 with 1 Axes>"
      ]
     },
     "metadata": {
      "needs_background": "light"
     },
     "output_type": "display_data"
    },
    {
     "data": {
      "text/plain": [
       "0    5931\n",
       "1    1101\n",
       "Name: churn, dtype: int64"
      ]
     },
     "execution_count": 25,
     "metadata": {},
     "output_type": "execute_result"
    }
   ],
   "source": [
    "churn_counts = data['churn'].value_counts()\n",
    "plt.bar(churn_counts.index, churn_counts.values)\n",
    "plt.title('Соотношение ушедших и оставшихся клиентов')\n",
    "plt.xlabel('Показатели')\n",
    "plt.ylabel('Количество клиентов')\n",
    "plt.show()\n",
    "\n",
    "data['churn'].value_counts()"
   ]
  },
  {
   "cell_type": "code",
   "execution_count": 26,
   "metadata": {},
   "outputs": [
    {
     "data": {
      "image/png": "[encoded data removed]",
      "text/plain": [
       "<Figure size 432x288 with 1 Axes>"
      ]
     },
     "metadata": {},
     "output_type": "display_data"
    }
   ],
   "source": [
    "churn_counts = data['churn'].value_counts()\n",
    "labels = churn_counts.index\n",
    "sizes = churn_counts.values\n",
    "\n",
    "fig1, ax1 = plt.subplots()\n",
    "ax1.pie(sizes, labels=['Остались', 'Ушли'], autopct='%1.1f%%', startangle=90)\n",
    "ax1.axis('equal')\n",
    "\n",
    "plt.title('Соотношение ушедших и оставшихся клиентов')\n",
    "plt.show()"
   ]
  },
  {
   "cell_type": "markdown",
   "metadata": {},
   "source": [
    "По данному графику заметно, что из более 7000 клиентов, прекратили своё сотрудничество около тысячи клиентов, около 6 тысяч клиентов продолжают пользоваться услугами. Соотношение классов 1 к 6 (15.7 к 84.3 в процентном соотношении). Учтём, что присутсвует дисбаланс классов. Но в тоже время метрика, которую мы будем использовать для построения модели (AUC-ROC) не чувствительна к данной проблеме."
   ]
  },
  {
   "cell_type": "markdown",
   "metadata": {},
   "source": [
    "Построим график, который показывает среднее и медианное значения времени, через которое клиент покидает компанию."
   ]
  },
  {
   "cell_type": "code",
   "execution_count": 27,
   "metadata": {
    "scrolled": true
   },
   "outputs": [
    {
     "data": {
      "image/png": "[encoded data removed]",
      "text/plain": [
       "<Figure size 1152x360 with 1 Axes>"
      ]
     },
     "metadata": {
      "needs_background": "light"
     },
     "output_type": "display_data"
    }
   ],
   "source": [
    "data_left = data.loc[data['churn'] == '1']\n",
    "\n",
    "mean_duration = data_left['duration'].mean()\n",
    "median_duration = data_left['duration'].median()\n",
    "\n",
    "plt.figure(figsize=(16, 5))\n",
    "plt.hist(data_left['duration'], bins=15, alpha=1, label='Ушедшие клиенты')\n",
    "plt.axvline(mean_duration, color='red', linestyle='dashed', linewidth=2, label='Cреднее количество дней')\n",
    "plt.axvline(median_duration, color='green', linestyle='dashed', linewidth=2, label='Медиана количества дней')\n",
    "\n",
    "\n",
    "plt.title('График ухода клиентов')\n",
    "plt.legend(loc='upper right')\n",
    "plt.xlabel('Количество дней')\n",
    "plt.ylabel('Количество клиентов')\n",
    "plt.show()"
   ]
  },
  {
   "cell_type": "markdown",
   "metadata": {},
   "source": [
    "Данный график показывает, что большинство клиентов покидает компанию через, примерно, 900 дней после заключения контракта. "
   ]
  },
  {
   "cell_type": "code",
   "execution_count": 28,
   "metadata": {
    "scrolled": true
   },
   "outputs": [
    {
     "data": {
      "image/png": "[encoded data removed]",
      "text/plain": [
       "<Figure size 1008x360 with 1 Axes>"
      ]
     },
     "metadata": {
      "needs_background": "light"
     },
     "output_type": "display_data"
    }
   ],
   "source": [
    "plt.figure(figsize=(14, 5))\n",
    "\n",
    "months_no_churn = data[data['churn'] == '0']['months']\n",
    "months_yes_churn = data[data['churn'] == '1']['months']\n",
    "\n",
    "plt.hist(months_no_churn, bins=30, alpha=0.5, label='Остались')\n",
    "plt.hist(months_yes_churn, bins=30, alpha=0.5, label='Ушли')\n",
    "plt.axvline(np.median(months_no_churn), color='blue', linestyle='dashed', linewidth=2, label='Медиана (остались)')\n",
    "plt.axvline(np.median(months_yes_churn), color='orange', linestyle='dashed', linewidth=2, label='Медиана (ушли)')\n",
    "plt.axvline(np.mean(months_no_churn), color='blue', linestyle='solid', linewidth=2, label='Среднее (остались)')\n",
    "plt.axvline(np.mean(months_yes_churn), color='orange', linestyle='solid', linewidth=2, label='Среднее (ушли)')\n",
    "plt.legend(loc='upper right')\n",
    "plt.xlabel('Количество месяцев')\n",
    "plt.ylabel('Число клиентов')\n",
    "plt.title('Гистограмма распределения ухода по месяцам')\n",
    "plt.show()"
   ]
  },
  {
   "cell_type": "markdown",
   "metadata": {},
   "source": [
    "Средние значения клиентов, которые остаются и уходят - практически совпадают. Клиенты начинают уходить после 30-го месяца."
   ]
  },
  {
   "cell_type": "code",
   "execution_count": 29,
   "metadata": {},
   "outputs": [
    {
     "data": {
      "image/png": "[encoded data removed]",
      "text/plain": [
       "<Figure size 1008x432 with 1 Axes>"
      ]
     },
     "metadata": {
      "needs_background": "light"
     },
     "output_type": "display_data"
    }
   ],
   "source": [
    "plt.figure(figsize=(14, 6))\n",
    "plt.scatter(data[data['churn'] == '0']['MonthlyCharges'], data[data['churn'] == '0']['TotalCharges'], s=10, alpha=0.5, label='Остались')\n",
    "plt.scatter(data[data['churn'] == '1']['MonthlyCharges'], data[data['churn'] == '1']['TotalCharges'], s=10, alpha=0.5, label='Ушли')\n",
    "plt.legend(loc='upper right')\n",
    "plt.xlabel('Ежемесячные платежи')\n",
    "plt.ylabel('Общие траты')\n",
    "plt.title('Scatterplot общих и месячных трат')\n",
    "plt.show()"
   ]
  },
  {
   "cell_type": "markdown",
   "metadata": {},
   "source": [
    "По данному графику заметим, что многие клиенты уходят до момента, когда сумма общих трат достигнет 2000 у.е. Клиенты которые платят меньше остаются чаще, соответственно их ежемесячные платежи меньше и они остаются дольше."
   ]
  },
  {
   "cell_type": "code",
   "execution_count": 30,
   "metadata": {},
   "outputs": [
    {
     "data": {
      "image/png": "[encoded data removed]",
      "text/plain": [
       "<Figure size 1152x360 with 1 Axes>"
      ]
     },
     "metadata": {},
     "output_type": "display_data"
    }
   ],
   "source": [
    "sns.set_style('darkgrid')\n",
    "plt.figure(figsize=(16, 5))\n",
    "plt.xlabel('Дата заключения договора')\n",
    "plt.ylabel('Количество клиентов')\n",
    "\n",
    "sns.histplot(data=data, x='BeginDate', hue='churn', multiple='dodge', shrink=0.8, palette=['C0', 'C1'])\n",
    "plt.legend(labels=['Ушел', 'Остался'], title='Клиент', loc='upper left')\n",
    "plt.show()"
   ]
  },
  {
   "cell_type": "markdown",
   "metadata": {},
   "source": [
    "Данный график показывает, когда были заключены договоры с клиентами, и какое количество клиентов ушло и осталось в зависимости от даты заключения договора.  Заметно, что многие клиенты, заключившие договор в 2014-15 гг. покинули компанию. После 2016 г. ситуация с уходом клиентов улучшилась."
   ]
  },
  {
   "cell_type": "code",
   "execution_count": 31,
   "metadata": {},
   "outputs": [
    {
     "data": {
      "image/png": "[encoded data removed]",
      "text/plain": [
       "<Figure size 1152x432 with 1 Axes>"
      ]
     },
     "metadata": {},
     "output_type": "display_data"
    }
   ],
   "source": [
    "sns.set_style('darkgrid')\n",
    "plt.figure(figsize=(16, 6))\n",
    "sns.histplot(data=data, x='MonthlyCharges', hue='churn', multiple='dodge', shrink=0.8, palette=['C0', 'C1'])\n",
    "plt.legend(labels=['Ушел', 'Остался'], title='Клиент', loc='upper right')\n",
    "plt.title('Гистограмма распределения ежемесячных платежей')\n",
    "plt.xlabel('Ежемесячный платеж')\n",
    "plt.ylabel('Количество клиентов')\n",
    "plt.show()"
   ]
  },
  {
   "cell_type": "markdown",
   "metadata": {},
   "source": [
    "По данному графику отметим, что взаимосвязь между ценой платы за месяц и уходом клиентов существует. Клиент, который ежемесячно платит 20 условных едениц, гораздо чаще остаётся. А многие из клиентов, которые ежемесячно плятят суммы в разы выше, гораздо чаще покидают компанию. Например, из 350 клиентов, которые платят около 100 у.е., пятьдесят клиентов уходят. А из 1100 клиентов, которые плятят 20 у.е. в месяц, лишь 100 клиентов прекращают договор с компанией."
   ]
  },
  {
   "cell_type": "code",
   "execution_count": 32,
   "metadata": {},
   "outputs": [
    {
     "data": {
      "image/png": "[encoded data removed]",
      "text/plain": [
       "<Figure size 1008x432 with 1 Axes>"
      ]
     },
     "metadata": {},
     "output_type": "display_data"
    }
   ],
   "source": [
    "sns.set_style('darkgrid')\n",
    "plt.figure(figsize=(14, 6))\n",
    "sns.boxplot(data=data, x='churn', y='TotalCharges', palette=['C0', 'C1'])\n",
    "plt.title('Распределение общих затрат по статусу ухода клиента')\n",
    "plt.xlabel('Статус клиента')\n",
    "plt.ylabel('Всего потрачено денег на услуги')\n",
    "plt.gca().set_xticklabels(labels=['Остался', 'Ушел'])\n",
    "plt.show()"
   ]
  },
  {
   "cell_type": "markdown",
   "metadata": {},
   "source": [
    "По данному графику заметно, что ушедшие клиенты платили больше, чем клиенты, которые остались. "
   ]
  },
  {
   "cell_type": "code",
   "execution_count": 33,
   "metadata": {},
   "outputs": [
    {
     "data": {
      "image/png": "[encoded data removed]",
      "text/plain": [
       "<Figure size 1008x432 with 1 Axes>"
      ]
     },
     "metadata": {},
     "output_type": "display_data"
    }
   ],
   "source": [
    "plt.figure(figsize=(14, 6))\n",
    "sns.countplot(data=data, x='PaymentMethod', hue='churn', palette=['C0', 'C1'])\n",
    "plt.xlabel('Способ оплаты')\n",
    "plt.ylabel('Количество клиентов')\n",
    "plt.title('Диаграмма способов оплаты')\n",
    "plt.legend(labels=['Остался', 'Ушел'], title='Клиент', loc='upper right')\n",
    "plt.gca().set_xticklabels(labels=['Электронная оплата', 'Оплата по квитанции', 'Банковский перевод' ,'Списывание с карты'])\n",
    "plt.show()"
   ]
  },
  {
   "cell_type": "markdown",
   "metadata": {},
   "source": [
    "Отметим, что меньше всего клиенты клиенты покидают компанию, если они платят традиционнным методом, по остальным трём методам оплаты распределение ухода, в целом, одинаковое."
   ]
  },
  {
   "cell_type": "code",
   "execution_count": 34,
   "metadata": {
    "scrolled": true
   },
   "outputs": [
    {
     "data": {
      "image/png": "[encoded data removed]",
      "text/plain": [
       "<Figure size 864x360 with 1 Axes>"
      ]
     },
     "metadata": {},
     "output_type": "display_data"
    }
   ],
   "source": [
    "sns.set_style('darkgrid')\n",
    "plt.figure(figsize=(12, 5))\n",
    "sns.countplot(data=data, x='Type', hue='churn', palette=['C0', 'C1'])\n",
    "plt.xlabel('Тип контракта')\n",
    "plt.ylabel('Количество клиентов')\n",
    "plt.title('Столбчатая диаграмма по типам контрактов')\n",
    "plt.legend(labels=['Остался', 'Ушел'], title='Клиент', loc='upper right')\n",
    "plt.gca().set_xticklabels(labels=['Ежемесячный контракт', 'Годовой контракт', 'Двухлетний контракт'])\n",
    "plt.show()"
   ]
  },
  {
   "cell_type": "markdown",
   "metadata": {},
   "source": [
    "Большая часть ушедших клиентов заключали ежемесячный контракт, чуть меньше пользователей покинули компанию по истечении двухлетнего контракта, и немного меньше заключали однолетний контракт. Также отметим, что большинство клиентов заключают ежемесячный контракт."
   ]
  },
  {
   "cell_type": "code",
   "execution_count": 35,
   "metadata": {},
   "outputs": [
    {
     "data": {
      "image/png": "[encoded data removed]",
      "text/plain": [
       "<Figure size 864x432 with 1 Axes>"
      ]
     },
     "metadata": {},
     "output_type": "display_data"
    }
   ],
   "source": [
    "sns.set_style('darkgrid')\n",
    "plt.figure(figsize=(12, 6))\n",
    "sns.countplot(data=data, x='SeniorCitizen', hue='churn', palette=['C0', 'C1'])\n",
    "plt.xlabel('Статус клиента')\n",
    "plt.ylabel('Количество клиентов')\n",
    "plt.title('Распределение уходов среди пенсионеров')\n",
    "plt.legend(labels=['Остался', 'Ушел'], title='Клиент', loc='upper right')\n",
    "plt.gca().set_xticklabels(labels=['Не пенсионер', 'Пенсионер'])\n",
    "plt.show()"
   ]
  },
  {
   "cell_type": "markdown",
   "metadata": {},
   "source": [
    "По данному графику, можно отметить, что большая часть клиентов компании не являются пенсионерами. Среди граждан пенсионного возраста, большая часть остаётся и пользуется услугами, уходит лишь небольшая часть."
   ]
  },
  {
   "cell_type": "markdown",
   "metadata": {},
   "source": [
    "Попробуем построить график наличия дополнительных телефонных линий и факта ухода пользователя."
   ]
  },
  {
   "cell_type": "code",
   "execution_count": 36,
   "metadata": {},
   "outputs": [
    {
     "data": {
      "image/png": "[encoded data removed]",
      "text/plain": [
       "<Figure size 864x432 with 1 Axes>"
      ]
     },
     "metadata": {},
     "output_type": "display_data"
    }
   ],
   "source": [
    "sns.set_style('darkgrid')\n",
    "plt.figure(figsize=(12, 6))\n",
    "sns.countplot(data=data, x='MultipleLines', hue='churn', palette=['C0', 'C1'])\n",
    "plt.xlabel('Телефонных линии')\n",
    "plt.ylabel('Количество клиентов')\n",
    "plt.title('Распределение уходов по наличию паралелльных телефонных линий')\n",
    "plt.legend(labels=['Остался', 'Ушел'], title='Клиент', loc='upper right')\n",
    "plt.gca().set_xticklabels(labels=['Не используется', 'Нет линии', 'Есть линия'])\n",
    "plt.show()"
   ]
  },
  {
   "cell_type": "markdown",
   "metadata": {},
   "source": [
    "Данный график показывает, что небольшое количество клиентов не пользуется телефонными линиями, а количество ушедших клиентов в данной категории около 100 человек. Большинство клиентов, использующих сервис, не имеют дополнительных линий, при этом число ушедших клиентов в этой категории немного выше, чем в предыдущей категории. У большинства пользователей, которые ушли, было несколько телефонных линий, однако количество этих пользователей не превышает количество оставшихся пользователей в данной категории"
   ]
  },
  {
   "cell_type": "markdown",
   "metadata": {},
   "source": [
    "Изучим соотношение значений на корреляционной матрице."
   ]
  },
  {
   "cell_type": "code",
   "execution_count": 37,
   "metadata": {},
   "outputs": [
    {
     "name": "stdout",
     "output_type": "stream",
     "text": [
      "interval columns not set, guessing: ['MonthlyCharges', 'TotalCharges', 'SeniorCitizen', 'duration', 'months']\n"
     ]
    },
    {
     "name": "stderr",
     "output_type": "stream",
     "text": [
      "/opt/conda/lib/python3.9/site-packages/phik/data_quality.py:59: UserWarning: The number of unique values of variable customerID is large: 7032. Are you sure this is not an interval variable? Analysis for pairs of variables including customerID can be slow.\n",
      "  warnings.warn(\n"
     ]
    },
    {
     "data": {
      "image/png": "[encoded data removed]",
      "text/plain": [
       "<Figure size 1224x720 with 2 Axes>"
      ]
     },
     "metadata": {},
     "output_type": "display_data"
    }
   ],
   "source": [
    "corr_matrix = data.phik_matrix()\n",
    "\n",
    "plt.figure(figsize=(17, 10))\n",
    "sns.heatmap(corr_matrix, annot=True, cmap='coolwarm')\n",
    "plt.title('Phik - корреляционная матрица')\n",
    "plt.show()"
   ]
  },
  {
   "cell_type": "markdown",
   "metadata": {},
   "source": [
    "Выводы по корреляции:\n",
    "\n",
    "* Не обнаружено ярко выраженных факторов, которые бы коррелировали с уходом клиента или влияли на него.\n",
    "* Наблюдается устойчивая связь между услугами интернета, возможностью просмотра ТВ и видео онлайн и ежемесячной оплатой.\n",
    "* Пол клиента не влияет на уход или выбор каких-либо услуг.\n",
    "* Наличие партнёра коррелирует с наличием иждивенцев.\n",
    "* Многие клиенты, которые пользуются интернетом, имеют дополнительные телефонные линии.\n",
    "* Многие пользователи устанавливают программы для защиты девайсов и пользуются услугами резервного копирования данных.\n",
    "* Все столбцы со указанием дат и временем кореллируют между собой."
   ]
  },
  {
   "cell_type": "markdown",
   "metadata": {},
   "source": [
    "<h1>Вывод</h1>\n",
    "\n",
    "* Соотношение ушедших к оставшимся клиентов (84 к 16).\n",
    "* Ушедшие клиенты платили больше чем клиенты, которые остались.  \n",
    "* Клиенты прекращают пользоваться услугами компании после, примерно, двух лет пользования сервисом.\n",
    "* Если клиент на долгосрочном контракте с компанией, то он скорее останется. В тоже время, клиенты, которые заключают ежемесячный контракт, чаще покидают компанию.\n",
    "* Клиенты на ежемесячном контакте платят больше. Таким образом, цена, одна из основных причин ухода клиентов. "
   ]
  },
  {
   "cell_type": "markdown",
   "metadata": {},
   "source": [
    "<a id='section_id_6'></a>\n",
    "## Обучение модели"
   ]
  },
  {
   "cell_type": "markdown",
   "metadata": {},
   "source": [
    "В данной главе обучим следующие модели:  \n",
    "\n",
    "**1) CatBoostClassifier  \n",
    "2) LogisticRegression  \n",
    "3) RandomForestClassifier**\n",
    "\n",
    "Сравним их показатели **AUC-ROC** и **accuracy**, выберем лучшую, и проверим показатели на тестовых данных. Будем учитывать, что модели: \n",
    " * Catboost не требует кодирования данных, но ей необходимо передать категориальные значения.\n",
    " * LogisticRegression требует кодировку данных по OHE.\n",
    " * RandomForestClassifier требует кодировку данных по OE. \n",
    " Выполним необходимые действия перед непосредственным обучением."
   ]
  },
  {
   "cell_type": "markdown",
   "metadata": {},
   "source": [
    "Для корректной работы модели, необходимо перевести колонки признаков в категориальный класс."
   ]
  },
  {
   "cell_type": "code",
   "execution_count": 38,
   "metadata": {},
   "outputs": [],
   "source": [
    "cols_to_convert = [\"Type\", \"PaperlessBilling\", \"PaymentMethod\", \"gender\", \"Partner\", \"Dependents\", \n",
    "                   \"InternetService\", \"OnlineSecurity\", \"OnlineBackup\", \"DeviceProtection\", \"TechSupport\", \n",
    "                   \"StreamingTV\", \"StreamingMovies\", \"MultipleLines\", \"SeniorCitizen\", 'churn']\n",
    "\n",
    "data[cols_to_convert] = data[cols_to_convert].astype(\"category\")"
   ]
  },
  {
   "cell_type": "markdown",
   "metadata": {},
   "source": [
    "Проверим данные"
   ]
  },
  {
   "cell_type": "code",
   "execution_count": 39,
   "metadata": {},
   "outputs": [
    {
     "name": "stdout",
     "output_type": "stream",
     "text": [
      "Первые 5 строк таблицы:\n"
     ]
    },
    {
     "data": {
      "text/html": [
       "<div>\n",
       "<style scoped>\n",
       "    .dataframe tbody tr th:only-of-type {\n",
       "        vertical-align: middle;\n",
       "    }\n",
       "\n",
       "    .dataframe tbody tr th {\n",
       "        vertical-align: top;\n",
       "    }\n",
       "\n",
       "    .dataframe thead th {\n",
       "        text-align: right;\n",
       "    }\n",
       "</style>\n",
       "<table border=\"1\" class=\"dataframe\">\n",
       "  <thead>\n",
       "    <tr style=\"text-align: right;\">\n",
       "      <th></th>\n",
       "      <th>customerID</th>\n",
       "      <th>BeginDate</th>\n",
       "      <th>EndDate</th>\n",
       "      <th>Type</th>\n",
       "      <th>PaperlessBilling</th>\n",
       "      <th>PaymentMethod</th>\n",
       "      <th>MonthlyCharges</th>\n",
       "      <th>TotalCharges</th>\n",
       "      <th>gender</th>\n",
       "      <th>SeniorCitizen</th>\n",
       "      <th>...</th>\n",
       "      <th>OnlineSecurity</th>\n",
       "      <th>OnlineBackup</th>\n",
       "      <th>DeviceProtection</th>\n",
       "      <th>TechSupport</th>\n",
       "      <th>StreamingTV</th>\n",
       "      <th>StreamingMovies</th>\n",
       "      <th>MultipleLines</th>\n",
       "      <th>duration</th>\n",
       "      <th>churn</th>\n",
       "      <th>months</th>\n",
       "    </tr>\n",
       "  </thead>\n",
       "  <tbody>\n",
       "    <tr>\n",
       "      <th>0</th>\n",
       "      <td>7590-VHVEG</td>\n",
       "      <td>2020-01-01</td>\n",
       "      <td>2020-02-01</td>\n",
       "      <td>Month-to-month</td>\n",
       "      <td>Yes</td>\n",
       "      <td>Electronic check</td>\n",
       "      <td>29.85</td>\n",
       "      <td>31.04</td>\n",
       "      <td>Female</td>\n",
       "      <td>0</td>\n",
       "      <td>...</td>\n",
       "      <td>No</td>\n",
       "      <td>Yes</td>\n",
       "      <td>No</td>\n",
       "      <td>No</td>\n",
       "      <td>No</td>\n",
       "      <td>No</td>\n",
       "      <td>No service</td>\n",
       "      <td>31</td>\n",
       "      <td>0</td>\n",
       "      <td>1</td>\n",
       "    </tr>\n",
       "    <tr>\n",
       "      <th>1</th>\n",
       "      <td>5575-GNVDE</td>\n",
       "      <td>2017-04-01</td>\n",
       "      <td>2020-02-01</td>\n",
       "      <td>One year</td>\n",
       "      <td>No</td>\n",
       "      <td>Mailed check</td>\n",
       "      <td>56.95</td>\n",
       "      <td>2071.84</td>\n",
       "      <td>Male</td>\n",
       "      <td>0</td>\n",
       "      <td>...</td>\n",
       "      <td>Yes</td>\n",
       "      <td>No</td>\n",
       "      <td>Yes</td>\n",
       "      <td>No</td>\n",
       "      <td>No</td>\n",
       "      <td>No</td>\n",
       "      <td>No</td>\n",
       "      <td>1036</td>\n",
       "      <td>0</td>\n",
       "      <td>36</td>\n",
       "    </tr>\n",
       "    <tr>\n",
       "      <th>2</th>\n",
       "      <td>3668-QPYBK</td>\n",
       "      <td>2019-10-01</td>\n",
       "      <td>2020-02-01</td>\n",
       "      <td>Month-to-month</td>\n",
       "      <td>Yes</td>\n",
       "      <td>Mailed check</td>\n",
       "      <td>53.85</td>\n",
       "      <td>226.17</td>\n",
       "      <td>Male</td>\n",
       "      <td>0</td>\n",
       "      <td>...</td>\n",
       "      <td>Yes</td>\n",
       "      <td>Yes</td>\n",
       "      <td>No</td>\n",
       "      <td>No</td>\n",
       "      <td>No</td>\n",
       "      <td>No</td>\n",
       "      <td>No</td>\n",
       "      <td>123</td>\n",
       "      <td>0</td>\n",
       "      <td>4</td>\n",
       "    </tr>\n",
       "    <tr>\n",
       "      <th>3</th>\n",
       "      <td>7795-CFOCW</td>\n",
       "      <td>2016-05-01</td>\n",
       "      <td>2020-02-01</td>\n",
       "      <td>One year</td>\n",
       "      <td>No</td>\n",
       "      <td>Bank transfer (automatic)</td>\n",
       "      <td>42.30</td>\n",
       "      <td>1960.60</td>\n",
       "      <td>Male</td>\n",
       "      <td>0</td>\n",
       "      <td>...</td>\n",
       "      <td>Yes</td>\n",
       "      <td>No</td>\n",
       "      <td>Yes</td>\n",
       "      <td>Yes</td>\n",
       "      <td>No</td>\n",
       "      <td>No</td>\n",
       "      <td>No service</td>\n",
       "      <td>1371</td>\n",
       "      <td>0</td>\n",
       "      <td>46</td>\n",
       "    </tr>\n",
       "    <tr>\n",
       "      <th>4</th>\n",
       "      <td>9237-HQITU</td>\n",
       "      <td>2019-09-01</td>\n",
       "      <td>2020-02-01</td>\n",
       "      <td>Month-to-month</td>\n",
       "      <td>Yes</td>\n",
       "      <td>Electronic check</td>\n",
       "      <td>70.70</td>\n",
       "      <td>353.50</td>\n",
       "      <td>Female</td>\n",
       "      <td>0</td>\n",
       "      <td>...</td>\n",
       "      <td>No</td>\n",
       "      <td>No</td>\n",
       "      <td>No</td>\n",
       "      <td>No</td>\n",
       "      <td>No</td>\n",
       "      <td>No</td>\n",
       "      <td>No</td>\n",
       "      <td>153</td>\n",
       "      <td>0</td>\n",
       "      <td>5</td>\n",
       "    </tr>\n",
       "  </tbody>\n",
       "</table>\n",
       "<p>5 rows × 23 columns</p>\n",
       "</div>"
      ],
      "text/plain": [
       "   customerID  BeginDate    EndDate            Type PaperlessBilling  \\\n",
       "0  7590-VHVEG 2020-01-01 2020-02-01  Month-to-month              Yes   \n",
       "1  5575-GNVDE 2017-04-01 2020-02-01        One year               No   \n",
       "2  3668-QPYBK 2019-10-01 2020-02-01  Month-to-month              Yes   \n",
       "3  7795-CFOCW 2016-05-01 2020-02-01        One year               No   \n",
       "4  9237-HQITU 2019-09-01 2020-02-01  Month-to-month              Yes   \n",
       "\n",
       "               PaymentMethod  MonthlyCharges  TotalCharges  gender  \\\n",
       "0           Electronic check           29.85         31.04  Female   \n",
       "1               Mailed check           56.95       2071.84    Male   \n",
       "2               Mailed check           53.85        226.17    Male   \n",
       "3  Bank transfer (automatic)           42.30       1960.60    Male   \n",
       "4           Electronic check           70.70        353.50  Female   \n",
       "\n",
       "  SeniorCitizen  ... OnlineSecurity OnlineBackup DeviceProtection TechSupport  \\\n",
       "0             0  ...             No          Yes               No          No   \n",
       "1             0  ...            Yes           No              Yes          No   \n",
       "2             0  ...            Yes          Yes               No          No   \n",
       "3             0  ...            Yes           No              Yes         Yes   \n",
       "4             0  ...             No           No               No          No   \n",
       "\n",
       "  StreamingTV StreamingMovies MultipleLines duration churn months  \n",
       "0          No              No    No service       31     0      1  \n",
       "1          No              No            No     1036     0     36  \n",
       "2          No              No            No      123     0      4  \n",
       "3          No              No    No service     1371     0     46  \n",
       "4          No              No            No      153     0      5  \n",
       "\n",
       "[5 rows x 23 columns]"
      ]
     },
     "metadata": {},
     "output_type": "display_data"
    },
    {
     "name": "stdout",
     "output_type": "stream",
     "text": [
      "\n",
      "Размер таблицы:\n"
     ]
    },
    {
     "data": {
      "text/plain": [
       "(7032, 23)"
      ]
     },
     "metadata": {},
     "output_type": "display_data"
    },
    {
     "name": "stdout",
     "output_type": "stream",
     "text": [
      "\n",
      "Статистические характеристики:\n"
     ]
    },
    {
     "data": {
      "text/html": [
       "<div>\n",
       "<style scoped>\n",
       "    .dataframe tbody tr th:only-of-type {\n",
       "        vertical-align: middle;\n",
       "    }\n",
       "\n",
       "    .dataframe tbody tr th {\n",
       "        vertical-align: top;\n",
       "    }\n",
       "\n",
       "    .dataframe thead th {\n",
       "        text-align: right;\n",
       "    }\n",
       "</style>\n",
       "<table border=\"1\" class=\"dataframe\">\n",
       "  <thead>\n",
       "    <tr style=\"text-align: right;\">\n",
       "      <th></th>\n",
       "      <th>MonthlyCharges</th>\n",
       "      <th>TotalCharges</th>\n",
       "      <th>duration</th>\n",
       "      <th>months</th>\n",
       "    </tr>\n",
       "  </thead>\n",
       "  <tbody>\n",
       "    <tr>\n",
       "      <th>count</th>\n",
       "      <td>7032.000000</td>\n",
       "      <td>7032.000000</td>\n",
       "      <td>7032.000000</td>\n",
       "      <td>7032.000000</td>\n",
       "    </tr>\n",
       "    <tr>\n",
       "      <th>mean</th>\n",
       "      <td>64.798208</td>\n",
       "      <td>2118.621822</td>\n",
       "      <td>899.961320</td>\n",
       "      <td>30.340870</td>\n",
       "    </tr>\n",
       "    <tr>\n",
       "      <th>std</th>\n",
       "      <td>30.085974</td>\n",
       "      <td>2112.736199</td>\n",
       "      <td>682.738777</td>\n",
       "      <td>23.090104</td>\n",
       "    </tr>\n",
       "    <tr>\n",
       "      <th>min</th>\n",
       "      <td>18.250000</td>\n",
       "      <td>19.050000</td>\n",
       "      <td>28.000000</td>\n",
       "      <td>1.000000</td>\n",
       "    </tr>\n",
       "    <tr>\n",
       "      <th>25%</th>\n",
       "      <td>35.587500</td>\n",
       "      <td>439.745000</td>\n",
       "      <td>276.000000</td>\n",
       "      <td>9.000000</td>\n",
       "    </tr>\n",
       "    <tr>\n",
       "      <th>50%</th>\n",
       "      <td>70.350000</td>\n",
       "      <td>1345.275000</td>\n",
       "      <td>761.000000</td>\n",
       "      <td>26.000000</td>\n",
       "    </tr>\n",
       "    <tr>\n",
       "      <th>75%</th>\n",
       "      <td>89.862500</td>\n",
       "      <td>3239.317500</td>\n",
       "      <td>1461.000000</td>\n",
       "      <td>49.000000</td>\n",
       "    </tr>\n",
       "    <tr>\n",
       "      <th>max</th>\n",
       "      <td>118.750000</td>\n",
       "      <td>9221.380000</td>\n",
       "      <td>2314.000000</td>\n",
       "      <td>79.000000</td>\n",
       "    </tr>\n",
       "  </tbody>\n",
       "</table>\n",
       "</div>"
      ],
      "text/plain": [
       "       MonthlyCharges  TotalCharges     duration       months\n",
       "count     7032.000000   7032.000000  7032.000000  7032.000000\n",
       "mean        64.798208   2118.621822   899.961320    30.340870\n",
       "std         30.085974   2112.736199   682.738777    23.090104\n",
       "min         18.250000     19.050000    28.000000     1.000000\n",
       "25%         35.587500    439.745000   276.000000     9.000000\n",
       "50%         70.350000   1345.275000   761.000000    26.000000\n",
       "75%         89.862500   3239.317500  1461.000000    49.000000\n",
       "max        118.750000   9221.380000  2314.000000    79.000000"
      ]
     },
     "metadata": {},
     "output_type": "display_data"
    },
    {
     "name": "stdout",
     "output_type": "stream",
     "text": [
      "\n",
      "Информация о данных в таблице:\n",
      "<class 'pandas.core.frame.DataFrame'>\n",
      "Int64Index: 7032 entries, 0 to 7042\n",
      "Data columns (total 23 columns):\n",
      " #   Column            Non-Null Count  Dtype         \n",
      "---  ------            --------------  -----         \n",
      " 0   customerID        7032 non-null   object        \n",
      " 1   BeginDate         7032 non-null   datetime64[ns]\n",
      " 2   EndDate           7032 non-null   datetime64[ns]\n",
      " 3   Type              7032 non-null   category      \n",
      " 4   PaperlessBilling  7032 non-null   category      \n",
      " 5   PaymentMethod     7032 non-null   category      \n",
      " 6   MonthlyCharges    7032 non-null   float64       \n",
      " 7   TotalCharges      7032 non-null   float64       \n",
      " 8   gender            7032 non-null   category      \n",
      " 9   SeniorCitizen     7032 non-null   category      \n",
      " 10  Partner           7032 non-null   category      \n",
      " 11  Dependents        7032 non-null   category      \n",
      " 12  InternetService   7032 non-null   category      \n",
      " 13  OnlineSecurity    7032 non-null   category      \n",
      " 14  OnlineBackup      7032 non-null   category      \n",
      " 15  DeviceProtection  7032 non-null   category      \n",
      " 16  TechSupport       7032 non-null   category      \n",
      " 17  StreamingTV       7032 non-null   category      \n",
      " 18  StreamingMovies   7032 non-null   category      \n",
      " 19  MultipleLines     7032 non-null   category      \n",
      " 20  duration          7032 non-null   int64         \n",
      " 21  churn             7032 non-null   category      \n",
      " 22  months            7032 non-null   int64         \n",
      "dtypes: category(16), datetime64[ns](2), float64(2), int64(2), object(1)\n",
      "memory usage: 809.5+ KB\n"
     ]
    },
    {
     "data": {
      "text/plain": [
       "None"
      ]
     },
     "metadata": {},
     "output_type": "display_data"
    },
    {
     "name": "stdout",
     "output_type": "stream",
     "text": [
      "\n",
      "Количество дубликатов:\n"
     ]
    },
    {
     "data": {
      "text/plain": [
       "0"
      ]
     },
     "metadata": {},
     "output_type": "display_data"
    },
    {
     "name": "stdout",
     "output_type": "stream",
     "text": [
      "\n",
      "Количество уникальных значений для каждого столбца:\n",
      "customerID: 7032\n",
      "BeginDate: 76\n",
      "EndDate: 67\n",
      "Type: 3\n",
      "PaperlessBilling: 2\n",
      "PaymentMethod: 4\n",
      "MonthlyCharges: 1584\n",
      "TotalCharges: 6657\n",
      "gender: 2\n",
      "SeniorCitizen: 2\n",
      "Partner: 2\n",
      "Dependents: 2\n",
      "InternetService: 3\n",
      "OnlineSecurity: 2\n",
      "OnlineBackup: 2\n",
      "DeviceProtection: 2\n",
      "TechSupport: 2\n",
      "StreamingTV: 2\n",
      "StreamingMovies: 2\n",
      "MultipleLines: 3\n",
      "duration: 250\n",
      "churn: 2\n",
      "months: 79\n"
     ]
    }
   ],
   "source": [
    "preview(data)"
   ]
  },
  {
   "cell_type": "markdown",
   "metadata": {},
   "source": [
    "Подготовим целевой признак и признаки для обучения модели. Целевой признак, выясняет, уйдет клиент или нет, в нашем случае за этот отвечает поле 'churn'. Признаки, которые решено удалить: 'customerID', который не несёт большой значимости для обучения, даты начала и окончания контрактов, месяцы пользования услугами, пол клиентов."
   ]
  },
  {
   "cell_type": "code",
   "execution_count": 40,
   "metadata": {},
   "outputs": [],
   "source": [
    "target = data['churn']\n",
    "features = data.drop(columns=['churn', 'customerID', 'BeginDate', 'EndDate', 'gender', 'months'])"
   ]
  },
  {
   "cell_type": "markdown",
   "metadata": {},
   "source": [
    "Проверим признаки"
   ]
  },
  {
   "cell_type": "code",
   "execution_count": 41,
   "metadata": {},
   "outputs": [
    {
     "data": {
      "text/plain": [
       "0    0\n",
       "1    0\n",
       "2    0\n",
       "3    0\n",
       "4    0\n",
       "Name: churn, dtype: category\n",
       "Categories (2, object): ['0', '1']"
      ]
     },
     "metadata": {},
     "output_type": "display_data"
    },
    {
     "data": {
      "text/plain": [
       "(7032,)"
      ]
     },
     "metadata": {},
     "output_type": "display_data"
    }
   ],
   "source": [
    "display(target.head())\n",
    "display(target.shape)"
   ]
  },
  {
   "cell_type": "code",
   "execution_count": 42,
   "metadata": {
    "scrolled": false
   },
   "outputs": [
    {
     "name": "stdout",
     "output_type": "stream",
     "text": [
      "Первые 5 строк таблицы:\n"
     ]
    },
    {
     "data": {
      "text/html": [
       "<div>\n",
       "<style scoped>\n",
       "    .dataframe tbody tr th:only-of-type {\n",
       "        vertical-align: middle;\n",
       "    }\n",
       "\n",
       "    .dataframe tbody tr th {\n",
       "        vertical-align: top;\n",
       "    }\n",
       "\n",
       "    .dataframe thead th {\n",
       "        text-align: right;\n",
       "    }\n",
       "</style>\n",
       "<table border=\"1\" class=\"dataframe\">\n",
       "  <thead>\n",
       "    <tr style=\"text-align: right;\">\n",
       "      <th></th>\n",
       "      <th>Type</th>\n",
       "      <th>PaperlessBilling</th>\n",
       "      <th>PaymentMethod</th>\n",
       "      <th>MonthlyCharges</th>\n",
       "      <th>TotalCharges</th>\n",
       "      <th>SeniorCitizen</th>\n",
       "      <th>Partner</th>\n",
       "      <th>Dependents</th>\n",
       "      <th>InternetService</th>\n",
       "      <th>OnlineSecurity</th>\n",
       "      <th>OnlineBackup</th>\n",
       "      <th>DeviceProtection</th>\n",
       "      <th>TechSupport</th>\n",
       "      <th>StreamingTV</th>\n",
       "      <th>StreamingMovies</th>\n",
       "      <th>MultipleLines</th>\n",
       "      <th>duration</th>\n",
       "    </tr>\n",
       "  </thead>\n",
       "  <tbody>\n",
       "    <tr>\n",
       "      <th>0</th>\n",
       "      <td>Month-to-month</td>\n",
       "      <td>Yes</td>\n",
       "      <td>Electronic check</td>\n",
       "      <td>29.85</td>\n",
       "      <td>31.04</td>\n",
       "      <td>0</td>\n",
       "      <td>Yes</td>\n",
       "      <td>No</td>\n",
       "      <td>DSL</td>\n",
       "      <td>No</td>\n",
       "      <td>Yes</td>\n",
       "      <td>No</td>\n",
       "      <td>No</td>\n",
       "      <td>No</td>\n",
       "      <td>No</td>\n",
       "      <td>No service</td>\n",
       "      <td>31</td>\n",
       "    </tr>\n",
       "    <tr>\n",
       "      <th>1</th>\n",
       "      <td>One year</td>\n",
       "      <td>No</td>\n",
       "      <td>Mailed check</td>\n",
       "      <td>56.95</td>\n",
       "      <td>2071.84</td>\n",
       "      <td>0</td>\n",
       "      <td>No</td>\n",
       "      <td>No</td>\n",
       "      <td>DSL</td>\n",
       "      <td>Yes</td>\n",
       "      <td>No</td>\n",
       "      <td>Yes</td>\n",
       "      <td>No</td>\n",
       "      <td>No</td>\n",
       "      <td>No</td>\n",
       "      <td>No</td>\n",
       "      <td>1036</td>\n",
       "    </tr>\n",
       "    <tr>\n",
       "      <th>2</th>\n",
       "      <td>Month-to-month</td>\n",
       "      <td>Yes</td>\n",
       "      <td>Mailed check</td>\n",
       "      <td>53.85</td>\n",
       "      <td>226.17</td>\n",
       "      <td>0</td>\n",
       "      <td>No</td>\n",
       "      <td>No</td>\n",
       "      <td>DSL</td>\n",
       "      <td>Yes</td>\n",
       "      <td>Yes</td>\n",
       "      <td>No</td>\n",
       "      <td>No</td>\n",
       "      <td>No</td>\n",
       "      <td>No</td>\n",
       "      <td>No</td>\n",
       "      <td>123</td>\n",
       "    </tr>\n",
       "    <tr>\n",
       "      <th>3</th>\n",
       "      <td>One year</td>\n",
       "      <td>No</td>\n",
       "      <td>Bank transfer (automatic)</td>\n",
       "      <td>42.30</td>\n",
       "      <td>1960.60</td>\n",
       "      <td>0</td>\n",
       "      <td>No</td>\n",
       "      <td>No</td>\n",
       "      <td>DSL</td>\n",
       "      <td>Yes</td>\n",
       "      <td>No</td>\n",
       "      <td>Yes</td>\n",
       "      <td>Yes</td>\n",
       "      <td>No</td>\n",
       "      <td>No</td>\n",
       "      <td>No service</td>\n",
       "      <td>1371</td>\n",
       "    </tr>\n",
       "    <tr>\n",
       "      <th>4</th>\n",
       "      <td>Month-to-month</td>\n",
       "      <td>Yes</td>\n",
       "      <td>Electronic check</td>\n",
       "      <td>70.70</td>\n",
       "      <td>353.50</td>\n",
       "      <td>0</td>\n",
       "      <td>No</td>\n",
       "      <td>No</td>\n",
       "      <td>Fiber optic</td>\n",
       "      <td>No</td>\n",
       "      <td>No</td>\n",
       "      <td>No</td>\n",
       "      <td>No</td>\n",
       "      <td>No</td>\n",
       "      <td>No</td>\n",
       "      <td>No</td>\n",
       "      <td>153</td>\n",
       "    </tr>\n",
       "  </tbody>\n",
       "</table>\n",
       "</div>"
      ],
      "text/plain": [
       "             Type PaperlessBilling              PaymentMethod  MonthlyCharges  \\\n",
       "0  Month-to-month              Yes           Electronic check           29.85   \n",
       "1        One year               No               Mailed check           56.95   \n",
       "2  Month-to-month              Yes               Mailed check           53.85   \n",
       "3        One year               No  Bank transfer (automatic)           42.30   \n",
       "4  Month-to-month              Yes           Electronic check           70.70   \n",
       "\n",
       "   TotalCharges SeniorCitizen Partner Dependents InternetService  \\\n",
       "0         31.04             0     Yes         No             DSL   \n",
       "1       2071.84             0      No         No             DSL   \n",
       "2        226.17             0      No         No             DSL   \n",
       "3       1960.60             0      No         No             DSL   \n",
       "4        353.50             0      No         No     Fiber optic   \n",
       "\n",
       "  OnlineSecurity OnlineBackup DeviceProtection TechSupport StreamingTV  \\\n",
       "0             No          Yes               No          No          No   \n",
       "1            Yes           No              Yes          No          No   \n",
       "2            Yes          Yes               No          No          No   \n",
       "3            Yes           No              Yes         Yes          No   \n",
       "4             No           No               No          No          No   \n",
       "\n",
       "  StreamingMovies MultipleLines  duration  \n",
       "0              No    No service        31  \n",
       "1              No            No      1036  \n",
       "2              No            No       123  \n",
       "3              No    No service      1371  \n",
       "4              No            No       153  "
      ]
     },
     "metadata": {},
     "output_type": "display_data"
    },
    {
     "name": "stdout",
     "output_type": "stream",
     "text": [
      "\n",
      "Размер таблицы:\n"
     ]
    },
    {
     "data": {
      "text/plain": [
       "(7032, 17)"
      ]
     },
     "metadata": {},
     "output_type": "display_data"
    },
    {
     "name": "stdout",
     "output_type": "stream",
     "text": [
      "\n",
      "Статистические характеристики:\n"
     ]
    },
    {
     "data": {
      "text/html": [
       "<div>\n",
       "<style scoped>\n",
       "    .dataframe tbody tr th:only-of-type {\n",
       "        vertical-align: middle;\n",
       "    }\n",
       "\n",
       "    .dataframe tbody tr th {\n",
       "        vertical-align: top;\n",
       "    }\n",
       "\n",
       "    .dataframe thead th {\n",
       "        text-align: right;\n",
       "    }\n",
       "</style>\n",
       "<table border=\"1\" class=\"dataframe\">\n",
       "  <thead>\n",
       "    <tr style=\"text-align: right;\">\n",
       "      <th></th>\n",
       "      <th>MonthlyCharges</th>\n",
       "      <th>TotalCharges</th>\n",
       "      <th>duration</th>\n",
       "    </tr>\n",
       "  </thead>\n",
       "  <tbody>\n",
       "    <tr>\n",
       "      <th>count</th>\n",
       "      <td>7032.000000</td>\n",
       "      <td>7032.000000</td>\n",
       "      <td>7032.000000</td>\n",
       "    </tr>\n",
       "    <tr>\n",
       "      <th>mean</th>\n",
       "      <td>64.798208</td>\n",
       "      <td>2118.621822</td>\n",
       "      <td>899.961320</td>\n",
       "    </tr>\n",
       "    <tr>\n",
       "      <th>std</th>\n",
       "      <td>30.085974</td>\n",
       "      <td>2112.736199</td>\n",
       "      <td>682.738777</td>\n",
       "    </tr>\n",
       "    <tr>\n",
       "      <th>min</th>\n",
       "      <td>18.250000</td>\n",
       "      <td>19.050000</td>\n",
       "      <td>28.000000</td>\n",
       "    </tr>\n",
       "    <tr>\n",
       "      <th>25%</th>\n",
       "      <td>35.587500</td>\n",
       "      <td>439.745000</td>\n",
       "      <td>276.000000</td>\n",
       "    </tr>\n",
       "    <tr>\n",
       "      <th>50%</th>\n",
       "      <td>70.350000</td>\n",
       "      <td>1345.275000</td>\n",
       "      <td>761.000000</td>\n",
       "    </tr>\n",
       "    <tr>\n",
       "      <th>75%</th>\n",
       "      <td>89.862500</td>\n",
       "      <td>3239.317500</td>\n",
       "      <td>1461.000000</td>\n",
       "    </tr>\n",
       "    <tr>\n",
       "      <th>max</th>\n",
       "      <td>118.750000</td>\n",
       "      <td>9221.380000</td>\n",
       "      <td>2314.000000</td>\n",
       "    </tr>\n",
       "  </tbody>\n",
       "</table>\n",
       "</div>"
      ],
      "text/plain": [
       "       MonthlyCharges  TotalCharges     duration\n",
       "count     7032.000000   7032.000000  7032.000000\n",
       "mean        64.798208   2118.621822   899.961320\n",
       "std         30.085974   2112.736199   682.738777\n",
       "min         18.250000     19.050000    28.000000\n",
       "25%         35.587500    439.745000   276.000000\n",
       "50%         70.350000   1345.275000   761.000000\n",
       "75%         89.862500   3239.317500  1461.000000\n",
       "max        118.750000   9221.380000  2314.000000"
      ]
     },
     "metadata": {},
     "output_type": "display_data"
    },
    {
     "name": "stdout",
     "output_type": "stream",
     "text": [
      "\n",
      "Информация о данных в таблице:\n",
      "<class 'pandas.core.frame.DataFrame'>\n",
      "Int64Index: 7032 entries, 0 to 7042\n",
      "Data columns (total 17 columns):\n",
      " #   Column            Non-Null Count  Dtype   \n",
      "---  ------            --------------  -----   \n",
      " 0   Type              7032 non-null   category\n",
      " 1   PaperlessBilling  7032 non-null   category\n",
      " 2   PaymentMethod     7032 non-null   category\n",
      " 3   MonthlyCharges    7032 non-null   float64 \n",
      " 4   TotalCharges      7032 non-null   float64 \n",
      " 5   SeniorCitizen     7032 non-null   category\n",
      " 6   Partner           7032 non-null   category\n",
      " 7   Dependents        7032 non-null   category\n",
      " 8   InternetService   7032 non-null   category\n",
      " 9   OnlineSecurity    7032 non-null   category\n",
      " 10  OnlineBackup      7032 non-null   category\n",
      " 11  DeviceProtection  7032 non-null   category\n",
      " 12  TechSupport       7032 non-null   category\n",
      " 13  StreamingTV       7032 non-null   category\n",
      " 14  StreamingMovies   7032 non-null   category\n",
      " 15  MultipleLines     7032 non-null   category\n",
      " 16  duration          7032 non-null   int64   \n",
      "dtypes: category(14), float64(2), int64(1)\n",
      "memory usage: 575.7 KB\n"
     ]
    },
    {
     "data": {
      "text/plain": [
       "None"
      ]
     },
     "metadata": {},
     "output_type": "display_data"
    },
    {
     "name": "stdout",
     "output_type": "stream",
     "text": [
      "\n",
      "Количество дубликатов:\n"
     ]
    },
    {
     "data": {
      "text/plain": [
       "12"
      ]
     },
     "metadata": {},
     "output_type": "display_data"
    },
    {
     "name": "stdout",
     "output_type": "stream",
     "text": [
      "\n",
      "Количество уникальных значений для каждого столбца:\n",
      "Type: 3\n",
      "PaperlessBilling: 2\n",
      "PaymentMethod: 4\n",
      "MonthlyCharges: 1584\n",
      "TotalCharges: 6657\n",
      "SeniorCitizen: 2\n",
      "Partner: 2\n",
      "Dependents: 2\n",
      "InternetService: 3\n",
      "OnlineSecurity: 2\n",
      "OnlineBackup: 2\n",
      "DeviceProtection: 2\n",
      "TechSupport: 2\n",
      "StreamingTV: 2\n",
      "StreamingMovies: 2\n",
      "MultipleLines: 3\n",
      "duration: 250\n"
     ]
    }
   ],
   "source": [
    "preview(features)"
   ]
  },
  {
   "cell_type": "markdown",
   "metadata": {},
   "source": [
    "Признаки были успешно разделены без потерь. Они были разделены на целевой и остальные, после чего все, кроме числовых, были преобразованы в тип данных \"category\". Далее мы создадим обучающую и тестовую выборки в соотношении 0,75:0,25."
   ]
  },
  {
   "cell_type": "code",
   "execution_count": 43,
   "metadata": {},
   "outputs": [],
   "source": [
    "X_train, X_test, y_train, y_test = train_test_split(features, target, test_size=0.25, random_state=80523)"
   ]
  },
  {
   "cell_type": "markdown",
   "metadata": {},
   "source": [
    "Создаем объекты OneHotEncoder для преобразования категориальных признаков. А также проверяем их."
   ]
  },
  {
   "cell_type": "code",
   "execution_count": 44,
   "metadata": {},
   "outputs": [],
   "source": [
    "categoric_features = ['Type', 'PaperlessBilling', 'PaymentMethod', 'SeniorCitizen',\n",
    "                        'InternetService', 'OnlineSecurity', 'OnlineBackup', 'DeviceProtection', 'TechSupport',\n",
    "                        'StreamingTV', 'StreamingMovies', 'MultipleLines', 'Partner', 'Dependents']\n",
    "\n",
    "numeric_features = ['MonthlyCharges', 'TotalCharges', 'duration']\n",
    "\n",
    "preprocessor = ColumnTransformer(\n",
    "    transformers=[\n",
    "        ('num', StandardScaler(), numeric_features),\n",
    "        ('cat', OneHotEncoder(drop='first', handle_unknown='error'), categoric_features)])\n",
    "\n",
    "X_train_encoded = preprocessor.fit_transform(X_train)\n",
    "X_test_encoded = preprocessor.transform(X_test)"
   ]
  },
  {
   "cell_type": "markdown",
   "metadata": {},
   "source": [
    "Проверка на пропущенные значения"
   ]
  },
  {
   "cell_type": "code",
   "execution_count": 45,
   "metadata": {},
   "outputs": [
    {
     "name": "stdout",
     "output_type": "stream",
     "text": [
      "Пропущенных значений не найдено\n"
     ]
    }
   ],
   "source": [
    "nan_found = False\n",
    "for dataset in [X_train_encoded, X_test_encoded]:\n",
    "    nan_rows, nan_cols = np.where(np.isnan(dataset))\n",
    "    if len(nan_rows) > 0:\n",
    "        nan_found = True\n",
    "        break\n",
    "if nan_found:\n",
    "    print('Найдены пропущенные значения')\n",
    "else:\n",
    "    print('Пропущенных значений не найдено')"
   ]
  },
  {
   "cell_type": "code",
   "execution_count": 46,
   "metadata": {
    "scrolled": true
   },
   "outputs": [
    {
     "data": {
      "text/plain": [
       "(5274, 22)"
      ]
     },
     "execution_count": 46,
     "metadata": {},
     "output_type": "execute_result"
    }
   ],
   "source": [
    "X_train_encoded.shape"
   ]
  },
  {
   "cell_type": "code",
   "execution_count": 47,
   "metadata": {
    "scrolled": false
   },
   "outputs": [
    {
     "data": {
      "text/plain": [
       "(1758, 22)"
      ]
     },
     "execution_count": 47,
     "metadata": {},
     "output_type": "execute_result"
    }
   ],
   "source": [
    "X_test_encoded.shape"
   ]
  },
  {
   "cell_type": "markdown",
   "metadata": {},
   "source": [
    "Данные для логистической регрессии готовы.  \n",
    "\n",
    "Ниже напишем код для кодировки признаков в Ordinal Encoder для модели случайный лес."
   ]
  },
  {
   "cell_type": "code",
   "execution_count": 48,
   "metadata": {},
   "outputs": [],
   "source": [
    "oe = OrdinalEncoder(handle_unknown='ignore')\n",
    "X_train_encoded_oe = oe.fit_transform(X_train)\n",
    "X_test_encoded_oe = oe.transform(X_test)"
   ]
  },
  {
   "cell_type": "code",
   "execution_count": 49,
   "metadata": {
    "scrolled": true
   },
   "outputs": [
    {
     "data": {
      "text/plain": [
       "(5274, 17)"
      ]
     },
     "metadata": {},
     "output_type": "display_data"
    },
    {
     "data": {
      "text/plain": [
       "(1758, 17)"
      ]
     },
     "metadata": {},
     "output_type": "display_data"
    }
   ],
   "source": [
    "display(X_train_encoded_oe.shape)\n",
    "display(X_test_encoded_oe.shape)"
   ]
  },
  {
   "cell_type": "code",
   "execution_count": 50,
   "metadata": {},
   "outputs": [
    {
     "name": "stdout",
     "output_type": "stream",
     "text": [
      "Пропущенных значений не найдено\n"
     ]
    }
   ],
   "source": [
    "nan_found = False\n",
    "for dataset in [X_train_encoded_oe, X_test_encoded_oe]:\n",
    "    nan_rows, nan_cols = np.where(np.isnan(dataset))\n",
    "    if len(nan_rows) > 0:\n",
    "        nan_found = True\n",
    "        break\n",
    "if nan_found:\n",
    "    print('Найдены пропущенные значения')\n",
    "else:\n",
    "    print('Пропущенных значений не найдено')"
   ]
  },
  {
   "cell_type": "markdown",
   "metadata": {},
   "source": [
    "Данные закодировались. ропущенных значений не найдено."
   ]
  },
  {
   "cell_type": "markdown",
   "metadata": {},
   "source": [
    "Обучим несколько моделей. В качестве первой модели используем **CatBoostClassifier** подготовим категориальные признаки для модели. Подберём лучшие параметры для обучения модели с помощью системы Gridsearch, учтём, что метрики которые важны заказчику - ROC-AUC и accuracy. "
   ]
  },
  {
   "cell_type": "code",
   "execution_count": 51,
   "metadata": {},
   "outputs": [],
   "source": [
    "categorical_features = ['Type', 'PaperlessBilling', 'PaymentMethod', 'SeniorCitizen',\n",
    "                        'InternetService', 'OnlineSecurity', 'OnlineBackup', 'DeviceProtection', 'TechSupport',\n",
    "                        'StreamingTV', 'StreamingMovies', 'MultipleLines', 'Partner', 'Dependents']"
   ]
  },
  {
   "cell_type": "markdown",
   "metadata": {},
   "source": [
    "Создадим словарь для записи лучших параметров обучения, а после обучения моделей построим таблицу и выберем лучшую модель."
   ]
  },
  {
   "cell_type": "code",
   "execution_count": 52,
   "metadata": {},
   "outputs": [],
   "source": [
    "test_score = {}"
   ]
  },
  {
   "cell_type": "markdown",
   "metadata": {},
   "source": [
    "<a id='section_id_6_1'></a>\n",
    "### Модель CatBoostClassifier"
   ]
  },
  {
   "cell_type": "markdown",
   "metadata": {},
   "source": [
    "```python\n",
    "model_cat = CatBoostClassifier(logging_level='Silent', random_state=80523, cat_features=categorical_features)\n",
    "\n",
    "\n",
    "param_grid = {'learning_rate': np.arange(0.01, 0.21, 0.04),\n",
    "              'iterations': range(50, 301, 50),\n",
    "              'depth': [3, 10, 2],\n",
    "              \n",
    "             }\n",
    "\n",
    "\n",
    "grid_search = GridSearchCV(model_cat, param_grid, cv=4, scoring='roc_auc')\n",
    "\n",
    "\n",
    "grid_search.fit(X_train, y_train)\n",
    "\n",
    "\n",
    "best_params = grid_search.best_params_\n",
    "\n",
    "best_model_cat = grid_search.best_estimator_\n",
    "\n",
    "\n",
    "accuracy_train = best_model_cat.score(X_train, y_train)\n",
    "\n",
    "predict_train = best_model_cat.predict_proba(X_train)[:, 1]\n",
    "\n",
    "roc_auc_train = roc_auc_score(y_train, predict_train)\n",
    "\n",
    "print(\"Лучшие параметры для обучения:\", best_params)\n",
    "print(\"ROC AUC на кросс-валидации:\", grid_search.best_score_)\n",
    "```"
   ]
  },
  {
   "cell_type": "markdown",
   "metadata": {},
   "source": [
    "```python\n",
    "#Код ревьюера\n",
    "\n",
    "grid_search .best_score_\n",
    "```"
   ]
  },
  {
   "cell_type": "code",
   "execution_count": 53,
   "metadata": {},
   "outputs": [],
   "source": [
    "cat_best_params = {'depth': 3,\n",
    "                   'iterations': 300,\n",
    "                   'learning_rate': 0.17\n",
    "                  }"
   ]
  },
  {
   "cell_type": "code",
   "execution_count": 54,
   "metadata": {},
   "outputs": [],
   "source": [
    "test_score['CatBoostClassifier'] = 0.8794183217501237"
   ]
  },
  {
   "cell_type": "markdown",
   "metadata": {},
   "source": [
    "<a id='section_id_6_2'></a>\n",
    "### Модель LogisticRegression"
   ]
  },
  {
   "cell_type": "markdown",
   "metadata": {},
   "source": [
    "```python\n",
    "pipe_lr = Pipeline([('clf', LogisticRegression(random_state=80523, max_iter=400))])\n",
    "\n",
    "\n",
    "param_grid = {'clf__C': [0.001, 0.01, 0.1, 1, 10, 100],\n",
    "              'clf__solver': ['newton-cg', 'lbfgs', 'liblinear', 'sag', 'saga']\n",
    "             }\n",
    "\n",
    "grid_lr = GridSearchCV(estimator=pipe_lr, \n",
    "                     param_grid=param_grid, \n",
    "                     scoring='roc_auc',\n",
    "                     cv=4)\n",
    "\n",
    "grid_lr.fit(X_train_encoded, y_train)\n",
    "\n",
    "best_model = grid_lr.best_estimator_\n",
    "best_accuracy = best_model.score(X_train_encoded, y_train)\n",
    "best_y_pred = best_model.predict_proba(X_train_encoded)[:, 1]\n",
    "best_roc_auc = roc_auc_score(y_train, best_y_pred)\n",
    "\n",
    "print(\"Лучшие параметры для обучения:\", grid_lr.best_params_)\n",
    "print(\"ROC AUC на кросс-валидации:\", grid_lr.best_score_)\n",
    "```"
   ]
  },
  {
   "cell_type": "code",
   "execution_count": 55,
   "metadata": {},
   "outputs": [],
   "source": [
    "lr_best_params = {'clf__C': 100,\n",
    "                  'clf__solver': 'liblinear'}"
   ]
  },
  {
   "cell_type": "code",
   "execution_count": 56,
   "metadata": {},
   "outputs": [],
   "source": [
    "test_score['LogReg'] = 0.7610384316429875"
   ]
  },
  {
   "cell_type": "markdown",
   "metadata": {},
   "source": [
    "<a id='section_id_6_3'></a>\n",
    "### Модель RandomForestClassifier"
   ]
  },
  {
   "cell_type": "markdown",
   "metadata": {},
   "source": [
    "```python\n",
    "rf = RandomForestClassifier(random_state=80523)\n",
    "\n",
    "pipeline = Pipeline([\n",
    "    ('rf', rf)\n",
    "])\n",
    "\n",
    "parameters = {\n",
    "    'rf__n_estimators': [50, 100, 200],\n",
    "    'rf__max_depth': [5, 10, 15],\n",
    "    'rf__min_samples_leaf': [1, 2, 4],\n",
    "    'rf__class_weight': ['balanced', None]\n",
    "}\n",
    "\n",
    "scoring = {'accuracy': 'accuracy', 'roc_auc': 'roc_auc'}\n",
    "\n",
    "\n",
    "search = GridSearchCV(\n",
    "    pipeline, \n",
    "    parameters, \n",
    "    cv=4, \n",
    "    n_jobs=-1, \n",
    "    scoring=scoring, \n",
    "    refit='roc_auc'\n",
    ")\n",
    "\n",
    "search.fit(X_train_encoded_oe, y_train)\n",
    "\n",
    "print('Лучшие параметры для обучения:', search.best_params_)\n",
    "print(\"ROC AUC на кросс-валидации:\", search.best_score_)\n",
    "```"
   ]
  },
  {
   "cell_type": "code",
   "execution_count": 57,
   "metadata": {},
   "outputs": [],
   "source": [
    "rf_best_params = {'rf__class_weight': 'None',\n",
    "                  'rf__max_depth': 5,\n",
    "                  'rf__min_samples_leaf': 1,\n",
    "                  'rf__n_estimators': 100\n",
    "}"
   ]
  },
  {
   "cell_type": "code",
   "execution_count": 58,
   "metadata": {},
   "outputs": [],
   "source": [
    "test_score['RandomForestClassifier'] = 0.8263201378838062"
   ]
  },
  {
   "cell_type": "code",
   "execution_count": 59,
   "metadata": {},
   "outputs": [
    {
     "data": {
      "text/html": [
       "<div>\n",
       "<style scoped>\n",
       "    .dataframe tbody tr th:only-of-type {\n",
       "        vertical-align: middle;\n",
       "    }\n",
       "\n",
       "    .dataframe tbody tr th {\n",
       "        vertical-align: top;\n",
       "    }\n",
       "\n",
       "    .dataframe thead th {\n",
       "        text-align: right;\n",
       "    }\n",
       "</style>\n",
       "<table border=\"1\" class=\"dataframe\">\n",
       "  <thead>\n",
       "    <tr style=\"text-align: right;\">\n",
       "      <th></th>\n",
       "      <th>ROC AUC</th>\n",
       "    </tr>\n",
       "  </thead>\n",
       "  <tbody>\n",
       "    <tr>\n",
       "      <th>CatBoostClassifier</th>\n",
       "      <td>0.879418</td>\n",
       "    </tr>\n",
       "    <tr>\n",
       "      <th>LogReg</th>\n",
       "      <td>0.761038</td>\n",
       "    </tr>\n",
       "    <tr>\n",
       "      <th>RandomForestClassifier</th>\n",
       "      <td>0.826320</td>\n",
       "    </tr>\n",
       "  </tbody>\n",
       "</table>\n",
       "</div>"
      ],
      "text/plain": [
       "                         ROC AUC\n",
       "CatBoostClassifier      0.879418\n",
       "LogReg                  0.761038\n",
       "RandomForestClassifier  0.826320"
      ]
     },
     "metadata": {},
     "output_type": "display_data"
    }
   ],
   "source": [
    "df = pd.DataFrame.from_dict(test_score, orient='index', columns=['ROC AUC'])\n",
    "\n",
    "display(df)"
   ]
  },
  {
   "cell_type": "markdown",
   "metadata": {},
   "source": [
    "После обучения трёх моделей, заметно, что лучше всего с данной задачей справляется бустинговая модель. У модели высокий ROC-AUC. У модели случайного леса показатель ниже, худший показатель из трёх у логистической регрессии, всего 0.76. Таким образом, лучшая модель **CatBoostClassifier** с показателем **ROC-AUC 0.87**. Проверим как модель справится с задачей на тестовой выборке."
   ]
  },
  {
   "cell_type": "markdown",
   "metadata": {},
   "source": [
    "<a id='section_id_7'></a>\n",
    "## Итоговая модель"
   ]
  },
  {
   "cell_type": "code",
   "execution_count": 60,
   "metadata": {
    "scrolled": true
   },
   "outputs": [
    {
     "data": {
      "text/plain": [
       "'Точность:'"
      ]
     },
     "metadata": {},
     "output_type": "display_data"
    },
    {
     "data": {
      "text/plain": [
       "0.9027303754266212"
      ]
     },
     "metadata": {},
     "output_type": "display_data"
    },
    {
     "data": {
      "text/plain": [
       "'ROC AUC:'"
      ]
     },
     "metadata": {},
     "output_type": "display_data"
    },
    {
     "data": {
      "text/plain": [
       "0.8965345246356698"
      ]
     },
     "metadata": {},
     "output_type": "display_data"
    }
   ],
   "source": [
    "final_model = CatBoostClassifier(logging_level='Silent', **cat_best_params, random_state=80523,\n",
    "                                 cat_features=categorical_features)\n",
    "\n",
    "final_model.fit(X_train, y_train)\n",
    "\n",
    "\n",
    "accuracy = final_model.score(X_test, y_test)\n",
    "\n",
    "\n",
    "y_pred = final_model.predict_proba(X_test)[:, 1]\n",
    "\n",
    "\n",
    "roc_auc = roc_auc_score(y_test, y_pred)\n",
    "\n",
    "\n",
    "display(\"Точность:\", accuracy)\n",
    "display(\"ROC AUC:\", roc_auc)\n"
   ]
  },
  {
   "cell_type": "markdown",
   "metadata": {},
   "source": [
    "Итоговая модель отлично справилась с задачей показав высокие результаты. Значение **точности равно 0,9027**, что означает, что модель правильно классифицировала 90.2% всех данных, значение **ROC-AUC равное 0,8965** говорит о том, что модель с высокой точностью может различать положительные и отрицательные классы.  \n",
    "Рассмотрим эти значения подробнее на графиках, но прежде проверим модель, сравнив её со случайной моделью DummyClassifier."
   ]
  },
  {
   "cell_type": "code",
   "execution_count": 61,
   "metadata": {
    "scrolled": true
   },
   "outputs": [
    {
     "name": "stdout",
     "output_type": "stream",
     "text": [
      "Точность: 0.7474402730375427\n",
      "ROC-AUC: 0.49960454341347915\n"
     ]
    }
   ],
   "source": [
    "dummy = DummyClassifier(strategy='stratified')\n",
    "\n",
    "dummy.fit(X_train, y_train)\n",
    "\n",
    "y_pred = dummy.predict(X_test)\n",
    "\n",
    "accuracy = accuracy_score(y_test, y_pred)\n",
    "\n",
    "roc_auc = roc_auc_score(y_test, dummy.predict_proba(X_test)[:, 1])\n",
    "print(\"Точность:\", accuracy)\n",
    "print(\"ROC-AUC:\", roc_auc)"
   ]
  },
  {
   "cell_type": "markdown",
   "metadata": {},
   "source": [
    "Показатель ROC-AUC случайной модели около 0.50. Это означает, что Dummy угадывает значения случайно, а наша же модель права в 89% случаев."
   ]
  },
  {
   "cell_type": "code",
   "execution_count": 62,
   "metadata": {},
   "outputs": [
    {
     "data": {
      "image/png": "[encoded data removed]",
      "text/plain": [
       "<Figure size 432x288 with 1 Axes>"
      ]
     },
     "metadata": {},
     "output_type": "display_data"
    }
   ],
   "source": [
    "y_pred_proba = final_model.predict_proba(X_test)[:,1]\n",
    "y_test_int = y_test.astype(int)\n",
    "fpr, tpr, thresholds = roc_curve(y_test_int, y_pred_proba)\n",
    "\n",
    "plt.plot(fpr, tpr, label='Модель CatBoost')\n",
    "plt.plot([0, 1], [0, 1], linestyle='--', label='Случайная модель')\n",
    "plt.xlabel('Ложно-положительный результат')\n",
    "plt.ylabel('Истинно-положительный результат')\n",
    "plt.title('Кривая ошибок')\n",
    "plt.legend()\n",
    "plt.show()"
   ]
  },
  {
   "cell_type": "markdown",
   "metadata": {},
   "source": [
    "Качество нашей модели на кривой ошибок намного выше качества случайной модели. График модели CatBoost выше, Модель предскажет верный ответ горазда чаще случайной модели."
   ]
  },
  {
   "cell_type": "code",
   "execution_count": 63,
   "metadata": {
    "scrolled": true
   },
   "outputs": [
    {
     "data": {
      "image/png": "[encoded data removed]",
      "text/plain": [
       "<Figure size 1080x216 with 1 Axes>"
      ]
     },
     "metadata": {},
     "output_type": "display_data"
    }
   ],
   "source": [
    "feature_importance = final_model.get_feature_importance()\n",
    "feature_names = X_train.columns\n",
    "\n",
    "sorted_index = feature_importance.argsort()[::-1]\n",
    "sorted_feature_names = feature_names[sorted_index]\n",
    "\n",
    "plt.figure(figsize=(15, 3))\n",
    "plt.bar(range(len(feature_importance)), feature_importance[sorted_index])\n",
    "plt.xticks(range(len(feature_importance)), sorted_feature_names, rotation=90)\n",
    "plt.title(\"Важность признаков\")\n",
    "plt.show()"
   ]
  },
  {
   "cell_type": "markdown",
   "metadata": {},
   "source": [
    "Самые важные признаки, который использовала модель *Catboost* это:\n",
    "* duration (признак созданный нами), включающий в себя количество дней, которые клиент провёл с компанией;\n",
    "* TotalCharges (сколько всего денег клиенты потратили на услуги);\n",
    "* Type - тип оплаты: ежемесячный, ежегодный, раз в два года.\n",
    "* MonthlyCharges - сумма, которую клиенты платят за услуги ежемесячно.\n",
    "* Также один из признаков, который помогает подсказать уйдёт клиент или нет это наличие ведения паралелльных линий во время звонка."
   ]
  },
  {
   "cell_type": "code",
   "execution_count": 64,
   "metadata": {
    "scrolled": true
   },
   "outputs": [
    {
     "data": {
      "image/png": "[encoded data removed]",
      "text/plain": [
       "<Figure size 432x288 with 2 Axes>"
      ]
     },
     "metadata": {},
     "output_type": "display_data"
    }
   ],
   "source": [
    "conf_matrix = confusion_matrix(y_test, y_pred)\n",
    "\n",
    "# округление значений до 2 знаков после запятой\n",
    "conf_matrix_rounded = np.round(conf_matrix, decimals=2)\n",
    "\n",
    "# построение графика\n",
    "sns.heatmap(conf_matrix_rounded, annot=True, cmap='Greens', fmt='d')\n",
    "plt.xlabel('Предсказания')\n",
    "plt.ylabel('Ответы')\n",
    "plt.show()"
   ]
  },
  {
   "cell_type": "markdown",
   "metadata": {},
   "source": [
    "Данная матрица показывает как модель предсказывает класс клиента - уйдет ли он или нет.\n",
    "* 1268 - это количество правильно предсказанных отрицательных случаев (True Negatives), т.е. количество оставшихся клиентов, которые были верно предсказаны моделью.\n",
    "* 228 - это количество ложно предсказанных положительных случаев (False Positives), т.е. количество оставшихся клиентов, которые были неверно предсказаны моделью как ушедшие.\n",
    "* 214 - это количество ложно предсказанных отрицательных случаев (False Negatives), т.е. количество ушедших клиентов, которые были неверно предсказаны моделью как оставшиеся.\n",
    "* 48 - это количество правильно предсказанных положительных случаев (True Positives), т.е. количество ушедших клиентов, которые были верно предсказаны моделью."
   ]
  },
  {
   "cell_type": "markdown",
   "metadata": {},
   "source": [
    "<h1>Вывод</h1>"
   ]
  },
  {
   "cell_type": "markdown",
   "metadata": {},
   "source": [
    "Модель Catboost дала хорошие результаты, правильно определившие 89% тестовых примеров с точностью 90%.  \n",
    "\n",
    "В ходе обучения модель обратила внимание на такие признаки как месячная оплата, тип оплаты. Это говорит о том, что эти признаки могут являться важными факторами для прогнозирования ухода клиента.\n",
    "\n",
    "Из анализа было установлено, что клиент, склонный к уходу, чаще всего заключает ежемесячные контракты, не оплачивает услуги по квитанциям и пользуется современными методами оплаты. Соответственно, важно обращать на эти факторы особое внимание, чтобы удержать клиентов.\n",
    "\n",
    "Также рекомендация заказчику - устраивать акции или стараться заключать с клиентами двухлетние контракты. Это может помочь клиентам остаться и увеличить общее количество лояльных клиентов."
   ]
  },
  {
   "cell_type": "markdown",
   "metadata": {},
   "source": [
    "<a id='section_id_8'></a>\n",
    "## Отчёт по решению"
   ]
  },
  {
   "cell_type": "markdown",
   "metadata": {},
   "source": [
    "Большинство поставленных пунктов плана были выполнены в ходе решения задачи. Некоторые некритичные решения были отклонены во время решения задачи, такие как перевод наименований столбцов к нижнему регистру, что, в каком-то смысле, облегчило задачу, так как названия признаков было лучше видно, и они не сливались в одно слово. Было решено отказаться от ручной балансировки классов, так как выбранная метрика не чувствительна к дисбалансу, а модели могут разобраться с дисбалансом самостоятельно. Было решено разбить датасет на две части для обучения и тестирования вместо трёх, так как во время обучения использовалась система кросс-валидации.  \n",
    "\n",
    "Во время работы возникло несколько серьёзных проблем. Первая проблема была решена самостоятельно, её суть заключалась в неправильном обучении данных. Я обучал модель CatBoost на закодированных через OHE признаках. Во время проверки кода, я обнаружил данную проблему, сверился с теорией на Яндекс.Практикуме, прочитал несколько [статей](https://habr.com/ru/companies/otus/articles/527554/) о работе CatBoost и пришел в выводу, что совершил ошибку. Код был благополучно исправлен. Следующей проблемой было переобучивание модели. Я неправильно указывал learning rate в GridSearch во время поиска лучших параметров модели. Как известно, чем ближе значение к еденице, тем выше скорость обучения, но в тоже время, велика вероятность переобучивания модели. Мои значения ROC-AUC были близки к еденице, что подсказывало мне либо об утечки данных, либо о наличии другой ошибки. Но и в этот раз помогла теория (Спринт 14 - Численные методы - Градиентный бустинг - Регуляризация градиентного бустинга), [источник](https://practicum.yandex.ru/trainer/data-scientist/lesson/ec6393d0-edda-4c05-ba29-5e951f7c90e5/). Проблема была решена понижением параметра learning rate, в моём случае это не повлияло на скорость, но модель перестала переобучиваться.  \n",
    "\n",
    "Следующие ошибки произошли из-за невнимательности, а именно, я не указал параметр drop='first' в one-hot-encoder. Что было указано и в [теории](https://practicum.yandex.ru/trainer/data-scientist/lesson/84e25bbb-46d1-42ec-8c27-258e663ee5e4/), и в предыдущих проектах. Исправлено благодаря тимлиду.  \n",
    "\n",
    "Последней проблемой была неверность поиска оценки AUC-ROC, выявить оценку было необходимо с помощью кросс-валидации, в моём же случае, поиск осуществлялся через обучающую выборку. Данная проблема также была исправлена с помощью тимлида.\n",
    "\n",
    "Самыми главными шагами, на мой взгляд, было созднание признаков. Датасет выданный заказчиком не имел столбцы, которые показывали статус клента (ушел или нет), но была информация о начале и окончании контрактов, что позволило, сначала высчитать длительность контрактов, а затем и присвоению статуса клиенту. Также это поле стало целевым признаком для обучения и тестирования модели.  \n",
    "\n",
    "При выборе признаков было решено оставить практически все, которые имели какую либо информацию о клиенте. Сам датасет не велик, около 7000 строк. На мой взгляд, если передать модели больше данных, модель обучится лучше и, не обманет, заказчика на практике. Признаки которые было решено удалить: *customerID*, так как он несёт ценность лишь для заказчика, но для обучения модели этот признак не нужен. Также были удалены дублирующий признак *month*, даты начала и окончания контрактов, которые были использованы для создания длительности пользования услугами и пол клиента, признак который не выдавал какой либо зависимости для ухода.  \n",
    "\n",
    "Таким образом итоговой моделью была выбрана модель **CatboostClassifier**, которая показала высокий результат ROC-AUC на кроссвалидационной выборке **0.8794**, а также высокий результат ROC AUC **0.8965** и Точность **0.9027** на тестовой выборке. Эти значения говорят о том, что модель достаточно хорошо различает между классами и имеет высокую способность классифицировать правильно. Поиск лучших параметров был задан автоматической системе Gridsearch, мной лишь был задан поиск невысокого параметра learning rate, во избежании переобучивания модели. Итоговые параметры, которые нужно задать вручную для создания этой модели 'depth': 3, 'iterations': 300, 'learning_rate': 0.17 все эти данные для удобства записаны в словарь *cat_best_params*.  \n",
    "\n",
    "В целом, выполнение задачи по предсказанию оттока клиентов было успешным, проблемы были решены, и полученная модель демонстрирует высокую точность и полезность для бизнеса."
   ]
  }
 ],
 "metadata": {
  "ExecuteTimeLog": [
   {
    "duration": 2958,
    "start_time": "2023-05-15T09:34:16.505Z"
   },
   {
    "duration": 1551,
    "start_time": "2023-05-15T09:34:19.466Z"
   },
   {
    "duration": 112,
    "start_time": "2023-05-15T09:34:21.020Z"
   },
   {
    "duration": 5,
    "start_time": "2023-05-15T09:34:21.135Z"
   },
   {
    "duration": 101,
    "start_time": "2023-05-15T09:34:21.143Z"
   },
   {
    "duration": 73,
    "start_time": "2023-05-15T09:34:21.246Z"
   },
   {
    "duration": 109,
    "start_time": "2023-05-15T09:34:21.321Z"
   },
   {
    "duration": 74,
    "start_time": "2023-05-15T09:34:21.432Z"
   },
   {
    "duration": 35,
    "start_time": "2023-05-15T09:34:21.508Z"
   },
   {
    "duration": 158,
    "start_time": "2023-05-15T09:34:21.544Z"
   },
   {
    "duration": 13,
    "start_time": "2023-05-15T09:34:21.708Z"
   },
   {
    "duration": 21,
    "start_time": "2023-05-15T09:34:21.724Z"
   },
   {
    "duration": 19,
    "start_time": "2023-05-15T09:34:21.746Z"
   },
   {
    "duration": 51,
    "start_time": "2023-05-15T09:34:21.770Z"
   },
   {
    "duration": 12,
    "start_time": "2023-05-15T09:34:21.824Z"
   },
   {
    "duration": 24,
    "start_time": "2023-05-15T09:34:21.838Z"
   },
   {
    "duration": 60,
    "start_time": "2023-05-15T09:34:21.863Z"
   },
   {
    "duration": 12,
    "start_time": "2023-05-15T09:34:21.926Z"
   },
   {
    "duration": 16,
    "start_time": "2023-05-15T09:34:21.940Z"
   },
   {
    "duration": 19,
    "start_time": "2023-05-15T09:34:21.958Z"
   },
   {
    "duration": 34,
    "start_time": "2023-05-15T09:34:21.979Z"
   },
   {
    "duration": 193,
    "start_time": "2023-05-15T09:34:22.015Z"
   },
   {
    "duration": 189,
    "start_time": "2023-05-15T09:34:22.210Z"
   },
   {
    "duration": 157,
    "start_time": "2023-05-15T09:34:22.401Z"
   },
   {
    "duration": 163,
    "start_time": "2023-05-15T09:34:22.560Z"
   },
   {
    "duration": 113,
    "start_time": "2023-05-15T09:34:22.725Z"
   },
   {
    "duration": 378,
    "start_time": "2023-05-15T09:34:22.840Z"
   },
   {
    "duration": 451,
    "start_time": "2023-05-15T09:34:23.221Z"
   },
   {
    "duration": 370,
    "start_time": "2023-05-15T09:34:23.682Z"
   },
   {
    "duration": 450,
    "start_time": "2023-05-15T09:34:24.054Z"
   },
   {
    "duration": 331,
    "start_time": "2023-05-15T09:34:24.508Z"
   },
   {
    "duration": 194,
    "start_time": "2023-05-15T09:34:24.841Z"
   },
   {
    "duration": 302,
    "start_time": "2023-05-15T09:34:25.037Z"
   },
   {
    "duration": 293,
    "start_time": "2023-05-15T09:34:25.341Z"
   },
   {
    "duration": 232,
    "start_time": "2023-05-15T09:34:25.637Z"
   },
   {
    "duration": 267,
    "start_time": "2023-05-15T09:34:25.871Z"
   },
   {
    "duration": 49382,
    "start_time": "2023-05-15T09:34:26.140Z"
   },
   {
    "duration": 47,
    "start_time": "2023-05-15T09:35:15.524Z"
   },
   {
    "duration": 216,
    "start_time": "2023-05-15T09:35:15.574Z"
   },
   {
    "duration": 9,
    "start_time": "2023-05-15T09:35:15.796Z"
   },
   {
    "duration": 123,
    "start_time": "2023-05-15T09:35:15.822Z"
   },
   {
    "duration": 144,
    "start_time": "2023-05-15T09:35:15.948Z"
   },
   {
    "duration": 24,
    "start_time": "2023-05-15T09:35:16.094Z"
   },
   {
    "duration": 86,
    "start_time": "2023-05-15T09:35:16.124Z"
   },
   {
    "duration": 17,
    "start_time": "2023-05-15T09:35:16.222Z"
   },
   {
    "duration": 75,
    "start_time": "2023-05-15T09:35:16.247Z"
   },
   {
    "duration": 40,
    "start_time": "2023-05-15T09:35:16.323Z"
   },
   {
    "duration": 240,
    "start_time": "2023-05-15T09:35:16.365Z"
   },
   {
    "duration": 0,
    "start_time": "2023-05-15T09:35:16.606Z"
   },
   {
    "duration": 0,
    "start_time": "2023-05-15T09:35:16.607Z"
   },
   {
    "duration": 0,
    "start_time": "2023-05-15T09:35:16.608Z"
   },
   {
    "duration": 0,
    "start_time": "2023-05-15T09:35:16.609Z"
   },
   {
    "duration": 0,
    "start_time": "2023-05-15T09:35:16.610Z"
   },
   {
    "duration": 0,
    "start_time": "2023-05-15T09:35:16.611Z"
   },
   {
    "duration": 0,
    "start_time": "2023-05-15T09:35:16.612Z"
   },
   {
    "duration": 0,
    "start_time": "2023-05-15T09:35:16.613Z"
   },
   {
    "duration": 0,
    "start_time": "2023-05-15T09:35:16.615Z"
   },
   {
    "duration": 0,
    "start_time": "2023-05-15T09:35:16.616Z"
   },
   {
    "duration": 0,
    "start_time": "2023-05-15T09:35:16.617Z"
   },
   {
    "duration": 0,
    "start_time": "2023-05-15T09:35:16.618Z"
   },
   {
    "duration": 0,
    "start_time": "2023-05-15T09:35:16.619Z"
   },
   {
    "duration": 0,
    "start_time": "2023-05-15T09:35:16.620Z"
   },
   {
    "duration": 0,
    "start_time": "2023-05-15T09:35:16.621Z"
   },
   {
    "duration": 0,
    "start_time": "2023-05-15T09:35:16.622Z"
   },
   {
    "duration": 67,
    "start_time": "2023-05-15T09:35:50.871Z"
   },
   {
    "duration": 20,
    "start_time": "2023-05-15T09:35:59.274Z"
   },
   {
    "duration": 26,
    "start_time": "2023-05-15T09:36:14.212Z"
   },
   {
    "duration": 61,
    "start_time": "2023-05-15T09:41:50.497Z"
   },
   {
    "duration": 2646,
    "start_time": "2023-05-15T09:42:02.827Z"
   },
   {
    "duration": 1700,
    "start_time": "2023-05-15T09:42:05.475Z"
   },
   {
    "duration": 157,
    "start_time": "2023-05-15T09:42:07.177Z"
   },
   {
    "duration": 6,
    "start_time": "2023-05-15T09:42:07.337Z"
   },
   {
    "duration": 98,
    "start_time": "2023-05-15T09:42:07.346Z"
   },
   {
    "duration": 93,
    "start_time": "2023-05-15T09:42:07.446Z"
   },
   {
    "duration": 106,
    "start_time": "2023-05-15T09:42:07.541Z"
   },
   {
    "duration": 49,
    "start_time": "2023-05-15T09:42:07.649Z"
   },
   {
    "duration": 34,
    "start_time": "2023-05-15T09:42:07.700Z"
   },
   {
    "duration": 117,
    "start_time": "2023-05-15T09:42:07.736Z"
   },
   {
    "duration": 12,
    "start_time": "2023-05-15T09:42:07.855Z"
   },
   {
    "duration": 37,
    "start_time": "2023-05-15T09:42:07.869Z"
   },
   {
    "duration": 32,
    "start_time": "2023-05-15T09:42:07.907Z"
   },
   {
    "duration": 10,
    "start_time": "2023-05-15T09:42:07.943Z"
   },
   {
    "duration": 11,
    "start_time": "2023-05-15T09:42:07.955Z"
   },
   {
    "duration": 26,
    "start_time": "2023-05-15T09:42:07.968Z"
   },
   {
    "duration": 31,
    "start_time": "2023-05-15T09:42:07.996Z"
   },
   {
    "duration": 25,
    "start_time": "2023-05-15T09:42:08.030Z"
   },
   {
    "duration": 12,
    "start_time": "2023-05-15T09:42:08.057Z"
   },
   {
    "duration": 31,
    "start_time": "2023-05-15T09:42:08.071Z"
   },
   {
    "duration": 39,
    "start_time": "2023-05-15T09:42:08.103Z"
   },
   {
    "duration": 130,
    "start_time": "2023-05-15T09:42:08.144Z"
   },
   {
    "duration": 160,
    "start_time": "2023-05-15T09:42:08.276Z"
   },
   {
    "duration": 115,
    "start_time": "2023-05-15T09:42:08.442Z"
   },
   {
    "duration": 184,
    "start_time": "2023-05-15T09:42:08.560Z"
   },
   {
    "duration": 99,
    "start_time": "2023-05-15T09:42:08.746Z"
   },
   {
    "duration": 380,
    "start_time": "2023-05-15T09:42:08.846Z"
   },
   {
    "duration": 418,
    "start_time": "2023-05-15T09:42:09.229Z"
   },
   {
    "duration": 304,
    "start_time": "2023-05-15T09:42:09.648Z"
   },
   {
    "duration": 469,
    "start_time": "2023-05-15T09:42:09.953Z"
   },
   {
    "duration": 315,
    "start_time": "2023-05-15T09:42:10.433Z"
   },
   {
    "duration": 187,
    "start_time": "2023-05-15T09:42:10.750Z"
   },
   {
    "duration": 262,
    "start_time": "2023-05-15T09:42:10.940Z"
   },
   {
    "duration": 322,
    "start_time": "2023-05-15T09:42:11.203Z"
   },
   {
    "duration": 195,
    "start_time": "2023-05-15T09:42:11.532Z"
   },
   {
    "duration": 221,
    "start_time": "2023-05-15T09:42:11.732Z"
   },
   {
    "duration": 78567,
    "start_time": "2023-05-15T09:42:11.955Z"
   },
   {
    "duration": 102,
    "start_time": "2023-05-15T09:43:30.524Z"
   },
   {
    "duration": 312,
    "start_time": "2023-05-15T09:43:30.630Z"
   },
   {
    "duration": 47,
    "start_time": "2023-05-15T09:43:30.948Z"
   },
   {
    "duration": 86,
    "start_time": "2023-05-15T09:43:31.005Z"
   },
   {
    "duration": 309,
    "start_time": "2023-05-15T09:43:31.093Z"
   },
   {
    "duration": 15,
    "start_time": "2023-05-15T09:43:31.403Z"
   },
   {
    "duration": 188,
    "start_time": "2023-05-15T09:43:31.426Z"
   },
   {
    "duration": 10,
    "start_time": "2023-05-15T09:43:31.615Z"
   },
   {
    "duration": 19,
    "start_time": "2023-05-15T09:43:31.634Z"
   },
   {
    "duration": 59,
    "start_time": "2023-05-15T09:43:31.655Z"
   },
   {
    "duration": 123,
    "start_time": "2023-05-15T09:43:31.716Z"
   },
   {
    "duration": 6,
    "start_time": "2023-05-15T09:43:31.842Z"
   },
   {
    "duration": 112,
    "start_time": "2023-05-15T09:43:31.850Z"
   },
   {
    "duration": 38,
    "start_time": "2023-05-15T09:43:31.964Z"
   },
   {
    "duration": 43,
    "start_time": "2023-05-15T09:43:32.004Z"
   },
   {
    "duration": 9,
    "start_time": "2023-05-15T09:43:32.049Z"
   },
   {
    "duration": 5,
    "start_time": "2023-05-15T09:43:32.086Z"
   },
   {
    "duration": 51,
    "start_time": "2023-05-15T09:43:32.092Z"
   },
   {
    "duration": 7,
    "start_time": "2023-05-15T09:43:32.145Z"
   },
   {
    "duration": 13,
    "start_time": "2023-05-15T09:43:32.185Z"
   },
   {
    "duration": 41,
    "start_time": "2023-05-15T09:43:32.199Z"
   },
   {
    "duration": 56,
    "start_time": "2023-05-15T09:43:32.242Z"
   },
   {
    "duration": 7817,
    "start_time": "2023-05-15T09:43:32.301Z"
   },
   {
    "duration": 18,
    "start_time": "2023-05-15T09:43:40.127Z"
   },
   {
    "duration": 615,
    "start_time": "2023-05-15T09:43:40.191Z"
   },
   {
    "duration": 668,
    "start_time": "2023-05-15T09:43:40.830Z"
   },
   {
    "duration": 499,
    "start_time": "2023-05-15T09:43:41.503Z"
   },
   {
    "duration": 3020,
    "start_time": "2023-05-15T11:07:34.804Z"
   },
   {
    "duration": 1879,
    "start_time": "2023-05-15T11:07:37.827Z"
   },
   {
    "duration": 136,
    "start_time": "2023-05-15T11:07:39.719Z"
   },
   {
    "duration": 6,
    "start_time": "2023-05-15T11:07:39.858Z"
   },
   {
    "duration": 105,
    "start_time": "2023-05-15T11:07:39.866Z"
   },
   {
    "duration": 71,
    "start_time": "2023-05-15T11:07:39.973Z"
   },
   {
    "duration": 144,
    "start_time": "2023-05-15T11:07:40.046Z"
   },
   {
    "duration": 54,
    "start_time": "2023-05-15T11:07:40.192Z"
   },
   {
    "duration": 48,
    "start_time": "2023-05-15T11:07:40.247Z"
   },
   {
    "duration": 157,
    "start_time": "2023-05-15T11:07:40.298Z"
   },
   {
    "duration": 13,
    "start_time": "2023-05-15T11:07:40.457Z"
   },
   {
    "duration": 72,
    "start_time": "2023-05-15T11:07:40.472Z"
   },
   {
    "duration": 17,
    "start_time": "2023-05-15T11:07:40.546Z"
   },
   {
    "duration": 29,
    "start_time": "2023-05-15T11:07:40.565Z"
   },
   {
    "duration": 61,
    "start_time": "2023-05-15T11:07:40.596Z"
   },
   {
    "duration": 15,
    "start_time": "2023-05-15T11:07:40.658Z"
   },
   {
    "duration": 34,
    "start_time": "2023-05-15T11:07:40.675Z"
   },
   {
    "duration": 45,
    "start_time": "2023-05-15T11:07:40.711Z"
   },
   {
    "duration": 14,
    "start_time": "2023-05-15T11:07:40.758Z"
   },
   {
    "duration": 16,
    "start_time": "2023-05-15T11:07:40.774Z"
   },
   {
    "duration": 55,
    "start_time": "2023-05-15T11:07:40.792Z"
   },
   {
    "duration": 154,
    "start_time": "2023-05-15T11:07:40.849Z"
   },
   {
    "duration": 141,
    "start_time": "2023-05-15T11:07:41.004Z"
   },
   {
    "duration": 113,
    "start_time": "2023-05-15T11:07:41.147Z"
   },
   {
    "duration": 181,
    "start_time": "2023-05-15T11:07:41.262Z"
   },
   {
    "duration": 191,
    "start_time": "2023-05-15T11:07:41.445Z"
   },
   {
    "duration": 379,
    "start_time": "2023-05-15T11:07:41.639Z"
   },
   {
    "duration": 565,
    "start_time": "2023-05-15T11:07:42.032Z"
   },
   {
    "duration": 356,
    "start_time": "2023-05-15T11:07:42.600Z"
   },
   {
    "duration": 501,
    "start_time": "2023-05-15T11:07:42.958Z"
   },
   {
    "duration": 383,
    "start_time": "2023-05-15T11:07:43.460Z"
   },
   {
    "duration": 200,
    "start_time": "2023-05-15T11:07:43.846Z"
   },
   {
    "duration": 444,
    "start_time": "2023-05-15T11:07:44.048Z"
   },
   {
    "duration": 260,
    "start_time": "2023-05-15T11:07:44.493Z"
   },
   {
    "duration": 242,
    "start_time": "2023-05-15T11:07:44.756Z"
   },
   {
    "duration": 242,
    "start_time": "2023-05-15T11:07:45.003Z"
   },
   {
    "duration": 41206,
    "start_time": "2023-05-15T11:07:45.248Z"
   },
   {
    "duration": 66,
    "start_time": "2023-05-15T11:08:26.456Z"
   },
   {
    "duration": 206,
    "start_time": "2023-05-15T11:08:26.526Z"
   },
   {
    "duration": 6,
    "start_time": "2023-05-15T11:08:26.735Z"
   },
   {
    "duration": 88,
    "start_time": "2023-05-15T11:08:26.744Z"
   },
   {
    "duration": 206,
    "start_time": "2023-05-15T11:08:26.835Z"
   },
   {
    "duration": 10,
    "start_time": "2023-05-15T11:08:27.043Z"
   },
   {
    "duration": 64,
    "start_time": "2023-05-15T11:08:27.055Z"
   },
   {
    "duration": 7,
    "start_time": "2023-05-15T11:08:27.120Z"
   },
   {
    "duration": 17,
    "start_time": "2023-05-15T11:08:27.128Z"
   },
   {
    "duration": 15,
    "start_time": "2023-05-15T11:08:27.147Z"
   },
   {
    "duration": 69,
    "start_time": "2023-05-15T11:08:27.163Z"
   },
   {
    "duration": 13,
    "start_time": "2023-05-15T11:08:27.234Z"
   },
   {
    "duration": 11,
    "start_time": "2023-05-15T11:08:27.248Z"
   },
   {
    "duration": 15,
    "start_time": "2023-05-15T11:08:27.261Z"
   },
   {
    "duration": 33,
    "start_time": "2023-05-15T11:08:27.278Z"
   },
   {
    "duration": 12,
    "start_time": "2023-05-15T11:08:27.313Z"
   },
   {
    "duration": 11,
    "start_time": "2023-05-15T11:08:27.328Z"
   },
   {
    "duration": 15,
    "start_time": "2023-05-15T11:08:27.341Z"
   },
   {
    "duration": 7,
    "start_time": "2023-05-15T11:08:27.358Z"
   },
   {
    "duration": 17,
    "start_time": "2023-05-15T11:08:27.366Z"
   },
   {
    "duration": 42,
    "start_time": "2023-05-15T11:08:27.389Z"
   },
   {
    "duration": 18,
    "start_time": "2023-05-15T11:08:27.433Z"
   },
   {
    "duration": 3712,
    "start_time": "2023-05-15T11:08:27.453Z"
   },
   {
    "duration": 14,
    "start_time": "2023-05-15T11:08:31.167Z"
   },
   {
    "duration": 324,
    "start_time": "2023-05-15T11:08:31.183Z"
   },
   {
    "duration": 340,
    "start_time": "2023-05-15T11:08:31.509Z"
   },
   {
    "duration": 294,
    "start_time": "2023-05-15T11:08:31.852Z"
   }
  ],
  "kernelspec": {
   "display_name": "Python 3 (ipykernel)",
   "language": "python",
   "name": "python3"
  },
  "language_info": {
   "codemirror_mode": {
    "name": "ipython",
    "version": 3
   },
   "file_extension": ".py",
   "mimetype": "text/x-python",
   "name": "python",
   "nbconvert_exporter": "python",
   "pygments_lexer": "ipython3",
   "version": "3.9.5"
  },
  "toc": {
   "base_numbering": 1,
   "nav_menu": {},
   "number_sections": true,
   "sideBar": true,
   "skip_h1_title": true,
   "title_cell": "Table of Contents",
   "title_sidebar": "Contents",
   "toc_cell": false,
   "toc_position": {},
   "toc_section_display": true,
   "toc_window_display": true
  }
 },
 "nbformat": 4,
 "nbformat_minor": 2
}
