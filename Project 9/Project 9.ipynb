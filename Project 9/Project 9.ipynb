{
 "cells": [
  {
   "cell_type": "markdown",
   "metadata": {
    "toc": true
   },
   "source": [
    "<h1>Содержание<span class=\"tocSkip\"></span></h1>\n",
    "<div class=\"toc\"><ul class=\"toc-item\"><li><span><a href=\"#Подготовка-данных\" data-toc-modified-id=\"Подготовка-данных-1\"><span class=\"toc-item-num\">1&nbsp;&nbsp;</span>Подготовка данных</a></span></li><li><span><a href=\"#Анализ-данных\" data-toc-modified-id=\"Анализ-данных-2\"><span class=\"toc-item-num\">2&nbsp;&nbsp;</span>Анализ данных</a></span></li><li><span><a href=\"#Модель\" data-toc-modified-id=\"Модель-3\"><span class=\"toc-item-num\">3&nbsp;&nbsp;</span>Модель</a></span></li><li><span><a href=\"#Чек-лист-готовности-проекта\" data-toc-modified-id=\"Чек-лист-готовности-проекта-4\"><span class=\"toc-item-num\">4&nbsp;&nbsp;</span>Чек-лист готовности проекта</a></span></li></ul></div>"
   ]
  },
  {
   "cell_type": "markdown",
   "metadata": {},
   "source": [
    "# Восстановление золота из руды"
   ]
  },
  {
   "cell_type": "markdown",
   "metadata": {},
   "source": [
    "В данном проекте подготовим прототип модели машинного обучения для «Цифры». Компания разрабатывает решения для эффективной работы промышленных предприятий.\n",
    "\n",
    "Модель должна предсказать коэффициент восстановления золота из золотосодержащей руд будем Использовать данные с параметрами добычи и очистки. \n",
    "\n",
    "Модель поможет оптимизировать производство, чтобы не запускать предприятие с убыточными характеристиками.\n",
    "\n",
    "Алгоритм работы:\n",
    "\n",
    "1. Подготовить данные;\n",
    "2. Провести исследовательский анализ данных;\n",
    "3. Построить и обучить модель.\n",
    "\n",
    "Приступим!"
   ]
  },
  {
   "cell_type": "markdown",
   "metadata": {},
   "source": [
    "## Подготовка данных"
   ]
  },
  {
   "cell_type": "code",
   "execution_count": 1,
   "metadata": {},
   "outputs": [],
   "source": [
    "# Начнём проект с импорта всех необходимых библиотек\n",
    "import pandas as pd\n",
    "import math\n",
    "import sklearn\n",
    "import numpy as np\n",
    "import seaborn as sns\n",
    "from sklearn.metrics import mean_absolute_error, make_scorer\n",
    "import matplotlib.pyplot as plt\n",
    "from sklearn.preprocessing import StandardScaler\n",
    "from sklearn.dummy import DummyRegressor\n",
    "from sklearn.tree import DecisionTreeRegressor\n",
    "from sklearn.linear_model import LinearRegression\n",
    "from sklearn.model_selection import cross_val_score\n",
    "from sklearn.ensemble import RandomForestRegressor\n",
    "import warnings"
   ]
  },
  {
   "cell_type": "code",
   "execution_count": 2,
   "metadata": {},
   "outputs": [],
   "source": [
    "# Данные находятся в трёх файлах:\n",
    "data_train = pd.read_csv('/datasets/gold_recovery_train_new.csv') # обучающая выборка\n",
    "data_test = pd.read_csv('/datasets/gold_recovery_test_new.csv') # тестовая выборка\n",
    "data_full = pd.read_csv('/datasets/gold_recovery_full_new.csv') # исходные данные"
   ]
  },
  {
   "cell_type": "code",
   "execution_count": 3,
   "metadata": {},
   "outputs": [],
   "source": [
    "# напишем функцию для изучения датафреймов\n",
    "def research(data):\n",
    "\n",
    "    display(data.head())\n",
    "    print(data.info()) \n",
    "    display(data.describe())\n",
    "    print('Количество дубликатов', data.duplicated().sum())"
   ]
  },
  {
   "cell_type": "code",
   "execution_count": 4,
   "metadata": {
    "scrolled": true
   },
   "outputs": [
    {
     "data": {
      "text/html": [
       "<div>\n",
       "<style scoped>\n",
       "    .dataframe tbody tr th:only-of-type {\n",
       "        vertical-align: middle;\n",
       "    }\n",
       "\n",
       "    .dataframe tbody tr th {\n",
       "        vertical-align: top;\n",
       "    }\n",
       "\n",
       "    .dataframe thead th {\n",
       "        text-align: right;\n",
       "    }\n",
       "</style>\n",
       "<table border=\"1\" class=\"dataframe\">\n",
       "  <thead>\n",
       "    <tr style=\"text-align: right;\">\n",
       "      <th></th>\n",
       "      <th>date</th>\n",
       "      <th>final.output.concentrate_ag</th>\n",
       "      <th>final.output.concentrate_pb</th>\n",
       "      <th>final.output.concentrate_sol</th>\n",
       "      <th>final.output.concentrate_au</th>\n",
       "      <th>final.output.recovery</th>\n",
       "      <th>final.output.tail_ag</th>\n",
       "      <th>final.output.tail_pb</th>\n",
       "      <th>final.output.tail_sol</th>\n",
       "      <th>final.output.tail_au</th>\n",
       "      <th>...</th>\n",
       "      <th>secondary_cleaner.state.floatbank4_a_air</th>\n",
       "      <th>secondary_cleaner.state.floatbank4_a_level</th>\n",
       "      <th>secondary_cleaner.state.floatbank4_b_air</th>\n",
       "      <th>secondary_cleaner.state.floatbank4_b_level</th>\n",
       "      <th>secondary_cleaner.state.floatbank5_a_air</th>\n",
       "      <th>secondary_cleaner.state.floatbank5_a_level</th>\n",
       "      <th>secondary_cleaner.state.floatbank5_b_air</th>\n",
       "      <th>secondary_cleaner.state.floatbank5_b_level</th>\n",
       "      <th>secondary_cleaner.state.floatbank6_a_air</th>\n",
       "      <th>secondary_cleaner.state.floatbank6_a_level</th>\n",
       "    </tr>\n",
       "  </thead>\n",
       "  <tbody>\n",
       "    <tr>\n",
       "      <th>0</th>\n",
       "      <td>2016-01-15 00:00:00</td>\n",
       "      <td>6.055403</td>\n",
       "      <td>9.889648</td>\n",
       "      <td>5.507324</td>\n",
       "      <td>42.192020</td>\n",
       "      <td>70.541216</td>\n",
       "      <td>10.411962</td>\n",
       "      <td>0.895447</td>\n",
       "      <td>16.904297</td>\n",
       "      <td>2.143149</td>\n",
       "      <td>...</td>\n",
       "      <td>14.016835</td>\n",
       "      <td>-502.488007</td>\n",
       "      <td>12.099931</td>\n",
       "      <td>-504.715942</td>\n",
       "      <td>9.925633</td>\n",
       "      <td>-498.310211</td>\n",
       "      <td>8.079666</td>\n",
       "      <td>-500.470978</td>\n",
       "      <td>14.151341</td>\n",
       "      <td>-605.841980</td>\n",
       "    </tr>\n",
       "    <tr>\n",
       "      <th>1</th>\n",
       "      <td>2016-01-15 01:00:00</td>\n",
       "      <td>6.029369</td>\n",
       "      <td>9.968944</td>\n",
       "      <td>5.257781</td>\n",
       "      <td>42.701629</td>\n",
       "      <td>69.266198</td>\n",
       "      <td>10.462676</td>\n",
       "      <td>0.927452</td>\n",
       "      <td>16.634514</td>\n",
       "      <td>2.224930</td>\n",
       "      <td>...</td>\n",
       "      <td>13.992281</td>\n",
       "      <td>-505.503262</td>\n",
       "      <td>11.950531</td>\n",
       "      <td>-501.331529</td>\n",
       "      <td>10.039245</td>\n",
       "      <td>-500.169983</td>\n",
       "      <td>7.984757</td>\n",
       "      <td>-500.582168</td>\n",
       "      <td>13.998353</td>\n",
       "      <td>-599.787184</td>\n",
       "    </tr>\n",
       "    <tr>\n",
       "      <th>2</th>\n",
       "      <td>2016-01-15 02:00:00</td>\n",
       "      <td>6.055926</td>\n",
       "      <td>10.213995</td>\n",
       "      <td>5.383759</td>\n",
       "      <td>42.657501</td>\n",
       "      <td>68.116445</td>\n",
       "      <td>10.507046</td>\n",
       "      <td>0.953716</td>\n",
       "      <td>16.208849</td>\n",
       "      <td>2.257889</td>\n",
       "      <td>...</td>\n",
       "      <td>14.015015</td>\n",
       "      <td>-502.520901</td>\n",
       "      <td>11.912783</td>\n",
       "      <td>-501.133383</td>\n",
       "      <td>10.070913</td>\n",
       "      <td>-500.129135</td>\n",
       "      <td>8.013877</td>\n",
       "      <td>-500.517572</td>\n",
       "      <td>14.028663</td>\n",
       "      <td>-601.427363</td>\n",
       "    </tr>\n",
       "    <tr>\n",
       "      <th>3</th>\n",
       "      <td>2016-01-15 03:00:00</td>\n",
       "      <td>6.047977</td>\n",
       "      <td>9.977019</td>\n",
       "      <td>4.858634</td>\n",
       "      <td>42.689819</td>\n",
       "      <td>68.347543</td>\n",
       "      <td>10.422762</td>\n",
       "      <td>0.883763</td>\n",
       "      <td>16.532835</td>\n",
       "      <td>2.146849</td>\n",
       "      <td>...</td>\n",
       "      <td>14.036510</td>\n",
       "      <td>-500.857308</td>\n",
       "      <td>11.999550</td>\n",
       "      <td>-501.193686</td>\n",
       "      <td>9.970366</td>\n",
       "      <td>-499.201640</td>\n",
       "      <td>7.977324</td>\n",
       "      <td>-500.255908</td>\n",
       "      <td>14.005551</td>\n",
       "      <td>-599.996129</td>\n",
       "    </tr>\n",
       "    <tr>\n",
       "      <th>4</th>\n",
       "      <td>2016-01-15 04:00:00</td>\n",
       "      <td>6.148599</td>\n",
       "      <td>10.142511</td>\n",
       "      <td>4.939416</td>\n",
       "      <td>42.774141</td>\n",
       "      <td>66.927016</td>\n",
       "      <td>10.360302</td>\n",
       "      <td>0.792826</td>\n",
       "      <td>16.525686</td>\n",
       "      <td>2.055292</td>\n",
       "      <td>...</td>\n",
       "      <td>14.027298</td>\n",
       "      <td>-499.838632</td>\n",
       "      <td>11.953070</td>\n",
       "      <td>-501.053894</td>\n",
       "      <td>9.925709</td>\n",
       "      <td>-501.686727</td>\n",
       "      <td>7.894242</td>\n",
       "      <td>-500.356035</td>\n",
       "      <td>13.996647</td>\n",
       "      <td>-601.496691</td>\n",
       "    </tr>\n",
       "  </tbody>\n",
       "</table>\n",
       "<p>5 rows × 87 columns</p>\n",
       "</div>"
      ],
      "text/plain": [
       "                  date  final.output.concentrate_ag  \\\n",
       "0  2016-01-15 00:00:00                     6.055403   \n",
       "1  2016-01-15 01:00:00                     6.029369   \n",
       "2  2016-01-15 02:00:00                     6.055926   \n",
       "3  2016-01-15 03:00:00                     6.047977   \n",
       "4  2016-01-15 04:00:00                     6.148599   \n",
       "\n",
       "   final.output.concentrate_pb  final.output.concentrate_sol  \\\n",
       "0                     9.889648                      5.507324   \n",
       "1                     9.968944                      5.257781   \n",
       "2                    10.213995                      5.383759   \n",
       "3                     9.977019                      4.858634   \n",
       "4                    10.142511                      4.939416   \n",
       "\n",
       "   final.output.concentrate_au  final.output.recovery  final.output.tail_ag  \\\n",
       "0                    42.192020              70.541216             10.411962   \n",
       "1                    42.701629              69.266198             10.462676   \n",
       "2                    42.657501              68.116445             10.507046   \n",
       "3                    42.689819              68.347543             10.422762   \n",
       "4                    42.774141              66.927016             10.360302   \n",
       "\n",
       "   final.output.tail_pb  final.output.tail_sol  final.output.tail_au  ...  \\\n",
       "0              0.895447              16.904297              2.143149  ...   \n",
       "1              0.927452              16.634514              2.224930  ...   \n",
       "2              0.953716              16.208849              2.257889  ...   \n",
       "3              0.883763              16.532835              2.146849  ...   \n",
       "4              0.792826              16.525686              2.055292  ...   \n",
       "\n",
       "   secondary_cleaner.state.floatbank4_a_air  \\\n",
       "0                                 14.016835   \n",
       "1                                 13.992281   \n",
       "2                                 14.015015   \n",
       "3                                 14.036510   \n",
       "4                                 14.027298   \n",
       "\n",
       "   secondary_cleaner.state.floatbank4_a_level  \\\n",
       "0                                 -502.488007   \n",
       "1                                 -505.503262   \n",
       "2                                 -502.520901   \n",
       "3                                 -500.857308   \n",
       "4                                 -499.838632   \n",
       "\n",
       "   secondary_cleaner.state.floatbank4_b_air  \\\n",
       "0                                 12.099931   \n",
       "1                                 11.950531   \n",
       "2                                 11.912783   \n",
       "3                                 11.999550   \n",
       "4                                 11.953070   \n",
       "\n",
       "   secondary_cleaner.state.floatbank4_b_level  \\\n",
       "0                                 -504.715942   \n",
       "1                                 -501.331529   \n",
       "2                                 -501.133383   \n",
       "3                                 -501.193686   \n",
       "4                                 -501.053894   \n",
       "\n",
       "   secondary_cleaner.state.floatbank5_a_air  \\\n",
       "0                                  9.925633   \n",
       "1                                 10.039245   \n",
       "2                                 10.070913   \n",
       "3                                  9.970366   \n",
       "4                                  9.925709   \n",
       "\n",
       "   secondary_cleaner.state.floatbank5_a_level  \\\n",
       "0                                 -498.310211   \n",
       "1                                 -500.169983   \n",
       "2                                 -500.129135   \n",
       "3                                 -499.201640   \n",
       "4                                 -501.686727   \n",
       "\n",
       "   secondary_cleaner.state.floatbank5_b_air  \\\n",
       "0                                  8.079666   \n",
       "1                                  7.984757   \n",
       "2                                  8.013877   \n",
       "3                                  7.977324   \n",
       "4                                  7.894242   \n",
       "\n",
       "   secondary_cleaner.state.floatbank5_b_level  \\\n",
       "0                                 -500.470978   \n",
       "1                                 -500.582168   \n",
       "2                                 -500.517572   \n",
       "3                                 -500.255908   \n",
       "4                                 -500.356035   \n",
       "\n",
       "   secondary_cleaner.state.floatbank6_a_air  \\\n",
       "0                                 14.151341   \n",
       "1                                 13.998353   \n",
       "2                                 14.028663   \n",
       "3                                 14.005551   \n",
       "4                                 13.996647   \n",
       "\n",
       "   secondary_cleaner.state.floatbank6_a_level  \n",
       "0                                 -605.841980  \n",
       "1                                 -599.787184  \n",
       "2                                 -601.427363  \n",
       "3                                 -599.996129  \n",
       "4                                 -601.496691  \n",
       "\n",
       "[5 rows x 87 columns]"
      ]
     },
     "metadata": {},
     "output_type": "display_data"
    },
    {
     "name": "stdout",
     "output_type": "stream",
     "text": [
      "<class 'pandas.core.frame.DataFrame'>\n",
      "RangeIndex: 14149 entries, 0 to 14148\n",
      "Data columns (total 87 columns):\n",
      " #   Column                                              Non-Null Count  Dtype  \n",
      "---  ------                                              --------------  -----  \n",
      " 0   date                                                14149 non-null  object \n",
      " 1   final.output.concentrate_ag                         14148 non-null  float64\n",
      " 2   final.output.concentrate_pb                         14148 non-null  float64\n",
      " 3   final.output.concentrate_sol                        13938 non-null  float64\n",
      " 4   final.output.concentrate_au                         14149 non-null  float64\n",
      " 5   final.output.recovery                               14149 non-null  float64\n",
      " 6   final.output.tail_ag                                14149 non-null  float64\n",
      " 7   final.output.tail_pb                                14049 non-null  float64\n",
      " 8   final.output.tail_sol                               14144 non-null  float64\n",
      " 9   final.output.tail_au                                14149 non-null  float64\n",
      " 10  primary_cleaner.input.sulfate                       14129 non-null  float64\n",
      " 11  primary_cleaner.input.depressant                    14117 non-null  float64\n",
      " 12  primary_cleaner.input.feed_size                     14149 non-null  float64\n",
      " 13  primary_cleaner.input.xanthate                      14049 non-null  float64\n",
      " 14  primary_cleaner.output.concentrate_ag               14149 non-null  float64\n",
      " 15  primary_cleaner.output.concentrate_pb               14063 non-null  float64\n",
      " 16  primary_cleaner.output.concentrate_sol              13863 non-null  float64\n",
      " 17  primary_cleaner.output.concentrate_au               14149 non-null  float64\n",
      " 18  primary_cleaner.output.tail_ag                      14148 non-null  float64\n",
      " 19  primary_cleaner.output.tail_pb                      14134 non-null  float64\n",
      " 20  primary_cleaner.output.tail_sol                     14103 non-null  float64\n",
      " 21  primary_cleaner.output.tail_au                      14149 non-null  float64\n",
      " 22  primary_cleaner.state.floatbank8_a_air              14145 non-null  float64\n",
      " 23  primary_cleaner.state.floatbank8_a_level            14148 non-null  float64\n",
      " 24  primary_cleaner.state.floatbank8_b_air              14145 non-null  float64\n",
      " 25  primary_cleaner.state.floatbank8_b_level            14148 non-null  float64\n",
      " 26  primary_cleaner.state.floatbank8_c_air              14147 non-null  float64\n",
      " 27  primary_cleaner.state.floatbank8_c_level            14148 non-null  float64\n",
      " 28  primary_cleaner.state.floatbank8_d_air              14146 non-null  float64\n",
      " 29  primary_cleaner.state.floatbank8_d_level            14148 non-null  float64\n",
      " 30  rougher.calculation.sulfate_to_au_concentrate       14148 non-null  float64\n",
      " 31  rougher.calculation.floatbank10_sulfate_to_au_feed  14148 non-null  float64\n",
      " 32  rougher.calculation.floatbank11_sulfate_to_au_feed  14148 non-null  float64\n",
      " 33  rougher.calculation.au_pb_ratio                     14149 non-null  float64\n",
      " 34  rougher.input.feed_ag                               14149 non-null  float64\n",
      " 35  rougher.input.feed_pb                               14049 non-null  float64\n",
      " 36  rougher.input.feed_rate                             14141 non-null  float64\n",
      " 37  rougher.input.feed_size                             14005 non-null  float64\n",
      " 38  rougher.input.feed_sol                              14071 non-null  float64\n",
      " 39  rougher.input.feed_au                               14149 non-null  float64\n",
      " 40  rougher.input.floatbank10_sulfate                   14120 non-null  float64\n",
      " 41  rougher.input.floatbank10_xanthate                  14141 non-null  float64\n",
      " 42  rougher.input.floatbank11_sulfate                   14113 non-null  float64\n",
      " 43  rougher.input.floatbank11_xanthate                  13721 non-null  float64\n",
      " 44  rougher.output.concentrate_ag                       14149 non-null  float64\n",
      " 45  rougher.output.concentrate_pb                       14149 non-null  float64\n",
      " 46  rougher.output.concentrate_sol                      14127 non-null  float64\n",
      " 47  rougher.output.concentrate_au                       14149 non-null  float64\n",
      " 48  rougher.output.recovery                             14149 non-null  float64\n",
      " 49  rougher.output.tail_ag                              14148 non-null  float64\n",
      " 50  rougher.output.tail_pb                              14149 non-null  float64\n",
      " 51  rougher.output.tail_sol                             14149 non-null  float64\n",
      " 52  rougher.output.tail_au                              14149 non-null  float64\n",
      " 53  rougher.state.floatbank10_a_air                     14148 non-null  float64\n",
      " 54  rougher.state.floatbank10_a_level                   14148 non-null  float64\n",
      " 55  rougher.state.floatbank10_b_air                     14148 non-null  float64\n",
      " 56  rougher.state.floatbank10_b_level                   14148 non-null  float64\n",
      " 57  rougher.state.floatbank10_c_air                     14148 non-null  float64\n",
      " 58  rougher.state.floatbank10_c_level                   14148 non-null  float64\n",
      " 59  rougher.state.floatbank10_d_air                     14149 non-null  float64\n",
      " 60  rougher.state.floatbank10_d_level                   14149 non-null  float64\n",
      " 61  rougher.state.floatbank10_e_air                     13713 non-null  float64\n",
      " 62  rougher.state.floatbank10_e_level                   14149 non-null  float64\n",
      " 63  rougher.state.floatbank10_f_air                     14149 non-null  float64\n",
      " 64  rougher.state.floatbank10_f_level                   14149 non-null  float64\n",
      " 65  secondary_cleaner.output.tail_ag                    14147 non-null  float64\n",
      " 66  secondary_cleaner.output.tail_pb                    14139 non-null  float64\n",
      " 67  secondary_cleaner.output.tail_sol                   12544 non-null  float64\n",
      " 68  secondary_cleaner.output.tail_au                    14149 non-null  float64\n",
      " 69  secondary_cleaner.state.floatbank2_a_air            13932 non-null  float64\n",
      " 70  secondary_cleaner.state.floatbank2_a_level          14148 non-null  float64\n",
      " 71  secondary_cleaner.state.floatbank2_b_air            14128 non-null  float64\n",
      " 72  secondary_cleaner.state.floatbank2_b_level          14148 non-null  float64\n",
      " 73  secondary_cleaner.state.floatbank3_a_air            14145 non-null  float64\n",
      " 74  secondary_cleaner.state.floatbank3_a_level          14148 non-null  float64\n",
      " 75  secondary_cleaner.state.floatbank3_b_air            14148 non-null  float64\n",
      " 76  secondary_cleaner.state.floatbank3_b_level          14148 non-null  float64\n",
      " 77  secondary_cleaner.state.floatbank4_a_air            14143 non-null  float64\n",
      " 78  secondary_cleaner.state.floatbank4_a_level          14148 non-null  float64\n",
      " 79  secondary_cleaner.state.floatbank4_b_air            14148 non-null  float64\n",
      " 80  secondary_cleaner.state.floatbank4_b_level          14148 non-null  float64\n",
      " 81  secondary_cleaner.state.floatbank5_a_air            14148 non-null  float64\n",
      " 82  secondary_cleaner.state.floatbank5_a_level          14148 non-null  float64\n",
      " 83  secondary_cleaner.state.floatbank5_b_air            14148 non-null  float64\n",
      " 84  secondary_cleaner.state.floatbank5_b_level          14148 non-null  float64\n",
      " 85  secondary_cleaner.state.floatbank6_a_air            14147 non-null  float64\n",
      " 86  secondary_cleaner.state.floatbank6_a_level          14148 non-null  float64\n",
      "dtypes: float64(86), object(1)\n",
      "memory usage: 9.4+ MB\n",
      "None\n"
     ]
    },
    {
     "data": {
      "text/html": [
       "<div>\n",
       "<style scoped>\n",
       "    .dataframe tbody tr th:only-of-type {\n",
       "        vertical-align: middle;\n",
       "    }\n",
       "\n",
       "    .dataframe tbody tr th {\n",
       "        vertical-align: top;\n",
       "    }\n",
       "\n",
       "    .dataframe thead th {\n",
       "        text-align: right;\n",
       "    }\n",
       "</style>\n",
       "<table border=\"1\" class=\"dataframe\">\n",
       "  <thead>\n",
       "    <tr style=\"text-align: right;\">\n",
       "      <th></th>\n",
       "      <th>final.output.concentrate_ag</th>\n",
       "      <th>final.output.concentrate_pb</th>\n",
       "      <th>final.output.concentrate_sol</th>\n",
       "      <th>final.output.concentrate_au</th>\n",
       "      <th>final.output.recovery</th>\n",
       "      <th>final.output.tail_ag</th>\n",
       "      <th>final.output.tail_pb</th>\n",
       "      <th>final.output.tail_sol</th>\n",
       "      <th>final.output.tail_au</th>\n",
       "      <th>primary_cleaner.input.sulfate</th>\n",
       "      <th>...</th>\n",
       "      <th>secondary_cleaner.state.floatbank4_a_air</th>\n",
       "      <th>secondary_cleaner.state.floatbank4_a_level</th>\n",
       "      <th>secondary_cleaner.state.floatbank4_b_air</th>\n",
       "      <th>secondary_cleaner.state.floatbank4_b_level</th>\n",
       "      <th>secondary_cleaner.state.floatbank5_a_air</th>\n",
       "      <th>secondary_cleaner.state.floatbank5_a_level</th>\n",
       "      <th>secondary_cleaner.state.floatbank5_b_air</th>\n",
       "      <th>secondary_cleaner.state.floatbank5_b_level</th>\n",
       "      <th>secondary_cleaner.state.floatbank6_a_air</th>\n",
       "      <th>secondary_cleaner.state.floatbank6_a_level</th>\n",
       "    </tr>\n",
       "  </thead>\n",
       "  <tbody>\n",
       "    <tr>\n",
       "      <th>count</th>\n",
       "      <td>14148.000000</td>\n",
       "      <td>14148.000000</td>\n",
       "      <td>13938.000000</td>\n",
       "      <td>14149.000000</td>\n",
       "      <td>14149.000000</td>\n",
       "      <td>14149.000000</td>\n",
       "      <td>14049.000000</td>\n",
       "      <td>14144.000000</td>\n",
       "      <td>14149.000000</td>\n",
       "      <td>14129.000000</td>\n",
       "      <td>...</td>\n",
       "      <td>14143.000000</td>\n",
       "      <td>14148.000000</td>\n",
       "      <td>14148.000000</td>\n",
       "      <td>14148.000000</td>\n",
       "      <td>14148.000000</td>\n",
       "      <td>14148.000000</td>\n",
       "      <td>14148.000000</td>\n",
       "      <td>14148.000000</td>\n",
       "      <td>14147.000000</td>\n",
       "      <td>14148.000000</td>\n",
       "    </tr>\n",
       "    <tr>\n",
       "      <th>mean</th>\n",
       "      <td>5.142034</td>\n",
       "      <td>10.132960</td>\n",
       "      <td>9.202849</td>\n",
       "      <td>44.003792</td>\n",
       "      <td>66.518832</td>\n",
       "      <td>9.607035</td>\n",
       "      <td>2.597298</td>\n",
       "      <td>10.512122</td>\n",
       "      <td>2.918421</td>\n",
       "      <td>133.320659</td>\n",
       "      <td>...</td>\n",
       "      <td>19.985454</td>\n",
       "      <td>-478.696836</td>\n",
       "      <td>15.487065</td>\n",
       "      <td>-460.229416</td>\n",
       "      <td>16.775136</td>\n",
       "      <td>-483.956022</td>\n",
       "      <td>13.064590</td>\n",
       "      <td>-483.966564</td>\n",
       "      <td>19.577539</td>\n",
       "      <td>-506.798480</td>\n",
       "    </tr>\n",
       "    <tr>\n",
       "      <th>std</th>\n",
       "      <td>1.369586</td>\n",
       "      <td>1.654930</td>\n",
       "      <td>2.790516</td>\n",
       "      <td>4.905261</td>\n",
       "      <td>10.295402</td>\n",
       "      <td>2.319069</td>\n",
       "      <td>0.971843</td>\n",
       "      <td>3.003617</td>\n",
       "      <td>0.903712</td>\n",
       "      <td>39.431659</td>\n",
       "      <td>...</td>\n",
       "      <td>5.657723</td>\n",
       "      <td>50.736021</td>\n",
       "      <td>5.255655</td>\n",
       "      <td>58.843586</td>\n",
       "      <td>5.831906</td>\n",
       "      <td>37.892788</td>\n",
       "      <td>5.765617</td>\n",
       "      <td>39.207913</td>\n",
       "      <td>5.764417</td>\n",
       "      <td>37.079249</td>\n",
       "    </tr>\n",
       "    <tr>\n",
       "      <th>min</th>\n",
       "      <td>0.000000</td>\n",
       "      <td>0.000000</td>\n",
       "      <td>0.000000</td>\n",
       "      <td>0.000000</td>\n",
       "      <td>0.000000</td>\n",
       "      <td>0.000000</td>\n",
       "      <td>0.000000</td>\n",
       "      <td>0.000000</td>\n",
       "      <td>0.000000</td>\n",
       "      <td>0.003112</td>\n",
       "      <td>...</td>\n",
       "      <td>0.000000</td>\n",
       "      <td>-799.709069</td>\n",
       "      <td>0.000000</td>\n",
       "      <td>-799.889113</td>\n",
       "      <td>-0.372054</td>\n",
       "      <td>-797.142475</td>\n",
       "      <td>0.646208</td>\n",
       "      <td>-800.006180</td>\n",
       "      <td>0.195324</td>\n",
       "      <td>-809.398668</td>\n",
       "    </tr>\n",
       "    <tr>\n",
       "      <th>25%</th>\n",
       "      <td>4.211620</td>\n",
       "      <td>9.297355</td>\n",
       "      <td>7.484645</td>\n",
       "      <td>43.276111</td>\n",
       "      <td>62.545817</td>\n",
       "      <td>7.997429</td>\n",
       "      <td>1.905973</td>\n",
       "      <td>8.811324</td>\n",
       "      <td>2.368607</td>\n",
       "      <td>107.006651</td>\n",
       "      <td>...</td>\n",
       "      <td>14.990775</td>\n",
       "      <td>-500.628656</td>\n",
       "      <td>11.894558</td>\n",
       "      <td>-500.149000</td>\n",
       "      <td>11.083980</td>\n",
       "      <td>-500.363177</td>\n",
       "      <td>8.994405</td>\n",
       "      <td>-500.105994</td>\n",
       "      <td>14.989304</td>\n",
       "      <td>-500.745104</td>\n",
       "    </tr>\n",
       "    <tr>\n",
       "      <th>50%</th>\n",
       "      <td>4.994652</td>\n",
       "      <td>10.297144</td>\n",
       "      <td>8.845462</td>\n",
       "      <td>44.872436</td>\n",
       "      <td>67.432775</td>\n",
       "      <td>9.480270</td>\n",
       "      <td>2.592022</td>\n",
       "      <td>10.514621</td>\n",
       "      <td>2.851025</td>\n",
       "      <td>133.018328</td>\n",
       "      <td>...</td>\n",
       "      <td>20.001789</td>\n",
       "      <td>-499.681450</td>\n",
       "      <td>14.975536</td>\n",
       "      <td>-499.388738</td>\n",
       "      <td>17.932223</td>\n",
       "      <td>-499.702452</td>\n",
       "      <td>11.997547</td>\n",
       "      <td>-499.914556</td>\n",
       "      <td>19.984175</td>\n",
       "      <td>-500.061431</td>\n",
       "    </tr>\n",
       "    <tr>\n",
       "      <th>75%</th>\n",
       "      <td>5.859540</td>\n",
       "      <td>11.170603</td>\n",
       "      <td>10.487508</td>\n",
       "      <td>46.166425</td>\n",
       "      <td>72.346428</td>\n",
       "      <td>11.003707</td>\n",
       "      <td>3.241723</td>\n",
       "      <td>11.933009</td>\n",
       "      <td>3.434764</td>\n",
       "      <td>159.825396</td>\n",
       "      <td>...</td>\n",
       "      <td>24.990826</td>\n",
       "      <td>-477.472413</td>\n",
       "      <td>20.059375</td>\n",
       "      <td>-400.039008</td>\n",
       "      <td>21.346550</td>\n",
       "      <td>-487.712108</td>\n",
       "      <td>17.982903</td>\n",
       "      <td>-453.186936</td>\n",
       "      <td>24.991623</td>\n",
       "      <td>-499.536466</td>\n",
       "    </tr>\n",
       "    <tr>\n",
       "      <th>max</th>\n",
       "      <td>16.001945</td>\n",
       "      <td>17.031899</td>\n",
       "      <td>18.124851</td>\n",
       "      <td>52.756638</td>\n",
       "      <td>100.000000</td>\n",
       "      <td>19.552149</td>\n",
       "      <td>5.639565</td>\n",
       "      <td>22.317730</td>\n",
       "      <td>8.197408</td>\n",
       "      <td>250.127834</td>\n",
       "      <td>...</td>\n",
       "      <td>30.115735</td>\n",
       "      <td>-245.239184</td>\n",
       "      <td>24.007913</td>\n",
       "      <td>-145.071088</td>\n",
       "      <td>43.709931</td>\n",
       "      <td>-275.073125</td>\n",
       "      <td>27.926001</td>\n",
       "      <td>-157.396071</td>\n",
       "      <td>32.188906</td>\n",
       "      <td>-104.427459</td>\n",
       "    </tr>\n",
       "  </tbody>\n",
       "</table>\n",
       "<p>8 rows × 86 columns</p>\n",
       "</div>"
      ],
      "text/plain": [
       "       final.output.concentrate_ag  final.output.concentrate_pb  \\\n",
       "count                 14148.000000                 14148.000000   \n",
       "mean                      5.142034                    10.132960   \n",
       "std                       1.369586                     1.654930   \n",
       "min                       0.000000                     0.000000   \n",
       "25%                       4.211620                     9.297355   \n",
       "50%                       4.994652                    10.297144   \n",
       "75%                       5.859540                    11.170603   \n",
       "max                      16.001945                    17.031899   \n",
       "\n",
       "       final.output.concentrate_sol  final.output.concentrate_au  \\\n",
       "count                  13938.000000                 14149.000000   \n",
       "mean                       9.202849                    44.003792   \n",
       "std                        2.790516                     4.905261   \n",
       "min                        0.000000                     0.000000   \n",
       "25%                        7.484645                    43.276111   \n",
       "50%                        8.845462                    44.872436   \n",
       "75%                       10.487508                    46.166425   \n",
       "max                       18.124851                    52.756638   \n",
       "\n",
       "       final.output.recovery  final.output.tail_ag  final.output.tail_pb  \\\n",
       "count           14149.000000          14149.000000          14049.000000   \n",
       "mean               66.518832              9.607035              2.597298   \n",
       "std                10.295402              2.319069              0.971843   \n",
       "min                 0.000000              0.000000              0.000000   \n",
       "25%                62.545817              7.997429              1.905973   \n",
       "50%                67.432775              9.480270              2.592022   \n",
       "75%                72.346428             11.003707              3.241723   \n",
       "max               100.000000             19.552149              5.639565   \n",
       "\n",
       "       final.output.tail_sol  final.output.tail_au  \\\n",
       "count           14144.000000          14149.000000   \n",
       "mean               10.512122              2.918421   \n",
       "std                 3.003617              0.903712   \n",
       "min                 0.000000              0.000000   \n",
       "25%                 8.811324              2.368607   \n",
       "50%                10.514621              2.851025   \n",
       "75%                11.933009              3.434764   \n",
       "max                22.317730              8.197408   \n",
       "\n",
       "       primary_cleaner.input.sulfate  ...  \\\n",
       "count                   14129.000000  ...   \n",
       "mean                      133.320659  ...   \n",
       "std                        39.431659  ...   \n",
       "min                         0.003112  ...   \n",
       "25%                       107.006651  ...   \n",
       "50%                       133.018328  ...   \n",
       "75%                       159.825396  ...   \n",
       "max                       250.127834  ...   \n",
       "\n",
       "       secondary_cleaner.state.floatbank4_a_air  \\\n",
       "count                              14143.000000   \n",
       "mean                                  19.985454   \n",
       "std                                    5.657723   \n",
       "min                                    0.000000   \n",
       "25%                                   14.990775   \n",
       "50%                                   20.001789   \n",
       "75%                                   24.990826   \n",
       "max                                   30.115735   \n",
       "\n",
       "       secondary_cleaner.state.floatbank4_a_level  \\\n",
       "count                                14148.000000   \n",
       "mean                                  -478.696836   \n",
       "std                                     50.736021   \n",
       "min                                   -799.709069   \n",
       "25%                                   -500.628656   \n",
       "50%                                   -499.681450   \n",
       "75%                                   -477.472413   \n",
       "max                                   -245.239184   \n",
       "\n",
       "       secondary_cleaner.state.floatbank4_b_air  \\\n",
       "count                              14148.000000   \n",
       "mean                                  15.487065   \n",
       "std                                    5.255655   \n",
       "min                                    0.000000   \n",
       "25%                                   11.894558   \n",
       "50%                                   14.975536   \n",
       "75%                                   20.059375   \n",
       "max                                   24.007913   \n",
       "\n",
       "       secondary_cleaner.state.floatbank4_b_level  \\\n",
       "count                                14148.000000   \n",
       "mean                                  -460.229416   \n",
       "std                                     58.843586   \n",
       "min                                   -799.889113   \n",
       "25%                                   -500.149000   \n",
       "50%                                   -499.388738   \n",
       "75%                                   -400.039008   \n",
       "max                                   -145.071088   \n",
       "\n",
       "       secondary_cleaner.state.floatbank5_a_air  \\\n",
       "count                              14148.000000   \n",
       "mean                                  16.775136   \n",
       "std                                    5.831906   \n",
       "min                                   -0.372054   \n",
       "25%                                   11.083980   \n",
       "50%                                   17.932223   \n",
       "75%                                   21.346550   \n",
       "max                                   43.709931   \n",
       "\n",
       "       secondary_cleaner.state.floatbank5_a_level  \\\n",
       "count                                14148.000000   \n",
       "mean                                  -483.956022   \n",
       "std                                     37.892788   \n",
       "min                                   -797.142475   \n",
       "25%                                   -500.363177   \n",
       "50%                                   -499.702452   \n",
       "75%                                   -487.712108   \n",
       "max                                   -275.073125   \n",
       "\n",
       "       secondary_cleaner.state.floatbank5_b_air  \\\n",
       "count                              14148.000000   \n",
       "mean                                  13.064590   \n",
       "std                                    5.765617   \n",
       "min                                    0.646208   \n",
       "25%                                    8.994405   \n",
       "50%                                   11.997547   \n",
       "75%                                   17.982903   \n",
       "max                                   27.926001   \n",
       "\n",
       "       secondary_cleaner.state.floatbank5_b_level  \\\n",
       "count                                14148.000000   \n",
       "mean                                  -483.966564   \n",
       "std                                     39.207913   \n",
       "min                                   -800.006180   \n",
       "25%                                   -500.105994   \n",
       "50%                                   -499.914556   \n",
       "75%                                   -453.186936   \n",
       "max                                   -157.396071   \n",
       "\n",
       "       secondary_cleaner.state.floatbank6_a_air  \\\n",
       "count                              14147.000000   \n",
       "mean                                  19.577539   \n",
       "std                                    5.764417   \n",
       "min                                    0.195324   \n",
       "25%                                   14.989304   \n",
       "50%                                   19.984175   \n",
       "75%                                   24.991623   \n",
       "max                                   32.188906   \n",
       "\n",
       "       secondary_cleaner.state.floatbank6_a_level  \n",
       "count                                14148.000000  \n",
       "mean                                  -506.798480  \n",
       "std                                     37.079249  \n",
       "min                                   -809.398668  \n",
       "25%                                   -500.745104  \n",
       "50%                                   -500.061431  \n",
       "75%                                   -499.536466  \n",
       "max                                   -104.427459  \n",
       "\n",
       "[8 rows x 86 columns]"
      ]
     },
     "metadata": {},
     "output_type": "display_data"
    },
    {
     "name": "stdout",
     "output_type": "stream",
     "text": [
      "Количество дубликатов 0\n"
     ]
    }
   ],
   "source": [
    "research(data_train)"
   ]
  },
  {
   "cell_type": "code",
   "execution_count": 5,
   "metadata": {
    "scrolled": true
   },
   "outputs": [
    {
     "data": {
      "text/html": [
       "<div>\n",
       "<style scoped>\n",
       "    .dataframe tbody tr th:only-of-type {\n",
       "        vertical-align: middle;\n",
       "    }\n",
       "\n",
       "    .dataframe tbody tr th {\n",
       "        vertical-align: top;\n",
       "    }\n",
       "\n",
       "    .dataframe thead th {\n",
       "        text-align: right;\n",
       "    }\n",
       "</style>\n",
       "<table border=\"1\" class=\"dataframe\">\n",
       "  <thead>\n",
       "    <tr style=\"text-align: right;\">\n",
       "      <th></th>\n",
       "      <th>date</th>\n",
       "      <th>primary_cleaner.input.sulfate</th>\n",
       "      <th>primary_cleaner.input.depressant</th>\n",
       "      <th>primary_cleaner.input.feed_size</th>\n",
       "      <th>primary_cleaner.input.xanthate</th>\n",
       "      <th>primary_cleaner.state.floatbank8_a_air</th>\n",
       "      <th>primary_cleaner.state.floatbank8_a_level</th>\n",
       "      <th>primary_cleaner.state.floatbank8_b_air</th>\n",
       "      <th>primary_cleaner.state.floatbank8_b_level</th>\n",
       "      <th>primary_cleaner.state.floatbank8_c_air</th>\n",
       "      <th>...</th>\n",
       "      <th>secondary_cleaner.state.floatbank4_a_air</th>\n",
       "      <th>secondary_cleaner.state.floatbank4_a_level</th>\n",
       "      <th>secondary_cleaner.state.floatbank4_b_air</th>\n",
       "      <th>secondary_cleaner.state.floatbank4_b_level</th>\n",
       "      <th>secondary_cleaner.state.floatbank5_a_air</th>\n",
       "      <th>secondary_cleaner.state.floatbank5_a_level</th>\n",
       "      <th>secondary_cleaner.state.floatbank5_b_air</th>\n",
       "      <th>secondary_cleaner.state.floatbank5_b_level</th>\n",
       "      <th>secondary_cleaner.state.floatbank6_a_air</th>\n",
       "      <th>secondary_cleaner.state.floatbank6_a_level</th>\n",
       "    </tr>\n",
       "  </thead>\n",
       "  <tbody>\n",
       "    <tr>\n",
       "      <th>0</th>\n",
       "      <td>2016-09-01 00:59:59</td>\n",
       "      <td>210.800909</td>\n",
       "      <td>14.993118</td>\n",
       "      <td>8.080000</td>\n",
       "      <td>1.005021</td>\n",
       "      <td>1398.981301</td>\n",
       "      <td>-500.225577</td>\n",
       "      <td>1399.144926</td>\n",
       "      <td>-499.919735</td>\n",
       "      <td>1400.102998</td>\n",
       "      <td>...</td>\n",
       "      <td>12.023554</td>\n",
       "      <td>-497.795834</td>\n",
       "      <td>8.016656</td>\n",
       "      <td>-501.289139</td>\n",
       "      <td>7.946562</td>\n",
       "      <td>-432.317850</td>\n",
       "      <td>4.872511</td>\n",
       "      <td>-500.037437</td>\n",
       "      <td>26.705889</td>\n",
       "      <td>-499.709414</td>\n",
       "    </tr>\n",
       "    <tr>\n",
       "      <th>1</th>\n",
       "      <td>2016-09-01 01:59:59</td>\n",
       "      <td>215.392455</td>\n",
       "      <td>14.987471</td>\n",
       "      <td>8.080000</td>\n",
       "      <td>0.990469</td>\n",
       "      <td>1398.777912</td>\n",
       "      <td>-500.057435</td>\n",
       "      <td>1398.055362</td>\n",
       "      <td>-499.778182</td>\n",
       "      <td>1396.151033</td>\n",
       "      <td>...</td>\n",
       "      <td>12.058140</td>\n",
       "      <td>-498.695773</td>\n",
       "      <td>8.130979</td>\n",
       "      <td>-499.634209</td>\n",
       "      <td>7.958270</td>\n",
       "      <td>-525.839648</td>\n",
       "      <td>4.878850</td>\n",
       "      <td>-500.162375</td>\n",
       "      <td>25.019940</td>\n",
       "      <td>-499.819438</td>\n",
       "    </tr>\n",
       "    <tr>\n",
       "      <th>2</th>\n",
       "      <td>2016-09-01 02:59:59</td>\n",
       "      <td>215.259946</td>\n",
       "      <td>12.884934</td>\n",
       "      <td>7.786667</td>\n",
       "      <td>0.996043</td>\n",
       "      <td>1398.493666</td>\n",
       "      <td>-500.868360</td>\n",
       "      <td>1398.860436</td>\n",
       "      <td>-499.764529</td>\n",
       "      <td>1398.075709</td>\n",
       "      <td>...</td>\n",
       "      <td>11.962366</td>\n",
       "      <td>-498.767484</td>\n",
       "      <td>8.096893</td>\n",
       "      <td>-500.827423</td>\n",
       "      <td>8.071056</td>\n",
       "      <td>-500.801673</td>\n",
       "      <td>4.905125</td>\n",
       "      <td>-499.828510</td>\n",
       "      <td>24.994862</td>\n",
       "      <td>-500.622559</td>\n",
       "    </tr>\n",
       "    <tr>\n",
       "      <th>3</th>\n",
       "      <td>2016-09-01 03:59:59</td>\n",
       "      <td>215.336236</td>\n",
       "      <td>12.006805</td>\n",
       "      <td>7.640000</td>\n",
       "      <td>0.863514</td>\n",
       "      <td>1399.618111</td>\n",
       "      <td>-498.863574</td>\n",
       "      <td>1397.440120</td>\n",
       "      <td>-499.211024</td>\n",
       "      <td>1400.129303</td>\n",
       "      <td>...</td>\n",
       "      <td>12.033091</td>\n",
       "      <td>-498.350935</td>\n",
       "      <td>8.074946</td>\n",
       "      <td>-499.474407</td>\n",
       "      <td>7.897085</td>\n",
       "      <td>-500.868509</td>\n",
       "      <td>4.931400</td>\n",
       "      <td>-499.963623</td>\n",
       "      <td>24.948919</td>\n",
       "      <td>-498.709987</td>\n",
       "    </tr>\n",
       "    <tr>\n",
       "      <th>4</th>\n",
       "      <td>2016-09-01 04:59:59</td>\n",
       "      <td>199.099327</td>\n",
       "      <td>10.682530</td>\n",
       "      <td>7.530000</td>\n",
       "      <td>0.805575</td>\n",
       "      <td>1401.268123</td>\n",
       "      <td>-500.808305</td>\n",
       "      <td>1398.128818</td>\n",
       "      <td>-499.504543</td>\n",
       "      <td>1402.172226</td>\n",
       "      <td>...</td>\n",
       "      <td>12.025367</td>\n",
       "      <td>-500.786497</td>\n",
       "      <td>8.054678</td>\n",
       "      <td>-500.397500</td>\n",
       "      <td>8.107890</td>\n",
       "      <td>-509.526725</td>\n",
       "      <td>4.957674</td>\n",
       "      <td>-500.360026</td>\n",
       "      <td>25.003331</td>\n",
       "      <td>-500.856333</td>\n",
       "    </tr>\n",
       "  </tbody>\n",
       "</table>\n",
       "<p>5 rows × 53 columns</p>\n",
       "</div>"
      ],
      "text/plain": [
       "                  date  primary_cleaner.input.sulfate  \\\n",
       "0  2016-09-01 00:59:59                     210.800909   \n",
       "1  2016-09-01 01:59:59                     215.392455   \n",
       "2  2016-09-01 02:59:59                     215.259946   \n",
       "3  2016-09-01 03:59:59                     215.336236   \n",
       "4  2016-09-01 04:59:59                     199.099327   \n",
       "\n",
       "   primary_cleaner.input.depressant  primary_cleaner.input.feed_size  \\\n",
       "0                         14.993118                         8.080000   \n",
       "1                         14.987471                         8.080000   \n",
       "2                         12.884934                         7.786667   \n",
       "3                         12.006805                         7.640000   \n",
       "4                         10.682530                         7.530000   \n",
       "\n",
       "   primary_cleaner.input.xanthate  primary_cleaner.state.floatbank8_a_air  \\\n",
       "0                        1.005021                             1398.981301   \n",
       "1                        0.990469                             1398.777912   \n",
       "2                        0.996043                             1398.493666   \n",
       "3                        0.863514                             1399.618111   \n",
       "4                        0.805575                             1401.268123   \n",
       "\n",
       "   primary_cleaner.state.floatbank8_a_level  \\\n",
       "0                               -500.225577   \n",
       "1                               -500.057435   \n",
       "2                               -500.868360   \n",
       "3                               -498.863574   \n",
       "4                               -500.808305   \n",
       "\n",
       "   primary_cleaner.state.floatbank8_b_air  \\\n",
       "0                             1399.144926   \n",
       "1                             1398.055362   \n",
       "2                             1398.860436   \n",
       "3                             1397.440120   \n",
       "4                             1398.128818   \n",
       "\n",
       "   primary_cleaner.state.floatbank8_b_level  \\\n",
       "0                               -499.919735   \n",
       "1                               -499.778182   \n",
       "2                               -499.764529   \n",
       "3                               -499.211024   \n",
       "4                               -499.504543   \n",
       "\n",
       "   primary_cleaner.state.floatbank8_c_air  ...  \\\n",
       "0                             1400.102998  ...   \n",
       "1                             1396.151033  ...   \n",
       "2                             1398.075709  ...   \n",
       "3                             1400.129303  ...   \n",
       "4                             1402.172226  ...   \n",
       "\n",
       "   secondary_cleaner.state.floatbank4_a_air  \\\n",
       "0                                 12.023554   \n",
       "1                                 12.058140   \n",
       "2                                 11.962366   \n",
       "3                                 12.033091   \n",
       "4                                 12.025367   \n",
       "\n",
       "   secondary_cleaner.state.floatbank4_a_level  \\\n",
       "0                                 -497.795834   \n",
       "1                                 -498.695773   \n",
       "2                                 -498.767484   \n",
       "3                                 -498.350935   \n",
       "4                                 -500.786497   \n",
       "\n",
       "   secondary_cleaner.state.floatbank4_b_air  \\\n",
       "0                                  8.016656   \n",
       "1                                  8.130979   \n",
       "2                                  8.096893   \n",
       "3                                  8.074946   \n",
       "4                                  8.054678   \n",
       "\n",
       "   secondary_cleaner.state.floatbank4_b_level  \\\n",
       "0                                 -501.289139   \n",
       "1                                 -499.634209   \n",
       "2                                 -500.827423   \n",
       "3                                 -499.474407   \n",
       "4                                 -500.397500   \n",
       "\n",
       "   secondary_cleaner.state.floatbank5_a_air  \\\n",
       "0                                  7.946562   \n",
       "1                                  7.958270   \n",
       "2                                  8.071056   \n",
       "3                                  7.897085   \n",
       "4                                  8.107890   \n",
       "\n",
       "   secondary_cleaner.state.floatbank5_a_level  \\\n",
       "0                                 -432.317850   \n",
       "1                                 -525.839648   \n",
       "2                                 -500.801673   \n",
       "3                                 -500.868509   \n",
       "4                                 -509.526725   \n",
       "\n",
       "   secondary_cleaner.state.floatbank5_b_air  \\\n",
       "0                                  4.872511   \n",
       "1                                  4.878850   \n",
       "2                                  4.905125   \n",
       "3                                  4.931400   \n",
       "4                                  4.957674   \n",
       "\n",
       "   secondary_cleaner.state.floatbank5_b_level  \\\n",
       "0                                 -500.037437   \n",
       "1                                 -500.162375   \n",
       "2                                 -499.828510   \n",
       "3                                 -499.963623   \n",
       "4                                 -500.360026   \n",
       "\n",
       "   secondary_cleaner.state.floatbank6_a_air  \\\n",
       "0                                 26.705889   \n",
       "1                                 25.019940   \n",
       "2                                 24.994862   \n",
       "3                                 24.948919   \n",
       "4                                 25.003331   \n",
       "\n",
       "   secondary_cleaner.state.floatbank6_a_level  \n",
       "0                                 -499.709414  \n",
       "1                                 -499.819438  \n",
       "2                                 -500.622559  \n",
       "3                                 -498.709987  \n",
       "4                                 -500.856333  \n",
       "\n",
       "[5 rows x 53 columns]"
      ]
     },
     "metadata": {},
     "output_type": "display_data"
    },
    {
     "name": "stdout",
     "output_type": "stream",
     "text": [
      "<class 'pandas.core.frame.DataFrame'>\n",
      "RangeIndex: 5290 entries, 0 to 5289\n",
      "Data columns (total 53 columns):\n",
      " #   Column                                      Non-Null Count  Dtype  \n",
      "---  ------                                      --------------  -----  \n",
      " 0   date                                        5290 non-null   object \n",
      " 1   primary_cleaner.input.sulfate               5286 non-null   float64\n",
      " 2   primary_cleaner.input.depressant            5285 non-null   float64\n",
      " 3   primary_cleaner.input.feed_size             5290 non-null   float64\n",
      " 4   primary_cleaner.input.xanthate              5286 non-null   float64\n",
      " 5   primary_cleaner.state.floatbank8_a_air      5290 non-null   float64\n",
      " 6   primary_cleaner.state.floatbank8_a_level    5290 non-null   float64\n",
      " 7   primary_cleaner.state.floatbank8_b_air      5290 non-null   float64\n",
      " 8   primary_cleaner.state.floatbank8_b_level    5290 non-null   float64\n",
      " 9   primary_cleaner.state.floatbank8_c_air      5290 non-null   float64\n",
      " 10  primary_cleaner.state.floatbank8_c_level    5290 non-null   float64\n",
      " 11  primary_cleaner.state.floatbank8_d_air      5290 non-null   float64\n",
      " 12  primary_cleaner.state.floatbank8_d_level    5290 non-null   float64\n",
      " 13  rougher.input.feed_ag                       5290 non-null   float64\n",
      " 14  rougher.input.feed_pb                       5290 non-null   float64\n",
      " 15  rougher.input.feed_rate                     5287 non-null   float64\n",
      " 16  rougher.input.feed_size                     5289 non-null   float64\n",
      " 17  rougher.input.feed_sol                      5269 non-null   float64\n",
      " 18  rougher.input.feed_au                       5290 non-null   float64\n",
      " 19  rougher.input.floatbank10_sulfate           5285 non-null   float64\n",
      " 20  rougher.input.floatbank10_xanthate          5290 non-null   float64\n",
      " 21  rougher.input.floatbank11_sulfate           5282 non-null   float64\n",
      " 22  rougher.input.floatbank11_xanthate          5265 non-null   float64\n",
      " 23  rougher.state.floatbank10_a_air             5290 non-null   float64\n",
      " 24  rougher.state.floatbank10_a_level           5290 non-null   float64\n",
      " 25  rougher.state.floatbank10_b_air             5290 non-null   float64\n",
      " 26  rougher.state.floatbank10_b_level           5290 non-null   float64\n",
      " 27  rougher.state.floatbank10_c_air             5290 non-null   float64\n",
      " 28  rougher.state.floatbank10_c_level           5290 non-null   float64\n",
      " 29  rougher.state.floatbank10_d_air             5290 non-null   float64\n",
      " 30  rougher.state.floatbank10_d_level           5290 non-null   float64\n",
      " 31  rougher.state.floatbank10_e_air             5290 non-null   float64\n",
      " 32  rougher.state.floatbank10_e_level           5290 non-null   float64\n",
      " 33  rougher.state.floatbank10_f_air             5290 non-null   float64\n",
      " 34  rougher.state.floatbank10_f_level           5290 non-null   float64\n",
      " 35  secondary_cleaner.state.floatbank2_a_air    5287 non-null   float64\n",
      " 36  secondary_cleaner.state.floatbank2_a_level  5290 non-null   float64\n",
      " 37  secondary_cleaner.state.floatbank2_b_air    5288 non-null   float64\n",
      " 38  secondary_cleaner.state.floatbank2_b_level  5290 non-null   float64\n",
      " 39  secondary_cleaner.state.floatbank3_a_air    5281 non-null   float64\n",
      " 40  secondary_cleaner.state.floatbank3_a_level  5290 non-null   float64\n",
      " 41  secondary_cleaner.state.floatbank3_b_air    5290 non-null   float64\n",
      " 42  secondary_cleaner.state.floatbank3_b_level  5290 non-null   float64\n",
      " 43  secondary_cleaner.state.floatbank4_a_air    5290 non-null   float64\n",
      " 44  secondary_cleaner.state.floatbank4_a_level  5290 non-null   float64\n",
      " 45  secondary_cleaner.state.floatbank4_b_air    5290 non-null   float64\n",
      " 46  secondary_cleaner.state.floatbank4_b_level  5290 non-null   float64\n",
      " 47  secondary_cleaner.state.floatbank5_a_air    5290 non-null   float64\n",
      " 48  secondary_cleaner.state.floatbank5_a_level  5290 non-null   float64\n",
      " 49  secondary_cleaner.state.floatbank5_b_air    5290 non-null   float64\n",
      " 50  secondary_cleaner.state.floatbank5_b_level  5290 non-null   float64\n",
      " 51  secondary_cleaner.state.floatbank6_a_air    5290 non-null   float64\n",
      " 52  secondary_cleaner.state.floatbank6_a_level  5290 non-null   float64\n",
      "dtypes: float64(52), object(1)\n",
      "memory usage: 2.1+ MB\n",
      "None\n"
     ]
    },
    {
     "data": {
      "text/html": [
       "<div>\n",
       "<style scoped>\n",
       "    .dataframe tbody tr th:only-of-type {\n",
       "        vertical-align: middle;\n",
       "    }\n",
       "\n",
       "    .dataframe tbody tr th {\n",
       "        vertical-align: top;\n",
       "    }\n",
       "\n",
       "    .dataframe thead th {\n",
       "        text-align: right;\n",
       "    }\n",
       "</style>\n",
       "<table border=\"1\" class=\"dataframe\">\n",
       "  <thead>\n",
       "    <tr style=\"text-align: right;\">\n",
       "      <th></th>\n",
       "      <th>primary_cleaner.input.sulfate</th>\n",
       "      <th>primary_cleaner.input.depressant</th>\n",
       "      <th>primary_cleaner.input.feed_size</th>\n",
       "      <th>primary_cleaner.input.xanthate</th>\n",
       "      <th>primary_cleaner.state.floatbank8_a_air</th>\n",
       "      <th>primary_cleaner.state.floatbank8_a_level</th>\n",
       "      <th>primary_cleaner.state.floatbank8_b_air</th>\n",
       "      <th>primary_cleaner.state.floatbank8_b_level</th>\n",
       "      <th>primary_cleaner.state.floatbank8_c_air</th>\n",
       "      <th>primary_cleaner.state.floatbank8_c_level</th>\n",
       "      <th>...</th>\n",
       "      <th>secondary_cleaner.state.floatbank4_a_air</th>\n",
       "      <th>secondary_cleaner.state.floatbank4_a_level</th>\n",
       "      <th>secondary_cleaner.state.floatbank4_b_air</th>\n",
       "      <th>secondary_cleaner.state.floatbank4_b_level</th>\n",
       "      <th>secondary_cleaner.state.floatbank5_a_air</th>\n",
       "      <th>secondary_cleaner.state.floatbank5_a_level</th>\n",
       "      <th>secondary_cleaner.state.floatbank5_b_air</th>\n",
       "      <th>secondary_cleaner.state.floatbank5_b_level</th>\n",
       "      <th>secondary_cleaner.state.floatbank6_a_air</th>\n",
       "      <th>secondary_cleaner.state.floatbank6_a_level</th>\n",
       "    </tr>\n",
       "  </thead>\n",
       "  <tbody>\n",
       "    <tr>\n",
       "      <th>count</th>\n",
       "      <td>5286.000000</td>\n",
       "      <td>5285.000000</td>\n",
       "      <td>5290.000000</td>\n",
       "      <td>5286.000000</td>\n",
       "      <td>5.290000e+03</td>\n",
       "      <td>5290.000000</td>\n",
       "      <td>5.290000e+03</td>\n",
       "      <td>5290.000000</td>\n",
       "      <td>5.290000e+03</td>\n",
       "      <td>5290.000000</td>\n",
       "      <td>...</td>\n",
       "      <td>5.290000e+03</td>\n",
       "      <td>5290.000000</td>\n",
       "      <td>5.290000e+03</td>\n",
       "      <td>5290.000000</td>\n",
       "      <td>5290.000000</td>\n",
       "      <td>5290.000000</td>\n",
       "      <td>5290.000000</td>\n",
       "      <td>5290.000000</td>\n",
       "      <td>5290.000000</td>\n",
       "      <td>5290.000000</td>\n",
       "    </tr>\n",
       "    <tr>\n",
       "      <th>mean</th>\n",
       "      <td>174.839652</td>\n",
       "      <td>8.683596</td>\n",
       "      <td>7.266339</td>\n",
       "      <td>1.383803</td>\n",
       "      <td>1.539494e+03</td>\n",
       "      <td>-497.665883</td>\n",
       "      <td>1.545174e+03</td>\n",
       "      <td>-500.273098</td>\n",
       "      <td>1.527272e+03</td>\n",
       "      <td>-498.330680</td>\n",
       "      <td>...</td>\n",
       "      <td>1.632007e+01</td>\n",
       "      <td>-505.144570</td>\n",
       "      <td>1.373544e+01</td>\n",
       "      <td>-463.349858</td>\n",
       "      <td>12.804186</td>\n",
       "      <td>-501.329122</td>\n",
       "      <td>9.881145</td>\n",
       "      <td>-495.663398</td>\n",
       "      <td>17.304935</td>\n",
       "      <td>-501.793193</td>\n",
       "    </tr>\n",
       "    <tr>\n",
       "      <th>std</th>\n",
       "      <td>43.027080</td>\n",
       "      <td>3.072050</td>\n",
       "      <td>0.610219</td>\n",
       "      <td>0.643474</td>\n",
       "      <td>1.167979e+02</td>\n",
       "      <td>19.952431</td>\n",
       "      <td>1.222246e+02</td>\n",
       "      <td>32.968307</td>\n",
       "      <td>1.225380e+02</td>\n",
       "      <td>21.964876</td>\n",
       "      <td>...</td>\n",
       "      <td>3.493583e+00</td>\n",
       "      <td>31.427337</td>\n",
       "      <td>3.430484e+00</td>\n",
       "      <td>86.189107</td>\n",
       "      <td>3.026591</td>\n",
       "      <td>17.951495</td>\n",
       "      <td>2.868205</td>\n",
       "      <td>34.535007</td>\n",
       "      <td>4.536544</td>\n",
       "      <td>39.044215</td>\n",
       "    </tr>\n",
       "    <tr>\n",
       "      <th>min</th>\n",
       "      <td>2.566156</td>\n",
       "      <td>0.003839</td>\n",
       "      <td>5.650000</td>\n",
       "      <td>0.004984</td>\n",
       "      <td>5.445860e-32</td>\n",
       "      <td>-795.316337</td>\n",
       "      <td>6.647490e-32</td>\n",
       "      <td>-799.997015</td>\n",
       "      <td>4.033736e-32</td>\n",
       "      <td>-799.960571</td>\n",
       "      <td>...</td>\n",
       "      <td>1.079872e-16</td>\n",
       "      <td>-799.798523</td>\n",
       "      <td>2.489718e-17</td>\n",
       "      <td>-800.836914</td>\n",
       "      <td>0.069227</td>\n",
       "      <td>-797.323986</td>\n",
       "      <td>0.528083</td>\n",
       "      <td>-800.220337</td>\n",
       "      <td>-0.079426</td>\n",
       "      <td>-809.741464</td>\n",
       "    </tr>\n",
       "    <tr>\n",
       "      <th>25%</th>\n",
       "      <td>147.121401</td>\n",
       "      <td>6.489555</td>\n",
       "      <td>6.890000</td>\n",
       "      <td>0.907623</td>\n",
       "      <td>1.498936e+03</td>\n",
       "      <td>-500.357298</td>\n",
       "      <td>1.498971e+03</td>\n",
       "      <td>-500.703002</td>\n",
       "      <td>1.473230e+03</td>\n",
       "      <td>-501.018117</td>\n",
       "      <td>...</td>\n",
       "      <td>1.403618e+01</td>\n",
       "      <td>-500.868258</td>\n",
       "      <td>1.202862e+01</td>\n",
       "      <td>-500.323028</td>\n",
       "      <td>10.914838</td>\n",
       "      <td>-500.726841</td>\n",
       "      <td>8.036719</td>\n",
       "      <td>-500.194668</td>\n",
       "      <td>13.997317</td>\n",
       "      <td>-500.690984</td>\n",
       "    </tr>\n",
       "    <tr>\n",
       "      <th>50%</th>\n",
       "      <td>177.828489</td>\n",
       "      <td>8.052207</td>\n",
       "      <td>7.250000</td>\n",
       "      <td>1.197610</td>\n",
       "      <td>1.585129e+03</td>\n",
       "      <td>-499.969164</td>\n",
       "      <td>1.595622e+03</td>\n",
       "      <td>-500.028514</td>\n",
       "      <td>1.549595e+03</td>\n",
       "      <td>-500.017711</td>\n",
       "      <td>...</td>\n",
       "      <td>1.700847e+01</td>\n",
       "      <td>-500.115727</td>\n",
       "      <td>1.496486e+01</td>\n",
       "      <td>-499.576513</td>\n",
       "      <td>12.954182</td>\n",
       "      <td>-499.990332</td>\n",
       "      <td>10.004301</td>\n",
       "      <td>-499.990535</td>\n",
       "      <td>16.014935</td>\n",
       "      <td>-500.007126</td>\n",
       "    </tr>\n",
       "    <tr>\n",
       "      <th>75%</th>\n",
       "      <td>208.125438</td>\n",
       "      <td>10.027764</td>\n",
       "      <td>7.600000</td>\n",
       "      <td>1.797819</td>\n",
       "      <td>1.602077e+03</td>\n",
       "      <td>-499.568951</td>\n",
       "      <td>1.602324e+03</td>\n",
       "      <td>-499.293257</td>\n",
       "      <td>1.601144e+03</td>\n",
       "      <td>-498.994130</td>\n",
       "      <td>...</td>\n",
       "      <td>1.803862e+01</td>\n",
       "      <td>-499.404224</td>\n",
       "      <td>1.596213e+01</td>\n",
       "      <td>-400.933805</td>\n",
       "      <td>15.097528</td>\n",
       "      <td>-499.283191</td>\n",
       "      <td>11.997467</td>\n",
       "      <td>-499.719913</td>\n",
       "      <td>21.020013</td>\n",
       "      <td>-499.373018</td>\n",
       "    </tr>\n",
       "    <tr>\n",
       "      <th>max</th>\n",
       "      <td>265.983123</td>\n",
       "      <td>40.000000</td>\n",
       "      <td>15.500000</td>\n",
       "      <td>4.102454</td>\n",
       "      <td>2.103104e+03</td>\n",
       "      <td>-57.195404</td>\n",
       "      <td>1.813084e+03</td>\n",
       "      <td>-142.527229</td>\n",
       "      <td>1.715054e+03</td>\n",
       "      <td>-150.937035</td>\n",
       "      <td>...</td>\n",
       "      <td>3.005180e+01</td>\n",
       "      <td>-401.565212</td>\n",
       "      <td>3.126971e+01</td>\n",
       "      <td>-6.506986</td>\n",
       "      <td>25.258848</td>\n",
       "      <td>-244.483566</td>\n",
       "      <td>14.086866</td>\n",
       "      <td>-137.740004</td>\n",
       "      <td>26.705889</td>\n",
       "      <td>-123.307487</td>\n",
       "    </tr>\n",
       "  </tbody>\n",
       "</table>\n",
       "<p>8 rows × 52 columns</p>\n",
       "</div>"
      ],
      "text/plain": [
       "       primary_cleaner.input.sulfate  primary_cleaner.input.depressant  \\\n",
       "count                    5286.000000                       5285.000000   \n",
       "mean                      174.839652                          8.683596   \n",
       "std                        43.027080                          3.072050   \n",
       "min                         2.566156                          0.003839   \n",
       "25%                       147.121401                          6.489555   \n",
       "50%                       177.828489                          8.052207   \n",
       "75%                       208.125438                         10.027764   \n",
       "max                       265.983123                         40.000000   \n",
       "\n",
       "       primary_cleaner.input.feed_size  primary_cleaner.input.xanthate  \\\n",
       "count                      5290.000000                     5286.000000   \n",
       "mean                          7.266339                        1.383803   \n",
       "std                           0.610219                        0.643474   \n",
       "min                           5.650000                        0.004984   \n",
       "25%                           6.890000                        0.907623   \n",
       "50%                           7.250000                        1.197610   \n",
       "75%                           7.600000                        1.797819   \n",
       "max                          15.500000                        4.102454   \n",
       "\n",
       "       primary_cleaner.state.floatbank8_a_air  \\\n",
       "count                            5.290000e+03   \n",
       "mean                             1.539494e+03   \n",
       "std                              1.167979e+02   \n",
       "min                              5.445860e-32   \n",
       "25%                              1.498936e+03   \n",
       "50%                              1.585129e+03   \n",
       "75%                              1.602077e+03   \n",
       "max                              2.103104e+03   \n",
       "\n",
       "       primary_cleaner.state.floatbank8_a_level  \\\n",
       "count                               5290.000000   \n",
       "mean                                -497.665883   \n",
       "std                                   19.952431   \n",
       "min                                 -795.316337   \n",
       "25%                                 -500.357298   \n",
       "50%                                 -499.969164   \n",
       "75%                                 -499.568951   \n",
       "max                                  -57.195404   \n",
       "\n",
       "       primary_cleaner.state.floatbank8_b_air  \\\n",
       "count                            5.290000e+03   \n",
       "mean                             1.545174e+03   \n",
       "std                              1.222246e+02   \n",
       "min                              6.647490e-32   \n",
       "25%                              1.498971e+03   \n",
       "50%                              1.595622e+03   \n",
       "75%                              1.602324e+03   \n",
       "max                              1.813084e+03   \n",
       "\n",
       "       primary_cleaner.state.floatbank8_b_level  \\\n",
       "count                               5290.000000   \n",
       "mean                                -500.273098   \n",
       "std                                   32.968307   \n",
       "min                                 -799.997015   \n",
       "25%                                 -500.703002   \n",
       "50%                                 -500.028514   \n",
       "75%                                 -499.293257   \n",
       "max                                 -142.527229   \n",
       "\n",
       "       primary_cleaner.state.floatbank8_c_air  \\\n",
       "count                            5.290000e+03   \n",
       "mean                             1.527272e+03   \n",
       "std                              1.225380e+02   \n",
       "min                              4.033736e-32   \n",
       "25%                              1.473230e+03   \n",
       "50%                              1.549595e+03   \n",
       "75%                              1.601144e+03   \n",
       "max                              1.715054e+03   \n",
       "\n",
       "       primary_cleaner.state.floatbank8_c_level  ...  \\\n",
       "count                               5290.000000  ...   \n",
       "mean                                -498.330680  ...   \n",
       "std                                   21.964876  ...   \n",
       "min                                 -799.960571  ...   \n",
       "25%                                 -501.018117  ...   \n",
       "50%                                 -500.017711  ...   \n",
       "75%                                 -498.994130  ...   \n",
       "max                                 -150.937035  ...   \n",
       "\n",
       "       secondary_cleaner.state.floatbank4_a_air  \\\n",
       "count                              5.290000e+03   \n",
       "mean                               1.632007e+01   \n",
       "std                                3.493583e+00   \n",
       "min                                1.079872e-16   \n",
       "25%                                1.403618e+01   \n",
       "50%                                1.700847e+01   \n",
       "75%                                1.803862e+01   \n",
       "max                                3.005180e+01   \n",
       "\n",
       "       secondary_cleaner.state.floatbank4_a_level  \\\n",
       "count                                 5290.000000   \n",
       "mean                                  -505.144570   \n",
       "std                                     31.427337   \n",
       "min                                   -799.798523   \n",
       "25%                                   -500.868258   \n",
       "50%                                   -500.115727   \n",
       "75%                                   -499.404224   \n",
       "max                                   -401.565212   \n",
       "\n",
       "       secondary_cleaner.state.floatbank4_b_air  \\\n",
       "count                              5.290000e+03   \n",
       "mean                               1.373544e+01   \n",
       "std                                3.430484e+00   \n",
       "min                                2.489718e-17   \n",
       "25%                                1.202862e+01   \n",
       "50%                                1.496486e+01   \n",
       "75%                                1.596213e+01   \n",
       "max                                3.126971e+01   \n",
       "\n",
       "       secondary_cleaner.state.floatbank4_b_level  \\\n",
       "count                                 5290.000000   \n",
       "mean                                  -463.349858   \n",
       "std                                     86.189107   \n",
       "min                                   -800.836914   \n",
       "25%                                   -500.323028   \n",
       "50%                                   -499.576513   \n",
       "75%                                   -400.933805   \n",
       "max                                     -6.506986   \n",
       "\n",
       "       secondary_cleaner.state.floatbank5_a_air  \\\n",
       "count                               5290.000000   \n",
       "mean                                  12.804186   \n",
       "std                                    3.026591   \n",
       "min                                    0.069227   \n",
       "25%                                   10.914838   \n",
       "50%                                   12.954182   \n",
       "75%                                   15.097528   \n",
       "max                                   25.258848   \n",
       "\n",
       "       secondary_cleaner.state.floatbank5_a_level  \\\n",
       "count                                 5290.000000   \n",
       "mean                                  -501.329122   \n",
       "std                                     17.951495   \n",
       "min                                   -797.323986   \n",
       "25%                                   -500.726841   \n",
       "50%                                   -499.990332   \n",
       "75%                                   -499.283191   \n",
       "max                                   -244.483566   \n",
       "\n",
       "       secondary_cleaner.state.floatbank5_b_air  \\\n",
       "count                               5290.000000   \n",
       "mean                                   9.881145   \n",
       "std                                    2.868205   \n",
       "min                                    0.528083   \n",
       "25%                                    8.036719   \n",
       "50%                                   10.004301   \n",
       "75%                                   11.997467   \n",
       "max                                   14.086866   \n",
       "\n",
       "       secondary_cleaner.state.floatbank5_b_level  \\\n",
       "count                                 5290.000000   \n",
       "mean                                  -495.663398   \n",
       "std                                     34.535007   \n",
       "min                                   -800.220337   \n",
       "25%                                   -500.194668   \n",
       "50%                                   -499.990535   \n",
       "75%                                   -499.719913   \n",
       "max                                   -137.740004   \n",
       "\n",
       "       secondary_cleaner.state.floatbank6_a_air  \\\n",
       "count                               5290.000000   \n",
       "mean                                  17.304935   \n",
       "std                                    4.536544   \n",
       "min                                   -0.079426   \n",
       "25%                                   13.997317   \n",
       "50%                                   16.014935   \n",
       "75%                                   21.020013   \n",
       "max                                   26.705889   \n",
       "\n",
       "       secondary_cleaner.state.floatbank6_a_level  \n",
       "count                                 5290.000000  \n",
       "mean                                  -501.793193  \n",
       "std                                     39.044215  \n",
       "min                                   -809.741464  \n",
       "25%                                   -500.690984  \n",
       "50%                                   -500.007126  \n",
       "75%                                   -499.373018  \n",
       "max                                   -123.307487  \n",
       "\n",
       "[8 rows x 52 columns]"
      ]
     },
     "metadata": {},
     "output_type": "display_data"
    },
    {
     "name": "stdout",
     "output_type": "stream",
     "text": [
      "Количество дубликатов 0\n"
     ]
    }
   ],
   "source": [
    "research(data_test)"
   ]
  },
  {
   "cell_type": "code",
   "execution_count": 6,
   "metadata": {
    "scrolled": true
   },
   "outputs": [
    {
     "data": {
      "text/html": [
       "<div>\n",
       "<style scoped>\n",
       "    .dataframe tbody tr th:only-of-type {\n",
       "        vertical-align: middle;\n",
       "    }\n",
       "\n",
       "    .dataframe tbody tr th {\n",
       "        vertical-align: top;\n",
       "    }\n",
       "\n",
       "    .dataframe thead th {\n",
       "        text-align: right;\n",
       "    }\n",
       "</style>\n",
       "<table border=\"1\" class=\"dataframe\">\n",
       "  <thead>\n",
       "    <tr style=\"text-align: right;\">\n",
       "      <th></th>\n",
       "      <th>date</th>\n",
       "      <th>final.output.concentrate_ag</th>\n",
       "      <th>final.output.concentrate_pb</th>\n",
       "      <th>final.output.concentrate_sol</th>\n",
       "      <th>final.output.concentrate_au</th>\n",
       "      <th>final.output.recovery</th>\n",
       "      <th>final.output.tail_ag</th>\n",
       "      <th>final.output.tail_pb</th>\n",
       "      <th>final.output.tail_sol</th>\n",
       "      <th>final.output.tail_au</th>\n",
       "      <th>...</th>\n",
       "      <th>secondary_cleaner.state.floatbank4_a_air</th>\n",
       "      <th>secondary_cleaner.state.floatbank4_a_level</th>\n",
       "      <th>secondary_cleaner.state.floatbank4_b_air</th>\n",
       "      <th>secondary_cleaner.state.floatbank4_b_level</th>\n",
       "      <th>secondary_cleaner.state.floatbank5_a_air</th>\n",
       "      <th>secondary_cleaner.state.floatbank5_a_level</th>\n",
       "      <th>secondary_cleaner.state.floatbank5_b_air</th>\n",
       "      <th>secondary_cleaner.state.floatbank5_b_level</th>\n",
       "      <th>secondary_cleaner.state.floatbank6_a_air</th>\n",
       "      <th>secondary_cleaner.state.floatbank6_a_level</th>\n",
       "    </tr>\n",
       "  </thead>\n",
       "  <tbody>\n",
       "    <tr>\n",
       "      <th>0</th>\n",
       "      <td>2016-01-15 00:00:00</td>\n",
       "      <td>6.055403</td>\n",
       "      <td>9.889648</td>\n",
       "      <td>5.507324</td>\n",
       "      <td>42.192020</td>\n",
       "      <td>70.541216</td>\n",
       "      <td>10.411962</td>\n",
       "      <td>0.895447</td>\n",
       "      <td>16.904297</td>\n",
       "      <td>2.143149</td>\n",
       "      <td>...</td>\n",
       "      <td>14.016835</td>\n",
       "      <td>-502.488007</td>\n",
       "      <td>12.099931</td>\n",
       "      <td>-504.715942</td>\n",
       "      <td>9.925633</td>\n",
       "      <td>-498.310211</td>\n",
       "      <td>8.079666</td>\n",
       "      <td>-500.470978</td>\n",
       "      <td>14.151341</td>\n",
       "      <td>-605.841980</td>\n",
       "    </tr>\n",
       "    <tr>\n",
       "      <th>1</th>\n",
       "      <td>2016-01-15 01:00:00</td>\n",
       "      <td>6.029369</td>\n",
       "      <td>9.968944</td>\n",
       "      <td>5.257781</td>\n",
       "      <td>42.701629</td>\n",
       "      <td>69.266198</td>\n",
       "      <td>10.462676</td>\n",
       "      <td>0.927452</td>\n",
       "      <td>16.634514</td>\n",
       "      <td>2.224930</td>\n",
       "      <td>...</td>\n",
       "      <td>13.992281</td>\n",
       "      <td>-505.503262</td>\n",
       "      <td>11.950531</td>\n",
       "      <td>-501.331529</td>\n",
       "      <td>10.039245</td>\n",
       "      <td>-500.169983</td>\n",
       "      <td>7.984757</td>\n",
       "      <td>-500.582168</td>\n",
       "      <td>13.998353</td>\n",
       "      <td>-599.787184</td>\n",
       "    </tr>\n",
       "    <tr>\n",
       "      <th>2</th>\n",
       "      <td>2016-01-15 02:00:00</td>\n",
       "      <td>6.055926</td>\n",
       "      <td>10.213995</td>\n",
       "      <td>5.383759</td>\n",
       "      <td>42.657501</td>\n",
       "      <td>68.116445</td>\n",
       "      <td>10.507046</td>\n",
       "      <td>0.953716</td>\n",
       "      <td>16.208849</td>\n",
       "      <td>2.257889</td>\n",
       "      <td>...</td>\n",
       "      <td>14.015015</td>\n",
       "      <td>-502.520901</td>\n",
       "      <td>11.912783</td>\n",
       "      <td>-501.133383</td>\n",
       "      <td>10.070913</td>\n",
       "      <td>-500.129135</td>\n",
       "      <td>8.013877</td>\n",
       "      <td>-500.517572</td>\n",
       "      <td>14.028663</td>\n",
       "      <td>-601.427363</td>\n",
       "    </tr>\n",
       "    <tr>\n",
       "      <th>3</th>\n",
       "      <td>2016-01-15 03:00:00</td>\n",
       "      <td>6.047977</td>\n",
       "      <td>9.977019</td>\n",
       "      <td>4.858634</td>\n",
       "      <td>42.689819</td>\n",
       "      <td>68.347543</td>\n",
       "      <td>10.422762</td>\n",
       "      <td>0.883763</td>\n",
       "      <td>16.532835</td>\n",
       "      <td>2.146849</td>\n",
       "      <td>...</td>\n",
       "      <td>14.036510</td>\n",
       "      <td>-500.857308</td>\n",
       "      <td>11.999550</td>\n",
       "      <td>-501.193686</td>\n",
       "      <td>9.970366</td>\n",
       "      <td>-499.201640</td>\n",
       "      <td>7.977324</td>\n",
       "      <td>-500.255908</td>\n",
       "      <td>14.005551</td>\n",
       "      <td>-599.996129</td>\n",
       "    </tr>\n",
       "    <tr>\n",
       "      <th>4</th>\n",
       "      <td>2016-01-15 04:00:00</td>\n",
       "      <td>6.148599</td>\n",
       "      <td>10.142511</td>\n",
       "      <td>4.939416</td>\n",
       "      <td>42.774141</td>\n",
       "      <td>66.927016</td>\n",
       "      <td>10.360302</td>\n",
       "      <td>0.792826</td>\n",
       "      <td>16.525686</td>\n",
       "      <td>2.055292</td>\n",
       "      <td>...</td>\n",
       "      <td>14.027298</td>\n",
       "      <td>-499.838632</td>\n",
       "      <td>11.953070</td>\n",
       "      <td>-501.053894</td>\n",
       "      <td>9.925709</td>\n",
       "      <td>-501.686727</td>\n",
       "      <td>7.894242</td>\n",
       "      <td>-500.356035</td>\n",
       "      <td>13.996647</td>\n",
       "      <td>-601.496691</td>\n",
       "    </tr>\n",
       "  </tbody>\n",
       "</table>\n",
       "<p>5 rows × 87 columns</p>\n",
       "</div>"
      ],
      "text/plain": [
       "                  date  final.output.concentrate_ag  \\\n",
       "0  2016-01-15 00:00:00                     6.055403   \n",
       "1  2016-01-15 01:00:00                     6.029369   \n",
       "2  2016-01-15 02:00:00                     6.055926   \n",
       "3  2016-01-15 03:00:00                     6.047977   \n",
       "4  2016-01-15 04:00:00                     6.148599   \n",
       "\n",
       "   final.output.concentrate_pb  final.output.concentrate_sol  \\\n",
       "0                     9.889648                      5.507324   \n",
       "1                     9.968944                      5.257781   \n",
       "2                    10.213995                      5.383759   \n",
       "3                     9.977019                      4.858634   \n",
       "4                    10.142511                      4.939416   \n",
       "\n",
       "   final.output.concentrate_au  final.output.recovery  final.output.tail_ag  \\\n",
       "0                    42.192020              70.541216             10.411962   \n",
       "1                    42.701629              69.266198             10.462676   \n",
       "2                    42.657501              68.116445             10.507046   \n",
       "3                    42.689819              68.347543             10.422762   \n",
       "4                    42.774141              66.927016             10.360302   \n",
       "\n",
       "   final.output.tail_pb  final.output.tail_sol  final.output.tail_au  ...  \\\n",
       "0              0.895447              16.904297              2.143149  ...   \n",
       "1              0.927452              16.634514              2.224930  ...   \n",
       "2              0.953716              16.208849              2.257889  ...   \n",
       "3              0.883763              16.532835              2.146849  ...   \n",
       "4              0.792826              16.525686              2.055292  ...   \n",
       "\n",
       "   secondary_cleaner.state.floatbank4_a_air  \\\n",
       "0                                 14.016835   \n",
       "1                                 13.992281   \n",
       "2                                 14.015015   \n",
       "3                                 14.036510   \n",
       "4                                 14.027298   \n",
       "\n",
       "   secondary_cleaner.state.floatbank4_a_level  \\\n",
       "0                                 -502.488007   \n",
       "1                                 -505.503262   \n",
       "2                                 -502.520901   \n",
       "3                                 -500.857308   \n",
       "4                                 -499.838632   \n",
       "\n",
       "   secondary_cleaner.state.floatbank4_b_air  \\\n",
       "0                                 12.099931   \n",
       "1                                 11.950531   \n",
       "2                                 11.912783   \n",
       "3                                 11.999550   \n",
       "4                                 11.953070   \n",
       "\n",
       "   secondary_cleaner.state.floatbank4_b_level  \\\n",
       "0                                 -504.715942   \n",
       "1                                 -501.331529   \n",
       "2                                 -501.133383   \n",
       "3                                 -501.193686   \n",
       "4                                 -501.053894   \n",
       "\n",
       "   secondary_cleaner.state.floatbank5_a_air  \\\n",
       "0                                  9.925633   \n",
       "1                                 10.039245   \n",
       "2                                 10.070913   \n",
       "3                                  9.970366   \n",
       "4                                  9.925709   \n",
       "\n",
       "   secondary_cleaner.state.floatbank5_a_level  \\\n",
       "0                                 -498.310211   \n",
       "1                                 -500.169983   \n",
       "2                                 -500.129135   \n",
       "3                                 -499.201640   \n",
       "4                                 -501.686727   \n",
       "\n",
       "   secondary_cleaner.state.floatbank5_b_air  \\\n",
       "0                                  8.079666   \n",
       "1                                  7.984757   \n",
       "2                                  8.013877   \n",
       "3                                  7.977324   \n",
       "4                                  7.894242   \n",
       "\n",
       "   secondary_cleaner.state.floatbank5_b_level  \\\n",
       "0                                 -500.470978   \n",
       "1                                 -500.582168   \n",
       "2                                 -500.517572   \n",
       "3                                 -500.255908   \n",
       "4                                 -500.356035   \n",
       "\n",
       "   secondary_cleaner.state.floatbank6_a_air  \\\n",
       "0                                 14.151341   \n",
       "1                                 13.998353   \n",
       "2                                 14.028663   \n",
       "3                                 14.005551   \n",
       "4                                 13.996647   \n",
       "\n",
       "   secondary_cleaner.state.floatbank6_a_level  \n",
       "0                                 -605.841980  \n",
       "1                                 -599.787184  \n",
       "2                                 -601.427363  \n",
       "3                                 -599.996129  \n",
       "4                                 -601.496691  \n",
       "\n",
       "[5 rows x 87 columns]"
      ]
     },
     "metadata": {},
     "output_type": "display_data"
    },
    {
     "name": "stdout",
     "output_type": "stream",
     "text": [
      "<class 'pandas.core.frame.DataFrame'>\n",
      "RangeIndex: 19439 entries, 0 to 19438\n",
      "Data columns (total 87 columns):\n",
      " #   Column                                              Non-Null Count  Dtype  \n",
      "---  ------                                              --------------  -----  \n",
      " 0   date                                                19439 non-null  object \n",
      " 1   final.output.concentrate_ag                         19438 non-null  float64\n",
      " 2   final.output.concentrate_pb                         19438 non-null  float64\n",
      " 3   final.output.concentrate_sol                        19228 non-null  float64\n",
      " 4   final.output.concentrate_au                         19439 non-null  float64\n",
      " 5   final.output.recovery                               19439 non-null  float64\n",
      " 6   final.output.tail_ag                                19438 non-null  float64\n",
      " 7   final.output.tail_pb                                19338 non-null  float64\n",
      " 8   final.output.tail_sol                               19433 non-null  float64\n",
      " 9   final.output.tail_au                                19439 non-null  float64\n",
      " 10  primary_cleaner.input.sulfate                       19415 non-null  float64\n",
      " 11  primary_cleaner.input.depressant                    19402 non-null  float64\n",
      " 12  primary_cleaner.input.feed_size                     19439 non-null  float64\n",
      " 13  primary_cleaner.input.xanthate                      19335 non-null  float64\n",
      " 14  primary_cleaner.output.concentrate_ag               19439 non-null  float64\n",
      " 15  primary_cleaner.output.concentrate_pb               19323 non-null  float64\n",
      " 16  primary_cleaner.output.concentrate_sol              19069 non-null  float64\n",
      " 17  primary_cleaner.output.concentrate_au               19439 non-null  float64\n",
      " 18  primary_cleaner.output.tail_ag                      19435 non-null  float64\n",
      " 19  primary_cleaner.output.tail_pb                      19418 non-null  float64\n",
      " 20  primary_cleaner.output.tail_sol                     19377 non-null  float64\n",
      " 21  primary_cleaner.output.tail_au                      19439 non-null  float64\n",
      " 22  primary_cleaner.state.floatbank8_a_air              19435 non-null  float64\n",
      " 23  primary_cleaner.state.floatbank8_a_level            19438 non-null  float64\n",
      " 24  primary_cleaner.state.floatbank8_b_air              19435 non-null  float64\n",
      " 25  primary_cleaner.state.floatbank8_b_level            19438 non-null  float64\n",
      " 26  primary_cleaner.state.floatbank8_c_air              19437 non-null  float64\n",
      " 27  primary_cleaner.state.floatbank8_c_level            19438 non-null  float64\n",
      " 28  primary_cleaner.state.floatbank8_d_air              19436 non-null  float64\n",
      " 29  primary_cleaner.state.floatbank8_d_level            19438 non-null  float64\n",
      " 30  rougher.calculation.sulfate_to_au_concentrate       19437 non-null  float64\n",
      " 31  rougher.calculation.floatbank10_sulfate_to_au_feed  19437 non-null  float64\n",
      " 32  rougher.calculation.floatbank11_sulfate_to_au_feed  19437 non-null  float64\n",
      " 33  rougher.calculation.au_pb_ratio                     19439 non-null  float64\n",
      " 34  rougher.input.feed_ag                               19439 non-null  float64\n",
      " 35  rougher.input.feed_pb                               19339 non-null  float64\n",
      " 36  rougher.input.feed_rate                             19428 non-null  float64\n",
      " 37  rougher.input.feed_size                             19294 non-null  float64\n",
      " 38  rougher.input.feed_sol                              19340 non-null  float64\n",
      " 39  rougher.input.feed_au                               19439 non-null  float64\n",
      " 40  rougher.input.floatbank10_sulfate                   19405 non-null  float64\n",
      " 41  rougher.input.floatbank10_xanthate                  19431 non-null  float64\n",
      " 42  rougher.input.floatbank11_sulfate                   19395 non-null  float64\n",
      " 43  rougher.input.floatbank11_xanthate                  18986 non-null  float64\n",
      " 44  rougher.output.concentrate_ag                       19439 non-null  float64\n",
      " 45  rougher.output.concentrate_pb                       19439 non-null  float64\n",
      " 46  rougher.output.concentrate_sol                      19416 non-null  float64\n",
      " 47  rougher.output.concentrate_au                       19439 non-null  float64\n",
      " 48  rougher.output.recovery                             19439 non-null  float64\n",
      " 49  rougher.output.tail_ag                              19438 non-null  float64\n",
      " 50  rougher.output.tail_pb                              19439 non-null  float64\n",
      " 51  rougher.output.tail_sol                             19439 non-null  float64\n",
      " 52  rougher.output.tail_au                              19439 non-null  float64\n",
      " 53  rougher.state.floatbank10_a_air                     19438 non-null  float64\n",
      " 54  rougher.state.floatbank10_a_level                   19438 non-null  float64\n",
      " 55  rougher.state.floatbank10_b_air                     19438 non-null  float64\n",
      " 56  rougher.state.floatbank10_b_level                   19438 non-null  float64\n",
      " 57  rougher.state.floatbank10_c_air                     19438 non-null  float64\n",
      " 58  rougher.state.floatbank10_c_level                   19438 non-null  float64\n",
      " 59  rougher.state.floatbank10_d_air                     19439 non-null  float64\n",
      " 60  rougher.state.floatbank10_d_level                   19439 non-null  float64\n",
      " 61  rougher.state.floatbank10_e_air                     19003 non-null  float64\n",
      " 62  rougher.state.floatbank10_e_level                   19439 non-null  float64\n",
      " 63  rougher.state.floatbank10_f_air                     19439 non-null  float64\n",
      " 64  rougher.state.floatbank10_f_level                   19439 non-null  float64\n",
      " 65  secondary_cleaner.output.tail_ag                    19437 non-null  float64\n",
      " 66  secondary_cleaner.output.tail_pb                    19427 non-null  float64\n",
      " 67  secondary_cleaner.output.tail_sol                   17691 non-null  float64\n",
      " 68  secondary_cleaner.output.tail_au                    19439 non-null  float64\n",
      " 69  secondary_cleaner.state.floatbank2_a_air            19219 non-null  float64\n",
      " 70  secondary_cleaner.state.floatbank2_a_level          19438 non-null  float64\n",
      " 71  secondary_cleaner.state.floatbank2_b_air            19416 non-null  float64\n",
      " 72  secondary_cleaner.state.floatbank2_b_level          19438 non-null  float64\n",
      " 73  secondary_cleaner.state.floatbank3_a_air            19426 non-null  float64\n",
      " 74  secondary_cleaner.state.floatbank3_a_level          19438 non-null  float64\n",
      " 75  secondary_cleaner.state.floatbank3_b_air            19438 non-null  float64\n",
      " 76  secondary_cleaner.state.floatbank3_b_level          19438 non-null  float64\n",
      " 77  secondary_cleaner.state.floatbank4_a_air            19433 non-null  float64\n",
      " 78  secondary_cleaner.state.floatbank4_a_level          19438 non-null  float64\n",
      " 79  secondary_cleaner.state.floatbank4_b_air            19438 non-null  float64\n",
      " 80  secondary_cleaner.state.floatbank4_b_level          19438 non-null  float64\n",
      " 81  secondary_cleaner.state.floatbank5_a_air            19438 non-null  float64\n",
      " 82  secondary_cleaner.state.floatbank5_a_level          19438 non-null  float64\n",
      " 83  secondary_cleaner.state.floatbank5_b_air            19438 non-null  float64\n",
      " 84  secondary_cleaner.state.floatbank5_b_level          19438 non-null  float64\n",
      " 85  secondary_cleaner.state.floatbank6_a_air            19437 non-null  float64\n",
      " 86  secondary_cleaner.state.floatbank6_a_level          19438 non-null  float64\n",
      "dtypes: float64(86), object(1)\n",
      "memory usage: 12.9+ MB\n",
      "None\n"
     ]
    },
    {
     "data": {
      "text/html": [
       "<div>\n",
       "<style scoped>\n",
       "    .dataframe tbody tr th:only-of-type {\n",
       "        vertical-align: middle;\n",
       "    }\n",
       "\n",
       "    .dataframe tbody tr th {\n",
       "        vertical-align: top;\n",
       "    }\n",
       "\n",
       "    .dataframe thead th {\n",
       "        text-align: right;\n",
       "    }\n",
       "</style>\n",
       "<table border=\"1\" class=\"dataframe\">\n",
       "  <thead>\n",
       "    <tr style=\"text-align: right;\">\n",
       "      <th></th>\n",
       "      <th>final.output.concentrate_ag</th>\n",
       "      <th>final.output.concentrate_pb</th>\n",
       "      <th>final.output.concentrate_sol</th>\n",
       "      <th>final.output.concentrate_au</th>\n",
       "      <th>final.output.recovery</th>\n",
       "      <th>final.output.tail_ag</th>\n",
       "      <th>final.output.tail_pb</th>\n",
       "      <th>final.output.tail_sol</th>\n",
       "      <th>final.output.tail_au</th>\n",
       "      <th>primary_cleaner.input.sulfate</th>\n",
       "      <th>...</th>\n",
       "      <th>secondary_cleaner.state.floatbank4_a_air</th>\n",
       "      <th>secondary_cleaner.state.floatbank4_a_level</th>\n",
       "      <th>secondary_cleaner.state.floatbank4_b_air</th>\n",
       "      <th>secondary_cleaner.state.floatbank4_b_level</th>\n",
       "      <th>secondary_cleaner.state.floatbank5_a_air</th>\n",
       "      <th>secondary_cleaner.state.floatbank5_a_level</th>\n",
       "      <th>secondary_cleaner.state.floatbank5_b_air</th>\n",
       "      <th>secondary_cleaner.state.floatbank5_b_level</th>\n",
       "      <th>secondary_cleaner.state.floatbank6_a_air</th>\n",
       "      <th>secondary_cleaner.state.floatbank6_a_level</th>\n",
       "    </tr>\n",
       "  </thead>\n",
       "  <tbody>\n",
       "    <tr>\n",
       "      <th>count</th>\n",
       "      <td>19438.000000</td>\n",
       "      <td>19438.000000</td>\n",
       "      <td>19228.000000</td>\n",
       "      <td>19439.000000</td>\n",
       "      <td>19439.000000</td>\n",
       "      <td>19438.000000</td>\n",
       "      <td>19338.000000</td>\n",
       "      <td>19433.000000</td>\n",
       "      <td>19439.000000</td>\n",
       "      <td>19415.000000</td>\n",
       "      <td>...</td>\n",
       "      <td>19433.000000</td>\n",
       "      <td>19438.000000</td>\n",
       "      <td>19438.000000</td>\n",
       "      <td>19438.000000</td>\n",
       "      <td>19438.000000</td>\n",
       "      <td>19438.000000</td>\n",
       "      <td>19438.000000</td>\n",
       "      <td>19438.000000</td>\n",
       "      <td>19437.000000</td>\n",
       "      <td>19438.000000</td>\n",
       "    </tr>\n",
       "    <tr>\n",
       "      <th>mean</th>\n",
       "      <td>5.168470</td>\n",
       "      <td>9.978895</td>\n",
       "      <td>9.501224</td>\n",
       "      <td>44.076513</td>\n",
       "      <td>67.050208</td>\n",
       "      <td>9.688589</td>\n",
       "      <td>2.705795</td>\n",
       "      <td>10.583728</td>\n",
       "      <td>3.042467</td>\n",
       "      <td>144.624774</td>\n",
       "      <td>...</td>\n",
       "      <td>18.987674</td>\n",
       "      <td>-485.894516</td>\n",
       "      <td>15.010366</td>\n",
       "      <td>-461.078636</td>\n",
       "      <td>15.694452</td>\n",
       "      <td>-488.684065</td>\n",
       "      <td>12.198224</td>\n",
       "      <td>-487.149827</td>\n",
       "      <td>18.959024</td>\n",
       "      <td>-505.436305</td>\n",
       "    </tr>\n",
       "    <tr>\n",
       "      <th>std</th>\n",
       "      <td>1.372348</td>\n",
       "      <td>1.669240</td>\n",
       "      <td>2.787537</td>\n",
       "      <td>5.129784</td>\n",
       "      <td>10.125840</td>\n",
       "      <td>2.328642</td>\n",
       "      <td>0.949077</td>\n",
       "      <td>2.868782</td>\n",
       "      <td>0.922808</td>\n",
       "      <td>44.464071</td>\n",
       "      <td>...</td>\n",
       "      <td>5.411058</td>\n",
       "      <td>47.758570</td>\n",
       "      <td>4.890228</td>\n",
       "      <td>67.405524</td>\n",
       "      <td>5.510974</td>\n",
       "      <td>34.533396</td>\n",
       "      <td>5.333024</td>\n",
       "      <td>38.347312</td>\n",
       "      <td>5.550498</td>\n",
       "      <td>37.689057</td>\n",
       "    </tr>\n",
       "    <tr>\n",
       "      <th>min</th>\n",
       "      <td>0.000000</td>\n",
       "      <td>0.000000</td>\n",
       "      <td>0.000000</td>\n",
       "      <td>0.000000</td>\n",
       "      <td>0.000000</td>\n",
       "      <td>0.000000</td>\n",
       "      <td>0.000000</td>\n",
       "      <td>0.000000</td>\n",
       "      <td>0.000000</td>\n",
       "      <td>0.003112</td>\n",
       "      <td>...</td>\n",
       "      <td>0.000000</td>\n",
       "      <td>-799.798523</td>\n",
       "      <td>0.000000</td>\n",
       "      <td>-800.836914</td>\n",
       "      <td>-0.372054</td>\n",
       "      <td>-797.323986</td>\n",
       "      <td>0.528083</td>\n",
       "      <td>-800.220337</td>\n",
       "      <td>-0.079426</td>\n",
       "      <td>-809.741464</td>\n",
       "    </tr>\n",
       "    <tr>\n",
       "      <th>25%</th>\n",
       "      <td>4.251240</td>\n",
       "      <td>9.137262</td>\n",
       "      <td>7.722820</td>\n",
       "      <td>43.402215</td>\n",
       "      <td>63.299712</td>\n",
       "      <td>8.062878</td>\n",
       "      <td>2.040119</td>\n",
       "      <td>8.938947</td>\n",
       "      <td>2.461138</td>\n",
       "      <td>114.107029</td>\n",
       "      <td>...</td>\n",
       "      <td>14.975734</td>\n",
       "      <td>-500.704892</td>\n",
       "      <td>11.940294</td>\n",
       "      <td>-500.187742</td>\n",
       "      <td>10.988606</td>\n",
       "      <td>-500.458467</td>\n",
       "      <td>8.971105</td>\n",
       "      <td>-500.129462</td>\n",
       "      <td>14.983037</td>\n",
       "      <td>-500.728067</td>\n",
       "    </tr>\n",
       "    <tr>\n",
       "      <th>50%</th>\n",
       "      <td>5.066094</td>\n",
       "      <td>10.102433</td>\n",
       "      <td>9.218961</td>\n",
       "      <td>45.011244</td>\n",
       "      <td>68.172738</td>\n",
       "      <td>9.743623</td>\n",
       "      <td>2.748730</td>\n",
       "      <td>10.622456</td>\n",
       "      <td>2.984909</td>\n",
       "      <td>143.232103</td>\n",
       "      <td>...</td>\n",
       "      <td>18.017481</td>\n",
       "      <td>-499.837793</td>\n",
       "      <td>14.971014</td>\n",
       "      <td>-499.459786</td>\n",
       "      <td>15.000036</td>\n",
       "      <td>-499.802605</td>\n",
       "      <td>11.019433</td>\n",
       "      <td>-499.935317</td>\n",
       "      <td>19.960541</td>\n",
       "      <td>-500.048400</td>\n",
       "    </tr>\n",
       "    <tr>\n",
       "      <th>75%</th>\n",
       "      <td>5.895527</td>\n",
       "      <td>11.035769</td>\n",
       "      <td>10.947813</td>\n",
       "      <td>46.275313</td>\n",
       "      <td>72.686642</td>\n",
       "      <td>11.134294</td>\n",
       "      <td>3.333216</td>\n",
       "      <td>12.104271</td>\n",
       "      <td>3.571351</td>\n",
       "      <td>175.075656</td>\n",
       "      <td>...</td>\n",
       "      <td>23.012470</td>\n",
       "      <td>-498.249730</td>\n",
       "      <td>19.034162</td>\n",
       "      <td>-400.118106</td>\n",
       "      <td>18.026190</td>\n",
       "      <td>-498.384187</td>\n",
       "      <td>14.019088</td>\n",
       "      <td>-499.436708</td>\n",
       "      <td>24.003170</td>\n",
       "      <td>-499.495378</td>\n",
       "    </tr>\n",
       "    <tr>\n",
       "      <th>max</th>\n",
       "      <td>16.001945</td>\n",
       "      <td>17.031899</td>\n",
       "      <td>19.615720</td>\n",
       "      <td>52.756638</td>\n",
       "      <td>100.000000</td>\n",
       "      <td>19.552149</td>\n",
       "      <td>5.804178</td>\n",
       "      <td>22.317730</td>\n",
       "      <td>8.245022</td>\n",
       "      <td>265.983123</td>\n",
       "      <td>...</td>\n",
       "      <td>30.115735</td>\n",
       "      <td>-245.239184</td>\n",
       "      <td>31.269706</td>\n",
       "      <td>-6.506986</td>\n",
       "      <td>43.709931</td>\n",
       "      <td>-244.483566</td>\n",
       "      <td>27.926001</td>\n",
       "      <td>-137.740004</td>\n",
       "      <td>32.188906</td>\n",
       "      <td>-104.427459</td>\n",
       "    </tr>\n",
       "  </tbody>\n",
       "</table>\n",
       "<p>8 rows × 86 columns</p>\n",
       "</div>"
      ],
      "text/plain": [
       "       final.output.concentrate_ag  final.output.concentrate_pb  \\\n",
       "count                 19438.000000                 19438.000000   \n",
       "mean                      5.168470                     9.978895   \n",
       "std                       1.372348                     1.669240   \n",
       "min                       0.000000                     0.000000   \n",
       "25%                       4.251240                     9.137262   \n",
       "50%                       5.066094                    10.102433   \n",
       "75%                       5.895527                    11.035769   \n",
       "max                      16.001945                    17.031899   \n",
       "\n",
       "       final.output.concentrate_sol  final.output.concentrate_au  \\\n",
       "count                  19228.000000                 19439.000000   \n",
       "mean                       9.501224                    44.076513   \n",
       "std                        2.787537                     5.129784   \n",
       "min                        0.000000                     0.000000   \n",
       "25%                        7.722820                    43.402215   \n",
       "50%                        9.218961                    45.011244   \n",
       "75%                       10.947813                    46.275313   \n",
       "max                       19.615720                    52.756638   \n",
       "\n",
       "       final.output.recovery  final.output.tail_ag  final.output.tail_pb  \\\n",
       "count           19439.000000          19438.000000          19338.000000   \n",
       "mean               67.050208              9.688589              2.705795   \n",
       "std                10.125840              2.328642              0.949077   \n",
       "min                 0.000000              0.000000              0.000000   \n",
       "25%                63.299712              8.062878              2.040119   \n",
       "50%                68.172738              9.743623              2.748730   \n",
       "75%                72.686642             11.134294              3.333216   \n",
       "max               100.000000             19.552149              5.804178   \n",
       "\n",
       "       final.output.tail_sol  final.output.tail_au  \\\n",
       "count           19433.000000          19439.000000   \n",
       "mean               10.583728              3.042467   \n",
       "std                 2.868782              0.922808   \n",
       "min                 0.000000              0.000000   \n",
       "25%                 8.938947              2.461138   \n",
       "50%                10.622456              2.984909   \n",
       "75%                12.104271              3.571351   \n",
       "max                22.317730              8.245022   \n",
       "\n",
       "       primary_cleaner.input.sulfate  ...  \\\n",
       "count                   19415.000000  ...   \n",
       "mean                      144.624774  ...   \n",
       "std                        44.464071  ...   \n",
       "min                         0.003112  ...   \n",
       "25%                       114.107029  ...   \n",
       "50%                       143.232103  ...   \n",
       "75%                       175.075656  ...   \n",
       "max                       265.983123  ...   \n",
       "\n",
       "       secondary_cleaner.state.floatbank4_a_air  \\\n",
       "count                              19433.000000   \n",
       "mean                                  18.987674   \n",
       "std                                    5.411058   \n",
       "min                                    0.000000   \n",
       "25%                                   14.975734   \n",
       "50%                                   18.017481   \n",
       "75%                                   23.012470   \n",
       "max                                   30.115735   \n",
       "\n",
       "       secondary_cleaner.state.floatbank4_a_level  \\\n",
       "count                                19438.000000   \n",
       "mean                                  -485.894516   \n",
       "std                                     47.758570   \n",
       "min                                   -799.798523   \n",
       "25%                                   -500.704892   \n",
       "50%                                   -499.837793   \n",
       "75%                                   -498.249730   \n",
       "max                                   -245.239184   \n",
       "\n",
       "       secondary_cleaner.state.floatbank4_b_air  \\\n",
       "count                              19438.000000   \n",
       "mean                                  15.010366   \n",
       "std                                    4.890228   \n",
       "min                                    0.000000   \n",
       "25%                                   11.940294   \n",
       "50%                                   14.971014   \n",
       "75%                                   19.034162   \n",
       "max                                   31.269706   \n",
       "\n",
       "       secondary_cleaner.state.floatbank4_b_level  \\\n",
       "count                                19438.000000   \n",
       "mean                                  -461.078636   \n",
       "std                                     67.405524   \n",
       "min                                   -800.836914   \n",
       "25%                                   -500.187742   \n",
       "50%                                   -499.459786   \n",
       "75%                                   -400.118106   \n",
       "max                                     -6.506986   \n",
       "\n",
       "       secondary_cleaner.state.floatbank5_a_air  \\\n",
       "count                              19438.000000   \n",
       "mean                                  15.694452   \n",
       "std                                    5.510974   \n",
       "min                                   -0.372054   \n",
       "25%                                   10.988606   \n",
       "50%                                   15.000036   \n",
       "75%                                   18.026190   \n",
       "max                                   43.709931   \n",
       "\n",
       "       secondary_cleaner.state.floatbank5_a_level  \\\n",
       "count                                19438.000000   \n",
       "mean                                  -488.684065   \n",
       "std                                     34.533396   \n",
       "min                                   -797.323986   \n",
       "25%                                   -500.458467   \n",
       "50%                                   -499.802605   \n",
       "75%                                   -498.384187   \n",
       "max                                   -244.483566   \n",
       "\n",
       "       secondary_cleaner.state.floatbank5_b_air  \\\n",
       "count                              19438.000000   \n",
       "mean                                  12.198224   \n",
       "std                                    5.333024   \n",
       "min                                    0.528083   \n",
       "25%                                    8.971105   \n",
       "50%                                   11.019433   \n",
       "75%                                   14.019088   \n",
       "max                                   27.926001   \n",
       "\n",
       "       secondary_cleaner.state.floatbank5_b_level  \\\n",
       "count                                19438.000000   \n",
       "mean                                  -487.149827   \n",
       "std                                     38.347312   \n",
       "min                                   -800.220337   \n",
       "25%                                   -500.129462   \n",
       "50%                                   -499.935317   \n",
       "75%                                   -499.436708   \n",
       "max                                   -137.740004   \n",
       "\n",
       "       secondary_cleaner.state.floatbank6_a_air  \\\n",
       "count                              19437.000000   \n",
       "mean                                  18.959024   \n",
       "std                                    5.550498   \n",
       "min                                   -0.079426   \n",
       "25%                                   14.983037   \n",
       "50%                                   19.960541   \n",
       "75%                                   24.003170   \n",
       "max                                   32.188906   \n",
       "\n",
       "       secondary_cleaner.state.floatbank6_a_level  \n",
       "count                                19438.000000  \n",
       "mean                                  -505.436305  \n",
       "std                                     37.689057  \n",
       "min                                   -809.741464  \n",
       "25%                                   -500.728067  \n",
       "50%                                   -500.048400  \n",
       "75%                                   -499.495378  \n",
       "max                                   -104.427459  \n",
       "\n",
       "[8 rows x 86 columns]"
      ]
     },
     "metadata": {},
     "output_type": "display_data"
    },
    {
     "name": "stdout",
     "output_type": "stream",
     "text": [
      "Количество дубликатов 0\n"
     ]
    }
   ],
   "source": [
    "research(data_full)"
   ]
  },
  {
   "cell_type": "markdown",
   "metadata": {},
   "source": [
    "После первичного изучения данных, можно заметить, что столбец **data** является типом *object*, приведём его к типу *datetime*. В многих столбцах имеются пропуски. Данные приведены к змеиному регистру. Дубликаты отсутствуют."
   ]
  },
  {
   "cell_type": "code",
   "execution_count": 7,
   "metadata": {
    "scrolled": true
   },
   "outputs": [
    {
     "data": {
      "text/plain": [
       "date                                           object\n",
       "final.output.concentrate_ag                   float64\n",
       "final.output.concentrate_pb                   float64\n",
       "final.output.concentrate_sol                  float64\n",
       "final.output.concentrate_au                   float64\n",
       "                                               ...   \n",
       "secondary_cleaner.state.floatbank5_a_level    float64\n",
       "secondary_cleaner.state.floatbank5_b_air      float64\n",
       "secondary_cleaner.state.floatbank5_b_level    float64\n",
       "secondary_cleaner.state.floatbank6_a_air      float64\n",
       "secondary_cleaner.state.floatbank6_a_level    float64\n",
       "Length: 87, dtype: object"
      ]
     },
     "metadata": {},
     "output_type": "display_data"
    },
    {
     "data": {
      "text/plain": [
       "date                                           object\n",
       "primary_cleaner.input.sulfate                 float64\n",
       "primary_cleaner.input.depressant              float64\n",
       "primary_cleaner.input.feed_size               float64\n",
       "primary_cleaner.input.xanthate                float64\n",
       "primary_cleaner.state.floatbank8_a_air        float64\n",
       "primary_cleaner.state.floatbank8_a_level      float64\n",
       "primary_cleaner.state.floatbank8_b_air        float64\n",
       "primary_cleaner.state.floatbank8_b_level      float64\n",
       "primary_cleaner.state.floatbank8_c_air        float64\n",
       "primary_cleaner.state.floatbank8_c_level      float64\n",
       "primary_cleaner.state.floatbank8_d_air        float64\n",
       "primary_cleaner.state.floatbank8_d_level      float64\n",
       "rougher.input.feed_ag                         float64\n",
       "rougher.input.feed_pb                         float64\n",
       "rougher.input.feed_rate                       float64\n",
       "rougher.input.feed_size                       float64\n",
       "rougher.input.feed_sol                        float64\n",
       "rougher.input.feed_au                         float64\n",
       "rougher.input.floatbank10_sulfate             float64\n",
       "rougher.input.floatbank10_xanthate            float64\n",
       "rougher.input.floatbank11_sulfate             float64\n",
       "rougher.input.floatbank11_xanthate            float64\n",
       "rougher.state.floatbank10_a_air               float64\n",
       "rougher.state.floatbank10_a_level             float64\n",
       "rougher.state.floatbank10_b_air               float64\n",
       "rougher.state.floatbank10_b_level             float64\n",
       "rougher.state.floatbank10_c_air               float64\n",
       "rougher.state.floatbank10_c_level             float64\n",
       "rougher.state.floatbank10_d_air               float64\n",
       "rougher.state.floatbank10_d_level             float64\n",
       "rougher.state.floatbank10_e_air               float64\n",
       "rougher.state.floatbank10_e_level             float64\n",
       "rougher.state.floatbank10_f_air               float64\n",
       "rougher.state.floatbank10_f_level             float64\n",
       "secondary_cleaner.state.floatbank2_a_air      float64\n",
       "secondary_cleaner.state.floatbank2_a_level    float64\n",
       "secondary_cleaner.state.floatbank2_b_air      float64\n",
       "secondary_cleaner.state.floatbank2_b_level    float64\n",
       "secondary_cleaner.state.floatbank3_a_air      float64\n",
       "secondary_cleaner.state.floatbank3_a_level    float64\n",
       "secondary_cleaner.state.floatbank3_b_air      float64\n",
       "secondary_cleaner.state.floatbank3_b_level    float64\n",
       "secondary_cleaner.state.floatbank4_a_air      float64\n",
       "secondary_cleaner.state.floatbank4_a_level    float64\n",
       "secondary_cleaner.state.floatbank4_b_air      float64\n",
       "secondary_cleaner.state.floatbank4_b_level    float64\n",
       "secondary_cleaner.state.floatbank5_a_air      float64\n",
       "secondary_cleaner.state.floatbank5_a_level    float64\n",
       "secondary_cleaner.state.floatbank5_b_air      float64\n",
       "secondary_cleaner.state.floatbank5_b_level    float64\n",
       "secondary_cleaner.state.floatbank6_a_air      float64\n",
       "secondary_cleaner.state.floatbank6_a_level    float64\n",
       "dtype: object"
      ]
     },
     "metadata": {},
     "output_type": "display_data"
    },
    {
     "data": {
      "text/plain": [
       "date                                           object\n",
       "final.output.concentrate_ag                   float64\n",
       "final.output.concentrate_pb                   float64\n",
       "final.output.concentrate_sol                  float64\n",
       "final.output.concentrate_au                   float64\n",
       "                                               ...   \n",
       "secondary_cleaner.state.floatbank5_a_level    float64\n",
       "secondary_cleaner.state.floatbank5_b_air      float64\n",
       "secondary_cleaner.state.floatbank5_b_level    float64\n",
       "secondary_cleaner.state.floatbank6_a_air      float64\n",
       "secondary_cleaner.state.floatbank6_a_level    float64\n",
       "Length: 87, dtype: object"
      ]
     },
     "metadata": {},
     "output_type": "display_data"
    }
   ],
   "source": [
    "#Приводим столбец date к типу datetime\n",
    "#data_train['date'] = pd.to_datetime(data_train['date'], format='%Y-%m-%d %H:%M:%S')\n",
    "#data_test['date'] = pd.to_datetime(data_test['date'], format='%Y-%m-%d %H:%M:%S')\n",
    "#data_full['date'] = pd.to_datetime(data_test['date'], format='%Y-%m-%d %H:%M:%S')\n",
    "\n",
    "#Проверим\n",
    "display(data_train.dtypes)\n",
    "display(data_test.dtypes)\n",
    "display(data_full.dtypes)"
   ]
  },
  {
   "cell_type": "markdown",
   "metadata": {},
   "source": [
    "Столбец **data** переведён к типу *datetime*."
   ]
  },
  {
   "cell_type": "markdown",
   "metadata": {},
   "source": [
    "Так как данные индексируются датой и временем получения информации (признак date), а соседние по времени параметры часто похожи, имеет смысл заполнить недостающие данные, предпоследними известными параметрами. В этом нам поможет функция *.ffill*.  "
   ]
  },
  {
   "cell_type": "code",
   "execution_count": 8,
   "metadata": {
    "scrolled": true
   },
   "outputs": [
    {
     "data": {
      "text/plain": [
       "'Количество строк без пропусков в тренировачной выборке'"
      ]
     },
     "metadata": {},
     "output_type": "display_data"
    },
    {
     "data": {
      "text/plain": [
       "14149"
      ]
     },
     "metadata": {},
     "output_type": "display_data"
    },
    {
     "data": {
      "text/plain": [
       "'Количество строк без пропусков в тестовой выборке'"
      ]
     },
     "metadata": {},
     "output_type": "display_data"
    },
    {
     "data": {
      "text/plain": [
       "5290"
      ]
     },
     "metadata": {},
     "output_type": "display_data"
    },
    {
     "data": {
      "text/plain": [
       "'Количество строк без пропусков в исходной выборке'"
      ]
     },
     "metadata": {},
     "output_type": "display_data"
    },
    {
     "data": {
      "text/plain": [
       "19439"
      ]
     },
     "metadata": {},
     "output_type": "display_data"
    }
   ],
   "source": [
    "data_train.ffill(axis=0)\n",
    "data_test.ffill(axis=0)\n",
    "data_full.ffill(axis=0)\n",
    "display('Количество строк без пропусков в тренировачной выборке', len(data_train.notna()))\n",
    "display('Количество строк без пропусков в тестовой выборке', len(data_test.notna()))\n",
    "display('Количество строк без пропусков в исходной выборке', len(data_full.notna()))"
   ]
  },
  {
   "attachments": {
    "image.png": {
     "image/png": "[encoded data removed]"
    }
   },
   "cell_type": "markdown",
   "metadata": {},
   "source": [
    "Следующим этапом расчитаем эффективность. ![image.png](attachment:image.png)\n",
    "где:\n",
    "* C — доля золота в концентрате после флотации/очистки;\n",
    "* F — доля золота в сырье/концентрате до флотации/очистки;\n",
    "* T — доля золота в отвальных хвостах после флотации/очистки.\n",
    "\n",
    "Таким образом нам необходимы следующие столбцы.\n",
    "* С - rougher.output.concentrate_au\n",
    "* F - rougher.input.feed_au\n",
    "* T - rougher.output.tail_au\n",
    "* Значение признака - находится в rougher.output.recovery"
   ]
  },
  {
   "cell_type": "code",
   "execution_count": 9,
   "metadata": {},
   "outputs": [],
   "source": [
    "c = data_train['rougher.output.concentrate_au']\n",
    "f = data_train['rougher.input.feed_au']\n",
    "t = data_train['rougher.output.tail_au']\n",
    "recovery = ((c*(f-t))/(f*(c-t))) * 100"
   ]
  },
  {
   "cell_type": "code",
   "execution_count": 10,
   "metadata": {
    "scrolled": true
   },
   "outputs": [
    {
     "data": {
      "text/plain": [
       "'MAE равно'"
      ]
     },
     "metadata": {},
     "output_type": "display_data"
    },
    {
     "data": {
      "text/plain": [
       "9.73512347450521e-15"
      ]
     },
     "metadata": {},
     "output_type": "display_data"
    }
   ],
   "source": [
    "display('MAE равно', mean_absolute_error(data_train['rougher.output.recovery'], recovery))"
   ]
  },
  {
   "cell_type": "markdown",
   "metadata": {},
   "source": [
    "Средняя абсолютная ошибка имеет небольшое отклонение, что означает, что эфективность обогащения высчитана верно."
   ]
  },
  {
   "cell_type": "markdown",
   "metadata": {},
   "source": [
    "Проанализируем признаки недоступные в тестовой выборке."
   ]
  },
  {
   "cell_type": "code",
   "execution_count": 11,
   "metadata": {
    "scrolled": true
   },
   "outputs": [
    {
     "data": {
      "text/plain": [
       "'Количество отсутствующих признаков -'"
      ]
     },
     "metadata": {},
     "output_type": "display_data"
    },
    {
     "data": {
      "text/plain": [
       "34"
      ]
     },
     "metadata": {},
     "output_type": "display_data"
    },
    {
     "data": {
      "text/plain": [
       "{'final.output.concentrate_ag',\n",
       " 'final.output.concentrate_au',\n",
       " 'final.output.concentrate_pb',\n",
       " 'final.output.concentrate_sol',\n",
       " 'final.output.recovery',\n",
       " 'final.output.tail_ag',\n",
       " 'final.output.tail_au',\n",
       " 'final.output.tail_pb',\n",
       " 'final.output.tail_sol',\n",
       " 'primary_cleaner.output.concentrate_ag',\n",
       " 'primary_cleaner.output.concentrate_au',\n",
       " 'primary_cleaner.output.concentrate_pb',\n",
       " 'primary_cleaner.output.concentrate_sol',\n",
       " 'primary_cleaner.output.tail_ag',\n",
       " 'primary_cleaner.output.tail_au',\n",
       " 'primary_cleaner.output.tail_pb',\n",
       " 'primary_cleaner.output.tail_sol',\n",
       " 'rougher.calculation.au_pb_ratio',\n",
       " 'rougher.calculation.floatbank10_sulfate_to_au_feed',\n",
       " 'rougher.calculation.floatbank11_sulfate_to_au_feed',\n",
       " 'rougher.calculation.sulfate_to_au_concentrate',\n",
       " 'rougher.output.concentrate_ag',\n",
       " 'rougher.output.concentrate_au',\n",
       " 'rougher.output.concentrate_pb',\n",
       " 'rougher.output.concentrate_sol',\n",
       " 'rougher.output.recovery',\n",
       " 'rougher.output.tail_ag',\n",
       " 'rougher.output.tail_au',\n",
       " 'rougher.output.tail_pb',\n",
       " 'rougher.output.tail_sol',\n",
       " 'secondary_cleaner.output.tail_ag',\n",
       " 'secondary_cleaner.output.tail_au',\n",
       " 'secondary_cleaner.output.tail_pb',\n",
       " 'secondary_cleaner.output.tail_sol'}"
      ]
     },
     "metadata": {},
     "output_type": "display_data"
    }
   ],
   "source": [
    "missed_features = set(data_train) - set(data_test)\n",
    "\n",
    "display('Количество отсутствующих признаков -', len(missed_features))\n",
    "display(missed_features)"
   ]
  },
  {
   "cell_type": "markdown",
   "metadata": {},
   "source": [
    "Отсутствуют выходные параметры продукта *output* и *calculation*. Данные могут отсутствовать, по причине появления в более поздние сроки, т.к., в данный момент, они неизвестны.  \n",
    "Тип данных отсутствующих признаков *float64*. "
   ]
  },
  {
   "cell_type": "markdown",
   "metadata": {},
   "source": [
    "Следующим шагом заполним целевые отсутствующие признаки продукта в тестовой выборке. Эти пропущенные данные необходимы для подсчёта метрики качества. Данные находятся в выборке *data_full*."
   ]
  },
  {
   "cell_type": "code",
   "execution_count": 12,
   "metadata": {},
   "outputs": [],
   "source": [
    "#Для объединения данных воспользуемся функцией merge, \n",
    "#а проиндексируем данные по времени поступления (воспользуемся колонкой date).\n",
    "data_test = data_test.merge(data_full.loc[:, ['date','rougher.output.recovery','final.output.recovery']], on='date')"
   ]
  },
  {
   "cell_type": "code",
   "execution_count": 13,
   "metadata": {},
   "outputs": [
    {
     "data": {
      "text/plain": [
       "'Размер тренировачной выборки'"
      ]
     },
     "metadata": {},
     "output_type": "display_data"
    },
    {
     "data": {
      "text/plain": [
       "(14149, 87)"
      ]
     },
     "metadata": {},
     "output_type": "display_data"
    },
    {
     "data": {
      "text/plain": [
       "'Размер тестовой выборки'"
      ]
     },
     "metadata": {},
     "output_type": "display_data"
    },
    {
     "data": {
      "text/plain": [
       "(5290, 55)"
      ]
     },
     "metadata": {},
     "output_type": "display_data"
    }
   ],
   "source": [
    "display('Размер тренировачной выборки', data_train.shape)\n",
    "display('Размер тестовой выборки', data_test.shape)"
   ]
  },
  {
   "cell_type": "markdown",
   "metadata": {},
   "source": [
    "В данной главе было мы изменили тип объекта date на datetime. Обнаружили пропуски и заполнили их на предыдущие по времени. Проверили MAE, выяснили, что средняя абсолютная ошибка имеет небольшое отклонение. Выяснили, что в тестовой выборке отсутсвуют 34 значения, 2 из которых (целевые признаки) взяли  из итоговой метрики качества."
   ]
  },
  {
   "cell_type": "markdown",
   "metadata": {},
   "source": [
    "## Анализ данных"
   ]
  },
  {
   "cell_type": "markdown",
   "metadata": {},
   "source": [
    "Посмотрим как меняется концентрация металлов (Au, Ag, Pb) на различных этапах очистки."
   ]
  },
  {
   "cell_type": "code",
   "execution_count": 14,
   "metadata": {},
   "outputs": [
    {
     "data": {
      "image/png": "[encoded data removed]",
      "text/plain": [
       "<Figure size 1080x1440 with 3 Axes>"
      ]
     },
     "metadata": {
      "needs_background": "light"
     },
     "output_type": "display_data"
    }
   ],
   "source": [
    "position = 0\n",
    "plt.figure(figsize=[15, 20])\n",
    "plt.subplots_adjust(top=0.94, wspace=0.2, hspace=0.3)\n",
    "plt.suptitle('ГРАФИКИ КОНЦЕНТРАЦИИ МЕТАЛЛОВ НА РАЗЛИЧНЫХ ЭТАПАХ ОЧИСТКИ.', fontsize=12)\n",
    "for metal in ['au', 'ag', 'pb']:\n",
    "    position += 1\n",
    "    plt.subplot(3, 1, position)\n",
    "    plt.title(f'ГРАФИК РАСПРЕДЕЛЕНИЯ МЕТАЛЛА {str(metal).upper()} НА РАЗЛИЧНЫХ ЭТАПАХ ОЧИСТКИ', fontsize=13)\n",
    "    sns.set_style('whitegrid')\n",
    "    sns.histplot(data_train[f'rougher.input.feed_{metal}'], color='black', label='Сырье', kde=False)\n",
    "    sns.histplot(data_train[f'rougher.output.concentrate_{metal}'], color='r', label='Концентрация после флотации', kde=False)\n",
    "    sns.histplot(data_train[f'primary_cleaner.output.concentrate_{metal}'], color='y', label='Концентрация после первичной очистки', kde=False)\n",
    "    sns.histplot(data_train[f'final.output.concentrate_{metal}'], color='g', label='Финальная концентрация металла',kde=False)\n",
    "    plt.xlabel('Концентрация металла')\n",
    "    plt.ylabel('Наблюдения')\n",
    "    plt.legend()\n",
    "plt.show();"
   ]
  },
  {
   "cell_type": "markdown",
   "metadata": {},
   "source": [
    "После каждого этапа очистки металла доля *золота* **увеличивается**.  \n",
    "\n",
    "После каждого этапа очистки металла доля *серебра* **уменьшается**.  \n",
    "\n",
    "После каждого этапа очистки металла доля *свинца* по большей части **остаётся неизменной**."
   ]
  },
  {
   "cell_type": "markdown",
   "metadata": {},
   "source": [
    "Сравним распределения размеров гранул сырья на обучающей и тестовой выборках.  \n",
    "Сначала построим таблицу"
   ]
  },
  {
   "cell_type": "code",
   "execution_count": 15,
   "metadata": {
    "scrolled": true
   },
   "outputs": [
    {
     "data": {
      "text/html": [
       "<div>\n",
       "<style scoped>\n",
       "    .dataframe tbody tr th:only-of-type {\n",
       "        vertical-align: middle;\n",
       "    }\n",
       "\n",
       "    .dataframe tbody tr th {\n",
       "        vertical-align: top;\n",
       "    }\n",
       "\n",
       "    .dataframe thead th {\n",
       "        text-align: right;\n",
       "    }\n",
       "</style>\n",
       "<table border=\"1\" class=\"dataframe\">\n",
       "  <thead>\n",
       "    <tr style=\"text-align: right;\">\n",
       "      <th></th>\n",
       "      <th>Обучающая выборка</th>\n",
       "      <th>Тестовая выборка</th>\n",
       "    </tr>\n",
       "  </thead>\n",
       "  <tbody>\n",
       "    <tr>\n",
       "      <th>count</th>\n",
       "      <td>14005.000000</td>\n",
       "      <td>5289.000000</td>\n",
       "    </tr>\n",
       "    <tr>\n",
       "      <th>mean</th>\n",
       "      <td>60.110518</td>\n",
       "      <td>55.951097</td>\n",
       "    </tr>\n",
       "    <tr>\n",
       "      <th>std</th>\n",
       "      <td>22.418485</td>\n",
       "      <td>19.081758</td>\n",
       "    </tr>\n",
       "    <tr>\n",
       "      <th>min</th>\n",
       "      <td>9.659576</td>\n",
       "      <td>0.046369</td>\n",
       "    </tr>\n",
       "    <tr>\n",
       "      <th>25%</th>\n",
       "      <td>48.973027</td>\n",
       "      <td>43.906347</td>\n",
       "    </tr>\n",
       "    <tr>\n",
       "      <th>50%</th>\n",
       "      <td>55.373885</td>\n",
       "      <td>50.841029</td>\n",
       "    </tr>\n",
       "    <tr>\n",
       "      <th>75%</th>\n",
       "      <td>66.080172</td>\n",
       "      <td>62.431047</td>\n",
       "    </tr>\n",
       "    <tr>\n",
       "      <th>max</th>\n",
       "      <td>484.967466</td>\n",
       "      <td>392.494040</td>\n",
       "    </tr>\n",
       "  </tbody>\n",
       "</table>\n",
       "</div>"
      ],
      "text/plain": [
       "       Обучающая выборка  Тестовая выборка\n",
       "count       14005.000000       5289.000000\n",
       "mean           60.110518         55.951097\n",
       "std            22.418485         19.081758\n",
       "min             9.659576          0.046369\n",
       "25%            48.973027         43.906347\n",
       "50%            55.373885         50.841029\n",
       "75%            66.080172         62.431047\n",
       "max           484.967466        392.494040"
      ]
     },
     "execution_count": 15,
     "metadata": {},
     "output_type": "execute_result"
    }
   ],
   "source": [
    "#Таблица с размерами гранул перед флоатацией тестовой и обучающей выборок\n",
    "table_rougher = pd.concat([data_train['rougher.input.feed_size'], data_test['rougher.input.feed_size']], axis=1) \n",
    "table_rougher.columns = ['Обучающая выборка', 'Тестовая выборка']\n",
    "table_rougher.describe()"
   ]
  },
  {
   "cell_type": "code",
   "execution_count": 16,
   "metadata": {},
   "outputs": [
    {
     "data": {
      "image/png": "[encoded data removed]",
      "text/plain": [
       "<Figure size 649.375x504 with 1 Axes>"
      ]
     },
     "metadata": {},
     "output_type": "display_data"
    }
   ],
   "source": [
    "sns.displot(table_rougher, legend=True, kde=True, height=7)\n",
    "plt.title('Распределение размеров гранул сырья перед флоатацией на обучающей и тестовой выборках', fontsize=15)\n",
    "plt.xlim([0, 200])\n",
    "plt.show()"
   ]
  },
  {
   "cell_type": "markdown",
   "metadata": {},
   "source": [
    "Изучим размер гранул перед первичной очисткой на обучающей и тестовой выборках"
   ]
  },
  {
   "cell_type": "code",
   "execution_count": 17,
   "metadata": {},
   "outputs": [
    {
     "data": {
      "text/html": [
       "<div>\n",
       "<style scoped>\n",
       "    .dataframe tbody tr th:only-of-type {\n",
       "        vertical-align: middle;\n",
       "    }\n",
       "\n",
       "    .dataframe tbody tr th {\n",
       "        vertical-align: top;\n",
       "    }\n",
       "\n",
       "    .dataframe thead th {\n",
       "        text-align: right;\n",
       "    }\n",
       "</style>\n",
       "<table border=\"1\" class=\"dataframe\">\n",
       "  <thead>\n",
       "    <tr style=\"text-align: right;\">\n",
       "      <th></th>\n",
       "      <th>Обучающая выборка</th>\n",
       "      <th>Тестовая выборка</th>\n",
       "    </tr>\n",
       "  </thead>\n",
       "  <tbody>\n",
       "    <tr>\n",
       "      <th>count</th>\n",
       "      <td>14149.000000</td>\n",
       "      <td>5290.000000</td>\n",
       "    </tr>\n",
       "    <tr>\n",
       "      <th>mean</th>\n",
       "      <td>7.322310</td>\n",
       "      <td>7.266339</td>\n",
       "    </tr>\n",
       "    <tr>\n",
       "      <th>std</th>\n",
       "      <td>0.614062</td>\n",
       "      <td>0.610219</td>\n",
       "    </tr>\n",
       "    <tr>\n",
       "      <th>min</th>\n",
       "      <td>1.080000</td>\n",
       "      <td>5.650000</td>\n",
       "    </tr>\n",
       "    <tr>\n",
       "      <th>25%</th>\n",
       "      <td>6.960000</td>\n",
       "      <td>6.890000</td>\n",
       "    </tr>\n",
       "    <tr>\n",
       "      <th>50%</th>\n",
       "      <td>7.290000</td>\n",
       "      <td>7.250000</td>\n",
       "    </tr>\n",
       "    <tr>\n",
       "      <th>75%</th>\n",
       "      <td>7.700000</td>\n",
       "      <td>7.600000</td>\n",
       "    </tr>\n",
       "    <tr>\n",
       "      <th>max</th>\n",
       "      <td>10.470000</td>\n",
       "      <td>15.500000</td>\n",
       "    </tr>\n",
       "  </tbody>\n",
       "</table>\n",
       "</div>"
      ],
      "text/plain": [
       "       Обучающая выборка  Тестовая выборка\n",
       "count       14149.000000       5290.000000\n",
       "mean            7.322310          7.266339\n",
       "std             0.614062          0.610219\n",
       "min             1.080000          5.650000\n",
       "25%             6.960000          6.890000\n",
       "50%             7.290000          7.250000\n",
       "75%             7.700000          7.600000\n",
       "max            10.470000         15.500000"
      ]
     },
     "execution_count": 17,
     "metadata": {},
     "output_type": "execute_result"
    }
   ],
   "source": [
    "table_primary = pd.concat([data_train['primary_cleaner.input.feed_size'], \n",
    "                                     data_test['primary_cleaner.input.feed_size']], axis=1) \n",
    "table_primary.columns = ['Обучающая выборка', 'Тестовая выборка']\n",
    "table_primary.describe()"
   ]
  },
  {
   "cell_type": "code",
   "execution_count": 18,
   "metadata": {
    "scrolled": true
   },
   "outputs": [
    {
     "data": {
      "image/png": "[encoded data removed]",
      "text/plain": [
       "<Figure size 721.375x576 with 1 Axes>"
      ]
     },
     "metadata": {},
     "output_type": "display_data"
    }
   ],
   "source": [
    "sns.displot(table_primary, legend=True, kde=True, height=8)\n",
    "plt.title('Распределение размеров гранул сырья на обучающей и тестовой выборках (первичная очистка)', fontsize=15)\n",
    "plt.xlim([0, 20])\n",
    "plt.show()"
   ]
  },
  {
   "cell_type": "markdown",
   "metadata": {},
   "source": [
    "Глядя на таблицы, отмечаем, что размеры гранул сырья на обучающей и тестовой выборках отличаются слабо (берём в расчет медиану и средние значения). Присутствующие значения не должны повлиять на итоговую оценку модели.  \n",
    "Имеются нулевые значения, которых быть не должно, перед построением модели нулевые аномалии необходимо удалить."
   ]
  },
  {
   "cell_type": "code",
   "execution_count": 19,
   "metadata": {},
   "outputs": [
    {
     "data": {
      "text/plain": [
       "0"
      ]
     },
     "execution_count": 19,
     "metadata": {},
     "output_type": "execute_result"
    }
   ],
   "source": [
    "#Посчитаем количество нулевых значений в сырьевом варианте.\n",
    "data_train[data_train['rougher.input.feed_size'] < 1]['rougher.input.feed_size'].count()"
   ]
  },
  {
   "cell_type": "code",
   "execution_count": 20,
   "metadata": {},
   "outputs": [
    {
     "data": {
      "text/plain": [
       "199"
      ]
     },
     "execution_count": 20,
     "metadata": {},
     "output_type": "execute_result"
    }
   ],
   "source": [
    "#Посчитаем количество нулевых значений перед первичной очисткой.\n",
    "data_train[data_train['primary_cleaner.output.concentrate_au'] < 1]['primary_cleaner.output.concentrate_au'].count()"
   ]
  },
  {
   "cell_type": "code",
   "execution_count": 21,
   "metadata": {},
   "outputs": [
    {
     "data": {
      "text/html": [
       "<div>\n",
       "<style scoped>\n",
       "    .dataframe tbody tr th:only-of-type {\n",
       "        vertical-align: middle;\n",
       "    }\n",
       "\n",
       "    .dataframe tbody tr th {\n",
       "        vertical-align: top;\n",
       "    }\n",
       "\n",
       "    .dataframe thead th {\n",
       "        text-align: right;\n",
       "    }\n",
       "</style>\n",
       "<table border=\"1\" class=\"dataframe\">\n",
       "  <thead>\n",
       "    <tr style=\"text-align: right;\">\n",
       "      <th></th>\n",
       "      <th>date</th>\n",
       "      <th>final.output.concentrate_ag</th>\n",
       "      <th>final.output.concentrate_pb</th>\n",
       "      <th>final.output.concentrate_sol</th>\n",
       "      <th>final.output.concentrate_au</th>\n",
       "      <th>final.output.recovery</th>\n",
       "      <th>final.output.tail_ag</th>\n",
       "      <th>final.output.tail_pb</th>\n",
       "      <th>final.output.tail_sol</th>\n",
       "      <th>final.output.tail_au</th>\n",
       "      <th>...</th>\n",
       "      <th>secondary_cleaner.state.floatbank4_a_air</th>\n",
       "      <th>secondary_cleaner.state.floatbank4_a_level</th>\n",
       "      <th>secondary_cleaner.state.floatbank4_b_air</th>\n",
       "      <th>secondary_cleaner.state.floatbank4_b_level</th>\n",
       "      <th>secondary_cleaner.state.floatbank5_a_air</th>\n",
       "      <th>secondary_cleaner.state.floatbank5_a_level</th>\n",
       "      <th>secondary_cleaner.state.floatbank5_b_air</th>\n",
       "      <th>secondary_cleaner.state.floatbank5_b_level</th>\n",
       "      <th>secondary_cleaner.state.floatbank6_a_air</th>\n",
       "      <th>secondary_cleaner.state.floatbank6_a_level</th>\n",
       "    </tr>\n",
       "  </thead>\n",
       "  <tbody>\n",
       "  </tbody>\n",
       "</table>\n",
       "<p>0 rows × 87 columns</p>\n",
       "</div>"
      ],
      "text/plain": [
       "Empty DataFrame\n",
       "Columns: [date, final.output.concentrate_ag, final.output.concentrate_pb, final.output.concentrate_sol, final.output.concentrate_au, final.output.recovery, final.output.tail_ag, final.output.tail_pb, final.output.tail_sol, final.output.tail_au, primary_cleaner.input.sulfate, primary_cleaner.input.depressant, primary_cleaner.input.feed_size, primary_cleaner.input.xanthate, primary_cleaner.output.concentrate_ag, primary_cleaner.output.concentrate_pb, primary_cleaner.output.concentrate_sol, primary_cleaner.output.concentrate_au, primary_cleaner.output.tail_ag, primary_cleaner.output.tail_pb, primary_cleaner.output.tail_sol, primary_cleaner.output.tail_au, primary_cleaner.state.floatbank8_a_air, primary_cleaner.state.floatbank8_a_level, primary_cleaner.state.floatbank8_b_air, primary_cleaner.state.floatbank8_b_level, primary_cleaner.state.floatbank8_c_air, primary_cleaner.state.floatbank8_c_level, primary_cleaner.state.floatbank8_d_air, primary_cleaner.state.floatbank8_d_level, rougher.calculation.sulfate_to_au_concentrate, rougher.calculation.floatbank10_sulfate_to_au_feed, rougher.calculation.floatbank11_sulfate_to_au_feed, rougher.calculation.au_pb_ratio, rougher.input.feed_ag, rougher.input.feed_pb, rougher.input.feed_rate, rougher.input.feed_size, rougher.input.feed_sol, rougher.input.feed_au, rougher.input.floatbank10_sulfate, rougher.input.floatbank10_xanthate, rougher.input.floatbank11_sulfate, rougher.input.floatbank11_xanthate, rougher.output.concentrate_ag, rougher.output.concentrate_pb, rougher.output.concentrate_sol, rougher.output.concentrate_au, rougher.output.recovery, rougher.output.tail_ag, rougher.output.tail_pb, rougher.output.tail_sol, rougher.output.tail_au, rougher.state.floatbank10_a_air, rougher.state.floatbank10_a_level, rougher.state.floatbank10_b_air, rougher.state.floatbank10_b_level, rougher.state.floatbank10_c_air, rougher.state.floatbank10_c_level, rougher.state.floatbank10_d_air, rougher.state.floatbank10_d_level, rougher.state.floatbank10_e_air, rougher.state.floatbank10_e_level, rougher.state.floatbank10_f_air, rougher.state.floatbank10_f_level, secondary_cleaner.output.tail_ag, secondary_cleaner.output.tail_pb, secondary_cleaner.output.tail_sol, secondary_cleaner.output.tail_au, secondary_cleaner.state.floatbank2_a_air, secondary_cleaner.state.floatbank2_a_level, secondary_cleaner.state.floatbank2_b_air, secondary_cleaner.state.floatbank2_b_level, secondary_cleaner.state.floatbank3_a_air, secondary_cleaner.state.floatbank3_a_level, secondary_cleaner.state.floatbank3_b_air, secondary_cleaner.state.floatbank3_b_level, secondary_cleaner.state.floatbank4_a_air, secondary_cleaner.state.floatbank4_a_level, secondary_cleaner.state.floatbank4_b_air, secondary_cleaner.state.floatbank4_b_level, secondary_cleaner.state.floatbank5_a_air, secondary_cleaner.state.floatbank5_a_level, secondary_cleaner.state.floatbank5_b_air, secondary_cleaner.state.floatbank5_b_level, secondary_cleaner.state.floatbank6_a_air, secondary_cleaner.state.floatbank6_a_level]\n",
       "Index: []\n",
       "\n",
       "[0 rows x 87 columns]"
      ]
     },
     "execution_count": 21,
     "metadata": {},
     "output_type": "execute_result"
    }
   ],
   "source": [
    "#Удалим нулевые значения.\n",
    "data_train = data_train.drop(data_train[data_train['primary_cleaner.output.concentrate_au'] < 1].index)\n",
    "data_train[data_train['primary_cleaner.output.concentrate_au'] < 1].head()"
   ]
  },
  {
   "cell_type": "code",
   "execution_count": 22,
   "metadata": {},
   "outputs": [
    {
     "data": {
      "text/plain": [
       "4"
      ]
     },
     "metadata": {},
     "output_type": "display_data"
    },
    {
     "data": {
      "text/plain": [
       "235"
      ]
     },
     "metadata": {},
     "output_type": "display_data"
    }
   ],
   "source": [
    "#Проверим тоже самое на полной выборке.\n",
    "display(data_full[data_full['rougher.input.feed_size'] < 1]['rougher.input.feed_size'].count())\n",
    "display(data_full[data_full['primary_cleaner.output.concentrate_au'] < 1]['primary_cleaner.output.concentrate_au'].count())"
   ]
  },
  {
   "cell_type": "markdown",
   "metadata": {},
   "source": [
    "Для построения лучшей модели, удалим значения меньше еденицы."
   ]
  },
  {
   "cell_type": "code",
   "execution_count": 23,
   "metadata": {
    "scrolled": false
   },
   "outputs": [
    {
     "data": {
      "text/html": [
       "<div>\n",
       "<style scoped>\n",
       "    .dataframe tbody tr th:only-of-type {\n",
       "        vertical-align: middle;\n",
       "    }\n",
       "\n",
       "    .dataframe tbody tr th {\n",
       "        vertical-align: top;\n",
       "    }\n",
       "\n",
       "    .dataframe thead th {\n",
       "        text-align: right;\n",
       "    }\n",
       "</style>\n",
       "<table border=\"1\" class=\"dataframe\">\n",
       "  <thead>\n",
       "    <tr style=\"text-align: right;\">\n",
       "      <th></th>\n",
       "      <th>date</th>\n",
       "      <th>final.output.concentrate_ag</th>\n",
       "      <th>final.output.concentrate_pb</th>\n",
       "      <th>final.output.concentrate_sol</th>\n",
       "      <th>final.output.concentrate_au</th>\n",
       "      <th>final.output.recovery</th>\n",
       "      <th>final.output.tail_ag</th>\n",
       "      <th>final.output.tail_pb</th>\n",
       "      <th>final.output.tail_sol</th>\n",
       "      <th>final.output.tail_au</th>\n",
       "      <th>...</th>\n",
       "      <th>secondary_cleaner.state.floatbank4_a_air</th>\n",
       "      <th>secondary_cleaner.state.floatbank4_a_level</th>\n",
       "      <th>secondary_cleaner.state.floatbank4_b_air</th>\n",
       "      <th>secondary_cleaner.state.floatbank4_b_level</th>\n",
       "      <th>secondary_cleaner.state.floatbank5_a_air</th>\n",
       "      <th>secondary_cleaner.state.floatbank5_a_level</th>\n",
       "      <th>secondary_cleaner.state.floatbank5_b_air</th>\n",
       "      <th>secondary_cleaner.state.floatbank5_b_level</th>\n",
       "      <th>secondary_cleaner.state.floatbank6_a_air</th>\n",
       "      <th>secondary_cleaner.state.floatbank6_a_level</th>\n",
       "    </tr>\n",
       "  </thead>\n",
       "  <tbody>\n",
       "  </tbody>\n",
       "</table>\n",
       "<p>0 rows × 87 columns</p>\n",
       "</div>"
      ],
      "text/plain": [
       "Empty DataFrame\n",
       "Columns: [date, final.output.concentrate_ag, final.output.concentrate_pb, final.output.concentrate_sol, final.output.concentrate_au, final.output.recovery, final.output.tail_ag, final.output.tail_pb, final.output.tail_sol, final.output.tail_au, primary_cleaner.input.sulfate, primary_cleaner.input.depressant, primary_cleaner.input.feed_size, primary_cleaner.input.xanthate, primary_cleaner.output.concentrate_ag, primary_cleaner.output.concentrate_pb, primary_cleaner.output.concentrate_sol, primary_cleaner.output.concentrate_au, primary_cleaner.output.tail_ag, primary_cleaner.output.tail_pb, primary_cleaner.output.tail_sol, primary_cleaner.output.tail_au, primary_cleaner.state.floatbank8_a_air, primary_cleaner.state.floatbank8_a_level, primary_cleaner.state.floatbank8_b_air, primary_cleaner.state.floatbank8_b_level, primary_cleaner.state.floatbank8_c_air, primary_cleaner.state.floatbank8_c_level, primary_cleaner.state.floatbank8_d_air, primary_cleaner.state.floatbank8_d_level, rougher.calculation.sulfate_to_au_concentrate, rougher.calculation.floatbank10_sulfate_to_au_feed, rougher.calculation.floatbank11_sulfate_to_au_feed, rougher.calculation.au_pb_ratio, rougher.input.feed_ag, rougher.input.feed_pb, rougher.input.feed_rate, rougher.input.feed_size, rougher.input.feed_sol, rougher.input.feed_au, rougher.input.floatbank10_sulfate, rougher.input.floatbank10_xanthate, rougher.input.floatbank11_sulfate, rougher.input.floatbank11_xanthate, rougher.output.concentrate_ag, rougher.output.concentrate_pb, rougher.output.concentrate_sol, rougher.output.concentrate_au, rougher.output.recovery, rougher.output.tail_ag, rougher.output.tail_pb, rougher.output.tail_sol, rougher.output.tail_au, rougher.state.floatbank10_a_air, rougher.state.floatbank10_a_level, rougher.state.floatbank10_b_air, rougher.state.floatbank10_b_level, rougher.state.floatbank10_c_air, rougher.state.floatbank10_c_level, rougher.state.floatbank10_d_air, rougher.state.floatbank10_d_level, rougher.state.floatbank10_e_air, rougher.state.floatbank10_e_level, rougher.state.floatbank10_f_air, rougher.state.floatbank10_f_level, secondary_cleaner.output.tail_ag, secondary_cleaner.output.tail_pb, secondary_cleaner.output.tail_sol, secondary_cleaner.output.tail_au, secondary_cleaner.state.floatbank2_a_air, secondary_cleaner.state.floatbank2_a_level, secondary_cleaner.state.floatbank2_b_air, secondary_cleaner.state.floatbank2_b_level, secondary_cleaner.state.floatbank3_a_air, secondary_cleaner.state.floatbank3_a_level, secondary_cleaner.state.floatbank3_b_air, secondary_cleaner.state.floatbank3_b_level, secondary_cleaner.state.floatbank4_a_air, secondary_cleaner.state.floatbank4_a_level, secondary_cleaner.state.floatbank4_b_air, secondary_cleaner.state.floatbank4_b_level, secondary_cleaner.state.floatbank5_a_air, secondary_cleaner.state.floatbank5_a_level, secondary_cleaner.state.floatbank5_b_air, secondary_cleaner.state.floatbank5_b_level, secondary_cleaner.state.floatbank6_a_air, secondary_cleaner.state.floatbank6_a_level]\n",
       "Index: []\n",
       "\n",
       "[0 rows x 87 columns]"
      ]
     },
     "metadata": {},
     "output_type": "display_data"
    },
    {
     "data": {
      "text/html": [
       "<div>\n",
       "<style scoped>\n",
       "    .dataframe tbody tr th:only-of-type {\n",
       "        vertical-align: middle;\n",
       "    }\n",
       "\n",
       "    .dataframe tbody tr th {\n",
       "        vertical-align: top;\n",
       "    }\n",
       "\n",
       "    .dataframe thead th {\n",
       "        text-align: right;\n",
       "    }\n",
       "</style>\n",
       "<table border=\"1\" class=\"dataframe\">\n",
       "  <thead>\n",
       "    <tr style=\"text-align: right;\">\n",
       "      <th></th>\n",
       "      <th>date</th>\n",
       "      <th>final.output.concentrate_ag</th>\n",
       "      <th>final.output.concentrate_pb</th>\n",
       "      <th>final.output.concentrate_sol</th>\n",
       "      <th>final.output.concentrate_au</th>\n",
       "      <th>final.output.recovery</th>\n",
       "      <th>final.output.tail_ag</th>\n",
       "      <th>final.output.tail_pb</th>\n",
       "      <th>final.output.tail_sol</th>\n",
       "      <th>final.output.tail_au</th>\n",
       "      <th>...</th>\n",
       "      <th>secondary_cleaner.state.floatbank4_a_air</th>\n",
       "      <th>secondary_cleaner.state.floatbank4_a_level</th>\n",
       "      <th>secondary_cleaner.state.floatbank4_b_air</th>\n",
       "      <th>secondary_cleaner.state.floatbank4_b_level</th>\n",
       "      <th>secondary_cleaner.state.floatbank5_a_air</th>\n",
       "      <th>secondary_cleaner.state.floatbank5_a_level</th>\n",
       "      <th>secondary_cleaner.state.floatbank5_b_air</th>\n",
       "      <th>secondary_cleaner.state.floatbank5_b_level</th>\n",
       "      <th>secondary_cleaner.state.floatbank6_a_air</th>\n",
       "      <th>secondary_cleaner.state.floatbank6_a_level</th>\n",
       "    </tr>\n",
       "  </thead>\n",
       "  <tbody>\n",
       "  </tbody>\n",
       "</table>\n",
       "<p>0 rows × 87 columns</p>\n",
       "</div>"
      ],
      "text/plain": [
       "Empty DataFrame\n",
       "Columns: [date, final.output.concentrate_ag, final.output.concentrate_pb, final.output.concentrate_sol, final.output.concentrate_au, final.output.recovery, final.output.tail_ag, final.output.tail_pb, final.output.tail_sol, final.output.tail_au, primary_cleaner.input.sulfate, primary_cleaner.input.depressant, primary_cleaner.input.feed_size, primary_cleaner.input.xanthate, primary_cleaner.output.concentrate_ag, primary_cleaner.output.concentrate_pb, primary_cleaner.output.concentrate_sol, primary_cleaner.output.concentrate_au, primary_cleaner.output.tail_ag, primary_cleaner.output.tail_pb, primary_cleaner.output.tail_sol, primary_cleaner.output.tail_au, primary_cleaner.state.floatbank8_a_air, primary_cleaner.state.floatbank8_a_level, primary_cleaner.state.floatbank8_b_air, primary_cleaner.state.floatbank8_b_level, primary_cleaner.state.floatbank8_c_air, primary_cleaner.state.floatbank8_c_level, primary_cleaner.state.floatbank8_d_air, primary_cleaner.state.floatbank8_d_level, rougher.calculation.sulfate_to_au_concentrate, rougher.calculation.floatbank10_sulfate_to_au_feed, rougher.calculation.floatbank11_sulfate_to_au_feed, rougher.calculation.au_pb_ratio, rougher.input.feed_ag, rougher.input.feed_pb, rougher.input.feed_rate, rougher.input.feed_size, rougher.input.feed_sol, rougher.input.feed_au, rougher.input.floatbank10_sulfate, rougher.input.floatbank10_xanthate, rougher.input.floatbank11_sulfate, rougher.input.floatbank11_xanthate, rougher.output.concentrate_ag, rougher.output.concentrate_pb, rougher.output.concentrate_sol, rougher.output.concentrate_au, rougher.output.recovery, rougher.output.tail_ag, rougher.output.tail_pb, rougher.output.tail_sol, rougher.output.tail_au, rougher.state.floatbank10_a_air, rougher.state.floatbank10_a_level, rougher.state.floatbank10_b_air, rougher.state.floatbank10_b_level, rougher.state.floatbank10_c_air, rougher.state.floatbank10_c_level, rougher.state.floatbank10_d_air, rougher.state.floatbank10_d_level, rougher.state.floatbank10_e_air, rougher.state.floatbank10_e_level, rougher.state.floatbank10_f_air, rougher.state.floatbank10_f_level, secondary_cleaner.output.tail_ag, secondary_cleaner.output.tail_pb, secondary_cleaner.output.tail_sol, secondary_cleaner.output.tail_au, secondary_cleaner.state.floatbank2_a_air, secondary_cleaner.state.floatbank2_a_level, secondary_cleaner.state.floatbank2_b_air, secondary_cleaner.state.floatbank2_b_level, secondary_cleaner.state.floatbank3_a_air, secondary_cleaner.state.floatbank3_a_level, secondary_cleaner.state.floatbank3_b_air, secondary_cleaner.state.floatbank3_b_level, secondary_cleaner.state.floatbank4_a_air, secondary_cleaner.state.floatbank4_a_level, secondary_cleaner.state.floatbank4_b_air, secondary_cleaner.state.floatbank4_b_level, secondary_cleaner.state.floatbank5_a_air, secondary_cleaner.state.floatbank5_a_level, secondary_cleaner.state.floatbank5_b_air, secondary_cleaner.state.floatbank5_b_level, secondary_cleaner.state.floatbank6_a_air, secondary_cleaner.state.floatbank6_a_level]\n",
       "Index: []\n",
       "\n",
       "[0 rows x 87 columns]"
      ]
     },
     "metadata": {},
     "output_type": "display_data"
    }
   ],
   "source": [
    "data_full = data_full.drop(data_full[data_full['rougher.input.feed_size'] < 1].index)\n",
    "data_full = data_full.drop(data_full[data_full['primary_cleaner.output.concentrate_au'] < 1].index)\n",
    "\n",
    "display(data_full[data_full['rougher.input.feed_size'] < 1].head())\n",
    "display(data_full[data_full['primary_cleaner.output.concentrate_au'] < 1].head())"
   ]
  },
  {
   "cell_type": "code",
   "execution_count": 24,
   "metadata": {},
   "outputs": [],
   "source": [
    "# Теперь нужно удалить пропуски, чтобы избежать ошибки во время обучения модели.\n",
    "data_train.dropna(inplace=True)"
   ]
  },
  {
   "cell_type": "code",
   "execution_count": 25,
   "metadata": {},
   "outputs": [],
   "source": [
    "# Теперь нужно удалить пропуски из тестовой выборки, чтобы избежать ошибки во время проверки модели.\n",
    "data_test.dropna(inplace=True)"
   ]
  },
  {
   "cell_type": "markdown",
   "metadata": {},
   "source": [
    "Также, во избежание ошибок, необходимо удалить признаки отсутсвующие в тренировачной выборке."
   ]
  },
  {
   "cell_type": "code",
   "execution_count": 26,
   "metadata": {},
   "outputs": [
    {
     "data": {
      "text/plain": [
       "'Количество признаков для удаления из тренировочной выборки'"
      ]
     },
     "metadata": {},
     "output_type": "display_data"
    },
    {
     "data": {
      "text/plain": [
       "32"
      ]
     },
     "metadata": {},
     "output_type": "display_data"
    }
   ],
   "source": [
    "features_to_delete = missed_features - set(['rougher.output.recovery','final.output.recovery'])\n",
    "display('Количество признаков для удаления из тренировочной выборки', len(features_to_delete))"
   ]
  },
  {
   "cell_type": "code",
   "execution_count": 27,
   "metadata": {},
   "outputs": [],
   "source": [
    "data_train = data_train.drop(columns=features_to_delete, axis=1)"
   ]
  },
  {
   "cell_type": "markdown",
   "metadata": {},
   "source": [
    "В данной главе изучили этапы очистки металлов (золото, после каждого этапа, увеличивается; серебро уменьшается; свинец не меняется). Изучили размеры гранул на двух выборках, распределения отличаются слабо, что не должно повлиять на финальную оценку. Обнаружили аномалии в обучающей и исходной выборках, удалили аномалии и пропуски. Также было необходимо удалить признаки из тренировачной выборки для уравновешивания выборок и избежания ошибок. "
   ]
  },
  {
   "cell_type": "markdown",
   "metadata": {},
   "source": [
    "Рассмотрим суммарную концентрацию всех веществ на разных стадиях: в сырье, в черновом, после первичной обработки и финальном концентратах."
   ]
  },
  {
   "cell_type": "code",
   "execution_count": 28,
   "metadata": {},
   "outputs": [],
   "source": [
    "data_full['rougher_feed'] = data_full[['rougher.input.feed_au', 'rougher.input.feed_ag', 'rougher.input.feed_pb', 'rougher.input.feed_sol']].sum(axis=1)\n",
    "data_full['rougher_concentrate'] = data_full[['rougher.output.concentrate_au', 'rougher.output.concentrate_ag', 'rougher.output.concentrate_pb', 'rougher.output.concentrate_sol']].sum(axis=1)\n",
    "data_full['primary_concentrate'] = data_full[['primary_cleaner.output.concentrate_au','primary_cleaner.output.concentrate_ag', 'primary_cleaner.output.concentrate_pb', 'primary_cleaner.output.concentrate_sol']].sum(axis=1)\n",
    "data_full['final_concentrate'] = data_full[['final.output.concentrate_au', 'final.output.concentrate_ag', 'final.output.concentrate_pb', 'final.output.concentrate_sol']].sum(axis=1)"
   ]
  },
  {
   "cell_type": "code",
   "execution_count": 29,
   "metadata": {
    "scrolled": true
   },
   "outputs": [
    {
     "data": {
      "text/html": [
       "<div>\n",
       "<style scoped>\n",
       "    .dataframe tbody tr th:only-of-type {\n",
       "        vertical-align: middle;\n",
       "    }\n",
       "\n",
       "    .dataframe tbody tr th {\n",
       "        vertical-align: top;\n",
       "    }\n",
       "\n",
       "    .dataframe thead th {\n",
       "        text-align: right;\n",
       "    }\n",
       "</style>\n",
       "<table border=\"1\" class=\"dataframe\">\n",
       "  <thead>\n",
       "    <tr style=\"text-align: right;\">\n",
       "      <th></th>\n",
       "      <th>rougher_feed</th>\n",
       "      <th>rougher_concentrate</th>\n",
       "      <th>primary_concentrate</th>\n",
       "      <th>final_concentrate</th>\n",
       "    </tr>\n",
       "  </thead>\n",
       "  <tbody>\n",
       "    <tr>\n",
       "      <th>count</th>\n",
       "      <td>19200.000000</td>\n",
       "      <td>19200.000000</td>\n",
       "      <td>19200.000000</td>\n",
       "      <td>19200.000000</td>\n",
       "    </tr>\n",
       "    <tr>\n",
       "      <th>mean</th>\n",
       "      <td>57.186729</td>\n",
       "      <td>68.189607</td>\n",
       "      <td>61.362699</td>\n",
       "      <td>68.671094</td>\n",
       "    </tr>\n",
       "    <tr>\n",
       "      <th>std</th>\n",
       "      <td>7.610688</td>\n",
       "      <td>12.498075</td>\n",
       "      <td>7.742899</td>\n",
       "      <td>7.310733</td>\n",
       "    </tr>\n",
       "    <tr>\n",
       "      <th>min</th>\n",
       "      <td>0.040000</td>\n",
       "      <td>0.000000</td>\n",
       "      <td>1.965880</td>\n",
       "      <td>0.000000</td>\n",
       "    </tr>\n",
       "    <tr>\n",
       "      <th>25%</th>\n",
       "      <td>53.538131</td>\n",
       "      <td>66.045412</td>\n",
       "      <td>59.063120</td>\n",
       "      <td>67.934733</td>\n",
       "    </tr>\n",
       "    <tr>\n",
       "      <th>50%</th>\n",
       "      <td>57.582546</td>\n",
       "      <td>70.193345</td>\n",
       "      <td>62.568665</td>\n",
       "      <td>69.607112</td>\n",
       "    </tr>\n",
       "    <tr>\n",
       "      <th>75%</th>\n",
       "      <td>61.941852</td>\n",
       "      <td>74.364889</td>\n",
       "      <td>65.704829</td>\n",
       "      <td>71.383252</td>\n",
       "    </tr>\n",
       "    <tr>\n",
       "      <th>max</th>\n",
       "      <td>76.978947</td>\n",
       "      <td>88.140119</td>\n",
       "      <td>80.749343</td>\n",
       "      <td>80.210644</td>\n",
       "    </tr>\n",
       "  </tbody>\n",
       "</table>\n",
       "</div>"
      ],
      "text/plain": [
       "       rougher_feed  rougher_concentrate  primary_concentrate  \\\n",
       "count  19200.000000         19200.000000         19200.000000   \n",
       "mean      57.186729            68.189607            61.362699   \n",
       "std        7.610688            12.498075             7.742899   \n",
       "min        0.040000             0.000000             1.965880   \n",
       "25%       53.538131            66.045412            59.063120   \n",
       "50%       57.582546            70.193345            62.568665   \n",
       "75%       61.941852            74.364889            65.704829   \n",
       "max       76.978947            88.140119            80.749343   \n",
       "\n",
       "       final_concentrate  \n",
       "count       19200.000000  \n",
       "mean           68.671094  \n",
       "std             7.310733  \n",
       "min             0.000000  \n",
       "25%            67.934733  \n",
       "50%            69.607112  \n",
       "75%            71.383252  \n",
       "max            80.210644  "
      ]
     },
     "execution_count": 29,
     "metadata": {},
     "output_type": "execute_result"
    }
   ],
   "source": [
    "data_full[['rougher_feed', 'rougher_concentrate', 'primary_concentrate', 'final_concentrate']].describe()"
   ]
  },
  {
   "cell_type": "code",
   "execution_count": 30,
   "metadata": {
    "scrolled": true
   },
   "outputs": [
    {
     "data": {
      "image/png": "[encoded data removed]",
      "text/plain": [
       "<Figure size 1080x360 with 1 Axes>"
      ]
     },
     "metadata": {},
     "output_type": "display_data"
    }
   ],
   "source": [
    "plt.figure(figsize=[15, 5])\n",
    "sns.histplot(data_full[['rougher_feed', 'rougher_concentrate', 'primary_concentrate', 'final_concentrate']], legend=True, kde=True)\n",
    "plt.title('Суммарная концентрация всех веществ на разных стадиях', fontsize=15)\n",
    "plt.show()"
   ]
  },
  {
   "cell_type": "markdown",
   "metadata": {},
   "source": [
    "По графику замечаем, что есть вещества, которые на любой из стадий равны 0, что технологически невозможно. Эти данные нужно удалить."
   ]
  },
  {
   "cell_type": "code",
   "execution_count": 31,
   "metadata": {
    "scrolled": true
   },
   "outputs": [
    {
     "data": {
      "text/plain": [
       "481"
      ]
     },
     "execution_count": 31,
     "metadata": {},
     "output_type": "execute_result"
    }
   ],
   "source": [
    "len(data_full[data_full['rougher_feed'] == 0]) + len(data_full[data_full['rougher_concentrate'] == 0]) + len(data_full[data_full['primary_concentrate'] == 0]) + len(data_full[data_full['final_concentrate'] == 0])"
   ]
  },
  {
   "cell_type": "markdown",
   "metadata": {},
   "source": [
    "481 - сумма общих значений равных нулю."
   ]
  },
  {
   "cell_type": "code",
   "execution_count": 33,
   "metadata": {},
   "outputs": [],
   "source": [
    "#Удаляем нулевые значения (Используется цикловый код)\n",
    "for col in ['rougher_feed', 'rougher_concentrate', 'primary_concentrate', 'final_concentrate']:\n",
    "    data_full = data_full[data_full[col]>0]"
   ]
  },
  {
   "cell_type": "code",
   "execution_count": 34,
   "metadata": {
    "scrolled": true
   },
   "outputs": [
    {
     "data": {
      "image/png": "[encoded data removed]",
      "text/plain": [
       "<Figure size 720x360 with 1 Axes>"
      ]
     },
     "metadata": {},
     "output_type": "display_data"
    }
   ],
   "source": [
    "# И проверим на графике. (Нулевых значений нет) \n",
    "plt.figure(figsize=[10, 5])\n",
    "sns.histplot(data_full[['rougher_feed', 'rougher_concentrate', 'primary_concentrate', 'final_concentrate']], legend=True, kde=True)\n",
    "plt.title('Суммарная концентрация всех веществ на разных стадиях', fontsize=15)\n",
    "plt.show()"
   ]
  },
  {
   "cell_type": "code",
   "execution_count": 35,
   "metadata": {},
   "outputs": [],
   "source": [
    "#train = train.set_index('date')\n",
    "#full = full.set_index('date')\n",
    "#train = train.loc[train.index.isin(full.index)]\n",
    "\n",
    "\n",
    "# Очистка трейн-выборки по дате из фулл-выборки\n",
    "data_full = data_full.set_index('date')\n",
    "data_train = data_train.set_index('date')\n",
    "data_train = data_train.loc[data_train.index.isin(data_full.index)]"
   ]
  },
  {
   "cell_type": "markdown",
   "metadata": {},
   "source": [
    "## Модель"
   ]
  },
  {
   "attachments": {
    "image.png": {
     "image/png": "[encoded data removed]"
    }
   },
   "cell_type": "markdown",
   "metadata": {},
   "source": [
    "Напишем функцию для вычисления итоговой sMAPE. Формула в математическом виде выглядит так:\n",
    "\n",
    "![image.png](attachment:image.png)"
   ]
  },
  {
   "cell_type": "code",
   "execution_count": 36,
   "metadata": {},
   "outputs": [],
   "source": [
    "def smape (target, predictions):\n",
    "    num = abs(predictions - target)\n",
    "    den = (abs(target) + abs(predictions)) / 2\n",
    "    summ = (num / den).sum()\n",
    "    smape = 1 / len(target) * summ * 100\n",
    "    return smape"
   ]
  },
  {
   "cell_type": "code",
   "execution_count": 37,
   "metadata": {},
   "outputs": [],
   "source": [
    "smape_scorer = make_scorer(smape, greater_is_better = False)"
   ]
  },
  {
   "cell_type": "code",
   "execution_count": 38,
   "metadata": {},
   "outputs": [],
   "source": [
    "def end_smape (smape_rougher, smape_final):\n",
    "    end_smape = 0.25 * smape_rougher + 0.75 * smape_final\n",
    "    return end_smape"
   ]
  },
  {
   "cell_type": "code",
   "execution_count": 39,
   "metadata": {},
   "outputs": [],
   "source": [
    "#Разделим датафреймы\n",
    "\n",
    "# train\n",
    "target_rougher_train = data_train['rougher.output.recovery']\n",
    "target_final_train = data_train['final.output.recovery']\n",
    "features_train = data_train.drop(['rougher.output.recovery', 'final.output.recovery'], axis=1)\n",
    "\n",
    "# test\n",
    "target_rougher_test = data_test['rougher.output.recovery']\n",
    "target_final_test = data_test['final.output.recovery']\n",
    "features_test = data_test.drop(['date', 'rougher.output.recovery', 'final.output.recovery'], axis=1)"
   ]
  },
  {
   "cell_type": "code",
   "execution_count": 40,
   "metadata": {},
   "outputs": [],
   "source": [
    "# Маштабируем признаки\n",
    "#numeric = features_train.columns\n",
    "#scaler = StandardScaler()\n",
    "#scaler.fit(features_train[numeric])\n",
    "#features_train[numeric] = scaler.transform(features_train[numeric])\n",
    "#features_test[numeric] = scaler.transform(features_test[numeric])"
   ]
  },
  {
   "cell_type": "markdown",
   "metadata": {},
   "source": [
    "Модель **Решающее дерево**."
   ]
  },
  {
   "cell_type": "code",
   "execution_count": 41,
   "metadata": {
    "scrolled": true
   },
   "outputs": [
    {
     "name": "stdout",
     "output_type": "stream",
     "text": [
      "Итоговое sMAPE: -12.169053542908799\n",
      "CPU times: user 5.95 s, sys: 17.5 ms, total: 5.97 s\n",
      "Wall time: 5.97 s\n"
     ]
    }
   ],
   "source": [
    "%%time\n",
    "\n",
    "cross_val_score_rougher = cross_val_score(DecisionTreeRegressor(random_state=12345),\n",
    "                                          features_train,\n",
    "                                          target_rougher_train,\n",
    "                                          cv=5, scoring=smape_scorer).mean()\n",
    "cross_val_score_final = cross_val_score(DecisionTreeRegressor(random_state=12345),\n",
    "                                        features_train,\n",
    "                                        target_final_train,\n",
    "                                        cv=5, scoring=smape_scorer).mean()\n",
    "final_smape_result = end_smape(cross_val_score_rougher, cross_val_score_final)\n",
    "print('Итоговое sMAPE:', final_smape_result)"
   ]
  },
  {
   "cell_type": "markdown",
   "metadata": {},
   "source": [
    "Модель **Случайный лес**."
   ]
  },
  {
   "cell_type": "code",
   "execution_count": 42,
   "metadata": {
    "scrolled": false
   },
   "outputs": [
    {
     "name": "stdout",
     "output_type": "stream",
     "text": [
      "Итоговое sMAPE: -9.264815045339985\n",
      "CPU times: user 5.82 s, sys: 18.7 ms, total: 5.84 s\n",
      "Wall time: 5.85 s\n"
     ]
    }
   ],
   "source": [
    "%%time\n",
    "\n",
    "\n",
    "for depth in range (3, 4): #выбраны самые удачные параметры\n",
    "    \n",
    "    for estimator in range(10, 11):\n",
    "        \n",
    "        model = RandomForestRegressor(random_state=12345, \n",
    "                                       n_estimators=estimator, \n",
    "                                       max_depth=depth) \n",
    "    \n",
    "        cross_val_score_rougher = cross_val_score(model, features_train, target_rougher_train, cv=4, scoring=smape_scorer).mean()\n",
    "        cross_val_score_final = cross_val_score(model, features_train, target_final_train, cv=4, scoring=smape_scorer).mean()\n",
    "\n",
    "        final_smape_result = end_smape(cross_val_score_rougher, cross_val_score_final)    \n",
    "print('Итоговое sMAPE:', final_smape_result)"
   ]
  },
  {
   "cell_type": "markdown",
   "metadata": {},
   "source": [
    "Модель **Линейная регрессия**."
   ]
  },
  {
   "cell_type": "code",
   "execution_count": 43,
   "metadata": {
    "scrolled": true
   },
   "outputs": [
    {
     "name": "stdout",
     "output_type": "stream",
     "text": [
      "Итоговое sMAPE: -9.33562709037692\n",
      "CPU times: user 711 ms, sys: 1.51 s, total: 2.22 s\n",
      "Wall time: 2.21 s\n"
     ]
    }
   ],
   "source": [
    "%%time\n",
    "\n",
    "cross_val_score_rougher = cross_val_score(LinearRegression(),\n",
    "                                          features_train,\n",
    "                                          target_rougher_train,\n",
    "                                          cv=4, scoring=smape_scorer).mean()\n",
    "cross_val_score_final = cross_val_score(LinearRegression(),\n",
    "                                        features_train,\n",
    "                                        target_final_train,\n",
    "                                        cv=4, scoring=smape_scorer).mean()\n",
    "final_smape_result = end_smape(cross_val_score_rougher, cross_val_score_final)\n",
    "print('Итоговое sMAPE:', final_smape_result)"
   ]
  },
  {
   "cell_type": "markdown",
   "metadata": {},
   "source": [
    "После обучения 3-х моделей, моделью, с самым лучшим sMAPE стала модель **Случайный лес**. Проверим sMAPE на тестовой выборке."
   ]
  },
  {
   "cell_type": "code",
   "execution_count": 44,
   "metadata": {},
   "outputs": [
    {
     "name": "stdout",
     "output_type": "stream",
     "text": [
      "Итоговое sMAPE: 9.387830986362125\n"
     ]
    }
   ],
   "source": [
    "model_final = RandomForestRegressor(random_state=12345, \n",
    "                                       n_estimators=20, \n",
    "                                       max_depth=3)\n",
    "\n",
    "model_final.fit(features_train, target_rougher_train)\n",
    "predictions_rougher = model_final.predict(features_test)\n",
    "\n",
    "model_final.fit(features_train, target_final_train)\n",
    "predictions_final = model_final.predict(features_test)\n",
    "\n",
    "smape_rougher = smape(target_rougher_test, predictions_rougher)\n",
    "smape_final = smape(target_final_test, predictions_final)\n",
    "\n",
    "print('Итоговое sMAPE:', end_smape(smape_rougher, smape_final))"
   ]
  },
  {
   "cell_type": "markdown",
   "metadata": {},
   "source": [
    "Проверим модель на адекватность используя **DummyRegressor**."
   ]
  },
  {
   "cell_type": "code",
   "execution_count": 45,
   "metadata": {},
   "outputs": [
    {
     "name": "stdout",
     "output_type": "stream",
     "text": [
      "Итоговое sMAPE 9.117339756665697\n"
     ]
    }
   ],
   "source": [
    "model = DummyRegressor(strategy='median')\n",
    "\n",
    "model.fit(features_train, target_rougher_train)\n",
    "predictions_rougher = model.predict(features_test)\n",
    "\n",
    "model.fit(features_train, target_final_train)\n",
    "predictions_final = model.predict(features_test)\n",
    "\n",
    "smape_rougher= smape(target_rougher_test, predictions_rougher)\n",
    "smape_final= smape(target_final_test, predictions_final)\n",
    "\n",
    "print('Итоговое sMAPE', end_smape(smape_rougher, smape_final))"
   ]
  },
  {
   "cell_type": "markdown",
   "metadata": {},
   "source": [
    "Показатель sMAPE на **Случайном лесе** меньше этого же показателя на константной модели. Это означает, что модель работает верно."
   ]
  },
  {
   "cell_type": "markdown",
   "metadata": {},
   "source": [
    "В данной главе опробовали трм модели для обучения модели. Самый лучший показатель sMAPE был показан у модели Случайный лес (-10.057134614854892). Также образом, проверили модель на тестовой выборке(13.023045380287247). Также проверили модель на адекватность(11.232260054691102).\n",
    "\n",
    "Показатели sMAPE, близки к нулю, в обоих случаях (Случайный лес и Dummy), т.к. эта метрика является симметричной.\n"
   ]
  },
  {
   "cell_type": "markdown",
   "metadata": {},
   "source": [
    "## Чек-лист готовности проекта"
   ]
  },
  {
   "cell_type": "markdown",
   "metadata": {},
   "source": [
    "- [x]  Jupyter Notebook открыт\n",
    "- [x]  Весь код выполняется без ошибок\n",
    "- [x]  Ячейки с кодом расположены в порядке выполнения\n",
    "- [x]  Выполнен шаг 1: данные подготовлены\n",
    "    - [x]  Проверена формула вычисления эффективности обогащения\n",
    "    - [x]  Проанализированы признаки, недоступные в тестовой выборке\n",
    "    - [x]  Проведена предобработка данных\n",
    "- [x]  Выполнен шаг 2: данные проанализированы\n",
    "    - [x]  Исследовано изменение концентрации элементов на каждом этапе\n",
    "    - [x]  Проанализированы распределения размеров гранул на обучающей и тестовой выборках\n",
    "    - [x]  Исследованы суммарные концентрации\n",
    "- [x]  Выполнен шаг 3: построена модель прогнозирования\n",
    "    - [x]  Написана функция для вычисления итогового *sMAPE*\n",
    "    - [x]  Обучено и проверено несколько моделей\n",
    "    - [x]  Выбрана лучшая модель, её качество проверено на тестовой выборке"
   ]
  }
 ],
 "metadata": {
  "ExecuteTimeLog": [
   {
    "duration": 2051,
    "start_time": "2023-01-18T13:40:45.679Z"
   },
   {
    "duration": 2248,
    "start_time": "2023-01-18T13:46:38.654Z"
   },
   {
    "duration": 3236,
    "start_time": "2023-01-18T13:48:26.191Z"
   },
   {
    "duration": 10,
    "start_time": "2023-01-18T13:49:08.727Z"
   },
   {
    "duration": 4,
    "start_time": "2023-01-18T13:49:12.544Z"
   },
   {
    "duration": 396,
    "start_time": "2023-01-18T13:49:13.650Z"
   },
   {
    "duration": 186,
    "start_time": "2023-01-18T13:51:21.866Z"
   },
   {
    "duration": 396,
    "start_time": "2023-01-18T13:51:28.267Z"
   },
   {
    "duration": 1468,
    "start_time": "2023-01-20T16:11:15.163Z"
   },
   {
    "duration": 3012,
    "start_time": "2023-01-20T16:11:16.633Z"
   },
   {
    "duration": 4,
    "start_time": "2023-01-20T16:11:19.646Z"
   },
   {
    "duration": 377,
    "start_time": "2023-01-20T16:11:19.652Z"
   },
   {
    "duration": 168,
    "start_time": "2023-01-20T16:11:20.031Z"
   },
   {
    "duration": 397,
    "start_time": "2023-01-20T16:11:20.201Z"
   },
   {
    "duration": 9,
    "start_time": "2023-01-20T16:31:46.756Z"
   },
   {
    "duration": 12,
    "start_time": "2023-01-20T16:32:38.884Z"
   },
   {
    "duration": 78,
    "start_time": "2023-01-20T16:35:12.366Z"
   },
   {
    "duration": 25,
    "start_time": "2023-01-20T16:35:41.844Z"
   },
   {
    "duration": 38,
    "start_time": "2023-01-20T16:49:07.941Z"
   },
   {
    "duration": 5,
    "start_time": "2023-01-20T16:50:05.886Z"
   },
   {
    "duration": 3,
    "start_time": "2023-01-20T16:50:12.813Z"
   },
   {
    "duration": 47,
    "start_time": "2023-01-20T16:50:23.709Z"
   },
   {
    "duration": 59,
    "start_time": "2023-01-20T16:50:28.061Z"
   },
   {
    "duration": 19,
    "start_time": "2023-01-20T16:50:38.102Z"
   },
   {
    "duration": 17,
    "start_time": "2023-01-20T16:50:48.534Z"
   },
   {
    "duration": 25,
    "start_time": "2023-01-20T16:51:44.462Z"
   },
   {
    "duration": 25,
    "start_time": "2023-01-20T16:52:45.861Z"
   },
   {
    "duration": 3,
    "start_time": "2023-01-20T18:22:50.355Z"
   },
   {
    "duration": 7,
    "start_time": "2023-01-20T18:23:17.103Z"
   },
   {
    "duration": 8,
    "start_time": "2023-01-20T18:24:19.911Z"
   },
   {
    "duration": 22,
    "start_time": "2023-01-20T18:37:05.626Z"
   },
   {
    "duration": 45,
    "start_time": "2023-01-20T18:37:18.665Z"
   },
   {
    "duration": 4,
    "start_time": "2023-01-20T18:38:07.562Z"
   },
   {
    "duration": 3,
    "start_time": "2023-01-20T18:38:28.127Z"
   },
   {
    "duration": 6,
    "start_time": "2023-01-20T18:38:54.811Z"
   },
   {
    "duration": 46,
    "start_time": "2023-01-20T18:39:03.391Z"
   },
   {
    "duration": 56,
    "start_time": "2023-01-20T18:39:08.299Z"
   },
   {
    "duration": 5,
    "start_time": "2023-01-20T18:39:14.355Z"
   },
   {
    "duration": 7,
    "start_time": "2023-01-20T18:43:39.267Z"
   },
   {
    "duration": 109,
    "start_time": "2023-01-20T18:51:04.176Z"
   },
   {
    "duration": 15,
    "start_time": "2023-01-20T18:52:01.519Z"
   },
   {
    "duration": 12,
    "start_time": "2023-01-20T18:53:09.910Z"
   },
   {
    "duration": 8,
    "start_time": "2023-01-20T18:56:00.809Z"
   },
   {
    "duration": 9,
    "start_time": "2023-01-20T18:56:25.937Z"
   },
   {
    "duration": 9,
    "start_time": "2023-01-20T18:58:39.136Z"
   },
   {
    "duration": 9,
    "start_time": "2023-01-20T18:59:00.928Z"
   },
   {
    "duration": 9,
    "start_time": "2023-01-20T18:59:20.048Z"
   },
   {
    "duration": 6,
    "start_time": "2023-01-20T18:59:29.352Z"
   },
   {
    "duration": 9,
    "start_time": "2023-01-20T19:32:02.340Z"
   },
   {
    "duration": 7,
    "start_time": "2023-01-20T19:35:50.556Z"
   },
   {
    "duration": 8,
    "start_time": "2023-01-20T19:35:56.556Z"
   },
   {
    "duration": 4,
    "start_time": "2023-01-20T19:37:55.604Z"
   },
   {
    "duration": 12,
    "start_time": "2023-01-20T19:38:32.346Z"
   },
   {
    "duration": 27,
    "start_time": "2023-01-20T19:38:42.175Z"
   },
   {
    "duration": 25,
    "start_time": "2023-01-20T19:38:48.832Z"
   },
   {
    "duration": 25,
    "start_time": "2023-01-20T19:39:44.356Z"
   },
   {
    "duration": 12,
    "start_time": "2023-01-20T19:39:59.693Z"
   },
   {
    "duration": 1258,
    "start_time": "2023-01-20T19:40:09.210Z"
   },
   {
    "duration": 732,
    "start_time": "2023-01-20T19:40:10.470Z"
   },
   {
    "duration": 3,
    "start_time": "2023-01-20T19:40:11.204Z"
   },
   {
    "duration": 371,
    "start_time": "2023-01-20T19:40:11.209Z"
   },
   {
    "duration": 160,
    "start_time": "2023-01-20T19:40:11.582Z"
   },
   {
    "duration": 353,
    "start_time": "2023-01-20T19:40:11.747Z"
   },
   {
    "duration": 20,
    "start_time": "2023-01-20T19:40:12.102Z"
   },
   {
    "duration": 45,
    "start_time": "2023-01-20T19:40:12.123Z"
   },
   {
    "duration": 5,
    "start_time": "2023-01-20T19:40:12.170Z"
   },
   {
    "duration": 6,
    "start_time": "2023-01-20T19:40:12.177Z"
   },
   {
    "duration": 6,
    "start_time": "2023-01-20T19:40:12.184Z"
   },
   {
    "duration": 11,
    "start_time": "2023-01-20T19:40:12.192Z"
   },
   {
    "duration": 44,
    "start_time": "2023-01-20T19:40:12.205Z"
   },
   {
    "duration": 10,
    "start_time": "2023-01-20T19:44:12.887Z"
   },
   {
    "duration": 25,
    "start_time": "2023-01-20T19:44:14.487Z"
   },
   {
    "duration": 4,
    "start_time": "2023-01-20T19:44:33.759Z"
   },
   {
    "duration": 4,
    "start_time": "2023-01-20T19:44:44.073Z"
   },
   {
    "duration": 3,
    "start_time": "2023-01-20T19:44:49.040Z"
   },
   {
    "duration": 5,
    "start_time": "2023-01-20T19:45:09.958Z"
   },
   {
    "duration": 13,
    "start_time": "2023-01-20T19:45:53.767Z"
   },
   {
    "duration": 189,
    "start_time": "2023-01-20T19:47:33.280Z"
   },
   {
    "duration": 169,
    "start_time": "2023-01-20T19:47:53.409Z"
   },
   {
    "duration": 1383,
    "start_time": "2023-01-20T19:50:24.634Z"
   },
   {
    "duration": 641,
    "start_time": "2023-01-20T19:50:26.019Z"
   },
   {
    "duration": 3,
    "start_time": "2023-01-20T19:50:26.662Z"
   },
   {
    "duration": 361,
    "start_time": "2023-01-20T19:50:26.666Z"
   },
   {
    "duration": 158,
    "start_time": "2023-01-20T19:50:27.029Z"
   },
   {
    "duration": 355,
    "start_time": "2023-01-20T19:50:27.188Z"
   },
   {
    "duration": 20,
    "start_time": "2023-01-20T19:50:27.549Z"
   },
   {
    "duration": 26,
    "start_time": "2023-01-20T19:50:27.570Z"
   },
   {
    "duration": 5,
    "start_time": "2023-01-20T19:50:27.598Z"
   },
   {
    "duration": 7,
    "start_time": "2023-01-20T19:50:27.605Z"
   },
   {
    "duration": 39,
    "start_time": "2023-01-20T19:50:27.614Z"
   },
   {
    "duration": 9,
    "start_time": "2023-01-20T19:50:27.654Z"
   },
   {
    "duration": 350,
    "start_time": "2023-01-20T19:50:27.665Z"
   },
   {
    "duration": 4,
    "start_time": "2023-01-20T19:51:10.406Z"
   },
   {
    "duration": 5,
    "start_time": "2023-01-20T19:51:52.165Z"
   },
   {
    "duration": 7,
    "start_time": "2023-01-20T19:52:12.978Z"
   },
   {
    "duration": 1696,
    "start_time": "2023-01-21T13:16:14.956Z"
   },
   {
    "duration": 3194,
    "start_time": "2023-01-21T13:16:16.654Z"
   },
   {
    "duration": 4,
    "start_time": "2023-01-21T13:16:19.850Z"
   },
   {
    "duration": 430,
    "start_time": "2023-01-21T13:16:19.856Z"
   },
   {
    "duration": 258,
    "start_time": "2023-01-21T13:16:20.289Z"
   },
   {
    "duration": 469,
    "start_time": "2023-01-21T13:16:20.550Z"
   },
   {
    "duration": 34,
    "start_time": "2023-01-21T13:16:21.021Z"
   },
   {
    "duration": 44,
    "start_time": "2023-01-21T13:16:21.057Z"
   },
   {
    "duration": 6,
    "start_time": "2023-01-21T13:16:21.102Z"
   },
   {
    "duration": 38,
    "start_time": "2023-01-21T13:16:21.110Z"
   },
   {
    "duration": 16,
    "start_time": "2023-01-21T13:16:21.151Z"
   },
   {
    "duration": 24,
    "start_time": "2023-01-21T13:16:21.170Z"
   },
   {
    "duration": 13,
    "start_time": "2023-01-21T13:16:21.197Z"
   },
   {
    "duration": 11,
    "start_time": "2023-01-21T13:16:21.213Z"
   },
   {
    "duration": 293,
    "start_time": "2023-01-21T13:25:20.512Z"
   },
   {
    "duration": 3170,
    "start_time": "2023-01-21T13:26:04.757Z"
   },
   {
    "duration": 3328,
    "start_time": "2023-01-21T13:29:22.822Z"
   },
   {
    "duration": 228,
    "start_time": "2023-01-21T13:29:56.334Z"
   },
   {
    "duration": 3257,
    "start_time": "2023-01-21T13:30:25.423Z"
   },
   {
    "duration": 3081,
    "start_time": "2023-01-21T13:32:08.364Z"
   },
   {
    "duration": 45,
    "start_time": "2023-01-21T13:42:56.480Z"
   },
   {
    "duration": 1493,
    "start_time": "2023-01-21T17:19:18.053Z"
   },
   {
    "duration": 773,
    "start_time": "2023-01-21T17:19:19.551Z"
   },
   {
    "duration": 4,
    "start_time": "2023-01-21T17:19:20.326Z"
   },
   {
    "duration": 460,
    "start_time": "2023-01-21T17:19:20.338Z"
   },
   {
    "duration": 206,
    "start_time": "2023-01-21T17:19:20.800Z"
   },
   {
    "duration": 407,
    "start_time": "2023-01-21T17:19:21.008Z"
   },
   {
    "duration": 37,
    "start_time": "2023-01-21T17:19:21.417Z"
   },
   {
    "duration": 37,
    "start_time": "2023-01-21T17:19:21.456Z"
   },
   {
    "duration": 6,
    "start_time": "2023-01-21T17:19:21.495Z"
   },
   {
    "duration": 8,
    "start_time": "2023-01-21T17:19:21.503Z"
   },
   {
    "duration": 35,
    "start_time": "2023-01-21T17:19:21.513Z"
   },
   {
    "duration": 11,
    "start_time": "2023-01-21T17:19:21.555Z"
   },
   {
    "duration": 8,
    "start_time": "2023-01-21T17:19:21.567Z"
   },
   {
    "duration": 3427,
    "start_time": "2023-01-21T17:19:21.577Z"
   },
   {
    "duration": 19,
    "start_time": "2023-01-21T17:29:39.044Z"
   },
   {
    "duration": 2602,
    "start_time": "2023-01-21T17:32:47.446Z"
   },
   {
    "duration": 21,
    "start_time": "2023-01-21T17:33:12.737Z"
   },
   {
    "duration": 19,
    "start_time": "2023-01-21T17:33:41.872Z"
   },
   {
    "duration": 2776,
    "start_time": "2023-01-21T17:33:48.046Z"
   },
   {
    "duration": 2447,
    "start_time": "2023-01-21T17:33:59.805Z"
   },
   {
    "duration": 2674,
    "start_time": "2023-01-21T17:34:11.324Z"
   },
   {
    "duration": 18,
    "start_time": "2023-01-21T17:40:01.012Z"
   },
   {
    "duration": 2595,
    "start_time": "2023-01-21T17:40:03.220Z"
   },
   {
    "duration": 22,
    "start_time": "2023-01-21T17:40:42.193Z"
   },
   {
    "duration": 2814,
    "start_time": "2023-01-21T17:40:43.964Z"
   },
   {
    "duration": 133,
    "start_time": "2023-01-21T17:41:08.931Z"
   },
   {
    "duration": 19,
    "start_time": "2023-01-21T17:41:46.798Z"
   },
   {
    "duration": 2222,
    "start_time": "2023-01-21T17:42:34.870Z"
   },
   {
    "duration": 2228,
    "start_time": "2023-01-21T17:42:52.405Z"
   },
   {
    "duration": 2216,
    "start_time": "2023-01-21T17:43:24.386Z"
   },
   {
    "duration": 2036,
    "start_time": "2023-01-21T17:43:34.225Z"
   },
   {
    "duration": 2129,
    "start_time": "2023-01-21T17:43:56.064Z"
   },
   {
    "duration": 2270,
    "start_time": "2023-01-21T17:44:17.712Z"
   },
   {
    "duration": 2022,
    "start_time": "2023-01-21T17:46:04.656Z"
   },
   {
    "duration": 2324,
    "start_time": "2023-01-21T17:46:20.358Z"
   },
   {
    "duration": 2679,
    "start_time": "2023-01-21T17:47:37.123Z"
   },
   {
    "duration": 2654,
    "start_time": "2023-01-21T17:47:53.801Z"
   },
   {
    "duration": 7,
    "start_time": "2023-01-21T17:56:38.408Z"
   },
   {
    "duration": 6,
    "start_time": "2023-01-21T17:57:10.551Z"
   },
   {
    "duration": 17,
    "start_time": "2023-01-21T18:06:29.190Z"
   },
   {
    "duration": 5,
    "start_time": "2023-01-21T18:07:26.547Z"
   },
   {
    "duration": 6,
    "start_time": "2023-01-21T18:08:13.171Z"
   },
   {
    "duration": 7,
    "start_time": "2023-01-21T18:08:19.447Z"
   },
   {
    "duration": 48,
    "start_time": "2023-01-21T18:08:24.445Z"
   },
   {
    "duration": 7,
    "start_time": "2023-01-21T18:08:29.506Z"
   },
   {
    "duration": 6,
    "start_time": "2023-01-21T18:08:35.489Z"
   },
   {
    "duration": 6,
    "start_time": "2023-01-21T18:08:45.761Z"
   },
   {
    "duration": 6,
    "start_time": "2023-01-21T18:08:57.026Z"
   },
   {
    "duration": 6,
    "start_time": "2023-01-21T18:09:01.785Z"
   },
   {
    "duration": 6,
    "start_time": "2023-01-21T18:09:49.530Z"
   },
   {
    "duration": 6,
    "start_time": "2023-01-21T18:10:10.666Z"
   },
   {
    "duration": 6,
    "start_time": "2023-01-21T18:10:31.939Z"
   },
   {
    "duration": 5,
    "start_time": "2023-01-21T18:13:34.467Z"
   },
   {
    "duration": 8,
    "start_time": "2023-01-21T18:13:50.959Z"
   },
   {
    "duration": 9,
    "start_time": "2023-01-21T18:14:22.518Z"
   },
   {
    "duration": 9,
    "start_time": "2023-01-21T18:14:30.545Z"
   },
   {
    "duration": 22,
    "start_time": "2023-01-21T18:20:19.725Z"
   },
   {
    "duration": 12,
    "start_time": "2023-01-21T18:20:24.131Z"
   },
   {
    "duration": 678,
    "start_time": "2023-01-21T18:22:09.189Z"
   },
   {
    "duration": 19,
    "start_time": "2023-01-21T18:22:56.132Z"
   },
   {
    "duration": 29,
    "start_time": "2023-01-21T18:23:14.597Z"
   },
   {
    "duration": 29,
    "start_time": "2023-01-21T18:23:40.812Z"
   },
   {
    "duration": 18,
    "start_time": "2023-01-21T18:23:51.971Z"
   },
   {
    "duration": 16,
    "start_time": "2023-01-21T18:23:58.624Z"
   },
   {
    "duration": 16,
    "start_time": "2023-01-21T18:24:13.745Z"
   },
   {
    "duration": 210,
    "start_time": "2023-01-21T18:24:31.382Z"
   },
   {
    "duration": 12,
    "start_time": "2023-01-21T18:24:44.711Z"
   },
   {
    "duration": 33,
    "start_time": "2023-01-21T18:25:15.252Z"
   },
   {
    "duration": 5,
    "start_time": "2023-01-21T18:43:57.684Z"
   },
   {
    "duration": 3,
    "start_time": "2023-01-21T18:47:07.509Z"
   },
   {
    "duration": 3,
    "start_time": "2023-01-21T18:47:07.998Z"
   },
   {
    "duration": 5,
    "start_time": "2023-01-21T18:50:21.466Z"
   },
   {
    "duration": 10,
    "start_time": "2023-01-21T18:55:29.952Z"
   },
   {
    "duration": 12,
    "start_time": "2023-01-21T19:01:16.856Z"
   },
   {
    "duration": 78,
    "start_time": "2023-01-21T19:01:48.579Z"
   },
   {
    "duration": 74,
    "start_time": "2023-01-21T19:02:17.001Z"
   },
   {
    "duration": 11,
    "start_time": "2023-01-21T19:03:14.988Z"
   },
   {
    "duration": 54,
    "start_time": "2023-01-21T19:03:15.853Z"
   },
   {
    "duration": 66,
    "start_time": "2023-01-21T19:04:03.476Z"
   },
   {
    "duration": 41,
    "start_time": "2023-01-21T19:05:26.482Z"
   },
   {
    "duration": 1417,
    "start_time": "2023-01-21T19:05:44.955Z"
   },
   {
    "duration": 775,
    "start_time": "2023-01-21T19:05:46.375Z"
   },
   {
    "duration": 3,
    "start_time": "2023-01-21T19:05:47.155Z"
   },
   {
    "duration": 413,
    "start_time": "2023-01-21T19:05:47.160Z"
   },
   {
    "duration": 228,
    "start_time": "2023-01-21T19:05:47.575Z"
   },
   {
    "duration": 458,
    "start_time": "2023-01-21T19:05:47.805Z"
   },
   {
    "duration": 26,
    "start_time": "2023-01-21T19:05:48.267Z"
   },
   {
    "duration": 53,
    "start_time": "2023-01-21T19:05:48.295Z"
   },
   {
    "duration": 8,
    "start_time": "2023-01-21T19:05:48.353Z"
   },
   {
    "duration": 6,
    "start_time": "2023-01-21T19:05:48.364Z"
   },
   {
    "duration": 7,
    "start_time": "2023-01-21T19:05:48.372Z"
   },
   {
    "duration": 10,
    "start_time": "2023-01-21T19:05:48.381Z"
   },
   {
    "duration": 10,
    "start_time": "2023-01-21T19:05:48.392Z"
   },
   {
    "duration": 3417,
    "start_time": "2023-01-21T19:05:48.438Z"
   },
   {
    "duration": 19,
    "start_time": "2023-01-21T19:05:51.857Z"
   },
   {
    "duration": 2705,
    "start_time": "2023-01-21T19:05:51.878Z"
   },
   {
    "duration": 19,
    "start_time": "2023-01-21T19:05:54.585Z"
   },
   {
    "duration": 2093,
    "start_time": "2023-01-21T19:05:54.605Z"
   },
   {
    "duration": 5,
    "start_time": "2023-01-21T19:05:56.700Z"
   },
   {
    "duration": 9,
    "start_time": "2023-01-21T19:05:56.707Z"
   },
   {
    "duration": 38,
    "start_time": "2023-01-21T19:05:56.717Z"
   },
   {
    "duration": 7,
    "start_time": "2023-01-21T19:05:56.757Z"
   },
   {
    "duration": 36,
    "start_time": "2023-01-21T19:05:56.767Z"
   },
   {
    "duration": 3,
    "start_time": "2023-01-21T19:05:56.805Z"
   },
   {
    "duration": 9,
    "start_time": "2023-01-21T19:05:56.809Z"
   },
   {
    "duration": 41,
    "start_time": "2023-01-21T19:05:56.820Z"
   },
   {
    "duration": 149,
    "start_time": "2023-01-21T19:05:56.863Z"
   },
   {
    "duration": 52,
    "start_time": "2023-01-21T19:06:28.402Z"
   },
   {
    "duration": 33,
    "start_time": "2023-01-21T19:06:44.102Z"
   },
   {
    "duration": 11,
    "start_time": "2023-01-21T19:08:31.372Z"
   },
   {
    "duration": 56,
    "start_time": "2023-01-21T19:09:53.490Z"
   },
   {
    "duration": 57,
    "start_time": "2023-01-21T19:10:16.329Z"
   },
   {
    "duration": 77,
    "start_time": "2023-01-21T19:12:43.069Z"
   },
   {
    "duration": 90,
    "start_time": "2023-01-21T19:13:08.476Z"
   },
   {
    "duration": 15,
    "start_time": "2023-01-21T19:13:27.515Z"
   },
   {
    "duration": 23,
    "start_time": "2023-01-21T19:13:50.377Z"
   },
   {
    "duration": 35,
    "start_time": "2023-01-21T19:13:57.996Z"
   },
   {
    "duration": 9,
    "start_time": "2023-01-21T19:18:50.776Z"
   },
   {
    "duration": 7,
    "start_time": "2023-01-21T19:18:56.552Z"
   },
   {
    "duration": 1319,
    "start_time": "2023-01-21T19:19:05.277Z"
   },
   {
    "duration": 719,
    "start_time": "2023-01-21T19:19:06.598Z"
   },
   {
    "duration": 4,
    "start_time": "2023-01-21T19:19:07.318Z"
   },
   {
    "duration": 401,
    "start_time": "2023-01-21T19:19:07.324Z"
   },
   {
    "duration": 175,
    "start_time": "2023-01-21T19:19:07.737Z"
   },
   {
    "duration": 405,
    "start_time": "2023-01-21T19:19:07.913Z"
   },
   {
    "duration": 28,
    "start_time": "2023-01-21T19:19:08.321Z"
   },
   {
    "duration": 28,
    "start_time": "2023-01-21T19:19:08.351Z"
   },
   {
    "duration": 6,
    "start_time": "2023-01-21T19:19:08.380Z"
   },
   {
    "duration": 7,
    "start_time": "2023-01-21T19:19:08.388Z"
   },
   {
    "duration": 43,
    "start_time": "2023-01-21T19:19:08.397Z"
   },
   {
    "duration": 8,
    "start_time": "2023-01-21T19:19:08.442Z"
   },
   {
    "duration": 17,
    "start_time": "2023-01-21T19:19:08.452Z"
   },
   {
    "duration": 8,
    "start_time": "2023-01-21T19:19:08.472Z"
   },
   {
    "duration": 527,
    "start_time": "2023-01-21T19:19:08.481Z"
   },
   {
    "duration": 29,
    "start_time": "2023-01-21T19:19:09.010Z"
   },
   {
    "duration": 1341,
    "start_time": "2023-01-21T19:19:09.040Z"
   },
   {
    "duration": 17,
    "start_time": "2023-01-21T19:19:10.383Z"
   },
   {
    "duration": 1081,
    "start_time": "2023-01-21T19:19:10.402Z"
   },
   {
    "duration": 5,
    "start_time": "2023-01-21T19:19:11.485Z"
   },
   {
    "duration": 8,
    "start_time": "2023-01-21T19:19:11.492Z"
   },
   {
    "duration": 14,
    "start_time": "2023-01-21T19:19:11.501Z"
   },
   {
    "duration": 25,
    "start_time": "2023-01-21T19:19:11.516Z"
   },
   {
    "duration": 35,
    "start_time": "2023-01-21T19:19:11.543Z"
   },
   {
    "duration": 4,
    "start_time": "2023-01-21T19:19:11.580Z"
   },
   {
    "duration": 5,
    "start_time": "2023-01-21T19:19:11.586Z"
   },
   {
    "duration": 877,
    "start_time": "2023-01-21T19:19:11.592Z"
   },
   {
    "duration": 0,
    "start_time": "2023-01-21T19:19:12.472Z"
   },
   {
    "duration": 0,
    "start_time": "2023-01-21T19:19:12.473Z"
   },
   {
    "duration": 1353,
    "start_time": "2023-01-21T19:20:03.187Z"
   },
   {
    "duration": 709,
    "start_time": "2023-01-21T19:20:04.542Z"
   },
   {
    "duration": 3,
    "start_time": "2023-01-21T19:20:05.253Z"
   },
   {
    "duration": 399,
    "start_time": "2023-01-21T19:20:05.258Z"
   },
   {
    "duration": 185,
    "start_time": "2023-01-21T19:20:05.659Z"
   },
   {
    "duration": 369,
    "start_time": "2023-01-21T19:20:05.846Z"
   },
   {
    "duration": 27,
    "start_time": "2023-01-21T19:20:06.217Z"
   },
   {
    "duration": 35,
    "start_time": "2023-01-21T19:20:06.245Z"
   },
   {
    "duration": 6,
    "start_time": "2023-01-21T19:20:06.282Z"
   },
   {
    "duration": 12,
    "start_time": "2023-01-21T19:20:06.290Z"
   },
   {
    "duration": 10,
    "start_time": "2023-01-21T19:20:06.305Z"
   },
   {
    "duration": 11,
    "start_time": "2023-01-21T19:20:06.337Z"
   },
   {
    "duration": 16,
    "start_time": "2023-01-21T19:20:06.350Z"
   },
   {
    "duration": 506,
    "start_time": "2023-01-21T19:20:06.367Z"
   },
   {
    "duration": 18,
    "start_time": "2023-01-21T19:20:06.874Z"
   },
   {
    "duration": 1529,
    "start_time": "2023-01-21T19:20:06.893Z"
   },
   {
    "duration": 24,
    "start_time": "2023-01-21T19:20:08.424Z"
   },
   {
    "duration": 1100,
    "start_time": "2023-01-21T19:20:08.449Z"
   },
   {
    "duration": 5,
    "start_time": "2023-01-21T19:20:09.551Z"
   },
   {
    "duration": 7,
    "start_time": "2023-01-21T19:20:09.558Z"
   },
   {
    "duration": 16,
    "start_time": "2023-01-21T19:20:09.566Z"
   },
   {
    "duration": 8,
    "start_time": "2023-01-21T19:20:09.584Z"
   },
   {
    "duration": 68,
    "start_time": "2023-01-21T19:20:09.594Z"
   },
   {
    "duration": 5,
    "start_time": "2023-01-21T19:20:09.665Z"
   },
   {
    "duration": 18,
    "start_time": "2023-01-21T19:20:09.671Z"
   },
   {
    "duration": 932,
    "start_time": "2023-01-21T19:20:09.691Z"
   },
   {
    "duration": 0,
    "start_time": "2023-01-21T19:20:10.625Z"
   },
   {
    "duration": 0,
    "start_time": "2023-01-21T19:20:10.626Z"
   },
   {
    "duration": 8,
    "start_time": "2023-01-21T19:20:52.352Z"
   },
   {
    "duration": 8,
    "start_time": "2023-01-21T19:21:19.224Z"
   },
   {
    "duration": 10,
    "start_time": "2023-01-21T19:21:36.087Z"
   },
   {
    "duration": 8,
    "start_time": "2023-01-21T19:21:37.904Z"
   },
   {
    "duration": 1336,
    "start_time": "2023-01-21T19:21:45.888Z"
   },
   {
    "duration": 712,
    "start_time": "2023-01-21T19:21:47.226Z"
   },
   {
    "duration": 4,
    "start_time": "2023-01-21T19:21:47.939Z"
   },
   {
    "duration": 398,
    "start_time": "2023-01-21T19:21:47.945Z"
   },
   {
    "duration": 161,
    "start_time": "2023-01-21T19:21:48.346Z"
   },
   {
    "duration": 368,
    "start_time": "2023-01-21T19:21:48.508Z"
   },
   {
    "duration": 23,
    "start_time": "2023-01-21T19:21:48.878Z"
   },
   {
    "duration": 48,
    "start_time": "2023-01-21T19:21:48.903Z"
   },
   {
    "duration": 6,
    "start_time": "2023-01-21T19:21:48.952Z"
   },
   {
    "duration": 16,
    "start_time": "2023-01-21T19:21:48.959Z"
   },
   {
    "duration": 7,
    "start_time": "2023-01-21T19:21:48.976Z"
   },
   {
    "duration": 9,
    "start_time": "2023-01-21T19:21:48.985Z"
   },
   {
    "duration": 43,
    "start_time": "2023-01-21T19:21:48.996Z"
   },
   {
    "duration": 3110,
    "start_time": "2023-01-21T19:21:49.041Z"
   },
   {
    "duration": 20,
    "start_time": "2023-01-21T19:21:52.153Z"
   },
   {
    "duration": 2363,
    "start_time": "2023-01-21T19:21:52.175Z"
   },
   {
    "duration": 16,
    "start_time": "2023-01-21T19:21:54.540Z"
   },
   {
    "duration": 1865,
    "start_time": "2023-01-21T19:21:54.558Z"
   },
   {
    "duration": 6,
    "start_time": "2023-01-21T19:21:56.424Z"
   },
   {
    "duration": 5,
    "start_time": "2023-01-21T19:21:56.438Z"
   },
   {
    "duration": 19,
    "start_time": "2023-01-21T19:21:56.445Z"
   },
   {
    "duration": 8,
    "start_time": "2023-01-21T19:21:56.465Z"
   },
   {
    "duration": 63,
    "start_time": "2023-01-21T19:21:56.474Z"
   },
   {
    "duration": 4,
    "start_time": "2023-01-21T19:21:56.539Z"
   },
   {
    "duration": 9,
    "start_time": "2023-01-21T19:21:56.544Z"
   },
   {
    "duration": 13,
    "start_time": "2023-01-21T19:21:56.554Z"
   },
   {
    "duration": 158,
    "start_time": "2023-01-21T19:21:56.568Z"
   },
   {
    "duration": 0,
    "start_time": "2023-01-21T19:21:56.728Z"
   },
   {
    "duration": 7,
    "start_time": "2023-01-21T19:25:30.723Z"
   },
   {
    "duration": 1411,
    "start_time": "2023-01-21T19:25:36.618Z"
   },
   {
    "duration": 729,
    "start_time": "2023-01-21T19:25:38.031Z"
   },
   {
    "duration": 3,
    "start_time": "2023-01-21T19:25:38.761Z"
   },
   {
    "duration": 401,
    "start_time": "2023-01-21T19:25:38.766Z"
   },
   {
    "duration": 183,
    "start_time": "2023-01-21T19:25:39.168Z"
   },
   {
    "duration": 387,
    "start_time": "2023-01-21T19:25:39.353Z"
   },
   {
    "duration": 25,
    "start_time": "2023-01-21T19:25:39.741Z"
   },
   {
    "duration": 31,
    "start_time": "2023-01-21T19:25:39.767Z"
   },
   {
    "duration": 41,
    "start_time": "2023-01-21T19:25:39.799Z"
   },
   {
    "duration": 14,
    "start_time": "2023-01-21T19:25:39.843Z"
   },
   {
    "duration": 17,
    "start_time": "2023-01-21T19:25:39.859Z"
   },
   {
    "duration": 21,
    "start_time": "2023-01-21T19:25:39.877Z"
   },
   {
    "duration": 9,
    "start_time": "2023-01-21T19:25:39.900Z"
   },
   {
    "duration": 3316,
    "start_time": "2023-01-21T19:25:39.911Z"
   },
   {
    "duration": 19,
    "start_time": "2023-01-21T19:25:43.229Z"
   },
   {
    "duration": 2561,
    "start_time": "2023-01-21T19:25:43.250Z"
   },
   {
    "duration": 24,
    "start_time": "2023-01-21T19:25:45.813Z"
   },
   {
    "duration": 1991,
    "start_time": "2023-01-21T19:25:45.839Z"
   },
   {
    "duration": 5,
    "start_time": "2023-01-21T19:25:47.838Z"
   },
   {
    "duration": 15,
    "start_time": "2023-01-21T19:25:47.845Z"
   },
   {
    "duration": 28,
    "start_time": "2023-01-21T19:25:47.861Z"
   },
   {
    "duration": 8,
    "start_time": "2023-01-21T19:25:47.891Z"
   },
   {
    "duration": 62,
    "start_time": "2023-01-21T19:25:47.900Z"
   },
   {
    "duration": 3,
    "start_time": "2023-01-21T19:25:47.964Z"
   },
   {
    "duration": 10,
    "start_time": "2023-01-21T19:25:47.969Z"
   },
   {
    "duration": 20,
    "start_time": "2023-01-21T19:25:47.981Z"
   },
   {
    "duration": 10,
    "start_time": "2023-01-21T19:25:48.003Z"
   },
   {
    "duration": 198,
    "start_time": "2023-01-21T19:25:48.017Z"
   },
   {
    "duration": 0,
    "start_time": "2023-01-21T19:25:48.217Z"
   },
   {
    "duration": 6,
    "start_time": "2023-01-21T19:27:00.305Z"
   },
   {
    "duration": 5,
    "start_time": "2023-01-21T19:27:03.891Z"
   },
   {
    "duration": 35,
    "start_time": "2023-01-21T19:27:04.353Z"
   },
   {
    "duration": 1373,
    "start_time": "2023-01-21T19:27:11.273Z"
   },
   {
    "duration": 730,
    "start_time": "2023-01-21T19:27:12.648Z"
   },
   {
    "duration": 3,
    "start_time": "2023-01-21T19:27:13.380Z"
   },
   {
    "duration": 405,
    "start_time": "2023-01-21T19:27:13.385Z"
   },
   {
    "duration": 176,
    "start_time": "2023-01-21T19:27:13.791Z"
   },
   {
    "duration": 382,
    "start_time": "2023-01-21T19:27:13.968Z"
   },
   {
    "duration": 21,
    "start_time": "2023-01-21T19:27:14.352Z"
   },
   {
    "duration": 27,
    "start_time": "2023-01-21T19:27:14.374Z"
   },
   {
    "duration": 35,
    "start_time": "2023-01-21T19:27:14.403Z"
   },
   {
    "duration": 6,
    "start_time": "2023-01-21T19:27:14.441Z"
   },
   {
    "duration": 10,
    "start_time": "2023-01-21T19:27:14.448Z"
   },
   {
    "duration": 11,
    "start_time": "2023-01-21T19:27:14.460Z"
   },
   {
    "duration": 9,
    "start_time": "2023-01-21T19:27:14.473Z"
   },
   {
    "duration": 3217,
    "start_time": "2023-01-21T19:27:14.483Z"
   },
   {
    "duration": 19,
    "start_time": "2023-01-21T19:27:17.702Z"
   },
   {
    "duration": 2503,
    "start_time": "2023-01-21T19:27:17.722Z"
   },
   {
    "duration": 29,
    "start_time": "2023-01-21T19:27:20.227Z"
   },
   {
    "duration": 1899,
    "start_time": "2023-01-21T19:27:20.257Z"
   },
   {
    "duration": 5,
    "start_time": "2023-01-21T19:27:22.158Z"
   },
   {
    "duration": 26,
    "start_time": "2023-01-21T19:27:22.165Z"
   },
   {
    "duration": 40,
    "start_time": "2023-01-21T19:27:22.193Z"
   },
   {
    "duration": 8,
    "start_time": "2023-01-21T19:27:22.235Z"
   },
   {
    "duration": 51,
    "start_time": "2023-01-21T19:27:22.245Z"
   },
   {
    "duration": 4,
    "start_time": "2023-01-21T19:27:22.297Z"
   },
   {
    "duration": 33,
    "start_time": "2023-01-21T19:27:22.303Z"
   },
   {
    "duration": 21,
    "start_time": "2023-01-21T19:27:22.339Z"
   },
   {
    "duration": 149,
    "start_time": "2023-01-21T19:27:22.361Z"
   },
   {
    "duration": 0,
    "start_time": "2023-01-21T19:27:22.512Z"
   },
   {
    "duration": 0,
    "start_time": "2023-01-21T19:27:22.513Z"
   },
   {
    "duration": 6,
    "start_time": "2023-01-21T19:32:45.201Z"
   },
   {
    "duration": 3,
    "start_time": "2023-01-21T19:32:59.428Z"
   },
   {
    "duration": 4,
    "start_time": "2023-01-21T19:33:15.676Z"
   },
   {
    "duration": 7,
    "start_time": "2023-01-21T19:33:42.454Z"
   },
   {
    "duration": 4,
    "start_time": "2023-01-21T19:33:44.436Z"
   },
   {
    "duration": 3,
    "start_time": "2023-01-21T19:33:45.860Z"
   },
   {
    "duration": 8,
    "start_time": "2023-01-21T19:33:46.993Z"
   },
   {
    "duration": 22,
    "start_time": "2023-01-21T19:33:49.284Z"
   },
   {
    "duration": 12,
    "start_time": "2023-01-21T19:33:52.128Z"
   },
   {
    "duration": 3,
    "start_time": "2023-01-21T19:34:46.361Z"
   },
   {
    "duration": 3,
    "start_time": "2023-01-21T19:34:47.089Z"
   },
   {
    "duration": 7,
    "start_time": "2023-01-21T19:34:47.836Z"
   },
   {
    "duration": 28,
    "start_time": "2023-01-21T19:34:48.634Z"
   },
   {
    "duration": 55,
    "start_time": "2023-01-21T19:35:05.681Z"
   },
   {
    "duration": 49,
    "start_time": "2023-01-21T19:35:37.489Z"
   },
   {
    "duration": 1421,
    "start_time": "2023-01-21T19:36:04.695Z"
   },
   {
    "duration": 809,
    "start_time": "2023-01-21T19:36:06.118Z"
   },
   {
    "duration": 3,
    "start_time": "2023-01-21T19:36:06.929Z"
   },
   {
    "duration": 422,
    "start_time": "2023-01-21T19:36:06.934Z"
   },
   {
    "duration": 197,
    "start_time": "2023-01-21T19:36:07.358Z"
   },
   {
    "duration": 406,
    "start_time": "2023-01-21T19:36:07.556Z"
   },
   {
    "duration": 24,
    "start_time": "2023-01-21T19:36:07.964Z"
   },
   {
    "duration": 54,
    "start_time": "2023-01-21T19:36:07.990Z"
   },
   {
    "duration": 7,
    "start_time": "2023-01-21T19:36:08.046Z"
   },
   {
    "duration": 14,
    "start_time": "2023-01-21T19:36:08.054Z"
   },
   {
    "duration": 10,
    "start_time": "2023-01-21T19:36:08.070Z"
   },
   {
    "duration": 16,
    "start_time": "2023-01-21T19:36:08.082Z"
   },
   {
    "duration": 42,
    "start_time": "2023-01-21T19:36:08.100Z"
   },
   {
    "duration": 3191,
    "start_time": "2023-01-21T19:36:08.145Z"
   },
   {
    "duration": 22,
    "start_time": "2023-01-21T19:36:11.337Z"
   },
   {
    "duration": 2537,
    "start_time": "2023-01-21T19:36:11.361Z"
   },
   {
    "duration": 17,
    "start_time": "2023-01-21T19:36:13.900Z"
   },
   {
    "duration": 1957,
    "start_time": "2023-01-21T19:36:13.919Z"
   },
   {
    "duration": 5,
    "start_time": "2023-01-21T19:36:15.878Z"
   },
   {
    "duration": 19,
    "start_time": "2023-01-21T19:36:15.885Z"
   },
   {
    "duration": 33,
    "start_time": "2023-01-21T19:36:15.906Z"
   },
   {
    "duration": 9,
    "start_time": "2023-01-21T19:36:15.941Z"
   },
   {
    "duration": 47,
    "start_time": "2023-01-21T19:36:15.951Z"
   },
   {
    "duration": 3,
    "start_time": "2023-01-21T19:36:15.999Z"
   },
   {
    "duration": 17,
    "start_time": "2023-01-21T19:36:16.004Z"
   },
   {
    "duration": 22,
    "start_time": "2023-01-21T19:36:16.023Z"
   },
   {
    "duration": 15,
    "start_time": "2023-01-21T19:36:16.047Z"
   },
   {
    "duration": 12,
    "start_time": "2023-01-21T19:36:16.064Z"
   },
   {
    "duration": 26,
    "start_time": "2023-01-21T19:36:16.078Z"
   },
   {
    "duration": 51,
    "start_time": "2023-01-21T19:36:16.106Z"
   },
   {
    "duration": 45,
    "start_time": "2023-01-21T19:36:16.159Z"
   },
   {
    "duration": 46,
    "start_time": "2023-01-21T19:38:00.900Z"
   },
   {
    "duration": 1395,
    "start_time": "2023-01-21T19:38:47.584Z"
   },
   {
    "duration": 783,
    "start_time": "2023-01-21T19:38:48.981Z"
   },
   {
    "duration": 3,
    "start_time": "2023-01-21T19:38:49.766Z"
   },
   {
    "duration": 416,
    "start_time": "2023-01-21T19:38:49.771Z"
   },
   {
    "duration": 202,
    "start_time": "2023-01-21T19:38:50.189Z"
   },
   {
    "duration": 408,
    "start_time": "2023-01-21T19:38:50.393Z"
   },
   {
    "duration": 36,
    "start_time": "2023-01-21T19:38:50.803Z"
   },
   {
    "duration": 29,
    "start_time": "2023-01-21T19:38:50.840Z"
   },
   {
    "duration": 6,
    "start_time": "2023-01-21T19:38:50.871Z"
   },
   {
    "duration": 11,
    "start_time": "2023-01-21T19:38:50.879Z"
   },
   {
    "duration": 9,
    "start_time": "2023-01-21T19:38:50.892Z"
   },
   {
    "duration": 40,
    "start_time": "2023-01-21T19:38:50.902Z"
   },
   {
    "duration": 16,
    "start_time": "2023-01-21T19:38:50.944Z"
   },
   {
    "duration": 3382,
    "start_time": "2023-01-21T19:38:50.962Z"
   },
   {
    "duration": 18,
    "start_time": "2023-01-21T19:38:54.346Z"
   },
   {
    "duration": 2773,
    "start_time": "2023-01-21T19:38:54.366Z"
   },
   {
    "duration": 20,
    "start_time": "2023-01-21T19:38:57.141Z"
   },
   {
    "duration": 2029,
    "start_time": "2023-01-21T19:38:57.163Z"
   },
   {
    "duration": 6,
    "start_time": "2023-01-21T19:38:59.195Z"
   },
   {
    "duration": 16,
    "start_time": "2023-01-21T19:38:59.202Z"
   },
   {
    "duration": 32,
    "start_time": "2023-01-21T19:38:59.220Z"
   },
   {
    "duration": 10,
    "start_time": "2023-01-21T19:38:59.254Z"
   },
   {
    "duration": 52,
    "start_time": "2023-01-21T19:38:59.267Z"
   },
   {
    "duration": 3,
    "start_time": "2023-01-21T19:38:59.320Z"
   },
   {
    "duration": 9,
    "start_time": "2023-01-21T19:38:59.337Z"
   },
   {
    "duration": 9,
    "start_time": "2023-01-21T19:38:59.348Z"
   },
   {
    "duration": 20,
    "start_time": "2023-01-21T19:38:59.359Z"
   },
   {
    "duration": 11,
    "start_time": "2023-01-21T19:38:59.381Z"
   },
   {
    "duration": 15,
    "start_time": "2023-01-21T19:38:59.394Z"
   },
   {
    "duration": 48,
    "start_time": "2023-01-21T19:38:59.411Z"
   },
   {
    "duration": 46,
    "start_time": "2023-01-21T19:38:59.461Z"
   },
   {
    "duration": 157,
    "start_time": "2023-01-21T19:40:59.885Z"
   },
   {
    "duration": 46,
    "start_time": "2023-01-21T19:41:15.773Z"
   },
   {
    "duration": 8,
    "start_time": "2023-01-21T19:48:41.197Z"
   },
   {
    "duration": 3,
    "start_time": "2023-01-21T19:48:42.062Z"
   },
   {
    "duration": 57,
    "start_time": "2023-01-21T19:48:43.118Z"
   },
   {
    "duration": 4,
    "start_time": "2023-01-21T19:50:57.518Z"
   },
   {
    "duration": 3,
    "start_time": "2023-01-21T19:50:58.056Z"
   },
   {
    "duration": 3,
    "start_time": "2023-01-21T19:51:18.526Z"
   },
   {
    "duration": 8,
    "start_time": "2023-01-21T19:51:19.855Z"
   },
   {
    "duration": 3,
    "start_time": "2023-01-21T19:51:21.023Z"
   },
   {
    "duration": 123,
    "start_time": "2023-01-21T19:51:24.622Z"
   },
   {
    "duration": 56,
    "start_time": "2023-01-21T19:51:50.159Z"
   },
   {
    "duration": 52,
    "start_time": "2023-01-21T19:54:20.279Z"
   },
   {
    "duration": 52,
    "start_time": "2023-01-21T19:57:14.655Z"
   },
   {
    "duration": 1652,
    "start_time": "2023-01-21T19:57:28.228Z"
   },
   {
    "duration": 790,
    "start_time": "2023-01-21T19:57:29.883Z"
   },
   {
    "duration": 4,
    "start_time": "2023-01-21T19:57:30.674Z"
   },
   {
    "duration": 504,
    "start_time": "2023-01-21T19:57:30.680Z"
   },
   {
    "duration": 225,
    "start_time": "2023-01-21T19:57:31.187Z"
   },
   {
    "duration": 439,
    "start_time": "2023-01-21T19:57:31.414Z"
   },
   {
    "duration": 29,
    "start_time": "2023-01-21T19:57:31.855Z"
   },
   {
    "duration": 78,
    "start_time": "2023-01-21T19:57:31.886Z"
   },
   {
    "duration": 10,
    "start_time": "2023-01-21T19:57:31.966Z"
   },
   {
    "duration": 62,
    "start_time": "2023-01-21T19:57:31.978Z"
   },
   {
    "duration": 61,
    "start_time": "2023-01-21T19:57:32.048Z"
   },
   {
    "duration": 37,
    "start_time": "2023-01-21T19:57:32.111Z"
   },
   {
    "duration": 53,
    "start_time": "2023-01-21T19:57:32.150Z"
   },
   {
    "duration": 3719,
    "start_time": "2023-01-21T19:57:32.207Z"
   },
   {
    "duration": 31,
    "start_time": "2023-01-21T19:57:35.928Z"
   },
   {
    "duration": 2886,
    "start_time": "2023-01-21T19:57:35.962Z"
   },
   {
    "duration": 21,
    "start_time": "2023-01-21T19:57:38.853Z"
   },
   {
    "duration": 2335,
    "start_time": "2023-01-21T19:57:38.876Z"
   },
   {
    "duration": 7,
    "start_time": "2023-01-21T19:57:41.213Z"
   },
   {
    "duration": 45,
    "start_time": "2023-01-21T19:57:41.221Z"
   },
   {
    "duration": 26,
    "start_time": "2023-01-21T19:57:41.268Z"
   },
   {
    "duration": 16,
    "start_time": "2023-01-21T19:57:41.297Z"
   },
   {
    "duration": 74,
    "start_time": "2023-01-21T19:57:41.315Z"
   },
   {
    "duration": 3,
    "start_time": "2023-01-21T19:57:41.392Z"
   },
   {
    "duration": 17,
    "start_time": "2023-01-21T19:57:41.397Z"
   },
   {
    "duration": 38,
    "start_time": "2023-01-21T19:57:41.416Z"
   },
   {
    "duration": 27,
    "start_time": "2023-01-21T19:57:41.456Z"
   },
   {
    "duration": 15,
    "start_time": "2023-01-21T19:57:41.484Z"
   },
   {
    "duration": 18,
    "start_time": "2023-01-21T19:57:41.501Z"
   },
   {
    "duration": 20,
    "start_time": "2023-01-21T19:57:41.521Z"
   },
   {
    "duration": 20,
    "start_time": "2023-01-21T19:57:41.543Z"
   },
   {
    "duration": 69,
    "start_time": "2023-01-21T19:57:41.566Z"
   },
   {
    "duration": 220,
    "start_time": "2023-01-21T19:59:50.465Z"
   },
   {
    "duration": 1669,
    "start_time": "2023-01-21T20:00:13.083Z"
   },
   {
    "duration": 958,
    "start_time": "2023-01-21T20:00:14.759Z"
   },
   {
    "duration": 6,
    "start_time": "2023-01-21T20:00:15.719Z"
   },
   {
    "duration": 508,
    "start_time": "2023-01-21T20:00:15.727Z"
   },
   {
    "duration": 227,
    "start_time": "2023-01-21T20:00:16.238Z"
   },
   {
    "duration": 484,
    "start_time": "2023-01-21T20:00:16.467Z"
   },
   {
    "duration": 36,
    "start_time": "2023-01-21T20:00:16.961Z"
   },
   {
    "duration": 59,
    "start_time": "2023-01-21T20:00:16.999Z"
   },
   {
    "duration": 18,
    "start_time": "2023-01-21T20:00:17.060Z"
   },
   {
    "duration": 8,
    "start_time": "2023-01-21T20:00:17.081Z"
   },
   {
    "duration": 53,
    "start_time": "2023-01-21T20:00:17.091Z"
   },
   {
    "duration": 33,
    "start_time": "2023-01-21T20:00:17.146Z"
   },
   {
    "duration": 35,
    "start_time": "2023-01-21T20:00:17.181Z"
   },
   {
    "duration": 4074,
    "start_time": "2023-01-21T20:00:17.218Z"
   },
   {
    "duration": 25,
    "start_time": "2023-01-21T20:00:21.294Z"
   },
   {
    "duration": 3108,
    "start_time": "2023-01-21T20:00:21.321Z"
   },
   {
    "duration": 25,
    "start_time": "2023-01-21T20:00:24.439Z"
   },
   {
    "duration": 2284,
    "start_time": "2023-01-21T20:00:24.466Z"
   },
   {
    "duration": 8,
    "start_time": "2023-01-21T20:00:26.752Z"
   },
   {
    "duration": 7,
    "start_time": "2023-01-21T20:00:26.762Z"
   },
   {
    "duration": 25,
    "start_time": "2023-01-21T20:00:26.771Z"
   },
   {
    "duration": 9,
    "start_time": "2023-01-21T20:00:26.798Z"
   },
   {
    "duration": 74,
    "start_time": "2023-01-21T20:00:26.838Z"
   },
   {
    "duration": 4,
    "start_time": "2023-01-21T20:00:26.913Z"
   },
   {
    "duration": 11,
    "start_time": "2023-01-21T20:00:26.918Z"
   },
   {
    "duration": 35,
    "start_time": "2023-01-21T20:00:26.930Z"
   },
   {
    "duration": 16,
    "start_time": "2023-01-21T20:00:26.967Z"
   },
   {
    "duration": 13,
    "start_time": "2023-01-21T20:00:26.986Z"
   },
   {
    "duration": 24,
    "start_time": "2023-01-21T20:00:27.001Z"
   },
   {
    "duration": 30,
    "start_time": "2023-01-21T20:00:27.027Z"
   },
   {
    "duration": 256,
    "start_time": "2023-01-21T20:00:27.059Z"
   },
   {
    "duration": 56,
    "start_time": "2023-01-21T20:00:56.691Z"
   },
   {
    "duration": 61,
    "start_time": "2023-01-21T20:01:41.167Z"
   },
   {
    "duration": 13,
    "start_time": "2023-01-21T20:03:16.217Z"
   },
   {
    "duration": 63,
    "start_time": "2023-01-21T20:04:05.540Z"
   },
   {
    "duration": 63,
    "start_time": "2023-01-21T20:04:21.221Z"
   },
   {
    "duration": 64,
    "start_time": "2023-01-21T20:07:54.737Z"
   },
   {
    "duration": 50,
    "start_time": "2023-01-21T20:08:06.598Z"
   },
   {
    "duration": 57,
    "start_time": "2023-01-21T20:08:45.251Z"
   },
   {
    "duration": 49,
    "start_time": "2023-01-21T20:08:50.171Z"
   },
   {
    "duration": 60,
    "start_time": "2023-01-21T20:08:55.292Z"
   },
   {
    "duration": 33,
    "start_time": "2023-01-21T20:11:10.354Z"
   },
   {
    "duration": 16,
    "start_time": "2023-01-21T20:13:42.230Z"
   },
   {
    "duration": 45,
    "start_time": "2023-01-21T20:14:31.360Z"
   },
   {
    "duration": 42,
    "start_time": "2023-01-21T20:14:58.558Z"
   },
   {
    "duration": 4,
    "start_time": "2023-01-21T20:26:18.959Z"
   },
   {
    "duration": 8,
    "start_time": "2023-01-21T20:26:20.752Z"
   },
   {
    "duration": 42,
    "start_time": "2023-01-21T20:26:42.878Z"
   },
   {
    "duration": 1453,
    "start_time": "2023-01-21T20:27:01.244Z"
   },
   {
    "duration": 712,
    "start_time": "2023-01-21T20:27:02.700Z"
   },
   {
    "duration": 3,
    "start_time": "2023-01-21T20:27:03.414Z"
   },
   {
    "duration": 399,
    "start_time": "2023-01-21T20:27:03.419Z"
   },
   {
    "duration": 184,
    "start_time": "2023-01-21T20:27:03.821Z"
   },
   {
    "duration": 405,
    "start_time": "2023-01-21T20:27:04.007Z"
   },
   {
    "duration": 31,
    "start_time": "2023-01-21T20:27:04.413Z"
   },
   {
    "duration": 27,
    "start_time": "2023-01-21T20:27:04.446Z"
   },
   {
    "duration": 6,
    "start_time": "2023-01-21T20:27:04.474Z"
   },
   {
    "duration": 8,
    "start_time": "2023-01-21T20:27:04.482Z"
   },
   {
    "duration": 46,
    "start_time": "2023-01-21T20:27:04.492Z"
   },
   {
    "duration": 12,
    "start_time": "2023-01-21T20:27:04.540Z"
   },
   {
    "duration": 10,
    "start_time": "2023-01-21T20:27:04.555Z"
   },
   {
    "duration": 3371,
    "start_time": "2023-01-21T20:27:04.569Z"
   },
   {
    "duration": 24,
    "start_time": "2023-01-21T20:27:07.942Z"
   },
   {
    "duration": 2512,
    "start_time": "2023-01-21T20:27:07.968Z"
   },
   {
    "duration": 18,
    "start_time": "2023-01-21T20:27:10.482Z"
   },
   {
    "duration": 2003,
    "start_time": "2023-01-21T20:27:10.502Z"
   },
   {
    "duration": 7,
    "start_time": "2023-01-21T20:27:12.507Z"
   },
   {
    "duration": 46,
    "start_time": "2023-01-21T20:27:12.516Z"
   },
   {
    "duration": 31,
    "start_time": "2023-01-21T20:27:12.565Z"
   },
   {
    "duration": 19,
    "start_time": "2023-01-21T20:27:12.599Z"
   },
   {
    "duration": 50,
    "start_time": "2023-01-21T20:27:12.620Z"
   },
   {
    "duration": 3,
    "start_time": "2023-01-21T20:27:12.672Z"
   },
   {
    "duration": 11,
    "start_time": "2023-01-21T20:27:12.677Z"
   },
   {
    "duration": 15,
    "start_time": "2023-01-21T20:27:12.690Z"
   },
   {
    "duration": 7,
    "start_time": "2023-01-21T20:27:12.707Z"
   },
   {
    "duration": 24,
    "start_time": "2023-01-21T20:27:12.716Z"
   },
   {
    "duration": 38,
    "start_time": "2023-01-21T20:27:12.742Z"
   },
   {
    "duration": 63,
    "start_time": "2023-01-21T20:27:12.782Z"
   },
   {
    "duration": 3,
    "start_time": "2023-01-21T20:34:30.232Z"
   },
   {
    "duration": 159,
    "start_time": "2023-01-21T20:34:31.464Z"
   },
   {
    "duration": 71,
    "start_time": "2023-01-21T20:35:30.057Z"
   },
   {
    "duration": 50,
    "start_time": "2023-01-21T20:35:57.592Z"
   },
   {
    "duration": 5,
    "start_time": "2023-01-21T20:37:08.065Z"
   },
   {
    "duration": 11,
    "start_time": "2023-01-21T20:37:08.856Z"
   },
   {
    "duration": 4,
    "start_time": "2023-01-21T20:37:51.816Z"
   },
   {
    "duration": 3,
    "start_time": "2023-01-21T20:37:52.399Z"
   },
   {
    "duration": 8,
    "start_time": "2023-01-21T20:37:54.832Z"
   },
   {
    "duration": 30,
    "start_time": "2023-01-21T20:37:56.192Z"
   },
   {
    "duration": 5,
    "start_time": "2023-01-21T20:37:58.644Z"
   },
   {
    "duration": 58,
    "start_time": "2023-01-21T20:38:01.632Z"
   },
   {
    "duration": 4,
    "start_time": "2023-01-21T20:39:20.060Z"
   },
   {
    "duration": 14,
    "start_time": "2023-01-21T20:46:12.292Z"
   },
   {
    "duration": 1539,
    "start_time": "2023-01-21T20:46:18.478Z"
   },
   {
    "duration": 834,
    "start_time": "2023-01-21T20:46:20.019Z"
   },
   {
    "duration": 4,
    "start_time": "2023-01-21T20:46:20.856Z"
   },
   {
    "duration": 471,
    "start_time": "2023-01-21T20:46:20.862Z"
   },
   {
    "duration": 206,
    "start_time": "2023-01-21T20:46:21.339Z"
   },
   {
    "duration": 428,
    "start_time": "2023-01-21T20:46:21.547Z"
   },
   {
    "duration": 23,
    "start_time": "2023-01-21T20:46:21.977Z"
   },
   {
    "duration": 45,
    "start_time": "2023-01-21T20:46:22.002Z"
   },
   {
    "duration": 14,
    "start_time": "2023-01-21T20:46:22.049Z"
   },
   {
    "duration": 34,
    "start_time": "2023-01-21T20:46:22.064Z"
   },
   {
    "duration": 39,
    "start_time": "2023-01-21T20:46:22.100Z"
   },
   {
    "duration": 34,
    "start_time": "2023-01-21T20:46:22.141Z"
   },
   {
    "duration": 41,
    "start_time": "2023-01-21T20:46:22.177Z"
   },
   {
    "duration": 3658,
    "start_time": "2023-01-21T20:46:22.222Z"
   },
   {
    "duration": 20,
    "start_time": "2023-01-21T20:46:25.882Z"
   },
   {
    "duration": 2719,
    "start_time": "2023-01-21T20:46:25.904Z"
   },
   {
    "duration": 27,
    "start_time": "2023-01-21T20:46:28.625Z"
   },
   {
    "duration": 2216,
    "start_time": "2023-01-21T20:46:28.654Z"
   },
   {
    "duration": 8,
    "start_time": "2023-01-21T20:46:30.872Z"
   },
   {
    "duration": 60,
    "start_time": "2023-01-21T20:46:30.882Z"
   },
   {
    "duration": 89,
    "start_time": "2023-01-21T20:46:30.944Z"
   },
   {
    "duration": 36,
    "start_time": "2023-01-21T20:46:31.035Z"
   },
   {
    "duration": 68,
    "start_time": "2023-01-21T20:46:31.073Z"
   },
   {
    "duration": 15,
    "start_time": "2023-01-21T20:46:31.143Z"
   },
   {
    "duration": 12,
    "start_time": "2023-01-21T20:46:31.160Z"
   },
   {
    "duration": 52,
    "start_time": "2023-01-21T20:46:31.174Z"
   },
   {
    "duration": 50,
    "start_time": "2023-01-21T20:46:31.228Z"
   },
   {
    "duration": 62,
    "start_time": "2023-01-21T20:46:31.279Z"
   },
   {
    "duration": 27,
    "start_time": "2023-01-21T20:46:31.343Z"
   },
   {
    "duration": 44,
    "start_time": "2023-01-21T20:46:31.372Z"
   },
   {
    "duration": 39,
    "start_time": "2023-01-21T20:46:31.418Z"
   },
   {
    "duration": 58,
    "start_time": "2023-01-21T20:46:31.458Z"
   },
   {
    "duration": 1706,
    "start_time": "2023-01-21T20:46:31.518Z"
   },
   {
    "duration": 3345,
    "start_time": "2023-01-21T20:46:56.797Z"
   },
   {
    "duration": 3,
    "start_time": "2023-01-21T20:47:27.921Z"
   },
   {
    "duration": 1488,
    "start_time": "2023-01-22T06:35:30.057Z"
   },
   {
    "duration": 3043,
    "start_time": "2023-01-22T06:35:31.548Z"
   },
   {
    "duration": 4,
    "start_time": "2023-01-22T06:35:34.593Z"
   },
   {
    "duration": 362,
    "start_time": "2023-01-22T06:35:34.599Z"
   },
   {
    "duration": 167,
    "start_time": "2023-01-22T06:35:34.963Z"
   },
   {
    "duration": 426,
    "start_time": "2023-01-22T06:35:35.132Z"
   },
   {
    "duration": 20,
    "start_time": "2023-01-22T06:35:35.559Z"
   },
   {
    "duration": 25,
    "start_time": "2023-01-22T06:35:35.580Z"
   },
   {
    "duration": 5,
    "start_time": "2023-01-22T06:35:35.607Z"
   },
   {
    "duration": 37,
    "start_time": "2023-01-22T06:35:35.613Z"
   },
   {
    "duration": 8,
    "start_time": "2023-01-22T06:35:35.652Z"
   },
   {
    "duration": 8,
    "start_time": "2023-01-22T06:35:35.662Z"
   },
   {
    "duration": 7,
    "start_time": "2023-01-22T06:35:35.671Z"
   },
   {
    "duration": 2914,
    "start_time": "2023-01-22T06:35:35.681Z"
   },
   {
    "duration": 21,
    "start_time": "2023-01-22T06:35:38.596Z"
   },
   {
    "duration": 2324,
    "start_time": "2023-01-22T06:35:38.619Z"
   },
   {
    "duration": 23,
    "start_time": "2023-01-22T06:35:40.944Z"
   },
   {
    "duration": 1727,
    "start_time": "2023-01-22T06:35:40.969Z"
   },
   {
    "duration": 6,
    "start_time": "2023-01-22T06:35:42.697Z"
   },
   {
    "duration": 8,
    "start_time": "2023-01-22T06:35:42.704Z"
   },
   {
    "duration": 17,
    "start_time": "2023-01-22T06:35:42.714Z"
   },
   {
    "duration": 7,
    "start_time": "2023-01-22T06:35:42.748Z"
   },
   {
    "duration": 37,
    "start_time": "2023-01-22T06:35:42.756Z"
   },
   {
    "duration": 14,
    "start_time": "2023-01-22T06:35:42.794Z"
   },
   {
    "duration": 3,
    "start_time": "2023-01-22T06:35:42.812Z"
   },
   {
    "duration": 32,
    "start_time": "2023-01-22T06:35:42.816Z"
   },
   {
    "duration": 8,
    "start_time": "2023-01-22T06:35:42.849Z"
   },
   {
    "duration": 12,
    "start_time": "2023-01-22T06:35:42.859Z"
   },
   {
    "duration": 9,
    "start_time": "2023-01-22T06:35:42.873Z"
   },
   {
    "duration": 10,
    "start_time": "2023-01-22T06:35:42.883Z"
   },
   {
    "duration": 141,
    "start_time": "2023-01-22T06:35:42.894Z"
   },
   {
    "duration": 2,
    "start_time": "2023-01-22T06:35:43.037Z"
   },
   {
    "duration": 3109,
    "start_time": "2023-01-22T06:35:43.048Z"
   },
   {
    "duration": 91,
    "start_time": "2023-01-22T06:35:46.159Z"
   },
   {
    "duration": 1368,
    "start_time": "2023-01-22T06:40:03.368Z"
   },
   {
    "duration": 728,
    "start_time": "2023-01-22T06:40:04.738Z"
   },
   {
    "duration": 3,
    "start_time": "2023-01-22T06:40:05.468Z"
   },
   {
    "duration": 377,
    "start_time": "2023-01-22T06:40:05.472Z"
   },
   {
    "duration": 173,
    "start_time": "2023-01-22T06:40:05.851Z"
   },
   {
    "duration": 360,
    "start_time": "2023-01-22T06:40:06.026Z"
   },
   {
    "duration": 22,
    "start_time": "2023-01-22T06:40:06.388Z"
   },
   {
    "duration": 42,
    "start_time": "2023-01-22T06:40:06.411Z"
   },
   {
    "duration": 6,
    "start_time": "2023-01-22T06:40:06.454Z"
   },
   {
    "duration": 9,
    "start_time": "2023-01-22T06:40:06.462Z"
   },
   {
    "duration": 7,
    "start_time": "2023-01-22T06:40:06.472Z"
   },
   {
    "duration": 8,
    "start_time": "2023-01-22T06:40:06.480Z"
   },
   {
    "duration": 6,
    "start_time": "2023-01-22T06:40:06.490Z"
   },
   {
    "duration": 2885,
    "start_time": "2023-01-22T06:40:06.498Z"
   },
   {
    "duration": 17,
    "start_time": "2023-01-22T06:40:09.385Z"
   },
   {
    "duration": 2341,
    "start_time": "2023-01-22T06:40:09.403Z"
   },
   {
    "duration": 17,
    "start_time": "2023-01-22T06:40:11.745Z"
   },
   {
    "duration": 1824,
    "start_time": "2023-01-22T06:40:11.764Z"
   },
   {
    "duration": 6,
    "start_time": "2023-01-22T06:40:13.590Z"
   },
   {
    "duration": 11,
    "start_time": "2023-01-22T06:40:13.598Z"
   },
   {
    "duration": 23,
    "start_time": "2023-01-22T06:40:13.610Z"
   },
   {
    "duration": 18,
    "start_time": "2023-01-22T06:40:13.635Z"
   },
   {
    "duration": 42,
    "start_time": "2023-01-22T06:40:13.655Z"
   },
   {
    "duration": 14,
    "start_time": "2023-01-22T06:40:13.698Z"
   },
   {
    "duration": 5,
    "start_time": "2023-01-22T06:40:13.714Z"
   },
   {
    "duration": 32,
    "start_time": "2023-01-22T06:40:13.720Z"
   },
   {
    "duration": 7,
    "start_time": "2023-01-22T06:40:13.754Z"
   },
   {
    "duration": 6,
    "start_time": "2023-01-22T06:40:13.764Z"
   },
   {
    "duration": 10,
    "start_time": "2023-01-22T06:40:13.772Z"
   },
   {
    "duration": 31,
    "start_time": "2023-01-22T06:40:13.784Z"
   },
   {
    "duration": 3,
    "start_time": "2023-01-22T06:40:13.816Z"
   },
   {
    "duration": 2928,
    "start_time": "2023-01-22T06:40:13.821Z"
   },
   {
    "duration": 3,
    "start_time": "2023-01-22T06:40:16.751Z"
   },
   {
    "duration": 6,
    "start_time": "2023-01-22T06:45:44.365Z"
   },
   {
    "duration": 6,
    "start_time": "2023-01-22T06:45:50.562Z"
   },
   {
    "duration": 5,
    "start_time": "2023-01-22T06:54:15.196Z"
   },
   {
    "duration": 2,
    "start_time": "2023-01-22T06:55:11.005Z"
   },
   {
    "duration": 3,
    "start_time": "2023-01-22T06:55:12.670Z"
   },
   {
    "duration": 2277,
    "start_time": "2023-01-22T07:04:20.375Z"
   },
   {
    "duration": 1779,
    "start_time": "2023-01-22T07:04:42.873Z"
   },
   {
    "duration": 1506,
    "start_time": "2023-01-22T07:05:30.752Z"
   },
   {
    "duration": 5035,
    "start_time": "2023-01-22T07:05:46.473Z"
   },
   {
    "duration": 4811,
    "start_time": "2023-01-22T07:06:05.984Z"
   },
   {
    "duration": 102,
    "start_time": "2023-01-22T07:09:12.571Z"
   },
   {
    "duration": 1302,
    "start_time": "2023-01-22T07:30:30.664Z"
   },
   {
    "duration": 686,
    "start_time": "2023-01-22T07:30:31.968Z"
   },
   {
    "duration": 3,
    "start_time": "2023-01-22T07:30:32.656Z"
   },
   {
    "duration": 378,
    "start_time": "2023-01-22T07:30:32.661Z"
   },
   {
    "duration": 164,
    "start_time": "2023-01-22T07:30:33.042Z"
   },
   {
    "duration": 357,
    "start_time": "2023-01-22T07:30:33.207Z"
   },
   {
    "duration": 21,
    "start_time": "2023-01-22T07:30:33.566Z"
   },
   {
    "duration": 27,
    "start_time": "2023-01-22T07:30:33.589Z"
   },
   {
    "duration": 35,
    "start_time": "2023-01-22T07:30:33.617Z"
   },
   {
    "duration": 7,
    "start_time": "2023-01-22T07:30:33.653Z"
   },
   {
    "duration": 10,
    "start_time": "2023-01-22T07:30:33.662Z"
   },
   {
    "duration": 10,
    "start_time": "2023-01-22T07:30:33.673Z"
   },
   {
    "duration": 7,
    "start_time": "2023-01-22T07:30:33.685Z"
   },
   {
    "duration": 2985,
    "start_time": "2023-01-22T07:30:33.695Z"
   },
   {
    "duration": 16,
    "start_time": "2023-01-22T07:30:36.681Z"
   },
   {
    "duration": 2190,
    "start_time": "2023-01-22T07:30:36.698Z"
   },
   {
    "duration": 21,
    "start_time": "2023-01-22T07:30:38.890Z"
   },
   {
    "duration": 1765,
    "start_time": "2023-01-22T07:30:38.913Z"
   },
   {
    "duration": 6,
    "start_time": "2023-01-22T07:30:40.679Z"
   },
   {
    "duration": 10,
    "start_time": "2023-01-22T07:30:40.687Z"
   },
   {
    "duration": 18,
    "start_time": "2023-01-22T07:30:40.699Z"
   },
   {
    "duration": 30,
    "start_time": "2023-01-22T07:30:40.718Z"
   },
   {
    "duration": 36,
    "start_time": "2023-01-22T07:30:40.749Z"
   },
   {
    "duration": 14,
    "start_time": "2023-01-22T07:30:40.787Z"
   },
   {
    "duration": 6,
    "start_time": "2023-01-22T07:30:40.802Z"
   },
   {
    "duration": 39,
    "start_time": "2023-01-22T07:30:40.810Z"
   },
   {
    "duration": 5,
    "start_time": "2023-01-22T07:30:40.851Z"
   },
   {
    "duration": 5,
    "start_time": "2023-01-22T07:30:40.857Z"
   },
   {
    "duration": 4,
    "start_time": "2023-01-22T07:30:40.864Z"
   },
   {
    "duration": 11,
    "start_time": "2023-01-22T07:30:40.869Z"
   },
   {
    "duration": 26,
    "start_time": "2023-01-22T07:30:40.882Z"
   },
   {
    "duration": 149,
    "start_time": "2023-01-22T07:30:40.910Z"
   },
   {
    "duration": 11608,
    "start_time": "2023-01-22T07:30:41.061Z"
   },
   {
    "duration": 2178,
    "start_time": "2023-01-22T07:30:52.671Z"
   },
   {
    "duration": 1238,
    "start_time": "2023-01-22T07:32:27.603Z"
   },
   {
    "duration": 691,
    "start_time": "2023-01-22T07:32:28.844Z"
   },
   {
    "duration": 3,
    "start_time": "2023-01-22T07:32:29.537Z"
   },
   {
    "duration": 374,
    "start_time": "2023-01-22T07:32:29.548Z"
   },
   {
    "duration": 171,
    "start_time": "2023-01-22T07:32:29.923Z"
   },
   {
    "duration": 354,
    "start_time": "2023-01-22T07:32:30.096Z"
   },
   {
    "duration": 20,
    "start_time": "2023-01-22T07:32:30.452Z"
   },
   {
    "duration": 89,
    "start_time": "2023-01-22T07:32:30.474Z"
   },
   {
    "duration": 18,
    "start_time": "2023-01-22T07:32:30.565Z"
   },
   {
    "duration": 47,
    "start_time": "2023-01-22T07:32:30.585Z"
   },
   {
    "duration": 33,
    "start_time": "2023-01-22T07:32:30.634Z"
   },
   {
    "duration": 55,
    "start_time": "2023-01-22T07:32:30.669Z"
   },
   {
    "duration": 54,
    "start_time": "2023-01-22T07:32:30.725Z"
   },
   {
    "duration": 2946,
    "start_time": "2023-01-22T07:32:30.781Z"
   },
   {
    "duration": 17,
    "start_time": "2023-01-22T07:32:33.728Z"
   },
   {
    "duration": 2372,
    "start_time": "2023-01-22T07:32:33.746Z"
   },
   {
    "duration": 17,
    "start_time": "2023-01-22T07:32:36.120Z"
   },
   {
    "duration": 1885,
    "start_time": "2023-01-22T07:32:36.148Z"
   },
   {
    "duration": 13,
    "start_time": "2023-01-22T07:32:38.035Z"
   },
   {
    "duration": 19,
    "start_time": "2023-01-22T07:32:38.050Z"
   },
   {
    "duration": 24,
    "start_time": "2023-01-22T07:32:38.071Z"
   },
   {
    "duration": 14,
    "start_time": "2023-01-22T07:32:38.097Z"
   },
   {
    "duration": 58,
    "start_time": "2023-01-22T07:32:38.113Z"
   },
   {
    "duration": 14,
    "start_time": "2023-01-22T07:32:38.173Z"
   },
   {
    "duration": 28,
    "start_time": "2023-01-22T07:32:38.189Z"
   },
   {
    "duration": 16,
    "start_time": "2023-01-22T07:32:38.219Z"
   },
   {
    "duration": 9,
    "start_time": "2023-01-22T07:32:38.236Z"
   },
   {
    "duration": 15,
    "start_time": "2023-01-22T07:32:38.248Z"
   },
   {
    "duration": 18,
    "start_time": "2023-01-22T07:32:38.264Z"
   },
   {
    "duration": 13,
    "start_time": "2023-01-22T07:32:38.284Z"
   },
   {
    "duration": 30,
    "start_time": "2023-01-22T07:32:38.299Z"
   },
   {
    "duration": 156,
    "start_time": "2023-01-22T07:32:38.330Z"
   },
   {
    "duration": 11505,
    "start_time": "2023-01-22T07:32:38.487Z"
   },
   {
    "duration": 2161,
    "start_time": "2023-01-22T07:32:49.994Z"
   },
   {
    "duration": 5000,
    "start_time": "2023-01-22T07:33:36.570Z"
   },
   {
    "duration": 11385,
    "start_time": "2023-01-22T07:34:07.329Z"
   },
   {
    "duration": 2270,
    "start_time": "2023-01-22T07:34:23.378Z"
   },
   {
    "duration": 1318,
    "start_time": "2023-01-22T07:38:37.192Z"
   },
   {
    "duration": 735,
    "start_time": "2023-01-22T07:38:38.512Z"
   },
   {
    "duration": 3,
    "start_time": "2023-01-22T07:38:39.249Z"
   },
   {
    "duration": 374,
    "start_time": "2023-01-22T07:38:39.253Z"
   },
   {
    "duration": 164,
    "start_time": "2023-01-22T07:38:39.630Z"
   },
   {
    "duration": 374,
    "start_time": "2023-01-22T07:38:39.795Z"
   },
   {
    "duration": 22,
    "start_time": "2023-01-22T07:38:40.171Z"
   },
   {
    "duration": 27,
    "start_time": "2023-01-22T07:38:40.195Z"
   },
   {
    "duration": 7,
    "start_time": "2023-01-22T07:38:40.249Z"
   },
   {
    "duration": 12,
    "start_time": "2023-01-22T07:38:40.258Z"
   },
   {
    "duration": 8,
    "start_time": "2023-01-22T07:38:40.272Z"
   },
   {
    "duration": 12,
    "start_time": "2023-01-22T07:38:40.282Z"
   },
   {
    "duration": 8,
    "start_time": "2023-01-22T07:38:40.296Z"
   },
   {
    "duration": 3016,
    "start_time": "2023-01-22T07:38:40.307Z"
   },
   {
    "duration": 17,
    "start_time": "2023-01-22T07:38:43.324Z"
   },
   {
    "duration": 2342,
    "start_time": "2023-01-22T07:38:43.343Z"
   },
   {
    "duration": 17,
    "start_time": "2023-01-22T07:38:45.687Z"
   },
   {
    "duration": 1751,
    "start_time": "2023-01-22T07:38:45.705Z"
   },
   {
    "duration": 6,
    "start_time": "2023-01-22T07:38:47.458Z"
   },
   {
    "duration": 11,
    "start_time": "2023-01-22T07:38:47.465Z"
   },
   {
    "duration": 19,
    "start_time": "2023-01-22T07:38:47.478Z"
   },
   {
    "duration": 7,
    "start_time": "2023-01-22T07:38:47.499Z"
   },
   {
    "duration": 58,
    "start_time": "2023-01-22T07:38:47.507Z"
   },
   {
    "duration": 15,
    "start_time": "2023-01-22T07:38:47.566Z"
   },
   {
    "duration": 5,
    "start_time": "2023-01-22T07:38:47.582Z"
   },
   {
    "duration": 10,
    "start_time": "2023-01-22T07:38:47.589Z"
   },
   {
    "duration": 8,
    "start_time": "2023-01-22T07:38:47.601Z"
   },
   {
    "duration": 5,
    "start_time": "2023-01-22T07:38:47.611Z"
   },
   {
    "duration": 6,
    "start_time": "2023-01-22T07:38:47.618Z"
   },
   {
    "duration": 29,
    "start_time": "2023-01-22T07:38:47.626Z"
   },
   {
    "duration": 30,
    "start_time": "2023-01-22T07:38:47.657Z"
   },
   {
    "duration": 158,
    "start_time": "2023-01-22T07:38:47.689Z"
   },
   {
    "duration": 1329,
    "start_time": "2023-01-22T07:39:59.706Z"
   },
   {
    "duration": 711,
    "start_time": "2023-01-22T07:40:01.037Z"
   },
   {
    "duration": 4,
    "start_time": "2023-01-22T07:40:01.751Z"
   },
   {
    "duration": 415,
    "start_time": "2023-01-22T07:40:01.757Z"
   },
   {
    "duration": 177,
    "start_time": "2023-01-22T07:40:02.175Z"
   },
   {
    "duration": 356,
    "start_time": "2023-01-22T07:40:02.354Z"
   },
   {
    "duration": 22,
    "start_time": "2023-01-22T07:40:02.712Z"
   },
   {
    "duration": 39,
    "start_time": "2023-01-22T07:40:02.748Z"
   },
   {
    "duration": 5,
    "start_time": "2023-01-22T07:40:02.789Z"
   },
   {
    "duration": 15,
    "start_time": "2023-01-22T07:40:02.796Z"
   },
   {
    "duration": 30,
    "start_time": "2023-01-22T07:40:02.812Z"
   },
   {
    "duration": 24,
    "start_time": "2023-01-22T07:40:02.844Z"
   },
   {
    "duration": 25,
    "start_time": "2023-01-22T07:40:02.870Z"
   },
   {
    "duration": 3069,
    "start_time": "2023-01-22T07:40:02.898Z"
   },
   {
    "duration": 18,
    "start_time": "2023-01-22T07:40:05.969Z"
   },
   {
    "duration": 2295,
    "start_time": "2023-01-22T07:40:05.990Z"
   },
   {
    "duration": 15,
    "start_time": "2023-01-22T07:40:08.287Z"
   },
   {
    "duration": 1803,
    "start_time": "2023-01-22T07:40:08.304Z"
   },
   {
    "duration": 5,
    "start_time": "2023-01-22T07:40:10.108Z"
   },
   {
    "duration": 89,
    "start_time": "2023-01-22T07:40:10.115Z"
   },
   {
    "duration": 22,
    "start_time": "2023-01-22T07:40:10.206Z"
   },
   {
    "duration": 8,
    "start_time": "2023-01-22T07:40:10.230Z"
   },
   {
    "duration": 45,
    "start_time": "2023-01-22T07:40:10.239Z"
   },
   {
    "duration": 14,
    "start_time": "2023-01-22T07:40:10.285Z"
   },
   {
    "duration": 5,
    "start_time": "2023-01-22T07:40:10.301Z"
   },
   {
    "duration": 5,
    "start_time": "2023-01-22T07:40:10.307Z"
   },
   {
    "duration": 7,
    "start_time": "2023-01-22T07:40:10.313Z"
   },
   {
    "duration": 6,
    "start_time": "2023-01-22T07:40:10.321Z"
   },
   {
    "duration": 25,
    "start_time": "2023-01-22T07:40:10.328Z"
   },
   {
    "duration": 9,
    "start_time": "2023-01-22T07:40:10.355Z"
   },
   {
    "duration": 23,
    "start_time": "2023-01-22T07:40:10.365Z"
   },
   {
    "duration": 4870,
    "start_time": "2023-01-22T07:40:10.390Z"
   },
   {
    "duration": 1344,
    "start_time": "2023-01-22T07:41:46.254Z"
   },
   {
    "duration": 706,
    "start_time": "2023-01-22T07:41:47.600Z"
   },
   {
    "duration": 3,
    "start_time": "2023-01-22T07:41:48.308Z"
   },
   {
    "duration": 377,
    "start_time": "2023-01-22T07:41:48.313Z"
   },
   {
    "duration": 165,
    "start_time": "2023-01-22T07:41:48.691Z"
   },
   {
    "duration": 336,
    "start_time": "2023-01-22T07:41:48.857Z"
   },
   {
    "duration": 21,
    "start_time": "2023-01-22T07:41:49.195Z"
   },
   {
    "duration": 38,
    "start_time": "2023-01-22T07:41:49.217Z"
   },
   {
    "duration": 6,
    "start_time": "2023-01-22T07:41:49.257Z"
   },
   {
    "duration": 6,
    "start_time": "2023-01-22T07:41:49.264Z"
   },
   {
    "duration": 6,
    "start_time": "2023-01-22T07:41:49.271Z"
   },
   {
    "duration": 7,
    "start_time": "2023-01-22T07:41:49.279Z"
   },
   {
    "duration": 7,
    "start_time": "2023-01-22T07:41:49.289Z"
   },
   {
    "duration": 2994,
    "start_time": "2023-01-22T07:41:49.297Z"
   },
   {
    "duration": 16,
    "start_time": "2023-01-22T07:41:52.292Z"
   },
   {
    "duration": 2271,
    "start_time": "2023-01-22T07:41:52.310Z"
   },
   {
    "duration": 16,
    "start_time": "2023-01-22T07:41:54.582Z"
   },
   {
    "duration": 1860,
    "start_time": "2023-01-22T07:41:54.600Z"
   },
   {
    "duration": 5,
    "start_time": "2023-01-22T07:41:56.462Z"
   },
   {
    "duration": 6,
    "start_time": "2023-01-22T07:41:56.469Z"
   },
   {
    "duration": 17,
    "start_time": "2023-01-22T07:41:56.477Z"
   },
   {
    "duration": 7,
    "start_time": "2023-01-22T07:41:56.495Z"
   },
   {
    "duration": 61,
    "start_time": "2023-01-22T07:41:56.504Z"
   },
   {
    "duration": 13,
    "start_time": "2023-01-22T07:41:56.567Z"
   },
   {
    "duration": 5,
    "start_time": "2023-01-22T07:41:56.582Z"
   },
   {
    "duration": 4,
    "start_time": "2023-01-22T07:41:56.589Z"
   },
   {
    "duration": 4,
    "start_time": "2023-01-22T07:41:56.595Z"
   },
   {
    "duration": 4,
    "start_time": "2023-01-22T07:41:56.601Z"
   },
   {
    "duration": 4,
    "start_time": "2023-01-22T07:41:56.607Z"
   },
   {
    "duration": 36,
    "start_time": "2023-01-22T07:41:56.612Z"
   },
   {
    "duration": 24,
    "start_time": "2023-01-22T07:41:56.649Z"
   },
   {
    "duration": 4952,
    "start_time": "2023-01-22T07:41:56.675Z"
   },
   {
    "duration": 1292,
    "start_time": "2023-01-22T07:43:38.084Z"
   },
   {
    "duration": 708,
    "start_time": "2023-01-22T07:43:39.378Z"
   },
   {
    "duration": 3,
    "start_time": "2023-01-22T07:43:40.088Z"
   },
   {
    "duration": 371,
    "start_time": "2023-01-22T07:43:40.093Z"
   },
   {
    "duration": 164,
    "start_time": "2023-01-22T07:43:40.466Z"
   },
   {
    "duration": 352,
    "start_time": "2023-01-22T07:43:40.632Z"
   },
   {
    "duration": 20,
    "start_time": "2023-01-22T07:43:40.985Z"
   },
   {
    "duration": 46,
    "start_time": "2023-01-22T07:43:41.007Z"
   },
   {
    "duration": 5,
    "start_time": "2023-01-22T07:43:41.055Z"
   },
   {
    "duration": 6,
    "start_time": "2023-01-22T07:43:41.062Z"
   },
   {
    "duration": 7,
    "start_time": "2023-01-22T07:43:41.069Z"
   },
   {
    "duration": 11,
    "start_time": "2023-01-22T07:43:41.077Z"
   },
   {
    "duration": 7,
    "start_time": "2023-01-22T07:43:41.089Z"
   },
   {
    "duration": 3040,
    "start_time": "2023-01-22T07:43:41.099Z"
   },
   {
    "duration": 17,
    "start_time": "2023-01-22T07:43:44.141Z"
   },
   {
    "duration": 2434,
    "start_time": "2023-01-22T07:43:44.160Z"
   },
   {
    "duration": 17,
    "start_time": "2023-01-22T07:43:46.596Z"
   },
   {
    "duration": 1826,
    "start_time": "2023-01-22T07:43:46.614Z"
   },
   {
    "duration": 6,
    "start_time": "2023-01-22T07:43:48.447Z"
   },
   {
    "duration": 11,
    "start_time": "2023-01-22T07:43:48.454Z"
   },
   {
    "duration": 17,
    "start_time": "2023-01-22T07:43:48.466Z"
   },
   {
    "duration": 8,
    "start_time": "2023-01-22T07:43:48.485Z"
   },
   {
    "duration": 54,
    "start_time": "2023-01-22T07:43:48.495Z"
   },
   {
    "duration": 14,
    "start_time": "2023-01-22T07:43:48.551Z"
   },
   {
    "duration": 5,
    "start_time": "2023-01-22T07:43:48.567Z"
   },
   {
    "duration": 5,
    "start_time": "2023-01-22T07:43:48.574Z"
   },
   {
    "duration": 5,
    "start_time": "2023-01-22T07:43:48.581Z"
   },
   {
    "duration": 18,
    "start_time": "2023-01-22T07:43:48.588Z"
   },
   {
    "duration": 14,
    "start_time": "2023-01-22T07:43:48.608Z"
   },
   {
    "duration": 10,
    "start_time": "2023-01-22T07:43:48.623Z"
   },
   {
    "duration": 36,
    "start_time": "2023-01-22T07:43:48.635Z"
   },
   {
    "duration": 4899,
    "start_time": "2023-01-22T07:43:48.672Z"
   },
   {
    "duration": 1300,
    "start_time": "2023-01-22T07:45:05.175Z"
   },
   {
    "duration": 689,
    "start_time": "2023-01-22T07:45:06.477Z"
   },
   {
    "duration": 3,
    "start_time": "2023-01-22T07:45:07.168Z"
   },
   {
    "duration": 360,
    "start_time": "2023-01-22T07:45:07.173Z"
   },
   {
    "duration": 164,
    "start_time": "2023-01-22T07:45:07.535Z"
   },
   {
    "duration": 365,
    "start_time": "2023-01-22T07:45:07.700Z"
   },
   {
    "duration": 21,
    "start_time": "2023-01-22T07:45:08.067Z"
   },
   {
    "duration": 27,
    "start_time": "2023-01-22T07:45:08.089Z"
   },
   {
    "duration": 5,
    "start_time": "2023-01-22T07:45:08.117Z"
   },
   {
    "duration": 5,
    "start_time": "2023-01-22T07:45:08.124Z"
   },
   {
    "duration": 18,
    "start_time": "2023-01-22T07:45:08.130Z"
   },
   {
    "duration": 7,
    "start_time": "2023-01-22T07:45:08.150Z"
   },
   {
    "duration": 6,
    "start_time": "2023-01-22T07:45:08.159Z"
   },
   {
    "duration": 2987,
    "start_time": "2023-01-22T07:45:08.168Z"
   },
   {
    "duration": 17,
    "start_time": "2023-01-22T07:45:11.156Z"
   },
   {
    "duration": 2275,
    "start_time": "2023-01-22T07:45:11.174Z"
   },
   {
    "duration": 15,
    "start_time": "2023-01-22T07:45:13.451Z"
   },
   {
    "duration": 1786,
    "start_time": "2023-01-22T07:45:13.467Z"
   },
   {
    "duration": 5,
    "start_time": "2023-01-22T07:45:15.256Z"
   },
   {
    "duration": 18,
    "start_time": "2023-01-22T07:45:15.263Z"
   },
   {
    "duration": 27,
    "start_time": "2023-01-22T07:45:15.284Z"
   },
   {
    "duration": 10,
    "start_time": "2023-01-22T07:45:15.313Z"
   },
   {
    "duration": 57,
    "start_time": "2023-01-22T07:45:15.325Z"
   },
   {
    "duration": 13,
    "start_time": "2023-01-22T07:45:15.384Z"
   },
   {
    "duration": 5,
    "start_time": "2023-01-22T07:45:15.399Z"
   },
   {
    "duration": 6,
    "start_time": "2023-01-22T07:45:15.405Z"
   },
   {
    "duration": 17,
    "start_time": "2023-01-22T07:45:15.412Z"
   },
   {
    "duration": 18,
    "start_time": "2023-01-22T07:45:15.431Z"
   },
   {
    "duration": 5,
    "start_time": "2023-01-22T07:45:15.451Z"
   },
   {
    "duration": 11,
    "start_time": "2023-01-22T07:45:15.457Z"
   },
   {
    "duration": 31,
    "start_time": "2023-01-22T07:45:15.469Z"
   },
   {
    "duration": 4950,
    "start_time": "2023-01-22T07:45:15.501Z"
   },
   {
    "duration": 39274,
    "start_time": "2023-01-22T07:45:20.452Z"
   },
   {
    "duration": 2224,
    "start_time": "2023-01-22T07:45:59.728Z"
   },
   {
    "duration": 102,
    "start_time": "2023-01-22T07:52:08.271Z"
   },
   {
    "duration": 38854,
    "start_time": "2023-01-22T07:52:22.847Z"
   },
   {
    "duration": 48,
    "start_time": "2023-01-22T07:53:51.896Z"
   },
   {
    "duration": 63,
    "start_time": "2023-01-22T07:54:08.730Z"
   },
   {
    "duration": 54,
    "start_time": "2023-01-22T07:54:34.776Z"
   },
   {
    "duration": 50,
    "start_time": "2023-01-22T07:54:40.704Z"
   },
   {
    "duration": 68,
    "start_time": "2023-01-22T07:54:46.888Z"
   },
   {
    "duration": 1357,
    "start_time": "2023-01-22T07:55:28.731Z"
   },
   {
    "duration": 715,
    "start_time": "2023-01-22T07:55:30.090Z"
   },
   {
    "duration": 6,
    "start_time": "2023-01-22T07:55:30.807Z"
   },
   {
    "duration": 392,
    "start_time": "2023-01-22T07:55:30.815Z"
   },
   {
    "duration": 201,
    "start_time": "2023-01-22T07:55:31.210Z"
   },
   {
    "duration": 362,
    "start_time": "2023-01-22T07:55:31.412Z"
   },
   {
    "duration": 22,
    "start_time": "2023-01-22T07:55:31.776Z"
   },
   {
    "duration": 52,
    "start_time": "2023-01-22T07:55:31.800Z"
   },
   {
    "duration": 7,
    "start_time": "2023-01-22T07:55:31.854Z"
   },
   {
    "duration": 12,
    "start_time": "2023-01-22T07:55:31.864Z"
   },
   {
    "duration": 28,
    "start_time": "2023-01-22T07:55:31.878Z"
   },
   {
    "duration": 15,
    "start_time": "2023-01-22T07:55:31.907Z"
   },
   {
    "duration": 16,
    "start_time": "2023-01-22T07:55:31.924Z"
   },
   {
    "duration": 2970,
    "start_time": "2023-01-22T07:55:31.941Z"
   },
   {
    "duration": 21,
    "start_time": "2023-01-22T07:55:34.913Z"
   },
   {
    "duration": 2226,
    "start_time": "2023-01-22T07:55:34.935Z"
   },
   {
    "duration": 16,
    "start_time": "2023-01-22T07:55:37.162Z"
   },
   {
    "duration": 1799,
    "start_time": "2023-01-22T07:55:37.179Z"
   },
   {
    "duration": 5,
    "start_time": "2023-01-22T07:55:38.980Z"
   },
   {
    "duration": 8,
    "start_time": "2023-01-22T07:55:38.986Z"
   },
   {
    "duration": 21,
    "start_time": "2023-01-22T07:55:38.996Z"
   },
   {
    "duration": 8,
    "start_time": "2023-01-22T07:55:39.019Z"
   },
   {
    "duration": 44,
    "start_time": "2023-01-22T07:55:39.049Z"
   },
   {
    "duration": 14,
    "start_time": "2023-01-22T07:55:39.095Z"
   },
   {
    "duration": 6,
    "start_time": "2023-01-22T07:55:39.111Z"
   },
   {
    "duration": 5,
    "start_time": "2023-01-22T07:55:39.148Z"
   },
   {
    "duration": 6,
    "start_time": "2023-01-22T07:55:39.155Z"
   },
   {
    "duration": 3,
    "start_time": "2023-01-22T07:55:39.164Z"
   },
   {
    "duration": 10,
    "start_time": "2023-01-22T07:55:39.169Z"
   },
   {
    "duration": 20,
    "start_time": "2023-01-22T07:55:39.180Z"
   },
   {
    "duration": 30,
    "start_time": "2023-01-22T07:55:39.202Z"
   },
   {
    "duration": 4881,
    "start_time": "2023-01-22T07:55:39.233Z"
   },
   {
    "duration": 39497,
    "start_time": "2023-01-22T07:55:44.116Z"
   },
   {
    "duration": 43,
    "start_time": "2023-01-22T07:56:23.614Z"
   },
   {
    "duration": 0,
    "start_time": "2023-01-22T07:56:23.658Z"
   },
   {
    "duration": 11264,
    "start_time": "2023-01-22T07:57:13.362Z"
   },
   {
    "duration": 154,
    "start_time": "2023-01-22T08:01:39.866Z"
   },
   {
    "duration": 63,
    "start_time": "2023-01-22T08:02:26.185Z"
   },
   {
    "duration": 15663,
    "start_time": "2023-01-22T08:03:57.365Z"
   },
   {
    "duration": 1347,
    "start_time": "2023-01-22T08:06:32.519Z"
   },
   {
    "duration": 702,
    "start_time": "2023-01-22T08:06:33.868Z"
   },
   {
    "duration": 3,
    "start_time": "2023-01-22T08:06:34.572Z"
   },
   {
    "duration": 365,
    "start_time": "2023-01-22T08:06:34.576Z"
   },
   {
    "duration": 161,
    "start_time": "2023-01-22T08:06:34.948Z"
   },
   {
    "duration": 396,
    "start_time": "2023-01-22T08:06:35.110Z"
   },
   {
    "duration": 20,
    "start_time": "2023-01-22T08:06:35.507Z"
   },
   {
    "duration": 43,
    "start_time": "2023-01-22T08:06:35.528Z"
   },
   {
    "duration": 5,
    "start_time": "2023-01-22T08:06:35.573Z"
   },
   {
    "duration": 6,
    "start_time": "2023-01-22T08:06:35.580Z"
   },
   {
    "duration": 8,
    "start_time": "2023-01-22T08:06:35.587Z"
   },
   {
    "duration": 9,
    "start_time": "2023-01-22T08:06:35.597Z"
   },
   {
    "duration": 41,
    "start_time": "2023-01-22T08:06:35.607Z"
   },
   {
    "duration": 2860,
    "start_time": "2023-01-22T08:06:35.651Z"
   },
   {
    "duration": 16,
    "start_time": "2023-01-22T08:06:38.512Z"
   },
   {
    "duration": 2291,
    "start_time": "2023-01-22T08:06:38.529Z"
   },
   {
    "duration": 16,
    "start_time": "2023-01-22T08:06:40.822Z"
   },
   {
    "duration": 1723,
    "start_time": "2023-01-22T08:06:40.839Z"
   },
   {
    "duration": 6,
    "start_time": "2023-01-22T08:06:42.564Z"
   },
   {
    "duration": 10,
    "start_time": "2023-01-22T08:06:42.571Z"
   },
   {
    "duration": 20,
    "start_time": "2023-01-22T08:06:42.582Z"
   },
   {
    "duration": 8,
    "start_time": "2023-01-22T08:06:42.604Z"
   },
   {
    "duration": 62,
    "start_time": "2023-01-22T08:06:42.613Z"
   },
   {
    "duration": 14,
    "start_time": "2023-01-22T08:06:42.676Z"
   },
   {
    "duration": 6,
    "start_time": "2023-01-22T08:06:42.691Z"
   },
   {
    "duration": 6,
    "start_time": "2023-01-22T08:06:42.699Z"
   },
   {
    "duration": 6,
    "start_time": "2023-01-22T08:06:42.707Z"
   },
   {
    "duration": 7,
    "start_time": "2023-01-22T08:06:42.715Z"
   },
   {
    "duration": 5,
    "start_time": "2023-01-22T08:06:42.723Z"
   },
   {
    "duration": 11,
    "start_time": "2023-01-22T08:06:42.748Z"
   },
   {
    "duration": 25,
    "start_time": "2023-01-22T08:06:42.761Z"
   },
   {
    "duration": 4945,
    "start_time": "2023-01-22T08:06:42.788Z"
   },
   {
    "duration": 11340,
    "start_time": "2023-01-22T08:06:47.735Z"
   },
   {
    "duration": 1323,
    "start_time": "2023-01-22T08:23:39.452Z"
   },
   {
    "duration": 688,
    "start_time": "2023-01-22T08:23:40.777Z"
   },
   {
    "duration": 3,
    "start_time": "2023-01-22T08:23:41.466Z"
   },
   {
    "duration": 385,
    "start_time": "2023-01-22T08:23:41.471Z"
   },
   {
    "duration": 169,
    "start_time": "2023-01-22T08:23:41.858Z"
   },
   {
    "duration": 352,
    "start_time": "2023-01-22T08:23:42.029Z"
   },
   {
    "duration": 21,
    "start_time": "2023-01-22T08:23:42.383Z"
   },
   {
    "duration": 44,
    "start_time": "2023-01-22T08:23:42.405Z"
   },
   {
    "duration": 5,
    "start_time": "2023-01-22T08:23:42.451Z"
   },
   {
    "duration": 6,
    "start_time": "2023-01-22T08:23:42.457Z"
   },
   {
    "duration": 6,
    "start_time": "2023-01-22T08:23:42.464Z"
   },
   {
    "duration": 10,
    "start_time": "2023-01-22T08:23:42.471Z"
   },
   {
    "duration": 8,
    "start_time": "2023-01-22T08:23:42.482Z"
   },
   {
    "duration": 3003,
    "start_time": "2023-01-22T08:23:42.492Z"
   },
   {
    "duration": 17,
    "start_time": "2023-01-22T08:23:45.496Z"
   },
   {
    "duration": 2295,
    "start_time": "2023-01-22T08:23:45.514Z"
   },
   {
    "duration": 17,
    "start_time": "2023-01-22T08:23:47.811Z"
   },
   {
    "duration": 1776,
    "start_time": "2023-01-22T08:23:47.829Z"
   },
   {
    "duration": 5,
    "start_time": "2023-01-22T08:23:49.606Z"
   },
   {
    "duration": 9,
    "start_time": "2023-01-22T08:23:49.612Z"
   },
   {
    "duration": 26,
    "start_time": "2023-01-22T08:23:49.622Z"
   },
   {
    "duration": 6,
    "start_time": "2023-01-22T08:23:49.650Z"
   },
   {
    "duration": 36,
    "start_time": "2023-01-22T08:23:49.657Z"
   },
   {
    "duration": 13,
    "start_time": "2023-01-22T08:23:49.695Z"
   },
   {
    "duration": 5,
    "start_time": "2023-01-22T08:23:49.709Z"
   },
   {
    "duration": 8,
    "start_time": "2023-01-22T08:23:49.715Z"
   },
   {
    "duration": 6,
    "start_time": "2023-01-22T08:23:49.748Z"
   },
   {
    "duration": 4,
    "start_time": "2023-01-22T08:23:49.756Z"
   },
   {
    "duration": 6,
    "start_time": "2023-01-22T08:23:49.761Z"
   },
   {
    "duration": 11,
    "start_time": "2023-01-22T08:23:49.768Z"
   },
   {
    "duration": 23,
    "start_time": "2023-01-22T08:23:49.781Z"
   },
   {
    "duration": 4852,
    "start_time": "2023-01-22T08:23:49.806Z"
   },
   {
    "duration": 11377,
    "start_time": "2023-01-22T08:23:54.660Z"
   },
   {
    "duration": 92957,
    "start_time": "2023-01-22T08:24:06.039Z"
   },
   {
    "duration": 1851,
    "start_time": "2023-01-22T08:25:38.998Z"
   },
   {
    "duration": 26,
    "start_time": "2023-01-22T08:28:39.229Z"
   },
   {
    "duration": 11240,
    "start_time": "2023-01-22T08:28:52.185Z"
   },
   {
    "duration": 11261,
    "start_time": "2023-01-22T08:29:21.621Z"
   },
   {
    "duration": 11714,
    "start_time": "2023-01-22T08:29:44.961Z"
   },
   {
    "duration": 11371,
    "start_time": "2023-01-22T08:30:06.382Z"
   },
   {
    "duration": 11313,
    "start_time": "2023-01-22T08:30:51.324Z"
   },
   {
    "duration": 11262,
    "start_time": "2023-01-22T08:31:29.214Z"
   },
   {
    "duration": 1305,
    "start_time": "2023-01-22T08:39:55.356Z"
   },
   {
    "duration": 696,
    "start_time": "2023-01-22T08:39:56.663Z"
   },
   {
    "duration": 3,
    "start_time": "2023-01-22T08:39:57.360Z"
   },
   {
    "duration": 385,
    "start_time": "2023-01-22T08:39:57.364Z"
   },
   {
    "duration": 166,
    "start_time": "2023-01-22T08:39:57.752Z"
   },
   {
    "duration": 357,
    "start_time": "2023-01-22T08:39:57.920Z"
   },
   {
    "duration": 21,
    "start_time": "2023-01-22T08:39:58.278Z"
   },
   {
    "duration": 24,
    "start_time": "2023-01-22T08:39:58.301Z"
   },
   {
    "duration": 6,
    "start_time": "2023-01-22T08:39:58.347Z"
   },
   {
    "duration": 9,
    "start_time": "2023-01-22T08:39:58.354Z"
   },
   {
    "duration": 6,
    "start_time": "2023-01-22T08:39:58.364Z"
   },
   {
    "duration": 8,
    "start_time": "2023-01-22T08:39:58.371Z"
   },
   {
    "duration": 6,
    "start_time": "2023-01-22T08:39:58.380Z"
   },
   {
    "duration": 2934,
    "start_time": "2023-01-22T08:39:58.389Z"
   },
   {
    "duration": 18,
    "start_time": "2023-01-22T08:40:01.325Z"
   },
   {
    "duration": 2399,
    "start_time": "2023-01-22T08:40:01.344Z"
   },
   {
    "duration": 16,
    "start_time": "2023-01-22T08:40:03.745Z"
   },
   {
    "duration": 1833,
    "start_time": "2023-01-22T08:40:03.763Z"
   },
   {
    "duration": 7,
    "start_time": "2023-01-22T08:40:05.598Z"
   },
   {
    "duration": 11,
    "start_time": "2023-01-22T08:40:05.607Z"
   },
   {
    "duration": 32,
    "start_time": "2023-01-22T08:40:05.620Z"
   },
   {
    "duration": 9,
    "start_time": "2023-01-22T08:40:05.655Z"
   },
   {
    "duration": 52,
    "start_time": "2023-01-22T08:40:05.665Z"
   },
   {
    "duration": 15,
    "start_time": "2023-01-22T08:40:05.719Z"
   },
   {
    "duration": 5,
    "start_time": "2023-01-22T08:40:05.749Z"
   },
   {
    "duration": 12,
    "start_time": "2023-01-22T08:40:05.756Z"
   },
   {
    "duration": 8,
    "start_time": "2023-01-22T08:40:05.769Z"
   },
   {
    "duration": 4,
    "start_time": "2023-01-22T08:40:05.779Z"
   },
   {
    "duration": 5,
    "start_time": "2023-01-22T08:40:05.785Z"
   },
   {
    "duration": 10,
    "start_time": "2023-01-22T08:40:05.792Z"
   },
   {
    "duration": 34,
    "start_time": "2023-01-22T08:40:05.804Z"
   },
   {
    "duration": 4930,
    "start_time": "2023-01-22T08:40:05.848Z"
   },
   {
    "duration": 1265,
    "start_time": "2023-01-22T08:45:53.783Z"
   },
   {
    "duration": 711,
    "start_time": "2023-01-22T08:45:55.050Z"
   },
   {
    "duration": 2,
    "start_time": "2023-01-22T08:45:55.763Z"
   },
   {
    "duration": 397,
    "start_time": "2023-01-22T08:45:55.767Z"
   },
   {
    "duration": 163,
    "start_time": "2023-01-22T08:45:56.166Z"
   },
   {
    "duration": 349,
    "start_time": "2023-01-22T08:45:56.331Z"
   },
   {
    "duration": 20,
    "start_time": "2023-01-22T08:45:56.682Z"
   },
   {
    "duration": 46,
    "start_time": "2023-01-22T08:45:56.704Z"
   },
   {
    "duration": 5,
    "start_time": "2023-01-22T08:45:56.751Z"
   },
   {
    "duration": 6,
    "start_time": "2023-01-22T08:45:56.757Z"
   },
   {
    "duration": 5,
    "start_time": "2023-01-22T08:45:56.764Z"
   },
   {
    "duration": 7,
    "start_time": "2023-01-22T08:45:56.771Z"
   },
   {
    "duration": 10,
    "start_time": "2023-01-22T08:45:56.779Z"
   },
   {
    "duration": 2852,
    "start_time": "2023-01-22T08:45:56.791Z"
   },
   {
    "duration": 17,
    "start_time": "2023-01-22T08:45:59.644Z"
   },
   {
    "duration": 2247,
    "start_time": "2023-01-22T08:45:59.662Z"
   },
   {
    "duration": 19,
    "start_time": "2023-01-22T08:46:01.911Z"
   },
   {
    "duration": 1805,
    "start_time": "2023-01-22T08:46:01.931Z"
   },
   {
    "duration": 11,
    "start_time": "2023-01-22T08:46:03.738Z"
   },
   {
    "duration": 6,
    "start_time": "2023-01-22T08:46:03.750Z"
   },
   {
    "duration": 20,
    "start_time": "2023-01-22T08:46:03.757Z"
   },
   {
    "duration": 7,
    "start_time": "2023-01-22T08:46:03.778Z"
   },
   {
    "duration": 63,
    "start_time": "2023-01-22T08:46:03.786Z"
   },
   {
    "duration": 17,
    "start_time": "2023-01-22T08:46:03.851Z"
   },
   {
    "duration": 5,
    "start_time": "2023-01-22T08:46:03.869Z"
   },
   {
    "duration": 6,
    "start_time": "2023-01-22T08:46:03.876Z"
   },
   {
    "duration": 6,
    "start_time": "2023-01-22T08:46:03.884Z"
   },
   {
    "duration": 5,
    "start_time": "2023-01-22T08:46:03.891Z"
   },
   {
    "duration": 10,
    "start_time": "2023-01-22T08:46:03.901Z"
   },
   {
    "duration": 14,
    "start_time": "2023-01-22T08:46:03.913Z"
   },
   {
    "duration": 44,
    "start_time": "2023-01-22T08:46:03.929Z"
   },
   {
    "duration": 4895,
    "start_time": "2023-01-22T08:46:03.975Z"
   },
   {
    "duration": 42851,
    "start_time": "2023-01-22T08:46:08.872Z"
   },
   {
    "duration": 1841,
    "start_time": "2023-01-22T08:46:51.724Z"
   },
   {
    "duration": 24924,
    "start_time": "2023-01-22T08:50:24.879Z"
   },
   {
    "duration": 3288,
    "start_time": "2023-01-22T08:54:43.824Z"
   },
   {
    "duration": 6541,
    "start_time": "2023-01-22T08:54:52.809Z"
   },
   {
    "duration": 19992,
    "start_time": "2023-01-22T08:55:10.375Z"
   },
   {
    "duration": 10742,
    "start_time": "2023-01-22T08:55:48.419Z"
   },
   {
    "duration": 11373,
    "start_time": "2023-01-22T08:56:35.329Z"
   },
   {
    "duration": 5663,
    "start_time": "2023-01-22T08:57:03.570Z"
   },
   {
    "duration": 2056,
    "start_time": "2023-01-22T09:01:52.593Z"
   },
   {
    "duration": 1960,
    "start_time": "2023-01-22T09:02:08.675Z"
   },
   {
    "duration": 1309,
    "start_time": "2023-01-22T09:04:42.711Z"
   },
   {
    "duration": 682,
    "start_time": "2023-01-22T09:04:44.022Z"
   },
   {
    "duration": 4,
    "start_time": "2023-01-22T09:04:44.706Z"
   },
   {
    "duration": 366,
    "start_time": "2023-01-22T09:04:44.711Z"
   },
   {
    "duration": 184,
    "start_time": "2023-01-22T09:04:45.079Z"
   },
   {
    "duration": 383,
    "start_time": "2023-01-22T09:04:45.265Z"
   },
   {
    "duration": 25,
    "start_time": "2023-01-22T09:04:45.650Z"
   },
   {
    "duration": 27,
    "start_time": "2023-01-22T09:04:45.677Z"
   },
   {
    "duration": 7,
    "start_time": "2023-01-22T09:04:45.706Z"
   },
   {
    "duration": 6,
    "start_time": "2023-01-22T09:04:45.749Z"
   },
   {
    "duration": 7,
    "start_time": "2023-01-22T09:04:45.757Z"
   },
   {
    "duration": 14,
    "start_time": "2023-01-22T09:04:45.765Z"
   },
   {
    "duration": 11,
    "start_time": "2023-01-22T09:04:45.781Z"
   },
   {
    "duration": 3048,
    "start_time": "2023-01-22T09:04:45.795Z"
   },
   {
    "duration": 19,
    "start_time": "2023-01-22T09:04:48.844Z"
   },
   {
    "duration": 2317,
    "start_time": "2023-01-22T09:04:48.864Z"
   },
   {
    "duration": 17,
    "start_time": "2023-01-22T09:04:51.183Z"
   },
   {
    "duration": 1796,
    "start_time": "2023-01-22T09:04:51.201Z"
   },
   {
    "duration": 6,
    "start_time": "2023-01-22T09:04:52.999Z"
   },
   {
    "duration": 13,
    "start_time": "2023-01-22T09:04:53.007Z"
   },
   {
    "duration": 29,
    "start_time": "2023-01-22T09:04:53.022Z"
   },
   {
    "duration": 7,
    "start_time": "2023-01-22T09:04:53.053Z"
   },
   {
    "duration": 46,
    "start_time": "2023-01-22T09:04:53.061Z"
   },
   {
    "duration": 17,
    "start_time": "2023-01-22T09:04:53.109Z"
   },
   {
    "duration": 5,
    "start_time": "2023-01-22T09:04:53.147Z"
   },
   {
    "duration": 14,
    "start_time": "2023-01-22T09:04:53.153Z"
   },
   {
    "duration": 5,
    "start_time": "2023-01-22T09:04:53.169Z"
   },
   {
    "duration": 6,
    "start_time": "2023-01-22T09:04:53.175Z"
   },
   {
    "duration": 5,
    "start_time": "2023-01-22T09:04:53.183Z"
   },
   {
    "duration": 10,
    "start_time": "2023-01-22T09:04:53.189Z"
   },
   {
    "duration": 23,
    "start_time": "2023-01-22T09:04:53.200Z"
   },
   {
    "duration": 6648,
    "start_time": "2023-01-22T09:04:53.224Z"
   },
   {
    "duration": 5887,
    "start_time": "2023-01-22T09:04:59.874Z"
   },
   {
    "duration": 2085,
    "start_time": "2023-01-22T09:05:05.763Z"
   },
   {
    "duration": 2199,
    "start_time": "2023-01-22T09:05:07.850Z"
   },
   {
    "duration": 9,
    "start_time": "2023-01-22T09:06:24.291Z"
   },
   {
    "duration": 1342,
    "start_time": "2023-01-22T09:06:29.743Z"
   },
   {
    "duration": 692,
    "start_time": "2023-01-22T09:06:31.087Z"
   },
   {
    "duration": 4,
    "start_time": "2023-01-22T09:06:31.781Z"
   },
   {
    "duration": 391,
    "start_time": "2023-01-22T09:06:31.787Z"
   },
   {
    "duration": 171,
    "start_time": "2023-01-22T09:06:32.180Z"
   },
   {
    "duration": 355,
    "start_time": "2023-01-22T09:06:32.353Z"
   },
   {
    "duration": 21,
    "start_time": "2023-01-22T09:06:32.710Z"
   },
   {
    "duration": 41,
    "start_time": "2023-01-22T09:06:32.733Z"
   },
   {
    "duration": 5,
    "start_time": "2023-01-22T09:06:32.775Z"
   },
   {
    "duration": 5,
    "start_time": "2023-01-22T09:06:32.783Z"
   },
   {
    "duration": 6,
    "start_time": "2023-01-22T09:06:32.789Z"
   },
   {
    "duration": 12,
    "start_time": "2023-01-22T09:06:32.796Z"
   },
   {
    "duration": 46,
    "start_time": "2023-01-22T09:06:32.810Z"
   },
   {
    "duration": 2921,
    "start_time": "2023-01-22T09:06:32.858Z"
   },
   {
    "duration": 18,
    "start_time": "2023-01-22T09:06:35.780Z"
   },
   {
    "duration": 2245,
    "start_time": "2023-01-22T09:06:35.799Z"
   },
   {
    "duration": 16,
    "start_time": "2023-01-22T09:06:38.046Z"
   },
   {
    "duration": 1811,
    "start_time": "2023-01-22T09:06:38.063Z"
   },
   {
    "duration": 5,
    "start_time": "2023-01-22T09:06:39.876Z"
   },
   {
    "duration": 9,
    "start_time": "2023-01-22T09:06:39.882Z"
   },
   {
    "duration": 23,
    "start_time": "2023-01-22T09:06:39.893Z"
   },
   {
    "duration": 31,
    "start_time": "2023-01-22T09:06:39.918Z"
   },
   {
    "duration": 37,
    "start_time": "2023-01-22T09:06:39.951Z"
   },
   {
    "duration": 14,
    "start_time": "2023-01-22T09:06:39.990Z"
   },
   {
    "duration": 10,
    "start_time": "2023-01-22T09:06:40.005Z"
   },
   {
    "duration": 33,
    "start_time": "2023-01-22T09:06:40.017Z"
   },
   {
    "duration": 10,
    "start_time": "2023-01-22T09:06:40.052Z"
   },
   {
    "duration": 17,
    "start_time": "2023-01-22T09:06:40.065Z"
   },
   {
    "duration": 26,
    "start_time": "2023-01-22T09:06:40.084Z"
   },
   {
    "duration": 21,
    "start_time": "2023-01-22T09:06:40.111Z"
   },
   {
    "duration": 25,
    "start_time": "2023-01-22T09:06:40.133Z"
   },
   {
    "duration": 51,
    "start_time": "2023-01-22T09:06:40.160Z"
   },
   {
    "duration": 6531,
    "start_time": "2023-01-22T09:06:40.213Z"
   },
   {
    "duration": 5753,
    "start_time": "2023-01-22T09:06:46.748Z"
   },
   {
    "duration": 2247,
    "start_time": "2023-01-22T09:06:52.502Z"
   },
   {
    "duration": 4012,
    "start_time": "2023-01-22T09:06:54.751Z"
   },
   {
    "duration": 3851,
    "start_time": "2023-01-22T09:07:20.253Z"
   },
   {
    "duration": 3880,
    "start_time": "2023-01-22T09:08:03.732Z"
   },
   {
    "duration": 11,
    "start_time": "2023-01-22T09:09:03.939Z"
   },
   {
    "duration": 1305,
    "start_time": "2023-01-22T09:09:12.874Z"
   },
   {
    "duration": 667,
    "start_time": "2023-01-22T09:09:14.181Z"
   },
   {
    "duration": 3,
    "start_time": "2023-01-22T09:09:14.850Z"
   },
   {
    "duration": 359,
    "start_time": "2023-01-22T09:09:14.854Z"
   },
   {
    "duration": 192,
    "start_time": "2023-01-22T09:09:15.216Z"
   },
   {
    "duration": 347,
    "start_time": "2023-01-22T09:09:15.409Z"
   },
   {
    "duration": 21,
    "start_time": "2023-01-22T09:09:15.758Z"
   },
   {
    "duration": 26,
    "start_time": "2023-01-22T09:09:15.780Z"
   },
   {
    "duration": 6,
    "start_time": "2023-01-22T09:09:15.807Z"
   },
   {
    "duration": 37,
    "start_time": "2023-01-22T09:09:15.814Z"
   },
   {
    "duration": 6,
    "start_time": "2023-01-22T09:09:15.852Z"
   },
   {
    "duration": 9,
    "start_time": "2023-01-22T09:09:15.859Z"
   },
   {
    "duration": 6,
    "start_time": "2023-01-22T09:09:15.869Z"
   },
   {
    "duration": 2812,
    "start_time": "2023-01-22T09:09:15.878Z"
   },
   {
    "duration": 18,
    "start_time": "2023-01-22T09:09:18.692Z"
   },
   {
    "duration": 2238,
    "start_time": "2023-01-22T09:09:18.712Z"
   },
   {
    "duration": 17,
    "start_time": "2023-01-22T09:09:20.952Z"
   },
   {
    "duration": 1720,
    "start_time": "2023-01-22T09:09:20.971Z"
   },
   {
    "duration": 5,
    "start_time": "2023-01-22T09:09:22.693Z"
   },
   {
    "duration": 8,
    "start_time": "2023-01-22T09:09:22.699Z"
   },
   {
    "duration": 33,
    "start_time": "2023-01-22T09:09:22.708Z"
   },
   {
    "duration": 7,
    "start_time": "2023-01-22T09:09:22.743Z"
   },
   {
    "duration": 46,
    "start_time": "2023-01-22T09:09:22.751Z"
   },
   {
    "duration": 14,
    "start_time": "2023-01-22T09:09:22.798Z"
   },
   {
    "duration": 9,
    "start_time": "2023-01-22T09:09:22.814Z"
   },
   {
    "duration": 23,
    "start_time": "2023-01-22T09:09:22.825Z"
   },
   {
    "duration": 16,
    "start_time": "2023-01-22T09:09:22.849Z"
   },
   {
    "duration": 16,
    "start_time": "2023-01-22T09:09:22.867Z"
   },
   {
    "duration": 29,
    "start_time": "2023-01-22T09:09:22.885Z"
   },
   {
    "duration": 14,
    "start_time": "2023-01-22T09:09:22.915Z"
   },
   {
    "duration": 8,
    "start_time": "2023-01-22T09:09:22.931Z"
   },
   {
    "duration": 37,
    "start_time": "2023-01-22T09:09:22.941Z"
   },
   {
    "duration": 6524,
    "start_time": "2023-01-22T09:09:22.980Z"
   },
   {
    "duration": 5694,
    "start_time": "2023-01-22T09:09:29.505Z"
   },
   {
    "duration": 2151,
    "start_time": "2023-01-22T09:09:35.201Z"
   },
   {
    "duration": 3997,
    "start_time": "2023-01-22T09:09:37.354Z"
   },
   {
    "duration": 136,
    "start_time": "2023-01-22T09:14:22.707Z"
   },
   {
    "duration": 3855,
    "start_time": "2023-01-22T09:15:16.580Z"
   },
   {
    "duration": 9,
    "start_time": "2023-01-22T09:16:06.300Z"
   },
   {
    "duration": 12,
    "start_time": "2023-01-22T09:16:29.927Z"
   },
   {
    "duration": 7,
    "start_time": "2023-01-22T09:16:43.210Z"
   },
   {
    "duration": 6,
    "start_time": "2023-01-22T09:17:20.250Z"
   },
   {
    "duration": 13,
    "start_time": "2023-01-22T09:18:19.790Z"
   },
   {
    "duration": 8,
    "start_time": "2023-01-22T09:18:29.428Z"
   },
   {
    "duration": 8,
    "start_time": "2023-01-22T09:18:54.844Z"
   },
   {
    "duration": 89,
    "start_time": "2023-01-22T09:30:39.918Z"
   },
   {
    "duration": 5,
    "start_time": "2023-01-22T09:38:52.811Z"
   },
   {
    "duration": 16,
    "start_time": "2023-01-22T09:42:26.442Z"
   },
   {
    "duration": 1371,
    "start_time": "2023-01-22T09:42:36.141Z"
   },
   {
    "duration": 692,
    "start_time": "2023-01-22T09:42:37.514Z"
   },
   {
    "duration": 3,
    "start_time": "2023-01-22T09:42:38.207Z"
   },
   {
    "duration": 375,
    "start_time": "2023-01-22T09:42:38.212Z"
   },
   {
    "duration": 170,
    "start_time": "2023-01-22T09:42:38.590Z"
   },
   {
    "duration": 360,
    "start_time": "2023-01-22T09:42:38.762Z"
   },
   {
    "duration": 27,
    "start_time": "2023-01-22T09:42:39.124Z"
   },
   {
    "duration": 26,
    "start_time": "2023-01-22T09:42:39.152Z"
   },
   {
    "duration": 6,
    "start_time": "2023-01-22T09:42:39.180Z"
   },
   {
    "duration": 9,
    "start_time": "2023-01-22T09:42:39.187Z"
   },
   {
    "duration": 11,
    "start_time": "2023-01-22T09:42:39.197Z"
   },
   {
    "duration": 44,
    "start_time": "2023-01-22T09:42:39.209Z"
   },
   {
    "duration": 7,
    "start_time": "2023-01-22T09:42:39.254Z"
   },
   {
    "duration": 2927,
    "start_time": "2023-01-22T09:42:39.264Z"
   },
   {
    "duration": 17,
    "start_time": "2023-01-22T09:42:42.193Z"
   },
   {
    "duration": 2315,
    "start_time": "2023-01-22T09:42:42.212Z"
   },
   {
    "duration": 25,
    "start_time": "2023-01-22T09:42:44.529Z"
   },
   {
    "duration": 1923,
    "start_time": "2023-01-22T09:42:44.556Z"
   },
   {
    "duration": 6,
    "start_time": "2023-01-22T09:42:46.481Z"
   },
   {
    "duration": 8,
    "start_time": "2023-01-22T09:42:46.488Z"
   },
   {
    "duration": 26,
    "start_time": "2023-01-22T09:42:46.497Z"
   },
   {
    "duration": 26,
    "start_time": "2023-01-22T09:42:46.524Z"
   },
   {
    "duration": 34,
    "start_time": "2023-01-22T09:42:46.551Z"
   },
   {
    "duration": 13,
    "start_time": "2023-01-22T09:42:46.587Z"
   },
   {
    "duration": 9,
    "start_time": "2023-01-22T09:42:46.602Z"
   },
   {
    "duration": 5,
    "start_time": "2023-01-22T09:42:46.612Z"
   },
   {
    "duration": 33,
    "start_time": "2023-01-22T09:42:46.618Z"
   },
   {
    "duration": 6,
    "start_time": "2023-01-22T09:42:46.653Z"
   },
   {
    "duration": 4,
    "start_time": "2023-01-22T09:42:46.661Z"
   },
   {
    "duration": 4,
    "start_time": "2023-01-22T09:42:46.667Z"
   },
   {
    "duration": 10,
    "start_time": "2023-01-22T09:42:46.672Z"
   },
   {
    "duration": 26,
    "start_time": "2023-01-22T09:42:46.684Z"
   },
   {
    "duration": 137,
    "start_time": "2023-01-22T09:42:46.712Z"
   },
   {
    "duration": 0,
    "start_time": "2023-01-22T09:42:46.851Z"
   },
   {
    "duration": 0,
    "start_time": "2023-01-22T09:42:46.852Z"
   },
   {
    "duration": 0,
    "start_time": "2023-01-22T09:42:46.853Z"
   },
   {
    "duration": 0,
    "start_time": "2023-01-22T09:42:46.855Z"
   },
   {
    "duration": 0,
    "start_time": "2023-01-22T09:42:46.856Z"
   },
   {
    "duration": 12,
    "start_time": "2023-01-22T09:43:51.484Z"
   },
   {
    "duration": 19,
    "start_time": "2023-01-22T09:45:09.150Z"
   },
   {
    "duration": 1331,
    "start_time": "2023-01-22T09:49:17.040Z"
   },
   {
    "duration": 677,
    "start_time": "2023-01-22T09:49:18.373Z"
   },
   {
    "duration": 3,
    "start_time": "2023-01-22T09:49:19.052Z"
   },
   {
    "duration": 359,
    "start_time": "2023-01-22T09:49:19.057Z"
   },
   {
    "duration": 168,
    "start_time": "2023-01-22T09:49:19.419Z"
   },
   {
    "duration": 362,
    "start_time": "2023-01-22T09:49:19.588Z"
   },
   {
    "duration": 20,
    "start_time": "2023-01-22T09:49:19.952Z"
   },
   {
    "duration": 25,
    "start_time": "2023-01-22T09:49:19.973Z"
   },
   {
    "duration": 6,
    "start_time": "2023-01-22T09:49:20.000Z"
   },
   {
    "duration": 9,
    "start_time": "2023-01-22T09:49:20.007Z"
   },
   {
    "duration": 17,
    "start_time": "2023-01-22T09:49:20.048Z"
   },
   {
    "duration": 12,
    "start_time": "2023-01-22T09:49:20.067Z"
   },
   {
    "duration": 9,
    "start_time": "2023-01-22T09:49:20.081Z"
   },
   {
    "duration": 2909,
    "start_time": "2023-01-22T09:49:20.094Z"
   },
   {
    "duration": 18,
    "start_time": "2023-01-22T09:49:23.005Z"
   },
   {
    "duration": 2318,
    "start_time": "2023-01-22T09:49:23.025Z"
   },
   {
    "duration": 24,
    "start_time": "2023-01-22T09:49:25.348Z"
   },
   {
    "duration": 1834,
    "start_time": "2023-01-22T09:49:25.374Z"
   },
   {
    "duration": 5,
    "start_time": "2023-01-22T09:49:27.210Z"
   },
   {
    "duration": 8,
    "start_time": "2023-01-22T09:49:27.216Z"
   },
   {
    "duration": 31,
    "start_time": "2023-01-22T09:49:27.225Z"
   },
   {
    "duration": 7,
    "start_time": "2023-01-22T09:49:27.257Z"
   },
   {
    "duration": 37,
    "start_time": "2023-01-22T09:49:27.265Z"
   },
   {
    "duration": 13,
    "start_time": "2023-01-22T09:49:27.303Z"
   },
   {
    "duration": 35,
    "start_time": "2023-01-22T09:49:27.318Z"
   },
   {
    "duration": 5,
    "start_time": "2023-01-22T09:49:27.355Z"
   },
   {
    "duration": 5,
    "start_time": "2023-01-22T09:49:27.361Z"
   },
   {
    "duration": 5,
    "start_time": "2023-01-22T09:49:27.368Z"
   },
   {
    "duration": 5,
    "start_time": "2023-01-22T09:49:27.374Z"
   },
   {
    "duration": 5,
    "start_time": "2023-01-22T09:49:27.381Z"
   },
   {
    "duration": 9,
    "start_time": "2023-01-22T09:49:27.387Z"
   },
   {
    "duration": 27,
    "start_time": "2023-01-22T09:49:27.397Z"
   },
   {
    "duration": 0,
    "start_time": "2023-01-22T09:57:42.688Z"
   },
   {
    "duration": 0,
    "start_time": "2023-01-22T09:57:42.690Z"
   },
   {
    "duration": 0,
    "start_time": "2023-01-22T09:57:42.691Z"
   },
   {
    "duration": 0,
    "start_time": "2023-01-22T09:57:42.693Z"
   },
   {
    "duration": 0,
    "start_time": "2023-01-22T09:57:42.694Z"
   },
   {
    "duration": 0,
    "start_time": "2023-01-22T09:57:42.697Z"
   },
   {
    "duration": 0,
    "start_time": "2023-01-22T09:57:42.698Z"
   },
   {
    "duration": 9,
    "start_time": "2023-01-22T09:57:45.367Z"
   },
   {
    "duration": 33,
    "start_time": "2023-01-22T09:57:45.932Z"
   },
   {
    "duration": 59,
    "start_time": "2023-01-22T09:57:47.564Z"
   },
   {
    "duration": 1430,
    "start_time": "2023-01-22T09:58:43.197Z"
   },
   {
    "duration": 749,
    "start_time": "2023-01-22T09:58:44.629Z"
   },
   {
    "duration": 4,
    "start_time": "2023-01-22T09:58:45.381Z"
   },
   {
    "duration": 488,
    "start_time": "2023-01-22T09:58:45.387Z"
   },
   {
    "duration": 193,
    "start_time": "2023-01-22T09:58:45.877Z"
   },
   {
    "duration": 397,
    "start_time": "2023-01-22T09:58:46.072Z"
   },
   {
    "duration": 22,
    "start_time": "2023-01-22T09:58:46.471Z"
   },
   {
    "duration": 60,
    "start_time": "2023-01-22T09:58:46.495Z"
   },
   {
    "duration": 7,
    "start_time": "2023-01-22T09:58:46.556Z"
   },
   {
    "duration": 8,
    "start_time": "2023-01-22T09:58:46.565Z"
   },
   {
    "duration": 8,
    "start_time": "2023-01-22T09:58:46.575Z"
   },
   {
    "duration": 9,
    "start_time": "2023-01-22T09:58:46.584Z"
   },
   {
    "duration": 8,
    "start_time": "2023-01-22T09:58:46.594Z"
   },
   {
    "duration": 3206,
    "start_time": "2023-01-22T09:58:46.605Z"
   },
   {
    "duration": 17,
    "start_time": "2023-01-22T09:58:49.812Z"
   },
   {
    "duration": 2401,
    "start_time": "2023-01-22T09:58:49.830Z"
   },
   {
    "duration": 27,
    "start_time": "2023-01-22T09:58:52.233Z"
   },
   {
    "duration": 1891,
    "start_time": "2023-01-22T09:58:52.262Z"
   },
   {
    "duration": 5,
    "start_time": "2023-01-22T09:58:54.155Z"
   },
   {
    "duration": 11,
    "start_time": "2023-01-22T09:58:54.162Z"
   },
   {
    "duration": 26,
    "start_time": "2023-01-22T09:58:54.175Z"
   },
   {
    "duration": 10,
    "start_time": "2023-01-22T09:58:54.204Z"
   },
   {
    "duration": 60,
    "start_time": "2023-01-22T09:58:54.215Z"
   },
   {
    "duration": 17,
    "start_time": "2023-01-22T09:58:54.277Z"
   },
   {
    "duration": 12,
    "start_time": "2023-01-22T09:58:54.296Z"
   },
   {
    "duration": 5,
    "start_time": "2023-01-22T09:58:54.310Z"
   },
   {
    "duration": 32,
    "start_time": "2023-01-22T09:58:54.317Z"
   },
   {
    "duration": 11,
    "start_time": "2023-01-22T09:58:54.351Z"
   },
   {
    "duration": 6,
    "start_time": "2023-01-22T09:58:54.364Z"
   },
   {
    "duration": 7,
    "start_time": "2023-01-22T09:58:54.372Z"
   },
   {
    "duration": 11,
    "start_time": "2023-01-22T09:58:54.381Z"
   },
   {
    "duration": 29,
    "start_time": "2023-01-22T09:58:54.394Z"
   },
   {
    "duration": 6725,
    "start_time": "2023-01-22T09:58:54.425Z"
   },
   {
    "duration": 5888,
    "start_time": "2023-01-22T09:59:01.152Z"
   },
   {
    "duration": 2710,
    "start_time": "2023-01-22T09:59:07.042Z"
   },
   {
    "duration": 4288,
    "start_time": "2023-01-22T09:59:09.754Z"
   },
   {
    "duration": 13,
    "start_time": "2023-01-22T09:59:14.047Z"
   },
   {
    "duration": 1378,
    "start_time": "2023-01-22T10:10:49.254Z"
   },
   {
    "duration": 683,
    "start_time": "2023-01-22T10:10:50.633Z"
   },
   {
    "duration": 3,
    "start_time": "2023-01-22T10:10:51.318Z"
   },
   {
    "duration": 391,
    "start_time": "2023-01-22T10:10:51.324Z"
   },
   {
    "duration": 166,
    "start_time": "2023-01-22T10:10:51.717Z"
   },
   {
    "duration": 372,
    "start_time": "2023-01-22T10:10:51.887Z"
   },
   {
    "duration": 21,
    "start_time": "2023-01-22T10:10:52.260Z"
   },
   {
    "duration": 27,
    "start_time": "2023-01-22T10:10:52.282Z"
   },
   {
    "duration": 37,
    "start_time": "2023-01-22T10:10:52.311Z"
   },
   {
    "duration": 6,
    "start_time": "2023-01-22T10:10:52.350Z"
   },
   {
    "duration": 19,
    "start_time": "2023-01-22T10:10:52.357Z"
   },
   {
    "duration": 18,
    "start_time": "2023-01-22T10:10:52.377Z"
   },
   {
    "duration": 17,
    "start_time": "2023-01-22T10:10:52.397Z"
   },
   {
    "duration": 3219,
    "start_time": "2023-01-22T10:10:52.416Z"
   },
   {
    "duration": 18,
    "start_time": "2023-01-22T10:10:55.637Z"
   },
   {
    "duration": 2252,
    "start_time": "2023-01-22T10:10:55.657Z"
   },
   {
    "duration": 22,
    "start_time": "2023-01-22T10:10:57.911Z"
   },
   {
    "duration": 1849,
    "start_time": "2023-01-22T10:10:57.935Z"
   },
   {
    "duration": 5,
    "start_time": "2023-01-22T10:10:59.785Z"
   },
   {
    "duration": 10,
    "start_time": "2023-01-22T10:10:59.792Z"
   },
   {
    "duration": 24,
    "start_time": "2023-01-22T10:10:59.803Z"
   },
   {
    "duration": 27,
    "start_time": "2023-01-22T10:10:59.829Z"
   },
   {
    "duration": 39,
    "start_time": "2023-01-22T10:10:59.858Z"
   },
   {
    "duration": 15,
    "start_time": "2023-01-22T10:10:59.899Z"
   },
   {
    "duration": 36,
    "start_time": "2023-01-22T10:10:59.916Z"
   },
   {
    "duration": 6,
    "start_time": "2023-01-22T10:10:59.954Z"
   },
   {
    "duration": 7,
    "start_time": "2023-01-22T10:10:59.962Z"
   },
   {
    "duration": 4,
    "start_time": "2023-01-22T10:10:59.972Z"
   },
   {
    "duration": 5,
    "start_time": "2023-01-22T10:10:59.978Z"
   },
   {
    "duration": 8,
    "start_time": "2023-01-22T10:10:59.985Z"
   },
   {
    "duration": 41,
    "start_time": "2023-01-22T10:10:59.995Z"
   },
   {
    "duration": 37,
    "start_time": "2023-01-22T10:11:00.039Z"
   },
   {
    "duration": 6750,
    "start_time": "2023-01-22T10:11:00.078Z"
   },
   {
    "duration": 5834,
    "start_time": "2023-01-22T10:11:06.830Z"
   },
   {
    "duration": 2882,
    "start_time": "2023-01-22T10:11:12.666Z"
   },
   {
    "duration": 4022,
    "start_time": "2023-01-22T10:11:15.551Z"
   },
   {
    "duration": 10,
    "start_time": "2023-01-22T10:11:19.575Z"
   },
   {
    "duration": 1292,
    "start_time": "2023-01-22T10:12:18.537Z"
   },
   {
    "duration": 710,
    "start_time": "2023-01-22T10:12:19.831Z"
   },
   {
    "duration": 6,
    "start_time": "2023-01-22T10:12:20.543Z"
   },
   {
    "duration": 363,
    "start_time": "2023-01-22T10:12:20.550Z"
   },
   {
    "duration": 165,
    "start_time": "2023-01-22T10:12:20.915Z"
   },
   {
    "duration": 358,
    "start_time": "2023-01-22T10:12:21.081Z"
   },
   {
    "duration": 24,
    "start_time": "2023-01-22T10:12:21.441Z"
   },
   {
    "duration": 28,
    "start_time": "2023-01-22T10:12:21.467Z"
   },
   {
    "duration": 6,
    "start_time": "2023-01-22T10:12:21.497Z"
   },
   {
    "duration": 56,
    "start_time": "2023-01-22T10:12:21.505Z"
   },
   {
    "duration": 12,
    "start_time": "2023-01-22T10:12:21.563Z"
   },
   {
    "duration": 7,
    "start_time": "2023-01-22T10:12:21.577Z"
   },
   {
    "duration": 6,
    "start_time": "2023-01-22T10:12:21.586Z"
   },
   {
    "duration": 266,
    "start_time": "2023-01-22T10:12:21.595Z"
   },
   {
    "duration": 0,
    "start_time": "2023-01-22T10:12:21.863Z"
   },
   {
    "duration": 0,
    "start_time": "2023-01-22T10:12:21.864Z"
   },
   {
    "duration": 0,
    "start_time": "2023-01-22T10:12:21.865Z"
   },
   {
    "duration": 1,
    "start_time": "2023-01-22T10:12:21.866Z"
   },
   {
    "duration": 0,
    "start_time": "2023-01-22T10:12:21.867Z"
   },
   {
    "duration": 0,
    "start_time": "2023-01-22T10:12:21.868Z"
   },
   {
    "duration": 0,
    "start_time": "2023-01-22T10:12:21.869Z"
   },
   {
    "duration": 0,
    "start_time": "2023-01-22T10:12:21.870Z"
   },
   {
    "duration": 0,
    "start_time": "2023-01-22T10:12:21.871Z"
   },
   {
    "duration": 0,
    "start_time": "2023-01-22T10:12:21.872Z"
   },
   {
    "duration": 0,
    "start_time": "2023-01-22T10:12:21.873Z"
   },
   {
    "duration": 0,
    "start_time": "2023-01-22T10:12:21.874Z"
   },
   {
    "duration": 0,
    "start_time": "2023-01-22T10:12:21.875Z"
   },
   {
    "duration": 0,
    "start_time": "2023-01-22T10:12:21.876Z"
   },
   {
    "duration": 0,
    "start_time": "2023-01-22T10:12:21.877Z"
   },
   {
    "duration": 0,
    "start_time": "2023-01-22T10:12:21.878Z"
   },
   {
    "duration": 0,
    "start_time": "2023-01-22T10:12:21.879Z"
   },
   {
    "duration": 0,
    "start_time": "2023-01-22T10:12:21.880Z"
   },
   {
    "duration": 0,
    "start_time": "2023-01-22T10:12:21.881Z"
   },
   {
    "duration": 0,
    "start_time": "2023-01-22T10:12:21.882Z"
   },
   {
    "duration": 0,
    "start_time": "2023-01-22T10:12:21.884Z"
   },
   {
    "duration": 0,
    "start_time": "2023-01-22T10:12:21.885Z"
   },
   {
    "duration": 0,
    "start_time": "2023-01-22T10:12:21.886Z"
   },
   {
    "duration": 52,
    "start_time": "2023-01-22T10:12:39.393Z"
   },
   {
    "duration": 1489,
    "start_time": "2023-01-22T10:12:50.724Z"
   },
   {
    "duration": 718,
    "start_time": "2023-01-22T10:12:52.216Z"
   },
   {
    "duration": 3,
    "start_time": "2023-01-22T10:12:52.936Z"
   },
   {
    "duration": 414,
    "start_time": "2023-01-22T10:12:52.941Z"
   },
   {
    "duration": 175,
    "start_time": "2023-01-22T10:12:53.358Z"
   },
   {
    "duration": 352,
    "start_time": "2023-01-22T10:12:53.535Z"
   },
   {
    "duration": 24,
    "start_time": "2023-01-22T10:12:53.889Z"
   },
   {
    "duration": 45,
    "start_time": "2023-01-22T10:12:53.915Z"
   },
   {
    "duration": 8,
    "start_time": "2023-01-22T10:12:53.961Z"
   },
   {
    "duration": 9,
    "start_time": "2023-01-22T10:12:53.970Z"
   },
   {
    "duration": 6,
    "start_time": "2023-01-22T10:12:53.980Z"
   },
   {
    "duration": 9,
    "start_time": "2023-01-22T10:12:53.987Z"
   },
   {
    "duration": 7,
    "start_time": "2023-01-22T10:12:53.997Z"
   },
   {
    "duration": 2936,
    "start_time": "2023-01-22T10:12:54.047Z"
   },
   {
    "duration": 19,
    "start_time": "2023-01-22T10:12:56.985Z"
   },
   {
    "duration": 2416,
    "start_time": "2023-01-22T10:12:57.006Z"
   },
   {
    "duration": 25,
    "start_time": "2023-01-22T10:12:59.424Z"
   },
   {
    "duration": 2002,
    "start_time": "2023-01-22T10:12:59.450Z"
   },
   {
    "duration": 6,
    "start_time": "2023-01-22T10:13:01.454Z"
   },
   {
    "duration": 21,
    "start_time": "2023-01-22T10:13:01.462Z"
   },
   {
    "duration": 25,
    "start_time": "2023-01-22T10:13:01.485Z"
   },
   {
    "duration": 7,
    "start_time": "2023-01-22T10:13:01.512Z"
   },
   {
    "duration": 51,
    "start_time": "2023-01-22T10:13:01.520Z"
   },
   {
    "duration": 15,
    "start_time": "2023-01-22T10:13:01.572Z"
   },
   {
    "duration": 10,
    "start_time": "2023-01-22T10:13:01.589Z"
   },
   {
    "duration": 9,
    "start_time": "2023-01-22T10:13:01.601Z"
   },
   {
    "duration": 37,
    "start_time": "2023-01-22T10:13:01.611Z"
   },
   {
    "duration": 9,
    "start_time": "2023-01-22T10:13:01.650Z"
   },
   {
    "duration": 9,
    "start_time": "2023-01-22T10:13:01.661Z"
   },
   {
    "duration": 9,
    "start_time": "2023-01-22T10:13:01.672Z"
   },
   {
    "duration": 11,
    "start_time": "2023-01-22T10:13:01.683Z"
   },
   {
    "duration": 39,
    "start_time": "2023-01-22T10:13:01.696Z"
   },
   {
    "duration": 6713,
    "start_time": "2023-01-22T10:13:01.737Z"
   },
   {
    "duration": 5968,
    "start_time": "2023-01-22T10:13:08.452Z"
   },
   {
    "duration": 2137,
    "start_time": "2023-01-22T10:13:14.421Z"
   },
   {
    "duration": 4088,
    "start_time": "2023-01-22T10:13:16.560Z"
   },
   {
    "duration": 9,
    "start_time": "2023-01-22T10:13:20.649Z"
   },
   {
    "duration": 1247,
    "start_time": "2023-01-22T10:21:02.025Z"
   },
   {
    "duration": 1493,
    "start_time": "2023-01-22T10:21:20.920Z"
   },
   {
    "duration": 704,
    "start_time": "2023-01-22T10:21:22.415Z"
   },
   {
    "duration": 4,
    "start_time": "2023-01-22T10:21:23.120Z"
   },
   {
    "duration": 392,
    "start_time": "2023-01-22T10:21:23.126Z"
   },
   {
    "duration": 227,
    "start_time": "2023-01-22T10:21:23.521Z"
   },
   {
    "duration": 393,
    "start_time": "2023-01-22T10:21:23.751Z"
   },
   {
    "duration": 26,
    "start_time": "2023-01-22T10:21:24.148Z"
   },
   {
    "duration": 35,
    "start_time": "2023-01-22T10:21:24.175Z"
   },
   {
    "duration": 36,
    "start_time": "2023-01-22T10:21:24.212Z"
   },
   {
    "duration": 6,
    "start_time": "2023-01-22T10:21:24.250Z"
   },
   {
    "duration": 7,
    "start_time": "2023-01-22T10:21:24.257Z"
   },
   {
    "duration": 10,
    "start_time": "2023-01-22T10:21:24.266Z"
   },
   {
    "duration": 6,
    "start_time": "2023-01-22T10:21:24.278Z"
   },
   {
    "duration": 3214,
    "start_time": "2023-01-22T10:21:24.285Z"
   },
   {
    "duration": 26,
    "start_time": "2023-01-22T10:21:27.501Z"
   },
   {
    "duration": 2594,
    "start_time": "2023-01-22T10:21:27.529Z"
   },
   {
    "duration": 26,
    "start_time": "2023-01-22T10:21:30.125Z"
   },
   {
    "duration": 2177,
    "start_time": "2023-01-22T10:21:30.153Z"
   },
   {
    "duration": 7,
    "start_time": "2023-01-22T10:21:32.333Z"
   },
   {
    "duration": 14,
    "start_time": "2023-01-22T10:21:32.349Z"
   },
   {
    "duration": 87,
    "start_time": "2023-01-22T10:21:32.365Z"
   },
   {
    "duration": 11,
    "start_time": "2023-01-22T10:21:32.455Z"
   },
   {
    "duration": 51,
    "start_time": "2023-01-22T10:21:32.469Z"
   },
   {
    "duration": 35,
    "start_time": "2023-01-22T10:21:32.522Z"
   },
   {
    "duration": 13,
    "start_time": "2023-01-22T10:21:32.559Z"
   },
   {
    "duration": 6,
    "start_time": "2023-01-22T10:21:32.574Z"
   },
   {
    "duration": 12,
    "start_time": "2023-01-22T10:21:32.582Z"
   },
   {
    "duration": 5,
    "start_time": "2023-01-22T10:21:32.599Z"
   },
   {
    "duration": 16,
    "start_time": "2023-01-22T10:21:32.605Z"
   },
   {
    "duration": 15,
    "start_time": "2023-01-22T10:21:32.623Z"
   },
   {
    "duration": 21,
    "start_time": "2023-01-22T10:21:32.640Z"
   },
   {
    "duration": 32,
    "start_time": "2023-01-22T10:21:32.665Z"
   },
   {
    "duration": 6759,
    "start_time": "2023-01-22T10:21:32.700Z"
   },
   {
    "duration": 5877,
    "start_time": "2023-01-22T10:21:39.461Z"
   },
   {
    "duration": 2713,
    "start_time": "2023-01-22T10:21:45.340Z"
   },
   {
    "duration": 4079,
    "start_time": "2023-01-22T10:21:48.057Z"
   },
   {
    "duration": 12,
    "start_time": "2023-01-22T10:21:52.138Z"
   },
   {
    "duration": 1435,
    "start_time": "2023-01-22T10:30:43.784Z"
   },
   {
    "duration": 761,
    "start_time": "2023-01-22T10:30:45.221Z"
   },
   {
    "duration": 4,
    "start_time": "2023-01-22T10:30:45.984Z"
   },
   {
    "duration": 379,
    "start_time": "2023-01-22T10:30:45.990Z"
   },
   {
    "duration": 168,
    "start_time": "2023-01-22T10:30:46.370Z"
   },
   {
    "duration": 425,
    "start_time": "2023-01-22T10:30:46.549Z"
   },
   {
    "duration": 23,
    "start_time": "2023-01-22T10:30:46.976Z"
   },
   {
    "duration": 55,
    "start_time": "2023-01-22T10:30:47.001Z"
   },
   {
    "duration": 7,
    "start_time": "2023-01-22T10:30:47.057Z"
   },
   {
    "duration": 16,
    "start_time": "2023-01-22T10:30:47.066Z"
   },
   {
    "duration": 8,
    "start_time": "2023-01-22T10:30:47.083Z"
   },
   {
    "duration": 9,
    "start_time": "2023-01-22T10:30:47.093Z"
   },
   {
    "duration": 8,
    "start_time": "2023-01-22T10:30:47.104Z"
   },
   {
    "duration": 3075,
    "start_time": "2023-01-22T10:30:47.147Z"
   },
   {
    "duration": 18,
    "start_time": "2023-01-22T10:30:50.224Z"
   },
   {
    "duration": 2387,
    "start_time": "2023-01-22T10:30:50.244Z"
   },
   {
    "duration": 33,
    "start_time": "2023-01-22T10:30:52.633Z"
   },
   {
    "duration": 1974,
    "start_time": "2023-01-22T10:30:52.668Z"
   },
   {
    "duration": 9,
    "start_time": "2023-01-22T10:30:54.643Z"
   },
   {
    "duration": 16,
    "start_time": "2023-01-22T10:30:54.654Z"
   },
   {
    "duration": 28,
    "start_time": "2023-01-22T10:30:54.671Z"
   },
   {
    "duration": 9,
    "start_time": "2023-01-22T10:30:54.702Z"
   },
   {
    "duration": 68,
    "start_time": "2023-01-22T10:30:54.713Z"
   },
   {
    "duration": 15,
    "start_time": "2023-01-22T10:30:54.783Z"
   },
   {
    "duration": 12,
    "start_time": "2023-01-22T10:30:54.800Z"
   },
   {
    "duration": 13,
    "start_time": "2023-01-22T10:30:54.814Z"
   },
   {
    "duration": 19,
    "start_time": "2023-01-22T10:30:54.829Z"
   },
   {
    "duration": 3,
    "start_time": "2023-01-22T10:30:54.851Z"
   },
   {
    "duration": 7,
    "start_time": "2023-01-22T10:30:54.856Z"
   },
   {
    "duration": 5,
    "start_time": "2023-01-22T10:30:54.864Z"
   },
   {
    "duration": 9,
    "start_time": "2023-01-22T10:30:54.871Z"
   },
   {
    "duration": 31,
    "start_time": "2023-01-22T10:30:54.882Z"
   },
   {
    "duration": 6645,
    "start_time": "2023-01-22T10:30:54.914Z"
   },
   {
    "duration": 5937,
    "start_time": "2023-01-22T10:31:01.561Z"
   },
   {
    "duration": 2751,
    "start_time": "2023-01-22T10:31:07.500Z"
   },
   {
    "duration": 4224,
    "start_time": "2023-01-22T10:31:10.253Z"
   },
   {
    "duration": 8,
    "start_time": "2023-01-22T10:31:14.479Z"
   },
   {
    "duration": 28,
    "start_time": "2023-01-22T11:08:49.770Z"
   },
   {
    "duration": 54,
    "start_time": "2023-01-22T14:30:45.969Z"
   },
   {
    "duration": 1517,
    "start_time": "2023-01-22T14:30:51.888Z"
   },
   {
    "duration": 3079,
    "start_time": "2023-01-22T14:30:53.407Z"
   },
   {
    "duration": 3,
    "start_time": "2023-01-22T14:30:56.488Z"
   },
   {
    "duration": 361,
    "start_time": "2023-01-22T14:30:56.493Z"
   },
   {
    "duration": 166,
    "start_time": "2023-01-22T14:30:56.856Z"
   },
   {
    "duration": 342,
    "start_time": "2023-01-22T14:30:57.024Z"
   },
   {
    "duration": 21,
    "start_time": "2023-01-22T14:30:57.367Z"
   },
   {
    "duration": 28,
    "start_time": "2023-01-22T14:30:57.389Z"
   },
   {
    "duration": 7,
    "start_time": "2023-01-22T14:30:57.449Z"
   },
   {
    "duration": 8,
    "start_time": "2023-01-22T14:30:57.457Z"
   },
   {
    "duration": 8,
    "start_time": "2023-01-22T14:30:57.467Z"
   },
   {
    "duration": 10,
    "start_time": "2023-01-22T14:30:57.476Z"
   },
   {
    "duration": 8,
    "start_time": "2023-01-22T14:30:57.488Z"
   },
   {
    "duration": 2919,
    "start_time": "2023-01-22T14:30:57.500Z"
   },
   {
    "duration": 16,
    "start_time": "2023-01-22T14:31:00.421Z"
   },
   {
    "duration": 2377,
    "start_time": "2023-01-22T14:31:00.439Z"
   },
   {
    "duration": 32,
    "start_time": "2023-01-22T14:31:02.817Z"
   },
   {
    "duration": 1757,
    "start_time": "2023-01-22T14:31:02.851Z"
   },
   {
    "duration": 5,
    "start_time": "2023-01-22T14:31:04.609Z"
   },
   {
    "duration": 10,
    "start_time": "2023-01-22T14:31:04.616Z"
   },
   {
    "duration": 35,
    "start_time": "2023-01-22T14:31:04.629Z"
   },
   {
    "duration": 7,
    "start_time": "2023-01-22T14:31:04.666Z"
   },
   {
    "duration": 36,
    "start_time": "2023-01-22T14:31:04.675Z"
   },
   {
    "duration": 41,
    "start_time": "2023-01-22T14:31:04.712Z"
   },
   {
    "duration": 10,
    "start_time": "2023-01-22T14:31:04.755Z"
   },
   {
    "duration": 6,
    "start_time": "2023-01-22T14:31:04.767Z"
   },
   {
    "duration": 11,
    "start_time": "2023-01-22T14:31:04.774Z"
   },
   {
    "duration": 132,
    "start_time": "2023-01-22T14:31:04.787Z"
   },
   {
    "duration": 0,
    "start_time": "2023-01-22T14:31:04.921Z"
   },
   {
    "duration": 0,
    "start_time": "2023-01-22T14:31:04.922Z"
   },
   {
    "duration": 0,
    "start_time": "2023-01-22T14:31:04.923Z"
   },
   {
    "duration": 0,
    "start_time": "2023-01-22T14:31:04.924Z"
   },
   {
    "duration": 0,
    "start_time": "2023-01-22T14:31:04.926Z"
   },
   {
    "duration": 0,
    "start_time": "2023-01-22T14:31:04.927Z"
   },
   {
    "duration": 0,
    "start_time": "2023-01-22T14:31:04.948Z"
   },
   {
    "duration": 0,
    "start_time": "2023-01-22T14:31:04.950Z"
   },
   {
    "duration": 0,
    "start_time": "2023-01-22T14:31:04.951Z"
   },
   {
    "duration": 0,
    "start_time": "2023-01-22T14:31:04.953Z"
   },
   {
    "duration": 12,
    "start_time": "2023-01-22T14:33:50.819Z"
   },
   {
    "duration": 10,
    "start_time": "2023-01-22T14:33:53.516Z"
   },
   {
    "duration": 44,
    "start_time": "2023-01-22T14:35:45.440Z"
   },
   {
    "duration": 14,
    "start_time": "2023-01-22T14:36:19.712Z"
   },
   {
    "duration": 13,
    "start_time": "2023-01-22T14:37:16.231Z"
   },
   {
    "duration": 12,
    "start_time": "2023-01-22T14:37:32.648Z"
   },
   {
    "duration": 41,
    "start_time": "2023-01-22T14:37:45.641Z"
   },
   {
    "duration": 26,
    "start_time": "2023-01-22T14:37:48.196Z"
   },
   {
    "duration": 22,
    "start_time": "2023-01-22T14:37:48.820Z"
   },
   {
    "duration": 1494,
    "start_time": "2023-01-22T14:39:27.416Z"
   },
   {
    "duration": 1463,
    "start_time": "2023-01-22T14:40:22.733Z"
   },
   {
    "duration": 2751,
    "start_time": "2023-01-22T14:40:37.289Z"
   },
   {
    "duration": 1221,
    "start_time": "2023-01-22T14:41:14.019Z"
   },
   {
    "duration": 2491,
    "start_time": "2023-01-22T14:41:35.028Z"
   },
   {
    "duration": 2685,
    "start_time": "2023-01-22T14:42:16.671Z"
   },
   {
    "duration": 1688,
    "start_time": "2023-01-22T15:08:07.755Z"
   },
   {
    "duration": 3232,
    "start_time": "2023-01-22T15:08:09.446Z"
   },
   {
    "duration": 4,
    "start_time": "2023-01-22T15:08:12.680Z"
   },
   {
    "duration": 394,
    "start_time": "2023-01-22T15:08:12.689Z"
   },
   {
    "duration": 185,
    "start_time": "2023-01-22T15:08:13.084Z"
   },
   {
    "duration": 406,
    "start_time": "2023-01-22T15:08:13.271Z"
   },
   {
    "duration": 23,
    "start_time": "2023-01-22T15:08:13.679Z"
   },
   {
    "duration": 52,
    "start_time": "2023-01-22T15:08:13.704Z"
   },
   {
    "duration": 7,
    "start_time": "2023-01-22T15:08:13.758Z"
   },
   {
    "duration": 8,
    "start_time": "2023-01-22T15:08:13.768Z"
   },
   {
    "duration": 10,
    "start_time": "2023-01-22T15:08:13.778Z"
   },
   {
    "duration": 10,
    "start_time": "2023-01-22T15:08:13.837Z"
   },
   {
    "duration": 11,
    "start_time": "2023-01-22T15:08:13.849Z"
   },
   {
    "duration": 3422,
    "start_time": "2023-01-22T15:08:13.861Z"
   },
   {
    "duration": 19,
    "start_time": "2023-01-22T15:08:17.285Z"
   },
   {
    "duration": 2739,
    "start_time": "2023-01-22T15:08:17.306Z"
   },
   {
    "duration": 19,
    "start_time": "2023-01-22T15:08:20.047Z"
   },
   {
    "duration": 2143,
    "start_time": "2023-01-22T15:08:20.068Z"
   },
   {
    "duration": 6,
    "start_time": "2023-01-22T15:08:22.213Z"
   },
   {
    "duration": 21,
    "start_time": "2023-01-22T15:08:22.221Z"
   },
   {
    "duration": 28,
    "start_time": "2023-01-22T15:08:22.244Z"
   },
   {
    "duration": 25,
    "start_time": "2023-01-22T15:08:22.274Z"
   },
   {
    "duration": 53,
    "start_time": "2023-01-22T15:08:22.300Z"
   },
   {
    "duration": 15,
    "start_time": "2023-01-22T15:08:22.355Z"
   },
   {
    "duration": 50,
    "start_time": "2023-01-22T15:08:22.373Z"
   },
   {
    "duration": 14,
    "start_time": "2023-01-22T15:08:22.426Z"
   },
   {
    "duration": 25,
    "start_time": "2023-01-22T15:08:22.442Z"
   },
   {
    "duration": 51,
    "start_time": "2023-01-22T15:08:22.474Z"
   },
   {
    "duration": 50,
    "start_time": "2023-01-22T15:08:22.527Z"
   },
   {
    "duration": 2688,
    "start_time": "2023-01-22T15:08:22.579Z"
   },
   {
    "duration": 1035,
    "start_time": "2023-01-22T15:08:25.269Z"
   },
   {
    "duration": 0,
    "start_time": "2023-01-22T15:08:26.306Z"
   },
   {
    "duration": 0,
    "start_time": "2023-01-22T15:08:26.307Z"
   },
   {
    "duration": 0,
    "start_time": "2023-01-22T15:08:26.309Z"
   },
   {
    "duration": 0,
    "start_time": "2023-01-22T15:08:26.310Z"
   },
   {
    "duration": 0,
    "start_time": "2023-01-22T15:08:26.311Z"
   },
   {
    "duration": 0,
    "start_time": "2023-01-22T15:08:26.312Z"
   },
   {
    "duration": 0,
    "start_time": "2023-01-22T15:08:26.313Z"
   },
   {
    "duration": 0,
    "start_time": "2023-01-22T15:08:26.314Z"
   },
   {
    "duration": 0,
    "start_time": "2023-01-22T15:08:26.316Z"
   },
   {
    "duration": 0,
    "start_time": "2023-01-22T15:08:26.317Z"
   },
   {
    "duration": 0,
    "start_time": "2023-01-22T15:08:26.318Z"
   },
   {
    "duration": 8,
    "start_time": "2023-01-22T15:09:28.732Z"
   },
   {
    "duration": 14,
    "start_time": "2023-01-22T15:10:43.235Z"
   },
   {
    "duration": 11,
    "start_time": "2023-01-22T15:11:12.389Z"
   },
   {
    "duration": 55,
    "start_time": "2023-01-22T15:13:10.049Z"
   },
   {
    "duration": 50,
    "start_time": "2023-01-22T15:13:30.614Z"
   },
   {
    "duration": 14,
    "start_time": "2023-01-22T15:13:46.573Z"
   },
   {
    "duration": 837,
    "start_time": "2023-01-22T15:14:05.989Z"
   },
   {
    "duration": 13,
    "start_time": "2023-01-22T15:15:44.590Z"
   },
   {
    "duration": 34,
    "start_time": "2023-01-22T15:17:19.725Z"
   },
   {
    "duration": 2668,
    "start_time": "2023-01-22T15:17:32.445Z"
   },
   {
    "duration": 2721,
    "start_time": "2023-01-22T15:18:20.830Z"
   },
   {
    "duration": 2462,
    "start_time": "2023-01-22T15:18:33.901Z"
   },
   {
    "duration": 13,
    "start_time": "2023-01-22T15:37:37.407Z"
   },
   {
    "duration": 25,
    "start_time": "2023-01-22T15:38:17.347Z"
   },
   {
    "duration": 21,
    "start_time": "2023-01-22T15:38:39.574Z"
   },
   {
    "duration": 1437,
    "start_time": "2023-01-22T15:38:57.565Z"
   },
   {
    "duration": 680,
    "start_time": "2023-01-22T15:38:59.005Z"
   },
   {
    "duration": 3,
    "start_time": "2023-01-22T15:38:59.687Z"
   },
   {
    "duration": 406,
    "start_time": "2023-01-22T15:38:59.691Z"
   },
   {
    "duration": 188,
    "start_time": "2023-01-22T15:39:00.099Z"
   },
   {
    "duration": 406,
    "start_time": "2023-01-22T15:39:00.290Z"
   },
   {
    "duration": 42,
    "start_time": "2023-01-22T15:39:00.698Z"
   },
   {
    "duration": 54,
    "start_time": "2023-01-22T15:39:00.742Z"
   },
   {
    "duration": 58,
    "start_time": "2023-01-22T15:39:00.797Z"
   },
   {
    "duration": 44,
    "start_time": "2023-01-22T15:39:00.857Z"
   },
   {
    "duration": 40,
    "start_time": "2023-01-22T15:39:00.903Z"
   },
   {
    "duration": 29,
    "start_time": "2023-01-22T15:39:00.945Z"
   },
   {
    "duration": 34,
    "start_time": "2023-01-22T15:39:00.976Z"
   },
   {
    "duration": 3503,
    "start_time": "2023-01-22T15:39:01.013Z"
   },
   {
    "duration": 20,
    "start_time": "2023-01-22T15:39:04.517Z"
   },
   {
    "duration": 2688,
    "start_time": "2023-01-22T15:39:04.539Z"
   },
   {
    "duration": 23,
    "start_time": "2023-01-22T15:39:07.229Z"
   },
   {
    "duration": 2093,
    "start_time": "2023-01-22T15:39:07.254Z"
   },
   {
    "duration": 6,
    "start_time": "2023-01-22T15:39:09.348Z"
   },
   {
    "duration": 12,
    "start_time": "2023-01-22T15:39:09.356Z"
   },
   {
    "duration": 19,
    "start_time": "2023-01-22T15:39:09.370Z"
   },
   {
    "duration": 11,
    "start_time": "2023-01-22T15:39:09.391Z"
   },
   {
    "duration": 41,
    "start_time": "2023-01-22T15:39:09.437Z"
   },
   {
    "duration": 14,
    "start_time": "2023-01-22T15:39:09.480Z"
   },
   {
    "duration": 46,
    "start_time": "2023-01-22T15:39:09.496Z"
   },
   {
    "duration": 5,
    "start_time": "2023-01-22T15:39:09.544Z"
   },
   {
    "duration": 7,
    "start_time": "2023-01-22T15:39:09.550Z"
   },
   {
    "duration": 49,
    "start_time": "2023-01-22T15:39:09.558Z"
   },
   {
    "duration": 60,
    "start_time": "2023-01-22T15:39:09.609Z"
   },
   {
    "duration": 2526,
    "start_time": "2023-01-22T15:39:09.671Z"
   },
   {
    "duration": 8,
    "start_time": "2023-01-22T15:39:12.199Z"
   },
   {
    "duration": 30,
    "start_time": "2023-01-22T15:39:12.208Z"
   },
   {
    "duration": 2773,
    "start_time": "2023-01-22T15:39:12.240Z"
   },
   {
    "duration": 8,
    "start_time": "2023-01-22T15:39:15.015Z"
   },
   {
    "duration": 4,
    "start_time": "2023-01-22T15:39:15.037Z"
   },
   {
    "duration": 7,
    "start_time": "2023-01-22T15:39:15.042Z"
   },
   {
    "duration": 13,
    "start_time": "2023-01-22T15:39:15.051Z"
   },
   {
    "duration": 25,
    "start_time": "2023-01-22T15:39:15.066Z"
   },
   {
    "duration": 140,
    "start_time": "2023-01-22T15:39:15.093Z"
   },
   {
    "duration": 0,
    "start_time": "2023-01-22T15:39:15.239Z"
   },
   {
    "duration": 0,
    "start_time": "2023-01-22T15:39:15.241Z"
   },
   {
    "duration": 0,
    "start_time": "2023-01-22T15:39:15.242Z"
   },
   {
    "duration": 0,
    "start_time": "2023-01-22T15:39:15.244Z"
   },
   {
    "duration": 0,
    "start_time": "2023-01-22T15:39:15.245Z"
   },
   {
    "duration": 3,
    "start_time": "2023-01-22T15:42:02.035Z"
   },
   {
    "duration": 2089,
    "start_time": "2023-01-22T15:42:19.085Z"
   },
   {
    "duration": 745,
    "start_time": "2023-01-22T15:42:21.177Z"
   },
   {
    "duration": 4,
    "start_time": "2023-01-22T15:42:21.923Z"
   },
   {
    "duration": 438,
    "start_time": "2023-01-22T15:42:21.928Z"
   },
   {
    "duration": 274,
    "start_time": "2023-01-22T15:42:22.370Z"
   },
   {
    "duration": 411,
    "start_time": "2023-01-22T15:42:22.646Z"
   },
   {
    "duration": 25,
    "start_time": "2023-01-22T15:42:23.059Z"
   },
   {
    "duration": 60,
    "start_time": "2023-01-22T15:42:23.086Z"
   },
   {
    "duration": 7,
    "start_time": "2023-01-22T15:42:23.148Z"
   },
   {
    "duration": 33,
    "start_time": "2023-01-22T15:42:23.157Z"
   },
   {
    "duration": 21,
    "start_time": "2023-01-22T15:42:23.193Z"
   },
   {
    "duration": 21,
    "start_time": "2023-01-22T15:42:23.217Z"
   },
   {
    "duration": 9,
    "start_time": "2023-01-22T15:42:23.240Z"
   },
   {
    "duration": 3371,
    "start_time": "2023-01-22T15:42:23.253Z"
   },
   {
    "duration": 23,
    "start_time": "2023-01-22T15:42:26.627Z"
   },
   {
    "duration": 2555,
    "start_time": "2023-01-22T15:42:26.651Z"
   },
   {
    "duration": 17,
    "start_time": "2023-01-22T15:42:29.208Z"
   },
   {
    "duration": 1999,
    "start_time": "2023-01-22T15:42:29.238Z"
   },
   {
    "duration": 6,
    "start_time": "2023-01-22T15:42:31.239Z"
   },
   {
    "duration": 35,
    "start_time": "2023-01-22T15:42:31.246Z"
   },
   {
    "duration": 54,
    "start_time": "2023-01-22T15:42:31.282Z"
   },
   {
    "duration": 31,
    "start_time": "2023-01-22T15:42:31.337Z"
   },
   {
    "duration": 97,
    "start_time": "2023-01-22T15:42:31.370Z"
   },
   {
    "duration": 19,
    "start_time": "2023-01-22T15:42:31.468Z"
   },
   {
    "duration": 51,
    "start_time": "2023-01-22T15:42:31.489Z"
   },
   {
    "duration": 19,
    "start_time": "2023-01-22T15:42:31.543Z"
   },
   {
    "duration": 30,
    "start_time": "2023-01-22T15:42:31.564Z"
   },
   {
    "duration": 67,
    "start_time": "2023-01-22T15:42:31.596Z"
   },
   {
    "duration": 40,
    "start_time": "2023-01-22T15:42:31.666Z"
   },
   {
    "duration": 3014,
    "start_time": "2023-01-22T15:42:31.708Z"
   },
   {
    "duration": 17,
    "start_time": "2023-01-22T15:42:34.724Z"
   },
   {
    "duration": 45,
    "start_time": "2023-01-22T15:42:34.743Z"
   },
   {
    "duration": 2789,
    "start_time": "2023-01-22T15:42:34.789Z"
   },
   {
    "duration": 6,
    "start_time": "2023-01-22T15:42:37.580Z"
   },
   {
    "duration": 8,
    "start_time": "2023-01-22T15:42:37.588Z"
   },
   {
    "duration": 29,
    "start_time": "2023-01-22T15:42:37.598Z"
   },
   {
    "duration": 18,
    "start_time": "2023-01-22T15:42:37.629Z"
   },
   {
    "duration": 23,
    "start_time": "2023-01-22T15:42:37.649Z"
   },
   {
    "duration": 27,
    "start_time": "2023-01-22T15:42:37.674Z"
   },
   {
    "duration": 196,
    "start_time": "2023-01-22T15:42:37.703Z"
   },
   {
    "duration": 59,
    "start_time": "2023-01-22T15:42:37.903Z"
   },
   {
    "duration": 70,
    "start_time": "2023-01-22T15:42:37.963Z"
   },
   {
    "duration": 20,
    "start_time": "2023-01-22T15:42:38.034Z"
   },
   {
    "duration": 0,
    "start_time": "2023-01-22T15:42:38.056Z"
   },
   {
    "duration": 1545,
    "start_time": "2023-01-22T15:43:30.517Z"
   },
   {
    "duration": 944,
    "start_time": "2023-01-22T15:43:32.065Z"
   },
   {
    "duration": 4,
    "start_time": "2023-01-22T15:43:33.012Z"
   },
   {
    "duration": 539,
    "start_time": "2023-01-22T15:43:33.019Z"
   },
   {
    "duration": 277,
    "start_time": "2023-01-22T15:43:33.561Z"
   },
   {
    "duration": 476,
    "start_time": "2023-01-22T15:43:33.841Z"
   },
   {
    "duration": 32,
    "start_time": "2023-01-22T15:43:34.319Z"
   },
   {
    "duration": 64,
    "start_time": "2023-01-22T15:43:34.353Z"
   },
   {
    "duration": 22,
    "start_time": "2023-01-22T15:43:34.419Z"
   },
   {
    "duration": 33,
    "start_time": "2023-01-22T15:43:34.444Z"
   },
   {
    "duration": 23,
    "start_time": "2023-01-22T15:43:34.479Z"
   },
   {
    "duration": 20,
    "start_time": "2023-01-22T15:43:34.504Z"
   },
   {
    "duration": 28,
    "start_time": "2023-01-22T15:43:34.525Z"
   },
   {
    "duration": 3600,
    "start_time": "2023-01-22T15:43:34.555Z"
   },
   {
    "duration": 24,
    "start_time": "2023-01-22T15:43:38.159Z"
   },
   {
    "duration": 2702,
    "start_time": "2023-01-22T15:43:38.186Z"
   },
   {
    "duration": 21,
    "start_time": "2023-01-22T15:43:40.890Z"
   },
   {
    "duration": 2161,
    "start_time": "2023-01-22T15:43:40.912Z"
   },
   {
    "duration": 7,
    "start_time": "2023-01-22T15:43:43.075Z"
   },
   {
    "duration": 16,
    "start_time": "2023-01-22T15:43:43.084Z"
   },
   {
    "duration": 38,
    "start_time": "2023-01-22T15:43:43.102Z"
   },
   {
    "duration": 12,
    "start_time": "2023-01-22T15:43:43.142Z"
   },
   {
    "duration": 58,
    "start_time": "2023-01-22T15:43:43.156Z"
   },
   {
    "duration": 27,
    "start_time": "2023-01-22T15:43:43.216Z"
   },
   {
    "duration": 11,
    "start_time": "2023-01-22T15:43:43.245Z"
   },
   {
    "duration": 17,
    "start_time": "2023-01-22T15:43:43.259Z"
   },
   {
    "duration": 25,
    "start_time": "2023-01-22T15:43:43.278Z"
   },
   {
    "duration": 60,
    "start_time": "2023-01-22T15:43:43.308Z"
   },
   {
    "duration": 40,
    "start_time": "2023-01-22T15:43:43.370Z"
   },
   {
    "duration": 2869,
    "start_time": "2023-01-22T15:43:43.412Z"
   },
   {
    "duration": 9,
    "start_time": "2023-01-22T15:43:46.283Z"
   },
   {
    "duration": 21,
    "start_time": "2023-01-22T15:43:46.294Z"
   },
   {
    "duration": 2751,
    "start_time": "2023-01-22T15:43:46.317Z"
   },
   {
    "duration": 4,
    "start_time": "2023-01-22T15:43:49.071Z"
   },
   {
    "duration": 16,
    "start_time": "2023-01-22T15:43:49.077Z"
   },
   {
    "duration": 15,
    "start_time": "2023-01-22T15:43:49.095Z"
   },
   {
    "duration": 17,
    "start_time": "2023-01-22T15:43:49.112Z"
   },
   {
    "duration": 24,
    "start_time": "2023-01-22T15:43:49.131Z"
   },
   {
    "duration": 7592,
    "start_time": "2023-01-22T15:43:49.157Z"
   },
   {
    "duration": 6313,
    "start_time": "2023-01-22T15:43:56.751Z"
   },
   {
    "duration": 1972,
    "start_time": "2023-01-22T15:44:03.066Z"
   },
   {
    "duration": 4475,
    "start_time": "2023-01-22T15:44:05.040Z"
   },
   {
    "duration": 10,
    "start_time": "2023-01-22T15:44:09.517Z"
   },
   {
    "duration": 6,
    "start_time": "2023-01-22T15:48:22.905Z"
   },
   {
    "duration": 9,
    "start_time": "2023-01-22T15:48:45.263Z"
   },
   {
    "duration": 1458,
    "start_time": "2023-01-22T15:48:50.176Z"
   },
   {
    "duration": 685,
    "start_time": "2023-01-22T15:48:51.636Z"
   },
   {
    "duration": 4,
    "start_time": "2023-01-22T15:48:52.322Z"
   },
   {
    "duration": 469,
    "start_time": "2023-01-22T15:48:52.328Z"
   },
   {
    "duration": 195,
    "start_time": "2023-01-22T15:48:52.800Z"
   },
   {
    "duration": 437,
    "start_time": "2023-01-22T15:48:52.996Z"
   },
   {
    "duration": 26,
    "start_time": "2023-01-22T15:48:53.435Z"
   },
   {
    "duration": 41,
    "start_time": "2023-01-22T15:48:53.463Z"
   },
   {
    "duration": 38,
    "start_time": "2023-01-22T15:48:53.505Z"
   },
   {
    "duration": 11,
    "start_time": "2023-01-22T15:48:53.545Z"
   },
   {
    "duration": 14,
    "start_time": "2023-01-22T15:48:53.558Z"
   },
   {
    "duration": 9,
    "start_time": "2023-01-22T15:48:53.574Z"
   },
   {
    "duration": 7,
    "start_time": "2023-01-22T15:48:53.585Z"
   },
   {
    "duration": 3489,
    "start_time": "2023-01-22T15:48:53.595Z"
   },
   {
    "duration": 18,
    "start_time": "2023-01-22T15:48:57.086Z"
   },
   {
    "duration": 2495,
    "start_time": "2023-01-22T15:48:57.106Z"
   },
   {
    "duration": 18,
    "start_time": "2023-01-22T15:48:59.602Z"
   },
   {
    "duration": 2042,
    "start_time": "2023-01-22T15:48:59.622Z"
   },
   {
    "duration": 5,
    "start_time": "2023-01-22T15:49:01.666Z"
   },
   {
    "duration": 38,
    "start_time": "2023-01-22T15:49:01.673Z"
   },
   {
    "duration": 32,
    "start_time": "2023-01-22T15:49:01.713Z"
   },
   {
    "duration": 27,
    "start_time": "2023-01-22T15:49:01.746Z"
   },
   {
    "duration": 56,
    "start_time": "2023-01-22T15:49:01.774Z"
   },
   {
    "duration": 10,
    "start_time": "2023-01-22T15:49:01.831Z"
   },
   {
    "duration": 36,
    "start_time": "2023-01-22T15:49:01.842Z"
   },
   {
    "duration": 30,
    "start_time": "2023-01-22T15:49:01.880Z"
   },
   {
    "duration": 15,
    "start_time": "2023-01-22T15:49:01.911Z"
   },
   {
    "duration": 66,
    "start_time": "2023-01-22T15:49:01.927Z"
   },
   {
    "duration": 36,
    "start_time": "2023-01-22T15:49:01.994Z"
   },
   {
    "duration": 2652,
    "start_time": "2023-01-22T15:49:02.032Z"
   },
   {
    "duration": 9,
    "start_time": "2023-01-22T15:49:04.685Z"
   },
   {
    "duration": 15,
    "start_time": "2023-01-22T15:49:04.695Z"
   },
   {
    "duration": 2578,
    "start_time": "2023-01-22T15:49:04.712Z"
   },
   {
    "duration": 6,
    "start_time": "2023-01-22T15:49:07.293Z"
   },
   {
    "duration": 6,
    "start_time": "2023-01-22T15:49:07.301Z"
   },
   {
    "duration": 6,
    "start_time": "2023-01-22T15:49:07.309Z"
   },
   {
    "duration": 22,
    "start_time": "2023-01-22T15:49:07.316Z"
   },
   {
    "duration": 19,
    "start_time": "2023-01-22T15:49:07.340Z"
   },
   {
    "duration": 7,
    "start_time": "2023-01-22T15:49:07.360Z"
   },
   {
    "duration": 7027,
    "start_time": "2023-01-22T15:49:07.368Z"
   },
   {
    "duration": 6290,
    "start_time": "2023-01-22T15:49:14.399Z"
   },
   {
    "duration": 1951,
    "start_time": "2023-01-22T15:49:20.692Z"
   },
   {
    "duration": 4198,
    "start_time": "2023-01-22T15:49:22.737Z"
   },
   {
    "duration": 9,
    "start_time": "2023-01-22T15:49:26.937Z"
   },
   {
    "duration": 9,
    "start_time": "2023-01-22T15:52:37.589Z"
   },
   {
    "duration": 14,
    "start_time": "2023-01-22T15:53:33.025Z"
   },
   {
    "duration": 1470,
    "start_time": "2023-01-22T15:53:38.507Z"
   },
   {
    "duration": 731,
    "start_time": "2023-01-22T15:53:39.980Z"
   },
   {
    "duration": 4,
    "start_time": "2023-01-22T15:53:40.713Z"
   },
   {
    "duration": 500,
    "start_time": "2023-01-22T15:53:40.719Z"
   },
   {
    "duration": 218,
    "start_time": "2023-01-22T15:53:41.222Z"
   },
   {
    "duration": 476,
    "start_time": "2023-01-22T15:53:41.444Z"
   },
   {
    "duration": 29,
    "start_time": "2023-01-22T15:53:41.922Z"
   },
   {
    "duration": 37,
    "start_time": "2023-01-22T15:53:41.953Z"
   },
   {
    "duration": 49,
    "start_time": "2023-01-22T15:53:41.992Z"
   },
   {
    "duration": 8,
    "start_time": "2023-01-22T15:53:42.044Z"
   },
   {
    "duration": 24,
    "start_time": "2023-01-22T15:53:42.055Z"
   },
   {
    "duration": 14,
    "start_time": "2023-01-22T15:53:42.081Z"
   },
   {
    "duration": 44,
    "start_time": "2023-01-22T15:53:42.096Z"
   },
   {
    "duration": 3649,
    "start_time": "2023-01-22T15:53:42.143Z"
   },
   {
    "duration": 20,
    "start_time": "2023-01-22T15:53:45.794Z"
   },
   {
    "duration": 2583,
    "start_time": "2023-01-22T15:53:45.816Z"
   },
   {
    "duration": 37,
    "start_time": "2023-01-22T15:53:48.401Z"
   },
   {
    "duration": 2223,
    "start_time": "2023-01-22T15:53:48.440Z"
   },
   {
    "duration": 8,
    "start_time": "2023-01-22T15:53:50.665Z"
   },
   {
    "duration": 10,
    "start_time": "2023-01-22T15:53:50.675Z"
   },
   {
    "duration": 21,
    "start_time": "2023-01-22T15:53:50.687Z"
   },
   {
    "duration": 9,
    "start_time": "2023-01-22T15:53:50.739Z"
   },
   {
    "duration": 45,
    "start_time": "2023-01-22T15:53:50.749Z"
   },
   {
    "duration": 9,
    "start_time": "2023-01-22T15:53:50.795Z"
   },
   {
    "duration": 9,
    "start_time": "2023-01-22T15:53:50.837Z"
   },
   {
    "duration": 31,
    "start_time": "2023-01-22T15:53:50.848Z"
   },
   {
    "duration": 15,
    "start_time": "2023-01-22T15:53:50.881Z"
   },
   {
    "duration": 51,
    "start_time": "2023-01-22T15:53:50.900Z"
   },
   {
    "duration": 36,
    "start_time": "2023-01-22T15:53:50.953Z"
   },
   {
    "duration": 2663,
    "start_time": "2023-01-22T15:53:50.991Z"
   },
   {
    "duration": 8,
    "start_time": "2023-01-22T15:53:53.656Z"
   },
   {
    "duration": 25,
    "start_time": "2023-01-22T15:53:53.665Z"
   },
   {
    "duration": 2745,
    "start_time": "2023-01-22T15:53:53.692Z"
   },
   {
    "duration": 17,
    "start_time": "2023-01-22T15:53:56.440Z"
   },
   {
    "duration": 4,
    "start_time": "2023-01-22T15:53:56.459Z"
   },
   {
    "duration": 16,
    "start_time": "2023-01-22T15:53:56.465Z"
   },
   {
    "duration": 18,
    "start_time": "2023-01-22T15:53:56.482Z"
   },
   {
    "duration": 144,
    "start_time": "2023-01-22T15:53:56.502Z"
   },
   {
    "duration": 0,
    "start_time": "2023-01-22T15:53:56.648Z"
   },
   {
    "duration": 0,
    "start_time": "2023-01-22T15:53:56.649Z"
   },
   {
    "duration": 0,
    "start_time": "2023-01-22T15:53:56.650Z"
   },
   {
    "duration": 0,
    "start_time": "2023-01-22T15:53:56.651Z"
   },
   {
    "duration": 0,
    "start_time": "2023-01-22T15:53:56.652Z"
   },
   {
    "duration": 0,
    "start_time": "2023-01-22T15:53:56.653Z"
   },
   {
    "duration": 2563,
    "start_time": "2023-01-22T15:54:05.350Z"
   },
   {
    "duration": 2581,
    "start_time": "2023-01-22T15:54:16.413Z"
   },
   {
    "duration": 2582,
    "start_time": "2023-01-22T15:54:27.974Z"
   },
   {
    "duration": 2642,
    "start_time": "2023-01-22T15:55:29.933Z"
   },
   {
    "duration": 2806,
    "start_time": "2023-01-22T15:55:49.906Z"
   },
   {
    "duration": 5,
    "start_time": "2023-01-22T15:57:36.486Z"
   },
   {
    "duration": 4,
    "start_time": "2023-01-22T15:57:38.578Z"
   },
   {
    "duration": 3,
    "start_time": "2023-01-22T15:57:39.350Z"
   },
   {
    "duration": 4,
    "start_time": "2023-01-22T15:57:40.105Z"
   },
   {
    "duration": 17,
    "start_time": "2023-01-22T15:57:41.638Z"
   },
   {
    "duration": 1763,
    "start_time": "2023-01-22T15:57:49.106Z"
   },
   {
    "duration": 801,
    "start_time": "2023-01-22T15:57:50.871Z"
   },
   {
    "duration": 16,
    "start_time": "2023-01-22T15:57:51.674Z"
   },
   {
    "duration": 473,
    "start_time": "2023-01-22T15:57:51.693Z"
   },
   {
    "duration": 224,
    "start_time": "2023-01-22T15:57:52.168Z"
   },
   {
    "duration": 567,
    "start_time": "2023-01-22T15:57:52.395Z"
   },
   {
    "duration": 26,
    "start_time": "2023-01-22T15:57:52.965Z"
   },
   {
    "duration": 58,
    "start_time": "2023-01-22T15:57:52.993Z"
   },
   {
    "duration": 8,
    "start_time": "2023-01-22T15:57:53.053Z"
   },
   {
    "duration": 11,
    "start_time": "2023-01-22T15:57:53.064Z"
   },
   {
    "duration": 15,
    "start_time": "2023-01-22T15:57:53.078Z"
   },
   {
    "duration": 25,
    "start_time": "2023-01-22T15:57:53.137Z"
   },
   {
    "duration": 12,
    "start_time": "2023-01-22T15:57:53.166Z"
   },
   {
    "duration": 3387,
    "start_time": "2023-01-22T15:57:53.181Z"
   },
   {
    "duration": 20,
    "start_time": "2023-01-22T15:57:56.570Z"
   },
   {
    "duration": 2475,
    "start_time": "2023-01-22T15:57:56.592Z"
   },
   {
    "duration": 19,
    "start_time": "2023-01-22T15:57:59.069Z"
   },
   {
    "duration": 1914,
    "start_time": "2023-01-22T15:57:59.090Z"
   },
   {
    "duration": 7,
    "start_time": "2023-01-22T15:58:01.007Z"
   },
   {
    "duration": 25,
    "start_time": "2023-01-22T15:58:01.016Z"
   },
   {
    "duration": 56,
    "start_time": "2023-01-22T15:58:01.044Z"
   },
   {
    "duration": 25,
    "start_time": "2023-01-22T15:58:01.101Z"
   },
   {
    "duration": 52,
    "start_time": "2023-01-22T15:58:01.127Z"
   },
   {
    "duration": 11,
    "start_time": "2023-01-22T15:58:01.181Z"
   },
   {
    "duration": 35,
    "start_time": "2023-01-22T15:58:01.194Z"
   },
   {
    "duration": 15,
    "start_time": "2023-01-22T15:58:01.232Z"
   },
   {
    "duration": 37,
    "start_time": "2023-01-22T15:58:01.249Z"
   },
   {
    "duration": 79,
    "start_time": "2023-01-22T15:58:01.290Z"
   },
   {
    "duration": 40,
    "start_time": "2023-01-22T15:58:01.371Z"
   },
   {
    "duration": 2636,
    "start_time": "2023-01-22T15:58:01.413Z"
   },
   {
    "duration": 9,
    "start_time": "2023-01-22T15:58:04.051Z"
   },
   {
    "duration": 16,
    "start_time": "2023-01-22T15:58:04.062Z"
   },
   {
    "duration": 2744,
    "start_time": "2023-01-22T15:58:04.080Z"
   },
   {
    "duration": 16,
    "start_time": "2023-01-22T15:58:06.826Z"
   },
   {
    "duration": 5,
    "start_time": "2023-01-22T15:58:06.843Z"
   },
   {
    "duration": 6,
    "start_time": "2023-01-22T15:58:06.849Z"
   },
   {
    "duration": 6,
    "start_time": "2023-01-22T15:58:06.857Z"
   },
   {
    "duration": 16,
    "start_time": "2023-01-22T15:58:06.865Z"
   },
   {
    "duration": 6,
    "start_time": "2023-01-22T15:58:06.883Z"
   },
   {
    "duration": 8995,
    "start_time": "2023-01-22T15:58:06.891Z"
   },
   {
    "duration": 6399,
    "start_time": "2023-01-22T15:58:15.939Z"
   },
   {
    "duration": 2402,
    "start_time": "2023-01-22T15:58:22.340Z"
   },
   {
    "duration": 4720,
    "start_time": "2023-01-22T15:58:24.744Z"
   },
   {
    "duration": 9,
    "start_time": "2023-01-22T15:58:29.467Z"
   },
   {
    "duration": 60,
    "start_time": "2023-01-22T16:00:23.313Z"
   },
   {
    "duration": 70,
    "start_time": "2023-01-22T16:04:11.411Z"
   },
   {
    "duration": 47,
    "start_time": "2023-01-22T16:10:42.660Z"
   },
   {
    "duration": 73,
    "start_time": "2023-01-22T16:15:08.823Z"
   },
   {
    "duration": 67,
    "start_time": "2023-01-22T16:17:05.521Z"
   },
   {
    "duration": 143,
    "start_time": "2023-01-22T16:17:39.754Z"
   },
   {
    "duration": 134,
    "start_time": "2023-01-22T16:18:03.858Z"
   },
   {
    "duration": 151,
    "start_time": "2023-01-22T16:18:13.617Z"
   },
   {
    "duration": 158,
    "start_time": "2023-01-22T16:18:32.530Z"
   },
   {
    "duration": 42270,
    "start_time": "2023-01-22T16:18:46.680Z"
   },
   {
    "duration": 2,
    "start_time": "2023-01-22T16:20:24.433Z"
   },
   {
    "duration": 11,
    "start_time": "2023-01-22T16:20:26.513Z"
   },
   {
    "duration": 1437,
    "start_time": "2023-01-22T16:20:34.167Z"
   },
   {
    "duration": 718,
    "start_time": "2023-01-22T16:20:35.606Z"
   },
   {
    "duration": 3,
    "start_time": "2023-01-22T16:20:36.326Z"
   },
   {
    "duration": 454,
    "start_time": "2023-01-22T16:20:36.337Z"
   },
   {
    "duration": 193,
    "start_time": "2023-01-22T16:20:36.794Z"
   },
   {
    "duration": 401,
    "start_time": "2023-01-22T16:20:36.989Z"
   },
   {
    "duration": 32,
    "start_time": "2023-01-22T16:20:37.391Z"
   },
   {
    "duration": 34,
    "start_time": "2023-01-22T16:20:37.425Z"
   },
   {
    "duration": 6,
    "start_time": "2023-01-22T16:20:37.461Z"
   },
   {
    "duration": 9,
    "start_time": "2023-01-22T16:20:37.468Z"
   },
   {
    "duration": 7,
    "start_time": "2023-01-22T16:20:37.479Z"
   },
   {
    "duration": 56,
    "start_time": "2023-01-22T16:20:37.488Z"
   },
   {
    "duration": 9,
    "start_time": "2023-01-22T16:20:37.546Z"
   },
   {
    "duration": 3133,
    "start_time": "2023-01-22T16:20:37.559Z"
   },
   {
    "duration": 21,
    "start_time": "2023-01-22T16:20:40.694Z"
   },
   {
    "duration": 2529,
    "start_time": "2023-01-22T16:20:40.717Z"
   },
   {
    "duration": 20,
    "start_time": "2023-01-22T16:20:43.249Z"
   },
   {
    "duration": 1971,
    "start_time": "2023-01-22T16:20:43.271Z"
   },
   {
    "duration": 6,
    "start_time": "2023-01-22T16:20:45.244Z"
   },
   {
    "duration": 8,
    "start_time": "2023-01-22T16:20:45.251Z"
   },
   {
    "duration": 22,
    "start_time": "2023-01-22T16:20:45.261Z"
   },
   {
    "duration": 8,
    "start_time": "2023-01-22T16:20:45.285Z"
   },
   {
    "duration": 76,
    "start_time": "2023-01-22T16:20:45.295Z"
   },
   {
    "duration": 9,
    "start_time": "2023-01-22T16:20:45.373Z"
   },
   {
    "duration": 8,
    "start_time": "2023-01-22T16:20:45.384Z"
   },
   {
    "duration": 8,
    "start_time": "2023-01-22T16:20:45.393Z"
   },
   {
    "duration": 5,
    "start_time": "2023-01-22T16:20:45.439Z"
   },
   {
    "duration": 47,
    "start_time": "2023-01-22T16:20:45.446Z"
   },
   {
    "duration": 50,
    "start_time": "2023-01-22T16:20:45.495Z"
   },
   {
    "duration": 2588,
    "start_time": "2023-01-22T16:20:45.547Z"
   },
   {
    "duration": 10,
    "start_time": "2023-01-22T16:20:48.138Z"
   },
   {
    "duration": 34,
    "start_time": "2023-01-22T16:20:48.150Z"
   },
   {
    "duration": 3013,
    "start_time": "2023-01-22T16:20:48.186Z"
   },
   {
    "duration": 2,
    "start_time": "2023-01-22T16:20:51.201Z"
   },
   {
    "duration": 38,
    "start_time": "2023-01-22T16:20:51.205Z"
   },
   {
    "duration": 10,
    "start_time": "2023-01-22T16:20:51.245Z"
   },
   {
    "duration": 21,
    "start_time": "2023-01-22T16:20:51.257Z"
   },
   {
    "duration": 12,
    "start_time": "2023-01-22T16:20:51.280Z"
   },
   {
    "duration": 138,
    "start_time": "2023-01-22T16:20:51.294Z"
   },
   {
    "duration": 0,
    "start_time": "2023-01-22T16:20:51.437Z"
   },
   {
    "duration": 0,
    "start_time": "2023-01-22T16:20:51.439Z"
   },
   {
    "duration": 0,
    "start_time": "2023-01-22T16:20:51.440Z"
   },
   {
    "duration": 0,
    "start_time": "2023-01-22T16:20:51.442Z"
   },
   {
    "duration": 0,
    "start_time": "2023-01-22T16:20:51.443Z"
   },
   {
    "duration": 0,
    "start_time": "2023-01-22T16:20:51.445Z"
   },
   {
    "duration": 13,
    "start_time": "2023-01-22T16:21:43.142Z"
   },
   {
    "duration": 1437,
    "start_time": "2023-01-22T16:22:08.681Z"
   },
   {
    "duration": 729,
    "start_time": "2023-01-22T16:22:10.120Z"
   },
   {
    "duration": 3,
    "start_time": "2023-01-22T16:22:10.851Z"
   },
   {
    "duration": 424,
    "start_time": "2023-01-22T16:22:10.856Z"
   },
   {
    "duration": 201,
    "start_time": "2023-01-22T16:22:11.282Z"
   },
   {
    "duration": 413,
    "start_time": "2023-01-22T16:22:11.485Z"
   },
   {
    "duration": 42,
    "start_time": "2023-01-22T16:22:11.900Z"
   },
   {
    "duration": 33,
    "start_time": "2023-01-22T16:22:11.944Z"
   },
   {
    "duration": 9,
    "start_time": "2023-01-22T16:22:11.979Z"
   },
   {
    "duration": 52,
    "start_time": "2023-01-22T16:22:11.991Z"
   },
   {
    "duration": 30,
    "start_time": "2023-01-22T16:22:12.045Z"
   },
   {
    "duration": 24,
    "start_time": "2023-01-22T16:22:12.077Z"
   },
   {
    "duration": 24,
    "start_time": "2023-01-22T16:22:12.103Z"
   },
   {
    "duration": 3407,
    "start_time": "2023-01-22T16:22:12.129Z"
   },
   {
    "duration": 24,
    "start_time": "2023-01-22T16:22:15.538Z"
   },
   {
    "duration": 2601,
    "start_time": "2023-01-22T16:22:15.564Z"
   },
   {
    "duration": 23,
    "start_time": "2023-01-22T16:22:18.167Z"
   },
   {
    "duration": 2287,
    "start_time": "2023-01-22T16:22:18.192Z"
   },
   {
    "duration": 7,
    "start_time": "2023-01-22T16:22:20.481Z"
   },
   {
    "duration": 12,
    "start_time": "2023-01-22T16:22:20.490Z"
   },
   {
    "duration": 50,
    "start_time": "2023-01-22T16:22:20.504Z"
   },
   {
    "duration": 11,
    "start_time": "2023-01-22T16:22:20.556Z"
   },
   {
    "duration": 75,
    "start_time": "2023-01-22T16:22:20.569Z"
   },
   {
    "duration": 12,
    "start_time": "2023-01-22T16:22:20.647Z"
   },
   {
    "duration": 36,
    "start_time": "2023-01-22T16:22:20.661Z"
   },
   {
    "duration": 8,
    "start_time": "2023-01-22T16:22:20.699Z"
   },
   {
    "duration": 21,
    "start_time": "2023-01-22T16:22:20.709Z"
   },
   {
    "duration": 56,
    "start_time": "2023-01-22T16:22:20.734Z"
   },
   {
    "duration": 35,
    "start_time": "2023-01-22T16:22:20.792Z"
   },
   {
    "duration": 2702,
    "start_time": "2023-01-22T16:22:20.829Z"
   },
   {
    "duration": 10,
    "start_time": "2023-01-22T16:22:23.533Z"
   },
   {
    "duration": 25,
    "start_time": "2023-01-22T16:22:23.545Z"
   },
   {
    "duration": 2727,
    "start_time": "2023-01-22T16:22:23.572Z"
   },
   {
    "duration": 7,
    "start_time": "2023-01-22T16:22:26.301Z"
   },
   {
    "duration": 5,
    "start_time": "2023-01-22T16:22:26.309Z"
   },
   {
    "duration": 22,
    "start_time": "2023-01-22T16:22:26.316Z"
   },
   {
    "duration": 6,
    "start_time": "2023-01-22T16:22:26.342Z"
   },
   {
    "duration": 11,
    "start_time": "2023-01-22T16:22:26.350Z"
   },
   {
    "duration": 10,
    "start_time": "2023-01-22T16:22:26.363Z"
   },
   {
    "duration": 6678,
    "start_time": "2023-01-22T16:22:26.375Z"
   },
   {
    "duration": 6156,
    "start_time": "2023-01-22T16:22:33.055Z"
   },
   {
    "duration": 1727,
    "start_time": "2023-01-22T16:22:39.213Z"
   },
   {
    "duration": 4162,
    "start_time": "2023-01-22T16:22:40.942Z"
   },
   {
    "duration": 9,
    "start_time": "2023-01-22T16:22:45.106Z"
   },
   {
    "duration": 1493,
    "start_time": "2023-01-22T16:31:10.243Z"
   },
   {
    "duration": 754,
    "start_time": "2023-01-22T16:31:11.739Z"
   },
   {
    "duration": 4,
    "start_time": "2023-01-22T16:31:12.495Z"
   },
   {
    "duration": 458,
    "start_time": "2023-01-22T16:31:12.501Z"
   },
   {
    "duration": 200,
    "start_time": "2023-01-22T16:31:12.963Z"
   },
   {
    "duration": 436,
    "start_time": "2023-01-22T16:31:13.165Z"
   },
   {
    "duration": 37,
    "start_time": "2023-01-22T16:31:13.604Z"
   },
   {
    "duration": 33,
    "start_time": "2023-01-22T16:31:13.643Z"
   },
   {
    "duration": 8,
    "start_time": "2023-01-22T16:31:13.678Z"
   },
   {
    "duration": 55,
    "start_time": "2023-01-22T16:31:13.688Z"
   },
   {
    "duration": 9,
    "start_time": "2023-01-22T16:31:13.745Z"
   },
   {
    "duration": 26,
    "start_time": "2023-01-22T16:31:13.756Z"
   },
   {
    "duration": 19,
    "start_time": "2023-01-22T16:31:13.784Z"
   },
   {
    "duration": 3336,
    "start_time": "2023-01-22T16:31:13.808Z"
   },
   {
    "duration": 19,
    "start_time": "2023-01-22T16:31:17.146Z"
   },
   {
    "duration": 2584,
    "start_time": "2023-01-22T16:31:17.167Z"
   },
   {
    "duration": 17,
    "start_time": "2023-01-22T16:31:19.753Z"
   },
   {
    "duration": 1975,
    "start_time": "2023-01-22T16:31:19.772Z"
   },
   {
    "duration": 6,
    "start_time": "2023-01-22T16:31:21.750Z"
   },
   {
    "duration": 17,
    "start_time": "2023-01-22T16:31:21.758Z"
   },
   {
    "duration": 23,
    "start_time": "2023-01-22T16:31:21.777Z"
   },
   {
    "duration": 9,
    "start_time": "2023-01-22T16:31:21.801Z"
   },
   {
    "duration": 41,
    "start_time": "2023-01-22T16:31:21.839Z"
   },
   {
    "duration": 9,
    "start_time": "2023-01-22T16:31:21.882Z"
   },
   {
    "duration": 8,
    "start_time": "2023-01-22T16:31:21.892Z"
   },
   {
    "duration": 39,
    "start_time": "2023-01-22T16:31:21.901Z"
   },
   {
    "duration": 5,
    "start_time": "2023-01-22T16:31:21.942Z"
   },
   {
    "duration": 51,
    "start_time": "2023-01-22T16:31:21.949Z"
   },
   {
    "duration": 57,
    "start_time": "2023-01-22T16:31:22.002Z"
   },
   {
    "duration": 2541,
    "start_time": "2023-01-22T16:31:22.060Z"
   },
   {
    "duration": 9,
    "start_time": "2023-01-22T16:31:24.603Z"
   },
   {
    "duration": 42,
    "start_time": "2023-01-22T16:31:24.614Z"
   },
   {
    "duration": 2695,
    "start_time": "2023-01-22T16:31:24.658Z"
   },
   {
    "duration": 8,
    "start_time": "2023-01-22T16:31:27.355Z"
   },
   {
    "duration": 6,
    "start_time": "2023-01-22T16:31:27.365Z"
   },
   {
    "duration": 11,
    "start_time": "2023-01-22T16:31:27.373Z"
   },
   {
    "duration": 10,
    "start_time": "2023-01-22T16:31:27.385Z"
   },
   {
    "duration": 15,
    "start_time": "2023-01-22T16:31:27.398Z"
   },
   {
    "duration": 23,
    "start_time": "2023-01-22T16:31:27.415Z"
   },
   {
    "duration": 7030,
    "start_time": "2023-01-22T16:31:27.440Z"
   },
   {
    "duration": 6265,
    "start_time": "2023-01-22T16:31:34.474Z"
   },
   {
    "duration": 2199,
    "start_time": "2023-01-22T16:31:40.741Z"
   },
   {
    "duration": 4363,
    "start_time": "2023-01-22T16:31:42.942Z"
   },
   {
    "duration": 9,
    "start_time": "2023-01-22T16:31:47.306Z"
   },
   {
    "duration": 43,
    "start_time": "2023-01-23T08:42:49.670Z"
   },
   {
    "duration": 26,
    "start_time": "2023-01-23T08:43:30.236Z"
   },
   {
    "duration": 1575,
    "start_time": "2023-01-23T09:33:11.458Z"
   },
   {
    "duration": 2143,
    "start_time": "2023-01-23T09:33:13.035Z"
   },
   {
    "duration": 3,
    "start_time": "2023-01-23T09:33:15.180Z"
   },
   {
    "duration": 414,
    "start_time": "2023-01-23T09:33:15.186Z"
   },
   {
    "duration": 186,
    "start_time": "2023-01-23T09:33:15.602Z"
   },
   {
    "duration": 375,
    "start_time": "2023-01-23T09:33:15.790Z"
   },
   {
    "duration": 22,
    "start_time": "2023-01-23T09:33:16.166Z"
   },
   {
    "duration": 52,
    "start_time": "2023-01-23T09:33:16.190Z"
   },
   {
    "duration": 6,
    "start_time": "2023-01-23T09:33:16.244Z"
   },
   {
    "duration": 24,
    "start_time": "2023-01-23T09:33:16.252Z"
   },
   {
    "duration": 27,
    "start_time": "2023-01-23T09:33:16.278Z"
   },
   {
    "duration": 39,
    "start_time": "2023-01-23T09:33:16.307Z"
   },
   {
    "duration": 46,
    "start_time": "2023-01-23T09:33:16.348Z"
   },
   {
    "duration": 3183,
    "start_time": "2023-01-23T09:33:16.396Z"
   },
   {
    "duration": 17,
    "start_time": "2023-01-23T09:33:19.581Z"
   },
   {
    "duration": 2470,
    "start_time": "2023-01-23T09:33:19.600Z"
   },
   {
    "duration": 18,
    "start_time": "2023-01-23T09:33:22.073Z"
   },
   {
    "duration": 2034,
    "start_time": "2023-01-23T09:33:22.093Z"
   },
   {
    "duration": 7,
    "start_time": "2023-01-23T09:33:24.128Z"
   },
   {
    "duration": 25,
    "start_time": "2023-01-23T09:33:24.136Z"
   },
   {
    "duration": 37,
    "start_time": "2023-01-23T09:33:24.163Z"
   },
   {
    "duration": 8,
    "start_time": "2023-01-23T09:33:24.202Z"
   },
   {
    "duration": 64,
    "start_time": "2023-01-23T09:33:24.212Z"
   },
   {
    "duration": 9,
    "start_time": "2023-01-23T09:33:24.277Z"
   },
   {
    "duration": 42,
    "start_time": "2023-01-23T09:33:24.287Z"
   },
   {
    "duration": 24,
    "start_time": "2023-01-23T09:33:24.331Z"
   },
   {
    "duration": 22,
    "start_time": "2023-01-23T09:33:24.357Z"
   },
   {
    "duration": 60,
    "start_time": "2023-01-23T09:33:24.382Z"
   },
   {
    "duration": 35,
    "start_time": "2023-01-23T09:33:24.444Z"
   },
   {
    "duration": 2628,
    "start_time": "2023-01-23T09:33:24.481Z"
   },
   {
    "duration": 18,
    "start_time": "2023-01-23T09:33:27.111Z"
   },
   {
    "duration": 37,
    "start_time": "2023-01-23T09:33:27.132Z"
   },
   {
    "duration": 2690,
    "start_time": "2023-01-23T09:33:27.171Z"
   },
   {
    "duration": 125,
    "start_time": "2023-01-23T09:33:29.863Z"
   },
   {
    "duration": 0,
    "start_time": "2023-01-23T09:33:29.989Z"
   },
   {
    "duration": 0,
    "start_time": "2023-01-23T09:33:29.991Z"
   },
   {
    "duration": 0,
    "start_time": "2023-01-23T09:33:29.992Z"
   },
   {
    "duration": 0,
    "start_time": "2023-01-23T09:33:29.993Z"
   },
   {
    "duration": 0,
    "start_time": "2023-01-23T09:33:29.994Z"
   },
   {
    "duration": 0,
    "start_time": "2023-01-23T09:33:29.995Z"
   },
   {
    "duration": 0,
    "start_time": "2023-01-23T09:33:29.996Z"
   },
   {
    "duration": 0,
    "start_time": "2023-01-23T09:33:29.997Z"
   },
   {
    "duration": 0,
    "start_time": "2023-01-23T09:33:29.998Z"
   },
   {
    "duration": 0,
    "start_time": "2023-01-23T09:33:29.999Z"
   },
   {
    "duration": 14,
    "start_time": "2023-01-23T09:33:53.224Z"
   },
   {
    "duration": 1673,
    "start_time": "2023-01-23T09:34:09.235Z"
   },
   {
    "duration": 852,
    "start_time": "2023-01-23T09:34:10.911Z"
   },
   {
    "duration": 3,
    "start_time": "2023-01-23T09:34:11.765Z"
   },
   {
    "duration": 1440,
    "start_time": "2023-01-23T09:34:27.840Z"
   },
   {
    "duration": 620,
    "start_time": "2023-01-23T09:34:29.282Z"
   },
   {
    "duration": 3,
    "start_time": "2023-01-23T09:34:29.904Z"
   },
   {
    "duration": 388,
    "start_time": "2023-01-23T09:34:29.909Z"
   },
   {
    "duration": 218,
    "start_time": "2023-01-23T09:34:30.299Z"
   },
   {
    "duration": 424,
    "start_time": "2023-01-23T09:34:30.529Z"
   },
   {
    "duration": 24,
    "start_time": "2023-01-23T09:34:30.955Z"
   },
   {
    "duration": 86,
    "start_time": "2023-01-23T09:34:30.980Z"
   },
   {
    "duration": 46,
    "start_time": "2023-01-23T09:34:31.067Z"
   },
   {
    "duration": 39,
    "start_time": "2023-01-23T09:34:31.116Z"
   },
   {
    "duration": 20,
    "start_time": "2023-01-23T09:34:31.157Z"
   },
   {
    "duration": 33,
    "start_time": "2023-01-23T09:34:31.179Z"
   },
   {
    "duration": 30,
    "start_time": "2023-01-23T09:34:31.213Z"
   },
   {
    "duration": 3194,
    "start_time": "2023-01-23T09:34:31.245Z"
   },
   {
    "duration": 19,
    "start_time": "2023-01-23T09:34:34.441Z"
   },
   {
    "duration": 2304,
    "start_time": "2023-01-23T09:34:34.462Z"
   },
   {
    "duration": 22,
    "start_time": "2023-01-23T09:34:36.768Z"
   },
   {
    "duration": 1928,
    "start_time": "2023-01-23T09:34:36.792Z"
   },
   {
    "duration": 8,
    "start_time": "2023-01-23T09:34:38.722Z"
   },
   {
    "duration": 12,
    "start_time": "2023-01-23T09:34:38.732Z"
   },
   {
    "duration": 19,
    "start_time": "2023-01-23T09:34:38.746Z"
   },
   {
    "duration": 7,
    "start_time": "2023-01-23T09:34:38.767Z"
   },
   {
    "duration": 57,
    "start_time": "2023-01-23T09:34:38.775Z"
   },
   {
    "duration": 9,
    "start_time": "2023-01-23T09:34:38.834Z"
   },
   {
    "duration": 8,
    "start_time": "2023-01-23T09:34:38.845Z"
   },
   {
    "duration": 5,
    "start_time": "2023-01-23T09:34:38.855Z"
   },
   {
    "duration": 10,
    "start_time": "2023-01-23T09:34:38.862Z"
   },
   {
    "duration": 64,
    "start_time": "2023-01-23T09:34:38.875Z"
   },
   {
    "duration": 35,
    "start_time": "2023-01-23T09:34:38.941Z"
   },
   {
    "duration": 2623,
    "start_time": "2023-01-23T09:34:38.977Z"
   },
   {
    "duration": 8,
    "start_time": "2023-01-23T09:34:41.602Z"
   },
   {
    "duration": 30,
    "start_time": "2023-01-23T09:34:41.611Z"
   },
   {
    "duration": 2592,
    "start_time": "2023-01-23T09:34:41.643Z"
   },
   {
    "duration": 13,
    "start_time": "2023-01-23T09:34:44.238Z"
   },
   {
    "duration": 11,
    "start_time": "2023-01-23T09:34:44.253Z"
   },
   {
    "duration": 7,
    "start_time": "2023-01-23T09:34:44.266Z"
   },
   {
    "duration": 22,
    "start_time": "2023-01-23T09:34:44.274Z"
   },
   {
    "duration": 119,
    "start_time": "2023-01-23T09:34:44.298Z"
   },
   {
    "duration": 0,
    "start_time": "2023-01-23T09:34:44.419Z"
   },
   {
    "duration": 0,
    "start_time": "2023-01-23T09:34:44.420Z"
   },
   {
    "duration": 0,
    "start_time": "2023-01-23T09:34:44.421Z"
   },
   {
    "duration": 0,
    "start_time": "2023-01-23T09:34:44.422Z"
   },
   {
    "duration": 0,
    "start_time": "2023-01-23T09:34:44.427Z"
   },
   {
    "duration": 0,
    "start_time": "2023-01-23T09:34:44.429Z"
   },
   {
    "duration": 1520,
    "start_time": "2023-01-23T09:35:45.555Z"
   },
   {
    "duration": 642,
    "start_time": "2023-01-23T09:35:47.077Z"
   },
   {
    "duration": 3,
    "start_time": "2023-01-23T09:35:47.721Z"
   },
   {
    "duration": 440,
    "start_time": "2023-01-23T09:35:47.727Z"
   },
   {
    "duration": 187,
    "start_time": "2023-01-23T09:35:48.169Z"
   },
   {
    "duration": 441,
    "start_time": "2023-01-23T09:35:48.358Z"
   },
   {
    "duration": 30,
    "start_time": "2023-01-23T09:35:48.801Z"
   },
   {
    "duration": 45,
    "start_time": "2023-01-23T09:35:48.833Z"
   },
   {
    "duration": 24,
    "start_time": "2023-01-23T09:35:48.881Z"
   },
   {
    "duration": 20,
    "start_time": "2023-01-23T09:35:48.909Z"
   },
   {
    "duration": 44,
    "start_time": "2023-01-23T09:35:48.931Z"
   },
   {
    "duration": 26,
    "start_time": "2023-01-23T09:35:48.977Z"
   },
   {
    "duration": 34,
    "start_time": "2023-01-23T09:35:49.005Z"
   },
   {
    "duration": 3330,
    "start_time": "2023-01-23T09:35:49.041Z"
   },
   {
    "duration": 17,
    "start_time": "2023-01-23T09:35:52.373Z"
   },
   {
    "duration": 2392,
    "start_time": "2023-01-23T09:35:52.392Z"
   },
   {
    "duration": 21,
    "start_time": "2023-01-23T09:35:54.786Z"
   },
   {
    "duration": 1933,
    "start_time": "2023-01-23T09:35:54.809Z"
   },
   {
    "duration": 5,
    "start_time": "2023-01-23T09:35:56.744Z"
   },
   {
    "duration": 23,
    "start_time": "2023-01-23T09:35:56.751Z"
   },
   {
    "duration": 34,
    "start_time": "2023-01-23T09:35:56.775Z"
   },
   {
    "duration": 9,
    "start_time": "2023-01-23T09:35:56.810Z"
   },
   {
    "duration": 57,
    "start_time": "2023-01-23T09:35:56.820Z"
   },
   {
    "duration": 11,
    "start_time": "2023-01-23T09:35:56.879Z"
   },
   {
    "duration": 38,
    "start_time": "2023-01-23T09:35:56.892Z"
   },
   {
    "duration": 7,
    "start_time": "2023-01-23T09:35:56.932Z"
   },
   {
    "duration": 18,
    "start_time": "2023-01-23T09:35:56.941Z"
   },
   {
    "duration": 63,
    "start_time": "2023-01-23T09:35:56.964Z"
   },
   {
    "duration": 47,
    "start_time": "2023-01-23T09:35:57.029Z"
   },
   {
    "duration": 3060,
    "start_time": "2023-01-23T09:35:57.078Z"
   },
   {
    "duration": 12,
    "start_time": "2023-01-23T09:36:00.141Z"
   },
   {
    "duration": 34,
    "start_time": "2023-01-23T09:36:00.155Z"
   },
   {
    "duration": 2732,
    "start_time": "2023-01-23T09:36:00.192Z"
   },
   {
    "duration": 13,
    "start_time": "2023-01-23T09:36:02.926Z"
   },
   {
    "duration": 18,
    "start_time": "2023-01-23T09:36:02.941Z"
   },
   {
    "duration": 40,
    "start_time": "2023-01-23T09:36:02.961Z"
   },
   {
    "duration": 33,
    "start_time": "2023-01-23T09:36:03.003Z"
   },
   {
    "duration": 167,
    "start_time": "2023-01-23T09:36:03.038Z"
   },
   {
    "duration": 0,
    "start_time": "2023-01-23T09:36:03.206Z"
   },
   {
    "duration": 0,
    "start_time": "2023-01-23T09:36:03.208Z"
   },
   {
    "duration": 0,
    "start_time": "2023-01-23T09:36:03.209Z"
   },
   {
    "duration": 0,
    "start_time": "2023-01-23T09:36:03.210Z"
   },
   {
    "duration": 0,
    "start_time": "2023-01-23T09:36:03.211Z"
   },
   {
    "duration": 0,
    "start_time": "2023-01-23T09:36:03.212Z"
   },
   {
    "duration": 1551,
    "start_time": "2023-01-23T09:37:43.510Z"
   },
   {
    "duration": 746,
    "start_time": "2023-01-23T09:37:45.064Z"
   },
   {
    "duration": 4,
    "start_time": "2023-01-23T09:37:45.812Z"
   },
   {
    "duration": 472,
    "start_time": "2023-01-23T09:37:45.818Z"
   },
   {
    "duration": 237,
    "start_time": "2023-01-23T09:37:46.292Z"
   },
   {
    "duration": 463,
    "start_time": "2023-01-23T09:37:46.532Z"
   },
   {
    "duration": 47,
    "start_time": "2023-01-23T09:37:46.996Z"
   },
   {
    "duration": 30,
    "start_time": "2023-01-23T09:37:47.045Z"
   },
   {
    "duration": 7,
    "start_time": "2023-01-23T09:37:47.076Z"
   },
   {
    "duration": 8,
    "start_time": "2023-01-23T09:37:47.086Z"
   },
   {
    "duration": 35,
    "start_time": "2023-01-23T09:37:47.129Z"
   },
   {
    "duration": 9,
    "start_time": "2023-01-23T09:37:47.166Z"
   },
   {
    "duration": 17,
    "start_time": "2023-01-23T09:37:47.177Z"
   },
   {
    "duration": 3746,
    "start_time": "2023-01-23T09:37:47.196Z"
   },
   {
    "duration": 23,
    "start_time": "2023-01-23T09:37:50.944Z"
   },
   {
    "duration": 2432,
    "start_time": "2023-01-23T09:37:50.969Z"
   },
   {
    "duration": 27,
    "start_time": "2023-01-23T09:37:53.403Z"
   },
   {
    "duration": 2016,
    "start_time": "2023-01-23T09:37:53.432Z"
   },
   {
    "duration": 6,
    "start_time": "2023-01-23T09:37:55.450Z"
   },
   {
    "duration": 13,
    "start_time": "2023-01-23T09:37:55.458Z"
   },
   {
    "duration": 29,
    "start_time": "2023-01-23T09:37:55.474Z"
   },
   {
    "duration": 21,
    "start_time": "2023-01-23T09:37:55.505Z"
   },
   {
    "duration": 50,
    "start_time": "2023-01-23T09:37:55.528Z"
   },
   {
    "duration": 9,
    "start_time": "2023-01-23T09:37:55.580Z"
   },
   {
    "duration": 10,
    "start_time": "2023-01-23T09:37:55.594Z"
   },
   {
    "duration": 6,
    "start_time": "2023-01-23T09:37:55.627Z"
   },
   {
    "duration": 8,
    "start_time": "2023-01-23T09:37:55.635Z"
   },
   {
    "duration": 49,
    "start_time": "2023-01-23T09:37:55.648Z"
   },
   {
    "duration": 59,
    "start_time": "2023-01-23T09:37:55.699Z"
   },
   {
    "duration": 2954,
    "start_time": "2023-01-23T09:37:55.760Z"
   },
   {
    "duration": 13,
    "start_time": "2023-01-23T09:37:58.715Z"
   },
   {
    "duration": 19,
    "start_time": "2023-01-23T09:37:58.730Z"
   },
   {
    "duration": 3067,
    "start_time": "2023-01-23T09:37:58.751Z"
   },
   {
    "duration": 14,
    "start_time": "2023-01-23T09:38:01.826Z"
   },
   {
    "duration": 45,
    "start_time": "2023-01-23T09:38:01.842Z"
   },
   {
    "duration": 22,
    "start_time": "2023-01-23T09:38:01.889Z"
   },
   {
    "duration": 25,
    "start_time": "2023-01-23T09:38:01.913Z"
   },
   {
    "duration": 67,
    "start_time": "2023-01-23T09:38:01.940Z"
   },
   {
    "duration": 0,
    "start_time": "2023-01-23T09:38:02.009Z"
   },
   {
    "duration": 0,
    "start_time": "2023-01-23T09:38:02.010Z"
   },
   {
    "duration": 0,
    "start_time": "2023-01-23T09:38:02.011Z"
   },
   {
    "duration": 0,
    "start_time": "2023-01-23T09:38:02.013Z"
   },
   {
    "duration": 0,
    "start_time": "2023-01-23T09:38:02.015Z"
   },
   {
    "duration": 0,
    "start_time": "2023-01-23T09:38:02.016Z"
   },
   {
    "duration": 1617,
    "start_time": "2023-01-23T09:38:47.307Z"
   },
   {
    "duration": 775,
    "start_time": "2023-01-23T09:38:48.926Z"
   },
   {
    "duration": 4,
    "start_time": "2023-01-23T09:38:49.703Z"
   },
   {
    "duration": 439,
    "start_time": "2023-01-23T09:38:49.709Z"
   },
   {
    "duration": 266,
    "start_time": "2023-01-23T09:38:50.150Z"
   },
   {
    "duration": 537,
    "start_time": "2023-01-23T09:38:50.418Z"
   },
   {
    "duration": 39,
    "start_time": "2023-01-23T09:38:50.957Z"
   },
   {
    "duration": 55,
    "start_time": "2023-01-23T09:38:50.998Z"
   },
   {
    "duration": 7,
    "start_time": "2023-01-23T09:38:51.055Z"
   },
   {
    "duration": 9,
    "start_time": "2023-01-23T09:38:51.065Z"
   },
   {
    "duration": 9,
    "start_time": "2023-01-23T09:38:51.075Z"
   },
   {
    "duration": 49,
    "start_time": "2023-01-23T09:38:51.086Z"
   },
   {
    "duration": 23,
    "start_time": "2023-01-23T09:38:51.138Z"
   },
   {
    "duration": 3538,
    "start_time": "2023-01-23T09:38:51.163Z"
   },
   {
    "duration": 27,
    "start_time": "2023-01-23T09:38:54.704Z"
   },
   {
    "duration": 2782,
    "start_time": "2023-01-23T09:38:54.734Z"
   },
   {
    "duration": 30,
    "start_time": "2023-01-23T09:38:57.518Z"
   },
   {
    "duration": 2164,
    "start_time": "2023-01-23T09:38:57.549Z"
   },
   {
    "duration": 6,
    "start_time": "2023-01-23T09:38:59.715Z"
   },
   {
    "duration": 63,
    "start_time": "2023-01-23T09:38:59.727Z"
   },
   {
    "duration": 26,
    "start_time": "2023-01-23T09:38:59.792Z"
   },
   {
    "duration": 16,
    "start_time": "2023-01-23T09:38:59.820Z"
   },
   {
    "duration": 77,
    "start_time": "2023-01-23T09:38:59.838Z"
   },
   {
    "duration": 10,
    "start_time": "2023-01-23T09:38:59.916Z"
   },
   {
    "duration": 54,
    "start_time": "2023-01-23T09:38:59.929Z"
   },
   {
    "duration": 18,
    "start_time": "2023-01-23T09:38:59.985Z"
   },
   {
    "duration": 47,
    "start_time": "2023-01-23T09:39:00.005Z"
   },
   {
    "duration": 111,
    "start_time": "2023-01-23T09:39:00.057Z"
   },
   {
    "duration": 42,
    "start_time": "2023-01-23T09:39:00.170Z"
   },
   {
    "duration": 2754,
    "start_time": "2023-01-23T09:39:00.214Z"
   },
   {
    "duration": 10,
    "start_time": "2023-01-23T09:39:02.969Z"
   },
   {
    "duration": 19,
    "start_time": "2023-01-23T09:39:02.981Z"
   },
   {
    "duration": 2745,
    "start_time": "2023-01-23T09:39:03.003Z"
   },
   {
    "duration": 16,
    "start_time": "2023-01-23T09:39:05.750Z"
   },
   {
    "duration": 23,
    "start_time": "2023-01-23T09:39:05.767Z"
   },
   {
    "duration": 28,
    "start_time": "2023-01-23T09:39:05.792Z"
   },
   {
    "duration": 29,
    "start_time": "2023-01-23T09:39:05.822Z"
   },
   {
    "duration": 32,
    "start_time": "2023-01-23T09:39:05.852Z"
   },
   {
    "duration": 26,
    "start_time": "2023-01-23T09:39:05.886Z"
   },
   {
    "duration": 273,
    "start_time": "2023-01-23T09:39:05.913Z"
   },
   {
    "duration": 115,
    "start_time": "2023-01-23T09:39:06.188Z"
   },
   {
    "duration": 117,
    "start_time": "2023-01-23T09:39:06.304Z"
   },
   {
    "duration": 27,
    "start_time": "2023-01-23T09:39:06.423Z"
   },
   {
    "duration": 0,
    "start_time": "2023-01-23T09:39:06.452Z"
   },
   {
    "duration": 84,
    "start_time": "2023-01-23T09:42:16.912Z"
   },
   {
    "duration": 70,
    "start_time": "2023-01-23T09:42:28.589Z"
   },
   {
    "duration": 1152,
    "start_time": "2023-01-23T09:44:56.980Z"
   },
   {
    "duration": 1462,
    "start_time": "2023-01-23T09:45:27.712Z"
   },
   {
    "duration": 702,
    "start_time": "2023-01-23T09:45:29.176Z"
   },
   {
    "duration": 4,
    "start_time": "2023-01-23T09:45:29.880Z"
   },
   {
    "duration": 449,
    "start_time": "2023-01-23T09:45:29.887Z"
   },
   {
    "duration": 270,
    "start_time": "2023-01-23T09:45:30.338Z"
   },
   {
    "duration": 456,
    "start_time": "2023-01-23T09:45:30.611Z"
   },
   {
    "duration": 25,
    "start_time": "2023-01-23T09:45:31.068Z"
   },
   {
    "duration": 67,
    "start_time": "2023-01-23T09:45:31.095Z"
   },
   {
    "duration": 33,
    "start_time": "2023-01-23T09:45:31.163Z"
   },
   {
    "duration": 45,
    "start_time": "2023-01-23T09:45:31.199Z"
   },
   {
    "duration": 32,
    "start_time": "2023-01-23T09:45:31.245Z"
   },
   {
    "duration": 41,
    "start_time": "2023-01-23T09:45:31.279Z"
   },
   {
    "duration": 27,
    "start_time": "2023-01-23T09:45:31.323Z"
   },
   {
    "duration": 3295,
    "start_time": "2023-01-23T09:45:31.352Z"
   },
   {
    "duration": 28,
    "start_time": "2023-01-23T09:45:34.651Z"
   },
   {
    "duration": 2530,
    "start_time": "2023-01-23T09:45:34.680Z"
   },
   {
    "duration": 27,
    "start_time": "2023-01-23T09:45:37.212Z"
   },
   {
    "duration": 1868,
    "start_time": "2023-01-23T09:45:37.242Z"
   },
   {
    "duration": 6,
    "start_time": "2023-01-23T09:45:39.112Z"
   },
   {
    "duration": 24,
    "start_time": "2023-01-23T09:45:39.126Z"
   },
   {
    "duration": 42,
    "start_time": "2023-01-23T09:45:39.151Z"
   },
   {
    "duration": 14,
    "start_time": "2023-01-23T09:45:39.195Z"
   },
   {
    "duration": 58,
    "start_time": "2023-01-23T09:45:39.211Z"
   },
   {
    "duration": 10,
    "start_time": "2023-01-23T09:45:39.271Z"
   },
   {
    "duration": 34,
    "start_time": "2023-01-23T09:45:39.283Z"
   },
   {
    "duration": 21,
    "start_time": "2023-01-23T09:45:39.319Z"
   },
   {
    "duration": 21,
    "start_time": "2023-01-23T09:45:39.342Z"
   },
   {
    "duration": 78,
    "start_time": "2023-01-23T09:45:39.368Z"
   },
   {
    "duration": 42,
    "start_time": "2023-01-23T09:45:39.448Z"
   },
   {
    "duration": 2496,
    "start_time": "2023-01-23T09:45:39.491Z"
   },
   {
    "duration": 8,
    "start_time": "2023-01-23T09:45:41.989Z"
   },
   {
    "duration": 68,
    "start_time": "2023-01-23T09:45:41.999Z"
   },
   {
    "duration": 2693,
    "start_time": "2023-01-23T09:45:42.069Z"
   },
   {
    "duration": 8,
    "start_time": "2023-01-23T09:45:44.763Z"
   },
   {
    "duration": 38,
    "start_time": "2023-01-23T09:45:44.773Z"
   },
   {
    "duration": 42,
    "start_time": "2023-01-23T09:45:44.813Z"
   },
   {
    "duration": 33,
    "start_time": "2023-01-23T09:45:44.858Z"
   },
   {
    "duration": 41,
    "start_time": "2023-01-23T09:45:44.893Z"
   },
   {
    "duration": 19,
    "start_time": "2023-01-23T09:45:44.936Z"
   },
   {
    "duration": 271,
    "start_time": "2023-01-23T09:45:44.957Z"
   },
   {
    "duration": 92,
    "start_time": "2023-01-23T09:45:45.230Z"
   },
   {
    "duration": 93,
    "start_time": "2023-01-23T09:45:45.324Z"
   },
   {
    "duration": 24,
    "start_time": "2023-01-23T09:45:45.419Z"
   },
   {
    "duration": 0,
    "start_time": "2023-01-23T09:45:45.445Z"
   },
   {
    "duration": 11,
    "start_time": "2023-01-23T10:00:26.796Z"
   },
   {
    "duration": 7,
    "start_time": "2023-01-23T10:00:45.854Z"
   },
   {
    "duration": 6,
    "start_time": "2023-01-23T10:01:00.458Z"
   },
   {
    "duration": 1613,
    "start_time": "2023-01-23T10:02:29.389Z"
   },
   {
    "duration": 670,
    "start_time": "2023-01-23T10:02:31.004Z"
   },
   {
    "duration": 3,
    "start_time": "2023-01-23T10:02:31.676Z"
   },
   {
    "duration": 415,
    "start_time": "2023-01-23T10:02:31.681Z"
   },
   {
    "duration": 188,
    "start_time": "2023-01-23T10:02:32.099Z"
   },
   {
    "duration": 414,
    "start_time": "2023-01-23T10:02:32.289Z"
   },
   {
    "duration": 28,
    "start_time": "2023-01-23T10:02:32.705Z"
   },
   {
    "duration": 37,
    "start_time": "2023-01-23T10:02:32.735Z"
   },
   {
    "duration": 7,
    "start_time": "2023-01-23T10:02:32.774Z"
   },
   {
    "duration": 32,
    "start_time": "2023-01-23T10:02:32.783Z"
   },
   {
    "duration": 30,
    "start_time": "2023-01-23T10:02:32.816Z"
   },
   {
    "duration": 36,
    "start_time": "2023-01-23T10:02:32.847Z"
   },
   {
    "duration": 25,
    "start_time": "2023-01-23T10:02:32.885Z"
   },
   {
    "duration": 3176,
    "start_time": "2023-01-23T10:02:32.913Z"
   },
   {
    "duration": 18,
    "start_time": "2023-01-23T10:02:36.091Z"
   },
   {
    "duration": 2432,
    "start_time": "2023-01-23T10:02:36.110Z"
   },
   {
    "duration": 19,
    "start_time": "2023-01-23T10:02:38.544Z"
   },
   {
    "duration": 2157,
    "start_time": "2023-01-23T10:02:38.565Z"
   },
   {
    "duration": 6,
    "start_time": "2023-01-23T10:02:40.724Z"
   },
   {
    "duration": 10,
    "start_time": "2023-01-23T10:02:40.731Z"
   },
   {
    "duration": 27,
    "start_time": "2023-01-23T10:02:40.742Z"
   },
   {
    "duration": 9,
    "start_time": "2023-01-23T10:02:40.771Z"
   },
   {
    "duration": 79,
    "start_time": "2023-01-23T10:02:40.782Z"
   },
   {
    "duration": 10,
    "start_time": "2023-01-23T10:02:40.863Z"
   },
   {
    "duration": 49,
    "start_time": "2023-01-23T10:02:40.875Z"
   },
   {
    "duration": 5,
    "start_time": "2023-01-23T10:02:40.926Z"
   },
   {
    "duration": 9,
    "start_time": "2023-01-23T10:02:40.933Z"
   },
   {
    "duration": 45,
    "start_time": "2023-01-23T10:02:40.944Z"
   },
   {
    "duration": 46,
    "start_time": "2023-01-23T10:02:40.991Z"
   },
   {
    "duration": 2583,
    "start_time": "2023-01-23T10:02:41.039Z"
   },
   {
    "duration": 9,
    "start_time": "2023-01-23T10:02:43.623Z"
   },
   {
    "duration": 16,
    "start_time": "2023-01-23T10:02:43.635Z"
   },
   {
    "duration": 2617,
    "start_time": "2023-01-23T10:02:43.653Z"
   },
   {
    "duration": 6,
    "start_time": "2023-01-23T10:02:46.272Z"
   },
   {
    "duration": 38,
    "start_time": "2023-01-23T10:02:46.280Z"
   },
   {
    "duration": 41,
    "start_time": "2023-01-23T10:02:46.320Z"
   },
   {
    "duration": 41,
    "start_time": "2023-01-23T10:02:46.363Z"
   },
   {
    "duration": 37,
    "start_time": "2023-01-23T10:02:46.406Z"
   },
   {
    "duration": 25,
    "start_time": "2023-01-23T10:02:46.445Z"
   },
   {
    "duration": 27,
    "start_time": "2023-01-23T10:02:46.472Z"
   },
   {
    "duration": 219,
    "start_time": "2023-01-23T10:02:46.503Z"
   },
   {
    "duration": 104,
    "start_time": "2023-01-23T10:02:46.724Z"
   },
   {
    "duration": 117,
    "start_time": "2023-01-23T10:02:46.830Z"
   },
   {
    "duration": 22,
    "start_time": "2023-01-23T10:02:46.949Z"
   },
   {
    "duration": 0,
    "start_time": "2023-01-23T10:02:46.973Z"
   },
   {
    "duration": 13,
    "start_time": "2023-01-23T10:04:28.883Z"
   },
   {
    "duration": 9,
    "start_time": "2023-01-23T10:04:29.907Z"
   },
   {
    "duration": 3,
    "start_time": "2023-01-23T10:04:34.825Z"
   },
   {
    "duration": 3,
    "start_time": "2023-01-23T10:04:35.507Z"
   },
   {
    "duration": 3,
    "start_time": "2023-01-23T10:04:36.099Z"
   },
   {
    "duration": 18,
    "start_time": "2023-01-23T10:04:37.747Z"
   },
   {
    "duration": 15,
    "start_time": "2023-01-23T10:05:23.497Z"
   },
   {
    "duration": 11,
    "start_time": "2023-01-23T10:15:41.444Z"
   },
   {
    "duration": 12,
    "start_time": "2023-01-23T10:15:59.145Z"
   },
   {
    "duration": 1490,
    "start_time": "2023-01-23T10:18:40.597Z"
   },
   {
    "duration": 700,
    "start_time": "2023-01-23T10:18:42.089Z"
   },
   {
    "duration": 4,
    "start_time": "2023-01-23T10:18:42.790Z"
   },
   {
    "duration": 471,
    "start_time": "2023-01-23T10:18:42.796Z"
   },
   {
    "duration": 185,
    "start_time": "2023-01-23T10:18:43.269Z"
   },
   {
    "duration": 398,
    "start_time": "2023-01-23T10:18:43.456Z"
   },
   {
    "duration": 22,
    "start_time": "2023-01-23T10:18:43.856Z"
   },
   {
    "duration": 53,
    "start_time": "2023-01-23T10:18:43.880Z"
   },
   {
    "duration": 10,
    "start_time": "2023-01-23T10:18:43.940Z"
   },
   {
    "duration": 26,
    "start_time": "2023-01-23T10:18:43.953Z"
   },
   {
    "duration": 37,
    "start_time": "2023-01-23T10:18:43.981Z"
   },
   {
    "duration": 58,
    "start_time": "2023-01-23T10:18:44.020Z"
   },
   {
    "duration": 23,
    "start_time": "2023-01-23T10:18:44.080Z"
   },
   {
    "duration": 3603,
    "start_time": "2023-01-23T10:18:44.105Z"
   },
   {
    "duration": 26,
    "start_time": "2023-01-23T10:18:47.710Z"
   },
   {
    "duration": 2759,
    "start_time": "2023-01-23T10:18:47.737Z"
   },
   {
    "duration": 23,
    "start_time": "2023-01-23T10:18:50.499Z"
   },
   {
    "duration": 2118,
    "start_time": "2023-01-23T10:18:50.523Z"
   },
   {
    "duration": 11,
    "start_time": "2023-01-23T10:18:52.643Z"
   },
   {
    "duration": 33,
    "start_time": "2023-01-23T10:18:52.656Z"
   },
   {
    "duration": 39,
    "start_time": "2023-01-23T10:18:52.691Z"
   },
   {
    "duration": 31,
    "start_time": "2023-01-23T10:18:52.734Z"
   },
   {
    "duration": 79,
    "start_time": "2023-01-23T10:18:52.767Z"
   },
   {
    "duration": 11,
    "start_time": "2023-01-23T10:18:52.848Z"
   },
   {
    "duration": 30,
    "start_time": "2023-01-23T10:18:52.861Z"
   },
   {
    "duration": 22,
    "start_time": "2023-01-23T10:18:52.893Z"
   },
   {
    "duration": 54,
    "start_time": "2023-01-23T10:18:52.917Z"
   },
   {
    "duration": 67,
    "start_time": "2023-01-23T10:18:52.974Z"
   },
   {
    "duration": 44,
    "start_time": "2023-01-23T10:18:53.043Z"
   },
   {
    "duration": 3013,
    "start_time": "2023-01-23T10:18:53.089Z"
   },
   {
    "duration": 8,
    "start_time": "2023-01-23T10:18:56.103Z"
   },
   {
    "duration": 24,
    "start_time": "2023-01-23T10:18:56.113Z"
   },
   {
    "duration": 2816,
    "start_time": "2023-01-23T10:18:56.139Z"
   },
   {
    "duration": 14,
    "start_time": "2023-01-23T10:18:58.957Z"
   },
   {
    "duration": 21,
    "start_time": "2023-01-23T10:18:58.973Z"
   },
   {
    "duration": 5,
    "start_time": "2023-01-23T10:18:58.996Z"
   },
   {
    "duration": 8,
    "start_time": "2023-01-23T10:18:59.003Z"
   },
   {
    "duration": 6,
    "start_time": "2023-01-23T10:18:59.013Z"
   },
   {
    "duration": 144,
    "start_time": "2023-01-23T10:18:59.021Z"
   },
   {
    "duration": 0,
    "start_time": "2023-01-23T10:18:59.167Z"
   },
   {
    "duration": 0,
    "start_time": "2023-01-23T10:18:59.168Z"
   },
   {
    "duration": 0,
    "start_time": "2023-01-23T10:18:59.169Z"
   },
   {
    "duration": 0,
    "start_time": "2023-01-23T10:18:59.171Z"
   },
   {
    "duration": 0,
    "start_time": "2023-01-23T10:18:59.173Z"
   },
   {
    "duration": 0,
    "start_time": "2023-01-23T10:18:59.174Z"
   },
   {
    "duration": 4,
    "start_time": "2023-01-23T10:27:42.598Z"
   },
   {
    "duration": 8,
    "start_time": "2023-01-23T10:28:16.314Z"
   },
   {
    "duration": 2,
    "start_time": "2023-01-23T10:28:24.880Z"
   },
   {
    "duration": 103,
    "start_time": "2023-01-23T10:28:27.307Z"
   },
   {
    "duration": 1495,
    "start_time": "2023-01-23T10:28:35.390Z"
   },
   {
    "duration": 727,
    "start_time": "2023-01-23T10:28:36.887Z"
   },
   {
    "duration": 3,
    "start_time": "2023-01-23T10:28:37.617Z"
   },
   {
    "duration": 442,
    "start_time": "2023-01-23T10:28:37.631Z"
   },
   {
    "duration": 186,
    "start_time": "2023-01-23T10:28:38.075Z"
   },
   {
    "duration": 404,
    "start_time": "2023-01-23T10:28:38.263Z"
   },
   {
    "duration": 27,
    "start_time": "2023-01-23T10:28:38.669Z"
   },
   {
    "duration": 54,
    "start_time": "2023-01-23T10:28:38.698Z"
   },
   {
    "duration": 8,
    "start_time": "2023-01-23T10:28:38.754Z"
   },
   {
    "duration": 28,
    "start_time": "2023-01-23T10:28:38.764Z"
   },
   {
    "duration": 29,
    "start_time": "2023-01-23T10:28:38.794Z"
   },
   {
    "duration": 53,
    "start_time": "2023-01-23T10:28:38.825Z"
   },
   {
    "duration": 26,
    "start_time": "2023-01-23T10:28:38.882Z"
   },
   {
    "duration": 3538,
    "start_time": "2023-01-23T10:28:38.913Z"
   },
   {
    "duration": 19,
    "start_time": "2023-01-23T10:28:42.454Z"
   },
   {
    "duration": 2534,
    "start_time": "2023-01-23T10:28:42.475Z"
   },
   {
    "duration": 27,
    "start_time": "2023-01-23T10:28:45.011Z"
   },
   {
    "duration": 2141,
    "start_time": "2023-01-23T10:28:45.039Z"
   },
   {
    "duration": 6,
    "start_time": "2023-01-23T10:28:47.182Z"
   },
   {
    "duration": 30,
    "start_time": "2023-01-23T10:28:47.189Z"
   },
   {
    "duration": 67,
    "start_time": "2023-01-23T10:28:47.221Z"
   },
   {
    "duration": 23,
    "start_time": "2023-01-23T10:28:47.289Z"
   },
   {
    "duration": 74,
    "start_time": "2023-01-23T10:28:47.314Z"
   },
   {
    "duration": 12,
    "start_time": "2023-01-23T10:28:47.390Z"
   },
   {
    "duration": 24,
    "start_time": "2023-01-23T10:28:47.404Z"
   },
   {
    "duration": 31,
    "start_time": "2023-01-23T10:28:47.432Z"
   },
   {
    "duration": 31,
    "start_time": "2023-01-23T10:28:47.465Z"
   },
   {
    "duration": 72,
    "start_time": "2023-01-23T10:28:47.497Z"
   },
   {
    "duration": 49,
    "start_time": "2023-01-23T10:28:47.570Z"
   },
   {
    "duration": 2650,
    "start_time": "2023-01-23T10:28:47.621Z"
   },
   {
    "duration": 12,
    "start_time": "2023-01-23T10:28:50.273Z"
   },
   {
    "duration": 45,
    "start_time": "2023-01-23T10:28:50.287Z"
   },
   {
    "duration": 2750,
    "start_time": "2023-01-23T10:28:50.335Z"
   },
   {
    "duration": 15,
    "start_time": "2023-01-23T10:28:53.086Z"
   },
   {
    "duration": 24,
    "start_time": "2023-01-23T10:28:53.103Z"
   },
   {
    "duration": 19,
    "start_time": "2023-01-23T10:28:53.131Z"
   },
   {
    "duration": 31,
    "start_time": "2023-01-23T10:28:53.152Z"
   },
   {
    "duration": 20,
    "start_time": "2023-01-23T10:28:53.185Z"
   },
   {
    "duration": 44,
    "start_time": "2023-01-23T10:28:53.207Z"
   },
   {
    "duration": 14,
    "start_time": "2023-01-23T10:28:53.253Z"
   },
   {
    "duration": 214,
    "start_time": "2023-01-23T10:28:53.271Z"
   },
   {
    "duration": 86,
    "start_time": "2023-01-23T10:28:53.487Z"
   },
   {
    "duration": 98,
    "start_time": "2023-01-23T10:28:53.575Z"
   },
   {
    "duration": 19,
    "start_time": "2023-01-23T10:28:53.675Z"
   },
   {
    "duration": 0,
    "start_time": "2023-01-23T10:28:53.696Z"
   },
   {
    "duration": 51,
    "start_time": "2023-01-23T11:13:22.856Z"
   },
   {
    "duration": 2,
    "start_time": "2023-01-23T11:13:24.516Z"
   },
   {
    "duration": 113,
    "start_time": "2023-01-23T11:13:26.959Z"
   },
   {
    "duration": 1765,
    "start_time": "2023-01-23T11:13:34.265Z"
   },
   {
    "duration": 3225,
    "start_time": "2023-01-23T11:13:36.032Z"
   },
   {
    "duration": 3,
    "start_time": "2023-01-23T11:13:39.259Z"
   },
   {
    "duration": 446,
    "start_time": "2023-01-23T11:13:39.264Z"
   },
   {
    "duration": 195,
    "start_time": "2023-01-23T11:13:39.712Z"
   },
   {
    "duration": 395,
    "start_time": "2023-01-23T11:13:39.908Z"
   },
   {
    "duration": 25,
    "start_time": "2023-01-23T11:13:40.305Z"
   },
   {
    "duration": 46,
    "start_time": "2023-01-23T11:13:40.332Z"
   },
   {
    "duration": 6,
    "start_time": "2023-01-23T11:13:40.380Z"
   },
   {
    "duration": 6,
    "start_time": "2023-01-23T11:13:40.389Z"
   },
   {
    "duration": 9,
    "start_time": "2023-01-23T11:13:40.396Z"
   },
   {
    "duration": 39,
    "start_time": "2023-01-23T11:13:40.407Z"
   },
   {
    "duration": 8,
    "start_time": "2023-01-23T11:13:40.450Z"
   },
   {
    "duration": 3588,
    "start_time": "2023-01-23T11:13:40.459Z"
   },
   {
    "duration": 20,
    "start_time": "2023-01-23T11:13:44.050Z"
   },
   {
    "duration": 2647,
    "start_time": "2023-01-23T11:13:44.072Z"
   },
   {
    "duration": 32,
    "start_time": "2023-01-23T11:13:46.721Z"
   },
   {
    "duration": 2051,
    "start_time": "2023-01-23T11:13:46.755Z"
   },
   {
    "duration": 7,
    "start_time": "2023-01-23T11:13:48.809Z"
   },
   {
    "duration": 50,
    "start_time": "2023-01-23T11:13:48.817Z"
   },
   {
    "duration": 38,
    "start_time": "2023-01-23T11:13:48.869Z"
   },
   {
    "duration": 17,
    "start_time": "2023-01-23T11:13:48.909Z"
   },
   {
    "duration": 57,
    "start_time": "2023-01-23T11:13:48.927Z"
   },
   {
    "duration": 9,
    "start_time": "2023-01-23T11:13:48.986Z"
   },
   {
    "duration": 28,
    "start_time": "2023-01-23T11:13:48.997Z"
   },
   {
    "duration": 34,
    "start_time": "2023-01-23T11:13:49.027Z"
   },
   {
    "duration": 29,
    "start_time": "2023-01-23T11:13:49.062Z"
   },
   {
    "duration": 61,
    "start_time": "2023-01-23T11:13:49.095Z"
   },
   {
    "duration": 37,
    "start_time": "2023-01-23T11:13:49.160Z"
   },
   {
    "duration": 2796,
    "start_time": "2023-01-23T11:13:49.199Z"
   },
   {
    "duration": 9,
    "start_time": "2023-01-23T11:13:51.997Z"
   },
   {
    "duration": 23,
    "start_time": "2023-01-23T11:13:52.007Z"
   },
   {
    "duration": 2784,
    "start_time": "2023-01-23T11:13:52.032Z"
   },
   {
    "duration": 16,
    "start_time": "2023-01-23T11:13:54.818Z"
   },
   {
    "duration": 19,
    "start_time": "2023-01-23T11:13:54.836Z"
   },
   {
    "duration": 3,
    "start_time": "2023-01-23T11:13:54.857Z"
   },
   {
    "duration": 6,
    "start_time": "2023-01-23T11:13:54.862Z"
   },
   {
    "duration": 7,
    "start_time": "2023-01-23T11:13:54.869Z"
   },
   {
    "duration": 138,
    "start_time": "2023-01-23T11:13:54.878Z"
   },
   {
    "duration": 1,
    "start_time": "2023-01-23T11:13:55.017Z"
   },
   {
    "duration": 0,
    "start_time": "2023-01-23T11:13:55.019Z"
   },
   {
    "duration": 0,
    "start_time": "2023-01-23T11:13:55.020Z"
   },
   {
    "duration": 0,
    "start_time": "2023-01-23T11:13:55.021Z"
   },
   {
    "duration": 0,
    "start_time": "2023-01-23T11:13:55.023Z"
   },
   {
    "duration": 0,
    "start_time": "2023-01-23T11:13:55.024Z"
   },
   {
    "duration": 1550,
    "start_time": "2023-01-23T11:14:22.913Z"
   },
   {
    "duration": 719,
    "start_time": "2023-01-23T11:14:24.466Z"
   },
   {
    "duration": 4,
    "start_time": "2023-01-23T11:14:25.187Z"
   },
   {
    "duration": 471,
    "start_time": "2023-01-23T11:14:25.193Z"
   },
   {
    "duration": 199,
    "start_time": "2023-01-23T11:14:25.666Z"
   },
   {
    "duration": 411,
    "start_time": "2023-01-23T11:14:25.866Z"
   },
   {
    "duration": 23,
    "start_time": "2023-01-23T11:14:26.278Z"
   },
   {
    "duration": 47,
    "start_time": "2023-01-23T11:14:26.302Z"
   },
   {
    "duration": 21,
    "start_time": "2023-01-23T11:14:26.350Z"
   },
   {
    "duration": 20,
    "start_time": "2023-01-23T11:14:26.374Z"
   },
   {
    "duration": 26,
    "start_time": "2023-01-23T11:14:26.395Z"
   },
   {
    "duration": 24,
    "start_time": "2023-01-23T11:14:26.423Z"
   },
   {
    "duration": 28,
    "start_time": "2023-01-23T11:14:26.450Z"
   },
   {
    "duration": 3699,
    "start_time": "2023-01-23T11:14:26.480Z"
   },
   {
    "duration": 19,
    "start_time": "2023-01-23T11:14:30.181Z"
   },
   {
    "duration": 2641,
    "start_time": "2023-01-23T11:14:30.201Z"
   },
   {
    "duration": 20,
    "start_time": "2023-01-23T11:14:32.847Z"
   },
   {
    "duration": 2278,
    "start_time": "2023-01-23T11:14:32.869Z"
   },
   {
    "duration": 8,
    "start_time": "2023-01-23T11:14:35.148Z"
   },
   {
    "duration": 26,
    "start_time": "2023-01-23T11:14:35.157Z"
   },
   {
    "duration": 36,
    "start_time": "2023-01-23T11:14:35.185Z"
   },
   {
    "duration": 42,
    "start_time": "2023-01-23T11:14:35.223Z"
   },
   {
    "duration": 61,
    "start_time": "2023-01-23T11:14:35.267Z"
   },
   {
    "duration": 18,
    "start_time": "2023-01-23T11:14:35.330Z"
   },
   {
    "duration": 47,
    "start_time": "2023-01-23T11:14:35.350Z"
   },
   {
    "duration": 26,
    "start_time": "2023-01-23T11:14:35.398Z"
   },
   {
    "duration": 41,
    "start_time": "2023-01-23T11:14:35.425Z"
   },
   {
    "duration": 57,
    "start_time": "2023-01-23T11:14:35.471Z"
   },
   {
    "duration": 44,
    "start_time": "2023-01-23T11:14:35.530Z"
   },
   {
    "duration": 2725,
    "start_time": "2023-01-23T11:14:35.576Z"
   },
   {
    "duration": 9,
    "start_time": "2023-01-23T11:14:38.303Z"
   },
   {
    "duration": 59,
    "start_time": "2023-01-23T11:14:38.314Z"
   },
   {
    "duration": 2892,
    "start_time": "2023-01-23T11:14:38.375Z"
   },
   {
    "duration": 13,
    "start_time": "2023-01-23T11:14:41.269Z"
   },
   {
    "duration": 32,
    "start_time": "2023-01-23T11:14:41.283Z"
   },
   {
    "duration": 44,
    "start_time": "2023-01-23T11:14:41.316Z"
   },
   {
    "duration": 20,
    "start_time": "2023-01-23T11:14:41.362Z"
   },
   {
    "duration": 24,
    "start_time": "2023-01-23T11:14:41.384Z"
   },
   {
    "duration": 156,
    "start_time": "2023-01-23T11:14:41.410Z"
   },
   {
    "duration": 0,
    "start_time": "2023-01-23T11:14:41.568Z"
   },
   {
    "duration": 1,
    "start_time": "2023-01-23T11:14:41.569Z"
   },
   {
    "duration": 0,
    "start_time": "2023-01-23T11:14:41.571Z"
   },
   {
    "duration": 0,
    "start_time": "2023-01-23T11:14:41.572Z"
   },
   {
    "duration": 0,
    "start_time": "2023-01-23T11:14:41.573Z"
   },
   {
    "duration": 0,
    "start_time": "2023-01-23T11:14:41.574Z"
   },
   {
    "duration": 5,
    "start_time": "2023-01-23T11:23:15.496Z"
   },
   {
    "duration": 59,
    "start_time": "2023-01-23T11:23:28.229Z"
   },
   {
    "duration": 15,
    "start_time": "2023-01-23T11:23:36.956Z"
   },
   {
    "duration": 5,
    "start_time": "2023-01-23T11:23:56.308Z"
   },
   {
    "duration": 11,
    "start_time": "2023-01-23T11:24:09.055Z"
   },
   {
    "duration": 11,
    "start_time": "2023-01-23T11:24:20.561Z"
   },
   {
    "duration": 56,
    "start_time": "2023-01-23T11:24:24.152Z"
   },
   {
    "duration": 5,
    "start_time": "2023-01-23T11:24:30.203Z"
   },
   {
    "duration": 1527,
    "start_time": "2023-01-23T11:24:46.860Z"
   },
   {
    "duration": 792,
    "start_time": "2023-01-23T11:24:48.389Z"
   },
   {
    "duration": 3,
    "start_time": "2023-01-23T11:24:49.183Z"
   },
   {
    "duration": 484,
    "start_time": "2023-01-23T11:24:49.188Z"
   },
   {
    "duration": 205,
    "start_time": "2023-01-23T11:24:49.675Z"
   },
   {
    "duration": 426,
    "start_time": "2023-01-23T11:24:49.882Z"
   },
   {
    "duration": 29,
    "start_time": "2023-01-23T11:24:50.310Z"
   },
   {
    "duration": 43,
    "start_time": "2023-01-23T11:24:50.341Z"
   },
   {
    "duration": 7,
    "start_time": "2023-01-23T11:24:50.387Z"
   },
   {
    "duration": 36,
    "start_time": "2023-01-23T11:24:50.396Z"
   },
   {
    "duration": 38,
    "start_time": "2023-01-23T11:24:50.434Z"
   },
   {
    "duration": 26,
    "start_time": "2023-01-23T11:24:50.474Z"
   },
   {
    "duration": 18,
    "start_time": "2023-01-23T11:24:50.502Z"
   },
   {
    "duration": 3743,
    "start_time": "2023-01-23T11:24:50.524Z"
   },
   {
    "duration": 19,
    "start_time": "2023-01-23T11:24:54.270Z"
   },
   {
    "duration": 2805,
    "start_time": "2023-01-23T11:24:54.291Z"
   },
   {
    "duration": 19,
    "start_time": "2023-01-23T11:24:57.098Z"
   },
   {
    "duration": 2203,
    "start_time": "2023-01-23T11:24:57.120Z"
   },
   {
    "duration": 7,
    "start_time": "2023-01-23T11:24:59.325Z"
   },
   {
    "duration": 38,
    "start_time": "2023-01-23T11:24:59.347Z"
   },
   {
    "duration": 60,
    "start_time": "2023-01-23T11:24:59.388Z"
   },
   {
    "duration": 11,
    "start_time": "2023-01-23T11:24:59.451Z"
   },
   {
    "duration": 42,
    "start_time": "2023-01-23T11:24:59.463Z"
   },
   {
    "duration": 10,
    "start_time": "2023-01-23T11:24:59.507Z"
   },
   {
    "duration": 28,
    "start_time": "2023-01-23T11:24:59.519Z"
   },
   {
    "duration": 12,
    "start_time": "2023-01-23T11:24:59.549Z"
   },
   {
    "duration": 12,
    "start_time": "2023-01-23T11:24:59.563Z"
   },
   {
    "duration": 56,
    "start_time": "2023-01-23T11:24:59.576Z"
   },
   {
    "duration": 44,
    "start_time": "2023-01-23T11:24:59.634Z"
   },
   {
    "duration": 2796,
    "start_time": "2023-01-23T11:24:59.680Z"
   },
   {
    "duration": 9,
    "start_time": "2023-01-23T11:25:02.478Z"
   },
   {
    "duration": 84,
    "start_time": "2023-01-23T11:25:02.489Z"
   },
   {
    "duration": 2922,
    "start_time": "2023-01-23T11:25:02.575Z"
   },
   {
    "duration": 129,
    "start_time": "2023-01-23T11:25:05.499Z"
   },
   {
    "duration": 0,
    "start_time": "2023-01-23T11:25:05.630Z"
   },
   {
    "duration": 0,
    "start_time": "2023-01-23T11:25:05.631Z"
   },
   {
    "duration": 0,
    "start_time": "2023-01-23T11:25:05.642Z"
   },
   {
    "duration": 0,
    "start_time": "2023-01-23T11:25:05.643Z"
   },
   {
    "duration": 0,
    "start_time": "2023-01-23T11:25:05.645Z"
   },
   {
    "duration": 0,
    "start_time": "2023-01-23T11:25:05.647Z"
   },
   {
    "duration": 0,
    "start_time": "2023-01-23T11:25:05.647Z"
   },
   {
    "duration": 0,
    "start_time": "2023-01-23T11:25:05.648Z"
   },
   {
    "duration": 0,
    "start_time": "2023-01-23T11:25:05.649Z"
   },
   {
    "duration": 0,
    "start_time": "2023-01-23T11:25:05.651Z"
   },
   {
    "duration": 8,
    "start_time": "2023-01-23T11:27:57.542Z"
   },
   {
    "duration": 1620,
    "start_time": "2023-01-23T11:51:52.301Z"
   },
   {
    "duration": 1872,
    "start_time": "2023-01-23T11:51:53.923Z"
   },
   {
    "duration": 3,
    "start_time": "2023-01-23T11:51:55.797Z"
   },
   {
    "duration": 430,
    "start_time": "2023-01-23T11:51:55.802Z"
   },
   {
    "duration": 208,
    "start_time": "2023-01-23T11:51:56.234Z"
   },
   {
    "duration": 464,
    "start_time": "2023-01-23T11:51:56.444Z"
   },
   {
    "duration": 28,
    "start_time": "2023-01-23T11:51:56.910Z"
   },
   {
    "duration": 58,
    "start_time": "2023-01-23T11:51:56.939Z"
   },
   {
    "duration": 6,
    "start_time": "2023-01-23T11:51:56.999Z"
   },
   {
    "duration": 22,
    "start_time": "2023-01-23T11:51:57.008Z"
   },
   {
    "duration": 29,
    "start_time": "2023-01-23T11:51:57.031Z"
   },
   {
    "duration": 24,
    "start_time": "2023-01-23T11:51:57.062Z"
   },
   {
    "duration": 20,
    "start_time": "2023-01-23T11:51:57.088Z"
   },
   {
    "duration": 3668,
    "start_time": "2023-01-23T11:51:57.110Z"
   },
   {
    "duration": 20,
    "start_time": "2023-01-23T11:52:00.780Z"
   },
   {
    "duration": 2896,
    "start_time": "2023-01-23T11:52:00.802Z"
   },
   {
    "duration": 22,
    "start_time": "2023-01-23T11:52:03.700Z"
   },
   {
    "duration": 2131,
    "start_time": "2023-01-23T11:52:03.724Z"
   },
   {
    "duration": 6,
    "start_time": "2023-01-23T11:52:05.857Z"
   },
   {
    "duration": 25,
    "start_time": "2023-01-23T11:52:05.865Z"
   },
   {
    "duration": 33,
    "start_time": "2023-01-23T11:52:05.891Z"
   },
   {
    "duration": 10,
    "start_time": "2023-01-23T11:52:05.926Z"
   },
   {
    "duration": 78,
    "start_time": "2023-01-23T11:52:05.938Z"
   },
   {
    "duration": 11,
    "start_time": "2023-01-23T11:52:06.017Z"
   },
   {
    "duration": 10,
    "start_time": "2023-01-23T11:52:06.030Z"
   },
   {
    "duration": 42,
    "start_time": "2023-01-23T11:52:06.042Z"
   },
   {
    "duration": 6,
    "start_time": "2023-01-23T11:52:06.086Z"
   },
   {
    "duration": 49,
    "start_time": "2023-01-23T11:52:06.096Z"
   },
   {
    "duration": 65,
    "start_time": "2023-01-23T11:52:06.147Z"
   },
   {
    "duration": 2672,
    "start_time": "2023-01-23T11:52:06.214Z"
   },
   {
    "duration": 9,
    "start_time": "2023-01-23T11:52:08.888Z"
   },
   {
    "duration": 23,
    "start_time": "2023-01-23T11:52:08.899Z"
   },
   {
    "duration": 2974,
    "start_time": "2023-01-23T11:52:08.924Z"
   },
   {
    "duration": 134,
    "start_time": "2023-01-23T11:52:11.900Z"
   },
   {
    "duration": 0,
    "start_time": "2023-01-23T11:52:12.037Z"
   },
   {
    "duration": 0,
    "start_time": "2023-01-23T11:52:12.039Z"
   },
   {
    "duration": 0,
    "start_time": "2023-01-23T11:52:12.041Z"
   },
   {
    "duration": 0,
    "start_time": "2023-01-23T11:52:12.042Z"
   },
   {
    "duration": 0,
    "start_time": "2023-01-23T11:52:12.044Z"
   },
   {
    "duration": 0,
    "start_time": "2023-01-23T11:52:12.045Z"
   },
   {
    "duration": 0,
    "start_time": "2023-01-23T11:52:12.046Z"
   },
   {
    "duration": 0,
    "start_time": "2023-01-23T11:52:12.047Z"
   },
   {
    "duration": 0,
    "start_time": "2023-01-23T11:52:12.049Z"
   },
   {
    "duration": 0,
    "start_time": "2023-01-23T11:52:12.051Z"
   },
   {
    "duration": 7,
    "start_time": "2023-01-23T11:53:56.465Z"
   },
   {
    "duration": 3,
    "start_time": "2023-01-23T11:54:06.907Z"
   },
   {
    "duration": 3,
    "start_time": "2023-01-23T11:54:07.736Z"
   },
   {
    "duration": 3,
    "start_time": "2023-01-23T11:54:08.202Z"
   },
   {
    "duration": 8,
    "start_time": "2023-01-23T11:54:10.442Z"
   },
   {
    "duration": 3,
    "start_time": "2023-01-23T11:54:13.387Z"
   },
   {
    "duration": 106,
    "start_time": "2023-01-23T11:54:15.690Z"
   },
   {
    "duration": 7,
    "start_time": "2023-01-23T11:54:54.779Z"
   },
   {
    "duration": 4,
    "start_time": "2023-01-23T11:54:56.633Z"
   },
   {
    "duration": 98,
    "start_time": "2023-01-23T11:54:59.950Z"
   },
   {
    "duration": 159,
    "start_time": "2023-01-23T11:55:13.531Z"
   },
   {
    "duration": 121,
    "start_time": "2023-01-23T11:55:19.971Z"
   },
   {
    "duration": 1607,
    "start_time": "2023-01-23T11:56:10.849Z"
   },
   {
    "duration": 752,
    "start_time": "2023-01-23T11:56:12.458Z"
   },
   {
    "duration": 4,
    "start_time": "2023-01-23T11:56:13.212Z"
   },
   {
    "duration": 469,
    "start_time": "2023-01-23T11:56:13.218Z"
   },
   {
    "duration": 238,
    "start_time": "2023-01-23T11:56:13.690Z"
   },
   {
    "duration": 448,
    "start_time": "2023-01-23T11:56:13.930Z"
   },
   {
    "duration": 27,
    "start_time": "2023-01-23T11:56:14.385Z"
   },
   {
    "duration": 49,
    "start_time": "2023-01-23T11:56:14.414Z"
   },
   {
    "duration": 9,
    "start_time": "2023-01-23T11:56:14.483Z"
   },
   {
    "duration": 18,
    "start_time": "2023-01-23T11:56:14.497Z"
   },
   {
    "duration": 19,
    "start_time": "2023-01-23T11:56:14.517Z"
   },
   {
    "duration": 30,
    "start_time": "2023-01-23T11:56:14.538Z"
   },
   {
    "duration": 27,
    "start_time": "2023-01-23T11:56:14.570Z"
   },
   {
    "duration": 3495,
    "start_time": "2023-01-23T11:56:14.599Z"
   },
   {
    "duration": 20,
    "start_time": "2023-01-23T11:56:18.096Z"
   },
   {
    "duration": 2859,
    "start_time": "2023-01-23T11:56:18.118Z"
   },
   {
    "duration": 22,
    "start_time": "2023-01-23T11:56:20.979Z"
   },
   {
    "duration": 2121,
    "start_time": "2023-01-23T11:56:21.003Z"
   },
   {
    "duration": 6,
    "start_time": "2023-01-23T11:56:23.126Z"
   },
   {
    "duration": 11,
    "start_time": "2023-01-23T11:56:23.134Z"
   },
   {
    "duration": 41,
    "start_time": "2023-01-23T11:56:23.147Z"
   },
   {
    "duration": 11,
    "start_time": "2023-01-23T11:56:23.190Z"
   },
   {
    "duration": 45,
    "start_time": "2023-01-23T11:56:23.203Z"
   },
   {
    "duration": 35,
    "start_time": "2023-01-23T11:56:23.250Z"
   },
   {
    "duration": 10,
    "start_time": "2023-01-23T11:56:23.287Z"
   },
   {
    "duration": 15,
    "start_time": "2023-01-23T11:56:23.299Z"
   },
   {
    "duration": 6,
    "start_time": "2023-01-23T11:56:23.316Z"
   },
   {
    "duration": 68,
    "start_time": "2023-01-23T11:56:23.326Z"
   },
   {
    "duration": 38,
    "start_time": "2023-01-23T11:56:23.396Z"
   },
   {
    "duration": 2620,
    "start_time": "2023-01-23T11:56:23.436Z"
   },
   {
    "duration": 11,
    "start_time": "2023-01-23T11:56:26.058Z"
   },
   {
    "duration": 26,
    "start_time": "2023-01-23T11:56:26.085Z"
   },
   {
    "duration": 2885,
    "start_time": "2023-01-23T11:56:26.114Z"
   },
   {
    "duration": 7,
    "start_time": "2023-01-23T11:56:29.001Z"
   },
   {
    "duration": 23,
    "start_time": "2023-01-23T11:56:29.010Z"
   },
   {
    "duration": 21,
    "start_time": "2023-01-23T11:56:29.035Z"
   },
   {
    "duration": 17,
    "start_time": "2023-01-23T11:56:29.058Z"
   },
   {
    "duration": 13,
    "start_time": "2023-01-23T11:56:29.077Z"
   },
   {
    "duration": 227,
    "start_time": "2023-01-23T11:56:29.092Z"
   },
   {
    "duration": 0,
    "start_time": "2023-01-23T11:56:29.322Z"
   },
   {
    "duration": 0,
    "start_time": "2023-01-23T11:56:29.323Z"
   },
   {
    "duration": 0,
    "start_time": "2023-01-23T11:56:29.324Z"
   },
   {
    "duration": 0,
    "start_time": "2023-01-23T11:56:29.326Z"
   },
   {
    "duration": 0,
    "start_time": "2023-01-23T11:56:29.327Z"
   },
   {
    "duration": 8,
    "start_time": "2023-01-23T11:57:23.462Z"
   },
   {
    "duration": 4,
    "start_time": "2023-01-23T11:57:24.389Z"
   },
   {
    "duration": 117,
    "start_time": "2023-01-23T11:57:27.364Z"
   },
   {
    "duration": 8,
    "start_time": "2023-01-23T11:58:09.933Z"
   },
   {
    "duration": 4,
    "start_time": "2023-01-23T11:58:10.741Z"
   },
   {
    "duration": 109,
    "start_time": "2023-01-23T11:58:12.964Z"
   },
   {
    "duration": 105,
    "start_time": "2023-01-23T11:58:47.717Z"
   },
   {
    "duration": 110,
    "start_time": "2023-01-23T11:58:56.147Z"
   },
   {
    "duration": 113,
    "start_time": "2023-01-23T11:59:06.464Z"
   },
   {
    "duration": 15,
    "start_time": "2023-01-23T12:00:12.853Z"
   },
   {
    "duration": 15,
    "start_time": "2023-01-23T12:00:52.298Z"
   },
   {
    "duration": 17,
    "start_time": "2023-01-23T12:01:10.748Z"
   },
   {
    "duration": 13,
    "start_time": "2023-01-23T12:01:27.626Z"
   },
   {
    "duration": 13,
    "start_time": "2023-01-23T12:01:41.533Z"
   },
   {
    "duration": 13,
    "start_time": "2023-01-23T12:02:06.705Z"
   },
   {
    "duration": 12,
    "start_time": "2023-01-23T12:03:37.941Z"
   },
   {
    "duration": 1631,
    "start_time": "2023-01-23T12:03:45.670Z"
   },
   {
    "duration": 746,
    "start_time": "2023-01-23T12:03:47.303Z"
   },
   {
    "duration": 4,
    "start_time": "2023-01-23T12:03:48.051Z"
   },
   {
    "duration": 451,
    "start_time": "2023-01-23T12:03:48.057Z"
   },
   {
    "duration": 199,
    "start_time": "2023-01-23T12:03:48.510Z"
   },
   {
    "duration": 415,
    "start_time": "2023-01-23T12:03:48.711Z"
   },
   {
    "duration": 28,
    "start_time": "2023-01-23T12:03:49.129Z"
   },
   {
    "duration": 53,
    "start_time": "2023-01-23T12:03:49.159Z"
   },
   {
    "duration": 8,
    "start_time": "2023-01-23T12:03:49.214Z"
   },
   {
    "duration": 16,
    "start_time": "2023-01-23T12:03:49.225Z"
   },
   {
    "duration": 31,
    "start_time": "2023-01-23T12:03:49.243Z"
   },
   {
    "duration": 26,
    "start_time": "2023-01-23T12:03:49.275Z"
   },
   {
    "duration": 16,
    "start_time": "2023-01-23T12:03:49.303Z"
   },
   {
    "duration": 3605,
    "start_time": "2023-01-23T12:03:49.321Z"
   },
   {
    "duration": 21,
    "start_time": "2023-01-23T12:03:52.929Z"
   },
   {
    "duration": 2743,
    "start_time": "2023-01-23T12:03:52.952Z"
   },
   {
    "duration": 23,
    "start_time": "2023-01-23T12:03:55.700Z"
   },
   {
    "duration": 2447,
    "start_time": "2023-01-23T12:03:55.725Z"
   },
   {
    "duration": 15,
    "start_time": "2023-01-23T12:03:58.174Z"
   },
   {
    "duration": 12,
    "start_time": "2023-01-23T12:03:58.191Z"
   },
   {
    "duration": 38,
    "start_time": "2023-01-23T12:03:58.205Z"
   },
   {
    "duration": 16,
    "start_time": "2023-01-23T12:03:58.246Z"
   },
   {
    "duration": 119,
    "start_time": "2023-01-23T12:03:58.265Z"
   },
   {
    "duration": 12,
    "start_time": "2023-01-23T12:03:58.387Z"
   },
   {
    "duration": 32,
    "start_time": "2023-01-23T12:03:58.402Z"
   },
   {
    "duration": 13,
    "start_time": "2023-01-23T12:03:58.436Z"
   },
   {
    "duration": 29,
    "start_time": "2023-01-23T12:03:58.451Z"
   },
   {
    "duration": 70,
    "start_time": "2023-01-23T12:03:58.486Z"
   },
   {
    "duration": 45,
    "start_time": "2023-01-23T12:03:58.558Z"
   },
   {
    "duration": 2896,
    "start_time": "2023-01-23T12:03:58.605Z"
   },
   {
    "duration": 11,
    "start_time": "2023-01-23T12:04:01.503Z"
   },
   {
    "duration": 251,
    "start_time": "2023-01-23T12:04:01.516Z"
   },
   {
    "duration": 2981,
    "start_time": "2023-01-23T12:04:01.770Z"
   },
   {
    "duration": 15,
    "start_time": "2023-01-23T12:04:04.752Z"
   },
   {
    "duration": 15,
    "start_time": "2023-01-23T12:04:04.769Z"
   },
   {
    "duration": 15,
    "start_time": "2023-01-23T12:04:04.787Z"
   },
   {
    "duration": 12,
    "start_time": "2023-01-23T12:04:04.805Z"
   },
   {
    "duration": 138,
    "start_time": "2023-01-23T12:04:04.819Z"
   },
   {
    "duration": 0,
    "start_time": "2023-01-23T12:04:04.959Z"
   },
   {
    "duration": 0,
    "start_time": "2023-01-23T12:04:04.961Z"
   },
   {
    "duration": 0,
    "start_time": "2023-01-23T12:04:04.963Z"
   },
   {
    "duration": 0,
    "start_time": "2023-01-23T12:04:04.964Z"
   },
   {
    "duration": 0,
    "start_time": "2023-01-23T12:04:04.984Z"
   },
   {
    "duration": 0,
    "start_time": "2023-01-23T12:04:04.986Z"
   },
   {
    "duration": 24,
    "start_time": "2023-01-23T12:05:39.629Z"
   },
   {
    "duration": 10,
    "start_time": "2023-01-23T12:07:21.287Z"
   },
   {
    "duration": 3,
    "start_time": "2023-01-23T12:07:23.419Z"
   },
   {
    "duration": 117,
    "start_time": "2023-01-23T12:07:25.470Z"
   },
   {
    "duration": 11,
    "start_time": "2023-01-23T12:10:18.810Z"
   },
   {
    "duration": 5,
    "start_time": "2023-01-23T12:10:25.330Z"
   },
   {
    "duration": 4,
    "start_time": "2023-01-23T12:10:26.070Z"
   },
   {
    "duration": 4,
    "start_time": "2023-01-23T12:10:28.224Z"
   },
   {
    "duration": 22,
    "start_time": "2023-01-23T12:10:40.479Z"
   },
   {
    "duration": 1531,
    "start_time": "2023-01-23T12:10:54.134Z"
   },
   {
    "duration": 737,
    "start_time": "2023-01-23T12:10:55.668Z"
   },
   {
    "duration": 4,
    "start_time": "2023-01-23T12:10:56.407Z"
   },
   {
    "duration": 467,
    "start_time": "2023-01-23T12:10:56.414Z"
   },
   {
    "duration": 228,
    "start_time": "2023-01-23T12:10:56.882Z"
   },
   {
    "duration": 448,
    "start_time": "2023-01-23T12:10:57.113Z"
   },
   {
    "duration": 49,
    "start_time": "2023-01-23T12:10:57.563Z"
   },
   {
    "duration": 35,
    "start_time": "2023-01-23T12:10:57.615Z"
   },
   {
    "duration": 35,
    "start_time": "2023-01-23T12:10:57.652Z"
   },
   {
    "duration": 8,
    "start_time": "2023-01-23T12:10:57.691Z"
   },
   {
    "duration": 13,
    "start_time": "2023-01-23T12:10:57.701Z"
   },
   {
    "duration": 13,
    "start_time": "2023-01-23T12:10:57.716Z"
   },
   {
    "duration": 18,
    "start_time": "2023-01-23T12:10:57.731Z"
   },
   {
    "duration": 3641,
    "start_time": "2023-01-23T12:10:57.785Z"
   },
   {
    "duration": 21,
    "start_time": "2023-01-23T12:11:01.428Z"
   },
   {
    "duration": 2943,
    "start_time": "2023-01-23T12:11:01.450Z"
   },
   {
    "duration": 20,
    "start_time": "2023-01-23T12:11:04.395Z"
   },
   {
    "duration": 2264,
    "start_time": "2023-01-23T12:11:04.417Z"
   },
   {
    "duration": 7,
    "start_time": "2023-01-23T12:11:06.684Z"
   },
   {
    "duration": 17,
    "start_time": "2023-01-23T12:11:06.693Z"
   },
   {
    "duration": 27,
    "start_time": "2023-01-23T12:11:06.712Z"
   },
   {
    "duration": 13,
    "start_time": "2023-01-23T12:11:06.742Z"
   },
   {
    "duration": 71,
    "start_time": "2023-01-23T12:11:06.757Z"
   },
   {
    "duration": 12,
    "start_time": "2023-01-23T12:11:06.830Z"
   },
   {
    "duration": 10,
    "start_time": "2023-01-23T12:11:06.845Z"
   },
   {
    "duration": 30,
    "start_time": "2023-01-23T12:11:06.857Z"
   },
   {
    "duration": 9,
    "start_time": "2023-01-23T12:11:06.890Z"
   },
   {
    "duration": 49,
    "start_time": "2023-01-23T12:11:06.904Z"
   },
   {
    "duration": 59,
    "start_time": "2023-01-23T12:11:06.955Z"
   },
   {
    "duration": 3024,
    "start_time": "2023-01-23T12:11:07.016Z"
   },
   {
    "duration": 11,
    "start_time": "2023-01-23T12:11:10.042Z"
   },
   {
    "duration": 34,
    "start_time": "2023-01-23T12:11:10.055Z"
   },
   {
    "duration": 2916,
    "start_time": "2023-01-23T12:11:10.091Z"
   },
   {
    "duration": 143,
    "start_time": "2023-01-23T12:11:13.009Z"
   },
   {
    "duration": 0,
    "start_time": "2023-01-23T12:11:13.155Z"
   },
   {
    "duration": 0,
    "start_time": "2023-01-23T12:11:13.157Z"
   },
   {
    "duration": 0,
    "start_time": "2023-01-23T12:11:13.160Z"
   },
   {
    "duration": 0,
    "start_time": "2023-01-23T12:11:13.161Z"
   },
   {
    "duration": 0,
    "start_time": "2023-01-23T12:11:13.163Z"
   },
   {
    "duration": 0,
    "start_time": "2023-01-23T12:11:13.165Z"
   },
   {
    "duration": 0,
    "start_time": "2023-01-23T12:11:13.185Z"
   },
   {
    "duration": 0,
    "start_time": "2023-01-23T12:11:13.187Z"
   },
   {
    "duration": 0,
    "start_time": "2023-01-23T12:11:13.188Z"
   },
   {
    "duration": 0,
    "start_time": "2023-01-23T12:11:13.190Z"
   },
   {
    "duration": 14,
    "start_time": "2023-01-23T12:13:20.163Z"
   },
   {
    "duration": 1637,
    "start_time": "2023-01-23T12:13:35.155Z"
   },
   {
    "duration": 730,
    "start_time": "2023-01-23T12:13:36.794Z"
   },
   {
    "duration": 3,
    "start_time": "2023-01-23T12:13:37.526Z"
   },
   {
    "duration": 446,
    "start_time": "2023-01-23T12:13:37.531Z"
   },
   {
    "duration": 199,
    "start_time": "2023-01-23T12:13:37.979Z"
   },
   {
    "duration": 414,
    "start_time": "2023-01-23T12:13:38.185Z"
   },
   {
    "duration": 25,
    "start_time": "2023-01-23T12:13:38.601Z"
   },
   {
    "duration": 59,
    "start_time": "2023-01-23T12:13:38.627Z"
   },
   {
    "duration": 7,
    "start_time": "2023-01-23T12:13:38.688Z"
   },
   {
    "duration": 16,
    "start_time": "2023-01-23T12:13:38.698Z"
   },
   {
    "duration": 9,
    "start_time": "2023-01-23T12:13:38.716Z"
   },
   {
    "duration": 11,
    "start_time": "2023-01-23T12:13:38.726Z"
   },
   {
    "duration": 46,
    "start_time": "2023-01-23T12:13:38.739Z"
   },
   {
    "duration": 3799,
    "start_time": "2023-01-23T12:13:38.787Z"
   },
   {
    "duration": 20,
    "start_time": "2023-01-23T12:13:42.588Z"
   },
   {
    "duration": 2740,
    "start_time": "2023-01-23T12:13:42.610Z"
   },
   {
    "duration": 32,
    "start_time": "2023-01-23T12:13:45.352Z"
   },
   {
    "duration": 2133,
    "start_time": "2023-01-23T12:13:45.386Z"
   },
   {
    "duration": 8,
    "start_time": "2023-01-23T12:13:47.521Z"
   },
   {
    "duration": 9,
    "start_time": "2023-01-23T12:13:47.531Z"
   },
   {
    "duration": 42,
    "start_time": "2023-01-23T12:13:47.542Z"
   },
   {
    "duration": 14,
    "start_time": "2023-01-23T12:13:47.587Z"
   },
   {
    "duration": 48,
    "start_time": "2023-01-23T12:13:47.603Z"
   },
   {
    "duration": 31,
    "start_time": "2023-01-23T12:13:47.653Z"
   },
   {
    "duration": 11,
    "start_time": "2023-01-23T12:13:47.687Z"
   },
   {
    "duration": 10,
    "start_time": "2023-01-23T12:13:47.700Z"
   },
   {
    "duration": 11,
    "start_time": "2023-01-23T12:13:47.713Z"
   },
   {
    "duration": 78,
    "start_time": "2023-01-23T12:13:47.729Z"
   },
   {
    "duration": 51,
    "start_time": "2023-01-23T12:13:47.810Z"
   },
   {
    "duration": 2984,
    "start_time": "2023-01-23T12:13:47.863Z"
   },
   {
    "duration": 9,
    "start_time": "2023-01-23T12:13:50.849Z"
   },
   {
    "duration": 54,
    "start_time": "2023-01-23T12:13:50.860Z"
   },
   {
    "duration": 2910,
    "start_time": "2023-01-23T12:13:50.916Z"
   },
   {
    "duration": 10,
    "start_time": "2023-01-23T12:13:53.828Z"
   },
   {
    "duration": 5,
    "start_time": "2023-01-23T12:13:53.840Z"
   },
   {
    "duration": 6,
    "start_time": "2023-01-23T12:13:53.847Z"
   },
   {
    "duration": 16,
    "start_time": "2023-01-23T12:13:53.855Z"
   },
   {
    "duration": 16,
    "start_time": "2023-01-23T12:13:53.873Z"
   },
   {
    "duration": 9,
    "start_time": "2023-01-23T12:13:53.891Z"
   },
   {
    "duration": 230,
    "start_time": "2023-01-23T12:13:53.902Z"
   },
   {
    "duration": 94,
    "start_time": "2023-01-23T12:13:54.134Z"
   },
   {
    "duration": 92,
    "start_time": "2023-01-23T12:13:54.230Z"
   },
   {
    "duration": 28,
    "start_time": "2023-01-23T12:13:54.325Z"
   },
   {
    "duration": 0,
    "start_time": "2023-01-23T12:13:54.355Z"
   },
   {
    "duration": 14,
    "start_time": "2023-01-23T12:15:34.140Z"
   },
   {
    "duration": 16,
    "start_time": "2023-01-23T12:15:39.370Z"
   },
   {
    "duration": 1715,
    "start_time": "2023-01-23T12:15:45.635Z"
   },
   {
    "duration": 907,
    "start_time": "2023-01-23T12:15:47.353Z"
   },
   {
    "duration": 4,
    "start_time": "2023-01-23T12:15:48.262Z"
   },
   {
    "duration": 561,
    "start_time": "2023-01-23T12:15:48.270Z"
   },
   {
    "duration": 289,
    "start_time": "2023-01-23T12:15:48.832Z"
   },
   {
    "duration": 722,
    "start_time": "2023-01-23T12:15:49.123Z"
   },
   {
    "duration": 56,
    "start_time": "2023-01-23T12:15:49.848Z"
   },
   {
    "duration": 46,
    "start_time": "2023-01-23T12:15:49.906Z"
   },
   {
    "duration": 8,
    "start_time": "2023-01-23T12:15:49.955Z"
   },
   {
    "duration": 50,
    "start_time": "2023-01-23T12:15:49.983Z"
   },
   {
    "duration": 48,
    "start_time": "2023-01-23T12:15:50.035Z"
   },
   {
    "duration": 36,
    "start_time": "2023-01-23T12:15:50.085Z"
   },
   {
    "duration": 38,
    "start_time": "2023-01-23T12:15:50.123Z"
   },
   {
    "duration": 4106,
    "start_time": "2023-01-23T12:15:50.163Z"
   },
   {
    "duration": 28,
    "start_time": "2023-01-23T12:15:54.271Z"
   },
   {
    "duration": 3151,
    "start_time": "2023-01-23T12:15:54.302Z"
   },
   {
    "duration": 41,
    "start_time": "2023-01-23T12:15:57.455Z"
   },
   {
    "duration": 2609,
    "start_time": "2023-01-23T12:15:57.498Z"
   },
   {
    "duration": 10,
    "start_time": "2023-01-23T12:16:00.111Z"
   },
   {
    "duration": 49,
    "start_time": "2023-01-23T12:16:00.124Z"
   },
   {
    "duration": 54,
    "start_time": "2023-01-23T12:16:00.175Z"
   },
   {
    "duration": 10,
    "start_time": "2023-01-23T12:16:00.231Z"
   },
   {
    "duration": 93,
    "start_time": "2023-01-23T12:16:00.243Z"
   },
   {
    "duration": 16,
    "start_time": "2023-01-23T12:16:00.338Z"
   },
   {
    "duration": 60,
    "start_time": "2023-01-23T12:16:00.357Z"
   },
   {
    "duration": 49,
    "start_time": "2023-01-23T12:16:00.419Z"
   },
   {
    "duration": 35,
    "start_time": "2023-01-23T12:16:00.470Z"
   },
   {
    "duration": 73,
    "start_time": "2023-01-23T12:16:00.511Z"
   },
   {
    "duration": 78,
    "start_time": "2023-01-23T12:16:00.587Z"
   },
   {
    "duration": 2881,
    "start_time": "2023-01-23T12:16:00.667Z"
   },
   {
    "duration": 12,
    "start_time": "2023-01-23T12:16:03.551Z"
   },
   {
    "duration": 73,
    "start_time": "2023-01-23T12:16:03.565Z"
   },
   {
    "duration": 3160,
    "start_time": "2023-01-23T12:16:03.643Z"
   },
   {
    "duration": 14,
    "start_time": "2023-01-23T12:16:06.806Z"
   },
   {
    "duration": 89,
    "start_time": "2023-01-23T12:16:06.822Z"
   },
   {
    "duration": 28,
    "start_time": "2023-01-23T12:16:06.914Z"
   },
   {
    "duration": 71,
    "start_time": "2023-01-23T12:16:06.944Z"
   },
   {
    "duration": 54,
    "start_time": "2023-01-23T12:16:07.017Z"
   },
   {
    "duration": 55,
    "start_time": "2023-01-23T12:16:07.074Z"
   },
   {
    "duration": 29,
    "start_time": "2023-01-23T12:16:07.131Z"
   },
   {
    "duration": 73,
    "start_time": "2023-01-23T12:16:07.162Z"
   },
   {
    "duration": 311,
    "start_time": "2023-01-23T12:16:07.237Z"
   },
   {
    "duration": 107,
    "start_time": "2023-01-23T12:16:07.550Z"
   },
   {
    "duration": 103,
    "start_time": "2023-01-23T12:16:07.659Z"
   },
   {
    "duration": 22,
    "start_time": "2023-01-23T12:16:07.764Z"
   },
   {
    "duration": 1,
    "start_time": "2023-01-23T12:16:07.788Z"
   },
   {
    "duration": 1640,
    "start_time": "2023-01-23T12:17:33.844Z"
   },
   {
    "duration": 824,
    "start_time": "2023-01-23T12:17:35.492Z"
   },
   {
    "duration": 4,
    "start_time": "2023-01-23T12:17:36.318Z"
   },
   {
    "duration": 496,
    "start_time": "2023-01-23T12:17:36.328Z"
   },
   {
    "duration": 222,
    "start_time": "2023-01-23T12:17:36.827Z"
   },
   {
    "duration": 501,
    "start_time": "2023-01-23T12:17:37.051Z"
   },
   {
    "duration": 39,
    "start_time": "2023-01-23T12:17:37.554Z"
   },
   {
    "duration": 39,
    "start_time": "2023-01-23T12:17:37.596Z"
   },
   {
    "duration": 7,
    "start_time": "2023-01-23T12:17:37.638Z"
   },
   {
    "duration": 56,
    "start_time": "2023-01-23T12:17:37.647Z"
   },
   {
    "duration": 10,
    "start_time": "2023-01-23T12:17:37.706Z"
   },
   {
    "duration": 25,
    "start_time": "2023-01-23T12:17:37.718Z"
   },
   {
    "duration": 10,
    "start_time": "2023-01-23T12:17:37.746Z"
   },
   {
    "duration": 4154,
    "start_time": "2023-01-23T12:17:37.761Z"
   },
   {
    "duration": 26,
    "start_time": "2023-01-23T12:17:41.918Z"
   },
   {
    "duration": 2948,
    "start_time": "2023-01-23T12:17:41.946Z"
   },
   {
    "duration": 21,
    "start_time": "2023-01-23T12:17:44.897Z"
   },
   {
    "duration": 2370,
    "start_time": "2023-01-23T12:17:44.920Z"
   },
   {
    "duration": 11,
    "start_time": "2023-01-23T12:17:47.295Z"
   },
   {
    "duration": 40,
    "start_time": "2023-01-23T12:17:47.308Z"
   },
   {
    "duration": 55,
    "start_time": "2023-01-23T12:17:47.352Z"
   },
   {
    "duration": 17,
    "start_time": "2023-01-23T12:17:47.411Z"
   },
   {
    "duration": 77,
    "start_time": "2023-01-23T12:17:47.430Z"
   },
   {
    "duration": 18,
    "start_time": "2023-01-23T12:17:47.510Z"
   },
   {
    "duration": 46,
    "start_time": "2023-01-23T12:17:47.530Z"
   },
   {
    "duration": 47,
    "start_time": "2023-01-23T12:17:47.579Z"
   },
   {
    "duration": 59,
    "start_time": "2023-01-23T12:17:47.628Z"
   },
   {
    "duration": 101,
    "start_time": "2023-01-23T12:17:47.690Z"
   },
   {
    "duration": 45,
    "start_time": "2023-01-23T12:17:47.794Z"
   },
   {
    "duration": 3252,
    "start_time": "2023-01-23T12:17:47.842Z"
   },
   {
    "duration": 13,
    "start_time": "2023-01-23T12:17:51.097Z"
   },
   {
    "duration": 24,
    "start_time": "2023-01-23T12:17:51.112Z"
   },
   {
    "duration": 3275,
    "start_time": "2023-01-23T12:17:51.139Z"
   },
   {
    "duration": 4,
    "start_time": "2023-01-23T12:17:54.416Z"
   },
   {
    "duration": 10,
    "start_time": "2023-01-23T12:17:54.422Z"
   },
   {
    "duration": 14,
    "start_time": "2023-01-23T12:17:54.434Z"
   },
   {
    "duration": 60,
    "start_time": "2023-01-23T12:17:54.450Z"
   },
   {
    "duration": 32,
    "start_time": "2023-01-23T12:17:54.512Z"
   },
   {
    "duration": 8887,
    "start_time": "2023-01-23T12:17:54.547Z"
   },
   {
    "duration": 7527,
    "start_time": "2023-01-23T12:18:03.436Z"
   },
   {
    "duration": 2222,
    "start_time": "2023-01-23T12:18:10.968Z"
   },
   {
    "duration": 4953,
    "start_time": "2023-01-23T12:18:13.195Z"
   },
   {
    "duration": 11,
    "start_time": "2023-01-23T12:18:18.150Z"
   },
   {
    "duration": 21,
    "start_time": "2023-01-23T12:21:45.997Z"
   },
   {
    "duration": 140,
    "start_time": "2023-01-23T12:21:53.111Z"
   },
   {
    "duration": 1571,
    "start_time": "2023-01-23T12:22:19.811Z"
   },
   {
    "duration": 742,
    "start_time": "2023-01-23T12:22:21.385Z"
   },
   {
    "duration": 5,
    "start_time": "2023-01-23T12:22:22.130Z"
   },
   {
    "duration": 444,
    "start_time": "2023-01-23T12:22:22.137Z"
   },
   {
    "duration": 189,
    "start_time": "2023-01-23T12:22:22.585Z"
   },
   {
    "duration": 429,
    "start_time": "2023-01-23T12:22:22.775Z"
   },
   {
    "duration": 25,
    "start_time": "2023-01-23T12:22:23.206Z"
   },
   {
    "duration": 54,
    "start_time": "2023-01-23T12:22:23.233Z"
   },
   {
    "duration": 7,
    "start_time": "2023-01-23T12:22:23.288Z"
   },
   {
    "duration": 18,
    "start_time": "2023-01-23T12:22:23.299Z"
   },
   {
    "duration": 41,
    "start_time": "2023-01-23T12:22:23.319Z"
   },
   {
    "duration": 20,
    "start_time": "2023-01-23T12:22:23.362Z"
   },
   {
    "duration": 13,
    "start_time": "2023-01-23T12:22:23.384Z"
   },
   {
    "duration": 3399,
    "start_time": "2023-01-23T12:22:23.399Z"
   },
   {
    "duration": 20,
    "start_time": "2023-01-23T12:22:26.800Z"
   },
   {
    "duration": 2705,
    "start_time": "2023-01-23T12:22:26.821Z"
   },
   {
    "duration": 79,
    "start_time": "2023-01-23T12:22:29.528Z"
   },
   {
    "duration": 2223,
    "start_time": "2023-01-23T12:22:29.610Z"
   },
   {
    "duration": 7,
    "start_time": "2023-01-23T12:22:31.835Z"
   },
   {
    "duration": 32,
    "start_time": "2023-01-23T12:22:31.844Z"
   },
   {
    "duration": 38,
    "start_time": "2023-01-23T12:22:31.878Z"
   },
   {
    "duration": 23,
    "start_time": "2023-01-23T12:22:31.918Z"
   },
   {
    "duration": 62,
    "start_time": "2023-01-23T12:22:31.943Z"
   },
   {
    "duration": 11,
    "start_time": "2023-01-23T12:22:32.007Z"
   },
   {
    "duration": 48,
    "start_time": "2023-01-23T12:22:32.020Z"
   },
   {
    "duration": 24,
    "start_time": "2023-01-23T12:22:32.071Z"
   },
   {
    "duration": 54,
    "start_time": "2023-01-23T12:22:32.098Z"
   },
   {
    "duration": 69,
    "start_time": "2023-01-23T12:22:32.156Z"
   },
   {
    "duration": 39,
    "start_time": "2023-01-23T12:22:32.227Z"
   },
   {
    "duration": 2742,
    "start_time": "2023-01-23T12:22:32.267Z"
   },
   {
    "duration": 10,
    "start_time": "2023-01-23T12:22:35.011Z"
   },
   {
    "duration": 48,
    "start_time": "2023-01-23T12:22:35.023Z"
   },
   {
    "duration": 2861,
    "start_time": "2023-01-23T12:22:35.073Z"
   },
   {
    "duration": 15,
    "start_time": "2023-01-23T12:22:37.937Z"
   },
   {
    "duration": 149,
    "start_time": "2023-01-23T12:22:37.954Z"
   },
   {
    "duration": 0,
    "start_time": "2023-01-23T12:22:38.105Z"
   },
   {
    "duration": 0,
    "start_time": "2023-01-23T12:22:38.107Z"
   },
   {
    "duration": 0,
    "start_time": "2023-01-23T12:22:38.109Z"
   },
   {
    "duration": 0,
    "start_time": "2023-01-23T12:22:38.110Z"
   },
   {
    "duration": 0,
    "start_time": "2023-01-23T12:22:38.112Z"
   },
   {
    "duration": 0,
    "start_time": "2023-01-23T12:22:38.113Z"
   },
   {
    "duration": 0,
    "start_time": "2023-01-23T12:22:38.115Z"
   },
   {
    "duration": 0,
    "start_time": "2023-01-23T12:22:38.117Z"
   },
   {
    "duration": 0,
    "start_time": "2023-01-23T12:22:38.118Z"
   },
   {
    "duration": 0,
    "start_time": "2023-01-23T12:22:38.120Z"
   },
   {
    "duration": 32,
    "start_time": "2023-01-23T12:24:27.299Z"
   },
   {
    "duration": 12,
    "start_time": "2023-01-23T12:24:45.861Z"
   },
   {
    "duration": 1663,
    "start_time": "2023-01-23T12:25:03.900Z"
   },
   {
    "duration": 788,
    "start_time": "2023-01-23T12:25:05.565Z"
   },
   {
    "duration": 4,
    "start_time": "2023-01-23T12:25:06.355Z"
   },
   {
    "duration": 481,
    "start_time": "2023-01-23T12:25:06.361Z"
   },
   {
    "duration": 240,
    "start_time": "2023-01-23T12:25:06.844Z"
   },
   {
    "duration": 502,
    "start_time": "2023-01-23T12:25:07.086Z"
   },
   {
    "duration": 30,
    "start_time": "2023-01-23T12:25:07.590Z"
   },
   {
    "duration": 64,
    "start_time": "2023-01-23T12:25:07.623Z"
   },
   {
    "duration": 7,
    "start_time": "2023-01-23T12:25:07.690Z"
   },
   {
    "duration": 12,
    "start_time": "2023-01-23T12:25:07.700Z"
   },
   {
    "duration": 9,
    "start_time": "2023-01-23T12:25:07.714Z"
   },
   {
    "duration": 15,
    "start_time": "2023-01-23T12:25:07.726Z"
   },
   {
    "duration": 45,
    "start_time": "2023-01-23T12:25:07.743Z"
   },
   {
    "duration": 30,
    "start_time": "2023-01-23T12:25:07.790Z"
   },
   {
    "duration": 3616,
    "start_time": "2023-01-23T12:25:07.822Z"
   },
   {
    "duration": 26,
    "start_time": "2023-01-23T12:25:11.441Z"
   },
   {
    "duration": 2709,
    "start_time": "2023-01-23T12:25:11.470Z"
   },
   {
    "duration": 20,
    "start_time": "2023-01-23T12:25:14.183Z"
   },
   {
    "duration": 2056,
    "start_time": "2023-01-23T12:25:14.205Z"
   },
   {
    "duration": 6,
    "start_time": "2023-01-23T12:25:16.263Z"
   },
   {
    "duration": 14,
    "start_time": "2023-01-23T12:25:16.271Z"
   },
   {
    "duration": 25,
    "start_time": "2023-01-23T12:25:16.287Z"
   },
   {
    "duration": 9,
    "start_time": "2023-01-23T12:25:16.314Z"
   },
   {
    "duration": 68,
    "start_time": "2023-01-23T12:25:16.325Z"
   },
   {
    "duration": 11,
    "start_time": "2023-01-23T12:25:16.395Z"
   },
   {
    "duration": 8,
    "start_time": "2023-01-23T12:25:16.408Z"
   },
   {
    "duration": 6,
    "start_time": "2023-01-23T12:25:16.418Z"
   },
   {
    "duration": 7,
    "start_time": "2023-01-23T12:25:16.427Z"
   },
   {
    "duration": 87,
    "start_time": "2023-01-23T12:25:16.437Z"
   },
   {
    "duration": 39,
    "start_time": "2023-01-23T12:25:16.525Z"
   },
   {
    "duration": 2736,
    "start_time": "2023-01-23T12:25:16.566Z"
   },
   {
    "duration": 10,
    "start_time": "2023-01-23T12:25:19.304Z"
   },
   {
    "duration": 17,
    "start_time": "2023-01-23T12:25:19.315Z"
   },
   {
    "duration": 3003,
    "start_time": "2023-01-23T12:25:19.334Z"
   },
   {
    "duration": 16,
    "start_time": "2023-01-23T12:25:22.339Z"
   },
   {
    "duration": 167,
    "start_time": "2023-01-23T12:25:22.357Z"
   },
   {
    "duration": 0,
    "start_time": "2023-01-23T12:25:22.526Z"
   },
   {
    "duration": 0,
    "start_time": "2023-01-23T12:25:22.527Z"
   },
   {
    "duration": 0,
    "start_time": "2023-01-23T12:25:22.529Z"
   },
   {
    "duration": 0,
    "start_time": "2023-01-23T12:25:22.529Z"
   },
   {
    "duration": 0,
    "start_time": "2023-01-23T12:25:22.530Z"
   },
   {
    "duration": 0,
    "start_time": "2023-01-23T12:25:22.532Z"
   },
   {
    "duration": 0,
    "start_time": "2023-01-23T12:25:22.533Z"
   },
   {
    "duration": 0,
    "start_time": "2023-01-23T12:25:22.534Z"
   },
   {
    "duration": 0,
    "start_time": "2023-01-23T12:25:22.535Z"
   },
   {
    "duration": 0,
    "start_time": "2023-01-23T12:25:22.537Z"
   },
   {
    "duration": 12,
    "start_time": "2023-01-23T12:30:32.297Z"
   },
   {
    "duration": 16,
    "start_time": "2023-01-23T12:32:16.501Z"
   },
   {
    "duration": 84,
    "start_time": "2023-01-23T12:32:51.037Z"
   },
   {
    "duration": 12,
    "start_time": "2023-01-23T12:34:49.370Z"
   },
   {
    "duration": 1682,
    "start_time": "2023-01-23T12:34:57.438Z"
   },
   {
    "duration": 823,
    "start_time": "2023-01-23T12:34:59.122Z"
   },
   {
    "duration": 5,
    "start_time": "2023-01-23T12:34:59.948Z"
   },
   {
    "duration": 467,
    "start_time": "2023-01-23T12:34:59.957Z"
   },
   {
    "duration": 214,
    "start_time": "2023-01-23T12:35:00.426Z"
   },
   {
    "duration": 446,
    "start_time": "2023-01-23T12:35:00.642Z"
   },
   {
    "duration": 27,
    "start_time": "2023-01-23T12:35:01.091Z"
   },
   {
    "duration": 73,
    "start_time": "2023-01-23T12:35:01.121Z"
   },
   {
    "duration": 44,
    "start_time": "2023-01-23T12:35:01.197Z"
   },
   {
    "duration": 36,
    "start_time": "2023-01-23T12:35:01.245Z"
   },
   {
    "duration": 81,
    "start_time": "2023-01-23T12:35:01.283Z"
   },
   {
    "duration": 76,
    "start_time": "2023-01-23T12:35:01.366Z"
   },
   {
    "duration": 90,
    "start_time": "2023-01-23T12:35:01.444Z"
   },
   {
    "duration": 3845,
    "start_time": "2023-01-23T12:35:01.537Z"
   },
   {
    "duration": 25,
    "start_time": "2023-01-23T12:35:05.384Z"
   },
   {
    "duration": 2695,
    "start_time": "2023-01-23T12:35:05.411Z"
   },
   {
    "duration": 28,
    "start_time": "2023-01-23T12:35:08.108Z"
   },
   {
    "duration": 2190,
    "start_time": "2023-01-23T12:35:08.139Z"
   },
   {
    "duration": 7,
    "start_time": "2023-01-23T12:35:10.332Z"
   },
   {
    "duration": 31,
    "start_time": "2023-01-23T12:35:10.341Z"
   },
   {
    "duration": 28,
    "start_time": "2023-01-23T12:35:10.374Z"
   },
   {
    "duration": 9,
    "start_time": "2023-01-23T12:35:10.404Z"
   },
   {
    "duration": 60,
    "start_time": "2023-01-23T12:35:10.415Z"
   },
   {
    "duration": 14,
    "start_time": "2023-01-23T12:35:10.477Z"
   },
   {
    "duration": 20,
    "start_time": "2023-01-23T12:35:10.494Z"
   },
   {
    "duration": 18,
    "start_time": "2023-01-23T12:35:10.516Z"
   },
   {
    "duration": 26,
    "start_time": "2023-01-23T12:35:10.536Z"
   },
   {
    "duration": 58,
    "start_time": "2023-01-23T12:35:10.567Z"
   },
   {
    "duration": 41,
    "start_time": "2023-01-23T12:35:10.627Z"
   },
   {
    "duration": 2738,
    "start_time": "2023-01-23T12:35:10.670Z"
   },
   {
    "duration": 9,
    "start_time": "2023-01-23T12:35:13.410Z"
   },
   {
    "duration": 16,
    "start_time": "2023-01-23T12:35:13.421Z"
   },
   {
    "duration": 2829,
    "start_time": "2023-01-23T12:35:13.439Z"
   },
   {
    "duration": 22,
    "start_time": "2023-01-23T12:35:16.270Z"
   },
   {
    "duration": 153,
    "start_time": "2023-01-23T12:35:16.294Z"
   },
   {
    "duration": 0,
    "start_time": "2023-01-23T12:35:16.450Z"
   },
   {
    "duration": 1,
    "start_time": "2023-01-23T12:35:16.451Z"
   },
   {
    "duration": 0,
    "start_time": "2023-01-23T12:35:16.454Z"
   },
   {
    "duration": 0,
    "start_time": "2023-01-23T12:35:16.455Z"
   },
   {
    "duration": 0,
    "start_time": "2023-01-23T12:35:16.457Z"
   },
   {
    "duration": 0,
    "start_time": "2023-01-23T12:35:16.459Z"
   },
   {
    "duration": 0,
    "start_time": "2023-01-23T12:35:16.460Z"
   },
   {
    "duration": 0,
    "start_time": "2023-01-23T12:35:16.484Z"
   },
   {
    "duration": 0,
    "start_time": "2023-01-23T12:35:16.486Z"
   },
   {
    "duration": 0,
    "start_time": "2023-01-23T12:35:16.488Z"
   },
   {
    "duration": 16,
    "start_time": "2023-01-23T12:36:36.583Z"
   },
   {
    "duration": 1682,
    "start_time": "2023-01-23T12:36:58.179Z"
   },
   {
    "duration": 752,
    "start_time": "2023-01-23T12:36:59.865Z"
   },
   {
    "duration": 4,
    "start_time": "2023-01-23T12:37:00.619Z"
   },
   {
    "duration": 472,
    "start_time": "2023-01-23T12:37:00.625Z"
   },
   {
    "duration": 208,
    "start_time": "2023-01-23T12:37:01.099Z"
   },
   {
    "duration": 442,
    "start_time": "2023-01-23T12:37:01.309Z"
   },
   {
    "duration": 43,
    "start_time": "2023-01-23T12:37:01.754Z"
   },
   {
    "duration": 115,
    "start_time": "2023-01-23T12:37:01.799Z"
   },
   {
    "duration": 8,
    "start_time": "2023-01-23T12:37:01.916Z"
   },
   {
    "duration": 34,
    "start_time": "2023-01-23T12:37:01.926Z"
   },
   {
    "duration": 39,
    "start_time": "2023-01-23T12:37:01.961Z"
   },
   {
    "duration": 38,
    "start_time": "2023-01-23T12:37:02.001Z"
   },
   {
    "duration": 60,
    "start_time": "2023-01-23T12:37:02.041Z"
   },
   {
    "duration": 3589,
    "start_time": "2023-01-23T12:37:02.105Z"
   },
   {
    "duration": 20,
    "start_time": "2023-01-23T12:37:05.696Z"
   },
   {
    "duration": 2909,
    "start_time": "2023-01-23T12:37:05.719Z"
   },
   {
    "duration": 20,
    "start_time": "2023-01-23T12:37:08.629Z"
   },
   {
    "duration": 2223,
    "start_time": "2023-01-23T12:37:08.651Z"
   },
   {
    "duration": 12,
    "start_time": "2023-01-23T12:37:10.876Z"
   },
   {
    "duration": 8,
    "start_time": "2023-01-23T12:37:10.891Z"
   },
   {
    "duration": 23,
    "start_time": "2023-01-23T12:37:10.901Z"
   },
   {
    "duration": 11,
    "start_time": "2023-01-23T12:37:10.927Z"
   },
   {
    "duration": 71,
    "start_time": "2023-01-23T12:37:10.940Z"
   },
   {
    "duration": 10,
    "start_time": "2023-01-23T12:37:11.013Z"
   },
   {
    "duration": 8,
    "start_time": "2023-01-23T12:37:11.025Z"
   },
   {
    "duration": 7,
    "start_time": "2023-01-23T12:37:11.035Z"
   },
   {
    "duration": 5,
    "start_time": "2023-01-23T12:37:11.044Z"
   },
   {
    "duration": 48,
    "start_time": "2023-01-23T12:37:11.084Z"
   },
   {
    "duration": 55,
    "start_time": "2023-01-23T12:37:11.134Z"
   },
   {
    "duration": 2771,
    "start_time": "2023-01-23T12:37:11.191Z"
   },
   {
    "duration": 21,
    "start_time": "2023-01-23T12:37:13.964Z"
   },
   {
    "duration": 15,
    "start_time": "2023-01-23T12:37:13.988Z"
   },
   {
    "duration": 2902,
    "start_time": "2023-01-23T12:37:14.005Z"
   },
   {
    "duration": 14,
    "start_time": "2023-01-23T12:37:16.909Z"
   },
   {
    "duration": 5,
    "start_time": "2023-01-23T12:37:16.925Z"
   },
   {
    "duration": 12,
    "start_time": "2023-01-23T12:37:16.932Z"
   },
   {
    "duration": 13,
    "start_time": "2023-01-23T12:37:16.946Z"
   },
   {
    "duration": 176,
    "start_time": "2023-01-23T12:37:16.961Z"
   },
   {
    "duration": 0,
    "start_time": "2023-01-23T12:37:17.140Z"
   },
   {
    "duration": 0,
    "start_time": "2023-01-23T12:37:17.141Z"
   },
   {
    "duration": 0,
    "start_time": "2023-01-23T12:37:17.142Z"
   },
   {
    "duration": 0,
    "start_time": "2023-01-23T12:37:17.144Z"
   },
   {
    "duration": 0,
    "start_time": "2023-01-23T12:37:17.146Z"
   },
   {
    "duration": 0,
    "start_time": "2023-01-23T12:37:17.147Z"
   },
   {
    "duration": 9,
    "start_time": "2023-01-23T12:37:57.381Z"
   },
   {
    "duration": 1600,
    "start_time": "2023-01-23T12:38:03.601Z"
   },
   {
    "duration": 715,
    "start_time": "2023-01-23T12:38:05.203Z"
   },
   {
    "duration": 4,
    "start_time": "2023-01-23T12:38:05.921Z"
   },
   {
    "duration": 465,
    "start_time": "2023-01-23T12:38:05.928Z"
   },
   {
    "duration": 210,
    "start_time": "2023-01-23T12:38:06.395Z"
   },
   {
    "duration": 445,
    "start_time": "2023-01-23T12:38:06.607Z"
   },
   {
    "duration": 39,
    "start_time": "2023-01-23T12:38:07.054Z"
   },
   {
    "duration": 75,
    "start_time": "2023-01-23T12:38:07.095Z"
   },
   {
    "duration": 8,
    "start_time": "2023-01-23T12:38:07.172Z"
   },
   {
    "duration": 58,
    "start_time": "2023-01-23T12:38:07.183Z"
   },
   {
    "duration": 44,
    "start_time": "2023-01-23T12:38:07.243Z"
   },
   {
    "duration": 37,
    "start_time": "2023-01-23T12:38:07.289Z"
   },
   {
    "duration": 57,
    "start_time": "2023-01-23T12:38:07.329Z"
   },
   {
    "duration": 3690,
    "start_time": "2023-01-23T12:38:07.388Z"
   },
   {
    "duration": 27,
    "start_time": "2023-01-23T12:38:11.080Z"
   },
   {
    "duration": 2805,
    "start_time": "2023-01-23T12:38:11.109Z"
   },
   {
    "duration": 22,
    "start_time": "2023-01-23T12:38:13.916Z"
   },
   {
    "duration": 2170,
    "start_time": "2023-01-23T12:38:13.940Z"
   },
   {
    "duration": 6,
    "start_time": "2023-01-23T12:38:16.113Z"
   },
   {
    "duration": 25,
    "start_time": "2023-01-23T12:38:16.122Z"
   },
   {
    "duration": 49,
    "start_time": "2023-01-23T12:38:16.150Z"
   },
   {
    "duration": 51,
    "start_time": "2023-01-23T12:38:16.201Z"
   },
   {
    "duration": 75,
    "start_time": "2023-01-23T12:38:16.254Z"
   },
   {
    "duration": 13,
    "start_time": "2023-01-23T12:38:16.331Z"
   },
   {
    "duration": 59,
    "start_time": "2023-01-23T12:38:16.347Z"
   },
   {
    "duration": 48,
    "start_time": "2023-01-23T12:38:16.408Z"
   },
   {
    "duration": 34,
    "start_time": "2023-01-23T12:38:16.458Z"
   },
   {
    "duration": 89,
    "start_time": "2023-01-23T12:38:16.495Z"
   },
   {
    "duration": 41,
    "start_time": "2023-01-23T12:38:16.587Z"
   },
   {
    "duration": 2769,
    "start_time": "2023-01-23T12:38:16.630Z"
   },
   {
    "duration": 13,
    "start_time": "2023-01-23T12:38:19.401Z"
   },
   {
    "duration": 40,
    "start_time": "2023-01-23T12:38:19.416Z"
   },
   {
    "duration": 3010,
    "start_time": "2023-01-23T12:38:19.459Z"
   },
   {
    "duration": 18,
    "start_time": "2023-01-23T12:38:22.472Z"
   },
   {
    "duration": 7,
    "start_time": "2023-01-23T12:38:22.492Z"
   },
   {
    "duration": 35,
    "start_time": "2023-01-23T12:38:22.501Z"
   },
   {
    "duration": 14,
    "start_time": "2023-01-23T12:38:22.538Z"
   },
   {
    "duration": 26,
    "start_time": "2023-01-23T12:38:22.554Z"
   },
   {
    "duration": 20,
    "start_time": "2023-01-23T12:38:22.582Z"
   },
   {
    "duration": 239,
    "start_time": "2023-01-23T12:38:22.604Z"
   },
   {
    "duration": 85,
    "start_time": "2023-01-23T12:38:22.845Z"
   },
   {
    "duration": 89,
    "start_time": "2023-01-23T12:38:22.932Z"
   },
   {
    "duration": 22,
    "start_time": "2023-01-23T12:38:23.022Z"
   },
   {
    "duration": 0,
    "start_time": "2023-01-23T12:38:23.046Z"
   },
   {
    "duration": 28,
    "start_time": "2023-01-23T12:40:32.832Z"
   },
   {
    "duration": 89,
    "start_time": "2023-01-23T12:40:50.342Z"
   },
   {
    "duration": 84,
    "start_time": "2023-01-23T12:41:14.590Z"
   },
   {
    "duration": 18,
    "start_time": "2023-01-23T12:41:23.695Z"
   },
   {
    "duration": 13,
    "start_time": "2023-01-23T12:51:19.197Z"
   },
   {
    "duration": 1767,
    "start_time": "2023-01-23T12:51:31.767Z"
   },
   {
    "duration": 797,
    "start_time": "2023-01-23T12:51:33.536Z"
   },
   {
    "duration": 4,
    "start_time": "2023-01-23T12:51:34.335Z"
   },
   {
    "duration": 471,
    "start_time": "2023-01-23T12:51:34.341Z"
   },
   {
    "duration": 215,
    "start_time": "2023-01-23T12:51:34.813Z"
   },
   {
    "duration": 440,
    "start_time": "2023-01-23T12:51:35.030Z"
   },
   {
    "duration": 42,
    "start_time": "2023-01-23T12:51:35.472Z"
   },
   {
    "duration": 31,
    "start_time": "2023-01-23T12:51:35.516Z"
   },
   {
    "duration": 48,
    "start_time": "2023-01-23T12:51:35.549Z"
   },
   {
    "duration": 9,
    "start_time": "2023-01-23T12:51:35.601Z"
   },
   {
    "duration": 23,
    "start_time": "2023-01-23T12:51:35.612Z"
   },
   {
    "duration": 11,
    "start_time": "2023-01-23T12:51:35.638Z"
   },
   {
    "duration": 16,
    "start_time": "2023-01-23T12:51:35.651Z"
   },
   {
    "duration": 3877,
    "start_time": "2023-01-23T12:51:35.669Z"
   },
   {
    "duration": 24,
    "start_time": "2023-01-23T12:51:39.548Z"
   },
   {
    "duration": 3183,
    "start_time": "2023-01-23T12:51:39.574Z"
   },
   {
    "duration": 35,
    "start_time": "2023-01-23T12:51:42.760Z"
   },
   {
    "duration": 2419,
    "start_time": "2023-01-23T12:51:42.798Z"
   },
   {
    "duration": 7,
    "start_time": "2023-01-23T12:51:45.219Z"
   },
   {
    "duration": 20,
    "start_time": "2023-01-23T12:51:45.229Z"
   },
   {
    "duration": 33,
    "start_time": "2023-01-23T12:51:45.251Z"
   },
   {
    "duration": 22,
    "start_time": "2023-01-23T12:51:45.286Z"
   },
   {
    "duration": 46,
    "start_time": "2023-01-23T12:51:45.310Z"
   },
   {
    "duration": 30,
    "start_time": "2023-01-23T12:51:45.358Z"
   },
   {
    "duration": 33,
    "start_time": "2023-01-23T12:51:45.390Z"
   },
   {
    "duration": 16,
    "start_time": "2023-01-23T12:51:45.426Z"
   },
   {
    "duration": 14,
    "start_time": "2023-01-23T12:51:45.444Z"
   },
   {
    "duration": 68,
    "start_time": "2023-01-23T12:51:45.463Z"
   },
   {
    "duration": 42,
    "start_time": "2023-01-23T12:51:45.533Z"
   },
   {
    "duration": 3280,
    "start_time": "2023-01-23T12:51:45.600Z"
   },
   {
    "duration": 11,
    "start_time": "2023-01-23T12:51:48.885Z"
   },
   {
    "duration": 29,
    "start_time": "2023-01-23T12:51:48.899Z"
   },
   {
    "duration": 3207,
    "start_time": "2023-01-23T12:51:48.930Z"
   },
   {
    "duration": 16,
    "start_time": "2023-01-23T12:51:52.139Z"
   },
   {
    "duration": 20,
    "start_time": "2023-01-23T12:51:52.157Z"
   },
   {
    "duration": 35,
    "start_time": "2023-01-23T12:51:52.179Z"
   },
   {
    "duration": 24,
    "start_time": "2023-01-23T12:51:52.216Z"
   },
   {
    "duration": 187,
    "start_time": "2023-01-23T12:51:52.242Z"
   },
   {
    "duration": 1,
    "start_time": "2023-01-23T12:51:52.431Z"
   },
   {
    "duration": 0,
    "start_time": "2023-01-23T12:51:52.433Z"
   },
   {
    "duration": 0,
    "start_time": "2023-01-23T12:51:52.437Z"
   },
   {
    "duration": 0,
    "start_time": "2023-01-23T12:51:52.438Z"
   },
   {
    "duration": 0,
    "start_time": "2023-01-23T12:51:52.440Z"
   },
   {
    "duration": 0,
    "start_time": "2023-01-23T12:51:52.442Z"
   },
   {
    "duration": 97,
    "start_time": "2023-01-23T12:53:23.709Z"
   },
   {
    "duration": 12,
    "start_time": "2023-01-23T12:53:30.678Z"
   },
   {
    "duration": 12,
    "start_time": "2023-01-23T12:53:51.668Z"
   },
   {
    "duration": 1617,
    "start_time": "2023-01-23T12:54:52.537Z"
   },
   {
    "duration": 718,
    "start_time": "2023-01-23T12:54:54.158Z"
   },
   {
    "duration": 6,
    "start_time": "2023-01-23T12:54:54.878Z"
   },
   {
    "duration": 441,
    "start_time": "2023-01-23T12:54:54.887Z"
   },
   {
    "duration": 204,
    "start_time": "2023-01-23T12:54:55.330Z"
   },
   {
    "duration": 448,
    "start_time": "2023-01-23T12:54:55.536Z"
   },
   {
    "duration": 25,
    "start_time": "2023-01-23T12:54:55.986Z"
   },
   {
    "duration": 69,
    "start_time": "2023-01-23T12:54:56.013Z"
   },
   {
    "duration": 23,
    "start_time": "2023-01-23T12:54:56.084Z"
   },
   {
    "duration": 60,
    "start_time": "2023-01-23T12:54:56.110Z"
   },
   {
    "duration": 47,
    "start_time": "2023-01-23T12:54:56.172Z"
   },
   {
    "duration": 25,
    "start_time": "2023-01-23T12:54:56.220Z"
   },
   {
    "duration": 17,
    "start_time": "2023-01-23T12:54:56.247Z"
   },
   {
    "duration": 3487,
    "start_time": "2023-01-23T12:54:56.267Z"
   },
   {
    "duration": 28,
    "start_time": "2023-01-23T12:54:59.757Z"
   },
   {
    "duration": 2719,
    "start_time": "2023-01-23T12:54:59.787Z"
   },
   {
    "duration": 19,
    "start_time": "2023-01-23T12:55:02.508Z"
   },
   {
    "duration": 2036,
    "start_time": "2023-01-23T12:55:02.529Z"
   },
   {
    "duration": 18,
    "start_time": "2023-01-23T12:55:04.566Z"
   },
   {
    "duration": 29,
    "start_time": "2023-01-23T12:55:04.587Z"
   },
   {
    "duration": 50,
    "start_time": "2023-01-23T12:55:04.618Z"
   },
   {
    "duration": 32,
    "start_time": "2023-01-23T12:55:04.670Z"
   },
   {
    "duration": 67,
    "start_time": "2023-01-23T12:55:04.704Z"
   },
   {
    "duration": 10,
    "start_time": "2023-01-23T12:55:04.773Z"
   },
   {
    "duration": 35,
    "start_time": "2023-01-23T12:55:04.785Z"
   },
   {
    "duration": 38,
    "start_time": "2023-01-23T12:55:04.822Z"
   },
   {
    "duration": 19,
    "start_time": "2023-01-23T12:55:04.862Z"
   },
   {
    "duration": 68,
    "start_time": "2023-01-23T12:55:04.883Z"
   },
   {
    "duration": 68,
    "start_time": "2023-01-23T12:55:04.953Z"
   },
   {
    "duration": 2844,
    "start_time": "2023-01-23T12:55:05.022Z"
   },
   {
    "duration": 16,
    "start_time": "2023-01-23T12:55:07.868Z"
   },
   {
    "duration": 20,
    "start_time": "2023-01-23T12:55:07.886Z"
   },
   {
    "duration": 2986,
    "start_time": "2023-01-23T12:55:07.908Z"
   },
   {
    "duration": 15,
    "start_time": "2023-01-23T12:55:10.896Z"
   },
   {
    "duration": 4,
    "start_time": "2023-01-23T12:55:10.914Z"
   },
   {
    "duration": 7,
    "start_time": "2023-01-23T12:55:10.920Z"
   },
   {
    "duration": 13,
    "start_time": "2023-01-23T12:55:10.929Z"
   },
   {
    "duration": 154,
    "start_time": "2023-01-23T12:55:10.944Z"
   },
   {
    "duration": 0,
    "start_time": "2023-01-23T12:55:11.100Z"
   },
   {
    "duration": 0,
    "start_time": "2023-01-23T12:55:11.102Z"
   },
   {
    "duration": 0,
    "start_time": "2023-01-23T12:55:11.104Z"
   },
   {
    "duration": 0,
    "start_time": "2023-01-23T12:55:11.105Z"
   },
   {
    "duration": 0,
    "start_time": "2023-01-23T12:55:11.107Z"
   },
   {
    "duration": 0,
    "start_time": "2023-01-23T12:55:11.108Z"
   },
   {
    "duration": 69,
    "start_time": "2023-01-23T12:57:37.673Z"
   }
  ],
  "kernelspec": {
   "display_name": "Python 3 (ipykernel)",
   "language": "python",
   "name": "python3"
  },
  "language_info": {
   "codemirror_mode": {
    "name": "ipython",
    "version": 3
   },
   "file_extension": ".py",
   "mimetype": "text/x-python",
   "name": "python",
   "nbconvert_exporter": "python",
   "pygments_lexer": "ipython3",
   "version": "3.9.5"
  },
  "toc": {
   "base_numbering": 1,
   "nav_menu": {},
   "number_sections": true,
   "sideBar": true,
   "skip_h1_title": true,
   "title_cell": "Содержание",
   "title_sidebar": "Contents",
   "toc_cell": true,
   "toc_position": {
    "height": "calc(100% - 180px)",
    "left": "10px",
    "top": "150px",
    "width": "165px"
   },
   "toc_section_display": true,
   "toc_window_display": true
  }
 },
 "nbformat": 4,
 "nbformat_minor": 2
}
