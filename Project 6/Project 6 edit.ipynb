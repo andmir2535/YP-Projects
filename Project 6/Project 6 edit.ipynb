{
 "cells": [
  {
   "cell_type": "markdown",
   "metadata": {},
   "source": [
    "# Рекомендация тарифов"
   ]
  },
  {
   "cell_type": "markdown",
   "metadata": {},
   "source": [
    "В нашем распоряжении проект о построении и выборе модели, которая выберет подходящий тариф.\n",
    "У нас имеются данные о поведении клиентов, которые уже перешли на эти тарифы (из проекта курса «Статистический анализ данных»). Нужно построить модель для задачи классификации, которая выберет подходящий тариф. Предобработка данных не понадобится — её уже сделали в предыдущем проекте.\n",
    "\n",
    "В данном проекте построим модель с максимально большим значением *accuracy*. Также будем пытаться довести долю правильных ответов по крайней мере до 0.75. А далее проверим *accuracy* на тестовой выборке."
   ]
  },
  {
   "cell_type": "markdown",
   "metadata": {},
   "source": [
    "## Откройте и изучите файл"
   ]
  },
  {
   "cell_type": "code",
   "execution_count": 1,
   "metadata": {},
   "outputs": [],
   "source": [
    "import pandas as pd #Импортируем библиотеку pandas."
   ]
  },
  {
   "cell_type": "code",
   "execution_count": 2,
   "metadata": {
    "scrolled": false
   },
   "outputs": [
    {
     "data": {
      "text/html": [
       "<div>\n",
       "<style scoped>\n",
       "    .dataframe tbody tr th:only-of-type {\n",
       "        vertical-align: middle;\n",
       "    }\n",
       "\n",
       "    .dataframe tbody tr th {\n",
       "        vertical-align: top;\n",
       "    }\n",
       "\n",
       "    .dataframe thead th {\n",
       "        text-align: right;\n",
       "    }\n",
       "</style>\n",
       "<table border=\"1\" class=\"dataframe\">\n",
       "  <thead>\n",
       "    <tr style=\"text-align: right;\">\n",
       "      <th></th>\n",
       "      <th>calls</th>\n",
       "      <th>minutes</th>\n",
       "      <th>messages</th>\n",
       "      <th>mb_used</th>\n",
       "      <th>is_ultra</th>\n",
       "    </tr>\n",
       "  </thead>\n",
       "  <tbody>\n",
       "    <tr>\n",
       "      <th>0</th>\n",
       "      <td>40.0</td>\n",
       "      <td>311.90</td>\n",
       "      <td>83.0</td>\n",
       "      <td>19915.42</td>\n",
       "      <td>0</td>\n",
       "    </tr>\n",
       "    <tr>\n",
       "      <th>1</th>\n",
       "      <td>85.0</td>\n",
       "      <td>516.75</td>\n",
       "      <td>56.0</td>\n",
       "      <td>22696.96</td>\n",
       "      <td>0</td>\n",
       "    </tr>\n",
       "    <tr>\n",
       "      <th>2</th>\n",
       "      <td>77.0</td>\n",
       "      <td>467.66</td>\n",
       "      <td>86.0</td>\n",
       "      <td>21060.45</td>\n",
       "      <td>0</td>\n",
       "    </tr>\n",
       "    <tr>\n",
       "      <th>3</th>\n",
       "      <td>106.0</td>\n",
       "      <td>745.53</td>\n",
       "      <td>81.0</td>\n",
       "      <td>8437.39</td>\n",
       "      <td>1</td>\n",
       "    </tr>\n",
       "    <tr>\n",
       "      <th>4</th>\n",
       "      <td>66.0</td>\n",
       "      <td>418.74</td>\n",
       "      <td>1.0</td>\n",
       "      <td>14502.75</td>\n",
       "      <td>0</td>\n",
       "    </tr>\n",
       "    <tr>\n",
       "      <th>...</th>\n",
       "      <td>...</td>\n",
       "      <td>...</td>\n",
       "      <td>...</td>\n",
       "      <td>...</td>\n",
       "      <td>...</td>\n",
       "    </tr>\n",
       "    <tr>\n",
       "      <th>3209</th>\n",
       "      <td>122.0</td>\n",
       "      <td>910.98</td>\n",
       "      <td>20.0</td>\n",
       "      <td>35124.90</td>\n",
       "      <td>1</td>\n",
       "    </tr>\n",
       "    <tr>\n",
       "      <th>3210</th>\n",
       "      <td>25.0</td>\n",
       "      <td>190.36</td>\n",
       "      <td>0.0</td>\n",
       "      <td>3275.61</td>\n",
       "      <td>0</td>\n",
       "    </tr>\n",
       "    <tr>\n",
       "      <th>3211</th>\n",
       "      <td>97.0</td>\n",
       "      <td>634.44</td>\n",
       "      <td>70.0</td>\n",
       "      <td>13974.06</td>\n",
       "      <td>0</td>\n",
       "    </tr>\n",
       "    <tr>\n",
       "      <th>3212</th>\n",
       "      <td>64.0</td>\n",
       "      <td>462.32</td>\n",
       "      <td>90.0</td>\n",
       "      <td>31239.78</td>\n",
       "      <td>0</td>\n",
       "    </tr>\n",
       "    <tr>\n",
       "      <th>3213</th>\n",
       "      <td>80.0</td>\n",
       "      <td>566.09</td>\n",
       "      <td>6.0</td>\n",
       "      <td>29480.52</td>\n",
       "      <td>1</td>\n",
       "    </tr>\n",
       "  </tbody>\n",
       "</table>\n",
       "<p>3214 rows × 5 columns</p>\n",
       "</div>"
      ],
      "text/plain": [
       "      calls  minutes  messages   mb_used  is_ultra\n",
       "0      40.0   311.90      83.0  19915.42         0\n",
       "1      85.0   516.75      56.0  22696.96         0\n",
       "2      77.0   467.66      86.0  21060.45         0\n",
       "3     106.0   745.53      81.0   8437.39         1\n",
       "4      66.0   418.74       1.0  14502.75         0\n",
       "...     ...      ...       ...       ...       ...\n",
       "3209  122.0   910.98      20.0  35124.90         1\n",
       "3210   25.0   190.36       0.0   3275.61         0\n",
       "3211   97.0   634.44      70.0  13974.06         0\n",
       "3212   64.0   462.32      90.0  31239.78         0\n",
       "3213   80.0   566.09       6.0  29480.52         1\n",
       "\n",
       "[3214 rows x 5 columns]"
      ]
     },
     "metadata": {},
     "output_type": "display_data"
    }
   ],
   "source": [
    "df = pd.read_csv('/datasets/users_behavior.csv')\n",
    "display(df) #Просмотрим краткое содержание файла"
   ]
  },
  {
   "cell_type": "code",
   "execution_count": 3,
   "metadata": {
    "scrolled": true
   },
   "outputs": [
    {
     "name": "stdout",
     "output_type": "stream",
     "text": [
      "<class 'pandas.core.frame.DataFrame'>\n",
      "RangeIndex: 3214 entries, 0 to 3213\n",
      "Data columns (total 5 columns):\n",
      " #   Column    Non-Null Count  Dtype  \n",
      "---  ------    --------------  -----  \n",
      " 0   calls     3214 non-null   float64\n",
      " 1   minutes   3214 non-null   float64\n",
      " 2   messages  3214 non-null   float64\n",
      " 3   mb_used   3214 non-null   float64\n",
      " 4   is_ultra  3214 non-null   int64  \n",
      "dtypes: float64(4), int64(1)\n",
      "memory usage: 125.7 KB\n"
     ]
    }
   ],
   "source": [
    "df.info()"
   ]
  },
  {
   "cell_type": "code",
   "execution_count": 4,
   "metadata": {},
   "outputs": [
    {
     "data": {
      "text/html": [
       "<div>\n",
       "<style scoped>\n",
       "    .dataframe tbody tr th:only-of-type {\n",
       "        vertical-align: middle;\n",
       "    }\n",
       "\n",
       "    .dataframe tbody tr th {\n",
       "        vertical-align: top;\n",
       "    }\n",
       "\n",
       "    .dataframe thead th {\n",
       "        text-align: right;\n",
       "    }\n",
       "</style>\n",
       "<table border=\"1\" class=\"dataframe\">\n",
       "  <thead>\n",
       "    <tr style=\"text-align: right;\">\n",
       "      <th></th>\n",
       "      <th>calls</th>\n",
       "      <th>minutes</th>\n",
       "      <th>messages</th>\n",
       "      <th>mb_used</th>\n",
       "      <th>is_ultra</th>\n",
       "    </tr>\n",
       "  </thead>\n",
       "  <tbody>\n",
       "    <tr>\n",
       "      <th>count</th>\n",
       "      <td>3214.000000</td>\n",
       "      <td>3214.000000</td>\n",
       "      <td>3214.000000</td>\n",
       "      <td>3214.000000</td>\n",
       "      <td>3214.000000</td>\n",
       "    </tr>\n",
       "    <tr>\n",
       "      <th>mean</th>\n",
       "      <td>63.038892</td>\n",
       "      <td>438.208787</td>\n",
       "      <td>38.281269</td>\n",
       "      <td>17207.673836</td>\n",
       "      <td>0.306472</td>\n",
       "    </tr>\n",
       "    <tr>\n",
       "      <th>std</th>\n",
       "      <td>33.236368</td>\n",
       "      <td>234.569872</td>\n",
       "      <td>36.148326</td>\n",
       "      <td>7570.968246</td>\n",
       "      <td>0.461100</td>\n",
       "    </tr>\n",
       "    <tr>\n",
       "      <th>min</th>\n",
       "      <td>0.000000</td>\n",
       "      <td>0.000000</td>\n",
       "      <td>0.000000</td>\n",
       "      <td>0.000000</td>\n",
       "      <td>0.000000</td>\n",
       "    </tr>\n",
       "    <tr>\n",
       "      <th>25%</th>\n",
       "      <td>40.000000</td>\n",
       "      <td>274.575000</td>\n",
       "      <td>9.000000</td>\n",
       "      <td>12491.902500</td>\n",
       "      <td>0.000000</td>\n",
       "    </tr>\n",
       "    <tr>\n",
       "      <th>50%</th>\n",
       "      <td>62.000000</td>\n",
       "      <td>430.600000</td>\n",
       "      <td>30.000000</td>\n",
       "      <td>16943.235000</td>\n",
       "      <td>0.000000</td>\n",
       "    </tr>\n",
       "    <tr>\n",
       "      <th>75%</th>\n",
       "      <td>82.000000</td>\n",
       "      <td>571.927500</td>\n",
       "      <td>57.000000</td>\n",
       "      <td>21424.700000</td>\n",
       "      <td>1.000000</td>\n",
       "    </tr>\n",
       "    <tr>\n",
       "      <th>max</th>\n",
       "      <td>244.000000</td>\n",
       "      <td>1632.060000</td>\n",
       "      <td>224.000000</td>\n",
       "      <td>49745.730000</td>\n",
       "      <td>1.000000</td>\n",
       "    </tr>\n",
       "  </tbody>\n",
       "</table>\n",
       "</div>"
      ],
      "text/plain": [
       "             calls      minutes     messages       mb_used     is_ultra\n",
       "count  3214.000000  3214.000000  3214.000000   3214.000000  3214.000000\n",
       "mean     63.038892   438.208787    38.281269  17207.673836     0.306472\n",
       "std      33.236368   234.569872    36.148326   7570.968246     0.461100\n",
       "min       0.000000     0.000000     0.000000      0.000000     0.000000\n",
       "25%      40.000000   274.575000     9.000000  12491.902500     0.000000\n",
       "50%      62.000000   430.600000    30.000000  16943.235000     0.000000\n",
       "75%      82.000000   571.927500    57.000000  21424.700000     1.000000\n",
       "max     244.000000  1632.060000   224.000000  49745.730000     1.000000"
      ]
     },
     "execution_count": 4,
     "metadata": {},
     "output_type": "execute_result"
    }
   ],
   "source": [
    "df.describe()"
   ]
  },
  {
   "cell_type": "markdown",
   "metadata": {},
   "source": [
    "В нашем распоряжении, 5 колонок:  \n",
    "**сalls** — количество звонков,  \n",
    "**minutes** — суммарная длительность звонков в минутах,  \n",
    "**messages** — количество sms-сообщений,  \n",
    "**mb_used** — израсходованный интернет-трафик в Мб,  \n",
    "**is_ultra** — каким тарифом пользовался в течение месяца («Ультра» — 1, «Смарт» — 0.  \n",
    "А также 3214 строк информации."
   ]
  },
  {
   "cell_type": "markdown",
   "metadata": {},
   "source": [
    "Посмотрим на данные в графическом формате "
   ]
  },
  {
   "cell_type": "code",
   "execution_count": 5,
   "metadata": {
    "scrolled": false
   },
   "outputs": [
    {
     "data": {
      "text/plain": [
       "<function matplotlib.pyplot.show(close=None, block=None)>"
      ]
     },
     "execution_count": 5,
     "metadata": {},
     "output_type": "execute_result"
    },
    {
     "data": {
      "image/png": "[encoded data removed]",
      "text/plain": [
       "<Figure size 648x648 with 25 Axes>"
      ]
     },
     "metadata": {
      "needs_background": "light"
     },
     "output_type": "display_data"
    }
   ],
   "source": [
    "import matplotlib.pyplot as plt # Импортируем библиотеку matplotlib\n",
    "pd.plotting.scatter_matrix(df, color='blue', diagonal='kde',  figsize=(9, 9))\n",
    "plt.show"
   ]
  },
  {
   "cell_type": "markdown",
   "metadata": {},
   "source": [
    "Данные графики показывают взаимосвязь между всеми переменными в наборе данных одновременно. В данных графиках наиболее повышенный интерес предоставляет связка *\"Звонки-Минуты\"* (**calls-minutes**). Ниже рассмотрим данный график поближе.\n",
    "Прежде, рассмотрим, общую корреляцию данных в цифровом формате. "
   ]
  },
  {
   "cell_type": "code",
   "execution_count": 6,
   "metadata": {
    "scrolled": true
   },
   "outputs": [
    {
     "data": {
      "text/html": [
       "<div>\n",
       "<style scoped>\n",
       "    .dataframe tbody tr th:only-of-type {\n",
       "        vertical-align: middle;\n",
       "    }\n",
       "\n",
       "    .dataframe tbody tr th {\n",
       "        vertical-align: top;\n",
       "    }\n",
       "\n",
       "    .dataframe thead th {\n",
       "        text-align: right;\n",
       "    }\n",
       "</style>\n",
       "<table border=\"1\" class=\"dataframe\">\n",
       "  <thead>\n",
       "    <tr style=\"text-align: right;\">\n",
       "      <th></th>\n",
       "      <th>calls</th>\n",
       "      <th>minutes</th>\n",
       "      <th>messages</th>\n",
       "      <th>mb_used</th>\n",
       "      <th>is_ultra</th>\n",
       "    </tr>\n",
       "  </thead>\n",
       "  <tbody>\n",
       "    <tr>\n",
       "      <th>calls</th>\n",
       "      <td>1.000000</td>\n",
       "      <td>0.982083</td>\n",
       "      <td>0.177385</td>\n",
       "      <td>0.286442</td>\n",
       "      <td>0.207122</td>\n",
       "    </tr>\n",
       "    <tr>\n",
       "      <th>minutes</th>\n",
       "      <td>0.982083</td>\n",
       "      <td>1.000000</td>\n",
       "      <td>0.173110</td>\n",
       "      <td>0.280967</td>\n",
       "      <td>0.206955</td>\n",
       "    </tr>\n",
       "    <tr>\n",
       "      <th>messages</th>\n",
       "      <td>0.177385</td>\n",
       "      <td>0.173110</td>\n",
       "      <td>1.000000</td>\n",
       "      <td>0.195721</td>\n",
       "      <td>0.203830</td>\n",
       "    </tr>\n",
       "    <tr>\n",
       "      <th>mb_used</th>\n",
       "      <td>0.286442</td>\n",
       "      <td>0.280967</td>\n",
       "      <td>0.195721</td>\n",
       "      <td>1.000000</td>\n",
       "      <td>0.198568</td>\n",
       "    </tr>\n",
       "    <tr>\n",
       "      <th>is_ultra</th>\n",
       "      <td>0.207122</td>\n",
       "      <td>0.206955</td>\n",
       "      <td>0.203830</td>\n",
       "      <td>0.198568</td>\n",
       "      <td>1.000000</td>\n",
       "    </tr>\n",
       "  </tbody>\n",
       "</table>\n",
       "</div>"
      ],
      "text/plain": [
       "             calls   minutes  messages   mb_used  is_ultra\n",
       "calls     1.000000  0.982083  0.177385  0.286442  0.207122\n",
       "minutes   0.982083  1.000000  0.173110  0.280967  0.206955\n",
       "messages  0.177385  0.173110  1.000000  0.195721  0.203830\n",
       "mb_used   0.286442  0.280967  0.195721  1.000000  0.198568\n",
       "is_ultra  0.207122  0.206955  0.203830  0.198568  1.000000"
      ]
     },
     "execution_count": 6,
     "metadata": {},
     "output_type": "execute_result"
    }
   ],
   "source": [
    "df.corr()"
   ]
  },
  {
   "cell_type": "markdown",
   "metadata": {},
   "source": [
    "Самую высокую корреляцию показывают фреймы звонки и минуты, в этом есть своя логика, если абонент звонит, то непременно потратит, как минимум, одну минуту. Именно поэтому корреляция близка к единице."
   ]
  },
  {
   "cell_type": "code",
   "execution_count": 7,
   "metadata": {
    "scrolled": true
   },
   "outputs": [
    {
     "name": "stdout",
     "output_type": "stream",
     "text": [
      "0.9820832355742293\n"
     ]
    }
   ],
   "source": [
    "print(df['calls'].corr(df['minutes']))"
   ]
  },
  {
   "cell_type": "code",
   "execution_count": 8,
   "metadata": {
    "scrolled": true
   },
   "outputs": [
    {
     "data": {
      "image/png": "[encoded data removed]",
      "text/plain": [
       "<Figure size 432x288 with 1 Axes>"
      ]
     },
     "metadata": {
      "needs_background": "light"
     },
     "output_type": "display_data"
    }
   ],
   "source": [
    "df.plot(x='calls', y='minutes', kind='scatter', color='orange', grid=True) \n",
    "plt.text(100, 95, 'коэффициент корреляции: ' + str(round(df['calls'].corr(df['minutes']), 4)))\n",
    "plt.title(\"Корреляции между количеством и продолжительностью звонков\")\n",
    "plt.ylabel(\"Минуты\")\n",
    "plt.xlabel(\"Количество звонков\")\n",
    "plt.show()"
   ]
  },
  {
   "cell_type": "markdown",
   "metadata": {},
   "source": [
    "Чем больше абоненты звонят тем больше минут проговаривают. Связь довольно крепка. Коэфициент равен **0,9821**."
   ]
  },
  {
   "cell_type": "markdown",
   "metadata": {},
   "source": [
    "## Разбейте данные на выборки"
   ]
  },
  {
   "cell_type": "markdown",
   "metadata": {},
   "source": [
    "Для начала разделим данные на целевой признак и остальные признаки."
   ]
  },
  {
   "cell_type": "code",
   "execution_count": 9,
   "metadata": {},
   "outputs": [],
   "source": [
    "features = df.drop(['is_ultra'], axis=1)\n",
    "target = df['is_ultra']"
   ]
  },
  {
   "cell_type": "markdown",
   "metadata": {},
   "source": [
    "Наша цель, это подбор подходящего тарифа, поэтому переносим в переменную target, все данные колонки 'is_ultra'. А все остальные данные (признаки) передадим в переменную features."
   ]
  },
  {
   "cell_type": "code",
   "execution_count": 10,
   "metadata": {},
   "outputs": [
    {
     "data": {
      "text/html": [
       "<div>\n",
       "<style scoped>\n",
       "    .dataframe tbody tr th:only-of-type {\n",
       "        vertical-align: middle;\n",
       "    }\n",
       "\n",
       "    .dataframe tbody tr th {\n",
       "        vertical-align: top;\n",
       "    }\n",
       "\n",
       "    .dataframe thead th {\n",
       "        text-align: right;\n",
       "    }\n",
       "</style>\n",
       "<table border=\"1\" class=\"dataframe\">\n",
       "  <thead>\n",
       "    <tr style=\"text-align: right;\">\n",
       "      <th></th>\n",
       "      <th>calls</th>\n",
       "      <th>minutes</th>\n",
       "      <th>messages</th>\n",
       "      <th>mb_used</th>\n",
       "    </tr>\n",
       "  </thead>\n",
       "  <tbody>\n",
       "    <tr>\n",
       "      <th>0</th>\n",
       "      <td>40.0</td>\n",
       "      <td>311.90</td>\n",
       "      <td>83.0</td>\n",
       "      <td>19915.42</td>\n",
       "    </tr>\n",
       "    <tr>\n",
       "      <th>1</th>\n",
       "      <td>85.0</td>\n",
       "      <td>516.75</td>\n",
       "      <td>56.0</td>\n",
       "      <td>22696.96</td>\n",
       "    </tr>\n",
       "    <tr>\n",
       "      <th>2</th>\n",
       "      <td>77.0</td>\n",
       "      <td>467.66</td>\n",
       "      <td>86.0</td>\n",
       "      <td>21060.45</td>\n",
       "    </tr>\n",
       "    <tr>\n",
       "      <th>3</th>\n",
       "      <td>106.0</td>\n",
       "      <td>745.53</td>\n",
       "      <td>81.0</td>\n",
       "      <td>8437.39</td>\n",
       "    </tr>\n",
       "    <tr>\n",
       "      <th>4</th>\n",
       "      <td>66.0</td>\n",
       "      <td>418.74</td>\n",
       "      <td>1.0</td>\n",
       "      <td>14502.75</td>\n",
       "    </tr>\n",
       "    <tr>\n",
       "      <th>...</th>\n",
       "      <td>...</td>\n",
       "      <td>...</td>\n",
       "      <td>...</td>\n",
       "      <td>...</td>\n",
       "    </tr>\n",
       "    <tr>\n",
       "      <th>3209</th>\n",
       "      <td>122.0</td>\n",
       "      <td>910.98</td>\n",
       "      <td>20.0</td>\n",
       "      <td>35124.90</td>\n",
       "    </tr>\n",
       "    <tr>\n",
       "      <th>3210</th>\n",
       "      <td>25.0</td>\n",
       "      <td>190.36</td>\n",
       "      <td>0.0</td>\n",
       "      <td>3275.61</td>\n",
       "    </tr>\n",
       "    <tr>\n",
       "      <th>3211</th>\n",
       "      <td>97.0</td>\n",
       "      <td>634.44</td>\n",
       "      <td>70.0</td>\n",
       "      <td>13974.06</td>\n",
       "    </tr>\n",
       "    <tr>\n",
       "      <th>3212</th>\n",
       "      <td>64.0</td>\n",
       "      <td>462.32</td>\n",
       "      <td>90.0</td>\n",
       "      <td>31239.78</td>\n",
       "    </tr>\n",
       "    <tr>\n",
       "      <th>3213</th>\n",
       "      <td>80.0</td>\n",
       "      <td>566.09</td>\n",
       "      <td>6.0</td>\n",
       "      <td>29480.52</td>\n",
       "    </tr>\n",
       "  </tbody>\n",
       "</table>\n",
       "<p>3214 rows × 4 columns</p>\n",
       "</div>"
      ],
      "text/plain": [
       "      calls  minutes  messages   mb_used\n",
       "0      40.0   311.90      83.0  19915.42\n",
       "1      85.0   516.75      56.0  22696.96\n",
       "2      77.0   467.66      86.0  21060.45\n",
       "3     106.0   745.53      81.0   8437.39\n",
       "4      66.0   418.74       1.0  14502.75\n",
       "...     ...      ...       ...       ...\n",
       "3209  122.0   910.98      20.0  35124.90\n",
       "3210   25.0   190.36       0.0   3275.61\n",
       "3211   97.0   634.44      70.0  13974.06\n",
       "3212   64.0   462.32      90.0  31239.78\n",
       "3213   80.0   566.09       6.0  29480.52\n",
       "\n",
       "[3214 rows x 4 columns]"
      ]
     },
     "metadata": {},
     "output_type": "display_data"
    }
   ],
   "source": [
    "display(features) #Посмотрим на наши новые переменные."
   ]
  },
  {
   "cell_type": "code",
   "execution_count": 11,
   "metadata": {},
   "outputs": [
    {
     "data": {
      "text/plain": [
       "0       0\n",
       "1       0\n",
       "2       0\n",
       "3       1\n",
       "4       0\n",
       "       ..\n",
       "3209    1\n",
       "3210    0\n",
       "3211    0\n",
       "3212    0\n",
       "3213    1\n",
       "Name: is_ultra, Length: 3214, dtype: int64"
      ]
     },
     "metadata": {},
     "output_type": "display_data"
    }
   ],
   "source": [
    "display(target) #Переменная target, с данными о целевом признаке."
   ]
  },
  {
   "cell_type": "markdown",
   "metadata": {},
   "source": [
    "Спрятанной тестовой выборки нет. Значит, данные нужно разбить на три части на обучающую, валидационную и тестовую выборки.\n",
    "Размеры тестового и валидационного наборов обычно равны. Исходные данные разбивают в соотношении 3:1:1."
   ]
  },
  {
   "cell_type": "code",
   "execution_count": 12,
   "metadata": {},
   "outputs": [],
   "source": [
    "from sklearn.model_selection import train_test_split # импортируем функции деления датасета"
   ]
  },
  {
   "cell_type": "code",
   "execution_count": 13,
   "metadata": {},
   "outputs": [],
   "source": [
    "features_train, features_test, target_train, target_test = train_test_split(features, target, test_size=0.4, random_state=12345) "
   ]
  },
  {
   "cell_type": "code",
   "execution_count": 14,
   "metadata": {},
   "outputs": [],
   "source": [
    "features_valid, features_test, target_valid, target_test = train_test_split(features_test,\n",
    "                                                                            target_test, test_size=0.5, random_state=12345\n",
    "                                                                           ) "
   ]
  },
  {
   "cell_type": "code",
   "execution_count": 15,
   "metadata": {},
   "outputs": [
    {
     "data": {
      "text/plain": [
       "643"
      ]
     },
     "metadata": {},
     "output_type": "display_data"
    },
    {
     "data": {
      "text/plain": [
       "(643,)"
      ]
     },
     "metadata": {},
     "output_type": "display_data"
    }
   ],
   "source": [
    "display(len(features_valid)) \n",
    "display(target_valid.shape) #Смотрим на размеры валидационной выборки"
   ]
  },
  {
   "cell_type": "code",
   "execution_count": 16,
   "metadata": {
    "scrolled": true
   },
   "outputs": [
    {
     "data": {
      "text/plain": [
       "(643, 4)"
      ]
     },
     "metadata": {},
     "output_type": "display_data"
    },
    {
     "data": {
      "text/plain": [
       "(643,)"
      ]
     },
     "metadata": {},
     "output_type": "display_data"
    }
   ],
   "source": [
    "display(features_test.shape)\n",
    "display(target_test.shape) #Смотрим на размеры тестовой выборки"
   ]
  },
  {
   "cell_type": "code",
   "execution_count": 17,
   "metadata": {},
   "outputs": [
    {
     "data": {
      "text/plain": [
       "(1928, 4)"
      ]
     },
     "metadata": {},
     "output_type": "display_data"
    },
    {
     "data": {
      "text/plain": [
       "(1928,)"
      ]
     },
     "metadata": {},
     "output_type": "display_data"
    }
   ],
   "source": [
    "display(features_train.shape)\n",
    "display(target_train.shape) #Смотрим на размеры обучающей выборки"
   ]
  },
  {
   "cell_type": "markdown",
   "metadata": {},
   "source": [
    "Данные разбиты в соотношении (1928:643:643), то есть 3:1:1."
   ]
  },
  {
   "cell_type": "code",
   "execution_count": 18,
   "metadata": {},
   "outputs": [
    {
     "data": {
      "text/plain": [
       "3214"
      ]
     },
     "execution_count": 18,
     "metadata": {},
     "output_type": "execute_result"
    }
   ],
   "source": [
    "1928+643+643"
   ]
  },
  {
   "cell_type": "markdown",
   "metadata": {},
   "source": [
    "## Исследуйте модели"
   ]
  },
  {
   "cell_type": "markdown",
   "metadata": {},
   "source": [
    "Модель Решающее дерево. **Decision Tree Classifier**"
   ]
  },
  {
   "cell_type": "code",
   "execution_count": 19,
   "metadata": {},
   "outputs": [],
   "source": [
    "from sklearn.tree import DecisionTreeClassifier #Импортируем функцию.\n",
    "from sklearn.metrics import accuracy_score #Для просмотра точности, необходимо импортировать данную функцию. "
   ]
  },
  {
   "cell_type": "code",
   "execution_count": 20,
   "metadata": {},
   "outputs": [
    {
     "name": "stdout",
     "output_type": "stream",
     "text": [
      "max_depth: 1 accuracy: 0.7542768273716952\n",
      "max_depth: 3 accuracy: 0.7853810264385692\n",
      "max_depth: 5 accuracy: 0.7791601866251944\n",
      "max_depth: 7 accuracy: 0.7822706065318819\n",
      "max_depth: 9 accuracy: 0.7822706065318819\n",
      "max_depth: 11 accuracy: 0.7620528771384136\n",
      "max_depth: 13 accuracy: 0.7558320373250389\n",
      "max_depth: 15 accuracy: 0.7465007776049767\n",
      "max_depth: 17 accuracy: 0.7356143079315708\n",
      "max_depth: 19 accuracy: 0.7278382581648523\n",
      "max_depth: 21 accuracy: 0.7278382581648523\n",
      "max_depth: 23 accuracy: 0.7169517884914464\n",
      "max_depth: 25 accuracy: 0.713841368584759\n",
      "max_depth: 27 accuracy: 0.713841368584759\n",
      "max_depth: 29 accuracy: 0.713841368584759\n"
     ]
    }
   ],
   "source": [
    "for depth in range(1,30,2): # Просмотрим глубину дерева до 30 уровня с шагом в 2 уровня.\n",
    "    model_tree = DecisionTreeClassifier(random_state=12345, max_depth=depth) # присваиваем модели имя\n",
    "    model_tree.fit(features_train,target_train) # обучаем\n",
    "    prediction_tree = model_tree.predict(features_valid) # получаем предсказания модели\n",
    "    \n",
    "  \n",
    "    print('max_depth:',depth,end='')\n",
    "    print(' accuracy:',accuracy_score(prediction_tree,target_valid))"
   ]
  },
  {
   "cell_type": "markdown",
   "metadata": {},
   "source": [
    "Наблюдаем наилучший результат на уровне 3. *0.7853810264385692*"
   ]
  },
  {
   "cell_type": "markdown",
   "metadata": {},
   "source": [
    "Модель Случайный лес. **Random Forest**"
   ]
  },
  {
   "cell_type": "code",
   "execution_count": 21,
   "metadata": {},
   "outputs": [],
   "source": [
    "from sklearn.ensemble import RandomForestClassifier #Импортируем модель."
   ]
  },
  {
   "cell_type": "code",
   "execution_count": 22,
   "metadata": {
    "scrolled": true
   },
   "outputs": [
    {
     "name": "stdout",
     "output_type": "stream",
     "text": [
      "n_estimators: 39 depth: 29 Accuracy наилучшей модели на валидационной выборке: 0.7947122861586314\n"
     ]
    }
   ],
   "source": [
    "best_model = None\n",
    "best_result = 0\n",
    "for est in range(1, 40):\n",
    "    model_forest = RandomForestClassifier(random_state=12345, n_estimators=est, max_depth=depth) # обучаем модель с заданным количеством деревьев\n",
    "    model_forest.fit(features_train, target_train) # обучаем модель на тренировочной выборке\n",
    "    result = model_forest.score(features_valid, target_valid) # считаем качество модели на валидационной выборке\n",
    "    if result > best_result:\n",
    "        best_model = model_forest # сохраняем наилучшую модель\n",
    "        best_result = result #  сохраняем наилучшее значение метрики accuracy на валидационных данных\n",
    "\n",
    "print(\"n_estimators:\", est, \"depth:\", depth, \"Accuracy наилучшей модели на валидационной выборке:\", best_result)"
   ]
  },
  {
   "cell_type": "markdown",
   "metadata": {},
   "source": [
    "Изучили модель случайный лес с 40 деревьями . Лучший результат показался на 39 дереве, на уровне глубины 29.  "
   ]
  },
  {
   "cell_type": "markdown",
   "metadata": {},
   "source": [
    "Модель Логическая Регрессия. **Logistic Regression**"
   ]
  },
  {
   "cell_type": "code",
   "execution_count": 23,
   "metadata": {},
   "outputs": [],
   "source": [
    "from sklearn.linear_model import LogisticRegression"
   ]
  },
  {
   "cell_type": "code",
   "execution_count": 24,
   "metadata": {},
   "outputs": [
    {
     "name": "stdout",
     "output_type": "stream",
     "text": [
      "accuracy: 0.7107309486780715\n"
     ]
    }
   ],
   "source": [
    "model = LogisticRegression(random_state=12345, solver='lbfgs', max_iter=1000)\n",
    "model.fit(features_train, target_train)\n",
    "predictions = model.predict(features_valid)\n",
    "accuracy = accuracy_score(target_valid, predictions)\n",
    "print('accuracy:', accuracy)"
   ]
  },
  {
   "cell_type": "markdown",
   "metadata": {},
   "source": [
    "Модель логической регрессии показывает результат хуже остальных моделей - 0.7107309486780715."
   ]
  },
  {
   "cell_type": "markdown",
   "metadata": {},
   "source": [
    "## Выводы\n",
    "Просмотрев 3 модели получаем следующие результаты.  \n",
    "Модель ***Решающее дерево*** - Лучший результат точности на глубине 3: 0.785381026438569.  \n",
    "Модель ***Случайный лес*** - Accuracy наилучшей модели на валидационной выборке: 0.7947122861586314  \n",
    "Модель ***Логическая Регрессия*** - Точность 0.7107309486780715.  \n",
    "Таким образом самая лучшая модель с лучшим результатом - это **Случайный лес**."
   ]
  },
  {
   "cell_type": "markdown",
   "metadata": {},
   "source": [
    "## Проверьте модель на тестовой выборке"
   ]
  },
  {
   "cell_type": "markdown",
   "metadata": {},
   "source": [
    "Проверим нашу модель на лучшей тестовой выборке. В нашей ситуации это **Случайный Лес**. В прошлый раз мы добились уровня точности *0.7947122861586314*."
   ]
  },
  {
   "cell_type": "markdown",
   "metadata": {},
   "source": [
    "Дадим нашей модели имя - **Forest** (Лес). А имя компьютерной переменной будет *model_forest*."
   ]
  },
  {
   "cell_type": "markdown",
   "metadata": {},
   "source": [
    "Для улучшения результатов точности, поменяем некоторые гиперпараметры:"
   ]
  },
  {
   "cell_type": "code",
   "execution_count": 25,
   "metadata": {},
   "outputs": [
    {
     "name": "stdout",
     "output_type": "stream",
     "text": [
      "accuracy: 0.8133748055987559\n"
     ]
    }
   ],
   "source": [
    "model_forest = RandomForestClassifier(max_depth=9, n_estimators=10, random_state=12345)\n",
    "model_forest.fit(features_train,target_train)\n",
    "prediction_forest = model_forest.predict(features_test)\n",
    "print('accuracy:', accuracy_score(prediction_forest, target_test))"
   ]
  },
  {
   "cell_type": "markdown",
   "metadata": {},
   "source": [
    "После измененения гиперпараметров (максимальная глубина 9, количество оценщиков 10, уровень псевдослучайности 12345) удалось достичь уровня точности 0.8133748055987559."
   ]
  },
  {
   "cell_type": "markdown",
   "metadata": {},
   "source": [
    "## (бонус) Проверьте модели на адекватность"
   ]
  },
  {
   "cell_type": "markdown",
   "metadata": {},
   "source": [
    "Проверим модель на адекватность используя DummyClassifier."
   ]
  },
  {
   "cell_type": "code",
   "execution_count": 26,
   "metadata": {},
   "outputs": [
    {
     "data": {
      "text/plain": [
       "0.6924273858921162"
      ]
     },
     "execution_count": 26,
     "metadata": {},
     "output_type": "execute_result"
    }
   ],
   "source": [
    "import numpy as np\n",
    "from sklearn.dummy import DummyClassifier\n",
    "dummy = DummyClassifier(strategy=\"most_frequent\")\n",
    "dummy.fit(features_train, target_train)\n",
    "dummy.score(features_train, target_train)"
   ]
  },
  {
   "cell_type": "markdown",
   "metadata": {},
   "source": [
    "Результат простейшей модели 0.6924273858921162, это говорит о том, что модель Случайный Лес лучше, и её точность выше. То есть использование модели *Случайный Лес* оправдывает себя. Напомню, лучший результат **0.8133748055987559**. При использовании нашей модели будем иметь пропорцию купленных тарифов 0.8 к 0.2."
   ]
  },
  {
   "cell_type": "markdown",
   "metadata": {},
   "source": [
    "## Общий вывод\n",
    "В данном исследовании мы рассмотрели базу данных с поведением клиентов, которые уже перешли на тариф Ультра. Попытались создать лучшую модель для подбора тарифа. Изучили 3 основные модели, обучили на соответсвующих выборках. А затем проверили модели на тестовой выборке. А также проверили модель на адекватность с помощью DummyClassifier.  \n",
    "В заключении пришли к выводу что лучшая модель для подбора тарифа это RandomForest с результатом 0.8133748055987559, то есть модель ошибается лишь в 19% случаев. Таким образом главное требование проекта достигнуто."
   ]
  },
  {
   "cell_type": "markdown",
   "metadata": {},
   "source": [
    "## Чек-лист готовности проекта"
   ]
  },
  {
   "cell_type": "markdown",
   "metadata": {},
   "source": [
    "Поставьте 'x' в выполненных пунктах. Далее нажмите Shift+Enter."
   ]
  },
  {
   "cell_type": "markdown",
   "metadata": {},
   "source": [
    "- [x] Jupyter Notebook открыт\n",
    "- [x] Весь код исполняется без ошибок\n",
    "- [x] Ячейки с кодом расположены в порядке исполнения\n",
    "- [x] Выполнено задание 1: данные загружены и изучены\n",
    "- [x] Выполнено задание 2: данные разбиты на три выборки\n",
    "- [x] Выполнено задание 3: проведено исследование моделей\n",
    "    - [x] Рассмотрено больше одной модели\n",
    "    - [x] Рассмотрено хотя бы 3 значения гипепараметров для какой-нибудь модели\n",
    "    - [x] Написаны выводы по результатам исследования\n",
    "- [x] Выполнено задание 3: Проведено тестирование\n",
    "- [x] Удалось достичь accuracy не меньше 0.75\n"
   ]
  }
 ],
 "metadata": {
  "ExecuteTimeLog": [
   {
    "duration": 400,
    "start_time": "2022-11-29T16:46:35.672Z"
   },
   {
    "duration": 59,
    "start_time": "2022-11-29T16:47:16.882Z"
   },
   {
    "duration": 131,
    "start_time": "2022-11-29T16:47:25.243Z"
   },
   {
    "duration": 33,
    "start_time": "2022-11-29T17:16:42.496Z"
   },
   {
    "duration": 36,
    "start_time": "2022-11-29T17:16:49.119Z"
   },
   {
    "duration": 32,
    "start_time": "2022-11-29T17:17:48.053Z"
   },
   {
    "duration": 36,
    "start_time": "2022-11-29T17:17:55.081Z"
   },
   {
    "duration": 10,
    "start_time": "2022-11-29T17:37:55.616Z"
   },
   {
    "duration": 24,
    "start_time": "2022-11-29T17:42:37.498Z"
   },
   {
    "duration": 415,
    "start_time": "2022-11-30T19:38:13.171Z"
   },
   {
    "duration": 171,
    "start_time": "2022-11-30T19:38:13.609Z"
   },
   {
    "duration": 13,
    "start_time": "2022-11-30T19:38:55.122Z"
   },
   {
    "duration": 29,
    "start_time": "2022-11-30T19:38:55.907Z"
   },
   {
    "duration": 11,
    "start_time": "2022-11-30T19:41:07.709Z"
   },
   {
    "duration": 12,
    "start_time": "2022-11-30T19:41:11.071Z"
   },
   {
    "duration": 6,
    "start_time": "2022-11-30T19:41:11.636Z"
   },
   {
    "duration": 2812,
    "start_time": "2022-11-30T19:41:13.146Z"
   },
   {
    "duration": 5,
    "start_time": "2022-11-30T19:41:15.960Z"
   },
   {
    "duration": 6,
    "start_time": "2022-11-30T19:41:15.967Z"
   },
   {
    "duration": 7,
    "start_time": "2022-11-30T19:41:15.975Z"
   },
   {
    "duration": 6,
    "start_time": "2022-11-30T19:41:16.173Z"
   },
   {
    "duration": 6,
    "start_time": "2022-11-30T19:41:17.087Z"
   },
   {
    "duration": 10,
    "start_time": "2022-11-30T19:42:37.516Z"
   },
   {
    "duration": 40,
    "start_time": "2022-11-30T19:42:42.272Z"
   },
   {
    "duration": 430,
    "start_time": "2022-11-30T19:42:43.124Z"
   },
   {
    "duration": 11,
    "start_time": "2022-11-30T19:43:19.025Z"
   },
   {
    "duration": 3338,
    "start_time": "2022-11-30T19:43:26.026Z"
   },
   {
    "duration": 3,
    "start_time": "2022-11-30T19:43:49.865Z"
   },
   {
    "duration": 28,
    "start_time": "2022-11-30T19:43:50.057Z"
   },
   {
    "duration": 50,
    "start_time": "2022-12-01T07:20:50.917Z"
   },
   {
    "duration": 412,
    "start_time": "2022-12-01T07:20:56.266Z"
   },
   {
    "duration": 96,
    "start_time": "2022-12-01T07:20:56.680Z"
   },
   {
    "duration": 11,
    "start_time": "2022-12-01T07:20:56.777Z"
   },
   {
    "duration": 27,
    "start_time": "2022-12-01T07:20:56.789Z"
   },
   {
    "duration": 75,
    "start_time": "2022-12-01T07:20:56.818Z"
   },
   {
    "duration": 0,
    "start_time": "2022-12-01T07:20:56.896Z"
   },
   {
    "duration": 0,
    "start_time": "2022-12-01T07:20:56.897Z"
   },
   {
    "duration": 0,
    "start_time": "2022-12-01T07:20:56.898Z"
   },
   {
    "duration": 0,
    "start_time": "2022-12-01T07:20:56.899Z"
   },
   {
    "duration": 0,
    "start_time": "2022-12-01T07:20:56.901Z"
   },
   {
    "duration": 0,
    "start_time": "2022-12-01T07:20:56.902Z"
   },
   {
    "duration": 0,
    "start_time": "2022-12-01T07:20:56.903Z"
   },
   {
    "duration": 0,
    "start_time": "2022-12-01T07:20:56.904Z"
   },
   {
    "duration": 0,
    "start_time": "2022-12-01T07:20:56.905Z"
   },
   {
    "duration": 0,
    "start_time": "2022-12-01T07:20:56.906Z"
   },
   {
    "duration": 0,
    "start_time": "2022-12-01T07:20:56.907Z"
   },
   {
    "duration": 0,
    "start_time": "2022-12-01T07:20:56.908Z"
   },
   {
    "duration": 0,
    "start_time": "2022-12-01T07:20:56.909Z"
   },
   {
    "duration": 0,
    "start_time": "2022-12-01T07:20:56.910Z"
   },
   {
    "duration": 0,
    "start_time": "2022-12-01T07:20:56.911Z"
   },
   {
    "duration": 0,
    "start_time": "2022-12-01T07:20:56.912Z"
   },
   {
    "duration": 0,
    "start_time": "2022-12-01T07:20:56.913Z"
   },
   {
    "duration": 0,
    "start_time": "2022-12-01T07:20:56.914Z"
   },
   {
    "duration": 0,
    "start_time": "2022-12-01T07:20:56.915Z"
   },
   {
    "duration": 0,
    "start_time": "2022-12-01T07:20:56.916Z"
   },
   {
    "duration": 985,
    "start_time": "2022-12-01T07:21:09.864Z"
   },
   {
    "duration": 612,
    "start_time": "2022-12-01T07:21:28.675Z"
   },
   {
    "duration": 547,
    "start_time": "2022-12-01T07:22:56.462Z"
   },
   {
    "duration": 555,
    "start_time": "2022-12-01T07:23:14.512Z"
   },
   {
    "duration": 409,
    "start_time": "2022-12-01T07:25:14.256Z"
   },
   {
    "duration": 69,
    "start_time": "2022-12-01T07:25:33.280Z"
   },
   {
    "duration": 98,
    "start_time": "2022-12-01T07:25:44.496Z"
   },
   {
    "duration": 12,
    "start_time": "2022-12-01T07:26:04.544Z"
   },
   {
    "duration": 1170,
    "start_time": "2022-12-01T07:27:25.404Z"
   },
   {
    "duration": 86,
    "start_time": "2022-12-01T07:28:04.825Z"
   },
   {
    "duration": 91,
    "start_time": "2022-12-01T07:28:20.808Z"
   },
   {
    "duration": 1350,
    "start_time": "2022-12-01T07:28:34.858Z"
   },
   {
    "duration": 1334,
    "start_time": "2022-12-01T07:28:57.737Z"
   },
   {
    "duration": 1328,
    "start_time": "2022-12-01T07:29:03.730Z"
   },
   {
    "duration": 178,
    "start_time": "2022-12-01T07:34:18.954Z"
   },
   {
    "duration": 245,
    "start_time": "2022-12-01T07:34:29.280Z"
   },
   {
    "duration": 157,
    "start_time": "2022-12-01T07:35:50.790Z"
   },
   {
    "duration": 177,
    "start_time": "2022-12-01T07:37:13.835Z"
   },
   {
    "duration": 163,
    "start_time": "2022-12-01T07:37:24.401Z"
   },
   {
    "duration": 152,
    "start_time": "2022-12-01T07:37:52.119Z"
   },
   {
    "duration": 202,
    "start_time": "2022-12-01T07:38:03.962Z"
   },
   {
    "duration": 10,
    "start_time": "2022-12-01T07:41:57.934Z"
   },
   {
    "duration": 5,
    "start_time": "2022-12-01T07:49:11.038Z"
   },
   {
    "duration": 166,
    "start_time": "2022-12-01T07:50:33.348Z"
   },
   {
    "duration": 159,
    "start_time": "2022-12-01T07:50:39.396Z"
   },
   {
    "duration": 170,
    "start_time": "2022-12-01T07:50:45.812Z"
   },
   {
    "duration": 151,
    "start_time": "2022-12-01T07:51:12.066Z"
   },
   {
    "duration": 184,
    "start_time": "2022-12-01T07:52:12.594Z"
   },
   {
    "duration": 235,
    "start_time": "2022-12-01T07:52:53.993Z"
   },
   {
    "duration": 242,
    "start_time": "2022-12-01T07:52:59.879Z"
   },
   {
    "duration": 200,
    "start_time": "2022-12-01T07:53:06.634Z"
   },
   {
    "duration": 71,
    "start_time": "2022-12-01T07:53:53.446Z"
   },
   {
    "duration": 5,
    "start_time": "2022-12-01T08:07:29.775Z"
   },
   {
    "duration": 648,
    "start_time": "2022-12-01T17:51:00.489Z"
   },
   {
    "duration": 361,
    "start_time": "2022-12-01T17:51:07.577Z"
   },
   {
    "duration": 89,
    "start_time": "2022-12-01T17:51:07.940Z"
   },
   {
    "duration": 10,
    "start_time": "2022-12-01T17:51:08.031Z"
   },
   {
    "duration": 22,
    "start_time": "2022-12-01T17:51:08.043Z"
   },
   {
    "duration": 1555,
    "start_time": "2022-12-01T17:51:08.068Z"
   },
   {
    "duration": 11,
    "start_time": "2022-12-01T17:51:09.625Z"
   },
   {
    "duration": 4,
    "start_time": "2022-12-01T17:51:09.637Z"
   },
   {
    "duration": 179,
    "start_time": "2022-12-01T17:51:09.643Z"
   },
   {
    "duration": 171,
    "start_time": "2022-12-01T17:51:09.823Z"
   },
   {
    "duration": 4,
    "start_time": "2022-12-01T17:51:09.995Z"
   },
   {
    "duration": 26,
    "start_time": "2022-12-01T17:51:10.000Z"
   },
   {
    "duration": 21,
    "start_time": "2022-12-01T17:51:10.027Z"
   },
   {
    "duration": 672,
    "start_time": "2022-12-01T17:51:10.049Z"
   },
   {
    "duration": 5,
    "start_time": "2022-12-01T17:51:10.723Z"
   },
   {
    "duration": 8,
    "start_time": "2022-12-01T17:51:10.730Z"
   },
   {
    "duration": 9,
    "start_time": "2022-12-01T17:51:10.739Z"
   },
   {
    "duration": 6,
    "start_time": "2022-12-01T17:51:10.749Z"
   },
   {
    "duration": 7,
    "start_time": "2022-12-01T17:51:10.756Z"
   },
   {
    "duration": 5,
    "start_time": "2022-12-01T17:51:10.764Z"
   },
   {
    "duration": 58,
    "start_time": "2022-12-01T17:51:10.770Z"
   },
   {
    "duration": 145,
    "start_time": "2022-12-01T17:51:10.830Z"
   },
   {
    "duration": 10,
    "start_time": "2022-12-01T17:51:10.977Z"
   },
   {
    "duration": 3299,
    "start_time": "2022-12-01T17:51:10.988Z"
   },
   {
    "duration": 3,
    "start_time": "2022-12-01T17:51:14.289Z"
   },
   {
    "duration": 33,
    "start_time": "2022-12-01T17:51:14.294Z"
   },
   {
    "duration": 12,
    "start_time": "2022-12-01T17:51:14.329Z"
   },
   {
    "duration": 38,
    "start_time": "2022-12-01T17:51:14.343Z"
   },
   {
    "duration": 47,
    "start_time": "2022-12-01T17:51:14.382Z"
   },
   {
    "duration": 6,
    "start_time": "2022-12-01T17:51:14.431Z"
   },
   {
    "duration": 1443,
    "start_time": "2022-12-01T17:57:25.042Z"
   },
   {
    "duration": 1287,
    "start_time": "2022-12-01T17:58:00.200Z"
   },
   {
    "duration": 1528,
    "start_time": "2022-12-01T17:58:21.281Z"
   },
   {
    "duration": 4,
    "start_time": "2022-12-01T17:59:35.910Z"
   },
   {
    "duration": 1490,
    "start_time": "2022-12-01T17:59:48.864Z"
   },
   {
    "duration": 1517,
    "start_time": "2022-12-01T18:00:04.099Z"
   },
   {
    "duration": 1466,
    "start_time": "2022-12-01T18:00:26.123Z"
   },
   {
    "duration": 1541,
    "start_time": "2022-12-01T18:00:46.370Z"
   },
   {
    "duration": 1560,
    "start_time": "2022-12-01T18:00:55.884Z"
   },
   {
    "duration": 1550,
    "start_time": "2022-12-01T18:01:30.066Z"
   },
   {
    "duration": 1400,
    "start_time": "2022-12-01T18:01:40.832Z"
   },
   {
    "duration": 1626,
    "start_time": "2022-12-01T18:02:00.113Z"
   },
   {
    "duration": 1554,
    "start_time": "2022-12-01T18:02:11.147Z"
   },
   {
    "duration": 1275,
    "start_time": "2022-12-01T18:05:22.884Z"
   },
   {
    "duration": 1548,
    "start_time": "2022-12-01T18:05:33.376Z"
   },
   {
    "duration": 1504,
    "start_time": "2022-12-01T18:05:40.768Z"
   },
   {
    "duration": 1259,
    "start_time": "2022-12-01T18:05:50.345Z"
   },
   {
    "duration": 1573,
    "start_time": "2022-12-01T18:06:08.279Z"
   },
   {
    "duration": 2196,
    "start_time": "2022-12-01T18:06:17.736Z"
   },
   {
    "duration": 1366,
    "start_time": "2022-12-01T18:06:29.789Z"
   },
   {
    "duration": 1420,
    "start_time": "2022-12-01T18:06:37.991Z"
   },
   {
    "duration": 1491,
    "start_time": "2022-12-01T18:06:45.944Z"
   },
   {
    "duration": 1350,
    "start_time": "2022-12-01T18:06:55.781Z"
   },
   {
    "duration": 1512,
    "start_time": "2022-12-01T18:07:21.841Z"
   },
   {
    "duration": 1505,
    "start_time": "2022-12-01T18:07:31.951Z"
   },
   {
    "duration": 1627,
    "start_time": "2022-12-01T18:08:56.814Z"
   },
   {
    "duration": 175,
    "start_time": "2022-12-01T18:16:16.566Z"
   },
   {
    "duration": 163,
    "start_time": "2022-12-01T18:16:41.755Z"
   },
   {
    "duration": 150,
    "start_time": "2022-12-01T18:16:52.790Z"
   },
   {
    "duration": 168,
    "start_time": "2022-12-01T18:17:04.460Z"
   },
   {
    "duration": 179,
    "start_time": "2022-12-01T18:17:14.304Z"
   },
   {
    "duration": 157,
    "start_time": "2022-12-01T18:17:20.571Z"
   },
   {
    "duration": 163,
    "start_time": "2022-12-01T18:17:27.682Z"
   },
   {
    "duration": 76,
    "start_time": "2022-12-01T18:17:51.948Z"
   },
   {
    "duration": 149,
    "start_time": "2022-12-01T18:18:25.117Z"
   },
   {
    "duration": 160,
    "start_time": "2022-12-01T18:18:32.891Z"
   },
   {
    "duration": 157,
    "start_time": "2022-12-01T18:18:40.540Z"
   },
   {
    "duration": 64,
    "start_time": "2022-12-01T18:19:22.290Z"
   },
   {
    "duration": 157,
    "start_time": "2022-12-01T18:19:38.470Z"
   },
   {
    "duration": 149,
    "start_time": "2022-12-01T18:20:57.565Z"
   },
   {
    "duration": 146,
    "start_time": "2022-12-01T18:21:08.371Z"
   },
   {
    "duration": 161,
    "start_time": "2022-12-01T18:21:19.071Z"
   },
   {
    "duration": 158,
    "start_time": "2022-12-01T18:22:33.412Z"
   },
   {
    "duration": 68,
    "start_time": "2022-12-01T18:25:18.911Z"
   },
   {
    "duration": 158,
    "start_time": "2022-12-01T18:27:34.980Z"
   },
   {
    "duration": 378,
    "start_time": "2022-12-01T18:53:58.770Z"
   },
   {
    "duration": 46,
    "start_time": "2022-12-01T18:53:59.149Z"
   },
   {
    "duration": 11,
    "start_time": "2022-12-01T18:53:59.196Z"
   },
   {
    "duration": 23,
    "start_time": "2022-12-01T18:53:59.208Z"
   },
   {
    "duration": 2115,
    "start_time": "2022-12-01T18:53:59.233Z"
   },
   {
    "duration": 11,
    "start_time": "2022-12-01T18:54:01.349Z"
   },
   {
    "duration": 13,
    "start_time": "2022-12-01T18:54:01.362Z"
   },
   {
    "duration": 166,
    "start_time": "2022-12-01T18:54:01.377Z"
   },
   {
    "duration": 4,
    "start_time": "2022-12-01T18:54:01.544Z"
   },
   {
    "duration": 27,
    "start_time": "2022-12-01T18:54:01.550Z"
   },
   {
    "duration": 15,
    "start_time": "2022-12-01T18:54:01.579Z"
   },
   {
    "duration": 330,
    "start_time": "2022-12-01T18:54:01.596Z"
   },
   {
    "duration": 6,
    "start_time": "2022-12-01T18:54:01.928Z"
   },
   {
    "duration": 8,
    "start_time": "2022-12-01T18:54:01.936Z"
   },
   {
    "duration": 17,
    "start_time": "2022-12-01T18:54:01.946Z"
   },
   {
    "duration": 7,
    "start_time": "2022-12-01T18:54:01.964Z"
   },
   {
    "duration": 20,
    "start_time": "2022-12-01T18:54:01.972Z"
   },
   {
    "duration": 9,
    "start_time": "2022-12-01T18:54:01.994Z"
   },
   {
    "duration": 40,
    "start_time": "2022-12-01T18:54:02.005Z"
   },
   {
    "duration": 153,
    "start_time": "2022-12-01T18:54:02.047Z"
   },
   {
    "duration": 9,
    "start_time": "2022-12-01T18:54:02.202Z"
   },
   {
    "duration": 3063,
    "start_time": "2022-12-01T18:54:02.222Z"
   },
   {
    "duration": 3,
    "start_time": "2022-12-01T18:54:05.287Z"
   },
   {
    "duration": 34,
    "start_time": "2022-12-01T18:54:05.292Z"
   },
   {
    "duration": 38,
    "start_time": "2022-12-01T18:54:05.327Z"
   },
   {
    "duration": 6,
    "start_time": "2022-12-01T18:54:05.366Z"
   },
   {
    "duration": 350,
    "start_time": "2022-12-01T18:57:36.172Z"
   },
   {
    "duration": 45,
    "start_time": "2022-12-01T18:57:36.524Z"
   },
   {
    "duration": 15,
    "start_time": "2022-12-01T18:57:36.572Z"
   },
   {
    "duration": 33,
    "start_time": "2022-12-01T18:57:36.590Z"
   },
   {
    "duration": 2199,
    "start_time": "2022-12-01T18:57:36.625Z"
   },
   {
    "duration": 10,
    "start_time": "2022-12-01T18:57:38.826Z"
   },
   {
    "duration": 5,
    "start_time": "2022-12-01T18:57:38.838Z"
   },
   {
    "duration": 174,
    "start_time": "2022-12-01T18:57:38.845Z"
   },
   {
    "duration": 3,
    "start_time": "2022-12-01T18:57:39.022Z"
   },
   {
    "duration": 27,
    "start_time": "2022-12-01T18:57:39.028Z"
   },
   {
    "duration": 9,
    "start_time": "2022-12-01T18:57:39.057Z"
   },
   {
    "duration": 310,
    "start_time": "2022-12-01T18:57:39.067Z"
   },
   {
    "duration": 5,
    "start_time": "2022-12-01T18:57:39.379Z"
   },
   {
    "duration": 9,
    "start_time": "2022-12-01T18:57:39.386Z"
   },
   {
    "duration": 16,
    "start_time": "2022-12-01T18:57:39.397Z"
   },
   {
    "duration": 10,
    "start_time": "2022-12-01T18:57:39.415Z"
   },
   {
    "duration": 7,
    "start_time": "2022-12-01T18:57:39.428Z"
   },
   {
    "duration": 5,
    "start_time": "2022-12-01T18:57:39.437Z"
   },
   {
    "duration": 61,
    "start_time": "2022-12-01T18:57:39.444Z"
   },
   {
    "duration": 164,
    "start_time": "2022-12-01T18:57:39.506Z"
   },
   {
    "duration": 13,
    "start_time": "2022-12-01T18:57:39.672Z"
   },
   {
    "duration": 3095,
    "start_time": "2022-12-01T18:57:39.686Z"
   },
   {
    "duration": 2,
    "start_time": "2022-12-01T18:57:42.783Z"
   },
   {
    "duration": 35,
    "start_time": "2022-12-01T18:57:42.787Z"
   },
   {
    "duration": 47,
    "start_time": "2022-12-01T18:57:42.824Z"
   },
   {
    "duration": 8,
    "start_time": "2022-12-01T18:57:42.873Z"
   }
  ],
  "kernelspec": {
   "display_name": "Python 3 (ipykernel)",
   "language": "python",
   "name": "python3"
  },
  "language_info": {
   "codemirror_mode": {
    "name": "ipython",
    "version": 3
   },
   "file_extension": ".py",
   "mimetype": "text/x-python",
   "name": "python",
   "nbconvert_exporter": "python",
   "pygments_lexer": "ipython3",
   "version": "3.9.5"
  },
  "toc": {
   "base_numbering": 1,
   "nav_menu": {},
   "number_sections": true,
   "sideBar": true,
   "skip_h1_title": true,
   "title_cell": "Table of Contents",
   "title_sidebar": "Contents",
   "toc_cell": false,
   "toc_position": {},
   "toc_section_display": true,
   "toc_window_display": false
  }
 },
 "nbformat": 4,
 "nbformat_minor": 2
}
