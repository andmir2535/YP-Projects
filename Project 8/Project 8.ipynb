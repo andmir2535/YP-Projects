{
 "cells": [
  {
   "cell_type": "markdown",
   "metadata": {},
   "source": [
    "# Выбор локации для скважины"
   ]
  },
  {
   "cell_type": "markdown",
   "metadata": {},
   "source": [
    "Допустим, вы работаете в добывающей компании «ГлавРосГосНефть». Нужно решить, где бурить новую скважину.\n",
    "\n",
    "Вам предоставлены пробы нефти в трёх регионах: в каждом 10 000 месторождений, где измерили качество нефти и объём её запасов. Постройте модель машинного обучения, которая поможет определить регион, где добыча принесёт наибольшую прибыль. Проанализируйте возможную прибыль и риски техникой *Bootstrap.*\n",
    "\n",
    "Шаги для выбора локации:\n",
    "\n",
    "- В избранном регионе ищут месторождения, для каждого определяют значения признаков;\n",
    "- Строят модель и оценивают объём запасов;\n",
    "- Выбирают месторождения с самым высокими оценками значений. Количество месторождений зависит от бюджета компании и стоимости разработки одной скважины;\n",
    "- Прибыль равна суммарной прибыли отобранных месторождений."
   ]
  },
  {
   "cell_type": "markdown",
   "metadata": {},
   "source": [
    "## Загрузка и подготовка данных"
   ]
  },
  {
   "cell_type": "code",
   "execution_count": 1,
   "metadata": {},
   "outputs": [],
   "source": [
    "#Импорт необходим библиотек для исследования.\n",
    "import pandas as pd\n",
    "import numpy as np\n",
    "import warnings\n",
    "import matplotlib.pyplot as plt\n",
    "from scipy import stats\n",
    "from numpy.random import RandomState\n",
    "from sklearn.linear_model import LinearRegression\n",
    "from sklearn.metrics import mean_squared_error\n",
    "from sklearn.model_selection import train_test_split\n",
    "from sklearn.preprocessing import StandardScaler"
   ]
  },
  {
   "cell_type": "code",
   "execution_count": 2,
   "metadata": {},
   "outputs": [],
   "source": [
    "#Загрузка датасетов\n",
    "geo_data_0 = pd.read_csv('/datasets/geo_data_0.csv')\n",
    "geo_data_1 = pd.read_csv('/datasets/geo_data_1.csv')\n",
    "geo_data_2 = pd.read_csv('/datasets/geo_data_2.csv')"
   ]
  },
  {
   "cell_type": "code",
   "execution_count": 3,
   "metadata": {
    "scrolled": true
   },
   "outputs": [
    {
     "data": {
      "text/html": [
       "<div>\n",
       "<style scoped>\n",
       "    .dataframe tbody tr th:only-of-type {\n",
       "        vertical-align: middle;\n",
       "    }\n",
       "\n",
       "    .dataframe tbody tr th {\n",
       "        vertical-align: top;\n",
       "    }\n",
       "\n",
       "    .dataframe thead th {\n",
       "        text-align: right;\n",
       "    }\n",
       "</style>\n",
       "<table border=\"1\" class=\"dataframe\">\n",
       "  <thead>\n",
       "    <tr style=\"text-align: right;\">\n",
       "      <th></th>\n",
       "      <th>id</th>\n",
       "      <th>f0</th>\n",
       "      <th>f1</th>\n",
       "      <th>f2</th>\n",
       "      <th>product</th>\n",
       "    </tr>\n",
       "  </thead>\n",
       "  <tbody>\n",
       "    <tr>\n",
       "      <th>0</th>\n",
       "      <td>txEyH</td>\n",
       "      <td>0.705745</td>\n",
       "      <td>-0.497823</td>\n",
       "      <td>1.221170</td>\n",
       "      <td>105.280062</td>\n",
       "    </tr>\n",
       "    <tr>\n",
       "      <th>1</th>\n",
       "      <td>2acmU</td>\n",
       "      <td>1.334711</td>\n",
       "      <td>-0.340164</td>\n",
       "      <td>4.365080</td>\n",
       "      <td>73.037750</td>\n",
       "    </tr>\n",
       "    <tr>\n",
       "      <th>2</th>\n",
       "      <td>409Wp</td>\n",
       "      <td>1.022732</td>\n",
       "      <td>0.151990</td>\n",
       "      <td>1.419926</td>\n",
       "      <td>85.265647</td>\n",
       "    </tr>\n",
       "    <tr>\n",
       "      <th>3</th>\n",
       "      <td>iJLyR</td>\n",
       "      <td>-0.032172</td>\n",
       "      <td>0.139033</td>\n",
       "      <td>2.978566</td>\n",
       "      <td>168.620776</td>\n",
       "    </tr>\n",
       "    <tr>\n",
       "      <th>4</th>\n",
       "      <td>Xdl7t</td>\n",
       "      <td>1.988431</td>\n",
       "      <td>0.155413</td>\n",
       "      <td>4.751769</td>\n",
       "      <td>154.036647</td>\n",
       "    </tr>\n",
       "  </tbody>\n",
       "</table>\n",
       "</div>"
      ],
      "text/plain": [
       "      id        f0        f1        f2     product\n",
       "0  txEyH  0.705745 -0.497823  1.221170  105.280062\n",
       "1  2acmU  1.334711 -0.340164  4.365080   73.037750\n",
       "2  409Wp  1.022732  0.151990  1.419926   85.265647\n",
       "3  iJLyR -0.032172  0.139033  2.978566  168.620776\n",
       "4  Xdl7t  1.988431  0.155413  4.751769  154.036647"
      ]
     },
     "metadata": {},
     "output_type": "display_data"
    },
    {
     "data": {
      "text/html": [
       "<div>\n",
       "<style scoped>\n",
       "    .dataframe tbody tr th:only-of-type {\n",
       "        vertical-align: middle;\n",
       "    }\n",
       "\n",
       "    .dataframe tbody tr th {\n",
       "        vertical-align: top;\n",
       "    }\n",
       "\n",
       "    .dataframe thead th {\n",
       "        text-align: right;\n",
       "    }\n",
       "</style>\n",
       "<table border=\"1\" class=\"dataframe\">\n",
       "  <thead>\n",
       "    <tr style=\"text-align: right;\">\n",
       "      <th></th>\n",
       "      <th>id</th>\n",
       "      <th>f0</th>\n",
       "      <th>f1</th>\n",
       "      <th>f2</th>\n",
       "      <th>product</th>\n",
       "    </tr>\n",
       "  </thead>\n",
       "  <tbody>\n",
       "    <tr>\n",
       "      <th>0</th>\n",
       "      <td>kBEdx</td>\n",
       "      <td>-15.001348</td>\n",
       "      <td>-8.276000</td>\n",
       "      <td>-0.005876</td>\n",
       "      <td>3.179103</td>\n",
       "    </tr>\n",
       "    <tr>\n",
       "      <th>1</th>\n",
       "      <td>62mP7</td>\n",
       "      <td>14.272088</td>\n",
       "      <td>-3.475083</td>\n",
       "      <td>0.999183</td>\n",
       "      <td>26.953261</td>\n",
       "    </tr>\n",
       "    <tr>\n",
       "      <th>2</th>\n",
       "      <td>vyE1P</td>\n",
       "      <td>6.263187</td>\n",
       "      <td>-5.948386</td>\n",
       "      <td>5.001160</td>\n",
       "      <td>134.766305</td>\n",
       "    </tr>\n",
       "    <tr>\n",
       "      <th>3</th>\n",
       "      <td>KcrkZ</td>\n",
       "      <td>-13.081196</td>\n",
       "      <td>-11.506057</td>\n",
       "      <td>4.999415</td>\n",
       "      <td>137.945408</td>\n",
       "    </tr>\n",
       "    <tr>\n",
       "      <th>4</th>\n",
       "      <td>AHL4O</td>\n",
       "      <td>12.702195</td>\n",
       "      <td>-8.147433</td>\n",
       "      <td>5.004363</td>\n",
       "      <td>134.766305</td>\n",
       "    </tr>\n",
       "  </tbody>\n",
       "</table>\n",
       "</div>"
      ],
      "text/plain": [
       "      id         f0         f1        f2     product\n",
       "0  kBEdx -15.001348  -8.276000 -0.005876    3.179103\n",
       "1  62mP7  14.272088  -3.475083  0.999183   26.953261\n",
       "2  vyE1P   6.263187  -5.948386  5.001160  134.766305\n",
       "3  KcrkZ -13.081196 -11.506057  4.999415  137.945408\n",
       "4  AHL4O  12.702195  -8.147433  5.004363  134.766305"
      ]
     },
     "metadata": {},
     "output_type": "display_data"
    },
    {
     "data": {
      "text/html": [
       "<div>\n",
       "<style scoped>\n",
       "    .dataframe tbody tr th:only-of-type {\n",
       "        vertical-align: middle;\n",
       "    }\n",
       "\n",
       "    .dataframe tbody tr th {\n",
       "        vertical-align: top;\n",
       "    }\n",
       "\n",
       "    .dataframe thead th {\n",
       "        text-align: right;\n",
       "    }\n",
       "</style>\n",
       "<table border=\"1\" class=\"dataframe\">\n",
       "  <thead>\n",
       "    <tr style=\"text-align: right;\">\n",
       "      <th></th>\n",
       "      <th>id</th>\n",
       "      <th>f0</th>\n",
       "      <th>f1</th>\n",
       "      <th>f2</th>\n",
       "      <th>product</th>\n",
       "    </tr>\n",
       "  </thead>\n",
       "  <tbody>\n",
       "    <tr>\n",
       "      <th>0</th>\n",
       "      <td>fwXo0</td>\n",
       "      <td>-1.146987</td>\n",
       "      <td>0.963328</td>\n",
       "      <td>-0.828965</td>\n",
       "      <td>27.758673</td>\n",
       "    </tr>\n",
       "    <tr>\n",
       "      <th>1</th>\n",
       "      <td>WJtFt</td>\n",
       "      <td>0.262778</td>\n",
       "      <td>0.269839</td>\n",
       "      <td>-2.530187</td>\n",
       "      <td>56.069697</td>\n",
       "    </tr>\n",
       "    <tr>\n",
       "      <th>2</th>\n",
       "      <td>ovLUW</td>\n",
       "      <td>0.194587</td>\n",
       "      <td>0.289035</td>\n",
       "      <td>-5.586433</td>\n",
       "      <td>62.871910</td>\n",
       "    </tr>\n",
       "    <tr>\n",
       "      <th>3</th>\n",
       "      <td>q6cA6</td>\n",
       "      <td>2.236060</td>\n",
       "      <td>-0.553760</td>\n",
       "      <td>0.930038</td>\n",
       "      <td>114.572842</td>\n",
       "    </tr>\n",
       "    <tr>\n",
       "      <th>4</th>\n",
       "      <td>WPMUX</td>\n",
       "      <td>-0.515993</td>\n",
       "      <td>1.716266</td>\n",
       "      <td>5.899011</td>\n",
       "      <td>149.600746</td>\n",
       "    </tr>\n",
       "  </tbody>\n",
       "</table>\n",
       "</div>"
      ],
      "text/plain": [
       "      id        f0        f1        f2     product\n",
       "0  fwXo0 -1.146987  0.963328 -0.828965   27.758673\n",
       "1  WJtFt  0.262778  0.269839 -2.530187   56.069697\n",
       "2  ovLUW  0.194587  0.289035 -5.586433   62.871910\n",
       "3  q6cA6  2.236060 -0.553760  0.930038  114.572842\n",
       "4  WPMUX -0.515993  1.716266  5.899011  149.600746"
      ]
     },
     "metadata": {},
     "output_type": "display_data"
    }
   ],
   "source": [
    "display(geo_data_0.head())\n",
    "display(geo_data_1.head())\n",
    "display(geo_data_2.head()) #просмотрим краткое содержание всех 3-х файлов."
   ]
  },
  {
   "cell_type": "code",
   "execution_count": 4,
   "metadata": {
    "scrolled": true
   },
   "outputs": [
    {
     "name": "stdout",
     "output_type": "stream",
     "text": [
      "<class 'pandas.core.frame.DataFrame'>\n",
      "RangeIndex: 100000 entries, 0 to 99999\n",
      "Data columns (total 5 columns):\n",
      " #   Column   Non-Null Count   Dtype  \n",
      "---  ------   --------------   -----  \n",
      " 0   id       100000 non-null  object \n",
      " 1   f0       100000 non-null  float64\n",
      " 2   f1       100000 non-null  float64\n",
      " 3   f2       100000 non-null  float64\n",
      " 4   product  100000 non-null  float64\n",
      "dtypes: float64(4), object(1)\n",
      "memory usage: 3.8+ MB\n"
     ]
    },
    {
     "data": {
      "text/plain": [
       "None"
      ]
     },
     "metadata": {},
     "output_type": "display_data"
    },
    {
     "name": "stdout",
     "output_type": "stream",
     "text": [
      "<class 'pandas.core.frame.DataFrame'>\n",
      "RangeIndex: 100000 entries, 0 to 99999\n",
      "Data columns (total 5 columns):\n",
      " #   Column   Non-Null Count   Dtype  \n",
      "---  ------   --------------   -----  \n",
      " 0   id       100000 non-null  object \n",
      " 1   f0       100000 non-null  float64\n",
      " 2   f1       100000 non-null  float64\n",
      " 3   f2       100000 non-null  float64\n",
      " 4   product  100000 non-null  float64\n",
      "dtypes: float64(4), object(1)\n",
      "memory usage: 3.8+ MB\n"
     ]
    },
    {
     "data": {
      "text/plain": [
       "None"
      ]
     },
     "metadata": {},
     "output_type": "display_data"
    },
    {
     "name": "stdout",
     "output_type": "stream",
     "text": [
      "<class 'pandas.core.frame.DataFrame'>\n",
      "RangeIndex: 100000 entries, 0 to 99999\n",
      "Data columns (total 5 columns):\n",
      " #   Column   Non-Null Count   Dtype  \n",
      "---  ------   --------------   -----  \n",
      " 0   id       100000 non-null  object \n",
      " 1   f0       100000 non-null  float64\n",
      " 2   f1       100000 non-null  float64\n",
      " 3   f2       100000 non-null  float64\n",
      " 4   product  100000 non-null  float64\n",
      "dtypes: float64(4), object(1)\n",
      "memory usage: 3.8+ MB\n"
     ]
    },
    {
     "data": {
      "text/plain": [
       "None"
      ]
     },
     "metadata": {},
     "output_type": "display_data"
    }
   ],
   "source": [
    "display(geo_data_0.info())\n",
    "display(geo_data_1.info())\n",
    "display(geo_data_2.info()) #Продолжим изучение, сейчас посмотрим информацию по каждой локации."
   ]
  },
  {
   "cell_type": "code",
   "execution_count": 5,
   "metadata": {
    "scrolled": true
   },
   "outputs": [
    {
     "data": {
      "text/html": [
       "<div>\n",
       "<style scoped>\n",
       "    .dataframe tbody tr th:only-of-type {\n",
       "        vertical-align: middle;\n",
       "    }\n",
       "\n",
       "    .dataframe tbody tr th {\n",
       "        vertical-align: top;\n",
       "    }\n",
       "\n",
       "    .dataframe thead th {\n",
       "        text-align: right;\n",
       "    }\n",
       "</style>\n",
       "<table border=\"1\" class=\"dataframe\">\n",
       "  <thead>\n",
       "    <tr style=\"text-align: right;\">\n",
       "      <th></th>\n",
       "      <th>f0</th>\n",
       "      <th>f1</th>\n",
       "      <th>f2</th>\n",
       "      <th>product</th>\n",
       "    </tr>\n",
       "  </thead>\n",
       "  <tbody>\n",
       "    <tr>\n",
       "      <th>count</th>\n",
       "      <td>100000.000000</td>\n",
       "      <td>100000.000000</td>\n",
       "      <td>100000.000000</td>\n",
       "      <td>100000.000000</td>\n",
       "    </tr>\n",
       "    <tr>\n",
       "      <th>mean</th>\n",
       "      <td>0.500419</td>\n",
       "      <td>0.250143</td>\n",
       "      <td>2.502647</td>\n",
       "      <td>92.500000</td>\n",
       "    </tr>\n",
       "    <tr>\n",
       "      <th>std</th>\n",
       "      <td>0.871832</td>\n",
       "      <td>0.504433</td>\n",
       "      <td>3.248248</td>\n",
       "      <td>44.288691</td>\n",
       "    </tr>\n",
       "    <tr>\n",
       "      <th>min</th>\n",
       "      <td>-1.408605</td>\n",
       "      <td>-0.848218</td>\n",
       "      <td>-12.088328</td>\n",
       "      <td>0.000000</td>\n",
       "    </tr>\n",
       "    <tr>\n",
       "      <th>25%</th>\n",
       "      <td>-0.072580</td>\n",
       "      <td>-0.200881</td>\n",
       "      <td>0.287748</td>\n",
       "      <td>56.497507</td>\n",
       "    </tr>\n",
       "    <tr>\n",
       "      <th>50%</th>\n",
       "      <td>0.502360</td>\n",
       "      <td>0.250252</td>\n",
       "      <td>2.515969</td>\n",
       "      <td>91.849972</td>\n",
       "    </tr>\n",
       "    <tr>\n",
       "      <th>75%</th>\n",
       "      <td>1.073581</td>\n",
       "      <td>0.700646</td>\n",
       "      <td>4.715088</td>\n",
       "      <td>128.564089</td>\n",
       "    </tr>\n",
       "    <tr>\n",
       "      <th>max</th>\n",
       "      <td>2.362331</td>\n",
       "      <td>1.343769</td>\n",
       "      <td>16.003790</td>\n",
       "      <td>185.364347</td>\n",
       "    </tr>\n",
       "  </tbody>\n",
       "</table>\n",
       "</div>"
      ],
      "text/plain": [
       "                  f0             f1             f2        product\n",
       "count  100000.000000  100000.000000  100000.000000  100000.000000\n",
       "mean        0.500419       0.250143       2.502647      92.500000\n",
       "std         0.871832       0.504433       3.248248      44.288691\n",
       "min        -1.408605      -0.848218     -12.088328       0.000000\n",
       "25%        -0.072580      -0.200881       0.287748      56.497507\n",
       "50%         0.502360       0.250252       2.515969      91.849972\n",
       "75%         1.073581       0.700646       4.715088     128.564089\n",
       "max         2.362331       1.343769      16.003790     185.364347"
      ]
     },
     "metadata": {},
     "output_type": "display_data"
    },
    {
     "data": {
      "text/html": [
       "<div>\n",
       "<style scoped>\n",
       "    .dataframe tbody tr th:only-of-type {\n",
       "        vertical-align: middle;\n",
       "    }\n",
       "\n",
       "    .dataframe tbody tr th {\n",
       "        vertical-align: top;\n",
       "    }\n",
       "\n",
       "    .dataframe thead th {\n",
       "        text-align: right;\n",
       "    }\n",
       "</style>\n",
       "<table border=\"1\" class=\"dataframe\">\n",
       "  <thead>\n",
       "    <tr style=\"text-align: right;\">\n",
       "      <th></th>\n",
       "      <th>f0</th>\n",
       "      <th>f1</th>\n",
       "      <th>f2</th>\n",
       "      <th>product</th>\n",
       "    </tr>\n",
       "  </thead>\n",
       "  <tbody>\n",
       "    <tr>\n",
       "      <th>count</th>\n",
       "      <td>100000.000000</td>\n",
       "      <td>100000.000000</td>\n",
       "      <td>100000.000000</td>\n",
       "      <td>100000.000000</td>\n",
       "    </tr>\n",
       "    <tr>\n",
       "      <th>mean</th>\n",
       "      <td>1.141296</td>\n",
       "      <td>-4.796579</td>\n",
       "      <td>2.494541</td>\n",
       "      <td>68.825000</td>\n",
       "    </tr>\n",
       "    <tr>\n",
       "      <th>std</th>\n",
       "      <td>8.965932</td>\n",
       "      <td>5.119872</td>\n",
       "      <td>1.703572</td>\n",
       "      <td>45.944423</td>\n",
       "    </tr>\n",
       "    <tr>\n",
       "      <th>min</th>\n",
       "      <td>-31.609576</td>\n",
       "      <td>-26.358598</td>\n",
       "      <td>-0.018144</td>\n",
       "      <td>0.000000</td>\n",
       "    </tr>\n",
       "    <tr>\n",
       "      <th>25%</th>\n",
       "      <td>-6.298551</td>\n",
       "      <td>-8.267985</td>\n",
       "      <td>1.000021</td>\n",
       "      <td>26.953261</td>\n",
       "    </tr>\n",
       "    <tr>\n",
       "      <th>50%</th>\n",
       "      <td>1.153055</td>\n",
       "      <td>-4.813172</td>\n",
       "      <td>2.011479</td>\n",
       "      <td>57.085625</td>\n",
       "    </tr>\n",
       "    <tr>\n",
       "      <th>75%</th>\n",
       "      <td>8.621015</td>\n",
       "      <td>-1.332816</td>\n",
       "      <td>3.999904</td>\n",
       "      <td>107.813044</td>\n",
       "    </tr>\n",
       "    <tr>\n",
       "      <th>max</th>\n",
       "      <td>29.421755</td>\n",
       "      <td>18.734063</td>\n",
       "      <td>5.019721</td>\n",
       "      <td>137.945408</td>\n",
       "    </tr>\n",
       "  </tbody>\n",
       "</table>\n",
       "</div>"
      ],
      "text/plain": [
       "                  f0             f1             f2        product\n",
       "count  100000.000000  100000.000000  100000.000000  100000.000000\n",
       "mean        1.141296      -4.796579       2.494541      68.825000\n",
       "std         8.965932       5.119872       1.703572      45.944423\n",
       "min       -31.609576     -26.358598      -0.018144       0.000000\n",
       "25%        -6.298551      -8.267985       1.000021      26.953261\n",
       "50%         1.153055      -4.813172       2.011479      57.085625\n",
       "75%         8.621015      -1.332816       3.999904     107.813044\n",
       "max        29.421755      18.734063       5.019721     137.945408"
      ]
     },
     "metadata": {},
     "output_type": "display_data"
    },
    {
     "data": {
      "text/html": [
       "<div>\n",
       "<style scoped>\n",
       "    .dataframe tbody tr th:only-of-type {\n",
       "        vertical-align: middle;\n",
       "    }\n",
       "\n",
       "    .dataframe tbody tr th {\n",
       "        vertical-align: top;\n",
       "    }\n",
       "\n",
       "    .dataframe thead th {\n",
       "        text-align: right;\n",
       "    }\n",
       "</style>\n",
       "<table border=\"1\" class=\"dataframe\">\n",
       "  <thead>\n",
       "    <tr style=\"text-align: right;\">\n",
       "      <th></th>\n",
       "      <th>f0</th>\n",
       "      <th>f1</th>\n",
       "      <th>f2</th>\n",
       "      <th>product</th>\n",
       "    </tr>\n",
       "  </thead>\n",
       "  <tbody>\n",
       "    <tr>\n",
       "      <th>count</th>\n",
       "      <td>100000.000000</td>\n",
       "      <td>100000.000000</td>\n",
       "      <td>100000.000000</td>\n",
       "      <td>100000.000000</td>\n",
       "    </tr>\n",
       "    <tr>\n",
       "      <th>mean</th>\n",
       "      <td>0.002023</td>\n",
       "      <td>-0.002081</td>\n",
       "      <td>2.495128</td>\n",
       "      <td>95.000000</td>\n",
       "    </tr>\n",
       "    <tr>\n",
       "      <th>std</th>\n",
       "      <td>1.732045</td>\n",
       "      <td>1.730417</td>\n",
       "      <td>3.473445</td>\n",
       "      <td>44.749921</td>\n",
       "    </tr>\n",
       "    <tr>\n",
       "      <th>min</th>\n",
       "      <td>-8.760004</td>\n",
       "      <td>-7.084020</td>\n",
       "      <td>-11.970335</td>\n",
       "      <td>0.000000</td>\n",
       "    </tr>\n",
       "    <tr>\n",
       "      <th>25%</th>\n",
       "      <td>-1.162288</td>\n",
       "      <td>-1.174820</td>\n",
       "      <td>0.130359</td>\n",
       "      <td>59.450441</td>\n",
       "    </tr>\n",
       "    <tr>\n",
       "      <th>50%</th>\n",
       "      <td>0.009424</td>\n",
       "      <td>-0.009482</td>\n",
       "      <td>2.484236</td>\n",
       "      <td>94.925613</td>\n",
       "    </tr>\n",
       "    <tr>\n",
       "      <th>75%</th>\n",
       "      <td>1.158535</td>\n",
       "      <td>1.163678</td>\n",
       "      <td>4.858794</td>\n",
       "      <td>130.595027</td>\n",
       "    </tr>\n",
       "    <tr>\n",
       "      <th>max</th>\n",
       "      <td>7.238262</td>\n",
       "      <td>7.844801</td>\n",
       "      <td>16.739402</td>\n",
       "      <td>190.029838</td>\n",
       "    </tr>\n",
       "  </tbody>\n",
       "</table>\n",
       "</div>"
      ],
      "text/plain": [
       "                  f0             f1             f2        product\n",
       "count  100000.000000  100000.000000  100000.000000  100000.000000\n",
       "mean        0.002023      -0.002081       2.495128      95.000000\n",
       "std         1.732045       1.730417       3.473445      44.749921\n",
       "min        -8.760004      -7.084020     -11.970335       0.000000\n",
       "25%        -1.162288      -1.174820       0.130359      59.450441\n",
       "50%         0.009424      -0.009482       2.484236      94.925613\n",
       "75%         1.158535       1.163678       4.858794     130.595027\n",
       "max         7.238262       7.844801      16.739402     190.029838"
      ]
     },
     "metadata": {},
     "output_type": "display_data"
    }
   ],
   "source": [
    "display(geo_data_0.describe())\n",
    "display(geo_data_1.describe())\n",
    "display(geo_data_2.describe()) # Просмотрим статистические данные."
   ]
  },
  {
   "cell_type": "code",
   "execution_count": 6,
   "metadata": {
    "scrolled": false
   },
   "outputs": [
    {
     "data": {
      "text/plain": [
       "0"
      ]
     },
     "metadata": {},
     "output_type": "display_data"
    },
    {
     "data": {
      "text/plain": [
       "0"
      ]
     },
     "metadata": {},
     "output_type": "display_data"
    },
    {
     "data": {
      "text/plain": [
       "0"
      ]
     },
     "metadata": {},
     "output_type": "display_data"
    }
   ],
   "source": [
    "display(geo_data_0.duplicated().sum())\n",
    "display(geo_data_1.duplicated().sum())\n",
    "display(geo_data_2.duplicated().sum()) #Проверим, есть ли в базах данных дубликаты."
   ]
  },
  {
   "cell_type": "code",
   "execution_count": 7,
   "metadata": {
    "scrolled": true
   },
   "outputs": [
    {
     "data": {
      "text/plain": [
       "id         0\n",
       "f0         0\n",
       "f1         0\n",
       "f2         0\n",
       "product    0\n",
       "dtype: int64"
      ]
     },
     "metadata": {},
     "output_type": "display_data"
    },
    {
     "data": {
      "text/plain": [
       "id         0\n",
       "f0         0\n",
       "f1         0\n",
       "f2         0\n",
       "product    0\n",
       "dtype: int64"
      ]
     },
     "metadata": {},
     "output_type": "display_data"
    },
    {
     "data": {
      "text/plain": [
       "id         0\n",
       "f0         0\n",
       "f1         0\n",
       "f2         0\n",
       "product    0\n",
       "dtype: int64"
      ]
     },
     "metadata": {},
     "output_type": "display_data"
    }
   ],
   "source": [
    "display(geo_data_0.isnull().sum())\n",
    "display(geo_data_1.isnull().sum())\n",
    "display(geo_data_2.isnull().sum()) #Просмотрим, есть ли пропущенные значения."
   ]
  },
  {
   "cell_type": "markdown",
   "metadata": {},
   "source": [
    "В нашем распоряжении 3 базы данных, со следующиими признаками:  \n",
    "\n",
    "*id* — уникальный идентификатор скважины;  \n",
    "*f0, f1, f2* — три признака точек (неважно, что они означают, но сами признаки значимы);  \n",
    "*product* — объём запасов в скважине (тыс. баррелей).  \n",
    "В каждом файле 10 тыс. строк информации, дубликатов и пропусков нет.  \n",
    "\n",
    "В дальнейшем исследовании и последующих стадиях проекта значение *id* не значительно, удалим его. "
   ]
  },
  {
   "cell_type": "code",
   "execution_count": 8,
   "metadata": {},
   "outputs": [],
   "source": [
    "geo_data_0 = geo_data_0.drop(['id'], axis=1)\n",
    "geo_data_1 = geo_data_1.drop(['id'], axis=1)\n",
    "geo_data_2 = geo_data_2.drop(['id'], axis=1) #Удаляем значение id."
   ]
  },
  {
   "cell_type": "code",
   "execution_count": 9,
   "metadata": {
    "scrolled": false
   },
   "outputs": [
    {
     "name": "stdout",
     "output_type": "stream",
     "text": [
      "         f0        f1        f2     product\n",
      "0  0.705745 -0.497823  1.221170  105.280062\n",
      "1  1.334711 -0.340164  4.365080   73.037750\n",
      "2  1.022732  0.151990  1.419926   85.265647\n",
      "3 -0.032172  0.139033  2.978566  168.620776\n",
      "4  1.988431  0.155413  4.751769  154.036647\n"
     ]
    }
   ],
   "source": [
    "print(geo_data_0.head()) #Проверим на нулевом регионе. Значение удалено."
   ]
  },
  {
   "cell_type": "markdown",
   "metadata": {},
   "source": [
    "Построим графики, а также посмотрим, есть ли аномальные значения в датасетах."
   ]
  },
  {
   "cell_type": "code",
   "execution_count": 10,
   "metadata": {
    "scrolled": true
   },
   "outputs": [
    {
     "data": {
      "text/plain": [
       "array([[<AxesSubplot:title={'center':'f0'}>,\n",
       "        <AxesSubplot:title={'center':'f1'}>],\n",
       "       [<AxesSubplot:title={'center':'f2'}>,\n",
       "        <AxesSubplot:title={'center':'product'}>]], dtype=object)"
      ]
     },
     "metadata": {},
     "output_type": "display_data"
    },
    {
     "data": {
      "text/plain": [
       "<function matplotlib.pyplot.show(close=None, block=None)>"
      ]
     },
     "execution_count": 10,
     "metadata": {},
     "output_type": "execute_result"
    },
    {
     "data": {
      "image/png": "[encoded data removed]",
      "text/plain": [
       "<Figure size 432x288 with 4 Axes>"
      ]
     },
     "metadata": {
      "needs_background": "light"
     },
     "output_type": "display_data"
    }
   ],
   "source": [
    "display(geo_data_0.hist())\n",
    "plt.show"
   ]
  },
  {
   "cell_type": "code",
   "execution_count": 11,
   "metadata": {},
   "outputs": [
    {
     "data": {
      "text/plain": [
       "array([[<AxesSubplot:title={'center':'f0'}>,\n",
       "        <AxesSubplot:title={'center':'f1'}>],\n",
       "       [<AxesSubplot:title={'center':'f2'}>,\n",
       "        <AxesSubplot:title={'center':'product'}>]], dtype=object)"
      ]
     },
     "metadata": {},
     "output_type": "display_data"
    },
    {
     "data": {
      "text/plain": [
       "<function matplotlib.pyplot.show(close=None, block=None)>"
      ]
     },
     "execution_count": 11,
     "metadata": {},
     "output_type": "execute_result"
    },
    {
     "data": {
      "image/png": "[encoded data removed]",
      "text/plain": [
       "<Figure size 432x288 with 4 Axes>"
      ]
     },
     "metadata": {
      "needs_background": "light"
     },
     "output_type": "display_data"
    }
   ],
   "source": [
    "display(geo_data_1.hist())\n",
    "plt.show"
   ]
  },
  {
   "cell_type": "code",
   "execution_count": 12,
   "metadata": {
    "scrolled": false
   },
   "outputs": [
    {
     "data": {
      "text/plain": [
       "array([[<AxesSubplot:title={'center':'f0'}>,\n",
       "        <AxesSubplot:title={'center':'f1'}>],\n",
       "       [<AxesSubplot:title={'center':'f2'}>,\n",
       "        <AxesSubplot:title={'center':'product'}>]], dtype=object)"
      ]
     },
     "metadata": {},
     "output_type": "display_data"
    },
    {
     "data": {
      "text/plain": [
       "<function matplotlib.pyplot.show(close=None, block=None)>"
      ]
     },
     "execution_count": 12,
     "metadata": {},
     "output_type": "execute_result"
    },
    {
     "data": {
      "image/png": "[encoded data removed]",
      "text/plain": [
       "<Figure size 432x288 with 4 Axes>"
      ]
     },
     "metadata": {
      "needs_background": "light"
     },
     "output_type": "display_data"
    }
   ],
   "source": [
    "display(geo_data_2.hist())\n",
    "plt.show"
   ]
  },
  {
   "cell_type": "markdown",
   "metadata": {},
   "source": [
    "Глядя на графики можно заметить что во всех трех регионах есть нулевые значения в категории *product*, что означает пустые скважины без нефти. Поэтому в данном исследовании заполнять данные нули никакими значениями нельзя. Будем приступать к обучению с имеющимися данными."
   ]
  },
  {
   "cell_type": "markdown",
   "metadata": {},
   "source": [
    "## Обучение и проверка модели"
   ]
  },
  {
   "cell_type": "code",
   "execution_count": 13,
   "metadata": {},
   "outputs": [],
   "source": [
    "#Разделяем данные на обучающие и валидационные выборки\n",
    "geo_data_0_train, geo_data_0_valid = train_test_split(geo_data_0, test_size=0.25, random_state=12345)\n",
    "geo_data_1_train, geo_data_1_valid = train_test_split(geo_data_1, test_size=0.25, random_state=12345)\n",
    "geo_data_2_train, geo_data_2_valid = train_test_split(geo_data_2, test_size=0.25, random_state=12345)"
   ]
  },
  {
   "cell_type": "code",
   "execution_count": 14,
   "metadata": {},
   "outputs": [],
   "source": [
    "features_train_0 = geo_data_0_train.drop(['product'], axis=1)\n",
    "target_train_0 = geo_data_0_train['product']\n",
    "features_valid_0 = geo_data_0_valid.drop(['product'], axis=1)\n",
    "target_valid_0 = geo_data_0_valid['product']\n",
    "\n",
    "features_train_1 = geo_data_1_train.drop(['product'], axis=1)\n",
    "target_train_1 = geo_data_1_train['product']\n",
    "features_valid_1 = geo_data_1_valid.drop(['product'], axis=1)\n",
    "target_valid_1 = geo_data_1_valid['product']\n",
    "\n",
    "features_train_2 = geo_data_2_train.drop(['product'], axis=1)\n",
    "target_train_2 = geo_data_2_train['product']\n",
    "features_valid_2 = geo_data_2_valid.drop(['product'], axis=1)\n",
    "target_valid_2 = geo_data_2_valid['product']"
   ]
  },
  {
   "cell_type": "code",
   "execution_count": 15,
   "metadata": {},
   "outputs": [
    {
     "data": {
      "text/plain": [
       "'Обучающая выборка нулевого региона:'"
      ]
     },
     "metadata": {},
     "output_type": "display_data"
    },
    {
     "data": {
      "text/plain": [
       "(75000, 3)"
      ]
     },
     "metadata": {},
     "output_type": "display_data"
    },
    {
     "data": {
      "text/plain": [
       "(75000,)"
      ]
     },
     "metadata": {},
     "output_type": "display_data"
    },
    {
     "data": {
      "text/plain": [
       "'Валидационная выборка нулевого региона:'"
      ]
     },
     "metadata": {},
     "output_type": "display_data"
    },
    {
     "data": {
      "text/plain": [
       "(25000, 3)"
      ]
     },
     "metadata": {},
     "output_type": "display_data"
    },
    {
     "data": {
      "text/plain": [
       "(25000,)"
      ]
     },
     "metadata": {},
     "output_type": "display_data"
    },
    {
     "data": {
      "text/plain": [
       "'Обучающая выборка первого региона:'"
      ]
     },
     "metadata": {},
     "output_type": "display_data"
    },
    {
     "data": {
      "text/plain": [
       "(75000, 3)"
      ]
     },
     "metadata": {},
     "output_type": "display_data"
    },
    {
     "data": {
      "text/plain": [
       "(75000,)"
      ]
     },
     "metadata": {},
     "output_type": "display_data"
    },
    {
     "data": {
      "text/plain": [
       "'Валидационная выборка первого региона:'"
      ]
     },
     "metadata": {},
     "output_type": "display_data"
    },
    {
     "data": {
      "text/plain": [
       "(25000, 3)"
      ]
     },
     "metadata": {},
     "output_type": "display_data"
    },
    {
     "data": {
      "text/plain": [
       "(25000,)"
      ]
     },
     "metadata": {},
     "output_type": "display_data"
    },
    {
     "data": {
      "text/plain": [
       "'Обучающая выборка второго региона:'"
      ]
     },
     "metadata": {},
     "output_type": "display_data"
    },
    {
     "data": {
      "text/plain": [
       "(75000, 3)"
      ]
     },
     "metadata": {},
     "output_type": "display_data"
    },
    {
     "data": {
      "text/plain": [
       "(75000,)"
      ]
     },
     "metadata": {},
     "output_type": "display_data"
    },
    {
     "data": {
      "text/plain": [
       "'Валидационная выборка второго региона:'"
      ]
     },
     "metadata": {},
     "output_type": "display_data"
    },
    {
     "data": {
      "text/plain": [
       "(25000, 3)"
      ]
     },
     "metadata": {},
     "output_type": "display_data"
    },
    {
     "data": {
      "text/plain": [
       "(25000,)"
      ]
     },
     "metadata": {},
     "output_type": "display_data"
    }
   ],
   "source": [
    "#Проверим, прошло ли всё верно\n",
    "display('Обучающая выборка нулевого региона:',features_train_0.shape)\n",
    "display(target_train_0.shape)\n",
    "display('Валидационная выборка нулевого региона:',features_valid_0.shape)\n",
    "display(target_valid_0.shape)\n",
    "display()\n",
    "display('Обучающая выборка первого региона:',features_train_1.shape)\n",
    "display(target_train_1.shape)\n",
    "display('Валидационная выборка первого региона:',features_valid_1.shape)\n",
    "display(target_valid_1.shape)\n",
    "display()\n",
    "display('Обучающая выборка второго региона:',features_train_2.shape)\n",
    "display(target_train_2.shape)\n",
    "display('Валидационная выборка второго региона:',features_valid_2.shape)\n",
    "display(target_valid_2.shape)"
   ]
  },
  {
   "cell_type": "markdown",
   "metadata": {},
   "source": [
    "В данном проекте будем использовать модель *линейная регрессия*, данная модель требовательна к данным, необходимо провести масштабирование численных признаков."
   ]
  },
  {
   "cell_type": "code",
   "execution_count": 16,
   "metadata": {},
   "outputs": [
    {
     "data": {
      "text/plain": [
       "'Промасштабированная выборка нулевого региона'"
      ]
     },
     "metadata": {},
     "output_type": "display_data"
    },
    {
     "data": {
      "text/plain": [
       "array([[-0.5448279 ,  1.39026372, -0.09495893],\n",
       "       [ 1.4559119 , -0.48042154,  1.20956708],\n",
       "       [ 0.26045969,  0.82506858, -0.2048645 ]])"
      ]
     },
     "metadata": {},
     "output_type": "display_data"
    },
    {
     "data": {
      "text/plain": [
       "array([[ 0.51791717, -0.61009708, -0.1262255 ],\n",
       "       [ 0.56839077, -0.08606292, -0.81491398],\n",
       "       [ 0.80568773, -1.61328908, -1.34134194]])"
      ]
     },
     "metadata": {},
     "output_type": "display_data"
    }
   ],
   "source": [
    "scaler = StandardScaler()\n",
    "\n",
    "scaler.fit(features_train_0)\n",
    "features_train_sc0 = scaler.transform(features_train_0)\n",
    "features_valid_sc0 = scaler.transform(features_valid_0)\n",
    "pd.options.mode.chained_assignment = None\n",
    "\n",
    "scaler.fit(features_train_1)\n",
    "features_train_sc1 = scaler.transform(features_train_1)\n",
    "features_valid_sc1 = scaler.transform(features_valid_1)\n",
    "pd.options.mode.chained_assignment = None\n",
    "\n",
    "scaler.fit(features_train_2)\n",
    "features_train_sc2 = scaler.transform(features_train_2)\n",
    "features_valid_sc2 = scaler.transform(features_valid_2)\n",
    "pd.options.mode.chained_assignment = None\n",
    "\n",
    "#Проверим на нулевом регионе, есть ли ошшбки\n",
    "\n",
    "display('Промасштабированная выборка нулевого региона', features_train_sc0[:3])\n",
    "display(features_valid_sc0[:3])"
   ]
  },
  {
   "cell_type": "code",
   "execution_count": 17,
   "metadata": {},
   "outputs": [
    {
     "name": "stdout",
     "output_type": "stream",
     "text": [
      "Средний предсказанный запас предсказанного сырья в месторождении 92.59256778438035\n",
      "Средний фактический запас сырья в месторождении 92.07859674082927\n",
      "RMSE модели линейной регрессии на валидационной выборке: 37.5794217150813\n"
     ]
    }
   ],
   "source": [
    "#Регион 0\n",
    "\n",
    "model = LinearRegression()\n",
    "model.fit(features_train_sc0, target_train_0) # обучение модели на тренировочной выборке\n",
    "predictions_valid = model.predict(features_valid_sc0) # предсказания модели на валидационной выборке\n",
    "region_0_pred_mean = predictions_valid.mean()\n",
    "result = mean_squared_error(target_valid_0, predictions_valid)**0.5\n",
    "reg_0_predictions_valid = model.predict(features_valid_sc0)\n",
    "\n",
    "\n",
    "print(\"Средний предсказанный запас предсказанного сырья в месторождении\", region_0_pred_mean)\n",
    "print(\"Средний фактический запас сырья в месторождении\", target_valid_0.mean())\n",
    "print(\"RMSE модели линейной регрессии на валидационной выборке:\", result)"
   ]
  },
  {
   "cell_type": "code",
   "execution_count": 18,
   "metadata": {},
   "outputs": [
    {
     "name": "stdout",
     "output_type": "stream",
     "text": [
      "Средний предсказанный запас предсказанного сырья в месторождении 68.728546895446\n",
      "Средний фактический запас сырья в месторождении 68.72313602435997\n",
      "RMSE модели линейной регрессии на валидационной выборке: 0.893099286775617\n"
     ]
    }
   ],
   "source": [
    "#Регион 1\n",
    "\n",
    "model = LinearRegression()\n",
    "model.fit(features_train_sc1, target_train_1) # обучение модели на тренировочной выборке\n",
    "predictions_valid = model.predict(features_valid_sc1) # предсказания модели на валидационной выборке\n",
    "region_1_pred_mean = predictions_valid.mean()\n",
    "result = mean_squared_error(target_valid_1, predictions_valid)**0.5\n",
    "reg_1_predictions_valid = model.predict(features_valid_sc1)\n",
    "\n",
    "print(\"Средний предсказанный запас предсказанного сырья в месторождении\", region_1_pred_mean)\n",
    "print(\"Средний фактический запас сырья в месторождении\", target_valid_1.mean())\n",
    "print(\"RMSE модели линейной регрессии на валидационной выборке:\", result)"
   ]
  },
  {
   "cell_type": "code",
   "execution_count": 19,
   "metadata": {
    "scrolled": true
   },
   "outputs": [
    {
     "name": "stdout",
     "output_type": "stream",
     "text": [
      "Средний предсказанный запас предсказанного сырья в месторождении 94.96504596800489\n",
      "Средний фактический запас сырья в месторождении 94.88423280885438\n",
      "RMSE модели линейной регрессии на валидационной выборке: 40.02970873393434\n"
     ]
    }
   ],
   "source": [
    "#Регион 2\n",
    "\n",
    "model = LinearRegression()\n",
    "model.fit(features_train_sc2, target_train_2) # обучение модели на тренировочной выборке\n",
    "predictions_valid = model.predict(features_valid_sc2) # предсказания модели на валидационной выборке\n",
    "region_2_pred_mean = predictions_valid.mean()\n",
    "result = mean_squared_error(target_valid_2, predictions_valid)**0.5\n",
    "reg_2_predictions_valid = model.predict(features_valid_sc2)\n",
    "\n",
    "print(\"Средний предсказанный запас предсказанного сырья в месторождении\", region_2_pred_mean)\n",
    "print(\"Средний фактический запас сырья в месторождении\", target_valid_2.mean())\n",
    "print(\"RMSE модели линейной регрессии на валидационной выборке:\", result)"
   ]
  },
  {
   "cell_type": "markdown",
   "metadata": {},
   "source": [
    "Наилучший результат RSME выявлен в первом регионе, в то же время, в этом регионе самое низкое количество ресурсов в сравнении с остальными местами."
   ]
  },
  {
   "cell_type": "markdown",
   "metadata": {},
   "source": [
    "## Подготовка к расчёту прибыли"
   ]
  },
  {
   "cell_type": "code",
   "execution_count": 2,
   "metadata": {},
   "outputs": [
    {
     "data": {
      "text/plain": [
       "'Стоимость бурения одного месторождения'"
      ]
     },
     "metadata": {},
     "output_type": "display_data"
    },
    {
     "data": {
      "text/plain": [
       "50000000.0"
      ]
     },
     "metadata": {},
     "output_type": "display_data"
    },
    {
     "data": {
      "text/plain": [
       "'руб.'"
      ]
     },
     "metadata": {},
     "output_type": "display_data"
    },
    {
     "data": {
      "text/plain": [
       "'Объём нефти для безубытоной разработки'"
      ]
     },
     "metadata": {},
     "output_type": "display_data"
    },
    {
     "data": {
      "text/plain": [
       "111.11111111111111"
      ]
     },
     "metadata": {},
     "output_type": "display_data"
    },
    {
     "data": {
      "text/plain": [
       "'баррелей нефти'"
      ]
     },
     "metadata": {},
     "output_type": "display_data"
    }
   ],
   "source": [
    "budget = 10000000000\n",
    "total_points = 500\n",
    "best_points = 200\n",
    "income = 450*1000\n",
    "risk = 0.025\n",
    "development_cost = (budget/best_points)\n",
    "breakeven_development = development_cost/income\n",
    "display('Стоимость бурения одного месторождения', development_cost, 'руб.')\n",
    "display('Объём нефти для безубытоной разработки', breakeven_development, 'баррелей нефти')"
   ]
  },
  {
   "cell_type": "code",
   "execution_count": 21,
   "metadata": {},
   "outputs": [
    {
     "data": {
      "text/plain": [
       "'Средний запас сырья региона 0 = 92.079 т. баррелей'"
      ]
     },
     "metadata": {},
     "output_type": "display_data"
    },
    {
     "data": {
      "text/plain": [
       "'Средний запас сырья региона 1 = 68.723 т. баррелей'"
      ]
     },
     "metadata": {},
     "output_type": "display_data"
    },
    {
     "data": {
      "text/plain": [
       "'Средний запас сырья региона 2 = 94.884 т. баррелей'"
      ]
     },
     "metadata": {},
     "output_type": "display_data"
    }
   ],
   "source": [
    "display('Средний запас сырья региона 0 = {:.3f} т. баррелей'.format(target_valid_0.mean()))\n",
    "display('Средний запас сырья региона 1 = {:.3f} т. баррелей'.format(target_valid_1.mean()))\n",
    "display('Средний запас сырья региона 2 = {:.3f} т. баррелей'.format(target_valid_2.mean()))"
   ]
  },
  {
   "cell_type": "markdown",
   "metadata": {},
   "source": [
    "Объём безубыточной разработки равен 111 тыс. баррелей нефти. К сожалению, ни в одном из регионов нет достаточного количества нефти для безубыточной разработки. Таким образом, нужно разрабатывать только перспективную точку."
   ]
  },
  {
   "cell_type": "markdown",
   "metadata": {},
   "source": [
    "## Расчёт прибыли и рисков "
   ]
  },
  {
   "cell_type": "markdown",
   "metadata": {},
   "source": [
    "Для дальнейших расчётов необходимо привести данные к типу *Series*."
   ]
  },
  {
   "cell_type": "code",
   "execution_count": 22,
   "metadata": {},
   "outputs": [],
   "source": [
    "# метод для приведения к типу Series\n",
    "def series_type(target, prediction):\n",
    "    target = target.reset_index(drop=True)\n",
    "    prediction = pd.Series(prediction)\n",
    "    return target, prediction"
   ]
  },
  {
   "cell_type": "code",
   "execution_count": 23,
   "metadata": {},
   "outputs": [],
   "source": [
    "# приведем целевые и прогнозные значения по всем регионам к одному типу\n",
    "target_valid_0, reg_0_predictions_valid = series_type(target_valid_0, reg_0_predictions_valid)\n",
    "target_valid_1, reg_1_predictions_valid = series_type(target_valid_1, reg_1_predictions_valid)\n",
    "target_valid_2, reg_2_predictions_valid = series_type(target_valid_2, reg_2_predictions_valid)"
   ]
  },
  {
   "cell_type": "markdown",
   "metadata": {},
   "source": [
    "Напишем функцию для расчёта прибыли."
   ]
  },
  {
   "cell_type": "code",
   "execution_count": 24,
   "metadata": {},
   "outputs": [],
   "source": [
    "def profit(target, predictions, count):\n",
    "    profit=0\n",
    "    probs_sorted = predictions.sort_values(ascending=False).head(200)\n",
    "    selected = target[probs_sorted.index][:count] \n",
    "    for top in selected:\n",
    "        profit+=(top-breakeven_development)*450000\n",
    "    return profit"
   ]
  },
  {
   "cell_type": "code",
   "execution_count": 25,
   "metadata": {},
   "outputs": [
    {
     "name": "stdout",
     "output_type": "stream",
     "text": [
      "Прибыльность 200 лучших скважин 0-го региона 3321 млн.\n"
     ]
    }
   ],
   "source": [
    "profit_0 = profit(target_valid_0, reg_0_predictions_valid, 200)\n",
    "print(\"Прибыльность 200 лучших скважин 0-го региона\", round(profit_0/1000000), \"млн.\")"
   ]
  },
  {
   "cell_type": "code",
   "execution_count": 26,
   "metadata": {},
   "outputs": [
    {
     "name": "stdout",
     "output_type": "stream",
     "text": [
      "Прибыльность 200 лучших скважин 1-го региона 2415 млн.\n"
     ]
    }
   ],
   "source": [
    "profit_1 = profit(target_valid_1, reg_1_predictions_valid, 200)\n",
    "print(\"Прибыльность 200 лучших скважин 1-го региона\", round(profit_1/1000000), \"млн.\")"
   ]
  },
  {
   "cell_type": "code",
   "execution_count": 27,
   "metadata": {
    "scrolled": true
   },
   "outputs": [
    {
     "name": "stdout",
     "output_type": "stream",
     "text": [
      "Прибыльность 200 лучших скважин 2-го региона 2710 млн.\n"
     ]
    }
   ],
   "source": [
    "profit_2 = profit(target_valid_2, reg_2_predictions_valid, 200)\n",
    "print(\"Прибыльность 200 лучших скважин 2-го региона\", round(profit_2/1000000), \"млн.\")"
   ]
  },
  {
   "cell_type": "markdown",
   "metadata": {},
   "source": [
    "Нулевой регион является наиболее богатым минералами местом. Регион 2, обладает 2710 млн запасов нефти. В первом регионе меньше всего ресурсов."
   ]
  },
  {
   "cell_type": "markdown",
   "metadata": {},
   "source": [
    "Функция для расчетов вероятности убытков с применением техники Bootstrap."
   ]
  },
  {
   "cell_type": "code",
   "execution_count": 28,
   "metadata": {
    "scrolled": false
   },
   "outputs": [
    {
     "data": {
      "text/plain": [
       "'Для нулевого месторождения'"
      ]
     },
     "metadata": {},
     "output_type": "display_data"
    },
    {
     "name": "stdout",
     "output_type": "stream",
     "text": [
      "Вероятность убытков 7.6000000000000005 %\n",
      "Среднее значение Bootstrap 403.535244261165 млн.\n",
      "Верхняя граница доверительного интервала 931574367.5508461\n",
      "Нижняя граница доверительного интервала -118327362.12311177\n",
      "\n"
     ]
    },
    {
     "data": {
      "text/plain": [
       "'Для первого месторождения'"
      ]
     },
     "metadata": {},
     "output_type": "display_data"
    },
    {
     "name": "stdout",
     "output_type": "stream",
     "text": [
      "Вероятность убытков 1.7000000000000002 %\n",
      "Среднее значение Bootstrap 465.04105822107704 млн.\n",
      "Верхняя граница доверительного интервала 864388463.3254703\n",
      "Нижняя граница доверительного интервала 32036742.850023583\n",
      "\n"
     ]
    },
    {
     "data": {
      "text/plain": [
       "'Для второго месторождения'"
      ]
     },
     "metadata": {},
     "output_type": "display_data"
    },
    {
     "name": "stdout",
     "output_type": "stream",
     "text": [
      "Вероятность убытков 7.9 %\n",
      "Среднее значение Bootstrap 414.20972284096746 млн.\n",
      "Верхняя граница доверительного интервала 972339167.9202834\n",
      "Нижняя граница доверительного интервала -148373898.68249217\n",
      "\n"
     ]
    }
   ],
   "source": [
    "def boots (target, predictions):\n",
    "    state = np.random.RandomState(12345)\n",
    "    values = []\n",
    "    counter=0\n",
    "    for i in range(1000):\n",
    "        target_subsample = target.sample(n=500, replace=True, random_state=state)\n",
    "        preds_subsample = predictions[target_subsample.index]\n",
    "        \n",
    "        values.append(profit(target_subsample, preds_subsample, 500))\n",
    "        \n",
    "    values = pd.Series(values)\n",
    "    lower = values.quantile(0.025)\n",
    "    higher = values.quantile(0.975)\n",
    "    \n",
    "    \n",
    "    print('Вероятность убытков', stats.percentileofscore(values, 1.0),'%')\n",
    "    print(\"Среднее значение Bootstrap\", (values.mean())/1000000, \"млн.\")\n",
    "    print(\"Верхняя граница доверительного интервала\", higher)\n",
    "    print(\"Нижняя граница доверительного интервала\", lower)\n",
    "    print()\n",
    "display(\"Для нулевого месторождения\")\n",
    "boots(target_valid_0, reg_0_predictions_valid)\n",
    "display()\n",
    "display(\"Для первого месторождения\")\n",
    "boots(target_valid_1, reg_1_predictions_valid)\n",
    "display()\n",
    "display(\"Для второго месторождения\")\n",
    "boots(target_valid_2, reg_2_predictions_valid)"
   ]
  },
  {
   "cell_type": "markdown",
   "metadata": {},
   "source": [
    "Обработаны данные и выявлены риски. Уровень вероятности убытков в нулевом и втором регионах слишком велик (7.6% и 7.9% соответственно). Таким образом наиболее перспективным и безопасным месторождением является **первое** с вероятностью 1.7% убытков. Средний запас сырья этого региона равен 68.723 т баррелей. Ожидаемая прибыль 200 лучших скважин в регионе равна 2415 млн рублей. Также наилучший результат RSME выявлен в первом регионе"
   ]
  },
  {
   "cell_type": "markdown",
   "metadata": {},
   "source": [
    "## Чек-лист готовности проекта"
   ]
  },
  {
   "cell_type": "markdown",
   "metadata": {},
   "source": [
    "Поставьте 'x' в выполненных пунктах. Далее нажмите Shift+Enter."
   ]
  },
  {
   "cell_type": "markdown",
   "metadata": {},
   "source": [
    "- [x]  Jupyter Notebook открыт\n",
    "- [x]  Весь код выполняется без ошибок\n",
    "- [x]  Ячейки с кодом расположены в порядке исполнения\n",
    "- [x]  Выполнен шаг 1: данные подготовлены\n",
    "- [x]  Выполнен шаг 2: модели обучены и проверены\n",
    "    - [x]  Данные корректно разбиты на обучающую и валидационную выборки\n",
    "    - [x]  Модели обучены, предсказания сделаны\n",
    "    - [x]  Предсказания и правильные ответы на валидационной выборке сохранены\n",
    "    - [x]  На экране напечатаны результаты\n",
    "    - [x]  Сделаны выводы\n",
    "- [x]  Выполнен шаг 3: проведена подготовка к расчёту прибыли\n",
    "    - [x]  Для всех ключевых значений созданы константы Python\n",
    "    - [x]  Посчитано минимальное среднее количество продукта в месторождениях региона, достаточное для разработки\n",
    "    - [x]  По предыдущему пункту сделаны выводы\n",
    "    - [x]  Написана функция расчёта прибыли\n",
    "- [x]  Выполнен шаг 4: посчитаны риски и прибыль\n",
    "    - [x]  Проведена процедура *Bootstrap*\n",
    "    - [x]  Все параметры бутстрепа соответствуют условию\n",
    "    - [x]  Найдены все нужные величины\n",
    "    - [x]  Предложен регион для разработки месторождения\n",
    "    - [x]  Выбор региона обоснован"
   ]
  }
 ],
 "metadata": {
  "ExecuteTimeLog": [
   {
    "duration": 1557,
    "start_time": "2023-01-02T17:51:34.027Z"
   },
   {
    "duration": 745,
    "start_time": "2023-01-02T17:53:13.110Z"
   },
   {
    "duration": 46,
    "start_time": "2023-01-02T17:54:57.350Z"
   },
   {
    "duration": 53,
    "start_time": "2023-01-02T17:55:09.555Z"
   },
   {
    "duration": 39,
    "start_time": "2023-01-02T17:55:24.438Z"
   },
   {
    "duration": 54,
    "start_time": "2023-01-02T17:55:30.351Z"
   },
   {
    "duration": 37,
    "start_time": "2023-01-02T17:55:38.186Z"
   },
   {
    "duration": 48,
    "start_time": "2023-01-05T17:37:02.610Z"
   },
   {
    "duration": 1370,
    "start_time": "2023-01-05T17:37:07.969Z"
   },
   {
    "duration": 697,
    "start_time": "2023-01-05T17:37:09.341Z"
   },
   {
    "duration": 39,
    "start_time": "2023-01-05T17:37:10.040Z"
   },
   {
    "duration": 23,
    "start_time": "2023-01-05T17:37:10.081Z"
   },
   {
    "duration": 33,
    "start_time": "2023-01-05T17:39:34.664Z"
   },
   {
    "duration": 37,
    "start_time": "2023-01-05T17:40:14.233Z"
   },
   {
    "duration": 89,
    "start_time": "2023-01-05T17:41:44.241Z"
   },
   {
    "duration": 43,
    "start_time": "2023-01-05T17:45:12.865Z"
   },
   {
    "duration": 138,
    "start_time": "2023-01-05T17:45:26.337Z"
   },
   {
    "duration": 12,
    "start_time": "2023-01-05T17:48:22.144Z"
   },
   {
    "duration": 23,
    "start_time": "2023-01-05T17:49:21.297Z"
   },
   {
    "duration": 108,
    "start_time": "2023-01-05T18:05:41.441Z"
   },
   {
    "duration": 15,
    "start_time": "2023-01-05T18:05:49.140Z"
   },
   {
    "duration": 10,
    "start_time": "2023-01-05T18:05:58.736Z"
   },
   {
    "duration": 14,
    "start_time": "2023-01-05T18:06:28.024Z"
   },
   {
    "duration": 11,
    "start_time": "2023-01-05T18:06:42.388Z"
   },
   {
    "duration": 8,
    "start_time": "2023-01-05T18:06:53.064Z"
   },
   {
    "duration": 7,
    "start_time": "2023-01-05T18:07:02.888Z"
   },
   {
    "duration": 5,
    "start_time": "2023-01-05T18:07:09.100Z"
   },
   {
    "duration": 7,
    "start_time": "2023-01-05T18:07:21.644Z"
   },
   {
    "duration": 46,
    "start_time": "2023-01-05T18:07:32.364Z"
   },
   {
    "duration": 6,
    "start_time": "2023-01-05T18:07:44.177Z"
   },
   {
    "duration": 6,
    "start_time": "2023-01-05T18:07:51.876Z"
   },
   {
    "duration": 5,
    "start_time": "2023-01-05T18:08:40.413Z"
   },
   {
    "duration": 307,
    "start_time": "2023-01-05T18:10:48.808Z"
   },
   {
    "duration": 9,
    "start_time": "2023-01-05T18:11:19.180Z"
   },
   {
    "duration": 296,
    "start_time": "2023-01-05T18:11:24.469Z"
   },
   {
    "duration": 382,
    "start_time": "2023-01-05T18:15:09.501Z"
   },
   {
    "duration": 349,
    "start_time": "2023-01-05T18:15:10.894Z"
   },
   {
    "duration": 310,
    "start_time": "2023-01-05T18:15:14.036Z"
   },
   {
    "duration": 1771,
    "start_time": "2023-01-07T15:35:15.160Z"
   },
   {
    "duration": 1679,
    "start_time": "2023-01-07T15:35:16.933Z"
   },
   {
    "duration": 31,
    "start_time": "2023-01-07T15:35:18.614Z"
   },
   {
    "duration": 45,
    "start_time": "2023-01-07T15:35:18.648Z"
   },
   {
    "duration": 158,
    "start_time": "2023-01-07T15:35:18.694Z"
   },
   {
    "duration": 211,
    "start_time": "2023-01-07T15:35:18.855Z"
   },
   {
    "duration": 27,
    "start_time": "2023-01-07T15:35:19.068Z"
   },
   {
    "duration": 18,
    "start_time": "2023-01-07T15:35:19.097Z"
   },
   {
    "duration": 7,
    "start_time": "2023-01-07T15:35:19.137Z"
   },
   {
    "duration": 390,
    "start_time": "2023-01-07T15:35:19.147Z"
   },
   {
    "duration": 385,
    "start_time": "2023-01-07T15:35:19.539Z"
   },
   {
    "duration": 470,
    "start_time": "2023-01-07T15:35:19.926Z"
   },
   {
    "duration": 4,
    "start_time": "2023-01-07T15:35:20.397Z"
   },
   {
    "duration": 26,
    "start_time": "2023-01-07T15:37:26.649Z"
   },
   {
    "duration": 115,
    "start_time": "2023-01-07T15:42:42.001Z"
   },
   {
    "duration": 17,
    "start_time": "2023-01-07T15:44:27.177Z"
   },
   {
    "duration": 5,
    "start_time": "2023-01-07T15:51:15.483Z"
   },
   {
    "duration": 77,
    "start_time": "2023-01-07T15:52:40.266Z"
   },
   {
    "duration": 79,
    "start_time": "2023-01-07T15:52:50.784Z"
   },
   {
    "duration": 8,
    "start_time": "2023-01-07T15:52:58.461Z"
   },
   {
    "duration": 9,
    "start_time": "2023-01-07T15:53:20.168Z"
   },
   {
    "duration": 1555,
    "start_time": "2023-01-08T15:59:09.856Z"
   },
   {
    "duration": 1244,
    "start_time": "2023-01-08T15:59:11.413Z"
   },
   {
    "duration": 28,
    "start_time": "2023-01-08T15:59:12.659Z"
   },
   {
    "duration": 62,
    "start_time": "2023-01-08T15:59:12.690Z"
   },
   {
    "duration": 123,
    "start_time": "2023-01-08T15:59:12.755Z"
   },
   {
    "duration": 156,
    "start_time": "2023-01-08T15:59:12.880Z"
   },
   {
    "duration": 30,
    "start_time": "2023-01-08T15:59:13.038Z"
   },
   {
    "duration": 17,
    "start_time": "2023-01-08T15:59:13.069Z"
   },
   {
    "duration": 29,
    "start_time": "2023-01-08T15:59:13.088Z"
   },
   {
    "duration": 384,
    "start_time": "2023-01-08T15:59:13.122Z"
   },
   {
    "duration": 394,
    "start_time": "2023-01-08T15:59:13.508Z"
   },
   {
    "duration": 521,
    "start_time": "2023-01-08T15:59:13.905Z"
   },
   {
    "duration": 27,
    "start_time": "2023-01-08T15:59:14.428Z"
   },
   {
    "duration": 13,
    "start_time": "2023-01-08T15:59:14.457Z"
   },
   {
    "duration": 11,
    "start_time": "2023-01-08T15:59:14.472Z"
   },
   {
    "duration": 141,
    "start_time": "2023-01-08T15:59:14.485Z"
   },
   {
    "duration": 28,
    "start_time": "2023-01-08T16:01:40.013Z"
   },
   {
    "duration": 18,
    "start_time": "2023-01-08T16:04:39.749Z"
   },
   {
    "duration": 23,
    "start_time": "2023-01-08T16:04:51.779Z"
   },
   {
    "duration": 23,
    "start_time": "2023-01-08T16:05:01.110Z"
   },
   {
    "duration": 32,
    "start_time": "2023-01-08T16:06:42.333Z"
   },
   {
    "duration": 47,
    "start_time": "2023-01-08T16:07:25.700Z"
   },
   {
    "duration": 10,
    "start_time": "2023-01-08T16:11:42.351Z"
   },
   {
    "duration": 39,
    "start_time": "2023-01-08T16:22:48.180Z"
   },
   {
    "duration": 25,
    "start_time": "2023-01-08T16:24:11.829Z"
   },
   {
    "duration": 27,
    "start_time": "2023-01-08T16:24:59.037Z"
   },
   {
    "duration": 62,
    "start_time": "2023-01-08T16:26:31.171Z"
   },
   {
    "duration": 26,
    "start_time": "2023-01-08T16:29:47.239Z"
   },
   {
    "duration": 38,
    "start_time": "2023-01-08T16:30:23.380Z"
   },
   {
    "duration": 14,
    "start_time": "2023-01-08T16:33:24.561Z"
   },
   {
    "duration": 45,
    "start_time": "2023-01-08T16:33:28.451Z"
   },
   {
    "duration": 104,
    "start_time": "2023-01-08T16:33:30.810Z"
   },
   {
    "duration": 14,
    "start_time": "2023-01-08T16:33:32.393Z"
   },
   {
    "duration": 25,
    "start_time": "2023-01-08T16:33:37.737Z"
   },
   {
    "duration": 1584,
    "start_time": "2023-01-09T10:33:26.409Z"
   },
   {
    "duration": 854,
    "start_time": "2023-01-09T10:33:27.995Z"
   },
   {
    "duration": 26,
    "start_time": "2023-01-09T10:33:28.851Z"
   },
   {
    "duration": 58,
    "start_time": "2023-01-09T10:33:28.879Z"
   },
   {
    "duration": 120,
    "start_time": "2023-01-09T10:33:28.939Z"
   },
   {
    "duration": 149,
    "start_time": "2023-01-09T10:33:29.061Z"
   },
   {
    "duration": 34,
    "start_time": "2023-01-09T10:33:29.212Z"
   },
   {
    "duration": 17,
    "start_time": "2023-01-09T10:33:29.248Z"
   },
   {
    "duration": 14,
    "start_time": "2023-01-09T10:33:29.267Z"
   },
   {
    "duration": 401,
    "start_time": "2023-01-09T10:33:29.283Z"
   },
   {
    "duration": 375,
    "start_time": "2023-01-09T10:33:29.686Z"
   },
   {
    "duration": 490,
    "start_time": "2023-01-09T10:33:30.062Z"
   },
   {
    "duration": 24,
    "start_time": "2023-01-09T10:33:30.554Z"
   },
   {
    "duration": 40,
    "start_time": "2023-01-09T10:33:30.582Z"
   },
   {
    "duration": 29,
    "start_time": "2023-01-09T10:33:30.624Z"
   },
   {
    "duration": 74,
    "start_time": "2023-01-09T10:33:30.654Z"
   },
   {
    "duration": 116,
    "start_time": "2023-01-09T10:33:30.729Z"
   },
   {
    "duration": 202,
    "start_time": "2023-01-09T10:33:30.942Z"
   },
   {
    "duration": 119,
    "start_time": "2023-01-09T10:33:31.146Z"
   },
   {
    "duration": 76,
    "start_time": "2023-01-09T10:33:31.267Z"
   },
   {
    "duration": 3,
    "start_time": "2023-01-09T10:35:31.171Z"
   },
   {
    "duration": 4,
    "start_time": "2023-01-09T10:35:41.643Z"
   },
   {
    "duration": 3,
    "start_time": "2023-01-09T10:36:18.680Z"
   },
   {
    "duration": 3,
    "start_time": "2023-01-09T10:36:38.440Z"
   },
   {
    "duration": 3,
    "start_time": "2023-01-09T10:39:57.119Z"
   },
   {
    "duration": 3,
    "start_time": "2023-01-09T10:40:06.222Z"
   },
   {
    "duration": 3,
    "start_time": "2023-01-09T10:41:11.072Z"
   },
   {
    "duration": 4,
    "start_time": "2023-01-09T10:41:13.631Z"
   },
   {
    "duration": 109,
    "start_time": "2023-01-09T10:41:41.047Z"
   },
   {
    "duration": 9,
    "start_time": "2023-01-09T10:42:30.463Z"
   },
   {
    "duration": 3,
    "start_time": "2023-01-09T10:42:37.528Z"
   },
   {
    "duration": 3,
    "start_time": "2023-01-09T10:42:47.608Z"
   },
   {
    "duration": 4,
    "start_time": "2023-01-09T10:43:09.367Z"
   },
   {
    "duration": 4,
    "start_time": "2023-01-09T10:43:10.158Z"
   },
   {
    "duration": 5,
    "start_time": "2023-01-09T10:43:10.926Z"
   },
   {
    "duration": 5,
    "start_time": "2023-01-09T10:43:23.105Z"
   },
   {
    "duration": 9,
    "start_time": "2023-01-09T10:43:41.894Z"
   },
   {
    "duration": 3,
    "start_time": "2023-01-09T10:45:43.104Z"
   },
   {
    "duration": 5,
    "start_time": "2023-01-09T10:46:00.305Z"
   },
   {
    "duration": 9,
    "start_time": "2023-01-09T10:47:51.174Z"
   },
   {
    "duration": 7,
    "start_time": "2023-01-09T10:47:59.150Z"
   },
   {
    "duration": 8,
    "start_time": "2023-01-09T10:48:04.143Z"
   },
   {
    "duration": 5,
    "start_time": "2023-01-09T10:56:22.600Z"
   },
   {
    "duration": 10,
    "start_time": "2023-01-09T10:57:25.392Z"
   },
   {
    "duration": 9,
    "start_time": "2023-01-09T10:59:42.051Z"
   },
   {
    "duration": 12,
    "start_time": "2023-01-09T11:00:05.221Z"
   },
   {
    "duration": 20,
    "start_time": "2023-01-09T11:00:19.438Z"
   },
   {
    "duration": 14,
    "start_time": "2023-01-09T11:01:21.490Z"
   },
   {
    "duration": 15,
    "start_time": "2023-01-09T11:01:55.366Z"
   },
   {
    "duration": 3,
    "start_time": "2023-01-09T11:05:24.717Z"
   },
   {
    "duration": 13,
    "start_time": "2023-01-09T11:05:26.389Z"
   },
   {
    "duration": 3,
    "start_time": "2023-01-09T11:07:08.368Z"
   },
   {
    "duration": 3,
    "start_time": "2023-01-09T11:07:09.070Z"
   },
   {
    "duration": 14,
    "start_time": "2023-01-09T11:07:10.265Z"
   },
   {
    "duration": 5,
    "start_time": "2023-01-09T11:10:50.688Z"
   },
   {
    "duration": 3,
    "start_time": "2023-01-09T11:10:55.965Z"
   },
   {
    "duration": 4,
    "start_time": "2023-01-09T11:10:57.364Z"
   },
   {
    "duration": 3,
    "start_time": "2023-01-09T11:10:59.140Z"
   },
   {
    "duration": 15,
    "start_time": "2023-01-09T11:11:06.924Z"
   },
   {
    "duration": 13,
    "start_time": "2023-01-09T11:11:37.364Z"
   },
   {
    "duration": 3,
    "start_time": "2023-01-09T11:12:10.677Z"
   },
   {
    "duration": 3,
    "start_time": "2023-01-09T11:12:15.508Z"
   },
   {
    "duration": 4,
    "start_time": "2023-01-09T11:12:16.152Z"
   },
   {
    "duration": 4,
    "start_time": "2023-01-09T11:12:16.779Z"
   },
   {
    "duration": 13,
    "start_time": "2023-01-09T11:12:17.524Z"
   },
   {
    "duration": 1390,
    "start_time": "2023-01-09T11:17:56.390Z"
   },
   {
    "duration": 355,
    "start_time": "2023-01-09T11:17:57.782Z"
   },
   {
    "duration": 24,
    "start_time": "2023-01-09T11:17:58.139Z"
   },
   {
    "duration": 38,
    "start_time": "2023-01-09T11:17:58.165Z"
   },
   {
    "duration": 134,
    "start_time": "2023-01-09T11:17:58.205Z"
   },
   {
    "duration": 136,
    "start_time": "2023-01-09T11:17:58.340Z"
   },
   {
    "duration": 26,
    "start_time": "2023-01-09T11:17:58.478Z"
   },
   {
    "duration": 33,
    "start_time": "2023-01-09T11:17:58.505Z"
   },
   {
    "duration": 6,
    "start_time": "2023-01-09T11:17:58.539Z"
   },
   {
    "duration": 371,
    "start_time": "2023-01-09T11:17:58.548Z"
   },
   {
    "duration": 353,
    "start_time": "2023-01-09T11:17:58.921Z"
   },
   {
    "duration": 335,
    "start_time": "2023-01-09T11:17:59.276Z"
   },
   {
    "duration": 28,
    "start_time": "2023-01-09T11:17:59.613Z"
   },
   {
    "duration": 97,
    "start_time": "2023-01-09T11:17:59.643Z"
   },
   {
    "duration": 17,
    "start_time": "2023-01-09T11:17:59.741Z"
   },
   {
    "duration": 42,
    "start_time": "2023-01-09T11:17:59.760Z"
   },
   {
    "duration": 35,
    "start_time": "2023-01-09T11:17:59.804Z"
   },
   {
    "duration": 201,
    "start_time": "2023-01-09T11:17:59.841Z"
   },
   {
    "duration": 202,
    "start_time": "2023-01-09T11:18:00.044Z"
   },
   {
    "duration": 224,
    "start_time": "2023-01-09T11:18:00.249Z"
   },
   {
    "duration": 71,
    "start_time": "2023-01-09T11:18:00.474Z"
   },
   {
    "duration": 28,
    "start_time": "2023-01-09T11:18:00.547Z"
   },
   {
    "duration": 32,
    "start_time": "2023-01-09T11:18:00.577Z"
   },
   {
    "duration": 34,
    "start_time": "2023-01-09T11:18:00.610Z"
   },
   {
    "duration": 128,
    "start_time": "2023-01-09T11:18:00.646Z"
   },
   {
    "duration": 4,
    "start_time": "2023-01-09T11:18:49.229Z"
   },
   {
    "duration": 4,
    "start_time": "2023-01-09T11:18:50.115Z"
   },
   {
    "duration": 3,
    "start_time": "2023-01-09T11:18:50.872Z"
   },
   {
    "duration": 9,
    "start_time": "2023-01-09T11:18:51.805Z"
   },
   {
    "duration": 9,
    "start_time": "2023-01-09T11:20:01.112Z"
   },
   {
    "duration": 9,
    "start_time": "2023-01-09T11:23:56.360Z"
   },
   {
    "duration": 8,
    "start_time": "2023-01-09T11:24:10.161Z"
   },
   {
    "duration": 10,
    "start_time": "2023-01-09T11:24:23.996Z"
   },
   {
    "duration": 10,
    "start_time": "2023-01-09T11:24:46.158Z"
   },
   {
    "duration": 14,
    "start_time": "2023-01-09T11:26:07.192Z"
   },
   {
    "duration": 5,
    "start_time": "2023-01-09T11:26:13.648Z"
   },
   {
    "duration": 3,
    "start_time": "2023-01-09T11:26:14.438Z"
   },
   {
    "duration": 16,
    "start_time": "2023-01-09T11:26:15.141Z"
   },
   {
    "duration": 4,
    "start_time": "2023-01-09T11:26:26.384Z"
   },
   {
    "duration": 5,
    "start_time": "2023-01-09T11:26:26.926Z"
   },
   {
    "duration": 4,
    "start_time": "2023-01-09T11:26:27.544Z"
   },
   {
    "duration": 10,
    "start_time": "2023-01-09T11:26:28.192Z"
   },
   {
    "duration": 9,
    "start_time": "2023-01-09T11:26:45.497Z"
   },
   {
    "duration": 4,
    "start_time": "2023-01-09T11:30:36.503Z"
   },
   {
    "duration": 4,
    "start_time": "2023-01-09T11:30:36.924Z"
   },
   {
    "duration": 4,
    "start_time": "2023-01-09T11:30:37.384Z"
   },
   {
    "duration": 10,
    "start_time": "2023-01-09T11:30:37.797Z"
   },
   {
    "duration": 1317,
    "start_time": "2023-01-09T11:30:47.156Z"
   },
   {
    "duration": 361,
    "start_time": "2023-01-09T11:30:48.475Z"
   },
   {
    "duration": 26,
    "start_time": "2023-01-09T11:30:48.838Z"
   },
   {
    "duration": 42,
    "start_time": "2023-01-09T11:30:48.866Z"
   },
   {
    "duration": 149,
    "start_time": "2023-01-09T11:30:48.910Z"
   },
   {
    "duration": 175,
    "start_time": "2023-01-09T11:30:49.061Z"
   },
   {
    "duration": 27,
    "start_time": "2023-01-09T11:30:49.238Z"
   },
   {
    "duration": 18,
    "start_time": "2023-01-09T11:30:49.267Z"
   },
   {
    "duration": 36,
    "start_time": "2023-01-09T11:30:49.287Z"
   },
   {
    "duration": 379,
    "start_time": "2023-01-09T11:30:49.325Z"
   },
   {
    "duration": 375,
    "start_time": "2023-01-09T11:30:49.705Z"
   },
   {
    "duration": 466,
    "start_time": "2023-01-09T11:30:50.083Z"
   },
   {
    "duration": 26,
    "start_time": "2023-01-09T11:30:50.551Z"
   },
   {
    "duration": 14,
    "start_time": "2023-01-09T11:30:50.580Z"
   },
   {
    "duration": 32,
    "start_time": "2023-01-09T11:30:50.596Z"
   },
   {
    "duration": 45,
    "start_time": "2023-01-09T11:30:50.630Z"
   },
   {
    "duration": 259,
    "start_time": "2023-01-09T11:30:50.676Z"
   },
   {
    "duration": 0,
    "start_time": "2023-01-09T11:30:50.937Z"
   },
   {
    "duration": 0,
    "start_time": "2023-01-09T11:30:50.938Z"
   },
   {
    "duration": 0,
    "start_time": "2023-01-09T11:30:50.940Z"
   },
   {
    "duration": 0,
    "start_time": "2023-01-09T11:30:50.941Z"
   },
   {
    "duration": 0,
    "start_time": "2023-01-09T11:30:50.942Z"
   },
   {
    "duration": 0,
    "start_time": "2023-01-09T11:30:50.943Z"
   },
   {
    "duration": 0,
    "start_time": "2023-01-09T11:30:50.944Z"
   },
   {
    "duration": 0,
    "start_time": "2023-01-09T11:30:50.945Z"
   },
   {
    "duration": 1403,
    "start_time": "2023-01-09T11:32:41.201Z"
   },
   {
    "duration": 396,
    "start_time": "2023-01-09T11:32:42.607Z"
   },
   {
    "duration": 36,
    "start_time": "2023-01-09T11:32:43.005Z"
   },
   {
    "duration": 52,
    "start_time": "2023-01-09T11:32:43.043Z"
   },
   {
    "duration": 153,
    "start_time": "2023-01-09T11:32:43.097Z"
   },
   {
    "duration": 151,
    "start_time": "2023-01-09T11:32:43.252Z"
   },
   {
    "duration": 42,
    "start_time": "2023-01-09T11:32:43.404Z"
   },
   {
    "duration": 17,
    "start_time": "2023-01-09T11:32:43.448Z"
   },
   {
    "duration": 16,
    "start_time": "2023-01-09T11:32:43.467Z"
   },
   {
    "duration": 398,
    "start_time": "2023-01-09T11:32:43.487Z"
   },
   {
    "duration": 396,
    "start_time": "2023-01-09T11:32:43.887Z"
   },
   {
    "duration": 437,
    "start_time": "2023-01-09T11:32:44.285Z"
   },
   {
    "duration": 29,
    "start_time": "2023-01-09T11:32:44.723Z"
   },
   {
    "duration": 15,
    "start_time": "2023-01-09T11:32:44.754Z"
   },
   {
    "duration": 18,
    "start_time": "2023-01-09T11:32:44.771Z"
   },
   {
    "duration": 48,
    "start_time": "2023-01-09T11:32:44.790Z"
   },
   {
    "duration": 95,
    "start_time": "2023-01-09T11:32:44.840Z"
   },
   {
    "duration": 114,
    "start_time": "2023-01-09T11:32:44.937Z"
   },
   {
    "duration": 186,
    "start_time": "2023-01-09T11:32:45.054Z"
   },
   {
    "duration": 198,
    "start_time": "2023-01-09T11:32:45.242Z"
   },
   {
    "duration": 8,
    "start_time": "2023-01-09T11:32:45.442Z"
   },
   {
    "duration": 11,
    "start_time": "2023-01-09T11:32:45.451Z"
   },
   {
    "duration": 10,
    "start_time": "2023-01-09T11:32:45.464Z"
   },
   {
    "duration": 31,
    "start_time": "2023-01-09T11:32:45.476Z"
   },
   {
    "duration": 119,
    "start_time": "2023-01-09T11:32:45.509Z"
   },
   {
    "duration": 6,
    "start_time": "2023-01-09T12:34:38.406Z"
   },
   {
    "duration": 14,
    "start_time": "2023-01-09T12:35:15.660Z"
   },
   {
    "duration": 11,
    "start_time": "2023-01-09T12:39:10.311Z"
   },
   {
    "duration": 13,
    "start_time": "2023-01-09T12:40:29.221Z"
   },
   {
    "duration": 7,
    "start_time": "2023-01-09T12:41:30.343Z"
   },
   {
    "duration": 23,
    "start_time": "2023-01-09T12:41:31.429Z"
   },
   {
    "duration": 4,
    "start_time": "2023-01-09T12:49:22.629Z"
   },
   {
    "duration": 12,
    "start_time": "2023-01-09T12:50:11.846Z"
   },
   {
    "duration": 10,
    "start_time": "2023-01-09T12:52:23.940Z"
   },
   {
    "duration": 10,
    "start_time": "2023-01-09T12:53:59.278Z"
   },
   {
    "duration": 4,
    "start_time": "2023-01-09T12:54:09.466Z"
   },
   {
    "duration": 10,
    "start_time": "2023-01-09T12:54:24.155Z"
   },
   {
    "duration": 7,
    "start_time": "2023-01-09T12:54:33.606Z"
   },
   {
    "duration": 10,
    "start_time": "2023-01-09T12:56:13.030Z"
   },
   {
    "duration": 8,
    "start_time": "2023-01-09T12:56:15.188Z"
   },
   {
    "duration": 3,
    "start_time": "2023-01-09T12:56:19.062Z"
   },
   {
    "duration": 5,
    "start_time": "2023-01-09T12:56:19.999Z"
   },
   {
    "duration": 3,
    "start_time": "2023-01-09T12:56:21.853Z"
   },
   {
    "duration": 9,
    "start_time": "2023-01-09T12:56:22.583Z"
   },
   {
    "duration": 8,
    "start_time": "2023-01-09T12:59:32.562Z"
   },
   {
    "duration": 8,
    "start_time": "2023-01-09T12:59:52.942Z"
   },
   {
    "duration": 7,
    "start_time": "2023-01-09T13:00:22.998Z"
   },
   {
    "duration": 1154,
    "start_time": "2023-01-09T13:06:30.692Z"
   },
   {
    "duration": 1449,
    "start_time": "2023-01-09T13:08:17.742Z"
   },
   {
    "duration": 423,
    "start_time": "2023-01-09T13:08:19.195Z"
   },
   {
    "duration": 36,
    "start_time": "2023-01-09T13:08:19.620Z"
   },
   {
    "duration": 44,
    "start_time": "2023-01-09T13:08:19.658Z"
   },
   {
    "duration": 147,
    "start_time": "2023-01-09T13:08:19.704Z"
   },
   {
    "duration": 160,
    "start_time": "2023-01-09T13:08:19.853Z"
   },
   {
    "duration": 43,
    "start_time": "2023-01-09T13:08:20.015Z"
   },
   {
    "duration": 14,
    "start_time": "2023-01-09T13:08:20.060Z"
   },
   {
    "duration": 28,
    "start_time": "2023-01-09T13:08:20.076Z"
   },
   {
    "duration": 385,
    "start_time": "2023-01-09T13:08:20.105Z"
   },
   {
    "duration": 386,
    "start_time": "2023-01-09T13:08:20.492Z"
   },
   {
    "duration": 380,
    "start_time": "2023-01-09T13:08:20.880Z"
   },
   {
    "duration": 30,
    "start_time": "2023-01-09T13:08:21.263Z"
   },
   {
    "duration": 114,
    "start_time": "2023-01-09T13:08:21.296Z"
   },
   {
    "duration": 14,
    "start_time": "2023-01-09T13:08:21.412Z"
   },
   {
    "duration": 43,
    "start_time": "2023-01-09T13:08:21.436Z"
   },
   {
    "duration": 59,
    "start_time": "2023-01-09T13:08:21.481Z"
   },
   {
    "duration": 105,
    "start_time": "2023-01-09T13:08:21.543Z"
   },
   {
    "duration": 195,
    "start_time": "2023-01-09T13:08:21.650Z"
   },
   {
    "duration": 113,
    "start_time": "2023-01-09T13:08:21.934Z"
   },
   {
    "duration": 7,
    "start_time": "2023-01-09T13:08:22.049Z"
   },
   {
    "duration": 5,
    "start_time": "2023-01-09T13:08:22.058Z"
   },
   {
    "duration": 11,
    "start_time": "2023-01-09T13:08:22.065Z"
   },
   {
    "duration": 15,
    "start_time": "2023-01-09T13:08:22.078Z"
   },
   {
    "duration": 10,
    "start_time": "2023-01-09T13:08:22.095Z"
   },
   {
    "duration": 30,
    "start_time": "2023-01-09T13:08:22.107Z"
   },
   {
    "duration": 8,
    "start_time": "2023-01-09T13:08:22.138Z"
   },
   {
    "duration": 1344,
    "start_time": "2023-01-09T13:08:22.148Z"
   },
   {
    "duration": 1166,
    "start_time": "2023-01-09T13:09:53.632Z"
   },
   {
    "duration": 3564,
    "start_time": "2023-01-09T13:10:51.825Z"
   },
   {
    "duration": 3484,
    "start_time": "2023-01-09T13:11:15.888Z"
   },
   {
    "duration": 1303,
    "start_time": "2023-01-09T13:11:55.687Z"
   },
   {
    "duration": 1155,
    "start_time": "2023-01-09T13:12:10.559Z"
   },
   {
    "duration": 3648,
    "start_time": "2023-01-09T13:12:18.687Z"
   },
   {
    "duration": 74,
    "start_time": "2023-01-09T13:15:15.402Z"
   },
   {
    "duration": 1132,
    "start_time": "2023-01-09T13:15:26.079Z"
   },
   {
    "duration": 1134,
    "start_time": "2023-01-09T13:15:47.463Z"
   },
   {
    "duration": 57,
    "start_time": "2023-01-09T13:16:21.953Z"
   },
   {
    "duration": 3531,
    "start_time": "2023-01-09T13:16:35.316Z"
   },
   {
    "duration": 1168,
    "start_time": "2023-01-09T13:19:29.110Z"
   },
   {
    "duration": 1121,
    "start_time": "2023-01-09T13:21:29.323Z"
   },
   {
    "duration": 94,
    "start_time": "2023-01-09T13:23:09.257Z"
   },
   {
    "duration": 94,
    "start_time": "2023-01-09T13:23:14.303Z"
   },
   {
    "duration": 1175,
    "start_time": "2023-01-09T13:23:57.439Z"
   },
   {
    "duration": 57,
    "start_time": "2023-01-09T13:26:04.634Z"
   },
   {
    "duration": 60,
    "start_time": "2023-01-09T13:26:15.027Z"
   },
   {
    "duration": 3609,
    "start_time": "2023-01-09T13:28:36.019Z"
   },
   {
    "duration": 3485,
    "start_time": "2023-01-09T13:28:50.458Z"
   },
   {
    "duration": 3720,
    "start_time": "2023-01-09T13:29:40.671Z"
   },
   {
    "duration": 3691,
    "start_time": "2023-01-09T13:29:50.031Z"
   },
   {
    "duration": 3680,
    "start_time": "2023-01-09T13:31:19.547Z"
   },
   {
    "duration": 1465,
    "start_time": "2023-01-09T13:35:49.059Z"
   },
   {
    "duration": 370,
    "start_time": "2023-01-09T13:35:50.526Z"
   },
   {
    "duration": 41,
    "start_time": "2023-01-09T13:35:50.898Z"
   },
   {
    "duration": 46,
    "start_time": "2023-01-09T13:35:50.941Z"
   },
   {
    "duration": 133,
    "start_time": "2023-01-09T13:35:50.990Z"
   },
   {
    "duration": 155,
    "start_time": "2023-01-09T13:35:51.125Z"
   },
   {
    "duration": 26,
    "start_time": "2023-01-09T13:35:51.282Z"
   },
   {
    "duration": 32,
    "start_time": "2023-01-09T13:35:51.310Z"
   },
   {
    "duration": 30,
    "start_time": "2023-01-09T13:35:51.344Z"
   },
   {
    "duration": 405,
    "start_time": "2023-01-09T13:35:51.376Z"
   },
   {
    "duration": 388,
    "start_time": "2023-01-09T13:35:51.782Z"
   },
   {
    "duration": 468,
    "start_time": "2023-01-09T13:35:52.172Z"
   },
   {
    "duration": 40,
    "start_time": "2023-01-09T13:35:52.643Z"
   },
   {
    "duration": 22,
    "start_time": "2023-01-09T13:35:52.690Z"
   },
   {
    "duration": 108,
    "start_time": "2023-01-09T13:35:52.714Z"
   },
   {
    "duration": 50,
    "start_time": "2023-01-09T13:35:52.835Z"
   },
   {
    "duration": 52,
    "start_time": "2023-01-09T13:35:52.887Z"
   },
   {
    "duration": 198,
    "start_time": "2023-01-09T13:35:52.940Z"
   },
   {
    "duration": 114,
    "start_time": "2023-01-09T13:35:53.140Z"
   },
   {
    "duration": 180,
    "start_time": "2023-01-09T13:35:53.256Z"
   },
   {
    "duration": 11,
    "start_time": "2023-01-09T13:35:53.438Z"
   },
   {
    "duration": 21,
    "start_time": "2023-01-09T13:35:53.450Z"
   },
   {
    "duration": 127,
    "start_time": "2023-01-09T13:35:53.472Z"
   },
   {
    "duration": 0,
    "start_time": "2023-01-09T13:35:53.600Z"
   },
   {
    "duration": 0,
    "start_time": "2023-01-09T13:35:53.602Z"
   },
   {
    "duration": 0,
    "start_time": "2023-01-09T13:35:53.604Z"
   },
   {
    "duration": 1321,
    "start_time": "2023-01-09T13:36:34.869Z"
   },
   {
    "duration": 374,
    "start_time": "2023-01-09T13:36:36.192Z"
   },
   {
    "duration": 26,
    "start_time": "2023-01-09T13:36:36.568Z"
   },
   {
    "duration": 65,
    "start_time": "2023-01-09T13:36:36.596Z"
   },
   {
    "duration": 127,
    "start_time": "2023-01-09T13:36:36.664Z"
   },
   {
    "duration": 148,
    "start_time": "2023-01-09T13:36:36.793Z"
   },
   {
    "duration": 25,
    "start_time": "2023-01-09T13:36:36.943Z"
   },
   {
    "duration": 23,
    "start_time": "2023-01-09T13:36:36.970Z"
   },
   {
    "duration": 17,
    "start_time": "2023-01-09T13:36:36.995Z"
   },
   {
    "duration": 386,
    "start_time": "2023-01-09T13:36:37.014Z"
   },
   {
    "duration": 357,
    "start_time": "2023-01-09T13:36:37.401Z"
   },
   {
    "duration": 358,
    "start_time": "2023-01-09T13:36:37.759Z"
   },
   {
    "duration": 34,
    "start_time": "2023-01-09T13:36:38.118Z"
   },
   {
    "duration": 104,
    "start_time": "2023-01-09T13:36:38.155Z"
   },
   {
    "duration": 13,
    "start_time": "2023-01-09T13:36:38.261Z"
   },
   {
    "duration": 42,
    "start_time": "2023-01-09T13:36:38.276Z"
   },
   {
    "duration": 29,
    "start_time": "2023-01-09T13:36:38.320Z"
   },
   {
    "duration": 106,
    "start_time": "2023-01-09T13:36:38.437Z"
   },
   {
    "duration": 202,
    "start_time": "2023-01-09T13:36:38.545Z"
   },
   {
    "duration": 94,
    "start_time": "2023-01-09T13:36:38.750Z"
   },
   {
    "duration": 8,
    "start_time": "2023-01-09T13:36:38.936Z"
   },
   {
    "duration": 16,
    "start_time": "2023-01-09T13:36:38.946Z"
   },
   {
    "duration": 14,
    "start_time": "2023-01-09T13:36:38.963Z"
   },
   {
    "duration": 36,
    "start_time": "2023-01-09T13:36:38.979Z"
   },
   {
    "duration": 19,
    "start_time": "2023-01-09T13:36:39.016Z"
   },
   {
    "duration": 12,
    "start_time": "2023-01-09T13:36:39.037Z"
   },
   {
    "duration": 13,
    "start_time": "2023-01-09T13:36:39.051Z"
   },
   {
    "duration": 3639,
    "start_time": "2023-01-09T13:36:39.066Z"
   },
   {
    "duration": 3,
    "start_time": "2023-01-09T13:37:59.540Z"
   },
   {
    "duration": 1422,
    "start_time": "2023-01-09T13:38:04.406Z"
   },
   {
    "duration": 389,
    "start_time": "2023-01-09T13:38:05.830Z"
   },
   {
    "duration": 30,
    "start_time": "2023-01-09T13:38:06.221Z"
   },
   {
    "duration": 42,
    "start_time": "2023-01-09T13:38:06.252Z"
   },
   {
    "duration": 139,
    "start_time": "2023-01-09T13:38:06.296Z"
   },
   {
    "duration": 145,
    "start_time": "2023-01-09T13:38:06.437Z"
   },
   {
    "duration": 25,
    "start_time": "2023-01-09T13:38:06.584Z"
   },
   {
    "duration": 35,
    "start_time": "2023-01-09T13:38:06.611Z"
   },
   {
    "duration": 53,
    "start_time": "2023-01-09T13:38:06.648Z"
   },
   {
    "duration": 439,
    "start_time": "2023-01-09T13:38:06.703Z"
   },
   {
    "duration": 388,
    "start_time": "2023-01-09T13:38:07.144Z"
   },
   {
    "duration": 366,
    "start_time": "2023-01-09T13:38:07.536Z"
   },
   {
    "duration": 35,
    "start_time": "2023-01-09T13:38:07.904Z"
   },
   {
    "duration": 105,
    "start_time": "2023-01-09T13:38:07.943Z"
   },
   {
    "duration": 24,
    "start_time": "2023-01-09T13:38:08.050Z"
   },
   {
    "duration": 42,
    "start_time": "2023-01-09T13:38:08.076Z"
   },
   {
    "duration": 29,
    "start_time": "2023-01-09T13:38:08.120Z"
   },
   {
    "duration": 106,
    "start_time": "2023-01-09T13:38:08.241Z"
   },
   {
    "duration": 191,
    "start_time": "2023-01-09T13:38:08.350Z"
   },
   {
    "duration": 197,
    "start_time": "2023-01-09T13:38:08.543Z"
   },
   {
    "duration": 7,
    "start_time": "2023-01-09T13:38:08.742Z"
   },
   {
    "duration": 12,
    "start_time": "2023-01-09T13:38:08.750Z"
   },
   {
    "duration": 8,
    "start_time": "2023-01-09T13:38:08.763Z"
   },
   {
    "duration": 7,
    "start_time": "2023-01-09T13:38:08.772Z"
   },
   {
    "duration": 9,
    "start_time": "2023-01-09T13:38:08.780Z"
   },
   {
    "duration": 7,
    "start_time": "2023-01-09T13:38:08.790Z"
   },
   {
    "duration": 36,
    "start_time": "2023-01-09T13:38:08.799Z"
   },
   {
    "duration": 3610,
    "start_time": "2023-01-09T13:38:08.837Z"
   },
   {
    "duration": 1415,
    "start_time": "2023-01-09T13:38:50.225Z"
   },
   {
    "duration": 371,
    "start_time": "2023-01-09T13:38:51.642Z"
   },
   {
    "duration": 28,
    "start_time": "2023-01-09T13:38:52.015Z"
   },
   {
    "duration": 63,
    "start_time": "2023-01-09T13:38:52.044Z"
   },
   {
    "duration": 118,
    "start_time": "2023-01-09T13:38:52.110Z"
   },
   {
    "duration": 147,
    "start_time": "2023-01-09T13:38:52.230Z"
   },
   {
    "duration": 34,
    "start_time": "2023-01-09T13:38:52.379Z"
   },
   {
    "duration": 17,
    "start_time": "2023-01-09T13:38:52.437Z"
   },
   {
    "duration": 27,
    "start_time": "2023-01-09T13:38:52.456Z"
   },
   {
    "duration": 423,
    "start_time": "2023-01-09T13:38:52.485Z"
   },
   {
    "duration": 367,
    "start_time": "2023-01-09T13:38:52.910Z"
   },
   {
    "duration": 435,
    "start_time": "2023-01-09T13:38:53.279Z"
   },
   {
    "duration": 30,
    "start_time": "2023-01-09T13:38:53.716Z"
   },
   {
    "duration": 14,
    "start_time": "2023-01-09T13:38:53.749Z"
   },
   {
    "duration": 21,
    "start_time": "2023-01-09T13:38:53.764Z"
   },
   {
    "duration": 69,
    "start_time": "2023-01-09T13:38:53.786Z"
   },
   {
    "duration": 15,
    "start_time": "2023-01-09T13:38:53.857Z"
   },
   {
    "duration": 108,
    "start_time": "2023-01-09T13:38:53.937Z"
   },
   {
    "duration": 194,
    "start_time": "2023-01-09T13:38:54.047Z"
   },
   {
    "duration": 198,
    "start_time": "2023-01-09T13:38:54.245Z"
   },
   {
    "duration": 17,
    "start_time": "2023-01-09T13:38:54.445Z"
   },
   {
    "duration": 12,
    "start_time": "2023-01-09T13:38:54.463Z"
   },
   {
    "duration": 13,
    "start_time": "2023-01-09T13:38:54.477Z"
   },
   {
    "duration": 11,
    "start_time": "2023-01-09T13:38:54.492Z"
   },
   {
    "duration": 13,
    "start_time": "2023-01-09T13:38:54.505Z"
   },
   {
    "duration": 19,
    "start_time": "2023-01-09T13:38:54.520Z"
   },
   {
    "duration": 21,
    "start_time": "2023-01-09T13:38:54.541Z"
   },
   {
    "duration": 3425,
    "start_time": "2023-01-09T13:38:54.564Z"
   },
   {
    "duration": 29,
    "start_time": "2023-01-09T13:44:05.771Z"
   },
   {
    "duration": 15,
    "start_time": "2023-01-09T13:44:06.719Z"
   },
   {
    "duration": 11,
    "start_time": "2023-01-09T13:44:31.543Z"
   },
   {
    "duration": 28,
    "start_time": "2023-01-09T13:44:49.111Z"
   },
   {
    "duration": 26,
    "start_time": "2023-01-09T13:44:57.139Z"
   },
   {
    "duration": 35,
    "start_time": "2023-01-09T13:45:54.384Z"
   },
   {
    "duration": 22,
    "start_time": "2023-01-09T13:47:54.456Z"
   },
   {
    "duration": 51,
    "start_time": "2023-01-09T13:48:39.451Z"
   },
   {
    "duration": 34,
    "start_time": "2023-01-09T13:48:47.631Z"
   },
   {
    "duration": 34,
    "start_time": "2023-01-09T13:49:39.787Z"
   },
   {
    "duration": 19,
    "start_time": "2023-01-09T13:50:37.787Z"
   },
   {
    "duration": 15,
    "start_time": "2023-01-09T13:50:39.592Z"
   },
   {
    "duration": 109,
    "start_time": "2023-01-09T13:55:27.628Z"
   },
   {
    "duration": 14,
    "start_time": "2023-01-09T13:55:29.175Z"
   },
   {
    "duration": 1348,
    "start_time": "2023-01-09T14:12:00.082Z"
   },
   {
    "duration": 365,
    "start_time": "2023-01-09T14:12:01.432Z"
   },
   {
    "duration": 38,
    "start_time": "2023-01-09T14:12:01.799Z"
   },
   {
    "duration": 41,
    "start_time": "2023-01-09T14:12:01.839Z"
   },
   {
    "duration": 129,
    "start_time": "2023-01-09T14:12:01.881Z"
   },
   {
    "duration": 139,
    "start_time": "2023-01-09T14:12:02.012Z"
   },
   {
    "duration": 24,
    "start_time": "2023-01-09T14:12:02.152Z"
   },
   {
    "duration": 30,
    "start_time": "2023-01-09T14:12:02.178Z"
   },
   {
    "duration": 29,
    "start_time": "2023-01-09T14:12:02.210Z"
   },
   {
    "duration": 499,
    "start_time": "2023-01-09T14:12:02.241Z"
   },
   {
    "duration": 381,
    "start_time": "2023-01-09T14:12:02.742Z"
   },
   {
    "duration": 440,
    "start_time": "2023-01-09T14:12:03.125Z"
   },
   {
    "duration": 26,
    "start_time": "2023-01-09T14:12:03.567Z"
   },
   {
    "duration": 25,
    "start_time": "2023-01-09T14:12:03.595Z"
   },
   {
    "duration": 29,
    "start_time": "2023-01-09T14:12:03.622Z"
   },
   {
    "duration": 38,
    "start_time": "2023-01-09T14:12:03.653Z"
   },
   {
    "duration": 53,
    "start_time": "2023-01-09T14:12:03.692Z"
   },
   {
    "duration": 194,
    "start_time": "2023-01-09T14:12:03.747Z"
   },
   {
    "duration": 212,
    "start_time": "2023-01-09T14:12:03.943Z"
   },
   {
    "duration": 199,
    "start_time": "2023-01-09T14:12:04.158Z"
   },
   {
    "duration": 8,
    "start_time": "2023-01-09T14:12:04.359Z"
   },
   {
    "duration": 11,
    "start_time": "2023-01-09T14:12:04.368Z"
   },
   {
    "duration": 18,
    "start_time": "2023-01-09T14:12:04.381Z"
   },
   {
    "duration": 22,
    "start_time": "2023-01-09T14:12:04.400Z"
   },
   {
    "duration": 30,
    "start_time": "2023-01-09T14:12:04.423Z"
   },
   {
    "duration": 18,
    "start_time": "2023-01-09T14:12:04.455Z"
   },
   {
    "duration": 14,
    "start_time": "2023-01-09T14:12:04.474Z"
   },
   {
    "duration": 3550,
    "start_time": "2023-01-09T14:12:04.491Z"
   },
   {
    "duration": 28,
    "start_time": "2023-01-10T15:13:16.803Z"
   },
   {
    "duration": 13,
    "start_time": "2023-01-10T15:13:27.893Z"
   }
  ],
  "kernelspec": {
   "display_name": "Python 3 (ipykernel)",
   "language": "python",
   "name": "python3"
  },
  "language_info": {
   "codemirror_mode": {
    "name": "ipython",
    "version": 3
   },
   "file_extension": ".py",
   "mimetype": "text/x-python",
   "name": "python",
   "nbconvert_exporter": "python",
   "pygments_lexer": "ipython3",
   "version": "3.9.5"
  },
  "toc": {
   "base_numbering": 1,
   "nav_menu": {},
   "number_sections": true,
   "sideBar": true,
   "skip_h1_title": true,
   "title_cell": "Table of Contents",
   "title_sidebar": "Contents",
   "toc_cell": false,
   "toc_position": {},
   "toc_section_display": true,
   "toc_window_display": false
  }
 },
 "nbformat": 4,
 "nbformat_minor": 2
}
